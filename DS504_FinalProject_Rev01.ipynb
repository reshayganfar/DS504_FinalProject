{
 "cells": [
  {
   "cell_type": "code",
   "execution_count": 4,
   "metadata": {},
   "outputs": [],
   "source": [
    "import numpy as np\n",
    "import pandas as pd\n",
    "import ta\n",
    "import seaborn as sn\n",
    "import matplotlib.pyplot as plt\n",
    "\n",
    "from sklearn.ensemble import RandomForestClassifier\n",
    "from sklearn.linear_model import LogisticRegression\n",
    "from sklearn.neighbors import KNeighborsClassifier\n",
    "from sklearn.svm import SVC\n",
    "from xgboost import XGBClassifier\n",
    "\n",
    "from ta import add_all_ta_features\n",
    "from ta import momentum\n",
    "from ta.utils import dropna"
   ]
  },
  {
   "cell_type": "code",
   "execution_count": 5,
   "metadata": {},
   "outputs": [],
   "source": [
    "#pip install xgboost"
   ]
  },
  {
   "cell_type": "code",
   "execution_count": 6,
   "metadata": {},
   "outputs": [],
   "source": [
    "def get_data(company_symbol):\n",
    "    return pd.read_csv(\"dataset/\"+company_symbol+\".csv\")"
   ]
  },
  {
   "cell_type": "code",
   "execution_count": 7,
   "metadata": {},
   "outputs": [
    {
     "data": {
      "text/html": [
       "<div>\n",
       "<style scoped>\n",
       "    .dataframe tbody tr th:only-of-type {\n",
       "        vertical-align: middle;\n",
       "    }\n",
       "\n",
       "    .dataframe tbody tr th {\n",
       "        vertical-align: top;\n",
       "    }\n",
       "\n",
       "    .dataframe thead th {\n",
       "        text-align: right;\n",
       "    }\n",
       "</style>\n",
       "<table border=\"1\" class=\"dataframe\">\n",
       "  <thead>\n",
       "    <tr style=\"text-align: right;\">\n",
       "      <th></th>\n",
       "      <th>Date</th>\n",
       "      <th>Open</th>\n",
       "      <th>High</th>\n",
       "      <th>Low</th>\n",
       "      <th>Close</th>\n",
       "      <th>Adj Close</th>\n",
       "      <th>Volume</th>\n",
       "    </tr>\n",
       "  </thead>\n",
       "  <tbody>\n",
       "    <tr>\n",
       "      <th>0</th>\n",
       "      <td>5/23/2002</td>\n",
       "      <td>1.156429</td>\n",
       "      <td>1.242857</td>\n",
       "      <td>1.145714</td>\n",
       "      <td>1.196429</td>\n",
       "      <td>1.196429</td>\n",
       "      <td>104790000</td>\n",
       "    </tr>\n",
       "    <tr>\n",
       "      <th>1</th>\n",
       "      <td>5/24/2002</td>\n",
       "      <td>1.214286</td>\n",
       "      <td>1.225000</td>\n",
       "      <td>1.197143</td>\n",
       "      <td>1.210000</td>\n",
       "      <td>1.210000</td>\n",
       "      <td>11104800</td>\n",
       "    </tr>\n",
       "    <tr>\n",
       "      <th>2</th>\n",
       "      <td>5/28/2002</td>\n",
       "      <td>1.213571</td>\n",
       "      <td>1.232143</td>\n",
       "      <td>1.157143</td>\n",
       "      <td>1.157143</td>\n",
       "      <td>1.157143</td>\n",
       "      <td>6609400</td>\n",
       "    </tr>\n",
       "    <tr>\n",
       "      <th>3</th>\n",
       "      <td>5/29/2002</td>\n",
       "      <td>1.164286</td>\n",
       "      <td>1.164286</td>\n",
       "      <td>1.085714</td>\n",
       "      <td>1.103571</td>\n",
       "      <td>1.103571</td>\n",
       "      <td>6757800</td>\n",
       "    </tr>\n",
       "    <tr>\n",
       "      <th>4</th>\n",
       "      <td>5/30/2002</td>\n",
       "      <td>1.107857</td>\n",
       "      <td>1.107857</td>\n",
       "      <td>1.071429</td>\n",
       "      <td>1.071429</td>\n",
       "      <td>1.071429</td>\n",
       "      <td>10154200</td>\n",
       "    </tr>\n",
       "    <tr>\n",
       "      <th>...</th>\n",
       "      <td>...</td>\n",
       "      <td>...</td>\n",
       "      <td>...</td>\n",
       "      <td>...</td>\n",
       "      <td>...</td>\n",
       "      <td>...</td>\n",
       "      <td>...</td>\n",
       "    </tr>\n",
       "    <tr>\n",
       "      <th>4890</th>\n",
       "      <td>10/25/2021</td>\n",
       "      <td>663.739990</td>\n",
       "      <td>675.880005</td>\n",
       "      <td>657.070007</td>\n",
       "      <td>671.659973</td>\n",
       "      <td>671.659973</td>\n",
       "      <td>3833500</td>\n",
       "    </tr>\n",
       "    <tr>\n",
       "      <th>4891</th>\n",
       "      <td>10/26/2021</td>\n",
       "      <td>673.760010</td>\n",
       "      <td>676.489990</td>\n",
       "      <td>662.770020</td>\n",
       "      <td>668.520020</td>\n",
       "      <td>668.520020</td>\n",
       "      <td>2904800</td>\n",
       "    </tr>\n",
       "    <tr>\n",
       "      <th>4892</th>\n",
       "      <td>10/27/2021</td>\n",
       "      <td>669.000000</td>\n",
       "      <td>671.409973</td>\n",
       "      <td>661.849976</td>\n",
       "      <td>662.919983</td>\n",
       "      <td>662.919983</td>\n",
       "      <td>2276900</td>\n",
       "    </tr>\n",
       "    <tr>\n",
       "      <th>4893</th>\n",
       "      <td>10/28/2021</td>\n",
       "      <td>670.950012</td>\n",
       "      <td>676.799988</td>\n",
       "      <td>668.030029</td>\n",
       "      <td>674.049988</td>\n",
       "      <td>674.049988</td>\n",
       "      <td>2859400</td>\n",
       "    </tr>\n",
       "    <tr>\n",
       "      <th>4894</th>\n",
       "      <td>10/29/2021</td>\n",
       "      <td>673.059998</td>\n",
       "      <td>690.969971</td>\n",
       "      <td>671.239990</td>\n",
       "      <td>690.309998</td>\n",
       "      <td>690.309998</td>\n",
       "      <td>3817500</td>\n",
       "    </tr>\n",
       "  </tbody>\n",
       "</table>\n",
       "<p>4895 rows × 7 columns</p>\n",
       "</div>"
      ],
      "text/plain": [
       "            Date        Open        High         Low       Close   Adj Close  \\\n",
       "0      5/23/2002    1.156429    1.242857    1.145714    1.196429    1.196429   \n",
       "1      5/24/2002    1.214286    1.225000    1.197143    1.210000    1.210000   \n",
       "2      5/28/2002    1.213571    1.232143    1.157143    1.157143    1.157143   \n",
       "3      5/29/2002    1.164286    1.164286    1.085714    1.103571    1.103571   \n",
       "4      5/30/2002    1.107857    1.107857    1.071429    1.071429    1.071429   \n",
       "...          ...         ...         ...         ...         ...         ...   \n",
       "4890  10/25/2021  663.739990  675.880005  657.070007  671.659973  671.659973   \n",
       "4891  10/26/2021  673.760010  676.489990  662.770020  668.520020  668.520020   \n",
       "4892  10/27/2021  669.000000  671.409973  661.849976  662.919983  662.919983   \n",
       "4893  10/28/2021  670.950012  676.799988  668.030029  674.049988  674.049988   \n",
       "4894  10/29/2021  673.059998  690.969971  671.239990  690.309998  690.309998   \n",
       "\n",
       "         Volume  \n",
       "0     104790000  \n",
       "1      11104800  \n",
       "2       6609400  \n",
       "3       6757800  \n",
       "4      10154200  \n",
       "...         ...  \n",
       "4890    3833500  \n",
       "4891    2904800  \n",
       "4892    2276900  \n",
       "4893    2859400  \n",
       "4894    3817500  \n",
       "\n",
       "[4895 rows x 7 columns]"
      ]
     },
     "execution_count": 7,
     "metadata": {},
     "output_type": "execute_result"
    }
   ],
   "source": [
    "data = get_data(\"NFLX\")\n",
    "data"
   ]
  },
  {
   "cell_type": "code",
   "execution_count": 8,
   "metadata": {},
   "outputs": [
    {
     "data": {
      "text/plain": [
       "Date          object\n",
       "Open         float64\n",
       "High         float64\n",
       "Low          float64\n",
       "Close        float64\n",
       "Adj Close    float64\n",
       "Volume         int64\n",
       "dtype: object"
      ]
     },
     "execution_count": 8,
     "metadata": {},
     "output_type": "execute_result"
    }
   ],
   "source": [
    "data.dtypes"
   ]
  },
  {
   "cell_type": "code",
   "execution_count": 9,
   "metadata": {},
   "outputs": [
    {
     "data": {
      "text/plain": [
       "Date         False\n",
       "Open         False\n",
       "High         False\n",
       "Low          False\n",
       "Close        False\n",
       "Adj Close    False\n",
       "Volume       False\n",
       "dtype: bool"
      ]
     },
     "execution_count": 9,
     "metadata": {},
     "output_type": "execute_result"
    }
   ],
   "source": [
    "data.isna().any()"
   ]
  },
  {
   "cell_type": "code",
   "execution_count": 10,
   "metadata": {},
   "outputs": [
    {
     "data": {
      "text/html": [
       "<div>\n",
       "<style scoped>\n",
       "    .dataframe tbody tr th:only-of-type {\n",
       "        vertical-align: middle;\n",
       "    }\n",
       "\n",
       "    .dataframe tbody tr th {\n",
       "        vertical-align: top;\n",
       "    }\n",
       "\n",
       "    .dataframe thead th {\n",
       "        text-align: right;\n",
       "    }\n",
       "</style>\n",
       "<table border=\"1\" class=\"dataframe\">\n",
       "  <thead>\n",
       "    <tr style=\"text-align: right;\">\n",
       "      <th></th>\n",
       "    </tr>\n",
       "  </thead>\n",
       "  <tbody>\n",
       "    <tr>\n",
       "      <th>0</th>\n",
       "    </tr>\n",
       "    <tr>\n",
       "      <th>1</th>\n",
       "    </tr>\n",
       "    <tr>\n",
       "      <th>2</th>\n",
       "    </tr>\n",
       "    <tr>\n",
       "      <th>3</th>\n",
       "    </tr>\n",
       "    <tr>\n",
       "      <th>4</th>\n",
       "    </tr>\n",
       "    <tr>\n",
       "      <th>...</th>\n",
       "    </tr>\n",
       "    <tr>\n",
       "      <th>4890</th>\n",
       "    </tr>\n",
       "    <tr>\n",
       "      <th>4891</th>\n",
       "    </tr>\n",
       "    <tr>\n",
       "      <th>4892</th>\n",
       "    </tr>\n",
       "    <tr>\n",
       "      <th>4893</th>\n",
       "    </tr>\n",
       "    <tr>\n",
       "      <th>4894</th>\n",
       "    </tr>\n",
       "  </tbody>\n",
       "</table>\n",
       "<p>4895 rows × 0 columns</p>\n",
       "</div>"
      ],
      "text/plain": [
       "Empty DataFrame\n",
       "Columns: []\n",
       "Index: [0, 1, 2, 3, 4, 5, 6, 7, 8, 9, 10, 11, 12, 13, 14, 15, 16, 17, 18, 19, 20, 21, 22, 23, 24, 25, 26, 27, 28, 29, 30, 31, 32, 33, 34, 35, 36, 37, 38, 39, 40, 41, 42, 43, 44, 45, 46, 47, 48, 49, 50, 51, 52, 53, 54, 55, 56, 57, 58, 59, 60, 61, 62, 63, 64, 65, 66, 67, 68, 69, 70, 71, 72, 73, 74, 75, 76, 77, 78, 79, 80, 81, 82, 83, 84, 85, 86, 87, 88, 89, 90, 91, 92, 93, 94, 95, 96, 97, 98, 99, ...]\n",
       "\n",
       "[4895 rows x 0 columns]"
      ]
     },
     "execution_count": 10,
     "metadata": {},
     "output_type": "execute_result"
    }
   ],
   "source": [
    "data[data.columns[data.isna().any()]]"
   ]
  },
  {
   "cell_type": "code",
   "execution_count": 11,
   "metadata": {},
   "outputs": [
    {
     "name": "stdout",
     "output_type": "stream",
     "text": [
      "            Date        Open        High         Low       Close   Adj Close  \\\n",
      "0      5/23/2002    1.156429    1.242857    1.145714    1.196429    1.196429   \n",
      "1      5/24/2002    1.214286    1.225000    1.197143    1.210000    1.210000   \n",
      "2      5/28/2002    1.213571    1.232143    1.157143    1.157143    1.157143   \n",
      "3      5/29/2002    1.164286    1.164286    1.085714    1.103571    1.103571   \n",
      "4      5/30/2002    1.107857    1.107857    1.071429    1.071429    1.071429   \n",
      "...          ...         ...         ...         ...         ...         ...   \n",
      "4890  10/25/2021  663.739990  675.880005  657.070007  671.659973  671.659973   \n",
      "4891  10/26/2021  673.760010  676.489990  662.770020  668.520020  668.520020   \n",
      "4892  10/27/2021  669.000000  671.409973  661.849976  662.919983  662.919983   \n",
      "4893  10/28/2021  670.950012  676.799988  668.030029  674.049988  674.049988   \n",
      "4894  10/29/2021  673.059998  690.969971  671.239990  690.309998  690.309998   \n",
      "\n",
      "         Volume  cond1  cond2  cond3  \n",
      "0     104790000  False  False  False  \n",
      "1      11104800  False  False  False  \n",
      "2       6609400  False  False  False  \n",
      "3       6757800  False  False  False  \n",
      "4      10154200  False  False  False  \n",
      "...         ...    ...    ...    ...  \n",
      "4890    3833500  False  False  False  \n",
      "4891    2904800  False  False  False  \n",
      "4892    2276900  False  False  False  \n",
      "4893    2859400  False  False  False  \n",
      "4894    3817500  False  False  False  \n",
      "\n",
      "[4895 rows x 10 columns]\n"
     ]
    }
   ],
   "source": [
    "cond1 = data.Date.isna() # aapl['Date'].isna()\n",
    "cond2 = data.Date.str.contains(r'^\\s*$', na=False)\n",
    "cond3 = data.Date == ''\n",
    "\n",
    "data_checked = data.assign(cond1= cond1, cond2= cond2, cond3= cond3)\n",
    "print (data_checked)"
   ]
  },
  {
   "cell_type": "code",
   "execution_count": 12,
   "metadata": {},
   "outputs": [],
   "source": [
    "def simple_moving_average_5(close):\n",
    "    return close.rolling(5, min_periods=1).mean()"
   ]
  },
  {
   "cell_type": "code",
   "execution_count": 13,
   "metadata": {},
   "outputs": [],
   "source": [
    "def simple_moving_average_10(close):\n",
    "    return close.rolling(10, min_periods=1).mean()"
   ]
  },
  {
   "cell_type": "code",
   "execution_count": 14,
   "metadata": {},
   "outputs": [],
   "source": [
    "def stochastic_k(high, low, close):\n",
    "    return (((close-low.rolling(14).min())/(high.rolling(14).max()-low.rolling(14).min()))*100)"
   ]
  },
  {
   "cell_type": "code",
   "execution_count": 15,
   "metadata": {},
   "outputs": [],
   "source": [
    "def stochastic_d(stochastic_k):\n",
    "    return stochastic_k.rolling(3,min_periods=1).mean()"
   ]
  },
  {
   "cell_type": "code",
   "execution_count": 16,
   "metadata": {},
   "outputs": [],
   "source": [
    "def larry_williams_r(high, low, close):\n",
    "    return (((high.rolling(14).max()-close)/(high.rolling(14).max()-low.rolling(14).min()))*100)"
   ]
  },
  {
   "cell_type": "code",
   "execution_count": 17,
   "metadata": {},
   "outputs": [],
   "source": [
    "def rate_of_change(close):\n",
    "    return ((close-close.shift(12))/close.shift(12))"
   ]
  },
  {
   "cell_type": "code",
   "execution_count": 18,
   "metadata": {},
   "outputs": [],
   "source": [
    "def price_volume_trend(close, volume):\n",
    "    return (((close-close.shift(1))/close.shift(1))*volume)"
   ]
  },
  {
   "cell_type": "code",
   "execution_count": 19,
   "metadata": {},
   "outputs": [],
   "source": [
    "def accumulation_distribution_oscillator(high, low, close):\n",
    "    return((high-close.shift(1))/(high-low))"
   ]
  },
  {
   "cell_type": "code",
   "execution_count": 20,
   "metadata": {},
   "outputs": [],
   "source": [
    "def weighted_moving_average_10(close):\n",
    "    return ((10*close+9*close.shift(1)+8*close.shift(2)+7*close.shift(3)\n",
    "             +6*close.shift(4)+5*close.shift(5)+4*close.shift(6)+3*close.shift(7)\n",
    "             +2*close.shift(8)+close.shift(9))/(10+9+8+7+6+5+4+3+2+1))"
   ]
  },
  {
   "cell_type": "code",
   "execution_count": 21,
   "metadata": {},
   "outputs": [],
   "source": [
    "def exponential_moving_average_12(close):\n",
    "    return (close.ewm(span=12, adjust=False).mean())"
   ]
  },
  {
   "cell_type": "code",
   "execution_count": 22,
   "metadata": {},
   "outputs": [],
   "source": [
    "def exponential_moving_average_26(close):\n",
    "    return (close.ewm(span=26, adjust=False).mean())"
   ]
  },
  {
   "cell_type": "code",
   "execution_count": 23,
   "metadata": {},
   "outputs": [],
   "source": [
    "def moving_average_convergence_divergence(ema_12, ema_26):\n",
    "    return (ema_12 - ema_26)"
   ]
  },
  {
   "cell_type": "code",
   "execution_count": 24,
   "metadata": {},
   "outputs": [],
   "source": [
    "def momentum(close):\n",
    "    return ((close/close.shift(14))*100)"
   ]
  },
  {
   "cell_type": "code",
   "execution_count": 25,
   "metadata": {},
   "outputs": [],
   "source": [
    "def change(close):\n",
    "    return (close.shift(-1) - close)"
   ]
  },
  {
   "cell_type": "code",
   "execution_count": 26,
   "metadata": {},
   "outputs": [],
   "source": [
    "def direction(change):\n",
    "    return (np.where(change>0, 1, 0))"
   ]
  },
  {
   "cell_type": "code",
   "execution_count": 27,
   "metadata": {},
   "outputs": [],
   "source": [
    "def relative_strength_index(direction):\n",
    "    return (100-(100/(1+(direction.rolling(14).sum()/14)/(14-direction.rolling(14).sum())/14)))"
   ]
  },
  {
   "cell_type": "code",
   "execution_count": 28,
   "metadata": {},
   "outputs": [],
   "source": [
    "def channel_commodity_index(df, ndays): \n",
    "    df['TP'] = (df['High'] + df['Low'] + df['Close']) / 3 \n",
    "    df['sma'] = df['TP'].rolling(ndays).mean()\n",
    "    df['mad'] = df['TP'].rolling(ndays).apply(lambda x: pd.Series(x).mad())\n",
    "    df['CCI'] = (df['TP'] - df['sma']) / (0.015 * df['mad']) \n",
    "    return df['CCI']"
   ]
  },
  {
   "cell_type": "code",
   "execution_count": 29,
   "metadata": {},
   "outputs": [],
   "source": [
    "def disparity_index(close):\n",
    "    return (((close - close.rolling(14).mean())/(close.rolling(14).mean()))*100)"
   ]
  },
  {
   "cell_type": "code",
   "execution_count": 30,
   "metadata": {},
   "outputs": [],
   "source": [
    "def get_adx(high, low, close, lookback):\n",
    "    plus_dm = high.diff()\n",
    "    minus_dm = low.diff()\n",
    "    plus_dm[plus_dm < 0] = 0\n",
    "    minus_dm[minus_dm > 0] = 0\n",
    "    \n",
    "    tr1 = pd.DataFrame(high - low)\n",
    "    tr2 = pd.DataFrame(abs(high - close.shift(1)))\n",
    "    tr3 = pd.DataFrame(abs(low - close.shift(1)))\n",
    "    frames = [tr1, tr2, tr3]\n",
    "    tr = pd.concat(frames, axis = 1, join = 'inner').max(axis = 1)\n",
    "    atr = tr.rolling(lookback).mean()\n",
    "    \n",
    "    plus_di = 100 * (plus_dm.ewm(alpha = 1/lookback).mean() / atr)\n",
    "    minus_di = abs(100 * (minus_dm.ewm(alpha = 1/lookback).mean() / atr))\n",
    "    dx = (abs(plus_di - minus_di) / abs(plus_di + minus_di)) * 100\n",
    "    adx = ((dx.shift(1) * (lookback - 1)) + dx) / lookback\n",
    "    adx_smooth = adx.ewm(alpha = 1/lookback).mean()\n",
    "    return adx_smooth"
   ]
  },
  {
   "cell_type": "code",
   "execution_count": 31,
   "metadata": {},
   "outputs": [],
   "source": [
    "def aroon(close):\n",
    "    return (ta.trend.AroonIndicator(close, 25, True).aroon_indicator())"
   ]
  },
  {
   "cell_type": "code",
   "execution_count": 32,
   "metadata": {},
   "outputs": [],
   "source": [
    "def compute_all_indicators(data):\n",
    "    data['SMA5'] = simple_moving_average_5(data['Close'])\n",
    "    data['SMA10'] = simple_moving_average_10(data['Close'])\n",
    "    data['StochasticK'] = stochastic_k(data['High'], data['Low'], data['Close'])\n",
    "    data['StochasticD'] = stochastic_d(data['StochasticK'])\n",
    "    data['LarryWilliamsR'] = larry_williams_r(data['High'], data['Low'], data['Close'])\n",
    "    data['ROC'] = rate_of_change(data['Close'])\n",
    "    data['PVT'] = price_volume_trend(data['Close'], data['Volume'])\n",
    "    data['ADO'] = accumulation_distribution_oscillator(data['High'], data['Low'], data['Close'])\n",
    "    data['WMA10'] = weighted_moving_average_10(data['Close'])\n",
    "    data['EMA12'] = exponential_moving_average_12(data['Close'])\n",
    "    data['EMA26'] = exponential_moving_average_26(data['Close'])\n",
    "    data['MACD'] = moving_average_convergence_divergence(data['EMA12'], data['EMA26'])\n",
    "    data['Momentum'] = momentum(data['Close'])\n",
    "    data['Change'] = change(data['Close'])\n",
    "    data['Direction'] = direction(data['Change'])\n",
    "    data['RSI'] = relative_strength_index(data['Direction'])\n",
    "    data['CCI'] = channel_commodity_index(data, 14)\n",
    "    data['DI'] = disparity_index(data['Close'])\n",
    "    data['ADX'] = get_adx(data['High'], data['Low'], data['Close'], 14)\n",
    "    data['Aroon'] = aroon(data['Close'])    \n",
    "    return data"
   ]
  },
  {
   "cell_type": "code",
   "execution_count": 33,
   "metadata": {},
   "outputs": [
    {
     "data": {
      "text/html": [
       "<div>\n",
       "<style scoped>\n",
       "    .dataframe tbody tr th:only-of-type {\n",
       "        vertical-align: middle;\n",
       "    }\n",
       "\n",
       "    .dataframe tbody tr th {\n",
       "        vertical-align: top;\n",
       "    }\n",
       "\n",
       "    .dataframe thead th {\n",
       "        text-align: right;\n",
       "    }\n",
       "</style>\n",
       "<table border=\"1\" class=\"dataframe\">\n",
       "  <thead>\n",
       "    <tr style=\"text-align: right;\">\n",
       "      <th></th>\n",
       "      <th>Date</th>\n",
       "      <th>Open</th>\n",
       "      <th>High</th>\n",
       "      <th>Low</th>\n",
       "      <th>Close</th>\n",
       "      <th>Adj Close</th>\n",
       "      <th>Volume</th>\n",
       "      <th>SMA5</th>\n",
       "      <th>SMA10</th>\n",
       "      <th>StochasticK</th>\n",
       "      <th>...</th>\n",
       "      <th>Change</th>\n",
       "      <th>Direction</th>\n",
       "      <th>RSI</th>\n",
       "      <th>TP</th>\n",
       "      <th>sma</th>\n",
       "      <th>mad</th>\n",
       "      <th>CCI</th>\n",
       "      <th>DI</th>\n",
       "      <th>ADX</th>\n",
       "      <th>Aroon</th>\n",
       "    </tr>\n",
       "  </thead>\n",
       "  <tbody>\n",
       "    <tr>\n",
       "      <th>0</th>\n",
       "      <td>5/23/2002</td>\n",
       "      <td>1.156429</td>\n",
       "      <td>1.242857</td>\n",
       "      <td>1.145714</td>\n",
       "      <td>1.196429</td>\n",
       "      <td>1.196429</td>\n",
       "      <td>104790000</td>\n",
       "      <td>1.196429</td>\n",
       "      <td>1.196429</td>\n",
       "      <td>NaN</td>\n",
       "      <td>...</td>\n",
       "      <td>0.013571</td>\n",
       "      <td>1</td>\n",
       "      <td>NaN</td>\n",
       "      <td>1.195000</td>\n",
       "      <td>NaN</td>\n",
       "      <td>NaN</td>\n",
       "      <td>NaN</td>\n",
       "      <td>NaN</td>\n",
       "      <td>NaN</td>\n",
       "      <td>0.0</td>\n",
       "    </tr>\n",
       "    <tr>\n",
       "      <th>1</th>\n",
       "      <td>5/24/2002</td>\n",
       "      <td>1.214286</td>\n",
       "      <td>1.225000</td>\n",
       "      <td>1.197143</td>\n",
       "      <td>1.210000</td>\n",
       "      <td>1.210000</td>\n",
       "      <td>11104800</td>\n",
       "      <td>1.203215</td>\n",
       "      <td>1.203215</td>\n",
       "      <td>NaN</td>\n",
       "      <td>...</td>\n",
       "      <td>-0.052857</td>\n",
       "      <td>0</td>\n",
       "      <td>NaN</td>\n",
       "      <td>1.210714</td>\n",
       "      <td>NaN</td>\n",
       "      <td>NaN</td>\n",
       "      <td>NaN</td>\n",
       "      <td>NaN</td>\n",
       "      <td>NaN</td>\n",
       "      <td>4.0</td>\n",
       "    </tr>\n",
       "    <tr>\n",
       "      <th>2</th>\n",
       "      <td>5/28/2002</td>\n",
       "      <td>1.213571</td>\n",
       "      <td>1.232143</td>\n",
       "      <td>1.157143</td>\n",
       "      <td>1.157143</td>\n",
       "      <td>1.157143</td>\n",
       "      <td>6609400</td>\n",
       "      <td>1.187857</td>\n",
       "      <td>1.187857</td>\n",
       "      <td>NaN</td>\n",
       "      <td>...</td>\n",
       "      <td>-0.053572</td>\n",
       "      <td>0</td>\n",
       "      <td>NaN</td>\n",
       "      <td>1.182143</td>\n",
       "      <td>NaN</td>\n",
       "      <td>NaN</td>\n",
       "      <td>NaN</td>\n",
       "      <td>NaN</td>\n",
       "      <td>NaN</td>\n",
       "      <td>-4.0</td>\n",
       "    </tr>\n",
       "    <tr>\n",
       "      <th>3</th>\n",
       "      <td>5/29/2002</td>\n",
       "      <td>1.164286</td>\n",
       "      <td>1.164286</td>\n",
       "      <td>1.085714</td>\n",
       "      <td>1.103571</td>\n",
       "      <td>1.103571</td>\n",
       "      <td>6757800</td>\n",
       "      <td>1.166786</td>\n",
       "      <td>1.166786</td>\n",
       "      <td>NaN</td>\n",
       "      <td>...</td>\n",
       "      <td>-0.032142</td>\n",
       "      <td>0</td>\n",
       "      <td>NaN</td>\n",
       "      <td>1.117857</td>\n",
       "      <td>NaN</td>\n",
       "      <td>NaN</td>\n",
       "      <td>NaN</td>\n",
       "      <td>NaN</td>\n",
       "      <td>NaN</td>\n",
       "      <td>-8.0</td>\n",
       "    </tr>\n",
       "    <tr>\n",
       "      <th>4</th>\n",
       "      <td>5/30/2002</td>\n",
       "      <td>1.107857</td>\n",
       "      <td>1.107857</td>\n",
       "      <td>1.071429</td>\n",
       "      <td>1.071429</td>\n",
       "      <td>1.071429</td>\n",
       "      <td>10154200</td>\n",
       "      <td>1.147714</td>\n",
       "      <td>1.147714</td>\n",
       "      <td>NaN</td>\n",
       "      <td>...</td>\n",
       "      <td>0.005000</td>\n",
       "      <td>1</td>\n",
       "      <td>NaN</td>\n",
       "      <td>1.083572</td>\n",
       "      <td>NaN</td>\n",
       "      <td>NaN</td>\n",
       "      <td>NaN</td>\n",
       "      <td>NaN</td>\n",
       "      <td>NaN</td>\n",
       "      <td>-12.0</td>\n",
       "    </tr>\n",
       "    <tr>\n",
       "      <th>...</th>\n",
       "      <td>...</td>\n",
       "      <td>...</td>\n",
       "      <td>...</td>\n",
       "      <td>...</td>\n",
       "      <td>...</td>\n",
       "      <td>...</td>\n",
       "      <td>...</td>\n",
       "      <td>...</td>\n",
       "      <td>...</td>\n",
       "      <td>...</td>\n",
       "      <td>...</td>\n",
       "      <td>...</td>\n",
       "      <td>...</td>\n",
       "      <td>...</td>\n",
       "      <td>...</td>\n",
       "      <td>...</td>\n",
       "      <td>...</td>\n",
       "      <td>...</td>\n",
       "      <td>...</td>\n",
       "      <td>...</td>\n",
       "      <td>...</td>\n",
       "    </tr>\n",
       "    <tr>\n",
       "      <th>4890</th>\n",
       "      <td>10/25/2021</td>\n",
       "      <td>663.739990</td>\n",
       "      <td>675.880005</td>\n",
       "      <td>657.070007</td>\n",
       "      <td>671.659973</td>\n",
       "      <td>671.659973</td>\n",
       "      <td>3833500</td>\n",
       "      <td>650.747998</td>\n",
       "      <td>640.849994</td>\n",
       "      <td>92.814518</td>\n",
       "      <td>...</td>\n",
       "      <td>-3.139953</td>\n",
       "      <td>0</td>\n",
       "      <td>0.675676</td>\n",
       "      <td>668.203328</td>\n",
       "      <td>637.748567</td>\n",
       "      <td>8.702045</td>\n",
       "      <td>233.314986</td>\n",
       "      <td>5.191655</td>\n",
       "      <td>30.298693</td>\n",
       "      <td>96.0</td>\n",
       "    </tr>\n",
       "    <tr>\n",
       "      <th>4891</th>\n",
       "      <td>10/26/2021</td>\n",
       "      <td>673.760010</td>\n",
       "      <td>676.489990</td>\n",
       "      <td>662.770020</td>\n",
       "      <td>668.520020</td>\n",
       "      <td>668.520020</td>\n",
       "      <td>2904800</td>\n",
       "      <td>656.652002</td>\n",
       "      <td>645.207996</td>\n",
       "      <td>86.568968</td>\n",
       "      <td>...</td>\n",
       "      <td>-5.600037</td>\n",
       "      <td>0</td>\n",
       "      <td>0.675676</td>\n",
       "      <td>669.260010</td>\n",
       "      <td>640.187855</td>\n",
       "      <td>11.809801</td>\n",
       "      <td>164.113158</td>\n",
       "      <td>4.356440</td>\n",
       "      <td>30.769399</td>\n",
       "      <td>76.0</td>\n",
       "    </tr>\n",
       "    <tr>\n",
       "      <th>4892</th>\n",
       "      <td>10/27/2021</td>\n",
       "      <td>669.000000</td>\n",
       "      <td>671.409973</td>\n",
       "      <td>661.849976</td>\n",
       "      <td>662.919983</td>\n",
       "      <td>662.919983</td>\n",
       "      <td>2276900</td>\n",
       "      <td>664.207996</td>\n",
       "      <td>648.523993</td>\n",
       "      <td>77.131758</td>\n",
       "      <td>...</td>\n",
       "      <td>11.130005</td>\n",
       "      <td>1</td>\n",
       "      <td>0.675676</td>\n",
       "      <td>665.393311</td>\n",
       "      <td>642.260234</td>\n",
       "      <td>13.930309</td>\n",
       "      <td>110.708606</td>\n",
       "      <td>3.125012</td>\n",
       "      <td>31.225713</td>\n",
       "      <td>76.0</td>\n",
       "    </tr>\n",
       "    <tr>\n",
       "      <th>4893</th>\n",
       "      <td>10/28/2021</td>\n",
       "      <td>670.950012</td>\n",
       "      <td>676.799988</td>\n",
       "      <td>668.030029</td>\n",
       "      <td>674.049988</td>\n",
       "      <td>674.049988</td>\n",
       "      <td>2859400</td>\n",
       "      <td>668.385999</td>\n",
       "      <td>652.548993</td>\n",
       "      <td>95.389771</td>\n",
       "      <td>...</td>\n",
       "      <td>16.260010</td>\n",
       "      <td>1</td>\n",
       "      <td>0.910010</td>\n",
       "      <td>672.960002</td>\n",
       "      <td>644.916425</td>\n",
       "      <td>16.039255</td>\n",
       "      <td>116.562258</td>\n",
       "      <td>4.376381</td>\n",
       "      <td>31.577094</td>\n",
       "      <td>88.0</td>\n",
       "    </tr>\n",
       "    <tr>\n",
       "      <th>4894</th>\n",
       "      <td>10/29/2021</td>\n",
       "      <td>673.059998</td>\n",
       "      <td>690.969971</td>\n",
       "      <td>671.239990</td>\n",
       "      <td>690.309998</td>\n",
       "      <td>690.309998</td>\n",
       "      <td>3817500</td>\n",
       "      <td>673.491992</td>\n",
       "      <td>658.750995</td>\n",
       "      <td>99.105969</td>\n",
       "      <td>...</td>\n",
       "      <td>NaN</td>\n",
       "      <td>0</td>\n",
       "      <td>0.910010</td>\n",
       "      <td>684.173320</td>\n",
       "      <td>648.708806</td>\n",
       "      <td>18.345784</td>\n",
       "      <td>128.874349</td>\n",
       "      <td>6.151380</td>\n",
       "      <td>32.202746</td>\n",
       "      <td>92.0</td>\n",
       "    </tr>\n",
       "  </tbody>\n",
       "</table>\n",
       "<p>4895 rows × 30 columns</p>\n",
       "</div>"
      ],
      "text/plain": [
       "            Date        Open        High         Low       Close   Adj Close  \\\n",
       "0      5/23/2002    1.156429    1.242857    1.145714    1.196429    1.196429   \n",
       "1      5/24/2002    1.214286    1.225000    1.197143    1.210000    1.210000   \n",
       "2      5/28/2002    1.213571    1.232143    1.157143    1.157143    1.157143   \n",
       "3      5/29/2002    1.164286    1.164286    1.085714    1.103571    1.103571   \n",
       "4      5/30/2002    1.107857    1.107857    1.071429    1.071429    1.071429   \n",
       "...          ...         ...         ...         ...         ...         ...   \n",
       "4890  10/25/2021  663.739990  675.880005  657.070007  671.659973  671.659973   \n",
       "4891  10/26/2021  673.760010  676.489990  662.770020  668.520020  668.520020   \n",
       "4892  10/27/2021  669.000000  671.409973  661.849976  662.919983  662.919983   \n",
       "4893  10/28/2021  670.950012  676.799988  668.030029  674.049988  674.049988   \n",
       "4894  10/29/2021  673.059998  690.969971  671.239990  690.309998  690.309998   \n",
       "\n",
       "         Volume        SMA5       SMA10  StochasticK  ...     Change  \\\n",
       "0     104790000    1.196429    1.196429          NaN  ...   0.013571   \n",
       "1      11104800    1.203215    1.203215          NaN  ...  -0.052857   \n",
       "2       6609400    1.187857    1.187857          NaN  ...  -0.053572   \n",
       "3       6757800    1.166786    1.166786          NaN  ...  -0.032142   \n",
       "4      10154200    1.147714    1.147714          NaN  ...   0.005000   \n",
       "...         ...         ...         ...          ...  ...        ...   \n",
       "4890    3833500  650.747998  640.849994    92.814518  ...  -3.139953   \n",
       "4891    2904800  656.652002  645.207996    86.568968  ...  -5.600037   \n",
       "4892    2276900  664.207996  648.523993    77.131758  ...  11.130005   \n",
       "4893    2859400  668.385999  652.548993    95.389771  ...  16.260010   \n",
       "4894    3817500  673.491992  658.750995    99.105969  ...        NaN   \n",
       "\n",
       "      Direction       RSI          TP         sma        mad         CCI  \\\n",
       "0             1       NaN    1.195000         NaN        NaN         NaN   \n",
       "1             0       NaN    1.210714         NaN        NaN         NaN   \n",
       "2             0       NaN    1.182143         NaN        NaN         NaN   \n",
       "3             0       NaN    1.117857         NaN        NaN         NaN   \n",
       "4             1       NaN    1.083572         NaN        NaN         NaN   \n",
       "...         ...       ...         ...         ...        ...         ...   \n",
       "4890          0  0.675676  668.203328  637.748567   8.702045  233.314986   \n",
       "4891          0  0.675676  669.260010  640.187855  11.809801  164.113158   \n",
       "4892          1  0.675676  665.393311  642.260234  13.930309  110.708606   \n",
       "4893          1  0.910010  672.960002  644.916425  16.039255  116.562258   \n",
       "4894          0  0.910010  684.173320  648.708806  18.345784  128.874349   \n",
       "\n",
       "            DI        ADX  Aroon  \n",
       "0          NaN        NaN    0.0  \n",
       "1          NaN        NaN    4.0  \n",
       "2          NaN        NaN   -4.0  \n",
       "3          NaN        NaN   -8.0  \n",
       "4          NaN        NaN  -12.0  \n",
       "...        ...        ...    ...  \n",
       "4890  5.191655  30.298693   96.0  \n",
       "4891  4.356440  30.769399   76.0  \n",
       "4892  3.125012  31.225713   76.0  \n",
       "4893  4.376381  31.577094   88.0  \n",
       "4894  6.151380  32.202746   92.0  \n",
       "\n",
       "[4895 rows x 30 columns]"
      ]
     },
     "execution_count": 33,
     "metadata": {},
     "output_type": "execute_result"
    }
   ],
   "source": [
    "complete_data = compute_all_indicators(data)\n",
    "complete_data"
   ]
  },
  {
   "cell_type": "code",
   "execution_count": 34,
   "metadata": {},
   "outputs": [],
   "source": [
    "complete_data = complete_data.dropna()"
   ]
  },
  {
   "cell_type": "code",
   "execution_count": 35,
   "metadata": {},
   "outputs": [
    {
     "data": {
      "text/html": [
       "<div>\n",
       "<style scoped>\n",
       "    .dataframe tbody tr th:only-of-type {\n",
       "        vertical-align: middle;\n",
       "    }\n",
       "\n",
       "    .dataframe tbody tr th {\n",
       "        vertical-align: top;\n",
       "    }\n",
       "\n",
       "    .dataframe thead th {\n",
       "        text-align: right;\n",
       "    }\n",
       "</style>\n",
       "<table border=\"1\" class=\"dataframe\">\n",
       "  <thead>\n",
       "    <tr style=\"text-align: right;\">\n",
       "      <th></th>\n",
       "      <th>Date</th>\n",
       "      <th>Open</th>\n",
       "      <th>High</th>\n",
       "      <th>Low</th>\n",
       "      <th>Close</th>\n",
       "      <th>Adj Close</th>\n",
       "      <th>Volume</th>\n",
       "      <th>SMA5</th>\n",
       "      <th>SMA10</th>\n",
       "      <th>StochasticK</th>\n",
       "      <th>...</th>\n",
       "      <th>Change</th>\n",
       "      <th>Direction</th>\n",
       "      <th>RSI</th>\n",
       "      <th>TP</th>\n",
       "      <th>sma</th>\n",
       "      <th>mad</th>\n",
       "      <th>CCI</th>\n",
       "      <th>DI</th>\n",
       "      <th>ADX</th>\n",
       "      <th>Aroon</th>\n",
       "    </tr>\n",
       "  </thead>\n",
       "  <tbody>\n",
       "    <tr>\n",
       "      <th>14</th>\n",
       "      <td>6/13/2002</td>\n",
       "      <td>1.104286</td>\n",
       "      <td>1.122143</td>\n",
       "      <td>1.080000</td>\n",
       "      <td>1.082857</td>\n",
       "      <td>1.082857</td>\n",
       "      <td>2567600</td>\n",
       "      <td>1.120857</td>\n",
       "      <td>1.125643</td>\n",
       "      <td>7.110768</td>\n",
       "      <td>...</td>\n",
       "      <td>-0.096428</td>\n",
       "      <td>0</td>\n",
       "      <td>0.282646</td>\n",
       "      <td>1.095000</td>\n",
       "      <td>1.135578</td>\n",
       "      <td>0.031001</td>\n",
       "      <td>-87.262252</td>\n",
       "      <td>-4.041967</td>\n",
       "      <td>6.531289</td>\n",
       "      <td>-12.0</td>\n",
       "    </tr>\n",
       "    <tr>\n",
       "      <th>15</th>\n",
       "      <td>6/14/2002</td>\n",
       "      <td>1.082143</td>\n",
       "      <td>1.085714</td>\n",
       "      <td>0.980000</td>\n",
       "      <td>0.986429</td>\n",
       "      <td>0.986429</td>\n",
       "      <td>4783800</td>\n",
       "      <td>1.094429</td>\n",
       "      <td>1.116643</td>\n",
       "      <td>2.549744</td>\n",
       "      <td>...</td>\n",
       "      <td>-0.064286</td>\n",
       "      <td>0</td>\n",
       "      <td>0.282646</td>\n",
       "      <td>1.017381</td>\n",
       "      <td>1.121769</td>\n",
       "      <td>0.031939</td>\n",
       "      <td>-217.891706</td>\n",
       "      <td>-11.332225</td>\n",
       "      <td>9.143382</td>\n",
       "      <td>-56.0</td>\n",
       "    </tr>\n",
       "    <tr>\n",
       "      <th>16</th>\n",
       "      <td>6/17/2002</td>\n",
       "      <td>1.013571</td>\n",
       "      <td>1.059286</td>\n",
       "      <td>0.917857</td>\n",
       "      <td>0.922143</td>\n",
       "      <td>0.922143</td>\n",
       "      <td>4855200</td>\n",
       "      <td>1.047571</td>\n",
       "      <td>1.096000</td>\n",
       "      <td>1.363726</td>\n",
       "      <td>...</td>\n",
       "      <td>-0.011429</td>\n",
       "      <td>0</td>\n",
       "      <td>0.282646</td>\n",
       "      <td>0.966429</td>\n",
       "      <td>1.106361</td>\n",
       "      <td>0.041992</td>\n",
       "      <td>-222.155602</td>\n",
       "      <td>-15.840926</td>\n",
       "      <td>19.140010</td>\n",
       "      <td>-60.0</td>\n",
       "    </tr>\n",
       "    <tr>\n",
       "      <th>17</th>\n",
       "      <td>6/18/2002</td>\n",
       "      <td>0.938571</td>\n",
       "      <td>0.939286</td>\n",
       "      <td>0.842143</td>\n",
       "      <td>0.910714</td>\n",
       "      <td>0.910714</td>\n",
       "      <td>10808000</td>\n",
       "      <td>0.999000</td>\n",
       "      <td>1.075286</td>\n",
       "      <td>17.582308</td>\n",
       "      <td>...</td>\n",
       "      <td>0.040715</td>\n",
       "      <td>1</td>\n",
       "      <td>0.381194</td>\n",
       "      <td>0.897381</td>\n",
       "      <td>1.090612</td>\n",
       "      <td>0.058975</td>\n",
       "      <td>-218.434212</td>\n",
       "      <td>-15.825737</td>\n",
       "      <td>27.026513</td>\n",
       "      <td>-64.0</td>\n",
       "    </tr>\n",
       "    <tr>\n",
       "      <th>18</th>\n",
       "      <td>6/19/2002</td>\n",
       "      <td>0.911429</td>\n",
       "      <td>0.996429</td>\n",
       "      <td>0.892857</td>\n",
       "      <td>0.951429</td>\n",
       "      <td>0.951429</td>\n",
       "      <td>5482400</td>\n",
       "      <td>0.970714</td>\n",
       "      <td>1.055714</td>\n",
       "      <td>28.022051</td>\n",
       "      <td>...</td>\n",
       "      <td>0.005714</td>\n",
       "      <td>1</td>\n",
       "      <td>0.381194</td>\n",
       "      <td>0.946905</td>\n",
       "      <td>1.080850</td>\n",
       "      <td>0.071526</td>\n",
       "      <td>-124.845930</td>\n",
       "      <td>-11.360356</td>\n",
       "      <td>33.442196</td>\n",
       "      <td>-64.0</td>\n",
       "    </tr>\n",
       "    <tr>\n",
       "      <th>...</th>\n",
       "      <td>...</td>\n",
       "      <td>...</td>\n",
       "      <td>...</td>\n",
       "      <td>...</td>\n",
       "      <td>...</td>\n",
       "      <td>...</td>\n",
       "      <td>...</td>\n",
       "      <td>...</td>\n",
       "      <td>...</td>\n",
       "      <td>...</td>\n",
       "      <td>...</td>\n",
       "      <td>...</td>\n",
       "      <td>...</td>\n",
       "      <td>...</td>\n",
       "      <td>...</td>\n",
       "      <td>...</td>\n",
       "      <td>...</td>\n",
       "      <td>...</td>\n",
       "      <td>...</td>\n",
       "      <td>...</td>\n",
       "      <td>...</td>\n",
       "    </tr>\n",
       "    <tr>\n",
       "      <th>4889</th>\n",
       "      <td>10/22/2021</td>\n",
       "      <td>651.809998</td>\n",
       "      <td>665.460022</td>\n",
       "      <td>651.809998</td>\n",
       "      <td>664.780029</td>\n",
       "      <td>664.780029</td>\n",
       "      <td>6179700</td>\n",
       "      <td>644.009998</td>\n",
       "      <td>636.387994</td>\n",
       "      <td>98.839008</td>\n",
       "      <td>...</td>\n",
       "      <td>6.879944</td>\n",
       "      <td>1</td>\n",
       "      <td>0.910010</td>\n",
       "      <td>660.683350</td>\n",
       "      <td>634.831425</td>\n",
       "      <td>5.952110</td>\n",
       "      <td>289.554743</td>\n",
       "      <td>4.545124</td>\n",
       "      <td>30.296476</td>\n",
       "      <td>92.0</td>\n",
       "    </tr>\n",
       "    <tr>\n",
       "      <th>4890</th>\n",
       "      <td>10/25/2021</td>\n",
       "      <td>663.739990</td>\n",
       "      <td>675.880005</td>\n",
       "      <td>657.070007</td>\n",
       "      <td>671.659973</td>\n",
       "      <td>671.659973</td>\n",
       "      <td>3833500</td>\n",
       "      <td>650.747998</td>\n",
       "      <td>640.849994</td>\n",
       "      <td>92.814518</td>\n",
       "      <td>...</td>\n",
       "      <td>-3.139953</td>\n",
       "      <td>0</td>\n",
       "      <td>0.675676</td>\n",
       "      <td>668.203328</td>\n",
       "      <td>637.748567</td>\n",
       "      <td>8.702045</td>\n",
       "      <td>233.314986</td>\n",
       "      <td>5.191655</td>\n",
       "      <td>30.298693</td>\n",
       "      <td>96.0</td>\n",
       "    </tr>\n",
       "    <tr>\n",
       "      <th>4891</th>\n",
       "      <td>10/26/2021</td>\n",
       "      <td>673.760010</td>\n",
       "      <td>676.489990</td>\n",
       "      <td>662.770020</td>\n",
       "      <td>668.520020</td>\n",
       "      <td>668.520020</td>\n",
       "      <td>2904800</td>\n",
       "      <td>656.652002</td>\n",
       "      <td>645.207996</td>\n",
       "      <td>86.568968</td>\n",
       "      <td>...</td>\n",
       "      <td>-5.600037</td>\n",
       "      <td>0</td>\n",
       "      <td>0.675676</td>\n",
       "      <td>669.260010</td>\n",
       "      <td>640.187855</td>\n",
       "      <td>11.809801</td>\n",
       "      <td>164.113158</td>\n",
       "      <td>4.356440</td>\n",
       "      <td>30.769399</td>\n",
       "      <td>76.0</td>\n",
       "    </tr>\n",
       "    <tr>\n",
       "      <th>4892</th>\n",
       "      <td>10/27/2021</td>\n",
       "      <td>669.000000</td>\n",
       "      <td>671.409973</td>\n",
       "      <td>661.849976</td>\n",
       "      <td>662.919983</td>\n",
       "      <td>662.919983</td>\n",
       "      <td>2276900</td>\n",
       "      <td>664.207996</td>\n",
       "      <td>648.523993</td>\n",
       "      <td>77.131758</td>\n",
       "      <td>...</td>\n",
       "      <td>11.130005</td>\n",
       "      <td>1</td>\n",
       "      <td>0.675676</td>\n",
       "      <td>665.393311</td>\n",
       "      <td>642.260234</td>\n",
       "      <td>13.930309</td>\n",
       "      <td>110.708606</td>\n",
       "      <td>3.125012</td>\n",
       "      <td>31.225713</td>\n",
       "      <td>76.0</td>\n",
       "    </tr>\n",
       "    <tr>\n",
       "      <th>4893</th>\n",
       "      <td>10/28/2021</td>\n",
       "      <td>670.950012</td>\n",
       "      <td>676.799988</td>\n",
       "      <td>668.030029</td>\n",
       "      <td>674.049988</td>\n",
       "      <td>674.049988</td>\n",
       "      <td>2859400</td>\n",
       "      <td>668.385999</td>\n",
       "      <td>652.548993</td>\n",
       "      <td>95.389771</td>\n",
       "      <td>...</td>\n",
       "      <td>16.260010</td>\n",
       "      <td>1</td>\n",
       "      <td>0.910010</td>\n",
       "      <td>672.960002</td>\n",
       "      <td>644.916425</td>\n",
       "      <td>16.039255</td>\n",
       "      <td>116.562258</td>\n",
       "      <td>4.376381</td>\n",
       "      <td>31.577094</td>\n",
       "      <td>88.0</td>\n",
       "    </tr>\n",
       "  </tbody>\n",
       "</table>\n",
       "<p>4880 rows × 30 columns</p>\n",
       "</div>"
      ],
      "text/plain": [
       "            Date        Open        High         Low       Close   Adj Close  \\\n",
       "14     6/13/2002    1.104286    1.122143    1.080000    1.082857    1.082857   \n",
       "15     6/14/2002    1.082143    1.085714    0.980000    0.986429    0.986429   \n",
       "16     6/17/2002    1.013571    1.059286    0.917857    0.922143    0.922143   \n",
       "17     6/18/2002    0.938571    0.939286    0.842143    0.910714    0.910714   \n",
       "18     6/19/2002    0.911429    0.996429    0.892857    0.951429    0.951429   \n",
       "...          ...         ...         ...         ...         ...         ...   \n",
       "4889  10/22/2021  651.809998  665.460022  651.809998  664.780029  664.780029   \n",
       "4890  10/25/2021  663.739990  675.880005  657.070007  671.659973  671.659973   \n",
       "4891  10/26/2021  673.760010  676.489990  662.770020  668.520020  668.520020   \n",
       "4892  10/27/2021  669.000000  671.409973  661.849976  662.919983  662.919983   \n",
       "4893  10/28/2021  670.950012  676.799988  668.030029  674.049988  674.049988   \n",
       "\n",
       "        Volume        SMA5       SMA10  StochasticK  ...     Change  \\\n",
       "14     2567600    1.120857    1.125643     7.110768  ...  -0.096428   \n",
       "15     4783800    1.094429    1.116643     2.549744  ...  -0.064286   \n",
       "16     4855200    1.047571    1.096000     1.363726  ...  -0.011429   \n",
       "17    10808000    0.999000    1.075286    17.582308  ...   0.040715   \n",
       "18     5482400    0.970714    1.055714    28.022051  ...   0.005714   \n",
       "...        ...         ...         ...          ...  ...        ...   \n",
       "4889   6179700  644.009998  636.387994    98.839008  ...   6.879944   \n",
       "4890   3833500  650.747998  640.849994    92.814518  ...  -3.139953   \n",
       "4891   2904800  656.652002  645.207996    86.568968  ...  -5.600037   \n",
       "4892   2276900  664.207996  648.523993    77.131758  ...  11.130005   \n",
       "4893   2859400  668.385999  652.548993    95.389771  ...  16.260010   \n",
       "\n",
       "      Direction       RSI          TP         sma        mad         CCI  \\\n",
       "14            0  0.282646    1.095000    1.135578   0.031001  -87.262252   \n",
       "15            0  0.282646    1.017381    1.121769   0.031939 -217.891706   \n",
       "16            0  0.282646    0.966429    1.106361   0.041992 -222.155602   \n",
       "17            1  0.381194    0.897381    1.090612   0.058975 -218.434212   \n",
       "18            1  0.381194    0.946905    1.080850   0.071526 -124.845930   \n",
       "...         ...       ...         ...         ...        ...         ...   \n",
       "4889          1  0.910010  660.683350  634.831425   5.952110  289.554743   \n",
       "4890          0  0.675676  668.203328  637.748567   8.702045  233.314986   \n",
       "4891          0  0.675676  669.260010  640.187855  11.809801  164.113158   \n",
       "4892          1  0.675676  665.393311  642.260234  13.930309  110.708606   \n",
       "4893          1  0.910010  672.960002  644.916425  16.039255  116.562258   \n",
       "\n",
       "             DI        ADX  Aroon  \n",
       "14    -4.041967   6.531289  -12.0  \n",
       "15   -11.332225   9.143382  -56.0  \n",
       "16   -15.840926  19.140010  -60.0  \n",
       "17   -15.825737  27.026513  -64.0  \n",
       "18   -11.360356  33.442196  -64.0  \n",
       "...         ...        ...    ...  \n",
       "4889   4.545124  30.296476   92.0  \n",
       "4890   5.191655  30.298693   96.0  \n",
       "4891   4.356440  30.769399   76.0  \n",
       "4892   3.125012  31.225713   76.0  \n",
       "4893   4.376381  31.577094   88.0  \n",
       "\n",
       "[4880 rows x 30 columns]"
      ]
     },
     "execution_count": 35,
     "metadata": {},
     "output_type": "execute_result"
    }
   ],
   "source": [
    "complete_data"
   ]
  },
  {
   "cell_type": "code",
   "execution_count": 36,
   "metadata": {},
   "outputs": [],
   "source": [
    "# data['STO'] = ta.momentum.StochasticOscillator(data[\"Close\"], data[\"High\"], data[\"Low\"], 20, 2, True).stoch()"
   ]
  },
  {
   "cell_type": "code",
   "execution_count": 37,
   "metadata": {},
   "outputs": [
    {
     "name": "stdout",
     "output_type": "stream",
     "text": [
      "                    Open      High       Low     Close  Adj Close    Volume  \\\n",
      "Open            1.000000  0.999865  0.999862  0.999712   0.999712 -0.253236   \n",
      "High            0.999865  1.000000  0.999822  0.999871   0.999871 -0.251896   \n",
      "Low             0.999862  0.999822  1.000000  0.999864   0.999864 -0.254485   \n",
      "Close           0.999712  0.999871  0.999864  1.000000   1.000000 -0.253072   \n",
      "Adj Close       0.999712  0.999871  0.999864  1.000000   1.000000 -0.253072   \n",
      "Volume         -0.253236 -0.251896 -0.254485 -0.253072  -0.253072  1.000000   \n",
      "SMA5            0.999663  0.999646  0.999587  0.999545   0.999545 -0.253216   \n",
      "SMA10           0.999111  0.999099  0.999008  0.998969   0.998969 -0.253263   \n",
      "StochasticK     0.061378  0.062960  0.064589  0.066233   0.066233 -0.029361   \n",
      "StochasticD     0.068424  0.068316  0.069838  0.069691   0.069691 -0.031845   \n",
      "LarryWilliamsR -0.061378 -0.062960 -0.064589 -0.066233  -0.066233  0.029361   \n",
      "ROC            -0.009579 -0.009069 -0.008351 -0.007798  -0.007798  0.009860   \n",
      "PVT            -0.000368  0.000325  0.000328  0.001125   0.001125 -0.193861   \n",
      "ADO             0.014204  0.017739  0.018251  0.020319   0.020319 -0.043246   \n",
      "WMA10           0.999515  0.999503  0.999433  0.999395   0.999395 -0.253251   \n",
      "EMA12           0.999273  0.999273  0.999187  0.999158   0.999158 -0.253248   \n",
      "EMA26           0.998370  0.998384  0.998266  0.998243   0.998243 -0.252985   \n",
      "MACD            0.339483  0.338985  0.340114  0.339893   0.339893 -0.087285   \n",
      "Momentum       -0.011028 -0.010513 -0.009743 -0.009246  -0.009246  0.014261   \n",
      "Change          0.032012  0.031595  0.032270  0.030284   0.030284 -0.018917   \n",
      "Direction       0.014578  0.014144  0.014615  0.013624   0.013624 -0.027004   \n",
      "RSI             0.110239  0.110605  0.112748  0.112568   0.112568 -0.048264   \n",
      "TP              0.999862  0.999948  0.999944  0.999961   0.999961 -0.253151   \n",
      "sma             0.998692  0.998688  0.998582  0.998547   0.998547 -0.253210   \n",
      "mad             0.812318  0.813636  0.810000  0.811537   0.811537 -0.153803   \n",
      "CCI             0.030975  0.032401  0.033886  0.034667   0.034667 -0.000117   \n",
      "DI              0.005759  0.006864  0.007741  0.008894   0.008894 -0.002250   \n",
      "ADX            -0.165973 -0.165997 -0.166319 -0.166353  -0.166353  0.171301   \n",
      "Aroon           0.040218  0.039882  0.041211  0.041046   0.041046 -0.030809   \n",
      "\n",
      "                    SMA5     SMA10  StochasticK  StochasticD  ...    Change  \\\n",
      "Open            0.999663  0.999111     0.061378     0.068424  ...  0.032012   \n",
      "High            0.999646  0.999099     0.062960     0.068316  ...  0.031595   \n",
      "Low             0.999587  0.999008     0.064589     0.069838  ...  0.032270   \n",
      "Close           0.999545  0.998969     0.066233     0.069691  ...  0.030284   \n",
      "Adj Close       0.999545  0.998969     0.066233     0.069691  ...  0.030284   \n",
      "Volume         -0.253216 -0.253263    -0.029361    -0.031845  ... -0.018917   \n",
      "SMA5            1.000000  0.999693     0.054684     0.062018  ...  0.031951   \n",
      "SMA10           0.999693  1.000000     0.044614     0.050925  ...  0.033391   \n",
      "StochasticK     0.054684  0.044614     1.000000     0.920396  ... -0.018562   \n",
      "StochasticD     0.062018  0.050925     0.920396     1.000000  ... -0.009696   \n",
      "LarryWilliamsR -0.054684 -0.044614    -1.000000    -0.920396  ...  0.018562   \n",
      "ROC            -0.013763 -0.021642     0.753225     0.774292  ... -0.017365   \n",
      "PVT            -0.001807 -0.002234     0.177792     0.075593  ...  0.001905   \n",
      "ADO             0.010143  0.009171     0.328552     0.101658  ... -0.002420   \n",
      "WMA10           0.999937  0.999902     0.050672     0.057440  ...  0.032597   \n",
      "EMA12           0.999743  0.999936     0.045486     0.051207  ...  0.033431   \n",
      "EMA26           0.998955  0.999479     0.037015     0.041241  ...  0.034654   \n",
      "MACD            0.335401  0.323188     0.326628     0.383556  ... -0.034906   \n",
      "Momentum       -0.014834 -0.021848     0.728007     0.765979  ... -0.012405   \n",
      "Change          0.031951  0.033391    -0.018562    -0.009696  ...  1.000000   \n",
      "Direction       0.014572  0.015447    -0.027398    -0.026769  ...  0.404342   \n",
      "RSI             0.106458  0.099722     0.494919     0.510302  ...  0.122591   \n",
      "TP              0.999642  0.999075     0.064589     0.069278  ...  0.031381   \n",
      "sma             0.999309  0.999854     0.038603     0.043872  ...  0.034515   \n",
      "mad             0.811708  0.810202     0.049341     0.058949  ...  0.012497   \n",
      "CCI             0.021776  0.011793     0.895844     0.827439  ... -0.006940   \n",
      "DI             -0.000576 -0.009379     0.812768     0.770227  ... -0.017493   \n",
      "ADX            -0.165951 -0.166829     0.057882     0.089236  ... -0.020962   \n",
      "Aroon           0.037863  0.032251     0.515308     0.595742  ... -0.016956   \n",
      "\n",
      "                Direction       RSI        TP       sma       mad       CCI  \\\n",
      "Open             0.014578  0.110239  0.999862  0.998692  0.812318  0.030975   \n",
      "High             0.014144  0.110605  0.999948  0.998688  0.813636  0.032401   \n",
      "Low              0.014615  0.112748  0.999944  0.998582  0.810000  0.033886   \n",
      "Close            0.013624  0.112568  0.999961  0.998547  0.811537  0.034667   \n",
      "Adj Close        0.013624  0.112568  0.999961  0.998547  0.811537  0.034667   \n",
      "Volume          -0.027004 -0.048264 -0.253151 -0.253210 -0.153803 -0.000117   \n",
      "SMA5             0.014572  0.106458  0.999642  0.999309  0.811708  0.021776   \n",
      "SMA10            0.015447  0.099722  0.999075  0.999854  0.810202  0.011793   \n",
      "StochasticK     -0.027398  0.494919  0.064589  0.038603  0.049341  0.895844   \n",
      "StochasticD     -0.026769  0.510302  0.069278  0.043872  0.058949  0.827439   \n",
      "LarryWilliamsR   0.027398 -0.494919 -0.064589 -0.038603 -0.049341 -0.895844   \n",
      "ROC             -0.030343  0.444474 -0.008410 -0.028071  0.034492  0.682767   \n",
      "PVT              0.004840  0.054398  0.000593 -0.002380 -0.001640  0.260272   \n",
      "ADO              0.000732  0.128901  0.018769  0.009060  0.009693  0.399709   \n",
      "WMA10            0.014968  0.103785  0.999493  0.999613  0.811126  0.017828   \n",
      "EMA12            0.015549  0.099514  0.999256  0.999871  0.809972  0.013485   \n",
      "EMA26            0.016668  0.093885  0.998347  0.999728  0.808028  0.006146   \n",
      "MACD            -0.036545  0.238234  0.339675  0.311630  0.319891  0.275014   \n",
      "Momentum        -0.033970  0.439658 -0.009838 -0.027978  0.030412  0.644512   \n",
      "Change           0.404342  0.122591  0.031381  0.034515  0.012497 -0.006940   \n",
      "Direction        1.000000  0.224588  0.014126  0.016119 -0.001735 -0.012809   \n",
      "RSI              0.224588  1.000000  0.111969  0.094193  0.106669  0.428769   \n",
      "TP               0.014126  0.111969  1.000000  0.998655  0.811782  0.033646   \n",
      "sma              0.016119  0.094193  0.998655  1.000000  0.808704  0.006940   \n",
      "mad             -0.001735  0.106669  0.811782  0.808704  1.000000  0.010842   \n",
      "CCI             -0.012809  0.428769  0.033646  0.006940  0.010842  1.000000   \n",
      "DI              -0.027887  0.413924  0.007829 -0.014017  0.025511  0.811594   \n",
      "ADX             -0.033820  0.014905 -0.166230 -0.168345 -0.051400  0.047097   \n",
      "Aroon           -0.016401  0.336644  0.040709  0.026627  0.023858  0.482109   \n",
      "\n",
      "                      DI       ADX     Aroon  \n",
      "Open            0.005759 -0.165973  0.040218  \n",
      "High            0.006864 -0.165997  0.039882  \n",
      "Low             0.007741 -0.166319  0.041211  \n",
      "Close           0.008894 -0.166353  0.041046  \n",
      "Adj Close       0.008894 -0.166353  0.041046  \n",
      "Volume         -0.002250  0.171301 -0.030809  \n",
      "SMA5           -0.000576 -0.165951  0.037863  \n",
      "SMA10          -0.009379 -0.166829  0.032251  \n",
      "StochasticK     0.812768  0.057882  0.515308  \n",
      "StochasticD     0.770227  0.089236  0.595742  \n",
      "LarryWilliamsR -0.812768 -0.057882 -0.515308  \n",
      "ROC             0.896781  0.099103  0.543911  \n",
      "PVT             0.314154 -0.004074  0.077003  \n",
      "ADO             0.329977 -0.015298  0.072752  \n",
      "WMA10          -0.004131 -0.166330  0.035605  \n",
      "EMA12          -0.008232 -0.168096  0.029576  \n",
      "EMA26          -0.014827 -0.172110  0.017322  \n",
      "MACD            0.240920  0.096685  0.461351  \n",
      "Momentum        0.836500  0.121069  0.599543  \n",
      "Change         -0.017493 -0.020962 -0.016956  \n",
      "Direction      -0.027887 -0.033820 -0.016401  \n",
      "RSI             0.413924  0.014905  0.336644  \n",
      "TP              0.007829 -0.166230  0.040709  \n",
      "sma            -0.014017 -0.168345  0.026627  \n",
      "mad             0.025511 -0.051400  0.023858  \n",
      "CCI             0.811594  0.047097  0.482109  \n",
      "DI              1.000000  0.045737  0.472540  \n",
      "ADX             0.045737  1.000000  0.182153  \n",
      "Aroon           0.472540  0.182153  1.000000  \n",
      "\n",
      "[29 rows x 29 columns]\n"
     ]
    }
   ],
   "source": [
    "corrMatrix = complete_data.corr()\n",
    "print(corrMatrix)"
   ]
  },
  {
   "cell_type": "code",
   "execution_count": 38,
   "metadata": {},
   "outputs": [
    {
     "data": {
      "image/png": "[encoded data removed]",
      "text/plain": [
       "<Figure size 432x288 with 2 Axes>"
      ]
     },
     "metadata": {
      "needs_background": "light"
     },
     "output_type": "display_data"
    }
   ],
   "source": [
    "sn.heatmap(corrMatrix, annot=False)\n",
    "plt.show()"
   ]
  },
  {
   "cell_type": "code",
   "execution_count": 39,
   "metadata": {},
   "outputs": [
    {
     "data": {
      "text/plain": [
       "Open   Open         1.000000\n",
       "       High         0.999865\n",
       "       Low          0.999862\n",
       "       Close        0.999712\n",
       "       Adj Close    0.999712\n",
       "                      ...   \n",
       "Aroon  mad          0.023858\n",
       "       CCI          0.482109\n",
       "       DI           0.472540\n",
       "       ADX          0.182153\n",
       "       Aroon        1.000000\n",
       "Length: 841, dtype: float64"
      ]
     },
     "execution_count": 39,
     "metadata": {},
     "output_type": "execute_result"
    }
   ],
   "source": [
    "corr_pairs = corrMatrix.unstack()\n",
    "corr_pairs"
   ]
  },
  {
   "cell_type": "code",
   "execution_count": 40,
   "metadata": {},
   "outputs": [
    {
     "data": {
      "text/plain": [
       "StochasticK     LarryWilliamsR   -1.000000\n",
       "LarryWilliamsR  StochasticK      -1.000000\n",
       "StochasticD     LarryWilliamsR   -0.920396\n",
       "LarryWilliamsR  StochasticD      -0.920396\n",
       "CCI             LarryWilliamsR   -0.895844\n",
       "                                    ...   \n",
       "sma             sma               1.000000\n",
       "mad             mad               1.000000\n",
       "CCI             CCI               1.000000\n",
       "PVT             PVT               1.000000\n",
       "Aroon           Aroon             1.000000\n",
       "Length: 841, dtype: float64"
      ]
     },
     "execution_count": 40,
     "metadata": {},
     "output_type": "execute_result"
    }
   ],
   "source": [
    "sorted_pairs = corr_pairs.sort_values(kind=\"quicksort\")\n",
    "sorted_pairs"
   ]
  },
  {
   "cell_type": "code",
   "execution_count": 41,
   "metadata": {},
   "outputs": [
    {
     "name": "stdout",
     "output_type": "stream",
     "text": [
      "StochasticK     LarryWilliamsR   -1.000000\n",
      "LarryWilliamsR  StochasticK      -1.000000\n",
      "StochasticD     LarryWilliamsR   -0.920396\n",
      "LarryWilliamsR  StochasticD      -0.920396\n",
      "CCI             LarryWilliamsR   -0.895844\n",
      "                                    ...   \n",
      "sma             sma               1.000000\n",
      "mad             mad               1.000000\n",
      "CCI             CCI               1.000000\n",
      "PVT             PVT               1.000000\n",
      "Aroon           Aroon             1.000000\n",
      "Length: 241, dtype: float64\n"
     ]
    }
   ],
   "source": [
    "strong_pairs = sorted_pairs[abs(sorted_pairs) > 0.5]\n",
    "\n",
    "print(strong_pairs)"
   ]
  },
  {
   "cell_type": "code",
   "execution_count": 42,
   "metadata": {},
   "outputs": [
    {
     "data": {
      "text/plain": [
       "212"
      ]
     },
     "execution_count": 42,
     "metadata": {},
     "output_type": "execute_result"
    }
   ],
   "source": [
    "# strong_pairs[strong_pairs.index[0][0] == strong_pairs.index[0][1]]\n",
    "\n",
    "removed_diagonal = [(i, j) for (i, j) in strong_pairs.index if i!=j]\n",
    "len(removed_diagonal)"
   ]
  },
  {
   "cell_type": "code",
   "execution_count": 43,
   "metadata": {
    "scrolled": false
   },
   "outputs": [],
   "source": [
    "# # Create correlation matrix\n",
    "# corr_matrix = complete_data.corr().abs()\n",
    "\n",
    "# # Select upper triangle of correlation matrix\n",
    "# upper = corr_matrix.where(np.triu(np.ones(corr_matrix.shape), k=1).astype(np.bool8))\n",
    "\n",
    "# # Find index of feature columns with correlation greater than 0.95\n",
    "# to_drop = [column for column in upper.columns if any(upper[column] > 0.95)]\n",
    "# to_drop"
   ]
  },
  {
   "cell_type": "code",
   "execution_count": 44,
   "metadata": {},
   "outputs": [],
   "source": [
    "# Find index of feature columns with correlation greater than 0.8\n",
    "\n",
    "correlated_features = set()\n",
    "for i in range(len(corrMatrix.columns)):\n",
    "    for j in range(i):\n",
    "        if abs(corrMatrix.iloc[i, j]) > 0.8:\n",
    "            colname = corrMatrix.columns[i]\n",
    "            correlated_features.add(colname)"
   ]
  },
  {
   "cell_type": "code",
   "execution_count": 45,
   "metadata": {},
   "outputs": [
    {
     "data": {
      "text/plain": [
       "{'Adj Close',\n",
       " 'CCI',\n",
       " 'Close',\n",
       " 'DI',\n",
       " 'EMA12',\n",
       " 'EMA26',\n",
       " 'High',\n",
       " 'LarryWilliamsR',\n",
       " 'Low',\n",
       " 'Momentum',\n",
       " 'SMA10',\n",
       " 'SMA5',\n",
       " 'StochasticD',\n",
       " 'TP',\n",
       " 'WMA10',\n",
       " 'mad',\n",
       " 'sma'}"
      ]
     },
     "execution_count": 45,
     "metadata": {},
     "output_type": "execute_result"
    }
   ],
   "source": [
    "correlated_features"
   ]
  },
  {
   "cell_type": "code",
   "execution_count": 46,
   "metadata": {},
   "outputs": [],
   "source": [
    "complete_data = complete_data.drop(labels=correlated_features, axis=1)"
   ]
  },
  {
   "cell_type": "code",
   "execution_count": 47,
   "metadata": {},
   "outputs": [
    {
     "data": {
      "text/html": [
       "<div>\n",
       "<style scoped>\n",
       "    .dataframe tbody tr th:only-of-type {\n",
       "        vertical-align: middle;\n",
       "    }\n",
       "\n",
       "    .dataframe tbody tr th {\n",
       "        vertical-align: top;\n",
       "    }\n",
       "\n",
       "    .dataframe thead th {\n",
       "        text-align: right;\n",
       "    }\n",
       "</style>\n",
       "<table border=\"1\" class=\"dataframe\">\n",
       "  <thead>\n",
       "    <tr style=\"text-align: right;\">\n",
       "      <th></th>\n",
       "      <th>Date</th>\n",
       "      <th>Open</th>\n",
       "      <th>Volume</th>\n",
       "      <th>StochasticK</th>\n",
       "      <th>ROC</th>\n",
       "      <th>PVT</th>\n",
       "      <th>ADO</th>\n",
       "      <th>MACD</th>\n",
       "      <th>Change</th>\n",
       "      <th>Direction</th>\n",
       "      <th>RSI</th>\n",
       "      <th>ADX</th>\n",
       "      <th>Aroon</th>\n",
       "    </tr>\n",
       "  </thead>\n",
       "  <tbody>\n",
       "    <tr>\n",
       "      <th>14</th>\n",
       "      <td>6/13/2002</td>\n",
       "      <td>1.104286</td>\n",
       "      <td>2567600</td>\n",
       "      <td>7.110768</td>\n",
       "      <td>-0.064198</td>\n",
       "      <td>-23494.382156</td>\n",
       "      <td>0.694920</td>\n",
       "      <td>-0.019919</td>\n",
       "      <td>-0.096428</td>\n",
       "      <td>0</td>\n",
       "      <td>0.282646</td>\n",
       "      <td>6.531289</td>\n",
       "      <td>-12.0</td>\n",
       "    </tr>\n",
       "    <tr>\n",
       "      <th>15</th>\n",
       "      <td>6/14/2002</td>\n",
       "      <td>1.082143</td>\n",
       "      <td>4783800</td>\n",
       "      <td>2.549744</td>\n",
       "      <td>-0.106148</td>\n",
       "      <td>-425995.552875</td>\n",
       "      <td>0.027026</td>\n",
       "      <td>-0.029902</td>\n",
       "      <td>-0.064286</td>\n",
       "      <td>0</td>\n",
       "      <td>0.282646</td>\n",
       "      <td>9.143382</td>\n",
       "      <td>-56.0</td>\n",
       "    </tr>\n",
       "    <tr>\n",
       "      <th>16</th>\n",
       "      <td>6/17/2002</td>\n",
       "      <td>1.013571</td>\n",
       "      <td>4855200</td>\n",
       "      <td>1.363726</td>\n",
       "      <td>-0.139334</td>\n",
       "      <td>-316415.461427</td>\n",
       "      <td>0.515149</td>\n",
       "      <td>-0.042512</td>\n",
       "      <td>-0.011429</td>\n",
       "      <td>0</td>\n",
       "      <td>0.282646</td>\n",
       "      <td>19.140010</td>\n",
       "      <td>-60.0</td>\n",
       "    </tr>\n",
       "    <tr>\n",
       "      <th>17</th>\n",
       "      <td>6/18/2002</td>\n",
       "      <td>0.938571</td>\n",
       "      <td>10808000</td>\n",
       "      <td>17.582308</td>\n",
       "      <td>-0.153949</td>\n",
       "      <td>-133953.879171</td>\n",
       "      <td>0.176472</td>\n",
       "      <td>-0.052818</td>\n",
       "      <td>0.040715</td>\n",
       "      <td>1</td>\n",
       "      <td>0.381194</td>\n",
       "      <td>27.026513</td>\n",
       "      <td>-64.0</td>\n",
       "    </tr>\n",
       "    <tr>\n",
       "      <th>18</th>\n",
       "      <td>6/19/2002</td>\n",
       "      <td>0.911429</td>\n",
       "      <td>5482400</td>\n",
       "      <td>28.022051</td>\n",
       "      <td>-0.156961</td>\n",
       "      <td>245099.906227</td>\n",
       "      <td>0.827589</td>\n",
       "      <td>-0.057043</td>\n",
       "      <td>0.005714</td>\n",
       "      <td>1</td>\n",
       "      <td>0.381194</td>\n",
       "      <td>33.442196</td>\n",
       "      <td>-64.0</td>\n",
       "    </tr>\n",
       "    <tr>\n",
       "      <th>...</th>\n",
       "      <td>...</td>\n",
       "      <td>...</td>\n",
       "      <td>...</td>\n",
       "      <td>...</td>\n",
       "      <td>...</td>\n",
       "      <td>...</td>\n",
       "      <td>...</td>\n",
       "      <td>...</td>\n",
       "      <td>...</td>\n",
       "      <td>...</td>\n",
       "      <td>...</td>\n",
       "      <td>...</td>\n",
       "      <td>...</td>\n",
       "    </tr>\n",
       "    <tr>\n",
       "      <th>4889</th>\n",
       "      <td>10/22/2021</td>\n",
       "      <td>651.809998</td>\n",
       "      <td>6179700</td>\n",
       "      <td>98.839008</td>\n",
       "      <td>0.040182</td>\n",
       "      <td>109940.080580</td>\n",
       "      <td>0.901101</td>\n",
       "      <td>16.558775</td>\n",
       "      <td>6.879944</td>\n",
       "      <td>1</td>\n",
       "      <td>0.910010</td>\n",
       "      <td>30.296476</td>\n",
       "      <td>92.0</td>\n",
       "    </tr>\n",
       "    <tr>\n",
       "      <th>4890</th>\n",
       "      <td>10/25/2021</td>\n",
       "      <td>663.739990</td>\n",
       "      <td>3833500</td>\n",
       "      <td>92.814518</td>\n",
       "      <td>0.063005</td>\n",
       "      <td>39673.672754</td>\n",
       "      <td>0.590110</td>\n",
       "      <td>18.159400</td>\n",
       "      <td>-3.139953</td>\n",
       "      <td>0</td>\n",
       "      <td>0.675676</td>\n",
       "      <td>30.298693</td>\n",
       "      <td>96.0</td>\n",
       "    </tr>\n",
       "    <tr>\n",
       "      <th>4891</th>\n",
       "      <td>10/26/2021</td>\n",
       "      <td>673.760010</td>\n",
       "      <td>2904800</td>\n",
       "      <td>86.568968</td>\n",
       "      <td>0.056681</td>\n",
       "      <td>-13579.691869</td>\n",
       "      <td>0.352043</td>\n",
       "      <td>18.956025</td>\n",
       "      <td>-5.600037</td>\n",
       "      <td>0</td>\n",
       "      <td>0.675676</td>\n",
       "      <td>30.769399</td>\n",
       "      <td>76.0</td>\n",
       "    </tr>\n",
       "    <tr>\n",
       "      <th>4892</th>\n",
       "      <td>10/27/2021</td>\n",
       "      <td>669.000000</td>\n",
       "      <td>2276900</td>\n",
       "      <td>77.131758</td>\n",
       "      <td>0.057221</td>\n",
       "      <td>-19073.062682</td>\n",
       "      <td>0.302296</td>\n",
       "      <td>18.917412</td>\n",
       "      <td>11.130005</td>\n",
       "      <td>1</td>\n",
       "      <td>0.675676</td>\n",
       "      <td>31.225713</td>\n",
       "      <td>76.0</td>\n",
       "    </tr>\n",
       "    <tr>\n",
       "      <th>4893</th>\n",
       "      <td>10/28/2021</td>\n",
       "      <td>670.950012</td>\n",
       "      <td>2859400</td>\n",
       "      <td>95.389771</td>\n",
       "      <td>0.078584</td>\n",
       "      <td>48007.507864</td>\n",
       "      <td>1.582676</td>\n",
       "      <td>19.559441</td>\n",
       "      <td>16.260010</td>\n",
       "      <td>1</td>\n",
       "      <td>0.910010</td>\n",
       "      <td>31.577094</td>\n",
       "      <td>88.0</td>\n",
       "    </tr>\n",
       "  </tbody>\n",
       "</table>\n",
       "<p>4880 rows × 13 columns</p>\n",
       "</div>"
      ],
      "text/plain": [
       "            Date        Open    Volume  StochasticK       ROC            PVT  \\\n",
       "14     6/13/2002    1.104286   2567600     7.110768 -0.064198  -23494.382156   \n",
       "15     6/14/2002    1.082143   4783800     2.549744 -0.106148 -425995.552875   \n",
       "16     6/17/2002    1.013571   4855200     1.363726 -0.139334 -316415.461427   \n",
       "17     6/18/2002    0.938571  10808000    17.582308 -0.153949 -133953.879171   \n",
       "18     6/19/2002    0.911429   5482400    28.022051 -0.156961  245099.906227   \n",
       "...          ...         ...       ...          ...       ...            ...   \n",
       "4889  10/22/2021  651.809998   6179700    98.839008  0.040182  109940.080580   \n",
       "4890  10/25/2021  663.739990   3833500    92.814518  0.063005   39673.672754   \n",
       "4891  10/26/2021  673.760010   2904800    86.568968  0.056681  -13579.691869   \n",
       "4892  10/27/2021  669.000000   2276900    77.131758  0.057221  -19073.062682   \n",
       "4893  10/28/2021  670.950012   2859400    95.389771  0.078584   48007.507864   \n",
       "\n",
       "           ADO       MACD     Change  Direction       RSI        ADX  Aroon  \n",
       "14    0.694920  -0.019919  -0.096428          0  0.282646   6.531289  -12.0  \n",
       "15    0.027026  -0.029902  -0.064286          0  0.282646   9.143382  -56.0  \n",
       "16    0.515149  -0.042512  -0.011429          0  0.282646  19.140010  -60.0  \n",
       "17    0.176472  -0.052818   0.040715          1  0.381194  27.026513  -64.0  \n",
       "18    0.827589  -0.057043   0.005714          1  0.381194  33.442196  -64.0  \n",
       "...        ...        ...        ...        ...       ...        ...    ...  \n",
       "4889  0.901101  16.558775   6.879944          1  0.910010  30.296476   92.0  \n",
       "4890  0.590110  18.159400  -3.139953          0  0.675676  30.298693   96.0  \n",
       "4891  0.352043  18.956025  -5.600037          0  0.675676  30.769399   76.0  \n",
       "4892  0.302296  18.917412  11.130005          1  0.675676  31.225713   76.0  \n",
       "4893  1.582676  19.559441  16.260010          1  0.910010  31.577094   88.0  \n",
       "\n",
       "[4880 rows x 13 columns]"
      ]
     },
     "execution_count": 47,
     "metadata": {},
     "output_type": "execute_result"
    }
   ],
   "source": [
    "complete_data"
   ]
  },
  {
   "cell_type": "code",
   "execution_count": 48,
   "metadata": {
    "scrolled": false
   },
   "outputs": [
    {
     "data": {
      "text/html": [
       "<div>\n",
       "<style scoped>\n",
       "    .dataframe tbody tr th:only-of-type {\n",
       "        vertical-align: middle;\n",
       "    }\n",
       "\n",
       "    .dataframe tbody tr th {\n",
       "        vertical-align: top;\n",
       "    }\n",
       "\n",
       "    .dataframe thead th {\n",
       "        text-align: right;\n",
       "    }\n",
       "</style>\n",
       "<table border=\"1\" class=\"dataframe\">\n",
       "  <thead>\n",
       "    <tr style=\"text-align: right;\">\n",
       "      <th></th>\n",
       "      <th>Open</th>\n",
       "      <th>Volume</th>\n",
       "      <th>StochasticK</th>\n",
       "      <th>ROC</th>\n",
       "      <th>PVT</th>\n",
       "      <th>ADO</th>\n",
       "      <th>MACD</th>\n",
       "      <th>RSI</th>\n",
       "      <th>ADX</th>\n",
       "      <th>Aroon</th>\n",
       "    </tr>\n",
       "  </thead>\n",
       "  <tbody>\n",
       "    <tr>\n",
       "      <th>14</th>\n",
       "      <td>1.104286</td>\n",
       "      <td>2567600</td>\n",
       "      <td>7.110768</td>\n",
       "      <td>-0.064198</td>\n",
       "      <td>-23494.382156</td>\n",
       "      <td>0.694920</td>\n",
       "      <td>-0.019919</td>\n",
       "      <td>0.282646</td>\n",
       "      <td>6.531289</td>\n",
       "      <td>-12.0</td>\n",
       "    </tr>\n",
       "    <tr>\n",
       "      <th>15</th>\n",
       "      <td>1.082143</td>\n",
       "      <td>4783800</td>\n",
       "      <td>2.549744</td>\n",
       "      <td>-0.106148</td>\n",
       "      <td>-425995.552875</td>\n",
       "      <td>0.027026</td>\n",
       "      <td>-0.029902</td>\n",
       "      <td>0.282646</td>\n",
       "      <td>9.143382</td>\n",
       "      <td>-56.0</td>\n",
       "    </tr>\n",
       "    <tr>\n",
       "      <th>16</th>\n",
       "      <td>1.013571</td>\n",
       "      <td>4855200</td>\n",
       "      <td>1.363726</td>\n",
       "      <td>-0.139334</td>\n",
       "      <td>-316415.461427</td>\n",
       "      <td>0.515149</td>\n",
       "      <td>-0.042512</td>\n",
       "      <td>0.282646</td>\n",
       "      <td>19.140010</td>\n",
       "      <td>-60.0</td>\n",
       "    </tr>\n",
       "    <tr>\n",
       "      <th>17</th>\n",
       "      <td>0.938571</td>\n",
       "      <td>10808000</td>\n",
       "      <td>17.582308</td>\n",
       "      <td>-0.153949</td>\n",
       "      <td>-133953.879171</td>\n",
       "      <td>0.176472</td>\n",
       "      <td>-0.052818</td>\n",
       "      <td>0.381194</td>\n",
       "      <td>27.026513</td>\n",
       "      <td>-64.0</td>\n",
       "    </tr>\n",
       "    <tr>\n",
       "      <th>18</th>\n",
       "      <td>0.911429</td>\n",
       "      <td>5482400</td>\n",
       "      <td>28.022051</td>\n",
       "      <td>-0.156961</td>\n",
       "      <td>245099.906227</td>\n",
       "      <td>0.827589</td>\n",
       "      <td>-0.057043</td>\n",
       "      <td>0.381194</td>\n",
       "      <td>33.442196</td>\n",
       "      <td>-64.0</td>\n",
       "    </tr>\n",
       "    <tr>\n",
       "      <th>...</th>\n",
       "      <td>...</td>\n",
       "      <td>...</td>\n",
       "      <td>...</td>\n",
       "      <td>...</td>\n",
       "      <td>...</td>\n",
       "      <td>...</td>\n",
       "      <td>...</td>\n",
       "      <td>...</td>\n",
       "      <td>...</td>\n",
       "      <td>...</td>\n",
       "    </tr>\n",
       "    <tr>\n",
       "      <th>4889</th>\n",
       "      <td>651.809998</td>\n",
       "      <td>6179700</td>\n",
       "      <td>98.839008</td>\n",
       "      <td>0.040182</td>\n",
       "      <td>109940.080580</td>\n",
       "      <td>0.901101</td>\n",
       "      <td>16.558775</td>\n",
       "      <td>0.910010</td>\n",
       "      <td>30.296476</td>\n",
       "      <td>92.0</td>\n",
       "    </tr>\n",
       "    <tr>\n",
       "      <th>4890</th>\n",
       "      <td>663.739990</td>\n",
       "      <td>3833500</td>\n",
       "      <td>92.814518</td>\n",
       "      <td>0.063005</td>\n",
       "      <td>39673.672754</td>\n",
       "      <td>0.590110</td>\n",
       "      <td>18.159400</td>\n",
       "      <td>0.675676</td>\n",
       "      <td>30.298693</td>\n",
       "      <td>96.0</td>\n",
       "    </tr>\n",
       "    <tr>\n",
       "      <th>4891</th>\n",
       "      <td>673.760010</td>\n",
       "      <td>2904800</td>\n",
       "      <td>86.568968</td>\n",
       "      <td>0.056681</td>\n",
       "      <td>-13579.691869</td>\n",
       "      <td>0.352043</td>\n",
       "      <td>18.956025</td>\n",
       "      <td>0.675676</td>\n",
       "      <td>30.769399</td>\n",
       "      <td>76.0</td>\n",
       "    </tr>\n",
       "    <tr>\n",
       "      <th>4892</th>\n",
       "      <td>669.000000</td>\n",
       "      <td>2276900</td>\n",
       "      <td>77.131758</td>\n",
       "      <td>0.057221</td>\n",
       "      <td>-19073.062682</td>\n",
       "      <td>0.302296</td>\n",
       "      <td>18.917412</td>\n",
       "      <td>0.675676</td>\n",
       "      <td>31.225713</td>\n",
       "      <td>76.0</td>\n",
       "    </tr>\n",
       "    <tr>\n",
       "      <th>4893</th>\n",
       "      <td>670.950012</td>\n",
       "      <td>2859400</td>\n",
       "      <td>95.389771</td>\n",
       "      <td>0.078584</td>\n",
       "      <td>48007.507864</td>\n",
       "      <td>1.582676</td>\n",
       "      <td>19.559441</td>\n",
       "      <td>0.910010</td>\n",
       "      <td>31.577094</td>\n",
       "      <td>88.0</td>\n",
       "    </tr>\n",
       "  </tbody>\n",
       "</table>\n",
       "<p>4880 rows × 10 columns</p>\n",
       "</div>"
      ],
      "text/plain": [
       "            Open    Volume  StochasticK       ROC            PVT       ADO  \\\n",
       "14      1.104286   2567600     7.110768 -0.064198  -23494.382156  0.694920   \n",
       "15      1.082143   4783800     2.549744 -0.106148 -425995.552875  0.027026   \n",
       "16      1.013571   4855200     1.363726 -0.139334 -316415.461427  0.515149   \n",
       "17      0.938571  10808000    17.582308 -0.153949 -133953.879171  0.176472   \n",
       "18      0.911429   5482400    28.022051 -0.156961  245099.906227  0.827589   \n",
       "...          ...       ...          ...       ...            ...       ...   \n",
       "4889  651.809998   6179700    98.839008  0.040182  109940.080580  0.901101   \n",
       "4890  663.739990   3833500    92.814518  0.063005   39673.672754  0.590110   \n",
       "4891  673.760010   2904800    86.568968  0.056681  -13579.691869  0.352043   \n",
       "4892  669.000000   2276900    77.131758  0.057221  -19073.062682  0.302296   \n",
       "4893  670.950012   2859400    95.389771  0.078584   48007.507864  1.582676   \n",
       "\n",
       "           MACD       RSI        ADX  Aroon  \n",
       "14    -0.019919  0.282646   6.531289  -12.0  \n",
       "15    -0.029902  0.282646   9.143382  -56.0  \n",
       "16    -0.042512  0.282646  19.140010  -60.0  \n",
       "17    -0.052818  0.381194  27.026513  -64.0  \n",
       "18    -0.057043  0.381194  33.442196  -64.0  \n",
       "...         ...       ...        ...    ...  \n",
       "4889  16.558775  0.910010  30.296476   92.0  \n",
       "4890  18.159400  0.675676  30.298693   96.0  \n",
       "4891  18.956025  0.675676  30.769399   76.0  \n",
       "4892  18.917412  0.675676  31.225713   76.0  \n",
       "4893  19.559441  0.910010  31.577094   88.0  \n",
       "\n",
       "[4880 rows x 10 columns]"
      ]
     },
     "execution_count": 48,
     "metadata": {},
     "output_type": "execute_result"
    }
   ],
   "source": [
    "target = complete_data['Direction']\n",
    "complete_data = complete_data.drop(['Date', 'Direction', 'Change'], axis=1)\n",
    "complete_data"
   ]
  },
  {
   "cell_type": "code",
   "execution_count": 49,
   "metadata": {},
   "outputs": [],
   "source": [
    "from sklearn.model_selection import train_test_split\n",
    "\n",
    "X_train, X_test, y_train, y_test = train_test_split(complete_data,target,test_size=0.3)"
   ]
  },
  {
   "cell_type": "code",
   "execution_count": 50,
   "metadata": {},
   "outputs": [],
   "source": [
    "from sklearn.preprocessing import StandardScaler"
   ]
  },
  {
   "cell_type": "code",
   "execution_count": 51,
   "metadata": {},
   "outputs": [],
   "source": [
    "scaler = StandardScaler()  \n",
    "scaler.fit(X_train)\n",
    "\n",
    "X_train = scaler.transform(X_train)  \n",
    "X_test = scaler.transform(X_test) "
   ]
  },
  {
   "cell_type": "code",
   "execution_count": 85,
   "metadata": {},
   "outputs": [],
   "source": [
    "complete_data_scaled = scaler.transform(complete_data)"
   ]
  },
  {
   "cell_type": "markdown",
   "metadata": {},
   "source": [
    "### Logistic Regression"
   ]
  },
  {
   "cell_type": "code",
   "execution_count": 52,
   "metadata": {},
   "outputs": [
    {
     "data": {
      "text/plain": [
       "0.644808743169399"
      ]
     },
     "execution_count": 52,
     "metadata": {},
     "output_type": "execute_result"
    }
   ],
   "source": [
    "lr = LogisticRegression(solver='liblinear', multi_class='ovr')\n",
    "lr.fit(X_train, y_train)\n",
    "lr.score(X_test, y_test)"
   ]
  },
  {
   "cell_type": "code",
   "execution_count": 53,
   "metadata": {},
   "outputs": [],
   "source": [
    "from sklearn.metrics import accuracy_score\n",
    "from sklearn.metrics import confusion_matrix"
   ]
  },
  {
   "cell_type": "code",
   "execution_count": 54,
   "metadata": {},
   "outputs": [],
   "source": [
    "lr = LogisticRegression(solver='liblinear', multi_class='ovr')\n",
    "trained_model_lr = lr.fit(X_train, y_train)\n",
    "predictions_lr = trained_model_lr.predict(X_test)\n",
    "\n",
    "Train_accuracy_lr = accuracy_score(y_train,trained_model_lr.predict(X_train))\n",
    "Test_accuracy_lr = accuracy_score(y_test, predictions_lr)\n",
    "Confusion_matrix_lr = confusion_matrix(y_test,predictions_lr)"
   ]
  },
  {
   "cell_type": "code",
   "execution_count": 55,
   "metadata": {},
   "outputs": [
    {
     "data": {
      "text/plain": [
       "0.6428571428571429"
      ]
     },
     "execution_count": 55,
     "metadata": {},
     "output_type": "execute_result"
    }
   ],
   "source": [
    "Train_accuracy_lr"
   ]
  },
  {
   "cell_type": "code",
   "execution_count": 56,
   "metadata": {},
   "outputs": [
    {
     "data": {
      "text/plain": [
       "0.644808743169399"
      ]
     },
     "execution_count": 56,
     "metadata": {},
     "output_type": "execute_result"
    }
   ],
   "source": [
    "Test_accuracy_lr"
   ]
  },
  {
   "cell_type": "code",
   "execution_count": 57,
   "metadata": {},
   "outputs": [
    {
     "data": {
      "text/plain": [
       "array([[464, 248],\n",
       "       [272, 480]], dtype=int64)"
      ]
     },
     "execution_count": 57,
     "metadata": {},
     "output_type": "execute_result"
    }
   ],
   "source": [
    "Confusion_matrix_lr"
   ]
  },
  {
   "cell_type": "code",
   "execution_count": 64,
   "metadata": {},
   "outputs": [],
   "source": [
    "last100 = complete_data.tail(100)\n",
    "last100_array = last100.to_numpy()"
   ]
  },
  {
   "cell_type": "code",
   "execution_count": 65,
   "metadata": {},
   "outputs": [
    {
     "data": {
      "text/plain": [
       "numpy.ndarray"
      ]
     },
     "execution_count": 65,
     "metadata": {},
     "output_type": "execute_result"
    }
   ],
   "source": [
    "type(last100_array)"
   ]
  },
  {
   "cell_type": "code",
   "execution_count": 86,
   "metadata": {},
   "outputs": [],
   "source": [
    "predictions_lr_100 = trained_model_lr.predict(complete_data_scaled)"
   ]
  },
  {
   "cell_type": "code",
   "execution_count": 87,
   "metadata": {},
   "outputs": [
    {
     "data": {
      "text/plain": [
       "array([0, 1, 1, 1, 1, 1, 0, 0, 0, 0, 0, 0, 0, 0, 0, 0, 1, 1, 1, 0, 0, 0,\n",
       "       0, 1, 1, 1, 1, 1, 0, 1, 1, 1, 1, 1, 1, 1, 1, 1, 1, 1, 1, 1, 1, 1,\n",
       "       1, 1, 0, 0, 1, 1, 1, 1, 1, 1, 1, 1, 1, 1, 1, 0, 1, 0, 0, 0, 0, 0,\n",
       "       1, 1, 0, 1, 1, 1, 1, 1, 1, 1, 1, 1, 1, 1, 1, 1, 1, 0, 0, 0, 0, 1,\n",
       "       0, 0, 0, 0, 0, 0, 0, 0, 0, 0, 0, 0, 0, 0, 0, 0, 0, 0, 0, 0, 0, 0,\n",
       "       0, 0, 0, 0, 0, 0, 1, 1, 0, 1, 1, 1, 1, 1, 1, 1, 1, 1, 1, 1, 0, 0,\n",
       "       1, 0, 1, 1, 1, 1, 1, 0, 0, 0, 0, 0, 0, 0, 0, 0, 0, 0, 0, 0, 0, 0,\n",
       "       1, 0, 1, 0, 0, 0, 0, 0, 0, 0, 1, 1, 1, 0, 0, 0, 0, 1, 1, 0, 0, 1,\n",
       "       1, 1, 1, 0, 1, 0, 1, 0, 0, 0, 0, 0, 0, 0, 0, 0, 0, 0, 0, 0, 0, 0,\n",
       "       0, 0, 0, 1, 0, 0, 0, 0, 1, 1, 1, 1, 1, 1, 1, 1, 1, 0, 1, 1, 1, 1,\n",
       "       0, 0, 0, 1, 0, 1, 0, 0, 0, 0, 0, 0, 0, 0, 1, 0, 1, 0, 0, 0, 0, 0,\n",
       "       0, 0, 0, 0, 0, 1, 0, 1, 0, 1, 1, 0, 0, 1, 0, 0, 0, 0, 0, 0, 0, 0,\n",
       "       1, 1, 0, 1, 1, 1, 1, 1, 1, 1, 0, 0, 0, 1, 0, 0, 0, 0, 0, 0, 0, 0,\n",
       "       0, 0, 0, 0, 1, 1, 0, 0, 0, 1, 0, 1, 0, 0, 0, 0, 1, 1, 0, 1, 0, 0,\n",
       "       0, 0, 1, 1, 1, 0, 1, 1, 1, 1, 1, 1, 1, 1, 1, 1, 1, 1, 1, 1, 1, 0,\n",
       "       0, 1, 0, 0, 0, 0, 0, 0, 1, 1, 1, 1, 0, 1, 0, 0, 1, 0, 0, 0, 0, 0,\n",
       "       0, 0, 0, 0, 1, 1, 1, 1, 1, 1, 1, 1, 1, 1, 1, 1, 1, 1, 1, 0, 1, 1,\n",
       "       1, 1, 1, 1, 1, 0, 0, 0, 0, 0, 0, 0, 0, 0, 0, 0, 0, 0, 1, 1, 1, 1,\n",
       "       1, 1, 1, 1, 0, 0, 0, 0, 1, 0, 0, 0, 0, 0, 0, 0, 0, 0, 0, 0, 0, 0,\n",
       "       0, 0, 0, 0, 0, 0, 0, 0, 0, 0, 0, 0, 0, 0, 0, 0, 0, 0, 0, 0, 0, 0,\n",
       "       0, 1, 1, 0, 0, 0, 0, 0, 0, 0, 0, 0, 0, 0, 0, 0, 0, 0, 0, 0, 0, 0,\n",
       "       0, 0, 1, 0, 1, 1, 1, 0, 1, 1, 0, 0, 1, 1, 0, 0, 0, 0, 0, 0, 0, 0,\n",
       "       0, 0, 1, 1, 1, 1, 1, 1, 1, 1, 1, 1, 0, 1, 1, 1])"
      ]
     },
     "execution_count": 87,
     "metadata": {},
     "output_type": "execute_result"
    }
   ],
   "source": [
    "predictions_lr_100[:500]"
   ]
  },
  {
   "cell_type": "code",
   "execution_count": 78,
   "metadata": {},
   "outputs": [
    {
     "data": {
      "text/plain": [
       "array([0, 0, 0, 0, 0, 1, 1, 0, 0, 1, 1, 1, 1, 0, 1, 0, 1, 0, 0, 0, 0, 1,\n",
       "       0, 1, 0, 0, 0, 0, 1, 1, 1, 0, 1, 1, 0, 0, 1, 0, 1, 0, 0, 1, 1, 1,\n",
       "       0, 1, 1, 0, 0, 0, 0, 0, 0, 0, 0, 1, 1, 1, 1, 1, 1, 1, 0, 1, 1, 1,\n",
       "       0, 0, 0, 0, 0, 0, 0, 1, 1, 0, 1, 1, 1, 0, 1, 1, 1, 1, 0, 0, 0, 0,\n",
       "       1, 1, 1, 0, 1, 0, 0, 1, 1, 0, 1, 0])"
      ]
     },
     "execution_count": 78,
     "metadata": {},
     "output_type": "execute_result"
    }
   ],
   "source": [
    "predictions_lr[:100]"
   ]
  },
  {
   "cell_type": "markdown",
   "metadata": {},
   "source": [
    "### SVM"
   ]
  },
  {
   "cell_type": "code",
   "execution_count": 88,
   "metadata": {},
   "outputs": [],
   "source": [
    "svm = SVC(gamma='auto')\n",
    "trained_model_svm = svm.fit(X_train, y_train)\n",
    "predictions_svm = trained_model_svm.predict(X_test)\n",
    "\n",
    "Train_accuracy_svm = accuracy_score(y_train,trained_model_svm.predict(X_train))\n",
    "Test_accuracy_svm = accuracy_score(y_test, predictions_svm)\n",
    "Confusion_matrix_svm = confusion_matrix(y_test,predictions_svm)"
   ]
  },
  {
   "cell_type": "code",
   "execution_count": 89,
   "metadata": {},
   "outputs": [
    {
     "data": {
      "text/plain": [
       "0.6809133489461359"
      ]
     },
     "execution_count": 89,
     "metadata": {},
     "output_type": "execute_result"
    }
   ],
   "source": [
    "Train_accuracy_svm"
   ]
  },
  {
   "cell_type": "code",
   "execution_count": 90,
   "metadata": {},
   "outputs": [
    {
     "data": {
      "text/plain": [
       "0.6311475409836066"
      ]
     },
     "execution_count": 90,
     "metadata": {},
     "output_type": "execute_result"
    }
   ],
   "source": [
    "Test_accuracy_svm"
   ]
  },
  {
   "cell_type": "code",
   "execution_count": 91,
   "metadata": {},
   "outputs": [
    {
     "data": {
      "text/plain": [
       "array([[458, 254],\n",
       "       [286, 466]], dtype=int64)"
      ]
     },
     "execution_count": 91,
     "metadata": {},
     "output_type": "execute_result"
    }
   ],
   "source": [
    "Confusion_matrix_svm"
   ]
  },
  {
   "cell_type": "markdown",
   "metadata": {},
   "source": [
    "### RandomForest"
   ]
  },
  {
   "cell_type": "code",
   "execution_count": 92,
   "metadata": {},
   "outputs": [],
   "source": [
    "rf = RandomForestClassifier(n_estimators=10)\n",
    "trained_model_rf = rf.fit(X_train, y_train)\n",
    "predictions_rf = trained_model_rf.predict(X_test)\n",
    "\n",
    "Train_accuracy_rf = accuracy_score(y_train, trained_model_rf.predict(X_train))\n",
    "Test_accuracy_rf = accuracy_score(y_test, predictions_rf)\n",
    "Confusion_matrix_rf = confusion_matrix(y_test, predictions_rf)"
   ]
  },
  {
   "cell_type": "code",
   "execution_count": 93,
   "metadata": {},
   "outputs": [
    {
     "data": {
      "text/plain": [
       "0.9812646370023419"
      ]
     },
     "execution_count": 93,
     "metadata": {},
     "output_type": "execute_result"
    }
   ],
   "source": [
    "Train_accuracy_rf"
   ]
  },
  {
   "cell_type": "code",
   "execution_count": 94,
   "metadata": {},
   "outputs": [
    {
     "data": {
      "text/plain": [
       "0.5717213114754098"
      ]
     },
     "execution_count": 94,
     "metadata": {},
     "output_type": "execute_result"
    }
   ],
   "source": [
    "Test_accuracy_rf"
   ]
  },
  {
   "cell_type": "code",
   "execution_count": 95,
   "metadata": {},
   "outputs": [
    {
     "data": {
      "text/plain": [
       "array([[465, 247],\n",
       "       [380, 372]], dtype=int64)"
      ]
     },
     "execution_count": 95,
     "metadata": {},
     "output_type": "execute_result"
    }
   ],
   "source": [
    "Confusion_matrix_rf"
   ]
  },
  {
   "cell_type": "markdown",
   "metadata": {},
   "source": [
    "### KNN"
   ]
  },
  {
   "cell_type": "code",
   "execution_count": 96,
   "metadata": {},
   "outputs": [],
   "source": [
    "knn = KNeighborsClassifier(n_neighbors=5)\n",
    "trained_model_knn = knn.fit(X_train, y_train)\n",
    "predictions_knn = trained_model_knn.predict(X_test)\n",
    "\n",
    "Train_accuracy_knn = accuracy_score(y_train, trained_model_knn.predict(X_train))\n",
    "Test_accuracy_knn = accuracy_score(y_test, predictions_knn)\n",
    "Confusion_matrix_knn = confusion_matrix(y_test, predictions_knn)"
   ]
  },
  {
   "cell_type": "code",
   "execution_count": 97,
   "metadata": {},
   "outputs": [
    {
     "data": {
      "text/plain": [
       "0.7137002341920374"
      ]
     },
     "execution_count": 97,
     "metadata": {},
     "output_type": "execute_result"
    }
   ],
   "source": [
    "Train_accuracy_knn"
   ]
  },
  {
   "cell_type": "code",
   "execution_count": 98,
   "metadata": {},
   "outputs": [
    {
     "data": {
      "text/plain": [
       "0.5532786885245902"
      ]
     },
     "execution_count": 98,
     "metadata": {},
     "output_type": "execute_result"
    }
   ],
   "source": [
    "Test_accuracy_knn"
   ]
  },
  {
   "cell_type": "code",
   "execution_count": 99,
   "metadata": {},
   "outputs": [
    {
     "data": {
      "text/plain": [
       "array([[408, 304],\n",
       "       [350, 402]], dtype=int64)"
      ]
     },
     "execution_count": 99,
     "metadata": {},
     "output_type": "execute_result"
    }
   ],
   "source": [
    "Confusion_matrix_knn"
   ]
  },
  {
   "cell_type": "markdown",
   "metadata": {},
   "source": [
    "### XGBoost"
   ]
  },
  {
   "cell_type": "code",
   "execution_count": 100,
   "metadata": {},
   "outputs": [
    {
     "name": "stdout",
     "output_type": "stream",
     "text": [
      "[23:50:11] WARNING: C:/Users/Administrator/workspace/xgboost-win64_release_1.5.0/src/learner.cc:1115: Starting in XGBoost 1.3.0, the default evaluation metric used with the objective 'binary:logistic' was changed from 'error' to 'logloss'. Explicitly set eval_metric if you'd like to restore the old behavior.\n"
     ]
    }
   ],
   "source": [
    "xgb = XGBClassifier(use_label_encoder=False)\n",
    "trained_model_xgb = xgb.fit(X_train, y_train)\n",
    "predictions_xgb = trained_model_xgb.predict(X_test)\n",
    "\n",
    "Train_accuracy_xgb = accuracy_score(y_train, trained_model_xgb.predict(X_train))\n",
    "Test_accuracy_xgb = accuracy_score(y_test, predictions_xgb)\n",
    "Confusion_matrix_xgb = confusion_matrix(y_test, predictions_xgb)"
   ]
  },
  {
   "cell_type": "code",
   "execution_count": 101,
   "metadata": {},
   "outputs": [
    {
     "data": {
      "text/plain": [
       "0.9947306791569087"
      ]
     },
     "execution_count": 101,
     "metadata": {},
     "output_type": "execute_result"
    }
   ],
   "source": [
    "Train_accuracy_xgb"
   ]
  },
  {
   "cell_type": "code",
   "execution_count": 102,
   "metadata": {},
   "outputs": [
    {
     "data": {
      "text/plain": [
       "0.6161202185792349"
      ]
     },
     "execution_count": 102,
     "metadata": {},
     "output_type": "execute_result"
    }
   ],
   "source": [
    "Test_accuracy_xgb"
   ]
  },
  {
   "cell_type": "code",
   "execution_count": 103,
   "metadata": {},
   "outputs": [
    {
     "data": {
      "text/plain": [
       "array([[419, 293],\n",
       "       [269, 483]], dtype=int64)"
      ]
     },
     "execution_count": 103,
     "metadata": {},
     "output_type": "execute_result"
    }
   ],
   "source": [
    "Confusion_matrix_xgb"
   ]
  },
  {
   "cell_type": "code",
   "execution_count": 104,
   "metadata": {},
   "outputs": [
    {
     "data": {
      "text/plain": [
       "array([1, 1, 1, 1, 1, 1, 1, 1, 1, 0, 1, 1, 1, 0, 0, 1, 0, 0, 0, 1, 1, 0,\n",
       "       0, 0, 0, 1, 1, 0, 1, 1, 1, 1, 1, 1, 1, 1, 1, 1, 1, 1, 1, 1, 1, 1,\n",
       "       1, 1, 1, 1, 1, 1, 1, 1, 0, 0, 1, 0, 0, 0, 1, 1, 1, 1, 0, 1, 1, 0,\n",
       "       1, 1, 0, 0, 0, 1, 1, 0, 0, 1, 0, 1, 0, 0, 0, 1, 0, 0, 1, 0, 1, 1,\n",
       "       0, 0, 1, 0, 0, 1, 0, 0, 0, 1, 1, 0])"
      ]
     },
     "execution_count": 104,
     "metadata": {},
     "output_type": "execute_result"
    }
   ],
   "source": [
    "predictions_xgb_100 = trained_model_xgb.predict(last100)\n",
    "predictions_xgb_100"
   ]
  },
  {
   "cell_type": "markdown",
   "metadata": {},
   "source": [
    "## KFold cross validation\n",
    "### Basic example"
   ]
  },
  {
   "cell_type": "code",
   "execution_count": null,
   "metadata": {},
   "outputs": [],
   "source": [
    "from sklearn.model_selection import cross_val_score\n",
    "\n",
    "cross_val_score(LogisticRegression(solver='liblinear',multi_class='ovr'), complete_data, target, cv=10)"
   ]
  },
  {
   "cell_type": "code",
   "execution_count": null,
   "metadata": {},
   "outputs": [],
   "source": [
    "cross_val_score(SVC(gamma='auto'), complete_data, target, cv=10)"
   ]
  },
  {
   "cell_type": "code",
   "execution_count": null,
   "metadata": {},
   "outputs": [],
   "source": [
    "cross_val_score(RandomForestClassifier(n_estimators=5), complete_data, target, cv=10)"
   ]
  },
  {
   "cell_type": "code",
   "execution_count": null,
   "metadata": {},
   "outputs": [],
   "source": [
    "cross_val_score(KNeighborsClassifier(n_neighbors=5), complete_data, target, cv=10)"
   ]
  },
  {
   "cell_type": "code",
   "execution_count": null,
   "metadata": {},
   "outputs": [],
   "source": [
    "cross_val_score(XGBClassifier(use_label_encoder=False), complete_data, target, cv=10)"
   ]
  },
  {
   "cell_type": "code",
   "execution_count": null,
   "metadata": {},
   "outputs": [],
   "source": []
  },
  {
   "cell_type": "code",
   "execution_count": null,
   "metadata": {},
   "outputs": [],
   "source": []
  }
 ],
 "metadata": {
  "kernelspec": {
   "display_name": "Python 3",
   "language": "python",
   "name": "python3"
  },
  "language_info": {
   "codemirror_mode": {
    "name": "ipython",
    "version": 3
   },
   "file_extension": ".py",
   "mimetype": "text/x-python",
   "name": "python",
   "nbconvert_exporter": "python",
   "pygments_lexer": "ipython3",
   "version": "3.8.5"
  }
 },
 "nbformat": 4,
 "nbformat_minor": 4
}
