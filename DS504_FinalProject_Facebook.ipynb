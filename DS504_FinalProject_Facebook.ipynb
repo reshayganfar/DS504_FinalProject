{
 "cells": [
  {
   "cell_type": "code",
   "execution_count": 1,
   "metadata": {},
   "outputs": [],
   "source": [
    "import numpy as np\n",
    "import pandas as pd\n",
    "import ta\n",
    "import seaborn as sn\n",
    "import matplotlib.pyplot as plt\n",
    "\n",
    "from sklearn.ensemble import RandomForestClassifier\n",
    "from sklearn.linear_model import LogisticRegression\n",
    "from sklearn.neighbors import KNeighborsClassifier\n",
    "from sklearn.svm import SVC\n",
    "from xgboost import XGBClassifier\n",
    "\n",
    "from ta import add_all_ta_features\n",
    "from ta import momentum\n",
    "from ta.utils import dropna"
   ]
  },
  {
   "cell_type": "code",
   "execution_count": 2,
   "metadata": {},
   "outputs": [],
   "source": [
    "#pip install xgboost"
   ]
  },
  {
   "cell_type": "code",
   "execution_count": 3,
   "metadata": {},
   "outputs": [
    {
     "name": "stdout",
     "output_type": "stream",
     "text": [
      "Requirement already satisfied: autofeat in c:\\users\\rshay\\anaconda3\\lib\\site-packages (2.0.10)\n",
      "Requirement already satisfied: future in c:\\users\\rshay\\anaconda3\\lib\\site-packages (from autofeat) (0.18.2)\n",
      "Requirement already satisfied: numba in c:\\users\\rshay\\anaconda3\\lib\\site-packages (from autofeat) (0.51.2)\n",
      "Requirement already satisfied: joblib in c:\\users\\rshay\\anaconda3\\lib\\site-packages (from autofeat) (0.17.0)\n",
      "Requirement already satisfied: pandas>=0.24.0 in c:\\users\\rshay\\anaconda3\\lib\\site-packages (from autofeat) (1.1.3)\n",
      "Requirement already satisfied: numpy in c:\\users\\rshay\\anaconda3\\lib\\site-packages (from autofeat) (1.19.2)\n",
      "Requirement already satisfied: sympy>=1.7.1 in c:\\users\\rshay\\anaconda3\\lib\\site-packages (from autofeat) (1.9)\n",
      "Requirement already satisfied: pint in c:\\users\\rshay\\anaconda3\\lib\\site-packages (from autofeat) (0.18)\n",
      "Requirement already satisfied: scikit-learn in c:\\users\\rshay\\anaconda3\\lib\\site-packages (from autofeat) (0.23.2)\n",
      "Requirement already satisfied: llvmlite<0.35,>=0.34.0.dev0 in c:\\users\\rshay\\anaconda3\\lib\\site-packages (from numba->autofeat) (0.34.0)\n",
      "Requirement already satisfied: setuptools in c:\\users\\rshay\\anaconda3\\lib\\site-packages (from numba->autofeat) (50.3.1.post20201107)\n",
      "Requirement already satisfied: python-dateutil>=2.7.3 in c:\\users\\rshay\\anaconda3\\lib\\site-packages (from pandas>=0.24.0->autofeat) (2.8.1)\n",
      "Requirement already satisfied: pytz>=2017.2 in c:\\users\\rshay\\anaconda3\\lib\\site-packages (from pandas>=0.24.0->autofeat) (2020.1)\n",
      "Requirement already satisfied: mpmath>=0.19 in c:\\users\\rshay\\anaconda3\\lib\\site-packages (from sympy>=1.7.1->autofeat) (1.1.0)\n",
      "Requirement already satisfied: packaging in c:\\users\\rshay\\anaconda3\\lib\\site-packages (from pint->autofeat) (20.4)\n",
      "Requirement already satisfied: scipy>=0.19.1 in c:\\users\\rshay\\anaconda3\\lib\\site-packages (from scikit-learn->autofeat) (1.5.2)\n",
      "Requirement already satisfied: threadpoolctl>=2.0.0 in c:\\users\\rshay\\anaconda3\\lib\\site-packages (from scikit-learn->autofeat) (2.1.0)\n",
      "Requirement already satisfied: six>=1.5 in c:\\users\\rshay\\anaconda3\\lib\\site-packages (from python-dateutil>=2.7.3->pandas>=0.24.0->autofeat) (1.15.0)\n",
      "Requirement already satisfied: pyparsing>=2.0.2 in c:\\users\\rshay\\anaconda3\\lib\\site-packages (from packaging->pint->autofeat) (2.4.7)\n",
      "Note: you may need to restart the kernel to use updated packages.\n"
     ]
    }
   ],
   "source": [
    "pip install autofeat"
   ]
  },
  {
   "cell_type": "code",
   "execution_count": 4,
   "metadata": {},
   "outputs": [],
   "source": [
    "def get_data(company_symbol):\n",
    "    return pd.read_csv(\"dataset/\"+company_symbol+\".csv\")"
   ]
  },
  {
   "cell_type": "code",
   "execution_count": 5,
   "metadata": {},
   "outputs": [
    {
     "data": {
      "text/html": [
       "<div>\n",
       "<style scoped>\n",
       "    .dataframe tbody tr th:only-of-type {\n",
       "        vertical-align: middle;\n",
       "    }\n",
       "\n",
       "    .dataframe tbody tr th {\n",
       "        vertical-align: top;\n",
       "    }\n",
       "\n",
       "    .dataframe thead th {\n",
       "        text-align: right;\n",
       "    }\n",
       "</style>\n",
       "<table border=\"1\" class=\"dataframe\">\n",
       "  <thead>\n",
       "    <tr style=\"text-align: right;\">\n",
       "      <th></th>\n",
       "      <th>Date</th>\n",
       "      <th>Open</th>\n",
       "      <th>High</th>\n",
       "      <th>Low</th>\n",
       "      <th>Close</th>\n",
       "      <th>Adj Close</th>\n",
       "      <th>Volume</th>\n",
       "    </tr>\n",
       "  </thead>\n",
       "  <tbody>\n",
       "    <tr>\n",
       "      <th>0</th>\n",
       "      <td>5/18/2012</td>\n",
       "      <td>42.049999</td>\n",
       "      <td>45.000000</td>\n",
       "      <td>38.000000</td>\n",
       "      <td>38.230000</td>\n",
       "      <td>38.230000</td>\n",
       "      <td>573576400</td>\n",
       "    </tr>\n",
       "    <tr>\n",
       "      <th>1</th>\n",
       "      <td>5/21/2012</td>\n",
       "      <td>36.529999</td>\n",
       "      <td>36.660000</td>\n",
       "      <td>33.000000</td>\n",
       "      <td>34.029999</td>\n",
       "      <td>34.029999</td>\n",
       "      <td>168192700</td>\n",
       "    </tr>\n",
       "    <tr>\n",
       "      <th>2</th>\n",
       "      <td>5/22/2012</td>\n",
       "      <td>32.610001</td>\n",
       "      <td>33.590000</td>\n",
       "      <td>30.940001</td>\n",
       "      <td>31.000000</td>\n",
       "      <td>31.000000</td>\n",
       "      <td>101786600</td>\n",
       "    </tr>\n",
       "    <tr>\n",
       "      <th>3</th>\n",
       "      <td>5/23/2012</td>\n",
       "      <td>31.370001</td>\n",
       "      <td>32.500000</td>\n",
       "      <td>31.360001</td>\n",
       "      <td>32.000000</td>\n",
       "      <td>32.000000</td>\n",
       "      <td>73600000</td>\n",
       "    </tr>\n",
       "    <tr>\n",
       "      <th>4</th>\n",
       "      <td>5/24/2012</td>\n",
       "      <td>32.950001</td>\n",
       "      <td>33.209999</td>\n",
       "      <td>31.770000</td>\n",
       "      <td>33.029999</td>\n",
       "      <td>33.029999</td>\n",
       "      <td>50237200</td>\n",
       "    </tr>\n",
       "    <tr>\n",
       "      <th>...</th>\n",
       "      <td>...</td>\n",
       "      <td>...</td>\n",
       "      <td>...</td>\n",
       "      <td>...</td>\n",
       "      <td>...</td>\n",
       "      <td>...</td>\n",
       "      <td>...</td>\n",
       "    </tr>\n",
       "    <tr>\n",
       "      <th>2374</th>\n",
       "      <td>10/25/2021</td>\n",
       "      <td>320.299988</td>\n",
       "      <td>329.559998</td>\n",
       "      <td>319.720001</td>\n",
       "      <td>328.690002</td>\n",
       "      <td>328.690002</td>\n",
       "      <td>38409000</td>\n",
       "    </tr>\n",
       "    <tr>\n",
       "      <th>2375</th>\n",
       "      <td>10/26/2021</td>\n",
       "      <td>328.260010</td>\n",
       "      <td>330.209991</td>\n",
       "      <td>309.600006</td>\n",
       "      <td>315.809998</td>\n",
       "      <td>315.809998</td>\n",
       "      <td>65654000</td>\n",
       "    </tr>\n",
       "    <tr>\n",
       "      <th>2376</th>\n",
       "      <td>10/27/2021</td>\n",
       "      <td>314.190002</td>\n",
       "      <td>319.250000</td>\n",
       "      <td>312.059998</td>\n",
       "      <td>312.220001</td>\n",
       "      <td>312.220001</td>\n",
       "      <td>29971800</td>\n",
       "    </tr>\n",
       "    <tr>\n",
       "      <th>2377</th>\n",
       "      <td>10/28/2021</td>\n",
       "      <td>312.989990</td>\n",
       "      <td>325.519989</td>\n",
       "      <td>308.109985</td>\n",
       "      <td>316.920013</td>\n",
       "      <td>316.920013</td>\n",
       "      <td>50806800</td>\n",
       "    </tr>\n",
       "    <tr>\n",
       "      <th>2378</th>\n",
       "      <td>10/29/2021</td>\n",
       "      <td>320.190002</td>\n",
       "      <td>326.000000</td>\n",
       "      <td>319.600006</td>\n",
       "      <td>323.570007</td>\n",
       "      <td>323.570007</td>\n",
       "      <td>37027000</td>\n",
       "    </tr>\n",
       "  </tbody>\n",
       "</table>\n",
       "<p>2379 rows × 7 columns</p>\n",
       "</div>"
      ],
      "text/plain": [
       "            Date        Open        High         Low       Close   Adj Close  \\\n",
       "0      5/18/2012   42.049999   45.000000   38.000000   38.230000   38.230000   \n",
       "1      5/21/2012   36.529999   36.660000   33.000000   34.029999   34.029999   \n",
       "2      5/22/2012   32.610001   33.590000   30.940001   31.000000   31.000000   \n",
       "3      5/23/2012   31.370001   32.500000   31.360001   32.000000   32.000000   \n",
       "4      5/24/2012   32.950001   33.209999   31.770000   33.029999   33.029999   \n",
       "...          ...         ...         ...         ...         ...         ...   \n",
       "2374  10/25/2021  320.299988  329.559998  319.720001  328.690002  328.690002   \n",
       "2375  10/26/2021  328.260010  330.209991  309.600006  315.809998  315.809998   \n",
       "2376  10/27/2021  314.190002  319.250000  312.059998  312.220001  312.220001   \n",
       "2377  10/28/2021  312.989990  325.519989  308.109985  316.920013  316.920013   \n",
       "2378  10/29/2021  320.190002  326.000000  319.600006  323.570007  323.570007   \n",
       "\n",
       "         Volume  \n",
       "0     573576400  \n",
       "1     168192700  \n",
       "2     101786600  \n",
       "3      73600000  \n",
       "4      50237200  \n",
       "...         ...  \n",
       "2374   38409000  \n",
       "2375   65654000  \n",
       "2376   29971800  \n",
       "2377   50806800  \n",
       "2378   37027000  \n",
       "\n",
       "[2379 rows x 7 columns]"
      ]
     },
     "execution_count": 5,
     "metadata": {},
     "output_type": "execute_result"
    }
   ],
   "source": [
    "data = get_data(\"FB\")\n",
    "data"
   ]
  },
  {
   "cell_type": "code",
   "execution_count": 6,
   "metadata": {},
   "outputs": [
    {
     "data": {
      "text/plain": [
       "Date          object\n",
       "Open         float64\n",
       "High         float64\n",
       "Low          float64\n",
       "Close        float64\n",
       "Adj Close    float64\n",
       "Volume         int64\n",
       "dtype: object"
      ]
     },
     "execution_count": 6,
     "metadata": {},
     "output_type": "execute_result"
    }
   ],
   "source": [
    "data.dtypes"
   ]
  },
  {
   "cell_type": "code",
   "execution_count": 7,
   "metadata": {},
   "outputs": [
    {
     "data": {
      "text/plain": [
       "Date         False\n",
       "Open         False\n",
       "High         False\n",
       "Low          False\n",
       "Close        False\n",
       "Adj Close    False\n",
       "Volume       False\n",
       "dtype: bool"
      ]
     },
     "execution_count": 7,
     "metadata": {},
     "output_type": "execute_result"
    }
   ],
   "source": [
    "data.isna().any()"
   ]
  },
  {
   "cell_type": "code",
   "execution_count": 8,
   "metadata": {},
   "outputs": [
    {
     "data": {
      "text/html": [
       "<div>\n",
       "<style scoped>\n",
       "    .dataframe tbody tr th:only-of-type {\n",
       "        vertical-align: middle;\n",
       "    }\n",
       "\n",
       "    .dataframe tbody tr th {\n",
       "        vertical-align: top;\n",
       "    }\n",
       "\n",
       "    .dataframe thead th {\n",
       "        text-align: right;\n",
       "    }\n",
       "</style>\n",
       "<table border=\"1\" class=\"dataframe\">\n",
       "  <thead>\n",
       "    <tr style=\"text-align: right;\">\n",
       "      <th></th>\n",
       "    </tr>\n",
       "  </thead>\n",
       "  <tbody>\n",
       "    <tr>\n",
       "      <th>0</th>\n",
       "    </tr>\n",
       "    <tr>\n",
       "      <th>1</th>\n",
       "    </tr>\n",
       "    <tr>\n",
       "      <th>2</th>\n",
       "    </tr>\n",
       "    <tr>\n",
       "      <th>3</th>\n",
       "    </tr>\n",
       "    <tr>\n",
       "      <th>4</th>\n",
       "    </tr>\n",
       "    <tr>\n",
       "      <th>...</th>\n",
       "    </tr>\n",
       "    <tr>\n",
       "      <th>2374</th>\n",
       "    </tr>\n",
       "    <tr>\n",
       "      <th>2375</th>\n",
       "    </tr>\n",
       "    <tr>\n",
       "      <th>2376</th>\n",
       "    </tr>\n",
       "    <tr>\n",
       "      <th>2377</th>\n",
       "    </tr>\n",
       "    <tr>\n",
       "      <th>2378</th>\n",
       "    </tr>\n",
       "  </tbody>\n",
       "</table>\n",
       "<p>2379 rows × 0 columns</p>\n",
       "</div>"
      ],
      "text/plain": [
       "Empty DataFrame\n",
       "Columns: []\n",
       "Index: [0, 1, 2, 3, 4, 5, 6, 7, 8, 9, 10, 11, 12, 13, 14, 15, 16, 17, 18, 19, 20, 21, 22, 23, 24, 25, 26, 27, 28, 29, 30, 31, 32, 33, 34, 35, 36, 37, 38, 39, 40, 41, 42, 43, 44, 45, 46, 47, 48, 49, 50, 51, 52, 53, 54, 55, 56, 57, 58, 59, 60, 61, 62, 63, 64, 65, 66, 67, 68, 69, 70, 71, 72, 73, 74, 75, 76, 77, 78, 79, 80, 81, 82, 83, 84, 85, 86, 87, 88, 89, 90, 91, 92, 93, 94, 95, 96, 97, 98, 99, ...]\n",
       "\n",
       "[2379 rows x 0 columns]"
      ]
     },
     "execution_count": 8,
     "metadata": {},
     "output_type": "execute_result"
    }
   ],
   "source": [
    "data[data.columns[data.isna().any()]]"
   ]
  },
  {
   "cell_type": "code",
   "execution_count": 9,
   "metadata": {},
   "outputs": [
    {
     "name": "stdout",
     "output_type": "stream",
     "text": [
      "            Date        Open        High         Low       Close   Adj Close  \\\n",
      "0      5/18/2012   42.049999   45.000000   38.000000   38.230000   38.230000   \n",
      "1      5/21/2012   36.529999   36.660000   33.000000   34.029999   34.029999   \n",
      "2      5/22/2012   32.610001   33.590000   30.940001   31.000000   31.000000   \n",
      "3      5/23/2012   31.370001   32.500000   31.360001   32.000000   32.000000   \n",
      "4      5/24/2012   32.950001   33.209999   31.770000   33.029999   33.029999   \n",
      "...          ...         ...         ...         ...         ...         ...   \n",
      "2374  10/25/2021  320.299988  329.559998  319.720001  328.690002  328.690002   \n",
      "2375  10/26/2021  328.260010  330.209991  309.600006  315.809998  315.809998   \n",
      "2376  10/27/2021  314.190002  319.250000  312.059998  312.220001  312.220001   \n",
      "2377  10/28/2021  312.989990  325.519989  308.109985  316.920013  316.920013   \n",
      "2378  10/29/2021  320.190002  326.000000  319.600006  323.570007  323.570007   \n",
      "\n",
      "         Volume  cond1  cond2  cond3  \n",
      "0     573576400  False  False  False  \n",
      "1     168192700  False  False  False  \n",
      "2     101786600  False  False  False  \n",
      "3      73600000  False  False  False  \n",
      "4      50237200  False  False  False  \n",
      "...         ...    ...    ...    ...  \n",
      "2374   38409000  False  False  False  \n",
      "2375   65654000  False  False  False  \n",
      "2376   29971800  False  False  False  \n",
      "2377   50806800  False  False  False  \n",
      "2378   37027000  False  False  False  \n",
      "\n",
      "[2379 rows x 10 columns]\n"
     ]
    }
   ],
   "source": [
    "cond1 = data.Date.isna() # aapl['Date'].isna()\n",
    "cond2 = data.Date.str.contains(r'^\\s*$', na=False)\n",
    "cond3 = data.Date == ''\n",
    "\n",
    "data_checked = data.assign(cond1= cond1, cond2= cond2, cond3= cond3)\n",
    "print (data_checked)"
   ]
  },
  {
   "cell_type": "code",
   "execution_count": 10,
   "metadata": {},
   "outputs": [],
   "source": [
    "def simple_moving_average_5(close):\n",
    "    return close.rolling(5, min_periods=1).mean()"
   ]
  },
  {
   "cell_type": "code",
   "execution_count": 11,
   "metadata": {},
   "outputs": [],
   "source": [
    "def simple_moving_average_10(close):\n",
    "    return close.rolling(10, min_periods=1).mean()"
   ]
  },
  {
   "cell_type": "code",
   "execution_count": 12,
   "metadata": {},
   "outputs": [],
   "source": [
    "def stochastic_k(high, low, close):\n",
    "    return (((close-low.rolling(14).min())/(high.rolling(14).max()-low.rolling(14).min()))*100)"
   ]
  },
  {
   "cell_type": "code",
   "execution_count": 13,
   "metadata": {},
   "outputs": [],
   "source": [
    "def stochastic_d(stochastic_k):\n",
    "    return stochastic_k.rolling(3,min_periods=1).mean()"
   ]
  },
  {
   "cell_type": "code",
   "execution_count": 14,
   "metadata": {},
   "outputs": [],
   "source": [
    "def larry_williams_r(high, low, close):\n",
    "    return (((high.rolling(14).max()-close)/(high.rolling(14).max()-low.rolling(14).min()))*100)"
   ]
  },
  {
   "cell_type": "code",
   "execution_count": 15,
   "metadata": {},
   "outputs": [],
   "source": [
    "def rate_of_change(close):\n",
    "    return ((close-close.shift(12))/close.shift(12))"
   ]
  },
  {
   "cell_type": "code",
   "execution_count": 16,
   "metadata": {},
   "outputs": [],
   "source": [
    "def price_volume_trend(close, volume):\n",
    "    return (((close-close.shift(1))/close.shift(1))*volume)"
   ]
  },
  {
   "cell_type": "code",
   "execution_count": 17,
   "metadata": {},
   "outputs": [],
   "source": [
    "def accumulation_distribution_oscillator(high, low, close):\n",
    "    return((high-close.shift(1))/(high-low))"
   ]
  },
  {
   "cell_type": "code",
   "execution_count": 18,
   "metadata": {},
   "outputs": [],
   "source": [
    "def weighted_moving_average_10(close):\n",
    "    return ((10*close+9*close.shift(1)+8*close.shift(2)+7*close.shift(3)\n",
    "             +6*close.shift(4)+5*close.shift(5)+4*close.shift(6)+3*close.shift(7)\n",
    "             +2*close.shift(8)+close.shift(9))/(10+9+8+7+6+5+4+3+2+1))"
   ]
  },
  {
   "cell_type": "code",
   "execution_count": 19,
   "metadata": {},
   "outputs": [],
   "source": [
    "def exponential_moving_average_12(close):\n",
    "    return (close.ewm(span=12, adjust=False).mean())"
   ]
  },
  {
   "cell_type": "code",
   "execution_count": 20,
   "metadata": {},
   "outputs": [],
   "source": [
    "def exponential_moving_average_26(close):\n",
    "    return (close.ewm(span=26, adjust=False).mean())"
   ]
  },
  {
   "cell_type": "code",
   "execution_count": 21,
   "metadata": {},
   "outputs": [],
   "source": [
    "def moving_average_convergence_divergence(ema_12, ema_26):\n",
    "    return (ema_12 - ema_26)"
   ]
  },
  {
   "cell_type": "code",
   "execution_count": 22,
   "metadata": {},
   "outputs": [],
   "source": [
    "def momentum(close):\n",
    "    return ((close/close.shift(14))*100)"
   ]
  },
  {
   "cell_type": "code",
   "execution_count": 23,
   "metadata": {},
   "outputs": [],
   "source": [
    "def change(close):\n",
    "    return (close.shift(-1) - close)"
   ]
  },
  {
   "cell_type": "code",
   "execution_count": 24,
   "metadata": {},
   "outputs": [],
   "source": [
    "def direction(change):\n",
    "    return (np.where(change>0, 1, 0))"
   ]
  },
  {
   "cell_type": "code",
   "execution_count": 25,
   "metadata": {},
   "outputs": [],
   "source": [
    "def relative_strength_index(direction):\n",
    "    return (100-(100/(1+(direction.rolling(14).sum()/14)/(14-direction.rolling(14).sum())/14)))"
   ]
  },
  {
   "cell_type": "code",
   "execution_count": 26,
   "metadata": {},
   "outputs": [],
   "source": [
    "def channel_commodity_index(df, ndays): \n",
    "    df['TP'] = (df['High'] + df['Low'] + df['Close']) / 3 \n",
    "    df['sma'] = df['TP'].rolling(ndays).mean()\n",
    "    df['mad'] = df['TP'].rolling(ndays).apply(lambda x: pd.Series(x).mad())\n",
    "    df['CCI'] = (df['TP'] - df['sma']) / (0.015 * df['mad']) \n",
    "    return df['CCI']"
   ]
  },
  {
   "cell_type": "code",
   "execution_count": 27,
   "metadata": {},
   "outputs": [],
   "source": [
    "def disparity_index(close):\n",
    "    return (((close - close.rolling(14).mean())/(close.rolling(14).mean()))*100)"
   ]
  },
  {
   "cell_type": "code",
   "execution_count": 28,
   "metadata": {},
   "outputs": [],
   "source": [
    "def get_adx(high, low, close, lookback):\n",
    "    plus_dm = high.diff()\n",
    "    minus_dm = low.diff()\n",
    "    plus_dm[plus_dm < 0] = 0\n",
    "    minus_dm[minus_dm > 0] = 0\n",
    "    \n",
    "    tr1 = pd.DataFrame(high - low)\n",
    "    tr2 = pd.DataFrame(abs(high - close.shift(1)))\n",
    "    tr3 = pd.DataFrame(abs(low - close.shift(1)))\n",
    "    frames = [tr1, tr2, tr3]\n",
    "    tr = pd.concat(frames, axis = 1, join = 'inner').max(axis = 1)\n",
    "    atr = tr.rolling(lookback).mean()\n",
    "    \n",
    "    plus_di = 100 * (plus_dm.ewm(alpha = 1/lookback).mean() / atr)\n",
    "    minus_di = abs(100 * (minus_dm.ewm(alpha = 1/lookback).mean() / atr))\n",
    "    dx = (abs(plus_di - minus_di) / abs(plus_di + minus_di)) * 100\n",
    "    adx = ((dx.shift(1) * (lookback - 1)) + dx) / lookback\n",
    "    adx_smooth = adx.ewm(alpha = 1/lookback).mean()\n",
    "    return adx_smooth"
   ]
  },
  {
   "cell_type": "code",
   "execution_count": 29,
   "metadata": {},
   "outputs": [],
   "source": [
    "def aroon(close):\n",
    "    return (ta.trend.AroonIndicator(close, 25, True).aroon_indicator())"
   ]
  },
  {
   "cell_type": "code",
   "execution_count": 30,
   "metadata": {},
   "outputs": [],
   "source": [
    "def compute_all_indicators(data):\n",
    "    data['SMA5'] = simple_moving_average_5(data['Close'])\n",
    "    data['SMA10'] = simple_moving_average_10(data['Close'])\n",
    "    data['StochasticK'] = stochastic_k(data['High'], data['Low'], data['Close'])\n",
    "    data['StochasticD'] = stochastic_d(data['StochasticK'])\n",
    "    data['LarryWilliamsR'] = larry_williams_r(data['High'], data['Low'], data['Close'])\n",
    "    data['ROC'] = rate_of_change(data['Close'])\n",
    "    data['PVT'] = price_volume_trend(data['Close'], data['Volume'])\n",
    "    data['ADO'] = accumulation_distribution_oscillator(data['High'], data['Low'], data['Close'])\n",
    "    data['WMA10'] = weighted_moving_average_10(data['Close'])\n",
    "    data['EMA12'] = exponential_moving_average_12(data['Close'])\n",
    "    data['EMA26'] = exponential_moving_average_26(data['Close'])\n",
    "    data['MACD'] = moving_average_convergence_divergence(data['EMA12'], data['EMA26'])\n",
    "    data['Momentum'] = momentum(data['Close'])\n",
    "    data['Change'] = change(data['Close'])\n",
    "    data['Direction'] = direction(data['Change'])\n",
    "    data['RSI'] = relative_strength_index(data['Direction'])\n",
    "    data['CCI'] = channel_commodity_index(data, 14)\n",
    "    data['DI'] = disparity_index(data['Close'])\n",
    "    data['ADX'] = get_adx(data['High'], data['Low'], data['Close'], 14)\n",
    "    data['Aroon'] = aroon(data['Close'])    \n",
    "    return data"
   ]
  },
  {
   "cell_type": "code",
   "execution_count": 31,
   "metadata": {},
   "outputs": [
    {
     "data": {
      "text/html": [
       "<div>\n",
       "<style scoped>\n",
       "    .dataframe tbody tr th:only-of-type {\n",
       "        vertical-align: middle;\n",
       "    }\n",
       "\n",
       "    .dataframe tbody tr th {\n",
       "        vertical-align: top;\n",
       "    }\n",
       "\n",
       "    .dataframe thead th {\n",
       "        text-align: right;\n",
       "    }\n",
       "</style>\n",
       "<table border=\"1\" class=\"dataframe\">\n",
       "  <thead>\n",
       "    <tr style=\"text-align: right;\">\n",
       "      <th></th>\n",
       "      <th>Date</th>\n",
       "      <th>Open</th>\n",
       "      <th>High</th>\n",
       "      <th>Low</th>\n",
       "      <th>Close</th>\n",
       "      <th>Adj Close</th>\n",
       "      <th>Volume</th>\n",
       "      <th>SMA5</th>\n",
       "      <th>SMA10</th>\n",
       "      <th>StochasticK</th>\n",
       "      <th>...</th>\n",
       "      <th>Change</th>\n",
       "      <th>Direction</th>\n",
       "      <th>RSI</th>\n",
       "      <th>TP</th>\n",
       "      <th>sma</th>\n",
       "      <th>mad</th>\n",
       "      <th>CCI</th>\n",
       "      <th>DI</th>\n",
       "      <th>ADX</th>\n",
       "      <th>Aroon</th>\n",
       "    </tr>\n",
       "  </thead>\n",
       "  <tbody>\n",
       "    <tr>\n",
       "      <th>0</th>\n",
       "      <td>5/18/2012</td>\n",
       "      <td>42.049999</td>\n",
       "      <td>45.000000</td>\n",
       "      <td>38.000000</td>\n",
       "      <td>38.230000</td>\n",
       "      <td>38.230000</td>\n",
       "      <td>573576400</td>\n",
       "      <td>38.230000</td>\n",
       "      <td>38.230000</td>\n",
       "      <td>NaN</td>\n",
       "      <td>...</td>\n",
       "      <td>-4.200001</td>\n",
       "      <td>0</td>\n",
       "      <td>NaN</td>\n",
       "      <td>40.410000</td>\n",
       "      <td>NaN</td>\n",
       "      <td>NaN</td>\n",
       "      <td>NaN</td>\n",
       "      <td>NaN</td>\n",
       "      <td>NaN</td>\n",
       "      <td>0.0</td>\n",
       "    </tr>\n",
       "    <tr>\n",
       "      <th>1</th>\n",
       "      <td>5/21/2012</td>\n",
       "      <td>36.529999</td>\n",
       "      <td>36.660000</td>\n",
       "      <td>33.000000</td>\n",
       "      <td>34.029999</td>\n",
       "      <td>34.029999</td>\n",
       "      <td>168192700</td>\n",
       "      <td>36.129999</td>\n",
       "      <td>36.129999</td>\n",
       "      <td>NaN</td>\n",
       "      <td>...</td>\n",
       "      <td>-3.029999</td>\n",
       "      <td>0</td>\n",
       "      <td>NaN</td>\n",
       "      <td>34.563333</td>\n",
       "      <td>NaN</td>\n",
       "      <td>NaN</td>\n",
       "      <td>NaN</td>\n",
       "      <td>NaN</td>\n",
       "      <td>NaN</td>\n",
       "      <td>-4.0</td>\n",
       "    </tr>\n",
       "    <tr>\n",
       "      <th>2</th>\n",
       "      <td>5/22/2012</td>\n",
       "      <td>32.610001</td>\n",
       "      <td>33.590000</td>\n",
       "      <td>30.940001</td>\n",
       "      <td>31.000000</td>\n",
       "      <td>31.000000</td>\n",
       "      <td>101786600</td>\n",
       "      <td>34.420000</td>\n",
       "      <td>34.420000</td>\n",
       "      <td>NaN</td>\n",
       "      <td>...</td>\n",
       "      <td>1.000000</td>\n",
       "      <td>1</td>\n",
       "      <td>NaN</td>\n",
       "      <td>31.843334</td>\n",
       "      <td>NaN</td>\n",
       "      <td>NaN</td>\n",
       "      <td>NaN</td>\n",
       "      <td>NaN</td>\n",
       "      <td>NaN</td>\n",
       "      <td>-8.0</td>\n",
       "    </tr>\n",
       "    <tr>\n",
       "      <th>3</th>\n",
       "      <td>5/23/2012</td>\n",
       "      <td>31.370001</td>\n",
       "      <td>32.500000</td>\n",
       "      <td>31.360001</td>\n",
       "      <td>32.000000</td>\n",
       "      <td>32.000000</td>\n",
       "      <td>73600000</td>\n",
       "      <td>33.815000</td>\n",
       "      <td>33.815000</td>\n",
       "      <td>NaN</td>\n",
       "      <td>...</td>\n",
       "      <td>1.029999</td>\n",
       "      <td>1</td>\n",
       "      <td>NaN</td>\n",
       "      <td>31.953334</td>\n",
       "      <td>NaN</td>\n",
       "      <td>NaN</td>\n",
       "      <td>NaN</td>\n",
       "      <td>NaN</td>\n",
       "      <td>NaN</td>\n",
       "      <td>-8.0</td>\n",
       "    </tr>\n",
       "    <tr>\n",
       "      <th>4</th>\n",
       "      <td>5/24/2012</td>\n",
       "      <td>32.950001</td>\n",
       "      <td>33.209999</td>\n",
       "      <td>31.770000</td>\n",
       "      <td>33.029999</td>\n",
       "      <td>33.029999</td>\n",
       "      <td>50237200</td>\n",
       "      <td>33.658000</td>\n",
       "      <td>33.658000</td>\n",
       "      <td>NaN</td>\n",
       "      <td>...</td>\n",
       "      <td>-1.119999</td>\n",
       "      <td>0</td>\n",
       "      <td>NaN</td>\n",
       "      <td>32.669999</td>\n",
       "      <td>NaN</td>\n",
       "      <td>NaN</td>\n",
       "      <td>NaN</td>\n",
       "      <td>NaN</td>\n",
       "      <td>NaN</td>\n",
       "      <td>-8.0</td>\n",
       "    </tr>\n",
       "    <tr>\n",
       "      <th>...</th>\n",
       "      <td>...</td>\n",
       "      <td>...</td>\n",
       "      <td>...</td>\n",
       "      <td>...</td>\n",
       "      <td>...</td>\n",
       "      <td>...</td>\n",
       "      <td>...</td>\n",
       "      <td>...</td>\n",
       "      <td>...</td>\n",
       "      <td>...</td>\n",
       "      <td>...</td>\n",
       "      <td>...</td>\n",
       "      <td>...</td>\n",
       "      <td>...</td>\n",
       "      <td>...</td>\n",
       "      <td>...</td>\n",
       "      <td>...</td>\n",
       "      <td>...</td>\n",
       "      <td>...</td>\n",
       "      <td>...</td>\n",
       "      <td>...</td>\n",
       "    </tr>\n",
       "    <tr>\n",
       "      <th>2374</th>\n",
       "      <td>10/25/2021</td>\n",
       "      <td>320.299988</td>\n",
       "      <td>329.559998</td>\n",
       "      <td>319.720001</td>\n",
       "      <td>328.690002</td>\n",
       "      <td>328.690002</td>\n",
       "      <td>38409000</td>\n",
       "      <td>335.189996</td>\n",
       "      <td>331.288998</td>\n",
       "      <td>42.540399</td>\n",
       "      <td>...</td>\n",
       "      <td>-12.880004</td>\n",
       "      <td>0</td>\n",
       "      <td>0.675676</td>\n",
       "      <td>325.990000</td>\n",
       "      <td>330.581667</td>\n",
       "      <td>5.022143</td>\n",
       "      <td>-60.952286</td>\n",
       "      <td>-0.638920</td>\n",
       "      <td>32.451445</td>\n",
       "      <td>-60.0</td>\n",
       "    </tr>\n",
       "    <tr>\n",
       "      <th>2375</th>\n",
       "      <td>10/26/2021</td>\n",
       "      <td>328.260010</td>\n",
       "      <td>330.209991</td>\n",
       "      <td>309.600006</td>\n",
       "      <td>315.809998</td>\n",
       "      <td>315.809998</td>\n",
       "      <td>65654000</td>\n",
       "      <td>330.353998</td>\n",
       "      <td>330.492999</td>\n",
       "      <td>18.062801</td>\n",
       "      <td>...</td>\n",
       "      <td>-3.589997</td>\n",
       "      <td>0</td>\n",
       "      <td>0.675676</td>\n",
       "      <td>318.539998</td>\n",
       "      <td>329.672142</td>\n",
       "      <td>5.702925</td>\n",
       "      <td>-130.133739</td>\n",
       "      <td>-4.163506</td>\n",
       "      <td>32.635555</td>\n",
       "      <td>-84.0</td>\n",
       "    </tr>\n",
       "    <tr>\n",
       "      <th>2376</th>\n",
       "      <td>10/27/2021</td>\n",
       "      <td>314.190002</td>\n",
       "      <td>319.250000</td>\n",
       "      <td>312.059998</td>\n",
       "      <td>312.220001</td>\n",
       "      <td>312.220001</td>\n",
       "      <td>29971800</td>\n",
       "      <td>324.641998</td>\n",
       "      <td>329.260999</td>\n",
       "      <td>7.620694</td>\n",
       "      <td>...</td>\n",
       "      <td>4.700012</td>\n",
       "      <td>1</td>\n",
       "      <td>0.675676</td>\n",
       "      <td>314.510000</td>\n",
       "      <td>328.398095</td>\n",
       "      <td>6.276394</td>\n",
       "      <td>-147.516715</td>\n",
       "      <td>-4.902510</td>\n",
       "      <td>33.349941</td>\n",
       "      <td>-88.0</td>\n",
       "    </tr>\n",
       "    <tr>\n",
       "      <th>2377</th>\n",
       "      <td>10/28/2021</td>\n",
       "      <td>312.989990</td>\n",
       "      <td>325.519989</td>\n",
       "      <td>308.109985</td>\n",
       "      <td>316.920013</td>\n",
       "      <td>316.920013</td>\n",
       "      <td>50806800</td>\n",
       "      <td>319.650000</td>\n",
       "      <td>328.100000</td>\n",
       "      <td>24.560975</td>\n",
       "      <td>...</td>\n",
       "      <td>6.649994</td>\n",
       "      <td>1</td>\n",
       "      <td>0.910010</td>\n",
       "      <td>316.849996</td>\n",
       "      <td>327.407381</td>\n",
       "      <td>6.652347</td>\n",
       "      <td>-105.801103</td>\n",
       "      <td>-3.194426</td>\n",
       "      <td>33.965208</td>\n",
       "      <td>-88.0</td>\n",
       "    </tr>\n",
       "    <tr>\n",
       "      <th>2378</th>\n",
       "      <td>10/29/2021</td>\n",
       "      <td>320.190002</td>\n",
       "      <td>326.000000</td>\n",
       "      <td>319.600006</td>\n",
       "      <td>323.570007</td>\n",
       "      <td>323.570007</td>\n",
       "      <td>37027000</td>\n",
       "      <td>319.442004</td>\n",
       "      <td>327.981000</td>\n",
       "      <td>43.100114</td>\n",
       "      <td>...</td>\n",
       "      <td>NaN</td>\n",
       "      <td>0</td>\n",
       "      <td>0.910010</td>\n",
       "      <td>323.056671</td>\n",
       "      <td>327.120476</td>\n",
       "      <td>6.857279</td>\n",
       "      <td>-39.508433</td>\n",
       "      <td>-1.122578</td>\n",
       "      <td>33.906420</td>\n",
       "      <td>-88.0</td>\n",
       "    </tr>\n",
       "  </tbody>\n",
       "</table>\n",
       "<p>2379 rows × 30 columns</p>\n",
       "</div>"
      ],
      "text/plain": [
       "            Date        Open        High         Low       Close   Adj Close  \\\n",
       "0      5/18/2012   42.049999   45.000000   38.000000   38.230000   38.230000   \n",
       "1      5/21/2012   36.529999   36.660000   33.000000   34.029999   34.029999   \n",
       "2      5/22/2012   32.610001   33.590000   30.940001   31.000000   31.000000   \n",
       "3      5/23/2012   31.370001   32.500000   31.360001   32.000000   32.000000   \n",
       "4      5/24/2012   32.950001   33.209999   31.770000   33.029999   33.029999   \n",
       "...          ...         ...         ...         ...         ...         ...   \n",
       "2374  10/25/2021  320.299988  329.559998  319.720001  328.690002  328.690002   \n",
       "2375  10/26/2021  328.260010  330.209991  309.600006  315.809998  315.809998   \n",
       "2376  10/27/2021  314.190002  319.250000  312.059998  312.220001  312.220001   \n",
       "2377  10/28/2021  312.989990  325.519989  308.109985  316.920013  316.920013   \n",
       "2378  10/29/2021  320.190002  326.000000  319.600006  323.570007  323.570007   \n",
       "\n",
       "         Volume        SMA5       SMA10  StochasticK  ...     Change  \\\n",
       "0     573576400   38.230000   38.230000          NaN  ...  -4.200001   \n",
       "1     168192700   36.129999   36.129999          NaN  ...  -3.029999   \n",
       "2     101786600   34.420000   34.420000          NaN  ...   1.000000   \n",
       "3      73600000   33.815000   33.815000          NaN  ...   1.029999   \n",
       "4      50237200   33.658000   33.658000          NaN  ...  -1.119999   \n",
       "...         ...         ...         ...          ...  ...        ...   \n",
       "2374   38409000  335.189996  331.288998    42.540399  ... -12.880004   \n",
       "2375   65654000  330.353998  330.492999    18.062801  ...  -3.589997   \n",
       "2376   29971800  324.641998  329.260999     7.620694  ...   4.700012   \n",
       "2377   50806800  319.650000  328.100000    24.560975  ...   6.649994   \n",
       "2378   37027000  319.442004  327.981000    43.100114  ...        NaN   \n",
       "\n",
       "      Direction       RSI          TP         sma       mad         CCI  \\\n",
       "0             0       NaN   40.410000         NaN       NaN         NaN   \n",
       "1             0       NaN   34.563333         NaN       NaN         NaN   \n",
       "2             1       NaN   31.843334         NaN       NaN         NaN   \n",
       "3             1       NaN   31.953334         NaN       NaN         NaN   \n",
       "4             0       NaN   32.669999         NaN       NaN         NaN   \n",
       "...         ...       ...         ...         ...       ...         ...   \n",
       "2374          0  0.675676  325.990000  330.581667  5.022143  -60.952286   \n",
       "2375          0  0.675676  318.539998  329.672142  5.702925 -130.133739   \n",
       "2376          1  0.675676  314.510000  328.398095  6.276394 -147.516715   \n",
       "2377          1  0.910010  316.849996  327.407381  6.652347 -105.801103   \n",
       "2378          0  0.910010  323.056671  327.120476  6.857279  -39.508433   \n",
       "\n",
       "            DI        ADX  Aroon  \n",
       "0          NaN        NaN    0.0  \n",
       "1          NaN        NaN   -4.0  \n",
       "2          NaN        NaN   -8.0  \n",
       "3          NaN        NaN   -8.0  \n",
       "4          NaN        NaN   -8.0  \n",
       "...        ...        ...    ...  \n",
       "2374 -0.638920  32.451445  -60.0  \n",
       "2375 -4.163506  32.635555  -84.0  \n",
       "2376 -4.902510  33.349941  -88.0  \n",
       "2377 -3.194426  33.965208  -88.0  \n",
       "2378 -1.122578  33.906420  -88.0  \n",
       "\n",
       "[2379 rows x 30 columns]"
      ]
     },
     "execution_count": 31,
     "metadata": {},
     "output_type": "execute_result"
    }
   ],
   "source": [
    "complete_data = compute_all_indicators(data)\n",
    "complete_data"
   ]
  },
  {
   "cell_type": "code",
   "execution_count": 32,
   "metadata": {},
   "outputs": [],
   "source": [
    "complete_data = complete_data.dropna()"
   ]
  },
  {
   "cell_type": "code",
   "execution_count": 33,
   "metadata": {},
   "outputs": [
    {
     "data": {
      "text/html": [
       "<div>\n",
       "<style scoped>\n",
       "    .dataframe tbody tr th:only-of-type {\n",
       "        vertical-align: middle;\n",
       "    }\n",
       "\n",
       "    .dataframe tbody tr th {\n",
       "        vertical-align: top;\n",
       "    }\n",
       "\n",
       "    .dataframe thead th {\n",
       "        text-align: right;\n",
       "    }\n",
       "</style>\n",
       "<table border=\"1\" class=\"dataframe\">\n",
       "  <thead>\n",
       "    <tr style=\"text-align: right;\">\n",
       "      <th></th>\n",
       "      <th>Date</th>\n",
       "      <th>Open</th>\n",
       "      <th>High</th>\n",
       "      <th>Low</th>\n",
       "      <th>Close</th>\n",
       "      <th>Adj Close</th>\n",
       "      <th>Volume</th>\n",
       "      <th>SMA5</th>\n",
       "      <th>SMA10</th>\n",
       "      <th>StochasticK</th>\n",
       "      <th>...</th>\n",
       "      <th>Change</th>\n",
       "      <th>Direction</th>\n",
       "      <th>RSI</th>\n",
       "      <th>TP</th>\n",
       "      <th>sma</th>\n",
       "      <th>mad</th>\n",
       "      <th>CCI</th>\n",
       "      <th>DI</th>\n",
       "      <th>ADX</th>\n",
       "      <th>Aroon</th>\n",
       "    </tr>\n",
       "  </thead>\n",
       "  <tbody>\n",
       "    <tr>\n",
       "      <th>14</th>\n",
       "      <td>6/8/2012</td>\n",
       "      <td>26.549999</td>\n",
       "      <td>27.760000</td>\n",
       "      <td>26.440001</td>\n",
       "      <td>27.100000</td>\n",
       "      <td>27.100000</td>\n",
       "      <td>38034000</td>\n",
       "      <td>26.598000</td>\n",
       "      <td>27.925000</td>\n",
       "      <td>14.183124</td>\n",
       "      <td>...</td>\n",
       "      <td>-0.090000</td>\n",
       "      <td>0</td>\n",
       "      <td>0.282646</td>\n",
       "      <td>27.100000</td>\n",
       "      <td>29.409048</td>\n",
       "      <td>2.327483</td>\n",
       "      <td>-66.138608</td>\n",
       "      <td>-7.307419</td>\n",
       "      <td>81.950354</td>\n",
       "      <td>-44.0</td>\n",
       "    </tr>\n",
       "    <tr>\n",
       "      <th>15</th>\n",
       "      <td>6/11/2012</td>\n",
       "      <td>27.180000</td>\n",
       "      <td>28.070000</td>\n",
       "      <td>26.840000</td>\n",
       "      <td>27.010000</td>\n",
       "      <td>27.010000</td>\n",
       "      <td>28219600</td>\n",
       "      <td>26.620000</td>\n",
       "      <td>27.435000</td>\n",
       "      <td>18.463445</td>\n",
       "      <td>...</td>\n",
       "      <td>0.390000</td>\n",
       "      <td>1</td>\n",
       "      <td>0.381194</td>\n",
       "      <td>27.306667</td>\n",
       "      <td>28.890714</td>\n",
       "      <td>1.961395</td>\n",
       "      <td>-53.840862</td>\n",
       "      <td>-6.003132</td>\n",
       "      <td>77.257952</td>\n",
       "      <td>-44.0</td>\n",
       "    </tr>\n",
       "    <tr>\n",
       "      <th>16</th>\n",
       "      <td>6/12/2012</td>\n",
       "      <td>27.480000</td>\n",
       "      <td>27.770000</td>\n",
       "      <td>26.959999</td>\n",
       "      <td>27.400000</td>\n",
       "      <td>27.400000</td>\n",
       "      <td>15816800</td>\n",
       "      <td>26.926000</td>\n",
       "      <td>27.291000</td>\n",
       "      <td>24.447337</td>\n",
       "      <td>...</td>\n",
       "      <td>-0.130000</td>\n",
       "      <td>0</td>\n",
       "      <td>0.282646</td>\n",
       "      <td>27.376666</td>\n",
       "      <td>28.571667</td>\n",
       "      <td>1.740238</td>\n",
       "      <td>-45.779188</td>\n",
       "      <td>-3.784895</td>\n",
       "      <td>73.418742</td>\n",
       "      <td>-44.0</td>\n",
       "    </tr>\n",
       "    <tr>\n",
       "      <th>17</th>\n",
       "      <td>6/13/2012</td>\n",
       "      <td>27.660000</td>\n",
       "      <td>28.100000</td>\n",
       "      <td>27.100000</td>\n",
       "      <td>27.270000</td>\n",
       "      <td>27.270000</td>\n",
       "      <td>17102800</td>\n",
       "      <td>27.018000</td>\n",
       "      <td>27.199000</td>\n",
       "      <td>22.756830</td>\n",
       "      <td>...</td>\n",
       "      <td>1.020001</td>\n",
       "      <td>1</td>\n",
       "      <td>0.282646</td>\n",
       "      <td>27.490000</td>\n",
       "      <td>28.252857</td>\n",
       "      <td>1.479388</td>\n",
       "      <td>-34.377153</td>\n",
       "      <td>-3.091684</td>\n",
       "      <td>71.350434</td>\n",
       "      <td>-44.0</td>\n",
       "    </tr>\n",
       "    <tr>\n",
       "      <th>18</th>\n",
       "      <td>6/14/2012</td>\n",
       "      <td>27.650000</td>\n",
       "      <td>28.320000</td>\n",
       "      <td>27.379999</td>\n",
       "      <td>28.290001</td>\n",
       "      <td>28.290001</td>\n",
       "      <td>16855000</td>\n",
       "      <td>27.414000</td>\n",
       "      <td>27.068000</td>\n",
       "      <td>37.281301</td>\n",
       "      <td>...</td>\n",
       "      <td>1.719999</td>\n",
       "      <td>1</td>\n",
       "      <td>0.381194</td>\n",
       "      <td>27.996667</td>\n",
       "      <td>27.919048</td>\n",
       "      <td>1.074150</td>\n",
       "      <td>4.817392</td>\n",
       "      <td>1.757364</td>\n",
       "      <td>68.371248</td>\n",
       "      <td>-44.0</td>\n",
       "    </tr>\n",
       "    <tr>\n",
       "      <th>...</th>\n",
       "      <td>...</td>\n",
       "      <td>...</td>\n",
       "      <td>...</td>\n",
       "      <td>...</td>\n",
       "      <td>...</td>\n",
       "      <td>...</td>\n",
       "      <td>...</td>\n",
       "      <td>...</td>\n",
       "      <td>...</td>\n",
       "      <td>...</td>\n",
       "      <td>...</td>\n",
       "      <td>...</td>\n",
       "      <td>...</td>\n",
       "      <td>...</td>\n",
       "      <td>...</td>\n",
       "      <td>...</td>\n",
       "      <td>...</td>\n",
       "      <td>...</td>\n",
       "      <td>...</td>\n",
       "      <td>...</td>\n",
       "      <td>...</td>\n",
       "    </tr>\n",
       "    <tr>\n",
       "      <th>2373</th>\n",
       "      <td>10/22/2021</td>\n",
       "      <td>326.350006</td>\n",
       "      <td>329.630005</td>\n",
       "      <td>321.109985</td>\n",
       "      <td>324.609985</td>\n",
       "      <td>324.609985</td>\n",
       "      <td>35152700</td>\n",
       "      <td>336.519995</td>\n",
       "      <td>330.964999</td>\n",
       "      <td>27.207763</td>\n",
       "      <td>...</td>\n",
       "      <td>4.080017</td>\n",
       "      <td>1</td>\n",
       "      <td>0.910010</td>\n",
       "      <td>325.116658</td>\n",
       "      <td>330.970476</td>\n",
       "      <td>4.735239</td>\n",
       "      <td>-82.414952</td>\n",
       "      <td>-1.962675</td>\n",
       "      <td>32.401953</td>\n",
       "      <td>-60.0</td>\n",
       "    </tr>\n",
       "    <tr>\n",
       "      <th>2374</th>\n",
       "      <td>10/25/2021</td>\n",
       "      <td>320.299988</td>\n",
       "      <td>329.559998</td>\n",
       "      <td>319.720001</td>\n",
       "      <td>328.690002</td>\n",
       "      <td>328.690002</td>\n",
       "      <td>38409000</td>\n",
       "      <td>335.189996</td>\n",
       "      <td>331.288998</td>\n",
       "      <td>42.540399</td>\n",
       "      <td>...</td>\n",
       "      <td>-12.880004</td>\n",
       "      <td>0</td>\n",
       "      <td>0.675676</td>\n",
       "      <td>325.990000</td>\n",
       "      <td>330.581667</td>\n",
       "      <td>5.022143</td>\n",
       "      <td>-60.952286</td>\n",
       "      <td>-0.638920</td>\n",
       "      <td>32.451445</td>\n",
       "      <td>-60.0</td>\n",
       "    </tr>\n",
       "    <tr>\n",
       "      <th>2375</th>\n",
       "      <td>10/26/2021</td>\n",
       "      <td>328.260010</td>\n",
       "      <td>330.209991</td>\n",
       "      <td>309.600006</td>\n",
       "      <td>315.809998</td>\n",
       "      <td>315.809998</td>\n",
       "      <td>65654000</td>\n",
       "      <td>330.353998</td>\n",
       "      <td>330.492999</td>\n",
       "      <td>18.062801</td>\n",
       "      <td>...</td>\n",
       "      <td>-3.589997</td>\n",
       "      <td>0</td>\n",
       "      <td>0.675676</td>\n",
       "      <td>318.539998</td>\n",
       "      <td>329.672142</td>\n",
       "      <td>5.702925</td>\n",
       "      <td>-130.133739</td>\n",
       "      <td>-4.163506</td>\n",
       "      <td>32.635555</td>\n",
       "      <td>-84.0</td>\n",
       "    </tr>\n",
       "    <tr>\n",
       "      <th>2376</th>\n",
       "      <td>10/27/2021</td>\n",
       "      <td>314.190002</td>\n",
       "      <td>319.250000</td>\n",
       "      <td>312.059998</td>\n",
       "      <td>312.220001</td>\n",
       "      <td>312.220001</td>\n",
       "      <td>29971800</td>\n",
       "      <td>324.641998</td>\n",
       "      <td>329.260999</td>\n",
       "      <td>7.620694</td>\n",
       "      <td>...</td>\n",
       "      <td>4.700012</td>\n",
       "      <td>1</td>\n",
       "      <td>0.675676</td>\n",
       "      <td>314.510000</td>\n",
       "      <td>328.398095</td>\n",
       "      <td>6.276394</td>\n",
       "      <td>-147.516715</td>\n",
       "      <td>-4.902510</td>\n",
       "      <td>33.349941</td>\n",
       "      <td>-88.0</td>\n",
       "    </tr>\n",
       "    <tr>\n",
       "      <th>2377</th>\n",
       "      <td>10/28/2021</td>\n",
       "      <td>312.989990</td>\n",
       "      <td>325.519989</td>\n",
       "      <td>308.109985</td>\n",
       "      <td>316.920013</td>\n",
       "      <td>316.920013</td>\n",
       "      <td>50806800</td>\n",
       "      <td>319.650000</td>\n",
       "      <td>328.100000</td>\n",
       "      <td>24.560975</td>\n",
       "      <td>...</td>\n",
       "      <td>6.649994</td>\n",
       "      <td>1</td>\n",
       "      <td>0.910010</td>\n",
       "      <td>316.849996</td>\n",
       "      <td>327.407381</td>\n",
       "      <td>6.652347</td>\n",
       "      <td>-105.801103</td>\n",
       "      <td>-3.194426</td>\n",
       "      <td>33.965208</td>\n",
       "      <td>-88.0</td>\n",
       "    </tr>\n",
       "  </tbody>\n",
       "</table>\n",
       "<p>2364 rows × 30 columns</p>\n",
       "</div>"
      ],
      "text/plain": [
       "            Date        Open        High         Low       Close   Adj Close  \\\n",
       "14      6/8/2012   26.549999   27.760000   26.440001   27.100000   27.100000   \n",
       "15     6/11/2012   27.180000   28.070000   26.840000   27.010000   27.010000   \n",
       "16     6/12/2012   27.480000   27.770000   26.959999   27.400000   27.400000   \n",
       "17     6/13/2012   27.660000   28.100000   27.100000   27.270000   27.270000   \n",
       "18     6/14/2012   27.650000   28.320000   27.379999   28.290001   28.290001   \n",
       "...          ...         ...         ...         ...         ...         ...   \n",
       "2373  10/22/2021  326.350006  329.630005  321.109985  324.609985  324.609985   \n",
       "2374  10/25/2021  320.299988  329.559998  319.720001  328.690002  328.690002   \n",
       "2375  10/26/2021  328.260010  330.209991  309.600006  315.809998  315.809998   \n",
       "2376  10/27/2021  314.190002  319.250000  312.059998  312.220001  312.220001   \n",
       "2377  10/28/2021  312.989990  325.519989  308.109985  316.920013  316.920013   \n",
       "\n",
       "        Volume        SMA5       SMA10  StochasticK  ...     Change  \\\n",
       "14    38034000   26.598000   27.925000    14.183124  ...  -0.090000   \n",
       "15    28219600   26.620000   27.435000    18.463445  ...   0.390000   \n",
       "16    15816800   26.926000   27.291000    24.447337  ...  -0.130000   \n",
       "17    17102800   27.018000   27.199000    22.756830  ...   1.020001   \n",
       "18    16855000   27.414000   27.068000    37.281301  ...   1.719999   \n",
       "...        ...         ...         ...          ...  ...        ...   \n",
       "2373  35152700  336.519995  330.964999    27.207763  ...   4.080017   \n",
       "2374  38409000  335.189996  331.288998    42.540399  ... -12.880004   \n",
       "2375  65654000  330.353998  330.492999    18.062801  ...  -3.589997   \n",
       "2376  29971800  324.641998  329.260999     7.620694  ...   4.700012   \n",
       "2377  50806800  319.650000  328.100000    24.560975  ...   6.649994   \n",
       "\n",
       "      Direction       RSI          TP         sma       mad         CCI  \\\n",
       "14            0  0.282646   27.100000   29.409048  2.327483  -66.138608   \n",
       "15            1  0.381194   27.306667   28.890714  1.961395  -53.840862   \n",
       "16            0  0.282646   27.376666   28.571667  1.740238  -45.779188   \n",
       "17            1  0.282646   27.490000   28.252857  1.479388  -34.377153   \n",
       "18            1  0.381194   27.996667   27.919048  1.074150    4.817392   \n",
       "...         ...       ...         ...         ...       ...         ...   \n",
       "2373          1  0.910010  325.116658  330.970476  4.735239  -82.414952   \n",
       "2374          0  0.675676  325.990000  330.581667  5.022143  -60.952286   \n",
       "2375          0  0.675676  318.539998  329.672142  5.702925 -130.133739   \n",
       "2376          1  0.675676  314.510000  328.398095  6.276394 -147.516715   \n",
       "2377          1  0.910010  316.849996  327.407381  6.652347 -105.801103   \n",
       "\n",
       "            DI        ADX  Aroon  \n",
       "14   -7.307419  81.950354  -44.0  \n",
       "15   -6.003132  77.257952  -44.0  \n",
       "16   -3.784895  73.418742  -44.0  \n",
       "17   -3.091684  71.350434  -44.0  \n",
       "18    1.757364  68.371248  -44.0  \n",
       "...        ...        ...    ...  \n",
       "2373 -1.962675  32.401953  -60.0  \n",
       "2374 -0.638920  32.451445  -60.0  \n",
       "2375 -4.163506  32.635555  -84.0  \n",
       "2376 -4.902510  33.349941  -88.0  \n",
       "2377 -3.194426  33.965208  -88.0  \n",
       "\n",
       "[2364 rows x 30 columns]"
      ]
     },
     "execution_count": 33,
     "metadata": {},
     "output_type": "execute_result"
    }
   ],
   "source": [
    "complete_data"
   ]
  },
  {
   "cell_type": "code",
   "execution_count": 34,
   "metadata": {},
   "outputs": [],
   "source": [
    "complete_data = complete_data.drop(['TP', 'sma', 'mad', 'Change'], axis=1)"
   ]
  },
  {
   "cell_type": "code",
   "execution_count": 35,
   "metadata": {},
   "outputs": [
    {
     "data": {
      "text/html": [
       "<div>\n",
       "<style scoped>\n",
       "    .dataframe tbody tr th:only-of-type {\n",
       "        vertical-align: middle;\n",
       "    }\n",
       "\n",
       "    .dataframe tbody tr th {\n",
       "        vertical-align: top;\n",
       "    }\n",
       "\n",
       "    .dataframe thead th {\n",
       "        text-align: right;\n",
       "    }\n",
       "</style>\n",
       "<table border=\"1\" class=\"dataframe\">\n",
       "  <thead>\n",
       "    <tr style=\"text-align: right;\">\n",
       "      <th></th>\n",
       "      <th>Date</th>\n",
       "      <th>Open</th>\n",
       "      <th>High</th>\n",
       "      <th>Low</th>\n",
       "      <th>Close</th>\n",
       "      <th>Adj Close</th>\n",
       "      <th>Volume</th>\n",
       "      <th>SMA5</th>\n",
       "      <th>SMA10</th>\n",
       "      <th>StochasticK</th>\n",
       "      <th>...</th>\n",
       "      <th>EMA12</th>\n",
       "      <th>EMA26</th>\n",
       "      <th>MACD</th>\n",
       "      <th>Momentum</th>\n",
       "      <th>Direction</th>\n",
       "      <th>RSI</th>\n",
       "      <th>CCI</th>\n",
       "      <th>DI</th>\n",
       "      <th>ADX</th>\n",
       "      <th>Aroon</th>\n",
       "    </tr>\n",
       "  </thead>\n",
       "  <tbody>\n",
       "    <tr>\n",
       "      <th>14</th>\n",
       "      <td>6/8/2012</td>\n",
       "      <td>26.549999</td>\n",
       "      <td>27.760000</td>\n",
       "      <td>26.440001</td>\n",
       "      <td>27.100000</td>\n",
       "      <td>27.100000</td>\n",
       "      <td>38034000</td>\n",
       "      <td>26.598000</td>\n",
       "      <td>27.925000</td>\n",
       "      <td>14.183124</td>\n",
       "      <td>...</td>\n",
       "      <td>28.871771</td>\n",
       "      <td>31.839056</td>\n",
       "      <td>-2.967285</td>\n",
       "      <td>70.886738</td>\n",
       "      <td>0</td>\n",
       "      <td>0.282646</td>\n",
       "      <td>-66.138608</td>\n",
       "      <td>-7.307419</td>\n",
       "      <td>81.950354</td>\n",
       "      <td>-44.0</td>\n",
       "    </tr>\n",
       "    <tr>\n",
       "      <th>15</th>\n",
       "      <td>6/11/2012</td>\n",
       "      <td>27.180000</td>\n",
       "      <td>28.070000</td>\n",
       "      <td>26.840000</td>\n",
       "      <td>27.010000</td>\n",
       "      <td>27.010000</td>\n",
       "      <td>28219600</td>\n",
       "      <td>26.620000</td>\n",
       "      <td>27.435000</td>\n",
       "      <td>18.463445</td>\n",
       "      <td>...</td>\n",
       "      <td>28.585345</td>\n",
       "      <td>31.481348</td>\n",
       "      <td>-2.896003</td>\n",
       "      <td>79.371145</td>\n",
       "      <td>1</td>\n",
       "      <td>0.381194</td>\n",
       "      <td>-53.840862</td>\n",
       "      <td>-6.003132</td>\n",
       "      <td>77.257952</td>\n",
       "      <td>-44.0</td>\n",
       "    </tr>\n",
       "    <tr>\n",
       "      <th>16</th>\n",
       "      <td>6/12/2012</td>\n",
       "      <td>27.480000</td>\n",
       "      <td>27.770000</td>\n",
       "      <td>26.959999</td>\n",
       "      <td>27.400000</td>\n",
       "      <td>27.400000</td>\n",
       "      <td>15816800</td>\n",
       "      <td>26.926000</td>\n",
       "      <td>27.291000</td>\n",
       "      <td>24.447337</td>\n",
       "      <td>...</td>\n",
       "      <td>28.402984</td>\n",
       "      <td>31.179026</td>\n",
       "      <td>-2.776042</td>\n",
       "      <td>88.387097</td>\n",
       "      <td>0</td>\n",
       "      <td>0.282646</td>\n",
       "      <td>-45.779188</td>\n",
       "      <td>-3.784895</td>\n",
       "      <td>73.418742</td>\n",
       "      <td>-44.0</td>\n",
       "    </tr>\n",
       "    <tr>\n",
       "      <th>17</th>\n",
       "      <td>6/13/2012</td>\n",
       "      <td>27.660000</td>\n",
       "      <td>28.100000</td>\n",
       "      <td>27.100000</td>\n",
       "      <td>27.270000</td>\n",
       "      <td>27.270000</td>\n",
       "      <td>17102800</td>\n",
       "      <td>27.018000</td>\n",
       "      <td>27.199000</td>\n",
       "      <td>22.756830</td>\n",
       "      <td>...</td>\n",
       "      <td>28.228679</td>\n",
       "      <td>30.889468</td>\n",
       "      <td>-2.660790</td>\n",
       "      <td>85.218750</td>\n",
       "      <td>1</td>\n",
       "      <td>0.282646</td>\n",
       "      <td>-34.377153</td>\n",
       "      <td>-3.091684</td>\n",
       "      <td>71.350434</td>\n",
       "      <td>-44.0</td>\n",
       "    </tr>\n",
       "    <tr>\n",
       "      <th>18</th>\n",
       "      <td>6/14/2012</td>\n",
       "      <td>27.650000</td>\n",
       "      <td>28.320000</td>\n",
       "      <td>27.379999</td>\n",
       "      <td>28.290001</td>\n",
       "      <td>28.290001</td>\n",
       "      <td>16855000</td>\n",
       "      <td>27.414000</td>\n",
       "      <td>27.068000</td>\n",
       "      <td>37.281301</td>\n",
       "      <td>...</td>\n",
       "      <td>28.238113</td>\n",
       "      <td>30.696915</td>\n",
       "      <td>-2.458802</td>\n",
       "      <td>85.649415</td>\n",
       "      <td>1</td>\n",
       "      <td>0.381194</td>\n",
       "      <td>4.817392</td>\n",
       "      <td>1.757364</td>\n",
       "      <td>68.371248</td>\n",
       "      <td>-44.0</td>\n",
       "    </tr>\n",
       "    <tr>\n",
       "      <th>...</th>\n",
       "      <td>...</td>\n",
       "      <td>...</td>\n",
       "      <td>...</td>\n",
       "      <td>...</td>\n",
       "      <td>...</td>\n",
       "      <td>...</td>\n",
       "      <td>...</td>\n",
       "      <td>...</td>\n",
       "      <td>...</td>\n",
       "      <td>...</td>\n",
       "      <td>...</td>\n",
       "      <td>...</td>\n",
       "      <td>...</td>\n",
       "      <td>...</td>\n",
       "      <td>...</td>\n",
       "      <td>...</td>\n",
       "      <td>...</td>\n",
       "      <td>...</td>\n",
       "      <td>...</td>\n",
       "      <td>...</td>\n",
       "      <td>...</td>\n",
       "    </tr>\n",
       "    <tr>\n",
       "      <th>2373</th>\n",
       "      <td>10/22/2021</td>\n",
       "      <td>326.350006</td>\n",
       "      <td>329.630005</td>\n",
       "      <td>321.109985</td>\n",
       "      <td>324.609985</td>\n",
       "      <td>324.609985</td>\n",
       "      <td>35152700</td>\n",
       "      <td>336.519995</td>\n",
       "      <td>330.964999</td>\n",
       "      <td>27.207763</td>\n",
       "      <td>...</td>\n",
       "      <td>333.872032</td>\n",
       "      <td>339.701384</td>\n",
       "      <td>-5.829352</td>\n",
       "      <td>99.503410</td>\n",
       "      <td>1</td>\n",
       "      <td>0.910010</td>\n",
       "      <td>-82.414952</td>\n",
       "      <td>-1.962675</td>\n",
       "      <td>32.401953</td>\n",
       "      <td>-60.0</td>\n",
       "    </tr>\n",
       "    <tr>\n",
       "      <th>2374</th>\n",
       "      <td>10/25/2021</td>\n",
       "      <td>320.299988</td>\n",
       "      <td>329.559998</td>\n",
       "      <td>319.720001</td>\n",
       "      <td>328.690002</td>\n",
       "      <td>328.690002</td>\n",
       "      <td>38409000</td>\n",
       "      <td>335.189996</td>\n",
       "      <td>331.288998</td>\n",
       "      <td>42.540399</td>\n",
       "      <td>...</td>\n",
       "      <td>333.074797</td>\n",
       "      <td>338.885726</td>\n",
       "      <td>-5.810929</td>\n",
       "      <td>98.717567</td>\n",
       "      <td>0</td>\n",
       "      <td>0.675676</td>\n",
       "      <td>-60.952286</td>\n",
       "      <td>-0.638920</td>\n",
       "      <td>32.451445</td>\n",
       "      <td>-60.0</td>\n",
       "    </tr>\n",
       "    <tr>\n",
       "      <th>2375</th>\n",
       "      <td>10/26/2021</td>\n",
       "      <td>328.260010</td>\n",
       "      <td>330.209991</td>\n",
       "      <td>309.600006</td>\n",
       "      <td>315.809998</td>\n",
       "      <td>315.809998</td>\n",
       "      <td>65654000</td>\n",
       "      <td>330.353998</td>\n",
       "      <td>330.492999</td>\n",
       "      <td>18.062801</td>\n",
       "      <td>...</td>\n",
       "      <td>330.418674</td>\n",
       "      <td>337.176413</td>\n",
       "      <td>-6.757739</td>\n",
       "      <td>94.655912</td>\n",
       "      <td>0</td>\n",
       "      <td>0.675676</td>\n",
       "      <td>-130.133739</td>\n",
       "      <td>-4.163506</td>\n",
       "      <td>32.635555</td>\n",
       "      <td>-84.0</td>\n",
       "    </tr>\n",
       "    <tr>\n",
       "      <th>2376</th>\n",
       "      <td>10/27/2021</td>\n",
       "      <td>314.190002</td>\n",
       "      <td>319.250000</td>\n",
       "      <td>312.059998</td>\n",
       "      <td>312.220001</td>\n",
       "      <td>312.220001</td>\n",
       "      <td>29971800</td>\n",
       "      <td>324.641998</td>\n",
       "      <td>329.260999</td>\n",
       "      <td>7.620694</td>\n",
       "      <td>...</td>\n",
       "      <td>327.618878</td>\n",
       "      <td>335.327790</td>\n",
       "      <td>-7.708912</td>\n",
       "      <td>94.836280</td>\n",
       "      <td>1</td>\n",
       "      <td>0.675676</td>\n",
       "      <td>-147.516715</td>\n",
       "      <td>-4.902510</td>\n",
       "      <td>33.349941</td>\n",
       "      <td>-88.0</td>\n",
       "    </tr>\n",
       "    <tr>\n",
       "      <th>2377</th>\n",
       "      <td>10/28/2021</td>\n",
       "      <td>312.989990</td>\n",
       "      <td>325.519989</td>\n",
       "      <td>308.109985</td>\n",
       "      <td>316.920013</td>\n",
       "      <td>316.920013</td>\n",
       "      <td>50806800</td>\n",
       "      <td>319.650000</td>\n",
       "      <td>328.100000</td>\n",
       "      <td>24.560975</td>\n",
       "      <td>...</td>\n",
       "      <td>325.972899</td>\n",
       "      <td>333.964251</td>\n",
       "      <td>-7.991352</td>\n",
       "      <td>96.021822</td>\n",
       "      <td>1</td>\n",
       "      <td>0.910010</td>\n",
       "      <td>-105.801103</td>\n",
       "      <td>-3.194426</td>\n",
       "      <td>33.965208</td>\n",
       "      <td>-88.0</td>\n",
       "    </tr>\n",
       "  </tbody>\n",
       "</table>\n",
       "<p>2364 rows × 26 columns</p>\n",
       "</div>"
      ],
      "text/plain": [
       "            Date        Open        High         Low       Close   Adj Close  \\\n",
       "14      6/8/2012   26.549999   27.760000   26.440001   27.100000   27.100000   \n",
       "15     6/11/2012   27.180000   28.070000   26.840000   27.010000   27.010000   \n",
       "16     6/12/2012   27.480000   27.770000   26.959999   27.400000   27.400000   \n",
       "17     6/13/2012   27.660000   28.100000   27.100000   27.270000   27.270000   \n",
       "18     6/14/2012   27.650000   28.320000   27.379999   28.290001   28.290001   \n",
       "...          ...         ...         ...         ...         ...         ...   \n",
       "2373  10/22/2021  326.350006  329.630005  321.109985  324.609985  324.609985   \n",
       "2374  10/25/2021  320.299988  329.559998  319.720001  328.690002  328.690002   \n",
       "2375  10/26/2021  328.260010  330.209991  309.600006  315.809998  315.809998   \n",
       "2376  10/27/2021  314.190002  319.250000  312.059998  312.220001  312.220001   \n",
       "2377  10/28/2021  312.989990  325.519989  308.109985  316.920013  316.920013   \n",
       "\n",
       "        Volume        SMA5       SMA10  StochasticK  ...       EMA12  \\\n",
       "14    38034000   26.598000   27.925000    14.183124  ...   28.871771   \n",
       "15    28219600   26.620000   27.435000    18.463445  ...   28.585345   \n",
       "16    15816800   26.926000   27.291000    24.447337  ...   28.402984   \n",
       "17    17102800   27.018000   27.199000    22.756830  ...   28.228679   \n",
       "18    16855000   27.414000   27.068000    37.281301  ...   28.238113   \n",
       "...        ...         ...         ...          ...  ...         ...   \n",
       "2373  35152700  336.519995  330.964999    27.207763  ...  333.872032   \n",
       "2374  38409000  335.189996  331.288998    42.540399  ...  333.074797   \n",
       "2375  65654000  330.353998  330.492999    18.062801  ...  330.418674   \n",
       "2376  29971800  324.641998  329.260999     7.620694  ...  327.618878   \n",
       "2377  50806800  319.650000  328.100000    24.560975  ...  325.972899   \n",
       "\n",
       "           EMA26      MACD   Momentum  Direction       RSI         CCI  \\\n",
       "14     31.839056 -2.967285  70.886738          0  0.282646  -66.138608   \n",
       "15     31.481348 -2.896003  79.371145          1  0.381194  -53.840862   \n",
       "16     31.179026 -2.776042  88.387097          0  0.282646  -45.779188   \n",
       "17     30.889468 -2.660790  85.218750          1  0.282646  -34.377153   \n",
       "18     30.696915 -2.458802  85.649415          1  0.381194    4.817392   \n",
       "...          ...       ...        ...        ...       ...         ...   \n",
       "2373  339.701384 -5.829352  99.503410          1  0.910010  -82.414952   \n",
       "2374  338.885726 -5.810929  98.717567          0  0.675676  -60.952286   \n",
       "2375  337.176413 -6.757739  94.655912          0  0.675676 -130.133739   \n",
       "2376  335.327790 -7.708912  94.836280          1  0.675676 -147.516715   \n",
       "2377  333.964251 -7.991352  96.021822          1  0.910010 -105.801103   \n",
       "\n",
       "            DI        ADX  Aroon  \n",
       "14   -7.307419  81.950354  -44.0  \n",
       "15   -6.003132  77.257952  -44.0  \n",
       "16   -3.784895  73.418742  -44.0  \n",
       "17   -3.091684  71.350434  -44.0  \n",
       "18    1.757364  68.371248  -44.0  \n",
       "...        ...        ...    ...  \n",
       "2373 -1.962675  32.401953  -60.0  \n",
       "2374 -0.638920  32.451445  -60.0  \n",
       "2375 -4.163506  32.635555  -84.0  \n",
       "2376 -4.902510  33.349941  -88.0  \n",
       "2377 -3.194426  33.965208  -88.0  \n",
       "\n",
       "[2364 rows x 26 columns]"
      ]
     },
     "execution_count": 35,
     "metadata": {},
     "output_type": "execute_result"
    }
   ],
   "source": [
    "complete_data"
   ]
  },
  {
   "cell_type": "code",
   "execution_count": 36,
   "metadata": {},
   "outputs": [],
   "source": [
    "#corrMatrix = complete_data.corr()\n",
    "#print(corrMatrix)"
   ]
  },
  {
   "cell_type": "code",
   "execution_count": 37,
   "metadata": {},
   "outputs": [],
   "source": [
    "#sn.heatmap(corrMatrix, annot=False)\n",
    "#plt.show()"
   ]
  },
  {
   "cell_type": "code",
   "execution_count": 38,
   "metadata": {},
   "outputs": [],
   "source": [
    "#corr_pairs = corrMatrix.unstack()\n",
    "#corr_pairs"
   ]
  },
  {
   "cell_type": "code",
   "execution_count": 39,
   "metadata": {},
   "outputs": [],
   "source": [
    "#sorted_pairs = corr_pairs.sort_values(kind=\"quicksort\")\n",
    "#sorted_pairs"
   ]
  },
  {
   "cell_type": "code",
   "execution_count": 40,
   "metadata": {},
   "outputs": [],
   "source": [
    "#strong_pairs = sorted_pairs[abs(sorted_pairs) > 0.5]\n",
    "\n",
    "#print(strong_pairs)"
   ]
  },
  {
   "cell_type": "code",
   "execution_count": 41,
   "metadata": {},
   "outputs": [],
   "source": [
    "## strong_pairs[strong_pairs.index[0][0] == strong_pairs.index[0][1]]\n",
    "\n",
    "#removed_diagonal = [(i, j) for (i, j) in strong_pairs.index if i!=j]\n",
    "#len(removed_diagonal)"
   ]
  },
  {
   "cell_type": "code",
   "execution_count": 42,
   "metadata": {
    "scrolled": false
   },
   "outputs": [],
   "source": [
    "## # Create correlation matrix\n",
    "## corr_matrix = complete_data.corr().abs()\n",
    "\n",
    "## # Select upper triangle of correlation matrix\n",
    "## upper = corr_matrix.where(np.triu(np.ones(corr_matrix.shape), k=1).astype(np.bool8))\n",
    "\n",
    "## # Find index of feature columns with correlation greater than 0.95\n",
    "## to_drop = [column for column in upper.columns if any(upper[column] > 0.95)]\n",
    "## to_drop"
   ]
  },
  {
   "cell_type": "code",
   "execution_count": 43,
   "metadata": {},
   "outputs": [],
   "source": [
    "## Find index of feature columns with correlation greater than 0.8\n",
    "\n",
    "#correlated_features = set()\n",
    "#for i in range(len(corrMatrix.columns)):\n",
    " #   for j in range(i):\n",
    "  #      if abs(corrMatrix.iloc[i, j]) > 0.8:\n",
    "   #         colname = corrMatrix.columns[i]\n",
    "    #        correlated_features.add(colname)"
   ]
  },
  {
   "cell_type": "code",
   "execution_count": 44,
   "metadata": {},
   "outputs": [],
   "source": [
    "#correlated_features"
   ]
  },
  {
   "cell_type": "code",
   "execution_count": 45,
   "metadata": {},
   "outputs": [],
   "source": [
    "#complete_data = complete_data.drop(labels=correlated_features, axis=1)"
   ]
  },
  {
   "cell_type": "code",
   "execution_count": 46,
   "metadata": {},
   "outputs": [],
   "source": [
    "#complete_data"
   ]
  },
  {
   "cell_type": "code",
   "execution_count": 47,
   "metadata": {
    "scrolled": false
   },
   "outputs": [
    {
     "data": {
      "text/html": [
       "<div>\n",
       "<style scoped>\n",
       "    .dataframe tbody tr th:only-of-type {\n",
       "        vertical-align: middle;\n",
       "    }\n",
       "\n",
       "    .dataframe tbody tr th {\n",
       "        vertical-align: top;\n",
       "    }\n",
       "\n",
       "    .dataframe thead th {\n",
       "        text-align: right;\n",
       "    }\n",
       "</style>\n",
       "<table border=\"1\" class=\"dataframe\">\n",
       "  <thead>\n",
       "    <tr style=\"text-align: right;\">\n",
       "      <th></th>\n",
       "      <th>Open</th>\n",
       "      <th>High</th>\n",
       "      <th>Low</th>\n",
       "      <th>Close</th>\n",
       "      <th>Adj Close</th>\n",
       "      <th>Volume</th>\n",
       "      <th>SMA5</th>\n",
       "      <th>SMA10</th>\n",
       "      <th>StochasticK</th>\n",
       "      <th>StochasticD</th>\n",
       "      <th>...</th>\n",
       "      <th>WMA10</th>\n",
       "      <th>EMA12</th>\n",
       "      <th>EMA26</th>\n",
       "      <th>MACD</th>\n",
       "      <th>Momentum</th>\n",
       "      <th>RSI</th>\n",
       "      <th>CCI</th>\n",
       "      <th>DI</th>\n",
       "      <th>ADX</th>\n",
       "      <th>Aroon</th>\n",
       "    </tr>\n",
       "  </thead>\n",
       "  <tbody>\n",
       "    <tr>\n",
       "      <th>14</th>\n",
       "      <td>26.549999</td>\n",
       "      <td>27.760000</td>\n",
       "      <td>26.440001</td>\n",
       "      <td>27.100000</td>\n",
       "      <td>27.100000</td>\n",
       "      <td>38034000</td>\n",
       "      <td>26.598000</td>\n",
       "      <td>27.925000</td>\n",
       "      <td>14.183124</td>\n",
       "      <td>9.119280</td>\n",
       "      <td>...</td>\n",
       "      <td>27.198545</td>\n",
       "      <td>28.871771</td>\n",
       "      <td>31.839056</td>\n",
       "      <td>-2.967285</td>\n",
       "      <td>70.886738</td>\n",
       "      <td>0.282646</td>\n",
       "      <td>-66.138608</td>\n",
       "      <td>-7.307419</td>\n",
       "      <td>81.950354</td>\n",
       "      <td>-44.0</td>\n",
       "    </tr>\n",
       "    <tr>\n",
       "      <th>15</th>\n",
       "      <td>27.180000</td>\n",
       "      <td>28.070000</td>\n",
       "      <td>26.840000</td>\n",
       "      <td>27.010000</td>\n",
       "      <td>27.010000</td>\n",
       "      <td>28219600</td>\n",
       "      <td>26.620000</td>\n",
       "      <td>27.435000</td>\n",
       "      <td>18.463445</td>\n",
       "      <td>12.234002</td>\n",
       "      <td>...</td>\n",
       "      <td>27.032182</td>\n",
       "      <td>28.585345</td>\n",
       "      <td>31.481348</td>\n",
       "      <td>-2.896003</td>\n",
       "      <td>79.371145</td>\n",
       "      <td>0.381194</td>\n",
       "      <td>-53.840862</td>\n",
       "      <td>-6.003132</td>\n",
       "      <td>77.257952</td>\n",
       "      <td>-44.0</td>\n",
       "    </tr>\n",
       "    <tr>\n",
       "      <th>16</th>\n",
       "      <td>27.480000</td>\n",
       "      <td>27.770000</td>\n",
       "      <td>26.959999</td>\n",
       "      <td>27.400000</td>\n",
       "      <td>27.400000</td>\n",
       "      <td>15816800</td>\n",
       "      <td>26.926000</td>\n",
       "      <td>27.291000</td>\n",
       "      <td>24.447337</td>\n",
       "      <td>19.031302</td>\n",
       "      <td>...</td>\n",
       "      <td>27.025818</td>\n",
       "      <td>28.402984</td>\n",
       "      <td>31.179026</td>\n",
       "      <td>-2.776042</td>\n",
       "      <td>88.387097</td>\n",
       "      <td>0.282646</td>\n",
       "      <td>-45.779188</td>\n",
       "      <td>-3.784895</td>\n",
       "      <td>73.418742</td>\n",
       "      <td>-44.0</td>\n",
       "    </tr>\n",
       "    <tr>\n",
       "      <th>17</th>\n",
       "      <td>27.660000</td>\n",
       "      <td>28.100000</td>\n",
       "      <td>27.100000</td>\n",
       "      <td>27.270000</td>\n",
       "      <td>27.270000</td>\n",
       "      <td>17102800</td>\n",
       "      <td>27.018000</td>\n",
       "      <td>27.199000</td>\n",
       "      <td>22.756830</td>\n",
       "      <td>21.889204</td>\n",
       "      <td>...</td>\n",
       "      <td>27.022000</td>\n",
       "      <td>28.228679</td>\n",
       "      <td>30.889468</td>\n",
       "      <td>-2.660790</td>\n",
       "      <td>85.218750</td>\n",
       "      <td>0.282646</td>\n",
       "      <td>-34.377153</td>\n",
       "      <td>-3.091684</td>\n",
       "      <td>71.350434</td>\n",
       "      <td>-44.0</td>\n",
       "    </tr>\n",
       "    <tr>\n",
       "      <th>18</th>\n",
       "      <td>27.650000</td>\n",
       "      <td>28.320000</td>\n",
       "      <td>27.379999</td>\n",
       "      <td>28.290001</td>\n",
       "      <td>28.290001</td>\n",
       "      <td>16855000</td>\n",
       "      <td>27.414000</td>\n",
       "      <td>27.068000</td>\n",
       "      <td>37.281301</td>\n",
       "      <td>28.161823</td>\n",
       "      <td>...</td>\n",
       "      <td>27.220364</td>\n",
       "      <td>28.238113</td>\n",
       "      <td>30.696915</td>\n",
       "      <td>-2.458802</td>\n",
       "      <td>85.649415</td>\n",
       "      <td>0.381194</td>\n",
       "      <td>4.817392</td>\n",
       "      <td>1.757364</td>\n",
       "      <td>68.371248</td>\n",
       "      <td>-44.0</td>\n",
       "    </tr>\n",
       "    <tr>\n",
       "      <th>...</th>\n",
       "      <td>...</td>\n",
       "      <td>...</td>\n",
       "      <td>...</td>\n",
       "      <td>...</td>\n",
       "      <td>...</td>\n",
       "      <td>...</td>\n",
       "      <td>...</td>\n",
       "      <td>...</td>\n",
       "      <td>...</td>\n",
       "      <td>...</td>\n",
       "      <td>...</td>\n",
       "      <td>...</td>\n",
       "      <td>...</td>\n",
       "      <td>...</td>\n",
       "      <td>...</td>\n",
       "      <td>...</td>\n",
       "      <td>...</td>\n",
       "      <td>...</td>\n",
       "      <td>...</td>\n",
       "      <td>...</td>\n",
       "      <td>...</td>\n",
       "    </tr>\n",
       "    <tr>\n",
       "      <th>2373</th>\n",
       "      <td>326.350006</td>\n",
       "      <td>329.630005</td>\n",
       "      <td>321.109985</td>\n",
       "      <td>324.609985</td>\n",
       "      <td>324.609985</td>\n",
       "      <td>35152700</td>\n",
       "      <td>336.519995</td>\n",
       "      <td>330.964999</td>\n",
       "      <td>27.207763</td>\n",
       "      <td>67.993823</td>\n",
       "      <td>...</td>\n",
       "      <td>333.195634</td>\n",
       "      <td>333.872032</td>\n",
       "      <td>339.701384</td>\n",
       "      <td>-5.829352</td>\n",
       "      <td>99.503410</td>\n",
       "      <td>0.910010</td>\n",
       "      <td>-82.414952</td>\n",
       "      <td>-1.962675</td>\n",
       "      <td>32.401953</td>\n",
       "      <td>-60.0</td>\n",
       "    </tr>\n",
       "    <tr>\n",
       "      <th>2374</th>\n",
       "      <td>320.299988</td>\n",
       "      <td>329.559998</td>\n",
       "      <td>319.720001</td>\n",
       "      <td>328.690002</td>\n",
       "      <td>328.690002</td>\n",
       "      <td>38409000</td>\n",
       "      <td>335.189996</td>\n",
       "      <td>331.288998</td>\n",
       "      <td>42.540399</td>\n",
       "      <td>53.952125</td>\n",
       "      <td>...</td>\n",
       "      <td>332.781998</td>\n",
       "      <td>333.074797</td>\n",
       "      <td>338.885726</td>\n",
       "      <td>-5.810929</td>\n",
       "      <td>98.717567</td>\n",
       "      <td>0.675676</td>\n",
       "      <td>-60.952286</td>\n",
       "      <td>-0.638920</td>\n",
       "      <td>32.451445</td>\n",
       "      <td>-60.0</td>\n",
       "    </tr>\n",
       "    <tr>\n",
       "      <th>2375</th>\n",
       "      <td>328.260010</td>\n",
       "      <td>330.209991</td>\n",
       "      <td>309.600006</td>\n",
       "      <td>315.809998</td>\n",
       "      <td>315.809998</td>\n",
       "      <td>65654000</td>\n",
       "      <td>330.353998</td>\n",
       "      <td>330.492999</td>\n",
       "      <td>18.062801</td>\n",
       "      <td>29.270321</td>\n",
       "      <td>...</td>\n",
       "      <td>329.967634</td>\n",
       "      <td>330.418674</td>\n",
       "      <td>337.176413</td>\n",
       "      <td>-6.757739</td>\n",
       "      <td>94.655912</td>\n",
       "      <td>0.675676</td>\n",
       "      <td>-130.133739</td>\n",
       "      <td>-4.163506</td>\n",
       "      <td>32.635555</td>\n",
       "      <td>-84.0</td>\n",
       "    </tr>\n",
       "    <tr>\n",
       "      <th>2376</th>\n",
       "      <td>314.190002</td>\n",
       "      <td>319.250000</td>\n",
       "      <td>312.059998</td>\n",
       "      <td>312.220001</td>\n",
       "      <td>312.220001</td>\n",
       "      <td>29971800</td>\n",
       "      <td>324.641998</td>\n",
       "      <td>329.260999</td>\n",
       "      <td>7.620694</td>\n",
       "      <td>22.741298</td>\n",
       "      <td>...</td>\n",
       "      <td>326.645271</td>\n",
       "      <td>327.618878</td>\n",
       "      <td>335.327790</td>\n",
       "      <td>-7.708912</td>\n",
       "      <td>94.836280</td>\n",
       "      <td>0.675676</td>\n",
       "      <td>-147.516715</td>\n",
       "      <td>-4.902510</td>\n",
       "      <td>33.349941</td>\n",
       "      <td>-88.0</td>\n",
       "    </tr>\n",
       "    <tr>\n",
       "      <th>2377</th>\n",
       "      <td>312.989990</td>\n",
       "      <td>325.519989</td>\n",
       "      <td>308.109985</td>\n",
       "      <td>316.920013</td>\n",
       "      <td>316.920013</td>\n",
       "      <td>50806800</td>\n",
       "      <td>319.650000</td>\n",
       "      <td>328.100000</td>\n",
       "      <td>24.560975</td>\n",
       "      <td>16.748157</td>\n",
       "      <td>...</td>\n",
       "      <td>324.401455</td>\n",
       "      <td>325.972899</td>\n",
       "      <td>333.964251</td>\n",
       "      <td>-7.991352</td>\n",
       "      <td>96.021822</td>\n",
       "      <td>0.910010</td>\n",
       "      <td>-105.801103</td>\n",
       "      <td>-3.194426</td>\n",
       "      <td>33.965208</td>\n",
       "      <td>-88.0</td>\n",
       "    </tr>\n",
       "  </tbody>\n",
       "</table>\n",
       "<p>2364 rows × 24 columns</p>\n",
       "</div>"
      ],
      "text/plain": [
       "            Open        High         Low       Close   Adj Close    Volume  \\\n",
       "14     26.549999   27.760000   26.440001   27.100000   27.100000  38034000   \n",
       "15     27.180000   28.070000   26.840000   27.010000   27.010000  28219600   \n",
       "16     27.480000   27.770000   26.959999   27.400000   27.400000  15816800   \n",
       "17     27.660000   28.100000   27.100000   27.270000   27.270000  17102800   \n",
       "18     27.650000   28.320000   27.379999   28.290001   28.290001  16855000   \n",
       "...          ...         ...         ...         ...         ...       ...   \n",
       "2373  326.350006  329.630005  321.109985  324.609985  324.609985  35152700   \n",
       "2374  320.299988  329.559998  319.720001  328.690002  328.690002  38409000   \n",
       "2375  328.260010  330.209991  309.600006  315.809998  315.809998  65654000   \n",
       "2376  314.190002  319.250000  312.059998  312.220001  312.220001  29971800   \n",
       "2377  312.989990  325.519989  308.109985  316.920013  316.920013  50806800   \n",
       "\n",
       "            SMA5       SMA10  StochasticK  StochasticD  ...       WMA10  \\\n",
       "14     26.598000   27.925000    14.183124     9.119280  ...   27.198545   \n",
       "15     26.620000   27.435000    18.463445    12.234002  ...   27.032182   \n",
       "16     26.926000   27.291000    24.447337    19.031302  ...   27.025818   \n",
       "17     27.018000   27.199000    22.756830    21.889204  ...   27.022000   \n",
       "18     27.414000   27.068000    37.281301    28.161823  ...   27.220364   \n",
       "...          ...         ...          ...          ...  ...         ...   \n",
       "2373  336.519995  330.964999    27.207763    67.993823  ...  333.195634   \n",
       "2374  335.189996  331.288998    42.540399    53.952125  ...  332.781998   \n",
       "2375  330.353998  330.492999    18.062801    29.270321  ...  329.967634   \n",
       "2376  324.641998  329.260999     7.620694    22.741298  ...  326.645271   \n",
       "2377  319.650000  328.100000    24.560975    16.748157  ...  324.401455   \n",
       "\n",
       "           EMA12       EMA26      MACD   Momentum       RSI         CCI  \\\n",
       "14     28.871771   31.839056 -2.967285  70.886738  0.282646  -66.138608   \n",
       "15     28.585345   31.481348 -2.896003  79.371145  0.381194  -53.840862   \n",
       "16     28.402984   31.179026 -2.776042  88.387097  0.282646  -45.779188   \n",
       "17     28.228679   30.889468 -2.660790  85.218750  0.282646  -34.377153   \n",
       "18     28.238113   30.696915 -2.458802  85.649415  0.381194    4.817392   \n",
       "...          ...         ...       ...        ...       ...         ...   \n",
       "2373  333.872032  339.701384 -5.829352  99.503410  0.910010  -82.414952   \n",
       "2374  333.074797  338.885726 -5.810929  98.717567  0.675676  -60.952286   \n",
       "2375  330.418674  337.176413 -6.757739  94.655912  0.675676 -130.133739   \n",
       "2376  327.618878  335.327790 -7.708912  94.836280  0.675676 -147.516715   \n",
       "2377  325.972899  333.964251 -7.991352  96.021822  0.910010 -105.801103   \n",
       "\n",
       "            DI        ADX  Aroon  \n",
       "14   -7.307419  81.950354  -44.0  \n",
       "15   -6.003132  77.257952  -44.0  \n",
       "16   -3.784895  73.418742  -44.0  \n",
       "17   -3.091684  71.350434  -44.0  \n",
       "18    1.757364  68.371248  -44.0  \n",
       "...        ...        ...    ...  \n",
       "2373 -1.962675  32.401953  -60.0  \n",
       "2374 -0.638920  32.451445  -60.0  \n",
       "2375 -4.163506  32.635555  -84.0  \n",
       "2376 -4.902510  33.349941  -88.0  \n",
       "2377 -3.194426  33.965208  -88.0  \n",
       "\n",
       "[2364 rows x 24 columns]"
      ]
     },
     "execution_count": 47,
     "metadata": {},
     "output_type": "execute_result"
    }
   ],
   "source": [
    "target = complete_data['Direction']\n",
    "complete_data = complete_data.drop(['Date', 'Direction'], axis=1)\n",
    "complete_data"
   ]
  },
  {
   "cell_type": "markdown",
   "metadata": {},
   "source": [
    "### autofeat Classification"
   ]
  },
  {
   "cell_type": "code",
   "execution_count": 48,
   "metadata": {},
   "outputs": [],
   "source": [
    "from sklearn.model_selection import train_test_split"
   ]
  },
  {
   "cell_type": "code",
   "execution_count": 49,
   "metadata": {},
   "outputs": [],
   "source": [
    "from autofeat import AutoFeatClassifier\n",
    "X_train, X_test, y_train, y_test = train_test_split(complete_data,target,test_size=0.3)\n",
    "model = AutoFeatClassifier()\n",
    "df = model.fit_transform(X_train, y_train)\n",
    "y_pred = model.predict(X_test)"
   ]
  },
  {
   "cell_type": "code",
   "execution_count": 50,
   "metadata": {},
   "outputs": [
    {
     "data": {
      "text/plain": [
       "0.6140845070422535"
      ]
     },
     "execution_count": 50,
     "metadata": {},
     "output_type": "execute_result"
    }
   ],
   "source": [
    "df_test = model.transform(X_test)\n",
    "model.score(df_test,y_test)"
   ]
  },
  {
   "cell_type": "code",
   "execution_count": 51,
   "metadata": {},
   "outputs": [
    {
     "data": {
      "text/html": [
       "<div>\n",
       "<style scoped>\n",
       "    .dataframe tbody tr th:only-of-type {\n",
       "        vertical-align: middle;\n",
       "    }\n",
       "\n",
       "    .dataframe tbody tr th {\n",
       "        vertical-align: top;\n",
       "    }\n",
       "\n",
       "    .dataframe thead th {\n",
       "        text-align: right;\n",
       "    }\n",
       "</style>\n",
       "<table border=\"1\" class=\"dataframe\">\n",
       "  <thead>\n",
       "    <tr style=\"text-align: right;\">\n",
       "      <th></th>\n",
       "      <th>Open</th>\n",
       "      <th>High</th>\n",
       "      <th>Low</th>\n",
       "      <th>Close</th>\n",
       "      <th>Adj Close</th>\n",
       "      <th>Volume</th>\n",
       "      <th>SMA5</th>\n",
       "      <th>SMA10</th>\n",
       "      <th>StochasticK</th>\n",
       "      <th>StochasticD</th>\n",
       "      <th>...</th>\n",
       "      <th>ROC**2/ADX</th>\n",
       "      <th>Low/AdjClose</th>\n",
       "      <th>DI**3*ROC**2</th>\n",
       "      <th>MACD*log(RSI)</th>\n",
       "      <th>ROC**3*SMA5**3</th>\n",
       "      <th>log(EMA12)/RSI</th>\n",
       "      <th>Abs(Aroon)/RSI</th>\n",
       "      <th>log(RSI)*Abs(MACD)</th>\n",
       "      <th>StochasticD*Abs(ADO)</th>\n",
       "      <th>sqrt(StochasticK)*Abs(ROC)</th>\n",
       "    </tr>\n",
       "  </thead>\n",
       "  <tbody>\n",
       "    <tr>\n",
       "      <th>0</th>\n",
       "      <td>87.519997</td>\n",
       "      <td>89.180000</td>\n",
       "      <td>85.610001</td>\n",
       "      <td>86.059998</td>\n",
       "      <td>86.059998</td>\n",
       "      <td>62778700.0</td>\n",
       "      <td>92.205998</td>\n",
       "      <td>93.084000</td>\n",
       "      <td>3.427244</td>\n",
       "      <td>19.734825</td>\n",
       "      <td>...</td>\n",
       "      <td>0.000610</td>\n",
       "      <td>0.994771</td>\n",
       "      <td>-6.112873</td>\n",
       "      <td>0.046835</td>\n",
       "      <td>-977.458786</td>\n",
       "      <td>16.024942</td>\n",
       "      <td>325.496000</td>\n",
       "      <td>-0.046835</td>\n",
       "      <td>7.628579</td>\n",
       "      <td>0.199257</td>\n",
       "    </tr>\n",
       "    <tr>\n",
       "      <th>1</th>\n",
       "      <td>24.540001</td>\n",
       "      <td>24.540001</td>\n",
       "      <td>23.920000</td>\n",
       "      <td>24.100000</td>\n",
       "      <td>24.100000</td>\n",
       "      <td>50079700.0</td>\n",
       "      <td>24.858000</td>\n",
       "      <td>25.610000</td>\n",
       "      <td>4.958679</td>\n",
       "      <td>6.306167</td>\n",
       "      <td>...</td>\n",
       "      <td>0.000553</td>\n",
       "      <td>0.992531</td>\n",
       "      <td>-4.498554</td>\n",
       "      <td>1.175635</td>\n",
       "      <td>-19.743350</td>\n",
       "      <td>23.321485</td>\n",
       "      <td>489.373333</td>\n",
       "      <td>-1.175635</td>\n",
       "      <td>2.339401</td>\n",
       "      <td>0.242116</td>\n",
       "    </tr>\n",
       "    <tr>\n",
       "      <th>2</th>\n",
       "      <td>202.839996</td>\n",
       "      <td>204.240005</td>\n",
       "      <td>200.960007</td>\n",
       "      <td>202.360001</td>\n",
       "      <td>202.360001</td>\n",
       "      <td>14583700.0</td>\n",
       "      <td>201.124002</td>\n",
       "      <td>202.220000</td>\n",
       "      <td>73.710909</td>\n",
       "      <td>65.504459</td>\n",
       "      <td>...</td>\n",
       "      <td>0.000029</td>\n",
       "      <td>0.993082</td>\n",
       "      <td>0.000458</td>\n",
       "      <td>-4.159315</td>\n",
       "      <td>227.356621</td>\n",
       "      <td>13.902913</td>\n",
       "      <td>167.893333</td>\n",
       "      <td>-4.159315</td>\n",
       "      <td>38.344057</td>\n",
       "      <td>0.260538</td>\n",
       "    </tr>\n",
       "    <tr>\n",
       "      <th>3</th>\n",
       "      <td>165.649994</td>\n",
       "      <td>167.419998</td>\n",
       "      <td>164.089996</td>\n",
       "      <td>164.339996</td>\n",
       "      <td>164.339996</td>\n",
       "      <td>16389200.0</td>\n",
       "      <td>163.580002</td>\n",
       "      <td>167.141000</td>\n",
       "      <td>33.688387</td>\n",
       "      <td>39.991119</td>\n",
       "      <td>...</td>\n",
       "      <td>0.000129</td>\n",
       "      <td>0.998479</td>\n",
       "      <td>-0.025820</td>\n",
       "      <td>-0.433808</td>\n",
       "      <td>-464.958131</td>\n",
       "      <td>7.565983</td>\n",
       "      <td>82.880000</td>\n",
       "      <td>-0.433808</td>\n",
       "      <td>16.092465</td>\n",
       "      <td>0.274883</td>\n",
       "    </tr>\n",
       "    <tr>\n",
       "      <th>4</th>\n",
       "      <td>328.950012</td>\n",
       "      <td>335.890015</td>\n",
       "      <td>327.500000</td>\n",
       "      <td>335.339996</td>\n",
       "      <td>335.339996</td>\n",
       "      <td>21585000.0</td>\n",
       "      <td>327.388001</td>\n",
       "      <td>328.826001</td>\n",
       "      <td>64.501043</td>\n",
       "      <td>38.989827</td>\n",
       "      <td>...</td>\n",
       "      <td>0.000004</td>\n",
       "      <td>0.976621</td>\n",
       "      <td>0.000283</td>\n",
       "      <td>3.481823</td>\n",
       "      <td>-59.629652</td>\n",
       "      <td>8.591695</td>\n",
       "      <td>118.400000</td>\n",
       "      <td>-3.481823</td>\n",
       "      <td>51.723026</td>\n",
       "      <td>0.095839</td>\n",
       "    </tr>\n",
       "    <tr>\n",
       "      <th>...</th>\n",
       "      <td>...</td>\n",
       "      <td>...</td>\n",
       "      <td>...</td>\n",
       "      <td>...</td>\n",
       "      <td>...</td>\n",
       "      <td>...</td>\n",
       "      <td>...</td>\n",
       "      <td>...</td>\n",
       "      <td>...</td>\n",
       "      <td>...</td>\n",
       "      <td>...</td>\n",
       "      <td>...</td>\n",
       "      <td>...</td>\n",
       "      <td>...</td>\n",
       "      <td>...</td>\n",
       "      <td>...</td>\n",
       "      <td>...</td>\n",
       "      <td>...</td>\n",
       "      <td>...</td>\n",
       "      <td>...</td>\n",
       "      <td>...</td>\n",
       "    </tr>\n",
       "    <tr>\n",
       "      <th>1649</th>\n",
       "      <td>151.710007</td>\n",
       "      <td>153.570007</td>\n",
       "      <td>151.710007</td>\n",
       "      <td>152.869995</td>\n",
       "      <td>152.869995</td>\n",
       "      <td>19026500.0</td>\n",
       "      <td>150.847998</td>\n",
       "      <td>151.292000</td>\n",
       "      <td>75.339968</td>\n",
       "      <td>59.323078</td>\n",
       "      <td>...</td>\n",
       "      <td>0.000004</td>\n",
       "      <td>0.992412</td>\n",
       "      <td>0.000040</td>\n",
       "      <td>-0.263797</td>\n",
       "      <td>2.373741</td>\n",
       "      <td>7.427154</td>\n",
       "      <td>88.800000</td>\n",
       "      <td>-0.263797</td>\n",
       "      <td>93.450050</td>\n",
       "      <td>0.076757</td>\n",
       "    </tr>\n",
       "    <tr>\n",
       "      <th>1650</th>\n",
       "      <td>126.000000</td>\n",
       "      <td>134.240005</td>\n",
       "      <td>125.889999</td>\n",
       "      <td>134.179993</td>\n",
       "      <td>134.179993</td>\n",
       "      <td>39723400.0</td>\n",
       "      <td>129.965997</td>\n",
       "      <td>136.724999</td>\n",
       "      <td>46.172916</td>\n",
       "      <td>18.970818</td>\n",
       "      <td>...</td>\n",
       "      <td>0.000021</td>\n",
       "      <td>0.938217</td>\n",
       "      <td>-0.009525</td>\n",
       "      <td>1.294557</td>\n",
       "      <td>-28.772425</td>\n",
       "      <td>7.259251</td>\n",
       "      <td>41.440000</td>\n",
       "      <td>-1.294557</td>\n",
       "      <td>23.128493</td>\n",
       "      <td>0.160210</td>\n",
       "    </tr>\n",
       "    <tr>\n",
       "      <th>1651</th>\n",
       "      <td>229.029999</td>\n",
       "      <td>231.550003</td>\n",
       "      <td>227.410004</td>\n",
       "      <td>231.399994</td>\n",
       "      <td>231.399994</td>\n",
       "      <td>15466500.0</td>\n",
       "      <td>230.267999</td>\n",
       "      <td>229.514000</td>\n",
       "      <td>66.156029</td>\n",
       "      <td>64.207208</td>\n",
       "      <td>...</td>\n",
       "      <td>0.000001</td>\n",
       "      <td>0.982757</td>\n",
       "      <td>0.000036</td>\n",
       "      <td>-3.494088</td>\n",
       "      <td>2.935546</td>\n",
       "      <td>8.032079</td>\n",
       "      <td>41.440000</td>\n",
       "      <td>-3.494088</td>\n",
       "      <td>12.096998</td>\n",
       "      <td>0.050576</td>\n",
       "    </tr>\n",
       "    <tr>\n",
       "      <th>1652</th>\n",
       "      <td>206.750000</td>\n",
       "      <td>209.789993</td>\n",
       "      <td>206.270004</td>\n",
       "      <td>209.779999</td>\n",
       "      <td>209.779999</td>\n",
       "      <td>12077100.0</td>\n",
       "      <td>207.066000</td>\n",
       "      <td>206.148999</td>\n",
       "      <td>99.939868</td>\n",
       "      <td>82.636503</td>\n",
       "      <td>...</td>\n",
       "      <td>0.000282</td>\n",
       "      <td>0.983268</td>\n",
       "      <td>0.193826</td>\n",
       "      <td>-0.278189</td>\n",
       "      <td>4670.780651</td>\n",
       "      <td>5.849870</td>\n",
       "      <td>52.746667</td>\n",
       "      <td>-0.278189</td>\n",
       "      <td>106.582476</td>\n",
       "      <td>0.807031</td>\n",
       "    </tr>\n",
       "    <tr>\n",
       "      <th>1653</th>\n",
       "      <td>69.339996</td>\n",
       "      <td>70.010002</td>\n",
       "      <td>68.870003</td>\n",
       "      <td>68.940002</td>\n",
       "      <td>68.940002</td>\n",
       "      <td>41653700.0</td>\n",
       "      <td>69.483999</td>\n",
       "      <td>68.682999</td>\n",
       "      <td>72.885035</td>\n",
       "      <td>78.469033</td>\n",
       "      <td>...</td>\n",
       "      <td>0.000229</td>\n",
       "      <td>0.998985</td>\n",
       "      <td>0.081018</td>\n",
       "      <td>-3.050173</td>\n",
       "      <td>204.679713</td>\n",
       "      <td>11.057642</td>\n",
       "      <td>178.386667</td>\n",
       "      <td>-3.050173</td>\n",
       "      <td>51.624409</td>\n",
       "      <td>0.724090</td>\n",
       "    </tr>\n",
       "  </tbody>\n",
       "</table>\n",
       "<p>1654 rows × 42 columns</p>\n",
       "</div>"
      ],
      "text/plain": [
       "            Open        High         Low       Close   Adj Close      Volume  \\\n",
       "0      87.519997   89.180000   85.610001   86.059998   86.059998  62778700.0   \n",
       "1      24.540001   24.540001   23.920000   24.100000   24.100000  50079700.0   \n",
       "2     202.839996  204.240005  200.960007  202.360001  202.360001  14583700.0   \n",
       "3     165.649994  167.419998  164.089996  164.339996  164.339996  16389200.0   \n",
       "4     328.950012  335.890015  327.500000  335.339996  335.339996  21585000.0   \n",
       "...          ...         ...         ...         ...         ...         ...   \n",
       "1649  151.710007  153.570007  151.710007  152.869995  152.869995  19026500.0   \n",
       "1650  126.000000  134.240005  125.889999  134.179993  134.179993  39723400.0   \n",
       "1651  229.029999  231.550003  227.410004  231.399994  231.399994  15466500.0   \n",
       "1652  206.750000  209.789993  206.270004  209.779999  209.779999  12077100.0   \n",
       "1653   69.339996   70.010002   68.870003   68.940002   68.940002  41653700.0   \n",
       "\n",
       "            SMA5       SMA10  StochasticK  StochasticD  ...  ROC**2/ADX  \\\n",
       "0      92.205998   93.084000     3.427244    19.734825  ...    0.000610   \n",
       "1      24.858000   25.610000     4.958679     6.306167  ...    0.000553   \n",
       "2     201.124002  202.220000    73.710909    65.504459  ...    0.000029   \n",
       "3     163.580002  167.141000    33.688387    39.991119  ...    0.000129   \n",
       "4     327.388001  328.826001    64.501043    38.989827  ...    0.000004   \n",
       "...          ...         ...          ...          ...  ...         ...   \n",
       "1649  150.847998  151.292000    75.339968    59.323078  ...    0.000004   \n",
       "1650  129.965997  136.724999    46.172916    18.970818  ...    0.000021   \n",
       "1651  230.267999  229.514000    66.156029    64.207208  ...    0.000001   \n",
       "1652  207.066000  206.148999    99.939868    82.636503  ...    0.000282   \n",
       "1653   69.483999   68.682999    72.885035    78.469033  ...    0.000229   \n",
       "\n",
       "      Low/AdjClose  DI**3*ROC**2  MACD*log(RSI)  ROC**3*SMA5**3  \\\n",
       "0         0.994771     -6.112873       0.046835     -977.458786   \n",
       "1         0.992531     -4.498554       1.175635      -19.743350   \n",
       "2         0.993082      0.000458      -4.159315      227.356621   \n",
       "3         0.998479     -0.025820      -0.433808     -464.958131   \n",
       "4         0.976621      0.000283       3.481823      -59.629652   \n",
       "...            ...           ...            ...             ...   \n",
       "1649      0.992412      0.000040      -0.263797        2.373741   \n",
       "1650      0.938217     -0.009525       1.294557      -28.772425   \n",
       "1651      0.982757      0.000036      -3.494088        2.935546   \n",
       "1652      0.983268      0.193826      -0.278189     4670.780651   \n",
       "1653      0.998985      0.081018      -3.050173      204.679713   \n",
       "\n",
       "      log(EMA12)/RSI  Abs(Aroon)/RSI  log(RSI)*Abs(MACD)  \\\n",
       "0          16.024942      325.496000           -0.046835   \n",
       "1          23.321485      489.373333           -1.175635   \n",
       "2          13.902913      167.893333           -4.159315   \n",
       "3           7.565983       82.880000           -0.433808   \n",
       "4           8.591695      118.400000           -3.481823   \n",
       "...              ...             ...                 ...   \n",
       "1649        7.427154       88.800000           -0.263797   \n",
       "1650        7.259251       41.440000           -1.294557   \n",
       "1651        8.032079       41.440000           -3.494088   \n",
       "1652        5.849870       52.746667           -0.278189   \n",
       "1653       11.057642      178.386667           -3.050173   \n",
       "\n",
       "      StochasticD*Abs(ADO)  sqrt(StochasticK)*Abs(ROC)  \n",
       "0                 7.628579                    0.199257  \n",
       "1                 2.339401                    0.242116  \n",
       "2                38.344057                    0.260538  \n",
       "3                16.092465                    0.274883  \n",
       "4                51.723026                    0.095839  \n",
       "...                    ...                         ...  \n",
       "1649             93.450050                    0.076757  \n",
       "1650             23.128493                    0.160210  \n",
       "1651             12.096998                    0.050576  \n",
       "1652            106.582476                    0.807031  \n",
       "1653             51.624409                    0.724090  \n",
       "\n",
       "[1654 rows x 42 columns]"
      ]
     },
     "execution_count": 51,
     "metadata": {},
     "output_type": "execute_result"
    }
   ],
   "source": [
    "df"
   ]
  },
  {
   "cell_type": "code",
   "execution_count": 52,
   "metadata": {},
   "outputs": [
    {
     "data": {
      "text/html": [
       "<div>\n",
       "<style scoped>\n",
       "    .dataframe tbody tr th:only-of-type {\n",
       "        vertical-align: middle;\n",
       "    }\n",
       "\n",
       "    .dataframe tbody tr th {\n",
       "        vertical-align: top;\n",
       "    }\n",
       "\n",
       "    .dataframe thead th {\n",
       "        text-align: right;\n",
       "    }\n",
       "</style>\n",
       "<table border=\"1\" class=\"dataframe\">\n",
       "  <thead>\n",
       "    <tr style=\"text-align: right;\">\n",
       "      <th></th>\n",
       "      <th>Open</th>\n",
       "      <th>High</th>\n",
       "      <th>Low</th>\n",
       "      <th>Close</th>\n",
       "      <th>Adj Close</th>\n",
       "      <th>Volume</th>\n",
       "      <th>SMA5</th>\n",
       "      <th>SMA10</th>\n",
       "      <th>StochasticK</th>\n",
       "      <th>StochasticD</th>\n",
       "      <th>...</th>\n",
       "      <th>ROC**2/ADX</th>\n",
       "      <th>Low/AdjClose</th>\n",
       "      <th>DI**3*ROC**2</th>\n",
       "      <th>MACD*log(RSI)</th>\n",
       "      <th>ROC**3*SMA5**3</th>\n",
       "      <th>log(EMA12)/RSI</th>\n",
       "      <th>Abs(Aroon)/RSI</th>\n",
       "      <th>log(RSI)*Abs(MACD)</th>\n",
       "      <th>StochasticD*Abs(ADO)</th>\n",
       "      <th>sqrt(StochasticK)*Abs(ROC)</th>\n",
       "    </tr>\n",
       "  </thead>\n",
       "  <tbody>\n",
       "    <tr>\n",
       "      <th>0</th>\n",
       "      <td>78.019997</td>\n",
       "      <td>78.300003</td>\n",
       "      <td>77.099998</td>\n",
       "      <td>77.480003</td>\n",
       "      <td>77.480003</td>\n",
       "      <td>26676800.0</td>\n",
       "      <td>77.478000</td>\n",
       "      <td>76.793000</td>\n",
       "      <td>80.993556</td>\n",
       "      <td>85.240257</td>\n",
       "      <td>...</td>\n",
       "      <td>0.000017</td>\n",
       "      <td>0.995095</td>\n",
       "      <td>0.001711</td>\n",
       "      <td>-0.541176</td>\n",
       "      <td>3.726615</td>\n",
       "      <td>6.421241</td>\n",
       "      <td>124.320000</td>\n",
       "      <td>-0.541176</td>\n",
       "      <td>26.992991</td>\n",
       "      <td>0.180088</td>\n",
       "    </tr>\n",
       "    <tr>\n",
       "      <th>1</th>\n",
       "      <td>40.889999</td>\n",
       "      <td>41.779999</td>\n",
       "      <td>40.799999</td>\n",
       "      <td>41.279999</td>\n",
       "      <td>41.279999</td>\n",
       "      <td>58303400.0</td>\n",
       "      <td>40.671999</td>\n",
       "      <td>39.353000</td>\n",
       "      <td>88.851349</td>\n",
       "      <td>75.506753</td>\n",
       "      <td>...</td>\n",
       "      <td>0.000268</td>\n",
       "      <td>0.988372</td>\n",
       "      <td>3.861269</td>\n",
       "      <td>-0.218788</td>\n",
       "      <td>102.519342</td>\n",
       "      <td>4.034736</td>\n",
       "      <td>92.306667</td>\n",
       "      <td>-0.218788</td>\n",
       "      <td>94.768679</td>\n",
       "      <td>1.084689</td>\n",
       "    </tr>\n",
       "    <tr>\n",
       "      <th>2</th>\n",
       "      <td>160.820007</td>\n",
       "      <td>161.100006</td>\n",
       "      <td>149.020004</td>\n",
       "      <td>160.059998</td>\n",
       "      <td>160.059998</td>\n",
       "      <td>126116600.0</td>\n",
       "      <td>164.375998</td>\n",
       "      <td>172.945999</td>\n",
       "      <td>29.773445</td>\n",
       "      <td>14.437888</td>\n",
       "      <td>...</td>\n",
       "      <td>0.000718</td>\n",
       "      <td>0.931026</td>\n",
       "      <td>-11.296105</td>\n",
       "      <td>5.702054</td>\n",
       "      <td>-8102.421388</td>\n",
       "      <td>18.195115</td>\n",
       "      <td>141.520000</td>\n",
       "      <td>-5.702054</td>\n",
       "      <td>2.043782</td>\n",
       "      <td>0.666727</td>\n",
       "    </tr>\n",
       "    <tr>\n",
       "      <th>3</th>\n",
       "      <td>28.010000</td>\n",
       "      <td>28.639999</td>\n",
       "      <td>27.830000</td>\n",
       "      <td>28.139999</td>\n",
       "      <td>28.139999</td>\n",
       "      <td>35642100.0</td>\n",
       "      <td>27.930000</td>\n",
       "      <td>27.666000</td>\n",
       "      <td>66.420652</td>\n",
       "      <td>69.098843</td>\n",
       "      <td>...</td>\n",
       "      <td>0.000036</td>\n",
       "      <td>0.988984</td>\n",
       "      <td>0.006304</td>\n",
       "      <td>0.245062</td>\n",
       "      <td>0.682609</td>\n",
       "      <td>8.730286</td>\n",
       "      <td>146.906667</td>\n",
       "      <td>-0.245062</td>\n",
       "      <td>58.008976</td>\n",
       "      <td>0.256924</td>\n",
       "    </tr>\n",
       "    <tr>\n",
       "      <th>4</th>\n",
       "      <td>124.010002</td>\n",
       "      <td>124.260002</td>\n",
       "      <td>123.639999</td>\n",
       "      <td>123.910004</td>\n",
       "      <td>123.910004</td>\n",
       "      <td>12400800.0</td>\n",
       "      <td>124.072002</td>\n",
       "      <td>124.561001</td>\n",
       "      <td>45.771289</td>\n",
       "      <td>40.877985</td>\n",
       "      <td>...</td>\n",
       "      <td>0.000002</td>\n",
       "      <td>0.997821</td>\n",
       "      <td>-0.000001</td>\n",
       "      <td>-1.778543</td>\n",
       "      <td>0.564686</td>\n",
       "      <td>17.053412</td>\n",
       "      <td>226.432000</td>\n",
       "      <td>-1.778543</td>\n",
       "      <td>7.252577</td>\n",
       "      <td>0.045070</td>\n",
       "    </tr>\n",
       "    <tr>\n",
       "      <th>...</th>\n",
       "      <td>...</td>\n",
       "      <td>...</td>\n",
       "      <td>...</td>\n",
       "      <td>...</td>\n",
       "      <td>...</td>\n",
       "      <td>...</td>\n",
       "      <td>...</td>\n",
       "      <td>...</td>\n",
       "      <td>...</td>\n",
       "      <td>...</td>\n",
       "      <td>...</td>\n",
       "      <td>...</td>\n",
       "      <td>...</td>\n",
       "      <td>...</td>\n",
       "      <td>...</td>\n",
       "      <td>...</td>\n",
       "      <td>...</td>\n",
       "      <td>...</td>\n",
       "      <td>...</td>\n",
       "      <td>...</td>\n",
       "      <td>...</td>\n",
       "    </tr>\n",
       "    <tr>\n",
       "      <th>705</th>\n",
       "      <td>332.690002</td>\n",
       "      <td>339.920013</td>\n",
       "      <td>332.600006</td>\n",
       "      <td>339.029999</td>\n",
       "      <td>339.029999</td>\n",
       "      <td>15345300.0</td>\n",
       "      <td>333.714002</td>\n",
       "      <td>333.606000</td>\n",
       "      <td>94.586290</td>\n",
       "      <td>61.922091</td>\n",
       "      <td>...</td>\n",
       "      <td>0.000035</td>\n",
       "      <td>0.981034</td>\n",
       "      <td>0.003995</td>\n",
       "      <td>-1.887031</td>\n",
       "      <td>674.152974</td>\n",
       "      <td>8.595943</td>\n",
       "      <td>142.080000</td>\n",
       "      <td>-1.887031</td>\n",
       "      <td>64.544447</td>\n",
       "      <td>0.255540</td>\n",
       "    </tr>\n",
       "    <tr>\n",
       "      <th>706</th>\n",
       "      <td>159.179993</td>\n",
       "      <td>166.750000</td>\n",
       "      <td>158.059998</td>\n",
       "      <td>165.949997</td>\n",
       "      <td>165.949997</td>\n",
       "      <td>22515200.0</td>\n",
       "      <td>160.653998</td>\n",
       "      <td>155.061000</td>\n",
       "      <td>74.393996</td>\n",
       "      <td>61.967208</td>\n",
       "      <td>...</td>\n",
       "      <td>0.000141</td>\n",
       "      <td>0.952456</td>\n",
       "      <td>1.198294</td>\n",
       "      <td>6.723752</td>\n",
       "      <td>1702.030639</td>\n",
       "      <td>10.005892</td>\n",
       "      <td>102.440000</td>\n",
       "      <td>-6.723752</td>\n",
       "      <td>71.023438</td>\n",
       "      <td>0.641013</td>\n",
       "    </tr>\n",
       "    <tr>\n",
       "      <th>707</th>\n",
       "      <td>26.389999</td>\n",
       "      <td>26.750000</td>\n",
       "      <td>26.010000</td>\n",
       "      <td>26.320000</td>\n",
       "      <td>26.320000</td>\n",
       "      <td>30817600.0</td>\n",
       "      <td>26.024000</td>\n",
       "      <td>25.361000</td>\n",
       "      <td>84.420290</td>\n",
       "      <td>91.612559</td>\n",
       "      <td>...</td>\n",
       "      <td>0.000298</td>\n",
       "      <td>0.988222</td>\n",
       "      <td>0.454473</td>\n",
       "      <td>0.243195</td>\n",
       "      <td>5.376098</td>\n",
       "      <td>1.762256</td>\n",
       "      <td>45.741818</td>\n",
       "      <td>0.243195</td>\n",
       "      <td>58.186231</td>\n",
       "      <td>0.618498</td>\n",
       "    </tr>\n",
       "    <tr>\n",
       "      <th>708</th>\n",
       "      <td>69.739998</td>\n",
       "      <td>71.330002</td>\n",
       "      <td>69.610001</td>\n",
       "      <td>71.290001</td>\n",
       "      <td>71.290001</td>\n",
       "      <td>78435000.0</td>\n",
       "      <td>68.958000</td>\n",
       "      <td>67.873000</td>\n",
       "      <td>99.561393</td>\n",
       "      <td>94.477458</td>\n",
       "      <td>...</td>\n",
       "      <td>0.000574</td>\n",
       "      <td>0.976434</td>\n",
       "      <td>2.212245</td>\n",
       "      <td>-0.532401</td>\n",
       "      <td>254.488232</td>\n",
       "      <td>6.245402</td>\n",
       "      <td>65.120000</td>\n",
       "      <td>-0.532401</td>\n",
       "      <td>113.153443</td>\n",
       "      <td>0.916959</td>\n",
       "    </tr>\n",
       "    <tr>\n",
       "      <th>709</th>\n",
       "      <td>78.940002</td>\n",
       "      <td>81.849998</td>\n",
       "      <td>78.669998</td>\n",
       "      <td>81.370003</td>\n",
       "      <td>81.370003</td>\n",
       "      <td>49438000.0</td>\n",
       "      <td>78.758002</td>\n",
       "      <td>78.568000</td>\n",
       "      <td>74.592879</td>\n",
       "      <td>36.345259</td>\n",
       "      <td>...</td>\n",
       "      <td>0.000003</td>\n",
       "      <td>0.966818</td>\n",
       "      <td>0.001710</td>\n",
       "      <td>0.733842</td>\n",
       "      <td>0.305590</td>\n",
       "      <td>11.472084</td>\n",
       "      <td>146.906667</td>\n",
       "      <td>-0.733842</td>\n",
       "      <td>38.973958</td>\n",
       "      <td>0.073864</td>\n",
       "    </tr>\n",
       "  </tbody>\n",
       "</table>\n",
       "<p>710 rows × 42 columns</p>\n",
       "</div>"
      ],
      "text/plain": [
       "           Open        High         Low       Close   Adj Close       Volume  \\\n",
       "0     78.019997   78.300003   77.099998   77.480003   77.480003   26676800.0   \n",
       "1     40.889999   41.779999   40.799999   41.279999   41.279999   58303400.0   \n",
       "2    160.820007  161.100006  149.020004  160.059998  160.059998  126116600.0   \n",
       "3     28.010000   28.639999   27.830000   28.139999   28.139999   35642100.0   \n",
       "4    124.010002  124.260002  123.639999  123.910004  123.910004   12400800.0   \n",
       "..          ...         ...         ...         ...         ...          ...   \n",
       "705  332.690002  339.920013  332.600006  339.029999  339.029999   15345300.0   \n",
       "706  159.179993  166.750000  158.059998  165.949997  165.949997   22515200.0   \n",
       "707   26.389999   26.750000   26.010000   26.320000   26.320000   30817600.0   \n",
       "708   69.739998   71.330002   69.610001   71.290001   71.290001   78435000.0   \n",
       "709   78.940002   81.849998   78.669998   81.370003   81.370003   49438000.0   \n",
       "\n",
       "           SMA5       SMA10  StochasticK  StochasticD  ...  ROC**2/ADX  \\\n",
       "0     77.478000   76.793000    80.993556    85.240257  ...    0.000017   \n",
       "1     40.671999   39.353000    88.851349    75.506753  ...    0.000268   \n",
       "2    164.375998  172.945999    29.773445    14.437888  ...    0.000718   \n",
       "3     27.930000   27.666000    66.420652    69.098843  ...    0.000036   \n",
       "4    124.072002  124.561001    45.771289    40.877985  ...    0.000002   \n",
       "..          ...         ...          ...          ...  ...         ...   \n",
       "705  333.714002  333.606000    94.586290    61.922091  ...    0.000035   \n",
       "706  160.653998  155.061000    74.393996    61.967208  ...    0.000141   \n",
       "707   26.024000   25.361000    84.420290    91.612559  ...    0.000298   \n",
       "708   68.958000   67.873000    99.561393    94.477458  ...    0.000574   \n",
       "709   78.758002   78.568000    74.592879    36.345259  ...    0.000003   \n",
       "\n",
       "     Low/AdjClose  DI**3*ROC**2  MACD*log(RSI)  ROC**3*SMA5**3  \\\n",
       "0        0.995095      0.001711      -0.541176        3.726615   \n",
       "1        0.988372      3.861269      -0.218788      102.519342   \n",
       "2        0.931026    -11.296105       5.702054    -8102.421388   \n",
       "3        0.988984      0.006304       0.245062        0.682609   \n",
       "4        0.997821     -0.000001      -1.778543        0.564686   \n",
       "..            ...           ...            ...             ...   \n",
       "705      0.981034      0.003995      -1.887031      674.152974   \n",
       "706      0.952456      1.198294       6.723752     1702.030639   \n",
       "707      0.988222      0.454473       0.243195        5.376098   \n",
       "708      0.976434      2.212245      -0.532401      254.488232   \n",
       "709      0.966818      0.001710       0.733842        0.305590   \n",
       "\n",
       "     log(EMA12)/RSI  Abs(Aroon)/RSI  log(RSI)*Abs(MACD)  StochasticD*Abs(ADO)  \\\n",
       "0          6.421241      124.320000           -0.541176             26.992991   \n",
       "1          4.034736       92.306667           -0.218788             94.768679   \n",
       "2         18.195115      141.520000           -5.702054              2.043782   \n",
       "3          8.730286      146.906667           -0.245062             58.008976   \n",
       "4         17.053412      226.432000           -1.778543              7.252577   \n",
       "..              ...             ...                 ...                   ...   \n",
       "705        8.595943      142.080000           -1.887031             64.544447   \n",
       "706       10.005892      102.440000           -6.723752             71.023438   \n",
       "707        1.762256       45.741818            0.243195             58.186231   \n",
       "708        6.245402       65.120000           -0.532401            113.153443   \n",
       "709       11.472084      146.906667           -0.733842             38.973958   \n",
       "\n",
       "     sqrt(StochasticK)*Abs(ROC)  \n",
       "0                      0.180088  \n",
       "1                      1.084689  \n",
       "2                      0.666727  \n",
       "3                      0.256924  \n",
       "4                      0.045070  \n",
       "..                          ...  \n",
       "705                    0.255540  \n",
       "706                    0.641013  \n",
       "707                    0.618498  \n",
       "708                    0.916959  \n",
       "709                    0.073864  \n",
       "\n",
       "[710 rows x 42 columns]"
      ]
     },
     "execution_count": 52,
     "metadata": {},
     "output_type": "execute_result"
    }
   ],
   "source": [
    "df_test"
   ]
  },
  {
   "cell_type": "markdown",
   "metadata": {},
   "source": [
    "### Generate New Features Based on autofeat Results"
   ]
  },
  {
   "cell_type": "code",
   "execution_count": 53,
   "metadata": {},
   "outputs": [],
   "source": [
    "import math"
   ]
  },
  {
   "cell_type": "code",
   "execution_count": 54,
   "metadata": {},
   "outputs": [],
   "source": [
    "def sqrt_rsi_momentum(rsi, momentum):\n",
    "    return (np.sqrt(rsi)/momentum)"
   ]
  },
  {
   "cell_type": "code",
   "execution_count": 55,
   "metadata": {},
   "outputs": [],
   "source": [
    "def sqrt_stochastic_d_rsi(stochastic_d, rsi):\n",
    "    return(np.sqrt(stochastic_d)/rsi)"
   ]
  },
  {
   "cell_type": "code",
   "execution_count": 56,
   "metadata": {},
   "outputs": [],
   "source": [
    "def sqrt_lwr_rsi (larry_williams_r, rsi):\n",
    "    return (np.sqrt(larry_williams_r)*rsi)"
   ]
  },
  {
   "cell_type": "code",
   "execution_count": 57,
   "metadata": {},
   "outputs": [],
   "source": [
    "def momentum_3_rsi(momentum, rsi):\n",
    "    return ((momentum**3)/rsi)"
   ]
  },
  {
   "cell_type": "code",
   "execution_count": 58,
   "metadata": {},
   "outputs": [],
   "source": [
    "def ado_macd_2(ado, macd):\n",
    "    return (ado*(macd**2))"
   ]
  },
  {
   "cell_type": "code",
   "execution_count": 59,
   "metadata": {},
   "outputs": [],
   "source": [
    "def adx_abs_roc(adx, roc):\n",
    "    return (adx*np.abs(roc))"
   ]
  },
  {
   "cell_type": "code",
   "execution_count": 60,
   "metadata": {},
   "outputs": [],
   "source": [
    "def sqrt_stochastic_k_log_rsi (stochastic_k, rsi):\n",
    "    return ((np.sqrt(stochastic_k))*np.log(rsi))"
   ]
  },
  {
   "cell_type": "code",
   "execution_count": 61,
   "metadata": {},
   "outputs": [],
   "source": [
    "def compute_adv_indicators(complete_data):\n",
    "    complete_data['SqrtRSI/Momentum'] = sqrt_rsi_momentum(complete_data['RSI'], complete_data['Momentum'])\n",
    "    complete_data['SqrtStochasticD/RSI'] = sqrt_stochastic_d_rsi(complete_data['StochasticD'], complete_data['RSI'])\n",
    "    complete_data['SqrtLarryWilliamsR*RSI'] = sqrt_lwr_rsi(complete_data['LarryWilliamsR'], complete_data['RSI'])\n",
    "    complete_data['Momentum**3/RSI'] = momentum_3_rsi(complete_data['Momentum'], complete_data['RSI'])\n",
    "    complete_data['ADO*MACD**2'] = ado_macd_2(complete_data['ADO'], complete_data['MACD'])\n",
    "    complete_data['ADX*AbsROC'] = adx_abs_roc(complete_data['ADX'], complete_data['ROC'])\n",
    "    complete_data['SqrtStochasticK*LogRSI'] = sqrt_stochastic_k_log_rsi(complete_data['StochasticK'], complete_data['RSI'])   \n",
    "    return complete_data"
   ]
  },
  {
   "cell_type": "code",
   "execution_count": 62,
   "metadata": {},
   "outputs": [
    {
     "data": {
      "text/html": [
       "<div>\n",
       "<style scoped>\n",
       "    .dataframe tbody tr th:only-of-type {\n",
       "        vertical-align: middle;\n",
       "    }\n",
       "\n",
       "    .dataframe tbody tr th {\n",
       "        vertical-align: top;\n",
       "    }\n",
       "\n",
       "    .dataframe thead th {\n",
       "        text-align: right;\n",
       "    }\n",
       "</style>\n",
       "<table border=\"1\" class=\"dataframe\">\n",
       "  <thead>\n",
       "    <tr style=\"text-align: right;\">\n",
       "      <th></th>\n",
       "      <th>Open</th>\n",
       "      <th>High</th>\n",
       "      <th>Low</th>\n",
       "      <th>Close</th>\n",
       "      <th>Adj Close</th>\n",
       "      <th>Volume</th>\n",
       "      <th>SMA5</th>\n",
       "      <th>SMA10</th>\n",
       "      <th>StochasticK</th>\n",
       "      <th>StochasticD</th>\n",
       "      <th>...</th>\n",
       "      <th>DI</th>\n",
       "      <th>ADX</th>\n",
       "      <th>Aroon</th>\n",
       "      <th>SqrtRSI/Momentum</th>\n",
       "      <th>SqrtStochasticD/RSI</th>\n",
       "      <th>SqrtLarryWilliamsR*RSI</th>\n",
       "      <th>Momentum**3/RSI</th>\n",
       "      <th>ADO*MACD**2</th>\n",
       "      <th>ADX*AbsROC</th>\n",
       "      <th>SqrtStochasticK*LogRSI</th>\n",
       "    </tr>\n",
       "  </thead>\n",
       "  <tbody>\n",
       "    <tr>\n",
       "      <th>14</th>\n",
       "      <td>26.549999</td>\n",
       "      <td>27.760000</td>\n",
       "      <td>26.440001</td>\n",
       "      <td>27.100000</td>\n",
       "      <td>27.100000</td>\n",
       "      <td>38034000</td>\n",
       "      <td>26.598000</td>\n",
       "      <td>27.925000</td>\n",
       "      <td>14.183124</td>\n",
       "      <td>9.119280</td>\n",
       "      <td>...</td>\n",
       "      <td>-7.307419</td>\n",
       "      <td>81.950354</td>\n",
       "      <td>-44.0</td>\n",
       "      <td>0.007500</td>\n",
       "      <td>10.684104</td>\n",
       "      <td>2.618355</td>\n",
       "      <td>1.260239e+06</td>\n",
       "      <td>9.671931</td>\n",
       "      <td>10.309883</td>\n",
       "      <td>-4.758635</td>\n",
       "    </tr>\n",
       "    <tr>\n",
       "      <th>15</th>\n",
       "      <td>27.180000</td>\n",
       "      <td>28.070000</td>\n",
       "      <td>26.840000</td>\n",
       "      <td>27.010000</td>\n",
       "      <td>27.010000</td>\n",
       "      <td>28219600</td>\n",
       "      <td>26.620000</td>\n",
       "      <td>27.435000</td>\n",
       "      <td>18.463445</td>\n",
       "      <td>12.234002</td>\n",
       "      <td>...</td>\n",
       "      <td>-6.003132</td>\n",
       "      <td>77.257952</td>\n",
       "      <td>-44.0</td>\n",
       "      <td>0.007779</td>\n",
       "      <td>9.175669</td>\n",
       "      <td>3.442094</td>\n",
       "      <td>1.311721e+06</td>\n",
       "      <td>6.614008</td>\n",
       "      <td>12.047412</td>\n",
       "      <td>-4.144138</td>\n",
       "    </tr>\n",
       "    <tr>\n",
       "      <th>16</th>\n",
       "      <td>27.480000</td>\n",
       "      <td>27.770000</td>\n",
       "      <td>26.959999</td>\n",
       "      <td>27.400000</td>\n",
       "      <td>27.400000</td>\n",
       "      <td>15816800</td>\n",
       "      <td>26.926000</td>\n",
       "      <td>27.291000</td>\n",
       "      <td>24.447337</td>\n",
       "      <td>19.031302</td>\n",
       "      <td>...</td>\n",
       "      <td>-3.784895</td>\n",
       "      <td>73.418742</td>\n",
       "      <td>-44.0</td>\n",
       "      <td>0.006015</td>\n",
       "      <td>15.434483</td>\n",
       "      <td>2.456784</td>\n",
       "      <td>2.443005e+06</td>\n",
       "      <td>7.230696</td>\n",
       "      <td>12.514304</td>\n",
       "      <td>-6.247585</td>\n",
       "    </tr>\n",
       "    <tr>\n",
       "      <th>17</th>\n",
       "      <td>27.660000</td>\n",
       "      <td>28.100000</td>\n",
       "      <td>27.100000</td>\n",
       "      <td>27.270000</td>\n",
       "      <td>27.270000</td>\n",
       "      <td>17102800</td>\n",
       "      <td>27.018000</td>\n",
       "      <td>27.199000</td>\n",
       "      <td>22.756830</td>\n",
       "      <td>21.889204</td>\n",
       "      <td>...</td>\n",
       "      <td>-3.091684</td>\n",
       "      <td>71.350434</td>\n",
       "      <td>-44.0</td>\n",
       "      <td>0.006239</td>\n",
       "      <td>16.552851</td>\n",
       "      <td>2.484118</td>\n",
       "      <td>2.189593e+06</td>\n",
       "      <td>4.955861</td>\n",
       "      <td>10.374993</td>\n",
       "      <td>-6.027709</td>\n",
       "    </tr>\n",
       "    <tr>\n",
       "      <th>18</th>\n",
       "      <td>27.650000</td>\n",
       "      <td>28.320000</td>\n",
       "      <td>27.379999</td>\n",
       "      <td>28.290001</td>\n",
       "      <td>28.290001</td>\n",
       "      <td>16855000</td>\n",
       "      <td>27.414000</td>\n",
       "      <td>27.068000</td>\n",
       "      <td>37.281301</td>\n",
       "      <td>28.161823</td>\n",
       "      <td>...</td>\n",
       "      <td>1.757364</td>\n",
       "      <td>68.371248</td>\n",
       "      <td>-44.0</td>\n",
       "      <td>0.007209</td>\n",
       "      <td>13.921430</td>\n",
       "      <td>3.018874</td>\n",
       "      <td>1.648264e+06</td>\n",
       "      <td>6.753178</td>\n",
       "      <td>1.303888</td>\n",
       "      <td>-5.888753</td>\n",
       "    </tr>\n",
       "    <tr>\n",
       "      <th>...</th>\n",
       "      <td>...</td>\n",
       "      <td>...</td>\n",
       "      <td>...</td>\n",
       "      <td>...</td>\n",
       "      <td>...</td>\n",
       "      <td>...</td>\n",
       "      <td>...</td>\n",
       "      <td>...</td>\n",
       "      <td>...</td>\n",
       "      <td>...</td>\n",
       "      <td>...</td>\n",
       "      <td>...</td>\n",
       "      <td>...</td>\n",
       "      <td>...</td>\n",
       "      <td>...</td>\n",
       "      <td>...</td>\n",
       "      <td>...</td>\n",
       "      <td>...</td>\n",
       "      <td>...</td>\n",
       "      <td>...</td>\n",
       "      <td>...</td>\n",
       "    </tr>\n",
       "    <tr>\n",
       "      <th>2373</th>\n",
       "      <td>326.350006</td>\n",
       "      <td>329.630005</td>\n",
       "      <td>321.109985</td>\n",
       "      <td>324.609985</td>\n",
       "      <td>324.609985</td>\n",
       "      <td>35152700</td>\n",
       "      <td>336.519995</td>\n",
       "      <td>330.964999</td>\n",
       "      <td>27.207763</td>\n",
       "      <td>67.993823</td>\n",
       "      <td>...</td>\n",
       "      <td>-1.962675</td>\n",
       "      <td>32.401953</td>\n",
       "      <td>-60.0</td>\n",
       "      <td>0.009587</td>\n",
       "      <td>9.061258</td>\n",
       "      <td>7.764058</td>\n",
       "      <td>1.082599e+06</td>\n",
       "      <td>-48.858035</td>\n",
       "      <td>0.876965</td>\n",
       "      <td>-0.491877</td>\n",
       "    </tr>\n",
       "    <tr>\n",
       "      <th>2374</th>\n",
       "      <td>320.299988</td>\n",
       "      <td>329.559998</td>\n",
       "      <td>319.720001</td>\n",
       "      <td>328.690002</td>\n",
       "      <td>328.690002</td>\n",
       "      <td>38409000</td>\n",
       "      <td>335.189996</td>\n",
       "      <td>331.288998</td>\n",
       "      <td>42.540399</td>\n",
       "      <td>53.952125</td>\n",
       "      <td>...</td>\n",
       "      <td>-0.638920</td>\n",
       "      <td>32.451445</td>\n",
       "      <td>-60.0</td>\n",
       "      <td>0.008327</td>\n",
       "      <td>10.870912</td>\n",
       "      <td>5.121764</td>\n",
       "      <td>1.423787e+06</td>\n",
       "      <td>16.986447</td>\n",
       "      <td>0.052242</td>\n",
       "      <td>-2.557016</td>\n",
       "    </tr>\n",
       "    <tr>\n",
       "      <th>2375</th>\n",
       "      <td>328.260010</td>\n",
       "      <td>330.209991</td>\n",
       "      <td>309.600006</td>\n",
       "      <td>315.809998</td>\n",
       "      <td>315.809998</td>\n",
       "      <td>65654000</td>\n",
       "      <td>330.353998</td>\n",
       "      <td>330.492999</td>\n",
       "      <td>18.062801</td>\n",
       "      <td>29.270321</td>\n",
       "      <td>...</td>\n",
       "      <td>-4.163506</td>\n",
       "      <td>32.635555</td>\n",
       "      <td>-84.0</td>\n",
       "      <td>0.008684</td>\n",
       "      <td>8.007104</td>\n",
       "      <td>6.116160</td>\n",
       "      <td>1.255177e+06</td>\n",
       "      <td>3.367950</td>\n",
       "      <td>1.408059</td>\n",
       "      <td>-1.666193</td>\n",
       "    </tr>\n",
       "    <tr>\n",
       "      <th>2376</th>\n",
       "      <td>314.190002</td>\n",
       "      <td>319.250000</td>\n",
       "      <td>312.059998</td>\n",
       "      <td>312.220001</td>\n",
       "      <td>312.220001</td>\n",
       "      <td>29971800</td>\n",
       "      <td>324.641998</td>\n",
       "      <td>329.260999</td>\n",
       "      <td>7.620694</td>\n",
       "      <td>22.741298</td>\n",
       "      <td>...</td>\n",
       "      <td>-4.902510</td>\n",
       "      <td>33.349941</td>\n",
       "      <td>-88.0</td>\n",
       "      <td>0.008668</td>\n",
       "      <td>7.057800</td>\n",
       "      <td>6.494200</td>\n",
       "      <td>1.262366e+06</td>\n",
       "      <td>28.432551</td>\n",
       "      <td>1.355723</td>\n",
       "      <td>-1.082256</td>\n",
       "    </tr>\n",
       "    <tr>\n",
       "      <th>2377</th>\n",
       "      <td>312.989990</td>\n",
       "      <td>325.519989</td>\n",
       "      <td>308.109985</td>\n",
       "      <td>316.920013</td>\n",
       "      <td>316.920013</td>\n",
       "      <td>50806800</td>\n",
       "      <td>319.650000</td>\n",
       "      <td>328.100000</td>\n",
       "      <td>24.560975</td>\n",
       "      <td>16.748157</td>\n",
       "      <td>...</td>\n",
       "      <td>-3.194426</td>\n",
       "      <td>33.965208</td>\n",
       "      <td>-88.0</td>\n",
       "      <td>0.009935</td>\n",
       "      <td>4.497149</td>\n",
       "      <td>7.903951</td>\n",
       "      <td>9.728897e+05</td>\n",
       "      <td>48.785739</td>\n",
       "      <td>0.718599</td>\n",
       "      <td>-0.467340</td>\n",
       "    </tr>\n",
       "  </tbody>\n",
       "</table>\n",
       "<p>2364 rows × 31 columns</p>\n",
       "</div>"
      ],
      "text/plain": [
       "            Open        High         Low       Close   Adj Close    Volume  \\\n",
       "14     26.549999   27.760000   26.440001   27.100000   27.100000  38034000   \n",
       "15     27.180000   28.070000   26.840000   27.010000   27.010000  28219600   \n",
       "16     27.480000   27.770000   26.959999   27.400000   27.400000  15816800   \n",
       "17     27.660000   28.100000   27.100000   27.270000   27.270000  17102800   \n",
       "18     27.650000   28.320000   27.379999   28.290001   28.290001  16855000   \n",
       "...          ...         ...         ...         ...         ...       ...   \n",
       "2373  326.350006  329.630005  321.109985  324.609985  324.609985  35152700   \n",
       "2374  320.299988  329.559998  319.720001  328.690002  328.690002  38409000   \n",
       "2375  328.260010  330.209991  309.600006  315.809998  315.809998  65654000   \n",
       "2376  314.190002  319.250000  312.059998  312.220001  312.220001  29971800   \n",
       "2377  312.989990  325.519989  308.109985  316.920013  316.920013  50806800   \n",
       "\n",
       "            SMA5       SMA10  StochasticK  StochasticD  ...        DI  \\\n",
       "14     26.598000   27.925000    14.183124     9.119280  ... -7.307419   \n",
       "15     26.620000   27.435000    18.463445    12.234002  ... -6.003132   \n",
       "16     26.926000   27.291000    24.447337    19.031302  ... -3.784895   \n",
       "17     27.018000   27.199000    22.756830    21.889204  ... -3.091684   \n",
       "18     27.414000   27.068000    37.281301    28.161823  ...  1.757364   \n",
       "...          ...         ...          ...          ...  ...       ...   \n",
       "2373  336.519995  330.964999    27.207763    67.993823  ... -1.962675   \n",
       "2374  335.189996  331.288998    42.540399    53.952125  ... -0.638920   \n",
       "2375  330.353998  330.492999    18.062801    29.270321  ... -4.163506   \n",
       "2376  324.641998  329.260999     7.620694    22.741298  ... -4.902510   \n",
       "2377  319.650000  328.100000    24.560975    16.748157  ... -3.194426   \n",
       "\n",
       "            ADX  Aroon  SqrtRSI/Momentum  SqrtStochasticD/RSI  \\\n",
       "14    81.950354  -44.0          0.007500            10.684104   \n",
       "15    77.257952  -44.0          0.007779             9.175669   \n",
       "16    73.418742  -44.0          0.006015            15.434483   \n",
       "17    71.350434  -44.0          0.006239            16.552851   \n",
       "18    68.371248  -44.0          0.007209            13.921430   \n",
       "...         ...    ...               ...                  ...   \n",
       "2373  32.401953  -60.0          0.009587             9.061258   \n",
       "2374  32.451445  -60.0          0.008327            10.870912   \n",
       "2375  32.635555  -84.0          0.008684             8.007104   \n",
       "2376  33.349941  -88.0          0.008668             7.057800   \n",
       "2377  33.965208  -88.0          0.009935             4.497149   \n",
       "\n",
       "      SqrtLarryWilliamsR*RSI  Momentum**3/RSI  ADO*MACD**2  ADX*AbsROC  \\\n",
       "14                  2.618355     1.260239e+06     9.671931   10.309883   \n",
       "15                  3.442094     1.311721e+06     6.614008   12.047412   \n",
       "16                  2.456784     2.443005e+06     7.230696   12.514304   \n",
       "17                  2.484118     2.189593e+06     4.955861   10.374993   \n",
       "18                  3.018874     1.648264e+06     6.753178    1.303888   \n",
       "...                      ...              ...          ...         ...   \n",
       "2373                7.764058     1.082599e+06   -48.858035    0.876965   \n",
       "2374                5.121764     1.423787e+06    16.986447    0.052242   \n",
       "2375                6.116160     1.255177e+06     3.367950    1.408059   \n",
       "2376                6.494200     1.262366e+06    28.432551    1.355723   \n",
       "2377                7.903951     9.728897e+05    48.785739    0.718599   \n",
       "\n",
       "      SqrtStochasticK*LogRSI  \n",
       "14                 -4.758635  \n",
       "15                 -4.144138  \n",
       "16                 -6.247585  \n",
       "17                 -6.027709  \n",
       "18                 -5.888753  \n",
       "...                      ...  \n",
       "2373               -0.491877  \n",
       "2374               -2.557016  \n",
       "2375               -1.666193  \n",
       "2376               -1.082256  \n",
       "2377               -0.467340  \n",
       "\n",
       "[2364 rows x 31 columns]"
      ]
     },
     "execution_count": 62,
     "metadata": {},
     "output_type": "execute_result"
    }
   ],
   "source": [
    "enhanced_data = compute_adv_indicators(complete_data)\n",
    "enhanced_data"
   ]
  },
  {
   "cell_type": "markdown",
   "metadata": {},
   "source": [
    "### autofeat Feature Selection"
   ]
  },
  {
   "cell_type": "code",
   "execution_count": 63,
   "metadata": {},
   "outputs": [
    {
     "name": "stderr",
     "output_type": "stream",
     "text": [
      "C:\\Users\\rshay\\anaconda3\\lib\\site-packages\\sklearn\\utils\\validation.py:72: DataConversionWarning: A column-vector y was passed when a 1d array was expected. Please change the shape of y to (n_samples, ), for example using ravel().\n",
      "  return f(**kwargs)\n"
     ]
    },
    {
     "name": "stdout",
     "output_type": "stream",
     "text": [
      "[featsel] Scaling data...done.\n",
      "[featsel] Feature selection run 1/5\n",
      "[featsel] Feature selection run 2/5\n",
      "[featsel] Feature selection run 3/5\n",
      "[featsel] Feature selection run 4/5\n",
      "[featsel] Feature selection run 5/5\n",
      "[featsel] 9 features after 5 feature selection runs\n",
      "[featsel] 8 features after correlation filtering\n",
      "[featsel] 7 features after noise filtering\n"
     ]
    }
   ],
   "source": [
    "from autofeat import FeatureSelector\n",
    "fsel = FeatureSelector(verbose=1)\n",
    "selected_data = fsel.fit_transform(pd.DataFrame(enhanced_data), pd.DataFrame(target))"
   ]
  },
  {
   "cell_type": "code",
   "execution_count": 64,
   "metadata": {},
   "outputs": [
    {
     "data": {
      "text/html": [
       "<div>\n",
       "<style scoped>\n",
       "    .dataframe tbody tr th:only-of-type {\n",
       "        vertical-align: middle;\n",
       "    }\n",
       "\n",
       "    .dataframe tbody tr th {\n",
       "        vertical-align: top;\n",
       "    }\n",
       "\n",
       "    .dataframe thead th {\n",
       "        text-align: right;\n",
       "    }\n",
       "</style>\n",
       "<table border=\"1\" class=\"dataframe\">\n",
       "  <thead>\n",
       "    <tr style=\"text-align: right;\">\n",
       "      <th></th>\n",
       "      <th>Momentum**3/RSI</th>\n",
       "      <th>SqrtStochasticD/RSI</th>\n",
       "      <th>SqrtLarryWilliamsR*RSI</th>\n",
       "      <th>SqrtStochasticK*LogRSI</th>\n",
       "      <th>ROC</th>\n",
       "      <th>ADO*MACD**2</th>\n",
       "      <th>LarryWilliamsR</th>\n",
       "    </tr>\n",
       "  </thead>\n",
       "  <tbody>\n",
       "    <tr>\n",
       "      <th>0</th>\n",
       "      <td>1.260239e+06</td>\n",
       "      <td>10.684104</td>\n",
       "      <td>2.618355</td>\n",
       "      <td>-4.758635</td>\n",
       "      <td>-0.125806</td>\n",
       "      <td>9.671931</td>\n",
       "      <td>85.816876</td>\n",
       "    </tr>\n",
       "    <tr>\n",
       "      <th>1</th>\n",
       "      <td>1.311721e+06</td>\n",
       "      <td>9.175669</td>\n",
       "      <td>3.442094</td>\n",
       "      <td>-4.144138</td>\n",
       "      <td>-0.155937</td>\n",
       "      <td>6.614008</td>\n",
       "      <td>81.536555</td>\n",
       "    </tr>\n",
       "    <tr>\n",
       "      <th>2</th>\n",
       "      <td>2.443005e+06</td>\n",
       "      <td>15.434483</td>\n",
       "      <td>2.456784</td>\n",
       "      <td>-6.247585</td>\n",
       "      <td>-0.170451</td>\n",
       "      <td>7.230696</td>\n",
       "      <td>75.552663</td>\n",
       "    </tr>\n",
       "    <tr>\n",
       "      <th>3</th>\n",
       "      <td>2.189593e+06</td>\n",
       "      <td>16.552851</td>\n",
       "      <td>2.484118</td>\n",
       "      <td>-6.027709</td>\n",
       "      <td>-0.145409</td>\n",
       "      <td>4.955861</td>\n",
       "      <td>77.243170</td>\n",
       "    </tr>\n",
       "    <tr>\n",
       "      <th>4</th>\n",
       "      <td>1.648264e+06</td>\n",
       "      <td>13.921430</td>\n",
       "      <td>3.018874</td>\n",
       "      <td>-5.888753</td>\n",
       "      <td>-0.019071</td>\n",
       "      <td>6.753178</td>\n",
       "      <td>62.718699</td>\n",
       "    </tr>\n",
       "    <tr>\n",
       "      <th>...</th>\n",
       "      <td>...</td>\n",
       "      <td>...</td>\n",
       "      <td>...</td>\n",
       "      <td>...</td>\n",
       "      <td>...</td>\n",
       "      <td>...</td>\n",
       "      <td>...</td>\n",
       "    </tr>\n",
       "    <tr>\n",
       "      <th>2359</th>\n",
       "      <td>1.082599e+06</td>\n",
       "      <td>9.061258</td>\n",
       "      <td>7.764058</td>\n",
       "      <td>-0.491877</td>\n",
       "      <td>-0.027065</td>\n",
       "      <td>-48.858035</td>\n",
       "      <td>72.792237</td>\n",
       "    </tr>\n",
       "    <tr>\n",
       "      <th>2360</th>\n",
       "      <td>1.423787e+06</td>\n",
       "      <td>10.870912</td>\n",
       "      <td>5.121764</td>\n",
       "      <td>-2.557016</td>\n",
       "      <td>-0.001610</td>\n",
       "      <td>16.986447</td>\n",
       "      <td>57.459601</td>\n",
       "    </tr>\n",
       "    <tr>\n",
       "      <th>2361</th>\n",
       "      <td>1.255177e+06</td>\n",
       "      <td>8.007104</td>\n",
       "      <td>6.116160</td>\n",
       "      <td>-1.666193</td>\n",
       "      <td>-0.043145</td>\n",
       "      <td>3.367950</td>\n",
       "      <td>81.937199</td>\n",
       "    </tr>\n",
       "    <tr>\n",
       "      <th>2362</th>\n",
       "      <td>1.262366e+06</td>\n",
       "      <td>7.057800</td>\n",
       "      <td>6.494200</td>\n",
       "      <td>-1.082256</td>\n",
       "      <td>-0.040651</td>\n",
       "      <td>28.432551</td>\n",
       "      <td>92.379306</td>\n",
       "    </tr>\n",
       "    <tr>\n",
       "      <th>2363</th>\n",
       "      <td>9.728897e+05</td>\n",
       "      <td>4.497149</td>\n",
       "      <td>7.903951</td>\n",
       "      <td>-0.467340</td>\n",
       "      <td>-0.021157</td>\n",
       "      <td>48.785739</td>\n",
       "      <td>75.439025</td>\n",
       "    </tr>\n",
       "  </tbody>\n",
       "</table>\n",
       "<p>2364 rows × 7 columns</p>\n",
       "</div>"
      ],
      "text/plain": [
       "      Momentum**3/RSI  SqrtStochasticD/RSI  SqrtLarryWilliamsR*RSI  \\\n",
       "0        1.260239e+06            10.684104                2.618355   \n",
       "1        1.311721e+06             9.175669                3.442094   \n",
       "2        2.443005e+06            15.434483                2.456784   \n",
       "3        2.189593e+06            16.552851                2.484118   \n",
       "4        1.648264e+06            13.921430                3.018874   \n",
       "...               ...                  ...                     ...   \n",
       "2359     1.082599e+06             9.061258                7.764058   \n",
       "2360     1.423787e+06            10.870912                5.121764   \n",
       "2361     1.255177e+06             8.007104                6.116160   \n",
       "2362     1.262366e+06             7.057800                6.494200   \n",
       "2363     9.728897e+05             4.497149                7.903951   \n",
       "\n",
       "      SqrtStochasticK*LogRSI       ROC  ADO*MACD**2  LarryWilliamsR  \n",
       "0                  -4.758635 -0.125806     9.671931       85.816876  \n",
       "1                  -4.144138 -0.155937     6.614008       81.536555  \n",
       "2                  -6.247585 -0.170451     7.230696       75.552663  \n",
       "3                  -6.027709 -0.145409     4.955861       77.243170  \n",
       "4                  -5.888753 -0.019071     6.753178       62.718699  \n",
       "...                      ...       ...          ...             ...  \n",
       "2359               -0.491877 -0.027065   -48.858035       72.792237  \n",
       "2360               -2.557016 -0.001610    16.986447       57.459601  \n",
       "2361               -1.666193 -0.043145     3.367950       81.937199  \n",
       "2362               -1.082256 -0.040651    28.432551       92.379306  \n",
       "2363               -0.467340 -0.021157    48.785739       75.439025  \n",
       "\n",
       "[2364 rows x 7 columns]"
      ]
     },
     "execution_count": 64,
     "metadata": {},
     "output_type": "execute_result"
    }
   ],
   "source": [
    "selected_data"
   ]
  },
  {
   "cell_type": "code",
   "execution_count": 65,
   "metadata": {},
   "outputs": [],
   "source": [
    "from sklearn.preprocessing import StandardScaler"
   ]
  },
  {
   "cell_type": "code",
   "execution_count": 66,
   "metadata": {},
   "outputs": [
    {
     "data": {
      "text/plain": [
       "StandardScaler()"
      ]
     },
     "execution_count": 66,
     "metadata": {},
     "output_type": "execute_result"
    }
   ],
   "source": [
    "scaler = StandardScaler()  \n",
    "scaler.fit(selected_data)"
   ]
  },
  {
   "cell_type": "code",
   "execution_count": 67,
   "metadata": {},
   "outputs": [],
   "source": [
    "\n",
    "selected_scaled_data = scaler.transform(selected_data)"
   ]
  },
  {
   "cell_type": "code",
   "execution_count": 68,
   "metadata": {},
   "outputs": [],
   "source": [
    "from sklearn.model_selection import train_test_split\n",
    "\n",
    "X_train, X_test, y_train, y_test = train_test_split(selected_scaled_data,target,test_size=0.3)"
   ]
  },
  {
   "cell_type": "code",
   "execution_count": 69,
   "metadata": {},
   "outputs": [],
   "source": [
    "X_train = scaler.transform(X_train)  \n",
    "X_test = scaler.transform(X_test) "
   ]
  },
  {
   "cell_type": "code",
   "execution_count": 70,
   "metadata": {},
   "outputs": [],
   "source": [
    "selected_scaled_data_df = pd.DataFrame(selected_scaled_data)\n",
    "selected_scaled_data_1250 = selected_scaled_data_df.tail(1250)\n",
    "selected_scaled_data_250 = selected_scaled_data_df.tail(250)\n",
    "selected_scaled_data_125 = selected_scaled_data_df.tail(125)\n",
    "target_1250 = target.tail(1250)\n",
    "target_250 = target.tail(250)\n",
    "target_125 = target.tail(125)"
   ]
  },
  {
   "cell_type": "code",
   "execution_count": 71,
   "metadata": {},
   "outputs": [],
   "source": [
    "X_train_1250, X_test_1250, y_train_1250, y_test_1250 = train_test_split(selected_scaled_data_1250,target_1250,test_size=0.3)"
   ]
  },
  {
   "cell_type": "code",
   "execution_count": 72,
   "metadata": {},
   "outputs": [],
   "source": [
    "X_train_250, X_test_250, y_train_250, y_test_250 = train_test_split(selected_scaled_data_250,target_250,test_size=0.3)"
   ]
  },
  {
   "cell_type": "code",
   "execution_count": 73,
   "metadata": {},
   "outputs": [],
   "source": [
    "X_train_125, X_test_125, y_train_125, y_test_125 = train_test_split(selected_scaled_data_125,target_125,test_size=0.3)"
   ]
  },
  {
   "cell_type": "markdown",
   "metadata": {},
   "source": [
    "### Logistic Regression"
   ]
  },
  {
   "cell_type": "markdown",
   "metadata": {},
   "source": [
    "#### Max Duration"
   ]
  },
  {
   "cell_type": "code",
   "execution_count": 74,
   "metadata": {},
   "outputs": [],
   "source": [
    "from sklearn.metrics import accuracy_score\n",
    "from sklearn.metrics import confusion_matrix"
   ]
  },
  {
   "cell_type": "code",
   "execution_count": 75,
   "metadata": {},
   "outputs": [],
   "source": [
    "lr = LogisticRegression(solver='liblinear', multi_class='ovr')\n",
    "trained_model_lr = lr.fit(X_train, y_train)\n",
    "predictions_lr = trained_model_lr.predict(X_test)\n",
    "\n",
    "Train_accuracy_lr = accuracy_score(y_train,trained_model_lr.predict(X_train))\n",
    "Test_accuracy_lr = accuracy_score(y_test, predictions_lr)\n",
    "Confusion_matrix_lr = confusion_matrix(y_test,predictions_lr)"
   ]
  },
  {
   "cell_type": "code",
   "execution_count": 76,
   "metadata": {},
   "outputs": [
    {
     "data": {
      "text/plain": [
       "0.660217654171705"
      ]
     },
     "execution_count": 76,
     "metadata": {},
     "output_type": "execute_result"
    }
   ],
   "source": [
    "Train_accuracy_lr"
   ]
  },
  {
   "cell_type": "code",
   "execution_count": 77,
   "metadata": {},
   "outputs": [
    {
     "data": {
      "text/plain": [
       "0.6380281690140845"
      ]
     },
     "execution_count": 77,
     "metadata": {},
     "output_type": "execute_result"
    }
   ],
   "source": [
    "Test_accuracy_lr"
   ]
  },
  {
   "cell_type": "markdown",
   "metadata": {},
   "source": [
    "#### 5 Years"
   ]
  },
  {
   "cell_type": "code",
   "execution_count": 78,
   "metadata": {},
   "outputs": [],
   "source": [
    "trained_model_lr_1250 = lr.fit(X_train_1250, y_train_1250)\n",
    "predictions_lr_1250 = trained_model_lr_1250.predict(X_test_1250)\n",
    "\n",
    "Train_accuracy_lr_1250 = accuracy_score(y_train_1250,trained_model_lr_1250.predict(X_train_1250))\n",
    "Test_accuracy_lr_1250 = accuracy_score(y_test_1250, predictions_lr_1250)\n",
    "Confusion_matrix_lr_1250 = confusion_matrix(y_test_1250,predictions_lr_1250)"
   ]
  },
  {
   "cell_type": "code",
   "execution_count": 79,
   "metadata": {},
   "outputs": [
    {
     "data": {
      "text/plain": [
       "0.6617142857142857"
      ]
     },
     "execution_count": 79,
     "metadata": {},
     "output_type": "execute_result"
    }
   ],
   "source": [
    "Train_accuracy_lr_1250"
   ]
  },
  {
   "cell_type": "code",
   "execution_count": 80,
   "metadata": {},
   "outputs": [
    {
     "data": {
      "text/plain": [
       "0.656"
      ]
     },
     "execution_count": 80,
     "metadata": {},
     "output_type": "execute_result"
    }
   ],
   "source": [
    "Test_accuracy_lr_1250"
   ]
  },
  {
   "cell_type": "markdown",
   "metadata": {},
   "source": [
    "#### 1 Year"
   ]
  },
  {
   "cell_type": "code",
   "execution_count": 81,
   "metadata": {},
   "outputs": [],
   "source": [
    "trained_model_lr_250 = lr.fit(X_train_250, y_train_250)\n",
    "predictions_lr_250 = trained_model_lr_250.predict(X_test_250)\n",
    "\n",
    "Train_accuracy_lr_250 = accuracy_score(y_train_250,trained_model_lr_250.predict(X_train_250))\n",
    "Test_accuracy_lr_250 = accuracy_score(y_test_250, predictions_lr_250)\n",
    "Confusion_matrix_lr_250 = confusion_matrix(y_test_250,predictions_lr_250)"
   ]
  },
  {
   "cell_type": "code",
   "execution_count": 82,
   "metadata": {},
   "outputs": [
    {
     "data": {
      "text/plain": [
       "0.6742857142857143"
      ]
     },
     "execution_count": 82,
     "metadata": {},
     "output_type": "execute_result"
    }
   ],
   "source": [
    "Train_accuracy_lr_250"
   ]
  },
  {
   "cell_type": "code",
   "execution_count": 83,
   "metadata": {},
   "outputs": [
    {
     "data": {
      "text/plain": [
       "0.7066666666666667"
      ]
     },
     "execution_count": 83,
     "metadata": {},
     "output_type": "execute_result"
    }
   ],
   "source": [
    "Test_accuracy_lr_250"
   ]
  },
  {
   "cell_type": "markdown",
   "metadata": {},
   "source": [
    "#### 6 Months"
   ]
  },
  {
   "cell_type": "code",
   "execution_count": 84,
   "metadata": {},
   "outputs": [],
   "source": [
    "trained_model_lr_125 = lr.fit(X_train_125, y_train_125)\n",
    "predictions_lr_125 = trained_model_lr_125.predict(X_test_125)\n",
    "\n",
    "Train_accuracy_lr_125 = accuracy_score(y_train_125,trained_model_lr_125.predict(X_train_125))\n",
    "Test_accuracy_lr_125 = accuracy_score(y_test_125, predictions_lr_125)\n",
    "Confusion_matrix_lr_125 = confusion_matrix(y_test_125,predictions_lr_125)"
   ]
  },
  {
   "cell_type": "code",
   "execution_count": 85,
   "metadata": {},
   "outputs": [
    {
     "data": {
      "text/plain": [
       "0.735632183908046"
      ]
     },
     "execution_count": 85,
     "metadata": {},
     "output_type": "execute_result"
    }
   ],
   "source": [
    "Train_accuracy_lr_125"
   ]
  },
  {
   "cell_type": "code",
   "execution_count": 86,
   "metadata": {},
   "outputs": [
    {
     "data": {
      "text/plain": [
       "0.7894736842105263"
      ]
     },
     "execution_count": 86,
     "metadata": {},
     "output_type": "execute_result"
    }
   ],
   "source": [
    "Test_accuracy_lr_125"
   ]
  },
  {
   "cell_type": "markdown",
   "metadata": {},
   "source": [
    "#### Last 100 Days based on Best Model - Max Duration"
   ]
  },
  {
   "cell_type": "code",
   "execution_count": 87,
   "metadata": {},
   "outputs": [],
   "source": [
    "last100 = selected_scaled_data_df.tail(100)"
   ]
  },
  {
   "cell_type": "code",
   "execution_count": 88,
   "metadata": {},
   "outputs": [
    {
     "data": {
      "text/plain": [
       "array([1, 1, 1, 0, 0, 1, 0, 1, 1, 1, 1, 0, 1, 0, 0, 1, 0, 0, 1, 0, 1, 1,\n",
       "       0, 0, 0, 0, 0, 0, 1, 1, 0, 0, 0, 1, 0, 0, 0, 0, 1, 1, 1, 1, 0, 0,\n",
       "       0, 0, 1, 0, 0, 0, 1, 1, 1, 1, 0, 1, 1, 1, 1, 0, 1, 1, 1, 1, 1, 1,\n",
       "       1, 1, 1, 1, 0, 1, 1, 1, 1, 1, 1, 1, 0, 1, 0, 1, 1, 1, 1, 0, 1, 1,\n",
       "       0, 0, 1, 0, 1, 1, 1, 1, 1, 1, 1, 1])"
      ]
     },
     "execution_count": 88,
     "metadata": {},
     "output_type": "execute_result"
    }
   ],
   "source": [
    "predictions_lr_100 = trained_model_lr_1250.predict(last100)\n",
    "predictions_lr_100"
   ]
  },
  {
   "cell_type": "markdown",
   "metadata": {},
   "source": [
    "### SVM"
   ]
  },
  {
   "cell_type": "code",
   "execution_count": 89,
   "metadata": {},
   "outputs": [],
   "source": [
    "svm = SVC(gamma='auto')\n",
    "trained_model_svm = svm.fit(X_train, y_train)\n",
    "predictions_svm = trained_model_svm.predict(X_test)\n",
    "\n",
    "Train_accuracy_svm = accuracy_score(y_train,trained_model_svm.predict(X_train))\n",
    "Test_accuracy_svm = accuracy_score(y_test, predictions_svm)\n",
    "Confusion_matrix_svm = confusion_matrix(y_test,predictions_svm)"
   ]
  },
  {
   "cell_type": "code",
   "execution_count": 90,
   "metadata": {},
   "outputs": [
    {
     "data": {
      "text/plain": [
       "0.6801692865779927"
      ]
     },
     "execution_count": 90,
     "metadata": {},
     "output_type": "execute_result"
    }
   ],
   "source": [
    "Train_accuracy_svm"
   ]
  },
  {
   "cell_type": "code",
   "execution_count": 91,
   "metadata": {},
   "outputs": [
    {
     "data": {
      "text/plain": [
       "0.5887323943661972"
      ]
     },
     "execution_count": 91,
     "metadata": {},
     "output_type": "execute_result"
    }
   ],
   "source": [
    "Test_accuracy_svm"
   ]
  },
  {
   "cell_type": "markdown",
   "metadata": {},
   "source": [
    "#### 5 Years"
   ]
  },
  {
   "cell_type": "code",
   "execution_count": 92,
   "metadata": {},
   "outputs": [],
   "source": [
    "trained_model_svm_1250 = svm.fit(X_train_1250, y_train_1250)\n",
    "predictions_svm_1250 = trained_model_svm_1250.predict(X_test_1250)\n",
    "\n",
    "Train_accuracy_svm_1250 = accuracy_score(y_train_1250,trained_model_svm_1250.predict(X_train_1250))\n",
    "Test_accuracy_svm_1250 = accuracy_score(y_test_1250, predictions_svm_1250)\n",
    "Confusion_matrix_svm_1250 = confusion_matrix(y_test_1250,predictions_svm_1250)"
   ]
  },
  {
   "cell_type": "code",
   "execution_count": 93,
   "metadata": {},
   "outputs": [
    {
     "data": {
      "text/plain": [
       "0.6822857142857143"
      ]
     },
     "execution_count": 93,
     "metadata": {},
     "output_type": "execute_result"
    }
   ],
   "source": [
    "Train_accuracy_svm_1250"
   ]
  },
  {
   "cell_type": "code",
   "execution_count": 94,
   "metadata": {},
   "outputs": [
    {
     "data": {
      "text/plain": [
       "0.6426666666666667"
      ]
     },
     "execution_count": 94,
     "metadata": {},
     "output_type": "execute_result"
    }
   ],
   "source": [
    "Test_accuracy_svm_1250"
   ]
  },
  {
   "cell_type": "markdown",
   "metadata": {},
   "source": [
    "#### 1 Year"
   ]
  },
  {
   "cell_type": "code",
   "execution_count": 95,
   "metadata": {},
   "outputs": [],
   "source": [
    "trained_model_svm_250 = svm.fit(X_train_250, y_train_250)\n",
    "predictions_svm_250 = trained_model_svm_1250.predict(X_test_250)\n",
    "\n",
    "Train_accuracy_svm_250 = accuracy_score(y_train_250,trained_model_svm_250.predict(X_train_250))\n",
    "Test_accuracy_svm_250 = accuracy_score(y_test_250, predictions_svm_250)\n",
    "Confusion_matrix_svm_250 = confusion_matrix(y_test_250,predictions_svm_250)"
   ]
  },
  {
   "cell_type": "code",
   "execution_count": 96,
   "metadata": {},
   "outputs": [
    {
     "data": {
      "text/plain": [
       "0.7257142857142858"
      ]
     },
     "execution_count": 96,
     "metadata": {},
     "output_type": "execute_result"
    }
   ],
   "source": [
    "Train_accuracy_svm_250"
   ]
  },
  {
   "cell_type": "code",
   "execution_count": 97,
   "metadata": {},
   "outputs": [
    {
     "data": {
      "text/plain": [
       "0.76"
      ]
     },
     "execution_count": 97,
     "metadata": {},
     "output_type": "execute_result"
    }
   ],
   "source": [
    "Test_accuracy_svm_250"
   ]
  },
  {
   "cell_type": "markdown",
   "metadata": {},
   "source": [
    "#### 6 Months"
   ]
  },
  {
   "cell_type": "code",
   "execution_count": 98,
   "metadata": {},
   "outputs": [],
   "source": [
    "trained_model_svm_125 = svm.fit(X_train_125, y_train_125)\n",
    "predictions_svm_125 = trained_model_svm_1250.predict(X_test_125)\n",
    "\n",
    "Train_accuracy_svm_125 = accuracy_score(y_train_125,trained_model_svm_125.predict(X_train_125))\n",
    "Test_accuracy_svm_125 = accuracy_score(y_test_125, predictions_svm_125)\n",
    "Confusion_matrix_svm_125 = confusion_matrix(y_test_125,predictions_svm_125)"
   ]
  },
  {
   "cell_type": "code",
   "execution_count": 99,
   "metadata": {},
   "outputs": [
    {
     "data": {
      "text/plain": [
       "0.735632183908046"
      ]
     },
     "execution_count": 99,
     "metadata": {},
     "output_type": "execute_result"
    }
   ],
   "source": [
    "Train_accuracy_svm_125"
   ]
  },
  {
   "cell_type": "code",
   "execution_count": 100,
   "metadata": {},
   "outputs": [
    {
     "data": {
      "text/plain": [
       "0.7631578947368421"
      ]
     },
     "execution_count": 100,
     "metadata": {},
     "output_type": "execute_result"
    }
   ],
   "source": [
    "Test_accuracy_svm_125"
   ]
  },
  {
   "cell_type": "markdown",
   "metadata": {},
   "source": [
    "#### Last 100 Days based on Best Model - Max Duration"
   ]
  },
  {
   "cell_type": "code",
   "execution_count": 101,
   "metadata": {},
   "outputs": [
    {
     "data": {
      "text/plain": [
       "array([1, 1, 1, 0, 0, 1, 0, 1, 1, 1, 1, 0, 1, 0, 0, 1, 0, 0, 1, 0, 1, 1,\n",
       "       0, 0, 0, 0, 0, 1, 1, 1, 0, 0, 0, 1, 0, 0, 0, 0, 1, 1, 1, 1, 1, 0,\n",
       "       1, 1, 1, 0, 1, 1, 1, 1, 1, 1, 0, 1, 1, 1, 1, 0, 1, 1, 1, 1, 1, 1,\n",
       "       1, 1, 1, 1, 1, 1, 1, 1, 1, 1, 1, 1, 1, 1, 1, 1, 1, 1, 1, 1, 1, 1,\n",
       "       1, 0, 1, 1, 1, 1, 1, 1, 1, 1, 1, 1])"
      ]
     },
     "execution_count": 101,
     "metadata": {},
     "output_type": "execute_result"
    }
   ],
   "source": [
    "predictions_svm_100 = trained_model_svm.predict(last100)\n",
    "predictions_svm_100"
   ]
  },
  {
   "cell_type": "markdown",
   "metadata": {},
   "source": [
    "### RandomForest"
   ]
  },
  {
   "cell_type": "code",
   "execution_count": 102,
   "metadata": {},
   "outputs": [],
   "source": [
    "rf = RandomForestClassifier(n_estimators=10)\n",
    "trained_model_rf = rf.fit(X_train, y_train)\n",
    "predictions_rf = trained_model_rf.predict(X_test)\n",
    "\n",
    "Train_accuracy_rf = accuracy_score(y_train, trained_model_rf.predict(X_train))\n",
    "Test_accuracy_rf = accuracy_score(y_test, predictions_rf)\n",
    "Confusion_matrix_rf = confusion_matrix(y_test, predictions_rf)"
   ]
  },
  {
   "cell_type": "code",
   "execution_count": 103,
   "metadata": {},
   "outputs": [
    {
     "data": {
      "text/plain": [
       "0.9788391777509069"
      ]
     },
     "execution_count": 103,
     "metadata": {},
     "output_type": "execute_result"
    }
   ],
   "source": [
    "Train_accuracy_rf"
   ]
  },
  {
   "cell_type": "code",
   "execution_count": 104,
   "metadata": {},
   "outputs": [
    {
     "data": {
      "text/plain": [
       "0.5830985915492958"
      ]
     },
     "execution_count": 104,
     "metadata": {},
     "output_type": "execute_result"
    }
   ],
   "source": [
    "Test_accuracy_rf"
   ]
  },
  {
   "cell_type": "markdown",
   "metadata": {},
   "source": [
    "#### 5 Years"
   ]
  },
  {
   "cell_type": "code",
   "execution_count": 105,
   "metadata": {},
   "outputs": [],
   "source": [
    "trained_model_rf_1250 = rf.fit(X_train_1250, y_train_1250)\n",
    "predictions_rf_1250 = trained_model_rf_1250.predict(X_test_1250)\n",
    "\n",
    "Train_accuracy_rf_1250 = accuracy_score(y_train_1250,trained_model_rf_1250.predict(X_train_1250))\n",
    "Test_accuracy_rf_1250 = accuracy_score(y_test_1250, predictions_rf_1250)\n",
    "Confusion_matrix_rf_1250 = confusion_matrix(y_test_1250,predictions_rf_1250)"
   ]
  },
  {
   "cell_type": "code",
   "execution_count": 106,
   "metadata": {},
   "outputs": [
    {
     "data": {
      "text/plain": [
       "0.9817142857142858"
      ]
     },
     "execution_count": 106,
     "metadata": {},
     "output_type": "execute_result"
    }
   ],
   "source": [
    "Train_accuracy_rf_1250"
   ]
  },
  {
   "cell_type": "code",
   "execution_count": 107,
   "metadata": {},
   "outputs": [
    {
     "data": {
      "text/plain": [
       "0.5893333333333334"
      ]
     },
     "execution_count": 107,
     "metadata": {},
     "output_type": "execute_result"
    }
   ],
   "source": [
    "Test_accuracy_rf_1250"
   ]
  },
  {
   "cell_type": "markdown",
   "metadata": {},
   "source": [
    "#### 1 Year"
   ]
  },
  {
   "cell_type": "code",
   "execution_count": 108,
   "metadata": {},
   "outputs": [],
   "source": [
    "trained_model_rf_250 = rf.fit(X_train_250, y_train_250)\n",
    "predictions_rf_250 = trained_model_rf_250.predict(X_test_250)\n",
    "\n",
    "Train_accuracy_rf_250 = accuracy_score(y_train_250,trained_model_rf_250.predict(X_train_250))\n",
    "Test_accuracy_rf_250 = accuracy_score(y_test_250, predictions_rf_250)\n",
    "Confusion_matrix_rf_250 = confusion_matrix(y_test_250,predictions_rf_250)"
   ]
  },
  {
   "cell_type": "code",
   "execution_count": 109,
   "metadata": {},
   "outputs": [
    {
     "data": {
      "text/plain": [
       "0.9657142857142857"
      ]
     },
     "execution_count": 109,
     "metadata": {},
     "output_type": "execute_result"
    }
   ],
   "source": [
    "Train_accuracy_rf_250"
   ]
  },
  {
   "cell_type": "code",
   "execution_count": 110,
   "metadata": {},
   "outputs": [
    {
     "data": {
      "text/plain": [
       "0.6133333333333333"
      ]
     },
     "execution_count": 110,
     "metadata": {},
     "output_type": "execute_result"
    }
   ],
   "source": [
    "Test_accuracy_rf_250"
   ]
  },
  {
   "cell_type": "markdown",
   "metadata": {},
   "source": [
    "#### 6 Months"
   ]
  },
  {
   "cell_type": "code",
   "execution_count": 111,
   "metadata": {},
   "outputs": [],
   "source": [
    "trained_model_rf_125 = rf.fit(X_train_125, y_train_125)\n",
    "predictions_rf_125 = trained_model_rf_125.predict(X_test_125)\n",
    "\n",
    "Train_accuracy_rf_125 = accuracy_score(y_train_125,trained_model_rf_125.predict(X_train_125))\n",
    "Test_accuracy_rf_125 = accuracy_score(y_test_125, predictions_rf_125)\n",
    "Confusion_matrix_rf_125 = confusion_matrix(y_test_125,predictions_rf_125)"
   ]
  },
  {
   "cell_type": "code",
   "execution_count": 112,
   "metadata": {},
   "outputs": [
    {
     "data": {
      "text/plain": [
       "0.9770114942528736"
      ]
     },
     "execution_count": 112,
     "metadata": {},
     "output_type": "execute_result"
    }
   ],
   "source": [
    "Train_accuracy_rf_125"
   ]
  },
  {
   "cell_type": "code",
   "execution_count": 113,
   "metadata": {},
   "outputs": [
    {
     "data": {
      "text/plain": [
       "0.6842105263157895"
      ]
     },
     "execution_count": 113,
     "metadata": {},
     "output_type": "execute_result"
    }
   ],
   "source": [
    "Test_accuracy_rf_125"
   ]
  },
  {
   "cell_type": "markdown",
   "metadata": {},
   "source": [
    "#### Last 100 Days based on Best Model"
   ]
  },
  {
   "cell_type": "code",
   "execution_count": 114,
   "metadata": {},
   "outputs": [
    {
     "data": {
      "text/plain": [
       "array([0, 0, 1, 0, 0, 1, 0, 1, 1, 1, 1, 0, 1, 0, 0, 1, 1, 0, 0, 0, 1, 1,\n",
       "       0, 0, 0, 0, 1, 0, 1, 1, 1, 1, 0, 1, 0, 0, 0, 1, 1, 0, 1, 0, 1, 0,\n",
       "       1, 1, 1, 0, 0, 0, 1, 1, 1, 1, 1, 1, 1, 0, 1, 0, 1, 1, 0, 1, 1, 0,\n",
       "       0, 0, 0, 0, 0, 1, 0, 1, 1, 1, 1, 0, 0, 1, 0, 1, 1, 0, 1, 0, 1, 1,\n",
       "       1, 0, 1, 1, 1, 1, 1, 1, 0, 0, 1, 1])"
      ]
     },
     "execution_count": 114,
     "metadata": {},
     "output_type": "execute_result"
    }
   ],
   "source": [
    "predictions_rf_100 = trained_model_rf_125.predict(last100)\n",
    "predictions_rf_100"
   ]
  },
  {
   "cell_type": "markdown",
   "metadata": {},
   "source": [
    "### KNN"
   ]
  },
  {
   "cell_type": "code",
   "execution_count": 115,
   "metadata": {},
   "outputs": [],
   "source": [
    "knn = KNeighborsClassifier(n_neighbors=5)\n",
    "trained_model_knn = knn.fit(X_train, y_train)\n",
    "predictions_knn = trained_model_knn.predict(X_test)\n",
    "\n",
    "Train_accuracy_knn = accuracy_score(y_train, trained_model_knn.predict(X_train))\n",
    "Test_accuracy_knn = accuracy_score(y_test, predictions_knn)\n",
    "Confusion_matrix_knn = confusion_matrix(y_test, predictions_knn)"
   ]
  },
  {
   "cell_type": "code",
   "execution_count": 116,
   "metadata": {},
   "outputs": [
    {
     "data": {
      "text/plain": [
       "0.718863361547763"
      ]
     },
     "execution_count": 116,
     "metadata": {},
     "output_type": "execute_result"
    }
   ],
   "source": [
    "Train_accuracy_knn"
   ]
  },
  {
   "cell_type": "code",
   "execution_count": 117,
   "metadata": {},
   "outputs": [
    {
     "data": {
      "text/plain": [
       "0.5830985915492958"
      ]
     },
     "execution_count": 117,
     "metadata": {},
     "output_type": "execute_result"
    }
   ],
   "source": [
    "Test_accuracy_knn"
   ]
  },
  {
   "cell_type": "markdown",
   "metadata": {},
   "source": [
    "#### 5 Years"
   ]
  },
  {
   "cell_type": "code",
   "execution_count": 118,
   "metadata": {},
   "outputs": [],
   "source": [
    "trained_model_knn_1250 = knn.fit(X_train_1250, y_train_1250)\n",
    "predictions_knn_1250 = trained_model_knn_1250.predict(X_test_1250)\n",
    "\n",
    "Train_accuracy_knn_1250 = accuracy_score(y_train_1250,trained_model_knn_1250.predict(X_train_1250))\n",
    "Test_accuracy_knn_1250 = accuracy_score(y_test_1250, predictions_knn_1250)\n",
    "Confusion_matrix_knn_1250 = confusion_matrix(y_test_1250,predictions_knn_1250)"
   ]
  },
  {
   "cell_type": "code",
   "execution_count": 119,
   "metadata": {},
   "outputs": [
    {
     "data": {
      "text/plain": [
       "0.7417142857142857"
      ]
     },
     "execution_count": 119,
     "metadata": {},
     "output_type": "execute_result"
    }
   ],
   "source": [
    "Train_accuracy_knn_1250"
   ]
  },
  {
   "cell_type": "code",
   "execution_count": 120,
   "metadata": {},
   "outputs": [
    {
     "data": {
      "text/plain": [
       "0.6346666666666667"
      ]
     },
     "execution_count": 120,
     "metadata": {},
     "output_type": "execute_result"
    }
   ],
   "source": [
    "Test_accuracy_knn_1250"
   ]
  },
  {
   "cell_type": "markdown",
   "metadata": {},
   "source": [
    "#### 1 Year"
   ]
  },
  {
   "cell_type": "code",
   "execution_count": 121,
   "metadata": {},
   "outputs": [],
   "source": [
    "trained_model_knn_250 = knn.fit(X_train_250, y_train_250)\n",
    "predictions_knn_250 = trained_model_knn_250.predict(X_test_250)\n",
    "\n",
    "Train_accuracy_knn_250 = accuracy_score(y_train_250,trained_model_knn_250.predict(X_train_250))\n",
    "Test_accuracy_knn_250 = accuracy_score(y_test_250, predictions_knn_250)\n",
    "Confusion_matrix_knn_250 = confusion_matrix(y_test_250,predictions_knn_250)"
   ]
  },
  {
   "cell_type": "code",
   "execution_count": 122,
   "metadata": {},
   "outputs": [
    {
     "data": {
      "text/plain": [
       "0.7714285714285715"
      ]
     },
     "execution_count": 122,
     "metadata": {},
     "output_type": "execute_result"
    }
   ],
   "source": [
    "Train_accuracy_knn_250"
   ]
  },
  {
   "cell_type": "code",
   "execution_count": 123,
   "metadata": {},
   "outputs": [
    {
     "data": {
      "text/plain": [
       "0.7066666666666667"
      ]
     },
     "execution_count": 123,
     "metadata": {},
     "output_type": "execute_result"
    }
   ],
   "source": [
    "Test_accuracy_knn_250"
   ]
  },
  {
   "cell_type": "markdown",
   "metadata": {},
   "source": [
    "#### 6 Months"
   ]
  },
  {
   "cell_type": "code",
   "execution_count": 124,
   "metadata": {},
   "outputs": [],
   "source": [
    "trained_model_knn_125 = knn.fit(X_train_125, y_train_125)\n",
    "predictions_knn_125 = trained_model_knn_125.predict(X_test_125)\n",
    "\n",
    "Train_accuracy_knn_125 = accuracy_score(y_train_125,trained_model_knn_125.predict(X_train_125))\n",
    "Test_accuracy_knn_125 = accuracy_score(y_test_125, predictions_knn_125)\n",
    "Confusion_matrix_knn_125 = confusion_matrix(y_test_125,predictions_knn_125)"
   ]
  },
  {
   "cell_type": "code",
   "execution_count": 125,
   "metadata": {},
   "outputs": [
    {
     "data": {
      "text/plain": [
       "0.7931034482758621"
      ]
     },
     "execution_count": 125,
     "metadata": {},
     "output_type": "execute_result"
    }
   ],
   "source": [
    "Train_accuracy_knn_125"
   ]
  },
  {
   "cell_type": "code",
   "execution_count": 126,
   "metadata": {},
   "outputs": [
    {
     "data": {
      "text/plain": [
       "0.631578947368421"
      ]
     },
     "execution_count": 126,
     "metadata": {},
     "output_type": "execute_result"
    }
   ],
   "source": [
    "Test_accuracy_knn_125"
   ]
  },
  {
   "cell_type": "markdown",
   "metadata": {},
   "source": [
    "#### Last 100 Days based on Best Model"
   ]
  },
  {
   "cell_type": "code",
   "execution_count": 127,
   "metadata": {},
   "outputs": [
    {
     "data": {
      "text/plain": [
       "array([0, 0, 1, 0, 0, 1, 0, 1, 1, 1, 0, 0, 1, 0, 1, 1, 0, 0, 0, 0, 1, 0,\n",
       "       0, 0, 0, 0, 0, 1, 1, 1, 1, 0, 0, 1, 0, 0, 0, 1, 1, 1, 0, 1, 1, 1,\n",
       "       1, 1, 1, 0, 1, 1, 1, 1, 1, 1, 0, 1, 1, 1, 1, 0, 1, 1, 1, 1, 1, 1,\n",
       "       0, 0, 1, 1, 0, 1, 0, 1, 1, 1, 1, 0, 0, 1, 1, 1, 1, 1, 1, 1, 1, 1,\n",
       "       1, 0, 1, 1, 1, 1, 1, 1, 0, 1, 1, 1])"
      ]
     },
     "execution_count": 127,
     "metadata": {},
     "output_type": "execute_result"
    }
   ],
   "source": [
    "predictions_knn_100 = trained_model_knn.predict(last100)\n",
    "predictions_knn_100"
   ]
  },
  {
   "cell_type": "markdown",
   "metadata": {},
   "source": [
    "### XGBoost"
   ]
  },
  {
   "cell_type": "code",
   "execution_count": 128,
   "metadata": {},
   "outputs": [
    {
     "name": "stdout",
     "output_type": "stream",
     "text": [
      "[13:22:41] WARNING: C:/Users/Administrator/workspace/xgboost-win64_release_1.5.0/src/learner.cc:1115: Starting in XGBoost 1.3.0, the default evaluation metric used with the objective 'binary:logistic' was changed from 'error' to 'logloss'. Explicitly set eval_metric if you'd like to restore the old behavior.\n"
     ]
    }
   ],
   "source": [
    "xgb = XGBClassifier(use_label_encoder=False)\n",
    "trained_model_xgb = xgb.fit(X_train, y_train)\n",
    "predictions_xgb = trained_model_xgb.predict(X_test)\n",
    "\n",
    "Train_accuracy_xgb = accuracy_score(y_train, trained_model_xgb.predict(X_train))\n",
    "Test_accuracy_xgb = accuracy_score(y_test, predictions_xgb)\n",
    "Confusion_matrix_xgb = confusion_matrix(y_test, predictions_xgb)"
   ]
  },
  {
   "cell_type": "code",
   "execution_count": 129,
   "metadata": {},
   "outputs": [
    {
     "data": {
      "text/plain": [
       "0.9969770253929867"
      ]
     },
     "execution_count": 129,
     "metadata": {},
     "output_type": "execute_result"
    }
   ],
   "source": [
    "Train_accuracy_xgb"
   ]
  },
  {
   "cell_type": "code",
   "execution_count": 130,
   "metadata": {},
   "outputs": [
    {
     "data": {
      "text/plain": [
       "0.5985915492957746"
      ]
     },
     "execution_count": 130,
     "metadata": {},
     "output_type": "execute_result"
    }
   ],
   "source": [
    "Test_accuracy_xgb"
   ]
  },
  {
   "cell_type": "markdown",
   "metadata": {},
   "source": [
    "#### 5 Years"
   ]
  },
  {
   "cell_type": "code",
   "execution_count": 131,
   "metadata": {},
   "outputs": [
    {
     "name": "stdout",
     "output_type": "stream",
     "text": [
      "[13:22:42] WARNING: C:/Users/Administrator/workspace/xgboost-win64_release_1.5.0/src/learner.cc:1115: Starting in XGBoost 1.3.0, the default evaluation metric used with the objective 'binary:logistic' was changed from 'error' to 'logloss'. Explicitly set eval_metric if you'd like to restore the old behavior.\n"
     ]
    }
   ],
   "source": [
    "trained_model_xgb_1250 = xgb.fit(X_train_1250, y_train_1250)\n",
    "predictions_xgb_1250 = trained_model_xgb_1250.predict(X_test_1250)\n",
    "\n",
    "Train_accuracy_xgb_1250 = accuracy_score(y_train_1250,trained_model_xgb_1250.predict(X_train_1250))\n",
    "Test_accuracy_xgb_1250 = accuracy_score(y_test_1250, predictions_xgb_1250)\n",
    "Confusion_matrix_xgb_1250 = confusion_matrix(y_test_1250,predictions_xgb_1250)"
   ]
  },
  {
   "cell_type": "code",
   "execution_count": 132,
   "metadata": {},
   "outputs": [
    {
     "data": {
      "text/plain": [
       "1.0"
      ]
     },
     "execution_count": 132,
     "metadata": {},
     "output_type": "execute_result"
    }
   ],
   "source": [
    "Train_accuracy_xgb_1250"
   ]
  },
  {
   "cell_type": "code",
   "execution_count": 133,
   "metadata": {},
   "outputs": [
    {
     "data": {
      "text/plain": [
       "0.6026666666666667"
      ]
     },
     "execution_count": 133,
     "metadata": {},
     "output_type": "execute_result"
    }
   ],
   "source": [
    "Test_accuracy_xgb_1250"
   ]
  },
  {
   "cell_type": "markdown",
   "metadata": {},
   "source": [
    "#### 1 Year"
   ]
  },
  {
   "cell_type": "code",
   "execution_count": 134,
   "metadata": {},
   "outputs": [
    {
     "name": "stdout",
     "output_type": "stream",
     "text": [
      "[13:22:43] WARNING: C:/Users/Administrator/workspace/xgboost-win64_release_1.5.0/src/learner.cc:1115: Starting in XGBoost 1.3.0, the default evaluation metric used with the objective 'binary:logistic' was changed from 'error' to 'logloss'. Explicitly set eval_metric if you'd like to restore the old behavior.\n"
     ]
    }
   ],
   "source": [
    "trained_model_xgb_250 = xgb.fit(X_train_250, y_train_250)\n",
    "predictions_xgb_250 = trained_model_xgb_250.predict(X_test_250)\n",
    "\n",
    "Train_accuracy_xgb_250 = accuracy_score(y_train_250,trained_model_xgb_250.predict(X_train_250))\n",
    "Test_accuracy_xgb_250 = accuracy_score(y_test_250, predictions_xgb_250)\n",
    "Confusion_matrix_xgb_250 = confusion_matrix(y_test_250,predictions_xgb_250)"
   ]
  },
  {
   "cell_type": "code",
   "execution_count": 135,
   "metadata": {},
   "outputs": [
    {
     "data": {
      "text/plain": [
       "1.0"
      ]
     },
     "execution_count": 135,
     "metadata": {},
     "output_type": "execute_result"
    }
   ],
   "source": [
    "Train_accuracy_xgb_250"
   ]
  },
  {
   "cell_type": "code",
   "execution_count": 136,
   "metadata": {},
   "outputs": [
    {
     "data": {
      "text/plain": [
       "0.6133333333333333"
      ]
     },
     "execution_count": 136,
     "metadata": {},
     "output_type": "execute_result"
    }
   ],
   "source": [
    "Test_accuracy_xgb_250"
   ]
  },
  {
   "cell_type": "markdown",
   "metadata": {},
   "source": [
    "#### 6 Months"
   ]
  },
  {
   "cell_type": "code",
   "execution_count": 137,
   "metadata": {},
   "outputs": [
    {
     "name": "stdout",
     "output_type": "stream",
     "text": [
      "[13:22:43] WARNING: C:/Users/Administrator/workspace/xgboost-win64_release_1.5.0/src/learner.cc:1115: Starting in XGBoost 1.3.0, the default evaluation metric used with the objective 'binary:logistic' was changed from 'error' to 'logloss'. Explicitly set eval_metric if you'd like to restore the old behavior.\n"
     ]
    }
   ],
   "source": [
    "trained_model_xgb_125 = xgb.fit(X_train_125, y_train_125)\n",
    "predictions_xgb_125 = trained_model_xgb_125.predict(X_test_125)\n",
    "\n",
    "Train_accuracy_xgb_125 = accuracy_score(y_train_125,trained_model_xgb_125.predict(X_train_125))\n",
    "Test_accuracy_xgb_125 = accuracy_score(y_test_125, predictions_xgb_125)\n",
    "Confusion_matrix_xgb_125 = confusion_matrix(y_test_125,predictions_xgb_125)"
   ]
  },
  {
   "cell_type": "code",
   "execution_count": 138,
   "metadata": {},
   "outputs": [
    {
     "data": {
      "text/plain": [
       "1.0"
      ]
     },
     "execution_count": 138,
     "metadata": {},
     "output_type": "execute_result"
    }
   ],
   "source": [
    "Train_accuracy_xgb_125"
   ]
  },
  {
   "cell_type": "code",
   "execution_count": 139,
   "metadata": {},
   "outputs": [
    {
     "data": {
      "text/plain": [
       "0.6842105263157895"
      ]
     },
     "execution_count": 139,
     "metadata": {},
     "output_type": "execute_result"
    }
   ],
   "source": [
    "Test_accuracy_xgb_125"
   ]
  },
  {
   "cell_type": "markdown",
   "metadata": {},
   "source": [
    "#### Last 100 Days based on Best Model"
   ]
  },
  {
   "cell_type": "code",
   "execution_count": 140,
   "metadata": {},
   "outputs": [
    {
     "data": {
      "text/plain": [
       "array([1, 0, 1, 0, 0, 1, 0, 1, 1, 1, 1, 0, 1, 0, 0, 1, 1, 1, 0, 0, 1, 1,\n",
       "       0, 0, 0, 1, 0, 0, 1, 1, 1, 1, 0, 1, 0, 0, 0, 0, 1, 1, 1, 0, 0, 1,\n",
       "       1, 1, 1, 0, 0, 0, 1, 1, 1, 1, 1, 1, 1, 0, 1, 0, 1, 1, 0, 1, 1, 0,\n",
       "       1, 0, 0, 0, 0, 1, 0, 1, 1, 1, 1, 0, 0, 1, 1, 1, 0, 0, 1, 0, 1, 1,\n",
       "       1, 0, 1, 1, 1, 1, 1, 1, 0, 0, 1, 1])"
      ]
     },
     "execution_count": 140,
     "metadata": {},
     "output_type": "execute_result"
    }
   ],
   "source": [
    "predictions_xgb_100 = trained_model_xgb.predict(last100)\n",
    "predictions_xgb_100"
   ]
  },
  {
   "cell_type": "markdown",
   "metadata": {},
   "source": [
    "## KFold cross validation\n",
    "### Basic example"
   ]
  },
  {
   "cell_type": "code",
   "execution_count": 141,
   "metadata": {},
   "outputs": [
    {
     "data": {
      "text/plain": [
       "array([0.59493671, 0.68776371, 0.55696203, 0.66244726, 0.63983051,\n",
       "       0.58898305, 0.59322034, 0.55508475, 0.58474576, 0.63135593])"
      ]
     },
     "execution_count": 141,
     "metadata": {},
     "output_type": "execute_result"
    }
   ],
   "source": [
    "from sklearn.model_selection import cross_val_score\n",
    "\n",
    "cross_val_score(LogisticRegression(solver='liblinear',multi_class='ovr'), complete_data, target, cv=10)"
   ]
  },
  {
   "cell_type": "code",
   "execution_count": null,
   "metadata": {},
   "outputs": [],
   "source": [
    "cross_val_score(SVC(gamma='auto'), complete_data, target, cv=10)"
   ]
  },
  {
   "cell_type": "code",
   "execution_count": null,
   "metadata": {},
   "outputs": [],
   "source": [
    "cross_val_score(RandomForestClassifier(n_estimators=5), complete_data, target, cv=10)"
   ]
  },
  {
   "cell_type": "code",
   "execution_count": null,
   "metadata": {},
   "outputs": [],
   "source": [
    "cross_val_score(KNeighborsClassifier(n_neighbors=5), complete_data, target, cv=10)"
   ]
  },
  {
   "cell_type": "code",
   "execution_count": null,
   "metadata": {},
   "outputs": [],
   "source": [
    "cross_val_score(XGBClassifier(use_label_encoder=False), complete_data, target, cv=10)"
   ]
  }
 ],
 "metadata": {
  "kernelspec": {
   "display_name": "Python 3",
   "language": "python",
   "name": "python3"
  },
  "language_info": {
   "codemirror_mode": {
    "name": "ipython",
    "version": 3
   },
   "file_extension": ".py",
   "mimetype": "text/x-python",
   "name": "python",
   "nbconvert_exporter": "python",
   "pygments_lexer": "ipython3",
   "version": "3.8.5"
  }
 },
 "nbformat": 4,
 "nbformat_minor": 4
}
