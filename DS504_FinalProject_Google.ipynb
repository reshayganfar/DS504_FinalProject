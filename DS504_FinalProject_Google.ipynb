{
 "cells": [
  {
   "cell_type": "code",
   "execution_count": 1,
   "metadata": {},
   "outputs": [],
   "source": [
    "import numpy as np\n",
    "import pandas as pd\n",
    "import ta\n",
    "import seaborn as sn\n",
    "import matplotlib.pyplot as plt\n",
    "\n",
    "from sklearn.ensemble import RandomForestClassifier\n",
    "from sklearn.linear_model import LogisticRegression\n",
    "from sklearn.neighbors import KNeighborsClassifier\n",
    "from sklearn.svm import SVC\n",
    "from xgboost import XGBClassifier\n",
    "\n",
    "from ta import add_all_ta_features\n",
    "from ta import momentum\n",
    "from ta.utils import dropna"
   ]
  },
  {
   "cell_type": "code",
   "execution_count": 2,
   "metadata": {},
   "outputs": [],
   "source": [
    "#pip install xgboost"
   ]
  },
  {
   "cell_type": "code",
   "execution_count": 3,
   "metadata": {},
   "outputs": [
    {
     "name": "stdout",
     "output_type": "stream",
     "text": [
      "Requirement already satisfied: autofeat in c:\\users\\rshay\\anaconda3\\lib\\site-packages (2.0.10)\n",
      "Requirement already satisfied: pandas>=0.24.0 in c:\\users\\rshay\\anaconda3\\lib\\site-packages (from autofeat) (1.1.3)\n",
      "Requirement already satisfied: future in c:\\users\\rshay\\anaconda3\\lib\\site-packages (from autofeat) (0.18.2)\n",
      "Requirement already satisfied: joblib in c:\\users\\rshay\\anaconda3\\lib\\site-packages (from autofeat) (0.17.0)\n",
      "Requirement already satisfied: numpy in c:\\users\\rshay\\anaconda3\\lib\\site-packages (from autofeat) (1.19.2)\n",
      "Requirement already satisfied: pint in c:\\users\\rshay\\anaconda3\\lib\\site-packages (from autofeat) (0.18)\n",
      "Requirement already satisfied: scikit-learn in c:\\users\\rshay\\anaconda3\\lib\\site-packages (from autofeat) (0.23.2)\n",
      "Requirement already satisfied: numba in c:\\users\\rshay\\anaconda3\\lib\\site-packages (from autofeat) (0.51.2)\n",
      "Requirement already satisfied: sympy>=1.7.1 in c:\\users\\rshay\\anaconda3\\lib\\site-packages (from autofeat) (1.9)\n",
      "Requirement already satisfied: pytz>=2017.2 in c:\\users\\rshay\\anaconda3\\lib\\site-packages (from pandas>=0.24.0->autofeat) (2020.1)\n",
      "Requirement already satisfied: python-dateutil>=2.7.3 in c:\\users\\rshay\\anaconda3\\lib\\site-packages (from pandas>=0.24.0->autofeat) (2.8.1)\n",
      "Requirement already satisfied: packaging in c:\\users\\rshay\\anaconda3\\lib\\site-packages (from pint->autofeat) (20.4)\n",
      "Requirement already satisfied: scipy>=0.19.1 in c:\\users\\rshay\\anaconda3\\lib\\site-packages (from scikit-learn->autofeat) (1.5.2)\n",
      "Requirement already satisfied: threadpoolctl>=2.0.0 in c:\\users\\rshay\\anaconda3\\lib\\site-packages (from scikit-learn->autofeat) (2.1.0)\n",
      "Requirement already satisfied: llvmlite<0.35,>=0.34.0.dev0 in c:\\users\\rshay\\anaconda3\\lib\\site-packages (from numba->autofeat) (0.34.0)\n",
      "Requirement already satisfied: setuptools in c:\\users\\rshay\\anaconda3\\lib\\site-packages (from numba->autofeat) (50.3.1.post20201107)\n",
      "Requirement already satisfied: mpmath>=0.19 in c:\\users\\rshay\\anaconda3\\lib\\site-packages (from sympy>=1.7.1->autofeat) (1.1.0)\n",
      "Requirement already satisfied: six>=1.5 in c:\\users\\rshay\\anaconda3\\lib\\site-packages (from python-dateutil>=2.7.3->pandas>=0.24.0->autofeat) (1.15.0)\n",
      "Requirement already satisfied: pyparsing>=2.0.2 in c:\\users\\rshay\\anaconda3\\lib\\site-packages (from packaging->pint->autofeat) (2.4.7)\n",
      "Note: you may need to restart the kernel to use updated packages.\n"
     ]
    }
   ],
   "source": [
    "pip install autofeat"
   ]
  },
  {
   "cell_type": "code",
   "execution_count": 4,
   "metadata": {},
   "outputs": [],
   "source": [
    "def get_data(company_symbol):\n",
    "    return pd.read_csv(\"dataset/\"+company_symbol+\".csv\")"
   ]
  },
  {
   "cell_type": "code",
   "execution_count": 5,
   "metadata": {},
   "outputs": [
    {
     "data": {
      "text/html": [
       "<div>\n",
       "<style scoped>\n",
       "    .dataframe tbody tr th:only-of-type {\n",
       "        vertical-align: middle;\n",
       "    }\n",
       "\n",
       "    .dataframe tbody tr th {\n",
       "        vertical-align: top;\n",
       "    }\n",
       "\n",
       "    .dataframe thead th {\n",
       "        text-align: right;\n",
       "    }\n",
       "</style>\n",
       "<table border=\"1\" class=\"dataframe\">\n",
       "  <thead>\n",
       "    <tr style=\"text-align: right;\">\n",
       "      <th></th>\n",
       "      <th>Date</th>\n",
       "      <th>Open</th>\n",
       "      <th>High</th>\n",
       "      <th>Low</th>\n",
       "      <th>Close</th>\n",
       "      <th>Adj Close</th>\n",
       "      <th>Volume</th>\n",
       "    </tr>\n",
       "  </thead>\n",
       "  <tbody>\n",
       "    <tr>\n",
       "      <th>0</th>\n",
       "      <td>8/19/2004</td>\n",
       "      <td>50.050049</td>\n",
       "      <td>52.082081</td>\n",
       "      <td>48.028027</td>\n",
       "      <td>50.220219</td>\n",
       "      <td>50.220219</td>\n",
       "      <td>44659096</td>\n",
       "    </tr>\n",
       "    <tr>\n",
       "      <th>1</th>\n",
       "      <td>8/20/2004</td>\n",
       "      <td>50.555557</td>\n",
       "      <td>54.594597</td>\n",
       "      <td>50.300301</td>\n",
       "      <td>54.209209</td>\n",
       "      <td>54.209209</td>\n",
       "      <td>22834343</td>\n",
       "    </tr>\n",
       "    <tr>\n",
       "      <th>2</th>\n",
       "      <td>8/23/2004</td>\n",
       "      <td>55.430431</td>\n",
       "      <td>56.796799</td>\n",
       "      <td>54.579578</td>\n",
       "      <td>54.754753</td>\n",
       "      <td>54.754753</td>\n",
       "      <td>18256126</td>\n",
       "    </tr>\n",
       "    <tr>\n",
       "      <th>3</th>\n",
       "      <td>8/24/2004</td>\n",
       "      <td>55.675674</td>\n",
       "      <td>55.855858</td>\n",
       "      <td>51.836838</td>\n",
       "      <td>52.487488</td>\n",
       "      <td>52.487488</td>\n",
       "      <td>15247337</td>\n",
       "    </tr>\n",
       "    <tr>\n",
       "      <th>4</th>\n",
       "      <td>8/25/2004</td>\n",
       "      <td>52.532532</td>\n",
       "      <td>54.054054</td>\n",
       "      <td>51.991993</td>\n",
       "      <td>53.053055</td>\n",
       "      <td>53.053055</td>\n",
       "      <td>9188602</td>\n",
       "    </tr>\n",
       "    <tr>\n",
       "      <th>...</th>\n",
       "      <td>...</td>\n",
       "      <td>...</td>\n",
       "      <td>...</td>\n",
       "      <td>...</td>\n",
       "      <td>...</td>\n",
       "      <td>...</td>\n",
       "      <td>...</td>\n",
       "    </tr>\n",
       "    <tr>\n",
       "      <th>4326</th>\n",
       "      <td>10/25/2021</td>\n",
       "      <td>2751.000000</td>\n",
       "      <td>2760.000000</td>\n",
       "      <td>2708.479980</td>\n",
       "      <td>2748.939941</td>\n",
       "      <td>2748.939941</td>\n",
       "      <td>1720600</td>\n",
       "    </tr>\n",
       "    <tr>\n",
       "      <th>4327</th>\n",
       "      <td>10/26/2021</td>\n",
       "      <td>2785.270020</td>\n",
       "      <td>2801.659912</td>\n",
       "      <td>2766.090088</td>\n",
       "      <td>2786.169922</td>\n",
       "      <td>2786.169922</td>\n",
       "      <td>2461800</td>\n",
       "    </tr>\n",
       "    <tr>\n",
       "      <th>4328</th>\n",
       "      <td>10/27/2021</td>\n",
       "      <td>2788.100098</td>\n",
       "      <td>2973.000000</td>\n",
       "      <td>2788.100098</td>\n",
       "      <td>2924.350098</td>\n",
       "      <td>2924.350098</td>\n",
       "      <td>4289100</td>\n",
       "    </tr>\n",
       "    <tr>\n",
       "      <th>4329</th>\n",
       "      <td>10/28/2021</td>\n",
       "      <td>2942.689941</td>\n",
       "      <td>2943.159912</td>\n",
       "      <td>2892.540039</td>\n",
       "      <td>2916.979980</td>\n",
       "      <td>2916.979980</td>\n",
       "      <td>1810300</td>\n",
       "    </tr>\n",
       "    <tr>\n",
       "      <th>4330</th>\n",
       "      <td>10/29/2021</td>\n",
       "      <td>2901.560059</td>\n",
       "      <td>2964.840088</td>\n",
       "      <td>2892.989990</td>\n",
       "      <td>2960.919922</td>\n",
       "      <td>2960.919922</td>\n",
       "      <td>2163800</td>\n",
       "    </tr>\n",
       "  </tbody>\n",
       "</table>\n",
       "<p>4331 rows × 7 columns</p>\n",
       "</div>"
      ],
      "text/plain": [
       "            Date         Open         High          Low        Close  \\\n",
       "0      8/19/2004    50.050049    52.082081    48.028027    50.220219   \n",
       "1      8/20/2004    50.555557    54.594597    50.300301    54.209209   \n",
       "2      8/23/2004    55.430431    56.796799    54.579578    54.754753   \n",
       "3      8/24/2004    55.675674    55.855858    51.836838    52.487488   \n",
       "4      8/25/2004    52.532532    54.054054    51.991993    53.053055   \n",
       "...          ...          ...          ...          ...          ...   \n",
       "4326  10/25/2021  2751.000000  2760.000000  2708.479980  2748.939941   \n",
       "4327  10/26/2021  2785.270020  2801.659912  2766.090088  2786.169922   \n",
       "4328  10/27/2021  2788.100098  2973.000000  2788.100098  2924.350098   \n",
       "4329  10/28/2021  2942.689941  2943.159912  2892.540039  2916.979980   \n",
       "4330  10/29/2021  2901.560059  2964.840088  2892.989990  2960.919922   \n",
       "\n",
       "        Adj Close    Volume  \n",
       "0       50.220219  44659096  \n",
       "1       54.209209  22834343  \n",
       "2       54.754753  18256126  \n",
       "3       52.487488  15247337  \n",
       "4       53.053055   9188602  \n",
       "...           ...       ...  \n",
       "4326  2748.939941   1720600  \n",
       "4327  2786.169922   2461800  \n",
       "4328  2924.350098   4289100  \n",
       "4329  2916.979980   1810300  \n",
       "4330  2960.919922   2163800  \n",
       "\n",
       "[4331 rows x 7 columns]"
      ]
     },
     "execution_count": 5,
     "metadata": {},
     "output_type": "execute_result"
    }
   ],
   "source": [
    "data = get_data(\"GOOGL\")\n",
    "data"
   ]
  },
  {
   "cell_type": "code",
   "execution_count": 6,
   "metadata": {},
   "outputs": [
    {
     "data": {
      "text/plain": [
       "Date          object\n",
       "Open         float64\n",
       "High         float64\n",
       "Low          float64\n",
       "Close        float64\n",
       "Adj Close    float64\n",
       "Volume         int64\n",
       "dtype: object"
      ]
     },
     "execution_count": 6,
     "metadata": {},
     "output_type": "execute_result"
    }
   ],
   "source": [
    "data.dtypes"
   ]
  },
  {
   "cell_type": "code",
   "execution_count": 7,
   "metadata": {},
   "outputs": [
    {
     "data": {
      "text/plain": [
       "Date         False\n",
       "Open         False\n",
       "High         False\n",
       "Low          False\n",
       "Close        False\n",
       "Adj Close    False\n",
       "Volume       False\n",
       "dtype: bool"
      ]
     },
     "execution_count": 7,
     "metadata": {},
     "output_type": "execute_result"
    }
   ],
   "source": [
    "data.isna().any()"
   ]
  },
  {
   "cell_type": "code",
   "execution_count": 8,
   "metadata": {},
   "outputs": [
    {
     "data": {
      "text/html": [
       "<div>\n",
       "<style scoped>\n",
       "    .dataframe tbody tr th:only-of-type {\n",
       "        vertical-align: middle;\n",
       "    }\n",
       "\n",
       "    .dataframe tbody tr th {\n",
       "        vertical-align: top;\n",
       "    }\n",
       "\n",
       "    .dataframe thead th {\n",
       "        text-align: right;\n",
       "    }\n",
       "</style>\n",
       "<table border=\"1\" class=\"dataframe\">\n",
       "  <thead>\n",
       "    <tr style=\"text-align: right;\">\n",
       "      <th></th>\n",
       "    </tr>\n",
       "  </thead>\n",
       "  <tbody>\n",
       "    <tr>\n",
       "      <th>0</th>\n",
       "    </tr>\n",
       "    <tr>\n",
       "      <th>1</th>\n",
       "    </tr>\n",
       "    <tr>\n",
       "      <th>2</th>\n",
       "    </tr>\n",
       "    <tr>\n",
       "      <th>3</th>\n",
       "    </tr>\n",
       "    <tr>\n",
       "      <th>4</th>\n",
       "    </tr>\n",
       "    <tr>\n",
       "      <th>...</th>\n",
       "    </tr>\n",
       "    <tr>\n",
       "      <th>4326</th>\n",
       "    </tr>\n",
       "    <tr>\n",
       "      <th>4327</th>\n",
       "    </tr>\n",
       "    <tr>\n",
       "      <th>4328</th>\n",
       "    </tr>\n",
       "    <tr>\n",
       "      <th>4329</th>\n",
       "    </tr>\n",
       "    <tr>\n",
       "      <th>4330</th>\n",
       "    </tr>\n",
       "  </tbody>\n",
       "</table>\n",
       "<p>4331 rows × 0 columns</p>\n",
       "</div>"
      ],
      "text/plain": [
       "Empty DataFrame\n",
       "Columns: []\n",
       "Index: [0, 1, 2, 3, 4, 5, 6, 7, 8, 9, 10, 11, 12, 13, 14, 15, 16, 17, 18, 19, 20, 21, 22, 23, 24, 25, 26, 27, 28, 29, 30, 31, 32, 33, 34, 35, 36, 37, 38, 39, 40, 41, 42, 43, 44, 45, 46, 47, 48, 49, 50, 51, 52, 53, 54, 55, 56, 57, 58, 59, 60, 61, 62, 63, 64, 65, 66, 67, 68, 69, 70, 71, 72, 73, 74, 75, 76, 77, 78, 79, 80, 81, 82, 83, 84, 85, 86, 87, 88, 89, 90, 91, 92, 93, 94, 95, 96, 97, 98, 99, ...]\n",
       "\n",
       "[4331 rows x 0 columns]"
      ]
     },
     "execution_count": 8,
     "metadata": {},
     "output_type": "execute_result"
    }
   ],
   "source": [
    "data[data.columns[data.isna().any()]]"
   ]
  },
  {
   "cell_type": "code",
   "execution_count": 9,
   "metadata": {},
   "outputs": [
    {
     "name": "stdout",
     "output_type": "stream",
     "text": [
      "            Date         Open         High          Low        Close  \\\n",
      "0      8/19/2004    50.050049    52.082081    48.028027    50.220219   \n",
      "1      8/20/2004    50.555557    54.594597    50.300301    54.209209   \n",
      "2      8/23/2004    55.430431    56.796799    54.579578    54.754753   \n",
      "3      8/24/2004    55.675674    55.855858    51.836838    52.487488   \n",
      "4      8/25/2004    52.532532    54.054054    51.991993    53.053055   \n",
      "...          ...          ...          ...          ...          ...   \n",
      "4326  10/25/2021  2751.000000  2760.000000  2708.479980  2748.939941   \n",
      "4327  10/26/2021  2785.270020  2801.659912  2766.090088  2786.169922   \n",
      "4328  10/27/2021  2788.100098  2973.000000  2788.100098  2924.350098   \n",
      "4329  10/28/2021  2942.689941  2943.159912  2892.540039  2916.979980   \n",
      "4330  10/29/2021  2901.560059  2964.840088  2892.989990  2960.919922   \n",
      "\n",
      "        Adj Close    Volume  cond1  cond2  cond3  \n",
      "0       50.220219  44659096  False  False  False  \n",
      "1       54.209209  22834343  False  False  False  \n",
      "2       54.754753  18256126  False  False  False  \n",
      "3       52.487488  15247337  False  False  False  \n",
      "4       53.053055   9188602  False  False  False  \n",
      "...           ...       ...    ...    ...    ...  \n",
      "4326  2748.939941   1720600  False  False  False  \n",
      "4327  2786.169922   2461800  False  False  False  \n",
      "4328  2924.350098   4289100  False  False  False  \n",
      "4329  2916.979980   1810300  False  False  False  \n",
      "4330  2960.919922   2163800  False  False  False  \n",
      "\n",
      "[4331 rows x 10 columns]\n"
     ]
    }
   ],
   "source": [
    "cond1 = data.Date.isna() # aapl['Date'].isna()\n",
    "cond2 = data.Date.str.contains(r'^\\s*$', na=False)\n",
    "cond3 = data.Date == ''\n",
    "\n",
    "data_checked = data.assign(cond1= cond1, cond2= cond2, cond3= cond3)\n",
    "print (data_checked)"
   ]
  },
  {
   "cell_type": "code",
   "execution_count": 10,
   "metadata": {},
   "outputs": [],
   "source": [
    "def simple_moving_average_5(close):\n",
    "    return close.rolling(5, min_periods=1).mean()"
   ]
  },
  {
   "cell_type": "code",
   "execution_count": 11,
   "metadata": {},
   "outputs": [],
   "source": [
    "def simple_moving_average_10(close):\n",
    "    return close.rolling(10, min_periods=1).mean()"
   ]
  },
  {
   "cell_type": "code",
   "execution_count": 12,
   "metadata": {},
   "outputs": [],
   "source": [
    "def stochastic_k(high, low, close):\n",
    "    return (((close-low.rolling(14).min())/(high.rolling(14).max()-low.rolling(14).min()))*100)"
   ]
  },
  {
   "cell_type": "code",
   "execution_count": 13,
   "metadata": {},
   "outputs": [],
   "source": [
    "def stochastic_d(stochastic_k):\n",
    "    return stochastic_k.rolling(3,min_periods=1).mean()"
   ]
  },
  {
   "cell_type": "code",
   "execution_count": 14,
   "metadata": {},
   "outputs": [],
   "source": [
    "def larry_williams_r(high, low, close):\n",
    "    return (((high.rolling(14).max()-close)/(high.rolling(14).max()-low.rolling(14).min()))*100)"
   ]
  },
  {
   "cell_type": "code",
   "execution_count": 15,
   "metadata": {},
   "outputs": [],
   "source": [
    "def rate_of_change(close):\n",
    "    return ((close-close.shift(12))/close.shift(12))"
   ]
  },
  {
   "cell_type": "code",
   "execution_count": 16,
   "metadata": {},
   "outputs": [],
   "source": [
    "def price_volume_trend(close, volume):\n",
    "    return (((close-close.shift(1))/close.shift(1))*volume)"
   ]
  },
  {
   "cell_type": "code",
   "execution_count": 17,
   "metadata": {},
   "outputs": [],
   "source": [
    "def accumulation_distribution_oscillator(high, low, close):\n",
    "    return((high-close.shift(1))/(high-low))"
   ]
  },
  {
   "cell_type": "code",
   "execution_count": 18,
   "metadata": {},
   "outputs": [],
   "source": [
    "def weighted_moving_average_10(close):\n",
    "    return ((10*close+9*close.shift(1)+8*close.shift(2)+7*close.shift(3)\n",
    "             +6*close.shift(4)+5*close.shift(5)+4*close.shift(6)+3*close.shift(7)\n",
    "             +2*close.shift(8)+close.shift(9))/(10+9+8+7+6+5+4+3+2+1))"
   ]
  },
  {
   "cell_type": "code",
   "execution_count": 19,
   "metadata": {},
   "outputs": [],
   "source": [
    "def exponential_moving_average_12(close):\n",
    "    return (close.ewm(span=12, adjust=False).mean())"
   ]
  },
  {
   "cell_type": "code",
   "execution_count": 20,
   "metadata": {},
   "outputs": [],
   "source": [
    "def exponential_moving_average_26(close):\n",
    "    return (close.ewm(span=26, adjust=False).mean())"
   ]
  },
  {
   "cell_type": "code",
   "execution_count": 21,
   "metadata": {},
   "outputs": [],
   "source": [
    "def moving_average_convergence_divergence(ema_12, ema_26):\n",
    "    return (ema_12 - ema_26)"
   ]
  },
  {
   "cell_type": "code",
   "execution_count": 22,
   "metadata": {},
   "outputs": [],
   "source": [
    "def momentum(close):\n",
    "    return ((close/close.shift(14))*100)"
   ]
  },
  {
   "cell_type": "code",
   "execution_count": 23,
   "metadata": {},
   "outputs": [],
   "source": [
    "def change(close):\n",
    "    return (close.shift(-1) - close)"
   ]
  },
  {
   "cell_type": "code",
   "execution_count": 24,
   "metadata": {},
   "outputs": [],
   "source": [
    "def direction(change):\n",
    "    return (np.where(change>0, 1, 0))"
   ]
  },
  {
   "cell_type": "code",
   "execution_count": 25,
   "metadata": {},
   "outputs": [],
   "source": [
    "def relative_strength_index(direction):\n",
    "    return (100-(100/(1+(direction.rolling(14).sum()/14)/(14-direction.rolling(14).sum())/14)))"
   ]
  },
  {
   "cell_type": "code",
   "execution_count": 26,
   "metadata": {},
   "outputs": [],
   "source": [
    "def channel_commodity_index(df, ndays): \n",
    "    df['TP'] = (df['High'] + df['Low'] + df['Close']) / 3 \n",
    "    df['sma'] = df['TP'].rolling(ndays).mean()\n",
    "    df['mad'] = df['TP'].rolling(ndays).apply(lambda x: pd.Series(x).mad())\n",
    "    df['CCI'] = (df['TP'] - df['sma']) / (0.015 * df['mad']) \n",
    "    return df['CCI']"
   ]
  },
  {
   "cell_type": "code",
   "execution_count": 27,
   "metadata": {},
   "outputs": [],
   "source": [
    "def disparity_index(close):\n",
    "    return (((close - close.rolling(14).mean())/(close.rolling(14).mean()))*100)"
   ]
  },
  {
   "cell_type": "code",
   "execution_count": 28,
   "metadata": {},
   "outputs": [],
   "source": [
    "def get_adx(high, low, close, lookback):\n",
    "    plus_dm = high.diff()\n",
    "    minus_dm = low.diff()\n",
    "    plus_dm[plus_dm < 0] = 0\n",
    "    minus_dm[minus_dm > 0] = 0\n",
    "    \n",
    "    tr1 = pd.DataFrame(high - low)\n",
    "    tr2 = pd.DataFrame(abs(high - close.shift(1)))\n",
    "    tr3 = pd.DataFrame(abs(low - close.shift(1)))\n",
    "    frames = [tr1, tr2, tr3]\n",
    "    tr = pd.concat(frames, axis = 1, join = 'inner').max(axis = 1)\n",
    "    atr = tr.rolling(lookback).mean()\n",
    "    \n",
    "    plus_di = 100 * (plus_dm.ewm(alpha = 1/lookback).mean() / atr)\n",
    "    minus_di = abs(100 * (minus_dm.ewm(alpha = 1/lookback).mean() / atr))\n",
    "    dx = (abs(plus_di - minus_di) / abs(plus_di + minus_di)) * 100\n",
    "    adx = ((dx.shift(1) * (lookback - 1)) + dx) / lookback\n",
    "    adx_smooth = adx.ewm(alpha = 1/lookback).mean()\n",
    "    return adx_smooth"
   ]
  },
  {
   "cell_type": "code",
   "execution_count": 29,
   "metadata": {},
   "outputs": [],
   "source": [
    "def aroon(close):\n",
    "    return (ta.trend.AroonIndicator(close, 25, True).aroon_indicator())"
   ]
  },
  {
   "cell_type": "code",
   "execution_count": 30,
   "metadata": {},
   "outputs": [],
   "source": [
    "def compute_all_indicators(data):\n",
    "    data['SMA5'] = simple_moving_average_5(data['Close'])\n",
    "    data['SMA10'] = simple_moving_average_10(data['Close'])\n",
    "    data['StochasticK'] = stochastic_k(data['High'], data['Low'], data['Close'])\n",
    "    data['StochasticD'] = stochastic_d(data['StochasticK'])\n",
    "    data['LarryWilliamsR'] = larry_williams_r(data['High'], data['Low'], data['Close'])\n",
    "    data['ROC'] = rate_of_change(data['Close'])\n",
    "    data['PVT'] = price_volume_trend(data['Close'], data['Volume'])\n",
    "    data['ADO'] = accumulation_distribution_oscillator(data['High'], data['Low'], data['Close'])\n",
    "    data['WMA10'] = weighted_moving_average_10(data['Close'])\n",
    "    data['EMA12'] = exponential_moving_average_12(data['Close'])\n",
    "    data['EMA26'] = exponential_moving_average_26(data['Close'])\n",
    "    data['MACD'] = moving_average_convergence_divergence(data['EMA12'], data['EMA26'])\n",
    "    data['Momentum'] = momentum(data['Close'])\n",
    "    data['Change'] = change(data['Close'])\n",
    "    data['Direction'] = direction(data['Change'])\n",
    "    data['RSI'] = relative_strength_index(data['Direction'])\n",
    "    data['CCI'] = channel_commodity_index(data, 14)\n",
    "    data['DI'] = disparity_index(data['Close'])\n",
    "    data['ADX'] = get_adx(data['High'], data['Low'], data['Close'], 14)\n",
    "    data['Aroon'] = aroon(data['Close'])    \n",
    "    return data"
   ]
  },
  {
   "cell_type": "code",
   "execution_count": 31,
   "metadata": {},
   "outputs": [
    {
     "data": {
      "text/html": [
       "<div>\n",
       "<style scoped>\n",
       "    .dataframe tbody tr th:only-of-type {\n",
       "        vertical-align: middle;\n",
       "    }\n",
       "\n",
       "    .dataframe tbody tr th {\n",
       "        vertical-align: top;\n",
       "    }\n",
       "\n",
       "    .dataframe thead th {\n",
       "        text-align: right;\n",
       "    }\n",
       "</style>\n",
       "<table border=\"1\" class=\"dataframe\">\n",
       "  <thead>\n",
       "    <tr style=\"text-align: right;\">\n",
       "      <th></th>\n",
       "      <th>Date</th>\n",
       "      <th>Open</th>\n",
       "      <th>High</th>\n",
       "      <th>Low</th>\n",
       "      <th>Close</th>\n",
       "      <th>Adj Close</th>\n",
       "      <th>Volume</th>\n",
       "      <th>SMA5</th>\n",
       "      <th>SMA10</th>\n",
       "      <th>StochasticK</th>\n",
       "      <th>...</th>\n",
       "      <th>Change</th>\n",
       "      <th>Direction</th>\n",
       "      <th>RSI</th>\n",
       "      <th>TP</th>\n",
       "      <th>sma</th>\n",
       "      <th>mad</th>\n",
       "      <th>CCI</th>\n",
       "      <th>DI</th>\n",
       "      <th>ADX</th>\n",
       "      <th>Aroon</th>\n",
       "    </tr>\n",
       "  </thead>\n",
       "  <tbody>\n",
       "    <tr>\n",
       "      <th>0</th>\n",
       "      <td>8/19/2004</td>\n",
       "      <td>50.050049</td>\n",
       "      <td>52.082081</td>\n",
       "      <td>48.028027</td>\n",
       "      <td>50.220219</td>\n",
       "      <td>50.220219</td>\n",
       "      <td>44659096</td>\n",
       "      <td>50.220219</td>\n",
       "      <td>50.220219</td>\n",
       "      <td>NaN</td>\n",
       "      <td>...</td>\n",
       "      <td>3.988990</td>\n",
       "      <td>1</td>\n",
       "      <td>NaN</td>\n",
       "      <td>50.110109</td>\n",
       "      <td>NaN</td>\n",
       "      <td>NaN</td>\n",
       "      <td>NaN</td>\n",
       "      <td>NaN</td>\n",
       "      <td>NaN</td>\n",
       "      <td>0.0</td>\n",
       "    </tr>\n",
       "    <tr>\n",
       "      <th>1</th>\n",
       "      <td>8/20/2004</td>\n",
       "      <td>50.555557</td>\n",
       "      <td>54.594597</td>\n",
       "      <td>50.300301</td>\n",
       "      <td>54.209209</td>\n",
       "      <td>54.209209</td>\n",
       "      <td>22834343</td>\n",
       "      <td>52.214714</td>\n",
       "      <td>52.214714</td>\n",
       "      <td>NaN</td>\n",
       "      <td>...</td>\n",
       "      <td>0.545544</td>\n",
       "      <td>1</td>\n",
       "      <td>NaN</td>\n",
       "      <td>53.034702</td>\n",
       "      <td>NaN</td>\n",
       "      <td>NaN</td>\n",
       "      <td>NaN</td>\n",
       "      <td>NaN</td>\n",
       "      <td>NaN</td>\n",
       "      <td>4.0</td>\n",
       "    </tr>\n",
       "    <tr>\n",
       "      <th>2</th>\n",
       "      <td>8/23/2004</td>\n",
       "      <td>55.430431</td>\n",
       "      <td>56.796799</td>\n",
       "      <td>54.579578</td>\n",
       "      <td>54.754753</td>\n",
       "      <td>54.754753</td>\n",
       "      <td>18256126</td>\n",
       "      <td>53.061394</td>\n",
       "      <td>53.061394</td>\n",
       "      <td>NaN</td>\n",
       "      <td>...</td>\n",
       "      <td>-2.267265</td>\n",
       "      <td>0</td>\n",
       "      <td>NaN</td>\n",
       "      <td>55.377043</td>\n",
       "      <td>NaN</td>\n",
       "      <td>NaN</td>\n",
       "      <td>NaN</td>\n",
       "      <td>NaN</td>\n",
       "      <td>NaN</td>\n",
       "      <td>8.0</td>\n",
       "    </tr>\n",
       "    <tr>\n",
       "      <th>3</th>\n",
       "      <td>8/24/2004</td>\n",
       "      <td>55.675674</td>\n",
       "      <td>55.855858</td>\n",
       "      <td>51.836838</td>\n",
       "      <td>52.487488</td>\n",
       "      <td>52.487488</td>\n",
       "      <td>15247337</td>\n",
       "      <td>52.917917</td>\n",
       "      <td>52.917917</td>\n",
       "      <td>NaN</td>\n",
       "      <td>...</td>\n",
       "      <td>0.565567</td>\n",
       "      <td>1</td>\n",
       "      <td>NaN</td>\n",
       "      <td>53.393395</td>\n",
       "      <td>NaN</td>\n",
       "      <td>NaN</td>\n",
       "      <td>NaN</td>\n",
       "      <td>NaN</td>\n",
       "      <td>NaN</td>\n",
       "      <td>8.0</td>\n",
       "    </tr>\n",
       "    <tr>\n",
       "      <th>4</th>\n",
       "      <td>8/25/2004</td>\n",
       "      <td>52.532532</td>\n",
       "      <td>54.054054</td>\n",
       "      <td>51.991993</td>\n",
       "      <td>53.053055</td>\n",
       "      <td>53.053055</td>\n",
       "      <td>9188602</td>\n",
       "      <td>52.944945</td>\n",
       "      <td>52.944945</td>\n",
       "      <td>NaN</td>\n",
       "      <td>...</td>\n",
       "      <td>0.955955</td>\n",
       "      <td>1</td>\n",
       "      <td>NaN</td>\n",
       "      <td>53.033034</td>\n",
       "      <td>NaN</td>\n",
       "      <td>NaN</td>\n",
       "      <td>NaN</td>\n",
       "      <td>NaN</td>\n",
       "      <td>NaN</td>\n",
       "      <td>8.0</td>\n",
       "    </tr>\n",
       "    <tr>\n",
       "      <th>...</th>\n",
       "      <td>...</td>\n",
       "      <td>...</td>\n",
       "      <td>...</td>\n",
       "      <td>...</td>\n",
       "      <td>...</td>\n",
       "      <td>...</td>\n",
       "      <td>...</td>\n",
       "      <td>...</td>\n",
       "      <td>...</td>\n",
       "      <td>...</td>\n",
       "      <td>...</td>\n",
       "      <td>...</td>\n",
       "      <td>...</td>\n",
       "      <td>...</td>\n",
       "      <td>...</td>\n",
       "      <td>...</td>\n",
       "      <td>...</td>\n",
       "      <td>...</td>\n",
       "      <td>...</td>\n",
       "      <td>...</td>\n",
       "      <td>...</td>\n",
       "    </tr>\n",
       "    <tr>\n",
       "      <th>4326</th>\n",
       "      <td>10/25/2021</td>\n",
       "      <td>2751.000000</td>\n",
       "      <td>2760.000000</td>\n",
       "      <td>2708.479980</td>\n",
       "      <td>2748.939941</td>\n",
       "      <td>2748.939941</td>\n",
       "      <td>1720600</td>\n",
       "      <td>2807.621973</td>\n",
       "      <td>2802.466992</td>\n",
       "      <td>31.791463</td>\n",
       "      <td>...</td>\n",
       "      <td>37.229981</td>\n",
       "      <td>1</td>\n",
       "      <td>0.910010</td>\n",
       "      <td>2739.139974</td>\n",
       "      <td>2793.822144</td>\n",
       "      <td>36.525489</td>\n",
       "      <td>-99.806410</td>\n",
       "      <td>-1.659154</td>\n",
       "      <td>15.283130</td>\n",
       "      <td>44.0</td>\n",
       "    </tr>\n",
       "    <tr>\n",
       "      <th>4327</th>\n",
       "      <td>10/26/2021</td>\n",
       "      <td>2785.270020</td>\n",
       "      <td>2801.659912</td>\n",
       "      <td>2766.090088</td>\n",
       "      <td>2786.169922</td>\n",
       "      <td>2786.169922</td>\n",
       "      <td>2461800</td>\n",
       "      <td>2791.907959</td>\n",
       "      <td>2808.185986</td>\n",
       "      <td>47.150533</td>\n",
       "      <td>...</td>\n",
       "      <td>138.180176</td>\n",
       "      <td>1</td>\n",
       "      <td>0.910010</td>\n",
       "      <td>2784.639974</td>\n",
       "      <td>2797.551188</td>\n",
       "      <td>33.080892</td>\n",
       "      <td>-26.019480</td>\n",
       "      <td>-0.416017</td>\n",
       "      <td>15.934061</td>\n",
       "      <td>44.0</td>\n",
       "    </tr>\n",
       "    <tr>\n",
       "      <th>4328</th>\n",
       "      <td>10/27/2021</td>\n",
       "      <td>2788.100098</td>\n",
       "      <td>2973.000000</td>\n",
       "      <td>2788.100098</td>\n",
       "      <td>2924.350098</td>\n",
       "      <td>2924.350098</td>\n",
       "      <td>4289100</td>\n",
       "      <td>2809.702002</td>\n",
       "      <td>2825.457007</td>\n",
       "      <td>81.608234</td>\n",
       "      <td>...</td>\n",
       "      <td>-7.370118</td>\n",
       "      <td>0</td>\n",
       "      <td>0.675676</td>\n",
       "      <td>2895.150065</td>\n",
       "      <td>2805.339047</td>\n",
       "      <td>39.235729</td>\n",
       "      <td>152.600736</td>\n",
       "      <td>4.150993</td>\n",
       "      <td>15.753143</td>\n",
       "      <td>68.0</td>\n",
       "    </tr>\n",
       "    <tr>\n",
       "      <th>4329</th>\n",
       "      <td>10/28/2021</td>\n",
       "      <td>2942.689941</td>\n",
       "      <td>2943.159912</td>\n",
       "      <td>2892.540039</td>\n",
       "      <td>2916.979980</td>\n",
       "      <td>2916.979980</td>\n",
       "      <td>1810300</td>\n",
       "      <td>2825.554004</td>\n",
       "      <td>2834.853003</td>\n",
       "      <td>78.822011</td>\n",
       "      <td>...</td>\n",
       "      <td>43.939942</td>\n",
       "      <td>1</td>\n",
       "      <td>0.910010</td>\n",
       "      <td>2917.559977</td>\n",
       "      <td>2814.053327</td>\n",
       "      <td>46.064779</td>\n",
       "      <td>149.798686</td>\n",
       "      <td>3.568992</td>\n",
       "      <td>16.191420</td>\n",
       "      <td>68.0</td>\n",
       "    </tr>\n",
       "    <tr>\n",
       "      <th>4330</th>\n",
       "      <td>10/29/2021</td>\n",
       "      <td>2901.560059</td>\n",
       "      <td>2964.840088</td>\n",
       "      <td>2892.989990</td>\n",
       "      <td>2960.919922</td>\n",
       "      <td>2960.919922</td>\n",
       "      <td>2163800</td>\n",
       "      <td>2867.471973</td>\n",
       "      <td>2848.208984</td>\n",
       "      <td>95.433208</td>\n",
       "      <td>...</td>\n",
       "      <td>NaN</td>\n",
       "      <td>0</td>\n",
       "      <td>0.910010</td>\n",
       "      <td>2939.583333</td>\n",
       "      <td>2824.744995</td>\n",
       "      <td>51.778588</td>\n",
       "      <td>147.858208</td>\n",
       "      <td>4.644397</td>\n",
       "      <td>16.615582</td>\n",
       "      <td>76.0</td>\n",
       "    </tr>\n",
       "  </tbody>\n",
       "</table>\n",
       "<p>4331 rows × 30 columns</p>\n",
       "</div>"
      ],
      "text/plain": [
       "            Date         Open         High          Low        Close  \\\n",
       "0      8/19/2004    50.050049    52.082081    48.028027    50.220219   \n",
       "1      8/20/2004    50.555557    54.594597    50.300301    54.209209   \n",
       "2      8/23/2004    55.430431    56.796799    54.579578    54.754753   \n",
       "3      8/24/2004    55.675674    55.855858    51.836838    52.487488   \n",
       "4      8/25/2004    52.532532    54.054054    51.991993    53.053055   \n",
       "...          ...          ...          ...          ...          ...   \n",
       "4326  10/25/2021  2751.000000  2760.000000  2708.479980  2748.939941   \n",
       "4327  10/26/2021  2785.270020  2801.659912  2766.090088  2786.169922   \n",
       "4328  10/27/2021  2788.100098  2973.000000  2788.100098  2924.350098   \n",
       "4329  10/28/2021  2942.689941  2943.159912  2892.540039  2916.979980   \n",
       "4330  10/29/2021  2901.560059  2964.840088  2892.989990  2960.919922   \n",
       "\n",
       "        Adj Close    Volume         SMA5        SMA10  StochasticK  ...  \\\n",
       "0       50.220219  44659096    50.220219    50.220219          NaN  ...   \n",
       "1       54.209209  22834343    52.214714    52.214714          NaN  ...   \n",
       "2       54.754753  18256126    53.061394    53.061394          NaN  ...   \n",
       "3       52.487488  15247337    52.917917    52.917917          NaN  ...   \n",
       "4       53.053055   9188602    52.944945    52.944945          NaN  ...   \n",
       "...           ...       ...          ...          ...          ...  ...   \n",
       "4326  2748.939941   1720600  2807.621973  2802.466992    31.791463  ...   \n",
       "4327  2786.169922   2461800  2791.907959  2808.185986    47.150533  ...   \n",
       "4328  2924.350098   4289100  2809.702002  2825.457007    81.608234  ...   \n",
       "4329  2916.979980   1810300  2825.554004  2834.853003    78.822011  ...   \n",
       "4330  2960.919922   2163800  2867.471973  2848.208984    95.433208  ...   \n",
       "\n",
       "          Change  Direction       RSI           TP          sma        mad  \\\n",
       "0       3.988990          1       NaN    50.110109          NaN        NaN   \n",
       "1       0.545544          1       NaN    53.034702          NaN        NaN   \n",
       "2      -2.267265          0       NaN    55.377043          NaN        NaN   \n",
       "3       0.565567          1       NaN    53.393395          NaN        NaN   \n",
       "4       0.955955          1       NaN    53.033034          NaN        NaN   \n",
       "...          ...        ...       ...          ...          ...        ...   \n",
       "4326   37.229981          1  0.910010  2739.139974  2793.822144  36.525489   \n",
       "4327  138.180176          1  0.910010  2784.639974  2797.551188  33.080892   \n",
       "4328   -7.370118          0  0.675676  2895.150065  2805.339047  39.235729   \n",
       "4329   43.939942          1  0.910010  2917.559977  2814.053327  46.064779   \n",
       "4330         NaN          0  0.910010  2939.583333  2824.744995  51.778588   \n",
       "\n",
       "             CCI        DI        ADX  Aroon  \n",
       "0            NaN       NaN        NaN    0.0  \n",
       "1            NaN       NaN        NaN    4.0  \n",
       "2            NaN       NaN        NaN    8.0  \n",
       "3            NaN       NaN        NaN    8.0  \n",
       "4            NaN       NaN        NaN    8.0  \n",
       "...          ...       ...        ...    ...  \n",
       "4326  -99.806410 -1.659154  15.283130   44.0  \n",
       "4327  -26.019480 -0.416017  15.934061   44.0  \n",
       "4328  152.600736  4.150993  15.753143   68.0  \n",
       "4329  149.798686  3.568992  16.191420   68.0  \n",
       "4330  147.858208  4.644397  16.615582   76.0  \n",
       "\n",
       "[4331 rows x 30 columns]"
      ]
     },
     "execution_count": 31,
     "metadata": {},
     "output_type": "execute_result"
    }
   ],
   "source": [
    "complete_data = compute_all_indicators(data)\n",
    "complete_data"
   ]
  },
  {
   "cell_type": "code",
   "execution_count": 32,
   "metadata": {},
   "outputs": [],
   "source": [
    "complete_data = complete_data.dropna()"
   ]
  },
  {
   "cell_type": "code",
   "execution_count": 33,
   "metadata": {},
   "outputs": [
    {
     "data": {
      "text/html": [
       "<div>\n",
       "<style scoped>\n",
       "    .dataframe tbody tr th:only-of-type {\n",
       "        vertical-align: middle;\n",
       "    }\n",
       "\n",
       "    .dataframe tbody tr th {\n",
       "        vertical-align: top;\n",
       "    }\n",
       "\n",
       "    .dataframe thead th {\n",
       "        text-align: right;\n",
       "    }\n",
       "</style>\n",
       "<table border=\"1\" class=\"dataframe\">\n",
       "  <thead>\n",
       "    <tr style=\"text-align: right;\">\n",
       "      <th></th>\n",
       "      <th>Date</th>\n",
       "      <th>Open</th>\n",
       "      <th>High</th>\n",
       "      <th>Low</th>\n",
       "      <th>Close</th>\n",
       "      <th>Adj Close</th>\n",
       "      <th>Volume</th>\n",
       "      <th>SMA5</th>\n",
       "      <th>SMA10</th>\n",
       "      <th>StochasticK</th>\n",
       "      <th>...</th>\n",
       "      <th>Change</th>\n",
       "      <th>Direction</th>\n",
       "      <th>RSI</th>\n",
       "      <th>TP</th>\n",
       "      <th>sma</th>\n",
       "      <th>mad</th>\n",
       "      <th>CCI</th>\n",
       "      <th>DI</th>\n",
       "      <th>ADX</th>\n",
       "      <th>Aroon</th>\n",
       "    </tr>\n",
       "  </thead>\n",
       "  <tbody>\n",
       "    <tr>\n",
       "      <th>14</th>\n",
       "      <td>9/9/2004</td>\n",
       "      <td>51.316315</td>\n",
       "      <td>51.406406</td>\n",
       "      <td>50.550552</td>\n",
       "      <td>51.206207</td>\n",
       "      <td>51.206207</td>\n",
       "      <td>4061734</td>\n",
       "      <td>50.821821</td>\n",
       "      <td>51.371371</td>\n",
       "      <td>23.177440</td>\n",
       "      <td>...</td>\n",
       "      <td>1.511509</td>\n",
       "      <td>1</td>\n",
       "      <td>0.910010</td>\n",
       "      <td>51.054388</td>\n",
       "      <td>52.055508</td>\n",
       "      <td>1.348866</td>\n",
       "      <td>-49.479574</td>\n",
       "      <td>-1.556034</td>\n",
       "      <td>13.189346</td>\n",
       "      <td>-36.0</td>\n",
       "    </tr>\n",
       "    <tr>\n",
       "      <th>15</th>\n",
       "      <td>9/10/2004</td>\n",
       "      <td>50.850849</td>\n",
       "      <td>53.333332</td>\n",
       "      <td>50.700703</td>\n",
       "      <td>52.717716</td>\n",
       "      <td>52.717716</td>\n",
       "      <td>8698892</td>\n",
       "      <td>51.204204</td>\n",
       "      <td>51.242242</td>\n",
       "      <td>43.947690</td>\n",
       "      <td>...</td>\n",
       "      <td>1.086086</td>\n",
       "      <td>1</td>\n",
       "      <td>0.910010</td>\n",
       "      <td>52.250584</td>\n",
       "      <td>51.999500</td>\n",
       "      <td>1.284856</td>\n",
       "      <td>13.027860</td>\n",
       "      <td>1.557848</td>\n",
       "      <td>13.278814</td>\n",
       "      <td>-36.0</td>\n",
       "    </tr>\n",
       "    <tr>\n",
       "      <th>16</th>\n",
       "      <td>9/13/2004</td>\n",
       "      <td>53.368366</td>\n",
       "      <td>54.259258</td>\n",
       "      <td>53.283283</td>\n",
       "      <td>53.803802</td>\n",
       "      <td>53.803802</td>\n",
       "      <td>7844148</td>\n",
       "      <td>51.953953</td>\n",
       "      <td>51.309809</td>\n",
       "      <td>67.614480</td>\n",
       "      <td>...</td>\n",
       "      <td>1.996998</td>\n",
       "      <td>1</td>\n",
       "      <td>1.259446</td>\n",
       "      <td>53.782114</td>\n",
       "      <td>51.885576</td>\n",
       "      <td>1.154658</td>\n",
       "      <td>109.500695</td>\n",
       "      <td>3.785942</td>\n",
       "      <td>14.363601</td>\n",
       "      <td>-36.0</td>\n",
       "    </tr>\n",
       "    <tr>\n",
       "      <th>17</th>\n",
       "      <td>9/14/2004</td>\n",
       "      <td>53.778778</td>\n",
       "      <td>56.056057</td>\n",
       "      <td>53.448448</td>\n",
       "      <td>55.800800</td>\n",
       "      <td>55.800800</td>\n",
       "      <td>10828960</td>\n",
       "      <td>52.945945</td>\n",
       "      <td>51.784284</td>\n",
       "      <td>96.094920</td>\n",
       "      <td>...</td>\n",
       "      <td>0.255257</td>\n",
       "      <td>1</td>\n",
       "      <td>1.259446</td>\n",
       "      <td>55.101768</td>\n",
       "      <td>52.007603</td>\n",
       "      <td>1.294117</td>\n",
       "      <td>159.396447</td>\n",
       "      <td>7.148936</td>\n",
       "      <td>17.732901</td>\n",
       "      <td>24.0</td>\n",
       "    </tr>\n",
       "    <tr>\n",
       "      <th>18</th>\n",
       "      <td>9/15/2004</td>\n",
       "      <td>55.335335</td>\n",
       "      <td>57.172173</td>\n",
       "      <td>55.155155</td>\n",
       "      <td>56.056057</td>\n",
       "      <td>56.056057</td>\n",
       "      <td>10713076</td>\n",
       "      <td>53.916916</td>\n",
       "      <td>52.266266</td>\n",
       "      <td>85.415306</td>\n",
       "      <td>...</td>\n",
       "      <td>0.985985</td>\n",
       "      <td>1</td>\n",
       "      <td>1.259446</td>\n",
       "      <td>56.127795</td>\n",
       "      <td>52.228657</td>\n",
       "      <td>1.546751</td>\n",
       "      <td>168.057138</td>\n",
       "      <td>7.197552</td>\n",
       "      <td>22.985583</td>\n",
       "      <td>28.0</td>\n",
       "    </tr>\n",
       "    <tr>\n",
       "      <th>...</th>\n",
       "      <td>...</td>\n",
       "      <td>...</td>\n",
       "      <td>...</td>\n",
       "      <td>...</td>\n",
       "      <td>...</td>\n",
       "      <td>...</td>\n",
       "      <td>...</td>\n",
       "      <td>...</td>\n",
       "      <td>...</td>\n",
       "      <td>...</td>\n",
       "      <td>...</td>\n",
       "      <td>...</td>\n",
       "      <td>...</td>\n",
       "      <td>...</td>\n",
       "      <td>...</td>\n",
       "      <td>...</td>\n",
       "      <td>...</td>\n",
       "      <td>...</td>\n",
       "      <td>...</td>\n",
       "      <td>...</td>\n",
       "      <td>...</td>\n",
       "    </tr>\n",
       "    <tr>\n",
       "      <th>4325</th>\n",
       "      <td>10/22/2021</td>\n",
       "      <td>2783.000000</td>\n",
       "      <td>2811.659912</td>\n",
       "      <td>2721.120117</td>\n",
       "      <td>2751.330078</td>\n",
       "      <td>2751.330078</td>\n",
       "      <td>2527700</td>\n",
       "      <td>2828.945996</td>\n",
       "      <td>2805.401001</td>\n",
       "      <td>36.641914</td>\n",
       "      <td>...</td>\n",
       "      <td>-2.390137</td>\n",
       "      <td>0</td>\n",
       "      <td>0.910010</td>\n",
       "      <td>2761.370036</td>\n",
       "      <td>2792.116194</td>\n",
       "      <td>38.231440</td>\n",
       "      <td>-53.614090</td>\n",
       "      <td>-1.501967</td>\n",
       "      <td>14.685884</td>\n",
       "      <td>44.0</td>\n",
       "    </tr>\n",
       "    <tr>\n",
       "      <th>4326</th>\n",
       "      <td>10/25/2021</td>\n",
       "      <td>2751.000000</td>\n",
       "      <td>2760.000000</td>\n",
       "      <td>2708.479980</td>\n",
       "      <td>2748.939941</td>\n",
       "      <td>2748.939941</td>\n",
       "      <td>1720600</td>\n",
       "      <td>2807.621973</td>\n",
       "      <td>2802.466992</td>\n",
       "      <td>31.791463</td>\n",
       "      <td>...</td>\n",
       "      <td>37.229981</td>\n",
       "      <td>1</td>\n",
       "      <td>0.910010</td>\n",
       "      <td>2739.139974</td>\n",
       "      <td>2793.822144</td>\n",
       "      <td>36.525489</td>\n",
       "      <td>-99.806410</td>\n",
       "      <td>-1.659154</td>\n",
       "      <td>15.283130</td>\n",
       "      <td>44.0</td>\n",
       "    </tr>\n",
       "    <tr>\n",
       "      <th>4327</th>\n",
       "      <td>10/26/2021</td>\n",
       "      <td>2785.270020</td>\n",
       "      <td>2801.659912</td>\n",
       "      <td>2766.090088</td>\n",
       "      <td>2786.169922</td>\n",
       "      <td>2786.169922</td>\n",
       "      <td>2461800</td>\n",
       "      <td>2791.907959</td>\n",
       "      <td>2808.185986</td>\n",
       "      <td>47.150533</td>\n",
       "      <td>...</td>\n",
       "      <td>138.180176</td>\n",
       "      <td>1</td>\n",
       "      <td>0.910010</td>\n",
       "      <td>2784.639974</td>\n",
       "      <td>2797.551188</td>\n",
       "      <td>33.080892</td>\n",
       "      <td>-26.019480</td>\n",
       "      <td>-0.416017</td>\n",
       "      <td>15.934061</td>\n",
       "      <td>44.0</td>\n",
       "    </tr>\n",
       "    <tr>\n",
       "      <th>4328</th>\n",
       "      <td>10/27/2021</td>\n",
       "      <td>2788.100098</td>\n",
       "      <td>2973.000000</td>\n",
       "      <td>2788.100098</td>\n",
       "      <td>2924.350098</td>\n",
       "      <td>2924.350098</td>\n",
       "      <td>4289100</td>\n",
       "      <td>2809.702002</td>\n",
       "      <td>2825.457007</td>\n",
       "      <td>81.608234</td>\n",
       "      <td>...</td>\n",
       "      <td>-7.370118</td>\n",
       "      <td>0</td>\n",
       "      <td>0.675676</td>\n",
       "      <td>2895.150065</td>\n",
       "      <td>2805.339047</td>\n",
       "      <td>39.235729</td>\n",
       "      <td>152.600736</td>\n",
       "      <td>4.150993</td>\n",
       "      <td>15.753143</td>\n",
       "      <td>68.0</td>\n",
       "    </tr>\n",
       "    <tr>\n",
       "      <th>4329</th>\n",
       "      <td>10/28/2021</td>\n",
       "      <td>2942.689941</td>\n",
       "      <td>2943.159912</td>\n",
       "      <td>2892.540039</td>\n",
       "      <td>2916.979980</td>\n",
       "      <td>2916.979980</td>\n",
       "      <td>1810300</td>\n",
       "      <td>2825.554004</td>\n",
       "      <td>2834.853003</td>\n",
       "      <td>78.822011</td>\n",
       "      <td>...</td>\n",
       "      <td>43.939942</td>\n",
       "      <td>1</td>\n",
       "      <td>0.910010</td>\n",
       "      <td>2917.559977</td>\n",
       "      <td>2814.053327</td>\n",
       "      <td>46.064779</td>\n",
       "      <td>149.798686</td>\n",
       "      <td>3.568992</td>\n",
       "      <td>16.191420</td>\n",
       "      <td>68.0</td>\n",
       "    </tr>\n",
       "  </tbody>\n",
       "</table>\n",
       "<p>4316 rows × 30 columns</p>\n",
       "</div>"
      ],
      "text/plain": [
       "            Date         Open         High          Low        Close  \\\n",
       "14      9/9/2004    51.316315    51.406406    50.550552    51.206207   \n",
       "15     9/10/2004    50.850849    53.333332    50.700703    52.717716   \n",
       "16     9/13/2004    53.368366    54.259258    53.283283    53.803802   \n",
       "17     9/14/2004    53.778778    56.056057    53.448448    55.800800   \n",
       "18     9/15/2004    55.335335    57.172173    55.155155    56.056057   \n",
       "...          ...          ...          ...          ...          ...   \n",
       "4325  10/22/2021  2783.000000  2811.659912  2721.120117  2751.330078   \n",
       "4326  10/25/2021  2751.000000  2760.000000  2708.479980  2748.939941   \n",
       "4327  10/26/2021  2785.270020  2801.659912  2766.090088  2786.169922   \n",
       "4328  10/27/2021  2788.100098  2973.000000  2788.100098  2924.350098   \n",
       "4329  10/28/2021  2942.689941  2943.159912  2892.540039  2916.979980   \n",
       "\n",
       "        Adj Close    Volume         SMA5        SMA10  StochasticK  ...  \\\n",
       "14      51.206207   4061734    50.821821    51.371371    23.177440  ...   \n",
       "15      52.717716   8698892    51.204204    51.242242    43.947690  ...   \n",
       "16      53.803802   7844148    51.953953    51.309809    67.614480  ...   \n",
       "17      55.800800  10828960    52.945945    51.784284    96.094920  ...   \n",
       "18      56.056057  10713076    53.916916    52.266266    85.415306  ...   \n",
       "...           ...       ...          ...          ...          ...  ...   \n",
       "4325  2751.330078   2527700  2828.945996  2805.401001    36.641914  ...   \n",
       "4326  2748.939941   1720600  2807.621973  2802.466992    31.791463  ...   \n",
       "4327  2786.169922   2461800  2791.907959  2808.185986    47.150533  ...   \n",
       "4328  2924.350098   4289100  2809.702002  2825.457007    81.608234  ...   \n",
       "4329  2916.979980   1810300  2825.554004  2834.853003    78.822011  ...   \n",
       "\n",
       "          Change  Direction       RSI           TP          sma        mad  \\\n",
       "14      1.511509          1  0.910010    51.054388    52.055508   1.348866   \n",
       "15      1.086086          1  0.910010    52.250584    51.999500   1.284856   \n",
       "16      1.996998          1  1.259446    53.782114    51.885576   1.154658   \n",
       "17      0.255257          1  1.259446    55.101768    52.007603   1.294117   \n",
       "18      0.985985          1  1.259446    56.127795    52.228657   1.546751   \n",
       "...          ...        ...       ...          ...          ...        ...   \n",
       "4325   -2.390137          0  0.910010  2761.370036  2792.116194  38.231440   \n",
       "4326   37.229981          1  0.910010  2739.139974  2793.822144  36.525489   \n",
       "4327  138.180176          1  0.910010  2784.639974  2797.551188  33.080892   \n",
       "4328   -7.370118          0  0.675676  2895.150065  2805.339047  39.235729   \n",
       "4329   43.939942          1  0.910010  2917.559977  2814.053327  46.064779   \n",
       "\n",
       "             CCI        DI        ADX  Aroon  \n",
       "14    -49.479574 -1.556034  13.189346  -36.0  \n",
       "15     13.027860  1.557848  13.278814  -36.0  \n",
       "16    109.500695  3.785942  14.363601  -36.0  \n",
       "17    159.396447  7.148936  17.732901   24.0  \n",
       "18    168.057138  7.197552  22.985583   28.0  \n",
       "...          ...       ...        ...    ...  \n",
       "4325  -53.614090 -1.501967  14.685884   44.0  \n",
       "4326  -99.806410 -1.659154  15.283130   44.0  \n",
       "4327  -26.019480 -0.416017  15.934061   44.0  \n",
       "4328  152.600736  4.150993  15.753143   68.0  \n",
       "4329  149.798686  3.568992  16.191420   68.0  \n",
       "\n",
       "[4316 rows x 30 columns]"
      ]
     },
     "execution_count": 33,
     "metadata": {},
     "output_type": "execute_result"
    }
   ],
   "source": [
    "complete_data"
   ]
  },
  {
   "cell_type": "code",
   "execution_count": 34,
   "metadata": {},
   "outputs": [],
   "source": [
    "complete_data = complete_data.drop(['TP', 'sma', 'mad', 'Change'], axis=1)"
   ]
  },
  {
   "cell_type": "code",
   "execution_count": 35,
   "metadata": {},
   "outputs": [
    {
     "data": {
      "text/html": [
       "<div>\n",
       "<style scoped>\n",
       "    .dataframe tbody tr th:only-of-type {\n",
       "        vertical-align: middle;\n",
       "    }\n",
       "\n",
       "    .dataframe tbody tr th {\n",
       "        vertical-align: top;\n",
       "    }\n",
       "\n",
       "    .dataframe thead th {\n",
       "        text-align: right;\n",
       "    }\n",
       "</style>\n",
       "<table border=\"1\" class=\"dataframe\">\n",
       "  <thead>\n",
       "    <tr style=\"text-align: right;\">\n",
       "      <th></th>\n",
       "      <th>Date</th>\n",
       "      <th>Open</th>\n",
       "      <th>High</th>\n",
       "      <th>Low</th>\n",
       "      <th>Close</th>\n",
       "      <th>Adj Close</th>\n",
       "      <th>Volume</th>\n",
       "      <th>SMA5</th>\n",
       "      <th>SMA10</th>\n",
       "      <th>StochasticK</th>\n",
       "      <th>...</th>\n",
       "      <th>EMA12</th>\n",
       "      <th>EMA26</th>\n",
       "      <th>MACD</th>\n",
       "      <th>Momentum</th>\n",
       "      <th>Direction</th>\n",
       "      <th>RSI</th>\n",
       "      <th>CCI</th>\n",
       "      <th>DI</th>\n",
       "      <th>ADX</th>\n",
       "      <th>Aroon</th>\n",
       "    </tr>\n",
       "  </thead>\n",
       "  <tbody>\n",
       "    <tr>\n",
       "      <th>14</th>\n",
       "      <td>9/9/2004</td>\n",
       "      <td>51.316315</td>\n",
       "      <td>51.406406</td>\n",
       "      <td>50.550552</td>\n",
       "      <td>51.206207</td>\n",
       "      <td>51.206207</td>\n",
       "      <td>4061734</td>\n",
       "      <td>50.821821</td>\n",
       "      <td>51.371371</td>\n",
       "      <td>23.177440</td>\n",
       "      <td>...</td>\n",
       "      <td>51.241682</td>\n",
       "      <td>51.171435</td>\n",
       "      <td>0.070247</td>\n",
       "      <td>101.963329</td>\n",
       "      <td>1</td>\n",
       "      <td>0.910010</td>\n",
       "      <td>-49.479574</td>\n",
       "      <td>-1.556034</td>\n",
       "      <td>13.189346</td>\n",
       "      <td>-36.0</td>\n",
       "    </tr>\n",
       "    <tr>\n",
       "      <th>15</th>\n",
       "      <td>9/10/2004</td>\n",
       "      <td>50.850849</td>\n",
       "      <td>53.333332</td>\n",
       "      <td>50.700703</td>\n",
       "      <td>52.717716</td>\n",
       "      <td>52.717716</td>\n",
       "      <td>8698892</td>\n",
       "      <td>51.204204</td>\n",
       "      <td>51.242242</td>\n",
       "      <td>43.947690</td>\n",
       "      <td>...</td>\n",
       "      <td>51.468764</td>\n",
       "      <td>51.285974</td>\n",
       "      <td>0.182790</td>\n",
       "      <td>97.248635</td>\n",
       "      <td>1</td>\n",
       "      <td>0.910010</td>\n",
       "      <td>13.027860</td>\n",
       "      <td>1.557848</td>\n",
       "      <td>13.278814</td>\n",
       "      <td>-36.0</td>\n",
       "    </tr>\n",
       "    <tr>\n",
       "      <th>16</th>\n",
       "      <td>9/13/2004</td>\n",
       "      <td>53.368366</td>\n",
       "      <td>54.259258</td>\n",
       "      <td>53.283283</td>\n",
       "      <td>53.803802</td>\n",
       "      <td>53.803802</td>\n",
       "      <td>7844148</td>\n",
       "      <td>51.953953</td>\n",
       "      <td>51.309809</td>\n",
       "      <td>67.614480</td>\n",
       "      <td>...</td>\n",
       "      <td>51.828001</td>\n",
       "      <td>51.472480</td>\n",
       "      <td>0.355521</td>\n",
       "      <td>98.263254</td>\n",
       "      <td>1</td>\n",
       "      <td>1.259446</td>\n",
       "      <td>109.500695</td>\n",
       "      <td>3.785942</td>\n",
       "      <td>14.363601</td>\n",
       "      <td>-36.0</td>\n",
       "    </tr>\n",
       "    <tr>\n",
       "      <th>17</th>\n",
       "      <td>9/14/2004</td>\n",
       "      <td>53.778778</td>\n",
       "      <td>56.056057</td>\n",
       "      <td>53.448448</td>\n",
       "      <td>55.800800</td>\n",
       "      <td>55.800800</td>\n",
       "      <td>10828960</td>\n",
       "      <td>52.945945</td>\n",
       "      <td>51.784284</td>\n",
       "      <td>96.094920</td>\n",
       "      <td>...</td>\n",
       "      <td>52.439201</td>\n",
       "      <td>51.793096</td>\n",
       "      <td>0.646105</td>\n",
       "      <td>106.312575</td>\n",
       "      <td>1</td>\n",
       "      <td>1.259446</td>\n",
       "      <td>159.396447</td>\n",
       "      <td>7.148936</td>\n",
       "      <td>17.732901</td>\n",
       "      <td>24.0</td>\n",
       "    </tr>\n",
       "    <tr>\n",
       "      <th>18</th>\n",
       "      <td>9/15/2004</td>\n",
       "      <td>55.335335</td>\n",
       "      <td>57.172173</td>\n",
       "      <td>55.155155</td>\n",
       "      <td>56.056057</td>\n",
       "      <td>56.056057</td>\n",
       "      <td>10713076</td>\n",
       "      <td>53.916916</td>\n",
       "      <td>52.266266</td>\n",
       "      <td>85.415306</td>\n",
       "      <td>...</td>\n",
       "      <td>52.995640</td>\n",
       "      <td>52.108871</td>\n",
       "      <td>0.886769</td>\n",
       "      <td>105.660375</td>\n",
       "      <td>1</td>\n",
       "      <td>1.259446</td>\n",
       "      <td>168.057138</td>\n",
       "      <td>7.197552</td>\n",
       "      <td>22.985583</td>\n",
       "      <td>28.0</td>\n",
       "    </tr>\n",
       "    <tr>\n",
       "      <th>...</th>\n",
       "      <td>...</td>\n",
       "      <td>...</td>\n",
       "      <td>...</td>\n",
       "      <td>...</td>\n",
       "      <td>...</td>\n",
       "      <td>...</td>\n",
       "      <td>...</td>\n",
       "      <td>...</td>\n",
       "      <td>...</td>\n",
       "      <td>...</td>\n",
       "      <td>...</td>\n",
       "      <td>...</td>\n",
       "      <td>...</td>\n",
       "      <td>...</td>\n",
       "      <td>...</td>\n",
       "      <td>...</td>\n",
       "      <td>...</td>\n",
       "      <td>...</td>\n",
       "      <td>...</td>\n",
       "      <td>...</td>\n",
       "      <td>...</td>\n",
       "    </tr>\n",
       "    <tr>\n",
       "      <th>4325</th>\n",
       "      <td>10/22/2021</td>\n",
       "      <td>2783.000000</td>\n",
       "      <td>2811.659912</td>\n",
       "      <td>2721.120117</td>\n",
       "      <td>2751.330078</td>\n",
       "      <td>2751.330078</td>\n",
       "      <td>2527700</td>\n",
       "      <td>2828.945996</td>\n",
       "      <td>2805.401001</td>\n",
       "      <td>36.641914</td>\n",
       "      <td>...</td>\n",
       "      <td>2801.459443</td>\n",
       "      <td>2792.721461</td>\n",
       "      <td>8.737982</td>\n",
       "      <td>102.923105</td>\n",
       "      <td>0</td>\n",
       "      <td>0.910010</td>\n",
       "      <td>-53.614090</td>\n",
       "      <td>-1.501967</td>\n",
       "      <td>14.685884</td>\n",
       "      <td>44.0</td>\n",
       "    </tr>\n",
       "    <tr>\n",
       "      <th>4326</th>\n",
       "      <td>10/25/2021</td>\n",
       "      <td>2751.000000</td>\n",
       "      <td>2760.000000</td>\n",
       "      <td>2708.479980</td>\n",
       "      <td>2748.939941</td>\n",
       "      <td>2748.939941</td>\n",
       "      <td>1720600</td>\n",
       "      <td>2807.621973</td>\n",
       "      <td>2802.466992</td>\n",
       "      <td>31.791463</td>\n",
       "      <td>...</td>\n",
       "      <td>2793.379519</td>\n",
       "      <td>2789.478385</td>\n",
       "      <td>3.901134</td>\n",
       "      <td>101.046881</td>\n",
       "      <td>1</td>\n",
       "      <td>0.910010</td>\n",
       "      <td>-99.806410</td>\n",
       "      <td>-1.659154</td>\n",
       "      <td>15.283130</td>\n",
       "      <td>44.0</td>\n",
       "    </tr>\n",
       "    <tr>\n",
       "      <th>4327</th>\n",
       "      <td>10/26/2021</td>\n",
       "      <td>2785.270020</td>\n",
       "      <td>2801.659912</td>\n",
       "      <td>2766.090088</td>\n",
       "      <td>2786.169922</td>\n",
       "      <td>2786.169922</td>\n",
       "      <td>2461800</td>\n",
       "      <td>2791.907959</td>\n",
       "      <td>2808.185986</td>\n",
       "      <td>47.150533</td>\n",
       "      <td>...</td>\n",
       "      <td>2792.270350</td>\n",
       "      <td>2789.233314</td>\n",
       "      <td>3.037036</td>\n",
       "      <td>101.267396</td>\n",
       "      <td>1</td>\n",
       "      <td>0.910010</td>\n",
       "      <td>-26.019480</td>\n",
       "      <td>-0.416017</td>\n",
       "      <td>15.934061</td>\n",
       "      <td>44.0</td>\n",
       "    </tr>\n",
       "    <tr>\n",
       "      <th>4328</th>\n",
       "      <td>10/27/2021</td>\n",
       "      <td>2788.100098</td>\n",
       "      <td>2973.000000</td>\n",
       "      <td>2788.100098</td>\n",
       "      <td>2924.350098</td>\n",
       "      <td>2924.350098</td>\n",
       "      <td>4289100</td>\n",
       "      <td>2809.702002</td>\n",
       "      <td>2825.457007</td>\n",
       "      <td>81.608234</td>\n",
       "      <td>...</td>\n",
       "      <td>2812.590312</td>\n",
       "      <td>2799.241965</td>\n",
       "      <td>13.348347</td>\n",
       "      <td>105.022449</td>\n",
       "      <td>0</td>\n",
       "      <td>0.675676</td>\n",
       "      <td>152.600736</td>\n",
       "      <td>4.150993</td>\n",
       "      <td>15.753143</td>\n",
       "      <td>68.0</td>\n",
       "    </tr>\n",
       "    <tr>\n",
       "      <th>4329</th>\n",
       "      <td>10/28/2021</td>\n",
       "      <td>2942.689941</td>\n",
       "      <td>2943.159912</td>\n",
       "      <td>2892.540039</td>\n",
       "      <td>2916.979980</td>\n",
       "      <td>2916.979980</td>\n",
       "      <td>1810300</td>\n",
       "      <td>2825.554004</td>\n",
       "      <td>2834.853003</td>\n",
       "      <td>78.822011</td>\n",
       "      <td>...</td>\n",
       "      <td>2828.650261</td>\n",
       "      <td>2807.963299</td>\n",
       "      <td>20.686961</td>\n",
       "      <td>104.337718</td>\n",
       "      <td>1</td>\n",
       "      <td>0.910010</td>\n",
       "      <td>149.798686</td>\n",
       "      <td>3.568992</td>\n",
       "      <td>16.191420</td>\n",
       "      <td>68.0</td>\n",
       "    </tr>\n",
       "  </tbody>\n",
       "</table>\n",
       "<p>4316 rows × 26 columns</p>\n",
       "</div>"
      ],
      "text/plain": [
       "            Date         Open         High          Low        Close  \\\n",
       "14      9/9/2004    51.316315    51.406406    50.550552    51.206207   \n",
       "15     9/10/2004    50.850849    53.333332    50.700703    52.717716   \n",
       "16     9/13/2004    53.368366    54.259258    53.283283    53.803802   \n",
       "17     9/14/2004    53.778778    56.056057    53.448448    55.800800   \n",
       "18     9/15/2004    55.335335    57.172173    55.155155    56.056057   \n",
       "...          ...          ...          ...          ...          ...   \n",
       "4325  10/22/2021  2783.000000  2811.659912  2721.120117  2751.330078   \n",
       "4326  10/25/2021  2751.000000  2760.000000  2708.479980  2748.939941   \n",
       "4327  10/26/2021  2785.270020  2801.659912  2766.090088  2786.169922   \n",
       "4328  10/27/2021  2788.100098  2973.000000  2788.100098  2924.350098   \n",
       "4329  10/28/2021  2942.689941  2943.159912  2892.540039  2916.979980   \n",
       "\n",
       "        Adj Close    Volume         SMA5        SMA10  StochasticK  ...  \\\n",
       "14      51.206207   4061734    50.821821    51.371371    23.177440  ...   \n",
       "15      52.717716   8698892    51.204204    51.242242    43.947690  ...   \n",
       "16      53.803802   7844148    51.953953    51.309809    67.614480  ...   \n",
       "17      55.800800  10828960    52.945945    51.784284    96.094920  ...   \n",
       "18      56.056057  10713076    53.916916    52.266266    85.415306  ...   \n",
       "...           ...       ...          ...          ...          ...  ...   \n",
       "4325  2751.330078   2527700  2828.945996  2805.401001    36.641914  ...   \n",
       "4326  2748.939941   1720600  2807.621973  2802.466992    31.791463  ...   \n",
       "4327  2786.169922   2461800  2791.907959  2808.185986    47.150533  ...   \n",
       "4328  2924.350098   4289100  2809.702002  2825.457007    81.608234  ...   \n",
       "4329  2916.979980   1810300  2825.554004  2834.853003    78.822011  ...   \n",
       "\n",
       "            EMA12        EMA26       MACD    Momentum  Direction       RSI  \\\n",
       "14      51.241682    51.171435   0.070247  101.963329          1  0.910010   \n",
       "15      51.468764    51.285974   0.182790   97.248635          1  0.910010   \n",
       "16      51.828001    51.472480   0.355521   98.263254          1  1.259446   \n",
       "17      52.439201    51.793096   0.646105  106.312575          1  1.259446   \n",
       "18      52.995640    52.108871   0.886769  105.660375          1  1.259446   \n",
       "...           ...          ...        ...         ...        ...       ...   \n",
       "4325  2801.459443  2792.721461   8.737982  102.923105          0  0.910010   \n",
       "4326  2793.379519  2789.478385   3.901134  101.046881          1  0.910010   \n",
       "4327  2792.270350  2789.233314   3.037036  101.267396          1  0.910010   \n",
       "4328  2812.590312  2799.241965  13.348347  105.022449          0  0.675676   \n",
       "4329  2828.650261  2807.963299  20.686961  104.337718          1  0.910010   \n",
       "\n",
       "             CCI        DI        ADX  Aroon  \n",
       "14    -49.479574 -1.556034  13.189346  -36.0  \n",
       "15     13.027860  1.557848  13.278814  -36.0  \n",
       "16    109.500695  3.785942  14.363601  -36.0  \n",
       "17    159.396447  7.148936  17.732901   24.0  \n",
       "18    168.057138  7.197552  22.985583   28.0  \n",
       "...          ...       ...        ...    ...  \n",
       "4325  -53.614090 -1.501967  14.685884   44.0  \n",
       "4326  -99.806410 -1.659154  15.283130   44.0  \n",
       "4327  -26.019480 -0.416017  15.934061   44.0  \n",
       "4328  152.600736  4.150993  15.753143   68.0  \n",
       "4329  149.798686  3.568992  16.191420   68.0  \n",
       "\n",
       "[4316 rows x 26 columns]"
      ]
     },
     "execution_count": 35,
     "metadata": {},
     "output_type": "execute_result"
    }
   ],
   "source": [
    "complete_data"
   ]
  },
  {
   "cell_type": "code",
   "execution_count": 36,
   "metadata": {},
   "outputs": [],
   "source": [
    "#corrMatrix = complete_data.corr()\n",
    "#print(corrMatrix)"
   ]
  },
  {
   "cell_type": "code",
   "execution_count": 37,
   "metadata": {},
   "outputs": [],
   "source": [
    "#sn.heatmap(corrMatrix, annot=False)\n",
    "#plt.show()"
   ]
  },
  {
   "cell_type": "code",
   "execution_count": 38,
   "metadata": {},
   "outputs": [],
   "source": [
    "#corr_pairs = corrMatrix.unstack()\n",
    "#corr_pairs"
   ]
  },
  {
   "cell_type": "code",
   "execution_count": 39,
   "metadata": {},
   "outputs": [],
   "source": [
    "#sorted_pairs = corr_pairs.sort_values(kind=\"quicksort\")\n",
    "#sorted_pairs"
   ]
  },
  {
   "cell_type": "code",
   "execution_count": 40,
   "metadata": {},
   "outputs": [],
   "source": [
    "#strong_pairs = sorted_pairs[abs(sorted_pairs) > 0.5]\n",
    "\n",
    "#print(strong_pairs)"
   ]
  },
  {
   "cell_type": "code",
   "execution_count": 41,
   "metadata": {},
   "outputs": [],
   "source": [
    "## strong_pairs[strong_pairs.index[0][0] == strong_pairs.index[0][1]]\n",
    "\n",
    "#removed_diagonal = [(i, j) for (i, j) in strong_pairs.index if i!=j]\n",
    "#len(removed_diagonal)"
   ]
  },
  {
   "cell_type": "code",
   "execution_count": 42,
   "metadata": {
    "scrolled": false
   },
   "outputs": [],
   "source": [
    "## # Create correlation matrix\n",
    "## corr_matrix = complete_data.corr().abs()\n",
    "\n",
    "## # Select upper triangle of correlation matrix\n",
    "## upper = corr_matrix.where(np.triu(np.ones(corr_matrix.shape), k=1).astype(np.bool8))\n",
    "\n",
    "## # Find index of feature columns with correlation greater than 0.95\n",
    "## to_drop = [column for column in upper.columns if any(upper[column] > 0.95)]\n",
    "## to_drop"
   ]
  },
  {
   "cell_type": "code",
   "execution_count": 43,
   "metadata": {},
   "outputs": [],
   "source": [
    "## Find index of feature columns with correlation greater than 0.8\n",
    "\n",
    "#correlated_features = set()\n",
    "#for i in range(len(corrMatrix.columns)):\n",
    " #   for j in range(i):\n",
    "  #      if abs(corrMatrix.iloc[i, j]) > 0.8:\n",
    "   #         colname = corrMatrix.columns[i]\n",
    "    #        correlated_features.add(colname)"
   ]
  },
  {
   "cell_type": "code",
   "execution_count": 44,
   "metadata": {},
   "outputs": [],
   "source": [
    "#correlated_features"
   ]
  },
  {
   "cell_type": "code",
   "execution_count": 45,
   "metadata": {},
   "outputs": [],
   "source": [
    "#complete_data = complete_data.drop(labels=correlated_features, axis=1)"
   ]
  },
  {
   "cell_type": "code",
   "execution_count": 46,
   "metadata": {},
   "outputs": [],
   "source": [
    "#complete_data"
   ]
  },
  {
   "cell_type": "code",
   "execution_count": 47,
   "metadata": {
    "scrolled": false
   },
   "outputs": [
    {
     "data": {
      "text/html": [
       "<div>\n",
       "<style scoped>\n",
       "    .dataframe tbody tr th:only-of-type {\n",
       "        vertical-align: middle;\n",
       "    }\n",
       "\n",
       "    .dataframe tbody tr th {\n",
       "        vertical-align: top;\n",
       "    }\n",
       "\n",
       "    .dataframe thead th {\n",
       "        text-align: right;\n",
       "    }\n",
       "</style>\n",
       "<table border=\"1\" class=\"dataframe\">\n",
       "  <thead>\n",
       "    <tr style=\"text-align: right;\">\n",
       "      <th></th>\n",
       "      <th>Open</th>\n",
       "      <th>High</th>\n",
       "      <th>Low</th>\n",
       "      <th>Close</th>\n",
       "      <th>Adj Close</th>\n",
       "      <th>Volume</th>\n",
       "      <th>SMA5</th>\n",
       "      <th>SMA10</th>\n",
       "      <th>StochasticK</th>\n",
       "      <th>StochasticD</th>\n",
       "      <th>...</th>\n",
       "      <th>WMA10</th>\n",
       "      <th>EMA12</th>\n",
       "      <th>EMA26</th>\n",
       "      <th>MACD</th>\n",
       "      <th>Momentum</th>\n",
       "      <th>RSI</th>\n",
       "      <th>CCI</th>\n",
       "      <th>DI</th>\n",
       "      <th>ADX</th>\n",
       "      <th>Aroon</th>\n",
       "    </tr>\n",
       "  </thead>\n",
       "  <tbody>\n",
       "    <tr>\n",
       "      <th>14</th>\n",
       "      <td>51.316315</td>\n",
       "      <td>51.406406</td>\n",
       "      <td>50.550552</td>\n",
       "      <td>51.206207</td>\n",
       "      <td>51.206207</td>\n",
       "      <td>4061734</td>\n",
       "      <td>50.821821</td>\n",
       "      <td>51.371371</td>\n",
       "      <td>23.177440</td>\n",
       "      <td>29.682331</td>\n",
       "      <td>...</td>\n",
       "      <td>50.983165</td>\n",
       "      <td>51.241682</td>\n",
       "      <td>51.171435</td>\n",
       "      <td>0.070247</td>\n",
       "      <td>101.963329</td>\n",
       "      <td>0.910010</td>\n",
       "      <td>-49.479574</td>\n",
       "      <td>-1.556034</td>\n",
       "      <td>13.189346</td>\n",
       "      <td>-36.0</td>\n",
       "    </tr>\n",
       "    <tr>\n",
       "      <th>15</th>\n",
       "      <td>50.850849</td>\n",
       "      <td>53.333332</td>\n",
       "      <td>50.700703</td>\n",
       "      <td>52.717716</td>\n",
       "      <td>52.717716</td>\n",
       "      <td>8698892</td>\n",
       "      <td>51.204204</td>\n",
       "      <td>51.242242</td>\n",
       "      <td>43.947690</td>\n",
       "      <td>34.437451</td>\n",
       "      <td>...</td>\n",
       "      <td>51.227955</td>\n",
       "      <td>51.468764</td>\n",
       "      <td>51.285974</td>\n",
       "      <td>0.182790</td>\n",
       "      <td>97.248635</td>\n",
       "      <td>0.910010</td>\n",
       "      <td>13.027860</td>\n",
       "      <td>1.557848</td>\n",
       "      <td>13.278814</td>\n",
       "      <td>-36.0</td>\n",
       "    </tr>\n",
       "    <tr>\n",
       "      <th>16</th>\n",
       "      <td>53.368366</td>\n",
       "      <td>54.259258</td>\n",
       "      <td>53.283283</td>\n",
       "      <td>53.803802</td>\n",
       "      <td>53.803802</td>\n",
       "      <td>7844148</td>\n",
       "      <td>51.953953</td>\n",
       "      <td>51.309809</td>\n",
       "      <td>67.614480</td>\n",
       "      <td>44.913203</td>\n",
       "      <td>...</td>\n",
       "      <td>51.693693</td>\n",
       "      <td>51.828001</td>\n",
       "      <td>51.472480</td>\n",
       "      <td>0.355521</td>\n",
       "      <td>98.263254</td>\n",
       "      <td>1.259446</td>\n",
       "      <td>109.500695</td>\n",
       "      <td>3.785942</td>\n",
       "      <td>14.363601</td>\n",
       "      <td>-36.0</td>\n",
       "    </tr>\n",
       "    <tr>\n",
       "      <th>17</th>\n",
       "      <td>53.778778</td>\n",
       "      <td>56.056057</td>\n",
       "      <td>53.448448</td>\n",
       "      <td>55.800800</td>\n",
       "      <td>55.800800</td>\n",
       "      <td>10828960</td>\n",
       "      <td>52.945945</td>\n",
       "      <td>51.784284</td>\n",
       "      <td>96.094920</td>\n",
       "      <td>69.219030</td>\n",
       "      <td>...</td>\n",
       "      <td>52.510237</td>\n",
       "      <td>52.439201</td>\n",
       "      <td>51.793096</td>\n",
       "      <td>0.646105</td>\n",
       "      <td>106.312575</td>\n",
       "      <td>1.259446</td>\n",
       "      <td>159.396447</td>\n",
       "      <td>7.148936</td>\n",
       "      <td>17.732901</td>\n",
       "      <td>24.0</td>\n",
       "    </tr>\n",
       "    <tr>\n",
       "      <th>18</th>\n",
       "      <td>55.335335</td>\n",
       "      <td>57.172173</td>\n",
       "      <td>55.155155</td>\n",
       "      <td>56.056057</td>\n",
       "      <td>56.056057</td>\n",
       "      <td>10713076</td>\n",
       "      <td>53.916916</td>\n",
       "      <td>52.266266</td>\n",
       "      <td>85.415306</td>\n",
       "      <td>83.041569</td>\n",
       "      <td>...</td>\n",
       "      <td>53.286923</td>\n",
       "      <td>52.995640</td>\n",
       "      <td>52.108871</td>\n",
       "      <td>0.886769</td>\n",
       "      <td>105.660375</td>\n",
       "      <td>1.259446</td>\n",
       "      <td>168.057138</td>\n",
       "      <td>7.197552</td>\n",
       "      <td>22.985583</td>\n",
       "      <td>28.0</td>\n",
       "    </tr>\n",
       "    <tr>\n",
       "      <th>...</th>\n",
       "      <td>...</td>\n",
       "      <td>...</td>\n",
       "      <td>...</td>\n",
       "      <td>...</td>\n",
       "      <td>...</td>\n",
       "      <td>...</td>\n",
       "      <td>...</td>\n",
       "      <td>...</td>\n",
       "      <td>...</td>\n",
       "      <td>...</td>\n",
       "      <td>...</td>\n",
       "      <td>...</td>\n",
       "      <td>...</td>\n",
       "      <td>...</td>\n",
       "      <td>...</td>\n",
       "      <td>...</td>\n",
       "      <td>...</td>\n",
       "      <td>...</td>\n",
       "      <td>...</td>\n",
       "      <td>...</td>\n",
       "      <td>...</td>\n",
       "    </tr>\n",
       "    <tr>\n",
       "      <th>4325</th>\n",
       "      <td>2783.000000</td>\n",
       "      <td>2811.659912</td>\n",
       "      <td>2721.120117</td>\n",
       "      <td>2751.330078</td>\n",
       "      <td>2751.330078</td>\n",
       "      <td>2527700</td>\n",
       "      <td>2828.945996</td>\n",
       "      <td>2805.401001</td>\n",
       "      <td>36.641914</td>\n",
       "      <td>69.181246</td>\n",
       "      <td>...</td>\n",
       "      <td>2815.316366</td>\n",
       "      <td>2801.459443</td>\n",
       "      <td>2792.721461</td>\n",
       "      <td>8.737982</td>\n",
       "      <td>102.923105</td>\n",
       "      <td>0.910010</td>\n",
       "      <td>-53.614090</td>\n",
       "      <td>-1.501967</td>\n",
       "      <td>14.685884</td>\n",
       "      <td>44.0</td>\n",
       "    </tr>\n",
       "    <tr>\n",
       "      <th>4326</th>\n",
       "      <td>2751.000000</td>\n",
       "      <td>2760.000000</td>\n",
       "      <td>2708.479980</td>\n",
       "      <td>2748.939941</td>\n",
       "      <td>2748.939941</td>\n",
       "      <td>1720600</td>\n",
       "      <td>2807.621973</td>\n",
       "      <td>2802.466992</td>\n",
       "      <td>31.791463</td>\n",
       "      <td>51.449377</td>\n",
       "      <td>...</td>\n",
       "      <td>2805.050719</td>\n",
       "      <td>2793.379519</td>\n",
       "      <td>2789.478385</td>\n",
       "      <td>3.901134</td>\n",
       "      <td>101.046881</td>\n",
       "      <td>0.910010</td>\n",
       "      <td>-99.806410</td>\n",
       "      <td>-1.659154</td>\n",
       "      <td>15.283130</td>\n",
       "      <td>44.0</td>\n",
       "    </tr>\n",
       "    <tr>\n",
       "      <th>4327</th>\n",
       "      <td>2785.270020</td>\n",
       "      <td>2801.659912</td>\n",
       "      <td>2766.090088</td>\n",
       "      <td>2786.169922</td>\n",
       "      <td>2786.169922</td>\n",
       "      <td>2461800</td>\n",
       "      <td>2791.907959</td>\n",
       "      <td>2808.185986</td>\n",
       "      <td>47.150533</td>\n",
       "      <td>38.527970</td>\n",
       "      <td>...</td>\n",
       "      <td>2802.087615</td>\n",
       "      <td>2792.270350</td>\n",
       "      <td>2789.233314</td>\n",
       "      <td>3.037036</td>\n",
       "      <td>101.267396</td>\n",
       "      <td>0.910010</td>\n",
       "      <td>-26.019480</td>\n",
       "      <td>-0.416017</td>\n",
       "      <td>15.934061</td>\n",
       "      <td>44.0</td>\n",
       "    </tr>\n",
       "    <tr>\n",
       "      <th>4328</th>\n",
       "      <td>2788.100098</td>\n",
       "      <td>2973.000000</td>\n",
       "      <td>2788.100098</td>\n",
       "      <td>2924.350098</td>\n",
       "      <td>2924.350098</td>\n",
       "      <td>4289100</td>\n",
       "      <td>2809.702002</td>\n",
       "      <td>2825.457007</td>\n",
       "      <td>81.608234</td>\n",
       "      <td>53.516743</td>\n",
       "      <td>...</td>\n",
       "      <td>2823.208363</td>\n",
       "      <td>2812.590312</td>\n",
       "      <td>2799.241965</td>\n",
       "      <td>13.348347</td>\n",
       "      <td>105.022449</td>\n",
       "      <td>0.675676</td>\n",
       "      <td>152.600736</td>\n",
       "      <td>4.150993</td>\n",
       "      <td>15.753143</td>\n",
       "      <td>68.0</td>\n",
       "    </tr>\n",
       "    <tr>\n",
       "      <th>4329</th>\n",
       "      <td>2942.689941</td>\n",
       "      <td>2943.159912</td>\n",
       "      <td>2892.540039</td>\n",
       "      <td>2916.979980</td>\n",
       "      <td>2916.979980</td>\n",
       "      <td>1810300</td>\n",
       "      <td>2825.554004</td>\n",
       "      <td>2834.853003</td>\n",
       "      <td>78.822011</td>\n",
       "      <td>69.193593</td>\n",
       "      <td>...</td>\n",
       "      <td>2839.848904</td>\n",
       "      <td>2828.650261</td>\n",
       "      <td>2807.963299</td>\n",
       "      <td>20.686961</td>\n",
       "      <td>104.337718</td>\n",
       "      <td>0.910010</td>\n",
       "      <td>149.798686</td>\n",
       "      <td>3.568992</td>\n",
       "      <td>16.191420</td>\n",
       "      <td>68.0</td>\n",
       "    </tr>\n",
       "  </tbody>\n",
       "</table>\n",
       "<p>4316 rows × 24 columns</p>\n",
       "</div>"
      ],
      "text/plain": [
       "             Open         High          Low        Close    Adj Close  \\\n",
       "14      51.316315    51.406406    50.550552    51.206207    51.206207   \n",
       "15      50.850849    53.333332    50.700703    52.717716    52.717716   \n",
       "16      53.368366    54.259258    53.283283    53.803802    53.803802   \n",
       "17      53.778778    56.056057    53.448448    55.800800    55.800800   \n",
       "18      55.335335    57.172173    55.155155    56.056057    56.056057   \n",
       "...           ...          ...          ...          ...          ...   \n",
       "4325  2783.000000  2811.659912  2721.120117  2751.330078  2751.330078   \n",
       "4326  2751.000000  2760.000000  2708.479980  2748.939941  2748.939941   \n",
       "4327  2785.270020  2801.659912  2766.090088  2786.169922  2786.169922   \n",
       "4328  2788.100098  2973.000000  2788.100098  2924.350098  2924.350098   \n",
       "4329  2942.689941  2943.159912  2892.540039  2916.979980  2916.979980   \n",
       "\n",
       "        Volume         SMA5        SMA10  StochasticK  StochasticD  ...  \\\n",
       "14     4061734    50.821821    51.371371    23.177440    29.682331  ...   \n",
       "15     8698892    51.204204    51.242242    43.947690    34.437451  ...   \n",
       "16     7844148    51.953953    51.309809    67.614480    44.913203  ...   \n",
       "17    10828960    52.945945    51.784284    96.094920    69.219030  ...   \n",
       "18    10713076    53.916916    52.266266    85.415306    83.041569  ...   \n",
       "...        ...          ...          ...          ...          ...  ...   \n",
       "4325   2527700  2828.945996  2805.401001    36.641914    69.181246  ...   \n",
       "4326   1720600  2807.621973  2802.466992    31.791463    51.449377  ...   \n",
       "4327   2461800  2791.907959  2808.185986    47.150533    38.527970  ...   \n",
       "4328   4289100  2809.702002  2825.457007    81.608234    53.516743  ...   \n",
       "4329   1810300  2825.554004  2834.853003    78.822011    69.193593  ...   \n",
       "\n",
       "            WMA10        EMA12        EMA26       MACD    Momentum       RSI  \\\n",
       "14      50.983165    51.241682    51.171435   0.070247  101.963329  0.910010   \n",
       "15      51.227955    51.468764    51.285974   0.182790   97.248635  0.910010   \n",
       "16      51.693693    51.828001    51.472480   0.355521   98.263254  1.259446   \n",
       "17      52.510237    52.439201    51.793096   0.646105  106.312575  1.259446   \n",
       "18      53.286923    52.995640    52.108871   0.886769  105.660375  1.259446   \n",
       "...           ...          ...          ...        ...         ...       ...   \n",
       "4325  2815.316366  2801.459443  2792.721461   8.737982  102.923105  0.910010   \n",
       "4326  2805.050719  2793.379519  2789.478385   3.901134  101.046881  0.910010   \n",
       "4327  2802.087615  2792.270350  2789.233314   3.037036  101.267396  0.910010   \n",
       "4328  2823.208363  2812.590312  2799.241965  13.348347  105.022449  0.675676   \n",
       "4329  2839.848904  2828.650261  2807.963299  20.686961  104.337718  0.910010   \n",
       "\n",
       "             CCI        DI        ADX  Aroon  \n",
       "14    -49.479574 -1.556034  13.189346  -36.0  \n",
       "15     13.027860  1.557848  13.278814  -36.0  \n",
       "16    109.500695  3.785942  14.363601  -36.0  \n",
       "17    159.396447  7.148936  17.732901   24.0  \n",
       "18    168.057138  7.197552  22.985583   28.0  \n",
       "...          ...       ...        ...    ...  \n",
       "4325  -53.614090 -1.501967  14.685884   44.0  \n",
       "4326  -99.806410 -1.659154  15.283130   44.0  \n",
       "4327  -26.019480 -0.416017  15.934061   44.0  \n",
       "4328  152.600736  4.150993  15.753143   68.0  \n",
       "4329  149.798686  3.568992  16.191420   68.0  \n",
       "\n",
       "[4316 rows x 24 columns]"
      ]
     },
     "execution_count": 47,
     "metadata": {},
     "output_type": "execute_result"
    }
   ],
   "source": [
    "target = complete_data['Direction']\n",
    "complete_data = complete_data.drop(['Date', 'Direction'], axis=1)\n",
    "complete_data"
   ]
  },
  {
   "cell_type": "markdown",
   "metadata": {},
   "source": [
    "### autofeat Classification"
   ]
  },
  {
   "cell_type": "code",
   "execution_count": 48,
   "metadata": {},
   "outputs": [],
   "source": [
    "from sklearn.model_selection import train_test_split"
   ]
  },
  {
   "cell_type": "code",
   "execution_count": 49,
   "metadata": {},
   "outputs": [
    {
     "name": "stderr",
     "output_type": "stream",
     "text": [
      "C:\\Users\\rshay\\anaconda3\\lib\\site-packages\\numpy\\core\\_methods.py:205: RuntimeWarning: overflow encountered in multiply\n",
      "  x = um.multiply(x, x, out=x)\n",
      "C:\\Users\\rshay\\anaconda3\\lib\\site-packages\\numpy\\core\\_methods.py:216: RuntimeWarning: overflow encountered in reduce\n",
      "  ret = umr_sum(x, axis, dtype, out, keepdims)\n",
      "C:\\Users\\rshay\\anaconda3\\lib\\site-packages\\numpy\\lib\\nanfunctions.py:1544: RuntimeWarning: overflow encountered in multiply\n",
      "  sqr = np.multiply(arr, arr, out=arr)\n",
      "<lambdifygenerated-21>:2: RuntimeWarning: invalid value encountered in true_divide\n",
      "  return abs(PVT)/PVT\n"
     ]
    },
    {
     "ename": "ValueError",
     "evalue": "Input contains NaN, infinity or a value too large for dtype('float64').",
     "output_type": "error",
     "traceback": [
      "\u001b[1;31m---------------------------------------------------------------------------\u001b[0m",
      "\u001b[1;31mValueError\u001b[0m                                Traceback (most recent call last)",
      "\u001b[1;32m<ipython-input-49-a6368ca90d67>\u001b[0m in \u001b[0;36m<module>\u001b[1;34m\u001b[0m\n\u001b[0;32m      3\u001b[0m \u001b[0mmodel\u001b[0m \u001b[1;33m=\u001b[0m \u001b[0mAutoFeatClassifier\u001b[0m\u001b[1;33m(\u001b[0m\u001b[1;33m)\u001b[0m\u001b[1;33m\u001b[0m\u001b[1;33m\u001b[0m\u001b[0m\n\u001b[0;32m      4\u001b[0m \u001b[0mdf\u001b[0m \u001b[1;33m=\u001b[0m \u001b[0mmodel\u001b[0m\u001b[1;33m.\u001b[0m\u001b[0mfit_transform\u001b[0m\u001b[1;33m(\u001b[0m\u001b[0mX_train\u001b[0m\u001b[1;33m,\u001b[0m \u001b[0my_train\u001b[0m\u001b[1;33m)\u001b[0m\u001b[1;33m\u001b[0m\u001b[1;33m\u001b[0m\u001b[0m\n\u001b[1;32m----> 5\u001b[1;33m \u001b[0my_pred\u001b[0m \u001b[1;33m=\u001b[0m \u001b[0mmodel\u001b[0m\u001b[1;33m.\u001b[0m\u001b[0mpredict\u001b[0m\u001b[1;33m(\u001b[0m\u001b[0mX_test\u001b[0m\u001b[1;33m)\u001b[0m\u001b[1;33m\u001b[0m\u001b[1;33m\u001b[0m\u001b[0m\n\u001b[0m",
      "\u001b[1;32m~\\anaconda3\\lib\\site-packages\\autofeat\\autofeat.py\u001b[0m in \u001b[0;36mpredict\u001b[1;34m(self, X)\u001b[0m\n\u001b[0;32m    436\u001b[0m             \u001b[0mdf\u001b[0m \u001b[1;33m=\u001b[0m \u001b[0mself\u001b[0m\u001b[1;33m.\u001b[0m\u001b[0mtransform\u001b[0m\u001b[1;33m(\u001b[0m\u001b[0mdf\u001b[0m\u001b[1;33m)\u001b[0m\u001b[1;33m\u001b[0m\u001b[1;33m\u001b[0m\u001b[0m\n\u001b[0;32m    437\u001b[0m             \u001b[0mself\u001b[0m\u001b[1;33m.\u001b[0m\u001b[0malways_return_numpy\u001b[0m \u001b[1;33m=\u001b[0m \u001b[0mtemp\u001b[0m\u001b[1;33m\u001b[0m\u001b[1;33m\u001b[0m\u001b[0m\n\u001b[1;32m--> 438\u001b[1;33m         \u001b[1;32mreturn\u001b[0m \u001b[0mself\u001b[0m\u001b[1;33m.\u001b[0m\u001b[0mprediction_model_\u001b[0m\u001b[1;33m.\u001b[0m\u001b[0mpredict\u001b[0m\u001b[1;33m(\u001b[0m\u001b[0mdf\u001b[0m\u001b[1;33m[\u001b[0m\u001b[0mself\u001b[0m\u001b[1;33m.\u001b[0m\u001b[0mgood_cols_\u001b[0m\u001b[1;33m]\u001b[0m\u001b[1;33m.\u001b[0m\u001b[0mto_numpy\u001b[0m\u001b[1;33m(\u001b[0m\u001b[1;33m)\u001b[0m\u001b[1;33m)\u001b[0m\u001b[1;33m\u001b[0m\u001b[1;33m\u001b[0m\u001b[0m\n\u001b[0m\u001b[0;32m    439\u001b[0m \u001b[1;33m\u001b[0m\u001b[0m\n\u001b[0;32m    440\u001b[0m     \u001b[1;32mdef\u001b[0m \u001b[0mscore\u001b[0m\u001b[1;33m(\u001b[0m\u001b[0mself\u001b[0m\u001b[1;33m,\u001b[0m \u001b[0mX\u001b[0m\u001b[1;33m,\u001b[0m \u001b[0my\u001b[0m\u001b[1;33m)\u001b[0m\u001b[1;33m:\u001b[0m\u001b[1;33m\u001b[0m\u001b[1;33m\u001b[0m\u001b[0m\n",
      "\u001b[1;32m~\\anaconda3\\lib\\site-packages\\sklearn\\linear_model\\_base.py\u001b[0m in \u001b[0;36mpredict\u001b[1;34m(self, X)\u001b[0m\n\u001b[0;32m    305\u001b[0m             \u001b[0mPredicted\u001b[0m \u001b[1;32mclass\u001b[0m \u001b[0mlabel\u001b[0m \u001b[0mper\u001b[0m \u001b[0msample\u001b[0m\u001b[1;33m.\u001b[0m\u001b[1;33m\u001b[0m\u001b[1;33m\u001b[0m\u001b[0m\n\u001b[0;32m    306\u001b[0m         \"\"\"\n\u001b[1;32m--> 307\u001b[1;33m         \u001b[0mscores\u001b[0m \u001b[1;33m=\u001b[0m \u001b[0mself\u001b[0m\u001b[1;33m.\u001b[0m\u001b[0mdecision_function\u001b[0m\u001b[1;33m(\u001b[0m\u001b[0mX\u001b[0m\u001b[1;33m)\u001b[0m\u001b[1;33m\u001b[0m\u001b[1;33m\u001b[0m\u001b[0m\n\u001b[0m\u001b[0;32m    308\u001b[0m         \u001b[1;32mif\u001b[0m \u001b[0mlen\u001b[0m\u001b[1;33m(\u001b[0m\u001b[0mscores\u001b[0m\u001b[1;33m.\u001b[0m\u001b[0mshape\u001b[0m\u001b[1;33m)\u001b[0m \u001b[1;33m==\u001b[0m \u001b[1;36m1\u001b[0m\u001b[1;33m:\u001b[0m\u001b[1;33m\u001b[0m\u001b[1;33m\u001b[0m\u001b[0m\n\u001b[0;32m    309\u001b[0m             \u001b[0mindices\u001b[0m \u001b[1;33m=\u001b[0m \u001b[1;33m(\u001b[0m\u001b[0mscores\u001b[0m \u001b[1;33m>\u001b[0m \u001b[1;36m0\u001b[0m\u001b[1;33m)\u001b[0m\u001b[1;33m.\u001b[0m\u001b[0mastype\u001b[0m\u001b[1;33m(\u001b[0m\u001b[0mnp\u001b[0m\u001b[1;33m.\u001b[0m\u001b[0mint\u001b[0m\u001b[1;33m)\u001b[0m\u001b[1;33m\u001b[0m\u001b[1;33m\u001b[0m\u001b[0m\n",
      "\u001b[1;32m~\\anaconda3\\lib\\site-packages\\sklearn\\linear_model\\_base.py\u001b[0m in \u001b[0;36mdecision_function\u001b[1;34m(self, X)\u001b[0m\n\u001b[0;32m    280\u001b[0m         \u001b[0mcheck_is_fitted\u001b[0m\u001b[1;33m(\u001b[0m\u001b[0mself\u001b[0m\u001b[1;33m)\u001b[0m\u001b[1;33m\u001b[0m\u001b[1;33m\u001b[0m\u001b[0m\n\u001b[0;32m    281\u001b[0m \u001b[1;33m\u001b[0m\u001b[0m\n\u001b[1;32m--> 282\u001b[1;33m         \u001b[0mX\u001b[0m \u001b[1;33m=\u001b[0m \u001b[0mcheck_array\u001b[0m\u001b[1;33m(\u001b[0m\u001b[0mX\u001b[0m\u001b[1;33m,\u001b[0m \u001b[0maccept_sparse\u001b[0m\u001b[1;33m=\u001b[0m\u001b[1;34m'csr'\u001b[0m\u001b[1;33m)\u001b[0m\u001b[1;33m\u001b[0m\u001b[1;33m\u001b[0m\u001b[0m\n\u001b[0m\u001b[0;32m    283\u001b[0m \u001b[1;33m\u001b[0m\u001b[0m\n\u001b[0;32m    284\u001b[0m         \u001b[0mn_features\u001b[0m \u001b[1;33m=\u001b[0m \u001b[0mself\u001b[0m\u001b[1;33m.\u001b[0m\u001b[0mcoef_\u001b[0m\u001b[1;33m.\u001b[0m\u001b[0mshape\u001b[0m\u001b[1;33m[\u001b[0m\u001b[1;36m1\u001b[0m\u001b[1;33m]\u001b[0m\u001b[1;33m\u001b[0m\u001b[1;33m\u001b[0m\u001b[0m\n",
      "\u001b[1;32m~\\anaconda3\\lib\\site-packages\\sklearn\\utils\\validation.py\u001b[0m in \u001b[0;36minner_f\u001b[1;34m(*args, **kwargs)\u001b[0m\n\u001b[0;32m     70\u001b[0m                           FutureWarning)\n\u001b[0;32m     71\u001b[0m         \u001b[0mkwargs\u001b[0m\u001b[1;33m.\u001b[0m\u001b[0mupdate\u001b[0m\u001b[1;33m(\u001b[0m\u001b[1;33m{\u001b[0m\u001b[0mk\u001b[0m\u001b[1;33m:\u001b[0m \u001b[0marg\u001b[0m \u001b[1;32mfor\u001b[0m \u001b[0mk\u001b[0m\u001b[1;33m,\u001b[0m \u001b[0marg\u001b[0m \u001b[1;32min\u001b[0m \u001b[0mzip\u001b[0m\u001b[1;33m(\u001b[0m\u001b[0msig\u001b[0m\u001b[1;33m.\u001b[0m\u001b[0mparameters\u001b[0m\u001b[1;33m,\u001b[0m \u001b[0margs\u001b[0m\u001b[1;33m)\u001b[0m\u001b[1;33m}\u001b[0m\u001b[1;33m)\u001b[0m\u001b[1;33m\u001b[0m\u001b[1;33m\u001b[0m\u001b[0m\n\u001b[1;32m---> 72\u001b[1;33m         \u001b[1;32mreturn\u001b[0m \u001b[0mf\u001b[0m\u001b[1;33m(\u001b[0m\u001b[1;33m**\u001b[0m\u001b[0mkwargs\u001b[0m\u001b[1;33m)\u001b[0m\u001b[1;33m\u001b[0m\u001b[1;33m\u001b[0m\u001b[0m\n\u001b[0m\u001b[0;32m     73\u001b[0m     \u001b[1;32mreturn\u001b[0m \u001b[0minner_f\u001b[0m\u001b[1;33m\u001b[0m\u001b[1;33m\u001b[0m\u001b[0m\n\u001b[0;32m     74\u001b[0m \u001b[1;33m\u001b[0m\u001b[0m\n",
      "\u001b[1;32m~\\anaconda3\\lib\\site-packages\\sklearn\\utils\\validation.py\u001b[0m in \u001b[0;36mcheck_array\u001b[1;34m(array, accept_sparse, accept_large_sparse, dtype, order, copy, force_all_finite, ensure_2d, allow_nd, ensure_min_samples, ensure_min_features, estimator)\u001b[0m\n\u001b[0;32m    642\u001b[0m \u001b[1;33m\u001b[0m\u001b[0m\n\u001b[0;32m    643\u001b[0m         \u001b[1;32mif\u001b[0m \u001b[0mforce_all_finite\u001b[0m\u001b[1;33m:\u001b[0m\u001b[1;33m\u001b[0m\u001b[1;33m\u001b[0m\u001b[0m\n\u001b[1;32m--> 644\u001b[1;33m             _assert_all_finite(array,\n\u001b[0m\u001b[0;32m    645\u001b[0m                                allow_nan=force_all_finite == 'allow-nan')\n\u001b[0;32m    646\u001b[0m \u001b[1;33m\u001b[0m\u001b[0m\n",
      "\u001b[1;32m~\\anaconda3\\lib\\site-packages\\sklearn\\utils\\validation.py\u001b[0m in \u001b[0;36m_assert_all_finite\u001b[1;34m(X, allow_nan, msg_dtype)\u001b[0m\n\u001b[0;32m     94\u001b[0m                 not allow_nan and not np.isfinite(X).all()):\n\u001b[0;32m     95\u001b[0m             \u001b[0mtype_err\u001b[0m \u001b[1;33m=\u001b[0m \u001b[1;34m'infinity'\u001b[0m \u001b[1;32mif\u001b[0m \u001b[0mallow_nan\u001b[0m \u001b[1;32melse\u001b[0m \u001b[1;34m'NaN, infinity'\u001b[0m\u001b[1;33m\u001b[0m\u001b[1;33m\u001b[0m\u001b[0m\n\u001b[1;32m---> 96\u001b[1;33m             raise ValueError(\n\u001b[0m\u001b[0;32m     97\u001b[0m                     \u001b[0mmsg_err\u001b[0m\u001b[1;33m.\u001b[0m\u001b[0mformat\u001b[0m\u001b[1;33m\u001b[0m\u001b[1;33m\u001b[0m\u001b[0m\n\u001b[0;32m     98\u001b[0m                     (type_err,\n",
      "\u001b[1;31mValueError\u001b[0m: Input contains NaN, infinity or a value too large for dtype('float64')."
     ]
    }
   ],
   "source": [
    "from autofeat import AutoFeatClassifier\n",
    "X_train, X_test, y_train, y_test = train_test_split(complete_data,target,test_size=0.3)\n",
    "model = AutoFeatClassifier()\n",
    "df = model.fit_transform(X_train, y_train)\n",
    "y_pred = model.predict(X_test)"
   ]
  },
  {
   "cell_type": "code",
   "execution_count": null,
   "metadata": {},
   "outputs": [],
   "source": [
    "df_test = model.transform(X_test)\n",
    "model.score(df_test,y_test)"
   ]
  },
  {
   "cell_type": "code",
   "execution_count": null,
   "metadata": {},
   "outputs": [],
   "source": [
    "df"
   ]
  },
  {
   "cell_type": "code",
   "execution_count": null,
   "metadata": {},
   "outputs": [],
   "source": [
    "df_test"
   ]
  },
  {
   "cell_type": "markdown",
   "metadata": {},
   "source": [
    "### Generate New Features Based on autofeat Results"
   ]
  },
  {
   "cell_type": "code",
   "execution_count": null,
   "metadata": {},
   "outputs": [],
   "source": [
    "import math"
   ]
  },
  {
   "cell_type": "code",
   "execution_count": null,
   "metadata": {},
   "outputs": [],
   "source": [
    "def sqrt_rsi_momentum(rsi, momentum):\n",
    "    return (np.sqrt(rsi)/momentum)"
   ]
  },
  {
   "cell_type": "code",
   "execution_count": null,
   "metadata": {},
   "outputs": [],
   "source": [
    "def sqrt_stochastic_d_rsi(stochastic_d, rsi):\n",
    "    return(np.sqrt(stochastic_d)/rsi)"
   ]
  },
  {
   "cell_type": "code",
   "execution_count": null,
   "metadata": {},
   "outputs": [],
   "source": [
    "def sqrt_lwr_rsi (larry_williams_r, rsi):\n",
    "    return (np.sqrt(larry_williams_r)*rsi)"
   ]
  },
  {
   "cell_type": "code",
   "execution_count": null,
   "metadata": {},
   "outputs": [],
   "source": [
    "def momentum_3_rsi(momentum, rsi):\n",
    "    return ((momentum**3)/rsi)"
   ]
  },
  {
   "cell_type": "code",
   "execution_count": null,
   "metadata": {},
   "outputs": [],
   "source": [
    "def ado_macd_2(ado, macd):\n",
    "    return (ado*(macd**2))"
   ]
  },
  {
   "cell_type": "code",
   "execution_count": null,
   "metadata": {},
   "outputs": [],
   "source": [
    "def adx_abs_roc(adx, roc):\n",
    "    return (adx*np.abs(roc))"
   ]
  },
  {
   "cell_type": "code",
   "execution_count": null,
   "metadata": {},
   "outputs": [],
   "source": [
    "def sqrt_stochastic_k_log_rsi (stochastic_k, rsi):\n",
    "    return ((np.sqrt(stochastic_k))*np.log(rsi))"
   ]
  },
  {
   "cell_type": "code",
   "execution_count": null,
   "metadata": {},
   "outputs": [],
   "source": [
    "def compute_adv_indicators(complete_data):\n",
    "    complete_data['SqrtRSI/Momentum'] = sqrt_rsi_momentum(complete_data['RSI'], complete_data['Momentum'])\n",
    "    complete_data['SqrtStochasticD/RSI'] = sqrt_stochastic_d_rsi(complete_data['StochasticD'], complete_data['RSI'])\n",
    "    complete_data['SqrtLarryWilliamsR*RSI'] = sqrt_lwr_rsi(complete_data['LarryWilliamsR'], complete_data['RSI'])\n",
    "    complete_data['Momentum**3/RSI'] = momentum_3_rsi(complete_data['Momentum'], complete_data['RSI'])\n",
    "    complete_data['ADO*MACD**2'] = ado_macd_2(complete_data['ADO'], complete_data['MACD'])\n",
    "    complete_data['ADX*AbsROC'] = adx_abs_roc(complete_data['ADX'], complete_data['ROC'])\n",
    "    complete_data['SqrtStochasticK*LogRSI'] = sqrt_stochastic_k_log_rsi(complete_data['StochasticK'], complete_data['RSI'])   \n",
    "    return complete_data"
   ]
  },
  {
   "cell_type": "code",
   "execution_count": null,
   "metadata": {},
   "outputs": [],
   "source": [
    "enhanced_data = compute_adv_indicators(complete_data)\n",
    "enhanced_data"
   ]
  },
  {
   "cell_type": "markdown",
   "metadata": {},
   "source": [
    "### autofeat Feature Selection"
   ]
  },
  {
   "cell_type": "code",
   "execution_count": null,
   "metadata": {},
   "outputs": [],
   "source": [
    "from autofeat import FeatureSelector\n",
    "fsel = FeatureSelector(verbose=1)\n",
    "selected_data = fsel.fit_transform(pd.DataFrame(enhanced_data), pd.DataFrame(target))"
   ]
  },
  {
   "cell_type": "code",
   "execution_count": null,
   "metadata": {},
   "outputs": [],
   "source": [
    "selected_data"
   ]
  },
  {
   "cell_type": "code",
   "execution_count": null,
   "metadata": {},
   "outputs": [],
   "source": [
    "from sklearn.preprocessing import StandardScaler"
   ]
  },
  {
   "cell_type": "code",
   "execution_count": null,
   "metadata": {},
   "outputs": [],
   "source": [
    "scaler = StandardScaler()  \n",
    "scaler.fit(selected_data)"
   ]
  },
  {
   "cell_type": "code",
   "execution_count": null,
   "metadata": {},
   "outputs": [],
   "source": [
    "\n",
    "selected_scaled_data = scaler.transform(selected_data)"
   ]
  },
  {
   "cell_type": "code",
   "execution_count": null,
   "metadata": {},
   "outputs": [],
   "source": [
    "from sklearn.model_selection import train_test_split\n",
    "\n",
    "X_train, X_test, y_train, y_test = train_test_split(selected_scaled_data,target,test_size=0.3)"
   ]
  },
  {
   "cell_type": "code",
   "execution_count": null,
   "metadata": {},
   "outputs": [],
   "source": [
    "X_train = scaler.transform(X_train)  \n",
    "X_test = scaler.transform(X_test) "
   ]
  },
  {
   "cell_type": "code",
   "execution_count": null,
   "metadata": {},
   "outputs": [],
   "source": [
    "selected_scaled_data_df = pd.DataFrame(selected_scaled_data)\n",
    "selected_scaled_data_1250 = selected_scaled_data_df.tail(1250)\n",
    "selected_scaled_data_250 = selected_scaled_data_df.tail(250)\n",
    "selected_scaled_data_125 = selected_scaled_data_df.tail(125)\n",
    "target_1250 = target.tail(1250)\n",
    "target_250 = target.tail(250)\n",
    "target_125 = target.tail(125)"
   ]
  },
  {
   "cell_type": "code",
   "execution_count": null,
   "metadata": {},
   "outputs": [],
   "source": [
    "X_train_1250, X_test_1250, y_train_1250, y_test_1250 = train_test_split(selected_scaled_data_1250,target_1250,test_size=0.3)"
   ]
  },
  {
   "cell_type": "code",
   "execution_count": null,
   "metadata": {},
   "outputs": [],
   "source": [
    "X_train_250, X_test_250, y_train_250, y_test_250 = train_test_split(selected_scaled_data_250,target_250,test_size=0.3)"
   ]
  },
  {
   "cell_type": "code",
   "execution_count": null,
   "metadata": {},
   "outputs": [],
   "source": [
    "X_train_125, X_test_125, y_train_125, y_test_125 = train_test_split(selected_scaled_data_125,target_125,test_size=0.3)"
   ]
  },
  {
   "cell_type": "markdown",
   "metadata": {},
   "source": [
    "### Logistic Regression"
   ]
  },
  {
   "cell_type": "markdown",
   "metadata": {},
   "source": [
    "#### Max Duration"
   ]
  },
  {
   "cell_type": "code",
   "execution_count": null,
   "metadata": {},
   "outputs": [],
   "source": [
    "from sklearn.metrics import accuracy_score\n",
    "from sklearn.metrics import confusion_matrix"
   ]
  },
  {
   "cell_type": "code",
   "execution_count": null,
   "metadata": {},
   "outputs": [],
   "source": [
    "lr = LogisticRegression(solver='liblinear', multi_class='ovr')\n",
    "trained_model_lr = lr.fit(X_train, y_train)\n",
    "predictions_lr = trained_model_lr.predict(X_test)\n",
    "\n",
    "Train_accuracy_lr = accuracy_score(y_train,trained_model_lr.predict(X_train))\n",
    "Test_accuracy_lr = accuracy_score(y_test, predictions_lr)\n",
    "Confusion_matrix_lr = confusion_matrix(y_test,predictions_lr)"
   ]
  },
  {
   "cell_type": "code",
   "execution_count": null,
   "metadata": {},
   "outputs": [],
   "source": [
    "Train_accuracy_lr"
   ]
  },
  {
   "cell_type": "code",
   "execution_count": null,
   "metadata": {},
   "outputs": [],
   "source": [
    "Test_accuracy_lr"
   ]
  },
  {
   "cell_type": "markdown",
   "metadata": {},
   "source": [
    "#### 5 Years"
   ]
  },
  {
   "cell_type": "code",
   "execution_count": null,
   "metadata": {},
   "outputs": [],
   "source": [
    "trained_model_lr_1250 = lr.fit(X_train_1250, y_train_1250)\n",
    "predictions_lr_1250 = trained_model_lr_1250.predict(X_test_1250)\n",
    "\n",
    "Train_accuracy_lr_1250 = accuracy_score(y_train_1250,trained_model_lr_1250.predict(X_train_1250))\n",
    "Test_accuracy_lr_1250 = accuracy_score(y_test_1250, predictions_lr_1250)\n",
    "Confusion_matrix_lr_1250 = confusion_matrix(y_test_1250,predictions_lr_1250)"
   ]
  },
  {
   "cell_type": "code",
   "execution_count": null,
   "metadata": {},
   "outputs": [],
   "source": [
    "Train_accuracy_lr_1250"
   ]
  },
  {
   "cell_type": "code",
   "execution_count": null,
   "metadata": {},
   "outputs": [],
   "source": [
    "Test_accuracy_lr_1250"
   ]
  },
  {
   "cell_type": "markdown",
   "metadata": {},
   "source": [
    "#### 1 Year"
   ]
  },
  {
   "cell_type": "code",
   "execution_count": null,
   "metadata": {},
   "outputs": [],
   "source": [
    "trained_model_lr_250 = lr.fit(X_train_250, y_train_250)\n",
    "predictions_lr_250 = trained_model_lr_250.predict(X_test_250)\n",
    "\n",
    "Train_accuracy_lr_250 = accuracy_score(y_train_250,trained_model_lr_250.predict(X_train_250))\n",
    "Test_accuracy_lr_250 = accuracy_score(y_test_250, predictions_lr_250)\n",
    "Confusion_matrix_lr_250 = confusion_matrix(y_test_250,predictions_lr_250)"
   ]
  },
  {
   "cell_type": "code",
   "execution_count": null,
   "metadata": {},
   "outputs": [],
   "source": [
    "Train_accuracy_lr_250"
   ]
  },
  {
   "cell_type": "code",
   "execution_count": null,
   "metadata": {},
   "outputs": [],
   "source": [
    "Test_accuracy_lr_250"
   ]
  },
  {
   "cell_type": "markdown",
   "metadata": {},
   "source": [
    "#### 6 Months"
   ]
  },
  {
   "cell_type": "code",
   "execution_count": null,
   "metadata": {},
   "outputs": [],
   "source": [
    "trained_model_lr_125 = lr.fit(X_train_125, y_train_125)\n",
    "predictions_lr_125 = trained_model_lr_125.predict(X_test_125)\n",
    "\n",
    "Train_accuracy_lr_125 = accuracy_score(y_train_125,trained_model_lr_125.predict(X_train_125))\n",
    "Test_accuracy_lr_125 = accuracy_score(y_test_125, predictions_lr_125)\n",
    "Confusion_matrix_lr_125 = confusion_matrix(y_test_125,predictions_lr_125)"
   ]
  },
  {
   "cell_type": "code",
   "execution_count": null,
   "metadata": {},
   "outputs": [],
   "source": [
    "Train_accuracy_lr_125"
   ]
  },
  {
   "cell_type": "code",
   "execution_count": null,
   "metadata": {},
   "outputs": [],
   "source": [
    "Test_accuracy_lr_125"
   ]
  },
  {
   "cell_type": "markdown",
   "metadata": {},
   "source": [
    "#### Last 100 Days based on Best Model - Max Duration"
   ]
  },
  {
   "cell_type": "code",
   "execution_count": null,
   "metadata": {},
   "outputs": [],
   "source": [
    "last100 = selected_scaled_data_df.tail(100)"
   ]
  },
  {
   "cell_type": "code",
   "execution_count": null,
   "metadata": {},
   "outputs": [],
   "source": [
    "predictions_lr_100 = trained_model_lr_1250.predict(last100)\n",
    "predictions_lr_100"
   ]
  },
  {
   "cell_type": "markdown",
   "metadata": {},
   "source": [
    "### SVM"
   ]
  },
  {
   "cell_type": "code",
   "execution_count": null,
   "metadata": {},
   "outputs": [],
   "source": [
    "svm = SVC(gamma='auto')\n",
    "trained_model_svm = svm.fit(X_train, y_train)\n",
    "predictions_svm = trained_model_svm.predict(X_test)\n",
    "\n",
    "Train_accuracy_svm = accuracy_score(y_train,trained_model_svm.predict(X_train))\n",
    "Test_accuracy_svm = accuracy_score(y_test, predictions_svm)\n",
    "Confusion_matrix_svm = confusion_matrix(y_test,predictions_svm)"
   ]
  },
  {
   "cell_type": "code",
   "execution_count": null,
   "metadata": {},
   "outputs": [],
   "source": [
    "Train_accuracy_svm"
   ]
  },
  {
   "cell_type": "code",
   "execution_count": null,
   "metadata": {},
   "outputs": [],
   "source": [
    "Test_accuracy_svm"
   ]
  },
  {
   "cell_type": "markdown",
   "metadata": {},
   "source": [
    "#### 5 Years"
   ]
  },
  {
   "cell_type": "code",
   "execution_count": null,
   "metadata": {},
   "outputs": [],
   "source": [
    "trained_model_svm_1250 = svm.fit(X_train_1250, y_train_1250)\n",
    "predictions_svm_1250 = trained_model_svm_1250.predict(X_test_1250)\n",
    "\n",
    "Train_accuracy_svm_1250 = accuracy_score(y_train_1250,trained_model_svm_1250.predict(X_train_1250))\n",
    "Test_accuracy_svm_1250 = accuracy_score(y_test_1250, predictions_svm_1250)\n",
    "Confusion_matrix_svm_1250 = confusion_matrix(y_test_1250,predictions_svm_1250)"
   ]
  },
  {
   "cell_type": "code",
   "execution_count": null,
   "metadata": {},
   "outputs": [],
   "source": [
    "Train_accuracy_svm_1250"
   ]
  },
  {
   "cell_type": "code",
   "execution_count": null,
   "metadata": {},
   "outputs": [],
   "source": [
    "Test_accuracy_svm_1250"
   ]
  },
  {
   "cell_type": "markdown",
   "metadata": {},
   "source": [
    "#### 1 Year"
   ]
  },
  {
   "cell_type": "code",
   "execution_count": null,
   "metadata": {},
   "outputs": [],
   "source": [
    "trained_model_svm_250 = svm.fit(X_train_250, y_train_250)\n",
    "predictions_svm_250 = trained_model_svm_1250.predict(X_test_250)\n",
    "\n",
    "Train_accuracy_svm_250 = accuracy_score(y_train_250,trained_model_svm_250.predict(X_train_250))\n",
    "Test_accuracy_svm_250 = accuracy_score(y_test_250, predictions_svm_250)\n",
    "Confusion_matrix_svm_250 = confusion_matrix(y_test_250,predictions_svm_250)"
   ]
  },
  {
   "cell_type": "code",
   "execution_count": null,
   "metadata": {},
   "outputs": [],
   "source": [
    "Train_accuracy_svm_250"
   ]
  },
  {
   "cell_type": "code",
   "execution_count": null,
   "metadata": {},
   "outputs": [],
   "source": [
    "Test_accuracy_svm_250"
   ]
  },
  {
   "cell_type": "markdown",
   "metadata": {},
   "source": [
    "#### 6 Months"
   ]
  },
  {
   "cell_type": "code",
   "execution_count": null,
   "metadata": {},
   "outputs": [],
   "source": [
    "trained_model_svm_125 = svm.fit(X_train_125, y_train_125)\n",
    "predictions_svm_125 = trained_model_svm_1250.predict(X_test_125)\n",
    "\n",
    "Train_accuracy_svm_125 = accuracy_score(y_train_125,trained_model_svm_125.predict(X_train_125))\n",
    "Test_accuracy_svm_125 = accuracy_score(y_test_125, predictions_svm_125)\n",
    "Confusion_matrix_svm_125 = confusion_matrix(y_test_125,predictions_svm_125)"
   ]
  },
  {
   "cell_type": "code",
   "execution_count": null,
   "metadata": {},
   "outputs": [],
   "source": [
    "Train_accuracy_svm_125"
   ]
  },
  {
   "cell_type": "code",
   "execution_count": null,
   "metadata": {},
   "outputs": [],
   "source": [
    "Test_accuracy_svm_125"
   ]
  },
  {
   "cell_type": "markdown",
   "metadata": {},
   "source": [
    "#### Last 100 Days based on Best Model - Max Duration"
   ]
  },
  {
   "cell_type": "code",
   "execution_count": null,
   "metadata": {},
   "outputs": [],
   "source": [
    "predictions_svm_100 = trained_model_svm.predict(last100)\n",
    "predictions_svm_100"
   ]
  },
  {
   "cell_type": "markdown",
   "metadata": {},
   "source": [
    "### RandomForest"
   ]
  },
  {
   "cell_type": "code",
   "execution_count": null,
   "metadata": {},
   "outputs": [],
   "source": [
    "rf = RandomForestClassifier(n_estimators=10)\n",
    "trained_model_rf = rf.fit(X_train, y_train)\n",
    "predictions_rf = trained_model_rf.predict(X_test)\n",
    "\n",
    "Train_accuracy_rf = accuracy_score(y_train, trained_model_rf.predict(X_train))\n",
    "Test_accuracy_rf = accuracy_score(y_test, predictions_rf)\n",
    "Confusion_matrix_rf = confusion_matrix(y_test, predictions_rf)"
   ]
  },
  {
   "cell_type": "code",
   "execution_count": null,
   "metadata": {},
   "outputs": [],
   "source": [
    "Train_accuracy_rf"
   ]
  },
  {
   "cell_type": "code",
   "execution_count": null,
   "metadata": {},
   "outputs": [],
   "source": [
    "Test_accuracy_rf"
   ]
  },
  {
   "cell_type": "markdown",
   "metadata": {},
   "source": [
    "#### 5 Years"
   ]
  },
  {
   "cell_type": "code",
   "execution_count": null,
   "metadata": {},
   "outputs": [],
   "source": [
    "trained_model_rf_1250 = rf.fit(X_train_1250, y_train_1250)\n",
    "predictions_rf_1250 = trained_model_rf_1250.predict(X_test_1250)\n",
    "\n",
    "Train_accuracy_rf_1250 = accuracy_score(y_train_1250,trained_model_rf_1250.predict(X_train_1250))\n",
    "Test_accuracy_rf_1250 = accuracy_score(y_test_1250, predictions_rf_1250)\n",
    "Confusion_matrix_rf_1250 = confusion_matrix(y_test_1250,predictions_rf_1250)"
   ]
  },
  {
   "cell_type": "code",
   "execution_count": null,
   "metadata": {},
   "outputs": [],
   "source": [
    "Train_accuracy_rf_1250"
   ]
  },
  {
   "cell_type": "code",
   "execution_count": null,
   "metadata": {},
   "outputs": [],
   "source": [
    "Test_accuracy_rf_1250"
   ]
  },
  {
   "cell_type": "markdown",
   "metadata": {},
   "source": [
    "#### 1 Year"
   ]
  },
  {
   "cell_type": "code",
   "execution_count": null,
   "metadata": {},
   "outputs": [],
   "source": [
    "trained_model_rf_250 = rf.fit(X_train_250, y_train_250)\n",
    "predictions_rf_250 = trained_model_rf_250.predict(X_test_250)\n",
    "\n",
    "Train_accuracy_rf_250 = accuracy_score(y_train_250,trained_model_rf_250.predict(X_train_250))\n",
    "Test_accuracy_rf_250 = accuracy_score(y_test_250, predictions_rf_250)\n",
    "Confusion_matrix_rf_250 = confusion_matrix(y_test_250,predictions_rf_250)"
   ]
  },
  {
   "cell_type": "code",
   "execution_count": null,
   "metadata": {},
   "outputs": [],
   "source": [
    "Train_accuracy_rf_250"
   ]
  },
  {
   "cell_type": "code",
   "execution_count": null,
   "metadata": {},
   "outputs": [],
   "source": [
    "Test_accuracy_rf_250"
   ]
  },
  {
   "cell_type": "markdown",
   "metadata": {},
   "source": [
    "#### 6 Months"
   ]
  },
  {
   "cell_type": "code",
   "execution_count": null,
   "metadata": {},
   "outputs": [],
   "source": [
    "trained_model_rf_125 = rf.fit(X_train_125, y_train_125)\n",
    "predictions_rf_125 = trained_model_rf_125.predict(X_test_125)\n",
    "\n",
    "Train_accuracy_rf_125 = accuracy_score(y_train_125,trained_model_rf_125.predict(X_train_125))\n",
    "Test_accuracy_rf_125 = accuracy_score(y_test_125, predictions_rf_125)\n",
    "Confusion_matrix_rf_125 = confusion_matrix(y_test_125,predictions_rf_125)"
   ]
  },
  {
   "cell_type": "code",
   "execution_count": null,
   "metadata": {},
   "outputs": [],
   "source": [
    "Train_accuracy_rf_125"
   ]
  },
  {
   "cell_type": "code",
   "execution_count": null,
   "metadata": {},
   "outputs": [],
   "source": [
    "Test_accuracy_rf_125"
   ]
  },
  {
   "cell_type": "markdown",
   "metadata": {},
   "source": [
    "#### Last 100 Days based on Best Model"
   ]
  },
  {
   "cell_type": "code",
   "execution_count": null,
   "metadata": {},
   "outputs": [],
   "source": [
    "predictions_rf_100 = trained_model_rf_125.predict(last100)\n",
    "predictions_rf_100"
   ]
  },
  {
   "cell_type": "markdown",
   "metadata": {},
   "source": [
    "### KNN"
   ]
  },
  {
   "cell_type": "code",
   "execution_count": null,
   "metadata": {},
   "outputs": [],
   "source": [
    "knn = KNeighborsClassifier(n_neighbors=5)\n",
    "trained_model_knn = knn.fit(X_train, y_train)\n",
    "predictions_knn = trained_model_knn.predict(X_test)\n",
    "\n",
    "Train_accuracy_knn = accuracy_score(y_train, trained_model_knn.predict(X_train))\n",
    "Test_accuracy_knn = accuracy_score(y_test, predictions_knn)\n",
    "Confusion_matrix_knn = confusion_matrix(y_test, predictions_knn)"
   ]
  },
  {
   "cell_type": "code",
   "execution_count": null,
   "metadata": {},
   "outputs": [],
   "source": [
    "Train_accuracy_knn"
   ]
  },
  {
   "cell_type": "code",
   "execution_count": null,
   "metadata": {},
   "outputs": [],
   "source": [
    "Test_accuracy_knn"
   ]
  },
  {
   "cell_type": "markdown",
   "metadata": {},
   "source": [
    "#### 5 Years"
   ]
  },
  {
   "cell_type": "code",
   "execution_count": null,
   "metadata": {},
   "outputs": [],
   "source": [
    "trained_model_knn_1250 = knn.fit(X_train_1250, y_train_1250)\n",
    "predictions_knn_1250 = trained_model_knn_1250.predict(X_test_1250)\n",
    "\n",
    "Train_accuracy_knn_1250 = accuracy_score(y_train_1250,trained_model_knn_1250.predict(X_train_1250))\n",
    "Test_accuracy_knn_1250 = accuracy_score(y_test_1250, predictions_knn_1250)\n",
    "Confusion_matrix_knn_1250 = confusion_matrix(y_test_1250,predictions_knn_1250)"
   ]
  },
  {
   "cell_type": "code",
   "execution_count": null,
   "metadata": {},
   "outputs": [],
   "source": [
    "Train_accuracy_knn_1250"
   ]
  },
  {
   "cell_type": "code",
   "execution_count": null,
   "metadata": {},
   "outputs": [],
   "source": [
    "Test_accuracy_knn_1250"
   ]
  },
  {
   "cell_type": "markdown",
   "metadata": {},
   "source": [
    "#### 1 Year"
   ]
  },
  {
   "cell_type": "code",
   "execution_count": null,
   "metadata": {},
   "outputs": [],
   "source": [
    "trained_model_knn_250 = knn.fit(X_train_250, y_train_250)\n",
    "predictions_knn_250 = trained_model_knn_250.predict(X_test_250)\n",
    "\n",
    "Train_accuracy_knn_250 = accuracy_score(y_train_250,trained_model_knn_250.predict(X_train_250))\n",
    "Test_accuracy_knn_250 = accuracy_score(y_test_250, predictions_knn_250)\n",
    "Confusion_matrix_knn_250 = confusion_matrix(y_test_250,predictions_knn_250)"
   ]
  },
  {
   "cell_type": "code",
   "execution_count": null,
   "metadata": {},
   "outputs": [],
   "source": [
    "Train_accuracy_knn_250"
   ]
  },
  {
   "cell_type": "code",
   "execution_count": null,
   "metadata": {},
   "outputs": [],
   "source": [
    "Test_accuracy_knn_250"
   ]
  },
  {
   "cell_type": "markdown",
   "metadata": {},
   "source": [
    "#### 6 Months"
   ]
  },
  {
   "cell_type": "code",
   "execution_count": null,
   "metadata": {},
   "outputs": [],
   "source": [
    "trained_model_knn_125 = knn.fit(X_train_125, y_train_125)\n",
    "predictions_knn_125 = trained_model_knn_125.predict(X_test_125)\n",
    "\n",
    "Train_accuracy_knn_125 = accuracy_score(y_train_125,trained_model_knn_125.predict(X_train_125))\n",
    "Test_accuracy_knn_125 = accuracy_score(y_test_125, predictions_knn_125)\n",
    "Confusion_matrix_knn_125 = confusion_matrix(y_test_125,predictions_knn_125)"
   ]
  },
  {
   "cell_type": "code",
   "execution_count": null,
   "metadata": {},
   "outputs": [],
   "source": [
    "Train_accuracy_knn_125"
   ]
  },
  {
   "cell_type": "code",
   "execution_count": null,
   "metadata": {},
   "outputs": [],
   "source": [
    "Test_accuracy_knn_125"
   ]
  },
  {
   "cell_type": "markdown",
   "metadata": {},
   "source": [
    "#### Last 100 Days based on Best Model"
   ]
  },
  {
   "cell_type": "code",
   "execution_count": null,
   "metadata": {},
   "outputs": [],
   "source": [
    "predictions_knn_100 = trained_model_knn.predict(last100)\n",
    "predictions_knn_100"
   ]
  },
  {
   "cell_type": "markdown",
   "metadata": {},
   "source": [
    "### XGBoost"
   ]
  },
  {
   "cell_type": "code",
   "execution_count": null,
   "metadata": {},
   "outputs": [],
   "source": [
    "xgb = XGBClassifier(use_label_encoder=False)\n",
    "trained_model_xgb = xgb.fit(X_train, y_train)\n",
    "predictions_xgb = trained_model_xgb.predict(X_test)\n",
    "\n",
    "Train_accuracy_xgb = accuracy_score(y_train, trained_model_xgb.predict(X_train))\n",
    "Test_accuracy_xgb = accuracy_score(y_test, predictions_xgb)\n",
    "Confusion_matrix_xgb = confusion_matrix(y_test, predictions_xgb)"
   ]
  },
  {
   "cell_type": "code",
   "execution_count": null,
   "metadata": {},
   "outputs": [],
   "source": [
    "Train_accuracy_xgb"
   ]
  },
  {
   "cell_type": "code",
   "execution_count": null,
   "metadata": {},
   "outputs": [],
   "source": [
    "Test_accuracy_xgb"
   ]
  },
  {
   "cell_type": "markdown",
   "metadata": {},
   "source": [
    "#### 5 Years"
   ]
  },
  {
   "cell_type": "code",
   "execution_count": null,
   "metadata": {},
   "outputs": [],
   "source": [
    "trained_model_xgb_1250 = xgb.fit(X_train_1250, y_train_1250)\n",
    "predictions_xgb_1250 = trained_model_xgb_1250.predict(X_test_1250)\n",
    "\n",
    "Train_accuracy_xgb_1250 = accuracy_score(y_train_1250,trained_model_xgb_1250.predict(X_train_1250))\n",
    "Test_accuracy_xgb_1250 = accuracy_score(y_test_1250, predictions_xgb_1250)\n",
    "Confusion_matrix_xgb_1250 = confusion_matrix(y_test_1250,predictions_xgb_1250)"
   ]
  },
  {
   "cell_type": "code",
   "execution_count": null,
   "metadata": {},
   "outputs": [],
   "source": [
    "Train_accuracy_xgb_1250"
   ]
  },
  {
   "cell_type": "code",
   "execution_count": null,
   "metadata": {},
   "outputs": [],
   "source": [
    "Test_accuracy_xgb_1250"
   ]
  },
  {
   "cell_type": "markdown",
   "metadata": {},
   "source": [
    "#### 1 Year"
   ]
  },
  {
   "cell_type": "code",
   "execution_count": null,
   "metadata": {},
   "outputs": [],
   "source": [
    "trained_model_xgb_250 = xgb.fit(X_train_250, y_train_250)\n",
    "predictions_xgb_250 = trained_model_xgb_250.predict(X_test_250)\n",
    "\n",
    "Train_accuracy_xgb_250 = accuracy_score(y_train_250,trained_model_xgb_250.predict(X_train_250))\n",
    "Test_accuracy_xgb_250 = accuracy_score(y_test_250, predictions_xgb_250)\n",
    "Confusion_matrix_xgb_250 = confusion_matrix(y_test_250,predictions_xgb_250)"
   ]
  },
  {
   "cell_type": "code",
   "execution_count": null,
   "metadata": {},
   "outputs": [],
   "source": [
    "Train_accuracy_xgb_250"
   ]
  },
  {
   "cell_type": "code",
   "execution_count": null,
   "metadata": {},
   "outputs": [],
   "source": [
    "Test_accuracy_xgb_250"
   ]
  },
  {
   "cell_type": "markdown",
   "metadata": {},
   "source": [
    "#### 6 Months"
   ]
  },
  {
   "cell_type": "code",
   "execution_count": null,
   "metadata": {},
   "outputs": [],
   "source": [
    "trained_model_xgb_125 = xgb.fit(X_train_125, y_train_125)\n",
    "predictions_xgb_125 = trained_model_xgb_125.predict(X_test_125)\n",
    "\n",
    "Train_accuracy_xgb_125 = accuracy_score(y_train_125,trained_model_xgb_125.predict(X_train_125))\n",
    "Test_accuracy_xgb_125 = accuracy_score(y_test_125, predictions_xgb_125)\n",
    "Confusion_matrix_xgb_125 = confusion_matrix(y_test_125,predictions_xgb_125)"
   ]
  },
  {
   "cell_type": "code",
   "execution_count": null,
   "metadata": {},
   "outputs": [],
   "source": [
    "Train_accuracy_xgb_125"
   ]
  },
  {
   "cell_type": "code",
   "execution_count": null,
   "metadata": {},
   "outputs": [],
   "source": [
    "Test_accuracy_xgb_125"
   ]
  },
  {
   "cell_type": "markdown",
   "metadata": {},
   "source": [
    "#### Last 100 Days based on Best Model"
   ]
  },
  {
   "cell_type": "code",
   "execution_count": null,
   "metadata": {},
   "outputs": [],
   "source": [
    "predictions_xgb_100 = trained_model_xgb.predict(last100)\n",
    "predictions_xgb_100"
   ]
  },
  {
   "cell_type": "markdown",
   "metadata": {},
   "source": [
    "## KFold cross validation\n",
    "### Basic example"
   ]
  },
  {
   "cell_type": "code",
   "execution_count": null,
   "metadata": {},
   "outputs": [],
   "source": [
    "from sklearn.model_selection import cross_val_score\n",
    "\n",
    "cross_val_score(LogisticRegression(solver='liblinear',multi_class='ovr'), complete_data, target, cv=10)"
   ]
  },
  {
   "cell_type": "code",
   "execution_count": null,
   "metadata": {},
   "outputs": [],
   "source": [
    "cross_val_score(SVC(gamma='auto'), complete_data, target, cv=10)"
   ]
  },
  {
   "cell_type": "code",
   "execution_count": null,
   "metadata": {},
   "outputs": [],
   "source": [
    "cross_val_score(RandomForestClassifier(n_estimators=5), complete_data, target, cv=10)"
   ]
  },
  {
   "cell_type": "code",
   "execution_count": null,
   "metadata": {},
   "outputs": [],
   "source": [
    "cross_val_score(KNeighborsClassifier(n_neighbors=5), complete_data, target, cv=10)"
   ]
  },
  {
   "cell_type": "code",
   "execution_count": null,
   "metadata": {},
   "outputs": [],
   "source": [
    "cross_val_score(XGBClassifier(use_label_encoder=False), complete_data, target, cv=10)"
   ]
  }
 ],
 "metadata": {
  "kernelspec": {
   "display_name": "Python 3",
   "language": "python",
   "name": "python3"
  },
  "language_info": {
   "codemirror_mode": {
    "name": "ipython",
    "version": 3
   },
   "file_extension": ".py",
   "mimetype": "text/x-python",
   "name": "python",
   "nbconvert_exporter": "python",
   "pygments_lexer": "ipython3",
   "version": "3.8.5"
  }
 },
 "nbformat": 4,
 "nbformat_minor": 4
}
