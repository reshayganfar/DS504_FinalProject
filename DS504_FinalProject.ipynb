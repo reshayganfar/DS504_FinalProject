{
 "cells": [
  {
   "cell_type": "code",
   "execution_count": 1,
   "metadata": {},
   "outputs": [],
   "source": [
    "import pandas as pd\n",
    "import numpy as np"
   ]
  },
  {
   "cell_type": "code",
   "execution_count": 2,
   "metadata": {},
   "outputs": [
    {
     "name": "stdout",
     "output_type": "stream",
     "text": [
      "Requirement already up-to-date: ta in c:\\users\\rshay\\anaconda3\\lib\\site-packages (0.7.0)\n",
      "Requirement already satisfied, skipping upgrade: numpy in c:\\users\\rshay\\anaconda3\\lib\\site-packages (from ta) (1.19.2)\n",
      "Requirement already satisfied, skipping upgrade: pandas in c:\\users\\rshay\\anaconda3\\lib\\site-packages (from ta) (1.1.3)\n",
      "Requirement already satisfied, skipping upgrade: pytz>=2017.2 in c:\\users\\rshay\\anaconda3\\lib\\site-packages (from pandas->ta) (2020.1)\n",
      "Requirement already satisfied, skipping upgrade: python-dateutil>=2.7.3 in c:\\users\\rshay\\anaconda3\\lib\\site-packages (from pandas->ta) (2.8.1)\n",
      "Requirement already satisfied, skipping upgrade: six>=1.5 in c:\\users\\rshay\\anaconda3\\lib\\site-packages (from python-dateutil>=2.7.3->pandas->ta) (1.15.0)\n",
      "Note: you may need to restart the kernel to use updated packages.\n"
     ]
    }
   ],
   "source": [
    "pip install --upgrade ta"
   ]
  },
  {
   "cell_type": "code",
   "execution_count": 3,
   "metadata": {},
   "outputs": [],
   "source": [
    "import ta as ta\n",
    "from ta import add_all_ta_features\n",
    "from ta.utils import dropna"
   ]
  },
  {
   "cell_type": "code",
   "execution_count": 124,
   "metadata": {},
   "outputs": [],
   "source": [
    "data = pd.read_csv(\"AMZN.csv\")"
   ]
  },
  {
   "cell_type": "code",
   "execution_count": 125,
   "metadata": {},
   "outputs": [
    {
     "data": {
      "text/html": [
       "<div>\n",
       "<style scoped>\n",
       "    .dataframe tbody tr th:only-of-type {\n",
       "        vertical-align: middle;\n",
       "    }\n",
       "\n",
       "    .dataframe tbody tr th {\n",
       "        vertical-align: top;\n",
       "    }\n",
       "\n",
       "    .dataframe thead th {\n",
       "        text-align: right;\n",
       "    }\n",
       "</style>\n",
       "<table border=\"1\" class=\"dataframe\">\n",
       "  <thead>\n",
       "    <tr style=\"text-align: right;\">\n",
       "      <th></th>\n",
       "      <th>Date</th>\n",
       "      <th>Open</th>\n",
       "      <th>High</th>\n",
       "      <th>Low</th>\n",
       "      <th>Close</th>\n",
       "      <th>Adj Close</th>\n",
       "      <th>Volume</th>\n",
       "    </tr>\n",
       "  </thead>\n",
       "  <tbody>\n",
       "    <tr>\n",
       "      <th>0</th>\n",
       "      <td>5/15/1997</td>\n",
       "      <td>2.437500</td>\n",
       "      <td>2.500000</td>\n",
       "      <td>1.927083</td>\n",
       "      <td>1.958333</td>\n",
       "      <td>1.958333</td>\n",
       "      <td>72156000</td>\n",
       "    </tr>\n",
       "    <tr>\n",
       "      <th>1</th>\n",
       "      <td>5/16/1997</td>\n",
       "      <td>1.968750</td>\n",
       "      <td>1.979167</td>\n",
       "      <td>1.708333</td>\n",
       "      <td>1.729167</td>\n",
       "      <td>1.729167</td>\n",
       "      <td>14700000</td>\n",
       "    </tr>\n",
       "    <tr>\n",
       "      <th>2</th>\n",
       "      <td>5/19/1997</td>\n",
       "      <td>1.760417</td>\n",
       "      <td>1.770833</td>\n",
       "      <td>1.625000</td>\n",
       "      <td>1.708333</td>\n",
       "      <td>1.708333</td>\n",
       "      <td>6106800</td>\n",
       "    </tr>\n",
       "    <tr>\n",
       "      <th>3</th>\n",
       "      <td>5/20/1997</td>\n",
       "      <td>1.729167</td>\n",
       "      <td>1.750000</td>\n",
       "      <td>1.635417</td>\n",
       "      <td>1.635417</td>\n",
       "      <td>1.635417</td>\n",
       "      <td>5467200</td>\n",
       "    </tr>\n",
       "    <tr>\n",
       "      <th>4</th>\n",
       "      <td>5/21/1997</td>\n",
       "      <td>1.635417</td>\n",
       "      <td>1.645833</td>\n",
       "      <td>1.375000</td>\n",
       "      <td>1.427083</td>\n",
       "      <td>1.427083</td>\n",
       "      <td>18853200</td>\n",
       "    </tr>\n",
       "    <tr>\n",
       "      <th>...</th>\n",
       "      <td>...</td>\n",
       "      <td>...</td>\n",
       "      <td>...</td>\n",
       "      <td>...</td>\n",
       "      <td>...</td>\n",
       "      <td>...</td>\n",
       "      <td>...</td>\n",
       "    </tr>\n",
       "    <tr>\n",
       "      <th>6152</th>\n",
       "      <td>10/25/2021</td>\n",
       "      <td>3335.000000</td>\n",
       "      <td>3347.800049</td>\n",
       "      <td>3297.699951</td>\n",
       "      <td>3320.370117</td>\n",
       "      <td>3320.370117</td>\n",
       "      <td>2226000</td>\n",
       "    </tr>\n",
       "    <tr>\n",
       "      <th>6153</th>\n",
       "      <td>10/26/2021</td>\n",
       "      <td>3349.510010</td>\n",
       "      <td>3416.120117</td>\n",
       "      <td>3343.979980</td>\n",
       "      <td>3376.070068</td>\n",
       "      <td>3376.070068</td>\n",
       "      <td>2698300</td>\n",
       "    </tr>\n",
       "    <tr>\n",
       "      <th>6154</th>\n",
       "      <td>10/27/2021</td>\n",
       "      <td>3388.000000</td>\n",
       "      <td>3437.000000</td>\n",
       "      <td>3371.449951</td>\n",
       "      <td>3392.489990</td>\n",
       "      <td>3392.489990</td>\n",
       "      <td>2702200</td>\n",
       "    </tr>\n",
       "    <tr>\n",
       "      <th>6155</th>\n",
       "      <td>10/28/2021</td>\n",
       "      <td>3402.100098</td>\n",
       "      <td>3479.000000</td>\n",
       "      <td>3386.000000</td>\n",
       "      <td>3446.570068</td>\n",
       "      <td>3446.570068</td>\n",
       "      <td>5708700</td>\n",
       "    </tr>\n",
       "    <tr>\n",
       "      <th>6156</th>\n",
       "      <td>10/29/2021</td>\n",
       "      <td>3300.020020</td>\n",
       "      <td>3374.820068</td>\n",
       "      <td>3273.320068</td>\n",
       "      <td>3372.429932</td>\n",
       "      <td>3372.429932</td>\n",
       "      <td>6469500</td>\n",
       "    </tr>\n",
       "  </tbody>\n",
       "</table>\n",
       "<p>6157 rows × 7 columns</p>\n",
       "</div>"
      ],
      "text/plain": [
       "            Date         Open         High          Low        Close  \\\n",
       "0      5/15/1997     2.437500     2.500000     1.927083     1.958333   \n",
       "1      5/16/1997     1.968750     1.979167     1.708333     1.729167   \n",
       "2      5/19/1997     1.760417     1.770833     1.625000     1.708333   \n",
       "3      5/20/1997     1.729167     1.750000     1.635417     1.635417   \n",
       "4      5/21/1997     1.635417     1.645833     1.375000     1.427083   \n",
       "...          ...          ...          ...          ...          ...   \n",
       "6152  10/25/2021  3335.000000  3347.800049  3297.699951  3320.370117   \n",
       "6153  10/26/2021  3349.510010  3416.120117  3343.979980  3376.070068   \n",
       "6154  10/27/2021  3388.000000  3437.000000  3371.449951  3392.489990   \n",
       "6155  10/28/2021  3402.100098  3479.000000  3386.000000  3446.570068   \n",
       "6156  10/29/2021  3300.020020  3374.820068  3273.320068  3372.429932   \n",
       "\n",
       "        Adj Close    Volume  \n",
       "0        1.958333  72156000  \n",
       "1        1.729167  14700000  \n",
       "2        1.708333   6106800  \n",
       "3        1.635417   5467200  \n",
       "4        1.427083  18853200  \n",
       "...           ...       ...  \n",
       "6152  3320.370117   2226000  \n",
       "6153  3376.070068   2698300  \n",
       "6154  3392.489990   2702200  \n",
       "6155  3446.570068   5708700  \n",
       "6156  3372.429932   6469500  \n",
       "\n",
       "[6157 rows x 7 columns]"
      ]
     },
     "execution_count": 125,
     "metadata": {},
     "output_type": "execute_result"
    }
   ],
   "source": [
    "data"
   ]
  },
  {
   "cell_type": "code",
   "execution_count": 81,
   "metadata": {},
   "outputs": [
    {
     "data": {
      "text/plain": [
       "Date         False\n",
       "Open         False\n",
       "High         False\n",
       "Low          False\n",
       "Close        False\n",
       "Adj Close    False\n",
       "Volume       False\n",
       "dtype: bool"
      ]
     },
     "execution_count": 81,
     "metadata": {},
     "output_type": "execute_result"
    }
   ],
   "source": [
    "data.isna().any()"
   ]
  },
  {
   "cell_type": "code",
   "execution_count": 82,
   "metadata": {},
   "outputs": [
    {
     "data": {
      "text/html": [
       "<div>\n",
       "<style scoped>\n",
       "    .dataframe tbody tr th:only-of-type {\n",
       "        vertical-align: middle;\n",
       "    }\n",
       "\n",
       "    .dataframe tbody tr th {\n",
       "        vertical-align: top;\n",
       "    }\n",
       "\n",
       "    .dataframe thead th {\n",
       "        text-align: right;\n",
       "    }\n",
       "</style>\n",
       "<table border=\"1\" class=\"dataframe\">\n",
       "  <thead>\n",
       "    <tr style=\"text-align: right;\">\n",
       "      <th></th>\n",
       "    </tr>\n",
       "  </thead>\n",
       "  <tbody>\n",
       "    <tr>\n",
       "      <th>0</th>\n",
       "    </tr>\n",
       "    <tr>\n",
       "      <th>1</th>\n",
       "    </tr>\n",
       "    <tr>\n",
       "      <th>2</th>\n",
       "    </tr>\n",
       "    <tr>\n",
       "      <th>3</th>\n",
       "    </tr>\n",
       "    <tr>\n",
       "      <th>4</th>\n",
       "    </tr>\n",
       "    <tr>\n",
       "      <th>...</th>\n",
       "    </tr>\n",
       "    <tr>\n",
       "      <th>6152</th>\n",
       "    </tr>\n",
       "    <tr>\n",
       "      <th>6153</th>\n",
       "    </tr>\n",
       "    <tr>\n",
       "      <th>6154</th>\n",
       "    </tr>\n",
       "    <tr>\n",
       "      <th>6155</th>\n",
       "    </tr>\n",
       "    <tr>\n",
       "      <th>6156</th>\n",
       "    </tr>\n",
       "  </tbody>\n",
       "</table>\n",
       "<p>6157 rows × 0 columns</p>\n",
       "</div>"
      ],
      "text/plain": [
       "Empty DataFrame\n",
       "Columns: []\n",
       "Index: [0, 1, 2, 3, 4, 5, 6, 7, 8, 9, 10, 11, 12, 13, 14, 15, 16, 17, 18, 19, 20, 21, 22, 23, 24, 25, 26, 27, 28, 29, 30, 31, 32, 33, 34, 35, 36, 37, 38, 39, 40, 41, 42, 43, 44, 45, 46, 47, 48, 49, 50, 51, 52, 53, 54, 55, 56, 57, 58, 59, 60, 61, 62, 63, 64, 65, 66, 67, 68, 69, 70, 71, 72, 73, 74, 75, 76, 77, 78, 79, 80, 81, 82, 83, 84, 85, 86, 87, 88, 89, 90, 91, 92, 93, 94, 95, 96, 97, 98, 99, ...]\n",
       "\n",
       "[6157 rows x 0 columns]"
      ]
     },
     "execution_count": 82,
     "metadata": {},
     "output_type": "execute_result"
    }
   ],
   "source": [
    "data[data.columns[data.isna().any()]]"
   ]
  },
  {
   "cell_type": "code",
   "execution_count": 83,
   "metadata": {},
   "outputs": [
    {
     "name": "stdout",
     "output_type": "stream",
     "text": [
      "            Date         Open         High          Low        Close  \\\n",
      "0      5/15/1997     2.437500     2.500000     1.927083     1.958333   \n",
      "1      5/16/1997     1.968750     1.979167     1.708333     1.729167   \n",
      "2      5/19/1997     1.760417     1.770833     1.625000     1.708333   \n",
      "3      5/20/1997     1.729167     1.750000     1.635417     1.635417   \n",
      "4      5/21/1997     1.635417     1.645833     1.375000     1.427083   \n",
      "...          ...          ...          ...          ...          ...   \n",
      "6152  10/25/2021  3335.000000  3347.800049  3297.699951  3320.370117   \n",
      "6153  10/26/2021  3349.510010  3416.120117  3343.979980  3376.070068   \n",
      "6154  10/27/2021  3388.000000  3437.000000  3371.449951  3392.489990   \n",
      "6155  10/28/2021  3402.100098  3479.000000  3386.000000  3446.570068   \n",
      "6156  10/29/2021  3300.020020  3374.820068  3273.320068  3372.429932   \n",
      "\n",
      "        Adj Close    Volume  cond1  cond2  cond3  \n",
      "0        1.958333  72156000  False  False  False  \n",
      "1        1.729167  14700000  False  False  False  \n",
      "2        1.708333   6106800  False  False  False  \n",
      "3        1.635417   5467200  False  False  False  \n",
      "4        1.427083  18853200  False  False  False  \n",
      "...           ...       ...    ...    ...    ...  \n",
      "6152  3320.370117   2226000  False  False  False  \n",
      "6153  3376.070068   2698300  False  False  False  \n",
      "6154  3392.489990   2702200  False  False  False  \n",
      "6155  3446.570068   5708700  False  False  False  \n",
      "6156  3372.429932   6469500  False  False  False  \n",
      "\n",
      "[6157 rows x 10 columns]\n"
     ]
    }
   ],
   "source": [
    "cond1 = data.Date.isna() # aapl['Date'].isna()\n",
    "cond2 = data.Date.str.contains(r'^\\s*$', na=False)\n",
    "cond3 = data.Date == ''\n",
    "\n",
    "data_checked = data.assign(cond1= cond1, cond2= cond2, cond3= cond3)\n",
    "print (data_checked)"
   ]
  },
  {
   "cell_type": "code",
   "execution_count": 84,
   "metadata": {},
   "outputs": [],
   "source": [
    "def simple_moving_average_5(close):\n",
    "    return close.rolling(5,min_periods=1).mean()"
   ]
  },
  {
   "cell_type": "code",
   "execution_count": 85,
   "metadata": {},
   "outputs": [],
   "source": [
    "data['SMA5'] = simple_moving_average_5(data['Close'])"
   ]
  },
  {
   "cell_type": "code",
   "execution_count": 86,
   "metadata": {},
   "outputs": [],
   "source": [
    "def simple_moving_average_10(close):\n",
    "    return close.rolling(10,min_periods=1).mean()"
   ]
  },
  {
   "cell_type": "code",
   "execution_count": 87,
   "metadata": {},
   "outputs": [],
   "source": [
    "data['SMA10'] = simple_moving_average_10(data['Close'])"
   ]
  },
  {
   "cell_type": "code",
   "execution_count": 88,
   "metadata": {},
   "outputs": [],
   "source": [
    "def stochastic_k(high, low, close):\n",
    "    return (((close-low.rolling(14).min())/(high.rolling(14).max()-low.rolling(14).min()))*100)"
   ]
  },
  {
   "cell_type": "code",
   "execution_count": 89,
   "metadata": {},
   "outputs": [],
   "source": [
    "data['StochasticK'] = stochastic_k(data['High'], data['Low'], data['Close'])"
   ]
  },
  {
   "cell_type": "code",
   "execution_count": 90,
   "metadata": {},
   "outputs": [],
   "source": [
    "def stochastic_d(stochastic_k):\n",
    "    return stochastic_k.rolling(3,min_periods=1).mean()"
   ]
  },
  {
   "cell_type": "code",
   "execution_count": 91,
   "metadata": {},
   "outputs": [],
   "source": [
    "data['StochasticD'] = stochastic_d(data['StochasticK'])"
   ]
  },
  {
   "cell_type": "code",
   "execution_count": 92,
   "metadata": {},
   "outputs": [],
   "source": [
    "def larry_williams_r(high, low, close):\n",
    "    return (((high.rolling(14).max()-close)/(high.rolling(14).max()-low.rolling(14).min()))*100)"
   ]
  },
  {
   "cell_type": "code",
   "execution_count": 93,
   "metadata": {},
   "outputs": [],
   "source": [
    "data['LarryWilliamsR'] = larry_williams_r(data['High'], data['Low'], data['Close'])"
   ]
  },
  {
   "cell_type": "code",
   "execution_count": 94,
   "metadata": {},
   "outputs": [],
   "source": [
    "def rate_of_change(close):\n",
    "    return ((close-close.shift(12))/close.shift(12))"
   ]
  },
  {
   "cell_type": "code",
   "execution_count": 95,
   "metadata": {},
   "outputs": [],
   "source": [
    "data['ROC'] = rate_of_change(data['Close'])"
   ]
  },
  {
   "cell_type": "code",
   "execution_count": 96,
   "metadata": {},
   "outputs": [],
   "source": [
    "def price_volume_trend(close, volume):\n",
    "    return (((close-close.shift(1))/close.shift(1))*volume)"
   ]
  },
  {
   "cell_type": "code",
   "execution_count": 97,
   "metadata": {},
   "outputs": [],
   "source": [
    "data['PVT'] = price_volume_trend(data['Close'], data['Volume'])"
   ]
  },
  {
   "cell_type": "code",
   "execution_count": 98,
   "metadata": {},
   "outputs": [],
   "source": [
    "def accumulation_distribution_oscillator(high, low, close):\n",
    "    return((high-close.shift(1))/(high-low))"
   ]
  },
  {
   "cell_type": "code",
   "execution_count": 99,
   "metadata": {},
   "outputs": [],
   "source": [
    "data['ADO'] = accumulation_distribution_oscillator(data['High'], data['Low'], data['Close'])"
   ]
  },
  {
   "cell_type": "code",
   "execution_count": 100,
   "metadata": {},
   "outputs": [],
   "source": [
    "def weighted_moving_average_10(close):\n",
    "    return ((10*close+9*close.shift(1)+8*close.shift(2)+7*close.shift(3)\n",
    "             +6*close.shift(4)+5*close.shift(5)+4*close.shift(6)+3*close.shift(7)\n",
    "             +2*close.shift(8)+close.shift(9))/(10+9+8+7+6+5+4+3+2+1))"
   ]
  },
  {
   "cell_type": "code",
   "execution_count": 101,
   "metadata": {},
   "outputs": [],
   "source": [
    "data['WMA10'] = weighted_moving_average_10(data['Close'])"
   ]
  },
  {
   "cell_type": "code",
   "execution_count": 102,
   "metadata": {},
   "outputs": [],
   "source": [
    "def exponential_moving_average_12(close):\n",
    "    return (close.ewm(span=12, adjust=False).mean())"
   ]
  },
  {
   "cell_type": "code",
   "execution_count": 103,
   "metadata": {},
   "outputs": [],
   "source": [
    "data['EMA12'] = exponential_moving_average_12(data['Close'])"
   ]
  },
  {
   "cell_type": "code",
   "execution_count": 104,
   "metadata": {},
   "outputs": [],
   "source": [
    "def exponential_moving_average_26(close):\n",
    "    return (close.ewm(span=26, adjust=False).mean())"
   ]
  },
  {
   "cell_type": "code",
   "execution_count": 105,
   "metadata": {},
   "outputs": [],
   "source": [
    "data['EMA26'] = exponential_moving_average_26(data['Close'])"
   ]
  },
  {
   "cell_type": "code",
   "execution_count": 106,
   "metadata": {},
   "outputs": [],
   "source": [
    "def moving_average_convergence_divergence(ema_12, ema_26):\n",
    "    return (ema_12 - ema_26)"
   ]
  },
  {
   "cell_type": "code",
   "execution_count": 107,
   "metadata": {},
   "outputs": [],
   "source": [
    "data['MACD'] = moving_average_convergence_divergence(data['EMA12'], data['EMA26'])"
   ]
  },
  {
   "cell_type": "code",
   "execution_count": 108,
   "metadata": {},
   "outputs": [],
   "source": [
    "def momentum(close):\n",
    "    return ((close/close.shift(14))*100)"
   ]
  },
  {
   "cell_type": "code",
   "execution_count": 109,
   "metadata": {},
   "outputs": [],
   "source": [
    "data['Momentum'] = momentum(data['Close'])"
   ]
  },
  {
   "cell_type": "code",
   "execution_count": 110,
   "metadata": {},
   "outputs": [],
   "source": [
    "def change(close):\n",
    "    return (close - close.shift(1))"
   ]
  },
  {
   "cell_type": "code",
   "execution_count": 111,
   "metadata": {},
   "outputs": [],
   "source": [
    "data['Change'] = change(data['Close'])"
   ]
  },
  {
   "cell_type": "code",
   "execution_count": 112,
   "metadata": {},
   "outputs": [],
   "source": [
    "def direction(change):\n",
    "    return (np.where(change>0, 1, 0))"
   ]
  },
  {
   "cell_type": "code",
   "execution_count": 113,
   "metadata": {},
   "outputs": [],
   "source": [
    "data['Direction'] = direction(data['Change'])"
   ]
  },
  {
   "cell_type": "code",
   "execution_count": 114,
   "metadata": {},
   "outputs": [],
   "source": [
    "#def change_up(change):\n",
    "    #return (np.where(change>0), change, 0)"
   ]
  },
  {
   "cell_type": "code",
   "execution_count": 115,
   "metadata": {},
   "outputs": [],
   "source": [
    "#def change_down(change):\n",
    "    #return (np.where(change<0), change, 0)"
   ]
  },
  {
   "cell_type": "code",
   "execution_count": 116,
   "metadata": {},
   "outputs": [],
   "source": [
    "def relative_strength_index(direction):\n",
    "    return (100-(100/(1+(direction.rolling(14).sum()/14)/(14-direction.rolling(14).sum())/14)))"
   ]
  },
  {
   "cell_type": "code",
   "execution_count": 117,
   "metadata": {},
   "outputs": [],
   "source": [
    "data['RSI'] = relative_strength_index(data['Direction'])"
   ]
  },
  {
   "cell_type": "code",
   "execution_count": 118,
   "metadata": {},
   "outputs": [],
   "source": [
    "def channel_commodity_index(df, ndays): \n",
    "    df['TP'] = (df['High'] + df['Low'] + df['Close']) / 3 \n",
    "    df['sma'] = df['TP'].rolling(ndays).mean()\n",
    "    df['mad'] = df['TP'].rolling(ndays).apply(lambda x: pd.Series(x).mad())\n",
    "    df['CCI'] = (df['TP'] - df['sma']) / (0.015 * df['mad']) \n",
    "    return df['CCI']"
   ]
  },
  {
   "cell_type": "code",
   "execution_count": 119,
   "metadata": {},
   "outputs": [],
   "source": [
    "data['CCI'] = channel_commodity_index(data, 14)"
   ]
  },
  {
   "cell_type": "code",
   "execution_count": 120,
   "metadata": {},
   "outputs": [],
   "source": [
    "def disparity_index(close):\n",
    "    return (((close - close.rolling(14).mean())/(close.rolling(14).mean()))*100)"
   ]
  },
  {
   "cell_type": "code",
   "execution_count": 121,
   "metadata": {},
   "outputs": [],
   "source": [
    "data['DI'] = disparity_index(data['Close'])"
   ]
  },
  {
   "cell_type": "code",
   "execution_count": 122,
   "metadata": {},
   "outputs": [],
   "source": [
    "def get_adx(high, low, close, lookback):\n",
    "    plus_dm = high.diff()\n",
    "    minus_dm = low.diff()\n",
    "    plus_dm[plus_dm < 0] = 0\n",
    "    minus_dm[minus_dm > 0] = 0\n",
    "    \n",
    "    tr1 = pd.DataFrame(high - low)\n",
    "    tr2 = pd.DataFrame(abs(high - close.shift(1)))\n",
    "    tr3 = pd.DataFrame(abs(low - close.shift(1)))\n",
    "    frames = [tr1, tr2, tr3]\n",
    "    tr = pd.concat(frames, axis = 1, join = 'inner').max(axis = 1)\n",
    "    atr = tr.rolling(lookback).mean()\n",
    "    \n",
    "    plus_di = 100 * (plus_dm.ewm(alpha = 1/lookback).mean() / atr)\n",
    "    minus_di = abs(100 * (minus_dm.ewm(alpha = 1/lookback).mean() / atr))\n",
    "    dx = (abs(plus_di - minus_di) / abs(plus_di + minus_di)) * 100\n",
    "    adx = ((dx.shift(1) * (lookback - 1)) + dx) / lookback\n",
    "    adx_smooth = adx.ewm(alpha = 1/lookback).mean()\n",
    "    return plus_di, minus_di, adx_smooth\n",
    "\n",
    "data['plus_di'] = pd.DataFrame(get_adx(data['High'], data['Low'], data['Close'], 14)[0]).rename(columns = {0:'plus_di'})\n",
    "data['minus_di'] = pd.DataFrame(get_adx(data['High'], data['Low'], data['Close'], 14)[1]).rename(columns = {0:'minus_di'})\n",
    "data['adx'] = pd.DataFrame(get_adx(data['High'], data['Low'], data['Close'], 14)[2]).rename(columns = {0:'adx'})\n",
    "data = data.dropna()"
   ]
  },
  {
   "cell_type": "code",
   "execution_count": 123,
   "metadata": {},
   "outputs": [
    {
     "data": {
      "text/html": [
       "<div>\n",
       "<style scoped>\n",
       "    .dataframe tbody tr th:only-of-type {\n",
       "        vertical-align: middle;\n",
       "    }\n",
       "\n",
       "    .dataframe tbody tr th {\n",
       "        vertical-align: top;\n",
       "    }\n",
       "\n",
       "    .dataframe thead th {\n",
       "        text-align: right;\n",
       "    }\n",
       "</style>\n",
       "<table border=\"1\" class=\"dataframe\">\n",
       "  <thead>\n",
       "    <tr style=\"text-align: right;\">\n",
       "      <th></th>\n",
       "      <th>Date</th>\n",
       "      <th>Open</th>\n",
       "      <th>High</th>\n",
       "      <th>Low</th>\n",
       "      <th>Close</th>\n",
       "      <th>Adj Close</th>\n",
       "      <th>Volume</th>\n",
       "      <th>SMA5</th>\n",
       "      <th>SMA10</th>\n",
       "      <th>StochasticK</th>\n",
       "      <th>...</th>\n",
       "      <th>Direction</th>\n",
       "      <th>RSI</th>\n",
       "      <th>TP</th>\n",
       "      <th>sma</th>\n",
       "      <th>mad</th>\n",
       "      <th>CCI</th>\n",
       "      <th>DI</th>\n",
       "      <th>plus_di</th>\n",
       "      <th>minus_di</th>\n",
       "      <th>adx</th>\n",
       "    </tr>\n",
       "  </thead>\n",
       "  <tbody>\n",
       "    <tr>\n",
       "      <th>14</th>\n",
       "      <td>6/5/1997</td>\n",
       "      <td>1.416667</td>\n",
       "      <td>1.541667</td>\n",
       "      <td>1.375000</td>\n",
       "      <td>1.541667</td>\n",
       "      <td>1.541667</td>\n",
       "      <td>5672400</td>\n",
       "      <td>1.489584</td>\n",
       "      <td>1.496354</td>\n",
       "      <td>34.375033</td>\n",
       "      <td>...</td>\n",
       "      <td>1</td>\n",
       "      <td>0.203666</td>\n",
       "      <td>1.486111</td>\n",
       "      <td>1.540303</td>\n",
       "      <td>0.086788</td>\n",
       "      <td>-41.627398</td>\n",
       "      <td>0.558137</td>\n",
       "      <td>15.325758</td>\n",
       "      <td>35.587723</td>\n",
       "      <td>50.226281</td>\n",
       "    </tr>\n",
       "    <tr>\n",
       "      <th>15</th>\n",
       "      <td>6/6/1997</td>\n",
       "      <td>1.515625</td>\n",
       "      <td>1.708333</td>\n",
       "      <td>1.510417</td>\n",
       "      <td>1.656250</td>\n",
       "      <td>1.656250</td>\n",
       "      <td>7807200</td>\n",
       "      <td>1.520834</td>\n",
       "      <td>1.522396</td>\n",
       "      <td>75.000055</td>\n",
       "      <td>...</td>\n",
       "      <td>1</td>\n",
       "      <td>0.282646</td>\n",
       "      <td>1.625000</td>\n",
       "      <td>1.527406</td>\n",
       "      <td>0.070206</td>\n",
       "      <td>92.673942</td>\n",
       "      <td>8.400292</td>\n",
       "      <td>28.199782</td>\n",
       "      <td>33.100980</td>\n",
       "      <td>43.640597</td>\n",
       "    </tr>\n",
       "    <tr>\n",
       "      <th>16</th>\n",
       "      <td>6/9/1997</td>\n",
       "      <td>1.656250</td>\n",
       "      <td>1.708333</td>\n",
       "      <td>1.656250</td>\n",
       "      <td>1.687500</td>\n",
       "      <td>1.687500</td>\n",
       "      <td>2352000</td>\n",
       "      <td>1.556250</td>\n",
       "      <td>1.541146</td>\n",
       "      <td>85.714286</td>\n",
       "      <td>...</td>\n",
       "      <td>1</td>\n",
       "      <td>0.381194</td>\n",
       "      <td>1.684028</td>\n",
       "      <td>1.526166</td>\n",
       "      <td>0.068612</td>\n",
       "      <td>153.386632</td>\n",
       "      <td>10.553252</td>\n",
       "      <td>26.704887</td>\n",
       "      <td>31.346268</td>\n",
       "      <td>30.868253</td>\n",
       "    </tr>\n",
       "    <tr>\n",
       "      <th>17</th>\n",
       "      <td>6/10/1997</td>\n",
       "      <td>1.708333</td>\n",
       "      <td>1.708333</td>\n",
       "      <td>1.531250</td>\n",
       "      <td>1.583333</td>\n",
       "      <td>1.583333</td>\n",
       "      <td>5458800</td>\n",
       "      <td>1.577083</td>\n",
       "      <td>1.541146</td>\n",
       "      <td>68.421026</td>\n",
       "      <td>...</td>\n",
       "      <td>0</td>\n",
       "      <td>0.381194</td>\n",
       "      <td>1.607639</td>\n",
       "      <td>1.521453</td>\n",
       "      <td>0.062553</td>\n",
       "      <td>91.852991</td>\n",
       "      <td>3.982389</td>\n",
       "      <td>23.183265</td>\n",
       "      <td>37.184473</td>\n",
       "      <td>24.801838</td>\n",
       "    </tr>\n",
       "    <tr>\n",
       "      <th>18</th>\n",
       "      <td>6/11/1997</td>\n",
       "      <td>1.593750</td>\n",
       "      <td>1.604167</td>\n",
       "      <td>1.531250</td>\n",
       "      <td>1.541667</td>\n",
       "      <td>1.541667</td>\n",
       "      <td>1188000</td>\n",
       "      <td>1.602083</td>\n",
       "      <td>1.542188</td>\n",
       "      <td>57.894870</td>\n",
       "      <td>...</td>\n",
       "      <td>0</td>\n",
       "      <td>0.381194</td>\n",
       "      <td>1.559028</td>\n",
       "      <td>1.526910</td>\n",
       "      <td>0.063244</td>\n",
       "      <td>33.856459</td>\n",
       "      <td>0.704759</td>\n",
       "      <td>23.604621</td>\n",
       "      <td>37.860301</td>\n",
       "      <td>24.430750</td>\n",
       "    </tr>\n",
       "    <tr>\n",
       "      <th>...</th>\n",
       "      <td>...</td>\n",
       "      <td>...</td>\n",
       "      <td>...</td>\n",
       "      <td>...</td>\n",
       "      <td>...</td>\n",
       "      <td>...</td>\n",
       "      <td>...</td>\n",
       "      <td>...</td>\n",
       "      <td>...</td>\n",
       "      <td>...</td>\n",
       "      <td>...</td>\n",
       "      <td>...</td>\n",
       "      <td>...</td>\n",
       "      <td>...</td>\n",
       "      <td>...</td>\n",
       "      <td>...</td>\n",
       "      <td>...</td>\n",
       "      <td>...</td>\n",
       "      <td>...</td>\n",
       "      <td>...</td>\n",
       "      <td>...</td>\n",
       "    </tr>\n",
       "    <tr>\n",
       "      <th>6152</th>\n",
       "      <td>10/25/2021</td>\n",
       "      <td>3335.000000</td>\n",
       "      <td>3347.800049</td>\n",
       "      <td>3297.699951</td>\n",
       "      <td>3320.370117</td>\n",
       "      <td>3320.370117</td>\n",
       "      <td>2226000</td>\n",
       "      <td>3390.028027</td>\n",
       "      <td>3363.737036</td>\n",
       "      <td>46.075539</td>\n",
       "      <td>...</td>\n",
       "      <td>0</td>\n",
       "      <td>0.675676</td>\n",
       "      <td>3321.956706</td>\n",
       "      <td>3336.762172</td>\n",
       "      <td>62.706724</td>\n",
       "      <td>-15.740435</td>\n",
       "      <td>-0.538225</td>\n",
       "      <td>24.299687</td>\n",
       "      <td>32.603451</td>\n",
       "      <td>22.462941</td>\n",
       "    </tr>\n",
       "    <tr>\n",
       "      <th>6153</th>\n",
       "      <td>10/26/2021</td>\n",
       "      <td>3349.510010</td>\n",
       "      <td>3416.120117</td>\n",
       "      <td>3343.979980</td>\n",
       "      <td>3376.070068</td>\n",
       "      <td>3376.070068</td>\n",
       "      <td>2698300</td>\n",
       "      <td>3376.412061</td>\n",
       "      <td>3376.611035</td>\n",
       "      <td>61.695644</td>\n",
       "      <td>...</td>\n",
       "      <td>1</td>\n",
       "      <td>0.675676</td>\n",
       "      <td>3378.723388</td>\n",
       "      <td>3346.552647</td>\n",
       "      <td>58.910708</td>\n",
       "      <td>36.406218</td>\n",
       "      <td>0.884063</td>\n",
       "      <td>30.173968</td>\n",
       "      <td>29.150464</td>\n",
       "      <td>21.835137</td>\n",
       "    </tr>\n",
       "    <tr>\n",
       "      <th>6154</th>\n",
       "      <td>10/27/2021</td>\n",
       "      <td>3388.000000</td>\n",
       "      <td>3437.000000</td>\n",
       "      <td>3371.449951</td>\n",
       "      <td>3392.489990</td>\n",
       "      <td>3392.489990</td>\n",
       "      <td>2702200</td>\n",
       "      <td>3371.898047</td>\n",
       "      <td>3387.432031</td>\n",
       "      <td>68.942496</td>\n",
       "      <td>...</td>\n",
       "      <td>1</td>\n",
       "      <td>0.675676</td>\n",
       "      <td>3400.313314</td>\n",
       "      <td>3353.450265</td>\n",
       "      <td>58.707812</td>\n",
       "      <td>53.216142</td>\n",
       "      <td>1.180228</td>\n",
       "      <td>30.532162</td>\n",
       "      <td>27.007841</td>\n",
       "      <td>20.421165</td>\n",
       "    </tr>\n",
       "    <tr>\n",
       "      <th>6155</th>\n",
       "      <td>10/28/2021</td>\n",
       "      <td>3402.100098</td>\n",
       "      <td>3479.000000</td>\n",
       "      <td>3386.000000</td>\n",
       "      <td>3446.570068</td>\n",
       "      <td>3446.570068</td>\n",
       "      <td>5708700</td>\n",
       "      <td>3374.210058</td>\n",
       "      <td>3402.103027</td>\n",
       "      <td>86.638952</td>\n",
       "      <td>...</td>\n",
       "      <td>1</td>\n",
       "      <td>0.910010</td>\n",
       "      <td>3437.190023</td>\n",
       "      <td>3363.291219</td>\n",
       "      <td>58.017979</td>\n",
       "      <td>84.914831</td>\n",
       "      <td>2.448428</td>\n",
       "      <td>31.230088</td>\n",
       "      <td>23.356385</td>\n",
       "      <td>19.442353</td>\n",
       "    </tr>\n",
       "    <tr>\n",
       "      <th>6156</th>\n",
       "      <td>10/29/2021</td>\n",
       "      <td>3300.020020</td>\n",
       "      <td>3374.820068</td>\n",
       "      <td>3273.320068</td>\n",
       "      <td>3372.429932</td>\n",
       "      <td>3372.429932</td>\n",
       "      <td>6469500</td>\n",
       "      <td>3381.586035</td>\n",
       "      <td>3398.444018</td>\n",
       "      <td>56.093408</td>\n",
       "      <td>...</td>\n",
       "      <td>0</td>\n",
       "      <td>0.910010</td>\n",
       "      <td>3340.190023</td>\n",
       "      <td>3369.090739</td>\n",
       "      <td>51.065360</td>\n",
       "      <td>-37.730360</td>\n",
       "      <td>-0.023105</td>\n",
       "      <td>25.517342</td>\n",
       "      <td>30.476450</td>\n",
       "      <td>19.055512</td>\n",
       "    </tr>\n",
       "  </tbody>\n",
       "</table>\n",
       "<p>6143 rows × 31 columns</p>\n",
       "</div>"
      ],
      "text/plain": [
       "            Date         Open         High          Low        Close  \\\n",
       "14      6/5/1997     1.416667     1.541667     1.375000     1.541667   \n",
       "15      6/6/1997     1.515625     1.708333     1.510417     1.656250   \n",
       "16      6/9/1997     1.656250     1.708333     1.656250     1.687500   \n",
       "17     6/10/1997     1.708333     1.708333     1.531250     1.583333   \n",
       "18     6/11/1997     1.593750     1.604167     1.531250     1.541667   \n",
       "...          ...          ...          ...          ...          ...   \n",
       "6152  10/25/2021  3335.000000  3347.800049  3297.699951  3320.370117   \n",
       "6153  10/26/2021  3349.510010  3416.120117  3343.979980  3376.070068   \n",
       "6154  10/27/2021  3388.000000  3437.000000  3371.449951  3392.489990   \n",
       "6155  10/28/2021  3402.100098  3479.000000  3386.000000  3446.570068   \n",
       "6156  10/29/2021  3300.020020  3374.820068  3273.320068  3372.429932   \n",
       "\n",
       "        Adj Close   Volume         SMA5        SMA10  StochasticK  ...  \\\n",
       "14       1.541667  5672400     1.489584     1.496354    34.375033  ...   \n",
       "15       1.656250  7807200     1.520834     1.522396    75.000055  ...   \n",
       "16       1.687500  2352000     1.556250     1.541146    85.714286  ...   \n",
       "17       1.583333  5458800     1.577083     1.541146    68.421026  ...   \n",
       "18       1.541667  1188000     1.602083     1.542188    57.894870  ...   \n",
       "...           ...      ...          ...          ...          ...  ...   \n",
       "6152  3320.370117  2226000  3390.028027  3363.737036    46.075539  ...   \n",
       "6153  3376.070068  2698300  3376.412061  3376.611035    61.695644  ...   \n",
       "6154  3392.489990  2702200  3371.898047  3387.432031    68.942496  ...   \n",
       "6155  3446.570068  5708700  3374.210058  3402.103027    86.638952  ...   \n",
       "6156  3372.429932  6469500  3381.586035  3398.444018    56.093408  ...   \n",
       "\n",
       "      Direction       RSI           TP          sma        mad         CCI  \\\n",
       "14            1  0.203666     1.486111     1.540303   0.086788  -41.627398   \n",
       "15            1  0.282646     1.625000     1.527406   0.070206   92.673942   \n",
       "16            1  0.381194     1.684028     1.526166   0.068612  153.386632   \n",
       "17            0  0.381194     1.607639     1.521453   0.062553   91.852991   \n",
       "18            0  0.381194     1.559028     1.526910   0.063244   33.856459   \n",
       "...         ...       ...          ...          ...        ...         ...   \n",
       "6152          0  0.675676  3321.956706  3336.762172  62.706724  -15.740435   \n",
       "6153          1  0.675676  3378.723388  3346.552647  58.910708   36.406218   \n",
       "6154          1  0.675676  3400.313314  3353.450265  58.707812   53.216142   \n",
       "6155          1  0.910010  3437.190023  3363.291219  58.017979   84.914831   \n",
       "6156          0  0.910010  3340.190023  3369.090739  51.065360  -37.730360   \n",
       "\n",
       "             DI    plus_di   minus_di        adx  \n",
       "14     0.558137  15.325758  35.587723  50.226281  \n",
       "15     8.400292  28.199782  33.100980  43.640597  \n",
       "16    10.553252  26.704887  31.346268  30.868253  \n",
       "17     3.982389  23.183265  37.184473  24.801838  \n",
       "18     0.704759  23.604621  37.860301  24.430750  \n",
       "...         ...        ...        ...        ...  \n",
       "6152  -0.538225  24.299687  32.603451  22.462941  \n",
       "6153   0.884063  30.173968  29.150464  21.835137  \n",
       "6154   1.180228  30.532162  27.007841  20.421165  \n",
       "6155   2.448428  31.230088  23.356385  19.442353  \n",
       "6156  -0.023105  25.517342  30.476450  19.055512  \n",
       "\n",
       "[6143 rows x 31 columns]"
      ]
     },
     "execution_count": 123,
     "metadata": {},
     "output_type": "execute_result"
    }
   ],
   "source": [
    "data"
   ]
  }
 ],
 "metadata": {
  "kernelspec": {
   "display_name": "Python 3",
   "language": "python",
   "name": "python3"
  },
  "language_info": {
   "codemirror_mode": {
    "name": "ipython",
    "version": 3
   },
   "file_extension": ".py",
   "mimetype": "text/x-python",
   "name": "python",
   "nbconvert_exporter": "python",
   "pygments_lexer": "ipython3",
   "version": "3.8.5"
  }
 },
 "nbformat": 4,
 "nbformat_minor": 4
}
