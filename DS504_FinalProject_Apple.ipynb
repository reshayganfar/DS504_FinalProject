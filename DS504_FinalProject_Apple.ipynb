{
 "cells": [
  {
   "cell_type": "code",
   "execution_count": 1,
   "metadata": {},
   "outputs": [],
   "source": [
    "import numpy as np\n",
    "import pandas as pd\n",
    "import ta\n",
    "import seaborn as sn\n",
    "import matplotlib.pyplot as plt\n",
    "\n",
    "from sklearn.ensemble import RandomForestClassifier\n",
    "from sklearn.linear_model import LogisticRegression\n",
    "from sklearn.neighbors import KNeighborsClassifier\n",
    "from sklearn.svm import SVC\n",
    "from xgboost import XGBClassifier\n",
    "\n",
    "from ta import add_all_ta_features\n",
    "from ta import momentum\n",
    "from ta.utils import dropna"
   ]
  },
  {
   "cell_type": "code",
   "execution_count": 2,
   "metadata": {},
   "outputs": [],
   "source": [
    "#pip install xgboost"
   ]
  },
  {
   "cell_type": "code",
   "execution_count": 3,
   "metadata": {},
   "outputs": [
    {
     "name": "stdout",
     "output_type": "stream",
     "text": [
      "Requirement already satisfied: autofeat in c:\\users\\rshay\\anaconda3\\lib\\site-packages (2.0.10)\n",
      "Requirement already satisfied: numpy in c:\\users\\rshay\\anaconda3\\lib\\site-packages (from autofeat) (1.19.2)\n",
      "Requirement already satisfied: pint in c:\\users\\rshay\\anaconda3\\lib\\site-packages (from autofeat) (0.18)\n",
      "Requirement already satisfied: scikit-learn in c:\\users\\rshay\\anaconda3\\lib\\site-packages (from autofeat) (0.23.2)\n",
      "Requirement already satisfied: sympy>=1.7.1 in c:\\users\\rshay\\anaconda3\\lib\\site-packages (from autofeat) (1.9)\n",
      "Requirement already satisfied: future in c:\\users\\rshay\\anaconda3\\lib\\site-packages (from autofeat) (0.18.2)\n",
      "Requirement already satisfied: joblib in c:\\users\\rshay\\anaconda3\\lib\\site-packages (from autofeat) (0.17.0)\n",
      "Requirement already satisfied: numba in c:\\users\\rshay\\anaconda3\\lib\\site-packages (from autofeat) (0.51.2)\n",
      "Requirement already satisfied: pandas>=0.24.0 in c:\\users\\rshay\\anaconda3\\lib\\site-packages (from autofeat) (1.1.3)\n",
      "Requirement already satisfied: packaging in c:\\users\\rshay\\anaconda3\\lib\\site-packages (from pint->autofeat) (20.4)\n",
      "Requirement already satisfied: scipy>=0.19.1 in c:\\users\\rshay\\anaconda3\\lib\\site-packages (from scikit-learn->autofeat) (1.5.2)\n",
      "Requirement already satisfied: threadpoolctl>=2.0.0 in c:\\users\\rshay\\anaconda3\\lib\\site-packages (from scikit-learn->autofeat) (2.1.0)\n",
      "Requirement already satisfied: mpmath>=0.19 in c:\\users\\rshay\\anaconda3\\lib\\site-packages (from sympy>=1.7.1->autofeat) (1.1.0)\n",
      "Requirement already satisfied: llvmlite<0.35,>=0.34.0.dev0 in c:\\users\\rshay\\anaconda3\\lib\\site-packages (from numba->autofeat) (0.34.0)\n",
      "Requirement already satisfied: setuptools in c:\\users\\rshay\\anaconda3\\lib\\site-packages (from numba->autofeat) (50.3.1.post20201107)\n",
      "Requirement already satisfied: python-dateutil>=2.7.3 in c:\\users\\rshay\\anaconda3\\lib\\site-packages (from pandas>=0.24.0->autofeat) (2.8.1)\n",
      "Requirement already satisfied: pytz>=2017.2 in c:\\users\\rshay\\anaconda3\\lib\\site-packages (from pandas>=0.24.0->autofeat) (2020.1)\n",
      "Requirement already satisfied: pyparsing>=2.0.2 in c:\\users\\rshay\\anaconda3\\lib\\site-packages (from packaging->pint->autofeat) (2.4.7)\n",
      "Requirement already satisfied: six in c:\\users\\rshay\\anaconda3\\lib\\site-packages (from packaging->pint->autofeat) (1.15.0)\n",
      "Note: you may need to restart the kernel to use updated packages.\n"
     ]
    }
   ],
   "source": [
    "pip install autofeat"
   ]
  },
  {
   "cell_type": "code",
   "execution_count": 4,
   "metadata": {},
   "outputs": [],
   "source": [
    "def get_data(company_symbol):\n",
    "    return pd.read_csv(\"dataset/\"+company_symbol+\".csv\")"
   ]
  },
  {
   "cell_type": "code",
   "execution_count": 5,
   "metadata": {},
   "outputs": [
    {
     "data": {
      "text/html": [
       "<div>\n",
       "<style scoped>\n",
       "    .dataframe tbody tr th:only-of-type {\n",
       "        vertical-align: middle;\n",
       "    }\n",
       "\n",
       "    .dataframe tbody tr th {\n",
       "        vertical-align: top;\n",
       "    }\n",
       "\n",
       "    .dataframe thead th {\n",
       "        text-align: right;\n",
       "    }\n",
       "</style>\n",
       "<table border=\"1\" class=\"dataframe\">\n",
       "  <thead>\n",
       "    <tr style=\"text-align: right;\">\n",
       "      <th></th>\n",
       "      <th>Date</th>\n",
       "      <th>Open</th>\n",
       "      <th>High</th>\n",
       "      <th>Low</th>\n",
       "      <th>Close</th>\n",
       "      <th>Adj Close</th>\n",
       "      <th>Volume</th>\n",
       "    </tr>\n",
       "  </thead>\n",
       "  <tbody>\n",
       "    <tr>\n",
       "      <th>0</th>\n",
       "      <td>12/12/1980</td>\n",
       "      <td>0.128348</td>\n",
       "      <td>0.128906</td>\n",
       "      <td>0.128348</td>\n",
       "      <td>0.128348</td>\n",
       "      <td>0.100453</td>\n",
       "      <td>469033600</td>\n",
       "    </tr>\n",
       "    <tr>\n",
       "      <th>1</th>\n",
       "      <td>12/15/1980</td>\n",
       "      <td>0.122210</td>\n",
       "      <td>0.122210</td>\n",
       "      <td>0.121652</td>\n",
       "      <td>0.121652</td>\n",
       "      <td>0.095213</td>\n",
       "      <td>175884800</td>\n",
       "    </tr>\n",
       "    <tr>\n",
       "      <th>2</th>\n",
       "      <td>12/16/1980</td>\n",
       "      <td>0.113281</td>\n",
       "      <td>0.113281</td>\n",
       "      <td>0.112723</td>\n",
       "      <td>0.112723</td>\n",
       "      <td>0.088224</td>\n",
       "      <td>105728000</td>\n",
       "    </tr>\n",
       "    <tr>\n",
       "      <th>3</th>\n",
       "      <td>12/17/1980</td>\n",
       "      <td>0.115513</td>\n",
       "      <td>0.116071</td>\n",
       "      <td>0.115513</td>\n",
       "      <td>0.115513</td>\n",
       "      <td>0.090408</td>\n",
       "      <td>86441600</td>\n",
       "    </tr>\n",
       "    <tr>\n",
       "      <th>4</th>\n",
       "      <td>12/18/1980</td>\n",
       "      <td>0.118862</td>\n",
       "      <td>0.119420</td>\n",
       "      <td>0.118862</td>\n",
       "      <td>0.118862</td>\n",
       "      <td>0.093029</td>\n",
       "      <td>73449600</td>\n",
       "    </tr>\n",
       "    <tr>\n",
       "      <th>...</th>\n",
       "      <td>...</td>\n",
       "      <td>...</td>\n",
       "      <td>...</td>\n",
       "      <td>...</td>\n",
       "      <td>...</td>\n",
       "      <td>...</td>\n",
       "      <td>...</td>\n",
       "    </tr>\n",
       "    <tr>\n",
       "      <th>10321</th>\n",
       "      <td>11/18/2021</td>\n",
       "      <td>153.710007</td>\n",
       "      <td>158.669998</td>\n",
       "      <td>153.050003</td>\n",
       "      <td>157.869995</td>\n",
       "      <td>157.869995</td>\n",
       "      <td>137827700</td>\n",
       "    </tr>\n",
       "    <tr>\n",
       "      <th>10322</th>\n",
       "      <td>11/19/2021</td>\n",
       "      <td>157.649994</td>\n",
       "      <td>161.020004</td>\n",
       "      <td>156.529999</td>\n",
       "      <td>160.550003</td>\n",
       "      <td>160.550003</td>\n",
       "      <td>117147500</td>\n",
       "    </tr>\n",
       "    <tr>\n",
       "      <th>10323</th>\n",
       "      <td>11/22/2021</td>\n",
       "      <td>161.679993</td>\n",
       "      <td>165.699997</td>\n",
       "      <td>161.000000</td>\n",
       "      <td>161.020004</td>\n",
       "      <td>161.020004</td>\n",
       "      <td>117467900</td>\n",
       "    </tr>\n",
       "    <tr>\n",
       "      <th>10324</th>\n",
       "      <td>11/23/2021</td>\n",
       "      <td>161.119995</td>\n",
       "      <td>161.800003</td>\n",
       "      <td>159.059998</td>\n",
       "      <td>161.410004</td>\n",
       "      <td>161.410004</td>\n",
       "      <td>95933900</td>\n",
       "    </tr>\n",
       "    <tr>\n",
       "      <th>10325</th>\n",
       "      <td>11/24/2021</td>\n",
       "      <td>160.750000</td>\n",
       "      <td>162.139999</td>\n",
       "      <td>159.639999</td>\n",
       "      <td>161.940002</td>\n",
       "      <td>161.940002</td>\n",
       "      <td>69463600</td>\n",
       "    </tr>\n",
       "  </tbody>\n",
       "</table>\n",
       "<p>10326 rows × 7 columns</p>\n",
       "</div>"
      ],
      "text/plain": [
       "             Date        Open        High         Low       Close   Adj Close  \\\n",
       "0      12/12/1980    0.128348    0.128906    0.128348    0.128348    0.100453   \n",
       "1      12/15/1980    0.122210    0.122210    0.121652    0.121652    0.095213   \n",
       "2      12/16/1980    0.113281    0.113281    0.112723    0.112723    0.088224   \n",
       "3      12/17/1980    0.115513    0.116071    0.115513    0.115513    0.090408   \n",
       "4      12/18/1980    0.118862    0.119420    0.118862    0.118862    0.093029   \n",
       "...           ...         ...         ...         ...         ...         ...   \n",
       "10321  11/18/2021  153.710007  158.669998  153.050003  157.869995  157.869995   \n",
       "10322  11/19/2021  157.649994  161.020004  156.529999  160.550003  160.550003   \n",
       "10323  11/22/2021  161.679993  165.699997  161.000000  161.020004  161.020004   \n",
       "10324  11/23/2021  161.119995  161.800003  159.059998  161.410004  161.410004   \n",
       "10325  11/24/2021  160.750000  162.139999  159.639999  161.940002  161.940002   \n",
       "\n",
       "          Volume  \n",
       "0      469033600  \n",
       "1      175884800  \n",
       "2      105728000  \n",
       "3       86441600  \n",
       "4       73449600  \n",
       "...          ...  \n",
       "10321  137827700  \n",
       "10322  117147500  \n",
       "10323  117467900  \n",
       "10324   95933900  \n",
       "10325   69463600  \n",
       "\n",
       "[10326 rows x 7 columns]"
      ]
     },
     "execution_count": 5,
     "metadata": {},
     "output_type": "execute_result"
    }
   ],
   "source": [
    "data = get_data(\"AAPL\")\n",
    "data"
   ]
  },
  {
   "cell_type": "code",
   "execution_count": 6,
   "metadata": {},
   "outputs": [
    {
     "data": {
      "text/plain": [
       "Date          object\n",
       "Open         float64\n",
       "High         float64\n",
       "Low          float64\n",
       "Close        float64\n",
       "Adj Close    float64\n",
       "Volume         int64\n",
       "dtype: object"
      ]
     },
     "execution_count": 6,
     "metadata": {},
     "output_type": "execute_result"
    }
   ],
   "source": [
    "data.dtypes"
   ]
  },
  {
   "cell_type": "code",
   "execution_count": 7,
   "metadata": {},
   "outputs": [
    {
     "data": {
      "text/plain": [
       "Date         False\n",
       "Open         False\n",
       "High         False\n",
       "Low          False\n",
       "Close        False\n",
       "Adj Close    False\n",
       "Volume       False\n",
       "dtype: bool"
      ]
     },
     "execution_count": 7,
     "metadata": {},
     "output_type": "execute_result"
    }
   ],
   "source": [
    "data.isna().any()"
   ]
  },
  {
   "cell_type": "code",
   "execution_count": 8,
   "metadata": {},
   "outputs": [
    {
     "data": {
      "text/html": [
       "<div>\n",
       "<style scoped>\n",
       "    .dataframe tbody tr th:only-of-type {\n",
       "        vertical-align: middle;\n",
       "    }\n",
       "\n",
       "    .dataframe tbody tr th {\n",
       "        vertical-align: top;\n",
       "    }\n",
       "\n",
       "    .dataframe thead th {\n",
       "        text-align: right;\n",
       "    }\n",
       "</style>\n",
       "<table border=\"1\" class=\"dataframe\">\n",
       "  <thead>\n",
       "    <tr style=\"text-align: right;\">\n",
       "      <th></th>\n",
       "    </tr>\n",
       "  </thead>\n",
       "  <tbody>\n",
       "    <tr>\n",
       "      <th>0</th>\n",
       "    </tr>\n",
       "    <tr>\n",
       "      <th>1</th>\n",
       "    </tr>\n",
       "    <tr>\n",
       "      <th>2</th>\n",
       "    </tr>\n",
       "    <tr>\n",
       "      <th>3</th>\n",
       "    </tr>\n",
       "    <tr>\n",
       "      <th>4</th>\n",
       "    </tr>\n",
       "    <tr>\n",
       "      <th>...</th>\n",
       "    </tr>\n",
       "    <tr>\n",
       "      <th>10321</th>\n",
       "    </tr>\n",
       "    <tr>\n",
       "      <th>10322</th>\n",
       "    </tr>\n",
       "    <tr>\n",
       "      <th>10323</th>\n",
       "    </tr>\n",
       "    <tr>\n",
       "      <th>10324</th>\n",
       "    </tr>\n",
       "    <tr>\n",
       "      <th>10325</th>\n",
       "    </tr>\n",
       "  </tbody>\n",
       "</table>\n",
       "<p>10326 rows × 0 columns</p>\n",
       "</div>"
      ],
      "text/plain": [
       "Empty DataFrame\n",
       "Columns: []\n",
       "Index: [0, 1, 2, 3, 4, 5, 6, 7, 8, 9, 10, 11, 12, 13, 14, 15, 16, 17, 18, 19, 20, 21, 22, 23, 24, 25, 26, 27, 28, 29, 30, 31, 32, 33, 34, 35, 36, 37, 38, 39, 40, 41, 42, 43, 44, 45, 46, 47, 48, 49, 50, 51, 52, 53, 54, 55, 56, 57, 58, 59, 60, 61, 62, 63, 64, 65, 66, 67, 68, 69, 70, 71, 72, 73, 74, 75, 76, 77, 78, 79, 80, 81, 82, 83, 84, 85, 86, 87, 88, 89, 90, 91, 92, 93, 94, 95, 96, 97, 98, 99, ...]\n",
       "\n",
       "[10326 rows x 0 columns]"
      ]
     },
     "execution_count": 8,
     "metadata": {},
     "output_type": "execute_result"
    }
   ],
   "source": [
    "data[data.columns[data.isna().any()]]"
   ]
  },
  {
   "cell_type": "code",
   "execution_count": 9,
   "metadata": {},
   "outputs": [
    {
     "name": "stdout",
     "output_type": "stream",
     "text": [
      "             Date        Open        High         Low       Close   Adj Close  \\\n",
      "0      12/12/1980    0.128348    0.128906    0.128348    0.128348    0.100453   \n",
      "1      12/15/1980    0.122210    0.122210    0.121652    0.121652    0.095213   \n",
      "2      12/16/1980    0.113281    0.113281    0.112723    0.112723    0.088224   \n",
      "3      12/17/1980    0.115513    0.116071    0.115513    0.115513    0.090408   \n",
      "4      12/18/1980    0.118862    0.119420    0.118862    0.118862    0.093029   \n",
      "...           ...         ...         ...         ...         ...         ...   \n",
      "10321  11/18/2021  153.710007  158.669998  153.050003  157.869995  157.869995   \n",
      "10322  11/19/2021  157.649994  161.020004  156.529999  160.550003  160.550003   \n",
      "10323  11/22/2021  161.679993  165.699997  161.000000  161.020004  161.020004   \n",
      "10324  11/23/2021  161.119995  161.800003  159.059998  161.410004  161.410004   \n",
      "10325  11/24/2021  160.750000  162.139999  159.639999  161.940002  161.940002   \n",
      "\n",
      "          Volume  cond1  cond2  cond3  \n",
      "0      469033600  False  False  False  \n",
      "1      175884800  False  False  False  \n",
      "2      105728000  False  False  False  \n",
      "3       86441600  False  False  False  \n",
      "4       73449600  False  False  False  \n",
      "...          ...    ...    ...    ...  \n",
      "10321  137827700  False  False  False  \n",
      "10322  117147500  False  False  False  \n",
      "10323  117467900  False  False  False  \n",
      "10324   95933900  False  False  False  \n",
      "10325   69463600  False  False  False  \n",
      "\n",
      "[10326 rows x 10 columns]\n"
     ]
    }
   ],
   "source": [
    "cond1 = data.Date.isna() # aapl['Date'].isna()\n",
    "cond2 = data.Date.str.contains(r'^\\s*$', na=False)\n",
    "cond3 = data.Date == ''\n",
    "\n",
    "data_checked = data.assign(cond1= cond1, cond2= cond2, cond3= cond3)\n",
    "print (data_checked)"
   ]
  },
  {
   "cell_type": "code",
   "execution_count": 10,
   "metadata": {},
   "outputs": [],
   "source": [
    "def simple_moving_average_5(close):\n",
    "    return close.rolling(5, min_periods=1).mean()"
   ]
  },
  {
   "cell_type": "code",
   "execution_count": 11,
   "metadata": {},
   "outputs": [],
   "source": [
    "def simple_moving_average_10(close):\n",
    "    return close.rolling(10, min_periods=1).mean()"
   ]
  },
  {
   "cell_type": "code",
   "execution_count": 12,
   "metadata": {},
   "outputs": [],
   "source": [
    "def stochastic_k(high, low, close):\n",
    "    return (((close-low.rolling(14).min())/(high.rolling(14).max()-low.rolling(14).min()))*100)"
   ]
  },
  {
   "cell_type": "code",
   "execution_count": 13,
   "metadata": {},
   "outputs": [],
   "source": [
    "def stochastic_d(stochastic_k):\n",
    "    return stochastic_k.rolling(3,min_periods=1).mean()"
   ]
  },
  {
   "cell_type": "code",
   "execution_count": 14,
   "metadata": {},
   "outputs": [],
   "source": [
    "def larry_williams_r(high, low, close):\n",
    "    return (((high.rolling(14).max()-close)/(high.rolling(14).max()-low.rolling(14).min()))*100)"
   ]
  },
  {
   "cell_type": "code",
   "execution_count": 15,
   "metadata": {},
   "outputs": [],
   "source": [
    "def rate_of_change(close):\n",
    "    return ((close-close.shift(12))/close.shift(12))"
   ]
  },
  {
   "cell_type": "code",
   "execution_count": 16,
   "metadata": {},
   "outputs": [],
   "source": [
    "def price_volume_trend(close, volume):\n",
    "    return (((close-close.shift(1))/close.shift(1))*volume)"
   ]
  },
  {
   "cell_type": "code",
   "execution_count": 17,
   "metadata": {},
   "outputs": [],
   "source": [
    "def accumulation_distribution_oscillator(high, low, close):\n",
    "    return((high-close.shift(1))/(high-low))"
   ]
  },
  {
   "cell_type": "code",
   "execution_count": 18,
   "metadata": {},
   "outputs": [],
   "source": [
    "def weighted_moving_average_10(close):\n",
    "    return ((10*close+9*close.shift(1)+8*close.shift(2)+7*close.shift(3)\n",
    "             +6*close.shift(4)+5*close.shift(5)+4*close.shift(6)+3*close.shift(7)\n",
    "             +2*close.shift(8)+close.shift(9))/(10+9+8+7+6+5+4+3+2+1))"
   ]
  },
  {
   "cell_type": "code",
   "execution_count": 19,
   "metadata": {},
   "outputs": [],
   "source": [
    "def exponential_moving_average_12(close):\n",
    "    return (close.ewm(span=12, adjust=False).mean())"
   ]
  },
  {
   "cell_type": "code",
   "execution_count": 20,
   "metadata": {},
   "outputs": [],
   "source": [
    "def exponential_moving_average_26(close):\n",
    "    return (close.ewm(span=26, adjust=False).mean())"
   ]
  },
  {
   "cell_type": "code",
   "execution_count": 21,
   "metadata": {},
   "outputs": [],
   "source": [
    "def moving_average_convergence_divergence(ema_12, ema_26):\n",
    "    return (ema_12 - ema_26)"
   ]
  },
  {
   "cell_type": "code",
   "execution_count": 22,
   "metadata": {},
   "outputs": [],
   "source": [
    "def momentum(close):\n",
    "    return ((close/close.shift(14))*100)"
   ]
  },
  {
   "cell_type": "code",
   "execution_count": 23,
   "metadata": {},
   "outputs": [],
   "source": [
    "def change(close):\n",
    "    return (close.shift(-1) - close)"
   ]
  },
  {
   "cell_type": "code",
   "execution_count": 24,
   "metadata": {},
   "outputs": [],
   "source": [
    "def direction(change):\n",
    "    return (np.where(change>0, 1, 0))"
   ]
  },
  {
   "cell_type": "code",
   "execution_count": 25,
   "metadata": {},
   "outputs": [],
   "source": [
    "def relative_strength_index(direction):\n",
    "    return (100-(100/(1+(direction.rolling(14).sum()/14)/(14-direction.rolling(14).sum())/14)))"
   ]
  },
  {
   "cell_type": "code",
   "execution_count": 26,
   "metadata": {},
   "outputs": [],
   "source": [
    "def channel_commodity_index(df, ndays): \n",
    "    df['TP'] = (df['High'] + df['Low'] + df['Close']) / 3 \n",
    "    df['sma'] = df['TP'].rolling(ndays).mean()\n",
    "    df['mad'] = df['TP'].rolling(ndays).apply(lambda x: pd.Series(x).mad())\n",
    "    df['CCI'] = (df['TP'] - df['sma']) / (0.015 * df['mad']) \n",
    "    return df['CCI']"
   ]
  },
  {
   "cell_type": "code",
   "execution_count": 27,
   "metadata": {},
   "outputs": [],
   "source": [
    "def disparity_index(close):\n",
    "    return (((close - close.rolling(14).mean())/(close.rolling(14).mean()))*100)"
   ]
  },
  {
   "cell_type": "code",
   "execution_count": 28,
   "metadata": {},
   "outputs": [],
   "source": [
    "def get_adx(high, low, close, lookback):\n",
    "    plus_dm = high.diff()\n",
    "    minus_dm = low.diff()\n",
    "    plus_dm[plus_dm < 0] = 0\n",
    "    minus_dm[minus_dm > 0] = 0\n",
    "    \n",
    "    tr1 = pd.DataFrame(high - low)\n",
    "    tr2 = pd.DataFrame(abs(high - close.shift(1)))\n",
    "    tr3 = pd.DataFrame(abs(low - close.shift(1)))\n",
    "    frames = [tr1, tr2, tr3]\n",
    "    tr = pd.concat(frames, axis = 1, join = 'inner').max(axis = 1)\n",
    "    atr = tr.rolling(lookback).mean()\n",
    "    \n",
    "    plus_di = 100 * (plus_dm.ewm(alpha = 1/lookback).mean() / atr)\n",
    "    minus_di = abs(100 * (minus_dm.ewm(alpha = 1/lookback).mean() / atr))\n",
    "    dx = (abs(plus_di - minus_di) / abs(plus_di + minus_di)) * 100\n",
    "    adx = ((dx.shift(1) * (lookback - 1)) + dx) / lookback\n",
    "    adx_smooth = adx.ewm(alpha = 1/lookback).mean()\n",
    "    return adx_smooth"
   ]
  },
  {
   "cell_type": "code",
   "execution_count": 29,
   "metadata": {},
   "outputs": [],
   "source": [
    "def aroon(close):\n",
    "    return (ta.trend.AroonIndicator(close, 25, True).aroon_indicator())"
   ]
  },
  {
   "cell_type": "code",
   "execution_count": 30,
   "metadata": {},
   "outputs": [],
   "source": [
    "def compute_all_indicators(data):\n",
    "    data['SMA5'] = simple_moving_average_5(data['Close'])\n",
    "    data['SMA10'] = simple_moving_average_10(data['Close'])\n",
    "    data['StochasticK'] = stochastic_k(data['High'], data['Low'], data['Close'])\n",
    "    data['StochasticD'] = stochastic_d(data['StochasticK'])\n",
    "    data['LarryWilliamsR'] = larry_williams_r(data['High'], data['Low'], data['Close'])\n",
    "    data['ROC'] = rate_of_change(data['Close'])\n",
    "    data['PVT'] = price_volume_trend(data['Close'], data['Volume'])\n",
    "    data['ADO'] = accumulation_distribution_oscillator(data['High'], data['Low'], data['Close'])\n",
    "    data['WMA10'] = weighted_moving_average_10(data['Close'])\n",
    "    data['EMA12'] = exponential_moving_average_12(data['Close'])\n",
    "    data['EMA26'] = exponential_moving_average_26(data['Close'])\n",
    "    data['MACD'] = moving_average_convergence_divergence(data['EMA12'], data['EMA26'])\n",
    "    data['Momentum'] = momentum(data['Close'])\n",
    "    data['Change'] = change(data['Close'])\n",
    "    data['Direction'] = direction(data['Change'])\n",
    "    data['RSI'] = relative_strength_index(data['Direction'])\n",
    "    data['CCI'] = channel_commodity_index(data, 14)\n",
    "    data['DI'] = disparity_index(data['Close'])\n",
    "    data['ADX'] = get_adx(data['High'], data['Low'], data['Close'], 14)\n",
    "    data['Aroon'] = aroon(data['Close'])    \n",
    "    return data"
   ]
  },
  {
   "cell_type": "code",
   "execution_count": 31,
   "metadata": {},
   "outputs": [
    {
     "data": {
      "text/html": [
       "<div>\n",
       "<style scoped>\n",
       "    .dataframe tbody tr th:only-of-type {\n",
       "        vertical-align: middle;\n",
       "    }\n",
       "\n",
       "    .dataframe tbody tr th {\n",
       "        vertical-align: top;\n",
       "    }\n",
       "\n",
       "    .dataframe thead th {\n",
       "        text-align: right;\n",
       "    }\n",
       "</style>\n",
       "<table border=\"1\" class=\"dataframe\">\n",
       "  <thead>\n",
       "    <tr style=\"text-align: right;\">\n",
       "      <th></th>\n",
       "      <th>Date</th>\n",
       "      <th>Open</th>\n",
       "      <th>High</th>\n",
       "      <th>Low</th>\n",
       "      <th>Close</th>\n",
       "      <th>Adj Close</th>\n",
       "      <th>Volume</th>\n",
       "      <th>SMA5</th>\n",
       "      <th>SMA10</th>\n",
       "      <th>StochasticK</th>\n",
       "      <th>...</th>\n",
       "      <th>Change</th>\n",
       "      <th>Direction</th>\n",
       "      <th>RSI</th>\n",
       "      <th>TP</th>\n",
       "      <th>sma</th>\n",
       "      <th>mad</th>\n",
       "      <th>CCI</th>\n",
       "      <th>DI</th>\n",
       "      <th>ADX</th>\n",
       "      <th>Aroon</th>\n",
       "    </tr>\n",
       "  </thead>\n",
       "  <tbody>\n",
       "    <tr>\n",
       "      <th>0</th>\n",
       "      <td>12/12/1980</td>\n",
       "      <td>0.128348</td>\n",
       "      <td>0.128906</td>\n",
       "      <td>0.128348</td>\n",
       "      <td>0.128348</td>\n",
       "      <td>0.100453</td>\n",
       "      <td>469033600</td>\n",
       "      <td>0.128348</td>\n",
       "      <td>0.128348</td>\n",
       "      <td>NaN</td>\n",
       "      <td>...</td>\n",
       "      <td>-0.006696</td>\n",
       "      <td>0</td>\n",
       "      <td>NaN</td>\n",
       "      <td>0.128534</td>\n",
       "      <td>NaN</td>\n",
       "      <td>NaN</td>\n",
       "      <td>NaN</td>\n",
       "      <td>NaN</td>\n",
       "      <td>NaN</td>\n",
       "      <td>0.0</td>\n",
       "    </tr>\n",
       "    <tr>\n",
       "      <th>1</th>\n",
       "      <td>12/15/1980</td>\n",
       "      <td>0.122210</td>\n",
       "      <td>0.122210</td>\n",
       "      <td>0.121652</td>\n",
       "      <td>0.121652</td>\n",
       "      <td>0.095213</td>\n",
       "      <td>175884800</td>\n",
       "      <td>0.125000</td>\n",
       "      <td>0.125000</td>\n",
       "      <td>NaN</td>\n",
       "      <td>...</td>\n",
       "      <td>-0.008929</td>\n",
       "      <td>0</td>\n",
       "      <td>NaN</td>\n",
       "      <td>0.121838</td>\n",
       "      <td>NaN</td>\n",
       "      <td>NaN</td>\n",
       "      <td>NaN</td>\n",
       "      <td>NaN</td>\n",
       "      <td>NaN</td>\n",
       "      <td>-4.0</td>\n",
       "    </tr>\n",
       "    <tr>\n",
       "      <th>2</th>\n",
       "      <td>12/16/1980</td>\n",
       "      <td>0.113281</td>\n",
       "      <td>0.113281</td>\n",
       "      <td>0.112723</td>\n",
       "      <td>0.112723</td>\n",
       "      <td>0.088224</td>\n",
       "      <td>105728000</td>\n",
       "      <td>0.120908</td>\n",
       "      <td>0.120908</td>\n",
       "      <td>NaN</td>\n",
       "      <td>...</td>\n",
       "      <td>0.002790</td>\n",
       "      <td>1</td>\n",
       "      <td>NaN</td>\n",
       "      <td>0.112909</td>\n",
       "      <td>NaN</td>\n",
       "      <td>NaN</td>\n",
       "      <td>NaN</td>\n",
       "      <td>NaN</td>\n",
       "      <td>NaN</td>\n",
       "      <td>-8.0</td>\n",
       "    </tr>\n",
       "    <tr>\n",
       "      <th>3</th>\n",
       "      <td>12/17/1980</td>\n",
       "      <td>0.115513</td>\n",
       "      <td>0.116071</td>\n",
       "      <td>0.115513</td>\n",
       "      <td>0.115513</td>\n",
       "      <td>0.090408</td>\n",
       "      <td>86441600</td>\n",
       "      <td>0.119559</td>\n",
       "      <td>0.119559</td>\n",
       "      <td>NaN</td>\n",
       "      <td>...</td>\n",
       "      <td>0.003349</td>\n",
       "      <td>1</td>\n",
       "      <td>NaN</td>\n",
       "      <td>0.115699</td>\n",
       "      <td>NaN</td>\n",
       "      <td>NaN</td>\n",
       "      <td>NaN</td>\n",
       "      <td>NaN</td>\n",
       "      <td>NaN</td>\n",
       "      <td>-8.0</td>\n",
       "    </tr>\n",
       "    <tr>\n",
       "      <th>4</th>\n",
       "      <td>12/18/1980</td>\n",
       "      <td>0.118862</td>\n",
       "      <td>0.119420</td>\n",
       "      <td>0.118862</td>\n",
       "      <td>0.118862</td>\n",
       "      <td>0.093029</td>\n",
       "      <td>73449600</td>\n",
       "      <td>0.119420</td>\n",
       "      <td>0.119420</td>\n",
       "      <td>NaN</td>\n",
       "      <td>...</td>\n",
       "      <td>0.007254</td>\n",
       "      <td>1</td>\n",
       "      <td>NaN</td>\n",
       "      <td>0.119048</td>\n",
       "      <td>NaN</td>\n",
       "      <td>NaN</td>\n",
       "      <td>NaN</td>\n",
       "      <td>NaN</td>\n",
       "      <td>NaN</td>\n",
       "      <td>-8.0</td>\n",
       "    </tr>\n",
       "    <tr>\n",
       "      <th>...</th>\n",
       "      <td>...</td>\n",
       "      <td>...</td>\n",
       "      <td>...</td>\n",
       "      <td>...</td>\n",
       "      <td>...</td>\n",
       "      <td>...</td>\n",
       "      <td>...</td>\n",
       "      <td>...</td>\n",
       "      <td>...</td>\n",
       "      <td>...</td>\n",
       "      <td>...</td>\n",
       "      <td>...</td>\n",
       "      <td>...</td>\n",
       "      <td>...</td>\n",
       "      <td>...</td>\n",
       "      <td>...</td>\n",
       "      <td>...</td>\n",
       "      <td>...</td>\n",
       "      <td>...</td>\n",
       "      <td>...</td>\n",
       "      <td>...</td>\n",
       "    </tr>\n",
       "    <tr>\n",
       "      <th>10321</th>\n",
       "      <td>11/18/2021</td>\n",
       "      <td>153.710007</td>\n",
       "      <td>158.669998</td>\n",
       "      <td>153.050003</td>\n",
       "      <td>157.869995</td>\n",
       "      <td>157.869995</td>\n",
       "      <td>137827700</td>\n",
       "      <td>152.470001</td>\n",
       "      <td>151.067000</td>\n",
       "      <td>92.850734</td>\n",
       "      <td>...</td>\n",
       "      <td>2.680008</td>\n",
       "      <td>1</td>\n",
       "      <td>1.259446</td>\n",
       "      <td>156.529999</td>\n",
       "      <td>150.785238</td>\n",
       "      <td>1.340068</td>\n",
       "      <td>285.794377</td>\n",
       "      <td>4.643715</td>\n",
       "      <td>15.458962</td>\n",
       "      <td>96.0</td>\n",
       "    </tr>\n",
       "    <tr>\n",
       "      <th>10322</th>\n",
       "      <td>11/19/2021</td>\n",
       "      <td>157.649994</td>\n",
       "      <td>161.020004</td>\n",
       "      <td>156.529999</td>\n",
       "      <td>160.550003</td>\n",
       "      <td>160.550003</td>\n",
       "      <td>117147500</td>\n",
       "      <td>154.582001</td>\n",
       "      <td>151.994000</td>\n",
       "      <td>96.528798</td>\n",
       "      <td>...</td>\n",
       "      <td>0.470001</td>\n",
       "      <td>1</td>\n",
       "      <td>1.259446</td>\n",
       "      <td>159.366669</td>\n",
       "      <td>151.538572</td>\n",
       "      <td>2.062994</td>\n",
       "      <td>252.968849</td>\n",
       "      <td>5.839366</td>\n",
       "      <td>17.452579</td>\n",
       "      <td>96.0</td>\n",
       "    </tr>\n",
       "    <tr>\n",
       "      <th>10323</th>\n",
       "      <td>11/22/2021</td>\n",
       "      <td>161.679993</td>\n",
       "      <td>165.699997</td>\n",
       "      <td>161.000000</td>\n",
       "      <td>161.020004</td>\n",
       "      <td>161.020004</td>\n",
       "      <td>117467900</td>\n",
       "      <td>156.786001</td>\n",
       "      <td>153.052000</td>\n",
       "      <td>74.313981</td>\n",
       "      <td>...</td>\n",
       "      <td>0.390000</td>\n",
       "      <td>1</td>\n",
       "      <td>1.259446</td>\n",
       "      <td>162.573334</td>\n",
       "      <td>152.430953</td>\n",
       "      <td>3.129456</td>\n",
       "      <td>216.062687</td>\n",
       "      <td>5.602220</td>\n",
       "      <td>19.791095</td>\n",
       "      <td>28.0</td>\n",
       "    </tr>\n",
       "    <tr>\n",
       "      <th>10324</th>\n",
       "      <td>11/23/2021</td>\n",
       "      <td>161.119995</td>\n",
       "      <td>161.800003</td>\n",
       "      <td>159.059998</td>\n",
       "      <td>161.410004</td>\n",
       "      <td>161.410004</td>\n",
       "      <td>95933900</td>\n",
       "      <td>158.868002</td>\n",
       "      <td>154.112001</td>\n",
       "      <td>76.454485</td>\n",
       "      <td>...</td>\n",
       "      <td>0.529998</td>\n",
       "      <td>1</td>\n",
       "      <td>1.836394</td>\n",
       "      <td>160.756668</td>\n",
       "      <td>153.121190</td>\n",
       "      <td>3.825817</td>\n",
       "      <td>133.051798</td>\n",
       "      <td>5.368344</td>\n",
       "      <td>22.560291</td>\n",
       "      <td>32.0</td>\n",
       "    </tr>\n",
       "    <tr>\n",
       "      <th>10325</th>\n",
       "      <td>11/24/2021</td>\n",
       "      <td>160.750000</td>\n",
       "      <td>162.139999</td>\n",
       "      <td>159.639999</td>\n",
       "      <td>161.940002</td>\n",
       "      <td>161.940002</td>\n",
       "      <td>69463600</td>\n",
       "      <td>160.558002</td>\n",
       "      <td>155.514001</td>\n",
       "      <td>79.363366</td>\n",
       "      <td>...</td>\n",
       "      <td>NaN</td>\n",
       "      <td>0</td>\n",
       "      <td>1.259446</td>\n",
       "      <td>161.240000</td>\n",
       "      <td>153.828095</td>\n",
       "      <td>4.475170</td>\n",
       "      <td>110.415232</td>\n",
       "      <td>5.175846</td>\n",
       "      <td>24.276345</td>\n",
       "      <td>36.0</td>\n",
       "    </tr>\n",
       "  </tbody>\n",
       "</table>\n",
       "<p>10326 rows × 30 columns</p>\n",
       "</div>"
      ],
      "text/plain": [
       "             Date        Open        High         Low       Close   Adj Close  \\\n",
       "0      12/12/1980    0.128348    0.128906    0.128348    0.128348    0.100453   \n",
       "1      12/15/1980    0.122210    0.122210    0.121652    0.121652    0.095213   \n",
       "2      12/16/1980    0.113281    0.113281    0.112723    0.112723    0.088224   \n",
       "3      12/17/1980    0.115513    0.116071    0.115513    0.115513    0.090408   \n",
       "4      12/18/1980    0.118862    0.119420    0.118862    0.118862    0.093029   \n",
       "...           ...         ...         ...         ...         ...         ...   \n",
       "10321  11/18/2021  153.710007  158.669998  153.050003  157.869995  157.869995   \n",
       "10322  11/19/2021  157.649994  161.020004  156.529999  160.550003  160.550003   \n",
       "10323  11/22/2021  161.679993  165.699997  161.000000  161.020004  161.020004   \n",
       "10324  11/23/2021  161.119995  161.800003  159.059998  161.410004  161.410004   \n",
       "10325  11/24/2021  160.750000  162.139999  159.639999  161.940002  161.940002   \n",
       "\n",
       "          Volume        SMA5       SMA10  StochasticK  ...    Change  \\\n",
       "0      469033600    0.128348    0.128348          NaN  ... -0.006696   \n",
       "1      175884800    0.125000    0.125000          NaN  ... -0.008929   \n",
       "2      105728000    0.120908    0.120908          NaN  ...  0.002790   \n",
       "3       86441600    0.119559    0.119559          NaN  ...  0.003349   \n",
       "4       73449600    0.119420    0.119420          NaN  ...  0.007254   \n",
       "...          ...         ...         ...          ...  ...       ...   \n",
       "10321  137827700  152.470001  151.067000    92.850734  ...  2.680008   \n",
       "10322  117147500  154.582001  151.994000    96.528798  ...  0.470001   \n",
       "10323  117467900  156.786001  153.052000    74.313981  ...  0.390000   \n",
       "10324   95933900  158.868002  154.112001    76.454485  ...  0.529998   \n",
       "10325   69463600  160.558002  155.514001    79.363366  ...       NaN   \n",
       "\n",
       "       Direction       RSI          TP         sma       mad         CCI  \\\n",
       "0              0       NaN    0.128534         NaN       NaN         NaN   \n",
       "1              0       NaN    0.121838         NaN       NaN         NaN   \n",
       "2              1       NaN    0.112909         NaN       NaN         NaN   \n",
       "3              1       NaN    0.115699         NaN       NaN         NaN   \n",
       "4              1       NaN    0.119048         NaN       NaN         NaN   \n",
       "...          ...       ...         ...         ...       ...         ...   \n",
       "10321          1  1.259446  156.529999  150.785238  1.340068  285.794377   \n",
       "10322          1  1.259446  159.366669  151.538572  2.062994  252.968849   \n",
       "10323          1  1.259446  162.573334  152.430953  3.129456  216.062687   \n",
       "10324          1  1.836394  160.756668  153.121190  3.825817  133.051798   \n",
       "10325          0  1.259446  161.240000  153.828095  4.475170  110.415232   \n",
       "\n",
       "             DI        ADX  Aroon  \n",
       "0           NaN        NaN    0.0  \n",
       "1           NaN        NaN   -4.0  \n",
       "2           NaN        NaN   -8.0  \n",
       "3           NaN        NaN   -8.0  \n",
       "4           NaN        NaN   -8.0  \n",
       "...         ...        ...    ...  \n",
       "10321  4.643715  15.458962   96.0  \n",
       "10322  5.839366  17.452579   96.0  \n",
       "10323  5.602220  19.791095   28.0  \n",
       "10324  5.368344  22.560291   32.0  \n",
       "10325  5.175846  24.276345   36.0  \n",
       "\n",
       "[10326 rows x 30 columns]"
      ]
     },
     "execution_count": 31,
     "metadata": {},
     "output_type": "execute_result"
    }
   ],
   "source": [
    "complete_data = compute_all_indicators(data)\n",
    "complete_data"
   ]
  },
  {
   "cell_type": "code",
   "execution_count": 32,
   "metadata": {},
   "outputs": [],
   "source": [
    "complete_data = complete_data.dropna()"
   ]
  },
  {
   "cell_type": "code",
   "execution_count": 33,
   "metadata": {},
   "outputs": [
    {
     "data": {
      "text/html": [
       "<div>\n",
       "<style scoped>\n",
       "    .dataframe tbody tr th:only-of-type {\n",
       "        vertical-align: middle;\n",
       "    }\n",
       "\n",
       "    .dataframe tbody tr th {\n",
       "        vertical-align: top;\n",
       "    }\n",
       "\n",
       "    .dataframe thead th {\n",
       "        text-align: right;\n",
       "    }\n",
       "</style>\n",
       "<table border=\"1\" class=\"dataframe\">\n",
       "  <thead>\n",
       "    <tr style=\"text-align: right;\">\n",
       "      <th></th>\n",
       "      <th>Date</th>\n",
       "      <th>Open</th>\n",
       "      <th>High</th>\n",
       "      <th>Low</th>\n",
       "      <th>Close</th>\n",
       "      <th>Adj Close</th>\n",
       "      <th>Volume</th>\n",
       "      <th>SMA5</th>\n",
       "      <th>SMA10</th>\n",
       "      <th>StochasticK</th>\n",
       "      <th>...</th>\n",
       "      <th>Change</th>\n",
       "      <th>Direction</th>\n",
       "      <th>RSI</th>\n",
       "      <th>TP</th>\n",
       "      <th>sma</th>\n",
       "      <th>mad</th>\n",
       "      <th>CCI</th>\n",
       "      <th>DI</th>\n",
       "      <th>ADX</th>\n",
       "      <th>Aroon</th>\n",
       "    </tr>\n",
       "  </thead>\n",
       "  <tbody>\n",
       "    <tr>\n",
       "      <th>14</th>\n",
       "      <td>1/5/1981</td>\n",
       "      <td>0.151228</td>\n",
       "      <td>0.151228</td>\n",
       "      <td>0.150670</td>\n",
       "      <td>0.150670</td>\n",
       "      <td>0.117924</td>\n",
       "      <td>35728000</td>\n",
       "      <td>0.154911</td>\n",
       "      <td>0.147433</td>\n",
       "      <td>78.162269</td>\n",
       "      <td>...</td>\n",
       "      <td>-0.006697</td>\n",
       "      <td>0</td>\n",
       "      <td>0.910010</td>\n",
       "      <td>0.150856</td>\n",
       "      <td>0.138991</td>\n",
       "      <td>0.015240</td>\n",
       "      <td>51.905087</td>\n",
       "      <td>8.558577</td>\n",
       "      <td>39.422947</td>\n",
       "      <td>32.0</td>\n",
       "    </tr>\n",
       "    <tr>\n",
       "      <th>15</th>\n",
       "      <td>1/6/1981</td>\n",
       "      <td>0.144531</td>\n",
       "      <td>0.144531</td>\n",
       "      <td>0.143973</td>\n",
       "      <td>0.143973</td>\n",
       "      <td>0.112683</td>\n",
       "      <td>45158400</td>\n",
       "      <td>0.151563</td>\n",
       "      <td>0.149219</td>\n",
       "      <td>64.367958</td>\n",
       "      <td>...</td>\n",
       "      <td>-0.006138</td>\n",
       "      <td>0</td>\n",
       "      <td>0.910010</td>\n",
       "      <td>0.144159</td>\n",
       "      <td>0.140585</td>\n",
       "      <td>0.014156</td>\n",
       "      <td>16.831178</td>\n",
       "      <td>2.555255</td>\n",
       "      <td>34.025492</td>\n",
       "      <td>32.0</td>\n",
       "    </tr>\n",
       "    <tr>\n",
       "      <th>16</th>\n",
       "      <td>1/7/1981</td>\n",
       "      <td>0.138393</td>\n",
       "      <td>0.138393</td>\n",
       "      <td>0.137835</td>\n",
       "      <td>0.137835</td>\n",
       "      <td>0.107879</td>\n",
       "      <td>55686400</td>\n",
       "      <td>0.147768</td>\n",
       "      <td>0.149777</td>\n",
       "      <td>48.781660</td>\n",
       "      <td>...</td>\n",
       "      <td>-0.002790</td>\n",
       "      <td>0</td>\n",
       "      <td>0.675676</td>\n",
       "      <td>0.138021</td>\n",
       "      <td>0.142379</td>\n",
       "      <td>0.012106</td>\n",
       "      <td>-23.998205</td>\n",
       "      <td>-3.055644</td>\n",
       "      <td>26.178222</td>\n",
       "      <td>32.0</td>\n",
       "    </tr>\n",
       "    <tr>\n",
       "      <th>17</th>\n",
       "      <td>1/8/1981</td>\n",
       "      <td>0.135603</td>\n",
       "      <td>0.135603</td>\n",
       "      <td>0.135045</td>\n",
       "      <td>0.135045</td>\n",
       "      <td>0.105695</td>\n",
       "      <td>39827200</td>\n",
       "      <td>0.144308</td>\n",
       "      <td>0.149498</td>\n",
       "      <td>38.158453</td>\n",
       "      <td>...</td>\n",
       "      <td>0.007254</td>\n",
       "      <td>1</td>\n",
       "      <td>0.675676</td>\n",
       "      <td>0.135231</td>\n",
       "      <td>0.143774</td>\n",
       "      <td>0.010511</td>\n",
       "      <td>-54.181713</td>\n",
       "      <td>-5.940912</td>\n",
       "      <td>19.002172</td>\n",
       "      <td>32.0</td>\n",
       "    </tr>\n",
       "    <tr>\n",
       "      <th>18</th>\n",
       "      <td>1/9/1981</td>\n",
       "      <td>0.142299</td>\n",
       "      <td>0.142857</td>\n",
       "      <td>0.142299</td>\n",
       "      <td>0.142299</td>\n",
       "      <td>0.111372</td>\n",
       "      <td>21504000</td>\n",
       "      <td>0.141964</td>\n",
       "      <td>0.149219</td>\n",
       "      <td>46.031972</td>\n",
       "      <td>...</td>\n",
       "      <td>-0.001116</td>\n",
       "      <td>0</td>\n",
       "      <td>0.507614</td>\n",
       "      <td>0.142485</td>\n",
       "      <td>0.145448</td>\n",
       "      <td>0.008807</td>\n",
       "      <td>-22.428997</td>\n",
       "      <td>-2.030802</td>\n",
       "      <td>15.894879</td>\n",
       "      <td>32.0</td>\n",
       "    </tr>\n",
       "    <tr>\n",
       "      <th>...</th>\n",
       "      <td>...</td>\n",
       "      <td>...</td>\n",
       "      <td>...</td>\n",
       "      <td>...</td>\n",
       "      <td>...</td>\n",
       "      <td>...</td>\n",
       "      <td>...</td>\n",
       "      <td>...</td>\n",
       "      <td>...</td>\n",
       "      <td>...</td>\n",
       "      <td>...</td>\n",
       "      <td>...</td>\n",
       "      <td>...</td>\n",
       "      <td>...</td>\n",
       "      <td>...</td>\n",
       "      <td>...</td>\n",
       "      <td>...</td>\n",
       "      <td>...</td>\n",
       "      <td>...</td>\n",
       "      <td>...</td>\n",
       "      <td>...</td>\n",
       "    </tr>\n",
       "    <tr>\n",
       "      <th>10320</th>\n",
       "      <td>11/17/2021</td>\n",
       "      <td>151.000000</td>\n",
       "      <td>155.000000</td>\n",
       "      <td>150.990005</td>\n",
       "      <td>153.490005</td>\n",
       "      <td>153.490005</td>\n",
       "      <td>88807000</td>\n",
       "      <td>150.470001</td>\n",
       "      <td>150.376001</td>\n",
       "      <td>82.421470</td>\n",
       "      <td>...</td>\n",
       "      <td>4.379990</td>\n",
       "      <td>1</td>\n",
       "      <td>0.910010</td>\n",
       "      <td>153.160003</td>\n",
       "      <td>150.227143</td>\n",
       "      <td>1.070885</td>\n",
       "      <td>182.581771</td>\n",
       "      <td>2.130675</td>\n",
       "      <td>14.297264</td>\n",
       "      <td>96.0</td>\n",
       "    </tr>\n",
       "    <tr>\n",
       "      <th>10321</th>\n",
       "      <td>11/18/2021</td>\n",
       "      <td>153.710007</td>\n",
       "      <td>158.669998</td>\n",
       "      <td>153.050003</td>\n",
       "      <td>157.869995</td>\n",
       "      <td>157.869995</td>\n",
       "      <td>137827700</td>\n",
       "      <td>152.470001</td>\n",
       "      <td>151.067000</td>\n",
       "      <td>92.850734</td>\n",
       "      <td>...</td>\n",
       "      <td>2.680008</td>\n",
       "      <td>1</td>\n",
       "      <td>1.259446</td>\n",
       "      <td>156.529999</td>\n",
       "      <td>150.785238</td>\n",
       "      <td>1.340068</td>\n",
       "      <td>285.794377</td>\n",
       "      <td>4.643715</td>\n",
       "      <td>15.458962</td>\n",
       "      <td>96.0</td>\n",
       "    </tr>\n",
       "    <tr>\n",
       "      <th>10322</th>\n",
       "      <td>11/19/2021</td>\n",
       "      <td>157.649994</td>\n",
       "      <td>161.020004</td>\n",
       "      <td>156.529999</td>\n",
       "      <td>160.550003</td>\n",
       "      <td>160.550003</td>\n",
       "      <td>117147500</td>\n",
       "      <td>154.582001</td>\n",
       "      <td>151.994000</td>\n",
       "      <td>96.528798</td>\n",
       "      <td>...</td>\n",
       "      <td>0.470001</td>\n",
       "      <td>1</td>\n",
       "      <td>1.259446</td>\n",
       "      <td>159.366669</td>\n",
       "      <td>151.538572</td>\n",
       "      <td>2.062994</td>\n",
       "      <td>252.968849</td>\n",
       "      <td>5.839366</td>\n",
       "      <td>17.452579</td>\n",
       "      <td>96.0</td>\n",
       "    </tr>\n",
       "    <tr>\n",
       "      <th>10323</th>\n",
       "      <td>11/22/2021</td>\n",
       "      <td>161.679993</td>\n",
       "      <td>165.699997</td>\n",
       "      <td>161.000000</td>\n",
       "      <td>161.020004</td>\n",
       "      <td>161.020004</td>\n",
       "      <td>117467900</td>\n",
       "      <td>156.786001</td>\n",
       "      <td>153.052000</td>\n",
       "      <td>74.313981</td>\n",
       "      <td>...</td>\n",
       "      <td>0.390000</td>\n",
       "      <td>1</td>\n",
       "      <td>1.259446</td>\n",
       "      <td>162.573334</td>\n",
       "      <td>152.430953</td>\n",
       "      <td>3.129456</td>\n",
       "      <td>216.062687</td>\n",
       "      <td>5.602220</td>\n",
       "      <td>19.791095</td>\n",
       "      <td>28.0</td>\n",
       "    </tr>\n",
       "    <tr>\n",
       "      <th>10324</th>\n",
       "      <td>11/23/2021</td>\n",
       "      <td>161.119995</td>\n",
       "      <td>161.800003</td>\n",
       "      <td>159.059998</td>\n",
       "      <td>161.410004</td>\n",
       "      <td>161.410004</td>\n",
       "      <td>95933900</td>\n",
       "      <td>158.868002</td>\n",
       "      <td>154.112001</td>\n",
       "      <td>76.454485</td>\n",
       "      <td>...</td>\n",
       "      <td>0.529998</td>\n",
       "      <td>1</td>\n",
       "      <td>1.836394</td>\n",
       "      <td>160.756668</td>\n",
       "      <td>153.121190</td>\n",
       "      <td>3.825817</td>\n",
       "      <td>133.051798</td>\n",
       "      <td>5.368344</td>\n",
       "      <td>22.560291</td>\n",
       "      <td>32.0</td>\n",
       "    </tr>\n",
       "  </tbody>\n",
       "</table>\n",
       "<p>10309 rows × 30 columns</p>\n",
       "</div>"
      ],
      "text/plain": [
       "             Date        Open        High         Low       Close   Adj Close  \\\n",
       "14       1/5/1981    0.151228    0.151228    0.150670    0.150670    0.117924   \n",
       "15       1/6/1981    0.144531    0.144531    0.143973    0.143973    0.112683   \n",
       "16       1/7/1981    0.138393    0.138393    0.137835    0.137835    0.107879   \n",
       "17       1/8/1981    0.135603    0.135603    0.135045    0.135045    0.105695   \n",
       "18       1/9/1981    0.142299    0.142857    0.142299    0.142299    0.111372   \n",
       "...           ...         ...         ...         ...         ...         ...   \n",
       "10320  11/17/2021  151.000000  155.000000  150.990005  153.490005  153.490005   \n",
       "10321  11/18/2021  153.710007  158.669998  153.050003  157.869995  157.869995   \n",
       "10322  11/19/2021  157.649994  161.020004  156.529999  160.550003  160.550003   \n",
       "10323  11/22/2021  161.679993  165.699997  161.000000  161.020004  161.020004   \n",
       "10324  11/23/2021  161.119995  161.800003  159.059998  161.410004  161.410004   \n",
       "\n",
       "          Volume        SMA5       SMA10  StochasticK  ...    Change  \\\n",
       "14      35728000    0.154911    0.147433    78.162269  ... -0.006697   \n",
       "15      45158400    0.151563    0.149219    64.367958  ... -0.006138   \n",
       "16      55686400    0.147768    0.149777    48.781660  ... -0.002790   \n",
       "17      39827200    0.144308    0.149498    38.158453  ...  0.007254   \n",
       "18      21504000    0.141964    0.149219    46.031972  ... -0.001116   \n",
       "...          ...         ...         ...          ...  ...       ...   \n",
       "10320   88807000  150.470001  150.376001    82.421470  ...  4.379990   \n",
       "10321  137827700  152.470001  151.067000    92.850734  ...  2.680008   \n",
       "10322  117147500  154.582001  151.994000    96.528798  ...  0.470001   \n",
       "10323  117467900  156.786001  153.052000    74.313981  ...  0.390000   \n",
       "10324   95933900  158.868002  154.112001    76.454485  ...  0.529998   \n",
       "\n",
       "       Direction       RSI          TP         sma       mad         CCI  \\\n",
       "14             0  0.910010    0.150856    0.138991  0.015240   51.905087   \n",
       "15             0  0.910010    0.144159    0.140585  0.014156   16.831178   \n",
       "16             0  0.675676    0.138021    0.142379  0.012106  -23.998205   \n",
       "17             1  0.675676    0.135231    0.143774  0.010511  -54.181713   \n",
       "18             0  0.507614    0.142485    0.145448  0.008807  -22.428997   \n",
       "...          ...       ...         ...         ...       ...         ...   \n",
       "10320          1  0.910010  153.160003  150.227143  1.070885  182.581771   \n",
       "10321          1  1.259446  156.529999  150.785238  1.340068  285.794377   \n",
       "10322          1  1.259446  159.366669  151.538572  2.062994  252.968849   \n",
       "10323          1  1.259446  162.573334  152.430953  3.129456  216.062687   \n",
       "10324          1  1.836394  160.756668  153.121190  3.825817  133.051798   \n",
       "\n",
       "             DI        ADX  Aroon  \n",
       "14     8.558577  39.422947   32.0  \n",
       "15     2.555255  34.025492   32.0  \n",
       "16    -3.055644  26.178222   32.0  \n",
       "17    -5.940912  19.002172   32.0  \n",
       "18    -2.030802  15.894879   32.0  \n",
       "...         ...        ...    ...  \n",
       "10320  2.130675  14.297264   96.0  \n",
       "10321  4.643715  15.458962   96.0  \n",
       "10322  5.839366  17.452579   96.0  \n",
       "10323  5.602220  19.791095   28.0  \n",
       "10324  5.368344  22.560291   32.0  \n",
       "\n",
       "[10309 rows x 30 columns]"
      ]
     },
     "execution_count": 33,
     "metadata": {},
     "output_type": "execute_result"
    }
   ],
   "source": [
    "complete_data"
   ]
  },
  {
   "cell_type": "code",
   "execution_count": 34,
   "metadata": {},
   "outputs": [],
   "source": [
    "complete_data = complete_data.drop(['TP', 'sma', 'mad', 'Change'], axis=1)"
   ]
  },
  {
   "cell_type": "code",
   "execution_count": 35,
   "metadata": {},
   "outputs": [
    {
     "data": {
      "text/html": [
       "<div>\n",
       "<style scoped>\n",
       "    .dataframe tbody tr th:only-of-type {\n",
       "        vertical-align: middle;\n",
       "    }\n",
       "\n",
       "    .dataframe tbody tr th {\n",
       "        vertical-align: top;\n",
       "    }\n",
       "\n",
       "    .dataframe thead th {\n",
       "        text-align: right;\n",
       "    }\n",
       "</style>\n",
       "<table border=\"1\" class=\"dataframe\">\n",
       "  <thead>\n",
       "    <tr style=\"text-align: right;\">\n",
       "      <th></th>\n",
       "      <th>Date</th>\n",
       "      <th>Open</th>\n",
       "      <th>High</th>\n",
       "      <th>Low</th>\n",
       "      <th>Close</th>\n",
       "      <th>Adj Close</th>\n",
       "      <th>Volume</th>\n",
       "      <th>SMA5</th>\n",
       "      <th>SMA10</th>\n",
       "      <th>StochasticK</th>\n",
       "      <th>...</th>\n",
       "      <th>EMA12</th>\n",
       "      <th>EMA26</th>\n",
       "      <th>MACD</th>\n",
       "      <th>Momentum</th>\n",
       "      <th>Direction</th>\n",
       "      <th>RSI</th>\n",
       "      <th>CCI</th>\n",
       "      <th>DI</th>\n",
       "      <th>ADX</th>\n",
       "      <th>Aroon</th>\n",
       "    </tr>\n",
       "  </thead>\n",
       "  <tbody>\n",
       "    <tr>\n",
       "      <th>14</th>\n",
       "      <td>1/5/1981</td>\n",
       "      <td>0.151228</td>\n",
       "      <td>0.151228</td>\n",
       "      <td>0.150670</td>\n",
       "      <td>0.150670</td>\n",
       "      <td>0.117924</td>\n",
       "      <td>35728000</td>\n",
       "      <td>0.154911</td>\n",
       "      <td>0.147433</td>\n",
       "      <td>78.162269</td>\n",
       "      <td>...</td>\n",
       "      <td>0.145433</td>\n",
       "      <td>0.138131</td>\n",
       "      <td>0.007302</td>\n",
       "      <td>117.391779</td>\n",
       "      <td>0</td>\n",
       "      <td>0.910010</td>\n",
       "      <td>51.905087</td>\n",
       "      <td>8.558577</td>\n",
       "      <td>39.422947</td>\n",
       "      <td>32.0</td>\n",
       "    </tr>\n",
       "    <tr>\n",
       "      <th>15</th>\n",
       "      <td>1/6/1981</td>\n",
       "      <td>0.144531</td>\n",
       "      <td>0.144531</td>\n",
       "      <td>0.143973</td>\n",
       "      <td>0.143973</td>\n",
       "      <td>0.112683</td>\n",
       "      <td>45158400</td>\n",
       "      <td>0.151563</td>\n",
       "      <td>0.149219</td>\n",
       "      <td>64.367958</td>\n",
       "      <td>...</td>\n",
       "      <td>0.145208</td>\n",
       "      <td>0.138564</td>\n",
       "      <td>0.006645</td>\n",
       "      <td>118.348239</td>\n",
       "      <td>0</td>\n",
       "      <td>0.910010</td>\n",
       "      <td>16.831178</td>\n",
       "      <td>2.555255</td>\n",
       "      <td>34.025492</td>\n",
       "      <td>32.0</td>\n",
       "    </tr>\n",
       "    <tr>\n",
       "      <th>16</th>\n",
       "      <td>1/7/1981</td>\n",
       "      <td>0.138393</td>\n",
       "      <td>0.138393</td>\n",
       "      <td>0.137835</td>\n",
       "      <td>0.137835</td>\n",
       "      <td>0.107879</td>\n",
       "      <td>55686400</td>\n",
       "      <td>0.147768</td>\n",
       "      <td>0.149777</td>\n",
       "      <td>48.781660</td>\n",
       "      <td>...</td>\n",
       "      <td>0.144074</td>\n",
       "      <td>0.138510</td>\n",
       "      <td>0.005564</td>\n",
       "      <td>122.277619</td>\n",
       "      <td>0</td>\n",
       "      <td>0.675676</td>\n",
       "      <td>-23.998205</td>\n",
       "      <td>-3.055644</td>\n",
       "      <td>26.178222</td>\n",
       "      <td>32.0</td>\n",
       "    </tr>\n",
       "    <tr>\n",
       "      <th>17</th>\n",
       "      <td>1/8/1981</td>\n",
       "      <td>0.135603</td>\n",
       "      <td>0.135603</td>\n",
       "      <td>0.135045</td>\n",
       "      <td>0.135045</td>\n",
       "      <td>0.105695</td>\n",
       "      <td>39827200</td>\n",
       "      <td>0.144308</td>\n",
       "      <td>0.149498</td>\n",
       "      <td>38.158453</td>\n",
       "      <td>...</td>\n",
       "      <td>0.142685</td>\n",
       "      <td>0.138253</td>\n",
       "      <td>0.004432</td>\n",
       "      <td>116.908919</td>\n",
       "      <td>1</td>\n",
       "      <td>0.675676</td>\n",
       "      <td>-54.181713</td>\n",
       "      <td>-5.940912</td>\n",
       "      <td>19.002172</td>\n",
       "      <td>32.0</td>\n",
       "    </tr>\n",
       "    <tr>\n",
       "      <th>18</th>\n",
       "      <td>1/9/1981</td>\n",
       "      <td>0.142299</td>\n",
       "      <td>0.142857</td>\n",
       "      <td>0.142299</td>\n",
       "      <td>0.142299</td>\n",
       "      <td>0.111372</td>\n",
       "      <td>21504000</td>\n",
       "      <td>0.141964</td>\n",
       "      <td>0.149219</td>\n",
       "      <td>46.031972</td>\n",
       "      <td>...</td>\n",
       "      <td>0.142626</td>\n",
       "      <td>0.138553</td>\n",
       "      <td>0.004073</td>\n",
       "      <td>119.717824</td>\n",
       "      <td>0</td>\n",
       "      <td>0.507614</td>\n",
       "      <td>-22.428997</td>\n",
       "      <td>-2.030802</td>\n",
       "      <td>15.894879</td>\n",
       "      <td>32.0</td>\n",
       "    </tr>\n",
       "    <tr>\n",
       "      <th>...</th>\n",
       "      <td>...</td>\n",
       "      <td>...</td>\n",
       "      <td>...</td>\n",
       "      <td>...</td>\n",
       "      <td>...</td>\n",
       "      <td>...</td>\n",
       "      <td>...</td>\n",
       "      <td>...</td>\n",
       "      <td>...</td>\n",
       "      <td>...</td>\n",
       "      <td>...</td>\n",
       "      <td>...</td>\n",
       "      <td>...</td>\n",
       "      <td>...</td>\n",
       "      <td>...</td>\n",
       "      <td>...</td>\n",
       "      <td>...</td>\n",
       "      <td>...</td>\n",
       "      <td>...</td>\n",
       "      <td>...</td>\n",
       "      <td>...</td>\n",
       "    </tr>\n",
       "    <tr>\n",
       "      <th>10320</th>\n",
       "      <td>11/17/2021</td>\n",
       "      <td>151.000000</td>\n",
       "      <td>155.000000</td>\n",
       "      <td>150.990005</td>\n",
       "      <td>153.490005</td>\n",
       "      <td>153.490005</td>\n",
       "      <td>88807000</td>\n",
       "      <td>150.470001</td>\n",
       "      <td>150.376001</td>\n",
       "      <td>82.421470</td>\n",
       "      <td>...</td>\n",
       "      <td>150.348567</td>\n",
       "      <td>149.181217</td>\n",
       "      <td>1.167349</td>\n",
       "      <td>100.603001</td>\n",
       "      <td>1</td>\n",
       "      <td>0.910010</td>\n",
       "      <td>182.581771</td>\n",
       "      <td>2.130675</td>\n",
       "      <td>14.297264</td>\n",
       "      <td>96.0</td>\n",
       "    </tr>\n",
       "    <tr>\n",
       "      <th>10321</th>\n",
       "      <td>11/18/2021</td>\n",
       "      <td>153.710007</td>\n",
       "      <td>158.669998</td>\n",
       "      <td>153.050003</td>\n",
       "      <td>157.869995</td>\n",
       "      <td>157.869995</td>\n",
       "      <td>137827700</td>\n",
       "      <td>152.470001</td>\n",
       "      <td>151.067000</td>\n",
       "      <td>92.850734</td>\n",
       "      <td>...</td>\n",
       "      <td>151.505710</td>\n",
       "      <td>149.824831</td>\n",
       "      <td>1.680879</td>\n",
       "      <td>105.387177</td>\n",
       "      <td>1</td>\n",
       "      <td>1.259446</td>\n",
       "      <td>285.794377</td>\n",
       "      <td>4.643715</td>\n",
       "      <td>15.458962</td>\n",
       "      <td>96.0</td>\n",
       "    </tr>\n",
       "    <tr>\n",
       "      <th>10322</th>\n",
       "      <td>11/19/2021</td>\n",
       "      <td>157.649994</td>\n",
       "      <td>161.020004</td>\n",
       "      <td>156.529999</td>\n",
       "      <td>160.550003</td>\n",
       "      <td>160.550003</td>\n",
       "      <td>117147500</td>\n",
       "      <td>154.582001</td>\n",
       "      <td>151.994000</td>\n",
       "      <td>96.528798</td>\n",
       "      <td>...</td>\n",
       "      <td>152.897139</td>\n",
       "      <td>150.619288</td>\n",
       "      <td>2.277852</td>\n",
       "      <td>107.780609</td>\n",
       "      <td>1</td>\n",
       "      <td>1.259446</td>\n",
       "      <td>252.968849</td>\n",
       "      <td>5.839366</td>\n",
       "      <td>17.452579</td>\n",
       "      <td>96.0</td>\n",
       "    </tr>\n",
       "    <tr>\n",
       "      <th>10323</th>\n",
       "      <td>11/22/2021</td>\n",
       "      <td>161.679993</td>\n",
       "      <td>165.699997</td>\n",
       "      <td>161.000000</td>\n",
       "      <td>161.020004</td>\n",
       "      <td>161.020004</td>\n",
       "      <td>117467900</td>\n",
       "      <td>156.786001</td>\n",
       "      <td>153.052000</td>\n",
       "      <td>74.313981</td>\n",
       "      <td>...</td>\n",
       "      <td>154.146811</td>\n",
       "      <td>151.389711</td>\n",
       "      <td>2.757100</td>\n",
       "      <td>107.332355</td>\n",
       "      <td>1</td>\n",
       "      <td>1.259446</td>\n",
       "      <td>216.062687</td>\n",
       "      <td>5.602220</td>\n",
       "      <td>19.791095</td>\n",
       "      <td>28.0</td>\n",
       "    </tr>\n",
       "    <tr>\n",
       "      <th>10324</th>\n",
       "      <td>11/23/2021</td>\n",
       "      <td>161.119995</td>\n",
       "      <td>161.800003</td>\n",
       "      <td>159.059998</td>\n",
       "      <td>161.410004</td>\n",
       "      <td>161.410004</td>\n",
       "      <td>95933900</td>\n",
       "      <td>158.868002</td>\n",
       "      <td>154.112001</td>\n",
       "      <td>76.454485</td>\n",
       "      <td>...</td>\n",
       "      <td>155.264225</td>\n",
       "      <td>152.131955</td>\n",
       "      <td>3.132270</td>\n",
       "      <td>106.548286</td>\n",
       "      <td>1</td>\n",
       "      <td>1.836394</td>\n",
       "      <td>133.051798</td>\n",
       "      <td>5.368344</td>\n",
       "      <td>22.560291</td>\n",
       "      <td>32.0</td>\n",
       "    </tr>\n",
       "  </tbody>\n",
       "</table>\n",
       "<p>10309 rows × 26 columns</p>\n",
       "</div>"
      ],
      "text/plain": [
       "             Date        Open        High         Low       Close   Adj Close  \\\n",
       "14       1/5/1981    0.151228    0.151228    0.150670    0.150670    0.117924   \n",
       "15       1/6/1981    0.144531    0.144531    0.143973    0.143973    0.112683   \n",
       "16       1/7/1981    0.138393    0.138393    0.137835    0.137835    0.107879   \n",
       "17       1/8/1981    0.135603    0.135603    0.135045    0.135045    0.105695   \n",
       "18       1/9/1981    0.142299    0.142857    0.142299    0.142299    0.111372   \n",
       "...           ...         ...         ...         ...         ...         ...   \n",
       "10320  11/17/2021  151.000000  155.000000  150.990005  153.490005  153.490005   \n",
       "10321  11/18/2021  153.710007  158.669998  153.050003  157.869995  157.869995   \n",
       "10322  11/19/2021  157.649994  161.020004  156.529999  160.550003  160.550003   \n",
       "10323  11/22/2021  161.679993  165.699997  161.000000  161.020004  161.020004   \n",
       "10324  11/23/2021  161.119995  161.800003  159.059998  161.410004  161.410004   \n",
       "\n",
       "          Volume        SMA5       SMA10  StochasticK  ...       EMA12  \\\n",
       "14      35728000    0.154911    0.147433    78.162269  ...    0.145433   \n",
       "15      45158400    0.151563    0.149219    64.367958  ...    0.145208   \n",
       "16      55686400    0.147768    0.149777    48.781660  ...    0.144074   \n",
       "17      39827200    0.144308    0.149498    38.158453  ...    0.142685   \n",
       "18      21504000    0.141964    0.149219    46.031972  ...    0.142626   \n",
       "...          ...         ...         ...          ...  ...         ...   \n",
       "10320   88807000  150.470001  150.376001    82.421470  ...  150.348567   \n",
       "10321  137827700  152.470001  151.067000    92.850734  ...  151.505710   \n",
       "10322  117147500  154.582001  151.994000    96.528798  ...  152.897139   \n",
       "10323  117467900  156.786001  153.052000    74.313981  ...  154.146811   \n",
       "10324   95933900  158.868002  154.112001    76.454485  ...  155.264225   \n",
       "\n",
       "            EMA26      MACD    Momentum  Direction       RSI         CCI  \\\n",
       "14       0.138131  0.007302  117.391779          0  0.910010   51.905087   \n",
       "15       0.138564  0.006645  118.348239          0  0.910010   16.831178   \n",
       "16       0.138510  0.005564  122.277619          0  0.675676  -23.998205   \n",
       "17       0.138253  0.004432  116.908919          1  0.675676  -54.181713   \n",
       "18       0.138553  0.004073  119.717824          0  0.507614  -22.428997   \n",
       "...           ...       ...         ...        ...       ...         ...   \n",
       "10320  149.181217  1.167349  100.603001          1  0.910010  182.581771   \n",
       "10321  149.824831  1.680879  105.387177          1  1.259446  285.794377   \n",
       "10322  150.619288  2.277852  107.780609          1  1.259446  252.968849   \n",
       "10323  151.389711  2.757100  107.332355          1  1.259446  216.062687   \n",
       "10324  152.131955  3.132270  106.548286          1  1.836394  133.051798   \n",
       "\n",
       "             DI        ADX  Aroon  \n",
       "14     8.558577  39.422947   32.0  \n",
       "15     2.555255  34.025492   32.0  \n",
       "16    -3.055644  26.178222   32.0  \n",
       "17    -5.940912  19.002172   32.0  \n",
       "18    -2.030802  15.894879   32.0  \n",
       "...         ...        ...    ...  \n",
       "10320  2.130675  14.297264   96.0  \n",
       "10321  4.643715  15.458962   96.0  \n",
       "10322  5.839366  17.452579   96.0  \n",
       "10323  5.602220  19.791095   28.0  \n",
       "10324  5.368344  22.560291   32.0  \n",
       "\n",
       "[10309 rows x 26 columns]"
      ]
     },
     "execution_count": 35,
     "metadata": {},
     "output_type": "execute_result"
    }
   ],
   "source": [
    "complete_data"
   ]
  },
  {
   "cell_type": "code",
   "execution_count": 36,
   "metadata": {},
   "outputs": [],
   "source": [
    "#corrMatrix = complete_data.corr()\n",
    "#print(corrMatrix)"
   ]
  },
  {
   "cell_type": "code",
   "execution_count": 37,
   "metadata": {},
   "outputs": [],
   "source": [
    "#sn.heatmap(corrMatrix, annot=False)\n",
    "#plt.show()"
   ]
  },
  {
   "cell_type": "code",
   "execution_count": 38,
   "metadata": {},
   "outputs": [],
   "source": [
    "#corr_pairs = corrMatrix.unstack()\n",
    "#corr_pairs"
   ]
  },
  {
   "cell_type": "code",
   "execution_count": 39,
   "metadata": {},
   "outputs": [],
   "source": [
    "#sorted_pairs = corr_pairs.sort_values(kind=\"quicksort\")\n",
    "#sorted_pairs"
   ]
  },
  {
   "cell_type": "code",
   "execution_count": 40,
   "metadata": {},
   "outputs": [],
   "source": [
    "#strong_pairs = sorted_pairs[abs(sorted_pairs) > 0.5]\n",
    "\n",
    "#print(strong_pairs)"
   ]
  },
  {
   "cell_type": "code",
   "execution_count": 41,
   "metadata": {},
   "outputs": [],
   "source": [
    "## strong_pairs[strong_pairs.index[0][0] == strong_pairs.index[0][1]]\n",
    "\n",
    "#removed_diagonal = [(i, j) for (i, j) in strong_pairs.index if i!=j]\n",
    "#len(removed_diagonal)"
   ]
  },
  {
   "cell_type": "code",
   "execution_count": 42,
   "metadata": {
    "scrolled": false
   },
   "outputs": [],
   "source": [
    "## # Create correlation matrix\n",
    "## corr_matrix = complete_data.corr().abs()\n",
    "\n",
    "## # Select upper triangle of correlation matrix\n",
    "## upper = corr_matrix.where(np.triu(np.ones(corr_matrix.shape), k=1).astype(np.bool8))\n",
    "\n",
    "## # Find index of feature columns with correlation greater than 0.95\n",
    "## to_drop = [column for column in upper.columns if any(upper[column] > 0.95)]\n",
    "## to_drop"
   ]
  },
  {
   "cell_type": "code",
   "execution_count": 43,
   "metadata": {},
   "outputs": [],
   "source": [
    "## Find index of feature columns with correlation greater than 0.8\n",
    "\n",
    "#correlated_features = set()\n",
    "#for i in range(len(corrMatrix.columns)):\n",
    " #   for j in range(i):\n",
    "  #      if abs(corrMatrix.iloc[i, j]) > 0.8:\n",
    "   #         colname = corrMatrix.columns[i]\n",
    "    #        correlated_features.add(colname)"
   ]
  },
  {
   "cell_type": "code",
   "execution_count": 44,
   "metadata": {},
   "outputs": [],
   "source": [
    "#correlated_features"
   ]
  },
  {
   "cell_type": "code",
   "execution_count": 45,
   "metadata": {},
   "outputs": [],
   "source": [
    "#complete_data = complete_data.drop(labels=correlated_features, axis=1)"
   ]
  },
  {
   "cell_type": "code",
   "execution_count": 46,
   "metadata": {},
   "outputs": [],
   "source": [
    "#complete_data"
   ]
  },
  {
   "cell_type": "code",
   "execution_count": 47,
   "metadata": {
    "scrolled": false
   },
   "outputs": [
    {
     "data": {
      "text/html": [
       "<div>\n",
       "<style scoped>\n",
       "    .dataframe tbody tr th:only-of-type {\n",
       "        vertical-align: middle;\n",
       "    }\n",
       "\n",
       "    .dataframe tbody tr th {\n",
       "        vertical-align: top;\n",
       "    }\n",
       "\n",
       "    .dataframe thead th {\n",
       "        text-align: right;\n",
       "    }\n",
       "</style>\n",
       "<table border=\"1\" class=\"dataframe\">\n",
       "  <thead>\n",
       "    <tr style=\"text-align: right;\">\n",
       "      <th></th>\n",
       "      <th>Open</th>\n",
       "      <th>High</th>\n",
       "      <th>Low</th>\n",
       "      <th>Close</th>\n",
       "      <th>Adj Close</th>\n",
       "      <th>Volume</th>\n",
       "      <th>SMA5</th>\n",
       "      <th>SMA10</th>\n",
       "      <th>StochasticK</th>\n",
       "      <th>StochasticD</th>\n",
       "      <th>...</th>\n",
       "      <th>WMA10</th>\n",
       "      <th>EMA12</th>\n",
       "      <th>EMA26</th>\n",
       "      <th>MACD</th>\n",
       "      <th>Momentum</th>\n",
       "      <th>RSI</th>\n",
       "      <th>CCI</th>\n",
       "      <th>DI</th>\n",
       "      <th>ADX</th>\n",
       "      <th>Aroon</th>\n",
       "    </tr>\n",
       "  </thead>\n",
       "  <tbody>\n",
       "    <tr>\n",
       "      <th>14</th>\n",
       "      <td>0.151228</td>\n",
       "      <td>0.151228</td>\n",
       "      <td>0.150670</td>\n",
       "      <td>0.150670</td>\n",
       "      <td>0.117924</td>\n",
       "      <td>35728000</td>\n",
       "      <td>0.154911</td>\n",
       "      <td>0.147433</td>\n",
       "      <td>78.162269</td>\n",
       "      <td>81.610332</td>\n",
       "      <td>...</td>\n",
       "      <td>0.151826</td>\n",
       "      <td>0.145433</td>\n",
       "      <td>0.138131</td>\n",
       "      <td>0.007302</td>\n",
       "      <td>117.391779</td>\n",
       "      <td>0.910010</td>\n",
       "      <td>51.905087</td>\n",
       "      <td>8.558577</td>\n",
       "      <td>39.422947</td>\n",
       "      <td>32.0</td>\n",
       "    </tr>\n",
       "    <tr>\n",
       "      <th>15</th>\n",
       "      <td>0.144531</td>\n",
       "      <td>0.144531</td>\n",
       "      <td>0.143973</td>\n",
       "      <td>0.143973</td>\n",
       "      <td>0.112683</td>\n",
       "      <td>45158400</td>\n",
       "      <td>0.151563</td>\n",
       "      <td>0.149219</td>\n",
       "      <td>64.367958</td>\n",
       "      <td>75.862874</td>\n",
       "      <td>...</td>\n",
       "      <td>0.151197</td>\n",
       "      <td>0.145208</td>\n",
       "      <td>0.138564</td>\n",
       "      <td>0.006645</td>\n",
       "      <td>118.348239</td>\n",
       "      <td>0.910010</td>\n",
       "      <td>16.831178</td>\n",
       "      <td>2.555255</td>\n",
       "      <td>34.025492</td>\n",
       "      <td>32.0</td>\n",
       "    </tr>\n",
       "    <tr>\n",
       "      <th>16</th>\n",
       "      <td>0.138393</td>\n",
       "      <td>0.138393</td>\n",
       "      <td>0.137835</td>\n",
       "      <td>0.137835</td>\n",
       "      <td>0.107879</td>\n",
       "      <td>55686400</td>\n",
       "      <td>0.147768</td>\n",
       "      <td>0.149777</td>\n",
       "      <td>48.781660</td>\n",
       "      <td>63.770629</td>\n",
       "      <td>...</td>\n",
       "      <td>0.149127</td>\n",
       "      <td>0.144074</td>\n",
       "      <td>0.138510</td>\n",
       "      <td>0.005564</td>\n",
       "      <td>122.277619</td>\n",
       "      <td>0.675676</td>\n",
       "      <td>-23.998205</td>\n",
       "      <td>-3.055644</td>\n",
       "      <td>26.178222</td>\n",
       "      <td>32.0</td>\n",
       "    </tr>\n",
       "    <tr>\n",
       "      <th>17</th>\n",
       "      <td>0.135603</td>\n",
       "      <td>0.135603</td>\n",
       "      <td>0.135045</td>\n",
       "      <td>0.135045</td>\n",
       "      <td>0.105695</td>\n",
       "      <td>39827200</td>\n",
       "      <td>0.144308</td>\n",
       "      <td>0.149498</td>\n",
       "      <td>38.158453</td>\n",
       "      <td>50.436024</td>\n",
       "      <td>...</td>\n",
       "      <td>0.146449</td>\n",
       "      <td>0.142685</td>\n",
       "      <td>0.138253</td>\n",
       "      <td>0.004432</td>\n",
       "      <td>116.908919</td>\n",
       "      <td>0.675676</td>\n",
       "      <td>-54.181713</td>\n",
       "      <td>-5.940912</td>\n",
       "      <td>19.002172</td>\n",
       "      <td>32.0</td>\n",
       "    </tr>\n",
       "    <tr>\n",
       "      <th>18</th>\n",
       "      <td>0.142299</td>\n",
       "      <td>0.142857</td>\n",
       "      <td>0.142299</td>\n",
       "      <td>0.142299</td>\n",
       "      <td>0.111372</td>\n",
       "      <td>21504000</td>\n",
       "      <td>0.141964</td>\n",
       "      <td>0.149219</td>\n",
       "      <td>46.031972</td>\n",
       "      <td>44.324028</td>\n",
       "      <td>...</td>\n",
       "      <td>0.145140</td>\n",
       "      <td>0.142626</td>\n",
       "      <td>0.138553</td>\n",
       "      <td>0.004073</td>\n",
       "      <td>119.717824</td>\n",
       "      <td>0.507614</td>\n",
       "      <td>-22.428997</td>\n",
       "      <td>-2.030802</td>\n",
       "      <td>15.894879</td>\n",
       "      <td>32.0</td>\n",
       "    </tr>\n",
       "    <tr>\n",
       "      <th>...</th>\n",
       "      <td>...</td>\n",
       "      <td>...</td>\n",
       "      <td>...</td>\n",
       "      <td>...</td>\n",
       "      <td>...</td>\n",
       "      <td>...</td>\n",
       "      <td>...</td>\n",
       "      <td>...</td>\n",
       "      <td>...</td>\n",
       "      <td>...</td>\n",
       "      <td>...</td>\n",
       "      <td>...</td>\n",
       "      <td>...</td>\n",
       "      <td>...</td>\n",
       "      <td>...</td>\n",
       "      <td>...</td>\n",
       "      <td>...</td>\n",
       "      <td>...</td>\n",
       "      <td>...</td>\n",
       "      <td>...</td>\n",
       "      <td>...</td>\n",
       "    </tr>\n",
       "    <tr>\n",
       "      <th>10320</th>\n",
       "      <td>151.000000</td>\n",
       "      <td>155.000000</td>\n",
       "      <td>150.990005</td>\n",
       "      <td>153.490005</td>\n",
       "      <td>153.490005</td>\n",
       "      <td>88807000</td>\n",
       "      <td>150.470001</td>\n",
       "      <td>150.376001</td>\n",
       "      <td>82.421470</td>\n",
       "      <td>67.809125</td>\n",
       "      <td>...</td>\n",
       "      <td>150.522365</td>\n",
       "      <td>150.348567</td>\n",
       "      <td>149.181217</td>\n",
       "      <td>1.167349</td>\n",
       "      <td>100.603001</td>\n",
       "      <td>0.910010</td>\n",
       "      <td>182.581771</td>\n",
       "      <td>2.130675</td>\n",
       "      <td>14.297264</td>\n",
       "      <td>96.0</td>\n",
       "    </tr>\n",
       "    <tr>\n",
       "      <th>10321</th>\n",
       "      <td>153.710007</td>\n",
       "      <td>158.669998</td>\n",
       "      <td>153.050003</td>\n",
       "      <td>157.869995</td>\n",
       "      <td>157.869995</td>\n",
       "      <td>137827700</td>\n",
       "      <td>152.470001</td>\n",
       "      <td>151.067000</td>\n",
       "      <td>92.850734</td>\n",
       "      <td>81.057205</td>\n",
       "      <td>...</td>\n",
       "      <td>151.884909</td>\n",
       "      <td>151.505710</td>\n",
       "      <td>149.824831</td>\n",
       "      <td>1.680879</td>\n",
       "      <td>105.387177</td>\n",
       "      <td>1.259446</td>\n",
       "      <td>285.794377</td>\n",
       "      <td>4.643715</td>\n",
       "      <td>15.458962</td>\n",
       "      <td>96.0</td>\n",
       "    </tr>\n",
       "    <tr>\n",
       "      <th>10322</th>\n",
       "      <td>157.649994</td>\n",
       "      <td>161.020004</td>\n",
       "      <td>156.529999</td>\n",
       "      <td>160.550003</td>\n",
       "      <td>160.550003</td>\n",
       "      <td>117147500</td>\n",
       "      <td>154.582001</td>\n",
       "      <td>151.994000</td>\n",
       "      <td>96.528798</td>\n",
       "      <td>90.600334</td>\n",
       "      <td>...</td>\n",
       "      <td>153.609091</td>\n",
       "      <td>152.897139</td>\n",
       "      <td>150.619288</td>\n",
       "      <td>2.277852</td>\n",
       "      <td>107.780609</td>\n",
       "      <td>1.259446</td>\n",
       "      <td>252.968849</td>\n",
       "      <td>5.839366</td>\n",
       "      <td>17.452579</td>\n",
       "      <td>96.0</td>\n",
       "    </tr>\n",
       "    <tr>\n",
       "      <th>10323</th>\n",
       "      <td>161.679993</td>\n",
       "      <td>165.699997</td>\n",
       "      <td>161.000000</td>\n",
       "      <td>161.020004</td>\n",
       "      <td>161.020004</td>\n",
       "      <td>117467900</td>\n",
       "      <td>156.786001</td>\n",
       "      <td>153.052000</td>\n",
       "      <td>74.313981</td>\n",
       "      <td>87.897838</td>\n",
       "      <td>...</td>\n",
       "      <td>155.250183</td>\n",
       "      <td>154.146811</td>\n",
       "      <td>151.389711</td>\n",
       "      <td>2.757100</td>\n",
       "      <td>107.332355</td>\n",
       "      <td>1.259446</td>\n",
       "      <td>216.062687</td>\n",
       "      <td>5.602220</td>\n",
       "      <td>19.791095</td>\n",
       "      <td>28.0</td>\n",
       "    </tr>\n",
       "    <tr>\n",
       "      <th>10324</th>\n",
       "      <td>161.119995</td>\n",
       "      <td>161.800003</td>\n",
       "      <td>159.059998</td>\n",
       "      <td>161.410004</td>\n",
       "      <td>161.410004</td>\n",
       "      <td>95933900</td>\n",
       "      <td>158.868002</td>\n",
       "      <td>154.112001</td>\n",
       "      <td>76.454485</td>\n",
       "      <td>82.432421</td>\n",
       "      <td>...</td>\n",
       "      <td>156.769820</td>\n",
       "      <td>155.264225</td>\n",
       "      <td>152.131955</td>\n",
       "      <td>3.132270</td>\n",
       "      <td>106.548286</td>\n",
       "      <td>1.836394</td>\n",
       "      <td>133.051798</td>\n",
       "      <td>5.368344</td>\n",
       "      <td>22.560291</td>\n",
       "      <td>32.0</td>\n",
       "    </tr>\n",
       "  </tbody>\n",
       "</table>\n",
       "<p>10309 rows × 24 columns</p>\n",
       "</div>"
      ],
      "text/plain": [
       "             Open        High         Low       Close   Adj Close     Volume  \\\n",
       "14       0.151228    0.151228    0.150670    0.150670    0.117924   35728000   \n",
       "15       0.144531    0.144531    0.143973    0.143973    0.112683   45158400   \n",
       "16       0.138393    0.138393    0.137835    0.137835    0.107879   55686400   \n",
       "17       0.135603    0.135603    0.135045    0.135045    0.105695   39827200   \n",
       "18       0.142299    0.142857    0.142299    0.142299    0.111372   21504000   \n",
       "...           ...         ...         ...         ...         ...        ...   \n",
       "10320  151.000000  155.000000  150.990005  153.490005  153.490005   88807000   \n",
       "10321  153.710007  158.669998  153.050003  157.869995  157.869995  137827700   \n",
       "10322  157.649994  161.020004  156.529999  160.550003  160.550003  117147500   \n",
       "10323  161.679993  165.699997  161.000000  161.020004  161.020004  117467900   \n",
       "10324  161.119995  161.800003  159.059998  161.410004  161.410004   95933900   \n",
       "\n",
       "             SMA5       SMA10  StochasticK  StochasticD  ...       WMA10  \\\n",
       "14       0.154911    0.147433    78.162269    81.610332  ...    0.151826   \n",
       "15       0.151563    0.149219    64.367958    75.862874  ...    0.151197   \n",
       "16       0.147768    0.149777    48.781660    63.770629  ...    0.149127   \n",
       "17       0.144308    0.149498    38.158453    50.436024  ...    0.146449   \n",
       "18       0.141964    0.149219    46.031972    44.324028  ...    0.145140   \n",
       "...           ...         ...          ...          ...  ...         ...   \n",
       "10320  150.470001  150.376001    82.421470    67.809125  ...  150.522365   \n",
       "10321  152.470001  151.067000    92.850734    81.057205  ...  151.884909   \n",
       "10322  154.582001  151.994000    96.528798    90.600334  ...  153.609091   \n",
       "10323  156.786001  153.052000    74.313981    87.897838  ...  155.250183   \n",
       "10324  158.868002  154.112001    76.454485    82.432421  ...  156.769820   \n",
       "\n",
       "            EMA12       EMA26      MACD    Momentum       RSI         CCI  \\\n",
       "14       0.145433    0.138131  0.007302  117.391779  0.910010   51.905087   \n",
       "15       0.145208    0.138564  0.006645  118.348239  0.910010   16.831178   \n",
       "16       0.144074    0.138510  0.005564  122.277619  0.675676  -23.998205   \n",
       "17       0.142685    0.138253  0.004432  116.908919  0.675676  -54.181713   \n",
       "18       0.142626    0.138553  0.004073  119.717824  0.507614  -22.428997   \n",
       "...           ...         ...       ...         ...       ...         ...   \n",
       "10320  150.348567  149.181217  1.167349  100.603001  0.910010  182.581771   \n",
       "10321  151.505710  149.824831  1.680879  105.387177  1.259446  285.794377   \n",
       "10322  152.897139  150.619288  2.277852  107.780609  1.259446  252.968849   \n",
       "10323  154.146811  151.389711  2.757100  107.332355  1.259446  216.062687   \n",
       "10324  155.264225  152.131955  3.132270  106.548286  1.836394  133.051798   \n",
       "\n",
       "             DI        ADX  Aroon  \n",
       "14     8.558577  39.422947   32.0  \n",
       "15     2.555255  34.025492   32.0  \n",
       "16    -3.055644  26.178222   32.0  \n",
       "17    -5.940912  19.002172   32.0  \n",
       "18    -2.030802  15.894879   32.0  \n",
       "...         ...        ...    ...  \n",
       "10320  2.130675  14.297264   96.0  \n",
       "10321  4.643715  15.458962   96.0  \n",
       "10322  5.839366  17.452579   96.0  \n",
       "10323  5.602220  19.791095   28.0  \n",
       "10324  5.368344  22.560291   32.0  \n",
       "\n",
       "[10309 rows x 24 columns]"
      ]
     },
     "execution_count": 47,
     "metadata": {},
     "output_type": "execute_result"
    }
   ],
   "source": [
    "target = complete_data['Direction']\n",
    "complete_data = complete_data.drop(['Date', 'Direction'], axis=1)\n",
    "complete_data"
   ]
  },
  {
   "cell_type": "markdown",
   "metadata": {},
   "source": [
    "### autofeat Classification"
   ]
  },
  {
   "cell_type": "code",
   "execution_count": 48,
   "metadata": {},
   "outputs": [],
   "source": [
    "from sklearn.model_selection import train_test_split"
   ]
  },
  {
   "cell_type": "code",
   "execution_count": 49,
   "metadata": {},
   "outputs": [
    {
     "data": {
      "text/plain": [
       "False"
      ]
     },
     "execution_count": 49,
     "metadata": {},
     "output_type": "execute_result"
    }
   ],
   "source": [
    "np.any(np.isnan(complete_data))"
   ]
  },
  {
   "cell_type": "code",
   "execution_count": 50,
   "metadata": {},
   "outputs": [
    {
     "data": {
      "text/plain": [
       "False"
      ]
     },
     "execution_count": 50,
     "metadata": {},
     "output_type": "execute_result"
    }
   ],
   "source": [
    "np.all(np.isinf(complete_data))"
   ]
  },
  {
   "cell_type": "code",
   "execution_count": 51,
   "metadata": {},
   "outputs": [
    {
     "data": {
      "text/plain": [
       "False"
      ]
     },
     "execution_count": 51,
     "metadata": {},
     "output_type": "execute_result"
    }
   ],
   "source": [
    "np.any(np.isnan(target))"
   ]
  },
  {
   "cell_type": "code",
   "execution_count": 52,
   "metadata": {},
   "outputs": [
    {
     "data": {
      "text/plain": [
       "False"
      ]
     },
     "execution_count": 52,
     "metadata": {},
     "output_type": "execute_result"
    }
   ],
   "source": [
    "np.all(np.isinf(target))"
   ]
  },
  {
   "cell_type": "code",
   "execution_count": 53,
   "metadata": {},
   "outputs": [
    {
     "data": {
      "text/plain": [
       "25"
      ]
     },
     "execution_count": 53,
     "metadata": {},
     "output_type": "execute_result"
    }
   ],
   "source": [
    "count1 = np.isinf(complete_data).values.sum()\n",
    "count1"
   ]
  },
  {
   "cell_type": "code",
   "execution_count": 54,
   "metadata": {},
   "outputs": [
    {
     "data": {
      "text/plain": [
       "0"
      ]
     },
     "execution_count": 54,
     "metadata": {},
     "output_type": "execute_result"
    }
   ],
   "source": [
    "count2 = np.isinf(target).values.sum()\n",
    "count2"
   ]
  },
  {
   "cell_type": "code",
   "execution_count": 55,
   "metadata": {},
   "outputs": [
    {
     "data": {
      "text/plain": [
       "pandas.core.series.Series"
      ]
     },
     "execution_count": 55,
     "metadata": {},
     "output_type": "execute_result"
    }
   ],
   "source": [
    "type(complete_data.columns.to_series())"
   ]
  },
  {
   "cell_type": "code",
   "execution_count": 56,
   "metadata": {},
   "outputs": [
    {
     "name": "stdout",
     "output_type": "stream",
     "text": [
      "ADO    ADO\n",
      "dtype: object\n"
     ]
    }
   ],
   "source": [
    "col_name = complete_data.columns.to_series()[np.isinf(complete_data).any()]\n",
    "print(col_name)"
   ]
  },
  {
   "cell_type": "code",
   "execution_count": 57,
   "metadata": {},
   "outputs": [
    {
     "name": "stdout",
     "output_type": "stream",
     "text": [
      "Int64Index([ 999, 1006, 1049, 1067, 1082, 1111, 1112, 1132, 1142, 1146, 1151,\n",
      "            1155, 1162, 1177, 1184, 1188, 1189, 1192, 1196, 1200, 1204, 1205,\n",
      "            1217, 1221, 1233],\n",
      "           dtype='int64')\n"
     ]
    }
   ],
   "source": [
    "row_index = complete_data.index[np.isinf(complete_data).any(1)]\n",
    "print(row_index)"
   ]
  },
  {
   "cell_type": "code",
   "execution_count": 58,
   "metadata": {},
   "outputs": [],
   "source": [
    "target.drop(complete_data[np.isinf(complete_data).any(1)].index, inplace = True)\n",
    "complete_data.drop(complete_data[np.isinf(complete_data).any(1)].index, inplace = True)"
   ]
  },
  {
   "cell_type": "code",
   "execution_count": 59,
   "metadata": {},
   "outputs": [],
   "source": [
    "complete_data = complete_data.reset_index(drop = True)\n",
    "target = target.reset_index(drop = True)"
   ]
  },
  {
   "cell_type": "code",
   "execution_count": 60,
   "metadata": {},
   "outputs": [
    {
     "data": {
      "text/plain": [
       "0"
      ]
     },
     "execution_count": 60,
     "metadata": {},
     "output_type": "execute_result"
    }
   ],
   "source": [
    "count1 = np.isinf(complete_data).values.sum()\n",
    "count1"
   ]
  },
  {
   "cell_type": "code",
   "execution_count": 61,
   "metadata": {},
   "outputs": [
    {
     "name": "stderr",
     "output_type": "stream",
     "text": [
      "C:\\Users\\rshay\\anaconda3\\lib\\site-packages\\numpy\\core\\_methods.py:205: RuntimeWarning: overflow encountered in multiply\n",
      "  x = um.multiply(x, x, out=x)\n",
      "C:\\Users\\rshay\\anaconda3\\lib\\site-packages\\numpy\\lib\\nanfunctions.py:1544: RuntimeWarning: overflow encountered in multiply\n",
      "  sqr = np.multiply(arr, arr, out=arr)\n"
     ]
    }
   ],
   "source": [
    "from autofeat import AutoFeatClassifier\n",
    "X_train, X_test, y_train, y_test = train_test_split(complete_data,target,test_size=0.3)\n",
    "model = AutoFeatClassifier()\n",
    "df = model.fit_transform(X_train, y_train)\n",
    "y_pred = model.predict(X_test)"
   ]
  },
  {
   "cell_type": "code",
   "execution_count": 62,
   "metadata": {},
   "outputs": [
    {
     "data": {
      "text/plain": [
       "0.5981853532080363"
      ]
     },
     "execution_count": 62,
     "metadata": {},
     "output_type": "execute_result"
    }
   ],
   "source": [
    "df_test = model.transform(X_test)\n",
    "model.score(df_test,y_test)"
   ]
  },
  {
   "cell_type": "code",
   "execution_count": 63,
   "metadata": {},
   "outputs": [
    {
     "data": {
      "text/html": [
       "<div>\n",
       "<style scoped>\n",
       "    .dataframe tbody tr th:only-of-type {\n",
       "        vertical-align: middle;\n",
       "    }\n",
       "\n",
       "    .dataframe tbody tr th {\n",
       "        vertical-align: top;\n",
       "    }\n",
       "\n",
       "    .dataframe thead th {\n",
       "        text-align: right;\n",
       "    }\n",
       "</style>\n",
       "<table border=\"1\" class=\"dataframe\">\n",
       "  <thead>\n",
       "    <tr style=\"text-align: right;\">\n",
       "      <th></th>\n",
       "      <th>Open</th>\n",
       "      <th>High</th>\n",
       "      <th>Low</th>\n",
       "      <th>Close</th>\n",
       "      <th>Adj Close</th>\n",
       "      <th>Volume</th>\n",
       "      <th>SMA5</th>\n",
       "      <th>SMA10</th>\n",
       "      <th>StochasticK</th>\n",
       "      <th>StochasticD</th>\n",
       "      <th>...</th>\n",
       "      <th>ADX/RSI</th>\n",
       "      <th>DI/Aroon</th>\n",
       "      <th>ADO*Aroon</th>\n",
       "      <th>WMA10/High</th>\n",
       "      <th>Volume/Aroon</th>\n",
       "      <th>1/(Aroon*RSI)</th>\n",
       "      <th>Momentum**3/ADX</th>\n",
       "      <th>sqrt(RSI)*Abs(CCI)</th>\n",
       "      <th>Aroon*LarryWilliamsR</th>\n",
       "      <th>LarryWilliamsR**3*StochasticK**2</th>\n",
       "    </tr>\n",
       "  </thead>\n",
       "  <tbody>\n",
       "    <tr>\n",
       "      <th>0</th>\n",
       "      <td>0.190290</td>\n",
       "      <td>0.195313</td>\n",
       "      <td>0.189732</td>\n",
       "      <td>0.195313</td>\n",
       "      <td>0.152865</td>\n",
       "      <td>262080000.0</td>\n",
       "      <td>0.188058</td>\n",
       "      <td>0.180971</td>\n",
       "      <td>100.000000</td>\n",
       "      <td>97.058979</td>\n",
       "      <td>...</td>\n",
       "      <td>37.829582</td>\n",
       "      <td>0.123937</td>\n",
       "      <td>96.000000</td>\n",
       "      <td>0.950855</td>\n",
       "      <td>2.730000e+06</td>\n",
       "      <td>0.011447</td>\n",
       "      <td>55537.071778</td>\n",
       "      <td>108.962832</td>\n",
       "      <td>0.000000</td>\n",
       "      <td>0.000000e+00</td>\n",
       "    </tr>\n",
       "    <tr>\n",
       "      <th>1</th>\n",
       "      <td>0.067522</td>\n",
       "      <td>0.068080</td>\n",
       "      <td>0.066964</td>\n",
       "      <td>0.066964</td>\n",
       "      <td>0.052410</td>\n",
       "      <td>82812800.0</td>\n",
       "      <td>0.067522</td>\n",
       "      <td>0.068973</td>\n",
       "      <td>0.000000</td>\n",
       "      <td>1.851667</td>\n",
       "      <td>...</td>\n",
       "      <td>131.123367</td>\n",
       "      <td>-0.119223</td>\n",
       "      <td>22.000000</td>\n",
       "      <td>1.001642</td>\n",
       "      <td>1.882109e+06</td>\n",
       "      <td>0.163561</td>\n",
       "      <td>43167.113010</td>\n",
       "      <td>36.019154</td>\n",
       "      <td>4400.000000</td>\n",
       "      <td>0.000000e+00</td>\n",
       "    </tr>\n",
       "    <tr>\n",
       "      <th>2</th>\n",
       "      <td>0.267857</td>\n",
       "      <td>0.274554</td>\n",
       "      <td>0.265625</td>\n",
       "      <td>0.273438</td>\n",
       "      <td>0.228570</td>\n",
       "      <td>531596800.0</td>\n",
       "      <td>0.285268</td>\n",
       "      <td>0.282924</td>\n",
       "      <td>50.000830</td>\n",
       "      <td>58.333610</td>\n",
       "      <td>...</td>\n",
       "      <td>24.597847</td>\n",
       "      <td>-0.028879</td>\n",
       "      <td>8.002688</td>\n",
       "      <td>1.035992</td>\n",
       "      <td>1.661240e+07</td>\n",
       "      <td>0.034340</td>\n",
       "      <td>63414.056861</td>\n",
       "      <td>19.077334</td>\n",
       "      <td>1599.973451</td>\n",
       "      <td>3.124948e+08</td>\n",
       "    </tr>\n",
       "    <tr>\n",
       "      <th>3</th>\n",
       "      <td>21.589643</td>\n",
       "      <td>21.657143</td>\n",
       "      <td>21.454643</td>\n",
       "      <td>21.596786</td>\n",
       "      <td>19.372286</td>\n",
       "      <td>234836000.0</td>\n",
       "      <td>21.353571</td>\n",
       "      <td>21.221250</td>\n",
       "      <td>90.296354</td>\n",
       "      <td>83.831317</td>\n",
       "      <td>...</td>\n",
       "      <td>39.261495</td>\n",
       "      <td>0.018096</td>\n",
       "      <td>30.645096</td>\n",
       "      <td>0.984004</td>\n",
       "      <td>2.446208e+06</td>\n",
       "      <td>0.011447</td>\n",
       "      <td>30121.299448</td>\n",
       "      <td>165.970431</td>\n",
       "      <td>931.550047</td>\n",
       "      <td>7.449812e+06</td>\n",
       "    </tr>\n",
       "    <tr>\n",
       "      <th>4</th>\n",
       "      <td>0.090960</td>\n",
       "      <td>0.090960</td>\n",
       "      <td>0.089844</td>\n",
       "      <td>0.089844</td>\n",
       "      <td>0.070318</td>\n",
       "      <td>41910400.0</td>\n",
       "      <td>0.095424</td>\n",
       "      <td>0.101228</td>\n",
       "      <td>0.000000</td>\n",
       "      <td>1.801715</td>\n",
       "      <td>...</td>\n",
       "      <td>157.315522</td>\n",
       "      <td>0.146196</td>\n",
       "      <td>480.000000</td>\n",
       "      <td>1.074956</td>\n",
       "      <td>-4.365667e+05</td>\n",
       "      <td>-0.074965</td>\n",
       "      <td>23864.522365</td>\n",
       "      <td>52.526562</td>\n",
       "      <td>-9600.000000</td>\n",
       "      <td>0.000000e+00</td>\n",
       "    </tr>\n",
       "    <tr>\n",
       "      <th>...</th>\n",
       "      <td>...</td>\n",
       "      <td>...</td>\n",
       "      <td>...</td>\n",
       "      <td>...</td>\n",
       "      <td>...</td>\n",
       "      <td>...</td>\n",
       "      <td>...</td>\n",
       "      <td>...</td>\n",
       "      <td>...</td>\n",
       "      <td>...</td>\n",
       "      <td>...</td>\n",
       "      <td>...</td>\n",
       "      <td>...</td>\n",
       "      <td>...</td>\n",
       "      <td>...</td>\n",
       "      <td>...</td>\n",
       "      <td>...</td>\n",
       "      <td>...</td>\n",
       "      <td>...</td>\n",
       "      <td>...</td>\n",
       "      <td>...</td>\n",
       "    </tr>\n",
       "    <tr>\n",
       "      <th>7193</th>\n",
       "      <td>6.871429</td>\n",
       "      <td>6.964286</td>\n",
       "      <td>6.850714</td>\n",
       "      <td>6.929643</td>\n",
       "      <td>5.941235</td>\n",
       "      <td>384801200.0</td>\n",
       "      <td>6.795714</td>\n",
       "      <td>6.942643</td>\n",
       "      <td>36.614830</td>\n",
       "      <td>24.381072</td>\n",
       "      <td>...</td>\n",
       "      <td>34.728537</td>\n",
       "      <td>-0.017097</td>\n",
       "      <td>73.785863</td>\n",
       "      <td>0.986118</td>\n",
       "      <td>6.871450e+06</td>\n",
       "      <td>0.026429</td>\n",
       "      <td>46812.515331</td>\n",
       "      <td>25.615523</td>\n",
       "      <td>3549.569542</td>\n",
       "      <td>3.414106e+08</td>\n",
       "    </tr>\n",
       "    <tr>\n",
       "      <th>7194</th>\n",
       "      <td>0.397321</td>\n",
       "      <td>0.404018</td>\n",
       "      <td>0.397321</td>\n",
       "      <td>0.399554</td>\n",
       "      <td>0.320066</td>\n",
       "      <td>88558400.0</td>\n",
       "      <td>0.401786</td>\n",
       "      <td>0.401786</td>\n",
       "      <td>41.176936</td>\n",
       "      <td>37.254695</td>\n",
       "      <td>...</td>\n",
       "      <td>45.658139</td>\n",
       "      <td>0.012176</td>\n",
       "      <td>-29.328953</td>\n",
       "      <td>0.996685</td>\n",
       "      <td>-2.012691e+06</td>\n",
       "      <td>-0.059621</td>\n",
       "      <td>53770.360047</td>\n",
       "      <td>7.589348</td>\n",
       "      <td>-2588.214832</td>\n",
       "      <td>3.451048e+08</td>\n",
       "    </tr>\n",
       "    <tr>\n",
       "      <th>7195</th>\n",
       "      <td>0.089844</td>\n",
       "      <td>0.090402</td>\n",
       "      <td>0.089844</td>\n",
       "      <td>0.089844</td>\n",
       "      <td>0.070318</td>\n",
       "      <td>38035200.0</td>\n",
       "      <td>0.086161</td>\n",
       "      <td>0.090792</td>\n",
       "      <td>21.278786</td>\n",
       "      <td>9.015873</td>\n",
       "      <td>...</td>\n",
       "      <td>145.956203</td>\n",
       "      <td>0.113599</td>\n",
       "      <td>-432.086022</td>\n",
       "      <td>0.979458</td>\n",
       "      <td>-7.924000e+05</td>\n",
       "      <td>-0.102292</td>\n",
       "      <td>17032.898438</td>\n",
       "      <td>22.250576</td>\n",
       "      <td>-3778.618271</td>\n",
       "      <td>2.208864e+08</td>\n",
       "    </tr>\n",
       "    <tr>\n",
       "      <th>7196</th>\n",
       "      <td>19.177500</td>\n",
       "      <td>19.236786</td>\n",
       "      <td>18.779642</td>\n",
       "      <td>18.821428</td>\n",
       "      <td>16.280138</td>\n",
       "      <td>594333600.0</td>\n",
       "      <td>18.999214</td>\n",
       "      <td>18.747071</td>\n",
       "      <td>47.926322</td>\n",
       "      <td>70.944120</td>\n",
       "      <td>...</td>\n",
       "      <td>77.144738</td>\n",
       "      <td>-0.006812</td>\n",
       "      <td>21.687346</td>\n",
       "      <td>0.981347</td>\n",
       "      <td>-7.429170e+06</td>\n",
       "      <td>-0.032792</td>\n",
       "      <td>33489.884642</td>\n",
       "      <td>30.381721</td>\n",
       "      <td>-4165.894240</td>\n",
       "      <td>3.243418e+08</td>\n",
       "    </tr>\n",
       "    <tr>\n",
       "      <th>7197</th>\n",
       "      <td>35.180000</td>\n",
       "      <td>35.255001</td>\n",
       "      <td>35.064999</td>\n",
       "      <td>35.172501</td>\n",
       "      <td>33.250771</td>\n",
       "      <td>76928000.0</td>\n",
       "      <td>34.924001</td>\n",
       "      <td>34.870000</td>\n",
       "      <td>93.037981</td>\n",
       "      <td>87.312187</td>\n",
       "      <td>...</td>\n",
       "      <td>90.996602</td>\n",
       "      <td>0.012385</td>\n",
       "      <td>67.788276</td>\n",
       "      <td>0.990010</td>\n",
       "      <td>8.361739e+05</td>\n",
       "      <td>0.016087</td>\n",
       "      <td>17746.061437</td>\n",
       "      <td>129.918030</td>\n",
       "      <td>640.505789</td>\n",
       "      <td>2.920964e+06</td>\n",
       "    </tr>\n",
       "  </tbody>\n",
       "</table>\n",
       "<p>7198 rows × 45 columns</p>\n",
       "</div>"
      ],
      "text/plain": [
       "           Open       High        Low      Close  Adj Close       Volume  \\\n",
       "0      0.190290   0.195313   0.189732   0.195313   0.152865  262080000.0   \n",
       "1      0.067522   0.068080   0.066964   0.066964   0.052410   82812800.0   \n",
       "2      0.267857   0.274554   0.265625   0.273438   0.228570  531596800.0   \n",
       "3     21.589643  21.657143  21.454643  21.596786  19.372286  234836000.0   \n",
       "4      0.090960   0.090960   0.089844   0.089844   0.070318   41910400.0   \n",
       "...         ...        ...        ...        ...        ...          ...   \n",
       "7193   6.871429   6.964286   6.850714   6.929643   5.941235  384801200.0   \n",
       "7194   0.397321   0.404018   0.397321   0.399554   0.320066   88558400.0   \n",
       "7195   0.089844   0.090402   0.089844   0.089844   0.070318   38035200.0   \n",
       "7196  19.177500  19.236786  18.779642  18.821428  16.280138  594333600.0   \n",
       "7197  35.180000  35.255001  35.064999  35.172501  33.250771   76928000.0   \n",
       "\n",
       "           SMA5      SMA10  StochasticK  StochasticD  ...     ADX/RSI  \\\n",
       "0      0.188058   0.180971   100.000000    97.058979  ...   37.829582   \n",
       "1      0.067522   0.068973     0.000000     1.851667  ...  131.123367   \n",
       "2      0.285268   0.282924    50.000830    58.333610  ...   24.597847   \n",
       "3     21.353571  21.221250    90.296354    83.831317  ...   39.261495   \n",
       "4      0.095424   0.101228     0.000000     1.801715  ...  157.315522   \n",
       "...         ...        ...          ...          ...  ...         ...   \n",
       "7193   6.795714   6.942643    36.614830    24.381072  ...   34.728537   \n",
       "7194   0.401786   0.401786    41.176936    37.254695  ...   45.658139   \n",
       "7195   0.086161   0.090792    21.278786     9.015873  ...  145.956203   \n",
       "7196  18.999214  18.747071    47.926322    70.944120  ...   77.144738   \n",
       "7197  34.924001  34.870000    93.037981    87.312187  ...   90.996602   \n",
       "\n",
       "      DI/Aroon   ADO*Aroon  WMA10/High  Volume/Aroon  1/(Aroon*RSI)  \\\n",
       "0     0.123937   96.000000    0.950855  2.730000e+06       0.011447   \n",
       "1    -0.119223   22.000000    1.001642  1.882109e+06       0.163561   \n",
       "2    -0.028879    8.002688    1.035992  1.661240e+07       0.034340   \n",
       "3     0.018096   30.645096    0.984004  2.446208e+06       0.011447   \n",
       "4     0.146196  480.000000    1.074956 -4.365667e+05      -0.074965   \n",
       "...        ...         ...         ...           ...            ...   \n",
       "7193 -0.017097   73.785863    0.986118  6.871450e+06       0.026429   \n",
       "7194  0.012176  -29.328953    0.996685 -2.012691e+06      -0.059621   \n",
       "7195  0.113599 -432.086022    0.979458 -7.924000e+05      -0.102292   \n",
       "7196 -0.006812   21.687346    0.981347 -7.429170e+06      -0.032792   \n",
       "7197  0.012385   67.788276    0.990010  8.361739e+05       0.016087   \n",
       "\n",
       "      Momentum**3/ADX  sqrt(RSI)*Abs(CCI)  Aroon*LarryWilliamsR  \\\n",
       "0        55537.071778          108.962832              0.000000   \n",
       "1        43167.113010           36.019154           4400.000000   \n",
       "2        63414.056861           19.077334           1599.973451   \n",
       "3        30121.299448          165.970431            931.550047   \n",
       "4        23864.522365           52.526562          -9600.000000   \n",
       "...               ...                 ...                   ...   \n",
       "7193     46812.515331           25.615523           3549.569542   \n",
       "7194     53770.360047            7.589348          -2588.214832   \n",
       "7195     17032.898438           22.250576          -3778.618271   \n",
       "7196     33489.884642           30.381721          -4165.894240   \n",
       "7197     17746.061437          129.918030            640.505789   \n",
       "\n",
       "      LarryWilliamsR**3*StochasticK**2  \n",
       "0                         0.000000e+00  \n",
       "1                         0.000000e+00  \n",
       "2                         3.124948e+08  \n",
       "3                         7.449812e+06  \n",
       "4                         0.000000e+00  \n",
       "...                                ...  \n",
       "7193                      3.414106e+08  \n",
       "7194                      3.451048e+08  \n",
       "7195                      2.208864e+08  \n",
       "7196                      3.243418e+08  \n",
       "7197                      2.920964e+06  \n",
       "\n",
       "[7198 rows x 45 columns]"
      ]
     },
     "execution_count": 63,
     "metadata": {},
     "output_type": "execute_result"
    }
   ],
   "source": [
    "df"
   ]
  },
  {
   "cell_type": "code",
   "execution_count": 64,
   "metadata": {},
   "outputs": [
    {
     "data": {
      "text/html": [
       "<div>\n",
       "<style scoped>\n",
       "    .dataframe tbody tr th:only-of-type {\n",
       "        vertical-align: middle;\n",
       "    }\n",
       "\n",
       "    .dataframe tbody tr th {\n",
       "        vertical-align: top;\n",
       "    }\n",
       "\n",
       "    .dataframe thead th {\n",
       "        text-align: right;\n",
       "    }\n",
       "</style>\n",
       "<table border=\"1\" class=\"dataframe\">\n",
       "  <thead>\n",
       "    <tr style=\"text-align: right;\">\n",
       "      <th></th>\n",
       "      <th>Open</th>\n",
       "      <th>High</th>\n",
       "      <th>Low</th>\n",
       "      <th>Close</th>\n",
       "      <th>Adj Close</th>\n",
       "      <th>Volume</th>\n",
       "      <th>SMA5</th>\n",
       "      <th>SMA10</th>\n",
       "      <th>StochasticK</th>\n",
       "      <th>StochasticD</th>\n",
       "      <th>...</th>\n",
       "      <th>ADX/RSI</th>\n",
       "      <th>DI/Aroon</th>\n",
       "      <th>ADO*Aroon</th>\n",
       "      <th>WMA10/High</th>\n",
       "      <th>Volume/Aroon</th>\n",
       "      <th>1/(Aroon*RSI)</th>\n",
       "      <th>Momentum**3/ADX</th>\n",
       "      <th>sqrt(RSI)*Abs(CCI)</th>\n",
       "      <th>Aroon*LarryWilliamsR</th>\n",
       "      <th>LarryWilliamsR**3*StochasticK**2</th>\n",
       "    </tr>\n",
       "  </thead>\n",
       "  <tbody>\n",
       "    <tr>\n",
       "      <th>0</th>\n",
       "      <td>0.303571</td>\n",
       "      <td>0.308594</td>\n",
       "      <td>0.281250</td>\n",
       "      <td>0.287388</td>\n",
       "      <td>0.246396</td>\n",
       "      <td>551880000.0</td>\n",
       "      <td>0.322433</td>\n",
       "      <td>0.332310</td>\n",
       "      <td>7.913159</td>\n",
       "      <td>10.355999</td>\n",
       "      <td>...</td>\n",
       "      <td>15.295408</td>\n",
       "      <td>-0.165073</td>\n",
       "      <td>-13.060269</td>\n",
       "      <td>1.055399</td>\n",
       "      <td>6.898500e+06</td>\n",
       "      <td>0.013736</td>\n",
       "      <td>43021.773058</td>\n",
       "      <td>204.890721</td>\n",
       "      <td>7366.947284</td>\n",
       "      <td>4.889816e+07</td>\n",
       "    </tr>\n",
       "    <tr>\n",
       "      <th>1</th>\n",
       "      <td>0.101563</td>\n",
       "      <td>0.102121</td>\n",
       "      <td>0.101563</td>\n",
       "      <td>0.101563</td>\n",
       "      <td>0.079490</td>\n",
       "      <td>45740800.0</td>\n",
       "      <td>0.107478</td>\n",
       "      <td>0.111998</td>\n",
       "      <td>6.559737</td>\n",
       "      <td>2.186579</td>\n",
       "      <td>...</td>\n",
       "      <td>102.702023</td>\n",
       "      <td>0.168131</td>\n",
       "      <td>-400.143369</td>\n",
       "      <td>1.064376</td>\n",
       "      <td>-5.717600e+05</td>\n",
       "      <td>-0.044225</td>\n",
       "      <td>16418.552579</td>\n",
       "      <td>63.430593</td>\n",
       "      <td>-7475.221057</td>\n",
       "      <td>3.510549e+07</td>\n",
       "    </tr>\n",
       "    <tr>\n",
       "      <th>2</th>\n",
       "      <td>0.372768</td>\n",
       "      <td>0.377232</td>\n",
       "      <td>0.369420</td>\n",
       "      <td>0.370536</td>\n",
       "      <td>0.293161</td>\n",
       "      <td>102681600.0</td>\n",
       "      <td>0.373438</td>\n",
       "      <td>0.364844</td>\n",
       "      <td>75.001120</td>\n",
       "      <td>81.667488</td>\n",
       "      <td>...</td>\n",
       "      <td>44.394540</td>\n",
       "      <td>-0.044171</td>\n",
       "      <td>-34.285714</td>\n",
       "      <td>0.980474</td>\n",
       "      <td>-1.711360e+06</td>\n",
       "      <td>-0.032833</td>\n",
       "      <td>46441.895196</td>\n",
       "      <td>51.871864</td>\n",
       "      <td>-1499.932799</td>\n",
       "      <td>8.788144e+07</td>\n",
       "    </tr>\n",
       "    <tr>\n",
       "      <th>3</th>\n",
       "      <td>0.321429</td>\n",
       "      <td>0.325893</td>\n",
       "      <td>0.319196</td>\n",
       "      <td>0.325893</td>\n",
       "      <td>0.259233</td>\n",
       "      <td>115920000.0</td>\n",
       "      <td>0.327679</td>\n",
       "      <td>0.326451</td>\n",
       "      <td>29.412075</td>\n",
       "      <td>25.686866</td>\n",
       "      <td>...</td>\n",
       "      <td>79.531818</td>\n",
       "      <td>0.027359</td>\n",
       "      <td>-34.661490</td>\n",
       "      <td>1.002117</td>\n",
       "      <td>-2.229231e+06</td>\n",
       "      <td>-0.068038</td>\n",
       "      <td>37906.517975</td>\n",
       "      <td>38.630879</td>\n",
       "      <td>-3670.572114</td>\n",
       "      <td>3.042584e+08</td>\n",
       "    </tr>\n",
       "    <tr>\n",
       "      <th>4</th>\n",
       "      <td>0.397321</td>\n",
       "      <td>0.401786</td>\n",
       "      <td>0.395089</td>\n",
       "      <td>0.397321</td>\n",
       "      <td>0.317495</td>\n",
       "      <td>56291200.0</td>\n",
       "      <td>0.397545</td>\n",
       "      <td>0.390960</td>\n",
       "      <td>89.998432</td>\n",
       "      <td>87.498600</td>\n",
       "      <td>...</td>\n",
       "      <td>24.340140</td>\n",
       "      <td>0.044948</td>\n",
       "      <td>53.337315</td>\n",
       "      <td>0.982322</td>\n",
       "      <td>7.036400e+05</td>\n",
       "      <td>0.013736</td>\n",
       "      <td>54180.702777</td>\n",
       "      <td>77.511743</td>\n",
       "      <td>800.125440</td>\n",
       "      <td>8.103528e+06</td>\n",
       "    </tr>\n",
       "    <tr>\n",
       "      <th>...</th>\n",
       "      <td>...</td>\n",
       "      <td>...</td>\n",
       "      <td>...</td>\n",
       "      <td>...</td>\n",
       "      <td>...</td>\n",
       "      <td>...</td>\n",
       "      <td>...</td>\n",
       "      <td>...</td>\n",
       "      <td>...</td>\n",
       "      <td>...</td>\n",
       "      <td>...</td>\n",
       "      <td>...</td>\n",
       "      <td>...</td>\n",
       "      <td>...</td>\n",
       "      <td>...</td>\n",
       "      <td>...</td>\n",
       "      <td>...</td>\n",
       "      <td>...</td>\n",
       "      <td>...</td>\n",
       "      <td>...</td>\n",
       "      <td>...</td>\n",
       "    </tr>\n",
       "    <tr>\n",
       "      <th>3081</th>\n",
       "      <td>2.183929</td>\n",
       "      <td>2.183929</td>\n",
       "      <td>2.141786</td>\n",
       "      <td>2.142857</td>\n",
       "      <td>1.837211</td>\n",
       "      <td>605785600.0</td>\n",
       "      <td>2.177286</td>\n",
       "      <td>2.223464</td>\n",
       "      <td>13.702995</td>\n",
       "      <td>26.384444</td>\n",
       "      <td>...</td>\n",
       "      <td>78.860842</td>\n",
       "      <td>0.067642</td>\n",
       "      <td>29.389270</td>\n",
       "      <td>1.008780</td>\n",
       "      <td>-8.908612e+06</td>\n",
       "      <td>-0.052029</td>\n",
       "      <td>31106.662295</td>\n",
       "      <td>67.331368</td>\n",
       "      <td>-5868.196316</td>\n",
       "      <td>1.206752e+08</td>\n",
       "    </tr>\n",
       "    <tr>\n",
       "      <th>3082</th>\n",
       "      <td>13.980357</td>\n",
       "      <td>14.125000</td>\n",
       "      <td>13.936786</td>\n",
       "      <td>13.952143</td>\n",
       "      <td>11.962082</td>\n",
       "      <td>376356400.0</td>\n",
       "      <td>13.952928</td>\n",
       "      <td>13.701536</td>\n",
       "      <td>82.623165</td>\n",
       "      <td>81.333733</td>\n",
       "      <td>...</td>\n",
       "      <td>19.438434</td>\n",
       "      <td>-0.056882</td>\n",
       "      <td>-58.383500</td>\n",
       "      <td>0.980537</td>\n",
       "      <td>-7.840758e+06</td>\n",
       "      <td>-0.030833</td>\n",
       "      <td>84441.716085</td>\n",
       "      <td>74.663764</td>\n",
       "      <td>-834.088067</td>\n",
       "      <td>3.581918e+07</td>\n",
       "    </tr>\n",
       "    <tr>\n",
       "      <th>3083</th>\n",
       "      <td>15.998571</td>\n",
       "      <td>16.418215</td>\n",
       "      <td>15.982143</td>\n",
       "      <td>16.261429</td>\n",
       "      <td>14.335449</td>\n",
       "      <td>399380800.0</td>\n",
       "      <td>16.505286</td>\n",
       "      <td>17.156178</td>\n",
       "      <td>13.344337</td>\n",
       "      <td>6.187120</td>\n",
       "      <td>...</td>\n",
       "      <td>42.874739</td>\n",
       "      <td>0.075430</td>\n",
       "      <td>-59.692152</td>\n",
       "      <td>1.025166</td>\n",
       "      <td>-5.255011e+06</td>\n",
       "      <td>-0.019474</td>\n",
       "      <td>27936.807883</td>\n",
       "      <td>108.558461</td>\n",
       "      <td>-6585.830424</td>\n",
       "      <td>1.158737e+08</td>\n",
       "    </tr>\n",
       "    <tr>\n",
       "      <th>3084</th>\n",
       "      <td>0.146205</td>\n",
       "      <td>0.149554</td>\n",
       "      <td>0.145089</td>\n",
       "      <td>0.147879</td>\n",
       "      <td>0.126786</td>\n",
       "      <td>230417600.0</td>\n",
       "      <td>0.146763</td>\n",
       "      <td>0.147265</td>\n",
       "      <td>40.905759</td>\n",
       "      <td>28.785534</td>\n",
       "      <td>...</td>\n",
       "      <td>40.970128</td>\n",
       "      <td>-0.006744</td>\n",
       "      <td>15.001120</td>\n",
       "      <td>0.983985</td>\n",
       "      <td>1.152088e+07</td>\n",
       "      <td>0.131167</td>\n",
       "      <td>63309.720099</td>\n",
       "      <td>11.589308</td>\n",
       "      <td>1181.884825</td>\n",
       "      <td>3.453062e+08</td>\n",
       "    </tr>\n",
       "    <tr>\n",
       "      <th>3085</th>\n",
       "      <td>0.255580</td>\n",
       "      <td>0.257254</td>\n",
       "      <td>0.251116</td>\n",
       "      <td>0.256138</td>\n",
       "      <td>0.219604</td>\n",
       "      <td>131062400.0</td>\n",
       "      <td>0.254241</td>\n",
       "      <td>0.250056</td>\n",
       "      <td>93.939723</td>\n",
       "      <td>81.311582</td>\n",
       "      <td>...</td>\n",
       "      <td>11.473468</td>\n",
       "      <td>0.032326</td>\n",
       "      <td>14.545455</td>\n",
       "      <td>0.979689</td>\n",
       "      <td>1.638280e+06</td>\n",
       "      <td>0.013736</td>\n",
       "      <td>102319.002769</td>\n",
       "      <td>103.279538</td>\n",
       "      <td>484.822156</td>\n",
       "      <td>1.964156e+06</td>\n",
       "    </tr>\n",
       "  </tbody>\n",
       "</table>\n",
       "<p>3086 rows × 45 columns</p>\n",
       "</div>"
      ],
      "text/plain": [
       "           Open       High        Low      Close  Adj Close       Volume  \\\n",
       "0      0.303571   0.308594   0.281250   0.287388   0.246396  551880000.0   \n",
       "1      0.101563   0.102121   0.101563   0.101563   0.079490   45740800.0   \n",
       "2      0.372768   0.377232   0.369420   0.370536   0.293161  102681600.0   \n",
       "3      0.321429   0.325893   0.319196   0.325893   0.259233  115920000.0   \n",
       "4      0.397321   0.401786   0.395089   0.397321   0.317495   56291200.0   \n",
       "...         ...        ...        ...        ...        ...          ...   \n",
       "3081   2.183929   2.183929   2.141786   2.142857   1.837211  605785600.0   \n",
       "3082  13.980357  14.125000  13.936786  13.952143  11.962082  376356400.0   \n",
       "3083  15.998571  16.418215  15.982143  16.261429  14.335449  399380800.0   \n",
       "3084   0.146205   0.149554   0.145089   0.147879   0.126786  230417600.0   \n",
       "3085   0.255580   0.257254   0.251116   0.256138   0.219604  131062400.0   \n",
       "\n",
       "           SMA5      SMA10  StochasticK  StochasticD  ...     ADX/RSI  \\\n",
       "0      0.322433   0.332310     7.913159    10.355999  ...   15.295408   \n",
       "1      0.107478   0.111998     6.559737     2.186579  ...  102.702023   \n",
       "2      0.373438   0.364844    75.001120    81.667488  ...   44.394540   \n",
       "3      0.327679   0.326451    29.412075    25.686866  ...   79.531818   \n",
       "4      0.397545   0.390960    89.998432    87.498600  ...   24.340140   \n",
       "...         ...        ...          ...          ...  ...         ...   \n",
       "3081   2.177286   2.223464    13.702995    26.384444  ...   78.860842   \n",
       "3082  13.952928  13.701536    82.623165    81.333733  ...   19.438434   \n",
       "3083  16.505286  17.156178    13.344337     6.187120  ...   42.874739   \n",
       "3084   0.146763   0.147265    40.905759    28.785534  ...   40.970128   \n",
       "3085   0.254241   0.250056    93.939723    81.311582  ...   11.473468   \n",
       "\n",
       "      DI/Aroon   ADO*Aroon  WMA10/High  Volume/Aroon  1/(Aroon*RSI)  \\\n",
       "0    -0.165073  -13.060269    1.055399  6.898500e+06       0.013736   \n",
       "1     0.168131 -400.143369    1.064376 -5.717600e+05      -0.044225   \n",
       "2    -0.044171  -34.285714    0.980474 -1.711360e+06      -0.032833   \n",
       "3     0.027359  -34.661490    1.002117 -2.229231e+06      -0.068038   \n",
       "4     0.044948   53.337315    0.982322  7.036400e+05       0.013736   \n",
       "...        ...         ...         ...           ...            ...   \n",
       "3081  0.067642   29.389270    1.008780 -8.908612e+06      -0.052029   \n",
       "3082 -0.056882  -58.383500    0.980537 -7.840758e+06      -0.030833   \n",
       "3083  0.075430  -59.692152    1.025166 -5.255011e+06      -0.019474   \n",
       "3084 -0.006744   15.001120    0.983985  1.152088e+07       0.131167   \n",
       "3085  0.032326   14.545455    0.979689  1.638280e+06       0.013736   \n",
       "\n",
       "      Momentum**3/ADX  sqrt(RSI)*Abs(CCI)  Aroon*LarryWilliamsR  \\\n",
       "0        43021.773058          204.890721           7366.947284   \n",
       "1        16418.552579           63.430593          -7475.221057   \n",
       "2        46441.895196           51.871864          -1499.932799   \n",
       "3        37906.517975           38.630879          -3670.572114   \n",
       "4        54180.702777           77.511743            800.125440   \n",
       "...               ...                 ...                   ...   \n",
       "3081     31106.662295           67.331368          -5868.196316   \n",
       "3082     84441.716085           74.663764           -834.088067   \n",
       "3083     27936.807883          108.558461          -6585.830424   \n",
       "3084     63309.720099           11.589308           1181.884825   \n",
       "3085    102319.002769          103.279538            484.822156   \n",
       "\n",
       "      LarryWilliamsR**3*StochasticK**2  \n",
       "0                         4.889816e+07  \n",
       "1                         3.510549e+07  \n",
       "2                         8.788144e+07  \n",
       "3                         3.042584e+08  \n",
       "4                         8.103528e+06  \n",
       "...                                ...  \n",
       "3081                      1.206752e+08  \n",
       "3082                      3.581918e+07  \n",
       "3083                      1.158737e+08  \n",
       "3084                      3.453062e+08  \n",
       "3085                      1.964156e+06  \n",
       "\n",
       "[3086 rows x 45 columns]"
      ]
     },
     "execution_count": 64,
     "metadata": {},
     "output_type": "execute_result"
    }
   ],
   "source": [
    "df_test"
   ]
  },
  {
   "cell_type": "markdown",
   "metadata": {},
   "source": [
    "### Generate New Features Based on autofeat Results"
   ]
  },
  {
   "cell_type": "code",
   "execution_count": null,
   "metadata": {},
   "outputs": [],
   "source": [
    "import math"
   ]
  },
  {
   "cell_type": "code",
   "execution_count": 89,
   "metadata": {},
   "outputs": [
    {
     "data": {
      "text/plain": [
       "Index(['Open', 'High', 'Low', 'Close', 'Adj Close', 'Volume', 'SMA5', 'SMA10',\n",
       "       'StochasticK', 'StochasticD', 'LarryWilliamsR', 'ROC', 'PVT', 'ADO',\n",
       "       'WMA10', 'EMA12', 'EMA26', 'MACD', 'Momentum', 'RSI', 'CCI', 'DI',\n",
       "       'ADX', 'Aroon', 'LarryWilliamsR*RSI', 'sqrt(StochasticK)*log(RSI)',\n",
       "       'RSI/ADX', '1/(ADX*RSI)', 'Momentum**3/RSI', 'sqrt(StochasticD)/RSI',\n",
       "       'log(RSI)', 'Aroon*Volume', 'ROC*StochasticD**3', 'ROC**2/Aroon',\n",
       "       'Aroon*StochasticD**3', 'ADX/RSI', 'DI/Aroon', 'ADO*Aroon',\n",
       "       'WMA10/High', 'Volume/Aroon', '1/(Aroon*RSI)', 'Momentum**3/ADX',\n",
       "       'sqrt(RSI)*Abs(CCI)', 'Aroon*LarryWilliamsR',\n",
       "       'LarryWilliamsR**3*StochasticK**2'],\n",
       "      dtype='object')"
      ]
     },
     "execution_count": 89,
     "metadata": {},
     "output_type": "execute_result"
    }
   ],
   "source": [
    "df_test.columns"
   ]
  },
  {
   "cell_type": "code",
   "execution_count": 66,
   "metadata": {},
   "outputs": [],
   "source": [
    "def lwr_rsi (larry_williams_r, rsi):\n",
    "    return (larry_williams_r*rsi)"
   ]
  },
  {
   "cell_type": "code",
   "execution_count": 67,
   "metadata": {},
   "outputs": [],
   "source": [
    "def sqrt_stochastic_k_log_rsi (stochastic_k, rsi):\n",
    "    return np.sqrt(stochastic_k)*np.log(rsi)"
   ]
  },
  {
   "cell_type": "code",
   "execution_count": 68,
   "metadata": {},
   "outputs": [],
   "source": [
    "def rsi_adx (rsi, adx):\n",
    "    return rsi / adx"
   ]
  },
  {
   "cell_type": "code",
   "execution_count": 69,
   "metadata": {},
   "outputs": [],
   "source": [
    "def inverse_adx_rsi (adx, rsi):\n",
    "    return 1 / (adx * rsi)"
   ]
  },
  {
   "cell_type": "code",
   "execution_count": 70,
   "metadata": {},
   "outputs": [],
   "source": [
    "def momentum_3_rsi (momentum, rsi):\n",
    "    return (momentum**3) / rsi"
   ]
  },
  {
   "cell_type": "code",
   "execution_count": 71,
   "metadata": {},
   "outputs": [],
   "source": [
    "def sqrt_stochastic_d_rsi (stochastic_d, rsi):\n",
    "    return (np.sqrt(stochastic_d)/rsi)"
   ]
  },
  {
   "cell_type": "code",
   "execution_count": 72,
   "metadata": {},
   "outputs": [],
   "source": [
    "def log_rsi (rsi):\n",
    "    return np.log(rsi)"
   ]
  },
  {
   "cell_type": "code",
   "execution_count": 73,
   "metadata": {},
   "outputs": [],
   "source": [
    "def aroon_volume (aroon, volume):\n",
    "    return aroon * volume"
   ]
  },
  {
   "cell_type": "code",
   "execution_count": 75,
   "metadata": {},
   "outputs": [],
   "source": [
    "def roc_stochastic_d_3 (roc, stochastic_d):\n",
    "    return roc * stochastic_d**3"
   ]
  },
  {
   "cell_type": "code",
   "execution_count": 74,
   "metadata": {},
   "outputs": [],
   "source": [
    "def roc_2_aroon (roc, aroon):\n",
    "    return ((roc**2)/aroon)"
   ]
  },
  {
   "cell_type": "code",
   "execution_count": 76,
   "metadata": {},
   "outputs": [],
   "source": [
    "def aroon_stochastic_d_3 (aroon, stochastic_d):\n",
    "    return aroon*stochastic_d**3"
   ]
  },
  {
   "cell_type": "code",
   "execution_count": 77,
   "metadata": {},
   "outputs": [],
   "source": [
    "def adx_rsi (adx, rsi):\n",
    "    return adx / rsi"
   ]
  },
  {
   "cell_type": "code",
   "execution_count": 78,
   "metadata": {},
   "outputs": [],
   "source": [
    "def di_aroon (di, aroon):\n",
    "    return di / aroon"
   ]
  },
  {
   "cell_type": "code",
   "execution_count": 79,
   "metadata": {},
   "outputs": [],
   "source": [
    "def ado_aroon (ado, aroon):\n",
    "    return ado * aroon"
   ]
  },
  {
   "cell_type": "code",
   "execution_count": 81,
   "metadata": {},
   "outputs": [],
   "source": [
    "def wma10_high (wma10, high):\n",
    "    return wma10 / high"
   ]
  },
  {
   "cell_type": "code",
   "execution_count": 82,
   "metadata": {},
   "outputs": [],
   "source": [
    "def volume_aroon (volume, aroon):\n",
    "    return volume / aroon"
   ]
  },
  {
   "cell_type": "code",
   "execution_count": 84,
   "metadata": {},
   "outputs": [],
   "source": [
    "def inverse_aroon_rsi (aroon, rsi):\n",
    "    return 1 / (aroon * rsi)"
   ]
  },
  {
   "cell_type": "code",
   "execution_count": 85,
   "metadata": {},
   "outputs": [],
   "source": [
    "def momentum_3_adx (momentum, adx):\n",
    "    return ((momentum**3)/adx)"
   ]
  },
  {
   "cell_type": "code",
   "execution_count": 91,
   "metadata": {},
   "outputs": [],
   "source": [
    "def sqrt_rsi_abs_cci (rsi, cci):\n",
    "    return (np.sqrt(rsi)*np.abs(cci))"
   ]
  },
  {
   "cell_type": "code",
   "execution_count": 87,
   "metadata": {},
   "outputs": [],
   "source": [
    "def aroon_lwr (aroon, larry_williams_r):\n",
    "    return (aroon * larry_williams_r)"
   ]
  },
  {
   "cell_type": "code",
   "execution_count": 88,
   "metadata": {},
   "outputs": [],
   "source": [
    "def lwr_3_stochastic_k_2 (larry_williams_r, stochastic_k):\n",
    "    return ((larry_williams_r**3)*(stochastic_k**2))"
   ]
  },
  {
   "cell_type": "code",
   "execution_count": 93,
   "metadata": {},
   "outputs": [],
   "source": [
    "def compute_adv_indicators(complete_data):\n",
    "    complete_data['LarryWilliamsR*RSI'] = lwr_rsi(complete_data['LarryWilliamsR'], complete_data['RSI'])\n",
    "    complete_data['sqrt(StochasticK)*log(RSI)'] = sqrt_stochastic_k_log_rsi(complete_data['StochasticK'], complete_data['RSI'])\n",
    "    complete_data['RSI/ADX'] = rsi_adx(complete_data['RSI'], complete_data['ADX'])\n",
    "    complete_data['1/(ADX*RSI)'] = inverse_adx_rsi(complete_data['ADX'], complete_data['RSI'])\n",
    "    complete_data['Momentum**3/RSI'] = momentum_3_rsi(complete_data['Momentum'], complete_data['RSI'])\n",
    "    complete_data['sqrt(StochasticD)/RSI'] = sqrt_stochastic_d_rsi(complete_data['StochasticD'], complete_data['RSI'])\n",
    "    complete_data['log(RSI)'] = log_rsi(complete_data['RSI'])\n",
    "    complete_data['Aroon*Volume'] = aroon_volume(complete_data['Aroon'], complete_data['Volume'])\n",
    "    complete_data['ROC*StochasticD**3'] =  roc_stochastic_d_3(complete_data['ROC'], complete_data['StochasticD'])\n",
    "    complete_data['ROC**2/Aroon'] = roc_2_aroon(complete_data['ROC'], complete_data['Aroon'])\n",
    "    complete_data['Aroon*StochasticD**3'] = aroon_stochastic_d_3(complete_data['Aroon'], complete_data['StochasticD'])\n",
    "    complete_data['ADX/RSI'] = adx_rsi(complete_data['ADX'], complete_data['RSI'])\n",
    "    complete_data['DI/Aroon'] = di_aroon(complete_data['DI'], complete_data['Aroon'])\n",
    "    complete_data['ADO*Aroon'] = ado_aroon(complete_data['ADO'], complete_data['Aroon'])\n",
    "    complete_data['WMA10/High'] = wma10_high(complete_data['WMA10'], complete_data['High'])\n",
    "    complete_data['Volume/Aroon'] = volume_aroon(complete_data['Volume'], complete_data['Aroon'])\n",
    "    complete_data['1/(Aroon*RSI)'] = inverse_aroon_rsi(complete_data['Aroon'], complete_data['RSI'])\n",
    "    complete_data['Momentum**3/ADX'] = momentum_3_adx(complete_data['Momentum'], complete_data['ADX'])\n",
    "    complete_data['sqrt(RSI)*Abs(CCI)'] = sqrt_rsi_abs_cci(complete_data['RSI'], complete_data['CCI'])\n",
    "    complete_data['Aroon*LarryWilliamsR'] = aroon_lwr(complete_data['Aroon'], complete_data['LarryWilliamsR'])\n",
    "    complete_data['LarryWilliamsR**3*StochasticK**2'] = lwr_3_stochastic_k_2(complete_data['LarryWilliamsR'], complete_data['StochasticK'])\n",
    "    return complete_data\n"
   ]
  },
  {
   "cell_type": "code",
   "execution_count": 95,
   "metadata": {},
   "outputs": [
    {
     "data": {
      "text/html": [
       "<div>\n",
       "<style scoped>\n",
       "    .dataframe tbody tr th:only-of-type {\n",
       "        vertical-align: middle;\n",
       "    }\n",
       "\n",
       "    .dataframe tbody tr th {\n",
       "        vertical-align: top;\n",
       "    }\n",
       "\n",
       "    .dataframe thead th {\n",
       "        text-align: right;\n",
       "    }\n",
       "</style>\n",
       "<table border=\"1\" class=\"dataframe\">\n",
       "  <thead>\n",
       "    <tr style=\"text-align: right;\">\n",
       "      <th></th>\n",
       "      <th>Open</th>\n",
       "      <th>High</th>\n",
       "      <th>Low</th>\n",
       "      <th>Close</th>\n",
       "      <th>Adj Close</th>\n",
       "      <th>Volume</th>\n",
       "      <th>SMA5</th>\n",
       "      <th>SMA10</th>\n",
       "      <th>StochasticK</th>\n",
       "      <th>StochasticD</th>\n",
       "      <th>...</th>\n",
       "      <th>ADX/RSI</th>\n",
       "      <th>DI/Aroon</th>\n",
       "      <th>ADO*Aroon</th>\n",
       "      <th>WMA10/High</th>\n",
       "      <th>Volume/Aroon</th>\n",
       "      <th>1/(Aroon*RSI)</th>\n",
       "      <th>Momentum**3/ADX</th>\n",
       "      <th>sqrt(RSI)*Abs(CCI)</th>\n",
       "      <th>Aroon*LarryWilliamsR</th>\n",
       "      <th>LarryWilliamsR**3*StochasticK**2</th>\n",
       "    </tr>\n",
       "  </thead>\n",
       "  <tbody>\n",
       "    <tr>\n",
       "      <th>0</th>\n",
       "      <td>0.151228</td>\n",
       "      <td>0.151228</td>\n",
       "      <td>0.150670</td>\n",
       "      <td>0.150670</td>\n",
       "      <td>0.117924</td>\n",
       "      <td>35728000</td>\n",
       "      <td>0.154911</td>\n",
       "      <td>0.147433</td>\n",
       "      <td>78.162269</td>\n",
       "      <td>81.610332</td>\n",
       "      <td>...</td>\n",
       "      <td>43.321438</td>\n",
       "      <td>0.267456</td>\n",
       "      <td>-160.000000</td>\n",
       "      <td>1.003957</td>\n",
       "      <td>1.116500e+06</td>\n",
       "      <td>0.034340</td>\n",
       "      <td>41035.900341</td>\n",
       "      <td>49.514572</td>\n",
       "      <td>698.807390</td>\n",
       "      <td>6.362340e+07</td>\n",
       "    </tr>\n",
       "    <tr>\n",
       "      <th>1</th>\n",
       "      <td>0.144531</td>\n",
       "      <td>0.144531</td>\n",
       "      <td>0.143973</td>\n",
       "      <td>0.143973</td>\n",
       "      <td>0.112683</td>\n",
       "      <td>45158400</td>\n",
       "      <td>0.151563</td>\n",
       "      <td>0.149219</td>\n",
       "      <td>64.367958</td>\n",
       "      <td>75.862874</td>\n",
       "      <td>...</td>\n",
       "      <td>37.390235</td>\n",
       "      <td>0.079852</td>\n",
       "      <td>-352.057348</td>\n",
       "      <td>1.046123</td>\n",
       "      <td>1.411200e+06</td>\n",
       "      <td>0.034340</td>\n",
       "      <td>48717.051162</td>\n",
       "      <td>16.056009</td>\n",
       "      <td>1140.225339</td>\n",
       "      <td>1.874397e+08</td>\n",
       "    </tr>\n",
       "    <tr>\n",
       "      <th>2</th>\n",
       "      <td>0.138393</td>\n",
       "      <td>0.138393</td>\n",
       "      <td>0.137835</td>\n",
       "      <td>0.137835</td>\n",
       "      <td>0.107879</td>\n",
       "      <td>55686400</td>\n",
       "      <td>0.147768</td>\n",
       "      <td>0.149777</td>\n",
       "      <td>48.781660</td>\n",
       "      <td>63.770629</td>\n",
       "      <td>...</td>\n",
       "      <td>38.743768</td>\n",
       "      <td>-0.095489</td>\n",
       "      <td>-320.000000</td>\n",
       "      <td>1.077565</td>\n",
       "      <td>1.740200e+06</td>\n",
       "      <td>0.046250</td>\n",
       "      <td>69839.443784</td>\n",
       "      <td>19.726403</td>\n",
       "      <td>1638.986866</td>\n",
       "      <td>3.197346e+08</td>\n",
       "    </tr>\n",
       "    <tr>\n",
       "      <th>3</th>\n",
       "      <td>0.135603</td>\n",
       "      <td>0.135603</td>\n",
       "      <td>0.135045</td>\n",
       "      <td>0.135045</td>\n",
       "      <td>0.105695</td>\n",
       "      <td>39827200</td>\n",
       "      <td>0.144308</td>\n",
       "      <td>0.149498</td>\n",
       "      <td>38.158453</td>\n",
       "      <td>50.436024</td>\n",
       "      <td>...</td>\n",
       "      <td>28.123215</td>\n",
       "      <td>-0.185653</td>\n",
       "      <td>-128.000000</td>\n",
       "      <td>1.079983</td>\n",
       "      <td>1.244600e+06</td>\n",
       "      <td>0.046250</td>\n",
       "      <td>84089.096079</td>\n",
       "      <td>44.537094</td>\n",
       "      <td>1978.929498</td>\n",
       "      <td>3.443678e+08</td>\n",
       "    </tr>\n",
       "    <tr>\n",
       "      <th>4</th>\n",
       "      <td>0.142299</td>\n",
       "      <td>0.142857</td>\n",
       "      <td>0.142299</td>\n",
       "      <td>0.142299</td>\n",
       "      <td>0.111372</td>\n",
       "      <td>21504000</td>\n",
       "      <td>0.141964</td>\n",
       "      <td>0.149219</td>\n",
       "      <td>46.031972</td>\n",
       "      <td>44.324028</td>\n",
       "      <td>...</td>\n",
       "      <td>31.312912</td>\n",
       "      <td>-0.063463</td>\n",
       "      <td>448.000000</td>\n",
       "      <td>1.015982</td>\n",
       "      <td>6.720000e+05</td>\n",
       "      <td>0.061563</td>\n",
       "      <td>107949.145840</td>\n",
       "      <td>15.979999</td>\n",
       "      <td>1726.976903</td>\n",
       "      <td>3.330649e+08</td>\n",
       "    </tr>\n",
       "    <tr>\n",
       "      <th>...</th>\n",
       "      <td>...</td>\n",
       "      <td>...</td>\n",
       "      <td>...</td>\n",
       "      <td>...</td>\n",
       "      <td>...</td>\n",
       "      <td>...</td>\n",
       "      <td>...</td>\n",
       "      <td>...</td>\n",
       "      <td>...</td>\n",
       "      <td>...</td>\n",
       "      <td>...</td>\n",
       "      <td>...</td>\n",
       "      <td>...</td>\n",
       "      <td>...</td>\n",
       "      <td>...</td>\n",
       "      <td>...</td>\n",
       "      <td>...</td>\n",
       "      <td>...</td>\n",
       "      <td>...</td>\n",
       "      <td>...</td>\n",
       "      <td>...</td>\n",
       "    </tr>\n",
       "    <tr>\n",
       "      <th>10279</th>\n",
       "      <td>151.000000</td>\n",
       "      <td>155.000000</td>\n",
       "      <td>150.990005</td>\n",
       "      <td>153.490005</td>\n",
       "      <td>153.490005</td>\n",
       "      <td>88807000</td>\n",
       "      <td>150.470001</td>\n",
       "      <td>150.376001</td>\n",
       "      <td>82.421470</td>\n",
       "      <td>67.809125</td>\n",
       "      <td>...</td>\n",
       "      <td>15.711104</td>\n",
       "      <td>0.022195</td>\n",
       "      <td>95.760718</td>\n",
       "      <td>0.971112</td>\n",
       "      <td>9.250729e+05</td>\n",
       "      <td>0.011447</td>\n",
       "      <td>71216.376092</td>\n",
       "      <td>174.172876</td>\n",
       "      <td>1687.538853</td>\n",
       "      <td>3.690017e+07</td>\n",
       "    </tr>\n",
       "    <tr>\n",
       "      <th>10280</th>\n",
       "      <td>153.710007</td>\n",
       "      <td>158.669998</td>\n",
       "      <td>153.050003</td>\n",
       "      <td>157.869995</td>\n",
       "      <td>157.869995</td>\n",
       "      <td>137827700</td>\n",
       "      <td>152.470001</td>\n",
       "      <td>151.067000</td>\n",
       "      <td>92.850734</td>\n",
       "      <td>81.057205</td>\n",
       "      <td>...</td>\n",
       "      <td>12.274416</td>\n",
       "      <td>0.048372</td>\n",
       "      <td>88.483945</td>\n",
       "      <td>0.957238</td>\n",
       "      <td>1.435705e+06</td>\n",
       "      <td>0.008271</td>\n",
       "      <td>75715.183966</td>\n",
       "      <td>320.732840</td>\n",
       "      <td>686.329529</td>\n",
       "      <td>3.150323e+06</td>\n",
       "    </tr>\n",
       "    <tr>\n",
       "      <th>10281</th>\n",
       "      <td>157.649994</td>\n",
       "      <td>161.020004</td>\n",
       "      <td>156.529999</td>\n",
       "      <td>160.550003</td>\n",
       "      <td>160.550003</td>\n",
       "      <td>117147500</td>\n",
       "      <td>154.582001</td>\n",
       "      <td>151.994000</td>\n",
       "      <td>96.528798</td>\n",
       "      <td>90.600334</td>\n",
       "      <td>...</td>\n",
       "      <td>13.857348</td>\n",
       "      <td>0.060827</td>\n",
       "      <td>67.349783</td>\n",
       "      <td>0.953975</td>\n",
       "      <td>1.220286e+06</td>\n",
       "      <td>0.008271</td>\n",
       "      <td>71740.151267</td>\n",
       "      <td>283.894378</td>\n",
       "      <td>333.235372</td>\n",
       "      <td>3.897206e+05</td>\n",
       "    </tr>\n",
       "    <tr>\n",
       "      <th>10282</th>\n",
       "      <td>161.679993</td>\n",
       "      <td>165.699997</td>\n",
       "      <td>161.000000</td>\n",
       "      <td>161.020004</td>\n",
       "      <td>161.020004</td>\n",
       "      <td>117467900</td>\n",
       "      <td>156.786001</td>\n",
       "      <td>153.052000</td>\n",
       "      <td>74.313981</td>\n",
       "      <td>87.897838</td>\n",
       "      <td>...</td>\n",
       "      <td>15.714129</td>\n",
       "      <td>0.200079</td>\n",
       "      <td>30.680835</td>\n",
       "      <td>0.936935</td>\n",
       "      <td>4.195282e+06</td>\n",
       "      <td>0.028357</td>\n",
       "      <td>62477.286181</td>\n",
       "      <td>242.476426</td>\n",
       "      <td>719.208545</td>\n",
       "      <td>9.359044e+07</td>\n",
       "    </tr>\n",
       "    <tr>\n",
       "      <th>10283</th>\n",
       "      <td>161.119995</td>\n",
       "      <td>161.800003</td>\n",
       "      <td>159.059998</td>\n",
       "      <td>161.410004</td>\n",
       "      <td>161.410004</td>\n",
       "      <td>95933900</td>\n",
       "      <td>158.868002</td>\n",
       "      <td>154.112001</td>\n",
       "      <td>76.454485</td>\n",
       "      <td>82.432421</td>\n",
       "      <td>...</td>\n",
       "      <td>12.285104</td>\n",
       "      <td>0.167761</td>\n",
       "      <td>9.109461</td>\n",
       "      <td>0.968911</td>\n",
       "      <td>2.997934e+06</td>\n",
       "      <td>0.017017</td>\n",
       "      <td>53616.035726</td>\n",
       "      <td>180.303302</td>\n",
       "      <td>753.456468</td>\n",
       "      <td>7.630105e+07</td>\n",
       "    </tr>\n",
       "  </tbody>\n",
       "</table>\n",
       "<p>10284 rows × 45 columns</p>\n",
       "</div>"
      ],
      "text/plain": [
       "             Open        High         Low       Close   Adj Close     Volume  \\\n",
       "0        0.151228    0.151228    0.150670    0.150670    0.117924   35728000   \n",
       "1        0.144531    0.144531    0.143973    0.143973    0.112683   45158400   \n",
       "2        0.138393    0.138393    0.137835    0.137835    0.107879   55686400   \n",
       "3        0.135603    0.135603    0.135045    0.135045    0.105695   39827200   \n",
       "4        0.142299    0.142857    0.142299    0.142299    0.111372   21504000   \n",
       "...           ...         ...         ...         ...         ...        ...   \n",
       "10279  151.000000  155.000000  150.990005  153.490005  153.490005   88807000   \n",
       "10280  153.710007  158.669998  153.050003  157.869995  157.869995  137827700   \n",
       "10281  157.649994  161.020004  156.529999  160.550003  160.550003  117147500   \n",
       "10282  161.679993  165.699997  161.000000  161.020004  161.020004  117467900   \n",
       "10283  161.119995  161.800003  159.059998  161.410004  161.410004   95933900   \n",
       "\n",
       "             SMA5       SMA10  StochasticK  StochasticD  ...    ADX/RSI  \\\n",
       "0        0.154911    0.147433    78.162269    81.610332  ...  43.321438   \n",
       "1        0.151563    0.149219    64.367958    75.862874  ...  37.390235   \n",
       "2        0.147768    0.149777    48.781660    63.770629  ...  38.743768   \n",
       "3        0.144308    0.149498    38.158453    50.436024  ...  28.123215   \n",
       "4        0.141964    0.149219    46.031972    44.324028  ...  31.312912   \n",
       "...           ...         ...          ...          ...  ...        ...   \n",
       "10279  150.470001  150.376001    82.421470    67.809125  ...  15.711104   \n",
       "10280  152.470001  151.067000    92.850734    81.057205  ...  12.274416   \n",
       "10281  154.582001  151.994000    96.528798    90.600334  ...  13.857348   \n",
       "10282  156.786001  153.052000    74.313981    87.897838  ...  15.714129   \n",
       "10283  158.868002  154.112001    76.454485    82.432421  ...  12.285104   \n",
       "\n",
       "       DI/Aroon   ADO*Aroon  WMA10/High  Volume/Aroon  1/(Aroon*RSI)  \\\n",
       "0      0.267456 -160.000000    1.003957  1.116500e+06       0.034340   \n",
       "1      0.079852 -352.057348    1.046123  1.411200e+06       0.034340   \n",
       "2     -0.095489 -320.000000    1.077565  1.740200e+06       0.046250   \n",
       "3     -0.185653 -128.000000    1.079983  1.244600e+06       0.046250   \n",
       "4     -0.063463  448.000000    1.015982  6.720000e+05       0.061563   \n",
       "...         ...         ...         ...           ...            ...   \n",
       "10279  0.022195   95.760718    0.971112  9.250729e+05       0.011447   \n",
       "10280  0.048372   88.483945    0.957238  1.435705e+06       0.008271   \n",
       "10281  0.060827   67.349783    0.953975  1.220286e+06       0.008271   \n",
       "10282  0.200079   30.680835    0.936935  4.195282e+06       0.028357   \n",
       "10283  0.167761    9.109461    0.968911  2.997934e+06       0.017017   \n",
       "\n",
       "       Momentum**3/ADX  sqrt(RSI)*Abs(CCI)  Aroon*LarryWilliamsR  \\\n",
       "0         41035.900341           49.514572            698.807390   \n",
       "1         48717.051162           16.056009           1140.225339   \n",
       "2         69839.443784           19.726403           1638.986866   \n",
       "3         84089.096079           44.537094           1978.929498   \n",
       "4        107949.145840           15.979999           1726.976903   \n",
       "...                ...                 ...                   ...   \n",
       "10279     71216.376092          174.172876           1687.538853   \n",
       "10280     75715.183966          320.732840            686.329529   \n",
       "10281     71740.151267          283.894378            333.235372   \n",
       "10282     62477.286181          242.476426            719.208545   \n",
       "10283     53616.035726          180.303302            753.456468   \n",
       "\n",
       "       LarryWilliamsR**3*StochasticK**2  \n",
       "0                          6.362340e+07  \n",
       "1                          1.874397e+08  \n",
       "2                          3.197346e+08  \n",
       "3                          3.443678e+08  \n",
       "4                          3.330649e+08  \n",
       "...                                 ...  \n",
       "10279                      3.690017e+07  \n",
       "10280                      3.150323e+06  \n",
       "10281                      3.897206e+05  \n",
       "10282                      9.359044e+07  \n",
       "10283                      7.630105e+07  \n",
       "\n",
       "[10284 rows x 45 columns]"
      ]
     },
     "execution_count": 95,
     "metadata": {},
     "output_type": "execute_result"
    }
   ],
   "source": [
    "enhanced_data = compute_adv_indicators(complete_data)\n",
    "enhanced_data"
   ]
  },
  {
   "cell_type": "markdown",
   "metadata": {},
   "source": [
    "### autofeat Feature Selection"
   ]
  },
  {
   "cell_type": "code",
   "execution_count": 96,
   "metadata": {},
   "outputs": [
    {
     "name": "stderr",
     "output_type": "stream",
     "text": [
      "C:\\Users\\rshay\\anaconda3\\lib\\site-packages\\sklearn\\utils\\validation.py:72: DataConversionWarning: A column-vector y was passed when a 1d array was expected. Please change the shape of y to (n_samples, ), for example using ravel().\n",
      "  return f(**kwargs)\n"
     ]
    },
    {
     "name": "stdout",
     "output_type": "stream",
     "text": [
      "[featsel] Scaling data...done.\n",
      "[featsel] Feature selection run 1/5\n",
      "[featsel] Feature selection run 2/5\n",
      "[featsel] Feature selection run 3/5\n",
      "[featsel] Feature selection run 4/5\n",
      "[featsel] Feature selection run 5/5\n",
      "[featsel] 30 features after 5 feature selection runs\n",
      "[featsel] 26 features after correlation filtering\n",
      "[featsel] 16 features after noise filtering\n"
     ]
    }
   ],
   "source": [
    "from autofeat import FeatureSelector\n",
    "fsel = FeatureSelector(verbose=1)\n",
    "selected_data = fsel.fit_transform(pd.DataFrame(enhanced_data), pd.DataFrame(target))"
   ]
  },
  {
   "cell_type": "code",
   "execution_count": 97,
   "metadata": {},
   "outputs": [
    {
     "data": {
      "text/html": [
       "<div>\n",
       "<style scoped>\n",
       "    .dataframe tbody tr th:only-of-type {\n",
       "        vertical-align: middle;\n",
       "    }\n",
       "\n",
       "    .dataframe tbody tr th {\n",
       "        vertical-align: top;\n",
       "    }\n",
       "\n",
       "    .dataframe thead th {\n",
       "        text-align: right;\n",
       "    }\n",
       "</style>\n",
       "<table border=\"1\" class=\"dataframe\">\n",
       "  <thead>\n",
       "    <tr style=\"text-align: right;\">\n",
       "      <th></th>\n",
       "      <th>ROC</th>\n",
       "      <th>log(RSI)</th>\n",
       "      <th>WMA10/High</th>\n",
       "      <th>ROC**2/Aroon</th>\n",
       "      <th>sqrt(RSI)*Abs(CCI)</th>\n",
       "      <th>LarryWilliamsR*RSI</th>\n",
       "      <th>ROC*StochasticD**3</th>\n",
       "      <th>Aroon*StochasticD**3</th>\n",
       "      <th>Aroon*Volume</th>\n",
       "      <th>Aroon*LarryWilliamsR</th>\n",
       "      <th>sqrt(StochasticK)*log(RSI)</th>\n",
       "      <th>ADO*Aroon</th>\n",
       "      <th>1/(ADX*RSI)</th>\n",
       "      <th>sqrt(StochasticD)/RSI</th>\n",
       "      <th>RSI/ADX</th>\n",
       "      <th>Momentum**3/RSI</th>\n",
       "    </tr>\n",
       "  </thead>\n",
       "  <tbody>\n",
       "    <tr>\n",
       "      <th>0</th>\n",
       "      <td>0.336639</td>\n",
       "      <td>-0.094300</td>\n",
       "      <td>1.003957</td>\n",
       "      <td>0.003541</td>\n",
       "      <td>49.514572</td>\n",
       "      <td>19.872556</td>\n",
       "      <td>182978.616638</td>\n",
       "      <td>1.739344e+07</td>\n",
       "      <td>1.143296e+09</td>\n",
       "      <td>698.807390</td>\n",
       "      <td>-0.833697</td>\n",
       "      <td>-160.000000</td>\n",
       "      <td>0.027874</td>\n",
       "      <td>9.927190</td>\n",
       "      <td>0.023083</td>\n",
       "      <td>1.777734e+06</td>\n",
       "    </tr>\n",
       "    <tr>\n",
       "      <th>1</th>\n",
       "      <td>0.246379</td>\n",
       "      <td>-0.094300</td>\n",
       "      <td>1.046123</td>\n",
       "      <td>0.001897</td>\n",
       "      <td>16.056009</td>\n",
       "      <td>32.425518</td>\n",
       "      <td>107570.182685</td>\n",
       "      <td>1.397133e+07</td>\n",
       "      <td>1.445069e+09</td>\n",
       "      <td>1140.225339</td>\n",
       "      <td>-0.756562</td>\n",
       "      <td>-352.057348</td>\n",
       "      <td>0.032296</td>\n",
       "      <td>9.571245</td>\n",
       "      <td>0.026745</td>\n",
       "      <td>1.821542e+06</td>\n",
       "    </tr>\n",
       "    <tr>\n",
       "      <th>2</th>\n",
       "      <td>0.159622</td>\n",
       "      <td>-0.392042</td>\n",
       "      <td>1.077565</td>\n",
       "      <td>0.000796</td>\n",
       "      <td>19.726403</td>\n",
       "      <td>34.606986</td>\n",
       "      <td>41395.685567</td>\n",
       "      <td>8.298739e+06</td>\n",
       "      <td>1.781965e+09</td>\n",
       "      <td>1638.986866</td>\n",
       "      <td>-2.738174</td>\n",
       "      <td>-320.000000</td>\n",
       "      <td>0.056536</td>\n",
       "      <td>11.818764</td>\n",
       "      <td>0.025811</td>\n",
       "      <td>2.705843e+06</td>\n",
       "    </tr>\n",
       "    <tr>\n",
       "      <th>3</th>\n",
       "      <td>0.070800</td>\n",
       "      <td>-0.392042</td>\n",
       "      <td>1.079983</td>\n",
       "      <td>0.000157</td>\n",
       "      <td>44.537094</td>\n",
       "      <td>41.784829</td>\n",
       "      <td>9083.540593</td>\n",
       "      <td>4.105561e+06</td>\n",
       "      <td>1.274470e+09</td>\n",
       "      <td>1978.929498</td>\n",
       "      <td>-2.421743</td>\n",
       "      <td>-128.000000</td>\n",
       "      <td>0.077886</td>\n",
       "      <td>10.510712</td>\n",
       "      <td>0.035558</td>\n",
       "      <td>2.364856e+06</td>\n",
       "    </tr>\n",
       "    <tr>\n",
       "      <th>4</th>\n",
       "      <td>0.075952</td>\n",
       "      <td>-0.678034</td>\n",
       "      <td>1.015982</td>\n",
       "      <td>0.000180</td>\n",
       "      <td>15.979999</td>\n",
       "      <td>27.394938</td>\n",
       "      <td>6613.917914</td>\n",
       "      <td>2.786555e+06</td>\n",
       "      <td>6.881280e+08</td>\n",
       "      <td>1726.976903</td>\n",
       "      <td>-4.600245</td>\n",
       "      <td>448.000000</td>\n",
       "      <td>0.123939</td>\n",
       "      <td>13.115530</td>\n",
       "      <td>0.031936</td>\n",
       "      <td>3.380202e+06</td>\n",
       "    </tr>\n",
       "    <tr>\n",
       "      <th>...</th>\n",
       "      <td>...</td>\n",
       "      <td>...</td>\n",
       "      <td>...</td>\n",
       "      <td>...</td>\n",
       "      <td>...</td>\n",
       "      <td>...</td>\n",
       "      <td>...</td>\n",
       "      <td>...</td>\n",
       "      <td>...</td>\n",
       "      <td>...</td>\n",
       "      <td>...</td>\n",
       "      <td>...</td>\n",
       "      <td>...</td>\n",
       "      <td>...</td>\n",
       "      <td>...</td>\n",
       "      <td>...</td>\n",
       "    </tr>\n",
       "    <tr>\n",
       "      <th>10279</th>\n",
       "      <td>0.030411</td>\n",
       "      <td>-0.094300</td>\n",
       "      <td>0.971112</td>\n",
       "      <td>0.000010</td>\n",
       "      <td>174.172876</td>\n",
       "      <td>15.996640</td>\n",
       "      <td>9481.842930</td>\n",
       "      <td>2.993199e+07</td>\n",
       "      <td>8.525472e+09</td>\n",
       "      <td>1687.538853</td>\n",
       "      <td>-0.856111</td>\n",
       "      <td>95.760718</td>\n",
       "      <td>0.076860</td>\n",
       "      <td>9.048943</td>\n",
       "      <td>0.063649</td>\n",
       "      <td>1.118888e+06</td>\n",
       "    </tr>\n",
       "    <tr>\n",
       "      <th>10280</th>\n",
       "      <td>0.052326</td>\n",
       "      <td>0.230672</td>\n",
       "      <td>0.957238</td>\n",
       "      <td>0.000029</td>\n",
       "      <td>320.732840</td>\n",
       "      <td>9.004113</td>\n",
       "      <td>27867.297407</td>\n",
       "      <td>5.112650e+07</td>\n",
       "      <td>1.323146e+10</td>\n",
       "      <td>686.329529</td>\n",
       "      <td>2.222733</td>\n",
       "      <td>88.483945</td>\n",
       "      <td>0.051362</td>\n",
       "      <td>7.148523</td>\n",
       "      <td>0.081470</td>\n",
       "      <td>9.293597e+05</td>\n",
       "    </tr>\n",
       "    <tr>\n",
       "      <th>10281</th>\n",
       "      <td>0.059806</td>\n",
       "      <td>0.230672</td>\n",
       "      <td>0.953975</td>\n",
       "      <td>0.000037</td>\n",
       "      <td>283.894378</td>\n",
       "      <td>4.371791</td>\n",
       "      <td>44476.798718</td>\n",
       "      <td>7.139382e+07</td>\n",
       "      <td>1.124616e+10</td>\n",
       "      <td>333.235372</td>\n",
       "      <td>2.266329</td>\n",
       "      <td>67.349783</td>\n",
       "      <td>0.045495</td>\n",
       "      <td>7.557626</td>\n",
       "      <td>0.072164</td>\n",
       "      <td>9.941282e+05</td>\n",
       "    </tr>\n",
       "    <tr>\n",
       "      <th>10282</th>\n",
       "      <td>0.066640</td>\n",
       "      <td>0.230672</td>\n",
       "      <td>0.936935</td>\n",
       "      <td>0.000159</td>\n",
       "      <td>242.476426</td>\n",
       "      <td>32.350150</td>\n",
       "      <td>45255.411385</td>\n",
       "      <td>1.901484e+07</td>\n",
       "      <td>3.289101e+09</td>\n",
       "      <td>719.208545</td>\n",
       "      <td>1.988519</td>\n",
       "      <td>30.680835</td>\n",
       "      <td>0.040119</td>\n",
       "      <td>7.444055</td>\n",
       "      <td>0.063637</td>\n",
       "      <td>9.817762e+05</td>\n",
       "    </tr>\n",
       "    <tr>\n",
       "      <th>10283</th>\n",
       "      <td>0.066962</td>\n",
       "      <td>0.607804</td>\n",
       "      <td>0.968911</td>\n",
       "      <td>0.000140</td>\n",
       "      <td>180.303302</td>\n",
       "      <td>43.238842</td>\n",
       "      <td>37507.862728</td>\n",
       "      <td>1.792438e+07</td>\n",
       "      <td>3.069885e+09</td>\n",
       "      <td>753.456468</td>\n",
       "      <td>5.314531</td>\n",
       "      <td>9.109461</td>\n",
       "      <td>0.024137</td>\n",
       "      <td>4.944054</td>\n",
       "      <td>0.081399</td>\n",
       "      <td>6.586786e+05</td>\n",
       "    </tr>\n",
       "  </tbody>\n",
       "</table>\n",
       "<p>10284 rows × 16 columns</p>\n",
       "</div>"
      ],
      "text/plain": [
       "            ROC  log(RSI)  WMA10/High  ROC**2/Aroon  sqrt(RSI)*Abs(CCI)  \\\n",
       "0      0.336639 -0.094300    1.003957      0.003541           49.514572   \n",
       "1      0.246379 -0.094300    1.046123      0.001897           16.056009   \n",
       "2      0.159622 -0.392042    1.077565      0.000796           19.726403   \n",
       "3      0.070800 -0.392042    1.079983      0.000157           44.537094   \n",
       "4      0.075952 -0.678034    1.015982      0.000180           15.979999   \n",
       "...         ...       ...         ...           ...                 ...   \n",
       "10279  0.030411 -0.094300    0.971112      0.000010          174.172876   \n",
       "10280  0.052326  0.230672    0.957238      0.000029          320.732840   \n",
       "10281  0.059806  0.230672    0.953975      0.000037          283.894378   \n",
       "10282  0.066640  0.230672    0.936935      0.000159          242.476426   \n",
       "10283  0.066962  0.607804    0.968911      0.000140          180.303302   \n",
       "\n",
       "       LarryWilliamsR*RSI  ROC*StochasticD**3  Aroon*StochasticD**3  \\\n",
       "0               19.872556       182978.616638          1.739344e+07   \n",
       "1               32.425518       107570.182685          1.397133e+07   \n",
       "2               34.606986        41395.685567          8.298739e+06   \n",
       "3               41.784829         9083.540593          4.105561e+06   \n",
       "4               27.394938         6613.917914          2.786555e+06   \n",
       "...                   ...                 ...                   ...   \n",
       "10279           15.996640         9481.842930          2.993199e+07   \n",
       "10280            9.004113        27867.297407          5.112650e+07   \n",
       "10281            4.371791        44476.798718          7.139382e+07   \n",
       "10282           32.350150        45255.411385          1.901484e+07   \n",
       "10283           43.238842        37507.862728          1.792438e+07   \n",
       "\n",
       "       Aroon*Volume  Aroon*LarryWilliamsR  sqrt(StochasticK)*log(RSI)  \\\n",
       "0      1.143296e+09            698.807390                   -0.833697   \n",
       "1      1.445069e+09           1140.225339                   -0.756562   \n",
       "2      1.781965e+09           1638.986866                   -2.738174   \n",
       "3      1.274470e+09           1978.929498                   -2.421743   \n",
       "4      6.881280e+08           1726.976903                   -4.600245   \n",
       "...             ...                   ...                         ...   \n",
       "10279  8.525472e+09           1687.538853                   -0.856111   \n",
       "10280  1.323146e+10            686.329529                    2.222733   \n",
       "10281  1.124616e+10            333.235372                    2.266329   \n",
       "10282  3.289101e+09            719.208545                    1.988519   \n",
       "10283  3.069885e+09            753.456468                    5.314531   \n",
       "\n",
       "        ADO*Aroon  1/(ADX*RSI)  sqrt(StochasticD)/RSI   RSI/ADX  \\\n",
       "0     -160.000000     0.027874               9.927190  0.023083   \n",
       "1     -352.057348     0.032296               9.571245  0.026745   \n",
       "2     -320.000000     0.056536              11.818764  0.025811   \n",
       "3     -128.000000     0.077886              10.510712  0.035558   \n",
       "4      448.000000     0.123939              13.115530  0.031936   \n",
       "...           ...          ...                    ...       ...   \n",
       "10279   95.760718     0.076860               9.048943  0.063649   \n",
       "10280   88.483945     0.051362               7.148523  0.081470   \n",
       "10281   67.349783     0.045495               7.557626  0.072164   \n",
       "10282   30.680835     0.040119               7.444055  0.063637   \n",
       "10283    9.109461     0.024137               4.944054  0.081399   \n",
       "\n",
       "       Momentum**3/RSI  \n",
       "0         1.777734e+06  \n",
       "1         1.821542e+06  \n",
       "2         2.705843e+06  \n",
       "3         2.364856e+06  \n",
       "4         3.380202e+06  \n",
       "...                ...  \n",
       "10279     1.118888e+06  \n",
       "10280     9.293597e+05  \n",
       "10281     9.941282e+05  \n",
       "10282     9.817762e+05  \n",
       "10283     6.586786e+05  \n",
       "\n",
       "[10284 rows x 16 columns]"
      ]
     },
     "execution_count": 97,
     "metadata": {},
     "output_type": "execute_result"
    }
   ],
   "source": [
    "selected_data"
   ]
  },
  {
   "cell_type": "code",
   "execution_count": 98,
   "metadata": {},
   "outputs": [],
   "source": [
    "from sklearn.preprocessing import StandardScaler"
   ]
  },
  {
   "cell_type": "code",
   "execution_count": 99,
   "metadata": {},
   "outputs": [
    {
     "data": {
      "text/plain": [
       "StandardScaler()"
      ]
     },
     "execution_count": 99,
     "metadata": {},
     "output_type": "execute_result"
    }
   ],
   "source": [
    "scaler = StandardScaler()  \n",
    "scaler.fit(selected_data)"
   ]
  },
  {
   "cell_type": "code",
   "execution_count": 100,
   "metadata": {},
   "outputs": [],
   "source": [
    "\n",
    "selected_scaled_data = scaler.transform(selected_data)"
   ]
  },
  {
   "cell_type": "code",
   "execution_count": 101,
   "metadata": {},
   "outputs": [],
   "source": [
    "from sklearn.model_selection import train_test_split\n",
    "\n",
    "X_train, X_test, y_train, y_test = train_test_split(selected_scaled_data,target,test_size=0.3)"
   ]
  },
  {
   "cell_type": "code",
   "execution_count": 102,
   "metadata": {},
   "outputs": [],
   "source": [
    "X_train = scaler.transform(X_train)  \n",
    "X_test = scaler.transform(X_test) "
   ]
  },
  {
   "cell_type": "code",
   "execution_count": 103,
   "metadata": {},
   "outputs": [],
   "source": [
    "selected_scaled_data_df = pd.DataFrame(selected_scaled_data)\n",
    "selected_scaled_data_1250 = selected_scaled_data_df.tail(1250)\n",
    "selected_scaled_data_250 = selected_scaled_data_df.tail(250)\n",
    "selected_scaled_data_125 = selected_scaled_data_df.tail(125)\n",
    "target_1250 = target.tail(1250)\n",
    "target_250 = target.tail(250)\n",
    "target_125 = target.tail(125)"
   ]
  },
  {
   "cell_type": "code",
   "execution_count": 104,
   "metadata": {},
   "outputs": [],
   "source": [
    "X_train_1250, X_test_1250, y_train_1250, y_test_1250 = train_test_split(selected_scaled_data_1250,target_1250,test_size=0.3)"
   ]
  },
  {
   "cell_type": "code",
   "execution_count": 105,
   "metadata": {},
   "outputs": [],
   "source": [
    "X_train_250, X_test_250, y_train_250, y_test_250 = train_test_split(selected_scaled_data_250,target_250,test_size=0.3)"
   ]
  },
  {
   "cell_type": "code",
   "execution_count": 106,
   "metadata": {},
   "outputs": [],
   "source": [
    "X_train_125, X_test_125, y_train_125, y_test_125 = train_test_split(selected_scaled_data_125,target_125,test_size=0.3)"
   ]
  },
  {
   "cell_type": "markdown",
   "metadata": {},
   "source": [
    "### Logistic Regression"
   ]
  },
  {
   "cell_type": "markdown",
   "metadata": {},
   "source": [
    "#### Max Duration"
   ]
  },
  {
   "cell_type": "code",
   "execution_count": 107,
   "metadata": {},
   "outputs": [],
   "source": [
    "from sklearn.metrics import accuracy_score\n",
    "from sklearn.metrics import confusion_matrix"
   ]
  },
  {
   "cell_type": "code",
   "execution_count": 108,
   "metadata": {},
   "outputs": [],
   "source": [
    "lr = LogisticRegression(solver='liblinear', multi_class='ovr')\n",
    "trained_model_lr = lr.fit(X_train, y_train)\n",
    "predictions_lr = trained_model_lr.predict(X_test)\n",
    "\n",
    "Train_accuracy_lr = accuracy_score(y_train,trained_model_lr.predict(X_train))\n",
    "Test_accuracy_lr = accuracy_score(y_test, predictions_lr)\n",
    "Confusion_matrix_lr = confusion_matrix(y_test,predictions_lr)"
   ]
  },
  {
   "cell_type": "code",
   "execution_count": 109,
   "metadata": {},
   "outputs": [
    {
     "data": {
      "text/plain": [
       "0.6578216171158655"
      ]
     },
     "execution_count": 109,
     "metadata": {},
     "output_type": "execute_result"
    }
   ],
   "source": [
    "Train_accuracy_lr"
   ]
  },
  {
   "cell_type": "code",
   "execution_count": 110,
   "metadata": {},
   "outputs": [
    {
     "data": {
      "text/plain": [
       "0.6642903434867142"
      ]
     },
     "execution_count": 110,
     "metadata": {},
     "output_type": "execute_result"
    }
   ],
   "source": [
    "Test_accuracy_lr"
   ]
  },
  {
   "cell_type": "markdown",
   "metadata": {},
   "source": [
    "#### 5 Years"
   ]
  },
  {
   "cell_type": "code",
   "execution_count": 111,
   "metadata": {},
   "outputs": [],
   "source": [
    "trained_model_lr_1250 = lr.fit(X_train_1250, y_train_1250)\n",
    "predictions_lr_1250 = trained_model_lr_1250.predict(X_test_1250)\n",
    "\n",
    "Train_accuracy_lr_1250 = accuracy_score(y_train_1250,trained_model_lr_1250.predict(X_train_1250))\n",
    "Test_accuracy_lr_1250 = accuracy_score(y_test_1250, predictions_lr_1250)\n",
    "Confusion_matrix_lr_1250 = confusion_matrix(y_test_1250,predictions_lr_1250)"
   ]
  },
  {
   "cell_type": "code",
   "execution_count": 112,
   "metadata": {},
   "outputs": [
    {
     "data": {
      "text/plain": [
       "0.6948571428571428"
      ]
     },
     "execution_count": 112,
     "metadata": {},
     "output_type": "execute_result"
    }
   ],
   "source": [
    "Train_accuracy_lr_1250"
   ]
  },
  {
   "cell_type": "code",
   "execution_count": 113,
   "metadata": {},
   "outputs": [
    {
     "data": {
      "text/plain": [
       "0.6586666666666666"
      ]
     },
     "execution_count": 113,
     "metadata": {},
     "output_type": "execute_result"
    }
   ],
   "source": [
    "Test_accuracy_lr_1250"
   ]
  },
  {
   "cell_type": "markdown",
   "metadata": {},
   "source": [
    "#### 1 Year"
   ]
  },
  {
   "cell_type": "code",
   "execution_count": 114,
   "metadata": {},
   "outputs": [],
   "source": [
    "trained_model_lr_250 = lr.fit(X_train_250, y_train_250)\n",
    "predictions_lr_250 = trained_model_lr_250.predict(X_test_250)\n",
    "\n",
    "Train_accuracy_lr_250 = accuracy_score(y_train_250,trained_model_lr_250.predict(X_train_250))\n",
    "Test_accuracy_lr_250 = accuracy_score(y_test_250, predictions_lr_250)\n",
    "Confusion_matrix_lr_250 = confusion_matrix(y_test_250,predictions_lr_250)"
   ]
  },
  {
   "cell_type": "code",
   "execution_count": 115,
   "metadata": {},
   "outputs": [
    {
     "data": {
      "text/plain": [
       "0.7085714285714285"
      ]
     },
     "execution_count": 115,
     "metadata": {},
     "output_type": "execute_result"
    }
   ],
   "source": [
    "Train_accuracy_lr_250"
   ]
  },
  {
   "cell_type": "code",
   "execution_count": 116,
   "metadata": {},
   "outputs": [
    {
     "data": {
      "text/plain": [
       "0.6"
      ]
     },
     "execution_count": 116,
     "metadata": {},
     "output_type": "execute_result"
    }
   ],
   "source": [
    "Test_accuracy_lr_250"
   ]
  },
  {
   "cell_type": "markdown",
   "metadata": {},
   "source": [
    "#### 6 Months"
   ]
  },
  {
   "cell_type": "code",
   "execution_count": 117,
   "metadata": {},
   "outputs": [],
   "source": [
    "trained_model_lr_125 = lr.fit(X_train_125, y_train_125)\n",
    "predictions_lr_125 = trained_model_lr_125.predict(X_test_125)\n",
    "\n",
    "Train_accuracy_lr_125 = accuracy_score(y_train_125,trained_model_lr_125.predict(X_train_125))\n",
    "Test_accuracy_lr_125 = accuracy_score(y_test_125, predictions_lr_125)\n",
    "Confusion_matrix_lr_125 = confusion_matrix(y_test_125,predictions_lr_125)"
   ]
  },
  {
   "cell_type": "code",
   "execution_count": 118,
   "metadata": {},
   "outputs": [
    {
     "data": {
      "text/plain": [
       "0.7011494252873564"
      ]
     },
     "execution_count": 118,
     "metadata": {},
     "output_type": "execute_result"
    }
   ],
   "source": [
    "Train_accuracy_lr_125"
   ]
  },
  {
   "cell_type": "code",
   "execution_count": 119,
   "metadata": {},
   "outputs": [
    {
     "data": {
      "text/plain": [
       "0.7368421052631579"
      ]
     },
     "execution_count": 119,
     "metadata": {},
     "output_type": "execute_result"
    }
   ],
   "source": [
    "Test_accuracy_lr_125"
   ]
  },
  {
   "cell_type": "markdown",
   "metadata": {},
   "source": [
    "#### Last 100 Days based on Best Model - Max Duration"
   ]
  },
  {
   "cell_type": "code",
   "execution_count": 120,
   "metadata": {},
   "outputs": [],
   "source": [
    "last100 = selected_scaled_data_df.tail(100)"
   ]
  },
  {
   "cell_type": "code",
   "execution_count": 174,
   "metadata": {},
   "outputs": [
    {
     "data": {
      "text/plain": [
       "array([1, 0, 1, 0, 0, 1, 0, 1, 1, 1, 0, 1, 0, 0, 0, 0, 0, 1, 0, 0, 0, 1,\n",
       "       1, 0, 1, 1, 1, 1, 1, 0, 0, 0, 1, 1, 1, 0, 1, 1, 1, 1, 1, 1, 1, 1,\n",
       "       1, 0, 0, 1, 1, 1, 1, 1, 1, 1, 1, 1, 1, 0, 0, 1, 1, 1, 1, 1, 1, 1,\n",
       "       1, 1, 1, 0, 0, 1, 1, 1, 1, 1, 1, 0, 0, 0, 1, 0, 1, 1, 1, 1, 1, 0,\n",
       "       1, 0, 0, 1, 1, 1, 1, 1, 1, 1, 1, 1])"
      ]
     },
     "execution_count": 174,
     "metadata": {},
     "output_type": "execute_result"
    }
   ],
   "source": [
    "predictions_lr_100 = trained_model_lr_125.predict(last100)\n",
    "predictions_lr_100"
   ]
  },
  {
   "cell_type": "markdown",
   "metadata": {},
   "source": [
    "### SVM"
   ]
  },
  {
   "cell_type": "code",
   "execution_count": 122,
   "metadata": {},
   "outputs": [],
   "source": [
    "svm = SVC(gamma='auto')\n",
    "trained_model_svm = svm.fit(X_train, y_train)\n",
    "predictions_svm = trained_model_svm.predict(X_test)\n",
    "\n",
    "Train_accuracy_svm = accuracy_score(y_train,trained_model_svm.predict(X_train))\n",
    "Test_accuracy_svm = accuracy_score(y_test, predictions_svm)\n",
    "Confusion_matrix_svm = confusion_matrix(y_test,predictions_svm)"
   ]
  },
  {
   "cell_type": "code",
   "execution_count": 123,
   "metadata": {},
   "outputs": [
    {
     "data": {
      "text/plain": [
       "0.9973603778827452"
      ]
     },
     "execution_count": 123,
     "metadata": {},
     "output_type": "execute_result"
    }
   ],
   "source": [
    "Train_accuracy_svm"
   ]
  },
  {
   "cell_type": "code",
   "execution_count": 124,
   "metadata": {},
   "outputs": [
    {
     "data": {
      "text/plain": [
       "0.5029163966299417"
      ]
     },
     "execution_count": 124,
     "metadata": {},
     "output_type": "execute_result"
    }
   ],
   "source": [
    "Test_accuracy_svm"
   ]
  },
  {
   "cell_type": "markdown",
   "metadata": {},
   "source": [
    "#### 5 Years"
   ]
  },
  {
   "cell_type": "code",
   "execution_count": 125,
   "metadata": {},
   "outputs": [],
   "source": [
    "trained_model_svm_1250 = svm.fit(X_train_1250, y_train_1250)\n",
    "predictions_svm_1250 = trained_model_svm_1250.predict(X_test_1250)\n",
    "\n",
    "Train_accuracy_svm_1250 = accuracy_score(y_train_1250,trained_model_svm_1250.predict(X_train_1250))\n",
    "Test_accuracy_svm_1250 = accuracy_score(y_test_1250, predictions_svm_1250)\n",
    "Confusion_matrix_svm_1250 = confusion_matrix(y_test_1250,predictions_svm_1250)"
   ]
  },
  {
   "cell_type": "code",
   "execution_count": 126,
   "metadata": {},
   "outputs": [
    {
     "data": {
      "text/plain": [
       "0.7085714285714285"
      ]
     },
     "execution_count": 126,
     "metadata": {},
     "output_type": "execute_result"
    }
   ],
   "source": [
    "Train_accuracy_svm_1250"
   ]
  },
  {
   "cell_type": "code",
   "execution_count": 127,
   "metadata": {},
   "outputs": [
    {
     "data": {
      "text/plain": [
       "0.6426666666666667"
      ]
     },
     "execution_count": 127,
     "metadata": {},
     "output_type": "execute_result"
    }
   ],
   "source": [
    "Test_accuracy_svm_1250"
   ]
  },
  {
   "cell_type": "markdown",
   "metadata": {},
   "source": [
    "#### 1 Year"
   ]
  },
  {
   "cell_type": "code",
   "execution_count": 128,
   "metadata": {},
   "outputs": [],
   "source": [
    "trained_model_svm_250 = svm.fit(X_train_250, y_train_250)\n",
    "predictions_svm_250 = trained_model_svm_1250.predict(X_test_250)\n",
    "\n",
    "Train_accuracy_svm_250 = accuracy_score(y_train_250,trained_model_svm_250.predict(X_train_250))\n",
    "Test_accuracy_svm_250 = accuracy_score(y_test_250, predictions_svm_250)\n",
    "Confusion_matrix_svm_250 = confusion_matrix(y_test_250,predictions_svm_250)"
   ]
  },
  {
   "cell_type": "code",
   "execution_count": 129,
   "metadata": {},
   "outputs": [
    {
     "data": {
      "text/plain": [
       "0.7314285714285714"
      ]
     },
     "execution_count": 129,
     "metadata": {},
     "output_type": "execute_result"
    }
   ],
   "source": [
    "Train_accuracy_svm_250"
   ]
  },
  {
   "cell_type": "code",
   "execution_count": 130,
   "metadata": {},
   "outputs": [
    {
     "data": {
      "text/plain": [
       "0.6133333333333333"
      ]
     },
     "execution_count": 130,
     "metadata": {},
     "output_type": "execute_result"
    }
   ],
   "source": [
    "Test_accuracy_svm_250"
   ]
  },
  {
   "cell_type": "markdown",
   "metadata": {},
   "source": [
    "#### 6 Months"
   ]
  },
  {
   "cell_type": "code",
   "execution_count": 131,
   "metadata": {},
   "outputs": [],
   "source": [
    "trained_model_svm_125 = svm.fit(X_train_125, y_train_125)\n",
    "predictions_svm_125 = trained_model_svm_1250.predict(X_test_125)\n",
    "\n",
    "Train_accuracy_svm_125 = accuracy_score(y_train_125,trained_model_svm_125.predict(X_train_125))\n",
    "Test_accuracy_svm_125 = accuracy_score(y_test_125, predictions_svm_125)\n",
    "Confusion_matrix_svm_125 = confusion_matrix(y_test_125,predictions_svm_125)"
   ]
  },
  {
   "cell_type": "code",
   "execution_count": 132,
   "metadata": {},
   "outputs": [
    {
     "data": {
      "text/plain": [
       "0.6896551724137931"
      ]
     },
     "execution_count": 132,
     "metadata": {},
     "output_type": "execute_result"
    }
   ],
   "source": [
    "Train_accuracy_svm_125"
   ]
  },
  {
   "cell_type": "code",
   "execution_count": 133,
   "metadata": {},
   "outputs": [
    {
     "data": {
      "text/plain": [
       "0.7105263157894737"
      ]
     },
     "execution_count": 133,
     "metadata": {},
     "output_type": "execute_result"
    }
   ],
   "source": [
    "Test_accuracy_svm_125"
   ]
  },
  {
   "cell_type": "markdown",
   "metadata": {},
   "source": [
    "#### Last 100 Days based on Best Model - Max Duration"
   ]
  },
  {
   "cell_type": "code",
   "execution_count": 176,
   "metadata": {},
   "outputs": [
    {
     "data": {
      "text/plain": [
       "array([1, 1, 1, 1, 1, 1, 1, 1, 1, 1, 1, 1, 1, 1, 0, 0, 0, 1, 1, 1, 0, 1,\n",
       "       1, 0, 1, 1, 1, 0, 1, 1, 0, 0, 1, 1, 1, 0, 0, 1, 1, 1, 1, 1, 1, 1,\n",
       "       1, 0, 0, 1, 1, 1, 1, 1, 1, 1, 1, 1, 1, 0, 0, 1, 1, 1, 1, 1, 1, 1,\n",
       "       1, 1, 1, 0, 0, 1, 1, 1, 1, 1, 1, 0, 1, 0, 1, 0, 1, 1, 1, 1, 1, 0,\n",
       "       0, 0, 0, 1, 1, 1, 1, 1, 1, 1, 1, 1])"
      ]
     },
     "execution_count": 176,
     "metadata": {},
     "output_type": "execute_result"
    }
   ],
   "source": [
    "predictions_svm_100 = trained_model_svm_125.predict(last100)\n",
    "predictions_svm_100"
   ]
  },
  {
   "cell_type": "markdown",
   "metadata": {},
   "source": [
    "### RandomForest"
   ]
  },
  {
   "cell_type": "code",
   "execution_count": 135,
   "metadata": {},
   "outputs": [],
   "source": [
    "rf = RandomForestClassifier(n_estimators=10)\n",
    "trained_model_rf = rf.fit(X_train, y_train)\n",
    "predictions_rf = trained_model_rf.predict(X_test)\n",
    "\n",
    "Train_accuracy_rf = accuracy_score(y_train, trained_model_rf.predict(X_train))\n",
    "Test_accuracy_rf = accuracy_score(y_test, predictions_rf)\n",
    "Confusion_matrix_rf = confusion_matrix(y_test, predictions_rf)"
   ]
  },
  {
   "cell_type": "code",
   "execution_count": 136,
   "metadata": {},
   "outputs": [
    {
     "data": {
      "text/plain": [
       "0.9805501528202278"
      ]
     },
     "execution_count": 136,
     "metadata": {},
     "output_type": "execute_result"
    }
   ],
   "source": [
    "Train_accuracy_rf"
   ]
  },
  {
   "cell_type": "code",
   "execution_count": 137,
   "metadata": {},
   "outputs": [
    {
     "data": {
      "text/plain": [
       "0.6386908619572261"
      ]
     },
     "execution_count": 137,
     "metadata": {},
     "output_type": "execute_result"
    }
   ],
   "source": [
    "Test_accuracy_rf"
   ]
  },
  {
   "cell_type": "markdown",
   "metadata": {},
   "source": [
    "#### 5 Years"
   ]
  },
  {
   "cell_type": "code",
   "execution_count": 138,
   "metadata": {},
   "outputs": [],
   "source": [
    "trained_model_rf_1250 = rf.fit(X_train_1250, y_train_1250)\n",
    "predictions_rf_1250 = trained_model_rf_1250.predict(X_test_1250)\n",
    "\n",
    "Train_accuracy_rf_1250 = accuracy_score(y_train_1250,trained_model_rf_1250.predict(X_train_1250))\n",
    "Test_accuracy_rf_1250 = accuracy_score(y_test_1250, predictions_rf_1250)\n",
    "Confusion_matrix_rf_1250 = confusion_matrix(y_test_1250,predictions_rf_1250)"
   ]
  },
  {
   "cell_type": "code",
   "execution_count": 139,
   "metadata": {},
   "outputs": [
    {
     "data": {
      "text/plain": [
       "0.9828571428571429"
      ]
     },
     "execution_count": 139,
     "metadata": {},
     "output_type": "execute_result"
    }
   ],
   "source": [
    "Train_accuracy_rf_1250"
   ]
  },
  {
   "cell_type": "code",
   "execution_count": 140,
   "metadata": {},
   "outputs": [
    {
     "data": {
      "text/plain": [
       "0.6453333333333333"
      ]
     },
     "execution_count": 140,
     "metadata": {},
     "output_type": "execute_result"
    }
   ],
   "source": [
    "Test_accuracy_rf_1250"
   ]
  },
  {
   "cell_type": "markdown",
   "metadata": {},
   "source": [
    "#### 1 Year"
   ]
  },
  {
   "cell_type": "code",
   "execution_count": 141,
   "metadata": {},
   "outputs": [],
   "source": [
    "trained_model_rf_250 = rf.fit(X_train_250, y_train_250)\n",
    "predictions_rf_250 = trained_model_rf_250.predict(X_test_250)\n",
    "\n",
    "Train_accuracy_rf_250 = accuracy_score(y_train_250,trained_model_rf_250.predict(X_train_250))\n",
    "Test_accuracy_rf_250 = accuracy_score(y_test_250, predictions_rf_250)\n",
    "Confusion_matrix_rf_250 = confusion_matrix(y_test_250,predictions_rf_250)"
   ]
  },
  {
   "cell_type": "code",
   "execution_count": 142,
   "metadata": {},
   "outputs": [
    {
     "data": {
      "text/plain": [
       "0.9885714285714285"
      ]
     },
     "execution_count": 142,
     "metadata": {},
     "output_type": "execute_result"
    }
   ],
   "source": [
    "Train_accuracy_rf_250"
   ]
  },
  {
   "cell_type": "code",
   "execution_count": 143,
   "metadata": {},
   "outputs": [
    {
     "data": {
      "text/plain": [
       "0.6666666666666666"
      ]
     },
     "execution_count": 143,
     "metadata": {},
     "output_type": "execute_result"
    }
   ],
   "source": [
    "Test_accuracy_rf_250"
   ]
  },
  {
   "cell_type": "markdown",
   "metadata": {},
   "source": [
    "#### 6 Months"
   ]
  },
  {
   "cell_type": "code",
   "execution_count": 144,
   "metadata": {},
   "outputs": [],
   "source": [
    "trained_model_rf_125 = rf.fit(X_train_125, y_train_125)\n",
    "predictions_rf_125 = trained_model_rf_125.predict(X_test_125)\n",
    "\n",
    "Train_accuracy_rf_125 = accuracy_score(y_train_125,trained_model_rf_125.predict(X_train_125))\n",
    "Test_accuracy_rf_125 = accuracy_score(y_test_125, predictions_rf_125)\n",
    "Confusion_matrix_rf_125 = confusion_matrix(y_test_125,predictions_rf_125)"
   ]
  },
  {
   "cell_type": "code",
   "execution_count": 145,
   "metadata": {},
   "outputs": [
    {
     "data": {
      "text/plain": [
       "0.9770114942528736"
      ]
     },
     "execution_count": 145,
     "metadata": {},
     "output_type": "execute_result"
    }
   ],
   "source": [
    "Train_accuracy_rf_125"
   ]
  },
  {
   "cell_type": "code",
   "execution_count": 146,
   "metadata": {},
   "outputs": [
    {
     "data": {
      "text/plain": [
       "0.5263157894736842"
      ]
     },
     "execution_count": 146,
     "metadata": {},
     "output_type": "execute_result"
    }
   ],
   "source": [
    "Test_accuracy_rf_125"
   ]
  },
  {
   "cell_type": "markdown",
   "metadata": {},
   "source": [
    "#### Last 100 Days based on Best Model"
   ]
  },
  {
   "cell_type": "code",
   "execution_count": 177,
   "metadata": {},
   "outputs": [
    {
     "data": {
      "text/plain": [
       "array([0, 0, 1, 0, 1, 1, 0, 0, 0, 0, 0, 1, 1, 1, 0, 0, 1, 1, 0, 0, 0, 1,\n",
       "       0, 0, 0, 1, 1, 0, 1, 0, 0, 1, 1, 1, 0, 0, 0, 1, 1, 1, 1, 1, 1, 1,\n",
       "       0, 0, 0, 0, 0, 1, 1, 0, 0, 1, 1, 1, 1, 0, 0, 1, 0, 0, 0, 1, 1, 1,\n",
       "       1, 1, 0, 0, 1, 1, 1, 1, 1, 1, 1, 0, 0, 0, 1, 0, 0, 1, 1, 1, 1, 0,\n",
       "       1, 0, 0, 0, 1, 1, 1, 1, 0, 0, 1, 1])"
      ]
     },
     "execution_count": 177,
     "metadata": {},
     "output_type": "execute_result"
    }
   ],
   "source": [
    "predictions_rf_100 = trained_model_rf_250.predict(last100)\n",
    "predictions_rf_100"
   ]
  },
  {
   "cell_type": "markdown",
   "metadata": {},
   "source": [
    "### KNN"
   ]
  },
  {
   "cell_type": "code",
   "execution_count": 148,
   "metadata": {},
   "outputs": [],
   "source": [
    "knn = KNeighborsClassifier(n_neighbors=5)\n",
    "trained_model_knn = knn.fit(X_train, y_train)\n",
    "predictions_knn = trained_model_knn.predict(X_test)\n",
    "\n",
    "Train_accuracy_knn = accuracy_score(y_train, trained_model_knn.predict(X_train))\n",
    "Test_accuracy_knn = accuracy_score(y_test, predictions_knn)\n",
    "Confusion_matrix_knn = confusion_matrix(y_test, predictions_knn)"
   ]
  },
  {
   "cell_type": "code",
   "execution_count": 149,
   "metadata": {},
   "outputs": [
    {
     "data": {
      "text/plain": [
       "0.7254792998055015"
      ]
     },
     "execution_count": 149,
     "metadata": {},
     "output_type": "execute_result"
    }
   ],
   "source": [
    "Train_accuracy_knn"
   ]
  },
  {
   "cell_type": "code",
   "execution_count": 150,
   "metadata": {},
   "outputs": [
    {
     "data": {
      "text/plain": [
       "0.5729099157485418"
      ]
     },
     "execution_count": 150,
     "metadata": {},
     "output_type": "execute_result"
    }
   ],
   "source": [
    "Test_accuracy_knn"
   ]
  },
  {
   "cell_type": "markdown",
   "metadata": {},
   "source": [
    "#### 5 Years"
   ]
  },
  {
   "cell_type": "code",
   "execution_count": 151,
   "metadata": {},
   "outputs": [],
   "source": [
    "trained_model_knn_1250 = knn.fit(X_train_1250, y_train_1250)\n",
    "predictions_knn_1250 = trained_model_knn_1250.predict(X_test_1250)\n",
    "\n",
    "Train_accuracy_knn_1250 = accuracy_score(y_train_1250,trained_model_knn_1250.predict(X_train_1250))\n",
    "Test_accuracy_knn_1250 = accuracy_score(y_test_1250, predictions_knn_1250)\n",
    "Confusion_matrix_knn_1250 = confusion_matrix(y_test_1250,predictions_knn_1250)"
   ]
  },
  {
   "cell_type": "code",
   "execution_count": 152,
   "metadata": {},
   "outputs": [
    {
     "data": {
      "text/plain": [
       "0.736"
      ]
     },
     "execution_count": 152,
     "metadata": {},
     "output_type": "execute_result"
    }
   ],
   "source": [
    "Train_accuracy_knn_1250"
   ]
  },
  {
   "cell_type": "code",
   "execution_count": 153,
   "metadata": {},
   "outputs": [
    {
     "data": {
      "text/plain": [
       "0.608"
      ]
     },
     "execution_count": 153,
     "metadata": {},
     "output_type": "execute_result"
    }
   ],
   "source": [
    "Test_accuracy_knn_1250"
   ]
  },
  {
   "cell_type": "markdown",
   "metadata": {},
   "source": [
    "#### 1 Year"
   ]
  },
  {
   "cell_type": "code",
   "execution_count": 154,
   "metadata": {},
   "outputs": [],
   "source": [
    "trained_model_knn_250 = knn.fit(X_train_250, y_train_250)\n",
    "predictions_knn_250 = trained_model_knn_250.predict(X_test_250)\n",
    "\n",
    "Train_accuracy_knn_250 = accuracy_score(y_train_250,trained_model_knn_250.predict(X_train_250))\n",
    "Test_accuracy_knn_250 = accuracy_score(y_test_250, predictions_knn_250)\n",
    "Confusion_matrix_knn_250 = confusion_matrix(y_test_250,predictions_knn_250)"
   ]
  },
  {
   "cell_type": "code",
   "execution_count": 155,
   "metadata": {},
   "outputs": [
    {
     "data": {
      "text/plain": [
       "0.7428571428571429"
      ]
     },
     "execution_count": 155,
     "metadata": {},
     "output_type": "execute_result"
    }
   ],
   "source": [
    "Train_accuracy_knn_250"
   ]
  },
  {
   "cell_type": "code",
   "execution_count": 156,
   "metadata": {},
   "outputs": [
    {
     "data": {
      "text/plain": [
       "0.5333333333333333"
      ]
     },
     "execution_count": 156,
     "metadata": {},
     "output_type": "execute_result"
    }
   ],
   "source": [
    "Test_accuracy_knn_250"
   ]
  },
  {
   "cell_type": "markdown",
   "metadata": {},
   "source": [
    "#### 6 Months"
   ]
  },
  {
   "cell_type": "code",
   "execution_count": 157,
   "metadata": {},
   "outputs": [],
   "source": [
    "trained_model_knn_125 = knn.fit(X_train_125, y_train_125)\n",
    "predictions_knn_125 = trained_model_knn_125.predict(X_test_125)\n",
    "\n",
    "Train_accuracy_knn_125 = accuracy_score(y_train_125,trained_model_knn_125.predict(X_train_125))\n",
    "Test_accuracy_knn_125 = accuracy_score(y_test_125, predictions_knn_125)\n",
    "Confusion_matrix_knn_125 = confusion_matrix(y_test_125,predictions_knn_125)"
   ]
  },
  {
   "cell_type": "code",
   "execution_count": 158,
   "metadata": {},
   "outputs": [
    {
     "data": {
      "text/plain": [
       "0.7586206896551724"
      ]
     },
     "execution_count": 158,
     "metadata": {},
     "output_type": "execute_result"
    }
   ],
   "source": [
    "Train_accuracy_knn_125"
   ]
  },
  {
   "cell_type": "code",
   "execution_count": 159,
   "metadata": {},
   "outputs": [
    {
     "data": {
      "text/plain": [
       "0.7105263157894737"
      ]
     },
     "execution_count": 159,
     "metadata": {},
     "output_type": "execute_result"
    }
   ],
   "source": [
    "Test_accuracy_knn_125"
   ]
  },
  {
   "cell_type": "markdown",
   "metadata": {},
   "source": [
    "#### Last 100 Days based on Best Model"
   ]
  },
  {
   "cell_type": "code",
   "execution_count": 178,
   "metadata": {},
   "outputs": [
    {
     "data": {
      "text/plain": [
       "array([1, 0, 1, 1, 1, 1, 0, 1, 0, 1, 1, 0, 1, 1, 0, 0, 0, 1, 0, 0, 0, 0,\n",
       "       0, 0, 0, 1, 1, 1, 1, 1, 0, 0, 1, 1, 0, 0, 0, 1, 1, 0, 1, 1, 1, 1,\n",
       "       1, 0, 0, 1, 1, 1, 1, 1, 0, 1, 1, 1, 1, 0, 0, 1, 1, 1, 1, 1, 1, 1,\n",
       "       1, 1, 1, 0, 0, 1, 1, 1, 1, 0, 1, 0, 0, 0, 0, 0, 1, 1, 1, 1, 1, 0,\n",
       "       0, 0, 0, 1, 1, 1, 1, 1, 1, 1, 1, 1])"
      ]
     },
     "execution_count": 178,
     "metadata": {},
     "output_type": "execute_result"
    }
   ],
   "source": [
    "predictions_knn_100 = trained_model_knn_125.predict(last100)\n",
    "predictions_knn_100"
   ]
  },
  {
   "cell_type": "markdown",
   "metadata": {},
   "source": [
    "### XGBoost"
   ]
  },
  {
   "cell_type": "code",
   "execution_count": 161,
   "metadata": {},
   "outputs": [
    {
     "name": "stdout",
     "output_type": "stream",
     "text": [
      "[18:38:00] WARNING: C:/Users/Administrator/workspace/xgboost-win64_release_1.5.0/src/learner.cc:1115: Starting in XGBoost 1.3.0, the default evaluation metric used with the objective 'binary:logistic' was changed from 'error' to 'logloss'. Explicitly set eval_metric if you'd like to restore the old behavior.\n"
     ]
    }
   ],
   "source": [
    "xgb = XGBClassifier(use_label_encoder=False)\n",
    "trained_model_xgb = xgb.fit(X_train, y_train)\n",
    "predictions_xgb = trained_model_xgb.predict(X_test)\n",
    "\n",
    "Train_accuracy_xgb = accuracy_score(y_train, trained_model_xgb.predict(X_train))\n",
    "Test_accuracy_xgb = accuracy_score(y_test, predictions_xgb)\n",
    "Confusion_matrix_xgb = confusion_matrix(y_test, predictions_xgb)"
   ]
  },
  {
   "cell_type": "code",
   "execution_count": 162,
   "metadata": {},
   "outputs": [
    {
     "data": {
      "text/plain": [
       "0.9394276187829953"
      ]
     },
     "execution_count": 162,
     "metadata": {},
     "output_type": "execute_result"
    }
   ],
   "source": [
    "Train_accuracy_xgb"
   ]
  },
  {
   "cell_type": "code",
   "execution_count": 163,
   "metadata": {},
   "outputs": [
    {
     "data": {
      "text/plain": [
       "0.6373946856772521"
      ]
     },
     "execution_count": 163,
     "metadata": {},
     "output_type": "execute_result"
    }
   ],
   "source": [
    "Test_accuracy_xgb"
   ]
  },
  {
   "cell_type": "markdown",
   "metadata": {},
   "source": [
    "#### 5 Years"
   ]
  },
  {
   "cell_type": "code",
   "execution_count": 164,
   "metadata": {},
   "outputs": [
    {
     "name": "stdout",
     "output_type": "stream",
     "text": [
      "[18:38:01] WARNING: C:/Users/Administrator/workspace/xgboost-win64_release_1.5.0/src/learner.cc:1115: Starting in XGBoost 1.3.0, the default evaluation metric used with the objective 'binary:logistic' was changed from 'error' to 'logloss'. Explicitly set eval_metric if you'd like to restore the old behavior.\n"
     ]
    }
   ],
   "source": [
    "trained_model_xgb_1250 = xgb.fit(X_train_1250, y_train_1250)\n",
    "predictions_xgb_1250 = trained_model_xgb_1250.predict(X_test_1250)\n",
    "\n",
    "Train_accuracy_xgb_1250 = accuracy_score(y_train_1250,trained_model_xgb_1250.predict(X_train_1250))\n",
    "Test_accuracy_xgb_1250 = accuracy_score(y_test_1250, predictions_xgb_1250)\n",
    "Confusion_matrix_xgb_1250 = confusion_matrix(y_test_1250,predictions_xgb_1250)"
   ]
  },
  {
   "cell_type": "code",
   "execution_count": 165,
   "metadata": {},
   "outputs": [
    {
     "data": {
      "text/plain": [
       "1.0"
      ]
     },
     "execution_count": 165,
     "metadata": {},
     "output_type": "execute_result"
    }
   ],
   "source": [
    "Train_accuracy_xgb_1250"
   ]
  },
  {
   "cell_type": "code",
   "execution_count": 166,
   "metadata": {},
   "outputs": [
    {
     "data": {
      "text/plain": [
       "0.6426666666666667"
      ]
     },
     "execution_count": 166,
     "metadata": {},
     "output_type": "execute_result"
    }
   ],
   "source": [
    "Test_accuracy_xgb_1250"
   ]
  },
  {
   "cell_type": "markdown",
   "metadata": {},
   "source": [
    "#### 1 Year"
   ]
  },
  {
   "cell_type": "code",
   "execution_count": 167,
   "metadata": {},
   "outputs": [
    {
     "name": "stdout",
     "output_type": "stream",
     "text": [
      "[18:38:03] WARNING: C:/Users/Administrator/workspace/xgboost-win64_release_1.5.0/src/learner.cc:1115: Starting in XGBoost 1.3.0, the default evaluation metric used with the objective 'binary:logistic' was changed from 'error' to 'logloss'. Explicitly set eval_metric if you'd like to restore the old behavior.\n"
     ]
    }
   ],
   "source": [
    "trained_model_xgb_250 = xgb.fit(X_train_250, y_train_250)\n",
    "predictions_xgb_250 = trained_model_xgb_250.predict(X_test_250)\n",
    "\n",
    "Train_accuracy_xgb_250 = accuracy_score(y_train_250,trained_model_xgb_250.predict(X_train_250))\n",
    "Test_accuracy_xgb_250 = accuracy_score(y_test_250, predictions_xgb_250)\n",
    "Confusion_matrix_xgb_250 = confusion_matrix(y_test_250,predictions_xgb_250)"
   ]
  },
  {
   "cell_type": "code",
   "execution_count": 168,
   "metadata": {},
   "outputs": [
    {
     "data": {
      "text/plain": [
       "1.0"
      ]
     },
     "execution_count": 168,
     "metadata": {},
     "output_type": "execute_result"
    }
   ],
   "source": [
    "Train_accuracy_xgb_250"
   ]
  },
  {
   "cell_type": "code",
   "execution_count": 169,
   "metadata": {},
   "outputs": [
    {
     "data": {
      "text/plain": [
       "0.6"
      ]
     },
     "execution_count": 169,
     "metadata": {},
     "output_type": "execute_result"
    }
   ],
   "source": [
    "Test_accuracy_xgb_250"
   ]
  },
  {
   "cell_type": "markdown",
   "metadata": {},
   "source": [
    "#### 6 Months"
   ]
  },
  {
   "cell_type": "code",
   "execution_count": 170,
   "metadata": {},
   "outputs": [
    {
     "name": "stdout",
     "output_type": "stream",
     "text": [
      "[18:38:04] WARNING: C:/Users/Administrator/workspace/xgboost-win64_release_1.5.0/src/learner.cc:1115: Starting in XGBoost 1.3.0, the default evaluation metric used with the objective 'binary:logistic' was changed from 'error' to 'logloss'. Explicitly set eval_metric if you'd like to restore the old behavior.\n"
     ]
    }
   ],
   "source": [
    "trained_model_xgb_125 = xgb.fit(X_train_125, y_train_125)\n",
    "predictions_xgb_125 = trained_model_xgb_125.predict(X_test_125)\n",
    "\n",
    "Train_accuracy_xgb_125 = accuracy_score(y_train_125,trained_model_xgb_125.predict(X_train_125))\n",
    "Test_accuracy_xgb_125 = accuracy_score(y_test_125, predictions_xgb_125)\n",
    "Confusion_matrix_xgb_125 = confusion_matrix(y_test_125,predictions_xgb_125)"
   ]
  },
  {
   "cell_type": "code",
   "execution_count": 171,
   "metadata": {},
   "outputs": [
    {
     "data": {
      "text/plain": [
       "1.0"
      ]
     },
     "execution_count": 171,
     "metadata": {},
     "output_type": "execute_result"
    }
   ],
   "source": [
    "Train_accuracy_xgb_125"
   ]
  },
  {
   "cell_type": "code",
   "execution_count": 172,
   "metadata": {},
   "outputs": [
    {
     "data": {
      "text/plain": [
       "0.631578947368421"
      ]
     },
     "execution_count": 172,
     "metadata": {},
     "output_type": "execute_result"
    }
   ],
   "source": [
    "Test_accuracy_xgb_125"
   ]
  },
  {
   "cell_type": "markdown",
   "metadata": {},
   "source": [
    "#### Last 100 Days based on Best Model"
   ]
  },
  {
   "cell_type": "code",
   "execution_count": 179,
   "metadata": {},
   "outputs": [
    {
     "data": {
      "text/plain": [
       "array([1, 0, 1, 0, 1, 1, 1, 0, 0, 1, 0, 1, 1, 1, 0, 1, 1, 1, 0, 1, 0, 1,\n",
       "       0, 0, 0, 1, 1, 0, 1, 0, 0, 1, 1, 1, 0, 0, 0, 1, 1, 1, 1, 1, 1, 1,\n",
       "       0, 0, 0, 0, 0, 1, 1, 0, 0, 1, 1, 1, 1, 0, 0, 1, 0, 1, 0, 1, 1, 1,\n",
       "       1, 1, 0, 0, 1, 1, 1, 0, 1, 1, 1, 0, 0, 0, 1, 0, 1, 1, 1, 1, 1, 0,\n",
       "       1, 0, 0, 0, 1, 1, 1, 1, 1, 1, 1, 1])"
      ]
     },
     "execution_count": 179,
     "metadata": {},
     "output_type": "execute_result"
    }
   ],
   "source": [
    "predictions_xgb_100 = trained_model_xgb_1250.predict(last100)\n",
    "predictions_xgb_100"
   ]
  },
  {
   "cell_type": "markdown",
   "metadata": {},
   "source": [
    "## KFold cross validation\n",
    "### Basic example"
   ]
  },
  {
   "cell_type": "code",
   "execution_count": null,
   "metadata": {},
   "outputs": [],
   "source": [
    "from sklearn.model_selection import cross_val_score\n",
    "\n",
    "cross_val_score(LogisticRegression(solver='liblinear',multi_class='ovr'), complete_data, target, cv=10)"
   ]
  },
  {
   "cell_type": "code",
   "execution_count": null,
   "metadata": {},
   "outputs": [],
   "source": [
    "cross_val_score(SVC(gamma='auto'), complete_data, target, cv=10)"
   ]
  },
  {
   "cell_type": "code",
   "execution_count": null,
   "metadata": {},
   "outputs": [],
   "source": [
    "cross_val_score(RandomForestClassifier(n_estimators=5), complete_data, target, cv=10)"
   ]
  },
  {
   "cell_type": "code",
   "execution_count": null,
   "metadata": {},
   "outputs": [],
   "source": [
    "cross_val_score(KNeighborsClassifier(n_neighbors=5), complete_data, target, cv=10)"
   ]
  },
  {
   "cell_type": "code",
   "execution_count": null,
   "metadata": {},
   "outputs": [],
   "source": [
    "cross_val_score(XGBClassifier(use_label_encoder=False), complete_data, target, cv=10)"
   ]
  }
 ],
 "metadata": {
  "kernelspec": {
   "display_name": "Python 3",
   "language": "python",
   "name": "python3"
  },
  "language_info": {
   "codemirror_mode": {
    "name": "ipython",
    "version": 3
   },
   "file_extension": ".py",
   "mimetype": "text/x-python",
   "name": "python",
   "nbconvert_exporter": "python",
   "pygments_lexer": "ipython3",
   "version": "3.8.5"
  }
 },
 "nbformat": 4,
 "nbformat_minor": 4
}
