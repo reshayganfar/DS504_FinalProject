{
 "cells": [
  {
   "cell_type": "code",
   "execution_count": 1,
   "metadata": {},
   "outputs": [],
   "source": [
    "import numpy as np\n",
    "import pandas as pd\n",
    "import ta\n",
    "import seaborn as sn\n",
    "import matplotlib.pyplot as plt\n",
    "\n",
    "from sklearn.ensemble import RandomForestClassifier\n",
    "from sklearn.linear_model import LogisticRegression\n",
    "from sklearn.neighbors import KNeighborsClassifier\n",
    "from sklearn.svm import SVC\n",
    "from xgboost import XGBClassifier\n",
    "\n",
    "from ta import add_all_ta_features\n",
    "from ta import momentum\n",
    "from ta.utils import dropna"
   ]
  },
  {
   "cell_type": "code",
   "execution_count": 2,
   "metadata": {},
   "outputs": [],
   "source": [
    "#pip install xgboost"
   ]
  },
  {
   "cell_type": "code",
   "execution_count": 3,
   "metadata": {},
   "outputs": [
    {
     "name": "stdout",
     "output_type": "stream",
     "text": [
      "Requirement already satisfied: autofeat in c:\\users\\rshay\\anaconda3\\lib\\site-packages (2.0.10)\n",
      "Requirement already satisfied: numba in c:\\users\\rshay\\anaconda3\\lib\\site-packages (from autofeat) (0.51.2)\n",
      "Requirement already satisfied: future in c:\\users\\rshay\\anaconda3\\lib\\site-packages (from autofeat) (0.18.2)\n",
      "Requirement already satisfied: sympy>=1.7.1 in c:\\users\\rshay\\anaconda3\\lib\\site-packages (from autofeat) (1.9)\n",
      "Requirement already satisfied: joblib in c:\\users\\rshay\\anaconda3\\lib\\site-packages (from autofeat) (0.17.0)\n",
      "Requirement already satisfied: pint in c:\\users\\rshay\\anaconda3\\lib\\site-packages (from autofeat) (0.18)\n",
      "Requirement already satisfied: numpy in c:\\users\\rshay\\anaconda3\\lib\\site-packages (from autofeat) (1.19.2)\n",
      "Requirement already satisfied: scikit-learn in c:\\users\\rshay\\anaconda3\\lib\\site-packages (from autofeat) (0.23.2)\n",
      "Requirement already satisfied: pandas>=0.24.0 in c:\\users\\rshay\\anaconda3\\lib\\site-packages (from autofeat) (1.1.3)\n",
      "Requirement already satisfied: llvmlite<0.35,>=0.34.0.dev0 in c:\\users\\rshay\\anaconda3\\lib\\site-packages (from numba->autofeat) (0.34.0)\n",
      "Requirement already satisfied: setuptools in c:\\users\\rshay\\anaconda3\\lib\\site-packages (from numba->autofeat) (50.3.1.post20201107)\n",
      "Requirement already satisfied: mpmath>=0.19 in c:\\users\\rshay\\anaconda3\\lib\\site-packages (from sympy>=1.7.1->autofeat) (1.1.0)\n",
      "Requirement already satisfied: packaging in c:\\users\\rshay\\anaconda3\\lib\\site-packages (from pint->autofeat) (20.4)\n",
      "Requirement already satisfied: scipy>=0.19.1 in c:\\users\\rshay\\anaconda3\\lib\\site-packages (from scikit-learn->autofeat) (1.5.2)\n",
      "Requirement already satisfied: threadpoolctl>=2.0.0 in c:\\users\\rshay\\anaconda3\\lib\\site-packages (from scikit-learn->autofeat) (2.1.0)\n",
      "Requirement already satisfied: pytz>=2017.2 in c:\\users\\rshay\\anaconda3\\lib\\site-packages (from pandas>=0.24.0->autofeat) (2020.1)\n",
      "Requirement already satisfied: python-dateutil>=2.7.3 in c:\\users\\rshay\\anaconda3\\lib\\site-packages (from pandas>=0.24.0->autofeat) (2.8.1)\n",
      "Requirement already satisfied: six in c:\\users\\rshay\\anaconda3\\lib\\site-packages (from packaging->pint->autofeat) (1.15.0)\n",
      "Requirement already satisfied: pyparsing>=2.0.2 in c:\\users\\rshay\\anaconda3\\lib\\site-packages (from packaging->pint->autofeat) (2.4.7)\n",
      "Note: you may need to restart the kernel to use updated packages.\n"
     ]
    }
   ],
   "source": [
    "pip install autofeat"
   ]
  },
  {
   "cell_type": "code",
   "execution_count": 4,
   "metadata": {},
   "outputs": [],
   "source": [
    "def get_data(company_symbol):\n",
    "    return pd.read_csv(\"dataset/\"+company_symbol+\".csv\")"
   ]
  },
  {
   "cell_type": "code",
   "execution_count": 5,
   "metadata": {},
   "outputs": [
    {
     "data": {
      "text/html": [
       "<div>\n",
       "<style scoped>\n",
       "    .dataframe tbody tr th:only-of-type {\n",
       "        vertical-align: middle;\n",
       "    }\n",
       "\n",
       "    .dataframe tbody tr th {\n",
       "        vertical-align: top;\n",
       "    }\n",
       "\n",
       "    .dataframe thead th {\n",
       "        text-align: right;\n",
       "    }\n",
       "</style>\n",
       "<table border=\"1\" class=\"dataframe\">\n",
       "  <thead>\n",
       "    <tr style=\"text-align: right;\">\n",
       "      <th></th>\n",
       "      <th>Date</th>\n",
       "      <th>Open</th>\n",
       "      <th>High</th>\n",
       "      <th>Low</th>\n",
       "      <th>Close</th>\n",
       "      <th>Adj Close</th>\n",
       "      <th>Volume</th>\n",
       "    </tr>\n",
       "  </thead>\n",
       "  <tbody>\n",
       "    <tr>\n",
       "      <th>0</th>\n",
       "      <td>12/12/1980</td>\n",
       "      <td>0.128348</td>\n",
       "      <td>0.128906</td>\n",
       "      <td>0.128348</td>\n",
       "      <td>0.128348</td>\n",
       "      <td>0.100453</td>\n",
       "      <td>469033600</td>\n",
       "    </tr>\n",
       "    <tr>\n",
       "      <th>1</th>\n",
       "      <td>12/15/1980</td>\n",
       "      <td>0.122210</td>\n",
       "      <td>0.122210</td>\n",
       "      <td>0.121652</td>\n",
       "      <td>0.121652</td>\n",
       "      <td>0.095213</td>\n",
       "      <td>175884800</td>\n",
       "    </tr>\n",
       "    <tr>\n",
       "      <th>2</th>\n",
       "      <td>12/16/1980</td>\n",
       "      <td>0.113281</td>\n",
       "      <td>0.113281</td>\n",
       "      <td>0.112723</td>\n",
       "      <td>0.112723</td>\n",
       "      <td>0.088224</td>\n",
       "      <td>105728000</td>\n",
       "    </tr>\n",
       "    <tr>\n",
       "      <th>3</th>\n",
       "      <td>12/17/1980</td>\n",
       "      <td>0.115513</td>\n",
       "      <td>0.116071</td>\n",
       "      <td>0.115513</td>\n",
       "      <td>0.115513</td>\n",
       "      <td>0.090408</td>\n",
       "      <td>86441600</td>\n",
       "    </tr>\n",
       "    <tr>\n",
       "      <th>4</th>\n",
       "      <td>12/18/1980</td>\n",
       "      <td>0.118862</td>\n",
       "      <td>0.119420</td>\n",
       "      <td>0.118862</td>\n",
       "      <td>0.118862</td>\n",
       "      <td>0.093029</td>\n",
       "      <td>73449600</td>\n",
       "    </tr>\n",
       "    <tr>\n",
       "      <th>...</th>\n",
       "      <td>...</td>\n",
       "      <td>...</td>\n",
       "      <td>...</td>\n",
       "      <td>...</td>\n",
       "      <td>...</td>\n",
       "      <td>...</td>\n",
       "      <td>...</td>\n",
       "    </tr>\n",
       "    <tr>\n",
       "      <th>10321</th>\n",
       "      <td>11/18/2021</td>\n",
       "      <td>153.710007</td>\n",
       "      <td>158.669998</td>\n",
       "      <td>153.050003</td>\n",
       "      <td>157.869995</td>\n",
       "      <td>157.869995</td>\n",
       "      <td>137827700</td>\n",
       "    </tr>\n",
       "    <tr>\n",
       "      <th>10322</th>\n",
       "      <td>11/19/2021</td>\n",
       "      <td>157.649994</td>\n",
       "      <td>161.020004</td>\n",
       "      <td>156.529999</td>\n",
       "      <td>160.550003</td>\n",
       "      <td>160.550003</td>\n",
       "      <td>117147500</td>\n",
       "    </tr>\n",
       "    <tr>\n",
       "      <th>10323</th>\n",
       "      <td>11/22/2021</td>\n",
       "      <td>161.679993</td>\n",
       "      <td>165.699997</td>\n",
       "      <td>161.000000</td>\n",
       "      <td>161.020004</td>\n",
       "      <td>161.020004</td>\n",
       "      <td>117467900</td>\n",
       "    </tr>\n",
       "    <tr>\n",
       "      <th>10324</th>\n",
       "      <td>11/23/2021</td>\n",
       "      <td>161.119995</td>\n",
       "      <td>161.800003</td>\n",
       "      <td>159.059998</td>\n",
       "      <td>161.410004</td>\n",
       "      <td>161.410004</td>\n",
       "      <td>95933900</td>\n",
       "    </tr>\n",
       "    <tr>\n",
       "      <th>10325</th>\n",
       "      <td>11/24/2021</td>\n",
       "      <td>160.750000</td>\n",
       "      <td>162.139999</td>\n",
       "      <td>159.639999</td>\n",
       "      <td>161.940002</td>\n",
       "      <td>161.940002</td>\n",
       "      <td>69463600</td>\n",
       "    </tr>\n",
       "  </tbody>\n",
       "</table>\n",
       "<p>10326 rows × 7 columns</p>\n",
       "</div>"
      ],
      "text/plain": [
       "             Date        Open        High         Low       Close   Adj Close  \\\n",
       "0      12/12/1980    0.128348    0.128906    0.128348    0.128348    0.100453   \n",
       "1      12/15/1980    0.122210    0.122210    0.121652    0.121652    0.095213   \n",
       "2      12/16/1980    0.113281    0.113281    0.112723    0.112723    0.088224   \n",
       "3      12/17/1980    0.115513    0.116071    0.115513    0.115513    0.090408   \n",
       "4      12/18/1980    0.118862    0.119420    0.118862    0.118862    0.093029   \n",
       "...           ...         ...         ...         ...         ...         ...   \n",
       "10321  11/18/2021  153.710007  158.669998  153.050003  157.869995  157.869995   \n",
       "10322  11/19/2021  157.649994  161.020004  156.529999  160.550003  160.550003   \n",
       "10323  11/22/2021  161.679993  165.699997  161.000000  161.020004  161.020004   \n",
       "10324  11/23/2021  161.119995  161.800003  159.059998  161.410004  161.410004   \n",
       "10325  11/24/2021  160.750000  162.139999  159.639999  161.940002  161.940002   \n",
       "\n",
       "          Volume  \n",
       "0      469033600  \n",
       "1      175884800  \n",
       "2      105728000  \n",
       "3       86441600  \n",
       "4       73449600  \n",
       "...          ...  \n",
       "10321  137827700  \n",
       "10322  117147500  \n",
       "10323  117467900  \n",
       "10324   95933900  \n",
       "10325   69463600  \n",
       "\n",
       "[10326 rows x 7 columns]"
      ]
     },
     "execution_count": 5,
     "metadata": {},
     "output_type": "execute_result"
    }
   ],
   "source": [
    "data = get_data(\"AAPL\")\n",
    "data"
   ]
  },
  {
   "cell_type": "code",
   "execution_count": 6,
   "metadata": {},
   "outputs": [
    {
     "data": {
      "text/plain": [
       "Date          object\n",
       "Open         float64\n",
       "High         float64\n",
       "Low          float64\n",
       "Close        float64\n",
       "Adj Close    float64\n",
       "Volume         int64\n",
       "dtype: object"
      ]
     },
     "execution_count": 6,
     "metadata": {},
     "output_type": "execute_result"
    }
   ],
   "source": [
    "data.dtypes"
   ]
  },
  {
   "cell_type": "code",
   "execution_count": 7,
   "metadata": {},
   "outputs": [
    {
     "data": {
      "text/plain": [
       "Date         False\n",
       "Open         False\n",
       "High         False\n",
       "Low          False\n",
       "Close        False\n",
       "Adj Close    False\n",
       "Volume       False\n",
       "dtype: bool"
      ]
     },
     "execution_count": 7,
     "metadata": {},
     "output_type": "execute_result"
    }
   ],
   "source": [
    "data.isna().any()"
   ]
  },
  {
   "cell_type": "code",
   "execution_count": 8,
   "metadata": {},
   "outputs": [
    {
     "data": {
      "text/html": [
       "<div>\n",
       "<style scoped>\n",
       "    .dataframe tbody tr th:only-of-type {\n",
       "        vertical-align: middle;\n",
       "    }\n",
       "\n",
       "    .dataframe tbody tr th {\n",
       "        vertical-align: top;\n",
       "    }\n",
       "\n",
       "    .dataframe thead th {\n",
       "        text-align: right;\n",
       "    }\n",
       "</style>\n",
       "<table border=\"1\" class=\"dataframe\">\n",
       "  <thead>\n",
       "    <tr style=\"text-align: right;\">\n",
       "      <th></th>\n",
       "    </tr>\n",
       "  </thead>\n",
       "  <tbody>\n",
       "    <tr>\n",
       "      <th>0</th>\n",
       "    </tr>\n",
       "    <tr>\n",
       "      <th>1</th>\n",
       "    </tr>\n",
       "    <tr>\n",
       "      <th>2</th>\n",
       "    </tr>\n",
       "    <tr>\n",
       "      <th>3</th>\n",
       "    </tr>\n",
       "    <tr>\n",
       "      <th>4</th>\n",
       "    </tr>\n",
       "    <tr>\n",
       "      <th>...</th>\n",
       "    </tr>\n",
       "    <tr>\n",
       "      <th>10321</th>\n",
       "    </tr>\n",
       "    <tr>\n",
       "      <th>10322</th>\n",
       "    </tr>\n",
       "    <tr>\n",
       "      <th>10323</th>\n",
       "    </tr>\n",
       "    <tr>\n",
       "      <th>10324</th>\n",
       "    </tr>\n",
       "    <tr>\n",
       "      <th>10325</th>\n",
       "    </tr>\n",
       "  </tbody>\n",
       "</table>\n",
       "<p>10326 rows × 0 columns</p>\n",
       "</div>"
      ],
      "text/plain": [
       "Empty DataFrame\n",
       "Columns: []\n",
       "Index: [0, 1, 2, 3, 4, 5, 6, 7, 8, 9, 10, 11, 12, 13, 14, 15, 16, 17, 18, 19, 20, 21, 22, 23, 24, 25, 26, 27, 28, 29, 30, 31, 32, 33, 34, 35, 36, 37, 38, 39, 40, 41, 42, 43, 44, 45, 46, 47, 48, 49, 50, 51, 52, 53, 54, 55, 56, 57, 58, 59, 60, 61, 62, 63, 64, 65, 66, 67, 68, 69, 70, 71, 72, 73, 74, 75, 76, 77, 78, 79, 80, 81, 82, 83, 84, 85, 86, 87, 88, 89, 90, 91, 92, 93, 94, 95, 96, 97, 98, 99, ...]\n",
       "\n",
       "[10326 rows x 0 columns]"
      ]
     },
     "execution_count": 8,
     "metadata": {},
     "output_type": "execute_result"
    }
   ],
   "source": [
    "data[data.columns[data.isna().any()]]"
   ]
  },
  {
   "cell_type": "code",
   "execution_count": 9,
   "metadata": {},
   "outputs": [
    {
     "name": "stdout",
     "output_type": "stream",
     "text": [
      "             Date        Open        High         Low       Close   Adj Close  \\\n",
      "0      12/12/1980    0.128348    0.128906    0.128348    0.128348    0.100453   \n",
      "1      12/15/1980    0.122210    0.122210    0.121652    0.121652    0.095213   \n",
      "2      12/16/1980    0.113281    0.113281    0.112723    0.112723    0.088224   \n",
      "3      12/17/1980    0.115513    0.116071    0.115513    0.115513    0.090408   \n",
      "4      12/18/1980    0.118862    0.119420    0.118862    0.118862    0.093029   \n",
      "...           ...         ...         ...         ...         ...         ...   \n",
      "10321  11/18/2021  153.710007  158.669998  153.050003  157.869995  157.869995   \n",
      "10322  11/19/2021  157.649994  161.020004  156.529999  160.550003  160.550003   \n",
      "10323  11/22/2021  161.679993  165.699997  161.000000  161.020004  161.020004   \n",
      "10324  11/23/2021  161.119995  161.800003  159.059998  161.410004  161.410004   \n",
      "10325  11/24/2021  160.750000  162.139999  159.639999  161.940002  161.940002   \n",
      "\n",
      "          Volume  cond1  cond2  cond3  \n",
      "0      469033600  False  False  False  \n",
      "1      175884800  False  False  False  \n",
      "2      105728000  False  False  False  \n",
      "3       86441600  False  False  False  \n",
      "4       73449600  False  False  False  \n",
      "...          ...    ...    ...    ...  \n",
      "10321  137827700  False  False  False  \n",
      "10322  117147500  False  False  False  \n",
      "10323  117467900  False  False  False  \n",
      "10324   95933900  False  False  False  \n",
      "10325   69463600  False  False  False  \n",
      "\n",
      "[10326 rows x 10 columns]\n"
     ]
    }
   ],
   "source": [
    "cond1 = data.Date.isna() # aapl['Date'].isna()\n",
    "cond2 = data.Date.str.contains(r'^\\s*$', na=False)\n",
    "cond3 = data.Date == ''\n",
    "\n",
    "data_checked = data.assign(cond1= cond1, cond2= cond2, cond3= cond3)\n",
    "print (data_checked)"
   ]
  },
  {
   "cell_type": "code",
   "execution_count": 10,
   "metadata": {},
   "outputs": [],
   "source": [
    "def simple_moving_average_5(close):\n",
    "    return close.rolling(5, min_periods=1).mean()"
   ]
  },
  {
   "cell_type": "code",
   "execution_count": 11,
   "metadata": {},
   "outputs": [],
   "source": [
    "def simple_moving_average_10(close):\n",
    "    return close.rolling(10, min_periods=1).mean()"
   ]
  },
  {
   "cell_type": "code",
   "execution_count": 12,
   "metadata": {},
   "outputs": [],
   "source": [
    "def stochastic_k(high, low, close):\n",
    "    return (((close-low.rolling(14).min())/(high.rolling(14).max()-low.rolling(14).min()))*100)"
   ]
  },
  {
   "cell_type": "code",
   "execution_count": 13,
   "metadata": {},
   "outputs": [],
   "source": [
    "def stochastic_d(stochastic_k):\n",
    "    return stochastic_k.rolling(3,min_periods=1).mean()"
   ]
  },
  {
   "cell_type": "code",
   "execution_count": 14,
   "metadata": {},
   "outputs": [],
   "source": [
    "def larry_williams_r(high, low, close):\n",
    "    return (((high.rolling(14).max()-close)/(high.rolling(14).max()-low.rolling(14).min()))*100)"
   ]
  },
  {
   "cell_type": "code",
   "execution_count": 15,
   "metadata": {},
   "outputs": [],
   "source": [
    "def rate_of_change(close):\n",
    "    return ((close-close.shift(12))/close.shift(12))"
   ]
  },
  {
   "cell_type": "code",
   "execution_count": 16,
   "metadata": {},
   "outputs": [],
   "source": [
    "def price_volume_trend(close, volume):\n",
    "    return (((close-close.shift(1))/close.shift(1))*volume)"
   ]
  },
  {
   "cell_type": "code",
   "execution_count": 17,
   "metadata": {},
   "outputs": [],
   "source": [
    "def accumulation_distribution_oscillator(high, low, close):\n",
    "    return((high-close.shift(1))/(high-low))"
   ]
  },
  {
   "cell_type": "code",
   "execution_count": 18,
   "metadata": {},
   "outputs": [],
   "source": [
    "def weighted_moving_average_10(close):\n",
    "    return ((10*close+9*close.shift(1)+8*close.shift(2)+7*close.shift(3)\n",
    "             +6*close.shift(4)+5*close.shift(5)+4*close.shift(6)+3*close.shift(7)\n",
    "             +2*close.shift(8)+close.shift(9))/(10+9+8+7+6+5+4+3+2+1))"
   ]
  },
  {
   "cell_type": "code",
   "execution_count": 19,
   "metadata": {},
   "outputs": [],
   "source": [
    "def exponential_moving_average_12(close):\n",
    "    return (close.ewm(span=12, adjust=False).mean())"
   ]
  },
  {
   "cell_type": "code",
   "execution_count": 20,
   "metadata": {},
   "outputs": [],
   "source": [
    "def exponential_moving_average_26(close):\n",
    "    return (close.ewm(span=26, adjust=False).mean())"
   ]
  },
  {
   "cell_type": "code",
   "execution_count": 21,
   "metadata": {},
   "outputs": [],
   "source": [
    "def moving_average_convergence_divergence(ema_12, ema_26):\n",
    "    return (ema_12 - ema_26)"
   ]
  },
  {
   "cell_type": "code",
   "execution_count": 22,
   "metadata": {},
   "outputs": [],
   "source": [
    "def momentum(close):\n",
    "    return ((close/close.shift(14))*100)"
   ]
  },
  {
   "cell_type": "code",
   "execution_count": 23,
   "metadata": {},
   "outputs": [],
   "source": [
    "def change(close):\n",
    "    return (close.shift(-1) - close)"
   ]
  },
  {
   "cell_type": "code",
   "execution_count": 24,
   "metadata": {},
   "outputs": [],
   "source": [
    "def direction(change):\n",
    "    return (np.where(change>0, 1, 0))"
   ]
  },
  {
   "cell_type": "code",
   "execution_count": 25,
   "metadata": {},
   "outputs": [],
   "source": [
    "def relative_strength_index(direction):\n",
    "    return (100-(100/(1+(direction.rolling(14).sum()/14)/(14-direction.rolling(14).sum())/14)))"
   ]
  },
  {
   "cell_type": "code",
   "execution_count": 26,
   "metadata": {},
   "outputs": [],
   "source": [
    "def channel_commodity_index(df, ndays): \n",
    "    df['TP'] = (df['High'] + df['Low'] + df['Close']) / 3 \n",
    "    df['sma'] = df['TP'].rolling(ndays).mean()\n",
    "    df['mad'] = df['TP'].rolling(ndays).apply(lambda x: pd.Series(x).mad())\n",
    "    df['CCI'] = (df['TP'] - df['sma']) / (0.015 * df['mad']) \n",
    "    return df['CCI']"
   ]
  },
  {
   "cell_type": "code",
   "execution_count": 27,
   "metadata": {},
   "outputs": [],
   "source": [
    "def disparity_index(close):\n",
    "    return (((close - close.rolling(14).mean())/(close.rolling(14).mean()))*100)"
   ]
  },
  {
   "cell_type": "code",
   "execution_count": 28,
   "metadata": {},
   "outputs": [],
   "source": [
    "def get_adx(high, low, close, lookback):\n",
    "    plus_dm = high.diff()\n",
    "    minus_dm = low.diff()\n",
    "    plus_dm[plus_dm < 0] = 0\n",
    "    minus_dm[minus_dm > 0] = 0\n",
    "    \n",
    "    tr1 = pd.DataFrame(high - low)\n",
    "    tr2 = pd.DataFrame(abs(high - close.shift(1)))\n",
    "    tr3 = pd.DataFrame(abs(low - close.shift(1)))\n",
    "    frames = [tr1, tr2, tr3]\n",
    "    tr = pd.concat(frames, axis = 1, join = 'inner').max(axis = 1)\n",
    "    atr = tr.rolling(lookback).mean()\n",
    "    \n",
    "    plus_di = 100 * (plus_dm.ewm(alpha = 1/lookback).mean() / atr)\n",
    "    minus_di = abs(100 * (minus_dm.ewm(alpha = 1/lookback).mean() / atr))\n",
    "    dx = (abs(plus_di - minus_di) / abs(plus_di + minus_di)) * 100\n",
    "    adx = ((dx.shift(1) * (lookback - 1)) + dx) / lookback\n",
    "    adx_smooth = adx.ewm(alpha = 1/lookback).mean()\n",
    "    return adx_smooth"
   ]
  },
  {
   "cell_type": "code",
   "execution_count": 29,
   "metadata": {},
   "outputs": [],
   "source": [
    "def aroon(close):\n",
    "    return (ta.trend.AroonIndicator(close, 25, True).aroon_indicator())"
   ]
  },
  {
   "cell_type": "code",
   "execution_count": 30,
   "metadata": {},
   "outputs": [],
   "source": [
    "def compute_all_indicators(data):\n",
    "    data['SMA5'] = simple_moving_average_5(data['Close'])\n",
    "    data['SMA10'] = simple_moving_average_10(data['Close'])\n",
    "    data['StochasticK'] = stochastic_k(data['High'], data['Low'], data['Close'])\n",
    "    data['StochasticD'] = stochastic_d(data['StochasticK'])\n",
    "    data['LarryWilliamsR'] = larry_williams_r(data['High'], data['Low'], data['Close'])\n",
    "    data['ROC'] = rate_of_change(data['Close'])\n",
    "    data['PVT'] = price_volume_trend(data['Close'], data['Volume'])\n",
    "    data['ADO'] = accumulation_distribution_oscillator(data['High'], data['Low'], data['Close'])\n",
    "    data['WMA10'] = weighted_moving_average_10(data['Close'])\n",
    "    data['EMA12'] = exponential_moving_average_12(data['Close'])\n",
    "    data['EMA26'] = exponential_moving_average_26(data['Close'])\n",
    "    data['MACD'] = moving_average_convergence_divergence(data['EMA12'], data['EMA26'])\n",
    "    data['Momentum'] = momentum(data['Close'])\n",
    "    data['Change'] = change(data['Close'])\n",
    "    data['Direction'] = direction(data['Change'])\n",
    "    data['RSI'] = relative_strength_index(data['Direction'])\n",
    "    data['CCI'] = channel_commodity_index(data, 14)\n",
    "    data['DI'] = disparity_index(data['Close'])\n",
    "    data['ADX'] = get_adx(data['High'], data['Low'], data['Close'], 14)\n",
    "    data['Aroon'] = aroon(data['Close'])    \n",
    "    return data"
   ]
  },
  {
   "cell_type": "code",
   "execution_count": 31,
   "metadata": {},
   "outputs": [
    {
     "data": {
      "text/html": [
       "<div>\n",
       "<style scoped>\n",
       "    .dataframe tbody tr th:only-of-type {\n",
       "        vertical-align: middle;\n",
       "    }\n",
       "\n",
       "    .dataframe tbody tr th {\n",
       "        vertical-align: top;\n",
       "    }\n",
       "\n",
       "    .dataframe thead th {\n",
       "        text-align: right;\n",
       "    }\n",
       "</style>\n",
       "<table border=\"1\" class=\"dataframe\">\n",
       "  <thead>\n",
       "    <tr style=\"text-align: right;\">\n",
       "      <th></th>\n",
       "      <th>Date</th>\n",
       "      <th>Open</th>\n",
       "      <th>High</th>\n",
       "      <th>Low</th>\n",
       "      <th>Close</th>\n",
       "      <th>Adj Close</th>\n",
       "      <th>Volume</th>\n",
       "      <th>SMA5</th>\n",
       "      <th>SMA10</th>\n",
       "      <th>StochasticK</th>\n",
       "      <th>...</th>\n",
       "      <th>Change</th>\n",
       "      <th>Direction</th>\n",
       "      <th>RSI</th>\n",
       "      <th>TP</th>\n",
       "      <th>sma</th>\n",
       "      <th>mad</th>\n",
       "      <th>CCI</th>\n",
       "      <th>DI</th>\n",
       "      <th>ADX</th>\n",
       "      <th>Aroon</th>\n",
       "    </tr>\n",
       "  </thead>\n",
       "  <tbody>\n",
       "    <tr>\n",
       "      <th>0</th>\n",
       "      <td>12/12/1980</td>\n",
       "      <td>0.128348</td>\n",
       "      <td>0.128906</td>\n",
       "      <td>0.128348</td>\n",
       "      <td>0.128348</td>\n",
       "      <td>0.100453</td>\n",
       "      <td>469033600</td>\n",
       "      <td>0.128348</td>\n",
       "      <td>0.128348</td>\n",
       "      <td>NaN</td>\n",
       "      <td>...</td>\n",
       "      <td>-0.006696</td>\n",
       "      <td>0</td>\n",
       "      <td>NaN</td>\n",
       "      <td>0.128534</td>\n",
       "      <td>NaN</td>\n",
       "      <td>NaN</td>\n",
       "      <td>NaN</td>\n",
       "      <td>NaN</td>\n",
       "      <td>NaN</td>\n",
       "      <td>0.0</td>\n",
       "    </tr>\n",
       "    <tr>\n",
       "      <th>1</th>\n",
       "      <td>12/15/1980</td>\n",
       "      <td>0.122210</td>\n",
       "      <td>0.122210</td>\n",
       "      <td>0.121652</td>\n",
       "      <td>0.121652</td>\n",
       "      <td>0.095213</td>\n",
       "      <td>175884800</td>\n",
       "      <td>0.125000</td>\n",
       "      <td>0.125000</td>\n",
       "      <td>NaN</td>\n",
       "      <td>...</td>\n",
       "      <td>-0.008929</td>\n",
       "      <td>0</td>\n",
       "      <td>NaN</td>\n",
       "      <td>0.121838</td>\n",
       "      <td>NaN</td>\n",
       "      <td>NaN</td>\n",
       "      <td>NaN</td>\n",
       "      <td>NaN</td>\n",
       "      <td>NaN</td>\n",
       "      <td>-4.0</td>\n",
       "    </tr>\n",
       "    <tr>\n",
       "      <th>2</th>\n",
       "      <td>12/16/1980</td>\n",
       "      <td>0.113281</td>\n",
       "      <td>0.113281</td>\n",
       "      <td>0.112723</td>\n",
       "      <td>0.112723</td>\n",
       "      <td>0.088224</td>\n",
       "      <td>105728000</td>\n",
       "      <td>0.120908</td>\n",
       "      <td>0.120908</td>\n",
       "      <td>NaN</td>\n",
       "      <td>...</td>\n",
       "      <td>0.002790</td>\n",
       "      <td>1</td>\n",
       "      <td>NaN</td>\n",
       "      <td>0.112909</td>\n",
       "      <td>NaN</td>\n",
       "      <td>NaN</td>\n",
       "      <td>NaN</td>\n",
       "      <td>NaN</td>\n",
       "      <td>NaN</td>\n",
       "      <td>-8.0</td>\n",
       "    </tr>\n",
       "    <tr>\n",
       "      <th>3</th>\n",
       "      <td>12/17/1980</td>\n",
       "      <td>0.115513</td>\n",
       "      <td>0.116071</td>\n",
       "      <td>0.115513</td>\n",
       "      <td>0.115513</td>\n",
       "      <td>0.090408</td>\n",
       "      <td>86441600</td>\n",
       "      <td>0.119559</td>\n",
       "      <td>0.119559</td>\n",
       "      <td>NaN</td>\n",
       "      <td>...</td>\n",
       "      <td>0.003349</td>\n",
       "      <td>1</td>\n",
       "      <td>NaN</td>\n",
       "      <td>0.115699</td>\n",
       "      <td>NaN</td>\n",
       "      <td>NaN</td>\n",
       "      <td>NaN</td>\n",
       "      <td>NaN</td>\n",
       "      <td>NaN</td>\n",
       "      <td>-8.0</td>\n",
       "    </tr>\n",
       "    <tr>\n",
       "      <th>4</th>\n",
       "      <td>12/18/1980</td>\n",
       "      <td>0.118862</td>\n",
       "      <td>0.119420</td>\n",
       "      <td>0.118862</td>\n",
       "      <td>0.118862</td>\n",
       "      <td>0.093029</td>\n",
       "      <td>73449600</td>\n",
       "      <td>0.119420</td>\n",
       "      <td>0.119420</td>\n",
       "      <td>NaN</td>\n",
       "      <td>...</td>\n",
       "      <td>0.007254</td>\n",
       "      <td>1</td>\n",
       "      <td>NaN</td>\n",
       "      <td>0.119048</td>\n",
       "      <td>NaN</td>\n",
       "      <td>NaN</td>\n",
       "      <td>NaN</td>\n",
       "      <td>NaN</td>\n",
       "      <td>NaN</td>\n",
       "      <td>-8.0</td>\n",
       "    </tr>\n",
       "    <tr>\n",
       "      <th>...</th>\n",
       "      <td>...</td>\n",
       "      <td>...</td>\n",
       "      <td>...</td>\n",
       "      <td>...</td>\n",
       "      <td>...</td>\n",
       "      <td>...</td>\n",
       "      <td>...</td>\n",
       "      <td>...</td>\n",
       "      <td>...</td>\n",
       "      <td>...</td>\n",
       "      <td>...</td>\n",
       "      <td>...</td>\n",
       "      <td>...</td>\n",
       "      <td>...</td>\n",
       "      <td>...</td>\n",
       "      <td>...</td>\n",
       "      <td>...</td>\n",
       "      <td>...</td>\n",
       "      <td>...</td>\n",
       "      <td>...</td>\n",
       "      <td>...</td>\n",
       "    </tr>\n",
       "    <tr>\n",
       "      <th>10321</th>\n",
       "      <td>11/18/2021</td>\n",
       "      <td>153.710007</td>\n",
       "      <td>158.669998</td>\n",
       "      <td>153.050003</td>\n",
       "      <td>157.869995</td>\n",
       "      <td>157.869995</td>\n",
       "      <td>137827700</td>\n",
       "      <td>152.470001</td>\n",
       "      <td>151.067000</td>\n",
       "      <td>92.850734</td>\n",
       "      <td>...</td>\n",
       "      <td>2.680008</td>\n",
       "      <td>1</td>\n",
       "      <td>1.259446</td>\n",
       "      <td>156.529999</td>\n",
       "      <td>150.785238</td>\n",
       "      <td>1.340068</td>\n",
       "      <td>285.794377</td>\n",
       "      <td>4.643715</td>\n",
       "      <td>15.458962</td>\n",
       "      <td>96.0</td>\n",
       "    </tr>\n",
       "    <tr>\n",
       "      <th>10322</th>\n",
       "      <td>11/19/2021</td>\n",
       "      <td>157.649994</td>\n",
       "      <td>161.020004</td>\n",
       "      <td>156.529999</td>\n",
       "      <td>160.550003</td>\n",
       "      <td>160.550003</td>\n",
       "      <td>117147500</td>\n",
       "      <td>154.582001</td>\n",
       "      <td>151.994000</td>\n",
       "      <td>96.528798</td>\n",
       "      <td>...</td>\n",
       "      <td>0.470001</td>\n",
       "      <td>1</td>\n",
       "      <td>1.259446</td>\n",
       "      <td>159.366669</td>\n",
       "      <td>151.538572</td>\n",
       "      <td>2.062994</td>\n",
       "      <td>252.968849</td>\n",
       "      <td>5.839366</td>\n",
       "      <td>17.452579</td>\n",
       "      <td>96.0</td>\n",
       "    </tr>\n",
       "    <tr>\n",
       "      <th>10323</th>\n",
       "      <td>11/22/2021</td>\n",
       "      <td>161.679993</td>\n",
       "      <td>165.699997</td>\n",
       "      <td>161.000000</td>\n",
       "      <td>161.020004</td>\n",
       "      <td>161.020004</td>\n",
       "      <td>117467900</td>\n",
       "      <td>156.786001</td>\n",
       "      <td>153.052000</td>\n",
       "      <td>74.313981</td>\n",
       "      <td>...</td>\n",
       "      <td>0.390000</td>\n",
       "      <td>1</td>\n",
       "      <td>1.259446</td>\n",
       "      <td>162.573334</td>\n",
       "      <td>152.430953</td>\n",
       "      <td>3.129456</td>\n",
       "      <td>216.062687</td>\n",
       "      <td>5.602220</td>\n",
       "      <td>19.791095</td>\n",
       "      <td>28.0</td>\n",
       "    </tr>\n",
       "    <tr>\n",
       "      <th>10324</th>\n",
       "      <td>11/23/2021</td>\n",
       "      <td>161.119995</td>\n",
       "      <td>161.800003</td>\n",
       "      <td>159.059998</td>\n",
       "      <td>161.410004</td>\n",
       "      <td>161.410004</td>\n",
       "      <td>95933900</td>\n",
       "      <td>158.868002</td>\n",
       "      <td>154.112001</td>\n",
       "      <td>76.454485</td>\n",
       "      <td>...</td>\n",
       "      <td>0.529998</td>\n",
       "      <td>1</td>\n",
       "      <td>1.836394</td>\n",
       "      <td>160.756668</td>\n",
       "      <td>153.121190</td>\n",
       "      <td>3.825817</td>\n",
       "      <td>133.051798</td>\n",
       "      <td>5.368344</td>\n",
       "      <td>22.560291</td>\n",
       "      <td>32.0</td>\n",
       "    </tr>\n",
       "    <tr>\n",
       "      <th>10325</th>\n",
       "      <td>11/24/2021</td>\n",
       "      <td>160.750000</td>\n",
       "      <td>162.139999</td>\n",
       "      <td>159.639999</td>\n",
       "      <td>161.940002</td>\n",
       "      <td>161.940002</td>\n",
       "      <td>69463600</td>\n",
       "      <td>160.558002</td>\n",
       "      <td>155.514001</td>\n",
       "      <td>79.363366</td>\n",
       "      <td>...</td>\n",
       "      <td>NaN</td>\n",
       "      <td>0</td>\n",
       "      <td>1.259446</td>\n",
       "      <td>161.240000</td>\n",
       "      <td>153.828095</td>\n",
       "      <td>4.475170</td>\n",
       "      <td>110.415232</td>\n",
       "      <td>5.175846</td>\n",
       "      <td>24.276345</td>\n",
       "      <td>36.0</td>\n",
       "    </tr>\n",
       "  </tbody>\n",
       "</table>\n",
       "<p>10326 rows × 30 columns</p>\n",
       "</div>"
      ],
      "text/plain": [
       "             Date        Open        High         Low       Close   Adj Close  \\\n",
       "0      12/12/1980    0.128348    0.128906    0.128348    0.128348    0.100453   \n",
       "1      12/15/1980    0.122210    0.122210    0.121652    0.121652    0.095213   \n",
       "2      12/16/1980    0.113281    0.113281    0.112723    0.112723    0.088224   \n",
       "3      12/17/1980    0.115513    0.116071    0.115513    0.115513    0.090408   \n",
       "4      12/18/1980    0.118862    0.119420    0.118862    0.118862    0.093029   \n",
       "...           ...         ...         ...         ...         ...         ...   \n",
       "10321  11/18/2021  153.710007  158.669998  153.050003  157.869995  157.869995   \n",
       "10322  11/19/2021  157.649994  161.020004  156.529999  160.550003  160.550003   \n",
       "10323  11/22/2021  161.679993  165.699997  161.000000  161.020004  161.020004   \n",
       "10324  11/23/2021  161.119995  161.800003  159.059998  161.410004  161.410004   \n",
       "10325  11/24/2021  160.750000  162.139999  159.639999  161.940002  161.940002   \n",
       "\n",
       "          Volume        SMA5       SMA10  StochasticK  ...    Change  \\\n",
       "0      469033600    0.128348    0.128348          NaN  ... -0.006696   \n",
       "1      175884800    0.125000    0.125000          NaN  ... -0.008929   \n",
       "2      105728000    0.120908    0.120908          NaN  ...  0.002790   \n",
       "3       86441600    0.119559    0.119559          NaN  ...  0.003349   \n",
       "4       73449600    0.119420    0.119420          NaN  ...  0.007254   \n",
       "...          ...         ...         ...          ...  ...       ...   \n",
       "10321  137827700  152.470001  151.067000    92.850734  ...  2.680008   \n",
       "10322  117147500  154.582001  151.994000    96.528798  ...  0.470001   \n",
       "10323  117467900  156.786001  153.052000    74.313981  ...  0.390000   \n",
       "10324   95933900  158.868002  154.112001    76.454485  ...  0.529998   \n",
       "10325   69463600  160.558002  155.514001    79.363366  ...       NaN   \n",
       "\n",
       "       Direction       RSI          TP         sma       mad         CCI  \\\n",
       "0              0       NaN    0.128534         NaN       NaN         NaN   \n",
       "1              0       NaN    0.121838         NaN       NaN         NaN   \n",
       "2              1       NaN    0.112909         NaN       NaN         NaN   \n",
       "3              1       NaN    0.115699         NaN       NaN         NaN   \n",
       "4              1       NaN    0.119048         NaN       NaN         NaN   \n",
       "...          ...       ...         ...         ...       ...         ...   \n",
       "10321          1  1.259446  156.529999  150.785238  1.340068  285.794377   \n",
       "10322          1  1.259446  159.366669  151.538572  2.062994  252.968849   \n",
       "10323          1  1.259446  162.573334  152.430953  3.129456  216.062687   \n",
       "10324          1  1.836394  160.756668  153.121190  3.825817  133.051798   \n",
       "10325          0  1.259446  161.240000  153.828095  4.475170  110.415232   \n",
       "\n",
       "             DI        ADX  Aroon  \n",
       "0           NaN        NaN    0.0  \n",
       "1           NaN        NaN   -4.0  \n",
       "2           NaN        NaN   -8.0  \n",
       "3           NaN        NaN   -8.0  \n",
       "4           NaN        NaN   -8.0  \n",
       "...         ...        ...    ...  \n",
       "10321  4.643715  15.458962   96.0  \n",
       "10322  5.839366  17.452579   96.0  \n",
       "10323  5.602220  19.791095   28.0  \n",
       "10324  5.368344  22.560291   32.0  \n",
       "10325  5.175846  24.276345   36.0  \n",
       "\n",
       "[10326 rows x 30 columns]"
      ]
     },
     "execution_count": 31,
     "metadata": {},
     "output_type": "execute_result"
    }
   ],
   "source": [
    "complete_data = compute_all_indicators(data)\n",
    "complete_data"
   ]
  },
  {
   "cell_type": "code",
   "execution_count": 32,
   "metadata": {},
   "outputs": [],
   "source": [
    "complete_data = complete_data.dropna()"
   ]
  },
  {
   "cell_type": "code",
   "execution_count": 33,
   "metadata": {},
   "outputs": [
    {
     "data": {
      "text/html": [
       "<div>\n",
       "<style scoped>\n",
       "    .dataframe tbody tr th:only-of-type {\n",
       "        vertical-align: middle;\n",
       "    }\n",
       "\n",
       "    .dataframe tbody tr th {\n",
       "        vertical-align: top;\n",
       "    }\n",
       "\n",
       "    .dataframe thead th {\n",
       "        text-align: right;\n",
       "    }\n",
       "</style>\n",
       "<table border=\"1\" class=\"dataframe\">\n",
       "  <thead>\n",
       "    <tr style=\"text-align: right;\">\n",
       "      <th></th>\n",
       "      <th>Date</th>\n",
       "      <th>Open</th>\n",
       "      <th>High</th>\n",
       "      <th>Low</th>\n",
       "      <th>Close</th>\n",
       "      <th>Adj Close</th>\n",
       "      <th>Volume</th>\n",
       "      <th>SMA5</th>\n",
       "      <th>SMA10</th>\n",
       "      <th>StochasticK</th>\n",
       "      <th>...</th>\n",
       "      <th>Change</th>\n",
       "      <th>Direction</th>\n",
       "      <th>RSI</th>\n",
       "      <th>TP</th>\n",
       "      <th>sma</th>\n",
       "      <th>mad</th>\n",
       "      <th>CCI</th>\n",
       "      <th>DI</th>\n",
       "      <th>ADX</th>\n",
       "      <th>Aroon</th>\n",
       "    </tr>\n",
       "  </thead>\n",
       "  <tbody>\n",
       "    <tr>\n",
       "      <th>14</th>\n",
       "      <td>1/5/1981</td>\n",
       "      <td>0.151228</td>\n",
       "      <td>0.151228</td>\n",
       "      <td>0.150670</td>\n",
       "      <td>0.150670</td>\n",
       "      <td>0.117924</td>\n",
       "      <td>35728000</td>\n",
       "      <td>0.154911</td>\n",
       "      <td>0.147433</td>\n",
       "      <td>78.162269</td>\n",
       "      <td>...</td>\n",
       "      <td>-0.006697</td>\n",
       "      <td>0</td>\n",
       "      <td>0.910010</td>\n",
       "      <td>0.150856</td>\n",
       "      <td>0.138991</td>\n",
       "      <td>0.015240</td>\n",
       "      <td>51.905087</td>\n",
       "      <td>8.558577</td>\n",
       "      <td>39.422947</td>\n",
       "      <td>32.0</td>\n",
       "    </tr>\n",
       "    <tr>\n",
       "      <th>15</th>\n",
       "      <td>1/6/1981</td>\n",
       "      <td>0.144531</td>\n",
       "      <td>0.144531</td>\n",
       "      <td>0.143973</td>\n",
       "      <td>0.143973</td>\n",
       "      <td>0.112683</td>\n",
       "      <td>45158400</td>\n",
       "      <td>0.151563</td>\n",
       "      <td>0.149219</td>\n",
       "      <td>64.367958</td>\n",
       "      <td>...</td>\n",
       "      <td>-0.006138</td>\n",
       "      <td>0</td>\n",
       "      <td>0.910010</td>\n",
       "      <td>0.144159</td>\n",
       "      <td>0.140585</td>\n",
       "      <td>0.014156</td>\n",
       "      <td>16.831178</td>\n",
       "      <td>2.555255</td>\n",
       "      <td>34.025492</td>\n",
       "      <td>32.0</td>\n",
       "    </tr>\n",
       "    <tr>\n",
       "      <th>16</th>\n",
       "      <td>1/7/1981</td>\n",
       "      <td>0.138393</td>\n",
       "      <td>0.138393</td>\n",
       "      <td>0.137835</td>\n",
       "      <td>0.137835</td>\n",
       "      <td>0.107879</td>\n",
       "      <td>55686400</td>\n",
       "      <td>0.147768</td>\n",
       "      <td>0.149777</td>\n",
       "      <td>48.781660</td>\n",
       "      <td>...</td>\n",
       "      <td>-0.002790</td>\n",
       "      <td>0</td>\n",
       "      <td>0.675676</td>\n",
       "      <td>0.138021</td>\n",
       "      <td>0.142379</td>\n",
       "      <td>0.012106</td>\n",
       "      <td>-23.998205</td>\n",
       "      <td>-3.055644</td>\n",
       "      <td>26.178222</td>\n",
       "      <td>32.0</td>\n",
       "    </tr>\n",
       "    <tr>\n",
       "      <th>17</th>\n",
       "      <td>1/8/1981</td>\n",
       "      <td>0.135603</td>\n",
       "      <td>0.135603</td>\n",
       "      <td>0.135045</td>\n",
       "      <td>0.135045</td>\n",
       "      <td>0.105695</td>\n",
       "      <td>39827200</td>\n",
       "      <td>0.144308</td>\n",
       "      <td>0.149498</td>\n",
       "      <td>38.158453</td>\n",
       "      <td>...</td>\n",
       "      <td>0.007254</td>\n",
       "      <td>1</td>\n",
       "      <td>0.675676</td>\n",
       "      <td>0.135231</td>\n",
       "      <td>0.143774</td>\n",
       "      <td>0.010511</td>\n",
       "      <td>-54.181713</td>\n",
       "      <td>-5.940912</td>\n",
       "      <td>19.002172</td>\n",
       "      <td>32.0</td>\n",
       "    </tr>\n",
       "    <tr>\n",
       "      <th>18</th>\n",
       "      <td>1/9/1981</td>\n",
       "      <td>0.142299</td>\n",
       "      <td>0.142857</td>\n",
       "      <td>0.142299</td>\n",
       "      <td>0.142299</td>\n",
       "      <td>0.111372</td>\n",
       "      <td>21504000</td>\n",
       "      <td>0.141964</td>\n",
       "      <td>0.149219</td>\n",
       "      <td>46.031972</td>\n",
       "      <td>...</td>\n",
       "      <td>-0.001116</td>\n",
       "      <td>0</td>\n",
       "      <td>0.507614</td>\n",
       "      <td>0.142485</td>\n",
       "      <td>0.145448</td>\n",
       "      <td>0.008807</td>\n",
       "      <td>-22.428997</td>\n",
       "      <td>-2.030802</td>\n",
       "      <td>15.894879</td>\n",
       "      <td>32.0</td>\n",
       "    </tr>\n",
       "    <tr>\n",
       "      <th>...</th>\n",
       "      <td>...</td>\n",
       "      <td>...</td>\n",
       "      <td>...</td>\n",
       "      <td>...</td>\n",
       "      <td>...</td>\n",
       "      <td>...</td>\n",
       "      <td>...</td>\n",
       "      <td>...</td>\n",
       "      <td>...</td>\n",
       "      <td>...</td>\n",
       "      <td>...</td>\n",
       "      <td>...</td>\n",
       "      <td>...</td>\n",
       "      <td>...</td>\n",
       "      <td>...</td>\n",
       "      <td>...</td>\n",
       "      <td>...</td>\n",
       "      <td>...</td>\n",
       "      <td>...</td>\n",
       "      <td>...</td>\n",
       "      <td>...</td>\n",
       "    </tr>\n",
       "    <tr>\n",
       "      <th>10320</th>\n",
       "      <td>11/17/2021</td>\n",
       "      <td>151.000000</td>\n",
       "      <td>155.000000</td>\n",
       "      <td>150.990005</td>\n",
       "      <td>153.490005</td>\n",
       "      <td>153.490005</td>\n",
       "      <td>88807000</td>\n",
       "      <td>150.470001</td>\n",
       "      <td>150.376001</td>\n",
       "      <td>82.421470</td>\n",
       "      <td>...</td>\n",
       "      <td>4.379990</td>\n",
       "      <td>1</td>\n",
       "      <td>0.910010</td>\n",
       "      <td>153.160003</td>\n",
       "      <td>150.227143</td>\n",
       "      <td>1.070885</td>\n",
       "      <td>182.581771</td>\n",
       "      <td>2.130675</td>\n",
       "      <td>14.297264</td>\n",
       "      <td>96.0</td>\n",
       "    </tr>\n",
       "    <tr>\n",
       "      <th>10321</th>\n",
       "      <td>11/18/2021</td>\n",
       "      <td>153.710007</td>\n",
       "      <td>158.669998</td>\n",
       "      <td>153.050003</td>\n",
       "      <td>157.869995</td>\n",
       "      <td>157.869995</td>\n",
       "      <td>137827700</td>\n",
       "      <td>152.470001</td>\n",
       "      <td>151.067000</td>\n",
       "      <td>92.850734</td>\n",
       "      <td>...</td>\n",
       "      <td>2.680008</td>\n",
       "      <td>1</td>\n",
       "      <td>1.259446</td>\n",
       "      <td>156.529999</td>\n",
       "      <td>150.785238</td>\n",
       "      <td>1.340068</td>\n",
       "      <td>285.794377</td>\n",
       "      <td>4.643715</td>\n",
       "      <td>15.458962</td>\n",
       "      <td>96.0</td>\n",
       "    </tr>\n",
       "    <tr>\n",
       "      <th>10322</th>\n",
       "      <td>11/19/2021</td>\n",
       "      <td>157.649994</td>\n",
       "      <td>161.020004</td>\n",
       "      <td>156.529999</td>\n",
       "      <td>160.550003</td>\n",
       "      <td>160.550003</td>\n",
       "      <td>117147500</td>\n",
       "      <td>154.582001</td>\n",
       "      <td>151.994000</td>\n",
       "      <td>96.528798</td>\n",
       "      <td>...</td>\n",
       "      <td>0.470001</td>\n",
       "      <td>1</td>\n",
       "      <td>1.259446</td>\n",
       "      <td>159.366669</td>\n",
       "      <td>151.538572</td>\n",
       "      <td>2.062994</td>\n",
       "      <td>252.968849</td>\n",
       "      <td>5.839366</td>\n",
       "      <td>17.452579</td>\n",
       "      <td>96.0</td>\n",
       "    </tr>\n",
       "    <tr>\n",
       "      <th>10323</th>\n",
       "      <td>11/22/2021</td>\n",
       "      <td>161.679993</td>\n",
       "      <td>165.699997</td>\n",
       "      <td>161.000000</td>\n",
       "      <td>161.020004</td>\n",
       "      <td>161.020004</td>\n",
       "      <td>117467900</td>\n",
       "      <td>156.786001</td>\n",
       "      <td>153.052000</td>\n",
       "      <td>74.313981</td>\n",
       "      <td>...</td>\n",
       "      <td>0.390000</td>\n",
       "      <td>1</td>\n",
       "      <td>1.259446</td>\n",
       "      <td>162.573334</td>\n",
       "      <td>152.430953</td>\n",
       "      <td>3.129456</td>\n",
       "      <td>216.062687</td>\n",
       "      <td>5.602220</td>\n",
       "      <td>19.791095</td>\n",
       "      <td>28.0</td>\n",
       "    </tr>\n",
       "    <tr>\n",
       "      <th>10324</th>\n",
       "      <td>11/23/2021</td>\n",
       "      <td>161.119995</td>\n",
       "      <td>161.800003</td>\n",
       "      <td>159.059998</td>\n",
       "      <td>161.410004</td>\n",
       "      <td>161.410004</td>\n",
       "      <td>95933900</td>\n",
       "      <td>158.868002</td>\n",
       "      <td>154.112001</td>\n",
       "      <td>76.454485</td>\n",
       "      <td>...</td>\n",
       "      <td>0.529998</td>\n",
       "      <td>1</td>\n",
       "      <td>1.836394</td>\n",
       "      <td>160.756668</td>\n",
       "      <td>153.121190</td>\n",
       "      <td>3.825817</td>\n",
       "      <td>133.051798</td>\n",
       "      <td>5.368344</td>\n",
       "      <td>22.560291</td>\n",
       "      <td>32.0</td>\n",
       "    </tr>\n",
       "  </tbody>\n",
       "</table>\n",
       "<p>10309 rows × 30 columns</p>\n",
       "</div>"
      ],
      "text/plain": [
       "             Date        Open        High         Low       Close   Adj Close  \\\n",
       "14       1/5/1981    0.151228    0.151228    0.150670    0.150670    0.117924   \n",
       "15       1/6/1981    0.144531    0.144531    0.143973    0.143973    0.112683   \n",
       "16       1/7/1981    0.138393    0.138393    0.137835    0.137835    0.107879   \n",
       "17       1/8/1981    0.135603    0.135603    0.135045    0.135045    0.105695   \n",
       "18       1/9/1981    0.142299    0.142857    0.142299    0.142299    0.111372   \n",
       "...           ...         ...         ...         ...         ...         ...   \n",
       "10320  11/17/2021  151.000000  155.000000  150.990005  153.490005  153.490005   \n",
       "10321  11/18/2021  153.710007  158.669998  153.050003  157.869995  157.869995   \n",
       "10322  11/19/2021  157.649994  161.020004  156.529999  160.550003  160.550003   \n",
       "10323  11/22/2021  161.679993  165.699997  161.000000  161.020004  161.020004   \n",
       "10324  11/23/2021  161.119995  161.800003  159.059998  161.410004  161.410004   \n",
       "\n",
       "          Volume        SMA5       SMA10  StochasticK  ...    Change  \\\n",
       "14      35728000    0.154911    0.147433    78.162269  ... -0.006697   \n",
       "15      45158400    0.151563    0.149219    64.367958  ... -0.006138   \n",
       "16      55686400    0.147768    0.149777    48.781660  ... -0.002790   \n",
       "17      39827200    0.144308    0.149498    38.158453  ...  0.007254   \n",
       "18      21504000    0.141964    0.149219    46.031972  ... -0.001116   \n",
       "...          ...         ...         ...          ...  ...       ...   \n",
       "10320   88807000  150.470001  150.376001    82.421470  ...  4.379990   \n",
       "10321  137827700  152.470001  151.067000    92.850734  ...  2.680008   \n",
       "10322  117147500  154.582001  151.994000    96.528798  ...  0.470001   \n",
       "10323  117467900  156.786001  153.052000    74.313981  ...  0.390000   \n",
       "10324   95933900  158.868002  154.112001    76.454485  ...  0.529998   \n",
       "\n",
       "       Direction       RSI          TP         sma       mad         CCI  \\\n",
       "14             0  0.910010    0.150856    0.138991  0.015240   51.905087   \n",
       "15             0  0.910010    0.144159    0.140585  0.014156   16.831178   \n",
       "16             0  0.675676    0.138021    0.142379  0.012106  -23.998205   \n",
       "17             1  0.675676    0.135231    0.143774  0.010511  -54.181713   \n",
       "18             0  0.507614    0.142485    0.145448  0.008807  -22.428997   \n",
       "...          ...       ...         ...         ...       ...         ...   \n",
       "10320          1  0.910010  153.160003  150.227143  1.070885  182.581771   \n",
       "10321          1  1.259446  156.529999  150.785238  1.340068  285.794377   \n",
       "10322          1  1.259446  159.366669  151.538572  2.062994  252.968849   \n",
       "10323          1  1.259446  162.573334  152.430953  3.129456  216.062687   \n",
       "10324          1  1.836394  160.756668  153.121190  3.825817  133.051798   \n",
       "\n",
       "             DI        ADX  Aroon  \n",
       "14     8.558577  39.422947   32.0  \n",
       "15     2.555255  34.025492   32.0  \n",
       "16    -3.055644  26.178222   32.0  \n",
       "17    -5.940912  19.002172   32.0  \n",
       "18    -2.030802  15.894879   32.0  \n",
       "...         ...        ...    ...  \n",
       "10320  2.130675  14.297264   96.0  \n",
       "10321  4.643715  15.458962   96.0  \n",
       "10322  5.839366  17.452579   96.0  \n",
       "10323  5.602220  19.791095   28.0  \n",
       "10324  5.368344  22.560291   32.0  \n",
       "\n",
       "[10309 rows x 30 columns]"
      ]
     },
     "execution_count": 33,
     "metadata": {},
     "output_type": "execute_result"
    }
   ],
   "source": [
    "complete_data"
   ]
  },
  {
   "cell_type": "code",
   "execution_count": 34,
   "metadata": {},
   "outputs": [],
   "source": [
    "complete_data = complete_data.drop(['TP', 'sma', 'mad', 'Change'], axis=1)"
   ]
  },
  {
   "cell_type": "code",
   "execution_count": 35,
   "metadata": {},
   "outputs": [
    {
     "data": {
      "text/html": [
       "<div>\n",
       "<style scoped>\n",
       "    .dataframe tbody tr th:only-of-type {\n",
       "        vertical-align: middle;\n",
       "    }\n",
       "\n",
       "    .dataframe tbody tr th {\n",
       "        vertical-align: top;\n",
       "    }\n",
       "\n",
       "    .dataframe thead th {\n",
       "        text-align: right;\n",
       "    }\n",
       "</style>\n",
       "<table border=\"1\" class=\"dataframe\">\n",
       "  <thead>\n",
       "    <tr style=\"text-align: right;\">\n",
       "      <th></th>\n",
       "      <th>Date</th>\n",
       "      <th>Open</th>\n",
       "      <th>High</th>\n",
       "      <th>Low</th>\n",
       "      <th>Close</th>\n",
       "      <th>Adj Close</th>\n",
       "      <th>Volume</th>\n",
       "      <th>SMA5</th>\n",
       "      <th>SMA10</th>\n",
       "      <th>StochasticK</th>\n",
       "      <th>...</th>\n",
       "      <th>EMA12</th>\n",
       "      <th>EMA26</th>\n",
       "      <th>MACD</th>\n",
       "      <th>Momentum</th>\n",
       "      <th>Direction</th>\n",
       "      <th>RSI</th>\n",
       "      <th>CCI</th>\n",
       "      <th>DI</th>\n",
       "      <th>ADX</th>\n",
       "      <th>Aroon</th>\n",
       "    </tr>\n",
       "  </thead>\n",
       "  <tbody>\n",
       "    <tr>\n",
       "      <th>14</th>\n",
       "      <td>1/5/1981</td>\n",
       "      <td>0.151228</td>\n",
       "      <td>0.151228</td>\n",
       "      <td>0.150670</td>\n",
       "      <td>0.150670</td>\n",
       "      <td>0.117924</td>\n",
       "      <td>35728000</td>\n",
       "      <td>0.154911</td>\n",
       "      <td>0.147433</td>\n",
       "      <td>78.162269</td>\n",
       "      <td>...</td>\n",
       "      <td>0.145433</td>\n",
       "      <td>0.138131</td>\n",
       "      <td>0.007302</td>\n",
       "      <td>117.391779</td>\n",
       "      <td>0</td>\n",
       "      <td>0.910010</td>\n",
       "      <td>51.905087</td>\n",
       "      <td>8.558577</td>\n",
       "      <td>39.422947</td>\n",
       "      <td>32.0</td>\n",
       "    </tr>\n",
       "    <tr>\n",
       "      <th>15</th>\n",
       "      <td>1/6/1981</td>\n",
       "      <td>0.144531</td>\n",
       "      <td>0.144531</td>\n",
       "      <td>0.143973</td>\n",
       "      <td>0.143973</td>\n",
       "      <td>0.112683</td>\n",
       "      <td>45158400</td>\n",
       "      <td>0.151563</td>\n",
       "      <td>0.149219</td>\n",
       "      <td>64.367958</td>\n",
       "      <td>...</td>\n",
       "      <td>0.145208</td>\n",
       "      <td>0.138564</td>\n",
       "      <td>0.006645</td>\n",
       "      <td>118.348239</td>\n",
       "      <td>0</td>\n",
       "      <td>0.910010</td>\n",
       "      <td>16.831178</td>\n",
       "      <td>2.555255</td>\n",
       "      <td>34.025492</td>\n",
       "      <td>32.0</td>\n",
       "    </tr>\n",
       "    <tr>\n",
       "      <th>16</th>\n",
       "      <td>1/7/1981</td>\n",
       "      <td>0.138393</td>\n",
       "      <td>0.138393</td>\n",
       "      <td>0.137835</td>\n",
       "      <td>0.137835</td>\n",
       "      <td>0.107879</td>\n",
       "      <td>55686400</td>\n",
       "      <td>0.147768</td>\n",
       "      <td>0.149777</td>\n",
       "      <td>48.781660</td>\n",
       "      <td>...</td>\n",
       "      <td>0.144074</td>\n",
       "      <td>0.138510</td>\n",
       "      <td>0.005564</td>\n",
       "      <td>122.277619</td>\n",
       "      <td>0</td>\n",
       "      <td>0.675676</td>\n",
       "      <td>-23.998205</td>\n",
       "      <td>-3.055644</td>\n",
       "      <td>26.178222</td>\n",
       "      <td>32.0</td>\n",
       "    </tr>\n",
       "    <tr>\n",
       "      <th>17</th>\n",
       "      <td>1/8/1981</td>\n",
       "      <td>0.135603</td>\n",
       "      <td>0.135603</td>\n",
       "      <td>0.135045</td>\n",
       "      <td>0.135045</td>\n",
       "      <td>0.105695</td>\n",
       "      <td>39827200</td>\n",
       "      <td>0.144308</td>\n",
       "      <td>0.149498</td>\n",
       "      <td>38.158453</td>\n",
       "      <td>...</td>\n",
       "      <td>0.142685</td>\n",
       "      <td>0.138253</td>\n",
       "      <td>0.004432</td>\n",
       "      <td>116.908919</td>\n",
       "      <td>1</td>\n",
       "      <td>0.675676</td>\n",
       "      <td>-54.181713</td>\n",
       "      <td>-5.940912</td>\n",
       "      <td>19.002172</td>\n",
       "      <td>32.0</td>\n",
       "    </tr>\n",
       "    <tr>\n",
       "      <th>18</th>\n",
       "      <td>1/9/1981</td>\n",
       "      <td>0.142299</td>\n",
       "      <td>0.142857</td>\n",
       "      <td>0.142299</td>\n",
       "      <td>0.142299</td>\n",
       "      <td>0.111372</td>\n",
       "      <td>21504000</td>\n",
       "      <td>0.141964</td>\n",
       "      <td>0.149219</td>\n",
       "      <td>46.031972</td>\n",
       "      <td>...</td>\n",
       "      <td>0.142626</td>\n",
       "      <td>0.138553</td>\n",
       "      <td>0.004073</td>\n",
       "      <td>119.717824</td>\n",
       "      <td>0</td>\n",
       "      <td>0.507614</td>\n",
       "      <td>-22.428997</td>\n",
       "      <td>-2.030802</td>\n",
       "      <td>15.894879</td>\n",
       "      <td>32.0</td>\n",
       "    </tr>\n",
       "    <tr>\n",
       "      <th>...</th>\n",
       "      <td>...</td>\n",
       "      <td>...</td>\n",
       "      <td>...</td>\n",
       "      <td>...</td>\n",
       "      <td>...</td>\n",
       "      <td>...</td>\n",
       "      <td>...</td>\n",
       "      <td>...</td>\n",
       "      <td>...</td>\n",
       "      <td>...</td>\n",
       "      <td>...</td>\n",
       "      <td>...</td>\n",
       "      <td>...</td>\n",
       "      <td>...</td>\n",
       "      <td>...</td>\n",
       "      <td>...</td>\n",
       "      <td>...</td>\n",
       "      <td>...</td>\n",
       "      <td>...</td>\n",
       "      <td>...</td>\n",
       "      <td>...</td>\n",
       "    </tr>\n",
       "    <tr>\n",
       "      <th>10320</th>\n",
       "      <td>11/17/2021</td>\n",
       "      <td>151.000000</td>\n",
       "      <td>155.000000</td>\n",
       "      <td>150.990005</td>\n",
       "      <td>153.490005</td>\n",
       "      <td>153.490005</td>\n",
       "      <td>88807000</td>\n",
       "      <td>150.470001</td>\n",
       "      <td>150.376001</td>\n",
       "      <td>82.421470</td>\n",
       "      <td>...</td>\n",
       "      <td>150.348567</td>\n",
       "      <td>149.181217</td>\n",
       "      <td>1.167349</td>\n",
       "      <td>100.603001</td>\n",
       "      <td>1</td>\n",
       "      <td>0.910010</td>\n",
       "      <td>182.581771</td>\n",
       "      <td>2.130675</td>\n",
       "      <td>14.297264</td>\n",
       "      <td>96.0</td>\n",
       "    </tr>\n",
       "    <tr>\n",
       "      <th>10321</th>\n",
       "      <td>11/18/2021</td>\n",
       "      <td>153.710007</td>\n",
       "      <td>158.669998</td>\n",
       "      <td>153.050003</td>\n",
       "      <td>157.869995</td>\n",
       "      <td>157.869995</td>\n",
       "      <td>137827700</td>\n",
       "      <td>152.470001</td>\n",
       "      <td>151.067000</td>\n",
       "      <td>92.850734</td>\n",
       "      <td>...</td>\n",
       "      <td>151.505710</td>\n",
       "      <td>149.824831</td>\n",
       "      <td>1.680879</td>\n",
       "      <td>105.387177</td>\n",
       "      <td>1</td>\n",
       "      <td>1.259446</td>\n",
       "      <td>285.794377</td>\n",
       "      <td>4.643715</td>\n",
       "      <td>15.458962</td>\n",
       "      <td>96.0</td>\n",
       "    </tr>\n",
       "    <tr>\n",
       "      <th>10322</th>\n",
       "      <td>11/19/2021</td>\n",
       "      <td>157.649994</td>\n",
       "      <td>161.020004</td>\n",
       "      <td>156.529999</td>\n",
       "      <td>160.550003</td>\n",
       "      <td>160.550003</td>\n",
       "      <td>117147500</td>\n",
       "      <td>154.582001</td>\n",
       "      <td>151.994000</td>\n",
       "      <td>96.528798</td>\n",
       "      <td>...</td>\n",
       "      <td>152.897139</td>\n",
       "      <td>150.619288</td>\n",
       "      <td>2.277852</td>\n",
       "      <td>107.780609</td>\n",
       "      <td>1</td>\n",
       "      <td>1.259446</td>\n",
       "      <td>252.968849</td>\n",
       "      <td>5.839366</td>\n",
       "      <td>17.452579</td>\n",
       "      <td>96.0</td>\n",
       "    </tr>\n",
       "    <tr>\n",
       "      <th>10323</th>\n",
       "      <td>11/22/2021</td>\n",
       "      <td>161.679993</td>\n",
       "      <td>165.699997</td>\n",
       "      <td>161.000000</td>\n",
       "      <td>161.020004</td>\n",
       "      <td>161.020004</td>\n",
       "      <td>117467900</td>\n",
       "      <td>156.786001</td>\n",
       "      <td>153.052000</td>\n",
       "      <td>74.313981</td>\n",
       "      <td>...</td>\n",
       "      <td>154.146811</td>\n",
       "      <td>151.389711</td>\n",
       "      <td>2.757100</td>\n",
       "      <td>107.332355</td>\n",
       "      <td>1</td>\n",
       "      <td>1.259446</td>\n",
       "      <td>216.062687</td>\n",
       "      <td>5.602220</td>\n",
       "      <td>19.791095</td>\n",
       "      <td>28.0</td>\n",
       "    </tr>\n",
       "    <tr>\n",
       "      <th>10324</th>\n",
       "      <td>11/23/2021</td>\n",
       "      <td>161.119995</td>\n",
       "      <td>161.800003</td>\n",
       "      <td>159.059998</td>\n",
       "      <td>161.410004</td>\n",
       "      <td>161.410004</td>\n",
       "      <td>95933900</td>\n",
       "      <td>158.868002</td>\n",
       "      <td>154.112001</td>\n",
       "      <td>76.454485</td>\n",
       "      <td>...</td>\n",
       "      <td>155.264225</td>\n",
       "      <td>152.131955</td>\n",
       "      <td>3.132270</td>\n",
       "      <td>106.548286</td>\n",
       "      <td>1</td>\n",
       "      <td>1.836394</td>\n",
       "      <td>133.051798</td>\n",
       "      <td>5.368344</td>\n",
       "      <td>22.560291</td>\n",
       "      <td>32.0</td>\n",
       "    </tr>\n",
       "  </tbody>\n",
       "</table>\n",
       "<p>10309 rows × 26 columns</p>\n",
       "</div>"
      ],
      "text/plain": [
       "             Date        Open        High         Low       Close   Adj Close  \\\n",
       "14       1/5/1981    0.151228    0.151228    0.150670    0.150670    0.117924   \n",
       "15       1/6/1981    0.144531    0.144531    0.143973    0.143973    0.112683   \n",
       "16       1/7/1981    0.138393    0.138393    0.137835    0.137835    0.107879   \n",
       "17       1/8/1981    0.135603    0.135603    0.135045    0.135045    0.105695   \n",
       "18       1/9/1981    0.142299    0.142857    0.142299    0.142299    0.111372   \n",
       "...           ...         ...         ...         ...         ...         ...   \n",
       "10320  11/17/2021  151.000000  155.000000  150.990005  153.490005  153.490005   \n",
       "10321  11/18/2021  153.710007  158.669998  153.050003  157.869995  157.869995   \n",
       "10322  11/19/2021  157.649994  161.020004  156.529999  160.550003  160.550003   \n",
       "10323  11/22/2021  161.679993  165.699997  161.000000  161.020004  161.020004   \n",
       "10324  11/23/2021  161.119995  161.800003  159.059998  161.410004  161.410004   \n",
       "\n",
       "          Volume        SMA5       SMA10  StochasticK  ...       EMA12  \\\n",
       "14      35728000    0.154911    0.147433    78.162269  ...    0.145433   \n",
       "15      45158400    0.151563    0.149219    64.367958  ...    0.145208   \n",
       "16      55686400    0.147768    0.149777    48.781660  ...    0.144074   \n",
       "17      39827200    0.144308    0.149498    38.158453  ...    0.142685   \n",
       "18      21504000    0.141964    0.149219    46.031972  ...    0.142626   \n",
       "...          ...         ...         ...          ...  ...         ...   \n",
       "10320   88807000  150.470001  150.376001    82.421470  ...  150.348567   \n",
       "10321  137827700  152.470001  151.067000    92.850734  ...  151.505710   \n",
       "10322  117147500  154.582001  151.994000    96.528798  ...  152.897139   \n",
       "10323  117467900  156.786001  153.052000    74.313981  ...  154.146811   \n",
       "10324   95933900  158.868002  154.112001    76.454485  ...  155.264225   \n",
       "\n",
       "            EMA26      MACD    Momentum  Direction       RSI         CCI  \\\n",
       "14       0.138131  0.007302  117.391779          0  0.910010   51.905087   \n",
       "15       0.138564  0.006645  118.348239          0  0.910010   16.831178   \n",
       "16       0.138510  0.005564  122.277619          0  0.675676  -23.998205   \n",
       "17       0.138253  0.004432  116.908919          1  0.675676  -54.181713   \n",
       "18       0.138553  0.004073  119.717824          0  0.507614  -22.428997   \n",
       "...           ...       ...         ...        ...       ...         ...   \n",
       "10320  149.181217  1.167349  100.603001          1  0.910010  182.581771   \n",
       "10321  149.824831  1.680879  105.387177          1  1.259446  285.794377   \n",
       "10322  150.619288  2.277852  107.780609          1  1.259446  252.968849   \n",
       "10323  151.389711  2.757100  107.332355          1  1.259446  216.062687   \n",
       "10324  152.131955  3.132270  106.548286          1  1.836394  133.051798   \n",
       "\n",
       "             DI        ADX  Aroon  \n",
       "14     8.558577  39.422947   32.0  \n",
       "15     2.555255  34.025492   32.0  \n",
       "16    -3.055644  26.178222   32.0  \n",
       "17    -5.940912  19.002172   32.0  \n",
       "18    -2.030802  15.894879   32.0  \n",
       "...         ...        ...    ...  \n",
       "10320  2.130675  14.297264   96.0  \n",
       "10321  4.643715  15.458962   96.0  \n",
       "10322  5.839366  17.452579   96.0  \n",
       "10323  5.602220  19.791095   28.0  \n",
       "10324  5.368344  22.560291   32.0  \n",
       "\n",
       "[10309 rows x 26 columns]"
      ]
     },
     "execution_count": 35,
     "metadata": {},
     "output_type": "execute_result"
    }
   ],
   "source": [
    "complete_data"
   ]
  },
  {
   "cell_type": "code",
   "execution_count": 36,
   "metadata": {},
   "outputs": [],
   "source": [
    "#corrMatrix = complete_data.corr()\n",
    "#print(corrMatrix)"
   ]
  },
  {
   "cell_type": "code",
   "execution_count": 37,
   "metadata": {},
   "outputs": [],
   "source": [
    "#sn.heatmap(corrMatrix, annot=False)\n",
    "#plt.show()"
   ]
  },
  {
   "cell_type": "code",
   "execution_count": 38,
   "metadata": {},
   "outputs": [],
   "source": [
    "#corr_pairs = corrMatrix.unstack()\n",
    "#corr_pairs"
   ]
  },
  {
   "cell_type": "code",
   "execution_count": 39,
   "metadata": {},
   "outputs": [],
   "source": [
    "#sorted_pairs = corr_pairs.sort_values(kind=\"quicksort\")\n",
    "#sorted_pairs"
   ]
  },
  {
   "cell_type": "code",
   "execution_count": 40,
   "metadata": {},
   "outputs": [],
   "source": [
    "#strong_pairs = sorted_pairs[abs(sorted_pairs) > 0.5]\n",
    "\n",
    "#print(strong_pairs)"
   ]
  },
  {
   "cell_type": "code",
   "execution_count": 41,
   "metadata": {},
   "outputs": [],
   "source": [
    "## strong_pairs[strong_pairs.index[0][0] == strong_pairs.index[0][1]]\n",
    "\n",
    "#removed_diagonal = [(i, j) for (i, j) in strong_pairs.index if i!=j]\n",
    "#len(removed_diagonal)"
   ]
  },
  {
   "cell_type": "code",
   "execution_count": 42,
   "metadata": {
    "scrolled": false
   },
   "outputs": [],
   "source": [
    "## # Create correlation matrix\n",
    "## corr_matrix = complete_data.corr().abs()\n",
    "\n",
    "## # Select upper triangle of correlation matrix\n",
    "## upper = corr_matrix.where(np.triu(np.ones(corr_matrix.shape), k=1).astype(np.bool8))\n",
    "\n",
    "## # Find index of feature columns with correlation greater than 0.95\n",
    "## to_drop = [column for column in upper.columns if any(upper[column] > 0.95)]\n",
    "## to_drop"
   ]
  },
  {
   "cell_type": "code",
   "execution_count": 43,
   "metadata": {},
   "outputs": [],
   "source": [
    "## Find index of feature columns with correlation greater than 0.8\n",
    "\n",
    "#correlated_features = set()\n",
    "#for i in range(len(corrMatrix.columns)):\n",
    " #   for j in range(i):\n",
    "  #      if abs(corrMatrix.iloc[i, j]) > 0.8:\n",
    "   #         colname = corrMatrix.columns[i]\n",
    "    #        correlated_features.add(colname)"
   ]
  },
  {
   "cell_type": "code",
   "execution_count": 44,
   "metadata": {},
   "outputs": [],
   "source": [
    "#correlated_features"
   ]
  },
  {
   "cell_type": "code",
   "execution_count": 45,
   "metadata": {},
   "outputs": [],
   "source": [
    "#complete_data = complete_data.drop(labels=correlated_features, axis=1)"
   ]
  },
  {
   "cell_type": "code",
   "execution_count": 46,
   "metadata": {},
   "outputs": [],
   "source": [
    "#complete_data"
   ]
  },
  {
   "cell_type": "code",
   "execution_count": 47,
   "metadata": {
    "scrolled": false
   },
   "outputs": [
    {
     "data": {
      "text/html": [
       "<div>\n",
       "<style scoped>\n",
       "    .dataframe tbody tr th:only-of-type {\n",
       "        vertical-align: middle;\n",
       "    }\n",
       "\n",
       "    .dataframe tbody tr th {\n",
       "        vertical-align: top;\n",
       "    }\n",
       "\n",
       "    .dataframe thead th {\n",
       "        text-align: right;\n",
       "    }\n",
       "</style>\n",
       "<table border=\"1\" class=\"dataframe\">\n",
       "  <thead>\n",
       "    <tr style=\"text-align: right;\">\n",
       "      <th></th>\n",
       "      <th>Open</th>\n",
       "      <th>High</th>\n",
       "      <th>Low</th>\n",
       "      <th>Close</th>\n",
       "      <th>Adj Close</th>\n",
       "      <th>Volume</th>\n",
       "      <th>SMA5</th>\n",
       "      <th>SMA10</th>\n",
       "      <th>StochasticK</th>\n",
       "      <th>StochasticD</th>\n",
       "      <th>...</th>\n",
       "      <th>WMA10</th>\n",
       "      <th>EMA12</th>\n",
       "      <th>EMA26</th>\n",
       "      <th>MACD</th>\n",
       "      <th>Momentum</th>\n",
       "      <th>RSI</th>\n",
       "      <th>CCI</th>\n",
       "      <th>DI</th>\n",
       "      <th>ADX</th>\n",
       "      <th>Aroon</th>\n",
       "    </tr>\n",
       "  </thead>\n",
       "  <tbody>\n",
       "    <tr>\n",
       "      <th>14</th>\n",
       "      <td>0.151228</td>\n",
       "      <td>0.151228</td>\n",
       "      <td>0.150670</td>\n",
       "      <td>0.150670</td>\n",
       "      <td>0.117924</td>\n",
       "      <td>35728000</td>\n",
       "      <td>0.154911</td>\n",
       "      <td>0.147433</td>\n",
       "      <td>78.162269</td>\n",
       "      <td>81.610332</td>\n",
       "      <td>...</td>\n",
       "      <td>0.151826</td>\n",
       "      <td>0.145433</td>\n",
       "      <td>0.138131</td>\n",
       "      <td>0.007302</td>\n",
       "      <td>117.391779</td>\n",
       "      <td>0.910010</td>\n",
       "      <td>51.905087</td>\n",
       "      <td>8.558577</td>\n",
       "      <td>39.422947</td>\n",
       "      <td>32.0</td>\n",
       "    </tr>\n",
       "    <tr>\n",
       "      <th>15</th>\n",
       "      <td>0.144531</td>\n",
       "      <td>0.144531</td>\n",
       "      <td>0.143973</td>\n",
       "      <td>0.143973</td>\n",
       "      <td>0.112683</td>\n",
       "      <td>45158400</td>\n",
       "      <td>0.151563</td>\n",
       "      <td>0.149219</td>\n",
       "      <td>64.367958</td>\n",
       "      <td>75.862874</td>\n",
       "      <td>...</td>\n",
       "      <td>0.151197</td>\n",
       "      <td>0.145208</td>\n",
       "      <td>0.138564</td>\n",
       "      <td>0.006645</td>\n",
       "      <td>118.348239</td>\n",
       "      <td>0.910010</td>\n",
       "      <td>16.831178</td>\n",
       "      <td>2.555255</td>\n",
       "      <td>34.025492</td>\n",
       "      <td>32.0</td>\n",
       "    </tr>\n",
       "    <tr>\n",
       "      <th>16</th>\n",
       "      <td>0.138393</td>\n",
       "      <td>0.138393</td>\n",
       "      <td>0.137835</td>\n",
       "      <td>0.137835</td>\n",
       "      <td>0.107879</td>\n",
       "      <td>55686400</td>\n",
       "      <td>0.147768</td>\n",
       "      <td>0.149777</td>\n",
       "      <td>48.781660</td>\n",
       "      <td>63.770629</td>\n",
       "      <td>...</td>\n",
       "      <td>0.149127</td>\n",
       "      <td>0.144074</td>\n",
       "      <td>0.138510</td>\n",
       "      <td>0.005564</td>\n",
       "      <td>122.277619</td>\n",
       "      <td>0.675676</td>\n",
       "      <td>-23.998205</td>\n",
       "      <td>-3.055644</td>\n",
       "      <td>26.178222</td>\n",
       "      <td>32.0</td>\n",
       "    </tr>\n",
       "    <tr>\n",
       "      <th>17</th>\n",
       "      <td>0.135603</td>\n",
       "      <td>0.135603</td>\n",
       "      <td>0.135045</td>\n",
       "      <td>0.135045</td>\n",
       "      <td>0.105695</td>\n",
       "      <td>39827200</td>\n",
       "      <td>0.144308</td>\n",
       "      <td>0.149498</td>\n",
       "      <td>38.158453</td>\n",
       "      <td>50.436024</td>\n",
       "      <td>...</td>\n",
       "      <td>0.146449</td>\n",
       "      <td>0.142685</td>\n",
       "      <td>0.138253</td>\n",
       "      <td>0.004432</td>\n",
       "      <td>116.908919</td>\n",
       "      <td>0.675676</td>\n",
       "      <td>-54.181713</td>\n",
       "      <td>-5.940912</td>\n",
       "      <td>19.002172</td>\n",
       "      <td>32.0</td>\n",
       "    </tr>\n",
       "    <tr>\n",
       "      <th>18</th>\n",
       "      <td>0.142299</td>\n",
       "      <td>0.142857</td>\n",
       "      <td>0.142299</td>\n",
       "      <td>0.142299</td>\n",
       "      <td>0.111372</td>\n",
       "      <td>21504000</td>\n",
       "      <td>0.141964</td>\n",
       "      <td>0.149219</td>\n",
       "      <td>46.031972</td>\n",
       "      <td>44.324028</td>\n",
       "      <td>...</td>\n",
       "      <td>0.145140</td>\n",
       "      <td>0.142626</td>\n",
       "      <td>0.138553</td>\n",
       "      <td>0.004073</td>\n",
       "      <td>119.717824</td>\n",
       "      <td>0.507614</td>\n",
       "      <td>-22.428997</td>\n",
       "      <td>-2.030802</td>\n",
       "      <td>15.894879</td>\n",
       "      <td>32.0</td>\n",
       "    </tr>\n",
       "    <tr>\n",
       "      <th>...</th>\n",
       "      <td>...</td>\n",
       "      <td>...</td>\n",
       "      <td>...</td>\n",
       "      <td>...</td>\n",
       "      <td>...</td>\n",
       "      <td>...</td>\n",
       "      <td>...</td>\n",
       "      <td>...</td>\n",
       "      <td>...</td>\n",
       "      <td>...</td>\n",
       "      <td>...</td>\n",
       "      <td>...</td>\n",
       "      <td>...</td>\n",
       "      <td>...</td>\n",
       "      <td>...</td>\n",
       "      <td>...</td>\n",
       "      <td>...</td>\n",
       "      <td>...</td>\n",
       "      <td>...</td>\n",
       "      <td>...</td>\n",
       "      <td>...</td>\n",
       "    </tr>\n",
       "    <tr>\n",
       "      <th>10320</th>\n",
       "      <td>151.000000</td>\n",
       "      <td>155.000000</td>\n",
       "      <td>150.990005</td>\n",
       "      <td>153.490005</td>\n",
       "      <td>153.490005</td>\n",
       "      <td>88807000</td>\n",
       "      <td>150.470001</td>\n",
       "      <td>150.376001</td>\n",
       "      <td>82.421470</td>\n",
       "      <td>67.809125</td>\n",
       "      <td>...</td>\n",
       "      <td>150.522365</td>\n",
       "      <td>150.348567</td>\n",
       "      <td>149.181217</td>\n",
       "      <td>1.167349</td>\n",
       "      <td>100.603001</td>\n",
       "      <td>0.910010</td>\n",
       "      <td>182.581771</td>\n",
       "      <td>2.130675</td>\n",
       "      <td>14.297264</td>\n",
       "      <td>96.0</td>\n",
       "    </tr>\n",
       "    <tr>\n",
       "      <th>10321</th>\n",
       "      <td>153.710007</td>\n",
       "      <td>158.669998</td>\n",
       "      <td>153.050003</td>\n",
       "      <td>157.869995</td>\n",
       "      <td>157.869995</td>\n",
       "      <td>137827700</td>\n",
       "      <td>152.470001</td>\n",
       "      <td>151.067000</td>\n",
       "      <td>92.850734</td>\n",
       "      <td>81.057205</td>\n",
       "      <td>...</td>\n",
       "      <td>151.884909</td>\n",
       "      <td>151.505710</td>\n",
       "      <td>149.824831</td>\n",
       "      <td>1.680879</td>\n",
       "      <td>105.387177</td>\n",
       "      <td>1.259446</td>\n",
       "      <td>285.794377</td>\n",
       "      <td>4.643715</td>\n",
       "      <td>15.458962</td>\n",
       "      <td>96.0</td>\n",
       "    </tr>\n",
       "    <tr>\n",
       "      <th>10322</th>\n",
       "      <td>157.649994</td>\n",
       "      <td>161.020004</td>\n",
       "      <td>156.529999</td>\n",
       "      <td>160.550003</td>\n",
       "      <td>160.550003</td>\n",
       "      <td>117147500</td>\n",
       "      <td>154.582001</td>\n",
       "      <td>151.994000</td>\n",
       "      <td>96.528798</td>\n",
       "      <td>90.600334</td>\n",
       "      <td>...</td>\n",
       "      <td>153.609091</td>\n",
       "      <td>152.897139</td>\n",
       "      <td>150.619288</td>\n",
       "      <td>2.277852</td>\n",
       "      <td>107.780609</td>\n",
       "      <td>1.259446</td>\n",
       "      <td>252.968849</td>\n",
       "      <td>5.839366</td>\n",
       "      <td>17.452579</td>\n",
       "      <td>96.0</td>\n",
       "    </tr>\n",
       "    <tr>\n",
       "      <th>10323</th>\n",
       "      <td>161.679993</td>\n",
       "      <td>165.699997</td>\n",
       "      <td>161.000000</td>\n",
       "      <td>161.020004</td>\n",
       "      <td>161.020004</td>\n",
       "      <td>117467900</td>\n",
       "      <td>156.786001</td>\n",
       "      <td>153.052000</td>\n",
       "      <td>74.313981</td>\n",
       "      <td>87.897838</td>\n",
       "      <td>...</td>\n",
       "      <td>155.250183</td>\n",
       "      <td>154.146811</td>\n",
       "      <td>151.389711</td>\n",
       "      <td>2.757100</td>\n",
       "      <td>107.332355</td>\n",
       "      <td>1.259446</td>\n",
       "      <td>216.062687</td>\n",
       "      <td>5.602220</td>\n",
       "      <td>19.791095</td>\n",
       "      <td>28.0</td>\n",
       "    </tr>\n",
       "    <tr>\n",
       "      <th>10324</th>\n",
       "      <td>161.119995</td>\n",
       "      <td>161.800003</td>\n",
       "      <td>159.059998</td>\n",
       "      <td>161.410004</td>\n",
       "      <td>161.410004</td>\n",
       "      <td>95933900</td>\n",
       "      <td>158.868002</td>\n",
       "      <td>154.112001</td>\n",
       "      <td>76.454485</td>\n",
       "      <td>82.432421</td>\n",
       "      <td>...</td>\n",
       "      <td>156.769820</td>\n",
       "      <td>155.264225</td>\n",
       "      <td>152.131955</td>\n",
       "      <td>3.132270</td>\n",
       "      <td>106.548286</td>\n",
       "      <td>1.836394</td>\n",
       "      <td>133.051798</td>\n",
       "      <td>5.368344</td>\n",
       "      <td>22.560291</td>\n",
       "      <td>32.0</td>\n",
       "    </tr>\n",
       "  </tbody>\n",
       "</table>\n",
       "<p>10309 rows × 24 columns</p>\n",
       "</div>"
      ],
      "text/plain": [
       "             Open        High         Low       Close   Adj Close     Volume  \\\n",
       "14       0.151228    0.151228    0.150670    0.150670    0.117924   35728000   \n",
       "15       0.144531    0.144531    0.143973    0.143973    0.112683   45158400   \n",
       "16       0.138393    0.138393    0.137835    0.137835    0.107879   55686400   \n",
       "17       0.135603    0.135603    0.135045    0.135045    0.105695   39827200   \n",
       "18       0.142299    0.142857    0.142299    0.142299    0.111372   21504000   \n",
       "...           ...         ...         ...         ...         ...        ...   \n",
       "10320  151.000000  155.000000  150.990005  153.490005  153.490005   88807000   \n",
       "10321  153.710007  158.669998  153.050003  157.869995  157.869995  137827700   \n",
       "10322  157.649994  161.020004  156.529999  160.550003  160.550003  117147500   \n",
       "10323  161.679993  165.699997  161.000000  161.020004  161.020004  117467900   \n",
       "10324  161.119995  161.800003  159.059998  161.410004  161.410004   95933900   \n",
       "\n",
       "             SMA5       SMA10  StochasticK  StochasticD  ...       WMA10  \\\n",
       "14       0.154911    0.147433    78.162269    81.610332  ...    0.151826   \n",
       "15       0.151563    0.149219    64.367958    75.862874  ...    0.151197   \n",
       "16       0.147768    0.149777    48.781660    63.770629  ...    0.149127   \n",
       "17       0.144308    0.149498    38.158453    50.436024  ...    0.146449   \n",
       "18       0.141964    0.149219    46.031972    44.324028  ...    0.145140   \n",
       "...           ...         ...          ...          ...  ...         ...   \n",
       "10320  150.470001  150.376001    82.421470    67.809125  ...  150.522365   \n",
       "10321  152.470001  151.067000    92.850734    81.057205  ...  151.884909   \n",
       "10322  154.582001  151.994000    96.528798    90.600334  ...  153.609091   \n",
       "10323  156.786001  153.052000    74.313981    87.897838  ...  155.250183   \n",
       "10324  158.868002  154.112001    76.454485    82.432421  ...  156.769820   \n",
       "\n",
       "            EMA12       EMA26      MACD    Momentum       RSI         CCI  \\\n",
       "14       0.145433    0.138131  0.007302  117.391779  0.910010   51.905087   \n",
       "15       0.145208    0.138564  0.006645  118.348239  0.910010   16.831178   \n",
       "16       0.144074    0.138510  0.005564  122.277619  0.675676  -23.998205   \n",
       "17       0.142685    0.138253  0.004432  116.908919  0.675676  -54.181713   \n",
       "18       0.142626    0.138553  0.004073  119.717824  0.507614  -22.428997   \n",
       "...           ...         ...       ...         ...       ...         ...   \n",
       "10320  150.348567  149.181217  1.167349  100.603001  0.910010  182.581771   \n",
       "10321  151.505710  149.824831  1.680879  105.387177  1.259446  285.794377   \n",
       "10322  152.897139  150.619288  2.277852  107.780609  1.259446  252.968849   \n",
       "10323  154.146811  151.389711  2.757100  107.332355  1.259446  216.062687   \n",
       "10324  155.264225  152.131955  3.132270  106.548286  1.836394  133.051798   \n",
       "\n",
       "             DI        ADX  Aroon  \n",
       "14     8.558577  39.422947   32.0  \n",
       "15     2.555255  34.025492   32.0  \n",
       "16    -3.055644  26.178222   32.0  \n",
       "17    -5.940912  19.002172   32.0  \n",
       "18    -2.030802  15.894879   32.0  \n",
       "...         ...        ...    ...  \n",
       "10320  2.130675  14.297264   96.0  \n",
       "10321  4.643715  15.458962   96.0  \n",
       "10322  5.839366  17.452579   96.0  \n",
       "10323  5.602220  19.791095   28.0  \n",
       "10324  5.368344  22.560291   32.0  \n",
       "\n",
       "[10309 rows x 24 columns]"
      ]
     },
     "execution_count": 47,
     "metadata": {},
     "output_type": "execute_result"
    }
   ],
   "source": [
    "target = complete_data['Direction']\n",
    "complete_data = complete_data.drop(['Date', 'Direction'], axis=1)\n",
    "complete_data"
   ]
  },
  {
   "cell_type": "markdown",
   "metadata": {},
   "source": [
    "### autofeat Classification"
   ]
  },
  {
   "cell_type": "code",
   "execution_count": 48,
   "metadata": {},
   "outputs": [],
   "source": [
    "from sklearn.model_selection import train_test_split"
   ]
  },
  {
   "cell_type": "code",
   "execution_count": 49,
   "metadata": {},
   "outputs": [
    {
     "ename": "ValueError",
     "evalue": "Input contains NaN, infinity or a value too large for dtype('float64').",
     "output_type": "error",
     "traceback": [
      "\u001b[1;31m---------------------------------------------------------------------------\u001b[0m",
      "\u001b[1;31mValueError\u001b[0m                                Traceback (most recent call last)",
      "\u001b[1;32m<ipython-input-49-a6368ca90d67>\u001b[0m in \u001b[0;36m<module>\u001b[1;34m\u001b[0m\n\u001b[0;32m      2\u001b[0m \u001b[0mX_train\u001b[0m\u001b[1;33m,\u001b[0m \u001b[0mX_test\u001b[0m\u001b[1;33m,\u001b[0m \u001b[0my_train\u001b[0m\u001b[1;33m,\u001b[0m \u001b[0my_test\u001b[0m \u001b[1;33m=\u001b[0m \u001b[0mtrain_test_split\u001b[0m\u001b[1;33m(\u001b[0m\u001b[0mcomplete_data\u001b[0m\u001b[1;33m,\u001b[0m\u001b[0mtarget\u001b[0m\u001b[1;33m,\u001b[0m\u001b[0mtest_size\u001b[0m\u001b[1;33m=\u001b[0m\u001b[1;36m0.3\u001b[0m\u001b[1;33m)\u001b[0m\u001b[1;33m\u001b[0m\u001b[1;33m\u001b[0m\u001b[0m\n\u001b[0;32m      3\u001b[0m \u001b[0mmodel\u001b[0m \u001b[1;33m=\u001b[0m \u001b[0mAutoFeatClassifier\u001b[0m\u001b[1;33m(\u001b[0m\u001b[1;33m)\u001b[0m\u001b[1;33m\u001b[0m\u001b[1;33m\u001b[0m\u001b[0m\n\u001b[1;32m----> 4\u001b[1;33m \u001b[0mdf\u001b[0m \u001b[1;33m=\u001b[0m \u001b[0mmodel\u001b[0m\u001b[1;33m.\u001b[0m\u001b[0mfit_transform\u001b[0m\u001b[1;33m(\u001b[0m\u001b[0mX_train\u001b[0m\u001b[1;33m,\u001b[0m \u001b[0my_train\u001b[0m\u001b[1;33m)\u001b[0m\u001b[1;33m\u001b[0m\u001b[1;33m\u001b[0m\u001b[0m\n\u001b[0m\u001b[0;32m      5\u001b[0m \u001b[0my_pred\u001b[0m \u001b[1;33m=\u001b[0m \u001b[0mmodel\u001b[0m\u001b[1;33m.\u001b[0m\u001b[0mpredict\u001b[0m\u001b[1;33m(\u001b[0m\u001b[0mX_test\u001b[0m\u001b[1;33m)\u001b[0m\u001b[1;33m\u001b[0m\u001b[1;33m\u001b[0m\u001b[0m\n",
      "\u001b[1;32m~\\anaconda3\\lib\\site-packages\\autofeat\\autofeat.py\u001b[0m in \u001b[0;36mfit_transform\u001b[1;34m(self, X, y)\u001b[0m\n\u001b[0;32m    260\u001b[0m         \u001b[0mcols\u001b[0m \u001b[1;33m=\u001b[0m \u001b[1;33m[\u001b[0m\u001b[0mstr\u001b[0m\u001b[1;33m(\u001b[0m\u001b[0mc\u001b[0m\u001b[1;33m)\u001b[0m \u001b[1;32mfor\u001b[0m \u001b[0mc\u001b[0m \u001b[1;32min\u001b[0m \u001b[0mX\u001b[0m\u001b[1;33m.\u001b[0m\u001b[0mcolumns\u001b[0m\u001b[1;33m]\u001b[0m \u001b[1;32mif\u001b[0m \u001b[0misinstance\u001b[0m\u001b[1;33m(\u001b[0m\u001b[0mX\u001b[0m\u001b[1;33m,\u001b[0m \u001b[0mpd\u001b[0m\u001b[1;33m.\u001b[0m\u001b[0mDataFrame\u001b[0m\u001b[1;33m)\u001b[0m \u001b[1;32melse\u001b[0m \u001b[1;33m[\u001b[0m\u001b[1;33m]\u001b[0m\u001b[1;33m\u001b[0m\u001b[1;33m\u001b[0m\u001b[0m\n\u001b[0;32m    261\u001b[0m         \u001b[1;31m# check input variables\u001b[0m\u001b[1;33m\u001b[0m\u001b[1;33m\u001b[0m\u001b[1;33m\u001b[0m\u001b[0m\n\u001b[1;32m--> 262\u001b[1;33m         \u001b[0mX\u001b[0m\u001b[1;33m,\u001b[0m \u001b[0mtarget\u001b[0m \u001b[1;33m=\u001b[0m \u001b[0mcheck_X_y\u001b[0m\u001b[1;33m(\u001b[0m\u001b[0mX\u001b[0m\u001b[1;33m,\u001b[0m \u001b[0my\u001b[0m\u001b[1;33m,\u001b[0m \u001b[0my_numeric\u001b[0m\u001b[1;33m=\u001b[0m\u001b[0mself\u001b[0m\u001b[1;33m.\u001b[0m\u001b[0mproblem_type\u001b[0m \u001b[1;33m==\u001b[0m \u001b[1;34m\"regression\"\u001b[0m\u001b[1;33m,\u001b[0m \u001b[0mdtype\u001b[0m\u001b[1;33m=\u001b[0m\u001b[1;32mNone\u001b[0m\u001b[1;33m)\u001b[0m\u001b[1;33m\u001b[0m\u001b[1;33m\u001b[0m\u001b[0m\n\u001b[0m\u001b[0;32m    263\u001b[0m         \u001b[1;32mif\u001b[0m \u001b[1;32mnot\u001b[0m \u001b[0mcols\u001b[0m\u001b[1;33m:\u001b[0m\u001b[1;33m\u001b[0m\u001b[1;33m\u001b[0m\u001b[0m\n\u001b[0;32m    264\u001b[0m             \u001b[1;31m# the additional zeros in the name are because of the variable check in _generate_features,\u001b[0m\u001b[1;33m\u001b[0m\u001b[1;33m\u001b[0m\u001b[1;33m\u001b[0m\u001b[0m\n",
      "\u001b[1;32m~\\anaconda3\\lib\\site-packages\\sklearn\\utils\\validation.py\u001b[0m in \u001b[0;36minner_f\u001b[1;34m(*args, **kwargs)\u001b[0m\n\u001b[0;32m     70\u001b[0m                           FutureWarning)\n\u001b[0;32m     71\u001b[0m         \u001b[0mkwargs\u001b[0m\u001b[1;33m.\u001b[0m\u001b[0mupdate\u001b[0m\u001b[1;33m(\u001b[0m\u001b[1;33m{\u001b[0m\u001b[0mk\u001b[0m\u001b[1;33m:\u001b[0m \u001b[0marg\u001b[0m \u001b[1;32mfor\u001b[0m \u001b[0mk\u001b[0m\u001b[1;33m,\u001b[0m \u001b[0marg\u001b[0m \u001b[1;32min\u001b[0m \u001b[0mzip\u001b[0m\u001b[1;33m(\u001b[0m\u001b[0msig\u001b[0m\u001b[1;33m.\u001b[0m\u001b[0mparameters\u001b[0m\u001b[1;33m,\u001b[0m \u001b[0margs\u001b[0m\u001b[1;33m)\u001b[0m\u001b[1;33m}\u001b[0m\u001b[1;33m)\u001b[0m\u001b[1;33m\u001b[0m\u001b[1;33m\u001b[0m\u001b[0m\n\u001b[1;32m---> 72\u001b[1;33m         \u001b[1;32mreturn\u001b[0m \u001b[0mf\u001b[0m\u001b[1;33m(\u001b[0m\u001b[1;33m**\u001b[0m\u001b[0mkwargs\u001b[0m\u001b[1;33m)\u001b[0m\u001b[1;33m\u001b[0m\u001b[1;33m\u001b[0m\u001b[0m\n\u001b[0m\u001b[0;32m     73\u001b[0m     \u001b[1;32mreturn\u001b[0m \u001b[0minner_f\u001b[0m\u001b[1;33m\u001b[0m\u001b[1;33m\u001b[0m\u001b[0m\n\u001b[0;32m     74\u001b[0m \u001b[1;33m\u001b[0m\u001b[0m\n",
      "\u001b[1;32m~\\anaconda3\\lib\\site-packages\\sklearn\\utils\\validation.py\u001b[0m in \u001b[0;36mcheck_X_y\u001b[1;34m(X, y, accept_sparse, accept_large_sparse, dtype, order, copy, force_all_finite, ensure_2d, allow_nd, multi_output, ensure_min_samples, ensure_min_features, y_numeric, estimator)\u001b[0m\n\u001b[0;32m    793\u001b[0m         \u001b[1;32mraise\u001b[0m \u001b[0mValueError\u001b[0m\u001b[1;33m(\u001b[0m\u001b[1;34m\"y cannot be None\"\u001b[0m\u001b[1;33m)\u001b[0m\u001b[1;33m\u001b[0m\u001b[1;33m\u001b[0m\u001b[0m\n\u001b[0;32m    794\u001b[0m \u001b[1;33m\u001b[0m\u001b[0m\n\u001b[1;32m--> 795\u001b[1;33m     X = check_array(X, accept_sparse=accept_sparse,\n\u001b[0m\u001b[0;32m    796\u001b[0m                     \u001b[0maccept_large_sparse\u001b[0m\u001b[1;33m=\u001b[0m\u001b[0maccept_large_sparse\u001b[0m\u001b[1;33m,\u001b[0m\u001b[1;33m\u001b[0m\u001b[1;33m\u001b[0m\u001b[0m\n\u001b[0;32m    797\u001b[0m                     \u001b[0mdtype\u001b[0m\u001b[1;33m=\u001b[0m\u001b[0mdtype\u001b[0m\u001b[1;33m,\u001b[0m \u001b[0morder\u001b[0m\u001b[1;33m=\u001b[0m\u001b[0morder\u001b[0m\u001b[1;33m,\u001b[0m \u001b[0mcopy\u001b[0m\u001b[1;33m=\u001b[0m\u001b[0mcopy\u001b[0m\u001b[1;33m,\u001b[0m\u001b[1;33m\u001b[0m\u001b[1;33m\u001b[0m\u001b[0m\n",
      "\u001b[1;32m~\\anaconda3\\lib\\site-packages\\sklearn\\utils\\validation.py\u001b[0m in \u001b[0;36minner_f\u001b[1;34m(*args, **kwargs)\u001b[0m\n\u001b[0;32m     70\u001b[0m                           FutureWarning)\n\u001b[0;32m     71\u001b[0m         \u001b[0mkwargs\u001b[0m\u001b[1;33m.\u001b[0m\u001b[0mupdate\u001b[0m\u001b[1;33m(\u001b[0m\u001b[1;33m{\u001b[0m\u001b[0mk\u001b[0m\u001b[1;33m:\u001b[0m \u001b[0marg\u001b[0m \u001b[1;32mfor\u001b[0m \u001b[0mk\u001b[0m\u001b[1;33m,\u001b[0m \u001b[0marg\u001b[0m \u001b[1;32min\u001b[0m \u001b[0mzip\u001b[0m\u001b[1;33m(\u001b[0m\u001b[0msig\u001b[0m\u001b[1;33m.\u001b[0m\u001b[0mparameters\u001b[0m\u001b[1;33m,\u001b[0m \u001b[0margs\u001b[0m\u001b[1;33m)\u001b[0m\u001b[1;33m}\u001b[0m\u001b[1;33m)\u001b[0m\u001b[1;33m\u001b[0m\u001b[1;33m\u001b[0m\u001b[0m\n\u001b[1;32m---> 72\u001b[1;33m         \u001b[1;32mreturn\u001b[0m \u001b[0mf\u001b[0m\u001b[1;33m(\u001b[0m\u001b[1;33m**\u001b[0m\u001b[0mkwargs\u001b[0m\u001b[1;33m)\u001b[0m\u001b[1;33m\u001b[0m\u001b[1;33m\u001b[0m\u001b[0m\n\u001b[0m\u001b[0;32m     73\u001b[0m     \u001b[1;32mreturn\u001b[0m \u001b[0minner_f\u001b[0m\u001b[1;33m\u001b[0m\u001b[1;33m\u001b[0m\u001b[0m\n\u001b[0;32m     74\u001b[0m \u001b[1;33m\u001b[0m\u001b[0m\n",
      "\u001b[1;32m~\\anaconda3\\lib\\site-packages\\sklearn\\utils\\validation.py\u001b[0m in \u001b[0;36mcheck_array\u001b[1;34m(array, accept_sparse, accept_large_sparse, dtype, order, copy, force_all_finite, ensure_2d, allow_nd, ensure_min_samples, ensure_min_features, estimator)\u001b[0m\n\u001b[0;32m    642\u001b[0m \u001b[1;33m\u001b[0m\u001b[0m\n\u001b[0;32m    643\u001b[0m         \u001b[1;32mif\u001b[0m \u001b[0mforce_all_finite\u001b[0m\u001b[1;33m:\u001b[0m\u001b[1;33m\u001b[0m\u001b[1;33m\u001b[0m\u001b[0m\n\u001b[1;32m--> 644\u001b[1;33m             _assert_all_finite(array,\n\u001b[0m\u001b[0;32m    645\u001b[0m                                allow_nan=force_all_finite == 'allow-nan')\n\u001b[0;32m    646\u001b[0m \u001b[1;33m\u001b[0m\u001b[0m\n",
      "\u001b[1;32m~\\anaconda3\\lib\\site-packages\\sklearn\\utils\\validation.py\u001b[0m in \u001b[0;36m_assert_all_finite\u001b[1;34m(X, allow_nan, msg_dtype)\u001b[0m\n\u001b[0;32m     94\u001b[0m                 not allow_nan and not np.isfinite(X).all()):\n\u001b[0;32m     95\u001b[0m             \u001b[0mtype_err\u001b[0m \u001b[1;33m=\u001b[0m \u001b[1;34m'infinity'\u001b[0m \u001b[1;32mif\u001b[0m \u001b[0mallow_nan\u001b[0m \u001b[1;32melse\u001b[0m \u001b[1;34m'NaN, infinity'\u001b[0m\u001b[1;33m\u001b[0m\u001b[1;33m\u001b[0m\u001b[0m\n\u001b[1;32m---> 96\u001b[1;33m             raise ValueError(\n\u001b[0m\u001b[0;32m     97\u001b[0m                     \u001b[0mmsg_err\u001b[0m\u001b[1;33m.\u001b[0m\u001b[0mformat\u001b[0m\u001b[1;33m\u001b[0m\u001b[1;33m\u001b[0m\u001b[0m\n\u001b[0;32m     98\u001b[0m                     (type_err,\n",
      "\u001b[1;31mValueError\u001b[0m: Input contains NaN, infinity or a value too large for dtype('float64')."
     ]
    }
   ],
   "source": [
    "from autofeat import AutoFeatClassifier\n",
    "X_train, X_test, y_train, y_test = train_test_split(complete_data,target,test_size=0.3)\n",
    "model = AutoFeatClassifier()\n",
    "df = model.fit_transform(X_train, y_train)\n",
    "y_pred = model.predict(X_test)"
   ]
  },
  {
   "cell_type": "code",
   "execution_count": null,
   "metadata": {},
   "outputs": [],
   "source": [
    "df_test = model.transform(X_test)\n",
    "model.score(df_test,y_test)"
   ]
  },
  {
   "cell_type": "code",
   "execution_count": null,
   "metadata": {},
   "outputs": [],
   "source": [
    "df"
   ]
  },
  {
   "cell_type": "code",
   "execution_count": null,
   "metadata": {},
   "outputs": [],
   "source": [
    "df_test"
   ]
  },
  {
   "cell_type": "markdown",
   "metadata": {},
   "source": [
    "### Generate New Features Based on autofeat Results"
   ]
  },
  {
   "cell_type": "code",
   "execution_count": null,
   "metadata": {},
   "outputs": [],
   "source": [
    "import math"
   ]
  },
  {
   "cell_type": "code",
   "execution_count": null,
   "metadata": {},
   "outputs": [],
   "source": [
    "def sqrt_rsi_momentum(rsi, momentum):\n",
    "    return (np.sqrt(rsi)/momentum)"
   ]
  },
  {
   "cell_type": "code",
   "execution_count": null,
   "metadata": {},
   "outputs": [],
   "source": [
    "def sqrt_stochastic_d_rsi(stochastic_d, rsi):\n",
    "    return(np.sqrt(stochastic_d)/rsi)"
   ]
  },
  {
   "cell_type": "code",
   "execution_count": null,
   "metadata": {},
   "outputs": [],
   "source": [
    "def sqrt_lwr_rsi (larry_williams_r, rsi):\n",
    "    return (np.sqrt(larry_williams_r)*rsi)"
   ]
  },
  {
   "cell_type": "code",
   "execution_count": null,
   "metadata": {},
   "outputs": [],
   "source": [
    "def momentum_3_rsi(momentum, rsi):\n",
    "    return ((momentum**3)/rsi)"
   ]
  },
  {
   "cell_type": "code",
   "execution_count": null,
   "metadata": {},
   "outputs": [],
   "source": [
    "def ado_macd_2(ado, macd):\n",
    "    return (ado*(macd**2))"
   ]
  },
  {
   "cell_type": "code",
   "execution_count": null,
   "metadata": {},
   "outputs": [],
   "source": [
    "def adx_abs_roc(adx, roc):\n",
    "    return (adx*np.abs(roc))"
   ]
  },
  {
   "cell_type": "code",
   "execution_count": null,
   "metadata": {},
   "outputs": [],
   "source": [
    "def sqrt_stochastic_k_log_rsi (stochastic_k, rsi):\n",
    "    return ((np.sqrt(stochastic_k))*np.log(rsi))"
   ]
  },
  {
   "cell_type": "code",
   "execution_count": null,
   "metadata": {},
   "outputs": [],
   "source": [
    "def compute_adv_indicators(complete_data):\n",
    "    complete_data['SqrtRSI/Momentum'] = sqrt_rsi_momentum(complete_data['RSI'], complete_data['Momentum'])\n",
    "    complete_data['SqrtStochasticD/RSI'] = sqrt_stochastic_d_rsi(complete_data['StochasticD'], complete_data['RSI'])\n",
    "    complete_data['SqrtLarryWilliamsR*RSI'] = sqrt_lwr_rsi(complete_data['LarryWilliamsR'], complete_data['RSI'])\n",
    "    complete_data['Momentum**3/RSI'] = momentum_3_rsi(complete_data['Momentum'], complete_data['RSI'])\n",
    "    complete_data['ADO*MACD**2'] = ado_macd_2(complete_data['ADO'], complete_data['MACD'])\n",
    "    complete_data['ADX*AbsROC'] = adx_abs_roc(complete_data['ADX'], complete_data['ROC'])\n",
    "    complete_data['SqrtStochasticK*LogRSI'] = sqrt_stochastic_k_log_rsi(complete_data['StochasticK'], complete_data['RSI'])   \n",
    "    return complete_data"
   ]
  },
  {
   "cell_type": "code",
   "execution_count": null,
   "metadata": {},
   "outputs": [],
   "source": [
    "enhanced_data = compute_adv_indicators(complete_data)\n",
    "enhanced_data"
   ]
  },
  {
   "cell_type": "markdown",
   "metadata": {},
   "source": [
    "### autofeat Feature Selection"
   ]
  },
  {
   "cell_type": "code",
   "execution_count": null,
   "metadata": {},
   "outputs": [],
   "source": [
    "from autofeat import FeatureSelector\n",
    "fsel = FeatureSelector(verbose=1)\n",
    "selected_data = fsel.fit_transform(pd.DataFrame(enhanced_data), pd.DataFrame(target))"
   ]
  },
  {
   "cell_type": "code",
   "execution_count": null,
   "metadata": {},
   "outputs": [],
   "source": [
    "selected_data"
   ]
  },
  {
   "cell_type": "code",
   "execution_count": null,
   "metadata": {},
   "outputs": [],
   "source": [
    "from sklearn.preprocessing import StandardScaler"
   ]
  },
  {
   "cell_type": "code",
   "execution_count": null,
   "metadata": {},
   "outputs": [],
   "source": [
    "scaler = StandardScaler()  \n",
    "scaler.fit(selected_data)"
   ]
  },
  {
   "cell_type": "code",
   "execution_count": null,
   "metadata": {},
   "outputs": [],
   "source": [
    "\n",
    "selected_scaled_data = scaler.transform(selected_data)"
   ]
  },
  {
   "cell_type": "code",
   "execution_count": null,
   "metadata": {},
   "outputs": [],
   "source": [
    "from sklearn.model_selection import train_test_split\n",
    "\n",
    "X_train, X_test, y_train, y_test = train_test_split(selected_scaled_data,target,test_size=0.3)"
   ]
  },
  {
   "cell_type": "code",
   "execution_count": null,
   "metadata": {},
   "outputs": [],
   "source": [
    "X_train = scaler.transform(X_train)  \n",
    "X_test = scaler.transform(X_test) "
   ]
  },
  {
   "cell_type": "code",
   "execution_count": null,
   "metadata": {},
   "outputs": [],
   "source": [
    "selected_scaled_data_df = pd.DataFrame(selected_scaled_data)\n",
    "selected_scaled_data_1250 = selected_scaled_data_df.tail(1250)\n",
    "selected_scaled_data_250 = selected_scaled_data_df.tail(250)\n",
    "selected_scaled_data_125 = selected_scaled_data_df.tail(125)\n",
    "target_1250 = target.tail(1250)\n",
    "target_250 = target.tail(250)\n",
    "target_125 = target.tail(125)"
   ]
  },
  {
   "cell_type": "code",
   "execution_count": null,
   "metadata": {},
   "outputs": [],
   "source": [
    "X_train_1250, X_test_1250, y_train_1250, y_test_1250 = train_test_split(selected_scaled_data_1250,target_1250,test_size=0.3)"
   ]
  },
  {
   "cell_type": "code",
   "execution_count": null,
   "metadata": {},
   "outputs": [],
   "source": [
    "X_train_250, X_test_250, y_train_250, y_test_250 = train_test_split(selected_scaled_data_250,target_250,test_size=0.3)"
   ]
  },
  {
   "cell_type": "code",
   "execution_count": null,
   "metadata": {},
   "outputs": [],
   "source": [
    "X_train_125, X_test_125, y_train_125, y_test_125 = train_test_split(selected_scaled_data_125,target_125,test_size=0.3)"
   ]
  },
  {
   "cell_type": "markdown",
   "metadata": {},
   "source": [
    "### Logistic Regression"
   ]
  },
  {
   "cell_type": "markdown",
   "metadata": {},
   "source": [
    "#### Max Duration"
   ]
  },
  {
   "cell_type": "code",
   "execution_count": null,
   "metadata": {},
   "outputs": [],
   "source": [
    "from sklearn.metrics import accuracy_score\n",
    "from sklearn.metrics import confusion_matrix"
   ]
  },
  {
   "cell_type": "code",
   "execution_count": null,
   "metadata": {},
   "outputs": [],
   "source": [
    "lr = LogisticRegression(solver='liblinear', multi_class='ovr')\n",
    "trained_model_lr = lr.fit(X_train, y_train)\n",
    "predictions_lr = trained_model_lr.predict(X_test)\n",
    "\n",
    "Train_accuracy_lr = accuracy_score(y_train,trained_model_lr.predict(X_train))\n",
    "Test_accuracy_lr = accuracy_score(y_test, predictions_lr)\n",
    "Confusion_matrix_lr = confusion_matrix(y_test,predictions_lr)"
   ]
  },
  {
   "cell_type": "code",
   "execution_count": null,
   "metadata": {},
   "outputs": [],
   "source": [
    "Train_accuracy_lr"
   ]
  },
  {
   "cell_type": "code",
   "execution_count": null,
   "metadata": {},
   "outputs": [],
   "source": [
    "Test_accuracy_lr"
   ]
  },
  {
   "cell_type": "markdown",
   "metadata": {},
   "source": [
    "#### 5 Years"
   ]
  },
  {
   "cell_type": "code",
   "execution_count": null,
   "metadata": {},
   "outputs": [],
   "source": [
    "trained_model_lr_1250 = lr.fit(X_train_1250, y_train_1250)\n",
    "predictions_lr_1250 = trained_model_lr_1250.predict(X_test_1250)\n",
    "\n",
    "Train_accuracy_lr_1250 = accuracy_score(y_train_1250,trained_model_lr_1250.predict(X_train_1250))\n",
    "Test_accuracy_lr_1250 = accuracy_score(y_test_1250, predictions_lr_1250)\n",
    "Confusion_matrix_lr_1250 = confusion_matrix(y_test_1250,predictions_lr_1250)"
   ]
  },
  {
   "cell_type": "code",
   "execution_count": null,
   "metadata": {},
   "outputs": [],
   "source": [
    "Train_accuracy_lr_1250"
   ]
  },
  {
   "cell_type": "code",
   "execution_count": null,
   "metadata": {},
   "outputs": [],
   "source": [
    "Test_accuracy_lr_1250"
   ]
  },
  {
   "cell_type": "markdown",
   "metadata": {},
   "source": [
    "#### 1 Year"
   ]
  },
  {
   "cell_type": "code",
   "execution_count": null,
   "metadata": {},
   "outputs": [],
   "source": [
    "trained_model_lr_250 = lr.fit(X_train_250, y_train_250)\n",
    "predictions_lr_250 = trained_model_lr_250.predict(X_test_250)\n",
    "\n",
    "Train_accuracy_lr_250 = accuracy_score(y_train_250,trained_model_lr_250.predict(X_train_250))\n",
    "Test_accuracy_lr_250 = accuracy_score(y_test_250, predictions_lr_250)\n",
    "Confusion_matrix_lr_250 = confusion_matrix(y_test_250,predictions_lr_250)"
   ]
  },
  {
   "cell_type": "code",
   "execution_count": null,
   "metadata": {},
   "outputs": [],
   "source": [
    "Train_accuracy_lr_250"
   ]
  },
  {
   "cell_type": "code",
   "execution_count": null,
   "metadata": {},
   "outputs": [],
   "source": [
    "Test_accuracy_lr_250"
   ]
  },
  {
   "cell_type": "markdown",
   "metadata": {},
   "source": [
    "#### 6 Months"
   ]
  },
  {
   "cell_type": "code",
   "execution_count": null,
   "metadata": {},
   "outputs": [],
   "source": [
    "trained_model_lr_125 = lr.fit(X_train_125, y_train_125)\n",
    "predictions_lr_125 = trained_model_lr_125.predict(X_test_125)\n",
    "\n",
    "Train_accuracy_lr_125 = accuracy_score(y_train_125,trained_model_lr_125.predict(X_train_125))\n",
    "Test_accuracy_lr_125 = accuracy_score(y_test_125, predictions_lr_125)\n",
    "Confusion_matrix_lr_125 = confusion_matrix(y_test_125,predictions_lr_125)"
   ]
  },
  {
   "cell_type": "code",
   "execution_count": null,
   "metadata": {},
   "outputs": [],
   "source": [
    "Train_accuracy_lr_125"
   ]
  },
  {
   "cell_type": "code",
   "execution_count": null,
   "metadata": {},
   "outputs": [],
   "source": [
    "Test_accuracy_lr_125"
   ]
  },
  {
   "cell_type": "markdown",
   "metadata": {},
   "source": [
    "#### Last 100 Days based on Best Model - Max Duration"
   ]
  },
  {
   "cell_type": "code",
   "execution_count": null,
   "metadata": {},
   "outputs": [],
   "source": [
    "last100 = selected_scaled_data_df.tail(100)"
   ]
  },
  {
   "cell_type": "code",
   "execution_count": null,
   "metadata": {},
   "outputs": [],
   "source": [
    "predictions_lr_100 = trained_model_lr_1250.predict(last100)\n",
    "predictions_lr_100"
   ]
  },
  {
   "cell_type": "markdown",
   "metadata": {},
   "source": [
    "### SVM"
   ]
  },
  {
   "cell_type": "code",
   "execution_count": null,
   "metadata": {},
   "outputs": [],
   "source": [
    "svm = SVC(gamma='auto')\n",
    "trained_model_svm = svm.fit(X_train, y_train)\n",
    "predictions_svm = trained_model_svm.predict(X_test)\n",
    "\n",
    "Train_accuracy_svm = accuracy_score(y_train,trained_model_svm.predict(X_train))\n",
    "Test_accuracy_svm = accuracy_score(y_test, predictions_svm)\n",
    "Confusion_matrix_svm = confusion_matrix(y_test,predictions_svm)"
   ]
  },
  {
   "cell_type": "code",
   "execution_count": null,
   "metadata": {},
   "outputs": [],
   "source": [
    "Train_accuracy_svm"
   ]
  },
  {
   "cell_type": "code",
   "execution_count": null,
   "metadata": {},
   "outputs": [],
   "source": [
    "Test_accuracy_svm"
   ]
  },
  {
   "cell_type": "markdown",
   "metadata": {},
   "source": [
    "#### 5 Years"
   ]
  },
  {
   "cell_type": "code",
   "execution_count": null,
   "metadata": {},
   "outputs": [],
   "source": [
    "trained_model_svm_1250 = svm.fit(X_train_1250, y_train_1250)\n",
    "predictions_svm_1250 = trained_model_svm_1250.predict(X_test_1250)\n",
    "\n",
    "Train_accuracy_svm_1250 = accuracy_score(y_train_1250,trained_model_svm_1250.predict(X_train_1250))\n",
    "Test_accuracy_svm_1250 = accuracy_score(y_test_1250, predictions_svm_1250)\n",
    "Confusion_matrix_svm_1250 = confusion_matrix(y_test_1250,predictions_svm_1250)"
   ]
  },
  {
   "cell_type": "code",
   "execution_count": null,
   "metadata": {},
   "outputs": [],
   "source": [
    "Train_accuracy_svm_1250"
   ]
  },
  {
   "cell_type": "code",
   "execution_count": null,
   "metadata": {},
   "outputs": [],
   "source": [
    "Test_accuracy_svm_1250"
   ]
  },
  {
   "cell_type": "markdown",
   "metadata": {},
   "source": [
    "#### 1 Year"
   ]
  },
  {
   "cell_type": "code",
   "execution_count": null,
   "metadata": {},
   "outputs": [],
   "source": [
    "trained_model_svm_250 = svm.fit(X_train_250, y_train_250)\n",
    "predictions_svm_250 = trained_model_svm_1250.predict(X_test_250)\n",
    "\n",
    "Train_accuracy_svm_250 = accuracy_score(y_train_250,trained_model_svm_250.predict(X_train_250))\n",
    "Test_accuracy_svm_250 = accuracy_score(y_test_250, predictions_svm_250)\n",
    "Confusion_matrix_svm_250 = confusion_matrix(y_test_250,predictions_svm_250)"
   ]
  },
  {
   "cell_type": "code",
   "execution_count": null,
   "metadata": {},
   "outputs": [],
   "source": [
    "Train_accuracy_svm_250"
   ]
  },
  {
   "cell_type": "code",
   "execution_count": null,
   "metadata": {},
   "outputs": [],
   "source": [
    "Test_accuracy_svm_250"
   ]
  },
  {
   "cell_type": "markdown",
   "metadata": {},
   "source": [
    "#### 6 Months"
   ]
  },
  {
   "cell_type": "code",
   "execution_count": null,
   "metadata": {},
   "outputs": [],
   "source": [
    "trained_model_svm_125 = svm.fit(X_train_125, y_train_125)\n",
    "predictions_svm_125 = trained_model_svm_1250.predict(X_test_125)\n",
    "\n",
    "Train_accuracy_svm_125 = accuracy_score(y_train_125,trained_model_svm_125.predict(X_train_125))\n",
    "Test_accuracy_svm_125 = accuracy_score(y_test_125, predictions_svm_125)\n",
    "Confusion_matrix_svm_125 = confusion_matrix(y_test_125,predictions_svm_125)"
   ]
  },
  {
   "cell_type": "code",
   "execution_count": null,
   "metadata": {},
   "outputs": [],
   "source": [
    "Train_accuracy_svm_125"
   ]
  },
  {
   "cell_type": "code",
   "execution_count": null,
   "metadata": {},
   "outputs": [],
   "source": [
    "Test_accuracy_svm_125"
   ]
  },
  {
   "cell_type": "markdown",
   "metadata": {},
   "source": [
    "#### Last 100 Days based on Best Model - Max Duration"
   ]
  },
  {
   "cell_type": "code",
   "execution_count": null,
   "metadata": {},
   "outputs": [],
   "source": [
    "predictions_svm_100 = trained_model_svm.predict(last100)\n",
    "predictions_svm_100"
   ]
  },
  {
   "cell_type": "markdown",
   "metadata": {},
   "source": [
    "### RandomForest"
   ]
  },
  {
   "cell_type": "code",
   "execution_count": null,
   "metadata": {},
   "outputs": [],
   "source": [
    "rf = RandomForestClassifier(n_estimators=10)\n",
    "trained_model_rf = rf.fit(X_train, y_train)\n",
    "predictions_rf = trained_model_rf.predict(X_test)\n",
    "\n",
    "Train_accuracy_rf = accuracy_score(y_train, trained_model_rf.predict(X_train))\n",
    "Test_accuracy_rf = accuracy_score(y_test, predictions_rf)\n",
    "Confusion_matrix_rf = confusion_matrix(y_test, predictions_rf)"
   ]
  },
  {
   "cell_type": "code",
   "execution_count": null,
   "metadata": {},
   "outputs": [],
   "source": [
    "Train_accuracy_rf"
   ]
  },
  {
   "cell_type": "code",
   "execution_count": null,
   "metadata": {},
   "outputs": [],
   "source": [
    "Test_accuracy_rf"
   ]
  },
  {
   "cell_type": "markdown",
   "metadata": {},
   "source": [
    "#### 5 Years"
   ]
  },
  {
   "cell_type": "code",
   "execution_count": null,
   "metadata": {},
   "outputs": [],
   "source": [
    "trained_model_rf_1250 = rf.fit(X_train_1250, y_train_1250)\n",
    "predictions_rf_1250 = trained_model_rf_1250.predict(X_test_1250)\n",
    "\n",
    "Train_accuracy_rf_1250 = accuracy_score(y_train_1250,trained_model_rf_1250.predict(X_train_1250))\n",
    "Test_accuracy_rf_1250 = accuracy_score(y_test_1250, predictions_rf_1250)\n",
    "Confusion_matrix_rf_1250 = confusion_matrix(y_test_1250,predictions_rf_1250)"
   ]
  },
  {
   "cell_type": "code",
   "execution_count": null,
   "metadata": {},
   "outputs": [],
   "source": [
    "Train_accuracy_rf_1250"
   ]
  },
  {
   "cell_type": "code",
   "execution_count": null,
   "metadata": {},
   "outputs": [],
   "source": [
    "Test_accuracy_rf_1250"
   ]
  },
  {
   "cell_type": "markdown",
   "metadata": {},
   "source": [
    "#### 1 Year"
   ]
  },
  {
   "cell_type": "code",
   "execution_count": null,
   "metadata": {},
   "outputs": [],
   "source": [
    "trained_model_rf_250 = rf.fit(X_train_250, y_train_250)\n",
    "predictions_rf_250 = trained_model_rf_250.predict(X_test_250)\n",
    "\n",
    "Train_accuracy_rf_250 = accuracy_score(y_train_250,trained_model_rf_250.predict(X_train_250))\n",
    "Test_accuracy_rf_250 = accuracy_score(y_test_250, predictions_rf_250)\n",
    "Confusion_matrix_rf_250 = confusion_matrix(y_test_250,predictions_rf_250)"
   ]
  },
  {
   "cell_type": "code",
   "execution_count": null,
   "metadata": {},
   "outputs": [],
   "source": [
    "Train_accuracy_rf_250"
   ]
  },
  {
   "cell_type": "code",
   "execution_count": null,
   "metadata": {},
   "outputs": [],
   "source": [
    "Test_accuracy_rf_250"
   ]
  },
  {
   "cell_type": "markdown",
   "metadata": {},
   "source": [
    "#### 6 Months"
   ]
  },
  {
   "cell_type": "code",
   "execution_count": null,
   "metadata": {},
   "outputs": [],
   "source": [
    "trained_model_rf_125 = rf.fit(X_train_125, y_train_125)\n",
    "predictions_rf_125 = trained_model_rf_125.predict(X_test_125)\n",
    "\n",
    "Train_accuracy_rf_125 = accuracy_score(y_train_125,trained_model_rf_125.predict(X_train_125))\n",
    "Test_accuracy_rf_125 = accuracy_score(y_test_125, predictions_rf_125)\n",
    "Confusion_matrix_rf_125 = confusion_matrix(y_test_125,predictions_rf_125)"
   ]
  },
  {
   "cell_type": "code",
   "execution_count": null,
   "metadata": {},
   "outputs": [],
   "source": [
    "Train_accuracy_rf_125"
   ]
  },
  {
   "cell_type": "code",
   "execution_count": null,
   "metadata": {},
   "outputs": [],
   "source": [
    "Test_accuracy_rf_125"
   ]
  },
  {
   "cell_type": "markdown",
   "metadata": {},
   "source": [
    "#### Last 100 Days based on Best Model"
   ]
  },
  {
   "cell_type": "code",
   "execution_count": null,
   "metadata": {},
   "outputs": [],
   "source": [
    "predictions_rf_100 = trained_model_rf_125.predict(last100)\n",
    "predictions_rf_100"
   ]
  },
  {
   "cell_type": "markdown",
   "metadata": {},
   "source": [
    "### KNN"
   ]
  },
  {
   "cell_type": "code",
   "execution_count": null,
   "metadata": {},
   "outputs": [],
   "source": [
    "knn = KNeighborsClassifier(n_neighbors=5)\n",
    "trained_model_knn = knn.fit(X_train, y_train)\n",
    "predictions_knn = trained_model_knn.predict(X_test)\n",
    "\n",
    "Train_accuracy_knn = accuracy_score(y_train, trained_model_knn.predict(X_train))\n",
    "Test_accuracy_knn = accuracy_score(y_test, predictions_knn)\n",
    "Confusion_matrix_knn = confusion_matrix(y_test, predictions_knn)"
   ]
  },
  {
   "cell_type": "code",
   "execution_count": null,
   "metadata": {},
   "outputs": [],
   "source": [
    "Train_accuracy_knn"
   ]
  },
  {
   "cell_type": "code",
   "execution_count": null,
   "metadata": {},
   "outputs": [],
   "source": [
    "Test_accuracy_knn"
   ]
  },
  {
   "cell_type": "markdown",
   "metadata": {},
   "source": [
    "#### 5 Years"
   ]
  },
  {
   "cell_type": "code",
   "execution_count": null,
   "metadata": {},
   "outputs": [],
   "source": [
    "trained_model_knn_1250 = knn.fit(X_train_1250, y_train_1250)\n",
    "predictions_knn_1250 = trained_model_knn_1250.predict(X_test_1250)\n",
    "\n",
    "Train_accuracy_knn_1250 = accuracy_score(y_train_1250,trained_model_knn_1250.predict(X_train_1250))\n",
    "Test_accuracy_knn_1250 = accuracy_score(y_test_1250, predictions_knn_1250)\n",
    "Confusion_matrix_knn_1250 = confusion_matrix(y_test_1250,predictions_knn_1250)"
   ]
  },
  {
   "cell_type": "code",
   "execution_count": null,
   "metadata": {},
   "outputs": [],
   "source": [
    "Train_accuracy_knn_1250"
   ]
  },
  {
   "cell_type": "code",
   "execution_count": null,
   "metadata": {},
   "outputs": [],
   "source": [
    "Test_accuracy_knn_1250"
   ]
  },
  {
   "cell_type": "markdown",
   "metadata": {},
   "source": [
    "#### 1 Year"
   ]
  },
  {
   "cell_type": "code",
   "execution_count": null,
   "metadata": {},
   "outputs": [],
   "source": [
    "trained_model_knn_250 = knn.fit(X_train_250, y_train_250)\n",
    "predictions_knn_250 = trained_model_knn_250.predict(X_test_250)\n",
    "\n",
    "Train_accuracy_knn_250 = accuracy_score(y_train_250,trained_model_knn_250.predict(X_train_250))\n",
    "Test_accuracy_knn_250 = accuracy_score(y_test_250, predictions_knn_250)\n",
    "Confusion_matrix_knn_250 = confusion_matrix(y_test_250,predictions_knn_250)"
   ]
  },
  {
   "cell_type": "code",
   "execution_count": null,
   "metadata": {},
   "outputs": [],
   "source": [
    "Train_accuracy_knn_250"
   ]
  },
  {
   "cell_type": "code",
   "execution_count": null,
   "metadata": {},
   "outputs": [],
   "source": [
    "Test_accuracy_knn_250"
   ]
  },
  {
   "cell_type": "markdown",
   "metadata": {},
   "source": [
    "#### 6 Months"
   ]
  },
  {
   "cell_type": "code",
   "execution_count": null,
   "metadata": {},
   "outputs": [],
   "source": [
    "trained_model_knn_125 = knn.fit(X_train_125, y_train_125)\n",
    "predictions_knn_125 = trained_model_knn_125.predict(X_test_125)\n",
    "\n",
    "Train_accuracy_knn_125 = accuracy_score(y_train_125,trained_model_knn_125.predict(X_train_125))\n",
    "Test_accuracy_knn_125 = accuracy_score(y_test_125, predictions_knn_125)\n",
    "Confusion_matrix_knn_125 = confusion_matrix(y_test_125,predictions_knn_125)"
   ]
  },
  {
   "cell_type": "code",
   "execution_count": null,
   "metadata": {},
   "outputs": [],
   "source": [
    "Train_accuracy_knn_125"
   ]
  },
  {
   "cell_type": "code",
   "execution_count": null,
   "metadata": {},
   "outputs": [],
   "source": [
    "Test_accuracy_knn_125"
   ]
  },
  {
   "cell_type": "markdown",
   "metadata": {},
   "source": [
    "#### Last 100 Days based on Best Model"
   ]
  },
  {
   "cell_type": "code",
   "execution_count": null,
   "metadata": {},
   "outputs": [],
   "source": [
    "predictions_knn_100 = trained_model_knn.predict(last100)\n",
    "predictions_knn_100"
   ]
  },
  {
   "cell_type": "markdown",
   "metadata": {},
   "source": [
    "### XGBoost"
   ]
  },
  {
   "cell_type": "code",
   "execution_count": null,
   "metadata": {},
   "outputs": [],
   "source": [
    "xgb = XGBClassifier(use_label_encoder=False)\n",
    "trained_model_xgb = xgb.fit(X_train, y_train)\n",
    "predictions_xgb = trained_model_xgb.predict(X_test)\n",
    "\n",
    "Train_accuracy_xgb = accuracy_score(y_train, trained_model_xgb.predict(X_train))\n",
    "Test_accuracy_xgb = accuracy_score(y_test, predictions_xgb)\n",
    "Confusion_matrix_xgb = confusion_matrix(y_test, predictions_xgb)"
   ]
  },
  {
   "cell_type": "code",
   "execution_count": null,
   "metadata": {},
   "outputs": [],
   "source": [
    "Train_accuracy_xgb"
   ]
  },
  {
   "cell_type": "code",
   "execution_count": null,
   "metadata": {},
   "outputs": [],
   "source": [
    "Test_accuracy_xgb"
   ]
  },
  {
   "cell_type": "markdown",
   "metadata": {},
   "source": [
    "#### 5 Years"
   ]
  },
  {
   "cell_type": "code",
   "execution_count": null,
   "metadata": {},
   "outputs": [],
   "source": [
    "trained_model_xgb_1250 = xgb.fit(X_train_1250, y_train_1250)\n",
    "predictions_xgb_1250 = trained_model_xgb_1250.predict(X_test_1250)\n",
    "\n",
    "Train_accuracy_xgb_1250 = accuracy_score(y_train_1250,trained_model_xgb_1250.predict(X_train_1250))\n",
    "Test_accuracy_xgb_1250 = accuracy_score(y_test_1250, predictions_xgb_1250)\n",
    "Confusion_matrix_xgb_1250 = confusion_matrix(y_test_1250,predictions_xgb_1250)"
   ]
  },
  {
   "cell_type": "code",
   "execution_count": null,
   "metadata": {},
   "outputs": [],
   "source": [
    "Train_accuracy_xgb_1250"
   ]
  },
  {
   "cell_type": "code",
   "execution_count": null,
   "metadata": {},
   "outputs": [],
   "source": [
    "Test_accuracy_xgb_1250"
   ]
  },
  {
   "cell_type": "markdown",
   "metadata": {},
   "source": [
    "#### 1 Year"
   ]
  },
  {
   "cell_type": "code",
   "execution_count": null,
   "metadata": {},
   "outputs": [],
   "source": [
    "trained_model_xgb_250 = xgb.fit(X_train_250, y_train_250)\n",
    "predictions_xgb_250 = trained_model_xgb_250.predict(X_test_250)\n",
    "\n",
    "Train_accuracy_xgb_250 = accuracy_score(y_train_250,trained_model_xgb_250.predict(X_train_250))\n",
    "Test_accuracy_xgb_250 = accuracy_score(y_test_250, predictions_xgb_250)\n",
    "Confusion_matrix_xgb_250 = confusion_matrix(y_test_250,predictions_xgb_250)"
   ]
  },
  {
   "cell_type": "code",
   "execution_count": null,
   "metadata": {},
   "outputs": [],
   "source": [
    "Train_accuracy_xgb_250"
   ]
  },
  {
   "cell_type": "code",
   "execution_count": null,
   "metadata": {},
   "outputs": [],
   "source": [
    "Test_accuracy_xgb_250"
   ]
  },
  {
   "cell_type": "markdown",
   "metadata": {},
   "source": [
    "#### 6 Months"
   ]
  },
  {
   "cell_type": "code",
   "execution_count": null,
   "metadata": {},
   "outputs": [],
   "source": [
    "trained_model_xgb_125 = xgb.fit(X_train_125, y_train_125)\n",
    "predictions_xgb_125 = trained_model_xgb_125.predict(X_test_125)\n",
    "\n",
    "Train_accuracy_xgb_125 = accuracy_score(y_train_125,trained_model_xgb_125.predict(X_train_125))\n",
    "Test_accuracy_xgb_125 = accuracy_score(y_test_125, predictions_xgb_125)\n",
    "Confusion_matrix_xgb_125 = confusion_matrix(y_test_125,predictions_xgb_125)"
   ]
  },
  {
   "cell_type": "code",
   "execution_count": null,
   "metadata": {},
   "outputs": [],
   "source": [
    "Train_accuracy_xgb_125"
   ]
  },
  {
   "cell_type": "code",
   "execution_count": null,
   "metadata": {},
   "outputs": [],
   "source": [
    "Test_accuracy_xgb_125"
   ]
  },
  {
   "cell_type": "markdown",
   "metadata": {},
   "source": [
    "#### Last 100 Days based on Best Model"
   ]
  },
  {
   "cell_type": "code",
   "execution_count": null,
   "metadata": {},
   "outputs": [],
   "source": [
    "predictions_xgb_100 = trained_model_xgb.predict(last100)\n",
    "predictions_xgb_100"
   ]
  },
  {
   "cell_type": "markdown",
   "metadata": {},
   "source": [
    "## KFold cross validation\n",
    "### Basic example"
   ]
  },
  {
   "cell_type": "code",
   "execution_count": null,
   "metadata": {},
   "outputs": [],
   "source": [
    "from sklearn.model_selection import cross_val_score\n",
    "\n",
    "cross_val_score(LogisticRegression(solver='liblinear',multi_class='ovr'), complete_data, target, cv=10)"
   ]
  },
  {
   "cell_type": "code",
   "execution_count": null,
   "metadata": {},
   "outputs": [],
   "source": [
    "cross_val_score(SVC(gamma='auto'), complete_data, target, cv=10)"
   ]
  },
  {
   "cell_type": "code",
   "execution_count": null,
   "metadata": {},
   "outputs": [],
   "source": [
    "cross_val_score(RandomForestClassifier(n_estimators=5), complete_data, target, cv=10)"
   ]
  },
  {
   "cell_type": "code",
   "execution_count": null,
   "metadata": {},
   "outputs": [],
   "source": [
    "cross_val_score(KNeighborsClassifier(n_neighbors=5), complete_data, target, cv=10)"
   ]
  },
  {
   "cell_type": "code",
   "execution_count": null,
   "metadata": {},
   "outputs": [],
   "source": [
    "cross_val_score(XGBClassifier(use_label_encoder=False), complete_data, target, cv=10)"
   ]
  }
 ],
 "metadata": {
  "kernelspec": {
   "display_name": "Python 3",
   "language": "python",
   "name": "python3"
  },
  "language_info": {
   "codemirror_mode": {
    "name": "ipython",
    "version": 3
   },
   "file_extension": ".py",
   "mimetype": "text/x-python",
   "name": "python",
   "nbconvert_exporter": "python",
   "pygments_lexer": "ipython3",
   "version": "3.8.5"
  }
 },
 "nbformat": 4,
 "nbformat_minor": 4
}
