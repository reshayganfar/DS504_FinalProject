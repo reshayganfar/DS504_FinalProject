{
 "cells": [
  {
   "cell_type": "code",
   "execution_count": 1,
   "metadata": {},
   "outputs": [],
   "source": [
    "import numpy as np\n",
    "import pandas as pd\n",
    "import ta\n",
    "import seaborn as sn\n",
    "import matplotlib.pyplot as plt\n",
    "\n",
    "from sklearn.ensemble import RandomForestClassifier\n",
    "from sklearn.linear_model import LogisticRegression\n",
    "from sklearn.neighbors import KNeighborsClassifier\n",
    "from sklearn.svm import SVC\n",
    "from xgboost import XGBClassifier\n",
    "\n",
    "from ta import add_all_ta_features\n",
    "from ta import momentum\n",
    "from ta.utils import dropna"
   ]
  },
  {
   "cell_type": "code",
   "execution_count": 2,
   "metadata": {},
   "outputs": [],
   "source": [
    "#pip install xgboost"
   ]
  },
  {
   "cell_type": "code",
   "execution_count": 3,
   "metadata": {},
   "outputs": [
    {
     "name": "stdout",
     "output_type": "stream",
     "text": [
      "Requirement already satisfied: autofeat in c:\\users\\rshay\\anaconda3\\lib\\site-packages (2.0.10)\n",
      "Requirement already satisfied: future in c:\\users\\rshay\\anaconda3\\lib\\site-packages (from autofeat) (0.18.2)\n",
      "Requirement already satisfied: scikit-learn in c:\\users\\rshay\\anaconda3\\lib\\site-packages (from autofeat) (0.23.2)\n",
      "Requirement already satisfied: sympy>=1.7.1 in c:\\users\\rshay\\anaconda3\\lib\\site-packages (from autofeat) (1.9)\n",
      "Requirement already satisfied: joblib in c:\\users\\rshay\\anaconda3\\lib\\site-packages (from autofeat) (0.17.0)\n",
      "Requirement already satisfied: numba in c:\\users\\rshay\\anaconda3\\lib\\site-packages (from autofeat) (0.51.2)\n",
      "Requirement already satisfied: numpy in c:\\users\\rshay\\anaconda3\\lib\\site-packages (from autofeat) (1.19.2)\n",
      "Requirement already satisfied: pint in c:\\users\\rshay\\anaconda3\\lib\\site-packages (from autofeat) (0.18)\n",
      "Requirement already satisfied: pandas>=0.24.0 in c:\\users\\rshay\\anaconda3\\lib\\site-packages (from autofeat) (1.1.3)\n",
      "Requirement already satisfied: threadpoolctl>=2.0.0 in c:\\users\\rshay\\anaconda3\\lib\\site-packages (from scikit-learn->autofeat) (2.1.0)\n",
      "Requirement already satisfied: scipy>=0.19.1 in c:\\users\\rshay\\anaconda3\\lib\\site-packages (from scikit-learn->autofeat) (1.5.2)\n",
      "Requirement already satisfied: mpmath>=0.19 in c:\\users\\rshay\\anaconda3\\lib\\site-packages (from sympy>=1.7.1->autofeat) (1.1.0)\n",
      "Requirement already satisfied: llvmlite<0.35,>=0.34.0.dev0 in c:\\users\\rshay\\anaconda3\\lib\\site-packages (from numba->autofeat) (0.34.0)\n",
      "Requirement already satisfied: setuptools in c:\\users\\rshay\\anaconda3\\lib\\site-packages (from numba->autofeat) (50.3.1.post20201107)\n",
      "Requirement already satisfied: packaging in c:\\users\\rshay\\anaconda3\\lib\\site-packages (from pint->autofeat) (20.4)\n",
      "Requirement already satisfied: pytz>=2017.2 in c:\\users\\rshay\\anaconda3\\lib\\site-packages (from pandas>=0.24.0->autofeat) (2020.1)\n",
      "Requirement already satisfied: python-dateutil>=2.7.3 in c:\\users\\rshay\\anaconda3\\lib\\site-packages (from pandas>=0.24.0->autofeat) (2.8.1)\n",
      "Requirement already satisfied: six in c:\\users\\rshay\\anaconda3\\lib\\site-packages (from packaging->pint->autofeat) (1.15.0)\n",
      "Requirement already satisfied: pyparsing>=2.0.2 in c:\\users\\rshay\\anaconda3\\lib\\site-packages (from packaging->pint->autofeat) (2.4.7)\n",
      "Note: you may need to restart the kernel to use updated packages.\n"
     ]
    }
   ],
   "source": [
    "pip install autofeat"
   ]
  },
  {
   "cell_type": "code",
   "execution_count": 4,
   "metadata": {},
   "outputs": [],
   "source": [
    "def get_data(company_symbol):\n",
    "    return pd.read_csv(\"dataset/\"+company_symbol+\".csv\")"
   ]
  },
  {
   "cell_type": "code",
   "execution_count": 5,
   "metadata": {},
   "outputs": [
    {
     "data": {
      "text/html": [
       "<div>\n",
       "<style scoped>\n",
       "    .dataframe tbody tr th:only-of-type {\n",
       "        vertical-align: middle;\n",
       "    }\n",
       "\n",
       "    .dataframe tbody tr th {\n",
       "        vertical-align: top;\n",
       "    }\n",
       "\n",
       "    .dataframe thead th {\n",
       "        text-align: right;\n",
       "    }\n",
       "</style>\n",
       "<table border=\"1\" class=\"dataframe\">\n",
       "  <thead>\n",
       "    <tr style=\"text-align: right;\">\n",
       "      <th></th>\n",
       "      <th>Date</th>\n",
       "      <th>Open</th>\n",
       "      <th>High</th>\n",
       "      <th>Low</th>\n",
       "      <th>Close</th>\n",
       "      <th>Adj Close</th>\n",
       "      <th>Volume</th>\n",
       "    </tr>\n",
       "  </thead>\n",
       "  <tbody>\n",
       "    <tr>\n",
       "      <th>0</th>\n",
       "      <td>5/15/1997</td>\n",
       "      <td>2.437500</td>\n",
       "      <td>2.500000</td>\n",
       "      <td>1.927083</td>\n",
       "      <td>1.958333</td>\n",
       "      <td>1.958333</td>\n",
       "      <td>72156000</td>\n",
       "    </tr>\n",
       "    <tr>\n",
       "      <th>1</th>\n",
       "      <td>5/16/1997</td>\n",
       "      <td>1.968750</td>\n",
       "      <td>1.979167</td>\n",
       "      <td>1.708333</td>\n",
       "      <td>1.729167</td>\n",
       "      <td>1.729167</td>\n",
       "      <td>14700000</td>\n",
       "    </tr>\n",
       "    <tr>\n",
       "      <th>2</th>\n",
       "      <td>5/19/1997</td>\n",
       "      <td>1.760417</td>\n",
       "      <td>1.770833</td>\n",
       "      <td>1.625000</td>\n",
       "      <td>1.708333</td>\n",
       "      <td>1.708333</td>\n",
       "      <td>6106800</td>\n",
       "    </tr>\n",
       "    <tr>\n",
       "      <th>3</th>\n",
       "      <td>5/20/1997</td>\n",
       "      <td>1.729167</td>\n",
       "      <td>1.750000</td>\n",
       "      <td>1.635417</td>\n",
       "      <td>1.635417</td>\n",
       "      <td>1.635417</td>\n",
       "      <td>5467200</td>\n",
       "    </tr>\n",
       "    <tr>\n",
       "      <th>4</th>\n",
       "      <td>5/21/1997</td>\n",
       "      <td>1.635417</td>\n",
       "      <td>1.645833</td>\n",
       "      <td>1.375000</td>\n",
       "      <td>1.427083</td>\n",
       "      <td>1.427083</td>\n",
       "      <td>18853200</td>\n",
       "    </tr>\n",
       "    <tr>\n",
       "      <th>...</th>\n",
       "      <td>...</td>\n",
       "      <td>...</td>\n",
       "      <td>...</td>\n",
       "      <td>...</td>\n",
       "      <td>...</td>\n",
       "      <td>...</td>\n",
       "      <td>...</td>\n",
       "    </tr>\n",
       "    <tr>\n",
       "      <th>6152</th>\n",
       "      <td>10/25/2021</td>\n",
       "      <td>3335.000000</td>\n",
       "      <td>3347.800049</td>\n",
       "      <td>3297.699951</td>\n",
       "      <td>3320.370117</td>\n",
       "      <td>3320.370117</td>\n",
       "      <td>2226000</td>\n",
       "    </tr>\n",
       "    <tr>\n",
       "      <th>6153</th>\n",
       "      <td>10/26/2021</td>\n",
       "      <td>3349.510010</td>\n",
       "      <td>3416.120117</td>\n",
       "      <td>3343.979980</td>\n",
       "      <td>3376.070068</td>\n",
       "      <td>3376.070068</td>\n",
       "      <td>2698300</td>\n",
       "    </tr>\n",
       "    <tr>\n",
       "      <th>6154</th>\n",
       "      <td>10/27/2021</td>\n",
       "      <td>3388.000000</td>\n",
       "      <td>3437.000000</td>\n",
       "      <td>3371.449951</td>\n",
       "      <td>3392.489990</td>\n",
       "      <td>3392.489990</td>\n",
       "      <td>2702200</td>\n",
       "    </tr>\n",
       "    <tr>\n",
       "      <th>6155</th>\n",
       "      <td>10/28/2021</td>\n",
       "      <td>3402.100098</td>\n",
       "      <td>3479.000000</td>\n",
       "      <td>3386.000000</td>\n",
       "      <td>3446.570068</td>\n",
       "      <td>3446.570068</td>\n",
       "      <td>5708700</td>\n",
       "    </tr>\n",
       "    <tr>\n",
       "      <th>6156</th>\n",
       "      <td>10/29/2021</td>\n",
       "      <td>3300.020020</td>\n",
       "      <td>3374.820068</td>\n",
       "      <td>3273.320068</td>\n",
       "      <td>3372.429932</td>\n",
       "      <td>3372.429932</td>\n",
       "      <td>6469500</td>\n",
       "    </tr>\n",
       "  </tbody>\n",
       "</table>\n",
       "<p>6157 rows × 7 columns</p>\n",
       "</div>"
      ],
      "text/plain": [
       "            Date         Open         High          Low        Close  \\\n",
       "0      5/15/1997     2.437500     2.500000     1.927083     1.958333   \n",
       "1      5/16/1997     1.968750     1.979167     1.708333     1.729167   \n",
       "2      5/19/1997     1.760417     1.770833     1.625000     1.708333   \n",
       "3      5/20/1997     1.729167     1.750000     1.635417     1.635417   \n",
       "4      5/21/1997     1.635417     1.645833     1.375000     1.427083   \n",
       "...          ...          ...          ...          ...          ...   \n",
       "6152  10/25/2021  3335.000000  3347.800049  3297.699951  3320.370117   \n",
       "6153  10/26/2021  3349.510010  3416.120117  3343.979980  3376.070068   \n",
       "6154  10/27/2021  3388.000000  3437.000000  3371.449951  3392.489990   \n",
       "6155  10/28/2021  3402.100098  3479.000000  3386.000000  3446.570068   \n",
       "6156  10/29/2021  3300.020020  3374.820068  3273.320068  3372.429932   \n",
       "\n",
       "        Adj Close    Volume  \n",
       "0        1.958333  72156000  \n",
       "1        1.729167  14700000  \n",
       "2        1.708333   6106800  \n",
       "3        1.635417   5467200  \n",
       "4        1.427083  18853200  \n",
       "...           ...       ...  \n",
       "6152  3320.370117   2226000  \n",
       "6153  3376.070068   2698300  \n",
       "6154  3392.489990   2702200  \n",
       "6155  3446.570068   5708700  \n",
       "6156  3372.429932   6469500  \n",
       "\n",
       "[6157 rows x 7 columns]"
      ]
     },
     "execution_count": 5,
     "metadata": {},
     "output_type": "execute_result"
    }
   ],
   "source": [
    "data = get_data(\"AMZN\")\n",
    "data"
   ]
  },
  {
   "cell_type": "code",
   "execution_count": 6,
   "metadata": {},
   "outputs": [
    {
     "data": {
      "text/plain": [
       "Date          object\n",
       "Open         float64\n",
       "High         float64\n",
       "Low          float64\n",
       "Close        float64\n",
       "Adj Close    float64\n",
       "Volume         int64\n",
       "dtype: object"
      ]
     },
     "execution_count": 6,
     "metadata": {},
     "output_type": "execute_result"
    }
   ],
   "source": [
    "data.dtypes"
   ]
  },
  {
   "cell_type": "code",
   "execution_count": 7,
   "metadata": {},
   "outputs": [
    {
     "data": {
      "text/plain": [
       "Date         False\n",
       "Open         False\n",
       "High         False\n",
       "Low          False\n",
       "Close        False\n",
       "Adj Close    False\n",
       "Volume       False\n",
       "dtype: bool"
      ]
     },
     "execution_count": 7,
     "metadata": {},
     "output_type": "execute_result"
    }
   ],
   "source": [
    "data.isna().any()"
   ]
  },
  {
   "cell_type": "code",
   "execution_count": 8,
   "metadata": {},
   "outputs": [
    {
     "data": {
      "text/html": [
       "<div>\n",
       "<style scoped>\n",
       "    .dataframe tbody tr th:only-of-type {\n",
       "        vertical-align: middle;\n",
       "    }\n",
       "\n",
       "    .dataframe tbody tr th {\n",
       "        vertical-align: top;\n",
       "    }\n",
       "\n",
       "    .dataframe thead th {\n",
       "        text-align: right;\n",
       "    }\n",
       "</style>\n",
       "<table border=\"1\" class=\"dataframe\">\n",
       "  <thead>\n",
       "    <tr style=\"text-align: right;\">\n",
       "      <th></th>\n",
       "    </tr>\n",
       "  </thead>\n",
       "  <tbody>\n",
       "    <tr>\n",
       "      <th>0</th>\n",
       "    </tr>\n",
       "    <tr>\n",
       "      <th>1</th>\n",
       "    </tr>\n",
       "    <tr>\n",
       "      <th>2</th>\n",
       "    </tr>\n",
       "    <tr>\n",
       "      <th>3</th>\n",
       "    </tr>\n",
       "    <tr>\n",
       "      <th>4</th>\n",
       "    </tr>\n",
       "    <tr>\n",
       "      <th>...</th>\n",
       "    </tr>\n",
       "    <tr>\n",
       "      <th>6152</th>\n",
       "    </tr>\n",
       "    <tr>\n",
       "      <th>6153</th>\n",
       "    </tr>\n",
       "    <tr>\n",
       "      <th>6154</th>\n",
       "    </tr>\n",
       "    <tr>\n",
       "      <th>6155</th>\n",
       "    </tr>\n",
       "    <tr>\n",
       "      <th>6156</th>\n",
       "    </tr>\n",
       "  </tbody>\n",
       "</table>\n",
       "<p>6157 rows × 0 columns</p>\n",
       "</div>"
      ],
      "text/plain": [
       "Empty DataFrame\n",
       "Columns: []\n",
       "Index: [0, 1, 2, 3, 4, 5, 6, 7, 8, 9, 10, 11, 12, 13, 14, 15, 16, 17, 18, 19, 20, 21, 22, 23, 24, 25, 26, 27, 28, 29, 30, 31, 32, 33, 34, 35, 36, 37, 38, 39, 40, 41, 42, 43, 44, 45, 46, 47, 48, 49, 50, 51, 52, 53, 54, 55, 56, 57, 58, 59, 60, 61, 62, 63, 64, 65, 66, 67, 68, 69, 70, 71, 72, 73, 74, 75, 76, 77, 78, 79, 80, 81, 82, 83, 84, 85, 86, 87, 88, 89, 90, 91, 92, 93, 94, 95, 96, 97, 98, 99, ...]\n",
       "\n",
       "[6157 rows x 0 columns]"
      ]
     },
     "execution_count": 8,
     "metadata": {},
     "output_type": "execute_result"
    }
   ],
   "source": [
    "data[data.columns[data.isna().any()]]"
   ]
  },
  {
   "cell_type": "code",
   "execution_count": 9,
   "metadata": {},
   "outputs": [
    {
     "name": "stdout",
     "output_type": "stream",
     "text": [
      "            Date         Open         High          Low        Close  \\\n",
      "0      5/15/1997     2.437500     2.500000     1.927083     1.958333   \n",
      "1      5/16/1997     1.968750     1.979167     1.708333     1.729167   \n",
      "2      5/19/1997     1.760417     1.770833     1.625000     1.708333   \n",
      "3      5/20/1997     1.729167     1.750000     1.635417     1.635417   \n",
      "4      5/21/1997     1.635417     1.645833     1.375000     1.427083   \n",
      "...          ...          ...          ...          ...          ...   \n",
      "6152  10/25/2021  3335.000000  3347.800049  3297.699951  3320.370117   \n",
      "6153  10/26/2021  3349.510010  3416.120117  3343.979980  3376.070068   \n",
      "6154  10/27/2021  3388.000000  3437.000000  3371.449951  3392.489990   \n",
      "6155  10/28/2021  3402.100098  3479.000000  3386.000000  3446.570068   \n",
      "6156  10/29/2021  3300.020020  3374.820068  3273.320068  3372.429932   \n",
      "\n",
      "        Adj Close    Volume  cond1  cond2  cond3  \n",
      "0        1.958333  72156000  False  False  False  \n",
      "1        1.729167  14700000  False  False  False  \n",
      "2        1.708333   6106800  False  False  False  \n",
      "3        1.635417   5467200  False  False  False  \n",
      "4        1.427083  18853200  False  False  False  \n",
      "...           ...       ...    ...    ...    ...  \n",
      "6152  3320.370117   2226000  False  False  False  \n",
      "6153  3376.070068   2698300  False  False  False  \n",
      "6154  3392.489990   2702200  False  False  False  \n",
      "6155  3446.570068   5708700  False  False  False  \n",
      "6156  3372.429932   6469500  False  False  False  \n",
      "\n",
      "[6157 rows x 10 columns]\n"
     ]
    }
   ],
   "source": [
    "cond1 = data.Date.isna() # aapl['Date'].isna()\n",
    "cond2 = data.Date.str.contains(r'^\\s*$', na=False)\n",
    "cond3 = data.Date == ''\n",
    "\n",
    "data_checked = data.assign(cond1= cond1, cond2= cond2, cond3= cond3)\n",
    "print (data_checked)"
   ]
  },
  {
   "cell_type": "code",
   "execution_count": 10,
   "metadata": {},
   "outputs": [],
   "source": [
    "def simple_moving_average_5(close):\n",
    "    return close.rolling(5, min_periods=1).mean()"
   ]
  },
  {
   "cell_type": "code",
   "execution_count": 11,
   "metadata": {},
   "outputs": [],
   "source": [
    "def simple_moving_average_10(close):\n",
    "    return close.rolling(10, min_periods=1).mean()"
   ]
  },
  {
   "cell_type": "code",
   "execution_count": 12,
   "metadata": {},
   "outputs": [],
   "source": [
    "def stochastic_k(high, low, close):\n",
    "    return (((close-low.rolling(14).min())/(high.rolling(14).max()-low.rolling(14).min()))*100)"
   ]
  },
  {
   "cell_type": "code",
   "execution_count": 13,
   "metadata": {},
   "outputs": [],
   "source": [
    "def stochastic_d(stochastic_k):\n",
    "    return stochastic_k.rolling(3,min_periods=1).mean()"
   ]
  },
  {
   "cell_type": "code",
   "execution_count": 14,
   "metadata": {},
   "outputs": [],
   "source": [
    "def larry_williams_r(high, low, close):\n",
    "    return (((high.rolling(14).max()-close)/(high.rolling(14).max()-low.rolling(14).min()))*100)"
   ]
  },
  {
   "cell_type": "code",
   "execution_count": 15,
   "metadata": {},
   "outputs": [],
   "source": [
    "def rate_of_change(close):\n",
    "    return ((close-close.shift(12))/close.shift(12))"
   ]
  },
  {
   "cell_type": "code",
   "execution_count": 16,
   "metadata": {},
   "outputs": [],
   "source": [
    "def price_volume_trend(close, volume):\n",
    "    return (((close-close.shift(1))/close.shift(1))*volume)"
   ]
  },
  {
   "cell_type": "code",
   "execution_count": 17,
   "metadata": {},
   "outputs": [],
   "source": [
    "def accumulation_distribution_oscillator(high, low, close):\n",
    "    return((high-close.shift(1))/(high-low))"
   ]
  },
  {
   "cell_type": "code",
   "execution_count": 18,
   "metadata": {},
   "outputs": [],
   "source": [
    "def weighted_moving_average_10(close):\n",
    "    return ((10*close+9*close.shift(1)+8*close.shift(2)+7*close.shift(3)\n",
    "             +6*close.shift(4)+5*close.shift(5)+4*close.shift(6)+3*close.shift(7)\n",
    "             +2*close.shift(8)+close.shift(9))/(10+9+8+7+6+5+4+3+2+1))"
   ]
  },
  {
   "cell_type": "code",
   "execution_count": 19,
   "metadata": {},
   "outputs": [],
   "source": [
    "def exponential_moving_average_12(close):\n",
    "    return (close.ewm(span=12, adjust=False).mean())"
   ]
  },
  {
   "cell_type": "code",
   "execution_count": 20,
   "metadata": {},
   "outputs": [],
   "source": [
    "def exponential_moving_average_26(close):\n",
    "    return (close.ewm(span=26, adjust=False).mean())"
   ]
  },
  {
   "cell_type": "code",
   "execution_count": 21,
   "metadata": {},
   "outputs": [],
   "source": [
    "def moving_average_convergence_divergence(ema_12, ema_26):\n",
    "    return (ema_12 - ema_26)"
   ]
  },
  {
   "cell_type": "code",
   "execution_count": 22,
   "metadata": {},
   "outputs": [],
   "source": [
    "def momentum(close):\n",
    "    return ((close/close.shift(14))*100)"
   ]
  },
  {
   "cell_type": "code",
   "execution_count": 23,
   "metadata": {},
   "outputs": [],
   "source": [
    "def change(close):\n",
    "    return (close.shift(-1) - close)"
   ]
  },
  {
   "cell_type": "code",
   "execution_count": 24,
   "metadata": {},
   "outputs": [],
   "source": [
    "def direction(change):\n",
    "    return (np.where(change>0, 1, 0))"
   ]
  },
  {
   "cell_type": "code",
   "execution_count": 25,
   "metadata": {},
   "outputs": [],
   "source": [
    "def relative_strength_index(direction):\n",
    "    return (100-(100/(1+(direction.rolling(14).sum()/14)/(14-direction.rolling(14).sum())/14)))"
   ]
  },
  {
   "cell_type": "code",
   "execution_count": 26,
   "metadata": {},
   "outputs": [],
   "source": [
    "def channel_commodity_index(df, ndays): \n",
    "    df['TP'] = (df['High'] + df['Low'] + df['Close']) / 3 \n",
    "    df['sma'] = df['TP'].rolling(ndays).mean()\n",
    "    df['mad'] = df['TP'].rolling(ndays).apply(lambda x: pd.Series(x).mad())\n",
    "    df['CCI'] = (df['TP'] - df['sma']) / (0.015 * df['mad']) \n",
    "    return df['CCI']"
   ]
  },
  {
   "cell_type": "code",
   "execution_count": 27,
   "metadata": {},
   "outputs": [],
   "source": [
    "def disparity_index(close):\n",
    "    return (((close - close.rolling(14).mean())/(close.rolling(14).mean()))*100)"
   ]
  },
  {
   "cell_type": "code",
   "execution_count": 28,
   "metadata": {},
   "outputs": [],
   "source": [
    "def get_adx(high, low, close, lookback):\n",
    "    plus_dm = high.diff()\n",
    "    minus_dm = low.diff()\n",
    "    plus_dm[plus_dm < 0] = 0\n",
    "    minus_dm[minus_dm > 0] = 0\n",
    "    \n",
    "    tr1 = pd.DataFrame(high - low)\n",
    "    tr2 = pd.DataFrame(abs(high - close.shift(1)))\n",
    "    tr3 = pd.DataFrame(abs(low - close.shift(1)))\n",
    "    frames = [tr1, tr2, tr3]\n",
    "    tr = pd.concat(frames, axis = 1, join = 'inner').max(axis = 1)\n",
    "    atr = tr.rolling(lookback).mean()\n",
    "    \n",
    "    plus_di = 100 * (plus_dm.ewm(alpha = 1/lookback).mean() / atr)\n",
    "    minus_di = abs(100 * (minus_dm.ewm(alpha = 1/lookback).mean() / atr))\n",
    "    dx = (abs(plus_di - minus_di) / abs(plus_di + minus_di)) * 100\n",
    "    adx = ((dx.shift(1) * (lookback - 1)) + dx) / lookback\n",
    "    adx_smooth = adx.ewm(alpha = 1/lookback).mean()\n",
    "    return adx_smooth"
   ]
  },
  {
   "cell_type": "code",
   "execution_count": 29,
   "metadata": {},
   "outputs": [],
   "source": [
    "def aroon(close):\n",
    "    return (ta.trend.AroonIndicator(close, 25, True).aroon_indicator())"
   ]
  },
  {
   "cell_type": "code",
   "execution_count": 30,
   "metadata": {},
   "outputs": [],
   "source": [
    "def compute_all_indicators(data):\n",
    "    data['SMA5'] = simple_moving_average_5(data['Close'])\n",
    "    data['SMA10'] = simple_moving_average_10(data['Close'])\n",
    "    data['StochasticK'] = stochastic_k(data['High'], data['Low'], data['Close'])\n",
    "    data['StochasticD'] = stochastic_d(data['StochasticK'])\n",
    "    data['LarryWilliamsR'] = larry_williams_r(data['High'], data['Low'], data['Close'])\n",
    "    data['ROC'] = rate_of_change(data['Close'])\n",
    "    data['PVT'] = price_volume_trend(data['Close'], data['Volume'])\n",
    "    data['ADO'] = accumulation_distribution_oscillator(data['High'], data['Low'], data['Close'])\n",
    "    data['WMA10'] = weighted_moving_average_10(data['Close'])\n",
    "    data['EMA12'] = exponential_moving_average_12(data['Close'])\n",
    "    data['EMA26'] = exponential_moving_average_26(data['Close'])\n",
    "    data['MACD'] = moving_average_convergence_divergence(data['EMA12'], data['EMA26'])\n",
    "    data['Momentum'] = momentum(data['Close'])\n",
    "    data['Change'] = change(data['Close'])\n",
    "    data['Direction'] = direction(data['Change'])\n",
    "    data['RSI'] = relative_strength_index(data['Direction'])\n",
    "    data['CCI'] = channel_commodity_index(data, 14)\n",
    "    data['DI'] = disparity_index(data['Close'])\n",
    "    data['ADX'] = get_adx(data['High'], data['Low'], data['Close'], 14)\n",
    "    data['Aroon'] = aroon(data['Close'])    \n",
    "    return data"
   ]
  },
  {
   "cell_type": "code",
   "execution_count": 31,
   "metadata": {},
   "outputs": [
    {
     "data": {
      "text/html": [
       "<div>\n",
       "<style scoped>\n",
       "    .dataframe tbody tr th:only-of-type {\n",
       "        vertical-align: middle;\n",
       "    }\n",
       "\n",
       "    .dataframe tbody tr th {\n",
       "        vertical-align: top;\n",
       "    }\n",
       "\n",
       "    .dataframe thead th {\n",
       "        text-align: right;\n",
       "    }\n",
       "</style>\n",
       "<table border=\"1\" class=\"dataframe\">\n",
       "  <thead>\n",
       "    <tr style=\"text-align: right;\">\n",
       "      <th></th>\n",
       "      <th>Date</th>\n",
       "      <th>Open</th>\n",
       "      <th>High</th>\n",
       "      <th>Low</th>\n",
       "      <th>Close</th>\n",
       "      <th>Adj Close</th>\n",
       "      <th>Volume</th>\n",
       "      <th>SMA5</th>\n",
       "      <th>SMA10</th>\n",
       "      <th>StochasticK</th>\n",
       "      <th>...</th>\n",
       "      <th>Change</th>\n",
       "      <th>Direction</th>\n",
       "      <th>RSI</th>\n",
       "      <th>TP</th>\n",
       "      <th>sma</th>\n",
       "      <th>mad</th>\n",
       "      <th>CCI</th>\n",
       "      <th>DI</th>\n",
       "      <th>ADX</th>\n",
       "      <th>Aroon</th>\n",
       "    </tr>\n",
       "  </thead>\n",
       "  <tbody>\n",
       "    <tr>\n",
       "      <th>0</th>\n",
       "      <td>5/15/1997</td>\n",
       "      <td>2.437500</td>\n",
       "      <td>2.500000</td>\n",
       "      <td>1.927083</td>\n",
       "      <td>1.958333</td>\n",
       "      <td>1.958333</td>\n",
       "      <td>72156000</td>\n",
       "      <td>1.958333</td>\n",
       "      <td>1.958333</td>\n",
       "      <td>NaN</td>\n",
       "      <td>...</td>\n",
       "      <td>-0.229166</td>\n",
       "      <td>0</td>\n",
       "      <td>NaN</td>\n",
       "      <td>2.128472</td>\n",
       "      <td>NaN</td>\n",
       "      <td>NaN</td>\n",
       "      <td>NaN</td>\n",
       "      <td>NaN</td>\n",
       "      <td>NaN</td>\n",
       "      <td>0.0</td>\n",
       "    </tr>\n",
       "    <tr>\n",
       "      <th>1</th>\n",
       "      <td>5/16/1997</td>\n",
       "      <td>1.968750</td>\n",
       "      <td>1.979167</td>\n",
       "      <td>1.708333</td>\n",
       "      <td>1.729167</td>\n",
       "      <td>1.729167</td>\n",
       "      <td>14700000</td>\n",
       "      <td>1.843750</td>\n",
       "      <td>1.843750</td>\n",
       "      <td>NaN</td>\n",
       "      <td>...</td>\n",
       "      <td>-0.020834</td>\n",
       "      <td>0</td>\n",
       "      <td>NaN</td>\n",
       "      <td>1.805556</td>\n",
       "      <td>NaN</td>\n",
       "      <td>NaN</td>\n",
       "      <td>NaN</td>\n",
       "      <td>NaN</td>\n",
       "      <td>NaN</td>\n",
       "      <td>-4.0</td>\n",
       "    </tr>\n",
       "    <tr>\n",
       "      <th>2</th>\n",
       "      <td>5/19/1997</td>\n",
       "      <td>1.760417</td>\n",
       "      <td>1.770833</td>\n",
       "      <td>1.625000</td>\n",
       "      <td>1.708333</td>\n",
       "      <td>1.708333</td>\n",
       "      <td>6106800</td>\n",
       "      <td>1.798611</td>\n",
       "      <td>1.798611</td>\n",
       "      <td>NaN</td>\n",
       "      <td>...</td>\n",
       "      <td>-0.072916</td>\n",
       "      <td>0</td>\n",
       "      <td>NaN</td>\n",
       "      <td>1.701389</td>\n",
       "      <td>NaN</td>\n",
       "      <td>NaN</td>\n",
       "      <td>NaN</td>\n",
       "      <td>NaN</td>\n",
       "      <td>NaN</td>\n",
       "      <td>-8.0</td>\n",
       "    </tr>\n",
       "    <tr>\n",
       "      <th>3</th>\n",
       "      <td>5/20/1997</td>\n",
       "      <td>1.729167</td>\n",
       "      <td>1.750000</td>\n",
       "      <td>1.635417</td>\n",
       "      <td>1.635417</td>\n",
       "      <td>1.635417</td>\n",
       "      <td>5467200</td>\n",
       "      <td>1.757812</td>\n",
       "      <td>1.757812</td>\n",
       "      <td>NaN</td>\n",
       "      <td>...</td>\n",
       "      <td>-0.208334</td>\n",
       "      <td>0</td>\n",
       "      <td>NaN</td>\n",
       "      <td>1.673611</td>\n",
       "      <td>NaN</td>\n",
       "      <td>NaN</td>\n",
       "      <td>NaN</td>\n",
       "      <td>NaN</td>\n",
       "      <td>NaN</td>\n",
       "      <td>-12.0</td>\n",
       "    </tr>\n",
       "    <tr>\n",
       "      <th>4</th>\n",
       "      <td>5/21/1997</td>\n",
       "      <td>1.635417</td>\n",
       "      <td>1.645833</td>\n",
       "      <td>1.375000</td>\n",
       "      <td>1.427083</td>\n",
       "      <td>1.427083</td>\n",
       "      <td>18853200</td>\n",
       "      <td>1.691667</td>\n",
       "      <td>1.691667</td>\n",
       "      <td>NaN</td>\n",
       "      <td>...</td>\n",
       "      <td>-0.031250</td>\n",
       "      <td>0</td>\n",
       "      <td>NaN</td>\n",
       "      <td>1.482639</td>\n",
       "      <td>NaN</td>\n",
       "      <td>NaN</td>\n",
       "      <td>NaN</td>\n",
       "      <td>NaN</td>\n",
       "      <td>NaN</td>\n",
       "      <td>-16.0</td>\n",
       "    </tr>\n",
       "    <tr>\n",
       "      <th>...</th>\n",
       "      <td>...</td>\n",
       "      <td>...</td>\n",
       "      <td>...</td>\n",
       "      <td>...</td>\n",
       "      <td>...</td>\n",
       "      <td>...</td>\n",
       "      <td>...</td>\n",
       "      <td>...</td>\n",
       "      <td>...</td>\n",
       "      <td>...</td>\n",
       "      <td>...</td>\n",
       "      <td>...</td>\n",
       "      <td>...</td>\n",
       "      <td>...</td>\n",
       "      <td>...</td>\n",
       "      <td>...</td>\n",
       "      <td>...</td>\n",
       "      <td>...</td>\n",
       "      <td>...</td>\n",
       "      <td>...</td>\n",
       "      <td>...</td>\n",
       "    </tr>\n",
       "    <tr>\n",
       "      <th>6152</th>\n",
       "      <td>10/25/2021</td>\n",
       "      <td>3335.000000</td>\n",
       "      <td>3347.800049</td>\n",
       "      <td>3297.699951</td>\n",
       "      <td>3320.370117</td>\n",
       "      <td>3320.370117</td>\n",
       "      <td>2226000</td>\n",
       "      <td>3390.028027</td>\n",
       "      <td>3363.737036</td>\n",
       "      <td>46.075539</td>\n",
       "      <td>...</td>\n",
       "      <td>55.699951</td>\n",
       "      <td>1</td>\n",
       "      <td>0.675676</td>\n",
       "      <td>3321.956706</td>\n",
       "      <td>3336.762172</td>\n",
       "      <td>62.706724</td>\n",
       "      <td>-15.740435</td>\n",
       "      <td>-0.538225</td>\n",
       "      <td>22.462941</td>\n",
       "      <td>40.0</td>\n",
       "    </tr>\n",
       "    <tr>\n",
       "      <th>6153</th>\n",
       "      <td>10/26/2021</td>\n",
       "      <td>3349.510010</td>\n",
       "      <td>3416.120117</td>\n",
       "      <td>3343.979980</td>\n",
       "      <td>3376.070068</td>\n",
       "      <td>3376.070068</td>\n",
       "      <td>2698300</td>\n",
       "      <td>3376.412061</td>\n",
       "      <td>3376.611035</td>\n",
       "      <td>61.695644</td>\n",
       "      <td>...</td>\n",
       "      <td>16.419922</td>\n",
       "      <td>1</td>\n",
       "      <td>0.675676</td>\n",
       "      <td>3378.723388</td>\n",
       "      <td>3346.552647</td>\n",
       "      <td>58.910708</td>\n",
       "      <td>36.406218</td>\n",
       "      <td>0.884063</td>\n",
       "      <td>21.835137</td>\n",
       "      <td>40.0</td>\n",
       "    </tr>\n",
       "    <tr>\n",
       "      <th>6154</th>\n",
       "      <td>10/27/2021</td>\n",
       "      <td>3388.000000</td>\n",
       "      <td>3437.000000</td>\n",
       "      <td>3371.449951</td>\n",
       "      <td>3392.489990</td>\n",
       "      <td>3392.489990</td>\n",
       "      <td>2702200</td>\n",
       "      <td>3371.898047</td>\n",
       "      <td>3387.432031</td>\n",
       "      <td>68.942496</td>\n",
       "      <td>...</td>\n",
       "      <td>54.080078</td>\n",
       "      <td>1</td>\n",
       "      <td>0.910010</td>\n",
       "      <td>3400.313314</td>\n",
       "      <td>3353.450265</td>\n",
       "      <td>58.707812</td>\n",
       "      <td>53.216142</td>\n",
       "      <td>1.180228</td>\n",
       "      <td>20.421165</td>\n",
       "      <td>40.0</td>\n",
       "    </tr>\n",
       "    <tr>\n",
       "      <th>6155</th>\n",
       "      <td>10/28/2021</td>\n",
       "      <td>3402.100098</td>\n",
       "      <td>3479.000000</td>\n",
       "      <td>3386.000000</td>\n",
       "      <td>3446.570068</td>\n",
       "      <td>3446.570068</td>\n",
       "      <td>5708700</td>\n",
       "      <td>3374.210058</td>\n",
       "      <td>3402.103027</td>\n",
       "      <td>86.638952</td>\n",
       "      <td>...</td>\n",
       "      <td>-74.140136</td>\n",
       "      <td>0</td>\n",
       "      <td>0.910010</td>\n",
       "      <td>3437.190023</td>\n",
       "      <td>3363.291219</td>\n",
       "      <td>58.017979</td>\n",
       "      <td>84.914831</td>\n",
       "      <td>2.448428</td>\n",
       "      <td>19.442353</td>\n",
       "      <td>40.0</td>\n",
       "    </tr>\n",
       "    <tr>\n",
       "      <th>6156</th>\n",
       "      <td>10/29/2021</td>\n",
       "      <td>3300.020020</td>\n",
       "      <td>3374.820068</td>\n",
       "      <td>3273.320068</td>\n",
       "      <td>3372.429932</td>\n",
       "      <td>3372.429932</td>\n",
       "      <td>6469500</td>\n",
       "      <td>3381.586035</td>\n",
       "      <td>3398.444018</td>\n",
       "      <td>56.093408</td>\n",
       "      <td>...</td>\n",
       "      <td>NaN</td>\n",
       "      <td>0</td>\n",
       "      <td>0.675676</td>\n",
       "      <td>3340.190023</td>\n",
       "      <td>3369.090739</td>\n",
       "      <td>51.065360</td>\n",
       "      <td>-37.730360</td>\n",
       "      <td>-0.023105</td>\n",
       "      <td>19.055512</td>\n",
       "      <td>40.0</td>\n",
       "    </tr>\n",
       "  </tbody>\n",
       "</table>\n",
       "<p>6157 rows × 30 columns</p>\n",
       "</div>"
      ],
      "text/plain": [
       "            Date         Open         High          Low        Close  \\\n",
       "0      5/15/1997     2.437500     2.500000     1.927083     1.958333   \n",
       "1      5/16/1997     1.968750     1.979167     1.708333     1.729167   \n",
       "2      5/19/1997     1.760417     1.770833     1.625000     1.708333   \n",
       "3      5/20/1997     1.729167     1.750000     1.635417     1.635417   \n",
       "4      5/21/1997     1.635417     1.645833     1.375000     1.427083   \n",
       "...          ...          ...          ...          ...          ...   \n",
       "6152  10/25/2021  3335.000000  3347.800049  3297.699951  3320.370117   \n",
       "6153  10/26/2021  3349.510010  3416.120117  3343.979980  3376.070068   \n",
       "6154  10/27/2021  3388.000000  3437.000000  3371.449951  3392.489990   \n",
       "6155  10/28/2021  3402.100098  3479.000000  3386.000000  3446.570068   \n",
       "6156  10/29/2021  3300.020020  3374.820068  3273.320068  3372.429932   \n",
       "\n",
       "        Adj Close    Volume         SMA5        SMA10  StochasticK  ...  \\\n",
       "0        1.958333  72156000     1.958333     1.958333          NaN  ...   \n",
       "1        1.729167  14700000     1.843750     1.843750          NaN  ...   \n",
       "2        1.708333   6106800     1.798611     1.798611          NaN  ...   \n",
       "3        1.635417   5467200     1.757812     1.757812          NaN  ...   \n",
       "4        1.427083  18853200     1.691667     1.691667          NaN  ...   \n",
       "...           ...       ...          ...          ...          ...  ...   \n",
       "6152  3320.370117   2226000  3390.028027  3363.737036    46.075539  ...   \n",
       "6153  3376.070068   2698300  3376.412061  3376.611035    61.695644  ...   \n",
       "6154  3392.489990   2702200  3371.898047  3387.432031    68.942496  ...   \n",
       "6155  3446.570068   5708700  3374.210058  3402.103027    86.638952  ...   \n",
       "6156  3372.429932   6469500  3381.586035  3398.444018    56.093408  ...   \n",
       "\n",
       "         Change  Direction       RSI           TP          sma        mad  \\\n",
       "0     -0.229166          0       NaN     2.128472          NaN        NaN   \n",
       "1     -0.020834          0       NaN     1.805556          NaN        NaN   \n",
       "2     -0.072916          0       NaN     1.701389          NaN        NaN   \n",
       "3     -0.208334          0       NaN     1.673611          NaN        NaN   \n",
       "4     -0.031250          0       NaN     1.482639          NaN        NaN   \n",
       "...         ...        ...       ...          ...          ...        ...   \n",
       "6152  55.699951          1  0.675676  3321.956706  3336.762172  62.706724   \n",
       "6153  16.419922          1  0.675676  3378.723388  3346.552647  58.910708   \n",
       "6154  54.080078          1  0.910010  3400.313314  3353.450265  58.707812   \n",
       "6155 -74.140136          0  0.910010  3437.190023  3363.291219  58.017979   \n",
       "6156        NaN          0  0.675676  3340.190023  3369.090739  51.065360   \n",
       "\n",
       "            CCI        DI        ADX  Aroon  \n",
       "0           NaN       NaN        NaN    0.0  \n",
       "1           NaN       NaN        NaN   -4.0  \n",
       "2           NaN       NaN        NaN   -8.0  \n",
       "3           NaN       NaN        NaN  -12.0  \n",
       "4           NaN       NaN        NaN  -16.0  \n",
       "...         ...       ...        ...    ...  \n",
       "6152 -15.740435 -0.538225  22.462941   40.0  \n",
       "6153  36.406218  0.884063  21.835137   40.0  \n",
       "6154  53.216142  1.180228  20.421165   40.0  \n",
       "6155  84.914831  2.448428  19.442353   40.0  \n",
       "6156 -37.730360 -0.023105  19.055512   40.0  \n",
       "\n",
       "[6157 rows x 30 columns]"
      ]
     },
     "execution_count": 31,
     "metadata": {},
     "output_type": "execute_result"
    }
   ],
   "source": [
    "complete_data = compute_all_indicators(data)\n",
    "complete_data"
   ]
  },
  {
   "cell_type": "code",
   "execution_count": 32,
   "metadata": {},
   "outputs": [],
   "source": [
    "complete_data = complete_data.dropna()"
   ]
  },
  {
   "cell_type": "code",
   "execution_count": 33,
   "metadata": {},
   "outputs": [
    {
     "data": {
      "text/html": [
       "<div>\n",
       "<style scoped>\n",
       "    .dataframe tbody tr th:only-of-type {\n",
       "        vertical-align: middle;\n",
       "    }\n",
       "\n",
       "    .dataframe tbody tr th {\n",
       "        vertical-align: top;\n",
       "    }\n",
       "\n",
       "    .dataframe thead th {\n",
       "        text-align: right;\n",
       "    }\n",
       "</style>\n",
       "<table border=\"1\" class=\"dataframe\">\n",
       "  <thead>\n",
       "    <tr style=\"text-align: right;\">\n",
       "      <th></th>\n",
       "      <th>Date</th>\n",
       "      <th>Open</th>\n",
       "      <th>High</th>\n",
       "      <th>Low</th>\n",
       "      <th>Close</th>\n",
       "      <th>Adj Close</th>\n",
       "      <th>Volume</th>\n",
       "      <th>SMA5</th>\n",
       "      <th>SMA10</th>\n",
       "      <th>StochasticK</th>\n",
       "      <th>...</th>\n",
       "      <th>Change</th>\n",
       "      <th>Direction</th>\n",
       "      <th>RSI</th>\n",
       "      <th>TP</th>\n",
       "      <th>sma</th>\n",
       "      <th>mad</th>\n",
       "      <th>CCI</th>\n",
       "      <th>DI</th>\n",
       "      <th>ADX</th>\n",
       "      <th>Aroon</th>\n",
       "    </tr>\n",
       "  </thead>\n",
       "  <tbody>\n",
       "    <tr>\n",
       "      <th>14</th>\n",
       "      <td>6/5/1997</td>\n",
       "      <td>1.416667</td>\n",
       "      <td>1.541667</td>\n",
       "      <td>1.375000</td>\n",
       "      <td>1.541667</td>\n",
       "      <td>1.541667</td>\n",
       "      <td>5672400</td>\n",
       "      <td>1.489584</td>\n",
       "      <td>1.496354</td>\n",
       "      <td>34.375033</td>\n",
       "      <td>...</td>\n",
       "      <td>0.114583</td>\n",
       "      <td>1</td>\n",
       "      <td>0.282646</td>\n",
       "      <td>1.486111</td>\n",
       "      <td>1.540303</td>\n",
       "      <td>0.086788</td>\n",
       "      <td>-41.627398</td>\n",
       "      <td>0.558137</td>\n",
       "      <td>50.226281</td>\n",
       "      <td>-20.0</td>\n",
       "    </tr>\n",
       "    <tr>\n",
       "      <th>15</th>\n",
       "      <td>6/6/1997</td>\n",
       "      <td>1.515625</td>\n",
       "      <td>1.708333</td>\n",
       "      <td>1.510417</td>\n",
       "      <td>1.656250</td>\n",
       "      <td>1.656250</td>\n",
       "      <td>7807200</td>\n",
       "      <td>1.520834</td>\n",
       "      <td>1.522396</td>\n",
       "      <td>75.000055</td>\n",
       "      <td>...</td>\n",
       "      <td>0.031250</td>\n",
       "      <td>1</td>\n",
       "      <td>0.381194</td>\n",
       "      <td>1.625000</td>\n",
       "      <td>1.527406</td>\n",
       "      <td>0.070206</td>\n",
       "      <td>92.673942</td>\n",
       "      <td>8.400292</td>\n",
       "      <td>43.640597</td>\n",
       "      <td>-20.0</td>\n",
       "    </tr>\n",
       "    <tr>\n",
       "      <th>16</th>\n",
       "      <td>6/9/1997</td>\n",
       "      <td>1.656250</td>\n",
       "      <td>1.708333</td>\n",
       "      <td>1.656250</td>\n",
       "      <td>1.687500</td>\n",
       "      <td>1.687500</td>\n",
       "      <td>2352000</td>\n",
       "      <td>1.556250</td>\n",
       "      <td>1.541146</td>\n",
       "      <td>85.714286</td>\n",
       "      <td>...</td>\n",
       "      <td>-0.104167</td>\n",
       "      <td>0</td>\n",
       "      <td>0.381194</td>\n",
       "      <td>1.684028</td>\n",
       "      <td>1.526166</td>\n",
       "      <td>0.068612</td>\n",
       "      <td>153.386632</td>\n",
       "      <td>10.553252</td>\n",
       "      <td>30.868253</td>\n",
       "      <td>-20.0</td>\n",
       "    </tr>\n",
       "    <tr>\n",
       "      <th>17</th>\n",
       "      <td>6/10/1997</td>\n",
       "      <td>1.708333</td>\n",
       "      <td>1.708333</td>\n",
       "      <td>1.531250</td>\n",
       "      <td>1.583333</td>\n",
       "      <td>1.583333</td>\n",
       "      <td>5458800</td>\n",
       "      <td>1.577083</td>\n",
       "      <td>1.541146</td>\n",
       "      <td>68.421026</td>\n",
       "      <td>...</td>\n",
       "      <td>-0.041666</td>\n",
       "      <td>0</td>\n",
       "      <td>0.381194</td>\n",
       "      <td>1.607639</td>\n",
       "      <td>1.521453</td>\n",
       "      <td>0.062553</td>\n",
       "      <td>91.852991</td>\n",
       "      <td>3.982389</td>\n",
       "      <td>24.801838</td>\n",
       "      <td>-20.0</td>\n",
       "    </tr>\n",
       "    <tr>\n",
       "      <th>18</th>\n",
       "      <td>6/11/1997</td>\n",
       "      <td>1.593750</td>\n",
       "      <td>1.604167</td>\n",
       "      <td>1.531250</td>\n",
       "      <td>1.541667</td>\n",
       "      <td>1.541667</td>\n",
       "      <td>1188000</td>\n",
       "      <td>1.602083</td>\n",
       "      <td>1.542188</td>\n",
       "      <td>57.894870</td>\n",
       "      <td>...</td>\n",
       "      <td>0.062500</td>\n",
       "      <td>1</td>\n",
       "      <td>0.507614</td>\n",
       "      <td>1.559028</td>\n",
       "      <td>1.526910</td>\n",
       "      <td>0.063244</td>\n",
       "      <td>33.856459</td>\n",
       "      <td>0.704759</td>\n",
       "      <td>24.430750</td>\n",
       "      <td>-20.0</td>\n",
       "    </tr>\n",
       "    <tr>\n",
       "      <th>...</th>\n",
       "      <td>...</td>\n",
       "      <td>...</td>\n",
       "      <td>...</td>\n",
       "      <td>...</td>\n",
       "      <td>...</td>\n",
       "      <td>...</td>\n",
       "      <td>...</td>\n",
       "      <td>...</td>\n",
       "      <td>...</td>\n",
       "      <td>...</td>\n",
       "      <td>...</td>\n",
       "      <td>...</td>\n",
       "      <td>...</td>\n",
       "      <td>...</td>\n",
       "      <td>...</td>\n",
       "      <td>...</td>\n",
       "      <td>...</td>\n",
       "      <td>...</td>\n",
       "      <td>...</td>\n",
       "      <td>...</td>\n",
       "      <td>...</td>\n",
       "    </tr>\n",
       "    <tr>\n",
       "      <th>6151</th>\n",
       "      <td>10/22/2021</td>\n",
       "      <td>3421.000000</td>\n",
       "      <td>3429.840088</td>\n",
       "      <td>3331.300049</td>\n",
       "      <td>3335.550049</td>\n",
       "      <td>3335.550049</td>\n",
       "      <td>3133800</td>\n",
       "      <td>3415.302002</td>\n",
       "      <td>3356.330029</td>\n",
       "      <td>51.820291</td>\n",
       "      <td>...</td>\n",
       "      <td>-15.179932</td>\n",
       "      <td>0</td>\n",
       "      <td>0.675676</td>\n",
       "      <td>3365.563395</td>\n",
       "      <td>3330.055501</td>\n",
       "      <td>68.455299</td>\n",
       "      <td>34.580127</td>\n",
       "      <td>0.129382</td>\n",
       "      <td>23.568887</td>\n",
       "      <td>40.0</td>\n",
       "    </tr>\n",
       "    <tr>\n",
       "      <th>6152</th>\n",
       "      <td>10/25/2021</td>\n",
       "      <td>3335.000000</td>\n",
       "      <td>3347.800049</td>\n",
       "      <td>3297.699951</td>\n",
       "      <td>3320.370117</td>\n",
       "      <td>3320.370117</td>\n",
       "      <td>2226000</td>\n",
       "      <td>3390.028027</td>\n",
       "      <td>3363.737036</td>\n",
       "      <td>46.075539</td>\n",
       "      <td>...</td>\n",
       "      <td>55.699951</td>\n",
       "      <td>1</td>\n",
       "      <td>0.675676</td>\n",
       "      <td>3321.956706</td>\n",
       "      <td>3336.762172</td>\n",
       "      <td>62.706724</td>\n",
       "      <td>-15.740435</td>\n",
       "      <td>-0.538225</td>\n",
       "      <td>22.462941</td>\n",
       "      <td>40.0</td>\n",
       "    </tr>\n",
       "    <tr>\n",
       "      <th>6153</th>\n",
       "      <td>10/26/2021</td>\n",
       "      <td>3349.510010</td>\n",
       "      <td>3416.120117</td>\n",
       "      <td>3343.979980</td>\n",
       "      <td>3376.070068</td>\n",
       "      <td>3376.070068</td>\n",
       "      <td>2698300</td>\n",
       "      <td>3376.412061</td>\n",
       "      <td>3376.611035</td>\n",
       "      <td>61.695644</td>\n",
       "      <td>...</td>\n",
       "      <td>16.419922</td>\n",
       "      <td>1</td>\n",
       "      <td>0.675676</td>\n",
       "      <td>3378.723388</td>\n",
       "      <td>3346.552647</td>\n",
       "      <td>58.910708</td>\n",
       "      <td>36.406218</td>\n",
       "      <td>0.884063</td>\n",
       "      <td>21.835137</td>\n",
       "      <td>40.0</td>\n",
       "    </tr>\n",
       "    <tr>\n",
       "      <th>6154</th>\n",
       "      <td>10/27/2021</td>\n",
       "      <td>3388.000000</td>\n",
       "      <td>3437.000000</td>\n",
       "      <td>3371.449951</td>\n",
       "      <td>3392.489990</td>\n",
       "      <td>3392.489990</td>\n",
       "      <td>2702200</td>\n",
       "      <td>3371.898047</td>\n",
       "      <td>3387.432031</td>\n",
       "      <td>68.942496</td>\n",
       "      <td>...</td>\n",
       "      <td>54.080078</td>\n",
       "      <td>1</td>\n",
       "      <td>0.910010</td>\n",
       "      <td>3400.313314</td>\n",
       "      <td>3353.450265</td>\n",
       "      <td>58.707812</td>\n",
       "      <td>53.216142</td>\n",
       "      <td>1.180228</td>\n",
       "      <td>20.421165</td>\n",
       "      <td>40.0</td>\n",
       "    </tr>\n",
       "    <tr>\n",
       "      <th>6155</th>\n",
       "      <td>10/28/2021</td>\n",
       "      <td>3402.100098</td>\n",
       "      <td>3479.000000</td>\n",
       "      <td>3386.000000</td>\n",
       "      <td>3446.570068</td>\n",
       "      <td>3446.570068</td>\n",
       "      <td>5708700</td>\n",
       "      <td>3374.210058</td>\n",
       "      <td>3402.103027</td>\n",
       "      <td>86.638952</td>\n",
       "      <td>...</td>\n",
       "      <td>-74.140136</td>\n",
       "      <td>0</td>\n",
       "      <td>0.910010</td>\n",
       "      <td>3437.190023</td>\n",
       "      <td>3363.291219</td>\n",
       "      <td>58.017979</td>\n",
       "      <td>84.914831</td>\n",
       "      <td>2.448428</td>\n",
       "      <td>19.442353</td>\n",
       "      <td>40.0</td>\n",
       "    </tr>\n",
       "  </tbody>\n",
       "</table>\n",
       "<p>6142 rows × 30 columns</p>\n",
       "</div>"
      ],
      "text/plain": [
       "            Date         Open         High          Low        Close  \\\n",
       "14      6/5/1997     1.416667     1.541667     1.375000     1.541667   \n",
       "15      6/6/1997     1.515625     1.708333     1.510417     1.656250   \n",
       "16      6/9/1997     1.656250     1.708333     1.656250     1.687500   \n",
       "17     6/10/1997     1.708333     1.708333     1.531250     1.583333   \n",
       "18     6/11/1997     1.593750     1.604167     1.531250     1.541667   \n",
       "...          ...          ...          ...          ...          ...   \n",
       "6151  10/22/2021  3421.000000  3429.840088  3331.300049  3335.550049   \n",
       "6152  10/25/2021  3335.000000  3347.800049  3297.699951  3320.370117   \n",
       "6153  10/26/2021  3349.510010  3416.120117  3343.979980  3376.070068   \n",
       "6154  10/27/2021  3388.000000  3437.000000  3371.449951  3392.489990   \n",
       "6155  10/28/2021  3402.100098  3479.000000  3386.000000  3446.570068   \n",
       "\n",
       "        Adj Close   Volume         SMA5        SMA10  StochasticK  ...  \\\n",
       "14       1.541667  5672400     1.489584     1.496354    34.375033  ...   \n",
       "15       1.656250  7807200     1.520834     1.522396    75.000055  ...   \n",
       "16       1.687500  2352000     1.556250     1.541146    85.714286  ...   \n",
       "17       1.583333  5458800     1.577083     1.541146    68.421026  ...   \n",
       "18       1.541667  1188000     1.602083     1.542188    57.894870  ...   \n",
       "...           ...      ...          ...          ...          ...  ...   \n",
       "6151  3335.550049  3133800  3415.302002  3356.330029    51.820291  ...   \n",
       "6152  3320.370117  2226000  3390.028027  3363.737036    46.075539  ...   \n",
       "6153  3376.070068  2698300  3376.412061  3376.611035    61.695644  ...   \n",
       "6154  3392.489990  2702200  3371.898047  3387.432031    68.942496  ...   \n",
       "6155  3446.570068  5708700  3374.210058  3402.103027    86.638952  ...   \n",
       "\n",
       "         Change  Direction       RSI           TP          sma        mad  \\\n",
       "14     0.114583          1  0.282646     1.486111     1.540303   0.086788   \n",
       "15     0.031250          1  0.381194     1.625000     1.527406   0.070206   \n",
       "16    -0.104167          0  0.381194     1.684028     1.526166   0.068612   \n",
       "17    -0.041666          0  0.381194     1.607639     1.521453   0.062553   \n",
       "18     0.062500          1  0.507614     1.559028     1.526910   0.063244   \n",
       "...         ...        ...       ...          ...          ...        ...   \n",
       "6151 -15.179932          0  0.675676  3365.563395  3330.055501  68.455299   \n",
       "6152  55.699951          1  0.675676  3321.956706  3336.762172  62.706724   \n",
       "6153  16.419922          1  0.675676  3378.723388  3346.552647  58.910708   \n",
       "6154  54.080078          1  0.910010  3400.313314  3353.450265  58.707812   \n",
       "6155 -74.140136          0  0.910010  3437.190023  3363.291219  58.017979   \n",
       "\n",
       "             CCI         DI        ADX  Aroon  \n",
       "14    -41.627398   0.558137  50.226281  -20.0  \n",
       "15     92.673942   8.400292  43.640597  -20.0  \n",
       "16    153.386632  10.553252  30.868253  -20.0  \n",
       "17     91.852991   3.982389  24.801838  -20.0  \n",
       "18     33.856459   0.704759  24.430750  -20.0  \n",
       "...          ...        ...        ...    ...  \n",
       "6151   34.580127   0.129382  23.568887   40.0  \n",
       "6152  -15.740435  -0.538225  22.462941   40.0  \n",
       "6153   36.406218   0.884063  21.835137   40.0  \n",
       "6154   53.216142   1.180228  20.421165   40.0  \n",
       "6155   84.914831   2.448428  19.442353   40.0  \n",
       "\n",
       "[6142 rows x 30 columns]"
      ]
     },
     "execution_count": 33,
     "metadata": {},
     "output_type": "execute_result"
    }
   ],
   "source": [
    "complete_data"
   ]
  },
  {
   "cell_type": "code",
   "execution_count": 34,
   "metadata": {},
   "outputs": [],
   "source": [
    "complete_data = complete_data.drop(['TP', 'sma', 'mad', 'Change'], axis=1)"
   ]
  },
  {
   "cell_type": "code",
   "execution_count": 35,
   "metadata": {},
   "outputs": [
    {
     "data": {
      "text/html": [
       "<div>\n",
       "<style scoped>\n",
       "    .dataframe tbody tr th:only-of-type {\n",
       "        vertical-align: middle;\n",
       "    }\n",
       "\n",
       "    .dataframe tbody tr th {\n",
       "        vertical-align: top;\n",
       "    }\n",
       "\n",
       "    .dataframe thead th {\n",
       "        text-align: right;\n",
       "    }\n",
       "</style>\n",
       "<table border=\"1\" class=\"dataframe\">\n",
       "  <thead>\n",
       "    <tr style=\"text-align: right;\">\n",
       "      <th></th>\n",
       "      <th>Date</th>\n",
       "      <th>Open</th>\n",
       "      <th>High</th>\n",
       "      <th>Low</th>\n",
       "      <th>Close</th>\n",
       "      <th>Adj Close</th>\n",
       "      <th>Volume</th>\n",
       "      <th>SMA5</th>\n",
       "      <th>SMA10</th>\n",
       "      <th>StochasticK</th>\n",
       "      <th>...</th>\n",
       "      <th>EMA12</th>\n",
       "      <th>EMA26</th>\n",
       "      <th>MACD</th>\n",
       "      <th>Momentum</th>\n",
       "      <th>Direction</th>\n",
       "      <th>RSI</th>\n",
       "      <th>CCI</th>\n",
       "      <th>DI</th>\n",
       "      <th>ADX</th>\n",
       "      <th>Aroon</th>\n",
       "    </tr>\n",
       "  </thead>\n",
       "  <tbody>\n",
       "    <tr>\n",
       "      <th>14</th>\n",
       "      <td>6/5/1997</td>\n",
       "      <td>1.416667</td>\n",
       "      <td>1.541667</td>\n",
       "      <td>1.375000</td>\n",
       "      <td>1.541667</td>\n",
       "      <td>1.541667</td>\n",
       "      <td>5672400</td>\n",
       "      <td>1.489584</td>\n",
       "      <td>1.496354</td>\n",
       "      <td>34.375033</td>\n",
       "      <td>...</td>\n",
       "      <td>1.550516</td>\n",
       "      <td>1.668338</td>\n",
       "      <td>-0.117822</td>\n",
       "      <td>78.723435</td>\n",
       "      <td>1</td>\n",
       "      <td>0.282646</td>\n",
       "      <td>-41.627398</td>\n",
       "      <td>0.558137</td>\n",
       "      <td>50.226281</td>\n",
       "      <td>-20.0</td>\n",
       "    </tr>\n",
       "    <tr>\n",
       "      <th>15</th>\n",
       "      <td>6/6/1997</td>\n",
       "      <td>1.515625</td>\n",
       "      <td>1.708333</td>\n",
       "      <td>1.510417</td>\n",
       "      <td>1.656250</td>\n",
       "      <td>1.656250</td>\n",
       "      <td>7807200</td>\n",
       "      <td>1.520834</td>\n",
       "      <td>1.522396</td>\n",
       "      <td>75.000055</td>\n",
       "      <td>...</td>\n",
       "      <td>1.566783</td>\n",
       "      <td>1.667443</td>\n",
       "      <td>-0.100660</td>\n",
       "      <td>95.783114</td>\n",
       "      <td>1</td>\n",
       "      <td>0.381194</td>\n",
       "      <td>92.673942</td>\n",
       "      <td>8.400292</td>\n",
       "      <td>43.640597</td>\n",
       "      <td>-20.0</td>\n",
       "    </tr>\n",
       "    <tr>\n",
       "      <th>16</th>\n",
       "      <td>6/9/1997</td>\n",
       "      <td>1.656250</td>\n",
       "      <td>1.708333</td>\n",
       "      <td>1.656250</td>\n",
       "      <td>1.687500</td>\n",
       "      <td>1.687500</td>\n",
       "      <td>2352000</td>\n",
       "      <td>1.556250</td>\n",
       "      <td>1.541146</td>\n",
       "      <td>85.714286</td>\n",
       "      <td>...</td>\n",
       "      <td>1.585355</td>\n",
       "      <td>1.668929</td>\n",
       "      <td>-0.083574</td>\n",
       "      <td>98.780507</td>\n",
       "      <td>0</td>\n",
       "      <td>0.381194</td>\n",
       "      <td>153.386632</td>\n",
       "      <td>10.553252</td>\n",
       "      <td>30.868253</td>\n",
       "      <td>-20.0</td>\n",
       "    </tr>\n",
       "    <tr>\n",
       "      <th>17</th>\n",
       "      <td>6/10/1997</td>\n",
       "      <td>1.708333</td>\n",
       "      <td>1.708333</td>\n",
       "      <td>1.531250</td>\n",
       "      <td>1.583333</td>\n",
       "      <td>1.583333</td>\n",
       "      <td>5458800</td>\n",
       "      <td>1.577083</td>\n",
       "      <td>1.541146</td>\n",
       "      <td>68.421026</td>\n",
       "      <td>...</td>\n",
       "      <td>1.585044</td>\n",
       "      <td>1.662588</td>\n",
       "      <td>-0.077545</td>\n",
       "      <td>96.815247</td>\n",
       "      <td>0</td>\n",
       "      <td>0.381194</td>\n",
       "      <td>91.852991</td>\n",
       "      <td>3.982389</td>\n",
       "      <td>24.801838</td>\n",
       "      <td>-20.0</td>\n",
       "    </tr>\n",
       "    <tr>\n",
       "      <th>18</th>\n",
       "      <td>6/11/1997</td>\n",
       "      <td>1.593750</td>\n",
       "      <td>1.604167</td>\n",
       "      <td>1.531250</td>\n",
       "      <td>1.541667</td>\n",
       "      <td>1.541667</td>\n",
       "      <td>1188000</td>\n",
       "      <td>1.602083</td>\n",
       "      <td>1.542188</td>\n",
       "      <td>57.894870</td>\n",
       "      <td>...</td>\n",
       "      <td>1.578370</td>\n",
       "      <td>1.653631</td>\n",
       "      <td>-0.075261</td>\n",
       "      <td>108.029246</td>\n",
       "      <td>1</td>\n",
       "      <td>0.507614</td>\n",
       "      <td>33.856459</td>\n",
       "      <td>0.704759</td>\n",
       "      <td>24.430750</td>\n",
       "      <td>-20.0</td>\n",
       "    </tr>\n",
       "    <tr>\n",
       "      <th>...</th>\n",
       "      <td>...</td>\n",
       "      <td>...</td>\n",
       "      <td>...</td>\n",
       "      <td>...</td>\n",
       "      <td>...</td>\n",
       "      <td>...</td>\n",
       "      <td>...</td>\n",
       "      <td>...</td>\n",
       "      <td>...</td>\n",
       "      <td>...</td>\n",
       "      <td>...</td>\n",
       "      <td>...</td>\n",
       "      <td>...</td>\n",
       "      <td>...</td>\n",
       "      <td>...</td>\n",
       "      <td>...</td>\n",
       "      <td>...</td>\n",
       "      <td>...</td>\n",
       "      <td>...</td>\n",
       "      <td>...</td>\n",
       "      <td>...</td>\n",
       "    </tr>\n",
       "    <tr>\n",
       "      <th>6151</th>\n",
       "      <td>10/22/2021</td>\n",
       "      <td>3421.000000</td>\n",
       "      <td>3429.840088</td>\n",
       "      <td>3331.300049</td>\n",
       "      <td>3335.550049</td>\n",
       "      <td>3335.550049</td>\n",
       "      <td>3133800</td>\n",
       "      <td>3415.302002</td>\n",
       "      <td>3356.330029</td>\n",
       "      <td>51.820291</td>\n",
       "      <td>...</td>\n",
       "      <td>3363.883172</td>\n",
       "      <td>3356.629660</td>\n",
       "      <td>7.253513</td>\n",
       "      <td>104.569908</td>\n",
       "      <td>0</td>\n",
       "      <td>0.675676</td>\n",
       "      <td>34.580127</td>\n",
       "      <td>0.129382</td>\n",
       "      <td>23.568887</td>\n",
       "      <td>40.0</td>\n",
       "    </tr>\n",
       "    <tr>\n",
       "      <th>6152</th>\n",
       "      <td>10/25/2021</td>\n",
       "      <td>3335.000000</td>\n",
       "      <td>3347.800049</td>\n",
       "      <td>3297.699951</td>\n",
       "      <td>3320.370117</td>\n",
       "      <td>3320.370117</td>\n",
       "      <td>2226000</td>\n",
       "      <td>3390.028027</td>\n",
       "      <td>3363.737036</td>\n",
       "      <td>46.075539</td>\n",
       "      <td>...</td>\n",
       "      <td>3357.188856</td>\n",
       "      <td>3353.943768</td>\n",
       "      <td>3.245089</td>\n",
       "      <td>103.085070</td>\n",
       "      <td>1</td>\n",
       "      <td>0.675676</td>\n",
       "      <td>-15.740435</td>\n",
       "      <td>-0.538225</td>\n",
       "      <td>22.462941</td>\n",
       "      <td>40.0</td>\n",
       "    </tr>\n",
       "    <tr>\n",
       "      <th>6153</th>\n",
       "      <td>10/26/2021</td>\n",
       "      <td>3349.510010</td>\n",
       "      <td>3416.120117</td>\n",
       "      <td>3343.979980</td>\n",
       "      <td>3376.070068</td>\n",
       "      <td>3376.070068</td>\n",
       "      <td>2698300</td>\n",
       "      <td>3376.412061</td>\n",
       "      <td>3376.611035</td>\n",
       "      <td>61.695644</td>\n",
       "      <td>...</td>\n",
       "      <td>3360.093658</td>\n",
       "      <td>3355.582753</td>\n",
       "      <td>4.510905</td>\n",
       "      <td>103.496619</td>\n",
       "      <td>1</td>\n",
       "      <td>0.675676</td>\n",
       "      <td>36.406218</td>\n",
       "      <td>0.884063</td>\n",
       "      <td>21.835137</td>\n",
       "      <td>40.0</td>\n",
       "    </tr>\n",
       "    <tr>\n",
       "      <th>6154</th>\n",
       "      <td>10/27/2021</td>\n",
       "      <td>3388.000000</td>\n",
       "      <td>3437.000000</td>\n",
       "      <td>3371.449951</td>\n",
       "      <td>3392.489990</td>\n",
       "      <td>3392.489990</td>\n",
       "      <td>2702200</td>\n",
       "      <td>3371.898047</td>\n",
       "      <td>3387.432031</td>\n",
       "      <td>68.942496</td>\n",
       "      <td>...</td>\n",
       "      <td>3365.077709</td>\n",
       "      <td>3358.316622</td>\n",
       "      <td>6.761087</td>\n",
       "      <td>102.727085</td>\n",
       "      <td>1</td>\n",
       "      <td>0.910010</td>\n",
       "      <td>53.216142</td>\n",
       "      <td>1.180228</td>\n",
       "      <td>20.421165</td>\n",
       "      <td>40.0</td>\n",
       "    </tr>\n",
       "    <tr>\n",
       "      <th>6155</th>\n",
       "      <td>10/28/2021</td>\n",
       "      <td>3402.100098</td>\n",
       "      <td>3479.000000</td>\n",
       "      <td>3386.000000</td>\n",
       "      <td>3446.570068</td>\n",
       "      <td>3446.570068</td>\n",
       "      <td>5708700</td>\n",
       "      <td>3374.210058</td>\n",
       "      <td>3402.103027</td>\n",
       "      <td>86.638952</td>\n",
       "      <td>...</td>\n",
       "      <td>3377.614995</td>\n",
       "      <td>3364.853915</td>\n",
       "      <td>12.761081</td>\n",
       "      <td>104.802925</td>\n",
       "      <td>0</td>\n",
       "      <td>0.910010</td>\n",
       "      <td>84.914831</td>\n",
       "      <td>2.448428</td>\n",
       "      <td>19.442353</td>\n",
       "      <td>40.0</td>\n",
       "    </tr>\n",
       "  </tbody>\n",
       "</table>\n",
       "<p>6142 rows × 26 columns</p>\n",
       "</div>"
      ],
      "text/plain": [
       "            Date         Open         High          Low        Close  \\\n",
       "14      6/5/1997     1.416667     1.541667     1.375000     1.541667   \n",
       "15      6/6/1997     1.515625     1.708333     1.510417     1.656250   \n",
       "16      6/9/1997     1.656250     1.708333     1.656250     1.687500   \n",
       "17     6/10/1997     1.708333     1.708333     1.531250     1.583333   \n",
       "18     6/11/1997     1.593750     1.604167     1.531250     1.541667   \n",
       "...          ...          ...          ...          ...          ...   \n",
       "6151  10/22/2021  3421.000000  3429.840088  3331.300049  3335.550049   \n",
       "6152  10/25/2021  3335.000000  3347.800049  3297.699951  3320.370117   \n",
       "6153  10/26/2021  3349.510010  3416.120117  3343.979980  3376.070068   \n",
       "6154  10/27/2021  3388.000000  3437.000000  3371.449951  3392.489990   \n",
       "6155  10/28/2021  3402.100098  3479.000000  3386.000000  3446.570068   \n",
       "\n",
       "        Adj Close   Volume         SMA5        SMA10  StochasticK  ...  \\\n",
       "14       1.541667  5672400     1.489584     1.496354    34.375033  ...   \n",
       "15       1.656250  7807200     1.520834     1.522396    75.000055  ...   \n",
       "16       1.687500  2352000     1.556250     1.541146    85.714286  ...   \n",
       "17       1.583333  5458800     1.577083     1.541146    68.421026  ...   \n",
       "18       1.541667  1188000     1.602083     1.542188    57.894870  ...   \n",
       "...           ...      ...          ...          ...          ...  ...   \n",
       "6151  3335.550049  3133800  3415.302002  3356.330029    51.820291  ...   \n",
       "6152  3320.370117  2226000  3390.028027  3363.737036    46.075539  ...   \n",
       "6153  3376.070068  2698300  3376.412061  3376.611035    61.695644  ...   \n",
       "6154  3392.489990  2702200  3371.898047  3387.432031    68.942496  ...   \n",
       "6155  3446.570068  5708700  3374.210058  3402.103027    86.638952  ...   \n",
       "\n",
       "            EMA12        EMA26       MACD    Momentum  Direction       RSI  \\\n",
       "14       1.550516     1.668338  -0.117822   78.723435          1  0.282646   \n",
       "15       1.566783     1.667443  -0.100660   95.783114          1  0.381194   \n",
       "16       1.585355     1.668929  -0.083574   98.780507          0  0.381194   \n",
       "17       1.585044     1.662588  -0.077545   96.815247          0  0.381194   \n",
       "18       1.578370     1.653631  -0.075261  108.029246          1  0.507614   \n",
       "...           ...          ...        ...         ...        ...       ...   \n",
       "6151  3363.883172  3356.629660   7.253513  104.569908          0  0.675676   \n",
       "6152  3357.188856  3353.943768   3.245089  103.085070          1  0.675676   \n",
       "6153  3360.093658  3355.582753   4.510905  103.496619          1  0.675676   \n",
       "6154  3365.077709  3358.316622   6.761087  102.727085          1  0.910010   \n",
       "6155  3377.614995  3364.853915  12.761081  104.802925          0  0.910010   \n",
       "\n",
       "             CCI         DI        ADX  Aroon  \n",
       "14    -41.627398   0.558137  50.226281  -20.0  \n",
       "15     92.673942   8.400292  43.640597  -20.0  \n",
       "16    153.386632  10.553252  30.868253  -20.0  \n",
       "17     91.852991   3.982389  24.801838  -20.0  \n",
       "18     33.856459   0.704759  24.430750  -20.0  \n",
       "...          ...        ...        ...    ...  \n",
       "6151   34.580127   0.129382  23.568887   40.0  \n",
       "6152  -15.740435  -0.538225  22.462941   40.0  \n",
       "6153   36.406218   0.884063  21.835137   40.0  \n",
       "6154   53.216142   1.180228  20.421165   40.0  \n",
       "6155   84.914831   2.448428  19.442353   40.0  \n",
       "\n",
       "[6142 rows x 26 columns]"
      ]
     },
     "execution_count": 35,
     "metadata": {},
     "output_type": "execute_result"
    }
   ],
   "source": [
    "complete_data"
   ]
  },
  {
   "cell_type": "code",
   "execution_count": 36,
   "metadata": {},
   "outputs": [],
   "source": [
    "#corrMatrix = complete_data.corr()\n",
    "#print(corrMatrix)"
   ]
  },
  {
   "cell_type": "code",
   "execution_count": 37,
   "metadata": {},
   "outputs": [],
   "source": [
    "#sn.heatmap(corrMatrix, annot=False)\n",
    "#plt.show()"
   ]
  },
  {
   "cell_type": "code",
   "execution_count": 38,
   "metadata": {},
   "outputs": [],
   "source": [
    "#corr_pairs = corrMatrix.unstack()\n",
    "#corr_pairs"
   ]
  },
  {
   "cell_type": "code",
   "execution_count": 39,
   "metadata": {},
   "outputs": [],
   "source": [
    "#sorted_pairs = corr_pairs.sort_values(kind=\"quicksort\")\n",
    "#sorted_pairs"
   ]
  },
  {
   "cell_type": "code",
   "execution_count": 40,
   "metadata": {},
   "outputs": [],
   "source": [
    "#strong_pairs = sorted_pairs[abs(sorted_pairs) > 0.5]\n",
    "\n",
    "#print(strong_pairs)"
   ]
  },
  {
   "cell_type": "code",
   "execution_count": 41,
   "metadata": {},
   "outputs": [],
   "source": [
    "## strong_pairs[strong_pairs.index[0][0] == strong_pairs.index[0][1]]\n",
    "\n",
    "#removed_diagonal = [(i, j) for (i, j) in strong_pairs.index if i!=j]\n",
    "#len(removed_diagonal)"
   ]
  },
  {
   "cell_type": "code",
   "execution_count": 42,
   "metadata": {
    "scrolled": false
   },
   "outputs": [],
   "source": [
    "## # Create correlation matrix\n",
    "## corr_matrix = complete_data.corr().abs()\n",
    "\n",
    "## # Select upper triangle of correlation matrix\n",
    "## upper = corr_matrix.where(np.triu(np.ones(corr_matrix.shape), k=1).astype(np.bool8))\n",
    "\n",
    "## # Find index of feature columns with correlation greater than 0.95\n",
    "## to_drop = [column for column in upper.columns if any(upper[column] > 0.95)]\n",
    "## to_drop"
   ]
  },
  {
   "cell_type": "code",
   "execution_count": 43,
   "metadata": {},
   "outputs": [],
   "source": [
    "## Find index of feature columns with correlation greater than 0.8\n",
    "\n",
    "#correlated_features = set()\n",
    "#for i in range(len(corrMatrix.columns)):\n",
    " #   for j in range(i):\n",
    "  #      if abs(corrMatrix.iloc[i, j]) > 0.8:\n",
    "   #         colname = corrMatrix.columns[i]\n",
    "    #        correlated_features.add(colname)"
   ]
  },
  {
   "cell_type": "code",
   "execution_count": 44,
   "metadata": {},
   "outputs": [],
   "source": [
    "#correlated_features"
   ]
  },
  {
   "cell_type": "code",
   "execution_count": 45,
   "metadata": {},
   "outputs": [],
   "source": [
    "#complete_data = complete_data.drop(labels=correlated_features, axis=1)"
   ]
  },
  {
   "cell_type": "code",
   "execution_count": 46,
   "metadata": {},
   "outputs": [],
   "source": [
    "#complete_data"
   ]
  },
  {
   "cell_type": "code",
   "execution_count": 47,
   "metadata": {
    "scrolled": false
   },
   "outputs": [
    {
     "data": {
      "text/html": [
       "<div>\n",
       "<style scoped>\n",
       "    .dataframe tbody tr th:only-of-type {\n",
       "        vertical-align: middle;\n",
       "    }\n",
       "\n",
       "    .dataframe tbody tr th {\n",
       "        vertical-align: top;\n",
       "    }\n",
       "\n",
       "    .dataframe thead th {\n",
       "        text-align: right;\n",
       "    }\n",
       "</style>\n",
       "<table border=\"1\" class=\"dataframe\">\n",
       "  <thead>\n",
       "    <tr style=\"text-align: right;\">\n",
       "      <th></th>\n",
       "      <th>Open</th>\n",
       "      <th>High</th>\n",
       "      <th>Low</th>\n",
       "      <th>Close</th>\n",
       "      <th>Adj Close</th>\n",
       "      <th>Volume</th>\n",
       "      <th>SMA5</th>\n",
       "      <th>SMA10</th>\n",
       "      <th>StochasticK</th>\n",
       "      <th>StochasticD</th>\n",
       "      <th>...</th>\n",
       "      <th>WMA10</th>\n",
       "      <th>EMA12</th>\n",
       "      <th>EMA26</th>\n",
       "      <th>MACD</th>\n",
       "      <th>Momentum</th>\n",
       "      <th>RSI</th>\n",
       "      <th>CCI</th>\n",
       "      <th>DI</th>\n",
       "      <th>ADX</th>\n",
       "      <th>Aroon</th>\n",
       "    </tr>\n",
       "  </thead>\n",
       "  <tbody>\n",
       "    <tr>\n",
       "      <th>14</th>\n",
       "      <td>1.416667</td>\n",
       "      <td>1.541667</td>\n",
       "      <td>1.375000</td>\n",
       "      <td>1.541667</td>\n",
       "      <td>1.541667</td>\n",
       "      <td>5672400</td>\n",
       "      <td>1.489584</td>\n",
       "      <td>1.496354</td>\n",
       "      <td>34.375033</td>\n",
       "      <td>21.573495</td>\n",
       "      <td>...</td>\n",
       "      <td>1.497633</td>\n",
       "      <td>1.550516</td>\n",
       "      <td>1.668338</td>\n",
       "      <td>-0.117822</td>\n",
       "      <td>78.723435</td>\n",
       "      <td>0.282646</td>\n",
       "      <td>-41.627398</td>\n",
       "      <td>0.558137</td>\n",
       "      <td>50.226281</td>\n",
       "      <td>-20.0</td>\n",
       "    </tr>\n",
       "    <tr>\n",
       "      <th>15</th>\n",
       "      <td>1.515625</td>\n",
       "      <td>1.708333</td>\n",
       "      <td>1.510417</td>\n",
       "      <td>1.656250</td>\n",
       "      <td>1.656250</td>\n",
       "      <td>7807200</td>\n",
       "      <td>1.520834</td>\n",
       "      <td>1.522396</td>\n",
       "      <td>75.000055</td>\n",
       "      <td>39.382348</td>\n",
       "      <td>...</td>\n",
       "      <td>1.526705</td>\n",
       "      <td>1.566783</td>\n",
       "      <td>1.667443</td>\n",
       "      <td>-0.100660</td>\n",
       "      <td>95.783114</td>\n",
       "      <td>0.381194</td>\n",
       "      <td>92.673942</td>\n",
       "      <td>8.400292</td>\n",
       "      <td>43.640597</td>\n",
       "      <td>-20.0</td>\n",
       "    </tr>\n",
       "    <tr>\n",
       "      <th>16</th>\n",
       "      <td>1.656250</td>\n",
       "      <td>1.708333</td>\n",
       "      <td>1.656250</td>\n",
       "      <td>1.687500</td>\n",
       "      <td>1.687500</td>\n",
       "      <td>2352000</td>\n",
       "      <td>1.556250</td>\n",
       "      <td>1.541146</td>\n",
       "      <td>85.714286</td>\n",
       "      <td>65.029791</td>\n",
       "      <td>...</td>\n",
       "      <td>1.556724</td>\n",
       "      <td>1.585355</td>\n",
       "      <td>1.668929</td>\n",
       "      <td>-0.083574</td>\n",
       "      <td>98.780507</td>\n",
       "      <td>0.381194</td>\n",
       "      <td>153.386632</td>\n",
       "      <td>10.553252</td>\n",
       "      <td>30.868253</td>\n",
       "      <td>-20.0</td>\n",
       "    </tr>\n",
       "    <tr>\n",
       "      <th>17</th>\n",
       "      <td>1.708333</td>\n",
       "      <td>1.708333</td>\n",
       "      <td>1.531250</td>\n",
       "      <td>1.583333</td>\n",
       "      <td>1.583333</td>\n",
       "      <td>5458800</td>\n",
       "      <td>1.577083</td>\n",
       "      <td>1.541146</td>\n",
       "      <td>68.421026</td>\n",
       "      <td>76.378455</td>\n",
       "      <td>...</td>\n",
       "      <td>1.564394</td>\n",
       "      <td>1.585044</td>\n",
       "      <td>1.662588</td>\n",
       "      <td>-0.077545</td>\n",
       "      <td>96.815247</td>\n",
       "      <td>0.381194</td>\n",
       "      <td>91.852991</td>\n",
       "      <td>3.982389</td>\n",
       "      <td>24.801838</td>\n",
       "      <td>-20.0</td>\n",
       "    </tr>\n",
       "    <tr>\n",
       "      <th>18</th>\n",
       "      <td>1.593750</td>\n",
       "      <td>1.604167</td>\n",
       "      <td>1.531250</td>\n",
       "      <td>1.541667</td>\n",
       "      <td>1.541667</td>\n",
       "      <td>1188000</td>\n",
       "      <td>1.602083</td>\n",
       "      <td>1.542188</td>\n",
       "      <td>57.894870</td>\n",
       "      <td>70.676727</td>\n",
       "      <td>...</td>\n",
       "      <td>1.564489</td>\n",
       "      <td>1.578370</td>\n",
       "      <td>1.653631</td>\n",
       "      <td>-0.075261</td>\n",
       "      <td>108.029246</td>\n",
       "      <td>0.507614</td>\n",
       "      <td>33.856459</td>\n",
       "      <td>0.704759</td>\n",
       "      <td>24.430750</td>\n",
       "      <td>-20.0</td>\n",
       "    </tr>\n",
       "    <tr>\n",
       "      <th>...</th>\n",
       "      <td>...</td>\n",
       "      <td>...</td>\n",
       "      <td>...</td>\n",
       "      <td>...</td>\n",
       "      <td>...</td>\n",
       "      <td>...</td>\n",
       "      <td>...</td>\n",
       "      <td>...</td>\n",
       "      <td>...</td>\n",
       "      <td>...</td>\n",
       "      <td>...</td>\n",
       "      <td>...</td>\n",
       "      <td>...</td>\n",
       "      <td>...</td>\n",
       "      <td>...</td>\n",
       "      <td>...</td>\n",
       "      <td>...</td>\n",
       "      <td>...</td>\n",
       "      <td>...</td>\n",
       "      <td>...</td>\n",
       "      <td>...</td>\n",
       "    </tr>\n",
       "    <tr>\n",
       "      <th>6151</th>\n",
       "      <td>3421.000000</td>\n",
       "      <td>3429.840088</td>\n",
       "      <td>3331.300049</td>\n",
       "      <td>3335.550049</td>\n",
       "      <td>3335.550049</td>\n",
       "      <td>3133800</td>\n",
       "      <td>3415.302002</td>\n",
       "      <td>3356.330029</td>\n",
       "      <td>51.820291</td>\n",
       "      <td>75.141833</td>\n",
       "      <td>...</td>\n",
       "      <td>3385.798202</td>\n",
       "      <td>3363.883172</td>\n",
       "      <td>3356.629660</td>\n",
       "      <td>7.253513</td>\n",
       "      <td>104.569908</td>\n",
       "      <td>0.675676</td>\n",
       "      <td>34.580127</td>\n",
       "      <td>0.129382</td>\n",
       "      <td>23.568887</td>\n",
       "      <td>40.0</td>\n",
       "    </tr>\n",
       "    <tr>\n",
       "      <th>6152</th>\n",
       "      <td>3335.000000</td>\n",
       "      <td>3347.800049</td>\n",
       "      <td>3297.699951</td>\n",
       "      <td>3320.370117</td>\n",
       "      <td>3320.370117</td>\n",
       "      <td>2226000</td>\n",
       "      <td>3390.028027</td>\n",
       "      <td>3363.737036</td>\n",
       "      <td>46.075539</td>\n",
       "      <td>62.726254</td>\n",
       "      <td>...</td>\n",
       "      <td>3379.260036</td>\n",
       "      <td>3357.188856</td>\n",
       "      <td>3353.943768</td>\n",
       "      <td>3.245089</td>\n",
       "      <td>103.085070</td>\n",
       "      <td>0.675676</td>\n",
       "      <td>-15.740435</td>\n",
       "      <td>-0.538225</td>\n",
       "      <td>22.462941</td>\n",
       "      <td>40.0</td>\n",
       "    </tr>\n",
       "    <tr>\n",
       "      <th>6153</th>\n",
       "      <td>3349.510010</td>\n",
       "      <td>3416.120117</td>\n",
       "      <td>3343.979980</td>\n",
       "      <td>3376.070068</td>\n",
       "      <td>3376.070068</td>\n",
       "      <td>2698300</td>\n",
       "      <td>3376.412061</td>\n",
       "      <td>3376.611035</td>\n",
       "      <td>61.695644</td>\n",
       "      <td>53.197158</td>\n",
       "      <td>...</td>\n",
       "      <td>3381.502406</td>\n",
       "      <td>3360.093658</td>\n",
       "      <td>3355.582753</td>\n",
       "      <td>4.510905</td>\n",
       "      <td>103.496619</td>\n",
       "      <td>0.675676</td>\n",
       "      <td>36.406218</td>\n",
       "      <td>0.884063</td>\n",
       "      <td>21.835137</td>\n",
       "      <td>40.0</td>\n",
       "    </tr>\n",
       "    <tr>\n",
       "      <th>6154</th>\n",
       "      <td>3388.000000</td>\n",
       "      <td>3437.000000</td>\n",
       "      <td>3371.449951</td>\n",
       "      <td>3392.489990</td>\n",
       "      <td>3392.489990</td>\n",
       "      <td>2702200</td>\n",
       "      <td>3371.898047</td>\n",
       "      <td>3387.432031</td>\n",
       "      <td>68.942496</td>\n",
       "      <td>58.904560</td>\n",
       "      <td>...</td>\n",
       "      <td>3384.389489</td>\n",
       "      <td>3365.077709</td>\n",
       "      <td>3358.316622</td>\n",
       "      <td>6.761087</td>\n",
       "      <td>102.727085</td>\n",
       "      <td>0.910010</td>\n",
       "      <td>53.216142</td>\n",
       "      <td>1.180228</td>\n",
       "      <td>20.421165</td>\n",
       "      <td>40.0</td>\n",
       "    </tr>\n",
       "    <tr>\n",
       "      <th>6155</th>\n",
       "      <td>3402.100098</td>\n",
       "      <td>3479.000000</td>\n",
       "      <td>3386.000000</td>\n",
       "      <td>3446.570068</td>\n",
       "      <td>3446.570068</td>\n",
       "      <td>5708700</td>\n",
       "      <td>3374.210058</td>\n",
       "      <td>3402.103027</td>\n",
       "      <td>86.638952</td>\n",
       "      <td>72.425697</td>\n",
       "      <td>...</td>\n",
       "      <td>3395.141859</td>\n",
       "      <td>3377.614995</td>\n",
       "      <td>3364.853915</td>\n",
       "      <td>12.761081</td>\n",
       "      <td>104.802925</td>\n",
       "      <td>0.910010</td>\n",
       "      <td>84.914831</td>\n",
       "      <td>2.448428</td>\n",
       "      <td>19.442353</td>\n",
       "      <td>40.0</td>\n",
       "    </tr>\n",
       "  </tbody>\n",
       "</table>\n",
       "<p>6142 rows × 24 columns</p>\n",
       "</div>"
      ],
      "text/plain": [
       "             Open         High          Low        Close    Adj Close  \\\n",
       "14       1.416667     1.541667     1.375000     1.541667     1.541667   \n",
       "15       1.515625     1.708333     1.510417     1.656250     1.656250   \n",
       "16       1.656250     1.708333     1.656250     1.687500     1.687500   \n",
       "17       1.708333     1.708333     1.531250     1.583333     1.583333   \n",
       "18       1.593750     1.604167     1.531250     1.541667     1.541667   \n",
       "...           ...          ...          ...          ...          ...   \n",
       "6151  3421.000000  3429.840088  3331.300049  3335.550049  3335.550049   \n",
       "6152  3335.000000  3347.800049  3297.699951  3320.370117  3320.370117   \n",
       "6153  3349.510010  3416.120117  3343.979980  3376.070068  3376.070068   \n",
       "6154  3388.000000  3437.000000  3371.449951  3392.489990  3392.489990   \n",
       "6155  3402.100098  3479.000000  3386.000000  3446.570068  3446.570068   \n",
       "\n",
       "       Volume         SMA5        SMA10  StochasticK  StochasticD  ...  \\\n",
       "14    5672400     1.489584     1.496354    34.375033    21.573495  ...   \n",
       "15    7807200     1.520834     1.522396    75.000055    39.382348  ...   \n",
       "16    2352000     1.556250     1.541146    85.714286    65.029791  ...   \n",
       "17    5458800     1.577083     1.541146    68.421026    76.378455  ...   \n",
       "18    1188000     1.602083     1.542188    57.894870    70.676727  ...   \n",
       "...       ...          ...          ...          ...          ...  ...   \n",
       "6151  3133800  3415.302002  3356.330029    51.820291    75.141833  ...   \n",
       "6152  2226000  3390.028027  3363.737036    46.075539    62.726254  ...   \n",
       "6153  2698300  3376.412061  3376.611035    61.695644    53.197158  ...   \n",
       "6154  2702200  3371.898047  3387.432031    68.942496    58.904560  ...   \n",
       "6155  5708700  3374.210058  3402.103027    86.638952    72.425697  ...   \n",
       "\n",
       "            WMA10        EMA12        EMA26       MACD    Momentum       RSI  \\\n",
       "14       1.497633     1.550516     1.668338  -0.117822   78.723435  0.282646   \n",
       "15       1.526705     1.566783     1.667443  -0.100660   95.783114  0.381194   \n",
       "16       1.556724     1.585355     1.668929  -0.083574   98.780507  0.381194   \n",
       "17       1.564394     1.585044     1.662588  -0.077545   96.815247  0.381194   \n",
       "18       1.564489     1.578370     1.653631  -0.075261  108.029246  0.507614   \n",
       "...           ...          ...          ...        ...         ...       ...   \n",
       "6151  3385.798202  3363.883172  3356.629660   7.253513  104.569908  0.675676   \n",
       "6152  3379.260036  3357.188856  3353.943768   3.245089  103.085070  0.675676   \n",
       "6153  3381.502406  3360.093658  3355.582753   4.510905  103.496619  0.675676   \n",
       "6154  3384.389489  3365.077709  3358.316622   6.761087  102.727085  0.910010   \n",
       "6155  3395.141859  3377.614995  3364.853915  12.761081  104.802925  0.910010   \n",
       "\n",
       "             CCI         DI        ADX  Aroon  \n",
       "14    -41.627398   0.558137  50.226281  -20.0  \n",
       "15     92.673942   8.400292  43.640597  -20.0  \n",
       "16    153.386632  10.553252  30.868253  -20.0  \n",
       "17     91.852991   3.982389  24.801838  -20.0  \n",
       "18     33.856459   0.704759  24.430750  -20.0  \n",
       "...          ...        ...        ...    ...  \n",
       "6151   34.580127   0.129382  23.568887   40.0  \n",
       "6152  -15.740435  -0.538225  22.462941   40.0  \n",
       "6153   36.406218   0.884063  21.835137   40.0  \n",
       "6154   53.216142   1.180228  20.421165   40.0  \n",
       "6155   84.914831   2.448428  19.442353   40.0  \n",
       "\n",
       "[6142 rows x 24 columns]"
      ]
     },
     "execution_count": 47,
     "metadata": {},
     "output_type": "execute_result"
    }
   ],
   "source": [
    "target = complete_data['Direction']\n",
    "complete_data = complete_data.drop(['Date', 'Direction'], axis=1)\n",
    "complete_data"
   ]
  },
  {
   "cell_type": "markdown",
   "metadata": {},
   "source": [
    "### autofeat Classification"
   ]
  },
  {
   "cell_type": "code",
   "execution_count": 50,
   "metadata": {},
   "outputs": [],
   "source": [
    "from sklearn.model_selection import train_test_split"
   ]
  },
  {
   "cell_type": "code",
   "execution_count": 51,
   "metadata": {},
   "outputs": [
    {
     "name": "stderr",
     "output_type": "stream",
     "text": [
      "C:\\Users\\rshay\\anaconda3\\lib\\site-packages\\numpy\\core\\_methods.py:205: RuntimeWarning: overflow encountered in multiply\n",
      "  x = um.multiply(x, x, out=x)\n"
     ]
    }
   ],
   "source": [
    "from autofeat import AutoFeatClassifier\n",
    "X_train, X_test, y_train, y_test = train_test_split(complete_data,target,test_size=0.3)\n",
    "model = AutoFeatClassifier()\n",
    "df = model.fit_transform(X_train, y_train)\n",
    "y_pred = model.predict(X_test)"
   ]
  },
  {
   "cell_type": "code",
   "execution_count": 52,
   "metadata": {},
   "outputs": [
    {
     "data": {
      "text/plain": [
       "0.6451437873033098"
      ]
     },
     "execution_count": 52,
     "metadata": {},
     "output_type": "execute_result"
    }
   ],
   "source": [
    "df_test = model.transform(X_test)\n",
    "model.score(df_test,y_test)"
   ]
  },
  {
   "cell_type": "code",
   "execution_count": 53,
   "metadata": {},
   "outputs": [
    {
     "data": {
      "text/html": [
       "<div>\n",
       "<style scoped>\n",
       "    .dataframe tbody tr th:only-of-type {\n",
       "        vertical-align: middle;\n",
       "    }\n",
       "\n",
       "    .dataframe tbody tr th {\n",
       "        vertical-align: top;\n",
       "    }\n",
       "\n",
       "    .dataframe thead th {\n",
       "        text-align: right;\n",
       "    }\n",
       "</style>\n",
       "<table border=\"1\" class=\"dataframe\">\n",
       "  <thead>\n",
       "    <tr style=\"text-align: right;\">\n",
       "      <th></th>\n",
       "      <th>Open</th>\n",
       "      <th>High</th>\n",
       "      <th>Low</th>\n",
       "      <th>Close</th>\n",
       "      <th>Adj Close</th>\n",
       "      <th>Volume</th>\n",
       "      <th>SMA5</th>\n",
       "      <th>SMA10</th>\n",
       "      <th>StochasticK</th>\n",
       "      <th>StochasticD</th>\n",
       "      <th>...</th>\n",
       "      <th>sqrt(LarryWilliamsR)*RSI</th>\n",
       "      <th>sqrt(RSI)/Momentum</th>\n",
       "      <th>sqrt(StochasticK)/RSI</th>\n",
       "      <th>RSI/ADX</th>\n",
       "      <th>EMA12/SMA10</th>\n",
       "      <th>1/RSI</th>\n",
       "      <th>Aroon*RSI</th>\n",
       "      <th>log(RSI)/ADX</th>\n",
       "      <th>sqrt(Low)*ROC</th>\n",
       "      <th>CCI**2/StochasticD</th>\n",
       "    </tr>\n",
       "  </thead>\n",
       "  <tbody>\n",
       "    <tr>\n",
       "      <th>0</th>\n",
       "      <td>44.910000</td>\n",
       "      <td>45.290001</td>\n",
       "      <td>43.889999</td>\n",
       "      <td>44.490002</td>\n",
       "      <td>44.490002</td>\n",
       "      <td>6452700.0</td>\n",
       "      <td>45.104000</td>\n",
       "      <td>43.966000</td>\n",
       "      <td>65.517274</td>\n",
       "      <td>76.245211</td>\n",
       "      <td>...</td>\n",
       "      <td>2.980812</td>\n",
       "      <td>0.006840</td>\n",
       "      <td>15.945720</td>\n",
       "      <td>0.024205</td>\n",
       "      <td>1.002696</td>\n",
       "      <td>1.970000</td>\n",
       "      <td>16.243655</td>\n",
       "      <td>-0.032331</td>\n",
       "      <td>0.269648</td>\n",
       "      <td>57.022925</td>\n",
       "    </tr>\n",
       "    <tr>\n",
       "      <th>1</th>\n",
       "      <td>21.666668</td>\n",
       "      <td>23.083332</td>\n",
       "      <td>21.166668</td>\n",
       "      <td>21.270832</td>\n",
       "      <td>21.270832</td>\n",
       "      <td>27810600.0</td>\n",
       "      <td>21.700000</td>\n",
       "      <td>19.983333</td>\n",
       "      <td>63.270128</td>\n",
       "      <td>70.102682</td>\n",
       "      <td>...</td>\n",
       "      <td>2.310235</td>\n",
       "      <td>0.005999</td>\n",
       "      <td>20.866655</td>\n",
       "      <td>0.008357</td>\n",
       "      <td>1.008706</td>\n",
       "      <td>2.623333</td>\n",
       "      <td>16.772554</td>\n",
       "      <td>-0.021143</td>\n",
       "      <td>0.207197</td>\n",
       "      <td>62.360769</td>\n",
       "    </tr>\n",
       "    <tr>\n",
       "      <th>2</th>\n",
       "      <td>88.900002</td>\n",
       "      <td>90.419998</td>\n",
       "      <td>88.820000</td>\n",
       "      <td>89.650002</td>\n",
       "      <td>89.650002</td>\n",
       "      <td>5780800.0</td>\n",
       "      <td>88.416001</td>\n",
       "      <td>87.078000</td>\n",
       "      <td>83.613480</td>\n",
       "      <td>81.576494</td>\n",
       "      <td>...</td>\n",
       "      <td>5.098270</td>\n",
       "      <td>0.009849</td>\n",
       "      <td>7.260368</td>\n",
       "      <td>0.044912</td>\n",
       "      <td>0.992656</td>\n",
       "      <td>0.794000</td>\n",
       "      <td>120.906801</td>\n",
       "      <td>0.008226</td>\n",
       "      <td>0.792018</td>\n",
       "      <td>153.371440</td>\n",
       "    </tr>\n",
       "    <tr>\n",
       "      <th>3</th>\n",
       "      <td>32.500000</td>\n",
       "      <td>33.250000</td>\n",
       "      <td>30.187500</td>\n",
       "      <td>31.562500</td>\n",
       "      <td>31.562500</td>\n",
       "      <td>8871100.0</td>\n",
       "      <td>34.412500</td>\n",
       "      <td>36.850000</td>\n",
       "      <td>10.945274</td>\n",
       "      <td>16.791550</td>\n",
       "      <td>...</td>\n",
       "      <td>1.921972</td>\n",
       "      <td>0.006122</td>\n",
       "      <td>16.244068</td>\n",
       "      <td>0.011897</td>\n",
       "      <td>0.995953</td>\n",
       "      <td>4.910000</td>\n",
       "      <td>-17.922607</td>\n",
       "      <td>-0.092951</td>\n",
       "      <td>-0.869933</td>\n",
       "      <td>1908.747769</td>\n",
       "    </tr>\n",
       "    <tr>\n",
       "      <th>4</th>\n",
       "      <td>89.010002</td>\n",
       "      <td>89.059998</td>\n",
       "      <td>84.989998</td>\n",
       "      <td>85.089996</td>\n",
       "      <td>85.089996</td>\n",
       "      <td>7697700.0</td>\n",
       "      <td>89.720000</td>\n",
       "      <td>91.774000</td>\n",
       "      <td>0.913223</td>\n",
       "      <td>42.343579</td>\n",
       "      <td>...</td>\n",
       "      <td>6.725834</td>\n",
       "      <td>0.008268</td>\n",
       "      <td>1.414328</td>\n",
       "      <td>0.028168</td>\n",
       "      <td>0.977717</td>\n",
       "      <td>1.480000</td>\n",
       "      <td>40.540541</td>\n",
       "      <td>-0.016344</td>\n",
       "      <td>-0.419845</td>\n",
       "      <td>851.721342</td>\n",
       "    </tr>\n",
       "    <tr>\n",
       "      <th>...</th>\n",
       "      <td>...</td>\n",
       "      <td>...</td>\n",
       "      <td>...</td>\n",
       "      <td>...</td>\n",
       "      <td>...</td>\n",
       "      <td>...</td>\n",
       "      <td>...</td>\n",
       "      <td>...</td>\n",
       "      <td>...</td>\n",
       "      <td>...</td>\n",
       "      <td>...</td>\n",
       "      <td>...</td>\n",
       "      <td>...</td>\n",
       "      <td>...</td>\n",
       "      <td>...</td>\n",
       "      <td>...</td>\n",
       "      <td>...</td>\n",
       "      <td>...</td>\n",
       "      <td>...</td>\n",
       "      <td>...</td>\n",
       "      <td>...</td>\n",
       "    </tr>\n",
       "    <tr>\n",
       "      <th>4294</th>\n",
       "      <td>40.549999</td>\n",
       "      <td>41.279999</td>\n",
       "      <td>40.209999</td>\n",
       "      <td>40.860001</td>\n",
       "      <td>40.860001</td>\n",
       "      <td>9413300.0</td>\n",
       "      <td>40.400000</td>\n",
       "      <td>41.473000</td>\n",
       "      <td>37.362663</td>\n",
       "      <td>37.785816</td>\n",
       "      <td>...</td>\n",
       "      <td>5.347551</td>\n",
       "      <td>0.007759</td>\n",
       "      <td>9.046501</td>\n",
       "      <td>0.032757</td>\n",
       "      <td>0.985783</td>\n",
       "      <td>1.480000</td>\n",
       "      <td>24.324324</td>\n",
       "      <td>-0.019006</td>\n",
       "      <td>-0.268981</td>\n",
       "      <td>62.509848</td>\n",
       "    </tr>\n",
       "    <tr>\n",
       "      <th>4295</th>\n",
       "      <td>89.930000</td>\n",
       "      <td>90.650002</td>\n",
       "      <td>89.320000</td>\n",
       "      <td>89.760002</td>\n",
       "      <td>89.760002</td>\n",
       "      <td>9126200.0</td>\n",
       "      <td>90.044000</td>\n",
       "      <td>91.776000</td>\n",
       "      <td>18.953533</td>\n",
       "      <td>22.364372</td>\n",
       "      <td>...</td>\n",
       "      <td>3.431734</td>\n",
       "      <td>0.006425</td>\n",
       "      <td>11.420854</td>\n",
       "      <td>0.014054</td>\n",
       "      <td>0.992725</td>\n",
       "      <td>2.623333</td>\n",
       "      <td>22.871665</td>\n",
       "      <td>-0.035558</td>\n",
       "      <td>-0.275984</td>\n",
       "      <td>334.028314</td>\n",
       "    </tr>\n",
       "    <tr>\n",
       "      <th>4296</th>\n",
       "      <td>126.790001</td>\n",
       "      <td>127.480003</td>\n",
       "      <td>121.410004</td>\n",
       "      <td>122.550003</td>\n",
       "      <td>122.550003</td>\n",
       "      <td>5327700.0</td>\n",
       "      <td>125.602000</td>\n",
       "      <td>123.483000</td>\n",
       "      <td>50.561832</td>\n",
       "      <td>67.091169</td>\n",
       "      <td>...</td>\n",
       "      <td>1.987345</td>\n",
       "      <td>0.005346</td>\n",
       "      <td>25.157601</td>\n",
       "      <td>0.008871</td>\n",
       "      <td>1.007385</td>\n",
       "      <td>3.538000</td>\n",
       "      <td>-18.089316</td>\n",
       "      <td>-0.039658</td>\n",
       "      <td>-0.531419</td>\n",
       "      <td>0.168624</td>\n",
       "    </tr>\n",
       "    <tr>\n",
       "      <th>4297</th>\n",
       "      <td>341.760010</td>\n",
       "      <td>341.820007</td>\n",
       "      <td>337.679993</td>\n",
       "      <td>339.040009</td>\n",
       "      <td>339.040009</td>\n",
       "      <td>1939500.0</td>\n",
       "      <td>339.617993</td>\n",
       "      <td>336.802997</td>\n",
       "      <td>74.327040</td>\n",
       "      <td>80.770744</td>\n",
       "      <td>...</td>\n",
       "      <td>6.381422</td>\n",
       "      <td>0.010537</td>\n",
       "      <td>6.845323</td>\n",
       "      <td>0.061614</td>\n",
       "      <td>0.995993</td>\n",
       "      <td>0.794000</td>\n",
       "      <td>90.680101</td>\n",
       "      <td>0.011285</td>\n",
       "      <td>0.718643</td>\n",
       "      <td>85.020923</td>\n",
       "    </tr>\n",
       "    <tr>\n",
       "      <th>4298</th>\n",
       "      <td>324.980011</td>\n",
       "      <td>326.980011</td>\n",
       "      <td>322.239990</td>\n",
       "      <td>324.779999</td>\n",
       "      <td>324.779999</td>\n",
       "      <td>2671300.0</td>\n",
       "      <td>325.328003</td>\n",
       "      <td>326.508002</td>\n",
       "      <td>21.477776</td>\n",
       "      <td>22.627220</td>\n",
       "      <td>...</td>\n",
       "      <td>4.498110</td>\n",
       "      <td>0.007292</td>\n",
       "      <td>9.129792</td>\n",
       "      <td>0.023585</td>\n",
       "      <td>0.996498</td>\n",
       "      <td>1.970000</td>\n",
       "      <td>10.152284</td>\n",
       "      <td>-0.031502</td>\n",
       "      <td>-0.062240</td>\n",
       "      <td>227.631365</td>\n",
       "    </tr>\n",
       "  </tbody>\n",
       "</table>\n",
       "<p>4299 rows × 35 columns</p>\n",
       "</div>"
      ],
      "text/plain": [
       "            Open        High         Low       Close   Adj Close      Volume  \\\n",
       "0      44.910000   45.290001   43.889999   44.490002   44.490002   6452700.0   \n",
       "1      21.666668   23.083332   21.166668   21.270832   21.270832  27810600.0   \n",
       "2      88.900002   90.419998   88.820000   89.650002   89.650002   5780800.0   \n",
       "3      32.500000   33.250000   30.187500   31.562500   31.562500   8871100.0   \n",
       "4      89.010002   89.059998   84.989998   85.089996   85.089996   7697700.0   \n",
       "...          ...         ...         ...         ...         ...         ...   \n",
       "4294   40.549999   41.279999   40.209999   40.860001   40.860001   9413300.0   \n",
       "4295   89.930000   90.650002   89.320000   89.760002   89.760002   9126200.0   \n",
       "4296  126.790001  127.480003  121.410004  122.550003  122.550003   5327700.0   \n",
       "4297  341.760010  341.820007  337.679993  339.040009  339.040009   1939500.0   \n",
       "4298  324.980011  326.980011  322.239990  324.779999  324.779999   2671300.0   \n",
       "\n",
       "            SMA5       SMA10  StochasticK  StochasticD  ...  \\\n",
       "0      45.104000   43.966000    65.517274    76.245211  ...   \n",
       "1      21.700000   19.983333    63.270128    70.102682  ...   \n",
       "2      88.416001   87.078000    83.613480    81.576494  ...   \n",
       "3      34.412500   36.850000    10.945274    16.791550  ...   \n",
       "4      89.720000   91.774000     0.913223    42.343579  ...   \n",
       "...          ...         ...          ...          ...  ...   \n",
       "4294   40.400000   41.473000    37.362663    37.785816  ...   \n",
       "4295   90.044000   91.776000    18.953533    22.364372  ...   \n",
       "4296  125.602000  123.483000    50.561832    67.091169  ...   \n",
       "4297  339.617993  336.802997    74.327040    80.770744  ...   \n",
       "4298  325.328003  326.508002    21.477776    22.627220  ...   \n",
       "\n",
       "      sqrt(LarryWilliamsR)*RSI  sqrt(RSI)/Momentum  sqrt(StochasticK)/RSI  \\\n",
       "0                     2.980812            0.006840              15.945720   \n",
       "1                     2.310235            0.005999              20.866655   \n",
       "2                     5.098270            0.009849               7.260368   \n",
       "3                     1.921972            0.006122              16.244068   \n",
       "4                     6.725834            0.008268               1.414328   \n",
       "...                        ...                 ...                    ...   \n",
       "4294                  5.347551            0.007759               9.046501   \n",
       "4295                  3.431734            0.006425              11.420854   \n",
       "4296                  1.987345            0.005346              25.157601   \n",
       "4297                  6.381422            0.010537               6.845323   \n",
       "4298                  4.498110            0.007292               9.129792   \n",
       "\n",
       "       RSI/ADX  EMA12/SMA10     1/RSI   Aroon*RSI  log(RSI)/ADX  \\\n",
       "0     0.024205     1.002696  1.970000   16.243655     -0.032331   \n",
       "1     0.008357     1.008706  2.623333   16.772554     -0.021143   \n",
       "2     0.044912     0.992656  0.794000  120.906801      0.008226   \n",
       "3     0.011897     0.995953  4.910000  -17.922607     -0.092951   \n",
       "4     0.028168     0.977717  1.480000   40.540541     -0.016344   \n",
       "...        ...          ...       ...         ...           ...   \n",
       "4294  0.032757     0.985783  1.480000   24.324324     -0.019006   \n",
       "4295  0.014054     0.992725  2.623333   22.871665     -0.035558   \n",
       "4296  0.008871     1.007385  3.538000  -18.089316     -0.039658   \n",
       "4297  0.061614     0.995993  0.794000   90.680101      0.011285   \n",
       "4298  0.023585     0.996498  1.970000   10.152284     -0.031502   \n",
       "\n",
       "      sqrt(Low)*ROC  CCI**2/StochasticD  \n",
       "0          0.269648           57.022925  \n",
       "1          0.207197           62.360769  \n",
       "2          0.792018          153.371440  \n",
       "3         -0.869933         1908.747769  \n",
       "4         -0.419845          851.721342  \n",
       "...             ...                 ...  \n",
       "4294      -0.268981           62.509848  \n",
       "4295      -0.275984          334.028314  \n",
       "4296      -0.531419            0.168624  \n",
       "4297       0.718643           85.020923  \n",
       "4298      -0.062240          227.631365  \n",
       "\n",
       "[4299 rows x 35 columns]"
      ]
     },
     "execution_count": 53,
     "metadata": {},
     "output_type": "execute_result"
    }
   ],
   "source": [
    "df"
   ]
  },
  {
   "cell_type": "code",
   "execution_count": 54,
   "metadata": {},
   "outputs": [
    {
     "data": {
      "text/html": [
       "<div>\n",
       "<style scoped>\n",
       "    .dataframe tbody tr th:only-of-type {\n",
       "        vertical-align: middle;\n",
       "    }\n",
       "\n",
       "    .dataframe tbody tr th {\n",
       "        vertical-align: top;\n",
       "    }\n",
       "\n",
       "    .dataframe thead th {\n",
       "        text-align: right;\n",
       "    }\n",
       "</style>\n",
       "<table border=\"1\" class=\"dataframe\">\n",
       "  <thead>\n",
       "    <tr style=\"text-align: right;\">\n",
       "      <th></th>\n",
       "      <th>Open</th>\n",
       "      <th>High</th>\n",
       "      <th>Low</th>\n",
       "      <th>Close</th>\n",
       "      <th>Adj Close</th>\n",
       "      <th>Volume</th>\n",
       "      <th>SMA5</th>\n",
       "      <th>SMA10</th>\n",
       "      <th>StochasticK</th>\n",
       "      <th>StochasticD</th>\n",
       "      <th>...</th>\n",
       "      <th>sqrt(LarryWilliamsR)*RSI</th>\n",
       "      <th>sqrt(RSI)/Momentum</th>\n",
       "      <th>sqrt(StochasticK)/RSI</th>\n",
       "      <th>RSI/ADX</th>\n",
       "      <th>EMA12/SMA10</th>\n",
       "      <th>1/RSI</th>\n",
       "      <th>Aroon*RSI</th>\n",
       "      <th>log(RSI)/ADX</th>\n",
       "      <th>sqrt(Low)*ROC</th>\n",
       "      <th>CCI**2/StochasticD</th>\n",
       "    </tr>\n",
       "  </thead>\n",
       "  <tbody>\n",
       "    <tr>\n",
       "      <th>0</th>\n",
       "      <td>19.840000</td>\n",
       "      <td>20.139999</td>\n",
       "      <td>18.650000</td>\n",
       "      <td>18.940001</td>\n",
       "      <td>18.940001</td>\n",
       "      <td>14009200.0</td>\n",
       "      <td>18.284000</td>\n",
       "      <td>17.531000</td>\n",
       "      <td>72.912003</td>\n",
       "      <td>88.011545</td>\n",
       "      <td>...</td>\n",
       "      <td>3.516630</td>\n",
       "      <td>0.006827</td>\n",
       "      <td>12.637502</td>\n",
       "      <td>0.043158</td>\n",
       "      <td>1.008015</td>\n",
       "      <td>1.480000</td>\n",
       "      <td>35.135135</td>\n",
       "      <td>-0.025041</td>\n",
       "      <td>0.489996</td>\n",
       "      <td>365.035293</td>\n",
       "    </tr>\n",
       "    <tr>\n",
       "      <th>1</th>\n",
       "      <td>325.880005</td>\n",
       "      <td>326.519989</td>\n",
       "      <td>323.269989</td>\n",
       "      <td>324.570007</td>\n",
       "      <td>324.570007</td>\n",
       "      <td>2416200.0</td>\n",
       "      <td>325.820001</td>\n",
       "      <td>326.792001</td>\n",
       "      <td>20.443332</td>\n",
       "      <td>26.995044</td>\n",
       "      <td>...</td>\n",
       "      <td>4.527642</td>\n",
       "      <td>0.007189</td>\n",
       "      <td>8.907218</td>\n",
       "      <td>0.023453</td>\n",
       "      <td>0.995957</td>\n",
       "      <td>1.970000</td>\n",
       "      <td>10.152284</td>\n",
       "      <td>-0.031327</td>\n",
       "      <td>-0.570180</td>\n",
       "      <td>204.663806</td>\n",
       "    </tr>\n",
       "    <tr>\n",
       "      <th>2</th>\n",
       "      <td>183.059998</td>\n",
       "      <td>184.589996</td>\n",
       "      <td>179.419998</td>\n",
       "      <td>180.479996</td>\n",
       "      <td>180.479996</td>\n",
       "      <td>5334500.0</td>\n",
       "      <td>183.379999</td>\n",
       "      <td>182.481000</td>\n",
       "      <td>62.745065</td>\n",
       "      <td>78.122054</td>\n",
       "      <td>...</td>\n",
       "      <td>3.098316</td>\n",
       "      <td>0.006526</td>\n",
       "      <td>15.604721</td>\n",
       "      <td>0.016904</td>\n",
       "      <td>0.987368</td>\n",
       "      <td>1.970000</td>\n",
       "      <td>26.395939</td>\n",
       "      <td>-0.022579</td>\n",
       "      <td>0.744241</td>\n",
       "      <td>12.871082</td>\n",
       "    </tr>\n",
       "    <tr>\n",
       "      <th>3</th>\n",
       "      <td>1750.660034</td>\n",
       "      <td>1766.890015</td>\n",
       "      <td>1745.609985</td>\n",
       "      <td>1749.510010</td>\n",
       "      <td>1749.510010</td>\n",
       "      <td>2442800.0</td>\n",
       "      <td>1754.447974</td>\n",
       "      <td>1774.392981</td>\n",
       "      <td>20.301107</td>\n",
       "      <td>22.018406</td>\n",
       "      <td>...</td>\n",
       "      <td>2.523297</td>\n",
       "      <td>0.005326</td>\n",
       "      <td>15.941078</td>\n",
       "      <td>0.016813</td>\n",
       "      <td>0.993930</td>\n",
       "      <td>3.538000</td>\n",
       "      <td>4.522329</td>\n",
       "      <td>-0.075164</td>\n",
       "      <td>0.095264</td>\n",
       "      <td>77.579786</td>\n",
       "    </tr>\n",
       "    <tr>\n",
       "      <th>4</th>\n",
       "      <td>48.939999</td>\n",
       "      <td>50.200001</td>\n",
       "      <td>48.680000</td>\n",
       "      <td>50.090000</td>\n",
       "      <td>50.090000</td>\n",
       "      <td>8219900.0</td>\n",
       "      <td>49.212000</td>\n",
       "      <td>49.121000</td>\n",
       "      <td>80.640016</td>\n",
       "      <td>67.925161</td>\n",
       "      <td>...</td>\n",
       "      <td>2.972972</td>\n",
       "      <td>0.007496</td>\n",
       "      <td>13.290368</td>\n",
       "      <td>0.019237</td>\n",
       "      <td>0.991551</td>\n",
       "      <td>1.480000</td>\n",
       "      <td>21.621622</td>\n",
       "      <td>-0.011162</td>\n",
       "      <td>0.580922</td>\n",
       "      <td>69.903008</td>\n",
       "    </tr>\n",
       "    <tr>\n",
       "      <th>...</th>\n",
       "      <td>...</td>\n",
       "      <td>...</td>\n",
       "      <td>...</td>\n",
       "      <td>...</td>\n",
       "      <td>...</td>\n",
       "      <td>...</td>\n",
       "      <td>...</td>\n",
       "      <td>...</td>\n",
       "      <td>...</td>\n",
       "      <td>...</td>\n",
       "      <td>...</td>\n",
       "      <td>...</td>\n",
       "      <td>...</td>\n",
       "      <td>...</td>\n",
       "      <td>...</td>\n",
       "      <td>...</td>\n",
       "      <td>...</td>\n",
       "      <td>...</td>\n",
       "      <td>...</td>\n",
       "      <td>...</td>\n",
       "      <td>...</td>\n",
       "    </tr>\n",
       "    <tr>\n",
       "      <th>1838</th>\n",
       "      <td>21.680000</td>\n",
       "      <td>22.370001</td>\n",
       "      <td>21.639999</td>\n",
       "      <td>21.780001</td>\n",
       "      <td>21.780001</td>\n",
       "      <td>8207000.0</td>\n",
       "      <td>21.586001</td>\n",
       "      <td>21.818000</td>\n",
       "      <td>48.630137</td>\n",
       "      <td>60.137741</td>\n",
       "      <td>...</td>\n",
       "      <td>2.732126</td>\n",
       "      <td>0.005868</td>\n",
       "      <td>18.293897</td>\n",
       "      <td>0.027958</td>\n",
       "      <td>0.990120</td>\n",
       "      <td>2.623333</td>\n",
       "      <td>16.772554</td>\n",
       "      <td>-0.070735</td>\n",
       "      <td>0.168194</td>\n",
       "      <td>39.249142</td>\n",
       "    </tr>\n",
       "    <tr>\n",
       "      <th>1839</th>\n",
       "      <td>82.250000</td>\n",
       "      <td>83.750000</td>\n",
       "      <td>78.849998</td>\n",
       "      <td>81.160004</td>\n",
       "      <td>81.160004</td>\n",
       "      <td>9490600.0</td>\n",
       "      <td>80.112001</td>\n",
       "      <td>81.113001</td>\n",
       "      <td>48.687392</td>\n",
       "      <td>23.903027</td>\n",
       "      <td>...</td>\n",
       "      <td>3.636184</td>\n",
       "      <td>0.007296</td>\n",
       "      <td>13.745941</td>\n",
       "      <td>0.029234</td>\n",
       "      <td>0.999903</td>\n",
       "      <td>1.970000</td>\n",
       "      <td>10.152284</td>\n",
       "      <td>-0.039048</td>\n",
       "      <td>-0.104874</td>\n",
       "      <td>53.070748</td>\n",
       "    </tr>\n",
       "    <tr>\n",
       "      <th>1840</th>\n",
       "      <td>663.250000</td>\n",
       "      <td>675.960022</td>\n",
       "      <td>663.250000</td>\n",
       "      <td>673.250000</td>\n",
       "      <td>673.250000</td>\n",
       "      <td>5387300.0</td>\n",
       "      <td>660.688000</td>\n",
       "      <td>645.050000</td>\n",
       "      <td>96.637691</td>\n",
       "      <td>96.008372</td>\n",
       "      <td>...</td>\n",
       "      <td>2.309395</td>\n",
       "      <td>0.009400</td>\n",
       "      <td>7.805375</td>\n",
       "      <td>0.031883</td>\n",
       "      <td>0.990714</td>\n",
       "      <td>0.794000</td>\n",
       "      <td>120.906801</td>\n",
       "      <td>0.005839</td>\n",
       "      <td>2.735275</td>\n",
       "      <td>189.901760</td>\n",
       "    </tr>\n",
       "    <tr>\n",
       "      <th>1841</th>\n",
       "      <td>16.110001</td>\n",
       "      <td>16.350000</td>\n",
       "      <td>16.030001</td>\n",
       "      <td>16.110001</td>\n",
       "      <td>16.110001</td>\n",
       "      <td>5543700.0</td>\n",
       "      <td>16.218000</td>\n",
       "      <td>16.448000</td>\n",
       "      <td>70.347057</td>\n",
       "      <td>70.326511</td>\n",
       "      <td>...</td>\n",
       "      <td>2.764189</td>\n",
       "      <td>0.006554</td>\n",
       "      <td>16.523011</td>\n",
       "      <td>0.031663</td>\n",
       "      <td>0.967361</td>\n",
       "      <td>1.970000</td>\n",
       "      <td>22.335025</td>\n",
       "      <td>-0.042293</td>\n",
       "      <td>0.435370</td>\n",
       "      <td>11.121080</td>\n",
       "    </tr>\n",
       "    <tr>\n",
       "      <th>1842</th>\n",
       "      <td>3459.959961</td>\n",
       "      <td>3492.550049</td>\n",
       "      <td>3446.139893</td>\n",
       "      <td>3488.239990</td>\n",
       "      <td>3488.239990</td>\n",
       "      <td>2583600.0</td>\n",
       "      <td>3468.069971</td>\n",
       "      <td>3480.046997</td>\n",
       "      <td>73.861326</td>\n",
       "      <td>68.916548</td>\n",
       "      <td>...</td>\n",
       "      <td>3.454459</td>\n",
       "      <td>0.007814</td>\n",
       "      <td>12.719507</td>\n",
       "      <td>0.030434</td>\n",
       "      <td>0.993116</td>\n",
       "      <td>1.480000</td>\n",
       "      <td>35.135135</td>\n",
       "      <td>-0.017658</td>\n",
       "      <td>1.143855</td>\n",
       "      <td>9.689882</td>\n",
       "    </tr>\n",
       "  </tbody>\n",
       "</table>\n",
       "<p>1843 rows × 35 columns</p>\n",
       "</div>"
      ],
      "text/plain": [
       "             Open         High          Low        Close    Adj Close  \\\n",
       "0       19.840000    20.139999    18.650000    18.940001    18.940001   \n",
       "1      325.880005   326.519989   323.269989   324.570007   324.570007   \n",
       "2      183.059998   184.589996   179.419998   180.479996   180.479996   \n",
       "3     1750.660034  1766.890015  1745.609985  1749.510010  1749.510010   \n",
       "4       48.939999    50.200001    48.680000    50.090000    50.090000   \n",
       "...           ...          ...          ...          ...          ...   \n",
       "1838    21.680000    22.370001    21.639999    21.780001    21.780001   \n",
       "1839    82.250000    83.750000    78.849998    81.160004    81.160004   \n",
       "1840   663.250000   675.960022   663.250000   673.250000   673.250000   \n",
       "1841    16.110001    16.350000    16.030001    16.110001    16.110001   \n",
       "1842  3459.959961  3492.550049  3446.139893  3488.239990  3488.239990   \n",
       "\n",
       "          Volume         SMA5        SMA10  StochasticK  StochasticD  ...  \\\n",
       "0     14009200.0    18.284000    17.531000    72.912003    88.011545  ...   \n",
       "1      2416200.0   325.820001   326.792001    20.443332    26.995044  ...   \n",
       "2      5334500.0   183.379999   182.481000    62.745065    78.122054  ...   \n",
       "3      2442800.0  1754.447974  1774.392981    20.301107    22.018406  ...   \n",
       "4      8219900.0    49.212000    49.121000    80.640016    67.925161  ...   \n",
       "...          ...          ...          ...          ...          ...  ...   \n",
       "1838   8207000.0    21.586001    21.818000    48.630137    60.137741  ...   \n",
       "1839   9490600.0    80.112001    81.113001    48.687392    23.903027  ...   \n",
       "1840   5387300.0   660.688000   645.050000    96.637691    96.008372  ...   \n",
       "1841   5543700.0    16.218000    16.448000    70.347057    70.326511  ...   \n",
       "1842   2583600.0  3468.069971  3480.046997    73.861326    68.916548  ...   \n",
       "\n",
       "      sqrt(LarryWilliamsR)*RSI  sqrt(RSI)/Momentum  sqrt(StochasticK)/RSI  \\\n",
       "0                     3.516630            0.006827              12.637502   \n",
       "1                     4.527642            0.007189               8.907218   \n",
       "2                     3.098316            0.006526              15.604721   \n",
       "3                     2.523297            0.005326              15.941078   \n",
       "4                     2.972972            0.007496              13.290368   \n",
       "...                        ...                 ...                    ...   \n",
       "1838                  2.732126            0.005868              18.293897   \n",
       "1839                  3.636184            0.007296              13.745941   \n",
       "1840                  2.309395            0.009400               7.805375   \n",
       "1841                  2.764189            0.006554              16.523011   \n",
       "1842                  3.454459            0.007814              12.719507   \n",
       "\n",
       "       RSI/ADX  EMA12/SMA10     1/RSI   Aroon*RSI  log(RSI)/ADX  \\\n",
       "0     0.043158     1.008015  1.480000   35.135135     -0.025041   \n",
       "1     0.023453     0.995957  1.970000   10.152284     -0.031327   \n",
       "2     0.016904     0.987368  1.970000   26.395939     -0.022579   \n",
       "3     0.016813     0.993930  3.538000    4.522329     -0.075164   \n",
       "4     0.019237     0.991551  1.480000   21.621622     -0.011162   \n",
       "...        ...          ...       ...         ...           ...   \n",
       "1838  0.027958     0.990120  2.623333   16.772554     -0.070735   \n",
       "1839  0.029234     0.999903  1.970000   10.152284     -0.039048   \n",
       "1840  0.031883     0.990714  0.794000  120.906801      0.005839   \n",
       "1841  0.031663     0.967361  1.970000   22.335025     -0.042293   \n",
       "1842  0.030434     0.993116  1.480000   35.135135     -0.017658   \n",
       "\n",
       "      sqrt(Low)*ROC  CCI**2/StochasticD  \n",
       "0          0.489996          365.035293  \n",
       "1         -0.570180          204.663806  \n",
       "2          0.744241           12.871082  \n",
       "3          0.095264           77.579786  \n",
       "4          0.580922           69.903008  \n",
       "...             ...                 ...  \n",
       "1838       0.168194           39.249142  \n",
       "1839      -0.104874           53.070748  \n",
       "1840       2.735275          189.901760  \n",
       "1841       0.435370           11.121080  \n",
       "1842       1.143855            9.689882  \n",
       "\n",
       "[1843 rows x 35 columns]"
      ]
     },
     "execution_count": 54,
     "metadata": {},
     "output_type": "execute_result"
    }
   ],
   "source": [
    "df_test"
   ]
  },
  {
   "cell_type": "markdown",
   "metadata": {},
   "source": [
    "### Generate New Features Based on autofeat Results"
   ]
  },
  {
   "cell_type": "code",
   "execution_count": 81,
   "metadata": {},
   "outputs": [],
   "source": [
    "import math"
   ]
  },
  {
   "cell_type": "code",
   "execution_count": 82,
   "metadata": {},
   "outputs": [],
   "source": [
    "def sqrt_rsi_momentum(rsi, momentum):\n",
    "    return (np.sqrt(rsi)/momentum)"
   ]
  },
  {
   "cell_type": "code",
   "execution_count": 83,
   "metadata": {},
   "outputs": [],
   "source": [
    "def sqrt_stochastic_d_rsi(stochastic_d, rsi):\n",
    "    return(np.sqrt(stochastic_d)/rsi)"
   ]
  },
  {
   "cell_type": "code",
   "execution_count": 84,
   "metadata": {},
   "outputs": [],
   "source": [
    "def sqrt_lwr_rsi (larry_williams_r, rsi):\n",
    "    return (np.sqrt(larry_williams_r)*rsi)"
   ]
  },
  {
   "cell_type": "code",
   "execution_count": 85,
   "metadata": {},
   "outputs": [],
   "source": [
    "def momentum_3_rsi(momentum, rsi):\n",
    "    return ((momentum**3)/rsi)"
   ]
  },
  {
   "cell_type": "code",
   "execution_count": 86,
   "metadata": {},
   "outputs": [],
   "source": [
    "def ado_macd_2(ado, macd):\n",
    "    return (ado*(macd**2))"
   ]
  },
  {
   "cell_type": "code",
   "execution_count": 87,
   "metadata": {},
   "outputs": [],
   "source": [
    "def adx_abs_roc(adx, roc):\n",
    "    return (adx*np.abs(roc))"
   ]
  },
  {
   "cell_type": "code",
   "execution_count": 88,
   "metadata": {},
   "outputs": [],
   "source": [
    "def sqrt_stochastic_k_log_rsi (stochastic_k, rsi):\n",
    "    return ((np.sqrt(stochastic_k))*np.log(rsi))"
   ]
  },
  {
   "cell_type": "code",
   "execution_count": 89,
   "metadata": {},
   "outputs": [],
   "source": [
    "def compute_adv_indicators(complete_data):\n",
    "    complete_data['SqrtRSI/Momentum'] = sqrt_rsi_momentum(complete_data['RSI'], complete_data['Momentum'])\n",
    "    complete_data['SqrtStochasticD/RSI'] = sqrt_stochastic_d_rsi(complete_data['StochasticD'], complete_data['RSI'])\n",
    "    complete_data['SqrtLarryWilliamsR*RSI'] = sqrt_lwr_rsi(complete_data['LarryWilliamsR'], complete_data['RSI'])\n",
    "    complete_data['Momentum**3/RSI'] = momentum_3_rsi(complete_data['Momentum'], complete_data['RSI'])\n",
    "    complete_data['ADO*MACD**2'] = ado_macd_2(complete_data['ADO'], complete_data['MACD'])\n",
    "    complete_data['ADX*AbsROC'] = adx_abs_roc(complete_data['ADX'], complete_data['ROC'])\n",
    "    complete_data['SqrtStochasticK*LogRSI'] = sqrt_stochastic_k_log_rsi(complete_data['StochasticK'], complete_data['RSI'])   \n",
    "    return complete_data"
   ]
  },
  {
   "cell_type": "code",
   "execution_count": 90,
   "metadata": {},
   "outputs": [
    {
     "data": {
      "text/html": [
       "<div>\n",
       "<style scoped>\n",
       "    .dataframe tbody tr th:only-of-type {\n",
       "        vertical-align: middle;\n",
       "    }\n",
       "\n",
       "    .dataframe tbody tr th {\n",
       "        vertical-align: top;\n",
       "    }\n",
       "\n",
       "    .dataframe thead th {\n",
       "        text-align: right;\n",
       "    }\n",
       "</style>\n",
       "<table border=\"1\" class=\"dataframe\">\n",
       "  <thead>\n",
       "    <tr style=\"text-align: right;\">\n",
       "      <th></th>\n",
       "      <th>Open</th>\n",
       "      <th>High</th>\n",
       "      <th>Low</th>\n",
       "      <th>Close</th>\n",
       "      <th>Adj Close</th>\n",
       "      <th>Volume</th>\n",
       "      <th>SMA5</th>\n",
       "      <th>SMA10</th>\n",
       "      <th>StochasticK</th>\n",
       "      <th>StochasticD</th>\n",
       "      <th>...</th>\n",
       "      <th>DI</th>\n",
       "      <th>ADX</th>\n",
       "      <th>Aroon</th>\n",
       "      <th>SqrtRSI/Momentum</th>\n",
       "      <th>SqrtStochasticD/RSI</th>\n",
       "      <th>SqrtLarryWilliamsR*RSI</th>\n",
       "      <th>Momentum**3/RSI</th>\n",
       "      <th>ADO*MACD**2</th>\n",
       "      <th>ADX*AbsROC</th>\n",
       "      <th>SqrtStochasticK*LogRSI</th>\n",
       "    </tr>\n",
       "  </thead>\n",
       "  <tbody>\n",
       "    <tr>\n",
       "      <th>14</th>\n",
       "      <td>1.416667</td>\n",
       "      <td>1.541667</td>\n",
       "      <td>1.375000</td>\n",
       "      <td>1.541667</td>\n",
       "      <td>1.541667</td>\n",
       "      <td>5672400</td>\n",
       "      <td>1.489584</td>\n",
       "      <td>1.496354</td>\n",
       "      <td>34.375033</td>\n",
       "      <td>21.573495</td>\n",
       "      <td>...</td>\n",
       "      <td>0.558137</td>\n",
       "      <td>50.226281</td>\n",
       "      <td>-20.0</td>\n",
       "      <td>0.006753</td>\n",
       "      <td>16.433047</td>\n",
       "      <td>2.289690</td>\n",
       "      <td>1.726116e+06</td>\n",
       "      <td>0.010412</td>\n",
       "      <td>4.900106</td>\n",
       "      <td>-7.408290</td>\n",
       "    </tr>\n",
       "    <tr>\n",
       "      <th>15</th>\n",
       "      <td>1.515625</td>\n",
       "      <td>1.708333</td>\n",
       "      <td>1.510417</td>\n",
       "      <td>1.656250</td>\n",
       "      <td>1.656250</td>\n",
       "      <td>7807200</td>\n",
       "      <td>1.520834</td>\n",
       "      <td>1.522396</td>\n",
       "      <td>75.000055</td>\n",
       "      <td>39.382348</td>\n",
       "      <td>...</td>\n",
       "      <td>8.400292</td>\n",
       "      <td>43.640597</td>\n",
       "      <td>-20.0</td>\n",
       "      <td>0.006446</td>\n",
       "      <td>16.462822</td>\n",
       "      <td>1.905970</td>\n",
       "      <td>2.305262e+06</td>\n",
       "      <td>0.008533</td>\n",
       "      <td>0.555922</td>\n",
       "      <td>-8.352348</td>\n",
       "    </tr>\n",
       "    <tr>\n",
       "      <th>16</th>\n",
       "      <td>1.656250</td>\n",
       "      <td>1.708333</td>\n",
       "      <td>1.656250</td>\n",
       "      <td>1.687500</td>\n",
       "      <td>1.687500</td>\n",
       "      <td>2352000</td>\n",
       "      <td>1.556250</td>\n",
       "      <td>1.541146</td>\n",
       "      <td>85.714286</td>\n",
       "      <td>65.029791</td>\n",
       "      <td>...</td>\n",
       "      <td>10.553252</td>\n",
       "      <td>30.868253</td>\n",
       "      <td>-20.0</td>\n",
       "      <td>0.006250</td>\n",
       "      <td>21.154836</td>\n",
       "      <td>1.440779</td>\n",
       "      <td>2.528525e+06</td>\n",
       "      <td>0.006985</td>\n",
       "      <td>5.632901</td>\n",
       "      <td>-8.929033</td>\n",
       "    </tr>\n",
       "    <tr>\n",
       "      <th>17</th>\n",
       "      <td>1.708333</td>\n",
       "      <td>1.708333</td>\n",
       "      <td>1.531250</td>\n",
       "      <td>1.583333</td>\n",
       "      <td>1.583333</td>\n",
       "      <td>5458800</td>\n",
       "      <td>1.577083</td>\n",
       "      <td>1.541146</td>\n",
       "      <td>68.421026</td>\n",
       "      <td>76.378455</td>\n",
       "      <td>...</td>\n",
       "      <td>3.982389</td>\n",
       "      <td>24.801838</td>\n",
       "      <td>-20.0</td>\n",
       "      <td>0.006377</td>\n",
       "      <td>22.926561</td>\n",
       "      <td>2.142129</td>\n",
       "      <td>2.380591e+06</td>\n",
       "      <td>0.000707</td>\n",
       "      <td>3.331591</td>\n",
       "      <td>-7.977606</td>\n",
       "    </tr>\n",
       "    <tr>\n",
       "      <th>18</th>\n",
       "      <td>1.593750</td>\n",
       "      <td>1.604167</td>\n",
       "      <td>1.531250</td>\n",
       "      <td>1.541667</td>\n",
       "      <td>1.541667</td>\n",
       "      <td>1188000</td>\n",
       "      <td>1.602083</td>\n",
       "      <td>1.542188</td>\n",
       "      <td>57.894870</td>\n",
       "      <td>70.676727</td>\n",
       "      <td>...</td>\n",
       "      <td>0.704759</td>\n",
       "      <td>24.430750</td>\n",
       "      <td>-20.0</td>\n",
       "      <td>0.006595</td>\n",
       "      <td>16.561682</td>\n",
       "      <td>3.293831</td>\n",
       "      <td>2.483649e+06</td>\n",
       "      <td>0.001618</td>\n",
       "      <td>0.678637</td>\n",
       "      <td>-5.159068</td>\n",
       "    </tr>\n",
       "    <tr>\n",
       "      <th>...</th>\n",
       "      <td>...</td>\n",
       "      <td>...</td>\n",
       "      <td>...</td>\n",
       "      <td>...</td>\n",
       "      <td>...</td>\n",
       "      <td>...</td>\n",
       "      <td>...</td>\n",
       "      <td>...</td>\n",
       "      <td>...</td>\n",
       "      <td>...</td>\n",
       "      <td>...</td>\n",
       "      <td>...</td>\n",
       "      <td>...</td>\n",
       "      <td>...</td>\n",
       "      <td>...</td>\n",
       "      <td>...</td>\n",
       "      <td>...</td>\n",
       "      <td>...</td>\n",
       "      <td>...</td>\n",
       "      <td>...</td>\n",
       "      <td>...</td>\n",
       "    </tr>\n",
       "    <tr>\n",
       "      <th>6151</th>\n",
       "      <td>3421.000000</td>\n",
       "      <td>3429.840088</td>\n",
       "      <td>3331.300049</td>\n",
       "      <td>3335.550049</td>\n",
       "      <td>3335.550049</td>\n",
       "      <td>3133800</td>\n",
       "      <td>3415.302002</td>\n",
       "      <td>3356.330029</td>\n",
       "      <td>51.820291</td>\n",
       "      <td>75.141833</td>\n",
       "      <td>...</td>\n",
       "      <td>0.129382</td>\n",
       "      <td>23.568887</td>\n",
       "      <td>40.0</td>\n",
       "      <td>0.007861</td>\n",
       "      <td>12.829290</td>\n",
       "      <td>4.689973</td>\n",
       "      <td>1.692318e+06</td>\n",
       "      <td>-2.760375</td>\n",
       "      <td>0.531346</td>\n",
       "      <td>-2.822166</td>\n",
       "    </tr>\n",
       "    <tr>\n",
       "      <th>6152</th>\n",
       "      <td>3335.000000</td>\n",
       "      <td>3347.800049</td>\n",
       "      <td>3297.699951</td>\n",
       "      <td>3320.370117</td>\n",
       "      <td>3320.370117</td>\n",
       "      <td>2226000</td>\n",
       "      <td>3390.028027</td>\n",
       "      <td>3363.737036</td>\n",
       "      <td>46.075539</td>\n",
       "      <td>62.726254</td>\n",
       "      <td>...</td>\n",
       "      <td>-0.538225</td>\n",
       "      <td>22.462941</td>\n",
       "      <td>40.0</td>\n",
       "      <td>0.007974</td>\n",
       "      <td>11.721586</td>\n",
       "      <td>4.961708</td>\n",
       "      <td>1.621246e+06</td>\n",
       "      <td>2.574842</td>\n",
       "      <td>0.122028</td>\n",
       "      <td>-2.661141</td>\n",
       "    </tr>\n",
       "    <tr>\n",
       "      <th>6153</th>\n",
       "      <td>3349.510010</td>\n",
       "      <td>3416.120117</td>\n",
       "      <td>3343.979980</td>\n",
       "      <td>3376.070068</td>\n",
       "      <td>3376.070068</td>\n",
       "      <td>2698300</td>\n",
       "      <td>3376.412061</td>\n",
       "      <td>3376.611035</td>\n",
       "      <td>61.695644</td>\n",
       "      <td>53.197158</td>\n",
       "      <td>...</td>\n",
       "      <td>0.884063</td>\n",
       "      <td>21.835137</td>\n",
       "      <td>40.0</td>\n",
       "      <td>0.007942</td>\n",
       "      <td>10.794585</td>\n",
       "      <td>4.181791</td>\n",
       "      <td>1.640742e+06</td>\n",
       "      <td>27.007800</td>\n",
       "      <td>0.580633</td>\n",
       "      <td>-3.079356</td>\n",
       "    </tr>\n",
       "    <tr>\n",
       "      <th>6154</th>\n",
       "      <td>3388.000000</td>\n",
       "      <td>3437.000000</td>\n",
       "      <td>3371.449951</td>\n",
       "      <td>3392.489990</td>\n",
       "      <td>3392.489990</td>\n",
       "      <td>2702200</td>\n",
       "      <td>3371.898047</td>\n",
       "      <td>3387.432031</td>\n",
       "      <td>68.942496</td>\n",
       "      <td>58.904560</td>\n",
       "      <td>...</td>\n",
       "      <td>1.180228</td>\n",
       "      <td>20.421165</td>\n",
       "      <td>40.0</td>\n",
       "      <td>0.009286</td>\n",
       "      <td>8.433896</td>\n",
       "      <td>5.071419</td>\n",
       "      <td>1.191266e+06</td>\n",
       "      <td>42.490388</td>\n",
       "      <td>0.919622</td>\n",
       "      <td>-0.782985</td>\n",
       "    </tr>\n",
       "    <tr>\n",
       "      <th>6155</th>\n",
       "      <td>3402.100098</td>\n",
       "      <td>3479.000000</td>\n",
       "      <td>3386.000000</td>\n",
       "      <td>3446.570068</td>\n",
       "      <td>3446.570068</td>\n",
       "      <td>5708700</td>\n",
       "      <td>3374.210058</td>\n",
       "      <td>3402.103027</td>\n",
       "      <td>86.638952</td>\n",
       "      <td>72.425697</td>\n",
       "      <td>...</td>\n",
       "      <td>2.448428</td>\n",
       "      <td>19.442353</td>\n",
       "      <td>40.0</td>\n",
       "      <td>0.009102</td>\n",
       "      <td>9.351906</td>\n",
       "      <td>3.326339</td>\n",
       "      <td>1.264952e+06</td>\n",
       "      <td>151.481052</td>\n",
       "      <td>1.192886</td>\n",
       "      <td>-0.877741</td>\n",
       "    </tr>\n",
       "  </tbody>\n",
       "</table>\n",
       "<p>6142 rows × 31 columns</p>\n",
       "</div>"
      ],
      "text/plain": [
       "             Open         High          Low        Close    Adj Close  \\\n",
       "14       1.416667     1.541667     1.375000     1.541667     1.541667   \n",
       "15       1.515625     1.708333     1.510417     1.656250     1.656250   \n",
       "16       1.656250     1.708333     1.656250     1.687500     1.687500   \n",
       "17       1.708333     1.708333     1.531250     1.583333     1.583333   \n",
       "18       1.593750     1.604167     1.531250     1.541667     1.541667   \n",
       "...           ...          ...          ...          ...          ...   \n",
       "6151  3421.000000  3429.840088  3331.300049  3335.550049  3335.550049   \n",
       "6152  3335.000000  3347.800049  3297.699951  3320.370117  3320.370117   \n",
       "6153  3349.510010  3416.120117  3343.979980  3376.070068  3376.070068   \n",
       "6154  3388.000000  3437.000000  3371.449951  3392.489990  3392.489990   \n",
       "6155  3402.100098  3479.000000  3386.000000  3446.570068  3446.570068   \n",
       "\n",
       "       Volume         SMA5        SMA10  StochasticK  StochasticD  ...  \\\n",
       "14    5672400     1.489584     1.496354    34.375033    21.573495  ...   \n",
       "15    7807200     1.520834     1.522396    75.000055    39.382348  ...   \n",
       "16    2352000     1.556250     1.541146    85.714286    65.029791  ...   \n",
       "17    5458800     1.577083     1.541146    68.421026    76.378455  ...   \n",
       "18    1188000     1.602083     1.542188    57.894870    70.676727  ...   \n",
       "...       ...          ...          ...          ...          ...  ...   \n",
       "6151  3133800  3415.302002  3356.330029    51.820291    75.141833  ...   \n",
       "6152  2226000  3390.028027  3363.737036    46.075539    62.726254  ...   \n",
       "6153  2698300  3376.412061  3376.611035    61.695644    53.197158  ...   \n",
       "6154  2702200  3371.898047  3387.432031    68.942496    58.904560  ...   \n",
       "6155  5708700  3374.210058  3402.103027    86.638952    72.425697  ...   \n",
       "\n",
       "             DI        ADX  Aroon  SqrtRSI/Momentum  SqrtStochasticD/RSI  \\\n",
       "14     0.558137  50.226281  -20.0          0.006753            16.433047   \n",
       "15     8.400292  43.640597  -20.0          0.006446            16.462822   \n",
       "16    10.553252  30.868253  -20.0          0.006250            21.154836   \n",
       "17     3.982389  24.801838  -20.0          0.006377            22.926561   \n",
       "18     0.704759  24.430750  -20.0          0.006595            16.561682   \n",
       "...         ...        ...    ...               ...                  ...   \n",
       "6151   0.129382  23.568887   40.0          0.007861            12.829290   \n",
       "6152  -0.538225  22.462941   40.0          0.007974            11.721586   \n",
       "6153   0.884063  21.835137   40.0          0.007942            10.794585   \n",
       "6154   1.180228  20.421165   40.0          0.009286             8.433896   \n",
       "6155   2.448428  19.442353   40.0          0.009102             9.351906   \n",
       "\n",
       "      SqrtLarryWilliamsR*RSI  Momentum**3/RSI  ADO*MACD**2  ADX*AbsROC  \\\n",
       "14                  2.289690     1.726116e+06     0.010412    4.900106   \n",
       "15                  1.905970     2.305262e+06     0.008533    0.555922   \n",
       "16                  1.440779     2.528525e+06     0.006985    5.632901   \n",
       "17                  2.142129     2.380591e+06     0.000707    3.331591   \n",
       "18                  3.293831     2.483649e+06     0.001618    0.678637   \n",
       "...                      ...              ...          ...         ...   \n",
       "6151                4.689973     1.692318e+06    -2.760375    0.531346   \n",
       "6152                4.961708     1.621246e+06     2.574842    0.122028   \n",
       "6153                4.181791     1.640742e+06    27.007800    0.580633   \n",
       "6154                5.071419     1.191266e+06    42.490388    0.919622   \n",
       "6155                3.326339     1.264952e+06   151.481052    1.192886   \n",
       "\n",
       "      SqrtStochasticK*LogRSI  \n",
       "14                 -7.408290  \n",
       "15                 -8.352348  \n",
       "16                 -8.929033  \n",
       "17                 -7.977606  \n",
       "18                 -5.159068  \n",
       "...                      ...  \n",
       "6151               -2.822166  \n",
       "6152               -2.661141  \n",
       "6153               -3.079356  \n",
       "6154               -0.782985  \n",
       "6155               -0.877741  \n",
       "\n",
       "[6142 rows x 31 columns]"
      ]
     },
     "execution_count": 90,
     "metadata": {},
     "output_type": "execute_result"
    }
   ],
   "source": [
    "enhanced_data = compute_adv_indicators(complete_data)\n",
    "enhanced_data"
   ]
  },
  {
   "cell_type": "markdown",
   "metadata": {},
   "source": [
    "### autofeat Feature Selection"
   ]
  },
  {
   "cell_type": "code",
   "execution_count": 91,
   "metadata": {},
   "outputs": [
    {
     "name": "stderr",
     "output_type": "stream",
     "text": [
      "C:\\Users\\rshay\\anaconda3\\lib\\site-packages\\sklearn\\utils\\validation.py:72: DataConversionWarning: A column-vector y was passed when a 1d array was expected. Please change the shape of y to (n_samples, ), for example using ravel().\n",
      "  return f(**kwargs)\n"
     ]
    },
    {
     "name": "stdout",
     "output_type": "stream",
     "text": [
      "[featsel] Scaling data...done.\n",
      "[featsel] Feature selection run 1/5\n",
      "[featsel] Feature selection run 2/5\n",
      "[featsel] Feature selection run 3/5\n",
      "[featsel] Feature selection run 4/5\n",
      "[featsel] Feature selection run 5/5\n",
      "[featsel] 23 features after 5 feature selection runs\n",
      "[featsel] 13 features after correlation filtering\n",
      "[featsel] 9 features after noise filtering\n"
     ]
    }
   ],
   "source": [
    "from autofeat import FeatureSelector\n",
    "fsel = FeatureSelector(verbose=1)\n",
    "selected_data = fsel.fit_transform(pd.DataFrame(enhanced_data), pd.DataFrame(target))"
   ]
  },
  {
   "cell_type": "code",
   "execution_count": 92,
   "metadata": {},
   "outputs": [
    {
     "data": {
      "text/html": [
       "<div>\n",
       "<style scoped>\n",
       "    .dataframe tbody tr th:only-of-type {\n",
       "        vertical-align: middle;\n",
       "    }\n",
       "\n",
       "    .dataframe tbody tr th {\n",
       "        vertical-align: top;\n",
       "    }\n",
       "\n",
       "    .dataframe thead th {\n",
       "        text-align: right;\n",
       "    }\n",
       "</style>\n",
       "<table border=\"1\" class=\"dataframe\">\n",
       "  <thead>\n",
       "    <tr style=\"text-align: right;\">\n",
       "      <th></th>\n",
       "      <th>DI</th>\n",
       "      <th>ROC</th>\n",
       "      <th>RSI</th>\n",
       "      <th>Aroon</th>\n",
       "      <th>SqrtRSI/Momentum</th>\n",
       "      <th>SqrtLarryWilliamsR*RSI</th>\n",
       "      <th>SqrtStochasticK*LogRSI</th>\n",
       "      <th>MACD</th>\n",
       "      <th>SqrtStochasticD/RSI</th>\n",
       "    </tr>\n",
       "  </thead>\n",
       "  <tbody>\n",
       "    <tr>\n",
       "      <th>0</th>\n",
       "      <td>0.558137</td>\n",
       "      <td>-0.097561</td>\n",
       "      <td>0.282646</td>\n",
       "      <td>-20.0</td>\n",
       "      <td>0.006753</td>\n",
       "      <td>2.289690</td>\n",
       "      <td>-7.408290</td>\n",
       "      <td>-0.117822</td>\n",
       "      <td>16.433047</td>\n",
       "    </tr>\n",
       "    <tr>\n",
       "      <th>1</th>\n",
       "      <td>8.400292</td>\n",
       "      <td>0.012739</td>\n",
       "      <td>0.381194</td>\n",
       "      <td>-20.0</td>\n",
       "      <td>0.006446</td>\n",
       "      <td>1.905970</td>\n",
       "      <td>-8.352348</td>\n",
       "      <td>-0.100660</td>\n",
       "      <td>16.462822</td>\n",
       "    </tr>\n",
       "    <tr>\n",
       "      <th>2</th>\n",
       "      <td>10.553252</td>\n",
       "      <td>0.182482</td>\n",
       "      <td>0.381194</td>\n",
       "      <td>-20.0</td>\n",
       "      <td>0.006250</td>\n",
       "      <td>1.440779</td>\n",
       "      <td>-8.929033</td>\n",
       "      <td>-0.083574</td>\n",
       "      <td>21.154836</td>\n",
       "    </tr>\n",
       "    <tr>\n",
       "      <th>3</th>\n",
       "      <td>3.982389</td>\n",
       "      <td>0.134328</td>\n",
       "      <td>0.381194</td>\n",
       "      <td>-20.0</td>\n",
       "      <td>0.006377</td>\n",
       "      <td>2.142129</td>\n",
       "      <td>-7.977606</td>\n",
       "      <td>-0.077545</td>\n",
       "      <td>22.926561</td>\n",
       "    </tr>\n",
       "    <tr>\n",
       "      <th>4</th>\n",
       "      <td>0.704759</td>\n",
       "      <td>0.027778</td>\n",
       "      <td>0.507614</td>\n",
       "      <td>-20.0</td>\n",
       "      <td>0.006595</td>\n",
       "      <td>3.293831</td>\n",
       "      <td>-5.159068</td>\n",
       "      <td>-0.075261</td>\n",
       "      <td>16.561682</td>\n",
       "    </tr>\n",
       "    <tr>\n",
       "      <th>...</th>\n",
       "      <td>...</td>\n",
       "      <td>...</td>\n",
       "      <td>...</td>\n",
       "      <td>...</td>\n",
       "      <td>...</td>\n",
       "      <td>...</td>\n",
       "      <td>...</td>\n",
       "      <td>...</td>\n",
       "      <td>...</td>\n",
       "    </tr>\n",
       "    <tr>\n",
       "      <th>6137</th>\n",
       "      <td>0.129382</td>\n",
       "      <td>0.022544</td>\n",
       "      <td>0.675676</td>\n",
       "      <td>40.0</td>\n",
       "      <td>0.007861</td>\n",
       "      <td>4.689973</td>\n",
       "      <td>-2.822166</td>\n",
       "      <td>7.253513</td>\n",
       "      <td>12.829290</td>\n",
       "    </tr>\n",
       "    <tr>\n",
       "      <th>6138</th>\n",
       "      <td>-0.538225</td>\n",
       "      <td>0.005432</td>\n",
       "      <td>0.675676</td>\n",
       "      <td>40.0</td>\n",
       "      <td>0.007974</td>\n",
       "      <td>4.961708</td>\n",
       "      <td>-2.661141</td>\n",
       "      <td>3.245089</td>\n",
       "      <td>11.721586</td>\n",
       "    </tr>\n",
       "    <tr>\n",
       "      <th>6139</th>\n",
       "      <td>0.884063</td>\n",
       "      <td>0.026592</td>\n",
       "      <td>0.675676</td>\n",
       "      <td>40.0</td>\n",
       "      <td>0.007942</td>\n",
       "      <td>4.181791</td>\n",
       "      <td>-3.079356</td>\n",
       "      <td>4.510905</td>\n",
       "      <td>10.794585</td>\n",
       "    </tr>\n",
       "    <tr>\n",
       "      <th>6140</th>\n",
       "      <td>1.180228</td>\n",
       "      <td>0.045033</td>\n",
       "      <td>0.910010</td>\n",
       "      <td>40.0</td>\n",
       "      <td>0.009286</td>\n",
       "      <td>5.071419</td>\n",
       "      <td>-0.782985</td>\n",
       "      <td>6.761087</td>\n",
       "      <td>8.433896</td>\n",
       "    </tr>\n",
       "    <tr>\n",
       "      <th>6141</th>\n",
       "      <td>2.448428</td>\n",
       "      <td>0.061355</td>\n",
       "      <td>0.910010</td>\n",
       "      <td>40.0</td>\n",
       "      <td>0.009102</td>\n",
       "      <td>3.326339</td>\n",
       "      <td>-0.877741</td>\n",
       "      <td>12.761081</td>\n",
       "      <td>9.351906</td>\n",
       "    </tr>\n",
       "  </tbody>\n",
       "</table>\n",
       "<p>6142 rows × 9 columns</p>\n",
       "</div>"
      ],
      "text/plain": [
       "             DI       ROC       RSI  Aroon  SqrtRSI/Momentum  \\\n",
       "0      0.558137 -0.097561  0.282646  -20.0          0.006753   \n",
       "1      8.400292  0.012739  0.381194  -20.0          0.006446   \n",
       "2     10.553252  0.182482  0.381194  -20.0          0.006250   \n",
       "3      3.982389  0.134328  0.381194  -20.0          0.006377   \n",
       "4      0.704759  0.027778  0.507614  -20.0          0.006595   \n",
       "...         ...       ...       ...    ...               ...   \n",
       "6137   0.129382  0.022544  0.675676   40.0          0.007861   \n",
       "6138  -0.538225  0.005432  0.675676   40.0          0.007974   \n",
       "6139   0.884063  0.026592  0.675676   40.0          0.007942   \n",
       "6140   1.180228  0.045033  0.910010   40.0          0.009286   \n",
       "6141   2.448428  0.061355  0.910010   40.0          0.009102   \n",
       "\n",
       "      SqrtLarryWilliamsR*RSI  SqrtStochasticK*LogRSI       MACD  \\\n",
       "0                   2.289690               -7.408290  -0.117822   \n",
       "1                   1.905970               -8.352348  -0.100660   \n",
       "2                   1.440779               -8.929033  -0.083574   \n",
       "3                   2.142129               -7.977606  -0.077545   \n",
       "4                   3.293831               -5.159068  -0.075261   \n",
       "...                      ...                     ...        ...   \n",
       "6137                4.689973               -2.822166   7.253513   \n",
       "6138                4.961708               -2.661141   3.245089   \n",
       "6139                4.181791               -3.079356   4.510905   \n",
       "6140                5.071419               -0.782985   6.761087   \n",
       "6141                3.326339               -0.877741  12.761081   \n",
       "\n",
       "      SqrtStochasticD/RSI  \n",
       "0               16.433047  \n",
       "1               16.462822  \n",
       "2               21.154836  \n",
       "3               22.926561  \n",
       "4               16.561682  \n",
       "...                   ...  \n",
       "6137            12.829290  \n",
       "6138            11.721586  \n",
       "6139            10.794585  \n",
       "6140             8.433896  \n",
       "6141             9.351906  \n",
       "\n",
       "[6142 rows x 9 columns]"
      ]
     },
     "execution_count": 92,
     "metadata": {},
     "output_type": "execute_result"
    }
   ],
   "source": [
    "selected_data"
   ]
  },
  {
   "cell_type": "code",
   "execution_count": 93,
   "metadata": {},
   "outputs": [],
   "source": [
    "from sklearn.preprocessing import StandardScaler"
   ]
  },
  {
   "cell_type": "code",
   "execution_count": 94,
   "metadata": {},
   "outputs": [
    {
     "data": {
      "text/plain": [
       "StandardScaler()"
      ]
     },
     "execution_count": 94,
     "metadata": {},
     "output_type": "execute_result"
    }
   ],
   "source": [
    "scaler = StandardScaler()  \n",
    "scaler.fit(selected_data)"
   ]
  },
  {
   "cell_type": "code",
   "execution_count": 95,
   "metadata": {},
   "outputs": [],
   "source": [
    "\n",
    "selected_scaled_data = scaler.transform(selected_data)"
   ]
  },
  {
   "cell_type": "code",
   "execution_count": 96,
   "metadata": {},
   "outputs": [],
   "source": [
    "from sklearn.model_selection import train_test_split\n",
    "\n",
    "X_train, X_test, y_train, y_test = train_test_split(selected_scaled_data,target,test_size=0.3)"
   ]
  },
  {
   "cell_type": "code",
   "execution_count": 97,
   "metadata": {},
   "outputs": [],
   "source": [
    "X_train = scaler.transform(X_train)  \n",
    "X_test = scaler.transform(X_test) "
   ]
  },
  {
   "cell_type": "code",
   "execution_count": 98,
   "metadata": {},
   "outputs": [],
   "source": [
    "selected_scaled_data_df = pd.DataFrame(selected_scaled_data)\n",
    "selected_scaled_data_1250 = selected_scaled_data_df.tail(1250)\n",
    "selected_scaled_data_250 = selected_scaled_data_df.tail(250)\n",
    "selected_scaled_data_125 = selected_scaled_data_df.tail(125)\n",
    "target_1250 = target.tail(1250)\n",
    "target_250 = target.tail(250)\n",
    "target_125 = target.tail(125)"
   ]
  },
  {
   "cell_type": "code",
   "execution_count": 99,
   "metadata": {},
   "outputs": [],
   "source": [
    "X_train_1250, X_test_1250, y_train_1250, y_test_1250 = train_test_split(selected_scaled_data_1250,target_1250,test_size=0.3)"
   ]
  },
  {
   "cell_type": "code",
   "execution_count": 100,
   "metadata": {},
   "outputs": [],
   "source": [
    "X_train_250, X_test_250, y_train_250, y_test_250 = train_test_split(selected_scaled_data_250,target_250,test_size=0.3)"
   ]
  },
  {
   "cell_type": "code",
   "execution_count": 101,
   "metadata": {},
   "outputs": [],
   "source": [
    "X_train_125, X_test_125, y_train_125, y_test_125 = train_test_split(selected_scaled_data_125,target_125,test_size=0.3)"
   ]
  },
  {
   "cell_type": "markdown",
   "metadata": {},
   "source": [
    "### Logistic Regression"
   ]
  },
  {
   "cell_type": "markdown",
   "metadata": {},
   "source": [
    "#### Max Duration"
   ]
  },
  {
   "cell_type": "code",
   "execution_count": 102,
   "metadata": {},
   "outputs": [],
   "source": [
    "from sklearn.metrics import accuracy_score\n",
    "from sklearn.metrics import confusion_matrix"
   ]
  },
  {
   "cell_type": "code",
   "execution_count": 103,
   "metadata": {},
   "outputs": [],
   "source": [
    "lr = LogisticRegression(solver='liblinear', multi_class='ovr')\n",
    "trained_model_lr = lr.fit(X_train, y_train)\n",
    "predictions_lr = trained_model_lr.predict(X_test)\n",
    "\n",
    "Train_accuracy_lr = accuracy_score(y_train,trained_model_lr.predict(X_train))\n",
    "Test_accuracy_lr = accuracy_score(y_test, predictions_lr)\n",
    "Confusion_matrix_lr = confusion_matrix(y_test,predictions_lr)"
   ]
  },
  {
   "cell_type": "code",
   "execution_count": 104,
   "metadata": {},
   "outputs": [
    {
     "data": {
      "text/plain": [
       "0.6408467085368691"
      ]
     },
     "execution_count": 104,
     "metadata": {},
     "output_type": "execute_result"
    }
   ],
   "source": [
    "Train_accuracy_lr"
   ]
  },
  {
   "cell_type": "code",
   "execution_count": 105,
   "metadata": {},
   "outputs": [
    {
     "data": {
      "text/plain": [
       "0.6592512208355942"
      ]
     },
     "execution_count": 105,
     "metadata": {},
     "output_type": "execute_result"
    }
   ],
   "source": [
    "Test_accuracy_lr"
   ]
  },
  {
   "cell_type": "markdown",
   "metadata": {},
   "source": [
    "#### 5 Years"
   ]
  },
  {
   "cell_type": "code",
   "execution_count": 106,
   "metadata": {},
   "outputs": [],
   "source": [
    "trained_model_lr_1250 = lr.fit(X_train_1250, y_train_1250)\n",
    "predictions_lr_1250 = trained_model_lr_1250.predict(X_test_1250)\n",
    "\n",
    "Train_accuracy_lr_1250 = accuracy_score(y_train_1250,trained_model_lr_1250.predict(X_train_1250))\n",
    "Test_accuracy_lr_1250 = accuracy_score(y_test_1250, predictions_lr_1250)\n",
    "Confusion_matrix_lr_1250 = confusion_matrix(y_test_1250,predictions_lr_1250)"
   ]
  },
  {
   "cell_type": "code",
   "execution_count": 107,
   "metadata": {},
   "outputs": [
    {
     "data": {
      "text/plain": [
       "0.6514285714285715"
      ]
     },
     "execution_count": 107,
     "metadata": {},
     "output_type": "execute_result"
    }
   ],
   "source": [
    "Train_accuracy_lr_1250"
   ]
  },
  {
   "cell_type": "code",
   "execution_count": 108,
   "metadata": {},
   "outputs": [
    {
     "data": {
      "text/plain": [
       "0.6586666666666666"
      ]
     },
     "execution_count": 108,
     "metadata": {},
     "output_type": "execute_result"
    }
   ],
   "source": [
    "Test_accuracy_lr_1250"
   ]
  },
  {
   "cell_type": "markdown",
   "metadata": {},
   "source": [
    "#### 1 Year"
   ]
  },
  {
   "cell_type": "code",
   "execution_count": 109,
   "metadata": {},
   "outputs": [],
   "source": [
    "trained_model_lr_250 = lr.fit(X_train_250, y_train_250)\n",
    "predictions_lr_250 = trained_model_lr_250.predict(X_test_250)\n",
    "\n",
    "Train_accuracy_lr_250 = accuracy_score(y_train_250,trained_model_lr_250.predict(X_train_250))\n",
    "Test_accuracy_lr_250 = accuracy_score(y_test_250, predictions_lr_250)\n",
    "Confusion_matrix_lr_250 = confusion_matrix(y_test_250,predictions_lr_250)"
   ]
  },
  {
   "cell_type": "code",
   "execution_count": 110,
   "metadata": {},
   "outputs": [
    {
     "data": {
      "text/plain": [
       "0.7314285714285714"
      ]
     },
     "execution_count": 110,
     "metadata": {},
     "output_type": "execute_result"
    }
   ],
   "source": [
    "Train_accuracy_lr_250"
   ]
  },
  {
   "cell_type": "code",
   "execution_count": 111,
   "metadata": {},
   "outputs": [
    {
     "data": {
      "text/plain": [
       "0.5866666666666667"
      ]
     },
     "execution_count": 111,
     "metadata": {},
     "output_type": "execute_result"
    }
   ],
   "source": [
    "Test_accuracy_lr_250"
   ]
  },
  {
   "cell_type": "markdown",
   "metadata": {},
   "source": [
    "#### 6 Months"
   ]
  },
  {
   "cell_type": "code",
   "execution_count": 112,
   "metadata": {},
   "outputs": [],
   "source": [
    "trained_model_lr_125 = lr.fit(X_train_125, y_train_125)\n",
    "predictions_lr_125 = trained_model_lr_125.predict(X_test_125)\n",
    "\n",
    "Train_accuracy_lr_125 = accuracy_score(y_train_125,trained_model_lr_125.predict(X_train_125))\n",
    "Test_accuracy_lr_125 = accuracy_score(y_test_125, predictions_lr_125)\n",
    "Confusion_matrix_lr_125 = confusion_matrix(y_test_125,predictions_lr_125)"
   ]
  },
  {
   "cell_type": "code",
   "execution_count": 113,
   "metadata": {},
   "outputs": [
    {
     "data": {
      "text/plain": [
       "0.632183908045977"
      ]
     },
     "execution_count": 113,
     "metadata": {},
     "output_type": "execute_result"
    }
   ],
   "source": [
    "Train_accuracy_lr_125"
   ]
  },
  {
   "cell_type": "code",
   "execution_count": 114,
   "metadata": {},
   "outputs": [
    {
     "data": {
      "text/plain": [
       "0.4473684210526316"
      ]
     },
     "execution_count": 114,
     "metadata": {},
     "output_type": "execute_result"
    }
   ],
   "source": [
    "Test_accuracy_lr_125"
   ]
  },
  {
   "cell_type": "markdown",
   "metadata": {},
   "source": [
    "#### Last 100 Days based on Best Model - Max Duration"
   ]
  },
  {
   "cell_type": "code",
   "execution_count": 115,
   "metadata": {},
   "outputs": [],
   "source": [
    "last100 = selected_scaled_data_df.tail(100)"
   ]
  },
  {
   "cell_type": "code",
   "execution_count": 116,
   "metadata": {},
   "outputs": [
    {
     "data": {
      "text/plain": [
       "array([1, 1, 1, 0, 0, 1, 1, 1, 1, 1, 0, 0, 0, 0, 0, 0, 0, 0, 0, 0, 0, 0,\n",
       "       0, 0, 0, 0, 0, 0, 1, 1, 1, 1, 0, 0, 0, 1, 1, 1, 1, 1, 1, 1, 1, 1,\n",
       "       1, 1, 1, 1, 1, 1, 1, 1, 1, 0, 0, 0, 1, 1, 1, 1, 1, 1, 1, 1, 1, 1,\n",
       "       1, 1, 1, 1, 0, 0, 1, 1, 1, 0, 0, 0, 1, 1, 1, 1, 1, 1, 1, 0, 0, 0,\n",
       "       0, 1, 1, 1, 1, 1, 1, 1, 1, 1, 1, 1])"
      ]
     },
     "execution_count": 116,
     "metadata": {},
     "output_type": "execute_result"
    }
   ],
   "source": [
    "predictions_lr_100 = trained_model_lr_1250.predict(last100)\n",
    "predictions_lr_100"
   ]
  },
  {
   "cell_type": "markdown",
   "metadata": {},
   "source": [
    "### SVM"
   ]
  },
  {
   "cell_type": "code",
   "execution_count": 117,
   "metadata": {},
   "outputs": [],
   "source": [
    "svm = SVC(gamma='auto')\n",
    "trained_model_svm = svm.fit(X_train, y_train)\n",
    "predictions_svm = trained_model_svm.predict(X_test)\n",
    "\n",
    "Train_accuracy_svm = accuracy_score(y_train,trained_model_svm.predict(X_train))\n",
    "Test_accuracy_svm = accuracy_score(y_test, predictions_svm)\n",
    "Confusion_matrix_svm = confusion_matrix(y_test,predictions_svm)"
   ]
  },
  {
   "cell_type": "code",
   "execution_count": 118,
   "metadata": {},
   "outputs": [
    {
     "data": {
      "text/plain": [
       "0.8408932309839497"
      ]
     },
     "execution_count": 118,
     "metadata": {},
     "output_type": "execute_result"
    }
   ],
   "source": [
    "Train_accuracy_svm"
   ]
  },
  {
   "cell_type": "code",
   "execution_count": 119,
   "metadata": {},
   "outputs": [
    {
     "data": {
      "text/plain": [
       "0.5773195876288659"
      ]
     },
     "execution_count": 119,
     "metadata": {},
     "output_type": "execute_result"
    }
   ],
   "source": [
    "Test_accuracy_svm"
   ]
  },
  {
   "cell_type": "markdown",
   "metadata": {},
   "source": [
    "#### 5 Years"
   ]
  },
  {
   "cell_type": "code",
   "execution_count": 120,
   "metadata": {},
   "outputs": [],
   "source": [
    "trained_model_svm_1250 = svm.fit(X_train_1250, y_train_1250)\n",
    "predictions_svm_1250 = trained_model_svm_1250.predict(X_test_1250)\n",
    "\n",
    "Train_accuracy_svm_1250 = accuracy_score(y_train_1250,trained_model_svm_1250.predict(X_train_1250))\n",
    "Test_accuracy_svm_1250 = accuracy_score(y_test_1250, predictions_svm_1250)\n",
    "Confusion_matrix_svm_1250 = confusion_matrix(y_test_1250,predictions_svm_1250)"
   ]
  },
  {
   "cell_type": "code",
   "execution_count": 121,
   "metadata": {},
   "outputs": [
    {
     "data": {
      "text/plain": [
       "0.664"
      ]
     },
     "execution_count": 121,
     "metadata": {},
     "output_type": "execute_result"
    }
   ],
   "source": [
    "Train_accuracy_svm_1250"
   ]
  },
  {
   "cell_type": "code",
   "execution_count": 122,
   "metadata": {},
   "outputs": [
    {
     "data": {
      "text/plain": [
       "0.6586666666666666"
      ]
     },
     "execution_count": 122,
     "metadata": {},
     "output_type": "execute_result"
    }
   ],
   "source": [
    "Test_accuracy_svm_1250"
   ]
  },
  {
   "cell_type": "markdown",
   "metadata": {},
   "source": [
    "#### 1 Year"
   ]
  },
  {
   "cell_type": "code",
   "execution_count": 123,
   "metadata": {},
   "outputs": [],
   "source": [
    "trained_model_svm_250 = svm.fit(X_train_250, y_train_250)\n",
    "predictions_svm_250 = trained_model_svm_1250.predict(X_test_250)\n",
    "\n",
    "Train_accuracy_svm_250 = accuracy_score(y_train_250,trained_model_svm_250.predict(X_train_250))\n",
    "Test_accuracy_svm_250 = accuracy_score(y_test_250, predictions_svm_250)\n",
    "Confusion_matrix_svm_250 = confusion_matrix(y_test_250,predictions_svm_250)"
   ]
  },
  {
   "cell_type": "code",
   "execution_count": 124,
   "metadata": {},
   "outputs": [
    {
     "data": {
      "text/plain": [
       "0.7428571428571429"
      ]
     },
     "execution_count": 124,
     "metadata": {},
     "output_type": "execute_result"
    }
   ],
   "source": [
    "Train_accuracy_svm_250"
   ]
  },
  {
   "cell_type": "code",
   "execution_count": 125,
   "metadata": {},
   "outputs": [
    {
     "data": {
      "text/plain": [
       "0.6"
      ]
     },
     "execution_count": 125,
     "metadata": {},
     "output_type": "execute_result"
    }
   ],
   "source": [
    "Test_accuracy_svm_250"
   ]
  },
  {
   "cell_type": "markdown",
   "metadata": {},
   "source": [
    "#### 6 Months"
   ]
  },
  {
   "cell_type": "code",
   "execution_count": 126,
   "metadata": {},
   "outputs": [],
   "source": [
    "trained_model_svm_125 = svm.fit(X_train_125, y_train_125)\n",
    "predictions_svm_125 = trained_model_svm_1250.predict(X_test_125)\n",
    "\n",
    "Train_accuracy_svm_125 = accuracy_score(y_train_125,trained_model_svm_125.predict(X_train_125))\n",
    "Test_accuracy_svm_125 = accuracy_score(y_test_125, predictions_svm_125)\n",
    "Confusion_matrix_svm_125 = confusion_matrix(y_test_125,predictions_svm_125)"
   ]
  },
  {
   "cell_type": "code",
   "execution_count": 127,
   "metadata": {},
   "outputs": [
    {
     "data": {
      "text/plain": [
       "0.7011494252873564"
      ]
     },
     "execution_count": 127,
     "metadata": {},
     "output_type": "execute_result"
    }
   ],
   "source": [
    "Train_accuracy_svm_125"
   ]
  },
  {
   "cell_type": "code",
   "execution_count": 128,
   "metadata": {},
   "outputs": [
    {
     "data": {
      "text/plain": [
       "0.5"
      ]
     },
     "execution_count": 128,
     "metadata": {},
     "output_type": "execute_result"
    }
   ],
   "source": [
    "Test_accuracy_svm_125"
   ]
  },
  {
   "cell_type": "markdown",
   "metadata": {},
   "source": [
    "#### Last 100 Days based on Best Model - Max Duration"
   ]
  },
  {
   "cell_type": "code",
   "execution_count": 129,
   "metadata": {},
   "outputs": [
    {
     "data": {
      "text/plain": [
       "array([1, 0, 1, 0, 0, 1, 1, 1, 1, 1, 0, 0, 0, 1, 0, 0, 0, 1, 1, 0, 0, 0,\n",
       "       0, 0, 0, 0, 0, 0, 1, 1, 1, 1, 0, 1, 1, 1, 1, 1, 1, 0, 0, 1, 1, 1,\n",
       "       1, 1, 1, 1, 1, 1, 1, 1, 1, 0, 0, 1, 1, 1, 1, 1, 1, 1, 1, 1, 1, 1,\n",
       "       1, 1, 1, 1, 1, 0, 1, 1, 1, 0, 0, 0, 0, 1, 1, 1, 1, 1, 1, 1, 1, 1,\n",
       "       1, 1, 1, 0, 0, 1, 1, 1, 1, 1, 1, 1])"
      ]
     },
     "execution_count": 129,
     "metadata": {},
     "output_type": "execute_result"
    }
   ],
   "source": [
    "predictions_svm_100 = trained_model_svm.predict(last100)\n",
    "predictions_svm_100"
   ]
  },
  {
   "cell_type": "markdown",
   "metadata": {},
   "source": [
    "### RandomForest"
   ]
  },
  {
   "cell_type": "code",
   "execution_count": 130,
   "metadata": {},
   "outputs": [],
   "source": [
    "rf = RandomForestClassifier(n_estimators=10)\n",
    "trained_model_rf = rf.fit(X_train, y_train)\n",
    "predictions_rf = trained_model_rf.predict(X_test)\n",
    "\n",
    "Train_accuracy_rf = accuracy_score(y_train, trained_model_rf.predict(X_train))\n",
    "Test_accuracy_rf = accuracy_score(y_test, predictions_rf)\n",
    "Confusion_matrix_rf = confusion_matrix(y_test, predictions_rf)"
   ]
  },
  {
   "cell_type": "code",
   "execution_count": 131,
   "metadata": {},
   "outputs": [
    {
     "data": {
      "text/plain": [
       "0.981623633403117"
      ]
     },
     "execution_count": 131,
     "metadata": {},
     "output_type": "execute_result"
    }
   ],
   "source": [
    "Train_accuracy_rf"
   ]
  },
  {
   "cell_type": "code",
   "execution_count": 132,
   "metadata": {},
   "outputs": [
    {
     "data": {
      "text/plain": [
       "0.6044492674986435"
      ]
     },
     "execution_count": 132,
     "metadata": {},
     "output_type": "execute_result"
    }
   ],
   "source": [
    "Test_accuracy_rf"
   ]
  },
  {
   "cell_type": "markdown",
   "metadata": {},
   "source": [
    "#### 5 Years"
   ]
  },
  {
   "cell_type": "code",
   "execution_count": 133,
   "metadata": {},
   "outputs": [],
   "source": [
    "trained_model_rf_1250 = rf.fit(X_train_1250, y_train_1250)\n",
    "predictions_rf_1250 = trained_model_rf_1250.predict(X_test_1250)\n",
    "\n",
    "Train_accuracy_rf_1250 = accuracy_score(y_train_1250,trained_model_rf_1250.predict(X_train_1250))\n",
    "Test_accuracy_rf_1250 = accuracy_score(y_test_1250, predictions_rf_1250)\n",
    "Confusion_matrix_rf_1250 = confusion_matrix(y_test_1250,predictions_rf_1250)"
   ]
  },
  {
   "cell_type": "code",
   "execution_count": 134,
   "metadata": {},
   "outputs": [
    {
     "data": {
      "text/plain": [
       "0.9725714285714285"
      ]
     },
     "execution_count": 134,
     "metadata": {},
     "output_type": "execute_result"
    }
   ],
   "source": [
    "Train_accuracy_rf_1250"
   ]
  },
  {
   "cell_type": "code",
   "execution_count": 135,
   "metadata": {},
   "outputs": [
    {
     "data": {
      "text/plain": [
       "0.6026666666666667"
      ]
     },
     "execution_count": 135,
     "metadata": {},
     "output_type": "execute_result"
    }
   ],
   "source": [
    "Test_accuracy_rf_1250"
   ]
  },
  {
   "cell_type": "markdown",
   "metadata": {},
   "source": [
    "#### 1 Year"
   ]
  },
  {
   "cell_type": "code",
   "execution_count": 136,
   "metadata": {},
   "outputs": [],
   "source": [
    "trained_model_rf_250 = rf.fit(X_train_250, y_train_250)\n",
    "predictions_rf_250 = trained_model_rf_250.predict(X_test_250)\n",
    "\n",
    "Train_accuracy_rf_250 = accuracy_score(y_train_250,trained_model_rf_250.predict(X_train_250))\n",
    "Test_accuracy_rf_250 = accuracy_score(y_test_250, predictions_rf_250)\n",
    "Confusion_matrix_rf_250 = confusion_matrix(y_test_250,predictions_rf_250)"
   ]
  },
  {
   "cell_type": "code",
   "execution_count": 137,
   "metadata": {},
   "outputs": [
    {
     "data": {
      "text/plain": [
       "0.9714285714285714"
      ]
     },
     "execution_count": 137,
     "metadata": {},
     "output_type": "execute_result"
    }
   ],
   "source": [
    "Train_accuracy_rf_250"
   ]
  },
  {
   "cell_type": "code",
   "execution_count": 138,
   "metadata": {},
   "outputs": [
    {
     "data": {
      "text/plain": [
       "0.5066666666666667"
      ]
     },
     "execution_count": 138,
     "metadata": {},
     "output_type": "execute_result"
    }
   ],
   "source": [
    "Test_accuracy_rf_250"
   ]
  },
  {
   "cell_type": "markdown",
   "metadata": {},
   "source": [
    "#### 6 Months"
   ]
  },
  {
   "cell_type": "code",
   "execution_count": 139,
   "metadata": {},
   "outputs": [],
   "source": [
    "trained_model_rf_125 = rf.fit(X_train_125, y_train_125)\n",
    "predictions_rf_125 = trained_model_rf_125.predict(X_test_125)\n",
    "\n",
    "Train_accuracy_rf_125 = accuracy_score(y_train_125,trained_model_rf_125.predict(X_train_125))\n",
    "Test_accuracy_rf_125 = accuracy_score(y_test_125, predictions_rf_125)\n",
    "Confusion_matrix_rf_125 = confusion_matrix(y_test_125,predictions_rf_125)"
   ]
  },
  {
   "cell_type": "code",
   "execution_count": 140,
   "metadata": {},
   "outputs": [
    {
     "data": {
      "text/plain": [
       "0.9770114942528736"
      ]
     },
     "execution_count": 140,
     "metadata": {},
     "output_type": "execute_result"
    }
   ],
   "source": [
    "Train_accuracy_rf_125"
   ]
  },
  {
   "cell_type": "code",
   "execution_count": 141,
   "metadata": {},
   "outputs": [
    {
     "data": {
      "text/plain": [
       "0.5789473684210527"
      ]
     },
     "execution_count": 141,
     "metadata": {},
     "output_type": "execute_result"
    }
   ],
   "source": [
    "Test_accuracy_rf_125"
   ]
  },
  {
   "cell_type": "markdown",
   "metadata": {},
   "source": [
    "#### Last 100 Days based on Best Model"
   ]
  },
  {
   "cell_type": "code",
   "execution_count": 142,
   "metadata": {},
   "outputs": [
    {
     "data": {
      "text/plain": [
       "array([1, 0, 1, 0, 1, 1, 0, 0, 1, 0, 0, 0, 0, 1, 0, 0, 0, 1, 1, 1, 0, 0,\n",
       "       0, 0, 0, 0, 0, 1, 1, 1, 1, 1, 0, 0, 0, 0, 1, 1, 0, 0, 0, 0, 1, 1,\n",
       "       1, 0, 1, 0, 0, 1, 1, 1, 1, 0, 0, 0, 1, 1, 1, 0, 1, 1, 1, 0, 1, 0,\n",
       "       0, 1, 1, 0, 0, 0, 1, 1, 1, 0, 0, 0, 0, 1, 1, 1, 1, 1, 0, 0, 1, 1,\n",
       "       1, 1, 0, 0, 0, 1, 1, 1, 1, 1, 1, 0])"
      ]
     },
     "execution_count": 142,
     "metadata": {},
     "output_type": "execute_result"
    }
   ],
   "source": [
    "predictions_rf_100 = trained_model_rf_125.predict(last100)\n",
    "predictions_rf_100"
   ]
  },
  {
   "cell_type": "markdown",
   "metadata": {},
   "source": [
    "### KNN"
   ]
  },
  {
   "cell_type": "code",
   "execution_count": 143,
   "metadata": {},
   "outputs": [],
   "source": [
    "knn = KNeighborsClassifier(n_neighbors=5)\n",
    "trained_model_knn = knn.fit(X_train, y_train)\n",
    "predictions_knn = trained_model_knn.predict(X_test)\n",
    "\n",
    "Train_accuracy_knn = accuracy_score(y_train, trained_model_knn.predict(X_train))\n",
    "Test_accuracy_knn = accuracy_score(y_test, predictions_knn)\n",
    "Confusion_matrix_knn = confusion_matrix(y_test, predictions_knn)"
   ]
  },
  {
   "cell_type": "code",
   "execution_count": 144,
   "metadata": {},
   "outputs": [
    {
     "data": {
      "text/plain": [
       "0.7245871132821586"
      ]
     },
     "execution_count": 144,
     "metadata": {},
     "output_type": "execute_result"
    }
   ],
   "source": [
    "Train_accuracy_knn"
   ]
  },
  {
   "cell_type": "code",
   "execution_count": 145,
   "metadata": {},
   "outputs": [
    {
     "data": {
      "text/plain": [
       "0.5952251763429192"
      ]
     },
     "execution_count": 145,
     "metadata": {},
     "output_type": "execute_result"
    }
   ],
   "source": [
    "Test_accuracy_knn"
   ]
  },
  {
   "cell_type": "markdown",
   "metadata": {},
   "source": [
    "#### 5 Years"
   ]
  },
  {
   "cell_type": "code",
   "execution_count": 146,
   "metadata": {},
   "outputs": [],
   "source": [
    "trained_model_knn_1250 = knn.fit(X_train_1250, y_train_1250)\n",
    "predictions_knn_1250 = trained_model_knn_1250.predict(X_test_1250)\n",
    "\n",
    "Train_accuracy_knn_1250 = accuracy_score(y_train_1250,trained_model_knn_1250.predict(X_train_1250))\n",
    "Test_accuracy_knn_1250 = accuracy_score(y_test_1250, predictions_knn_1250)\n",
    "Confusion_matrix_knn_1250 = confusion_matrix(y_test_1250,predictions_knn_1250)"
   ]
  },
  {
   "cell_type": "code",
   "execution_count": 147,
   "metadata": {},
   "outputs": [
    {
     "data": {
      "text/plain": [
       "0.7554285714285714"
      ]
     },
     "execution_count": 147,
     "metadata": {},
     "output_type": "execute_result"
    }
   ],
   "source": [
    "Train_accuracy_knn_1250"
   ]
  },
  {
   "cell_type": "code",
   "execution_count": 148,
   "metadata": {},
   "outputs": [
    {
     "data": {
      "text/plain": [
       "0.592"
      ]
     },
     "execution_count": 148,
     "metadata": {},
     "output_type": "execute_result"
    }
   ],
   "source": [
    "Test_accuracy_knn_1250"
   ]
  },
  {
   "cell_type": "markdown",
   "metadata": {},
   "source": [
    "#### 1 Year"
   ]
  },
  {
   "cell_type": "code",
   "execution_count": 149,
   "metadata": {},
   "outputs": [],
   "source": [
    "trained_model_knn_250 = knn.fit(X_train_250, y_train_250)\n",
    "predictions_knn_250 = trained_model_knn_250.predict(X_test_250)\n",
    "\n",
    "Train_accuracy_knn_250 = accuracy_score(y_train_250,trained_model_knn_250.predict(X_train_250))\n",
    "Test_accuracy_knn_250 = accuracy_score(y_test_250, predictions_knn_250)\n",
    "Confusion_matrix_knn_250 = confusion_matrix(y_test_250,predictions_knn_250)"
   ]
  },
  {
   "cell_type": "code",
   "execution_count": 150,
   "metadata": {},
   "outputs": [
    {
     "data": {
      "text/plain": [
       "0.8"
      ]
     },
     "execution_count": 150,
     "metadata": {},
     "output_type": "execute_result"
    }
   ],
   "source": [
    "Train_accuracy_knn_250"
   ]
  },
  {
   "cell_type": "code",
   "execution_count": 151,
   "metadata": {},
   "outputs": [
    {
     "data": {
      "text/plain": [
       "0.4666666666666667"
      ]
     },
     "execution_count": 151,
     "metadata": {},
     "output_type": "execute_result"
    }
   ],
   "source": [
    "Test_accuracy_knn_250"
   ]
  },
  {
   "cell_type": "markdown",
   "metadata": {},
   "source": [
    "#### 6 Months"
   ]
  },
  {
   "cell_type": "code",
   "execution_count": 152,
   "metadata": {},
   "outputs": [],
   "source": [
    "trained_model_knn_125 = knn.fit(X_train_125, y_train_125)\n",
    "predictions_knn_125 = trained_model_knn_125.predict(X_test_125)\n",
    "\n",
    "Train_accuracy_knn_125 = accuracy_score(y_train_125,trained_model_knn_125.predict(X_train_125))\n",
    "Test_accuracy_knn_125 = accuracy_score(y_test_125, predictions_knn_125)\n",
    "Confusion_matrix_knn_125 = confusion_matrix(y_test_125,predictions_knn_125)"
   ]
  },
  {
   "cell_type": "code",
   "execution_count": 153,
   "metadata": {},
   "outputs": [
    {
     "data": {
      "text/plain": [
       "0.7126436781609196"
      ]
     },
     "execution_count": 153,
     "metadata": {},
     "output_type": "execute_result"
    }
   ],
   "source": [
    "Train_accuracy_knn_125"
   ]
  },
  {
   "cell_type": "code",
   "execution_count": 154,
   "metadata": {},
   "outputs": [
    {
     "data": {
      "text/plain": [
       "0.631578947368421"
      ]
     },
     "execution_count": 154,
     "metadata": {},
     "output_type": "execute_result"
    }
   ],
   "source": [
    "Test_accuracy_knn_125"
   ]
  },
  {
   "cell_type": "markdown",
   "metadata": {},
   "source": [
    "#### Last 100 Days based on Best Model"
   ]
  },
  {
   "cell_type": "code",
   "execution_count": 155,
   "metadata": {},
   "outputs": [
    {
     "data": {
      "text/plain": [
       "array([0, 1, 1, 1, 1, 1, 1, 1, 1, 0, 1, 0, 1, 1, 0, 0, 0, 1, 1, 0, 0, 0,\n",
       "       0, 0, 0, 0, 0, 0, 1, 1, 1, 1, 1, 1, 1, 1, 1, 1, 1, 1, 1, 1, 1, 1,\n",
       "       1, 0, 1, 0, 0, 0, 1, 1, 0, 0, 0, 1, 1, 1, 1, 0, 1, 1, 1, 1, 1, 0,\n",
       "       0, 0, 0, 0, 0, 1, 1, 1, 1, 0, 0, 0, 0, 1, 1, 1, 1, 1, 1, 1, 1, 1,\n",
       "       1, 1, 1, 0, 0, 0, 1, 1, 1, 1, 1, 1])"
      ]
     },
     "execution_count": 155,
     "metadata": {},
     "output_type": "execute_result"
    }
   ],
   "source": [
    "predictions_knn_100 = trained_model_knn.predict(last100)\n",
    "predictions_knn_100"
   ]
  },
  {
   "cell_type": "markdown",
   "metadata": {},
   "source": [
    "### XGBoost"
   ]
  },
  {
   "cell_type": "code",
   "execution_count": 156,
   "metadata": {},
   "outputs": [
    {
     "name": "stdout",
     "output_type": "stream",
     "text": [
      "[13:22:03] WARNING: C:/Users/Administrator/workspace/xgboost-win64_release_1.5.0/src/learner.cc:1115: Starting in XGBoost 1.3.0, the default evaluation metric used with the objective 'binary:logistic' was changed from 'error' to 'logloss'. Explicitly set eval_metric if you'd like to restore the old behavior.\n"
     ]
    }
   ],
   "source": [
    "xgb = XGBClassifier(use_label_encoder=False)\n",
    "trained_model_xgb = xgb.fit(X_train, y_train)\n",
    "predictions_xgb = trained_model_xgb.predict(X_test)\n",
    "\n",
    "Train_accuracy_xgb = accuracy_score(y_train, trained_model_xgb.predict(X_train))\n",
    "Test_accuracy_xgb = accuracy_score(y_test, predictions_xgb)\n",
    "Confusion_matrix_xgb = confusion_matrix(y_test, predictions_xgb)"
   ]
  },
  {
   "cell_type": "code",
   "execution_count": 157,
   "metadata": {},
   "outputs": [
    {
     "data": {
      "text/plain": [
       "0.9648755524540591"
      ]
     },
     "execution_count": 157,
     "metadata": {},
     "output_type": "execute_result"
    }
   ],
   "source": [
    "Train_accuracy_xgb"
   ]
  },
  {
   "cell_type": "code",
   "execution_count": 158,
   "metadata": {},
   "outputs": [
    {
     "data": {
      "text/plain": [
       "0.6174715138361367"
      ]
     },
     "execution_count": 158,
     "metadata": {},
     "output_type": "execute_result"
    }
   ],
   "source": [
    "Test_accuracy_xgb"
   ]
  },
  {
   "cell_type": "markdown",
   "metadata": {},
   "source": [
    "#### 5 Years"
   ]
  },
  {
   "cell_type": "code",
   "execution_count": 159,
   "metadata": {},
   "outputs": [
    {
     "name": "stdout",
     "output_type": "stream",
     "text": [
      "[13:22:03] WARNING: C:/Users/Administrator/workspace/xgboost-win64_release_1.5.0/src/learner.cc:1115: Starting in XGBoost 1.3.0, the default evaluation metric used with the objective 'binary:logistic' was changed from 'error' to 'logloss'. Explicitly set eval_metric if you'd like to restore the old behavior.\n"
     ]
    }
   ],
   "source": [
    "trained_model_xgb_1250 = xgb.fit(X_train_1250, y_train_1250)\n",
    "predictions_xgb_1250 = trained_model_xgb_1250.predict(X_test_1250)\n",
    "\n",
    "Train_accuracy_xgb_1250 = accuracy_score(y_train_1250,trained_model_xgb_1250.predict(X_train_1250))\n",
    "Test_accuracy_xgb_1250 = accuracy_score(y_test_1250, predictions_xgb_1250)\n",
    "Confusion_matrix_xgb_1250 = confusion_matrix(y_test_1250,predictions_xgb_1250)"
   ]
  },
  {
   "cell_type": "code",
   "execution_count": 160,
   "metadata": {},
   "outputs": [
    {
     "data": {
      "text/plain": [
       "1.0"
      ]
     },
     "execution_count": 160,
     "metadata": {},
     "output_type": "execute_result"
    }
   ],
   "source": [
    "Train_accuracy_xgb_1250"
   ]
  },
  {
   "cell_type": "code",
   "execution_count": 161,
   "metadata": {},
   "outputs": [
    {
     "data": {
      "text/plain": [
       "0.6453333333333333"
      ]
     },
     "execution_count": 161,
     "metadata": {},
     "output_type": "execute_result"
    }
   ],
   "source": [
    "Test_accuracy_xgb_1250"
   ]
  },
  {
   "cell_type": "markdown",
   "metadata": {},
   "source": [
    "#### 1 Year"
   ]
  },
  {
   "cell_type": "code",
   "execution_count": 162,
   "metadata": {},
   "outputs": [
    {
     "name": "stdout",
     "output_type": "stream",
     "text": [
      "[13:22:04] WARNING: C:/Users/Administrator/workspace/xgboost-win64_release_1.5.0/src/learner.cc:1115: Starting in XGBoost 1.3.0, the default evaluation metric used with the objective 'binary:logistic' was changed from 'error' to 'logloss'. Explicitly set eval_metric if you'd like to restore the old behavior.\n"
     ]
    }
   ],
   "source": [
    "trained_model_xgb_250 = xgb.fit(X_train_250, y_train_250)\n",
    "predictions_xgb_250 = trained_model_xgb_250.predict(X_test_250)\n",
    "\n",
    "Train_accuracy_xgb_250 = accuracy_score(y_train_250,trained_model_xgb_250.predict(X_train_250))\n",
    "Test_accuracy_xgb_250 = accuracy_score(y_test_250, predictions_xgb_250)\n",
    "Confusion_matrix_xgb_250 = confusion_matrix(y_test_250,predictions_xgb_250)"
   ]
  },
  {
   "cell_type": "code",
   "execution_count": 163,
   "metadata": {},
   "outputs": [
    {
     "data": {
      "text/plain": [
       "1.0"
      ]
     },
     "execution_count": 163,
     "metadata": {},
     "output_type": "execute_result"
    }
   ],
   "source": [
    "Train_accuracy_xgb_250"
   ]
  },
  {
   "cell_type": "code",
   "execution_count": 164,
   "metadata": {},
   "outputs": [
    {
     "data": {
      "text/plain": [
       "0.4666666666666667"
      ]
     },
     "execution_count": 164,
     "metadata": {},
     "output_type": "execute_result"
    }
   ],
   "source": [
    "Test_accuracy_xgb_250"
   ]
  },
  {
   "cell_type": "markdown",
   "metadata": {},
   "source": [
    "#### 6 Months"
   ]
  },
  {
   "cell_type": "code",
   "execution_count": 165,
   "metadata": {},
   "outputs": [
    {
     "name": "stdout",
     "output_type": "stream",
     "text": [
      "[13:22:06] WARNING: C:/Users/Administrator/workspace/xgboost-win64_release_1.5.0/src/learner.cc:1115: Starting in XGBoost 1.3.0, the default evaluation metric used with the objective 'binary:logistic' was changed from 'error' to 'logloss'. Explicitly set eval_metric if you'd like to restore the old behavior.\n"
     ]
    }
   ],
   "source": [
    "trained_model_xgb_125 = xgb.fit(X_train_125, y_train_125)\n",
    "predictions_xgb_125 = trained_model_xgb_125.predict(X_test_125)\n",
    "\n",
    "Train_accuracy_xgb_125 = accuracy_score(y_train_125,trained_model_xgb_125.predict(X_train_125))\n",
    "Test_accuracy_xgb_125 = accuracy_score(y_test_125, predictions_xgb_125)\n",
    "Confusion_matrix_xgb_125 = confusion_matrix(y_test_125,predictions_xgb_125)"
   ]
  },
  {
   "cell_type": "code",
   "execution_count": 166,
   "metadata": {},
   "outputs": [
    {
     "data": {
      "text/plain": [
       "1.0"
      ]
     },
     "execution_count": 166,
     "metadata": {},
     "output_type": "execute_result"
    }
   ],
   "source": [
    "Train_accuracy_xgb_125"
   ]
  },
  {
   "cell_type": "code",
   "execution_count": 167,
   "metadata": {},
   "outputs": [
    {
     "data": {
      "text/plain": [
       "0.42105263157894735"
      ]
     },
     "execution_count": 167,
     "metadata": {},
     "output_type": "execute_result"
    }
   ],
   "source": [
    "Test_accuracy_xgb_125"
   ]
  },
  {
   "cell_type": "markdown",
   "metadata": {},
   "source": [
    "#### Last 100 Days based on Best Model"
   ]
  },
  {
   "cell_type": "code",
   "execution_count": 168,
   "metadata": {},
   "outputs": [
    {
     "data": {
      "text/plain": [
       "array([1, 0, 1, 0, 1, 1, 0, 1, 1, 1, 1, 0, 0, 1, 0, 0, 1, 1, 1, 1, 1, 0,\n",
       "       0, 0, 0, 0, 0, 1, 1, 1, 1, 1, 0, 0, 0, 0, 1, 1, 0, 0, 0, 0, 1, 1,\n",
       "       1, 0, 1, 0, 0, 1, 1, 1, 1, 0, 0, 0, 1, 1, 1, 0, 1, 1, 1, 0, 0, 0,\n",
       "       0, 1, 1, 0, 0, 1, 1, 1, 1, 0, 0, 0, 0, 1, 1, 1, 1, 1, 0, 0, 1, 1,\n",
       "       1, 0, 0, 0, 0, 1, 1, 1, 1, 1, 1, 0])"
      ]
     },
     "execution_count": 168,
     "metadata": {},
     "output_type": "execute_result"
    }
   ],
   "source": [
    "predictions_xgb_100 = trained_model_xgb.predict(last100)\n",
    "predictions_xgb_100"
   ]
  },
  {
   "cell_type": "markdown",
   "metadata": {},
   "source": [
    "## KFold cross validation\n",
    "### Basic example"
   ]
  },
  {
   "cell_type": "code",
   "execution_count": null,
   "metadata": {},
   "outputs": [],
   "source": [
    "from sklearn.model_selection import cross_val_score\n",
    "\n",
    "cross_val_score(LogisticRegression(solver='liblinear',multi_class='ovr'), complete_data, target, cv=10)"
   ]
  },
  {
   "cell_type": "code",
   "execution_count": null,
   "metadata": {},
   "outputs": [],
   "source": [
    "cross_val_score(SVC(gamma='auto'), complete_data, target, cv=10)"
   ]
  },
  {
   "cell_type": "code",
   "execution_count": null,
   "metadata": {},
   "outputs": [],
   "source": [
    "cross_val_score(RandomForestClassifier(n_estimators=5), complete_data, target, cv=10)"
   ]
  },
  {
   "cell_type": "code",
   "execution_count": null,
   "metadata": {},
   "outputs": [],
   "source": [
    "cross_val_score(KNeighborsClassifier(n_neighbors=5), complete_data, target, cv=10)"
   ]
  },
  {
   "cell_type": "code",
   "execution_count": null,
   "metadata": {},
   "outputs": [],
   "source": [
    "cross_val_score(XGBClassifier(use_label_encoder=False), complete_data, target, cv=10)"
   ]
  }
 ],
 "metadata": {
  "kernelspec": {
   "display_name": "Python 3",
   "language": "python",
   "name": "python3"
  },
  "language_info": {
   "codemirror_mode": {
    "name": "ipython",
    "version": 3
   },
   "file_extension": ".py",
   "mimetype": "text/x-python",
   "name": "python",
   "nbconvert_exporter": "python",
   "pygments_lexer": "ipython3",
   "version": "3.8.5"
  }
 },
 "nbformat": 4,
 "nbformat_minor": 4
}
