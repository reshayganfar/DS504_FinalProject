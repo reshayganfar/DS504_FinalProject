{
 "cells": [
  {
   "cell_type": "code",
   "execution_count": 2,
   "metadata": {},
   "outputs": [],
   "source": [
    "import numpy as np\n",
    "import pandas as pd\n",
    "import ta\n",
    "import seaborn as sn\n",
    "import matplotlib.pyplot as plt\n",
    "\n",
    "from sklearn.ensemble import RandomForestClassifier\n",
    "from sklearn.linear_model import LogisticRegression\n",
    "from sklearn.neighbors import KNeighborsClassifier\n",
    "from sklearn.svm import SVC\n",
    "from xgboost import XGBClassifier\n",
    "\n",
    "from ta import add_all_ta_features\n",
    "from ta import momentum\n",
    "from ta.utils import dropna"
   ]
  },
  {
   "cell_type": "code",
   "execution_count": 3,
   "metadata": {},
   "outputs": [],
   "source": [
    "def get_data(company_symbol):\n",
    "    return pd.read_csv(\"dataset/\"+company_symbol+\".csv\")"
   ]
  },
  {
   "cell_type": "code",
   "execution_count": 4,
   "metadata": {},
   "outputs": [
    {
     "data": {
      "text/html": [
       "<div>\n",
       "<style scoped>\n",
       "    .dataframe tbody tr th:only-of-type {\n",
       "        vertical-align: middle;\n",
       "    }\n",
       "\n",
       "    .dataframe tbody tr th {\n",
       "        vertical-align: top;\n",
       "    }\n",
       "\n",
       "    .dataframe thead th {\n",
       "        text-align: right;\n",
       "    }\n",
       "</style>\n",
       "<table border=\"1\" class=\"dataframe\">\n",
       "  <thead>\n",
       "    <tr style=\"text-align: right;\">\n",
       "      <th></th>\n",
       "      <th>Date</th>\n",
       "      <th>Open</th>\n",
       "      <th>High</th>\n",
       "      <th>Low</th>\n",
       "      <th>Close</th>\n",
       "      <th>Adj Close</th>\n",
       "      <th>Volume</th>\n",
       "    </tr>\n",
       "  </thead>\n",
       "  <tbody>\n",
       "    <tr>\n",
       "      <th>0</th>\n",
       "      <td>5/18/2012</td>\n",
       "      <td>42.049999</td>\n",
       "      <td>45.000000</td>\n",
       "      <td>38.000000</td>\n",
       "      <td>38.230000</td>\n",
       "      <td>38.230000</td>\n",
       "      <td>573576400</td>\n",
       "    </tr>\n",
       "    <tr>\n",
       "      <th>1</th>\n",
       "      <td>5/21/2012</td>\n",
       "      <td>36.529999</td>\n",
       "      <td>36.660000</td>\n",
       "      <td>33.000000</td>\n",
       "      <td>34.029999</td>\n",
       "      <td>34.029999</td>\n",
       "      <td>168192700</td>\n",
       "    </tr>\n",
       "    <tr>\n",
       "      <th>2</th>\n",
       "      <td>5/22/2012</td>\n",
       "      <td>32.610001</td>\n",
       "      <td>33.590000</td>\n",
       "      <td>30.940001</td>\n",
       "      <td>31.000000</td>\n",
       "      <td>31.000000</td>\n",
       "      <td>101786600</td>\n",
       "    </tr>\n",
       "    <tr>\n",
       "      <th>3</th>\n",
       "      <td>5/23/2012</td>\n",
       "      <td>31.370001</td>\n",
       "      <td>32.500000</td>\n",
       "      <td>31.360001</td>\n",
       "      <td>32.000000</td>\n",
       "      <td>32.000000</td>\n",
       "      <td>73600000</td>\n",
       "    </tr>\n",
       "    <tr>\n",
       "      <th>4</th>\n",
       "      <td>5/24/2012</td>\n",
       "      <td>32.950001</td>\n",
       "      <td>33.209999</td>\n",
       "      <td>31.770000</td>\n",
       "      <td>33.029999</td>\n",
       "      <td>33.029999</td>\n",
       "      <td>50237200</td>\n",
       "    </tr>\n",
       "    <tr>\n",
       "      <th>...</th>\n",
       "      <td>...</td>\n",
       "      <td>...</td>\n",
       "      <td>...</td>\n",
       "      <td>...</td>\n",
       "      <td>...</td>\n",
       "      <td>...</td>\n",
       "      <td>...</td>\n",
       "    </tr>\n",
       "    <tr>\n",
       "      <th>2374</th>\n",
       "      <td>10/25/2021</td>\n",
       "      <td>320.299988</td>\n",
       "      <td>329.559998</td>\n",
       "      <td>319.720001</td>\n",
       "      <td>328.690002</td>\n",
       "      <td>328.690002</td>\n",
       "      <td>38409000</td>\n",
       "    </tr>\n",
       "    <tr>\n",
       "      <th>2375</th>\n",
       "      <td>10/26/2021</td>\n",
       "      <td>328.260010</td>\n",
       "      <td>330.209991</td>\n",
       "      <td>309.600006</td>\n",
       "      <td>315.809998</td>\n",
       "      <td>315.809998</td>\n",
       "      <td>65654000</td>\n",
       "    </tr>\n",
       "    <tr>\n",
       "      <th>2376</th>\n",
       "      <td>10/27/2021</td>\n",
       "      <td>314.190002</td>\n",
       "      <td>319.250000</td>\n",
       "      <td>312.059998</td>\n",
       "      <td>312.220001</td>\n",
       "      <td>312.220001</td>\n",
       "      <td>29971800</td>\n",
       "    </tr>\n",
       "    <tr>\n",
       "      <th>2377</th>\n",
       "      <td>10/28/2021</td>\n",
       "      <td>312.989990</td>\n",
       "      <td>325.519989</td>\n",
       "      <td>308.109985</td>\n",
       "      <td>316.920013</td>\n",
       "      <td>316.920013</td>\n",
       "      <td>50806800</td>\n",
       "    </tr>\n",
       "    <tr>\n",
       "      <th>2378</th>\n",
       "      <td>10/29/2021</td>\n",
       "      <td>320.190002</td>\n",
       "      <td>326.000000</td>\n",
       "      <td>319.600006</td>\n",
       "      <td>323.570007</td>\n",
       "      <td>323.570007</td>\n",
       "      <td>37027000</td>\n",
       "    </tr>\n",
       "  </tbody>\n",
       "</table>\n",
       "<p>2379 rows × 7 columns</p>\n",
       "</div>"
      ],
      "text/plain": [
       "            Date        Open        High         Low       Close   Adj Close  \\\n",
       "0      5/18/2012   42.049999   45.000000   38.000000   38.230000   38.230000   \n",
       "1      5/21/2012   36.529999   36.660000   33.000000   34.029999   34.029999   \n",
       "2      5/22/2012   32.610001   33.590000   30.940001   31.000000   31.000000   \n",
       "3      5/23/2012   31.370001   32.500000   31.360001   32.000000   32.000000   \n",
       "4      5/24/2012   32.950001   33.209999   31.770000   33.029999   33.029999   \n",
       "...          ...         ...         ...         ...         ...         ...   \n",
       "2374  10/25/2021  320.299988  329.559998  319.720001  328.690002  328.690002   \n",
       "2375  10/26/2021  328.260010  330.209991  309.600006  315.809998  315.809998   \n",
       "2376  10/27/2021  314.190002  319.250000  312.059998  312.220001  312.220001   \n",
       "2377  10/28/2021  312.989990  325.519989  308.109985  316.920013  316.920013   \n",
       "2378  10/29/2021  320.190002  326.000000  319.600006  323.570007  323.570007   \n",
       "\n",
       "         Volume  \n",
       "0     573576400  \n",
       "1     168192700  \n",
       "2     101786600  \n",
       "3      73600000  \n",
       "4      50237200  \n",
       "...         ...  \n",
       "2374   38409000  \n",
       "2375   65654000  \n",
       "2376   29971800  \n",
       "2377   50806800  \n",
       "2378   37027000  \n",
       "\n",
       "[2379 rows x 7 columns]"
      ]
     },
     "execution_count": 4,
     "metadata": {},
     "output_type": "execute_result"
    }
   ],
   "source": [
    "data = get_data(\"FB\")\n",
    "data"
   ]
  },
  {
   "cell_type": "code",
   "execution_count": 5,
   "metadata": {},
   "outputs": [
    {
     "data": {
      "text/plain": [
       "Date          object\n",
       "Open         float64\n",
       "High         float64\n",
       "Low          float64\n",
       "Close        float64\n",
       "Adj Close    float64\n",
       "Volume         int64\n",
       "dtype: object"
      ]
     },
     "execution_count": 5,
     "metadata": {},
     "output_type": "execute_result"
    }
   ],
   "source": [
    "data.dtypes"
   ]
  },
  {
   "cell_type": "code",
   "execution_count": 6,
   "metadata": {},
   "outputs": [
    {
     "data": {
      "text/plain": [
       "Date         False\n",
       "Open         False\n",
       "High         False\n",
       "Low          False\n",
       "Close        False\n",
       "Adj Close    False\n",
       "Volume       False\n",
       "dtype: bool"
      ]
     },
     "execution_count": 6,
     "metadata": {},
     "output_type": "execute_result"
    }
   ],
   "source": [
    "data.isna().any()"
   ]
  },
  {
   "cell_type": "code",
   "execution_count": 7,
   "metadata": {},
   "outputs": [
    {
     "data": {
      "text/html": [
       "<div>\n",
       "<style scoped>\n",
       "    .dataframe tbody tr th:only-of-type {\n",
       "        vertical-align: middle;\n",
       "    }\n",
       "\n",
       "    .dataframe tbody tr th {\n",
       "        vertical-align: top;\n",
       "    }\n",
       "\n",
       "    .dataframe thead th {\n",
       "        text-align: right;\n",
       "    }\n",
       "</style>\n",
       "<table border=\"1\" class=\"dataframe\">\n",
       "  <thead>\n",
       "    <tr style=\"text-align: right;\">\n",
       "      <th></th>\n",
       "    </tr>\n",
       "  </thead>\n",
       "  <tbody>\n",
       "    <tr>\n",
       "      <th>0</th>\n",
       "    </tr>\n",
       "    <tr>\n",
       "      <th>1</th>\n",
       "    </tr>\n",
       "    <tr>\n",
       "      <th>2</th>\n",
       "    </tr>\n",
       "    <tr>\n",
       "      <th>3</th>\n",
       "    </tr>\n",
       "    <tr>\n",
       "      <th>4</th>\n",
       "    </tr>\n",
       "    <tr>\n",
       "      <th>...</th>\n",
       "    </tr>\n",
       "    <tr>\n",
       "      <th>2374</th>\n",
       "    </tr>\n",
       "    <tr>\n",
       "      <th>2375</th>\n",
       "    </tr>\n",
       "    <tr>\n",
       "      <th>2376</th>\n",
       "    </tr>\n",
       "    <tr>\n",
       "      <th>2377</th>\n",
       "    </tr>\n",
       "    <tr>\n",
       "      <th>2378</th>\n",
       "    </tr>\n",
       "  </tbody>\n",
       "</table>\n",
       "<p>2379 rows × 0 columns</p>\n",
       "</div>"
      ],
      "text/plain": [
       "Empty DataFrame\n",
       "Columns: []\n",
       "Index: [0, 1, 2, 3, 4, 5, 6, 7, 8, 9, 10, 11, 12, 13, 14, 15, 16, 17, 18, 19, 20, 21, 22, 23, 24, 25, 26, 27, 28, 29, 30, 31, 32, 33, 34, 35, 36, 37, 38, 39, 40, 41, 42, 43, 44, 45, 46, 47, 48, 49, 50, 51, 52, 53, 54, 55, 56, 57, 58, 59, 60, 61, 62, 63, 64, 65, 66, 67, 68, 69, 70, 71, 72, 73, 74, 75, 76, 77, 78, 79, 80, 81, 82, 83, 84, 85, 86, 87, 88, 89, 90, 91, 92, 93, 94, 95, 96, 97, 98, 99, ...]\n",
       "\n",
       "[2379 rows x 0 columns]"
      ]
     },
     "execution_count": 7,
     "metadata": {},
     "output_type": "execute_result"
    }
   ],
   "source": [
    "data[data.columns[data.isna().any()]]"
   ]
  },
  {
   "cell_type": "code",
   "execution_count": 8,
   "metadata": {},
   "outputs": [
    {
     "name": "stdout",
     "output_type": "stream",
     "text": [
      "            Date        Open        High         Low       Close   Adj Close  \\\n",
      "0      5/18/2012   42.049999   45.000000   38.000000   38.230000   38.230000   \n",
      "1      5/21/2012   36.529999   36.660000   33.000000   34.029999   34.029999   \n",
      "2      5/22/2012   32.610001   33.590000   30.940001   31.000000   31.000000   \n",
      "3      5/23/2012   31.370001   32.500000   31.360001   32.000000   32.000000   \n",
      "4      5/24/2012   32.950001   33.209999   31.770000   33.029999   33.029999   \n",
      "...          ...         ...         ...         ...         ...         ...   \n",
      "2374  10/25/2021  320.299988  329.559998  319.720001  328.690002  328.690002   \n",
      "2375  10/26/2021  328.260010  330.209991  309.600006  315.809998  315.809998   \n",
      "2376  10/27/2021  314.190002  319.250000  312.059998  312.220001  312.220001   \n",
      "2377  10/28/2021  312.989990  325.519989  308.109985  316.920013  316.920013   \n",
      "2378  10/29/2021  320.190002  326.000000  319.600006  323.570007  323.570007   \n",
      "\n",
      "         Volume  cond1  cond2  cond3  \n",
      "0     573576400  False  False  False  \n",
      "1     168192700  False  False  False  \n",
      "2     101786600  False  False  False  \n",
      "3      73600000  False  False  False  \n",
      "4      50237200  False  False  False  \n",
      "...         ...    ...    ...    ...  \n",
      "2374   38409000  False  False  False  \n",
      "2375   65654000  False  False  False  \n",
      "2376   29971800  False  False  False  \n",
      "2377   50806800  False  False  False  \n",
      "2378   37027000  False  False  False  \n",
      "\n",
      "[2379 rows x 10 columns]\n"
     ]
    }
   ],
   "source": [
    "cond1 = data.Date.isna() # aapl['Date'].isna()\n",
    "cond2 = data.Date.str.contains(r'^\\s*$', na=False)\n",
    "cond3 = data.Date == ''\n",
    "\n",
    "data_checked = data.assign(cond1= cond1, cond2= cond2, cond3= cond3)\n",
    "print (data_checked)"
   ]
  },
  {
   "cell_type": "code",
   "execution_count": 9,
   "metadata": {},
   "outputs": [],
   "source": [
    "def change(close):\n",
    "    return (close.shift(-1) - close)"
   ]
  },
  {
   "cell_type": "code",
   "execution_count": 10,
   "metadata": {},
   "outputs": [],
   "source": [
    "def direction(change):\n",
    "    return (np.where(change>0, 1, 0))"
   ]
  },
  {
   "cell_type": "code",
   "execution_count": 11,
   "metadata": {},
   "outputs": [],
   "source": [
    "def compute_all_indicators(data):\n",
    "    data['Change'] = change(data['Close'])\n",
    "    data['Direction'] = direction(data['Change'])\n",
    "    return data"
   ]
  },
  {
   "cell_type": "code",
   "execution_count": 12,
   "metadata": {},
   "outputs": [
    {
     "data": {
      "text/html": [
       "<div>\n",
       "<style scoped>\n",
       "    .dataframe tbody tr th:only-of-type {\n",
       "        vertical-align: middle;\n",
       "    }\n",
       "\n",
       "    .dataframe tbody tr th {\n",
       "        vertical-align: top;\n",
       "    }\n",
       "\n",
       "    .dataframe thead th {\n",
       "        text-align: right;\n",
       "    }\n",
       "</style>\n",
       "<table border=\"1\" class=\"dataframe\">\n",
       "  <thead>\n",
       "    <tr style=\"text-align: right;\">\n",
       "      <th></th>\n",
       "      <th>Date</th>\n",
       "      <th>Open</th>\n",
       "      <th>High</th>\n",
       "      <th>Low</th>\n",
       "      <th>Close</th>\n",
       "      <th>Adj Close</th>\n",
       "      <th>Volume</th>\n",
       "      <th>Change</th>\n",
       "      <th>Direction</th>\n",
       "    </tr>\n",
       "  </thead>\n",
       "  <tbody>\n",
       "    <tr>\n",
       "      <th>0</th>\n",
       "      <td>5/18/2012</td>\n",
       "      <td>42.049999</td>\n",
       "      <td>45.000000</td>\n",
       "      <td>38.000000</td>\n",
       "      <td>38.230000</td>\n",
       "      <td>38.230000</td>\n",
       "      <td>573576400</td>\n",
       "      <td>-4.200001</td>\n",
       "      <td>0</td>\n",
       "    </tr>\n",
       "    <tr>\n",
       "      <th>1</th>\n",
       "      <td>5/21/2012</td>\n",
       "      <td>36.529999</td>\n",
       "      <td>36.660000</td>\n",
       "      <td>33.000000</td>\n",
       "      <td>34.029999</td>\n",
       "      <td>34.029999</td>\n",
       "      <td>168192700</td>\n",
       "      <td>-3.029999</td>\n",
       "      <td>0</td>\n",
       "    </tr>\n",
       "    <tr>\n",
       "      <th>2</th>\n",
       "      <td>5/22/2012</td>\n",
       "      <td>32.610001</td>\n",
       "      <td>33.590000</td>\n",
       "      <td>30.940001</td>\n",
       "      <td>31.000000</td>\n",
       "      <td>31.000000</td>\n",
       "      <td>101786600</td>\n",
       "      <td>1.000000</td>\n",
       "      <td>1</td>\n",
       "    </tr>\n",
       "    <tr>\n",
       "      <th>3</th>\n",
       "      <td>5/23/2012</td>\n",
       "      <td>31.370001</td>\n",
       "      <td>32.500000</td>\n",
       "      <td>31.360001</td>\n",
       "      <td>32.000000</td>\n",
       "      <td>32.000000</td>\n",
       "      <td>73600000</td>\n",
       "      <td>1.029999</td>\n",
       "      <td>1</td>\n",
       "    </tr>\n",
       "    <tr>\n",
       "      <th>4</th>\n",
       "      <td>5/24/2012</td>\n",
       "      <td>32.950001</td>\n",
       "      <td>33.209999</td>\n",
       "      <td>31.770000</td>\n",
       "      <td>33.029999</td>\n",
       "      <td>33.029999</td>\n",
       "      <td>50237200</td>\n",
       "      <td>-1.119999</td>\n",
       "      <td>0</td>\n",
       "    </tr>\n",
       "    <tr>\n",
       "      <th>...</th>\n",
       "      <td>...</td>\n",
       "      <td>...</td>\n",
       "      <td>...</td>\n",
       "      <td>...</td>\n",
       "      <td>...</td>\n",
       "      <td>...</td>\n",
       "      <td>...</td>\n",
       "      <td>...</td>\n",
       "      <td>...</td>\n",
       "    </tr>\n",
       "    <tr>\n",
       "      <th>2374</th>\n",
       "      <td>10/25/2021</td>\n",
       "      <td>320.299988</td>\n",
       "      <td>329.559998</td>\n",
       "      <td>319.720001</td>\n",
       "      <td>328.690002</td>\n",
       "      <td>328.690002</td>\n",
       "      <td>38409000</td>\n",
       "      <td>-12.880004</td>\n",
       "      <td>0</td>\n",
       "    </tr>\n",
       "    <tr>\n",
       "      <th>2375</th>\n",
       "      <td>10/26/2021</td>\n",
       "      <td>328.260010</td>\n",
       "      <td>330.209991</td>\n",
       "      <td>309.600006</td>\n",
       "      <td>315.809998</td>\n",
       "      <td>315.809998</td>\n",
       "      <td>65654000</td>\n",
       "      <td>-3.589997</td>\n",
       "      <td>0</td>\n",
       "    </tr>\n",
       "    <tr>\n",
       "      <th>2376</th>\n",
       "      <td>10/27/2021</td>\n",
       "      <td>314.190002</td>\n",
       "      <td>319.250000</td>\n",
       "      <td>312.059998</td>\n",
       "      <td>312.220001</td>\n",
       "      <td>312.220001</td>\n",
       "      <td>29971800</td>\n",
       "      <td>4.700012</td>\n",
       "      <td>1</td>\n",
       "    </tr>\n",
       "    <tr>\n",
       "      <th>2377</th>\n",
       "      <td>10/28/2021</td>\n",
       "      <td>312.989990</td>\n",
       "      <td>325.519989</td>\n",
       "      <td>308.109985</td>\n",
       "      <td>316.920013</td>\n",
       "      <td>316.920013</td>\n",
       "      <td>50806800</td>\n",
       "      <td>6.649994</td>\n",
       "      <td>1</td>\n",
       "    </tr>\n",
       "    <tr>\n",
       "      <th>2378</th>\n",
       "      <td>10/29/2021</td>\n",
       "      <td>320.190002</td>\n",
       "      <td>326.000000</td>\n",
       "      <td>319.600006</td>\n",
       "      <td>323.570007</td>\n",
       "      <td>323.570007</td>\n",
       "      <td>37027000</td>\n",
       "      <td>NaN</td>\n",
       "      <td>0</td>\n",
       "    </tr>\n",
       "  </tbody>\n",
       "</table>\n",
       "<p>2379 rows × 9 columns</p>\n",
       "</div>"
      ],
      "text/plain": [
       "            Date        Open        High         Low       Close   Adj Close  \\\n",
       "0      5/18/2012   42.049999   45.000000   38.000000   38.230000   38.230000   \n",
       "1      5/21/2012   36.529999   36.660000   33.000000   34.029999   34.029999   \n",
       "2      5/22/2012   32.610001   33.590000   30.940001   31.000000   31.000000   \n",
       "3      5/23/2012   31.370001   32.500000   31.360001   32.000000   32.000000   \n",
       "4      5/24/2012   32.950001   33.209999   31.770000   33.029999   33.029999   \n",
       "...          ...         ...         ...         ...         ...         ...   \n",
       "2374  10/25/2021  320.299988  329.559998  319.720001  328.690002  328.690002   \n",
       "2375  10/26/2021  328.260010  330.209991  309.600006  315.809998  315.809998   \n",
       "2376  10/27/2021  314.190002  319.250000  312.059998  312.220001  312.220001   \n",
       "2377  10/28/2021  312.989990  325.519989  308.109985  316.920013  316.920013   \n",
       "2378  10/29/2021  320.190002  326.000000  319.600006  323.570007  323.570007   \n",
       "\n",
       "         Volume     Change  Direction  \n",
       "0     573576400  -4.200001          0  \n",
       "1     168192700  -3.029999          0  \n",
       "2     101786600   1.000000          1  \n",
       "3      73600000   1.029999          1  \n",
       "4      50237200  -1.119999          0  \n",
       "...         ...        ...        ...  \n",
       "2374   38409000 -12.880004          0  \n",
       "2375   65654000  -3.589997          0  \n",
       "2376   29971800   4.700012          1  \n",
       "2377   50806800   6.649994          1  \n",
       "2378   37027000        NaN          0  \n",
       "\n",
       "[2379 rows x 9 columns]"
      ]
     },
     "execution_count": 12,
     "metadata": {},
     "output_type": "execute_result"
    }
   ],
   "source": [
    "complete_data = compute_all_indicators(data)\n",
    "complete_data"
   ]
  },
  {
   "cell_type": "code",
   "execution_count": 13,
   "metadata": {},
   "outputs": [],
   "source": [
    "data_change_up = complete_data[complete_data['Direction'] == 1]"
   ]
  },
  {
   "cell_type": "code",
   "execution_count": 14,
   "metadata": {},
   "outputs": [
    {
     "data": {
      "text/plain": [
       "2.0165309208633104"
      ]
     },
     "execution_count": 14,
     "metadata": {},
     "output_type": "execute_result"
    }
   ],
   "source": [
    "data_change_up[\"Change\"].mean()"
   ]
  },
  {
   "cell_type": "code",
   "execution_count": 15,
   "metadata": {},
   "outputs": [
    {
     "data": {
      "text/plain": [
       "Date         1251\n",
       "Open         1251\n",
       "High         1251\n",
       "Low          1251\n",
       "Close        1251\n",
       "Adj Close    1251\n",
       "Volume       1251\n",
       "Change       1251\n",
       "Direction    1251\n",
       "dtype: int64"
      ]
     },
     "execution_count": 15,
     "metadata": {},
     "output_type": "execute_result"
    }
   ],
   "source": [
    "data_change_up.count()"
   ]
  },
  {
   "cell_type": "code",
   "execution_count": 16,
   "metadata": {},
   "outputs": [
    {
     "data": {
      "text/plain": [
       "2522.680182"
      ]
     },
     "execution_count": 16,
     "metadata": {},
     "output_type": "execute_result"
    }
   ],
   "source": [
    "data_change_up['Change'].sum()"
   ]
  },
  {
   "cell_type": "code",
   "execution_count": 17,
   "metadata": {},
   "outputs": [],
   "source": [
    "data_change_down = complete_data[complete_data['Direction'] == 0]"
   ]
  },
  {
   "cell_type": "code",
   "execution_count": 18,
   "metadata": {},
   "outputs": [
    {
     "data": {
      "text/plain": [
       "-1.9852175465838475"
      ]
     },
     "execution_count": 18,
     "metadata": {},
     "output_type": "execute_result"
    }
   ],
   "source": [
    "data_change_down['Change'].mean()"
   ]
  },
  {
   "cell_type": "code",
   "execution_count": 19,
   "metadata": {},
   "outputs": [
    {
     "data": {
      "text/plain": [
       "Date         1128\n",
       "Open         1128\n",
       "High         1128\n",
       "Low          1128\n",
       "Close        1128\n",
       "Adj Close    1128\n",
       "Volume       1128\n",
       "Change       1127\n",
       "Direction    1128\n",
       "dtype: int64"
      ]
     },
     "execution_count": 19,
     "metadata": {},
     "output_type": "execute_result"
    }
   ],
   "source": [
    "data_change_down.count()"
   ]
  },
  {
   "cell_type": "code",
   "execution_count": 95,
   "metadata": {},
   "outputs": [
    {
     "data": {
      "text/plain": [
       "-2237.3401750000003"
      ]
     },
     "execution_count": 95,
     "metadata": {},
     "output_type": "execute_result"
    }
   ],
   "source": [
    "data_change_down['Change'].sum()"
   ]
  },
  {
   "cell_type": "code",
   "execution_count": 96,
   "metadata": {},
   "outputs": [
    {
     "data": {
      "text/plain": [
       "Text(0, 0.5, 'Price')"
      ]
     },
     "execution_count": 96,
     "metadata": {},
     "output_type": "execute_result"
    },
    {
     "data": {
      "image/png": "[encoded data removed]",
      "text/plain": [
       "<Figure size 1080x720 with 1 Axes>"
      ]
     },
     "metadata": {
      "needs_background": "light"
     },
     "output_type": "display_data"
    }
   ],
   "source": [
    "plt.figure(figsize=[15,10])\n",
    "plt.grid(True)\n",
    "plt.plot(complete_data['Close'])\n",
    "#plt.plot(dataMonthly['MA'],label='3-Month MA')\n",
    "#plt.legend(loc=2, fontsize=18)\n",
    "plt.title(\"Facebook Closing Price\", fontsize=30)\n",
    "plt.xlabel(\"Time\", fontsize=24)\n",
    "plt.ylabel(\"Price\", fontsize=24)"
   ]
  },
  {
   "cell_type": "code",
   "execution_count": 97,
   "metadata": {},
   "outputs": [],
   "source": [
    "data_5years = complete_data.iloc[2378-1250:2378, ]"
   ]
  },
  {
   "cell_type": "code",
   "execution_count": 98,
   "metadata": {},
   "outputs": [
    {
     "data": {
      "text/plain": [
       "162.3509976237335"
      ]
     },
     "execution_count": 98,
     "metadata": {},
     "output_type": "execute_result"
    }
   ],
   "source": [
    "buy_and_hold = (data_5years.iloc[1249,4] - data_5years.iloc[0,4]) / data_5years.iloc[0,4] * 100\n",
    "buy_and_hold"
   ]
  },
  {
   "cell_type": "code",
   "execution_count": 99,
   "metadata": {},
   "outputs": [],
   "source": [
    "data_up_5years = data_5years[data_5years['Direction'] == 1]\n",
    "data_down_5years = data_5years[data_5years['Direction'] == 0]"
   ]
  },
  {
   "cell_type": "code",
   "execution_count": 100,
   "metadata": {},
   "outputs": [],
   "source": [
    "max_up = data_up_5years['Change'].sum()\n",
    "max_down = data_down_5years['Change'].sum()"
   ]
  },
  {
   "cell_type": "code",
   "execution_count": 101,
   "metadata": {},
   "outputs": [
    {
     "data": {
      "text/plain": [
       "310.7077901314289"
      ]
     },
     "execution_count": 101,
     "metadata": {},
     "output_type": "execute_result"
    }
   ],
   "source": [
    "avoid_tenth = (max_up+0.9*max_down)/data_5years.iloc[0,4]*100\n",
    "avoid_tenth"
   ]
  },
  {
   "cell_type": "code",
   "execution_count": 102,
   "metadata": {},
   "outputs": [
    {
     "data": {
      "text/plain": [
       "1596.3742666463343"
      ]
     },
     "execution_count": 102,
     "metadata": {},
     "output_type": "execute_result"
    }
   ],
   "source": [
    "theoretical_max = max_up / data_5years.iloc[0,4] * 100\n",
    "theoretical_max"
   ]
  },
  {
   "cell_type": "code",
   "execution_count": 47,
   "metadata": {
    "scrolled": false
   },
   "outputs": [
    {
     "data": {
      "text/html": [
       "<div>\n",
       "<style scoped>\n",
       "    .dataframe tbody tr th:only-of-type {\n",
       "        vertical-align: middle;\n",
       "    }\n",
       "\n",
       "    .dataframe tbody tr th {\n",
       "        vertical-align: top;\n",
       "    }\n",
       "\n",
       "    .dataframe thead th {\n",
       "        text-align: right;\n",
       "    }\n",
       "</style>\n",
       "<table border=\"1\" class=\"dataframe\">\n",
       "  <thead>\n",
       "    <tr style=\"text-align: right;\">\n",
       "      <th></th>\n",
       "      <th>Open</th>\n",
       "      <th>High</th>\n",
       "      <th>Low</th>\n",
       "      <th>Close</th>\n",
       "      <th>Adj Close</th>\n",
       "      <th>Volume</th>\n",
       "      <th>SMA5</th>\n",
       "      <th>SMA10</th>\n",
       "      <th>StochasticK</th>\n",
       "      <th>StochasticD</th>\n",
       "      <th>...</th>\n",
       "      <th>WMA10</th>\n",
       "      <th>EMA12</th>\n",
       "      <th>EMA26</th>\n",
       "      <th>MACD</th>\n",
       "      <th>Momentum</th>\n",
       "      <th>RSI</th>\n",
       "      <th>CCI</th>\n",
       "      <th>DI</th>\n",
       "      <th>ADX</th>\n",
       "      <th>Aroon</th>\n",
       "    </tr>\n",
       "  </thead>\n",
       "  <tbody>\n",
       "    <tr>\n",
       "      <th>14</th>\n",
       "      <td>1.104286</td>\n",
       "      <td>1.122143</td>\n",
       "      <td>1.080000</td>\n",
       "      <td>1.082857</td>\n",
       "      <td>1.082857</td>\n",
       "      <td>2567600</td>\n",
       "      <td>1.120857</td>\n",
       "      <td>1.125643</td>\n",
       "      <td>7.110768</td>\n",
       "      <td>9.805238</td>\n",
       "      <td>...</td>\n",
       "      <td>1.125195</td>\n",
       "      <td>1.130077</td>\n",
       "      <td>1.149996</td>\n",
       "      <td>-0.019919</td>\n",
       "      <td>90.507418</td>\n",
       "      <td>0.282646</td>\n",
       "      <td>-87.262252</td>\n",
       "      <td>-4.041967</td>\n",
       "      <td>6.531289</td>\n",
       "      <td>-12.0</td>\n",
       "    </tr>\n",
       "    <tr>\n",
       "      <th>15</th>\n",
       "      <td>1.082143</td>\n",
       "      <td>1.085714</td>\n",
       "      <td>0.980000</td>\n",
       "      <td>0.986429</td>\n",
       "      <td>0.986429</td>\n",
       "      <td>4783800</td>\n",
       "      <td>1.094429</td>\n",
       "      <td>1.116643</td>\n",
       "      <td>2.549744</td>\n",
       "      <td>7.386740</td>\n",
       "      <td>...</td>\n",
       "      <td>1.099883</td>\n",
       "      <td>1.107977</td>\n",
       "      <td>1.137880</td>\n",
       "      <td>-0.029902</td>\n",
       "      <td>81.523058</td>\n",
       "      <td>0.282646</td>\n",
       "      <td>-217.891706</td>\n",
       "      <td>-11.332225</td>\n",
       "      <td>9.143382</td>\n",
       "      <td>-56.0</td>\n",
       "    </tr>\n",
       "    <tr>\n",
       "      <th>16</th>\n",
       "      <td>1.013571</td>\n",
       "      <td>1.059286</td>\n",
       "      <td>0.917857</td>\n",
       "      <td>0.922143</td>\n",
       "      <td>0.922143</td>\n",
       "      <td>4855200</td>\n",
       "      <td>1.047571</td>\n",
       "      <td>1.096000</td>\n",
       "      <td>1.363726</td>\n",
       "      <td>3.674746</td>\n",
       "      <td>...</td>\n",
       "      <td>1.064520</td>\n",
       "      <td>1.079387</td>\n",
       "      <td>1.121899</td>\n",
       "      <td>-0.042512</td>\n",
       "      <td>79.691361</td>\n",
       "      <td>0.282646</td>\n",
       "      <td>-222.155602</td>\n",
       "      <td>-15.840926</td>\n",
       "      <td>19.140010</td>\n",
       "      <td>-60.0</td>\n",
       "    </tr>\n",
       "    <tr>\n",
       "      <th>17</th>\n",
       "      <td>0.938571</td>\n",
       "      <td>0.939286</td>\n",
       "      <td>0.842143</td>\n",
       "      <td>0.910714</td>\n",
       "      <td>0.910714</td>\n",
       "      <td>10808000</td>\n",
       "      <td>0.999000</td>\n",
       "      <td>1.075286</td>\n",
       "      <td>17.582308</td>\n",
       "      <td>7.165259</td>\n",
       "      <td>...</td>\n",
       "      <td>1.030831</td>\n",
       "      <td>1.053438</td>\n",
       "      <td>1.106256</td>\n",
       "      <td>-0.052818</td>\n",
       "      <td>82.524278</td>\n",
       "      <td>0.381194</td>\n",
       "      <td>-218.434212</td>\n",
       "      <td>-15.825737</td>\n",
       "      <td>27.026513</td>\n",
       "      <td>-64.0</td>\n",
       "    </tr>\n",
       "    <tr>\n",
       "      <th>18</th>\n",
       "      <td>0.911429</td>\n",
       "      <td>0.996429</td>\n",
       "      <td>0.892857</td>\n",
       "      <td>0.951429</td>\n",
       "      <td>0.951429</td>\n",
       "      <td>5482400</td>\n",
       "      <td>0.970714</td>\n",
       "      <td>1.055714</td>\n",
       "      <td>28.022051</td>\n",
       "      <td>15.656028</td>\n",
       "      <td>...</td>\n",
       "      <td>1.008312</td>\n",
       "      <td>1.037744</td>\n",
       "      <td>1.094787</td>\n",
       "      <td>-0.057043</td>\n",
       "      <td>88.800004</td>\n",
       "      <td>0.381194</td>\n",
       "      <td>-124.845930</td>\n",
       "      <td>-11.360356</td>\n",
       "      <td>33.442196</td>\n",
       "      <td>-64.0</td>\n",
       "    </tr>\n",
       "    <tr>\n",
       "      <th>...</th>\n",
       "      <td>...</td>\n",
       "      <td>...</td>\n",
       "      <td>...</td>\n",
       "      <td>...</td>\n",
       "      <td>...</td>\n",
       "      <td>...</td>\n",
       "      <td>...</td>\n",
       "      <td>...</td>\n",
       "      <td>...</td>\n",
       "      <td>...</td>\n",
       "      <td>...</td>\n",
       "      <td>...</td>\n",
       "      <td>...</td>\n",
       "      <td>...</td>\n",
       "      <td>...</td>\n",
       "      <td>...</td>\n",
       "      <td>...</td>\n",
       "      <td>...</td>\n",
       "      <td>...</td>\n",
       "      <td>...</td>\n",
       "      <td>...</td>\n",
       "    </tr>\n",
       "    <tr>\n",
       "      <th>4889</th>\n",
       "      <td>651.809998</td>\n",
       "      <td>665.460022</td>\n",
       "      <td>651.809998</td>\n",
       "      <td>664.780029</td>\n",
       "      <td>664.780029</td>\n",
       "      <td>6179700</td>\n",
       "      <td>644.009998</td>\n",
       "      <td>636.387994</td>\n",
       "      <td>98.839008</td>\n",
       "      <td>85.267842</td>\n",
       "      <td>...</td>\n",
       "      <td>641.291452</td>\n",
       "      <td>636.218990</td>\n",
       "      <td>619.660215</td>\n",
       "      <td>16.558775</td>\n",
       "      <td>110.181496</td>\n",
       "      <td>0.910010</td>\n",
       "      <td>289.554743</td>\n",
       "      <td>4.545124</td>\n",
       "      <td>30.296476</td>\n",
       "      <td>92.0</td>\n",
       "    </tr>\n",
       "    <tr>\n",
       "      <th>4890</th>\n",
       "      <td>663.739990</td>\n",
       "      <td>675.880005</td>\n",
       "      <td>657.070007</td>\n",
       "      <td>671.659973</td>\n",
       "      <td>671.659973</td>\n",
       "      <td>3833500</td>\n",
       "      <td>650.747998</td>\n",
       "      <td>640.849994</td>\n",
       "      <td>92.814518</td>\n",
       "      <td>96.740267</td>\n",
       "      <td>...</td>\n",
       "      <td>647.704539</td>\n",
       "      <td>641.671449</td>\n",
       "      <td>623.512049</td>\n",
       "      <td>18.159400</td>\n",
       "      <td>105.804883</td>\n",
       "      <td>0.675676</td>\n",
       "      <td>233.314986</td>\n",
       "      <td>5.191655</td>\n",
       "      <td>30.298693</td>\n",
       "      <td>96.0</td>\n",
       "    </tr>\n",
       "    <tr>\n",
       "      <th>4891</th>\n",
       "      <td>673.760010</td>\n",
       "      <td>676.489990</td>\n",
       "      <td>662.770020</td>\n",
       "      <td>668.520020</td>\n",
       "      <td>668.520020</td>\n",
       "      <td>2904800</td>\n",
       "      <td>656.652002</td>\n",
       "      <td>645.207996</td>\n",
       "      <td>86.568968</td>\n",
       "      <td>92.740831</td>\n",
       "      <td>...</td>\n",
       "      <td>652.735453</td>\n",
       "      <td>645.801998</td>\n",
       "      <td>626.845973</td>\n",
       "      <td>18.956025</td>\n",
       "      <td>104.603356</td>\n",
       "      <td>0.675676</td>\n",
       "      <td>164.113158</td>\n",
       "      <td>4.356440</td>\n",
       "      <td>30.769399</td>\n",
       "      <td>76.0</td>\n",
       "    </tr>\n",
       "    <tr>\n",
       "      <th>4892</th>\n",
       "      <td>669.000000</td>\n",
       "      <td>671.409973</td>\n",
       "      <td>661.849976</td>\n",
       "      <td>662.919983</td>\n",
       "      <td>662.919983</td>\n",
       "      <td>2276900</td>\n",
       "      <td>664.207996</td>\n",
       "      <td>648.523993</td>\n",
       "      <td>77.131758</td>\n",
       "      <td>85.505081</td>\n",
       "      <td>...</td>\n",
       "      <td>655.955814</td>\n",
       "      <td>648.435534</td>\n",
       "      <td>629.518122</td>\n",
       "      <td>18.917412</td>\n",
       "      <td>104.917308</td>\n",
       "      <td>0.675676</td>\n",
       "      <td>110.708606</td>\n",
       "      <td>3.125012</td>\n",
       "      <td>31.225713</td>\n",
       "      <td>76.0</td>\n",
       "    </tr>\n",
       "    <tr>\n",
       "      <th>4893</th>\n",
       "      <td>670.950012</td>\n",
       "      <td>676.799988</td>\n",
       "      <td>668.030029</td>\n",
       "      <td>674.049988</td>\n",
       "      <td>674.049988</td>\n",
       "      <td>2859400</td>\n",
       "      <td>668.385999</td>\n",
       "      <td>652.548993</td>\n",
       "      <td>95.389771</td>\n",
       "      <td>86.363499</td>\n",
       "      <td>...</td>\n",
       "      <td>660.596904</td>\n",
       "      <td>652.376219</td>\n",
       "      <td>632.816779</td>\n",
       "      <td>19.559441</td>\n",
       "      <td>106.542221</td>\n",
       "      <td>0.910010</td>\n",
       "      <td>116.562258</td>\n",
       "      <td>4.376381</td>\n",
       "      <td>31.577094</td>\n",
       "      <td>88.0</td>\n",
       "    </tr>\n",
       "  </tbody>\n",
       "</table>\n",
       "<p>4880 rows × 24 columns</p>\n",
       "</div>"
      ],
      "text/plain": [
       "            Open        High         Low       Close   Adj Close    Volume  \\\n",
       "14      1.104286    1.122143    1.080000    1.082857    1.082857   2567600   \n",
       "15      1.082143    1.085714    0.980000    0.986429    0.986429   4783800   \n",
       "16      1.013571    1.059286    0.917857    0.922143    0.922143   4855200   \n",
       "17      0.938571    0.939286    0.842143    0.910714    0.910714  10808000   \n",
       "18      0.911429    0.996429    0.892857    0.951429    0.951429   5482400   \n",
       "...          ...         ...         ...         ...         ...       ...   \n",
       "4889  651.809998  665.460022  651.809998  664.780029  664.780029   6179700   \n",
       "4890  663.739990  675.880005  657.070007  671.659973  671.659973   3833500   \n",
       "4891  673.760010  676.489990  662.770020  668.520020  668.520020   2904800   \n",
       "4892  669.000000  671.409973  661.849976  662.919983  662.919983   2276900   \n",
       "4893  670.950012  676.799988  668.030029  674.049988  674.049988   2859400   \n",
       "\n",
       "            SMA5       SMA10  StochasticK  StochasticD  ...       WMA10  \\\n",
       "14      1.120857    1.125643     7.110768     9.805238  ...    1.125195   \n",
       "15      1.094429    1.116643     2.549744     7.386740  ...    1.099883   \n",
       "16      1.047571    1.096000     1.363726     3.674746  ...    1.064520   \n",
       "17      0.999000    1.075286    17.582308     7.165259  ...    1.030831   \n",
       "18      0.970714    1.055714    28.022051    15.656028  ...    1.008312   \n",
       "...          ...         ...          ...          ...  ...         ...   \n",
       "4889  644.009998  636.387994    98.839008    85.267842  ...  641.291452   \n",
       "4890  650.747998  640.849994    92.814518    96.740267  ...  647.704539   \n",
       "4891  656.652002  645.207996    86.568968    92.740831  ...  652.735453   \n",
       "4892  664.207996  648.523993    77.131758    85.505081  ...  655.955814   \n",
       "4893  668.385999  652.548993    95.389771    86.363499  ...  660.596904   \n",
       "\n",
       "           EMA12       EMA26       MACD    Momentum       RSI         CCI  \\\n",
       "14      1.130077    1.149996  -0.019919   90.507418  0.282646  -87.262252   \n",
       "15      1.107977    1.137880  -0.029902   81.523058  0.282646 -217.891706   \n",
       "16      1.079387    1.121899  -0.042512   79.691361  0.282646 -222.155602   \n",
       "17      1.053438    1.106256  -0.052818   82.524278  0.381194 -218.434212   \n",
       "18      1.037744    1.094787  -0.057043   88.800004  0.381194 -124.845930   \n",
       "...          ...         ...        ...         ...       ...         ...   \n",
       "4889  636.218990  619.660215  16.558775  110.181496  0.910010  289.554743   \n",
       "4890  641.671449  623.512049  18.159400  105.804883  0.675676  233.314986   \n",
       "4891  645.801998  626.845973  18.956025  104.603356  0.675676  164.113158   \n",
       "4892  648.435534  629.518122  18.917412  104.917308  0.675676  110.708606   \n",
       "4893  652.376219  632.816779  19.559441  106.542221  0.910010  116.562258   \n",
       "\n",
       "             DI        ADX  Aroon  \n",
       "14    -4.041967   6.531289  -12.0  \n",
       "15   -11.332225   9.143382  -56.0  \n",
       "16   -15.840926  19.140010  -60.0  \n",
       "17   -15.825737  27.026513  -64.0  \n",
       "18   -11.360356  33.442196  -64.0  \n",
       "...         ...        ...    ...  \n",
       "4889   4.545124  30.296476   92.0  \n",
       "4890   5.191655  30.298693   96.0  \n",
       "4891   4.356440  30.769399   76.0  \n",
       "4892   3.125012  31.225713   76.0  \n",
       "4893   4.376381  31.577094   88.0  \n",
       "\n",
       "[4880 rows x 24 columns]"
      ]
     },
     "execution_count": 47,
     "metadata": {},
     "output_type": "execute_result"
    }
   ],
   "source": [
    "target = complete_data['Direction']\n",
    "complete_data = complete_data.drop(['Date', 'Direction'], axis=1)\n",
    "complete_data"
   ]
  }
 ],
 "metadata": {
  "kernelspec": {
   "display_name": "Python 3",
   "language": "python",
   "name": "python3"
  },
  "language_info": {
   "codemirror_mode": {
    "name": "ipython",
    "version": 3
   },
   "file_extension": ".py",
   "mimetype": "text/x-python",
   "name": "python",
   "nbconvert_exporter": "python",
   "pygments_lexer": "ipython3",
   "version": "3.8.5"
  }
 },
 "nbformat": 4,
 "nbformat_minor": 4
}
