{
 "cells": [
  {
   "cell_type": "code",
   "execution_count": 270,
   "metadata": {},
   "outputs": [],
   "source": [
    "import numpy as np\n",
    "import pandas as pd\n",
    "import ta\n",
    "import seaborn as sn\n",
    "import matplotlib.pyplot as plt\n",
    "\n",
    "from sklearn.ensemble import RandomForestClassifier\n",
    "from sklearn.linear_model import LogisticRegression\n",
    "from sklearn.neighbors import KNeighborsClassifier\n",
    "from sklearn.svm import SVC\n",
    "from xgboost import XGBClassifier\n",
    "\n",
    "from ta import add_all_ta_features\n",
    "from ta import momentum\n",
    "from ta.utils import dropna"
   ]
  },
  {
   "cell_type": "code",
   "execution_count": 271,
   "metadata": {},
   "outputs": [],
   "source": [
    "#pip install xgboost"
   ]
  },
  {
   "cell_type": "code",
   "execution_count": 272,
   "metadata": {},
   "outputs": [],
   "source": [
    "def get_data(company_symbol):\n",
    "    return pd.read_csv(\"dataset/\"+company_symbol+\".csv\")"
   ]
  },
  {
   "cell_type": "code",
   "execution_count": 273,
   "metadata": {},
   "outputs": [
    {
     "data": {
      "text/html": [
       "<div>\n",
       "<style scoped>\n",
       "    .dataframe tbody tr th:only-of-type {\n",
       "        vertical-align: middle;\n",
       "    }\n",
       "\n",
       "    .dataframe tbody tr th {\n",
       "        vertical-align: top;\n",
       "    }\n",
       "\n",
       "    .dataframe thead th {\n",
       "        text-align: right;\n",
       "    }\n",
       "</style>\n",
       "<table border=\"1\" class=\"dataframe\">\n",
       "  <thead>\n",
       "    <tr style=\"text-align: right;\">\n",
       "      <th></th>\n",
       "      <th>Date</th>\n",
       "      <th>Open</th>\n",
       "      <th>High</th>\n",
       "      <th>Low</th>\n",
       "      <th>Close</th>\n",
       "      <th>Adj Close</th>\n",
       "      <th>Volume</th>\n",
       "    </tr>\n",
       "  </thead>\n",
       "  <tbody>\n",
       "    <tr>\n",
       "      <th>0</th>\n",
       "      <td>5/23/2002</td>\n",
       "      <td>1.156429</td>\n",
       "      <td>1.242857</td>\n",
       "      <td>1.145714</td>\n",
       "      <td>1.196429</td>\n",
       "      <td>1.196429</td>\n",
       "      <td>104790000</td>\n",
       "    </tr>\n",
       "    <tr>\n",
       "      <th>1</th>\n",
       "      <td>5/24/2002</td>\n",
       "      <td>1.214286</td>\n",
       "      <td>1.225000</td>\n",
       "      <td>1.197143</td>\n",
       "      <td>1.210000</td>\n",
       "      <td>1.210000</td>\n",
       "      <td>11104800</td>\n",
       "    </tr>\n",
       "    <tr>\n",
       "      <th>2</th>\n",
       "      <td>5/28/2002</td>\n",
       "      <td>1.213571</td>\n",
       "      <td>1.232143</td>\n",
       "      <td>1.157143</td>\n",
       "      <td>1.157143</td>\n",
       "      <td>1.157143</td>\n",
       "      <td>6609400</td>\n",
       "    </tr>\n",
       "    <tr>\n",
       "      <th>3</th>\n",
       "      <td>5/29/2002</td>\n",
       "      <td>1.164286</td>\n",
       "      <td>1.164286</td>\n",
       "      <td>1.085714</td>\n",
       "      <td>1.103571</td>\n",
       "      <td>1.103571</td>\n",
       "      <td>6757800</td>\n",
       "    </tr>\n",
       "    <tr>\n",
       "      <th>4</th>\n",
       "      <td>5/30/2002</td>\n",
       "      <td>1.107857</td>\n",
       "      <td>1.107857</td>\n",
       "      <td>1.071429</td>\n",
       "      <td>1.071429</td>\n",
       "      <td>1.071429</td>\n",
       "      <td>10154200</td>\n",
       "    </tr>\n",
       "    <tr>\n",
       "      <th>...</th>\n",
       "      <td>...</td>\n",
       "      <td>...</td>\n",
       "      <td>...</td>\n",
       "      <td>...</td>\n",
       "      <td>...</td>\n",
       "      <td>...</td>\n",
       "      <td>...</td>\n",
       "    </tr>\n",
       "    <tr>\n",
       "      <th>4890</th>\n",
       "      <td>10/25/2021</td>\n",
       "      <td>663.739990</td>\n",
       "      <td>675.880005</td>\n",
       "      <td>657.070007</td>\n",
       "      <td>671.659973</td>\n",
       "      <td>671.659973</td>\n",
       "      <td>3833500</td>\n",
       "    </tr>\n",
       "    <tr>\n",
       "      <th>4891</th>\n",
       "      <td>10/26/2021</td>\n",
       "      <td>673.760010</td>\n",
       "      <td>676.489990</td>\n",
       "      <td>662.770020</td>\n",
       "      <td>668.520020</td>\n",
       "      <td>668.520020</td>\n",
       "      <td>2904800</td>\n",
       "    </tr>\n",
       "    <tr>\n",
       "      <th>4892</th>\n",
       "      <td>10/27/2021</td>\n",
       "      <td>669.000000</td>\n",
       "      <td>671.409973</td>\n",
       "      <td>661.849976</td>\n",
       "      <td>662.919983</td>\n",
       "      <td>662.919983</td>\n",
       "      <td>2276900</td>\n",
       "    </tr>\n",
       "    <tr>\n",
       "      <th>4893</th>\n",
       "      <td>10/28/2021</td>\n",
       "      <td>670.950012</td>\n",
       "      <td>676.799988</td>\n",
       "      <td>668.030029</td>\n",
       "      <td>674.049988</td>\n",
       "      <td>674.049988</td>\n",
       "      <td>2859400</td>\n",
       "    </tr>\n",
       "    <tr>\n",
       "      <th>4894</th>\n",
       "      <td>10/29/2021</td>\n",
       "      <td>673.059998</td>\n",
       "      <td>690.969971</td>\n",
       "      <td>671.239990</td>\n",
       "      <td>690.309998</td>\n",
       "      <td>690.309998</td>\n",
       "      <td>3817500</td>\n",
       "    </tr>\n",
       "  </tbody>\n",
       "</table>\n",
       "<p>4895 rows × 7 columns</p>\n",
       "</div>"
      ],
      "text/plain": [
       "            Date        Open        High         Low       Close   Adj Close  \\\n",
       "0      5/23/2002    1.156429    1.242857    1.145714    1.196429    1.196429   \n",
       "1      5/24/2002    1.214286    1.225000    1.197143    1.210000    1.210000   \n",
       "2      5/28/2002    1.213571    1.232143    1.157143    1.157143    1.157143   \n",
       "3      5/29/2002    1.164286    1.164286    1.085714    1.103571    1.103571   \n",
       "4      5/30/2002    1.107857    1.107857    1.071429    1.071429    1.071429   \n",
       "...          ...         ...         ...         ...         ...         ...   \n",
       "4890  10/25/2021  663.739990  675.880005  657.070007  671.659973  671.659973   \n",
       "4891  10/26/2021  673.760010  676.489990  662.770020  668.520020  668.520020   \n",
       "4892  10/27/2021  669.000000  671.409973  661.849976  662.919983  662.919983   \n",
       "4893  10/28/2021  670.950012  676.799988  668.030029  674.049988  674.049988   \n",
       "4894  10/29/2021  673.059998  690.969971  671.239990  690.309998  690.309998   \n",
       "\n",
       "         Volume  \n",
       "0     104790000  \n",
       "1      11104800  \n",
       "2       6609400  \n",
       "3       6757800  \n",
       "4      10154200  \n",
       "...         ...  \n",
       "4890    3833500  \n",
       "4891    2904800  \n",
       "4892    2276900  \n",
       "4893    2859400  \n",
       "4894    3817500  \n",
       "\n",
       "[4895 rows x 7 columns]"
      ]
     },
     "execution_count": 273,
     "metadata": {},
     "output_type": "execute_result"
    }
   ],
   "source": [
    "data = get_data(\"NFLX\")\n",
    "data"
   ]
  },
  {
   "cell_type": "code",
   "execution_count": 274,
   "metadata": {},
   "outputs": [
    {
     "data": {
      "text/plain": [
       "Date         False\n",
       "Open         False\n",
       "High         False\n",
       "Low          False\n",
       "Close        False\n",
       "Adj Close    False\n",
       "Volume       False\n",
       "dtype: bool"
      ]
     },
     "execution_count": 274,
     "metadata": {},
     "output_type": "execute_result"
    }
   ],
   "source": [
    "data.isna().any()"
   ]
  },
  {
   "cell_type": "code",
   "execution_count": 275,
   "metadata": {},
   "outputs": [
    {
     "data": {
      "text/html": [
       "<div>\n",
       "<style scoped>\n",
       "    .dataframe tbody tr th:only-of-type {\n",
       "        vertical-align: middle;\n",
       "    }\n",
       "\n",
       "    .dataframe tbody tr th {\n",
       "        vertical-align: top;\n",
       "    }\n",
       "\n",
       "    .dataframe thead th {\n",
       "        text-align: right;\n",
       "    }\n",
       "</style>\n",
       "<table border=\"1\" class=\"dataframe\">\n",
       "  <thead>\n",
       "    <tr style=\"text-align: right;\">\n",
       "      <th></th>\n",
       "    </tr>\n",
       "  </thead>\n",
       "  <tbody>\n",
       "    <tr>\n",
       "      <th>0</th>\n",
       "    </tr>\n",
       "    <tr>\n",
       "      <th>1</th>\n",
       "    </tr>\n",
       "    <tr>\n",
       "      <th>2</th>\n",
       "    </tr>\n",
       "    <tr>\n",
       "      <th>3</th>\n",
       "    </tr>\n",
       "    <tr>\n",
       "      <th>4</th>\n",
       "    </tr>\n",
       "    <tr>\n",
       "      <th>...</th>\n",
       "    </tr>\n",
       "    <tr>\n",
       "      <th>4890</th>\n",
       "    </tr>\n",
       "    <tr>\n",
       "      <th>4891</th>\n",
       "    </tr>\n",
       "    <tr>\n",
       "      <th>4892</th>\n",
       "    </tr>\n",
       "    <tr>\n",
       "      <th>4893</th>\n",
       "    </tr>\n",
       "    <tr>\n",
       "      <th>4894</th>\n",
       "    </tr>\n",
       "  </tbody>\n",
       "</table>\n",
       "<p>4895 rows × 0 columns</p>\n",
       "</div>"
      ],
      "text/plain": [
       "Empty DataFrame\n",
       "Columns: []\n",
       "Index: [0, 1, 2, 3, 4, 5, 6, 7, 8, 9, 10, 11, 12, 13, 14, 15, 16, 17, 18, 19, 20, 21, 22, 23, 24, 25, 26, 27, 28, 29, 30, 31, 32, 33, 34, 35, 36, 37, 38, 39, 40, 41, 42, 43, 44, 45, 46, 47, 48, 49, 50, 51, 52, 53, 54, 55, 56, 57, 58, 59, 60, 61, 62, 63, 64, 65, 66, 67, 68, 69, 70, 71, 72, 73, 74, 75, 76, 77, 78, 79, 80, 81, 82, 83, 84, 85, 86, 87, 88, 89, 90, 91, 92, 93, 94, 95, 96, 97, 98, 99, ...]\n",
       "\n",
       "[4895 rows x 0 columns]"
      ]
     },
     "execution_count": 275,
     "metadata": {},
     "output_type": "execute_result"
    }
   ],
   "source": [
    "data[data.columns[data.isna().any()]]"
   ]
  },
  {
   "cell_type": "code",
   "execution_count": 276,
   "metadata": {},
   "outputs": [
    {
     "name": "stdout",
     "output_type": "stream",
     "text": [
      "            Date        Open        High         Low       Close   Adj Close  \\\n",
      "0      5/23/2002    1.156429    1.242857    1.145714    1.196429    1.196429   \n",
      "1      5/24/2002    1.214286    1.225000    1.197143    1.210000    1.210000   \n",
      "2      5/28/2002    1.213571    1.232143    1.157143    1.157143    1.157143   \n",
      "3      5/29/2002    1.164286    1.164286    1.085714    1.103571    1.103571   \n",
      "4      5/30/2002    1.107857    1.107857    1.071429    1.071429    1.071429   \n",
      "...          ...         ...         ...         ...         ...         ...   \n",
      "4890  10/25/2021  663.739990  675.880005  657.070007  671.659973  671.659973   \n",
      "4891  10/26/2021  673.760010  676.489990  662.770020  668.520020  668.520020   \n",
      "4892  10/27/2021  669.000000  671.409973  661.849976  662.919983  662.919983   \n",
      "4893  10/28/2021  670.950012  676.799988  668.030029  674.049988  674.049988   \n",
      "4894  10/29/2021  673.059998  690.969971  671.239990  690.309998  690.309998   \n",
      "\n",
      "         Volume  cond1  cond2  cond3  \n",
      "0     104790000  False  False  False  \n",
      "1      11104800  False  False  False  \n",
      "2       6609400  False  False  False  \n",
      "3       6757800  False  False  False  \n",
      "4      10154200  False  False  False  \n",
      "...         ...    ...    ...    ...  \n",
      "4890    3833500  False  False  False  \n",
      "4891    2904800  False  False  False  \n",
      "4892    2276900  False  False  False  \n",
      "4893    2859400  False  False  False  \n",
      "4894    3817500  False  False  False  \n",
      "\n",
      "[4895 rows x 10 columns]\n"
     ]
    }
   ],
   "source": [
    "cond1 = data.Date.isna() # aapl['Date'].isna()\n",
    "cond2 = data.Date.str.contains(r'^\\s*$', na=False)\n",
    "cond3 = data.Date == ''\n",
    "\n",
    "data_checked = data.assign(cond1= cond1, cond2= cond2, cond3= cond3)\n",
    "print (data_checked)"
   ]
  },
  {
   "cell_type": "code",
   "execution_count": 277,
   "metadata": {},
   "outputs": [],
   "source": [
    "def simple_moving_average_5(close):\n",
    "    return close.rolling(5, min_periods=1).mean()"
   ]
  },
  {
   "cell_type": "code",
   "execution_count": 278,
   "metadata": {},
   "outputs": [],
   "source": [
    "def simple_moving_average_10(close):\n",
    "    return close.rolling(10, min_periods=1).mean()"
   ]
  },
  {
   "cell_type": "code",
   "execution_count": 279,
   "metadata": {},
   "outputs": [],
   "source": [
    "def stochastic_k(high, low, close):\n",
    "    return (((close-low.rolling(14).min())/(high.rolling(14).max()-low.rolling(14).min()))*100)"
   ]
  },
  {
   "cell_type": "code",
   "execution_count": 280,
   "metadata": {},
   "outputs": [],
   "source": [
    "def stochastic_d(stochastic_k):\n",
    "    return stochastic_k.rolling(3,min_periods=1).mean()"
   ]
  },
  {
   "cell_type": "code",
   "execution_count": 281,
   "metadata": {},
   "outputs": [],
   "source": [
    "def larry_williams_r(high, low, close):\n",
    "    return (((high.rolling(14).max()-close)/(high.rolling(14).max()-low.rolling(14).min()))*100)"
   ]
  },
  {
   "cell_type": "code",
   "execution_count": 282,
   "metadata": {},
   "outputs": [],
   "source": [
    "def rate_of_change(close):\n",
    "    return ((close-close.shift(12))/close.shift(12))"
   ]
  },
  {
   "cell_type": "code",
   "execution_count": 283,
   "metadata": {},
   "outputs": [],
   "source": [
    "def price_volume_trend(close, volume):\n",
    "    return (((close-close.shift(1))/close.shift(1))*volume)"
   ]
  },
  {
   "cell_type": "code",
   "execution_count": 284,
   "metadata": {},
   "outputs": [],
   "source": [
    "def accumulation_distribution_oscillator(high, low, close):\n",
    "    return((high-close.shift(1))/(high-low))"
   ]
  },
  {
   "cell_type": "code",
   "execution_count": 285,
   "metadata": {},
   "outputs": [],
   "source": [
    "def weighted_moving_average_10(close):\n",
    "    return ((10*close+9*close.shift(1)+8*close.shift(2)+7*close.shift(3)\n",
    "             +6*close.shift(4)+5*close.shift(5)+4*close.shift(6)+3*close.shift(7)\n",
    "             +2*close.shift(8)+close.shift(9))/(10+9+8+7+6+5+4+3+2+1))"
   ]
  },
  {
   "cell_type": "code",
   "execution_count": 286,
   "metadata": {},
   "outputs": [],
   "source": [
    "def exponential_moving_average_12(close):\n",
    "    return (close.ewm(span=12, adjust=False).mean())"
   ]
  },
  {
   "cell_type": "code",
   "execution_count": 287,
   "metadata": {},
   "outputs": [],
   "source": [
    "def exponential_moving_average_26(close):\n",
    "    return (close.ewm(span=26, adjust=False).mean())"
   ]
  },
  {
   "cell_type": "code",
   "execution_count": 288,
   "metadata": {},
   "outputs": [],
   "source": [
    "def moving_average_convergence_divergence(ema_12, ema_26):\n",
    "    return (ema_12 - ema_26)"
   ]
  },
  {
   "cell_type": "code",
   "execution_count": 289,
   "metadata": {},
   "outputs": [],
   "source": [
    "def momentum(close):\n",
    "    return ((close/close.shift(14))*100)"
   ]
  },
  {
   "cell_type": "code",
   "execution_count": 290,
   "metadata": {},
   "outputs": [],
   "source": [
    "def change(close):\n",
    "    return (close - close.shift(1))"
   ]
  },
  {
   "cell_type": "code",
   "execution_count": 291,
   "metadata": {},
   "outputs": [],
   "source": [
    "def direction(change):\n",
    "    return (np.where(change>0, 1, 0))"
   ]
  },
  {
   "cell_type": "code",
   "execution_count": 292,
   "metadata": {},
   "outputs": [],
   "source": [
    "def relative_strength_index(direction):\n",
    "    return (100-(100/(1+(direction.rolling(14).sum()/14)/(14-direction.rolling(14).sum())/14)))"
   ]
  },
  {
   "cell_type": "code",
   "execution_count": 293,
   "metadata": {},
   "outputs": [],
   "source": [
    "def channel_commodity_index(df, ndays): \n",
    "    df['TP'] = (df['High'] + df['Low'] + df['Close']) / 3 \n",
    "    df['sma'] = df['TP'].rolling(ndays).mean()\n",
    "    df['mad'] = df['TP'].rolling(ndays).apply(lambda x: pd.Series(x).mad())\n",
    "    df['CCI'] = (df['TP'] - df['sma']) / (0.015 * df['mad']) \n",
    "    return df['CCI']"
   ]
  },
  {
   "cell_type": "code",
   "execution_count": 294,
   "metadata": {},
   "outputs": [],
   "source": [
    "def disparity_index(close):\n",
    "    return (((close - close.rolling(14).mean())/(close.rolling(14).mean()))*100)"
   ]
  },
  {
   "cell_type": "code",
   "execution_count": 295,
   "metadata": {},
   "outputs": [],
   "source": [
    "def get_adx(high, low, close, lookback):\n",
    "    plus_dm = high.diff()\n",
    "    minus_dm = low.diff()\n",
    "    plus_dm[plus_dm < 0] = 0\n",
    "    minus_dm[minus_dm > 0] = 0\n",
    "    \n",
    "    tr1 = pd.DataFrame(high - low)\n",
    "    tr2 = pd.DataFrame(abs(high - close.shift(1)))\n",
    "    tr3 = pd.DataFrame(abs(low - close.shift(1)))\n",
    "    frames = [tr1, tr2, tr3]\n",
    "    tr = pd.concat(frames, axis = 1, join = 'inner').max(axis = 1)\n",
    "    atr = tr.rolling(lookback).mean()\n",
    "    \n",
    "    plus_di = 100 * (plus_dm.ewm(alpha = 1/lookback).mean() / atr)\n",
    "    minus_di = abs(100 * (minus_dm.ewm(alpha = 1/lookback).mean() / atr))\n",
    "    dx = (abs(plus_di - minus_di) / abs(plus_di + minus_di)) * 100\n",
    "    adx = ((dx.shift(1) * (lookback - 1)) + dx) / lookback\n",
    "    adx_smooth = adx.ewm(alpha = 1/lookback).mean()\n",
    "    return adx_smooth"
   ]
  },
  {
   "cell_type": "code",
   "execution_count": 296,
   "metadata": {},
   "outputs": [],
   "source": [
    "def compute_all_indicators(data):\n",
    "    data['SMA5'] = simple_moving_average_5(data['Close'])\n",
    "    data['SMA10'] = simple_moving_average_10(data['Close'])\n",
    "    data['StochasticK'] = stochastic_k(data['High'], data['Low'], data['Close'])\n",
    "    data['StochasticD'] = stochastic_d(data['StochasticK'])\n",
    "    data['LarryWilliamsR'] = larry_williams_r(data['High'], data['Low'], data['Close'])\n",
    "    data['ROC'] = rate_of_change(data['Close'])\n",
    "    data['PVT'] = price_volume_trend(data['Close'], data['Volume'])\n",
    "    data['ADO'] = accumulation_distribution_oscillator(data['High'], data['Low'], data['Close'])\n",
    "    data['WMA10'] = weighted_moving_average_10(data['Close'])\n",
    "    data['EMA12'] = exponential_moving_average_12(data['Close'])\n",
    "    data['EMA26'] = exponential_moving_average_26(data['Close'])\n",
    "    data['MACD'] = moving_average_convergence_divergence(data['EMA12'], data['EMA26'])\n",
    "    data['Momentum'] = momentum(data['Close'])\n",
    "    data['Change'] = change(data['Close'])\n",
    "    data['Direction'] = direction(data['Change'])\n",
    "    data['RSI'] = relative_strength_index(data['Direction'])\n",
    "    data['CCI'] = channel_commodity_index(data, 14)\n",
    "    data['DI'] = disparity_index(data['Close'])\n",
    "    data['ADX'] = get_adx(data['High'], data['Low'], data['Close'], 14)\n",
    "    return data"
   ]
  },
  {
   "cell_type": "code",
   "execution_count": 297,
   "metadata": {},
   "outputs": [],
   "source": [
    "complete_data = compute_all_indicators(data)\n",
    "complete_data = complete_data.dropna()"
   ]
  },
  {
   "cell_type": "code",
   "execution_count": 298,
   "metadata": {},
   "outputs": [
    {
     "data": {
      "text/html": [
       "<div>\n",
       "<style scoped>\n",
       "    .dataframe tbody tr th:only-of-type {\n",
       "        vertical-align: middle;\n",
       "    }\n",
       "\n",
       "    .dataframe tbody tr th {\n",
       "        vertical-align: top;\n",
       "    }\n",
       "\n",
       "    .dataframe thead th {\n",
       "        text-align: right;\n",
       "    }\n",
       "</style>\n",
       "<table border=\"1\" class=\"dataframe\">\n",
       "  <thead>\n",
       "    <tr style=\"text-align: right;\">\n",
       "      <th></th>\n",
       "      <th>Date</th>\n",
       "      <th>Open</th>\n",
       "      <th>High</th>\n",
       "      <th>Low</th>\n",
       "      <th>Close</th>\n",
       "      <th>Adj Close</th>\n",
       "      <th>Volume</th>\n",
       "      <th>SMA5</th>\n",
       "      <th>SMA10</th>\n",
       "      <th>StochasticK</th>\n",
       "      <th>...</th>\n",
       "      <th>Momentum</th>\n",
       "      <th>Change</th>\n",
       "      <th>Direction</th>\n",
       "      <th>RSI</th>\n",
       "      <th>TP</th>\n",
       "      <th>sma</th>\n",
       "      <th>mad</th>\n",
       "      <th>CCI</th>\n",
       "      <th>DI</th>\n",
       "      <th>ADX</th>\n",
       "    </tr>\n",
       "  </thead>\n",
       "  <tbody>\n",
       "    <tr>\n",
       "      <th>14</th>\n",
       "      <td>6/13/2002</td>\n",
       "      <td>1.104286</td>\n",
       "      <td>1.122143</td>\n",
       "      <td>1.080000</td>\n",
       "      <td>1.082857</td>\n",
       "      <td>1.082857</td>\n",
       "      <td>2567600</td>\n",
       "      <td>1.120857</td>\n",
       "      <td>1.125643</td>\n",
       "      <td>7.110768</td>\n",
       "      <td>...</td>\n",
       "      <td>90.507418</td>\n",
       "      <td>-0.010000</td>\n",
       "      <td>0</td>\n",
       "      <td>0.381194</td>\n",
       "      <td>1.095000</td>\n",
       "      <td>1.135578</td>\n",
       "      <td>0.031001</td>\n",
       "      <td>-87.262252</td>\n",
       "      <td>-4.041967</td>\n",
       "      <td>6.531289</td>\n",
       "    </tr>\n",
       "    <tr>\n",
       "      <th>15</th>\n",
       "      <td>6/14/2002</td>\n",
       "      <td>1.082143</td>\n",
       "      <td>1.085714</td>\n",
       "      <td>0.980000</td>\n",
       "      <td>0.986429</td>\n",
       "      <td>0.986429</td>\n",
       "      <td>4783800</td>\n",
       "      <td>1.094429</td>\n",
       "      <td>1.116643</td>\n",
       "      <td>2.549744</td>\n",
       "      <td>...</td>\n",
       "      <td>81.523058</td>\n",
       "      <td>-0.096428</td>\n",
       "      <td>0</td>\n",
       "      <td>0.282646</td>\n",
       "      <td>1.017381</td>\n",
       "      <td>1.121769</td>\n",
       "      <td>0.031939</td>\n",
       "      <td>-217.891706</td>\n",
       "      <td>-11.332225</td>\n",
       "      <td>9.143382</td>\n",
       "    </tr>\n",
       "    <tr>\n",
       "      <th>16</th>\n",
       "      <td>6/17/2002</td>\n",
       "      <td>1.013571</td>\n",
       "      <td>1.059286</td>\n",
       "      <td>0.917857</td>\n",
       "      <td>0.922143</td>\n",
       "      <td>0.922143</td>\n",
       "      <td>4855200</td>\n",
       "      <td>1.047571</td>\n",
       "      <td>1.096000</td>\n",
       "      <td>1.363726</td>\n",
       "      <td>...</td>\n",
       "      <td>79.691361</td>\n",
       "      <td>-0.064286</td>\n",
       "      <td>0</td>\n",
       "      <td>0.282646</td>\n",
       "      <td>0.966429</td>\n",
       "      <td>1.106361</td>\n",
       "      <td>0.041992</td>\n",
       "      <td>-222.155602</td>\n",
       "      <td>-15.840926</td>\n",
       "      <td>19.140010</td>\n",
       "    </tr>\n",
       "    <tr>\n",
       "      <th>17</th>\n",
       "      <td>6/18/2002</td>\n",
       "      <td>0.938571</td>\n",
       "      <td>0.939286</td>\n",
       "      <td>0.842143</td>\n",
       "      <td>0.910714</td>\n",
       "      <td>0.910714</td>\n",
       "      <td>10808000</td>\n",
       "      <td>0.999000</td>\n",
       "      <td>1.075286</td>\n",
       "      <td>17.582308</td>\n",
       "      <td>...</td>\n",
       "      <td>82.524278</td>\n",
       "      <td>-0.011429</td>\n",
       "      <td>0</td>\n",
       "      <td>0.282646</td>\n",
       "      <td>0.897381</td>\n",
       "      <td>1.090612</td>\n",
       "      <td>0.058975</td>\n",
       "      <td>-218.434212</td>\n",
       "      <td>-15.825737</td>\n",
       "      <td>27.026513</td>\n",
       "    </tr>\n",
       "    <tr>\n",
       "      <th>18</th>\n",
       "      <td>6/19/2002</td>\n",
       "      <td>0.911429</td>\n",
       "      <td>0.996429</td>\n",
       "      <td>0.892857</td>\n",
       "      <td>0.951429</td>\n",
       "      <td>0.951429</td>\n",
       "      <td>5482400</td>\n",
       "      <td>0.970714</td>\n",
       "      <td>1.055714</td>\n",
       "      <td>28.022051</td>\n",
       "      <td>...</td>\n",
       "      <td>88.800004</td>\n",
       "      <td>0.040715</td>\n",
       "      <td>1</td>\n",
       "      <td>0.381194</td>\n",
       "      <td>0.946905</td>\n",
       "      <td>1.080850</td>\n",
       "      <td>0.071526</td>\n",
       "      <td>-124.845930</td>\n",
       "      <td>-11.360356</td>\n",
       "      <td>33.442196</td>\n",
       "    </tr>\n",
       "    <tr>\n",
       "      <th>...</th>\n",
       "      <td>...</td>\n",
       "      <td>...</td>\n",
       "      <td>...</td>\n",
       "      <td>...</td>\n",
       "      <td>...</td>\n",
       "      <td>...</td>\n",
       "      <td>...</td>\n",
       "      <td>...</td>\n",
       "      <td>...</td>\n",
       "      <td>...</td>\n",
       "      <td>...</td>\n",
       "      <td>...</td>\n",
       "      <td>...</td>\n",
       "      <td>...</td>\n",
       "      <td>...</td>\n",
       "      <td>...</td>\n",
       "      <td>...</td>\n",
       "      <td>...</td>\n",
       "      <td>...</td>\n",
       "      <td>...</td>\n",
       "      <td>...</td>\n",
       "    </tr>\n",
       "    <tr>\n",
       "      <th>4890</th>\n",
       "      <td>10/25/2021</td>\n",
       "      <td>663.739990</td>\n",
       "      <td>675.880005</td>\n",
       "      <td>657.070007</td>\n",
       "      <td>671.659973</td>\n",
       "      <td>671.659973</td>\n",
       "      <td>3833500</td>\n",
       "      <td>650.747998</td>\n",
       "      <td>640.849994</td>\n",
       "      <td>92.814518</td>\n",
       "      <td>...</td>\n",
       "      <td>105.804883</td>\n",
       "      <td>6.879944</td>\n",
       "      <td>1</td>\n",
       "      <td>0.910010</td>\n",
       "      <td>668.203328</td>\n",
       "      <td>637.748567</td>\n",
       "      <td>8.702045</td>\n",
       "      <td>233.314986</td>\n",
       "      <td>5.191655</td>\n",
       "      <td>30.298693</td>\n",
       "    </tr>\n",
       "    <tr>\n",
       "      <th>4891</th>\n",
       "      <td>10/26/2021</td>\n",
       "      <td>673.760010</td>\n",
       "      <td>676.489990</td>\n",
       "      <td>662.770020</td>\n",
       "      <td>668.520020</td>\n",
       "      <td>668.520020</td>\n",
       "      <td>2904800</td>\n",
       "      <td>656.652002</td>\n",
       "      <td>645.207996</td>\n",
       "      <td>86.568968</td>\n",
       "      <td>...</td>\n",
       "      <td>104.603356</td>\n",
       "      <td>-3.139953</td>\n",
       "      <td>0</td>\n",
       "      <td>0.675676</td>\n",
       "      <td>669.260010</td>\n",
       "      <td>640.187855</td>\n",
       "      <td>11.809801</td>\n",
       "      <td>164.113158</td>\n",
       "      <td>4.356440</td>\n",
       "      <td>30.769399</td>\n",
       "    </tr>\n",
       "    <tr>\n",
       "      <th>4892</th>\n",
       "      <td>10/27/2021</td>\n",
       "      <td>669.000000</td>\n",
       "      <td>671.409973</td>\n",
       "      <td>661.849976</td>\n",
       "      <td>662.919983</td>\n",
       "      <td>662.919983</td>\n",
       "      <td>2276900</td>\n",
       "      <td>664.207996</td>\n",
       "      <td>648.523993</td>\n",
       "      <td>77.131758</td>\n",
       "      <td>...</td>\n",
       "      <td>104.917308</td>\n",
       "      <td>-5.600037</td>\n",
       "      <td>0</td>\n",
       "      <td>0.675676</td>\n",
       "      <td>665.393311</td>\n",
       "      <td>642.260234</td>\n",
       "      <td>13.930309</td>\n",
       "      <td>110.708606</td>\n",
       "      <td>3.125012</td>\n",
       "      <td>31.225713</td>\n",
       "    </tr>\n",
       "    <tr>\n",
       "      <th>4893</th>\n",
       "      <td>10/28/2021</td>\n",
       "      <td>670.950012</td>\n",
       "      <td>676.799988</td>\n",
       "      <td>668.030029</td>\n",
       "      <td>674.049988</td>\n",
       "      <td>674.049988</td>\n",
       "      <td>2859400</td>\n",
       "      <td>668.385999</td>\n",
       "      <td>652.548993</td>\n",
       "      <td>95.389771</td>\n",
       "      <td>...</td>\n",
       "      <td>106.542221</td>\n",
       "      <td>11.130005</td>\n",
       "      <td>1</td>\n",
       "      <td>0.675676</td>\n",
       "      <td>672.960002</td>\n",
       "      <td>644.916425</td>\n",
       "      <td>16.039255</td>\n",
       "      <td>116.562258</td>\n",
       "      <td>4.376381</td>\n",
       "      <td>31.577094</td>\n",
       "    </tr>\n",
       "    <tr>\n",
       "      <th>4894</th>\n",
       "      <td>10/29/2021</td>\n",
       "      <td>673.059998</td>\n",
       "      <td>690.969971</td>\n",
       "      <td>671.239990</td>\n",
       "      <td>690.309998</td>\n",
       "      <td>690.309998</td>\n",
       "      <td>3817500</td>\n",
       "      <td>673.491992</td>\n",
       "      <td>658.750995</td>\n",
       "      <td>99.105969</td>\n",
       "      <td>...</td>\n",
       "      <td>110.090269</td>\n",
       "      <td>16.260010</td>\n",
       "      <td>1</td>\n",
       "      <td>0.910010</td>\n",
       "      <td>684.173320</td>\n",
       "      <td>648.708806</td>\n",
       "      <td>18.345784</td>\n",
       "      <td>128.874349</td>\n",
       "      <td>6.151380</td>\n",
       "      <td>32.202746</td>\n",
       "    </tr>\n",
       "  </tbody>\n",
       "</table>\n",
       "<p>4881 rows × 29 columns</p>\n",
       "</div>"
      ],
      "text/plain": [
       "            Date        Open        High         Low       Close   Adj Close  \\\n",
       "14     6/13/2002    1.104286    1.122143    1.080000    1.082857    1.082857   \n",
       "15     6/14/2002    1.082143    1.085714    0.980000    0.986429    0.986429   \n",
       "16     6/17/2002    1.013571    1.059286    0.917857    0.922143    0.922143   \n",
       "17     6/18/2002    0.938571    0.939286    0.842143    0.910714    0.910714   \n",
       "18     6/19/2002    0.911429    0.996429    0.892857    0.951429    0.951429   \n",
       "...          ...         ...         ...         ...         ...         ...   \n",
       "4890  10/25/2021  663.739990  675.880005  657.070007  671.659973  671.659973   \n",
       "4891  10/26/2021  673.760010  676.489990  662.770020  668.520020  668.520020   \n",
       "4892  10/27/2021  669.000000  671.409973  661.849976  662.919983  662.919983   \n",
       "4893  10/28/2021  670.950012  676.799988  668.030029  674.049988  674.049988   \n",
       "4894  10/29/2021  673.059998  690.969971  671.239990  690.309998  690.309998   \n",
       "\n",
       "        Volume        SMA5       SMA10  StochasticK  ...    Momentum  \\\n",
       "14     2567600    1.120857    1.125643     7.110768  ...   90.507418   \n",
       "15     4783800    1.094429    1.116643     2.549744  ...   81.523058   \n",
       "16     4855200    1.047571    1.096000     1.363726  ...   79.691361   \n",
       "17    10808000    0.999000    1.075286    17.582308  ...   82.524278   \n",
       "18     5482400    0.970714    1.055714    28.022051  ...   88.800004   \n",
       "...        ...         ...         ...          ...  ...         ...   \n",
       "4890   3833500  650.747998  640.849994    92.814518  ...  105.804883   \n",
       "4891   2904800  656.652002  645.207996    86.568968  ...  104.603356   \n",
       "4892   2276900  664.207996  648.523993    77.131758  ...  104.917308   \n",
       "4893   2859400  668.385999  652.548993    95.389771  ...  106.542221   \n",
       "4894   3817500  673.491992  658.750995    99.105969  ...  110.090269   \n",
       "\n",
       "         Change  Direction       RSI          TP         sma        mad  \\\n",
       "14    -0.010000          0  0.381194    1.095000    1.135578   0.031001   \n",
       "15    -0.096428          0  0.282646    1.017381    1.121769   0.031939   \n",
       "16    -0.064286          0  0.282646    0.966429    1.106361   0.041992   \n",
       "17    -0.011429          0  0.282646    0.897381    1.090612   0.058975   \n",
       "18     0.040715          1  0.381194    0.946905    1.080850   0.071526   \n",
       "...         ...        ...       ...         ...         ...        ...   \n",
       "4890   6.879944          1  0.910010  668.203328  637.748567   8.702045   \n",
       "4891  -3.139953          0  0.675676  669.260010  640.187855  11.809801   \n",
       "4892  -5.600037          0  0.675676  665.393311  642.260234  13.930309   \n",
       "4893  11.130005          1  0.675676  672.960002  644.916425  16.039255   \n",
       "4894  16.260010          1  0.910010  684.173320  648.708806  18.345784   \n",
       "\n",
       "             CCI         DI        ADX  \n",
       "14    -87.262252  -4.041967   6.531289  \n",
       "15   -217.891706 -11.332225   9.143382  \n",
       "16   -222.155602 -15.840926  19.140010  \n",
       "17   -218.434212 -15.825737  27.026513  \n",
       "18   -124.845930 -11.360356  33.442196  \n",
       "...          ...        ...        ...  \n",
       "4890  233.314986   5.191655  30.298693  \n",
       "4891  164.113158   4.356440  30.769399  \n",
       "4892  110.708606   3.125012  31.225713  \n",
       "4893  116.562258   4.376381  31.577094  \n",
       "4894  128.874349   6.151380  32.202746  \n",
       "\n",
       "[4881 rows x 29 columns]"
      ]
     },
     "execution_count": 298,
     "metadata": {},
     "output_type": "execute_result"
    }
   ],
   "source": [
    "complete_data"
   ]
  },
  {
   "cell_type": "code",
   "execution_count": 299,
   "metadata": {},
   "outputs": [],
   "source": [
    "# data['STO'] = ta.momentum.StochasticOscillator(data[\"Close\"], data[\"High\"], data[\"Low\"], 20, 2, True).stoch()"
   ]
  },
  {
   "cell_type": "code",
   "execution_count": 300,
   "metadata": {},
   "outputs": [
    {
     "name": "stdout",
     "output_type": "stream",
     "text": [
      "                    Open      High       Low     Close  Adj Close    Volume  \\\n",
      "Open            1.000000  0.999865  0.999862  0.999711   0.999711 -0.253385   \n",
      "High            0.999865  1.000000  0.999823  0.999871   0.999871 -0.252045   \n",
      "Low             0.999862  0.999823  1.000000  0.999864   0.999864 -0.254630   \n",
      "Close           0.999711  0.999871  0.999864  1.000000   1.000000 -0.253216   \n",
      "Adj Close       0.999711  0.999871  0.999864  1.000000   1.000000 -0.253216   \n",
      "Volume         -0.253385 -0.252045 -0.254630 -0.253216  -0.253216  1.000000   \n",
      "SMA5            0.999664  0.999646  0.999587  0.999546   0.999546 -0.253365   \n",
      "SMA10           0.999112  0.999100  0.999009  0.998969   0.998969 -0.253415   \n",
      "StochasticK     0.062359  0.063951  0.065579  0.067233   0.067233 -0.029556   \n",
      "StochasticD     0.069252  0.069155  0.070675  0.070540   0.070540 -0.032013   \n",
      "LarryWilliamsR -0.062359 -0.063951 -0.065579 -0.067233  -0.067233  0.029556   \n",
      "ROC            -0.009140 -0.008625 -0.007908 -0.007349  -0.007349  0.009779   \n",
      "PVT            -0.000354  0.000338  0.000342  0.001138   0.001138 -0.193855   \n",
      "ADO             0.014644  0.018179  0.018692  0.020763   0.020763 -0.043329   \n",
      "WMA10           0.999517  0.999504  0.999434  0.999395   0.999395 -0.253401   \n",
      "EMA12           0.999275  0.999274  0.999187  0.999157   0.999157 -0.253400   \n",
      "EMA26           0.998371  0.998383  0.998265  0.998240   0.998240 -0.253142   \n",
      "MACD            0.341713  0.341253  0.342380  0.342198   0.342198 -0.087732   \n",
      "Momentum       -0.010615 -0.010094 -0.009325 -0.008822  -0.008822  0.014185   \n",
      "Change          0.040071  0.049273  0.049769  0.059645   0.059645 -0.006551   \n",
      "Direction       0.016599  0.020817  0.021474  0.025628   0.025628  0.004599   \n",
      "RSI             0.113418  0.114067  0.115997  0.116095   0.116095 -0.044081   \n",
      "TP              0.999862  0.999948  0.999944  0.999961   0.999961 -0.253297   \n",
      "sma             0.998694  0.998688  0.998583  0.998546   0.998546 -0.253364   \n",
      "mad             0.812767  0.814086  0.810459  0.811996   0.811996 -0.154079   \n",
      "CCI             0.031654  0.033087  0.034571  0.035360   0.035360 -0.000253   \n",
      "DI              0.006270  0.007380  0.008256  0.009415   0.009415 -0.002348   \n",
      "ADX            -0.165380 -0.165393 -0.165714 -0.165735  -0.165735  0.171217   \n",
      "\n",
      "                    SMA5     SMA10  StochasticK  StochasticD  ...  Momentum  \\\n",
      "Open            0.999664  0.999112     0.062359     0.069252  ... -0.010615   \n",
      "High            0.999646  0.999100     0.063951     0.069155  ... -0.010094   \n",
      "Low             0.999587  0.999009     0.065579     0.070675  ... -0.009325   \n",
      "Close           0.999546  0.998969     0.067233     0.070540  ... -0.008822   \n",
      "Adj Close       0.999546  0.998969     0.067233     0.070540  ... -0.008822   \n",
      "Volume         -0.253365 -0.253415    -0.029556    -0.032013  ...  0.014185   \n",
      "SMA5            1.000000  0.999693     0.055679     0.062858  ... -0.014415   \n",
      "SMA10           0.999693  1.000000     0.045603     0.051763  ... -0.021430   \n",
      "StochasticK     0.055679  0.045603     1.000000     0.920423  ...  0.727987   \n",
      "StochasticD     0.062858  0.051763     0.920423     1.000000  ...  0.765971   \n",
      "LarryWilliamsR -0.055679 -0.045603    -1.000000    -0.920423  ... -0.727987   \n",
      "ROC            -0.013318 -0.021196     0.753207     0.774289  ...  0.917693   \n",
      "PVT            -0.001791 -0.002218     0.177758     0.075586  ...  0.194924   \n",
      "ADO             0.010590  0.009609     0.328656     0.101802  ...  0.185820   \n",
      "WMA10           0.999937  0.999902     0.051664     0.058279  ... -0.017232   \n",
      "EMA12           0.999743  0.999936     0.046474     0.052046  ... -0.022611   \n",
      "EMA26           0.998954  0.999480     0.037987     0.042070  ... -0.031280   \n",
      "MACD            0.337654  0.325428     0.327238     0.383846  ...  0.312630   \n",
      "Momentum       -0.014415 -0.021430     0.727987     0.765971  ...  1.000000   \n",
      "Change          0.037780  0.035778     0.241788     0.077636  ...  0.098982   \n",
      "Direction       0.016876  0.016475     0.335166     0.101814  ...  0.139864   \n",
      "RSI             0.109664  0.102605     0.504606     0.527104  ...  0.486710   \n",
      "TP              0.999643  0.999075     0.065584     0.070119  ... -0.009418   \n",
      "sma             0.999309  0.999854     0.039586     0.044709  ... -0.027559   \n",
      "mad             0.812160  0.810650     0.050280     0.059742  ...  0.030750   \n",
      "CCI             0.022470  0.012485     0.895854     0.827477  ...  0.644539   \n",
      "DI             -0.000055 -0.008859     0.812759     0.770245  ...  0.836511   \n",
      "ADX            -0.165355 -0.166249     0.058023     0.089353  ...  0.121120   \n",
      "\n",
      "                  Change  Direction       RSI        TP       sma       mad  \\\n",
      "Open            0.040071   0.016599  0.113418  0.999862  0.998694  0.812767   \n",
      "High            0.049273   0.020817  0.114067  0.999948  0.998688  0.814086   \n",
      "Low             0.049769   0.021474  0.115997  0.999944  0.998583  0.810459   \n",
      "Close           0.059645   0.025628  0.116095  0.999961  0.998546  0.811996   \n",
      "Adj Close       0.059645   0.025628  0.116095  0.999961  0.998546  0.811996   \n",
      "Volume         -0.006551   0.004599 -0.044081 -0.253297 -0.253364 -0.154079   \n",
      "SMA5            0.037780   0.016876  0.109664  0.999643  0.999309  0.812160   \n",
      "SMA10           0.035778   0.016475  0.102605  0.999075  0.999854  0.810650   \n",
      "StochasticK     0.241788   0.335166  0.504606  0.065584  0.039586  0.050280   \n",
      "StochasticD     0.077636   0.101814  0.527104  0.070119  0.044709  0.059742   \n",
      "LarryWilliamsR -0.241788  -0.335166 -0.504606 -0.065584 -0.039586 -0.050280   \n",
      "ROC             0.101647   0.153397  0.446801 -0.007964 -0.027625  0.034850   \n",
      "PVT             0.118435   0.194728  0.050361  0.000606 -0.002364 -0.001625   \n",
      "ADO             0.445635   0.635794  0.130470  0.019210  0.009492  0.010111   \n",
      "WMA10           0.037398   0.016940  0.106839  0.999494  0.999613  0.811576   \n",
      "EMA12           0.037502   0.017229  0.102160  0.999256  0.999871  0.810420   \n",
      "EMA26           0.036543   0.017471  0.095637  0.998346  0.999728  0.808470   \n",
      "MACD            0.046949  -0.003596  0.272019  0.341955  0.313872  0.322023   \n",
      "Momentum        0.098982   0.139864  0.486710 -0.009418 -0.027559  0.030750   \n",
      "Change          1.000000   0.404306  0.122591  0.052897  0.035739  0.026447   \n",
      "Direction       0.404306   1.000000  0.224679  0.022638  0.016576  0.002262   \n",
      "RSI             0.122591   0.224679  1.000000  0.115382  0.096882  0.115036   \n",
      "TP              0.052897   0.022638  0.115382  1.000000  0.998655  0.812238   \n",
      "sma             0.035739   0.016576  0.096882  0.998655  1.000000  0.809149   \n",
      "mad             0.026447   0.002262  0.115036  0.812238  0.809149  1.000000   \n",
      "CCI             0.234359   0.290548  0.431479  0.034334  0.007629  0.011505   \n",
      "DI              0.179498   0.268457  0.419595  0.008347 -0.013499  0.025966   \n",
      "ADX            -0.021717  -0.034420  0.037922 -0.165621 -0.167776 -0.050990   \n",
      "\n",
      "                     CCI        DI       ADX  \n",
      "Open            0.031654  0.006270 -0.165380  \n",
      "High            0.033087  0.007380 -0.165393  \n",
      "Low             0.034571  0.008256 -0.165714  \n",
      "Close           0.035360  0.009415 -0.165735  \n",
      "Adj Close       0.035360  0.009415 -0.165735  \n",
      "Volume         -0.000253 -0.002348  0.171217  \n",
      "SMA5            0.022470 -0.000055 -0.165355  \n",
      "SMA10           0.012485 -0.008859 -0.166249  \n",
      "StochasticK     0.895854  0.812759  0.058023  \n",
      "StochasticD     0.827477  0.770245  0.089353  \n",
      "LarryWilliamsR -0.895854 -0.812759 -0.058023  \n",
      "ROC             0.682793  0.896789  0.099158  \n",
      "PVT             0.260250  0.314140 -0.004071  \n",
      "ADO             0.399780  0.330039 -0.015230  \n",
      "WMA10           0.018522 -0.003610 -0.165741  \n",
      "EMA12           0.014176 -0.007712 -0.167514  \n",
      "EMA26           0.006827 -0.014315 -0.171547  \n",
      "MACD            0.275317  0.241044  0.096960  \n",
      "Momentum        0.644539  0.836511  0.121120  \n",
      "Change          0.234359  0.179498 -0.021717  \n",
      "Direction       0.290548  0.268457 -0.034420  \n",
      "RSI             0.431479  0.419595  0.037922  \n",
      "TP              0.034334  0.008347 -0.165621  \n",
      "sma             0.007629 -0.013499 -0.167776  \n",
      "mad             0.011505  0.025966 -0.050990  \n",
      "CCI             1.000000  0.811615  0.047196  \n",
      "DI              0.811615  1.000000  0.045808  \n",
      "ADX             0.047196  0.045808  1.000000  \n",
      "\n",
      "[28 rows x 28 columns]\n"
     ]
    }
   ],
   "source": [
    "corrMatrix = complete_data.corr()\n",
    "print(corrMatrix)"
   ]
  },
  {
   "cell_type": "code",
   "execution_count": 301,
   "metadata": {},
   "outputs": [
    {
     "data": {
      "image/png": "[encoded data removed]",
      "text/plain": [
       "<Figure size 432x288 with 2 Axes>"
      ]
     },
     "metadata": {
      "needs_background": "light"
     },
     "output_type": "display_data"
    }
   ],
   "source": [
    "sn.heatmap(corrMatrix, annot=False)\n",
    "plt.show()"
   ]
  },
  {
   "cell_type": "code",
   "execution_count": 302,
   "metadata": {},
   "outputs": [
    {
     "data": {
      "text/plain": [
       "Open  Open         1.000000\n",
       "      High         0.999865\n",
       "      Low          0.999862\n",
       "      Close        0.999711\n",
       "      Adj Close    0.999711\n",
       "                     ...   \n",
       "ADX   sma         -0.167776\n",
       "      mad         -0.050990\n",
       "      CCI          0.047196\n",
       "      DI           0.045808\n",
       "      ADX          1.000000\n",
       "Length: 784, dtype: float64"
      ]
     },
     "execution_count": 302,
     "metadata": {},
     "output_type": "execute_result"
    }
   ],
   "source": [
    "corr_pairs = corrMatrix.unstack()\n",
    "corr_pairs"
   ]
  },
  {
   "cell_type": "code",
   "execution_count": 303,
   "metadata": {},
   "outputs": [
    {
     "data": {
      "text/plain": [
       "StochasticK     LarryWilliamsR   -1.000000\n",
       "LarryWilliamsR  StochasticK      -1.000000\n",
       "StochasticD     LarryWilliamsR   -0.920423\n",
       "LarryWilliamsR  StochasticD      -0.920423\n",
       "CCI             LarryWilliamsR   -0.895854\n",
       "                                    ...   \n",
       "TP              TP                1.000000\n",
       "sma             sma               1.000000\n",
       "mad             mad               1.000000\n",
       "PVT             PVT               1.000000\n",
       "ADX             ADX               1.000000\n",
       "Length: 784, dtype: float64"
      ]
     },
     "execution_count": 303,
     "metadata": {},
     "output_type": "execute_result"
    }
   ],
   "source": [
    "sorted_pairs = corr_pairs.sort_values(kind=\"quicksort\")\n",
    "sorted_pairs"
   ]
  },
  {
   "cell_type": "code",
   "execution_count": 304,
   "metadata": {},
   "outputs": [
    {
     "name": "stdout",
     "output_type": "stream",
     "text": [
      "StochasticK     LarryWilliamsR   -1.000000\n",
      "LarryWilliamsR  StochasticK      -1.000000\n",
      "StochasticD     LarryWilliamsR   -0.920423\n",
      "LarryWilliamsR  StochasticD      -0.920423\n",
      "CCI             LarryWilliamsR   -0.895854\n",
      "                                    ...   \n",
      "TP              TP                1.000000\n",
      "sma             sma               1.000000\n",
      "mad             mad               1.000000\n",
      "PVT             PVT               1.000000\n",
      "ADX             ADX               1.000000\n",
      "Length: 236, dtype: float64\n"
     ]
    }
   ],
   "source": [
    "strong_pairs = sorted_pairs[abs(sorted_pairs) > 0.5]\n",
    "\n",
    "print(strong_pairs)"
   ]
  },
  {
   "cell_type": "code",
   "execution_count": 305,
   "metadata": {},
   "outputs": [
    {
     "data": {
      "text/plain": [
       "208"
      ]
     },
     "execution_count": 305,
     "metadata": {},
     "output_type": "execute_result"
    }
   ],
   "source": [
    "# strong_pairs[strong_pairs.index[0][0] == strong_pairs.index[0][1]]\n",
    "\n",
    "removed_diagonal = [(i, j) for (i, j) in strong_pairs.index if i!=j]\n",
    "len(removed_diagonal)"
   ]
  },
  {
   "cell_type": "code",
   "execution_count": 306,
   "metadata": {
    "scrolled": false
   },
   "outputs": [],
   "source": [
    "# # Create correlation matrix\n",
    "# corr_matrix = complete_data.corr().abs()\n",
    "\n",
    "# # Select upper triangle of correlation matrix\n",
    "# upper = corr_matrix.where(np.triu(np.ones(corr_matrix.shape), k=1).astype(np.bool8))\n",
    "\n",
    "# # Find index of feature columns with correlation greater than 0.95\n",
    "# to_drop = [column for column in upper.columns if any(upper[column] > 0.95)]\n",
    "# to_drop"
   ]
  },
  {
   "cell_type": "code",
   "execution_count": 307,
   "metadata": {},
   "outputs": [],
   "source": [
    "# Find index of feature columns with correlation greater than 0.8\n",
    "\n",
    "correlated_features = set()\n",
    "for i in range(len(corrMatrix.columns)):\n",
    "    for j in range(i):\n",
    "        if abs(corrMatrix.iloc[i, j]) > 0.8:\n",
    "            colname = corrMatrix.columns[i]\n",
    "            correlated_features.add(colname)"
   ]
  },
  {
   "cell_type": "code",
   "execution_count": 308,
   "metadata": {},
   "outputs": [
    {
     "data": {
      "text/plain": [
       "{'Adj Close',\n",
       " 'CCI',\n",
       " 'Close',\n",
       " 'DI',\n",
       " 'EMA12',\n",
       " 'EMA26',\n",
       " 'High',\n",
       " 'LarryWilliamsR',\n",
       " 'Low',\n",
       " 'Momentum',\n",
       " 'SMA10',\n",
       " 'SMA5',\n",
       " 'StochasticD',\n",
       " 'TP',\n",
       " 'WMA10',\n",
       " 'mad',\n",
       " 'sma'}"
      ]
     },
     "execution_count": 308,
     "metadata": {},
     "output_type": "execute_result"
    }
   ],
   "source": [
    "correlated_features"
   ]
  },
  {
   "cell_type": "code",
   "execution_count": 309,
   "metadata": {},
   "outputs": [],
   "source": [
    "complete_data = complete_data.drop(labels=correlated_features, axis=1)"
   ]
  },
  {
   "cell_type": "code",
   "execution_count": 310,
   "metadata": {},
   "outputs": [
    {
     "data": {
      "text/html": [
       "<div>\n",
       "<style scoped>\n",
       "    .dataframe tbody tr th:only-of-type {\n",
       "        vertical-align: middle;\n",
       "    }\n",
       "\n",
       "    .dataframe tbody tr th {\n",
       "        vertical-align: top;\n",
       "    }\n",
       "\n",
       "    .dataframe thead th {\n",
       "        text-align: right;\n",
       "    }\n",
       "</style>\n",
       "<table border=\"1\" class=\"dataframe\">\n",
       "  <thead>\n",
       "    <tr style=\"text-align: right;\">\n",
       "      <th></th>\n",
       "      <th>Date</th>\n",
       "      <th>Open</th>\n",
       "      <th>Volume</th>\n",
       "      <th>StochasticK</th>\n",
       "      <th>ROC</th>\n",
       "      <th>PVT</th>\n",
       "      <th>ADO</th>\n",
       "      <th>MACD</th>\n",
       "      <th>Change</th>\n",
       "      <th>Direction</th>\n",
       "      <th>RSI</th>\n",
       "      <th>ADX</th>\n",
       "    </tr>\n",
       "  </thead>\n",
       "  <tbody>\n",
       "    <tr>\n",
       "      <th>14</th>\n",
       "      <td>6/13/2002</td>\n",
       "      <td>1.104286</td>\n",
       "      <td>2567600</td>\n",
       "      <td>7.110768</td>\n",
       "      <td>-0.064198</td>\n",
       "      <td>-23494.382156</td>\n",
       "      <td>0.694920</td>\n",
       "      <td>-0.019919</td>\n",
       "      <td>-0.010000</td>\n",
       "      <td>0</td>\n",
       "      <td>0.381194</td>\n",
       "      <td>6.531289</td>\n",
       "    </tr>\n",
       "    <tr>\n",
       "      <th>15</th>\n",
       "      <td>6/14/2002</td>\n",
       "      <td>1.082143</td>\n",
       "      <td>4783800</td>\n",
       "      <td>2.549744</td>\n",
       "      <td>-0.106148</td>\n",
       "      <td>-425995.552875</td>\n",
       "      <td>0.027026</td>\n",
       "      <td>-0.029902</td>\n",
       "      <td>-0.096428</td>\n",
       "      <td>0</td>\n",
       "      <td>0.282646</td>\n",
       "      <td>9.143382</td>\n",
       "    </tr>\n",
       "    <tr>\n",
       "      <th>16</th>\n",
       "      <td>6/17/2002</td>\n",
       "      <td>1.013571</td>\n",
       "      <td>4855200</td>\n",
       "      <td>1.363726</td>\n",
       "      <td>-0.139334</td>\n",
       "      <td>-316415.461427</td>\n",
       "      <td>0.515149</td>\n",
       "      <td>-0.042512</td>\n",
       "      <td>-0.064286</td>\n",
       "      <td>0</td>\n",
       "      <td>0.282646</td>\n",
       "      <td>19.140010</td>\n",
       "    </tr>\n",
       "    <tr>\n",
       "      <th>17</th>\n",
       "      <td>6/18/2002</td>\n",
       "      <td>0.938571</td>\n",
       "      <td>10808000</td>\n",
       "      <td>17.582308</td>\n",
       "      <td>-0.153949</td>\n",
       "      <td>-133953.879171</td>\n",
       "      <td>0.176472</td>\n",
       "      <td>-0.052818</td>\n",
       "      <td>-0.011429</td>\n",
       "      <td>0</td>\n",
       "      <td>0.282646</td>\n",
       "      <td>27.026513</td>\n",
       "    </tr>\n",
       "    <tr>\n",
       "      <th>18</th>\n",
       "      <td>6/19/2002</td>\n",
       "      <td>0.911429</td>\n",
       "      <td>5482400</td>\n",
       "      <td>28.022051</td>\n",
       "      <td>-0.156961</td>\n",
       "      <td>245099.906227</td>\n",
       "      <td>0.827589</td>\n",
       "      <td>-0.057043</td>\n",
       "      <td>0.040715</td>\n",
       "      <td>1</td>\n",
       "      <td>0.381194</td>\n",
       "      <td>33.442196</td>\n",
       "    </tr>\n",
       "    <tr>\n",
       "      <th>...</th>\n",
       "      <td>...</td>\n",
       "      <td>...</td>\n",
       "      <td>...</td>\n",
       "      <td>...</td>\n",
       "      <td>...</td>\n",
       "      <td>...</td>\n",
       "      <td>...</td>\n",
       "      <td>...</td>\n",
       "      <td>...</td>\n",
       "      <td>...</td>\n",
       "      <td>...</td>\n",
       "      <td>...</td>\n",
       "    </tr>\n",
       "    <tr>\n",
       "      <th>4890</th>\n",
       "      <td>10/25/2021</td>\n",
       "      <td>663.739990</td>\n",
       "      <td>3833500</td>\n",
       "      <td>92.814518</td>\n",
       "      <td>0.063005</td>\n",
       "      <td>39673.672754</td>\n",
       "      <td>0.590110</td>\n",
       "      <td>18.159400</td>\n",
       "      <td>6.879944</td>\n",
       "      <td>1</td>\n",
       "      <td>0.910010</td>\n",
       "      <td>30.298693</td>\n",
       "    </tr>\n",
       "    <tr>\n",
       "      <th>4891</th>\n",
       "      <td>10/26/2021</td>\n",
       "      <td>673.760010</td>\n",
       "      <td>2904800</td>\n",
       "      <td>86.568968</td>\n",
       "      <td>0.056681</td>\n",
       "      <td>-13579.691869</td>\n",
       "      <td>0.352043</td>\n",
       "      <td>18.956025</td>\n",
       "      <td>-3.139953</td>\n",
       "      <td>0</td>\n",
       "      <td>0.675676</td>\n",
       "      <td>30.769399</td>\n",
       "    </tr>\n",
       "    <tr>\n",
       "      <th>4892</th>\n",
       "      <td>10/27/2021</td>\n",
       "      <td>669.000000</td>\n",
       "      <td>2276900</td>\n",
       "      <td>77.131758</td>\n",
       "      <td>0.057221</td>\n",
       "      <td>-19073.062682</td>\n",
       "      <td>0.302296</td>\n",
       "      <td>18.917412</td>\n",
       "      <td>-5.600037</td>\n",
       "      <td>0</td>\n",
       "      <td>0.675676</td>\n",
       "      <td>31.225713</td>\n",
       "    </tr>\n",
       "    <tr>\n",
       "      <th>4893</th>\n",
       "      <td>10/28/2021</td>\n",
       "      <td>670.950012</td>\n",
       "      <td>2859400</td>\n",
       "      <td>95.389771</td>\n",
       "      <td>0.078584</td>\n",
       "      <td>48007.507864</td>\n",
       "      <td>1.582676</td>\n",
       "      <td>19.559441</td>\n",
       "      <td>11.130005</td>\n",
       "      <td>1</td>\n",
       "      <td>0.675676</td>\n",
       "      <td>31.577094</td>\n",
       "    </tr>\n",
       "    <tr>\n",
       "      <th>4894</th>\n",
       "      <td>10/29/2021</td>\n",
       "      <td>673.059998</td>\n",
       "      <td>3817500</td>\n",
       "      <td>99.105969</td>\n",
       "      <td>0.096148</td>\n",
       "      <td>92088.998264</td>\n",
       "      <td>0.857577</td>\n",
       "      <td>21.136650</td>\n",
       "      <td>16.260010</td>\n",
       "      <td>1</td>\n",
       "      <td>0.910010</td>\n",
       "      <td>32.202746</td>\n",
       "    </tr>\n",
       "  </tbody>\n",
       "</table>\n",
       "<p>4881 rows × 12 columns</p>\n",
       "</div>"
      ],
      "text/plain": [
       "            Date        Open    Volume  StochasticK       ROC            PVT  \\\n",
       "14     6/13/2002    1.104286   2567600     7.110768 -0.064198  -23494.382156   \n",
       "15     6/14/2002    1.082143   4783800     2.549744 -0.106148 -425995.552875   \n",
       "16     6/17/2002    1.013571   4855200     1.363726 -0.139334 -316415.461427   \n",
       "17     6/18/2002    0.938571  10808000    17.582308 -0.153949 -133953.879171   \n",
       "18     6/19/2002    0.911429   5482400    28.022051 -0.156961  245099.906227   \n",
       "...          ...         ...       ...          ...       ...            ...   \n",
       "4890  10/25/2021  663.739990   3833500    92.814518  0.063005   39673.672754   \n",
       "4891  10/26/2021  673.760010   2904800    86.568968  0.056681  -13579.691869   \n",
       "4892  10/27/2021  669.000000   2276900    77.131758  0.057221  -19073.062682   \n",
       "4893  10/28/2021  670.950012   2859400    95.389771  0.078584   48007.507864   \n",
       "4894  10/29/2021  673.059998   3817500    99.105969  0.096148   92088.998264   \n",
       "\n",
       "           ADO       MACD     Change  Direction       RSI        ADX  \n",
       "14    0.694920  -0.019919  -0.010000          0  0.381194   6.531289  \n",
       "15    0.027026  -0.029902  -0.096428          0  0.282646   9.143382  \n",
       "16    0.515149  -0.042512  -0.064286          0  0.282646  19.140010  \n",
       "17    0.176472  -0.052818  -0.011429          0  0.282646  27.026513  \n",
       "18    0.827589  -0.057043   0.040715          1  0.381194  33.442196  \n",
       "...        ...        ...        ...        ...       ...        ...  \n",
       "4890  0.590110  18.159400   6.879944          1  0.910010  30.298693  \n",
       "4891  0.352043  18.956025  -3.139953          0  0.675676  30.769399  \n",
       "4892  0.302296  18.917412  -5.600037          0  0.675676  31.225713  \n",
       "4893  1.582676  19.559441  11.130005          1  0.675676  31.577094  \n",
       "4894  0.857577  21.136650  16.260010          1  0.910010  32.202746  \n",
       "\n",
       "[4881 rows x 12 columns]"
      ]
     },
     "execution_count": 310,
     "metadata": {},
     "output_type": "execute_result"
    }
   ],
   "source": [
    "complete_data"
   ]
  },
  {
   "cell_type": "code",
   "execution_count": 311,
   "metadata": {
    "scrolled": false
   },
   "outputs": [
    {
     "data": {
      "text/html": [
       "<div>\n",
       "<style scoped>\n",
       "    .dataframe tbody tr th:only-of-type {\n",
       "        vertical-align: middle;\n",
       "    }\n",
       "\n",
       "    .dataframe tbody tr th {\n",
       "        vertical-align: top;\n",
       "    }\n",
       "\n",
       "    .dataframe thead th {\n",
       "        text-align: right;\n",
       "    }\n",
       "</style>\n",
       "<table border=\"1\" class=\"dataframe\">\n",
       "  <thead>\n",
       "    <tr style=\"text-align: right;\">\n",
       "      <th></th>\n",
       "      <th>Open</th>\n",
       "      <th>Volume</th>\n",
       "      <th>StochasticK</th>\n",
       "      <th>ROC</th>\n",
       "      <th>PVT</th>\n",
       "      <th>ADO</th>\n",
       "      <th>MACD</th>\n",
       "      <th>Change</th>\n",
       "      <th>RSI</th>\n",
       "      <th>ADX</th>\n",
       "    </tr>\n",
       "  </thead>\n",
       "  <tbody>\n",
       "    <tr>\n",
       "      <th>14</th>\n",
       "      <td>1.104286</td>\n",
       "      <td>2567600</td>\n",
       "      <td>7.110768</td>\n",
       "      <td>-0.064198</td>\n",
       "      <td>-23494.382156</td>\n",
       "      <td>0.694920</td>\n",
       "      <td>-0.019919</td>\n",
       "      <td>-0.010000</td>\n",
       "      <td>0.381194</td>\n",
       "      <td>6.531289</td>\n",
       "    </tr>\n",
       "    <tr>\n",
       "      <th>15</th>\n",
       "      <td>1.082143</td>\n",
       "      <td>4783800</td>\n",
       "      <td>2.549744</td>\n",
       "      <td>-0.106148</td>\n",
       "      <td>-425995.552875</td>\n",
       "      <td>0.027026</td>\n",
       "      <td>-0.029902</td>\n",
       "      <td>-0.096428</td>\n",
       "      <td>0.282646</td>\n",
       "      <td>9.143382</td>\n",
       "    </tr>\n",
       "    <tr>\n",
       "      <th>16</th>\n",
       "      <td>1.013571</td>\n",
       "      <td>4855200</td>\n",
       "      <td>1.363726</td>\n",
       "      <td>-0.139334</td>\n",
       "      <td>-316415.461427</td>\n",
       "      <td>0.515149</td>\n",
       "      <td>-0.042512</td>\n",
       "      <td>-0.064286</td>\n",
       "      <td>0.282646</td>\n",
       "      <td>19.140010</td>\n",
       "    </tr>\n",
       "    <tr>\n",
       "      <th>17</th>\n",
       "      <td>0.938571</td>\n",
       "      <td>10808000</td>\n",
       "      <td>17.582308</td>\n",
       "      <td>-0.153949</td>\n",
       "      <td>-133953.879171</td>\n",
       "      <td>0.176472</td>\n",
       "      <td>-0.052818</td>\n",
       "      <td>-0.011429</td>\n",
       "      <td>0.282646</td>\n",
       "      <td>27.026513</td>\n",
       "    </tr>\n",
       "    <tr>\n",
       "      <th>18</th>\n",
       "      <td>0.911429</td>\n",
       "      <td>5482400</td>\n",
       "      <td>28.022051</td>\n",
       "      <td>-0.156961</td>\n",
       "      <td>245099.906227</td>\n",
       "      <td>0.827589</td>\n",
       "      <td>-0.057043</td>\n",
       "      <td>0.040715</td>\n",
       "      <td>0.381194</td>\n",
       "      <td>33.442196</td>\n",
       "    </tr>\n",
       "    <tr>\n",
       "      <th>...</th>\n",
       "      <td>...</td>\n",
       "      <td>...</td>\n",
       "      <td>...</td>\n",
       "      <td>...</td>\n",
       "      <td>...</td>\n",
       "      <td>...</td>\n",
       "      <td>...</td>\n",
       "      <td>...</td>\n",
       "      <td>...</td>\n",
       "      <td>...</td>\n",
       "    </tr>\n",
       "    <tr>\n",
       "      <th>4890</th>\n",
       "      <td>663.739990</td>\n",
       "      <td>3833500</td>\n",
       "      <td>92.814518</td>\n",
       "      <td>0.063005</td>\n",
       "      <td>39673.672754</td>\n",
       "      <td>0.590110</td>\n",
       "      <td>18.159400</td>\n",
       "      <td>6.879944</td>\n",
       "      <td>0.910010</td>\n",
       "      <td>30.298693</td>\n",
       "    </tr>\n",
       "    <tr>\n",
       "      <th>4891</th>\n",
       "      <td>673.760010</td>\n",
       "      <td>2904800</td>\n",
       "      <td>86.568968</td>\n",
       "      <td>0.056681</td>\n",
       "      <td>-13579.691869</td>\n",
       "      <td>0.352043</td>\n",
       "      <td>18.956025</td>\n",
       "      <td>-3.139953</td>\n",
       "      <td>0.675676</td>\n",
       "      <td>30.769399</td>\n",
       "    </tr>\n",
       "    <tr>\n",
       "      <th>4892</th>\n",
       "      <td>669.000000</td>\n",
       "      <td>2276900</td>\n",
       "      <td>77.131758</td>\n",
       "      <td>0.057221</td>\n",
       "      <td>-19073.062682</td>\n",
       "      <td>0.302296</td>\n",
       "      <td>18.917412</td>\n",
       "      <td>-5.600037</td>\n",
       "      <td>0.675676</td>\n",
       "      <td>31.225713</td>\n",
       "    </tr>\n",
       "    <tr>\n",
       "      <th>4893</th>\n",
       "      <td>670.950012</td>\n",
       "      <td>2859400</td>\n",
       "      <td>95.389771</td>\n",
       "      <td>0.078584</td>\n",
       "      <td>48007.507864</td>\n",
       "      <td>1.582676</td>\n",
       "      <td>19.559441</td>\n",
       "      <td>11.130005</td>\n",
       "      <td>0.675676</td>\n",
       "      <td>31.577094</td>\n",
       "    </tr>\n",
       "    <tr>\n",
       "      <th>4894</th>\n",
       "      <td>673.059998</td>\n",
       "      <td>3817500</td>\n",
       "      <td>99.105969</td>\n",
       "      <td>0.096148</td>\n",
       "      <td>92088.998264</td>\n",
       "      <td>0.857577</td>\n",
       "      <td>21.136650</td>\n",
       "      <td>16.260010</td>\n",
       "      <td>0.910010</td>\n",
       "      <td>32.202746</td>\n",
       "    </tr>\n",
       "  </tbody>\n",
       "</table>\n",
       "<p>4881 rows × 10 columns</p>\n",
       "</div>"
      ],
      "text/plain": [
       "            Open    Volume  StochasticK       ROC            PVT       ADO  \\\n",
       "14      1.104286   2567600     7.110768 -0.064198  -23494.382156  0.694920   \n",
       "15      1.082143   4783800     2.549744 -0.106148 -425995.552875  0.027026   \n",
       "16      1.013571   4855200     1.363726 -0.139334 -316415.461427  0.515149   \n",
       "17      0.938571  10808000    17.582308 -0.153949 -133953.879171  0.176472   \n",
       "18      0.911429   5482400    28.022051 -0.156961  245099.906227  0.827589   \n",
       "...          ...       ...          ...       ...            ...       ...   \n",
       "4890  663.739990   3833500    92.814518  0.063005   39673.672754  0.590110   \n",
       "4891  673.760010   2904800    86.568968  0.056681  -13579.691869  0.352043   \n",
       "4892  669.000000   2276900    77.131758  0.057221  -19073.062682  0.302296   \n",
       "4893  670.950012   2859400    95.389771  0.078584   48007.507864  1.582676   \n",
       "4894  673.059998   3817500    99.105969  0.096148   92088.998264  0.857577   \n",
       "\n",
       "           MACD     Change       RSI        ADX  \n",
       "14    -0.019919  -0.010000  0.381194   6.531289  \n",
       "15    -0.029902  -0.096428  0.282646   9.143382  \n",
       "16    -0.042512  -0.064286  0.282646  19.140010  \n",
       "17    -0.052818  -0.011429  0.282646  27.026513  \n",
       "18    -0.057043   0.040715  0.381194  33.442196  \n",
       "...         ...        ...       ...        ...  \n",
       "4890  18.159400   6.879944  0.910010  30.298693  \n",
       "4891  18.956025  -3.139953  0.675676  30.769399  \n",
       "4892  18.917412  -5.600037  0.675676  31.225713  \n",
       "4893  19.559441  11.130005  0.675676  31.577094  \n",
       "4894  21.136650  16.260010  0.910010  32.202746  \n",
       "\n",
       "[4881 rows x 10 columns]"
      ]
     },
     "execution_count": 311,
     "metadata": {},
     "output_type": "execute_result"
    }
   ],
   "source": [
    "target = complete_data['Direction']\n",
    "complete_data = complete_data.drop(['Date', 'Direction'], axis=1)\n",
    "complete_data"
   ]
  },
  {
   "cell_type": "code",
   "execution_count": 312,
   "metadata": {},
   "outputs": [],
   "source": [
    "from sklearn.model_selection import train_test_split\n",
    "\n",
    "X_train, X_test, y_train, y_test = train_test_split(complete_data,target,test_size=0.3)"
   ]
  },
  {
   "cell_type": "markdown",
   "metadata": {},
   "source": [
    "### Logistic Regression"
   ]
  },
  {
   "cell_type": "code",
   "execution_count": 313,
   "metadata": {},
   "outputs": [
    {
     "data": {
      "text/plain": [
       "1.0"
      ]
     },
     "execution_count": 313,
     "metadata": {},
     "output_type": "execute_result"
    }
   ],
   "source": [
    "lr = LogisticRegression(solver='liblinear', multi_class='ovr')\n",
    "lr.fit(X_train, y_train)\n",
    "lr.score(X_test, y_test)"
   ]
  },
  {
   "cell_type": "markdown",
   "metadata": {},
   "source": [
    "### SVM"
   ]
  },
  {
   "cell_type": "code",
   "execution_count": 314,
   "metadata": {},
   "outputs": [
    {
     "data": {
      "text/plain": [
       "0.5051194539249146"
      ]
     },
     "execution_count": 314,
     "metadata": {},
     "output_type": "execute_result"
    }
   ],
   "source": [
    "svm = SVC(gamma='auto')\n",
    "svm.fit(X_train, y_train)\n",
    "svm.score(X_test, y_test)"
   ]
  },
  {
   "cell_type": "markdown",
   "metadata": {},
   "source": [
    "### Random Forest"
   ]
  },
  {
   "cell_type": "code",
   "execution_count": 315,
   "metadata": {},
   "outputs": [
    {
     "data": {
      "text/plain": [
       "1.0"
      ]
     },
     "execution_count": 315,
     "metadata": {},
     "output_type": "execute_result"
    }
   ],
   "source": [
    "rf = RandomForestClassifier(n_estimators=10)\n",
    "rf.fit(X_train, y_train)\n",
    "rf.score(X_test, y_test)"
   ]
  },
  {
   "cell_type": "markdown",
   "metadata": {},
   "source": [
    "### KNN"
   ]
  },
  {
   "cell_type": "code",
   "execution_count": 316,
   "metadata": {},
   "outputs": [
    {
     "data": {
      "text/plain": [
       "0.941296928327645"
      ]
     },
     "execution_count": 316,
     "metadata": {},
     "output_type": "execute_result"
    }
   ],
   "source": [
    "knn = KNeighborsClassifier(n_neighbors=5)\n",
    "knn.fit(X_train, y_train)\n",
    "knn.score(X_test, y_test)"
   ]
  },
  {
   "cell_type": "markdown",
   "metadata": {},
   "source": [
    "### XGBoost"
   ]
  },
  {
   "cell_type": "code",
   "execution_count": 317,
   "metadata": {},
   "outputs": [
    {
     "name": "stdout",
     "output_type": "stream",
     "text": [
      "[22:06:19] WARNING: C:/Users/Administrator/workspace/xgboost-win64_release_1.5.0/src/learner.cc:1115: Starting in XGBoost 1.3.0, the default evaluation metric used with the objective 'binary:logistic' was changed from 'error' to 'logloss'. Explicitly set eval_metric if you'd like to restore the old behavior.\n"
     ]
    },
    {
     "data": {
      "text/plain": [
       "1.0"
      ]
     },
     "execution_count": 317,
     "metadata": {},
     "output_type": "execute_result"
    }
   ],
   "source": [
    "xgb = XGBClassifier(use_label_encoder=False)\n",
    "xgb.fit(X_train, y_train)\n",
    "xgb.score(X_test, y_test)"
   ]
  },
  {
   "cell_type": "markdown",
   "metadata": {},
   "source": [
    "## KFold cross validation\n",
    "### Basic example"
   ]
  },
  {
   "cell_type": "code",
   "execution_count": 318,
   "metadata": {},
   "outputs": [
    {
     "data": {
      "text/plain": [
       "array([1.        , 1.        , 1.        , 1.        , 1.        ,\n",
       "       1.        , 1.        , 0.99795082, 1.        , 1.        ])"
      ]
     },
     "execution_count": 318,
     "metadata": {},
     "output_type": "execute_result"
    }
   ],
   "source": [
    "from sklearn.model_selection import cross_val_score\n",
    "\n",
    "cross_val_score(LogisticRegression(solver='liblinear',multi_class='ovr'), complete_data, target, cv=10)"
   ]
  },
  {
   "cell_type": "code",
   "execution_count": 319,
   "metadata": {},
   "outputs": [
    {
     "data": {
      "text/plain": [
       "array([0.50715746, 0.50614754, 0.50614754, 0.50819672, 0.50819672,\n",
       "       0.50819672, 0.50819672, 0.50819672, 0.50819672, 0.50819672])"
      ]
     },
     "execution_count": 319,
     "metadata": {},
     "output_type": "execute_result"
    }
   ],
   "source": [
    "cross_val_score(SVC(gamma='auto'), complete_data, target, cv=10)"
   ]
  },
  {
   "cell_type": "code",
   "execution_count": 320,
   "metadata": {},
   "outputs": [
    {
     "data": {
      "text/plain": [
       "array([1., 1., 1., 1., 1., 1., 1., 1., 1., 1.])"
      ]
     },
     "execution_count": 320,
     "metadata": {},
     "output_type": "execute_result"
    }
   ],
   "source": [
    "cross_val_score(RandomForestClassifier(n_estimators=5), complete_data, target, cv=10)"
   ]
  },
  {
   "cell_type": "code",
   "execution_count": 321,
   "metadata": {},
   "outputs": [
    {
     "data": {
      "text/plain": [
       "array([0.9406953 , 0.96311475, 0.94262295, 0.95491803, 0.91598361,\n",
       "       0.93852459, 0.96106557, 0.93032787, 0.9795082 , 0.90368852])"
      ]
     },
     "execution_count": 321,
     "metadata": {},
     "output_type": "execute_result"
    }
   ],
   "source": [
    "cross_val_score(KNeighborsClassifier(n_neighbors=5), complete_data, target, cv=10)"
   ]
  },
  {
   "cell_type": "code",
   "execution_count": 322,
   "metadata": {},
   "outputs": [
    {
     "name": "stdout",
     "output_type": "stream",
     "text": [
      "[22:06:37] WARNING: C:/Users/Administrator/workspace/xgboost-win64_release_1.5.0/src/learner.cc:1115: Starting in XGBoost 1.3.0, the default evaluation metric used with the objective 'binary:logistic' was changed from 'error' to 'logloss'. Explicitly set eval_metric if you'd like to restore the old behavior.\n",
      "[22:06:37] WARNING: C:/Users/Administrator/workspace/xgboost-win64_release_1.5.0/src/learner.cc:1115: Starting in XGBoost 1.3.0, the default evaluation metric used with the objective 'binary:logistic' was changed from 'error' to 'logloss'. Explicitly set eval_metric if you'd like to restore the old behavior.\n",
      "[22:06:37] WARNING: C:/Users/Administrator/workspace/xgboost-win64_release_1.5.0/src/learner.cc:1115: Starting in XGBoost 1.3.0, the default evaluation metric used with the objective 'binary:logistic' was changed from 'error' to 'logloss'. Explicitly set eval_metric if you'd like to restore the old behavior.\n",
      "[22:06:37] WARNING: C:/Users/Administrator/workspace/xgboost-win64_release_1.5.0/src/learner.cc:1115: Starting in XGBoost 1.3.0, the default evaluation metric used with the objective 'binary:logistic' was changed from 'error' to 'logloss'. Explicitly set eval_metric if you'd like to restore the old behavior.\n",
      "[22:06:37] WARNING: C:/Users/Administrator/workspace/xgboost-win64_release_1.5.0/src/learner.cc:1115: Starting in XGBoost 1.3.0, the default evaluation metric used with the objective 'binary:logistic' was changed from 'error' to 'logloss'. Explicitly set eval_metric if you'd like to restore the old behavior.\n",
      "[22:06:37] WARNING: C:/Users/Administrator/workspace/xgboost-win64_release_1.5.0/src/learner.cc:1115: Starting in XGBoost 1.3.0, the default evaluation metric used with the objective 'binary:logistic' was changed from 'error' to 'logloss'. Explicitly set eval_metric if you'd like to restore the old behavior.\n",
      "[22:06:38] WARNING: C:/Users/Administrator/workspace/xgboost-win64_release_1.5.0/src/learner.cc:1115: Starting in XGBoost 1.3.0, the default evaluation metric used with the objective 'binary:logistic' was changed from 'error' to 'logloss'. Explicitly set eval_metric if you'd like to restore the old behavior.\n",
      "[22:06:38] WARNING: C:/Users/Administrator/workspace/xgboost-win64_release_1.5.0/src/learner.cc:1115: Starting in XGBoost 1.3.0, the default evaluation metric used with the objective 'binary:logistic' was changed from 'error' to 'logloss'. Explicitly set eval_metric if you'd like to restore the old behavior.\n",
      "[22:06:38] WARNING: C:/Users/Administrator/workspace/xgboost-win64_release_1.5.0/src/learner.cc:1115: Starting in XGBoost 1.3.0, the default evaluation metric used with the objective 'binary:logistic' was changed from 'error' to 'logloss'. Explicitly set eval_metric if you'd like to restore the old behavior.\n",
      "[22:06:38] WARNING: C:/Users/Administrator/workspace/xgboost-win64_release_1.5.0/src/learner.cc:1115: Starting in XGBoost 1.3.0, the default evaluation metric used with the objective 'binary:logistic' was changed from 'error' to 'logloss'. Explicitly set eval_metric if you'd like to restore the old behavior.\n"
     ]
    },
    {
     "data": {
      "text/plain": [
       "array([1., 1., 1., 1., 1., 1., 1., 1., 1., 1.])"
      ]
     },
     "execution_count": 322,
     "metadata": {},
     "output_type": "execute_result"
    }
   ],
   "source": [
    "cross_val_score(XGBClassifier(use_label_encoder=False), complete_data, target, cv=10)"
   ]
  }
 ],
 "metadata": {
  "kernelspec": {
   "display_name": "Python 3",
   "language": "python",
   "name": "python3"
  },
  "language_info": {
   "codemirror_mode": {
    "name": "ipython",
    "version": 3
   },
   "file_extension": ".py",
   "mimetype": "text/x-python",
   "name": "python",
   "nbconvert_exporter": "python",
   "pygments_lexer": "ipython3",
   "version": "3.8.5"
  }
 },
 "nbformat": 4,
 "nbformat_minor": 4
}
