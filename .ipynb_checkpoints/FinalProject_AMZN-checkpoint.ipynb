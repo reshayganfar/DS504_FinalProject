{
 "cells": [
  {
   "cell_type": "code",
   "execution_count": 4,
   "metadata": {},
   "outputs": [],
   "source": [
    "import numpy as np\n",
    "import pandas as pd\n",
    "import ta\n",
    "import seaborn as sn\n",
    "import matplotlib.pyplot as plt\n",
    "\n",
    "from sklearn.ensemble import RandomForestClassifier\n",
    "from sklearn.linear_model import LogisticRegression\n",
    "from sklearn.neighbors import KNeighborsClassifier\n",
    "from sklearn.svm import SVC\n",
    "from xgboost import XGBClassifier\n",
    "\n",
    "from ta import add_all_ta_features\n",
    "from ta import momentum\n",
    "from ta.utils import dropna"
   ]
  },
  {
   "cell_type": "code",
   "execution_count": 5,
   "metadata": {},
   "outputs": [],
   "source": [
    "#pip install xgboost"
   ]
  },
  {
   "cell_type": "code",
   "execution_count": 11,
   "metadata": {},
   "outputs": [],
   "source": [
    "def get_data(company_symbol):\n",
    "    return pd.read_csv(\"dataset/\"+company_symbol+\".csv\")"
   ]
  },
  {
   "cell_type": "code",
   "execution_count": 12,
   "metadata": {},
   "outputs": [
    {
     "data": {
      "text/html": [
       "<div>\n",
       "<style scoped>\n",
       "    .dataframe tbody tr th:only-of-type {\n",
       "        vertical-align: middle;\n",
       "    }\n",
       "\n",
       "    .dataframe tbody tr th {\n",
       "        vertical-align: top;\n",
       "    }\n",
       "\n",
       "    .dataframe thead th {\n",
       "        text-align: right;\n",
       "    }\n",
       "</style>\n",
       "<table border=\"1\" class=\"dataframe\">\n",
       "  <thead>\n",
       "    <tr style=\"text-align: right;\">\n",
       "      <th></th>\n",
       "      <th>Date</th>\n",
       "      <th>Open</th>\n",
       "      <th>High</th>\n",
       "      <th>Low</th>\n",
       "      <th>Close</th>\n",
       "      <th>Adj Close</th>\n",
       "      <th>Volume</th>\n",
       "    </tr>\n",
       "  </thead>\n",
       "  <tbody>\n",
       "    <tr>\n",
       "      <th>0</th>\n",
       "      <td>5/15/1997</td>\n",
       "      <td>2.437500</td>\n",
       "      <td>2.500000</td>\n",
       "      <td>1.927083</td>\n",
       "      <td>1.958333</td>\n",
       "      <td>1.958333</td>\n",
       "      <td>72156000</td>\n",
       "    </tr>\n",
       "    <tr>\n",
       "      <th>1</th>\n",
       "      <td>5/16/1997</td>\n",
       "      <td>1.968750</td>\n",
       "      <td>1.979167</td>\n",
       "      <td>1.708333</td>\n",
       "      <td>1.729167</td>\n",
       "      <td>1.729167</td>\n",
       "      <td>14700000</td>\n",
       "    </tr>\n",
       "    <tr>\n",
       "      <th>2</th>\n",
       "      <td>5/19/1997</td>\n",
       "      <td>1.760417</td>\n",
       "      <td>1.770833</td>\n",
       "      <td>1.625000</td>\n",
       "      <td>1.708333</td>\n",
       "      <td>1.708333</td>\n",
       "      <td>6106800</td>\n",
       "    </tr>\n",
       "    <tr>\n",
       "      <th>3</th>\n",
       "      <td>5/20/1997</td>\n",
       "      <td>1.729167</td>\n",
       "      <td>1.750000</td>\n",
       "      <td>1.635417</td>\n",
       "      <td>1.635417</td>\n",
       "      <td>1.635417</td>\n",
       "      <td>5467200</td>\n",
       "    </tr>\n",
       "    <tr>\n",
       "      <th>4</th>\n",
       "      <td>5/21/1997</td>\n",
       "      <td>1.635417</td>\n",
       "      <td>1.645833</td>\n",
       "      <td>1.375000</td>\n",
       "      <td>1.427083</td>\n",
       "      <td>1.427083</td>\n",
       "      <td>18853200</td>\n",
       "    </tr>\n",
       "    <tr>\n",
       "      <th>...</th>\n",
       "      <td>...</td>\n",
       "      <td>...</td>\n",
       "      <td>...</td>\n",
       "      <td>...</td>\n",
       "      <td>...</td>\n",
       "      <td>...</td>\n",
       "      <td>...</td>\n",
       "    </tr>\n",
       "    <tr>\n",
       "      <th>6152</th>\n",
       "      <td>10/25/2021</td>\n",
       "      <td>3335.000000</td>\n",
       "      <td>3347.800049</td>\n",
       "      <td>3297.699951</td>\n",
       "      <td>3320.370117</td>\n",
       "      <td>3320.370117</td>\n",
       "      <td>2226000</td>\n",
       "    </tr>\n",
       "    <tr>\n",
       "      <th>6153</th>\n",
       "      <td>10/26/2021</td>\n",
       "      <td>3349.510010</td>\n",
       "      <td>3416.120117</td>\n",
       "      <td>3343.979980</td>\n",
       "      <td>3376.070068</td>\n",
       "      <td>3376.070068</td>\n",
       "      <td>2698300</td>\n",
       "    </tr>\n",
       "    <tr>\n",
       "      <th>6154</th>\n",
       "      <td>10/27/2021</td>\n",
       "      <td>3388.000000</td>\n",
       "      <td>3437.000000</td>\n",
       "      <td>3371.449951</td>\n",
       "      <td>3392.489990</td>\n",
       "      <td>3392.489990</td>\n",
       "      <td>2702200</td>\n",
       "    </tr>\n",
       "    <tr>\n",
       "      <th>6155</th>\n",
       "      <td>10/28/2021</td>\n",
       "      <td>3402.100098</td>\n",
       "      <td>3479.000000</td>\n",
       "      <td>3386.000000</td>\n",
       "      <td>3446.570068</td>\n",
       "      <td>3446.570068</td>\n",
       "      <td>5708700</td>\n",
       "    </tr>\n",
       "    <tr>\n",
       "      <th>6156</th>\n",
       "      <td>10/29/2021</td>\n",
       "      <td>3300.020020</td>\n",
       "      <td>3374.820068</td>\n",
       "      <td>3273.320068</td>\n",
       "      <td>3372.429932</td>\n",
       "      <td>3372.429932</td>\n",
       "      <td>6469500</td>\n",
       "    </tr>\n",
       "  </tbody>\n",
       "</table>\n",
       "<p>6157 rows × 7 columns</p>\n",
       "</div>"
      ],
      "text/plain": [
       "            Date         Open         High          Low        Close  \\\n",
       "0      5/15/1997     2.437500     2.500000     1.927083     1.958333   \n",
       "1      5/16/1997     1.968750     1.979167     1.708333     1.729167   \n",
       "2      5/19/1997     1.760417     1.770833     1.625000     1.708333   \n",
       "3      5/20/1997     1.729167     1.750000     1.635417     1.635417   \n",
       "4      5/21/1997     1.635417     1.645833     1.375000     1.427083   \n",
       "...          ...          ...          ...          ...          ...   \n",
       "6152  10/25/2021  3335.000000  3347.800049  3297.699951  3320.370117   \n",
       "6153  10/26/2021  3349.510010  3416.120117  3343.979980  3376.070068   \n",
       "6154  10/27/2021  3388.000000  3437.000000  3371.449951  3392.489990   \n",
       "6155  10/28/2021  3402.100098  3479.000000  3386.000000  3446.570068   \n",
       "6156  10/29/2021  3300.020020  3374.820068  3273.320068  3372.429932   \n",
       "\n",
       "        Adj Close    Volume  \n",
       "0        1.958333  72156000  \n",
       "1        1.729167  14700000  \n",
       "2        1.708333   6106800  \n",
       "3        1.635417   5467200  \n",
       "4        1.427083  18853200  \n",
       "...           ...       ...  \n",
       "6152  3320.370117   2226000  \n",
       "6153  3376.070068   2698300  \n",
       "6154  3392.489990   2702200  \n",
       "6155  3446.570068   5708700  \n",
       "6156  3372.429932   6469500  \n",
       "\n",
       "[6157 rows x 7 columns]"
      ]
     },
     "execution_count": 12,
     "metadata": {},
     "output_type": "execute_result"
    }
   ],
   "source": [
    "data = get_data(\"AMZN\")\n",
    "data"
   ]
  },
  {
   "cell_type": "code",
   "execution_count": 13,
   "metadata": {},
   "outputs": [
    {
     "data": {
      "text/plain": [
       "Date         False\n",
       "Open         False\n",
       "High         False\n",
       "Low          False\n",
       "Close        False\n",
       "Adj Close    False\n",
       "Volume       False\n",
       "dtype: bool"
      ]
     },
     "execution_count": 13,
     "metadata": {},
     "output_type": "execute_result"
    }
   ],
   "source": [
    "data.isna().any()"
   ]
  },
  {
   "cell_type": "code",
   "execution_count": 14,
   "metadata": {},
   "outputs": [
    {
     "data": {
      "text/html": [
       "<div>\n",
       "<style scoped>\n",
       "    .dataframe tbody tr th:only-of-type {\n",
       "        vertical-align: middle;\n",
       "    }\n",
       "\n",
       "    .dataframe tbody tr th {\n",
       "        vertical-align: top;\n",
       "    }\n",
       "\n",
       "    .dataframe thead th {\n",
       "        text-align: right;\n",
       "    }\n",
       "</style>\n",
       "<table border=\"1\" class=\"dataframe\">\n",
       "  <thead>\n",
       "    <tr style=\"text-align: right;\">\n",
       "      <th></th>\n",
       "    </tr>\n",
       "  </thead>\n",
       "  <tbody>\n",
       "    <tr>\n",
       "      <th>0</th>\n",
       "    </tr>\n",
       "    <tr>\n",
       "      <th>1</th>\n",
       "    </tr>\n",
       "    <tr>\n",
       "      <th>2</th>\n",
       "    </tr>\n",
       "    <tr>\n",
       "      <th>3</th>\n",
       "    </tr>\n",
       "    <tr>\n",
       "      <th>4</th>\n",
       "    </tr>\n",
       "    <tr>\n",
       "      <th>...</th>\n",
       "    </tr>\n",
       "    <tr>\n",
       "      <th>6152</th>\n",
       "    </tr>\n",
       "    <tr>\n",
       "      <th>6153</th>\n",
       "    </tr>\n",
       "    <tr>\n",
       "      <th>6154</th>\n",
       "    </tr>\n",
       "    <tr>\n",
       "      <th>6155</th>\n",
       "    </tr>\n",
       "    <tr>\n",
       "      <th>6156</th>\n",
       "    </tr>\n",
       "  </tbody>\n",
       "</table>\n",
       "<p>6157 rows × 0 columns</p>\n",
       "</div>"
      ],
      "text/plain": [
       "Empty DataFrame\n",
       "Columns: []\n",
       "Index: [0, 1, 2, 3, 4, 5, 6, 7, 8, 9, 10, 11, 12, 13, 14, 15, 16, 17, 18, 19, 20, 21, 22, 23, 24, 25, 26, 27, 28, 29, 30, 31, 32, 33, 34, 35, 36, 37, 38, 39, 40, 41, 42, 43, 44, 45, 46, 47, 48, 49, 50, 51, 52, 53, 54, 55, 56, 57, 58, 59, 60, 61, 62, 63, 64, 65, 66, 67, 68, 69, 70, 71, 72, 73, 74, 75, 76, 77, 78, 79, 80, 81, 82, 83, 84, 85, 86, 87, 88, 89, 90, 91, 92, 93, 94, 95, 96, 97, 98, 99, ...]\n",
       "\n",
       "[6157 rows x 0 columns]"
      ]
     },
     "execution_count": 14,
     "metadata": {},
     "output_type": "execute_result"
    }
   ],
   "source": [
    "data[data.columns[data.isna().any()]]"
   ]
  },
  {
   "cell_type": "code",
   "execution_count": 15,
   "metadata": {},
   "outputs": [
    {
     "name": "stdout",
     "output_type": "stream",
     "text": [
      "            Date         Open         High          Low        Close  \\\n",
      "0      5/15/1997     2.437500     2.500000     1.927083     1.958333   \n",
      "1      5/16/1997     1.968750     1.979167     1.708333     1.729167   \n",
      "2      5/19/1997     1.760417     1.770833     1.625000     1.708333   \n",
      "3      5/20/1997     1.729167     1.750000     1.635417     1.635417   \n",
      "4      5/21/1997     1.635417     1.645833     1.375000     1.427083   \n",
      "...          ...          ...          ...          ...          ...   \n",
      "6152  10/25/2021  3335.000000  3347.800049  3297.699951  3320.370117   \n",
      "6153  10/26/2021  3349.510010  3416.120117  3343.979980  3376.070068   \n",
      "6154  10/27/2021  3388.000000  3437.000000  3371.449951  3392.489990   \n",
      "6155  10/28/2021  3402.100098  3479.000000  3386.000000  3446.570068   \n",
      "6156  10/29/2021  3300.020020  3374.820068  3273.320068  3372.429932   \n",
      "\n",
      "        Adj Close    Volume  cond1  cond2  cond3  \n",
      "0        1.958333  72156000  False  False  False  \n",
      "1        1.729167  14700000  False  False  False  \n",
      "2        1.708333   6106800  False  False  False  \n",
      "3        1.635417   5467200  False  False  False  \n",
      "4        1.427083  18853200  False  False  False  \n",
      "...           ...       ...    ...    ...    ...  \n",
      "6152  3320.370117   2226000  False  False  False  \n",
      "6153  3376.070068   2698300  False  False  False  \n",
      "6154  3392.489990   2702200  False  False  False  \n",
      "6155  3446.570068   5708700  False  False  False  \n",
      "6156  3372.429932   6469500  False  False  False  \n",
      "\n",
      "[6157 rows x 10 columns]\n"
     ]
    }
   ],
   "source": [
    "cond1 = data.Date.isna() # aapl['Date'].isna()\n",
    "cond2 = data.Date.str.contains(r'^\\s*$', na=False)\n",
    "cond3 = data.Date == ''\n",
    "\n",
    "data_checked = data.assign(cond1= cond1, cond2= cond2, cond3= cond3)\n",
    "print (data_checked)"
   ]
  },
  {
   "cell_type": "code",
   "execution_count": 16,
   "metadata": {},
   "outputs": [],
   "source": [
    "def simple_moving_average_5(close):\n",
    "    return close.rolling(5, min_periods=1).mean()"
   ]
  },
  {
   "cell_type": "code",
   "execution_count": 17,
   "metadata": {},
   "outputs": [],
   "source": [
    "def simple_moving_average_10(close):\n",
    "    return close.rolling(10, min_periods=1).mean()"
   ]
  },
  {
   "cell_type": "code",
   "execution_count": 18,
   "metadata": {},
   "outputs": [],
   "source": [
    "def stochastic_k(high, low, close):\n",
    "    return (((close-low.rolling(14).min())/(high.rolling(14).max()-low.rolling(14).min()))*100)"
   ]
  },
  {
   "cell_type": "code",
   "execution_count": 19,
   "metadata": {},
   "outputs": [],
   "source": [
    "def stochastic_d(stochastic_k):\n",
    "    return stochastic_k.rolling(3,min_periods=1).mean()"
   ]
  },
  {
   "cell_type": "code",
   "execution_count": 20,
   "metadata": {},
   "outputs": [],
   "source": [
    "def larry_williams_r(high, low, close):\n",
    "    return (((high.rolling(14).max()-close)/(high.rolling(14).max()-low.rolling(14).min()))*100)"
   ]
  },
  {
   "cell_type": "code",
   "execution_count": 21,
   "metadata": {},
   "outputs": [],
   "source": [
    "def rate_of_change(close):\n",
    "    return ((close-close.shift(12))/close.shift(12))"
   ]
  },
  {
   "cell_type": "code",
   "execution_count": 22,
   "metadata": {},
   "outputs": [],
   "source": [
    "def price_volume_trend(close, volume):\n",
    "    return (((close-close.shift(1))/close.shift(1))*volume)"
   ]
  },
  {
   "cell_type": "code",
   "execution_count": 23,
   "metadata": {},
   "outputs": [],
   "source": [
    "def accumulation_distribution_oscillator(high, low, close):\n",
    "    return((high-close.shift(1))/(high-low))"
   ]
  },
  {
   "cell_type": "code",
   "execution_count": 24,
   "metadata": {},
   "outputs": [],
   "source": [
    "def weighted_moving_average_10(close):\n",
    "    return ((10*close+9*close.shift(1)+8*close.shift(2)+7*close.shift(3)\n",
    "             +6*close.shift(4)+5*close.shift(5)+4*close.shift(6)+3*close.shift(7)\n",
    "             +2*close.shift(8)+close.shift(9))/(10+9+8+7+6+5+4+3+2+1))"
   ]
  },
  {
   "cell_type": "code",
   "execution_count": 25,
   "metadata": {},
   "outputs": [],
   "source": [
    "def exponential_moving_average_12(close):\n",
    "    return (close.ewm(span=12, adjust=False).mean())"
   ]
  },
  {
   "cell_type": "code",
   "execution_count": 26,
   "metadata": {},
   "outputs": [],
   "source": [
    "def exponential_moving_average_26(close):\n",
    "    return (close.ewm(span=26, adjust=False).mean())"
   ]
  },
  {
   "cell_type": "code",
   "execution_count": 27,
   "metadata": {},
   "outputs": [],
   "source": [
    "def moving_average_convergence_divergence(ema_12, ema_26):\n",
    "    return (ema_12 - ema_26)"
   ]
  },
  {
   "cell_type": "code",
   "execution_count": 28,
   "metadata": {},
   "outputs": [],
   "source": [
    "def momentum(close):\n",
    "    return ((close/close.shift(14))*100)"
   ]
  },
  {
   "cell_type": "code",
   "execution_count": 29,
   "metadata": {},
   "outputs": [],
   "source": [
    "def change(close):\n",
    "    return (close - close.shift(1))"
   ]
  },
  {
   "cell_type": "code",
   "execution_count": 30,
   "metadata": {},
   "outputs": [],
   "source": [
    "def direction(change):\n",
    "    return (np.where(change>0, 1, 0))"
   ]
  },
  {
   "cell_type": "code",
   "execution_count": 31,
   "metadata": {},
   "outputs": [],
   "source": [
    "def relative_strength_index(direction):\n",
    "    return (100-(100/(1+(direction.rolling(14).sum()/14)/(14-direction.rolling(14).sum())/14)))"
   ]
  },
  {
   "cell_type": "code",
   "execution_count": 32,
   "metadata": {},
   "outputs": [],
   "source": [
    "def channel_commodity_index(df, ndays): \n",
    "    df['TP'] = (df['High'] + df['Low'] + df['Close']) / 3 \n",
    "    df['sma'] = df['TP'].rolling(ndays).mean()\n",
    "    df['mad'] = df['TP'].rolling(ndays).apply(lambda x: pd.Series(x).mad())\n",
    "    df['CCI'] = (df['TP'] - df['sma']) / (0.015 * df['mad']) \n",
    "    return df['CCI']"
   ]
  },
  {
   "cell_type": "code",
   "execution_count": 33,
   "metadata": {},
   "outputs": [],
   "source": [
    "def disparity_index(close):\n",
    "    return (((close - close.rolling(14).mean())/(close.rolling(14).mean()))*100)"
   ]
  },
  {
   "cell_type": "code",
   "execution_count": 34,
   "metadata": {},
   "outputs": [],
   "source": [
    "def get_adx(high, low, close, lookback):\n",
    "    plus_dm = high.diff()\n",
    "    minus_dm = low.diff()\n",
    "    plus_dm[plus_dm < 0] = 0\n",
    "    minus_dm[minus_dm > 0] = 0\n",
    "    \n",
    "    tr1 = pd.DataFrame(high - low)\n",
    "    tr2 = pd.DataFrame(abs(high - close.shift(1)))\n",
    "    tr3 = pd.DataFrame(abs(low - close.shift(1)))\n",
    "    frames = [tr1, tr2, tr3]\n",
    "    tr = pd.concat(frames, axis = 1, join = 'inner').max(axis = 1)\n",
    "    atr = tr.rolling(lookback).mean()\n",
    "    \n",
    "    plus_di = 100 * (plus_dm.ewm(alpha = 1/lookback).mean() / atr)\n",
    "    minus_di = abs(100 * (minus_dm.ewm(alpha = 1/lookback).mean() / atr))\n",
    "    dx = (abs(plus_di - minus_di) / abs(plus_di + minus_di)) * 100\n",
    "    adx = ((dx.shift(1) * (lookback - 1)) + dx) / lookback\n",
    "    adx_smooth = adx.ewm(alpha = 1/lookback).mean()\n",
    "    return adx_smooth"
   ]
  },
  {
   "cell_type": "code",
   "execution_count": 35,
   "metadata": {},
   "outputs": [],
   "source": [
    "def compute_all_indicators(data):\n",
    "    data['SMA5'] = simple_moving_average_5(data['Close'])\n",
    "    data['SMA10'] = simple_moving_average_10(data['Close'])\n",
    "    data['StochasticK'] = stochastic_k(data['High'], data['Low'], data['Close'])\n",
    "    data['StochasticD'] = stochastic_d(data['StochasticK'])\n",
    "    data['LarryWilliamsR'] = larry_williams_r(data['High'], data['Low'], data['Close'])\n",
    "    data['ROC'] = rate_of_change(data['Close'])\n",
    "    data['PVT'] = price_volume_trend(data['Close'], data['Volume'])\n",
    "    data['ADO'] = accumulation_distribution_oscillator(data['High'], data['Low'], data['Close'])\n",
    "    data['WMA10'] = weighted_moving_average_10(data['Close'])\n",
    "    data['EMA12'] = exponential_moving_average_12(data['Close'])\n",
    "    data['EMA26'] = exponential_moving_average_26(data['Close'])\n",
    "    data['MACD'] = moving_average_convergence_divergence(data['EMA12'], data['EMA26'])\n",
    "    data['Momentum'] = momentum(data['Close'])\n",
    "    data['Change'] = change(data['Close'])\n",
    "    data['Direction'] = direction(data['Change'])\n",
    "    data['RSI'] = relative_strength_index(data['Direction'])\n",
    "    data['CCI'] = channel_commodity_index(data, 14)\n",
    "    data['DI'] = disparity_index(data['Close'])\n",
    "    data['ADX'] = get_adx(data['High'], data['Low'], data['Close'], 14)\n",
    "    return data"
   ]
  },
  {
   "cell_type": "code",
   "execution_count": 36,
   "metadata": {},
   "outputs": [],
   "source": [
    "complete_data = compute_all_indicators(data)\n",
    "complete_data = complete_data.dropna()"
   ]
  },
  {
   "cell_type": "code",
   "execution_count": 37,
   "metadata": {},
   "outputs": [
    {
     "data": {
      "text/html": [
       "<div>\n",
       "<style scoped>\n",
       "    .dataframe tbody tr th:only-of-type {\n",
       "        vertical-align: middle;\n",
       "    }\n",
       "\n",
       "    .dataframe tbody tr th {\n",
       "        vertical-align: top;\n",
       "    }\n",
       "\n",
       "    .dataframe thead th {\n",
       "        text-align: right;\n",
       "    }\n",
       "</style>\n",
       "<table border=\"1\" class=\"dataframe\">\n",
       "  <thead>\n",
       "    <tr style=\"text-align: right;\">\n",
       "      <th></th>\n",
       "      <th>Date</th>\n",
       "      <th>Open</th>\n",
       "      <th>High</th>\n",
       "      <th>Low</th>\n",
       "      <th>Close</th>\n",
       "      <th>Adj Close</th>\n",
       "      <th>Volume</th>\n",
       "      <th>SMA5</th>\n",
       "      <th>SMA10</th>\n",
       "      <th>StochasticK</th>\n",
       "      <th>...</th>\n",
       "      <th>Momentum</th>\n",
       "      <th>Change</th>\n",
       "      <th>Direction</th>\n",
       "      <th>RSI</th>\n",
       "      <th>TP</th>\n",
       "      <th>sma</th>\n",
       "      <th>mad</th>\n",
       "      <th>CCI</th>\n",
       "      <th>DI</th>\n",
       "      <th>ADX</th>\n",
       "    </tr>\n",
       "  </thead>\n",
       "  <tbody>\n",
       "    <tr>\n",
       "      <th>14</th>\n",
       "      <td>6/5/1997</td>\n",
       "      <td>1.416667</td>\n",
       "      <td>1.541667</td>\n",
       "      <td>1.375000</td>\n",
       "      <td>1.541667</td>\n",
       "      <td>1.541667</td>\n",
       "      <td>5672400</td>\n",
       "      <td>1.489584</td>\n",
       "      <td>1.496354</td>\n",
       "      <td>34.375033</td>\n",
       "      <td>...</td>\n",
       "      <td>78.723435</td>\n",
       "      <td>0.125000</td>\n",
       "      <td>1</td>\n",
       "      <td>0.203666</td>\n",
       "      <td>1.486111</td>\n",
       "      <td>1.540303</td>\n",
       "      <td>0.086788</td>\n",
       "      <td>-41.627398</td>\n",
       "      <td>0.558137</td>\n",
       "      <td>50.226281</td>\n",
       "    </tr>\n",
       "    <tr>\n",
       "      <th>15</th>\n",
       "      <td>6/6/1997</td>\n",
       "      <td>1.515625</td>\n",
       "      <td>1.708333</td>\n",
       "      <td>1.510417</td>\n",
       "      <td>1.656250</td>\n",
       "      <td>1.656250</td>\n",
       "      <td>7807200</td>\n",
       "      <td>1.520834</td>\n",
       "      <td>1.522396</td>\n",
       "      <td>75.000055</td>\n",
       "      <td>...</td>\n",
       "      <td>95.783114</td>\n",
       "      <td>0.114583</td>\n",
       "      <td>1</td>\n",
       "      <td>0.282646</td>\n",
       "      <td>1.625000</td>\n",
       "      <td>1.527406</td>\n",
       "      <td>0.070206</td>\n",
       "      <td>92.673942</td>\n",
       "      <td>8.400292</td>\n",
       "      <td>43.640597</td>\n",
       "    </tr>\n",
       "    <tr>\n",
       "      <th>16</th>\n",
       "      <td>6/9/1997</td>\n",
       "      <td>1.656250</td>\n",
       "      <td>1.708333</td>\n",
       "      <td>1.656250</td>\n",
       "      <td>1.687500</td>\n",
       "      <td>1.687500</td>\n",
       "      <td>2352000</td>\n",
       "      <td>1.556250</td>\n",
       "      <td>1.541146</td>\n",
       "      <td>85.714286</td>\n",
       "      <td>...</td>\n",
       "      <td>98.780507</td>\n",
       "      <td>0.031250</td>\n",
       "      <td>1</td>\n",
       "      <td>0.381194</td>\n",
       "      <td>1.684028</td>\n",
       "      <td>1.526166</td>\n",
       "      <td>0.068612</td>\n",
       "      <td>153.386632</td>\n",
       "      <td>10.553252</td>\n",
       "      <td>30.868253</td>\n",
       "    </tr>\n",
       "    <tr>\n",
       "      <th>17</th>\n",
       "      <td>6/10/1997</td>\n",
       "      <td>1.708333</td>\n",
       "      <td>1.708333</td>\n",
       "      <td>1.531250</td>\n",
       "      <td>1.583333</td>\n",
       "      <td>1.583333</td>\n",
       "      <td>5458800</td>\n",
       "      <td>1.577083</td>\n",
       "      <td>1.541146</td>\n",
       "      <td>68.421026</td>\n",
       "      <td>...</td>\n",
       "      <td>96.815247</td>\n",
       "      <td>-0.104167</td>\n",
       "      <td>0</td>\n",
       "      <td>0.381194</td>\n",
       "      <td>1.607639</td>\n",
       "      <td>1.521453</td>\n",
       "      <td>0.062553</td>\n",
       "      <td>91.852991</td>\n",
       "      <td>3.982389</td>\n",
       "      <td>24.801838</td>\n",
       "    </tr>\n",
       "    <tr>\n",
       "      <th>18</th>\n",
       "      <td>6/11/1997</td>\n",
       "      <td>1.593750</td>\n",
       "      <td>1.604167</td>\n",
       "      <td>1.531250</td>\n",
       "      <td>1.541667</td>\n",
       "      <td>1.541667</td>\n",
       "      <td>1188000</td>\n",
       "      <td>1.602083</td>\n",
       "      <td>1.542188</td>\n",
       "      <td>57.894870</td>\n",
       "      <td>...</td>\n",
       "      <td>108.029246</td>\n",
       "      <td>-0.041666</td>\n",
       "      <td>0</td>\n",
       "      <td>0.381194</td>\n",
       "      <td>1.559028</td>\n",
       "      <td>1.526910</td>\n",
       "      <td>0.063244</td>\n",
       "      <td>33.856459</td>\n",
       "      <td>0.704759</td>\n",
       "      <td>24.430750</td>\n",
       "    </tr>\n",
       "    <tr>\n",
       "      <th>...</th>\n",
       "      <td>...</td>\n",
       "      <td>...</td>\n",
       "      <td>...</td>\n",
       "      <td>...</td>\n",
       "      <td>...</td>\n",
       "      <td>...</td>\n",
       "      <td>...</td>\n",
       "      <td>...</td>\n",
       "      <td>...</td>\n",
       "      <td>...</td>\n",
       "      <td>...</td>\n",
       "      <td>...</td>\n",
       "      <td>...</td>\n",
       "      <td>...</td>\n",
       "      <td>...</td>\n",
       "      <td>...</td>\n",
       "      <td>...</td>\n",
       "      <td>...</td>\n",
       "      <td>...</td>\n",
       "      <td>...</td>\n",
       "      <td>...</td>\n",
       "    </tr>\n",
       "    <tr>\n",
       "      <th>6152</th>\n",
       "      <td>10/25/2021</td>\n",
       "      <td>3335.000000</td>\n",
       "      <td>3347.800049</td>\n",
       "      <td>3297.699951</td>\n",
       "      <td>3320.370117</td>\n",
       "      <td>3320.370117</td>\n",
       "      <td>2226000</td>\n",
       "      <td>3390.028027</td>\n",
       "      <td>3363.737036</td>\n",
       "      <td>46.075539</td>\n",
       "      <td>...</td>\n",
       "      <td>103.085070</td>\n",
       "      <td>-15.179932</td>\n",
       "      <td>0</td>\n",
       "      <td>0.675676</td>\n",
       "      <td>3321.956706</td>\n",
       "      <td>3336.762172</td>\n",
       "      <td>62.706724</td>\n",
       "      <td>-15.740435</td>\n",
       "      <td>-0.538225</td>\n",
       "      <td>22.462941</td>\n",
       "    </tr>\n",
       "    <tr>\n",
       "      <th>6153</th>\n",
       "      <td>10/26/2021</td>\n",
       "      <td>3349.510010</td>\n",
       "      <td>3416.120117</td>\n",
       "      <td>3343.979980</td>\n",
       "      <td>3376.070068</td>\n",
       "      <td>3376.070068</td>\n",
       "      <td>2698300</td>\n",
       "      <td>3376.412061</td>\n",
       "      <td>3376.611035</td>\n",
       "      <td>61.695644</td>\n",
       "      <td>...</td>\n",
       "      <td>103.496619</td>\n",
       "      <td>55.699951</td>\n",
       "      <td>1</td>\n",
       "      <td>0.675676</td>\n",
       "      <td>3378.723388</td>\n",
       "      <td>3346.552647</td>\n",
       "      <td>58.910708</td>\n",
       "      <td>36.406218</td>\n",
       "      <td>0.884063</td>\n",
       "      <td>21.835137</td>\n",
       "    </tr>\n",
       "    <tr>\n",
       "      <th>6154</th>\n",
       "      <td>10/27/2021</td>\n",
       "      <td>3388.000000</td>\n",
       "      <td>3437.000000</td>\n",
       "      <td>3371.449951</td>\n",
       "      <td>3392.489990</td>\n",
       "      <td>3392.489990</td>\n",
       "      <td>2702200</td>\n",
       "      <td>3371.898047</td>\n",
       "      <td>3387.432031</td>\n",
       "      <td>68.942496</td>\n",
       "      <td>...</td>\n",
       "      <td>102.727085</td>\n",
       "      <td>16.419922</td>\n",
       "      <td>1</td>\n",
       "      <td>0.675676</td>\n",
       "      <td>3400.313314</td>\n",
       "      <td>3353.450265</td>\n",
       "      <td>58.707812</td>\n",
       "      <td>53.216142</td>\n",
       "      <td>1.180228</td>\n",
       "      <td>20.421165</td>\n",
       "    </tr>\n",
       "    <tr>\n",
       "      <th>6155</th>\n",
       "      <td>10/28/2021</td>\n",
       "      <td>3402.100098</td>\n",
       "      <td>3479.000000</td>\n",
       "      <td>3386.000000</td>\n",
       "      <td>3446.570068</td>\n",
       "      <td>3446.570068</td>\n",
       "      <td>5708700</td>\n",
       "      <td>3374.210058</td>\n",
       "      <td>3402.103027</td>\n",
       "      <td>86.638952</td>\n",
       "      <td>...</td>\n",
       "      <td>104.802925</td>\n",
       "      <td>54.080078</td>\n",
       "      <td>1</td>\n",
       "      <td>0.910010</td>\n",
       "      <td>3437.190023</td>\n",
       "      <td>3363.291219</td>\n",
       "      <td>58.017979</td>\n",
       "      <td>84.914831</td>\n",
       "      <td>2.448428</td>\n",
       "      <td>19.442353</td>\n",
       "    </tr>\n",
       "    <tr>\n",
       "      <th>6156</th>\n",
       "      <td>10/29/2021</td>\n",
       "      <td>3300.020020</td>\n",
       "      <td>3374.820068</td>\n",
       "      <td>3273.320068</td>\n",
       "      <td>3372.429932</td>\n",
       "      <td>3372.429932</td>\n",
       "      <td>6469500</td>\n",
       "      <td>3381.586035</td>\n",
       "      <td>3398.444018</td>\n",
       "      <td>56.093408</td>\n",
       "      <td>...</td>\n",
       "      <td>103.885343</td>\n",
       "      <td>-74.140136</td>\n",
       "      <td>0</td>\n",
       "      <td>0.910010</td>\n",
       "      <td>3340.190023</td>\n",
       "      <td>3369.090739</td>\n",
       "      <td>51.065360</td>\n",
       "      <td>-37.730360</td>\n",
       "      <td>-0.023105</td>\n",
       "      <td>19.055512</td>\n",
       "    </tr>\n",
       "  </tbody>\n",
       "</table>\n",
       "<p>6143 rows × 29 columns</p>\n",
       "</div>"
      ],
      "text/plain": [
       "            Date         Open         High          Low        Close  \\\n",
       "14      6/5/1997     1.416667     1.541667     1.375000     1.541667   \n",
       "15      6/6/1997     1.515625     1.708333     1.510417     1.656250   \n",
       "16      6/9/1997     1.656250     1.708333     1.656250     1.687500   \n",
       "17     6/10/1997     1.708333     1.708333     1.531250     1.583333   \n",
       "18     6/11/1997     1.593750     1.604167     1.531250     1.541667   \n",
       "...          ...          ...          ...          ...          ...   \n",
       "6152  10/25/2021  3335.000000  3347.800049  3297.699951  3320.370117   \n",
       "6153  10/26/2021  3349.510010  3416.120117  3343.979980  3376.070068   \n",
       "6154  10/27/2021  3388.000000  3437.000000  3371.449951  3392.489990   \n",
       "6155  10/28/2021  3402.100098  3479.000000  3386.000000  3446.570068   \n",
       "6156  10/29/2021  3300.020020  3374.820068  3273.320068  3372.429932   \n",
       "\n",
       "        Adj Close   Volume         SMA5        SMA10  StochasticK  ...  \\\n",
       "14       1.541667  5672400     1.489584     1.496354    34.375033  ...   \n",
       "15       1.656250  7807200     1.520834     1.522396    75.000055  ...   \n",
       "16       1.687500  2352000     1.556250     1.541146    85.714286  ...   \n",
       "17       1.583333  5458800     1.577083     1.541146    68.421026  ...   \n",
       "18       1.541667  1188000     1.602083     1.542188    57.894870  ...   \n",
       "...           ...      ...          ...          ...          ...  ...   \n",
       "6152  3320.370117  2226000  3390.028027  3363.737036    46.075539  ...   \n",
       "6153  3376.070068  2698300  3376.412061  3376.611035    61.695644  ...   \n",
       "6154  3392.489990  2702200  3371.898047  3387.432031    68.942496  ...   \n",
       "6155  3446.570068  5708700  3374.210058  3402.103027    86.638952  ...   \n",
       "6156  3372.429932  6469500  3381.586035  3398.444018    56.093408  ...   \n",
       "\n",
       "        Momentum     Change  Direction       RSI           TP          sma  \\\n",
       "14     78.723435   0.125000          1  0.203666     1.486111     1.540303   \n",
       "15     95.783114   0.114583          1  0.282646     1.625000     1.527406   \n",
       "16     98.780507   0.031250          1  0.381194     1.684028     1.526166   \n",
       "17     96.815247  -0.104167          0  0.381194     1.607639     1.521453   \n",
       "18    108.029246  -0.041666          0  0.381194     1.559028     1.526910   \n",
       "...          ...        ...        ...       ...          ...          ...   \n",
       "6152  103.085070 -15.179932          0  0.675676  3321.956706  3336.762172   \n",
       "6153  103.496619  55.699951          1  0.675676  3378.723388  3346.552647   \n",
       "6154  102.727085  16.419922          1  0.675676  3400.313314  3353.450265   \n",
       "6155  104.802925  54.080078          1  0.910010  3437.190023  3363.291219   \n",
       "6156  103.885343 -74.140136          0  0.910010  3340.190023  3369.090739   \n",
       "\n",
       "            mad         CCI         DI        ADX  \n",
       "14     0.086788  -41.627398   0.558137  50.226281  \n",
       "15     0.070206   92.673942   8.400292  43.640597  \n",
       "16     0.068612  153.386632  10.553252  30.868253  \n",
       "17     0.062553   91.852991   3.982389  24.801838  \n",
       "18     0.063244   33.856459   0.704759  24.430750  \n",
       "...         ...         ...        ...        ...  \n",
       "6152  62.706724  -15.740435  -0.538225  22.462941  \n",
       "6153  58.910708   36.406218   0.884063  21.835137  \n",
       "6154  58.707812   53.216142   1.180228  20.421165  \n",
       "6155  58.017979   84.914831   2.448428  19.442353  \n",
       "6156  51.065360  -37.730360  -0.023105  19.055512  \n",
       "\n",
       "[6143 rows x 29 columns]"
      ]
     },
     "execution_count": 37,
     "metadata": {},
     "output_type": "execute_result"
    }
   ],
   "source": [
    "complete_data"
   ]
  },
  {
   "cell_type": "code",
   "execution_count": 38,
   "metadata": {},
   "outputs": [],
   "source": [
    "# data['STO'] = ta.momentum.StochasticOscillator(data[\"Close\"], data[\"High\"], data[\"Low\"], 20, 2, True).stoch()"
   ]
  },
  {
   "cell_type": "code",
   "execution_count": 39,
   "metadata": {},
   "outputs": [
    {
     "name": "stdout",
     "output_type": "stream",
     "text": [
      "                    Open      High       Low     Close  Adj Close    Volume  \\\n",
      "Open            1.000000  0.999934  0.999912  0.999842   0.999842 -0.240695   \n",
      "High            0.999934  1.000000  0.999893  0.999924   0.999924 -0.239498   \n",
      "Low             0.999912  0.999893  1.000000  0.999928   0.999928 -0.241962   \n",
      "Close           0.999842  0.999924  0.999928  1.000000   1.000000 -0.240714   \n",
      "Adj Close       0.999842  0.999924  0.999928  1.000000   1.000000 -0.240714   \n",
      "Volume         -0.240695 -0.239498 -0.241962 -0.240714  -0.240714  1.000000   \n",
      "SMA5            0.999796  0.999784  0.999735  0.999727   0.999727 -0.240744   \n",
      "SMA10           0.999487  0.999470  0.999403  0.999399   0.999399 -0.240573   \n",
      "StochasticK     0.061412  0.062415  0.064107  0.064913   0.064913  0.005495   \n",
      "StochasticD     0.068403  0.068394  0.069875  0.069585   0.069585 -0.011103   \n",
      "LarryWilliamsR -0.061412 -0.062415 -0.064107 -0.064913  -0.064913 -0.005495   \n",
      "ROC            -0.027224 -0.026872 -0.026425 -0.026228  -0.026228  0.217128   \n",
      "PVT            -0.029048 -0.028254 -0.028412 -0.027612  -0.027612  0.319750   \n",
      "ADO             0.049869  0.051947  0.052897  0.054083   0.054083  0.045332   \n",
      "WMA10           0.999719  0.999707  0.999652  0.999647   0.999647 -0.240679   \n",
      "EMA12           0.999560  0.999550  0.999492  0.999491   0.999491 -0.240609   \n",
      "EMA26           0.998998  0.998986  0.998934  0.998928   0.998928 -0.240528   \n",
      "MACD            0.343483  0.343580  0.343285  0.343504   0.343504 -0.080147   \n",
      "Momentum       -0.029246 -0.028933 -0.028524 -0.028329  -0.028329  0.222405   \n",
      "Change          0.036424  0.042506  0.043998  0.050483   0.050483 -0.006761   \n",
      "Direction       0.034923  0.037529  0.038374  0.040949   0.040949  0.033021   \n",
      "RSI             0.145485  0.145464  0.146716  0.146586   0.146586 -0.003498   \n",
      "TP              0.999924  0.999968  0.999968  0.999979   0.999979 -0.240723   \n",
      "sma             0.999208  0.999190  0.999115  0.999115   0.999115 -0.240428   \n",
      "mad             0.839815  0.841001  0.837760  0.839171   0.839171 -0.150151   \n",
      "CCI             0.051172  0.052061  0.053518  0.053693   0.053693  0.061937   \n",
      "DI             -0.009048 -0.008356 -0.007717 -0.007213  -0.007213  0.205706   \n",
      "ADX            -0.090911 -0.090453 -0.091779 -0.091171  -0.091171  0.159908   \n",
      "\n",
      "                    SMA5     SMA10  StochasticK  StochasticD  ...  Momentum  \\\n",
      "Open            0.999796  0.999487     0.061412     0.068403  ... -0.029246   \n",
      "High            0.999784  0.999470     0.062415     0.068394  ... -0.028933   \n",
      "Low             0.999735  0.999403     0.064107     0.069875  ... -0.028524   \n",
      "Close           0.999727  0.999399     0.064913     0.069585  ... -0.028329   \n",
      "Adj Close       0.999727  0.999399     0.064913     0.069585  ... -0.028329   \n",
      "Volume         -0.240744 -0.240573     0.005495    -0.011103  ...  0.222405   \n",
      "SMA5            1.000000  0.999823     0.056336     0.063682  ... -0.031510   \n",
      "SMA10           0.999823  1.000000     0.049282     0.055705  ... -0.035379   \n",
      "StochasticK     0.056336  0.049282     1.000000     0.915329  ...  0.625838   \n",
      "StochasticD     0.063682  0.055705     0.915329     1.000000  ...  0.663348   \n",
      "LarryWilliamsR -0.056336 -0.049282    -1.000000    -0.915329  ... -0.625838   \n",
      "ROC            -0.029700 -0.033945     0.657524     0.679490  ...  0.921638   \n",
      "PVT            -0.029744 -0.029982     0.210772     0.084616  ...  0.236398   \n",
      "ADO             0.046177  0.045285     0.349192     0.102695  ...  0.163101   \n",
      "WMA10           0.999963  0.999943     0.053562     0.060403  ... -0.033053   \n",
      "EMA12           0.999843  0.999963     0.049994     0.056039  ... -0.036007   \n",
      "EMA26           0.999355  0.999673     0.044556     0.049452  ... -0.040640   \n",
      "MACD            0.340077  0.330914     0.269784     0.325304  ...  0.204869   \n",
      "Momentum       -0.031510 -0.035379     0.625838     0.663348  ...  1.000000   \n",
      "Change          0.033620  0.032250     0.234479     0.080129  ...  0.071935   \n",
      "Direction       0.034458  0.033838     0.360303     0.114333  ...  0.146605   \n",
      "RSI             0.142815  0.138263     0.524832     0.558000  ...  0.476708   \n",
      "TP              0.999778  0.999453     0.063807     0.069282  ... -0.028598   \n",
      "sma             0.999587  0.999912     0.044980     0.050650  ... -0.038735   \n",
      "mad             0.839700  0.838732     0.038539     0.045739  ... -0.007334   \n",
      "CCI             0.044405  0.037450     0.911745     0.847789  ...  0.586423   \n",
      "DI             -0.012670 -0.017534     0.745741     0.707224  ...  0.832753   \n",
      "ADX            -0.091141 -0.091791     0.049511     0.076416  ...  0.199488   \n",
      "\n",
      "                  Change  Direction       RSI        TP       sma       mad  \\\n",
      "Open            0.036424   0.034923  0.145485  0.999924  0.999208  0.839815   \n",
      "High            0.042506   0.037529  0.145464  0.999968  0.999190  0.841001   \n",
      "Low             0.043998   0.038374  0.146716  0.999968  0.999115  0.837760   \n",
      "Close           0.050483   0.040949  0.146586  0.999979  0.999115  0.839171   \n",
      "Adj Close       0.050483   0.040949  0.146586  0.999979  0.999115  0.839171   \n",
      "Volume         -0.006761   0.033021 -0.003498 -0.240723 -0.240428 -0.150151   \n",
      "SMA5            0.033620   0.034458  0.142815  0.999778  0.999587  0.839700   \n",
      "SMA10           0.032250   0.033838  0.138263  0.999453  0.999912  0.838732   \n",
      "StochasticK     0.234479   0.360303  0.524832  0.063807  0.044980  0.038539   \n",
      "StochasticD     0.080129   0.114333  0.558000  0.069282  0.050650  0.045739   \n",
      "LarryWilliamsR -0.234479  -0.360303 -0.524832 -0.063807 -0.044980 -0.038539   \n",
      "ROC             0.079060   0.157169  0.436970 -0.026511 -0.037467 -0.002826   \n",
      "PVT             0.119556   0.275339  0.063553 -0.028093 -0.030074 -0.023683   \n",
      "ADO             0.447956   0.678459  0.158319  0.052974  0.044882  0.034205   \n",
      "WMA10           0.033540   0.034401  0.141030  0.999697  0.999766  0.839314   \n",
      "EMA12           0.033406   0.034300  0.137403  0.999540  0.999924  0.838663   \n",
      "EMA26           0.032766   0.033854  0.131248  0.998978  0.999826  0.837327   \n",
      "MACD            0.040479   0.031698  0.330977  0.343467  0.321926  0.328549   \n",
      "Momentum        0.071935   0.146605  0.476708 -0.028598 -0.038735 -0.007334   \n",
      "Change          1.000000   0.386676  0.090488  0.045658  0.031613  0.015898   \n",
      "Direction       0.386676   1.000000  0.230528  0.038949  0.033621  0.021270   \n",
      "RSI             0.090488   0.230528  1.000000  0.146255  0.134092  0.135346   \n",
      "TP              0.045658   0.038949  0.146255  1.000000  0.999169  0.839346   \n",
      "sma             0.031613   0.033621  0.134092  0.999169  1.000000  0.837786   \n",
      "mad             0.015898   0.021270  0.135346  0.839346  0.837786  1.000000   \n",
      "CCI             0.221128   0.296721  0.454926  0.053087  0.033813  0.024196   \n",
      "DI              0.137320   0.265382  0.400420 -0.007765 -0.020266  0.000633   \n",
      "ADX            -0.009489  -0.022172  0.077092 -0.091132 -0.092625  0.014689   \n",
      "\n",
      "                     CCI        DI       ADX  \n",
      "Open            0.051172 -0.009048 -0.090911  \n",
      "High            0.052061 -0.008356 -0.090453  \n",
      "Low             0.053518 -0.007717 -0.091779  \n",
      "Close           0.053693 -0.007213 -0.091171  \n",
      "Adj Close       0.053693 -0.007213 -0.091171  \n",
      "Volume          0.061937  0.205706  0.159908  \n",
      "SMA5            0.044405 -0.012670 -0.091141  \n",
      "SMA10           0.037450 -0.017534 -0.091791  \n",
      "StochasticK     0.911745  0.745741  0.049511  \n",
      "StochasticD     0.847789  0.707224  0.076416  \n",
      "LarryWilliamsR -0.911745 -0.745741 -0.049511  \n",
      "ROC             0.627488  0.894142  0.169474  \n",
      "PVT             0.267850  0.374734  0.031852  \n",
      "ADO             0.386402  0.291951 -0.006746  \n",
      "WMA10           0.041697 -0.014606 -0.091417  \n",
      "EMA12           0.038573 -0.016951 -0.092442  \n",
      "EMA26           0.033547 -0.020545 -0.095393  \n",
      "MACD            0.246911  0.162428  0.108453  \n",
      "Momentum        0.586423  0.832753  0.199488  \n",
      "Change          0.221128  0.137320 -0.009489  \n",
      "Direction       0.296721  0.265382 -0.022172  \n",
      "RSI             0.454926  0.400420  0.077092  \n",
      "TP              0.053087 -0.007765 -0.091132  \n",
      "sma             0.033813 -0.020266 -0.092625  \n",
      "mad             0.024196  0.000633  0.014689  \n",
      "CCI             1.000000  0.759626  0.035566  \n",
      "DI              0.759626  1.000000  0.109286  \n",
      "ADX             0.035566  0.109286  1.000000  \n",
      "\n",
      "[28 rows x 28 columns]\n"
     ]
    }
   ],
   "source": [
    "corrMatrix = complete_data.corr()\n",
    "print(corrMatrix)"
   ]
  },
  {
   "cell_type": "code",
   "execution_count": 40,
   "metadata": {},
   "outputs": [
    {
     "data": {
      "image/png": "[encoded data removed]",
      "text/plain": [
       "<Figure size 432x288 with 2 Axes>"
      ]
     },
     "metadata": {
      "needs_background": "light"
     },
     "output_type": "display_data"
    }
   ],
   "source": [
    "sn.heatmap(corrMatrix, annot=False)\n",
    "plt.show()"
   ]
  },
  {
   "cell_type": "code",
   "execution_count": 41,
   "metadata": {},
   "outputs": [
    {
     "data": {
      "text/plain": [
       "Open  Open         1.000000\n",
       "      High         0.999934\n",
       "      Low          0.999912\n",
       "      Close        0.999842\n",
       "      Adj Close    0.999842\n",
       "                     ...   \n",
       "ADX   sma         -0.092625\n",
       "      mad          0.014689\n",
       "      CCI          0.035566\n",
       "      DI           0.109286\n",
       "      ADX          1.000000\n",
       "Length: 784, dtype: float64"
      ]
     },
     "execution_count": 41,
     "metadata": {},
     "output_type": "execute_result"
    }
   ],
   "source": [
    "corr_pairs = corrMatrix.unstack()\n",
    "corr_pairs"
   ]
  },
  {
   "cell_type": "code",
   "execution_count": 42,
   "metadata": {},
   "outputs": [
    {
     "data": {
      "text/plain": [
       "StochasticK     LarryWilliamsR   -1.000000\n",
       "LarryWilliamsR  StochasticK      -1.000000\n",
       "StochasticD     LarryWilliamsR   -0.915329\n",
       "LarryWilliamsR  StochasticD      -0.915329\n",
       "CCI             LarryWilliamsR   -0.911745\n",
       "                                    ...   \n",
       "TP              TP                1.000000\n",
       "sma             sma               1.000000\n",
       "mad             mad               1.000000\n",
       "PVT             PVT               1.000000\n",
       "ADX             ADX               1.000000\n",
       "Length: 784, dtype: float64"
      ]
     },
     "execution_count": 42,
     "metadata": {},
     "output_type": "execute_result"
    }
   ],
   "source": [
    "sorted_pairs = corr_pairs.sort_values(kind=\"quicksort\")\n",
    "sorted_pairs"
   ]
  },
  {
   "cell_type": "code",
   "execution_count": 43,
   "metadata": {},
   "outputs": [
    {
     "name": "stdout",
     "output_type": "stream",
     "text": [
      "StochasticK     LarryWilliamsR   -1.000000\n",
      "LarryWilliamsR  StochasticK      -1.000000\n",
      "StochasticD     LarryWilliamsR   -0.915329\n",
      "LarryWilliamsR  StochasticD      -0.915329\n",
      "CCI             LarryWilliamsR   -0.911745\n",
      "                                    ...   \n",
      "TP              TP                1.000000\n",
      "sma             sma               1.000000\n",
      "mad             mad               1.000000\n",
      "PVT             PVT               1.000000\n",
      "ADX             ADX               1.000000\n",
      "Length: 234, dtype: float64\n"
     ]
    }
   ],
   "source": [
    "strong_pairs = sorted_pairs[abs(sorted_pairs) > 0.5]\n",
    "\n",
    "print(strong_pairs)"
   ]
  },
  {
   "cell_type": "code",
   "execution_count": 44,
   "metadata": {},
   "outputs": [
    {
     "data": {
      "text/plain": [
       "206"
      ]
     },
     "execution_count": 44,
     "metadata": {},
     "output_type": "execute_result"
    }
   ],
   "source": [
    "# strong_pairs[strong_pairs.index[0][0] == strong_pairs.index[0][1]]\n",
    "\n",
    "removed_diagonal = [(i, j) for (i, j) in strong_pairs.index if i!=j]\n",
    "len(removed_diagonal)"
   ]
  },
  {
   "cell_type": "code",
   "execution_count": 45,
   "metadata": {
    "scrolled": false
   },
   "outputs": [],
   "source": [
    "# # Create correlation matrix\n",
    "# corr_matrix = complete_data.corr().abs()\n",
    "\n",
    "# # Select upper triangle of correlation matrix\n",
    "# upper = corr_matrix.where(np.triu(np.ones(corr_matrix.shape), k=1).astype(np.bool8))\n",
    "\n",
    "# # Find index of feature columns with correlation greater than 0.95\n",
    "# to_drop = [column for column in upper.columns if any(upper[column] > 0.95)]\n",
    "# to_drop"
   ]
  },
  {
   "cell_type": "code",
   "execution_count": 46,
   "metadata": {},
   "outputs": [],
   "source": [
    "# Find index of feature columns with correlation greater than 0.8\n",
    "\n",
    "correlated_features = set()\n",
    "for i in range(len(corrMatrix.columns)):\n",
    "    for j in range(i):\n",
    "        if abs(corrMatrix.iloc[i, j]) > 0.8:\n",
    "            colname = corrMatrix.columns[i]\n",
    "            correlated_features.add(colname)"
   ]
  },
  {
   "cell_type": "code",
   "execution_count": 47,
   "metadata": {},
   "outputs": [
    {
     "data": {
      "text/plain": [
       "{'Adj Close',\n",
       " 'CCI',\n",
       " 'Close',\n",
       " 'DI',\n",
       " 'EMA12',\n",
       " 'EMA26',\n",
       " 'High',\n",
       " 'LarryWilliamsR',\n",
       " 'Low',\n",
       " 'Momentum',\n",
       " 'SMA10',\n",
       " 'SMA5',\n",
       " 'StochasticD',\n",
       " 'TP',\n",
       " 'WMA10',\n",
       " 'mad',\n",
       " 'sma'}"
      ]
     },
     "execution_count": 47,
     "metadata": {},
     "output_type": "execute_result"
    }
   ],
   "source": [
    "correlated_features"
   ]
  },
  {
   "cell_type": "code",
   "execution_count": 48,
   "metadata": {},
   "outputs": [],
   "source": [
    "complete_data = complete_data.drop(labels=correlated_features, axis=1)"
   ]
  },
  {
   "cell_type": "code",
   "execution_count": 49,
   "metadata": {},
   "outputs": [
    {
     "data": {
      "text/html": [
       "<div>\n",
       "<style scoped>\n",
       "    .dataframe tbody tr th:only-of-type {\n",
       "        vertical-align: middle;\n",
       "    }\n",
       "\n",
       "    .dataframe tbody tr th {\n",
       "        vertical-align: top;\n",
       "    }\n",
       "\n",
       "    .dataframe thead th {\n",
       "        text-align: right;\n",
       "    }\n",
       "</style>\n",
       "<table border=\"1\" class=\"dataframe\">\n",
       "  <thead>\n",
       "    <tr style=\"text-align: right;\">\n",
       "      <th></th>\n",
       "      <th>Date</th>\n",
       "      <th>Open</th>\n",
       "      <th>Volume</th>\n",
       "      <th>StochasticK</th>\n",
       "      <th>ROC</th>\n",
       "      <th>PVT</th>\n",
       "      <th>ADO</th>\n",
       "      <th>MACD</th>\n",
       "      <th>Change</th>\n",
       "      <th>Direction</th>\n",
       "      <th>RSI</th>\n",
       "      <th>ADX</th>\n",
       "    </tr>\n",
       "  </thead>\n",
       "  <tbody>\n",
       "    <tr>\n",
       "      <th>14</th>\n",
       "      <td>6/5/1997</td>\n",
       "      <td>1.416667</td>\n",
       "      <td>5672400</td>\n",
       "      <td>34.375033</td>\n",
       "      <td>-0.097561</td>\n",
       "      <td>500505.764587</td>\n",
       "      <td>0.749999</td>\n",
       "      <td>-0.117822</td>\n",
       "      <td>0.125000</td>\n",
       "      <td>1</td>\n",
       "      <td>0.203666</td>\n",
       "      <td>50.226281</td>\n",
       "    </tr>\n",
       "    <tr>\n",
       "      <th>15</th>\n",
       "      <td>6/6/1997</td>\n",
       "      <td>1.515625</td>\n",
       "      <td>7807200</td>\n",
       "      <td>75.000055</td>\n",
       "      <td>0.012739</td>\n",
       "      <td>580263.051359</td>\n",
       "      <td>0.842105</td>\n",
       "      <td>-0.100660</td>\n",
       "      <td>0.114583</td>\n",
       "      <td>1</td>\n",
       "      <td>0.282646</td>\n",
       "      <td>43.640597</td>\n",
       "    </tr>\n",
       "    <tr>\n",
       "      <th>16</th>\n",
       "      <td>6/9/1997</td>\n",
       "      <td>1.656250</td>\n",
       "      <td>2352000</td>\n",
       "      <td>85.714286</td>\n",
       "      <td>0.182482</td>\n",
       "      <td>44377.358491</td>\n",
       "      <td>1.000000</td>\n",
       "      <td>-0.083574</td>\n",
       "      <td>0.031250</td>\n",
       "      <td>1</td>\n",
       "      <td>0.381194</td>\n",
       "      <td>30.868253</td>\n",
       "    </tr>\n",
       "    <tr>\n",
       "      <th>17</th>\n",
       "      <td>6/10/1997</td>\n",
       "      <td>1.708333</td>\n",
       "      <td>5458800</td>\n",
       "      <td>68.421026</td>\n",
       "      <td>0.134328</td>\n",
       "      <td>-336964.041244</td>\n",
       "      <td>0.117645</td>\n",
       "      <td>-0.077545</td>\n",
       "      <td>-0.104167</td>\n",
       "      <td>0</td>\n",
       "      <td>0.381194</td>\n",
       "      <td>24.801838</td>\n",
       "    </tr>\n",
       "    <tr>\n",
       "      <th>18</th>\n",
       "      <td>6/11/1997</td>\n",
       "      <td>1.593750</td>\n",
       "      <td>1188000</td>\n",
       "      <td>57.894870</td>\n",
       "      <td>0.027778</td>\n",
       "      <td>-31262.664266</td>\n",
       "      <td>0.285722</td>\n",
       "      <td>-0.075261</td>\n",
       "      <td>-0.041666</td>\n",
       "      <td>0</td>\n",
       "      <td>0.381194</td>\n",
       "      <td>24.430750</td>\n",
       "    </tr>\n",
       "    <tr>\n",
       "      <th>...</th>\n",
       "      <td>...</td>\n",
       "      <td>...</td>\n",
       "      <td>...</td>\n",
       "      <td>...</td>\n",
       "      <td>...</td>\n",
       "      <td>...</td>\n",
       "      <td>...</td>\n",
       "      <td>...</td>\n",
       "      <td>...</td>\n",
       "      <td>...</td>\n",
       "      <td>...</td>\n",
       "      <td>...</td>\n",
       "    </tr>\n",
       "    <tr>\n",
       "      <th>6152</th>\n",
       "      <td>10/25/2021</td>\n",
       "      <td>3335.000000</td>\n",
       "      <td>2226000</td>\n",
       "      <td>46.075539</td>\n",
       "      <td>0.005432</td>\n",
       "      <td>-10130.421710</td>\n",
       "      <td>0.244510</td>\n",
       "      <td>3.245089</td>\n",
       "      <td>-15.179932</td>\n",
       "      <td>0</td>\n",
       "      <td>0.675676</td>\n",
       "      <td>22.462941</td>\n",
       "    </tr>\n",
       "    <tr>\n",
       "      <th>6153</th>\n",
       "      <td>10/26/2021</td>\n",
       "      <td>3349.510010</td>\n",
       "      <td>2698300</td>\n",
       "      <td>61.695644</td>\n",
       "      <td>0.026592</td>\n",
       "      <td>45264.585720</td>\n",
       "      <td>1.327278</td>\n",
       "      <td>4.510905</td>\n",
       "      <td>55.699951</td>\n",
       "      <td>1</td>\n",
       "      <td>0.675676</td>\n",
       "      <td>21.835137</td>\n",
       "    </tr>\n",
       "    <tr>\n",
       "      <th>6154</th>\n",
       "      <td>10/27/2021</td>\n",
       "      <td>3388.000000</td>\n",
       "      <td>2702200</td>\n",
       "      <td>68.942496</td>\n",
       "      <td>0.045033</td>\n",
       "      <td>13142.474041</td>\n",
       "      <td>0.929518</td>\n",
       "      <td>6.761087</td>\n",
       "      <td>16.419922</td>\n",
       "      <td>1</td>\n",
       "      <td>0.675676</td>\n",
       "      <td>20.421165</td>\n",
       "    </tr>\n",
       "    <tr>\n",
       "      <th>6155</th>\n",
       "      <td>10/28/2021</td>\n",
       "      <td>3402.100098</td>\n",
       "      <td>5708700</td>\n",
       "      <td>86.638952</td>\n",
       "      <td>0.061355</td>\n",
       "      <td>91003.051502</td>\n",
       "      <td>0.930215</td>\n",
       "      <td>12.761081</td>\n",
       "      <td>54.080078</td>\n",
       "      <td>1</td>\n",
       "      <td>0.910010</td>\n",
       "      <td>19.442353</td>\n",
       "    </tr>\n",
       "    <tr>\n",
       "      <th>6156</th>\n",
       "      <td>10/29/2021</td>\n",
       "      <td>3300.020020</td>\n",
       "      <td>6469500</td>\n",
       "      <td>56.093408</td>\n",
       "      <td>0.026840</td>\n",
       "      <td>-139167.230141</td>\n",
       "      <td>-0.706897</td>\n",
       "      <td>11.402192</td>\n",
       "      <td>-74.140136</td>\n",
       "      <td>0</td>\n",
       "      <td>0.910010</td>\n",
       "      <td>19.055512</td>\n",
       "    </tr>\n",
       "  </tbody>\n",
       "</table>\n",
       "<p>6143 rows × 12 columns</p>\n",
       "</div>"
      ],
      "text/plain": [
       "            Date         Open   Volume  StochasticK       ROC            PVT  \\\n",
       "14      6/5/1997     1.416667  5672400    34.375033 -0.097561  500505.764587   \n",
       "15      6/6/1997     1.515625  7807200    75.000055  0.012739  580263.051359   \n",
       "16      6/9/1997     1.656250  2352000    85.714286  0.182482   44377.358491   \n",
       "17     6/10/1997     1.708333  5458800    68.421026  0.134328 -336964.041244   \n",
       "18     6/11/1997     1.593750  1188000    57.894870  0.027778  -31262.664266   \n",
       "...          ...          ...      ...          ...       ...            ...   \n",
       "6152  10/25/2021  3335.000000  2226000    46.075539  0.005432  -10130.421710   \n",
       "6153  10/26/2021  3349.510010  2698300    61.695644  0.026592   45264.585720   \n",
       "6154  10/27/2021  3388.000000  2702200    68.942496  0.045033   13142.474041   \n",
       "6155  10/28/2021  3402.100098  5708700    86.638952  0.061355   91003.051502   \n",
       "6156  10/29/2021  3300.020020  6469500    56.093408  0.026840 -139167.230141   \n",
       "\n",
       "           ADO       MACD     Change  Direction       RSI        ADX  \n",
       "14    0.749999  -0.117822   0.125000          1  0.203666  50.226281  \n",
       "15    0.842105  -0.100660   0.114583          1  0.282646  43.640597  \n",
       "16    1.000000  -0.083574   0.031250          1  0.381194  30.868253  \n",
       "17    0.117645  -0.077545  -0.104167          0  0.381194  24.801838  \n",
       "18    0.285722  -0.075261  -0.041666          0  0.381194  24.430750  \n",
       "...        ...        ...        ...        ...       ...        ...  \n",
       "6152  0.244510   3.245089 -15.179932          0  0.675676  22.462941  \n",
       "6153  1.327278   4.510905  55.699951          1  0.675676  21.835137  \n",
       "6154  0.929518   6.761087  16.419922          1  0.675676  20.421165  \n",
       "6155  0.930215  12.761081  54.080078          1  0.910010  19.442353  \n",
       "6156 -0.706897  11.402192 -74.140136          0  0.910010  19.055512  \n",
       "\n",
       "[6143 rows x 12 columns]"
      ]
     },
     "execution_count": 49,
     "metadata": {},
     "output_type": "execute_result"
    }
   ],
   "source": [
    "complete_data"
   ]
  },
  {
   "cell_type": "code",
   "execution_count": 50,
   "metadata": {
    "scrolled": false
   },
   "outputs": [
    {
     "data": {
      "text/html": [
       "<div>\n",
       "<style scoped>\n",
       "    .dataframe tbody tr th:only-of-type {\n",
       "        vertical-align: middle;\n",
       "    }\n",
       "\n",
       "    .dataframe tbody tr th {\n",
       "        vertical-align: top;\n",
       "    }\n",
       "\n",
       "    .dataframe thead th {\n",
       "        text-align: right;\n",
       "    }\n",
       "</style>\n",
       "<table border=\"1\" class=\"dataframe\">\n",
       "  <thead>\n",
       "    <tr style=\"text-align: right;\">\n",
       "      <th></th>\n",
       "      <th>Open</th>\n",
       "      <th>Volume</th>\n",
       "      <th>StochasticK</th>\n",
       "      <th>ROC</th>\n",
       "      <th>PVT</th>\n",
       "      <th>ADO</th>\n",
       "      <th>MACD</th>\n",
       "      <th>Change</th>\n",
       "      <th>RSI</th>\n",
       "      <th>ADX</th>\n",
       "    </tr>\n",
       "  </thead>\n",
       "  <tbody>\n",
       "    <tr>\n",
       "      <th>14</th>\n",
       "      <td>1.416667</td>\n",
       "      <td>5672400</td>\n",
       "      <td>34.375033</td>\n",
       "      <td>-0.097561</td>\n",
       "      <td>500505.764587</td>\n",
       "      <td>0.749999</td>\n",
       "      <td>-0.117822</td>\n",
       "      <td>0.125000</td>\n",
       "      <td>0.203666</td>\n",
       "      <td>50.226281</td>\n",
       "    </tr>\n",
       "    <tr>\n",
       "      <th>15</th>\n",
       "      <td>1.515625</td>\n",
       "      <td>7807200</td>\n",
       "      <td>75.000055</td>\n",
       "      <td>0.012739</td>\n",
       "      <td>580263.051359</td>\n",
       "      <td>0.842105</td>\n",
       "      <td>-0.100660</td>\n",
       "      <td>0.114583</td>\n",
       "      <td>0.282646</td>\n",
       "      <td>43.640597</td>\n",
       "    </tr>\n",
       "    <tr>\n",
       "      <th>16</th>\n",
       "      <td>1.656250</td>\n",
       "      <td>2352000</td>\n",
       "      <td>85.714286</td>\n",
       "      <td>0.182482</td>\n",
       "      <td>44377.358491</td>\n",
       "      <td>1.000000</td>\n",
       "      <td>-0.083574</td>\n",
       "      <td>0.031250</td>\n",
       "      <td>0.381194</td>\n",
       "      <td>30.868253</td>\n",
       "    </tr>\n",
       "    <tr>\n",
       "      <th>17</th>\n",
       "      <td>1.708333</td>\n",
       "      <td>5458800</td>\n",
       "      <td>68.421026</td>\n",
       "      <td>0.134328</td>\n",
       "      <td>-336964.041244</td>\n",
       "      <td>0.117645</td>\n",
       "      <td>-0.077545</td>\n",
       "      <td>-0.104167</td>\n",
       "      <td>0.381194</td>\n",
       "      <td>24.801838</td>\n",
       "    </tr>\n",
       "    <tr>\n",
       "      <th>18</th>\n",
       "      <td>1.593750</td>\n",
       "      <td>1188000</td>\n",
       "      <td>57.894870</td>\n",
       "      <td>0.027778</td>\n",
       "      <td>-31262.664266</td>\n",
       "      <td>0.285722</td>\n",
       "      <td>-0.075261</td>\n",
       "      <td>-0.041666</td>\n",
       "      <td>0.381194</td>\n",
       "      <td>24.430750</td>\n",
       "    </tr>\n",
       "    <tr>\n",
       "      <th>...</th>\n",
       "      <td>...</td>\n",
       "      <td>...</td>\n",
       "      <td>...</td>\n",
       "      <td>...</td>\n",
       "      <td>...</td>\n",
       "      <td>...</td>\n",
       "      <td>...</td>\n",
       "      <td>...</td>\n",
       "      <td>...</td>\n",
       "      <td>...</td>\n",
       "    </tr>\n",
       "    <tr>\n",
       "      <th>6152</th>\n",
       "      <td>3335.000000</td>\n",
       "      <td>2226000</td>\n",
       "      <td>46.075539</td>\n",
       "      <td>0.005432</td>\n",
       "      <td>-10130.421710</td>\n",
       "      <td>0.244510</td>\n",
       "      <td>3.245089</td>\n",
       "      <td>-15.179932</td>\n",
       "      <td>0.675676</td>\n",
       "      <td>22.462941</td>\n",
       "    </tr>\n",
       "    <tr>\n",
       "      <th>6153</th>\n",
       "      <td>3349.510010</td>\n",
       "      <td>2698300</td>\n",
       "      <td>61.695644</td>\n",
       "      <td>0.026592</td>\n",
       "      <td>45264.585720</td>\n",
       "      <td>1.327278</td>\n",
       "      <td>4.510905</td>\n",
       "      <td>55.699951</td>\n",
       "      <td>0.675676</td>\n",
       "      <td>21.835137</td>\n",
       "    </tr>\n",
       "    <tr>\n",
       "      <th>6154</th>\n",
       "      <td>3388.000000</td>\n",
       "      <td>2702200</td>\n",
       "      <td>68.942496</td>\n",
       "      <td>0.045033</td>\n",
       "      <td>13142.474041</td>\n",
       "      <td>0.929518</td>\n",
       "      <td>6.761087</td>\n",
       "      <td>16.419922</td>\n",
       "      <td>0.675676</td>\n",
       "      <td>20.421165</td>\n",
       "    </tr>\n",
       "    <tr>\n",
       "      <th>6155</th>\n",
       "      <td>3402.100098</td>\n",
       "      <td>5708700</td>\n",
       "      <td>86.638952</td>\n",
       "      <td>0.061355</td>\n",
       "      <td>91003.051502</td>\n",
       "      <td>0.930215</td>\n",
       "      <td>12.761081</td>\n",
       "      <td>54.080078</td>\n",
       "      <td>0.910010</td>\n",
       "      <td>19.442353</td>\n",
       "    </tr>\n",
       "    <tr>\n",
       "      <th>6156</th>\n",
       "      <td>3300.020020</td>\n",
       "      <td>6469500</td>\n",
       "      <td>56.093408</td>\n",
       "      <td>0.026840</td>\n",
       "      <td>-139167.230141</td>\n",
       "      <td>-0.706897</td>\n",
       "      <td>11.402192</td>\n",
       "      <td>-74.140136</td>\n",
       "      <td>0.910010</td>\n",
       "      <td>19.055512</td>\n",
       "    </tr>\n",
       "  </tbody>\n",
       "</table>\n",
       "<p>6143 rows × 10 columns</p>\n",
       "</div>"
      ],
      "text/plain": [
       "             Open   Volume  StochasticK       ROC            PVT       ADO  \\\n",
       "14       1.416667  5672400    34.375033 -0.097561  500505.764587  0.749999   \n",
       "15       1.515625  7807200    75.000055  0.012739  580263.051359  0.842105   \n",
       "16       1.656250  2352000    85.714286  0.182482   44377.358491  1.000000   \n",
       "17       1.708333  5458800    68.421026  0.134328 -336964.041244  0.117645   \n",
       "18       1.593750  1188000    57.894870  0.027778  -31262.664266  0.285722   \n",
       "...           ...      ...          ...       ...            ...       ...   \n",
       "6152  3335.000000  2226000    46.075539  0.005432  -10130.421710  0.244510   \n",
       "6153  3349.510010  2698300    61.695644  0.026592   45264.585720  1.327278   \n",
       "6154  3388.000000  2702200    68.942496  0.045033   13142.474041  0.929518   \n",
       "6155  3402.100098  5708700    86.638952  0.061355   91003.051502  0.930215   \n",
       "6156  3300.020020  6469500    56.093408  0.026840 -139167.230141 -0.706897   \n",
       "\n",
       "           MACD     Change       RSI        ADX  \n",
       "14    -0.117822   0.125000  0.203666  50.226281  \n",
       "15    -0.100660   0.114583  0.282646  43.640597  \n",
       "16    -0.083574   0.031250  0.381194  30.868253  \n",
       "17    -0.077545  -0.104167  0.381194  24.801838  \n",
       "18    -0.075261  -0.041666  0.381194  24.430750  \n",
       "...         ...        ...       ...        ...  \n",
       "6152   3.245089 -15.179932  0.675676  22.462941  \n",
       "6153   4.510905  55.699951  0.675676  21.835137  \n",
       "6154   6.761087  16.419922  0.675676  20.421165  \n",
       "6155  12.761081  54.080078  0.910010  19.442353  \n",
       "6156  11.402192 -74.140136  0.910010  19.055512  \n",
       "\n",
       "[6143 rows x 10 columns]"
      ]
     },
     "execution_count": 50,
     "metadata": {},
     "output_type": "execute_result"
    }
   ],
   "source": [
    "target = complete_data['Direction']\n",
    "complete_data = complete_data.drop(['Date', 'Direction'], axis=1)\n",
    "complete_data"
   ]
  },
  {
   "cell_type": "code",
   "execution_count": 51,
   "metadata": {},
   "outputs": [],
   "source": [
    "from sklearn.model_selection import train_test_split\n",
    "\n",
    "X_train, X_test, y_train, y_test = train_test_split(complete_data,target,test_size=0.3)"
   ]
  },
  {
   "cell_type": "markdown",
   "metadata": {},
   "source": [
    "### Logistic Regression"
   ]
  },
  {
   "cell_type": "code",
   "execution_count": 52,
   "metadata": {},
   "outputs": [
    {
     "data": {
      "text/plain": [
       "0.9994574064026045"
      ]
     },
     "execution_count": 52,
     "metadata": {},
     "output_type": "execute_result"
    }
   ],
   "source": [
    "lr = LogisticRegression(solver='liblinear', multi_class='ovr')\n",
    "lr.fit(X_train, y_train)\n",
    "lr.score(X_test, y_test)"
   ]
  },
  {
   "cell_type": "markdown",
   "metadata": {},
   "source": [
    "### SVM"
   ]
  },
  {
   "cell_type": "code",
   "execution_count": 53,
   "metadata": {},
   "outputs": [
    {
     "data": {
      "text/plain": [
       "0.5089527943570266"
      ]
     },
     "execution_count": 53,
     "metadata": {},
     "output_type": "execute_result"
    }
   ],
   "source": [
    "svm = SVC(gamma='auto')\n",
    "svm.fit(X_train, y_train)\n",
    "svm.score(X_test, y_test)"
   ]
  },
  {
   "cell_type": "markdown",
   "metadata": {},
   "source": [
    "### Random Forest"
   ]
  },
  {
   "cell_type": "code",
   "execution_count": 54,
   "metadata": {},
   "outputs": [
    {
     "data": {
      "text/plain": [
       "1.0"
      ]
     },
     "execution_count": 54,
     "metadata": {},
     "output_type": "execute_result"
    }
   ],
   "source": [
    "rf = RandomForestClassifier(n_estimators=10)\n",
    "rf.fit(X_train, y_train)\n",
    "rf.score(X_test, y_test)"
   ]
  },
  {
   "cell_type": "markdown",
   "metadata": {},
   "source": [
    "### KNN"
   ]
  },
  {
   "cell_type": "code",
   "execution_count": 55,
   "metadata": {},
   "outputs": [
    {
     "data": {
      "text/plain": [
       "0.9576776994031471"
      ]
     },
     "execution_count": 55,
     "metadata": {},
     "output_type": "execute_result"
    }
   ],
   "source": [
    "knn = KNeighborsClassifier(n_neighbors=5)\n",
    "knn.fit(X_train, y_train)\n",
    "knn.score(X_test, y_test)"
   ]
  },
  {
   "cell_type": "markdown",
   "metadata": {},
   "source": [
    "### XGBoost"
   ]
  },
  {
   "cell_type": "code",
   "execution_count": 56,
   "metadata": {},
   "outputs": [
    {
     "name": "stdout",
     "output_type": "stream",
     "text": [
      "[21:35:00] WARNING: C:/Users/Administrator/workspace/xgboost-win64_release_1.5.0/src/learner.cc:1115: Starting in XGBoost 1.3.0, the default evaluation metric used with the objective 'binary:logistic' was changed from 'error' to 'logloss'. Explicitly set eval_metric if you'd like to restore the old behavior.\n"
     ]
    },
    {
     "data": {
      "text/plain": [
       "1.0"
      ]
     },
     "execution_count": 56,
     "metadata": {},
     "output_type": "execute_result"
    }
   ],
   "source": [
    "xgb = XGBClassifier(use_label_encoder=False)\n",
    "xgb.fit(X_train, y_train)\n",
    "xgb.score(X_test, y_test)"
   ]
  },
  {
   "cell_type": "markdown",
   "metadata": {},
   "source": [
    "## KFold cross validation\n",
    "### Basic example"
   ]
  },
  {
   "cell_type": "code",
   "execution_count": 57,
   "metadata": {},
   "outputs": [
    {
     "data": {
      "text/plain": [
       "array([1.        , 1.        , 1.        , 1.        , 1.        ,\n",
       "       0.99674267, 0.99837134, 0.99511401, 0.99674267, 1.        ])"
      ]
     },
     "execution_count": 57,
     "metadata": {},
     "output_type": "execute_result"
    }
   ],
   "source": [
    "from sklearn.model_selection import cross_val_score\n",
    "\n",
    "cross_val_score(LogisticRegression(solver='liblinear',multi_class='ovr'), complete_data, target, cv=10)"
   ]
  },
  {
   "cell_type": "code",
   "execution_count": 58,
   "metadata": {},
   "outputs": [
    {
     "data": {
      "text/plain": [
       "array([0.51056911, 0.51056911, 0.51056911, 0.51140065, 0.50977199,\n",
       "       0.50977199, 0.50977199, 0.50977199, 0.50977199, 0.50977199])"
      ]
     },
     "execution_count": 58,
     "metadata": {},
     "output_type": "execute_result"
    }
   ],
   "source": [
    "cross_val_score(SVC(gamma='auto'), complete_data, target, cv=10)"
   ]
  },
  {
   "cell_type": "code",
   "execution_count": 59,
   "metadata": {},
   "outputs": [
    {
     "data": {
      "text/plain": [
       "array([1., 1., 1., 1., 1., 1., 1., 1., 1., 1.])"
      ]
     },
     "execution_count": 59,
     "metadata": {},
     "output_type": "execute_result"
    }
   ],
   "source": [
    "cross_val_score(RandomForestClassifier(n_estimators=5), complete_data, target, cv=10)"
   ]
  },
  {
   "cell_type": "code",
   "execution_count": 60,
   "metadata": {},
   "outputs": [
    {
     "data": {
      "text/plain": [
       "array([0.91869919, 0.9804878 , 0.97398374, 0.96416938, 0.95928339,\n",
       "       0.97068404, 0.92996743, 0.93648208, 0.95276873, 0.9495114 ])"
      ]
     },
     "execution_count": 60,
     "metadata": {},
     "output_type": "execute_result"
    }
   ],
   "source": [
    "cross_val_score(KNeighborsClassifier(n_neighbors=5), complete_data, target, cv=10)"
   ]
  },
  {
   "cell_type": "code",
   "execution_count": 61,
   "metadata": {},
   "outputs": [
    {
     "name": "stdout",
     "output_type": "stream",
     "text": [
      "[21:35:24] WARNING: C:/Users/Administrator/workspace/xgboost-win64_release_1.5.0/src/learner.cc:1115: Starting in XGBoost 1.3.0, the default evaluation metric used with the objective 'binary:logistic' was changed from 'error' to 'logloss'. Explicitly set eval_metric if you'd like to restore the old behavior.\n",
      "[21:35:24] WARNING: C:/Users/Administrator/workspace/xgboost-win64_release_1.5.0/src/learner.cc:1115: Starting in XGBoost 1.3.0, the default evaluation metric used with the objective 'binary:logistic' was changed from 'error' to 'logloss'. Explicitly set eval_metric if you'd like to restore the old behavior.\n",
      "[21:35:24] WARNING: C:/Users/Administrator/workspace/xgboost-win64_release_1.5.0/src/learner.cc:1115: Starting in XGBoost 1.3.0, the default evaluation metric used with the objective 'binary:logistic' was changed from 'error' to 'logloss'. Explicitly set eval_metric if you'd like to restore the old behavior.\n",
      "[21:35:24] WARNING: C:/Users/Administrator/workspace/xgboost-win64_release_1.5.0/src/learner.cc:1115: Starting in XGBoost 1.3.0, the default evaluation metric used with the objective 'binary:logistic' was changed from 'error' to 'logloss'. Explicitly set eval_metric if you'd like to restore the old behavior.\n",
      "[21:35:24] WARNING: C:/Users/Administrator/workspace/xgboost-win64_release_1.5.0/src/learner.cc:1115: Starting in XGBoost 1.3.0, the default evaluation metric used with the objective 'binary:logistic' was changed from 'error' to 'logloss'. Explicitly set eval_metric if you'd like to restore the old behavior.\n",
      "[21:35:24] WARNING: C:/Users/Administrator/workspace/xgboost-win64_release_1.5.0/src/learner.cc:1115: Starting in XGBoost 1.3.0, the default evaluation metric used with the objective 'binary:logistic' was changed from 'error' to 'logloss'. Explicitly set eval_metric if you'd like to restore the old behavior.\n",
      "[21:35:24] WARNING: C:/Users/Administrator/workspace/xgboost-win64_release_1.5.0/src/learner.cc:1115: Starting in XGBoost 1.3.0, the default evaluation metric used with the objective 'binary:logistic' was changed from 'error' to 'logloss'. Explicitly set eval_metric if you'd like to restore the old behavior.\n",
      "[21:35:25] WARNING: C:/Users/Administrator/workspace/xgboost-win64_release_1.5.0/src/learner.cc:1115: Starting in XGBoost 1.3.0, the default evaluation metric used with the objective 'binary:logistic' was changed from 'error' to 'logloss'. Explicitly set eval_metric if you'd like to restore the old behavior.\n",
      "[21:35:25] WARNING: C:/Users/Administrator/workspace/xgboost-win64_release_1.5.0/src/learner.cc:1115: Starting in XGBoost 1.3.0, the default evaluation metric used with the objective 'binary:logistic' was changed from 'error' to 'logloss'. Explicitly set eval_metric if you'd like to restore the old behavior.\n",
      "[21:35:25] WARNING: C:/Users/Administrator/workspace/xgboost-win64_release_1.5.0/src/learner.cc:1115: Starting in XGBoost 1.3.0, the default evaluation metric used with the objective 'binary:logistic' was changed from 'error' to 'logloss'. Explicitly set eval_metric if you'd like to restore the old behavior.\n"
     ]
    },
    {
     "data": {
      "text/plain": [
       "array([1., 1., 1., 1., 1., 1., 1., 1., 1., 1.])"
      ]
     },
     "execution_count": 61,
     "metadata": {},
     "output_type": "execute_result"
    }
   ],
   "source": [
    "cross_val_score(XGBClassifier(use_label_encoder=False), complete_data, target, cv=10)"
   ]
  }
 ],
 "metadata": {
  "kernelspec": {
   "display_name": "Python 3",
   "language": "python",
   "name": "python3"
  },
  "language_info": {
   "codemirror_mode": {
    "name": "ipython",
    "version": 3
   },
   "file_extension": ".py",
   "mimetype": "text/x-python",
   "name": "python",
   "nbconvert_exporter": "python",
   "pygments_lexer": "ipython3",
   "version": "3.8.5"
  }
 },
 "nbformat": 4,
 "nbformat_minor": 4
}
