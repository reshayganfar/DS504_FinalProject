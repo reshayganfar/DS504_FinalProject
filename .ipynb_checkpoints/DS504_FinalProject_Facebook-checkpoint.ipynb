{
 "cells": [
  {
   "cell_type": "code",
   "execution_count": 1,
   "metadata": {},
   "outputs": [],
   "source": [
    "import numpy as np\n",
    "import pandas as pd\n",
    "import ta\n",
    "import seaborn as sn\n",
    "import matplotlib.pyplot as plt\n",
    "\n",
    "from sklearn.ensemble import RandomForestClassifier\n",
    "from sklearn.linear_model import LogisticRegression\n",
    "from sklearn.neighbors import KNeighborsClassifier\n",
    "from sklearn.svm import SVC\n",
    "from xgboost import XGBClassifier\n",
    "\n",
    "from ta import add_all_ta_features\n",
    "from ta import momentum\n",
    "from ta.utils import dropna"
   ]
  },
  {
   "cell_type": "code",
   "execution_count": 2,
   "metadata": {},
   "outputs": [],
   "source": [
    "#pip install xgboost"
   ]
  },
  {
   "cell_type": "code",
   "execution_count": 3,
   "metadata": {},
   "outputs": [
    {
     "name": "stdout",
     "output_type": "stream",
     "text": [
      "Requirement already satisfied: autofeat in c:\\users\\rshay\\anaconda3\\lib\\site-packages (2.0.10)\n",
      "Requirement already satisfied: numpy in c:\\users\\rshay\\anaconda3\\lib\\site-packages (from autofeat) (1.19.2)\n",
      "Requirement already satisfied: joblib in c:\\users\\rshay\\anaconda3\\lib\\site-packages (from autofeat) (0.17.0)\n",
      "Requirement already satisfied: scikit-learn in c:\\users\\rshay\\anaconda3\\lib\\site-packages (from autofeat) (0.23.2)\n",
      "Requirement already satisfied: pint in c:\\users\\rshay\\anaconda3\\lib\\site-packages (from autofeat) (0.18)\n",
      "Requirement already satisfied: pandas>=0.24.0 in c:\\users\\rshay\\anaconda3\\lib\\site-packages (from autofeat) (1.1.3)\n",
      "Requirement already satisfied: numba in c:\\users\\rshay\\anaconda3\\lib\\site-packages (from autofeat) (0.51.2)\n",
      "Requirement already satisfied: future in c:\\users\\rshay\\anaconda3\\lib\\site-packages (from autofeat) (0.18.2)\n",
      "Requirement already satisfied: sympy>=1.7.1 in c:\\users\\rshay\\anaconda3\\lib\\site-packages (from autofeat) (1.9)\n",
      "Requirement already satisfied: threadpoolctl>=2.0.0 in c:\\users\\rshay\\anaconda3\\lib\\site-packages (from scikit-learn->autofeat) (2.1.0)\n",
      "Requirement already satisfied: scipy>=0.19.1 in c:\\users\\rshay\\anaconda3\\lib\\site-packages (from scikit-learn->autofeat) (1.5.2)\n",
      "Requirement already satisfied: packaging in c:\\users\\rshay\\anaconda3\\lib\\site-packages (from pint->autofeat) (20.4)\n",
      "Requirement already satisfied: pytz>=2017.2 in c:\\users\\rshay\\anaconda3\\lib\\site-packages (from pandas>=0.24.0->autofeat) (2020.1)\n",
      "Requirement already satisfied: python-dateutil>=2.7.3 in c:\\users\\rshay\\anaconda3\\lib\\site-packages (from pandas>=0.24.0->autofeat) (2.8.1)\n",
      "Requirement already satisfied: llvmlite<0.35,>=0.34.0.dev0 in c:\\users\\rshay\\anaconda3\\lib\\site-packages (from numba->autofeat) (0.34.0)\n",
      "Requirement already satisfied: setuptools in c:\\users\\rshay\\anaconda3\\lib\\site-packages (from numba->autofeat) (50.3.1.post20201107)\n",
      "Requirement already satisfied: mpmath>=0.19 in c:\\users\\rshay\\anaconda3\\lib\\site-packages (from sympy>=1.7.1->autofeat) (1.1.0)\n",
      "Requirement already satisfied: six in c:\\users\\rshay\\anaconda3\\lib\\site-packages (from packaging->pint->autofeat) (1.15.0)\n",
      "Requirement already satisfied: pyparsing>=2.0.2 in c:\\users\\rshay\\anaconda3\\lib\\site-packages (from packaging->pint->autofeat) (2.4.7)\n",
      "Note: you may need to restart the kernel to use updated packages.\n"
     ]
    }
   ],
   "source": [
    "pip install autofeat"
   ]
  },
  {
   "cell_type": "code",
   "execution_count": 4,
   "metadata": {},
   "outputs": [],
   "source": [
    "def get_data(company_symbol):\n",
    "    return pd.read_csv(\"dataset/\"+company_symbol+\".csv\")"
   ]
  },
  {
   "cell_type": "code",
   "execution_count": 5,
   "metadata": {},
   "outputs": [
    {
     "data": {
      "text/html": [
       "<div>\n",
       "<style scoped>\n",
       "    .dataframe tbody tr th:only-of-type {\n",
       "        vertical-align: middle;\n",
       "    }\n",
       "\n",
       "    .dataframe tbody tr th {\n",
       "        vertical-align: top;\n",
       "    }\n",
       "\n",
       "    .dataframe thead th {\n",
       "        text-align: right;\n",
       "    }\n",
       "</style>\n",
       "<table border=\"1\" class=\"dataframe\">\n",
       "  <thead>\n",
       "    <tr style=\"text-align: right;\">\n",
       "      <th></th>\n",
       "      <th>Date</th>\n",
       "      <th>Open</th>\n",
       "      <th>High</th>\n",
       "      <th>Low</th>\n",
       "      <th>Close</th>\n",
       "      <th>Adj Close</th>\n",
       "      <th>Volume</th>\n",
       "    </tr>\n",
       "  </thead>\n",
       "  <tbody>\n",
       "    <tr>\n",
       "      <th>0</th>\n",
       "      <td>5/18/2012</td>\n",
       "      <td>42.049999</td>\n",
       "      <td>45.000000</td>\n",
       "      <td>38.000000</td>\n",
       "      <td>38.230000</td>\n",
       "      <td>38.230000</td>\n",
       "      <td>573576400</td>\n",
       "    </tr>\n",
       "    <tr>\n",
       "      <th>1</th>\n",
       "      <td>5/21/2012</td>\n",
       "      <td>36.529999</td>\n",
       "      <td>36.660000</td>\n",
       "      <td>33.000000</td>\n",
       "      <td>34.029999</td>\n",
       "      <td>34.029999</td>\n",
       "      <td>168192700</td>\n",
       "    </tr>\n",
       "    <tr>\n",
       "      <th>2</th>\n",
       "      <td>5/22/2012</td>\n",
       "      <td>32.610001</td>\n",
       "      <td>33.590000</td>\n",
       "      <td>30.940001</td>\n",
       "      <td>31.000000</td>\n",
       "      <td>31.000000</td>\n",
       "      <td>101786600</td>\n",
       "    </tr>\n",
       "    <tr>\n",
       "      <th>3</th>\n",
       "      <td>5/23/2012</td>\n",
       "      <td>31.370001</td>\n",
       "      <td>32.500000</td>\n",
       "      <td>31.360001</td>\n",
       "      <td>32.000000</td>\n",
       "      <td>32.000000</td>\n",
       "      <td>73600000</td>\n",
       "    </tr>\n",
       "    <tr>\n",
       "      <th>4</th>\n",
       "      <td>5/24/2012</td>\n",
       "      <td>32.950001</td>\n",
       "      <td>33.209999</td>\n",
       "      <td>31.770000</td>\n",
       "      <td>33.029999</td>\n",
       "      <td>33.029999</td>\n",
       "      <td>50237200</td>\n",
       "    </tr>\n",
       "    <tr>\n",
       "      <th>...</th>\n",
       "      <td>...</td>\n",
       "      <td>...</td>\n",
       "      <td>...</td>\n",
       "      <td>...</td>\n",
       "      <td>...</td>\n",
       "      <td>...</td>\n",
       "      <td>...</td>\n",
       "    </tr>\n",
       "    <tr>\n",
       "      <th>2374</th>\n",
       "      <td>10/25/2021</td>\n",
       "      <td>320.299988</td>\n",
       "      <td>329.559998</td>\n",
       "      <td>319.720001</td>\n",
       "      <td>328.690002</td>\n",
       "      <td>328.690002</td>\n",
       "      <td>38409000</td>\n",
       "    </tr>\n",
       "    <tr>\n",
       "      <th>2375</th>\n",
       "      <td>10/26/2021</td>\n",
       "      <td>328.260010</td>\n",
       "      <td>330.209991</td>\n",
       "      <td>309.600006</td>\n",
       "      <td>315.809998</td>\n",
       "      <td>315.809998</td>\n",
       "      <td>65654000</td>\n",
       "    </tr>\n",
       "    <tr>\n",
       "      <th>2376</th>\n",
       "      <td>10/27/2021</td>\n",
       "      <td>314.190002</td>\n",
       "      <td>319.250000</td>\n",
       "      <td>312.059998</td>\n",
       "      <td>312.220001</td>\n",
       "      <td>312.220001</td>\n",
       "      <td>29971800</td>\n",
       "    </tr>\n",
       "    <tr>\n",
       "      <th>2377</th>\n",
       "      <td>10/28/2021</td>\n",
       "      <td>312.989990</td>\n",
       "      <td>325.519989</td>\n",
       "      <td>308.109985</td>\n",
       "      <td>316.920013</td>\n",
       "      <td>316.920013</td>\n",
       "      <td>50806800</td>\n",
       "    </tr>\n",
       "    <tr>\n",
       "      <th>2378</th>\n",
       "      <td>10/29/2021</td>\n",
       "      <td>320.190002</td>\n",
       "      <td>326.000000</td>\n",
       "      <td>319.600006</td>\n",
       "      <td>323.570007</td>\n",
       "      <td>323.570007</td>\n",
       "      <td>37027000</td>\n",
       "    </tr>\n",
       "  </tbody>\n",
       "</table>\n",
       "<p>2379 rows × 7 columns</p>\n",
       "</div>"
      ],
      "text/plain": [
       "            Date        Open        High         Low       Close   Adj Close  \\\n",
       "0      5/18/2012   42.049999   45.000000   38.000000   38.230000   38.230000   \n",
       "1      5/21/2012   36.529999   36.660000   33.000000   34.029999   34.029999   \n",
       "2      5/22/2012   32.610001   33.590000   30.940001   31.000000   31.000000   \n",
       "3      5/23/2012   31.370001   32.500000   31.360001   32.000000   32.000000   \n",
       "4      5/24/2012   32.950001   33.209999   31.770000   33.029999   33.029999   \n",
       "...          ...         ...         ...         ...         ...         ...   \n",
       "2374  10/25/2021  320.299988  329.559998  319.720001  328.690002  328.690002   \n",
       "2375  10/26/2021  328.260010  330.209991  309.600006  315.809998  315.809998   \n",
       "2376  10/27/2021  314.190002  319.250000  312.059998  312.220001  312.220001   \n",
       "2377  10/28/2021  312.989990  325.519989  308.109985  316.920013  316.920013   \n",
       "2378  10/29/2021  320.190002  326.000000  319.600006  323.570007  323.570007   \n",
       "\n",
       "         Volume  \n",
       "0     573576400  \n",
       "1     168192700  \n",
       "2     101786600  \n",
       "3      73600000  \n",
       "4      50237200  \n",
       "...         ...  \n",
       "2374   38409000  \n",
       "2375   65654000  \n",
       "2376   29971800  \n",
       "2377   50806800  \n",
       "2378   37027000  \n",
       "\n",
       "[2379 rows x 7 columns]"
      ]
     },
     "execution_count": 5,
     "metadata": {},
     "output_type": "execute_result"
    }
   ],
   "source": [
    "data = get_data(\"FB\")\n",
    "data"
   ]
  },
  {
   "cell_type": "code",
   "execution_count": 6,
   "metadata": {},
   "outputs": [
    {
     "data": {
      "text/plain": [
       "Date          object\n",
       "Open         float64\n",
       "High         float64\n",
       "Low          float64\n",
       "Close        float64\n",
       "Adj Close    float64\n",
       "Volume         int64\n",
       "dtype: object"
      ]
     },
     "execution_count": 6,
     "metadata": {},
     "output_type": "execute_result"
    }
   ],
   "source": [
    "data.dtypes"
   ]
  },
  {
   "cell_type": "code",
   "execution_count": 7,
   "metadata": {},
   "outputs": [
    {
     "data": {
      "text/plain": [
       "Date         False\n",
       "Open         False\n",
       "High         False\n",
       "Low          False\n",
       "Close        False\n",
       "Adj Close    False\n",
       "Volume       False\n",
       "dtype: bool"
      ]
     },
     "execution_count": 7,
     "metadata": {},
     "output_type": "execute_result"
    }
   ],
   "source": [
    "data.isna().any()"
   ]
  },
  {
   "cell_type": "code",
   "execution_count": 8,
   "metadata": {},
   "outputs": [
    {
     "data": {
      "text/html": [
       "<div>\n",
       "<style scoped>\n",
       "    .dataframe tbody tr th:only-of-type {\n",
       "        vertical-align: middle;\n",
       "    }\n",
       "\n",
       "    .dataframe tbody tr th {\n",
       "        vertical-align: top;\n",
       "    }\n",
       "\n",
       "    .dataframe thead th {\n",
       "        text-align: right;\n",
       "    }\n",
       "</style>\n",
       "<table border=\"1\" class=\"dataframe\">\n",
       "  <thead>\n",
       "    <tr style=\"text-align: right;\">\n",
       "      <th></th>\n",
       "    </tr>\n",
       "  </thead>\n",
       "  <tbody>\n",
       "    <tr>\n",
       "      <th>0</th>\n",
       "    </tr>\n",
       "    <tr>\n",
       "      <th>1</th>\n",
       "    </tr>\n",
       "    <tr>\n",
       "      <th>2</th>\n",
       "    </tr>\n",
       "    <tr>\n",
       "      <th>3</th>\n",
       "    </tr>\n",
       "    <tr>\n",
       "      <th>4</th>\n",
       "    </tr>\n",
       "    <tr>\n",
       "      <th>...</th>\n",
       "    </tr>\n",
       "    <tr>\n",
       "      <th>2374</th>\n",
       "    </tr>\n",
       "    <tr>\n",
       "      <th>2375</th>\n",
       "    </tr>\n",
       "    <tr>\n",
       "      <th>2376</th>\n",
       "    </tr>\n",
       "    <tr>\n",
       "      <th>2377</th>\n",
       "    </tr>\n",
       "    <tr>\n",
       "      <th>2378</th>\n",
       "    </tr>\n",
       "  </tbody>\n",
       "</table>\n",
       "<p>2379 rows × 0 columns</p>\n",
       "</div>"
      ],
      "text/plain": [
       "Empty DataFrame\n",
       "Columns: []\n",
       "Index: [0, 1, 2, 3, 4, 5, 6, 7, 8, 9, 10, 11, 12, 13, 14, 15, 16, 17, 18, 19, 20, 21, 22, 23, 24, 25, 26, 27, 28, 29, 30, 31, 32, 33, 34, 35, 36, 37, 38, 39, 40, 41, 42, 43, 44, 45, 46, 47, 48, 49, 50, 51, 52, 53, 54, 55, 56, 57, 58, 59, 60, 61, 62, 63, 64, 65, 66, 67, 68, 69, 70, 71, 72, 73, 74, 75, 76, 77, 78, 79, 80, 81, 82, 83, 84, 85, 86, 87, 88, 89, 90, 91, 92, 93, 94, 95, 96, 97, 98, 99, ...]\n",
       "\n",
       "[2379 rows x 0 columns]"
      ]
     },
     "execution_count": 8,
     "metadata": {},
     "output_type": "execute_result"
    }
   ],
   "source": [
    "data[data.columns[data.isna().any()]]"
   ]
  },
  {
   "cell_type": "code",
   "execution_count": 9,
   "metadata": {},
   "outputs": [
    {
     "name": "stdout",
     "output_type": "stream",
     "text": [
      "            Date        Open        High         Low       Close   Adj Close  \\\n",
      "0      5/18/2012   42.049999   45.000000   38.000000   38.230000   38.230000   \n",
      "1      5/21/2012   36.529999   36.660000   33.000000   34.029999   34.029999   \n",
      "2      5/22/2012   32.610001   33.590000   30.940001   31.000000   31.000000   \n",
      "3      5/23/2012   31.370001   32.500000   31.360001   32.000000   32.000000   \n",
      "4      5/24/2012   32.950001   33.209999   31.770000   33.029999   33.029999   \n",
      "...          ...         ...         ...         ...         ...         ...   \n",
      "2374  10/25/2021  320.299988  329.559998  319.720001  328.690002  328.690002   \n",
      "2375  10/26/2021  328.260010  330.209991  309.600006  315.809998  315.809998   \n",
      "2376  10/27/2021  314.190002  319.250000  312.059998  312.220001  312.220001   \n",
      "2377  10/28/2021  312.989990  325.519989  308.109985  316.920013  316.920013   \n",
      "2378  10/29/2021  320.190002  326.000000  319.600006  323.570007  323.570007   \n",
      "\n",
      "         Volume  cond1  cond2  cond3  \n",
      "0     573576400  False  False  False  \n",
      "1     168192700  False  False  False  \n",
      "2     101786600  False  False  False  \n",
      "3      73600000  False  False  False  \n",
      "4      50237200  False  False  False  \n",
      "...         ...    ...    ...    ...  \n",
      "2374   38409000  False  False  False  \n",
      "2375   65654000  False  False  False  \n",
      "2376   29971800  False  False  False  \n",
      "2377   50806800  False  False  False  \n",
      "2378   37027000  False  False  False  \n",
      "\n",
      "[2379 rows x 10 columns]\n"
     ]
    }
   ],
   "source": [
    "cond1 = data.Date.isna() # aapl['Date'].isna()\n",
    "cond2 = data.Date.str.contains(r'^\\s*$', na=False)\n",
    "cond3 = data.Date == ''\n",
    "\n",
    "data_checked = data.assign(cond1= cond1, cond2= cond2, cond3= cond3)\n",
    "print (data_checked)"
   ]
  },
  {
   "cell_type": "code",
   "execution_count": 10,
   "metadata": {},
   "outputs": [],
   "source": [
    "def simple_moving_average_5(close):\n",
    "    return close.rolling(5, min_periods=1).mean()"
   ]
  },
  {
   "cell_type": "code",
   "execution_count": 11,
   "metadata": {},
   "outputs": [],
   "source": [
    "def simple_moving_average_10(close):\n",
    "    return close.rolling(10, min_periods=1).mean()"
   ]
  },
  {
   "cell_type": "code",
   "execution_count": 12,
   "metadata": {},
   "outputs": [],
   "source": [
    "def stochastic_k(high, low, close):\n",
    "    return (((close-low.rolling(14).min())/(high.rolling(14).max()-low.rolling(14).min()))*100)"
   ]
  },
  {
   "cell_type": "code",
   "execution_count": 13,
   "metadata": {},
   "outputs": [],
   "source": [
    "def stochastic_d(stochastic_k):\n",
    "    return stochastic_k.rolling(3,min_periods=1).mean()"
   ]
  },
  {
   "cell_type": "code",
   "execution_count": 14,
   "metadata": {},
   "outputs": [],
   "source": [
    "def larry_williams_r(high, low, close):\n",
    "    return (((high.rolling(14).max()-close)/(high.rolling(14).max()-low.rolling(14).min()))*100)"
   ]
  },
  {
   "cell_type": "code",
   "execution_count": 15,
   "metadata": {},
   "outputs": [],
   "source": [
    "def rate_of_change(close):\n",
    "    return ((close-close.shift(12))/close.shift(12))"
   ]
  },
  {
   "cell_type": "code",
   "execution_count": 16,
   "metadata": {},
   "outputs": [],
   "source": [
    "def price_volume_trend(close, volume):\n",
    "    return (((close-close.shift(1))/close.shift(1))*volume)"
   ]
  },
  {
   "cell_type": "code",
   "execution_count": 17,
   "metadata": {},
   "outputs": [],
   "source": [
    "def accumulation_distribution_oscillator(high, low, close):\n",
    "    return((high-close.shift(1))/(high-low))"
   ]
  },
  {
   "cell_type": "code",
   "execution_count": 18,
   "metadata": {},
   "outputs": [],
   "source": [
    "def weighted_moving_average_10(close):\n",
    "    return ((10*close+9*close.shift(1)+8*close.shift(2)+7*close.shift(3)\n",
    "             +6*close.shift(4)+5*close.shift(5)+4*close.shift(6)+3*close.shift(7)\n",
    "             +2*close.shift(8)+close.shift(9))/(10+9+8+7+6+5+4+3+2+1))"
   ]
  },
  {
   "cell_type": "code",
   "execution_count": 19,
   "metadata": {},
   "outputs": [],
   "source": [
    "def exponential_moving_average_12(close):\n",
    "    return (close.ewm(span=12, adjust=False).mean())"
   ]
  },
  {
   "cell_type": "code",
   "execution_count": 20,
   "metadata": {},
   "outputs": [],
   "source": [
    "def exponential_moving_average_26(close):\n",
    "    return (close.ewm(span=26, adjust=False).mean())"
   ]
  },
  {
   "cell_type": "code",
   "execution_count": 21,
   "metadata": {},
   "outputs": [],
   "source": [
    "def moving_average_convergence_divergence(ema_12, ema_26):\n",
    "    return (ema_12 - ema_26)"
   ]
  },
  {
   "cell_type": "code",
   "execution_count": 22,
   "metadata": {},
   "outputs": [],
   "source": [
    "def momentum(close):\n",
    "    return ((close/close.shift(14))*100)"
   ]
  },
  {
   "cell_type": "code",
   "execution_count": 23,
   "metadata": {},
   "outputs": [],
   "source": [
    "def change(close):\n",
    "    return (close.shift(-1) - close)"
   ]
  },
  {
   "cell_type": "code",
   "execution_count": 24,
   "metadata": {},
   "outputs": [],
   "source": [
    "def direction(change):\n",
    "    return (np.where(change>0, 1, 0))"
   ]
  },
  {
   "cell_type": "code",
   "execution_count": 25,
   "metadata": {},
   "outputs": [],
   "source": [
    "def relative_strength_index(direction):\n",
    "    return (100-(100/(1+(direction.rolling(14).sum()/14)/(14-direction.rolling(14).sum())/14)))"
   ]
  },
  {
   "cell_type": "code",
   "execution_count": 26,
   "metadata": {},
   "outputs": [],
   "source": [
    "def channel_commodity_index(df, ndays): \n",
    "    df['TP'] = (df['High'] + df['Low'] + df['Close']) / 3 \n",
    "    df['sma'] = df['TP'].rolling(ndays).mean()\n",
    "    df['mad'] = df['TP'].rolling(ndays).apply(lambda x: pd.Series(x).mad())\n",
    "    df['CCI'] = (df['TP'] - df['sma']) / (0.015 * df['mad']) \n",
    "    return df['CCI']"
   ]
  },
  {
   "cell_type": "code",
   "execution_count": 27,
   "metadata": {},
   "outputs": [],
   "source": [
    "def disparity_index(close):\n",
    "    return (((close - close.rolling(14).mean())/(close.rolling(14).mean()))*100)"
   ]
  },
  {
   "cell_type": "code",
   "execution_count": 28,
   "metadata": {},
   "outputs": [],
   "source": [
    "def get_adx(high, low, close, lookback):\n",
    "    plus_dm = high.diff()\n",
    "    minus_dm = low.diff()\n",
    "    plus_dm[plus_dm < 0] = 0\n",
    "    minus_dm[minus_dm > 0] = 0\n",
    "    \n",
    "    tr1 = pd.DataFrame(high - low)\n",
    "    tr2 = pd.DataFrame(abs(high - close.shift(1)))\n",
    "    tr3 = pd.DataFrame(abs(low - close.shift(1)))\n",
    "    frames = [tr1, tr2, tr3]\n",
    "    tr = pd.concat(frames, axis = 1, join = 'inner').max(axis = 1)\n",
    "    atr = tr.rolling(lookback).mean()\n",
    "    \n",
    "    plus_di = 100 * (plus_dm.ewm(alpha = 1/lookback).mean() / atr)\n",
    "    minus_di = abs(100 * (minus_dm.ewm(alpha = 1/lookback).mean() / atr))\n",
    "    dx = (abs(plus_di - minus_di) / abs(plus_di + minus_di)) * 100\n",
    "    adx = ((dx.shift(1) * (lookback - 1)) + dx) / lookback\n",
    "    adx_smooth = adx.ewm(alpha = 1/lookback).mean()\n",
    "    return adx_smooth"
   ]
  },
  {
   "cell_type": "code",
   "execution_count": 29,
   "metadata": {},
   "outputs": [],
   "source": [
    "def aroon(close):\n",
    "    return (ta.trend.AroonIndicator(close, 25, True).aroon_indicator())"
   ]
  },
  {
   "cell_type": "code",
   "execution_count": 30,
   "metadata": {},
   "outputs": [],
   "source": [
    "def compute_all_indicators(data):\n",
    "    data['SMA5'] = simple_moving_average_5(data['Close'])\n",
    "    data['SMA10'] = simple_moving_average_10(data['Close'])\n",
    "    data['StochasticK'] = stochastic_k(data['High'], data['Low'], data['Close'])\n",
    "    data['StochasticD'] = stochastic_d(data['StochasticK'])\n",
    "    data['LarryWilliamsR'] = larry_williams_r(data['High'], data['Low'], data['Close'])\n",
    "    data['ROC'] = rate_of_change(data['Close'])\n",
    "    data['PVT'] = price_volume_trend(data['Close'], data['Volume'])\n",
    "    data['ADO'] = accumulation_distribution_oscillator(data['High'], data['Low'], data['Close'])\n",
    "    data['WMA10'] = weighted_moving_average_10(data['Close'])\n",
    "    data['EMA12'] = exponential_moving_average_12(data['Close'])\n",
    "    data['EMA26'] = exponential_moving_average_26(data['Close'])\n",
    "    data['MACD'] = moving_average_convergence_divergence(data['EMA12'], data['EMA26'])\n",
    "    data['Momentum'] = momentum(data['Close'])\n",
    "    data['Change'] = change(data['Close'])\n",
    "    data['Direction'] = direction(data['Change'])\n",
    "    data['RSI'] = relative_strength_index(data['Direction'])\n",
    "    data['CCI'] = channel_commodity_index(data, 14)\n",
    "    data['DI'] = disparity_index(data['Close'])\n",
    "    data['ADX'] = get_adx(data['High'], data['Low'], data['Close'], 14)\n",
    "    data['Aroon'] = aroon(data['Close'])    \n",
    "    return data"
   ]
  },
  {
   "cell_type": "code",
   "execution_count": 31,
   "metadata": {},
   "outputs": [
    {
     "data": {
      "text/html": [
       "<div>\n",
       "<style scoped>\n",
       "    .dataframe tbody tr th:only-of-type {\n",
       "        vertical-align: middle;\n",
       "    }\n",
       "\n",
       "    .dataframe tbody tr th {\n",
       "        vertical-align: top;\n",
       "    }\n",
       "\n",
       "    .dataframe thead th {\n",
       "        text-align: right;\n",
       "    }\n",
       "</style>\n",
       "<table border=\"1\" class=\"dataframe\">\n",
       "  <thead>\n",
       "    <tr style=\"text-align: right;\">\n",
       "      <th></th>\n",
       "      <th>Date</th>\n",
       "      <th>Open</th>\n",
       "      <th>High</th>\n",
       "      <th>Low</th>\n",
       "      <th>Close</th>\n",
       "      <th>Adj Close</th>\n",
       "      <th>Volume</th>\n",
       "      <th>SMA5</th>\n",
       "      <th>SMA10</th>\n",
       "      <th>StochasticK</th>\n",
       "      <th>...</th>\n",
       "      <th>Change</th>\n",
       "      <th>Direction</th>\n",
       "      <th>RSI</th>\n",
       "      <th>TP</th>\n",
       "      <th>sma</th>\n",
       "      <th>mad</th>\n",
       "      <th>CCI</th>\n",
       "      <th>DI</th>\n",
       "      <th>ADX</th>\n",
       "      <th>Aroon</th>\n",
       "    </tr>\n",
       "  </thead>\n",
       "  <tbody>\n",
       "    <tr>\n",
       "      <th>0</th>\n",
       "      <td>5/18/2012</td>\n",
       "      <td>42.049999</td>\n",
       "      <td>45.000000</td>\n",
       "      <td>38.000000</td>\n",
       "      <td>38.230000</td>\n",
       "      <td>38.230000</td>\n",
       "      <td>573576400</td>\n",
       "      <td>38.230000</td>\n",
       "      <td>38.230000</td>\n",
       "      <td>NaN</td>\n",
       "      <td>...</td>\n",
       "      <td>-4.200001</td>\n",
       "      <td>0</td>\n",
       "      <td>NaN</td>\n",
       "      <td>40.410000</td>\n",
       "      <td>NaN</td>\n",
       "      <td>NaN</td>\n",
       "      <td>NaN</td>\n",
       "      <td>NaN</td>\n",
       "      <td>NaN</td>\n",
       "      <td>0.0</td>\n",
       "    </tr>\n",
       "    <tr>\n",
       "      <th>1</th>\n",
       "      <td>5/21/2012</td>\n",
       "      <td>36.529999</td>\n",
       "      <td>36.660000</td>\n",
       "      <td>33.000000</td>\n",
       "      <td>34.029999</td>\n",
       "      <td>34.029999</td>\n",
       "      <td>168192700</td>\n",
       "      <td>36.129999</td>\n",
       "      <td>36.129999</td>\n",
       "      <td>NaN</td>\n",
       "      <td>...</td>\n",
       "      <td>-3.029999</td>\n",
       "      <td>0</td>\n",
       "      <td>NaN</td>\n",
       "      <td>34.563333</td>\n",
       "      <td>NaN</td>\n",
       "      <td>NaN</td>\n",
       "      <td>NaN</td>\n",
       "      <td>NaN</td>\n",
       "      <td>NaN</td>\n",
       "      <td>-4.0</td>\n",
       "    </tr>\n",
       "    <tr>\n",
       "      <th>2</th>\n",
       "      <td>5/22/2012</td>\n",
       "      <td>32.610001</td>\n",
       "      <td>33.590000</td>\n",
       "      <td>30.940001</td>\n",
       "      <td>31.000000</td>\n",
       "      <td>31.000000</td>\n",
       "      <td>101786600</td>\n",
       "      <td>34.420000</td>\n",
       "      <td>34.420000</td>\n",
       "      <td>NaN</td>\n",
       "      <td>...</td>\n",
       "      <td>1.000000</td>\n",
       "      <td>1</td>\n",
       "      <td>NaN</td>\n",
       "      <td>31.843334</td>\n",
       "      <td>NaN</td>\n",
       "      <td>NaN</td>\n",
       "      <td>NaN</td>\n",
       "      <td>NaN</td>\n",
       "      <td>NaN</td>\n",
       "      <td>-8.0</td>\n",
       "    </tr>\n",
       "    <tr>\n",
       "      <th>3</th>\n",
       "      <td>5/23/2012</td>\n",
       "      <td>31.370001</td>\n",
       "      <td>32.500000</td>\n",
       "      <td>31.360001</td>\n",
       "      <td>32.000000</td>\n",
       "      <td>32.000000</td>\n",
       "      <td>73600000</td>\n",
       "      <td>33.815000</td>\n",
       "      <td>33.815000</td>\n",
       "      <td>NaN</td>\n",
       "      <td>...</td>\n",
       "      <td>1.029999</td>\n",
       "      <td>1</td>\n",
       "      <td>NaN</td>\n",
       "      <td>31.953334</td>\n",
       "      <td>NaN</td>\n",
       "      <td>NaN</td>\n",
       "      <td>NaN</td>\n",
       "      <td>NaN</td>\n",
       "      <td>NaN</td>\n",
       "      <td>-8.0</td>\n",
       "    </tr>\n",
       "    <tr>\n",
       "      <th>4</th>\n",
       "      <td>5/24/2012</td>\n",
       "      <td>32.950001</td>\n",
       "      <td>33.209999</td>\n",
       "      <td>31.770000</td>\n",
       "      <td>33.029999</td>\n",
       "      <td>33.029999</td>\n",
       "      <td>50237200</td>\n",
       "      <td>33.658000</td>\n",
       "      <td>33.658000</td>\n",
       "      <td>NaN</td>\n",
       "      <td>...</td>\n",
       "      <td>-1.119999</td>\n",
       "      <td>0</td>\n",
       "      <td>NaN</td>\n",
       "      <td>32.669999</td>\n",
       "      <td>NaN</td>\n",
       "      <td>NaN</td>\n",
       "      <td>NaN</td>\n",
       "      <td>NaN</td>\n",
       "      <td>NaN</td>\n",
       "      <td>-8.0</td>\n",
       "    </tr>\n",
       "    <tr>\n",
       "      <th>...</th>\n",
       "      <td>...</td>\n",
       "      <td>...</td>\n",
       "      <td>...</td>\n",
       "      <td>...</td>\n",
       "      <td>...</td>\n",
       "      <td>...</td>\n",
       "      <td>...</td>\n",
       "      <td>...</td>\n",
       "      <td>...</td>\n",
       "      <td>...</td>\n",
       "      <td>...</td>\n",
       "      <td>...</td>\n",
       "      <td>...</td>\n",
       "      <td>...</td>\n",
       "      <td>...</td>\n",
       "      <td>...</td>\n",
       "      <td>...</td>\n",
       "      <td>...</td>\n",
       "      <td>...</td>\n",
       "      <td>...</td>\n",
       "      <td>...</td>\n",
       "    </tr>\n",
       "    <tr>\n",
       "      <th>2374</th>\n",
       "      <td>10/25/2021</td>\n",
       "      <td>320.299988</td>\n",
       "      <td>329.559998</td>\n",
       "      <td>319.720001</td>\n",
       "      <td>328.690002</td>\n",
       "      <td>328.690002</td>\n",
       "      <td>38409000</td>\n",
       "      <td>335.189996</td>\n",
       "      <td>331.288998</td>\n",
       "      <td>42.540399</td>\n",
       "      <td>...</td>\n",
       "      <td>-12.880004</td>\n",
       "      <td>0</td>\n",
       "      <td>0.675676</td>\n",
       "      <td>325.990000</td>\n",
       "      <td>330.581667</td>\n",
       "      <td>5.022143</td>\n",
       "      <td>-60.952286</td>\n",
       "      <td>-0.638920</td>\n",
       "      <td>32.451445</td>\n",
       "      <td>-60.0</td>\n",
       "    </tr>\n",
       "    <tr>\n",
       "      <th>2375</th>\n",
       "      <td>10/26/2021</td>\n",
       "      <td>328.260010</td>\n",
       "      <td>330.209991</td>\n",
       "      <td>309.600006</td>\n",
       "      <td>315.809998</td>\n",
       "      <td>315.809998</td>\n",
       "      <td>65654000</td>\n",
       "      <td>330.353998</td>\n",
       "      <td>330.492999</td>\n",
       "      <td>18.062801</td>\n",
       "      <td>...</td>\n",
       "      <td>-3.589997</td>\n",
       "      <td>0</td>\n",
       "      <td>0.675676</td>\n",
       "      <td>318.539998</td>\n",
       "      <td>329.672142</td>\n",
       "      <td>5.702925</td>\n",
       "      <td>-130.133739</td>\n",
       "      <td>-4.163506</td>\n",
       "      <td>32.635555</td>\n",
       "      <td>-84.0</td>\n",
       "    </tr>\n",
       "    <tr>\n",
       "      <th>2376</th>\n",
       "      <td>10/27/2021</td>\n",
       "      <td>314.190002</td>\n",
       "      <td>319.250000</td>\n",
       "      <td>312.059998</td>\n",
       "      <td>312.220001</td>\n",
       "      <td>312.220001</td>\n",
       "      <td>29971800</td>\n",
       "      <td>324.641998</td>\n",
       "      <td>329.260999</td>\n",
       "      <td>7.620694</td>\n",
       "      <td>...</td>\n",
       "      <td>4.700012</td>\n",
       "      <td>1</td>\n",
       "      <td>0.675676</td>\n",
       "      <td>314.510000</td>\n",
       "      <td>328.398095</td>\n",
       "      <td>6.276394</td>\n",
       "      <td>-147.516715</td>\n",
       "      <td>-4.902510</td>\n",
       "      <td>33.349941</td>\n",
       "      <td>-88.0</td>\n",
       "    </tr>\n",
       "    <tr>\n",
       "      <th>2377</th>\n",
       "      <td>10/28/2021</td>\n",
       "      <td>312.989990</td>\n",
       "      <td>325.519989</td>\n",
       "      <td>308.109985</td>\n",
       "      <td>316.920013</td>\n",
       "      <td>316.920013</td>\n",
       "      <td>50806800</td>\n",
       "      <td>319.650000</td>\n",
       "      <td>328.100000</td>\n",
       "      <td>24.560975</td>\n",
       "      <td>...</td>\n",
       "      <td>6.649994</td>\n",
       "      <td>1</td>\n",
       "      <td>0.910010</td>\n",
       "      <td>316.849996</td>\n",
       "      <td>327.407381</td>\n",
       "      <td>6.652347</td>\n",
       "      <td>-105.801103</td>\n",
       "      <td>-3.194426</td>\n",
       "      <td>33.965208</td>\n",
       "      <td>-88.0</td>\n",
       "    </tr>\n",
       "    <tr>\n",
       "      <th>2378</th>\n",
       "      <td>10/29/2021</td>\n",
       "      <td>320.190002</td>\n",
       "      <td>326.000000</td>\n",
       "      <td>319.600006</td>\n",
       "      <td>323.570007</td>\n",
       "      <td>323.570007</td>\n",
       "      <td>37027000</td>\n",
       "      <td>319.442004</td>\n",
       "      <td>327.981000</td>\n",
       "      <td>43.100114</td>\n",
       "      <td>...</td>\n",
       "      <td>NaN</td>\n",
       "      <td>0</td>\n",
       "      <td>0.910010</td>\n",
       "      <td>323.056671</td>\n",
       "      <td>327.120476</td>\n",
       "      <td>6.857279</td>\n",
       "      <td>-39.508433</td>\n",
       "      <td>-1.122578</td>\n",
       "      <td>33.906420</td>\n",
       "      <td>-88.0</td>\n",
       "    </tr>\n",
       "  </tbody>\n",
       "</table>\n",
       "<p>2379 rows × 30 columns</p>\n",
       "</div>"
      ],
      "text/plain": [
       "            Date        Open        High         Low       Close   Adj Close  \\\n",
       "0      5/18/2012   42.049999   45.000000   38.000000   38.230000   38.230000   \n",
       "1      5/21/2012   36.529999   36.660000   33.000000   34.029999   34.029999   \n",
       "2      5/22/2012   32.610001   33.590000   30.940001   31.000000   31.000000   \n",
       "3      5/23/2012   31.370001   32.500000   31.360001   32.000000   32.000000   \n",
       "4      5/24/2012   32.950001   33.209999   31.770000   33.029999   33.029999   \n",
       "...          ...         ...         ...         ...         ...         ...   \n",
       "2374  10/25/2021  320.299988  329.559998  319.720001  328.690002  328.690002   \n",
       "2375  10/26/2021  328.260010  330.209991  309.600006  315.809998  315.809998   \n",
       "2376  10/27/2021  314.190002  319.250000  312.059998  312.220001  312.220001   \n",
       "2377  10/28/2021  312.989990  325.519989  308.109985  316.920013  316.920013   \n",
       "2378  10/29/2021  320.190002  326.000000  319.600006  323.570007  323.570007   \n",
       "\n",
       "         Volume        SMA5       SMA10  StochasticK  ...     Change  \\\n",
       "0     573576400   38.230000   38.230000          NaN  ...  -4.200001   \n",
       "1     168192700   36.129999   36.129999          NaN  ...  -3.029999   \n",
       "2     101786600   34.420000   34.420000          NaN  ...   1.000000   \n",
       "3      73600000   33.815000   33.815000          NaN  ...   1.029999   \n",
       "4      50237200   33.658000   33.658000          NaN  ...  -1.119999   \n",
       "...         ...         ...         ...          ...  ...        ...   \n",
       "2374   38409000  335.189996  331.288998    42.540399  ... -12.880004   \n",
       "2375   65654000  330.353998  330.492999    18.062801  ...  -3.589997   \n",
       "2376   29971800  324.641998  329.260999     7.620694  ...   4.700012   \n",
       "2377   50806800  319.650000  328.100000    24.560975  ...   6.649994   \n",
       "2378   37027000  319.442004  327.981000    43.100114  ...        NaN   \n",
       "\n",
       "      Direction       RSI          TP         sma       mad         CCI  \\\n",
       "0             0       NaN   40.410000         NaN       NaN         NaN   \n",
       "1             0       NaN   34.563333         NaN       NaN         NaN   \n",
       "2             1       NaN   31.843334         NaN       NaN         NaN   \n",
       "3             1       NaN   31.953334         NaN       NaN         NaN   \n",
       "4             0       NaN   32.669999         NaN       NaN         NaN   \n",
       "...         ...       ...         ...         ...       ...         ...   \n",
       "2374          0  0.675676  325.990000  330.581667  5.022143  -60.952286   \n",
       "2375          0  0.675676  318.539998  329.672142  5.702925 -130.133739   \n",
       "2376          1  0.675676  314.510000  328.398095  6.276394 -147.516715   \n",
       "2377          1  0.910010  316.849996  327.407381  6.652347 -105.801103   \n",
       "2378          0  0.910010  323.056671  327.120476  6.857279  -39.508433   \n",
       "\n",
       "            DI        ADX  Aroon  \n",
       "0          NaN        NaN    0.0  \n",
       "1          NaN        NaN   -4.0  \n",
       "2          NaN        NaN   -8.0  \n",
       "3          NaN        NaN   -8.0  \n",
       "4          NaN        NaN   -8.0  \n",
       "...        ...        ...    ...  \n",
       "2374 -0.638920  32.451445  -60.0  \n",
       "2375 -4.163506  32.635555  -84.0  \n",
       "2376 -4.902510  33.349941  -88.0  \n",
       "2377 -3.194426  33.965208  -88.0  \n",
       "2378 -1.122578  33.906420  -88.0  \n",
       "\n",
       "[2379 rows x 30 columns]"
      ]
     },
     "execution_count": 31,
     "metadata": {},
     "output_type": "execute_result"
    }
   ],
   "source": [
    "complete_data = compute_all_indicators(data)\n",
    "complete_data"
   ]
  },
  {
   "cell_type": "code",
   "execution_count": 32,
   "metadata": {},
   "outputs": [],
   "source": [
    "complete_data = complete_data.dropna()"
   ]
  },
  {
   "cell_type": "code",
   "execution_count": 33,
   "metadata": {},
   "outputs": [
    {
     "data": {
      "text/html": [
       "<div>\n",
       "<style scoped>\n",
       "    .dataframe tbody tr th:only-of-type {\n",
       "        vertical-align: middle;\n",
       "    }\n",
       "\n",
       "    .dataframe tbody tr th {\n",
       "        vertical-align: top;\n",
       "    }\n",
       "\n",
       "    .dataframe thead th {\n",
       "        text-align: right;\n",
       "    }\n",
       "</style>\n",
       "<table border=\"1\" class=\"dataframe\">\n",
       "  <thead>\n",
       "    <tr style=\"text-align: right;\">\n",
       "      <th></th>\n",
       "      <th>Date</th>\n",
       "      <th>Open</th>\n",
       "      <th>High</th>\n",
       "      <th>Low</th>\n",
       "      <th>Close</th>\n",
       "      <th>Adj Close</th>\n",
       "      <th>Volume</th>\n",
       "      <th>SMA5</th>\n",
       "      <th>SMA10</th>\n",
       "      <th>StochasticK</th>\n",
       "      <th>...</th>\n",
       "      <th>Change</th>\n",
       "      <th>Direction</th>\n",
       "      <th>RSI</th>\n",
       "      <th>TP</th>\n",
       "      <th>sma</th>\n",
       "      <th>mad</th>\n",
       "      <th>CCI</th>\n",
       "      <th>DI</th>\n",
       "      <th>ADX</th>\n",
       "      <th>Aroon</th>\n",
       "    </tr>\n",
       "  </thead>\n",
       "  <tbody>\n",
       "    <tr>\n",
       "      <th>14</th>\n",
       "      <td>6/8/2012</td>\n",
       "      <td>26.549999</td>\n",
       "      <td>27.760000</td>\n",
       "      <td>26.440001</td>\n",
       "      <td>27.100000</td>\n",
       "      <td>27.100000</td>\n",
       "      <td>38034000</td>\n",
       "      <td>26.598000</td>\n",
       "      <td>27.925000</td>\n",
       "      <td>14.183124</td>\n",
       "      <td>...</td>\n",
       "      <td>-0.090000</td>\n",
       "      <td>0</td>\n",
       "      <td>0.282646</td>\n",
       "      <td>27.100000</td>\n",
       "      <td>29.409048</td>\n",
       "      <td>2.327483</td>\n",
       "      <td>-66.138608</td>\n",
       "      <td>-7.307419</td>\n",
       "      <td>81.950354</td>\n",
       "      <td>-44.0</td>\n",
       "    </tr>\n",
       "    <tr>\n",
       "      <th>15</th>\n",
       "      <td>6/11/2012</td>\n",
       "      <td>27.180000</td>\n",
       "      <td>28.070000</td>\n",
       "      <td>26.840000</td>\n",
       "      <td>27.010000</td>\n",
       "      <td>27.010000</td>\n",
       "      <td>28219600</td>\n",
       "      <td>26.620000</td>\n",
       "      <td>27.435000</td>\n",
       "      <td>18.463445</td>\n",
       "      <td>...</td>\n",
       "      <td>0.390000</td>\n",
       "      <td>1</td>\n",
       "      <td>0.381194</td>\n",
       "      <td>27.306667</td>\n",
       "      <td>28.890714</td>\n",
       "      <td>1.961395</td>\n",
       "      <td>-53.840862</td>\n",
       "      <td>-6.003132</td>\n",
       "      <td>77.257952</td>\n",
       "      <td>-44.0</td>\n",
       "    </tr>\n",
       "    <tr>\n",
       "      <th>16</th>\n",
       "      <td>6/12/2012</td>\n",
       "      <td>27.480000</td>\n",
       "      <td>27.770000</td>\n",
       "      <td>26.959999</td>\n",
       "      <td>27.400000</td>\n",
       "      <td>27.400000</td>\n",
       "      <td>15816800</td>\n",
       "      <td>26.926000</td>\n",
       "      <td>27.291000</td>\n",
       "      <td>24.447337</td>\n",
       "      <td>...</td>\n",
       "      <td>-0.130000</td>\n",
       "      <td>0</td>\n",
       "      <td>0.282646</td>\n",
       "      <td>27.376666</td>\n",
       "      <td>28.571667</td>\n",
       "      <td>1.740238</td>\n",
       "      <td>-45.779188</td>\n",
       "      <td>-3.784895</td>\n",
       "      <td>73.418742</td>\n",
       "      <td>-44.0</td>\n",
       "    </tr>\n",
       "    <tr>\n",
       "      <th>17</th>\n",
       "      <td>6/13/2012</td>\n",
       "      <td>27.660000</td>\n",
       "      <td>28.100000</td>\n",
       "      <td>27.100000</td>\n",
       "      <td>27.270000</td>\n",
       "      <td>27.270000</td>\n",
       "      <td>17102800</td>\n",
       "      <td>27.018000</td>\n",
       "      <td>27.199000</td>\n",
       "      <td>22.756830</td>\n",
       "      <td>...</td>\n",
       "      <td>1.020001</td>\n",
       "      <td>1</td>\n",
       "      <td>0.282646</td>\n",
       "      <td>27.490000</td>\n",
       "      <td>28.252857</td>\n",
       "      <td>1.479388</td>\n",
       "      <td>-34.377153</td>\n",
       "      <td>-3.091684</td>\n",
       "      <td>71.350434</td>\n",
       "      <td>-44.0</td>\n",
       "    </tr>\n",
       "    <tr>\n",
       "      <th>18</th>\n",
       "      <td>6/14/2012</td>\n",
       "      <td>27.650000</td>\n",
       "      <td>28.320000</td>\n",
       "      <td>27.379999</td>\n",
       "      <td>28.290001</td>\n",
       "      <td>28.290001</td>\n",
       "      <td>16855000</td>\n",
       "      <td>27.414000</td>\n",
       "      <td>27.068000</td>\n",
       "      <td>37.281301</td>\n",
       "      <td>...</td>\n",
       "      <td>1.719999</td>\n",
       "      <td>1</td>\n",
       "      <td>0.381194</td>\n",
       "      <td>27.996667</td>\n",
       "      <td>27.919048</td>\n",
       "      <td>1.074150</td>\n",
       "      <td>4.817392</td>\n",
       "      <td>1.757364</td>\n",
       "      <td>68.371248</td>\n",
       "      <td>-44.0</td>\n",
       "    </tr>\n",
       "    <tr>\n",
       "      <th>...</th>\n",
       "      <td>...</td>\n",
       "      <td>...</td>\n",
       "      <td>...</td>\n",
       "      <td>...</td>\n",
       "      <td>...</td>\n",
       "      <td>...</td>\n",
       "      <td>...</td>\n",
       "      <td>...</td>\n",
       "      <td>...</td>\n",
       "      <td>...</td>\n",
       "      <td>...</td>\n",
       "      <td>...</td>\n",
       "      <td>...</td>\n",
       "      <td>...</td>\n",
       "      <td>...</td>\n",
       "      <td>...</td>\n",
       "      <td>...</td>\n",
       "      <td>...</td>\n",
       "      <td>...</td>\n",
       "      <td>...</td>\n",
       "      <td>...</td>\n",
       "    </tr>\n",
       "    <tr>\n",
       "      <th>2373</th>\n",
       "      <td>10/22/2021</td>\n",
       "      <td>326.350006</td>\n",
       "      <td>329.630005</td>\n",
       "      <td>321.109985</td>\n",
       "      <td>324.609985</td>\n",
       "      <td>324.609985</td>\n",
       "      <td>35152700</td>\n",
       "      <td>336.519995</td>\n",
       "      <td>330.964999</td>\n",
       "      <td>27.207763</td>\n",
       "      <td>...</td>\n",
       "      <td>4.080017</td>\n",
       "      <td>1</td>\n",
       "      <td>0.910010</td>\n",
       "      <td>325.116658</td>\n",
       "      <td>330.970476</td>\n",
       "      <td>4.735239</td>\n",
       "      <td>-82.414952</td>\n",
       "      <td>-1.962675</td>\n",
       "      <td>32.401953</td>\n",
       "      <td>-60.0</td>\n",
       "    </tr>\n",
       "    <tr>\n",
       "      <th>2374</th>\n",
       "      <td>10/25/2021</td>\n",
       "      <td>320.299988</td>\n",
       "      <td>329.559998</td>\n",
       "      <td>319.720001</td>\n",
       "      <td>328.690002</td>\n",
       "      <td>328.690002</td>\n",
       "      <td>38409000</td>\n",
       "      <td>335.189996</td>\n",
       "      <td>331.288998</td>\n",
       "      <td>42.540399</td>\n",
       "      <td>...</td>\n",
       "      <td>-12.880004</td>\n",
       "      <td>0</td>\n",
       "      <td>0.675676</td>\n",
       "      <td>325.990000</td>\n",
       "      <td>330.581667</td>\n",
       "      <td>5.022143</td>\n",
       "      <td>-60.952286</td>\n",
       "      <td>-0.638920</td>\n",
       "      <td>32.451445</td>\n",
       "      <td>-60.0</td>\n",
       "    </tr>\n",
       "    <tr>\n",
       "      <th>2375</th>\n",
       "      <td>10/26/2021</td>\n",
       "      <td>328.260010</td>\n",
       "      <td>330.209991</td>\n",
       "      <td>309.600006</td>\n",
       "      <td>315.809998</td>\n",
       "      <td>315.809998</td>\n",
       "      <td>65654000</td>\n",
       "      <td>330.353998</td>\n",
       "      <td>330.492999</td>\n",
       "      <td>18.062801</td>\n",
       "      <td>...</td>\n",
       "      <td>-3.589997</td>\n",
       "      <td>0</td>\n",
       "      <td>0.675676</td>\n",
       "      <td>318.539998</td>\n",
       "      <td>329.672142</td>\n",
       "      <td>5.702925</td>\n",
       "      <td>-130.133739</td>\n",
       "      <td>-4.163506</td>\n",
       "      <td>32.635555</td>\n",
       "      <td>-84.0</td>\n",
       "    </tr>\n",
       "    <tr>\n",
       "      <th>2376</th>\n",
       "      <td>10/27/2021</td>\n",
       "      <td>314.190002</td>\n",
       "      <td>319.250000</td>\n",
       "      <td>312.059998</td>\n",
       "      <td>312.220001</td>\n",
       "      <td>312.220001</td>\n",
       "      <td>29971800</td>\n",
       "      <td>324.641998</td>\n",
       "      <td>329.260999</td>\n",
       "      <td>7.620694</td>\n",
       "      <td>...</td>\n",
       "      <td>4.700012</td>\n",
       "      <td>1</td>\n",
       "      <td>0.675676</td>\n",
       "      <td>314.510000</td>\n",
       "      <td>328.398095</td>\n",
       "      <td>6.276394</td>\n",
       "      <td>-147.516715</td>\n",
       "      <td>-4.902510</td>\n",
       "      <td>33.349941</td>\n",
       "      <td>-88.0</td>\n",
       "    </tr>\n",
       "    <tr>\n",
       "      <th>2377</th>\n",
       "      <td>10/28/2021</td>\n",
       "      <td>312.989990</td>\n",
       "      <td>325.519989</td>\n",
       "      <td>308.109985</td>\n",
       "      <td>316.920013</td>\n",
       "      <td>316.920013</td>\n",
       "      <td>50806800</td>\n",
       "      <td>319.650000</td>\n",
       "      <td>328.100000</td>\n",
       "      <td>24.560975</td>\n",
       "      <td>...</td>\n",
       "      <td>6.649994</td>\n",
       "      <td>1</td>\n",
       "      <td>0.910010</td>\n",
       "      <td>316.849996</td>\n",
       "      <td>327.407381</td>\n",
       "      <td>6.652347</td>\n",
       "      <td>-105.801103</td>\n",
       "      <td>-3.194426</td>\n",
       "      <td>33.965208</td>\n",
       "      <td>-88.0</td>\n",
       "    </tr>\n",
       "  </tbody>\n",
       "</table>\n",
       "<p>2364 rows × 30 columns</p>\n",
       "</div>"
      ],
      "text/plain": [
       "            Date        Open        High         Low       Close   Adj Close  \\\n",
       "14      6/8/2012   26.549999   27.760000   26.440001   27.100000   27.100000   \n",
       "15     6/11/2012   27.180000   28.070000   26.840000   27.010000   27.010000   \n",
       "16     6/12/2012   27.480000   27.770000   26.959999   27.400000   27.400000   \n",
       "17     6/13/2012   27.660000   28.100000   27.100000   27.270000   27.270000   \n",
       "18     6/14/2012   27.650000   28.320000   27.379999   28.290001   28.290001   \n",
       "...          ...         ...         ...         ...         ...         ...   \n",
       "2373  10/22/2021  326.350006  329.630005  321.109985  324.609985  324.609985   \n",
       "2374  10/25/2021  320.299988  329.559998  319.720001  328.690002  328.690002   \n",
       "2375  10/26/2021  328.260010  330.209991  309.600006  315.809998  315.809998   \n",
       "2376  10/27/2021  314.190002  319.250000  312.059998  312.220001  312.220001   \n",
       "2377  10/28/2021  312.989990  325.519989  308.109985  316.920013  316.920013   \n",
       "\n",
       "        Volume        SMA5       SMA10  StochasticK  ...     Change  \\\n",
       "14    38034000   26.598000   27.925000    14.183124  ...  -0.090000   \n",
       "15    28219600   26.620000   27.435000    18.463445  ...   0.390000   \n",
       "16    15816800   26.926000   27.291000    24.447337  ...  -0.130000   \n",
       "17    17102800   27.018000   27.199000    22.756830  ...   1.020001   \n",
       "18    16855000   27.414000   27.068000    37.281301  ...   1.719999   \n",
       "...        ...         ...         ...          ...  ...        ...   \n",
       "2373  35152700  336.519995  330.964999    27.207763  ...   4.080017   \n",
       "2374  38409000  335.189996  331.288998    42.540399  ... -12.880004   \n",
       "2375  65654000  330.353998  330.492999    18.062801  ...  -3.589997   \n",
       "2376  29971800  324.641998  329.260999     7.620694  ...   4.700012   \n",
       "2377  50806800  319.650000  328.100000    24.560975  ...   6.649994   \n",
       "\n",
       "      Direction       RSI          TP         sma       mad         CCI  \\\n",
       "14            0  0.282646   27.100000   29.409048  2.327483  -66.138608   \n",
       "15            1  0.381194   27.306667   28.890714  1.961395  -53.840862   \n",
       "16            0  0.282646   27.376666   28.571667  1.740238  -45.779188   \n",
       "17            1  0.282646   27.490000   28.252857  1.479388  -34.377153   \n",
       "18            1  0.381194   27.996667   27.919048  1.074150    4.817392   \n",
       "...         ...       ...         ...         ...       ...         ...   \n",
       "2373          1  0.910010  325.116658  330.970476  4.735239  -82.414952   \n",
       "2374          0  0.675676  325.990000  330.581667  5.022143  -60.952286   \n",
       "2375          0  0.675676  318.539998  329.672142  5.702925 -130.133739   \n",
       "2376          1  0.675676  314.510000  328.398095  6.276394 -147.516715   \n",
       "2377          1  0.910010  316.849996  327.407381  6.652347 -105.801103   \n",
       "\n",
       "            DI        ADX  Aroon  \n",
       "14   -7.307419  81.950354  -44.0  \n",
       "15   -6.003132  77.257952  -44.0  \n",
       "16   -3.784895  73.418742  -44.0  \n",
       "17   -3.091684  71.350434  -44.0  \n",
       "18    1.757364  68.371248  -44.0  \n",
       "...        ...        ...    ...  \n",
       "2373 -1.962675  32.401953  -60.0  \n",
       "2374 -0.638920  32.451445  -60.0  \n",
       "2375 -4.163506  32.635555  -84.0  \n",
       "2376 -4.902510  33.349941  -88.0  \n",
       "2377 -3.194426  33.965208  -88.0  \n",
       "\n",
       "[2364 rows x 30 columns]"
      ]
     },
     "execution_count": 33,
     "metadata": {},
     "output_type": "execute_result"
    }
   ],
   "source": [
    "complete_data"
   ]
  },
  {
   "cell_type": "code",
   "execution_count": 34,
   "metadata": {},
   "outputs": [],
   "source": [
    "complete_data = complete_data.drop(['TP', 'sma', 'mad', 'Change'], axis=1)"
   ]
  },
  {
   "cell_type": "code",
   "execution_count": 35,
   "metadata": {},
   "outputs": [
    {
     "data": {
      "text/html": [
       "<div>\n",
       "<style scoped>\n",
       "    .dataframe tbody tr th:only-of-type {\n",
       "        vertical-align: middle;\n",
       "    }\n",
       "\n",
       "    .dataframe tbody tr th {\n",
       "        vertical-align: top;\n",
       "    }\n",
       "\n",
       "    .dataframe thead th {\n",
       "        text-align: right;\n",
       "    }\n",
       "</style>\n",
       "<table border=\"1\" class=\"dataframe\">\n",
       "  <thead>\n",
       "    <tr style=\"text-align: right;\">\n",
       "      <th></th>\n",
       "      <th>Date</th>\n",
       "      <th>Open</th>\n",
       "      <th>High</th>\n",
       "      <th>Low</th>\n",
       "      <th>Close</th>\n",
       "      <th>Adj Close</th>\n",
       "      <th>Volume</th>\n",
       "      <th>SMA5</th>\n",
       "      <th>SMA10</th>\n",
       "      <th>StochasticK</th>\n",
       "      <th>...</th>\n",
       "      <th>EMA12</th>\n",
       "      <th>EMA26</th>\n",
       "      <th>MACD</th>\n",
       "      <th>Momentum</th>\n",
       "      <th>Direction</th>\n",
       "      <th>RSI</th>\n",
       "      <th>CCI</th>\n",
       "      <th>DI</th>\n",
       "      <th>ADX</th>\n",
       "      <th>Aroon</th>\n",
       "    </tr>\n",
       "  </thead>\n",
       "  <tbody>\n",
       "    <tr>\n",
       "      <th>14</th>\n",
       "      <td>6/8/2012</td>\n",
       "      <td>26.549999</td>\n",
       "      <td>27.760000</td>\n",
       "      <td>26.440001</td>\n",
       "      <td>27.100000</td>\n",
       "      <td>27.100000</td>\n",
       "      <td>38034000</td>\n",
       "      <td>26.598000</td>\n",
       "      <td>27.925000</td>\n",
       "      <td>14.183124</td>\n",
       "      <td>...</td>\n",
       "      <td>28.871771</td>\n",
       "      <td>31.839056</td>\n",
       "      <td>-2.967285</td>\n",
       "      <td>70.886738</td>\n",
       "      <td>0</td>\n",
       "      <td>0.282646</td>\n",
       "      <td>-66.138608</td>\n",
       "      <td>-7.307419</td>\n",
       "      <td>81.950354</td>\n",
       "      <td>-44.0</td>\n",
       "    </tr>\n",
       "    <tr>\n",
       "      <th>15</th>\n",
       "      <td>6/11/2012</td>\n",
       "      <td>27.180000</td>\n",
       "      <td>28.070000</td>\n",
       "      <td>26.840000</td>\n",
       "      <td>27.010000</td>\n",
       "      <td>27.010000</td>\n",
       "      <td>28219600</td>\n",
       "      <td>26.620000</td>\n",
       "      <td>27.435000</td>\n",
       "      <td>18.463445</td>\n",
       "      <td>...</td>\n",
       "      <td>28.585345</td>\n",
       "      <td>31.481348</td>\n",
       "      <td>-2.896003</td>\n",
       "      <td>79.371145</td>\n",
       "      <td>1</td>\n",
       "      <td>0.381194</td>\n",
       "      <td>-53.840862</td>\n",
       "      <td>-6.003132</td>\n",
       "      <td>77.257952</td>\n",
       "      <td>-44.0</td>\n",
       "    </tr>\n",
       "    <tr>\n",
       "      <th>16</th>\n",
       "      <td>6/12/2012</td>\n",
       "      <td>27.480000</td>\n",
       "      <td>27.770000</td>\n",
       "      <td>26.959999</td>\n",
       "      <td>27.400000</td>\n",
       "      <td>27.400000</td>\n",
       "      <td>15816800</td>\n",
       "      <td>26.926000</td>\n",
       "      <td>27.291000</td>\n",
       "      <td>24.447337</td>\n",
       "      <td>...</td>\n",
       "      <td>28.402984</td>\n",
       "      <td>31.179026</td>\n",
       "      <td>-2.776042</td>\n",
       "      <td>88.387097</td>\n",
       "      <td>0</td>\n",
       "      <td>0.282646</td>\n",
       "      <td>-45.779188</td>\n",
       "      <td>-3.784895</td>\n",
       "      <td>73.418742</td>\n",
       "      <td>-44.0</td>\n",
       "    </tr>\n",
       "    <tr>\n",
       "      <th>17</th>\n",
       "      <td>6/13/2012</td>\n",
       "      <td>27.660000</td>\n",
       "      <td>28.100000</td>\n",
       "      <td>27.100000</td>\n",
       "      <td>27.270000</td>\n",
       "      <td>27.270000</td>\n",
       "      <td>17102800</td>\n",
       "      <td>27.018000</td>\n",
       "      <td>27.199000</td>\n",
       "      <td>22.756830</td>\n",
       "      <td>...</td>\n",
       "      <td>28.228679</td>\n",
       "      <td>30.889468</td>\n",
       "      <td>-2.660790</td>\n",
       "      <td>85.218750</td>\n",
       "      <td>1</td>\n",
       "      <td>0.282646</td>\n",
       "      <td>-34.377153</td>\n",
       "      <td>-3.091684</td>\n",
       "      <td>71.350434</td>\n",
       "      <td>-44.0</td>\n",
       "    </tr>\n",
       "    <tr>\n",
       "      <th>18</th>\n",
       "      <td>6/14/2012</td>\n",
       "      <td>27.650000</td>\n",
       "      <td>28.320000</td>\n",
       "      <td>27.379999</td>\n",
       "      <td>28.290001</td>\n",
       "      <td>28.290001</td>\n",
       "      <td>16855000</td>\n",
       "      <td>27.414000</td>\n",
       "      <td>27.068000</td>\n",
       "      <td>37.281301</td>\n",
       "      <td>...</td>\n",
       "      <td>28.238113</td>\n",
       "      <td>30.696915</td>\n",
       "      <td>-2.458802</td>\n",
       "      <td>85.649415</td>\n",
       "      <td>1</td>\n",
       "      <td>0.381194</td>\n",
       "      <td>4.817392</td>\n",
       "      <td>1.757364</td>\n",
       "      <td>68.371248</td>\n",
       "      <td>-44.0</td>\n",
       "    </tr>\n",
       "    <tr>\n",
       "      <th>...</th>\n",
       "      <td>...</td>\n",
       "      <td>...</td>\n",
       "      <td>...</td>\n",
       "      <td>...</td>\n",
       "      <td>...</td>\n",
       "      <td>...</td>\n",
       "      <td>...</td>\n",
       "      <td>...</td>\n",
       "      <td>...</td>\n",
       "      <td>...</td>\n",
       "      <td>...</td>\n",
       "      <td>...</td>\n",
       "      <td>...</td>\n",
       "      <td>...</td>\n",
       "      <td>...</td>\n",
       "      <td>...</td>\n",
       "      <td>...</td>\n",
       "      <td>...</td>\n",
       "      <td>...</td>\n",
       "      <td>...</td>\n",
       "      <td>...</td>\n",
       "    </tr>\n",
       "    <tr>\n",
       "      <th>2373</th>\n",
       "      <td>10/22/2021</td>\n",
       "      <td>326.350006</td>\n",
       "      <td>329.630005</td>\n",
       "      <td>321.109985</td>\n",
       "      <td>324.609985</td>\n",
       "      <td>324.609985</td>\n",
       "      <td>35152700</td>\n",
       "      <td>336.519995</td>\n",
       "      <td>330.964999</td>\n",
       "      <td>27.207763</td>\n",
       "      <td>...</td>\n",
       "      <td>333.872032</td>\n",
       "      <td>339.701384</td>\n",
       "      <td>-5.829352</td>\n",
       "      <td>99.503410</td>\n",
       "      <td>1</td>\n",
       "      <td>0.910010</td>\n",
       "      <td>-82.414952</td>\n",
       "      <td>-1.962675</td>\n",
       "      <td>32.401953</td>\n",
       "      <td>-60.0</td>\n",
       "    </tr>\n",
       "    <tr>\n",
       "      <th>2374</th>\n",
       "      <td>10/25/2021</td>\n",
       "      <td>320.299988</td>\n",
       "      <td>329.559998</td>\n",
       "      <td>319.720001</td>\n",
       "      <td>328.690002</td>\n",
       "      <td>328.690002</td>\n",
       "      <td>38409000</td>\n",
       "      <td>335.189996</td>\n",
       "      <td>331.288998</td>\n",
       "      <td>42.540399</td>\n",
       "      <td>...</td>\n",
       "      <td>333.074797</td>\n",
       "      <td>338.885726</td>\n",
       "      <td>-5.810929</td>\n",
       "      <td>98.717567</td>\n",
       "      <td>0</td>\n",
       "      <td>0.675676</td>\n",
       "      <td>-60.952286</td>\n",
       "      <td>-0.638920</td>\n",
       "      <td>32.451445</td>\n",
       "      <td>-60.0</td>\n",
       "    </tr>\n",
       "    <tr>\n",
       "      <th>2375</th>\n",
       "      <td>10/26/2021</td>\n",
       "      <td>328.260010</td>\n",
       "      <td>330.209991</td>\n",
       "      <td>309.600006</td>\n",
       "      <td>315.809998</td>\n",
       "      <td>315.809998</td>\n",
       "      <td>65654000</td>\n",
       "      <td>330.353998</td>\n",
       "      <td>330.492999</td>\n",
       "      <td>18.062801</td>\n",
       "      <td>...</td>\n",
       "      <td>330.418674</td>\n",
       "      <td>337.176413</td>\n",
       "      <td>-6.757739</td>\n",
       "      <td>94.655912</td>\n",
       "      <td>0</td>\n",
       "      <td>0.675676</td>\n",
       "      <td>-130.133739</td>\n",
       "      <td>-4.163506</td>\n",
       "      <td>32.635555</td>\n",
       "      <td>-84.0</td>\n",
       "    </tr>\n",
       "    <tr>\n",
       "      <th>2376</th>\n",
       "      <td>10/27/2021</td>\n",
       "      <td>314.190002</td>\n",
       "      <td>319.250000</td>\n",
       "      <td>312.059998</td>\n",
       "      <td>312.220001</td>\n",
       "      <td>312.220001</td>\n",
       "      <td>29971800</td>\n",
       "      <td>324.641998</td>\n",
       "      <td>329.260999</td>\n",
       "      <td>7.620694</td>\n",
       "      <td>...</td>\n",
       "      <td>327.618878</td>\n",
       "      <td>335.327790</td>\n",
       "      <td>-7.708912</td>\n",
       "      <td>94.836280</td>\n",
       "      <td>1</td>\n",
       "      <td>0.675676</td>\n",
       "      <td>-147.516715</td>\n",
       "      <td>-4.902510</td>\n",
       "      <td>33.349941</td>\n",
       "      <td>-88.0</td>\n",
       "    </tr>\n",
       "    <tr>\n",
       "      <th>2377</th>\n",
       "      <td>10/28/2021</td>\n",
       "      <td>312.989990</td>\n",
       "      <td>325.519989</td>\n",
       "      <td>308.109985</td>\n",
       "      <td>316.920013</td>\n",
       "      <td>316.920013</td>\n",
       "      <td>50806800</td>\n",
       "      <td>319.650000</td>\n",
       "      <td>328.100000</td>\n",
       "      <td>24.560975</td>\n",
       "      <td>...</td>\n",
       "      <td>325.972899</td>\n",
       "      <td>333.964251</td>\n",
       "      <td>-7.991352</td>\n",
       "      <td>96.021822</td>\n",
       "      <td>1</td>\n",
       "      <td>0.910010</td>\n",
       "      <td>-105.801103</td>\n",
       "      <td>-3.194426</td>\n",
       "      <td>33.965208</td>\n",
       "      <td>-88.0</td>\n",
       "    </tr>\n",
       "  </tbody>\n",
       "</table>\n",
       "<p>2364 rows × 26 columns</p>\n",
       "</div>"
      ],
      "text/plain": [
       "            Date        Open        High         Low       Close   Adj Close  \\\n",
       "14      6/8/2012   26.549999   27.760000   26.440001   27.100000   27.100000   \n",
       "15     6/11/2012   27.180000   28.070000   26.840000   27.010000   27.010000   \n",
       "16     6/12/2012   27.480000   27.770000   26.959999   27.400000   27.400000   \n",
       "17     6/13/2012   27.660000   28.100000   27.100000   27.270000   27.270000   \n",
       "18     6/14/2012   27.650000   28.320000   27.379999   28.290001   28.290001   \n",
       "...          ...         ...         ...         ...         ...         ...   \n",
       "2373  10/22/2021  326.350006  329.630005  321.109985  324.609985  324.609985   \n",
       "2374  10/25/2021  320.299988  329.559998  319.720001  328.690002  328.690002   \n",
       "2375  10/26/2021  328.260010  330.209991  309.600006  315.809998  315.809998   \n",
       "2376  10/27/2021  314.190002  319.250000  312.059998  312.220001  312.220001   \n",
       "2377  10/28/2021  312.989990  325.519989  308.109985  316.920013  316.920013   \n",
       "\n",
       "        Volume        SMA5       SMA10  StochasticK  ...       EMA12  \\\n",
       "14    38034000   26.598000   27.925000    14.183124  ...   28.871771   \n",
       "15    28219600   26.620000   27.435000    18.463445  ...   28.585345   \n",
       "16    15816800   26.926000   27.291000    24.447337  ...   28.402984   \n",
       "17    17102800   27.018000   27.199000    22.756830  ...   28.228679   \n",
       "18    16855000   27.414000   27.068000    37.281301  ...   28.238113   \n",
       "...        ...         ...         ...          ...  ...         ...   \n",
       "2373  35152700  336.519995  330.964999    27.207763  ...  333.872032   \n",
       "2374  38409000  335.189996  331.288998    42.540399  ...  333.074797   \n",
       "2375  65654000  330.353998  330.492999    18.062801  ...  330.418674   \n",
       "2376  29971800  324.641998  329.260999     7.620694  ...  327.618878   \n",
       "2377  50806800  319.650000  328.100000    24.560975  ...  325.972899   \n",
       "\n",
       "           EMA26      MACD   Momentum  Direction       RSI         CCI  \\\n",
       "14     31.839056 -2.967285  70.886738          0  0.282646  -66.138608   \n",
       "15     31.481348 -2.896003  79.371145          1  0.381194  -53.840862   \n",
       "16     31.179026 -2.776042  88.387097          0  0.282646  -45.779188   \n",
       "17     30.889468 -2.660790  85.218750          1  0.282646  -34.377153   \n",
       "18     30.696915 -2.458802  85.649415          1  0.381194    4.817392   \n",
       "...          ...       ...        ...        ...       ...         ...   \n",
       "2373  339.701384 -5.829352  99.503410          1  0.910010  -82.414952   \n",
       "2374  338.885726 -5.810929  98.717567          0  0.675676  -60.952286   \n",
       "2375  337.176413 -6.757739  94.655912          0  0.675676 -130.133739   \n",
       "2376  335.327790 -7.708912  94.836280          1  0.675676 -147.516715   \n",
       "2377  333.964251 -7.991352  96.021822          1  0.910010 -105.801103   \n",
       "\n",
       "            DI        ADX  Aroon  \n",
       "14   -7.307419  81.950354  -44.0  \n",
       "15   -6.003132  77.257952  -44.0  \n",
       "16   -3.784895  73.418742  -44.0  \n",
       "17   -3.091684  71.350434  -44.0  \n",
       "18    1.757364  68.371248  -44.0  \n",
       "...        ...        ...    ...  \n",
       "2373 -1.962675  32.401953  -60.0  \n",
       "2374 -0.638920  32.451445  -60.0  \n",
       "2375 -4.163506  32.635555  -84.0  \n",
       "2376 -4.902510  33.349941  -88.0  \n",
       "2377 -3.194426  33.965208  -88.0  \n",
       "\n",
       "[2364 rows x 26 columns]"
      ]
     },
     "execution_count": 35,
     "metadata": {},
     "output_type": "execute_result"
    }
   ],
   "source": [
    "complete_data"
   ]
  },
  {
   "cell_type": "code",
   "execution_count": 36,
   "metadata": {},
   "outputs": [],
   "source": [
    "#corrMatrix = complete_data.corr()\n",
    "#print(corrMatrix)"
   ]
  },
  {
   "cell_type": "code",
   "execution_count": 37,
   "metadata": {},
   "outputs": [],
   "source": [
    "#sn.heatmap(corrMatrix, annot=False)\n",
    "#plt.show()"
   ]
  },
  {
   "cell_type": "code",
   "execution_count": 38,
   "metadata": {},
   "outputs": [],
   "source": [
    "#corr_pairs = corrMatrix.unstack()\n",
    "#corr_pairs"
   ]
  },
  {
   "cell_type": "code",
   "execution_count": 39,
   "metadata": {},
   "outputs": [],
   "source": [
    "#sorted_pairs = corr_pairs.sort_values(kind=\"quicksort\")\n",
    "#sorted_pairs"
   ]
  },
  {
   "cell_type": "code",
   "execution_count": 40,
   "metadata": {},
   "outputs": [],
   "source": [
    "#strong_pairs = sorted_pairs[abs(sorted_pairs) > 0.5]\n",
    "\n",
    "#print(strong_pairs)"
   ]
  },
  {
   "cell_type": "code",
   "execution_count": 41,
   "metadata": {},
   "outputs": [],
   "source": [
    "## strong_pairs[strong_pairs.index[0][0] == strong_pairs.index[0][1]]\n",
    "\n",
    "#removed_diagonal = [(i, j) for (i, j) in strong_pairs.index if i!=j]\n",
    "#len(removed_diagonal)"
   ]
  },
  {
   "cell_type": "code",
   "execution_count": 42,
   "metadata": {
    "scrolled": false
   },
   "outputs": [],
   "source": [
    "## # Create correlation matrix\n",
    "## corr_matrix = complete_data.corr().abs()\n",
    "\n",
    "## # Select upper triangle of correlation matrix\n",
    "## upper = corr_matrix.where(np.triu(np.ones(corr_matrix.shape), k=1).astype(np.bool8))\n",
    "\n",
    "## # Find index of feature columns with correlation greater than 0.95\n",
    "## to_drop = [column for column in upper.columns if any(upper[column] > 0.95)]\n",
    "## to_drop"
   ]
  },
  {
   "cell_type": "code",
   "execution_count": 43,
   "metadata": {},
   "outputs": [],
   "source": [
    "## Find index of feature columns with correlation greater than 0.8\n",
    "\n",
    "#correlated_features = set()\n",
    "#for i in range(len(corrMatrix.columns)):\n",
    " #   for j in range(i):\n",
    "  #      if abs(corrMatrix.iloc[i, j]) > 0.8:\n",
    "   #         colname = corrMatrix.columns[i]\n",
    "    #        correlated_features.add(colname)"
   ]
  },
  {
   "cell_type": "code",
   "execution_count": 44,
   "metadata": {},
   "outputs": [],
   "source": [
    "#correlated_features"
   ]
  },
  {
   "cell_type": "code",
   "execution_count": 45,
   "metadata": {},
   "outputs": [],
   "source": [
    "#complete_data = complete_data.drop(labels=correlated_features, axis=1)"
   ]
  },
  {
   "cell_type": "code",
   "execution_count": 46,
   "metadata": {},
   "outputs": [],
   "source": [
    "#complete_data"
   ]
  },
  {
   "cell_type": "code",
   "execution_count": 47,
   "metadata": {
    "scrolled": false
   },
   "outputs": [
    {
     "data": {
      "text/html": [
       "<div>\n",
       "<style scoped>\n",
       "    .dataframe tbody tr th:only-of-type {\n",
       "        vertical-align: middle;\n",
       "    }\n",
       "\n",
       "    .dataframe tbody tr th {\n",
       "        vertical-align: top;\n",
       "    }\n",
       "\n",
       "    .dataframe thead th {\n",
       "        text-align: right;\n",
       "    }\n",
       "</style>\n",
       "<table border=\"1\" class=\"dataframe\">\n",
       "  <thead>\n",
       "    <tr style=\"text-align: right;\">\n",
       "      <th></th>\n",
       "      <th>Open</th>\n",
       "      <th>High</th>\n",
       "      <th>Low</th>\n",
       "      <th>Close</th>\n",
       "      <th>Adj Close</th>\n",
       "      <th>Volume</th>\n",
       "      <th>SMA5</th>\n",
       "      <th>SMA10</th>\n",
       "      <th>StochasticK</th>\n",
       "      <th>StochasticD</th>\n",
       "      <th>...</th>\n",
       "      <th>WMA10</th>\n",
       "      <th>EMA12</th>\n",
       "      <th>EMA26</th>\n",
       "      <th>MACD</th>\n",
       "      <th>Momentum</th>\n",
       "      <th>RSI</th>\n",
       "      <th>CCI</th>\n",
       "      <th>DI</th>\n",
       "      <th>ADX</th>\n",
       "      <th>Aroon</th>\n",
       "    </tr>\n",
       "  </thead>\n",
       "  <tbody>\n",
       "    <tr>\n",
       "      <th>14</th>\n",
       "      <td>26.549999</td>\n",
       "      <td>27.760000</td>\n",
       "      <td>26.440001</td>\n",
       "      <td>27.100000</td>\n",
       "      <td>27.100000</td>\n",
       "      <td>38034000</td>\n",
       "      <td>26.598000</td>\n",
       "      <td>27.925000</td>\n",
       "      <td>14.183124</td>\n",
       "      <td>9.119280</td>\n",
       "      <td>...</td>\n",
       "      <td>27.198545</td>\n",
       "      <td>28.871771</td>\n",
       "      <td>31.839056</td>\n",
       "      <td>-2.967285</td>\n",
       "      <td>70.886738</td>\n",
       "      <td>0.282646</td>\n",
       "      <td>-66.138608</td>\n",
       "      <td>-7.307419</td>\n",
       "      <td>81.950354</td>\n",
       "      <td>-44.0</td>\n",
       "    </tr>\n",
       "    <tr>\n",
       "      <th>15</th>\n",
       "      <td>27.180000</td>\n",
       "      <td>28.070000</td>\n",
       "      <td>26.840000</td>\n",
       "      <td>27.010000</td>\n",
       "      <td>27.010000</td>\n",
       "      <td>28219600</td>\n",
       "      <td>26.620000</td>\n",
       "      <td>27.435000</td>\n",
       "      <td>18.463445</td>\n",
       "      <td>12.234002</td>\n",
       "      <td>...</td>\n",
       "      <td>27.032182</td>\n",
       "      <td>28.585345</td>\n",
       "      <td>31.481348</td>\n",
       "      <td>-2.896003</td>\n",
       "      <td>79.371145</td>\n",
       "      <td>0.381194</td>\n",
       "      <td>-53.840862</td>\n",
       "      <td>-6.003132</td>\n",
       "      <td>77.257952</td>\n",
       "      <td>-44.0</td>\n",
       "    </tr>\n",
       "    <tr>\n",
       "      <th>16</th>\n",
       "      <td>27.480000</td>\n",
       "      <td>27.770000</td>\n",
       "      <td>26.959999</td>\n",
       "      <td>27.400000</td>\n",
       "      <td>27.400000</td>\n",
       "      <td>15816800</td>\n",
       "      <td>26.926000</td>\n",
       "      <td>27.291000</td>\n",
       "      <td>24.447337</td>\n",
       "      <td>19.031302</td>\n",
       "      <td>...</td>\n",
       "      <td>27.025818</td>\n",
       "      <td>28.402984</td>\n",
       "      <td>31.179026</td>\n",
       "      <td>-2.776042</td>\n",
       "      <td>88.387097</td>\n",
       "      <td>0.282646</td>\n",
       "      <td>-45.779188</td>\n",
       "      <td>-3.784895</td>\n",
       "      <td>73.418742</td>\n",
       "      <td>-44.0</td>\n",
       "    </tr>\n",
       "    <tr>\n",
       "      <th>17</th>\n",
       "      <td>27.660000</td>\n",
       "      <td>28.100000</td>\n",
       "      <td>27.100000</td>\n",
       "      <td>27.270000</td>\n",
       "      <td>27.270000</td>\n",
       "      <td>17102800</td>\n",
       "      <td>27.018000</td>\n",
       "      <td>27.199000</td>\n",
       "      <td>22.756830</td>\n",
       "      <td>21.889204</td>\n",
       "      <td>...</td>\n",
       "      <td>27.022000</td>\n",
       "      <td>28.228679</td>\n",
       "      <td>30.889468</td>\n",
       "      <td>-2.660790</td>\n",
       "      <td>85.218750</td>\n",
       "      <td>0.282646</td>\n",
       "      <td>-34.377153</td>\n",
       "      <td>-3.091684</td>\n",
       "      <td>71.350434</td>\n",
       "      <td>-44.0</td>\n",
       "    </tr>\n",
       "    <tr>\n",
       "      <th>18</th>\n",
       "      <td>27.650000</td>\n",
       "      <td>28.320000</td>\n",
       "      <td>27.379999</td>\n",
       "      <td>28.290001</td>\n",
       "      <td>28.290001</td>\n",
       "      <td>16855000</td>\n",
       "      <td>27.414000</td>\n",
       "      <td>27.068000</td>\n",
       "      <td>37.281301</td>\n",
       "      <td>28.161823</td>\n",
       "      <td>...</td>\n",
       "      <td>27.220364</td>\n",
       "      <td>28.238113</td>\n",
       "      <td>30.696915</td>\n",
       "      <td>-2.458802</td>\n",
       "      <td>85.649415</td>\n",
       "      <td>0.381194</td>\n",
       "      <td>4.817392</td>\n",
       "      <td>1.757364</td>\n",
       "      <td>68.371248</td>\n",
       "      <td>-44.0</td>\n",
       "    </tr>\n",
       "    <tr>\n",
       "      <th>...</th>\n",
       "      <td>...</td>\n",
       "      <td>...</td>\n",
       "      <td>...</td>\n",
       "      <td>...</td>\n",
       "      <td>...</td>\n",
       "      <td>...</td>\n",
       "      <td>...</td>\n",
       "      <td>...</td>\n",
       "      <td>...</td>\n",
       "      <td>...</td>\n",
       "      <td>...</td>\n",
       "      <td>...</td>\n",
       "      <td>...</td>\n",
       "      <td>...</td>\n",
       "      <td>...</td>\n",
       "      <td>...</td>\n",
       "      <td>...</td>\n",
       "      <td>...</td>\n",
       "      <td>...</td>\n",
       "      <td>...</td>\n",
       "      <td>...</td>\n",
       "    </tr>\n",
       "    <tr>\n",
       "      <th>2373</th>\n",
       "      <td>326.350006</td>\n",
       "      <td>329.630005</td>\n",
       "      <td>321.109985</td>\n",
       "      <td>324.609985</td>\n",
       "      <td>324.609985</td>\n",
       "      <td>35152700</td>\n",
       "      <td>336.519995</td>\n",
       "      <td>330.964999</td>\n",
       "      <td>27.207763</td>\n",
       "      <td>67.993823</td>\n",
       "      <td>...</td>\n",
       "      <td>333.195634</td>\n",
       "      <td>333.872032</td>\n",
       "      <td>339.701384</td>\n",
       "      <td>-5.829352</td>\n",
       "      <td>99.503410</td>\n",
       "      <td>0.910010</td>\n",
       "      <td>-82.414952</td>\n",
       "      <td>-1.962675</td>\n",
       "      <td>32.401953</td>\n",
       "      <td>-60.0</td>\n",
       "    </tr>\n",
       "    <tr>\n",
       "      <th>2374</th>\n",
       "      <td>320.299988</td>\n",
       "      <td>329.559998</td>\n",
       "      <td>319.720001</td>\n",
       "      <td>328.690002</td>\n",
       "      <td>328.690002</td>\n",
       "      <td>38409000</td>\n",
       "      <td>335.189996</td>\n",
       "      <td>331.288998</td>\n",
       "      <td>42.540399</td>\n",
       "      <td>53.952125</td>\n",
       "      <td>...</td>\n",
       "      <td>332.781998</td>\n",
       "      <td>333.074797</td>\n",
       "      <td>338.885726</td>\n",
       "      <td>-5.810929</td>\n",
       "      <td>98.717567</td>\n",
       "      <td>0.675676</td>\n",
       "      <td>-60.952286</td>\n",
       "      <td>-0.638920</td>\n",
       "      <td>32.451445</td>\n",
       "      <td>-60.0</td>\n",
       "    </tr>\n",
       "    <tr>\n",
       "      <th>2375</th>\n",
       "      <td>328.260010</td>\n",
       "      <td>330.209991</td>\n",
       "      <td>309.600006</td>\n",
       "      <td>315.809998</td>\n",
       "      <td>315.809998</td>\n",
       "      <td>65654000</td>\n",
       "      <td>330.353998</td>\n",
       "      <td>330.492999</td>\n",
       "      <td>18.062801</td>\n",
       "      <td>29.270321</td>\n",
       "      <td>...</td>\n",
       "      <td>329.967634</td>\n",
       "      <td>330.418674</td>\n",
       "      <td>337.176413</td>\n",
       "      <td>-6.757739</td>\n",
       "      <td>94.655912</td>\n",
       "      <td>0.675676</td>\n",
       "      <td>-130.133739</td>\n",
       "      <td>-4.163506</td>\n",
       "      <td>32.635555</td>\n",
       "      <td>-84.0</td>\n",
       "    </tr>\n",
       "    <tr>\n",
       "      <th>2376</th>\n",
       "      <td>314.190002</td>\n",
       "      <td>319.250000</td>\n",
       "      <td>312.059998</td>\n",
       "      <td>312.220001</td>\n",
       "      <td>312.220001</td>\n",
       "      <td>29971800</td>\n",
       "      <td>324.641998</td>\n",
       "      <td>329.260999</td>\n",
       "      <td>7.620694</td>\n",
       "      <td>22.741298</td>\n",
       "      <td>...</td>\n",
       "      <td>326.645271</td>\n",
       "      <td>327.618878</td>\n",
       "      <td>335.327790</td>\n",
       "      <td>-7.708912</td>\n",
       "      <td>94.836280</td>\n",
       "      <td>0.675676</td>\n",
       "      <td>-147.516715</td>\n",
       "      <td>-4.902510</td>\n",
       "      <td>33.349941</td>\n",
       "      <td>-88.0</td>\n",
       "    </tr>\n",
       "    <tr>\n",
       "      <th>2377</th>\n",
       "      <td>312.989990</td>\n",
       "      <td>325.519989</td>\n",
       "      <td>308.109985</td>\n",
       "      <td>316.920013</td>\n",
       "      <td>316.920013</td>\n",
       "      <td>50806800</td>\n",
       "      <td>319.650000</td>\n",
       "      <td>328.100000</td>\n",
       "      <td>24.560975</td>\n",
       "      <td>16.748157</td>\n",
       "      <td>...</td>\n",
       "      <td>324.401455</td>\n",
       "      <td>325.972899</td>\n",
       "      <td>333.964251</td>\n",
       "      <td>-7.991352</td>\n",
       "      <td>96.021822</td>\n",
       "      <td>0.910010</td>\n",
       "      <td>-105.801103</td>\n",
       "      <td>-3.194426</td>\n",
       "      <td>33.965208</td>\n",
       "      <td>-88.0</td>\n",
       "    </tr>\n",
       "  </tbody>\n",
       "</table>\n",
       "<p>2364 rows × 24 columns</p>\n",
       "</div>"
      ],
      "text/plain": [
       "            Open        High         Low       Close   Adj Close    Volume  \\\n",
       "14     26.549999   27.760000   26.440001   27.100000   27.100000  38034000   \n",
       "15     27.180000   28.070000   26.840000   27.010000   27.010000  28219600   \n",
       "16     27.480000   27.770000   26.959999   27.400000   27.400000  15816800   \n",
       "17     27.660000   28.100000   27.100000   27.270000   27.270000  17102800   \n",
       "18     27.650000   28.320000   27.379999   28.290001   28.290001  16855000   \n",
       "...          ...         ...         ...         ...         ...       ...   \n",
       "2373  326.350006  329.630005  321.109985  324.609985  324.609985  35152700   \n",
       "2374  320.299988  329.559998  319.720001  328.690002  328.690002  38409000   \n",
       "2375  328.260010  330.209991  309.600006  315.809998  315.809998  65654000   \n",
       "2376  314.190002  319.250000  312.059998  312.220001  312.220001  29971800   \n",
       "2377  312.989990  325.519989  308.109985  316.920013  316.920013  50806800   \n",
       "\n",
       "            SMA5       SMA10  StochasticK  StochasticD  ...       WMA10  \\\n",
       "14     26.598000   27.925000    14.183124     9.119280  ...   27.198545   \n",
       "15     26.620000   27.435000    18.463445    12.234002  ...   27.032182   \n",
       "16     26.926000   27.291000    24.447337    19.031302  ...   27.025818   \n",
       "17     27.018000   27.199000    22.756830    21.889204  ...   27.022000   \n",
       "18     27.414000   27.068000    37.281301    28.161823  ...   27.220364   \n",
       "...          ...         ...          ...          ...  ...         ...   \n",
       "2373  336.519995  330.964999    27.207763    67.993823  ...  333.195634   \n",
       "2374  335.189996  331.288998    42.540399    53.952125  ...  332.781998   \n",
       "2375  330.353998  330.492999    18.062801    29.270321  ...  329.967634   \n",
       "2376  324.641998  329.260999     7.620694    22.741298  ...  326.645271   \n",
       "2377  319.650000  328.100000    24.560975    16.748157  ...  324.401455   \n",
       "\n",
       "           EMA12       EMA26      MACD   Momentum       RSI         CCI  \\\n",
       "14     28.871771   31.839056 -2.967285  70.886738  0.282646  -66.138608   \n",
       "15     28.585345   31.481348 -2.896003  79.371145  0.381194  -53.840862   \n",
       "16     28.402984   31.179026 -2.776042  88.387097  0.282646  -45.779188   \n",
       "17     28.228679   30.889468 -2.660790  85.218750  0.282646  -34.377153   \n",
       "18     28.238113   30.696915 -2.458802  85.649415  0.381194    4.817392   \n",
       "...          ...         ...       ...        ...       ...         ...   \n",
       "2373  333.872032  339.701384 -5.829352  99.503410  0.910010  -82.414952   \n",
       "2374  333.074797  338.885726 -5.810929  98.717567  0.675676  -60.952286   \n",
       "2375  330.418674  337.176413 -6.757739  94.655912  0.675676 -130.133739   \n",
       "2376  327.618878  335.327790 -7.708912  94.836280  0.675676 -147.516715   \n",
       "2377  325.972899  333.964251 -7.991352  96.021822  0.910010 -105.801103   \n",
       "\n",
       "            DI        ADX  Aroon  \n",
       "14   -7.307419  81.950354  -44.0  \n",
       "15   -6.003132  77.257952  -44.0  \n",
       "16   -3.784895  73.418742  -44.0  \n",
       "17   -3.091684  71.350434  -44.0  \n",
       "18    1.757364  68.371248  -44.0  \n",
       "...        ...        ...    ...  \n",
       "2373 -1.962675  32.401953  -60.0  \n",
       "2374 -0.638920  32.451445  -60.0  \n",
       "2375 -4.163506  32.635555  -84.0  \n",
       "2376 -4.902510  33.349941  -88.0  \n",
       "2377 -3.194426  33.965208  -88.0  \n",
       "\n",
       "[2364 rows x 24 columns]"
      ]
     },
     "execution_count": 47,
     "metadata": {},
     "output_type": "execute_result"
    }
   ],
   "source": [
    "target = complete_data['Direction']\n",
    "complete_data = complete_data.drop(['Date', 'Direction'], axis=1)\n",
    "complete_data"
   ]
  },
  {
   "cell_type": "markdown",
   "metadata": {},
   "source": [
    "### autofeat Classification"
   ]
  },
  {
   "cell_type": "code",
   "execution_count": 48,
   "metadata": {},
   "outputs": [],
   "source": [
    "from sklearn.model_selection import train_test_split"
   ]
  },
  {
   "cell_type": "code",
   "execution_count": 49,
   "metadata": {},
   "outputs": [],
   "source": [
    "from autofeat import AutoFeatClassifier\n",
    "X_train, X_test, y_train, y_test = train_test_split(complete_data,target,test_size=0.3)\n",
    "model = AutoFeatClassifier()\n",
    "df = model.fit_transform(X_train, y_train)\n",
    "y_pred = model.predict(X_test)"
   ]
  },
  {
   "cell_type": "code",
   "execution_count": 50,
   "metadata": {},
   "outputs": [
    {
     "data": {
      "text/plain": [
       "0.6056338028169014"
      ]
     },
     "execution_count": 50,
     "metadata": {},
     "output_type": "execute_result"
    }
   ],
   "source": [
    "df_test = model.transform(X_test)\n",
    "model.score(df_test,y_test)"
   ]
  },
  {
   "cell_type": "code",
   "execution_count": 51,
   "metadata": {},
   "outputs": [
    {
     "data": {
      "text/html": [
       "<div>\n",
       "<style scoped>\n",
       "    .dataframe tbody tr th:only-of-type {\n",
       "        vertical-align: middle;\n",
       "    }\n",
       "\n",
       "    .dataframe tbody tr th {\n",
       "        vertical-align: top;\n",
       "    }\n",
       "\n",
       "    .dataframe thead th {\n",
       "        text-align: right;\n",
       "    }\n",
       "</style>\n",
       "<table border=\"1\" class=\"dataframe\">\n",
       "  <thead>\n",
       "    <tr style=\"text-align: right;\">\n",
       "      <th></th>\n",
       "      <th>Open</th>\n",
       "      <th>High</th>\n",
       "      <th>Low</th>\n",
       "      <th>Close</th>\n",
       "      <th>Adj Close</th>\n",
       "      <th>Volume</th>\n",
       "      <th>SMA5</th>\n",
       "      <th>SMA10</th>\n",
       "      <th>StochasticK</th>\n",
       "      <th>StochasticD</th>\n",
       "      <th>...</th>\n",
       "      <th>Momentum</th>\n",
       "      <th>RSI</th>\n",
       "      <th>CCI</th>\n",
       "      <th>DI</th>\n",
       "      <th>ADX</th>\n",
       "      <th>Aroon</th>\n",
       "      <th>sqrt(StochasticK)/RSI</th>\n",
       "      <th>Momentum**3/RSI</th>\n",
       "      <th>RSI/StochasticD</th>\n",
       "      <th>sqrt(LarryWilliamsR)*RSI</th>\n",
       "    </tr>\n",
       "  </thead>\n",
       "  <tbody>\n",
       "    <tr>\n",
       "      <th>0</th>\n",
       "      <td>161.500000</td>\n",
       "      <td>166.119995</td>\n",
       "      <td>161.240005</td>\n",
       "      <td>165.440002</td>\n",
       "      <td>165.440002</td>\n",
       "      <td>20211500.0</td>\n",
       "      <td>164.726001</td>\n",
       "      <td>167.972002</td>\n",
       "      <td>41.011993</td>\n",
       "      <td>21.393720</td>\n",
       "      <td>...</td>\n",
       "      <td>102.471357</td>\n",
       "      <td>0.910010</td>\n",
       "      <td>-65.307025</td>\n",
       "      <td>-1.571516</td>\n",
       "      <td>18.750457</td>\n",
       "      <td>56.0</td>\n",
       "      <td>7.037351</td>\n",
       "      <td>1.182391e+06</td>\n",
       "      <td>0.042536</td>\n",
       "      <td>6.989210</td>\n",
       "    </tr>\n",
       "    <tr>\n",
       "      <th>1</th>\n",
       "      <td>186.940002</td>\n",
       "      <td>187.889999</td>\n",
       "      <td>185.630005</td>\n",
       "      <td>187.839996</td>\n",
       "      <td>187.839996</td>\n",
       "      <td>10529900.0</td>\n",
       "      <td>187.034000</td>\n",
       "      <td>183.325999</td>\n",
       "      <td>92.550961</td>\n",
       "      <td>93.651926</td>\n",
       "      <td>...</td>\n",
       "      <td>104.640411</td>\n",
       "      <td>0.381194</td>\n",
       "      <td>91.476834</td>\n",
       "      <td>3.460945</td>\n",
       "      <td>17.774823</td>\n",
       "      <td>88.0</td>\n",
       "      <td>25.237361</td>\n",
       "      <td>3.005743e+06</td>\n",
       "      <td>0.004070</td>\n",
       "      <td>1.040391</td>\n",
       "    </tr>\n",
       "    <tr>\n",
       "      <th>2</th>\n",
       "      <td>184.850006</td>\n",
       "      <td>188.320007</td>\n",
       "      <td>184.179993</td>\n",
       "      <td>186.990005</td>\n",
       "      <td>186.990005</td>\n",
       "      <td>21207800.0</td>\n",
       "      <td>182.414001</td>\n",
       "      <td>178.463002</td>\n",
       "      <td>95.860561</td>\n",
       "      <td>97.517190</td>\n",
       "      <td>...</td>\n",
       "      <td>112.753262</td>\n",
       "      <td>0.910010</td>\n",
       "      <td>148.552991</td>\n",
       "      <td>6.774727</td>\n",
       "      <td>20.775024</td>\n",
       "      <td>96.0</td>\n",
       "      <td>10.759046</td>\n",
       "      <td>1.575220e+06</td>\n",
       "      <td>0.009332</td>\n",
       "      <td>1.851471</td>\n",
       "    </tr>\n",
       "    <tr>\n",
       "      <th>3</th>\n",
       "      <td>49.770000</td>\n",
       "      <td>51.160000</td>\n",
       "      <td>49.570000</td>\n",
       "      <td>51.040001</td>\n",
       "      <td>51.040001</td>\n",
       "      <td>74447000.0</td>\n",
       "      <td>50.230000</td>\n",
       "      <td>49.788000</td>\n",
       "      <td>93.893161</td>\n",
       "      <td>84.369339</td>\n",
       "      <td>...</td>\n",
       "      <td>120.065875</td>\n",
       "      <td>0.910010</td>\n",
       "      <td>70.574462</td>\n",
       "      <td>4.827993</td>\n",
       "      <td>50.240747</td>\n",
       "      <td>76.0</td>\n",
       "      <td>10.648067</td>\n",
       "      <td>1.902009e+06</td>\n",
       "      <td>0.010786</td>\n",
       "      <td>2.248819</td>\n",
       "    </tr>\n",
       "    <tr>\n",
       "      <th>4</th>\n",
       "      <td>178.350006</td>\n",
       "      <td>179.100006</td>\n",
       "      <td>177.960007</td>\n",
       "      <td>178.460007</td>\n",
       "      <td>178.460007</td>\n",
       "      <td>11070200.0</td>\n",
       "      <td>179.548001</td>\n",
       "      <td>179.817000</td>\n",
       "      <td>68.308433</td>\n",
       "      <td>72.924154</td>\n",
       "      <td>...</td>\n",
       "      <td>104.198052</td>\n",
       "      <td>0.675676</td>\n",
       "      <td>21.694999</td>\n",
       "      <td>0.376046</td>\n",
       "      <td>13.458131</td>\n",
       "      <td>20.0</td>\n",
       "      <td>12.232040</td>\n",
       "      <td>1.674328e+06</td>\n",
       "      <td>0.009265</td>\n",
       "      <td>3.803734</td>\n",
       "    </tr>\n",
       "    <tr>\n",
       "      <th>...</th>\n",
       "      <td>...</td>\n",
       "      <td>...</td>\n",
       "      <td>...</td>\n",
       "      <td>...</td>\n",
       "      <td>...</td>\n",
       "      <td>...</td>\n",
       "      <td>...</td>\n",
       "      <td>...</td>\n",
       "      <td>...</td>\n",
       "      <td>...</td>\n",
       "      <td>...</td>\n",
       "      <td>...</td>\n",
       "      <td>...</td>\n",
       "      <td>...</td>\n",
       "      <td>...</td>\n",
       "      <td>...</td>\n",
       "      <td>...</td>\n",
       "      <td>...</td>\n",
       "      <td>...</td>\n",
       "      <td>...</td>\n",
       "      <td>...</td>\n",
       "    </tr>\n",
       "    <tr>\n",
       "      <th>1649</th>\n",
       "      <td>59.290001</td>\n",
       "      <td>59.680000</td>\n",
       "      <td>55.880001</td>\n",
       "      <td>59.090000</td>\n",
       "      <td>59.090000</td>\n",
       "      <td>108623000.0</td>\n",
       "      <td>59.616000</td>\n",
       "      <td>59.218000</td>\n",
       "      <td>43.093277</td>\n",
       "      <td>36.038355</td>\n",
       "      <td>...</td>\n",
       "      <td>97.847327</td>\n",
       "      <td>0.910010</td>\n",
       "      <td>-72.011152</td>\n",
       "      <td>-1.047822</td>\n",
       "      <td>30.456252</td>\n",
       "      <td>-68.0</td>\n",
       "      <td>7.213708</td>\n",
       "      <td>1.029439e+06</td>\n",
       "      <td>0.025251</td>\n",
       "      <td>6.864802</td>\n",
       "    </tr>\n",
       "    <tr>\n",
       "      <th>1650</th>\n",
       "      <td>102.199997</td>\n",
       "      <td>103.809998</td>\n",
       "      <td>101.550003</td>\n",
       "      <td>103.769997</td>\n",
       "      <td>103.769997</td>\n",
       "      <td>25961200.0</td>\n",
       "      <td>99.948000</td>\n",
       "      <td>97.990000</td>\n",
       "      <td>99.700142</td>\n",
       "      <td>97.906997</td>\n",
       "      <td>...</td>\n",
       "      <td>111.821114</td>\n",
       "      <td>1.259446</td>\n",
       "      <td>164.749880</td>\n",
       "      <td>7.432684</td>\n",
       "      <td>16.613042</td>\n",
       "      <td>76.0</td>\n",
       "      <td>7.928087</td>\n",
       "      <td>1.110176e+06</td>\n",
       "      <td>0.012864</td>\n",
       "      <td>0.689663</td>\n",
       "    </tr>\n",
       "    <tr>\n",
       "      <th>1651</th>\n",
       "      <td>25.809999</td>\n",
       "      <td>26.360001</td>\n",
       "      <td>25.700001</td>\n",
       "      <td>25.969999</td>\n",
       "      <td>25.969999</td>\n",
       "      <td>25687600.0</td>\n",
       "      <td>26.188000</td>\n",
       "      <td>26.704000</td>\n",
       "      <td>27.796576</td>\n",
       "      <td>21.920904</td>\n",
       "      <td>...</td>\n",
       "      <td>102.163647</td>\n",
       "      <td>0.675676</td>\n",
       "      <td>-100.602860</td>\n",
       "      <td>-2.941808</td>\n",
       "      <td>20.908000</td>\n",
       "      <td>48.0</td>\n",
       "      <td>7.802924</td>\n",
       "      <td>1.578159e+06</td>\n",
       "      <td>0.030823</td>\n",
       "      <td>5.741392</td>\n",
       "    </tr>\n",
       "    <tr>\n",
       "      <th>1652</th>\n",
       "      <td>118.989998</td>\n",
       "      <td>120.849998</td>\n",
       "      <td>118.660004</td>\n",
       "      <td>120.610001</td>\n",
       "      <td>120.610001</td>\n",
       "      <td>21541300.0</td>\n",
       "      <td>118.182001</td>\n",
       "      <td>117.650000</td>\n",
       "      <td>96.954352</td>\n",
       "      <td>92.191397</td>\n",
       "      <td>...</td>\n",
       "      <td>107.018637</td>\n",
       "      <td>1.259446</td>\n",
       "      <td>146.606639</td>\n",
       "      <td>3.380212</td>\n",
       "      <td>16.662954</td>\n",
       "      <td>60.0</td>\n",
       "      <td>7.818153</td>\n",
       "      <td>9.731925e+05</td>\n",
       "      <td>0.013661</td>\n",
       "      <td>2.197958</td>\n",
       "    </tr>\n",
       "    <tr>\n",
       "      <th>1653</th>\n",
       "      <td>165.720001</td>\n",
       "      <td>165.779999</td>\n",
       "      <td>163.389999</td>\n",
       "      <td>164.830002</td>\n",
       "      <td>164.830002</td>\n",
       "      <td>18119400.0</td>\n",
       "      <td>164.916000</td>\n",
       "      <td>161.025999</td>\n",
       "      <td>78.941609</td>\n",
       "      <td>77.850644</td>\n",
       "      <td>...</td>\n",
       "      <td>102.980135</td>\n",
       "      <td>1.259446</td>\n",
       "      <td>94.917630</td>\n",
       "      <td>3.448711</td>\n",
       "      <td>20.807349</td>\n",
       "      <td>-28.0</td>\n",
       "      <td>7.054618</td>\n",
       "      <td>8.671233e+05</td>\n",
       "      <td>0.016178</td>\n",
       "      <td>5.779524</td>\n",
       "    </tr>\n",
       "  </tbody>\n",
       "</table>\n",
       "<p>1654 rows × 28 columns</p>\n",
       "</div>"
      ],
      "text/plain": [
       "            Open        High         Low       Close   Adj Close       Volume  \\\n",
       "0     161.500000  166.119995  161.240005  165.440002  165.440002   20211500.0   \n",
       "1     186.940002  187.889999  185.630005  187.839996  187.839996   10529900.0   \n",
       "2     184.850006  188.320007  184.179993  186.990005  186.990005   21207800.0   \n",
       "3      49.770000   51.160000   49.570000   51.040001   51.040001   74447000.0   \n",
       "4     178.350006  179.100006  177.960007  178.460007  178.460007   11070200.0   \n",
       "...          ...         ...         ...         ...         ...          ...   \n",
       "1649   59.290001   59.680000   55.880001   59.090000   59.090000  108623000.0   \n",
       "1650  102.199997  103.809998  101.550003  103.769997  103.769997   25961200.0   \n",
       "1651   25.809999   26.360001   25.700001   25.969999   25.969999   25687600.0   \n",
       "1652  118.989998  120.849998  118.660004  120.610001  120.610001   21541300.0   \n",
       "1653  165.720001  165.779999  163.389999  164.830002  164.830002   18119400.0   \n",
       "\n",
       "            SMA5       SMA10  StochasticK  StochasticD  ...    Momentum  \\\n",
       "0     164.726001  167.972002    41.011993    21.393720  ...  102.471357   \n",
       "1     187.034000  183.325999    92.550961    93.651926  ...  104.640411   \n",
       "2     182.414001  178.463002    95.860561    97.517190  ...  112.753262   \n",
       "3      50.230000   49.788000    93.893161    84.369339  ...  120.065875   \n",
       "4     179.548001  179.817000    68.308433    72.924154  ...  104.198052   \n",
       "...          ...         ...          ...          ...  ...         ...   \n",
       "1649   59.616000   59.218000    43.093277    36.038355  ...   97.847327   \n",
       "1650   99.948000   97.990000    99.700142    97.906997  ...  111.821114   \n",
       "1651   26.188000   26.704000    27.796576    21.920904  ...  102.163647   \n",
       "1652  118.182001  117.650000    96.954352    92.191397  ...  107.018637   \n",
       "1653  164.916000  161.025999    78.941609    77.850644  ...  102.980135   \n",
       "\n",
       "           RSI         CCI        DI        ADX  Aroon  sqrt(StochasticK)/RSI  \\\n",
       "0     0.910010  -65.307025 -1.571516  18.750457   56.0               7.037351   \n",
       "1     0.381194   91.476834  3.460945  17.774823   88.0              25.237361   \n",
       "2     0.910010  148.552991  6.774727  20.775024   96.0              10.759046   \n",
       "3     0.910010   70.574462  4.827993  50.240747   76.0              10.648067   \n",
       "4     0.675676   21.694999  0.376046  13.458131   20.0              12.232040   \n",
       "...        ...         ...       ...        ...    ...                    ...   \n",
       "1649  0.910010  -72.011152 -1.047822  30.456252  -68.0               7.213708   \n",
       "1650  1.259446  164.749880  7.432684  16.613042   76.0               7.928087   \n",
       "1651  0.675676 -100.602860 -2.941808  20.908000   48.0               7.802924   \n",
       "1652  1.259446  146.606639  3.380212  16.662954   60.0               7.818153   \n",
       "1653  1.259446   94.917630  3.448711  20.807349  -28.0               7.054618   \n",
       "\n",
       "      Momentum**3/RSI  RSI/StochasticD  sqrt(LarryWilliamsR)*RSI  \n",
       "0        1.182391e+06         0.042536                  6.989210  \n",
       "1        3.005743e+06         0.004070                  1.040391  \n",
       "2        1.575220e+06         0.009332                  1.851471  \n",
       "3        1.902009e+06         0.010786                  2.248819  \n",
       "4        1.674328e+06         0.009265                  3.803734  \n",
       "...               ...              ...                       ...  \n",
       "1649     1.029439e+06         0.025251                  6.864802  \n",
       "1650     1.110176e+06         0.012864                  0.689663  \n",
       "1651     1.578159e+06         0.030823                  5.741392  \n",
       "1652     9.731925e+05         0.013661                  2.197958  \n",
       "1653     8.671233e+05         0.016178                  5.779524  \n",
       "\n",
       "[1654 rows x 28 columns]"
      ]
     },
     "execution_count": 51,
     "metadata": {},
     "output_type": "execute_result"
    }
   ],
   "source": [
    "df"
   ]
  },
  {
   "cell_type": "code",
   "execution_count": 52,
   "metadata": {},
   "outputs": [
    {
     "data": {
      "text/html": [
       "<div>\n",
       "<style scoped>\n",
       "    .dataframe tbody tr th:only-of-type {\n",
       "        vertical-align: middle;\n",
       "    }\n",
       "\n",
       "    .dataframe tbody tr th {\n",
       "        vertical-align: top;\n",
       "    }\n",
       "\n",
       "    .dataframe thead th {\n",
       "        text-align: right;\n",
       "    }\n",
       "</style>\n",
       "<table border=\"1\" class=\"dataframe\">\n",
       "  <thead>\n",
       "    <tr style=\"text-align: right;\">\n",
       "      <th></th>\n",
       "      <th>Open</th>\n",
       "      <th>High</th>\n",
       "      <th>Low</th>\n",
       "      <th>Close</th>\n",
       "      <th>Adj Close</th>\n",
       "      <th>Volume</th>\n",
       "      <th>SMA5</th>\n",
       "      <th>SMA10</th>\n",
       "      <th>StochasticK</th>\n",
       "      <th>StochasticD</th>\n",
       "      <th>...</th>\n",
       "      <th>Momentum</th>\n",
       "      <th>RSI</th>\n",
       "      <th>CCI</th>\n",
       "      <th>DI</th>\n",
       "      <th>ADX</th>\n",
       "      <th>Aroon</th>\n",
       "      <th>sqrt(StochasticK)/RSI</th>\n",
       "      <th>Momentum**3/RSI</th>\n",
       "      <th>RSI/StochasticD</th>\n",
       "      <th>sqrt(LarryWilliamsR)*RSI</th>\n",
       "    </tr>\n",
       "  </thead>\n",
       "  <tbody>\n",
       "    <tr>\n",
       "      <th>0</th>\n",
       "      <td>351.230011</td>\n",
       "      <td>354.190002</td>\n",
       "      <td>349.640015</td>\n",
       "      <td>353.160004</td>\n",
       "      <td>353.160004</td>\n",
       "      <td>10018600.0</td>\n",
       "      <td>350.500000</td>\n",
       "      <td>351.683005</td>\n",
       "      <td>78.503229</td>\n",
       "      <td>69.809361</td>\n",
       "      <td>...</td>\n",
       "      <td>106.280657</td>\n",
       "      <td>0.507614</td>\n",
       "      <td>57.872836</td>\n",
       "      <td>1.295637</td>\n",
       "      <td>27.126977</td>\n",
       "      <td>24.0</td>\n",
       "      <td>17.454603</td>\n",
       "      <td>2.364988e+06</td>\n",
       "      <td>0.007271</td>\n",
       "      <td>2.353534</td>\n",
       "    </tr>\n",
       "    <tr>\n",
       "      <th>1</th>\n",
       "      <td>173.080002</td>\n",
       "      <td>176.979996</td>\n",
       "      <td>173.059998</td>\n",
       "      <td>176.610001</td>\n",
       "      <td>176.610001</td>\n",
       "      <td>17677800.0</td>\n",
       "      <td>174.512003</td>\n",
       "      <td>170.553001</td>\n",
       "      <td>93.284600</td>\n",
       "      <td>88.518358</td>\n",
       "      <td>...</td>\n",
       "      <td>107.146757</td>\n",
       "      <td>0.381194</td>\n",
       "      <td>85.449174</td>\n",
       "      <td>4.110015</td>\n",
       "      <td>17.454155</td>\n",
       "      <td>88.0</td>\n",
       "      <td>25.337190</td>\n",
       "      <td>3.226938e+06</td>\n",
       "      <td>0.004306</td>\n",
       "      <td>0.987831</td>\n",
       "    </tr>\n",
       "    <tr>\n",
       "      <th>2</th>\n",
       "      <td>183.770004</td>\n",
       "      <td>186.080002</td>\n",
       "      <td>183.470001</td>\n",
       "      <td>185.570007</td>\n",
       "      <td>185.570007</td>\n",
       "      <td>10128700.0</td>\n",
       "      <td>181.348001</td>\n",
       "      <td>182.601000</td>\n",
       "      <td>60.529908</td>\n",
       "      <td>42.232771</td>\n",
       "      <td>...</td>\n",
       "      <td>98.786266</td>\n",
       "      <td>0.910010</td>\n",
       "      <td>57.198164</td>\n",
       "      <td>1.399231</td>\n",
       "      <td>22.935268</td>\n",
       "      <td>-80.0</td>\n",
       "      <td>8.549462</td>\n",
       "      <td>1.059360e+06</td>\n",
       "      <td>0.021547</td>\n",
       "      <td>5.717159</td>\n",
       "    </tr>\n",
       "    <tr>\n",
       "      <th>3</th>\n",
       "      <td>19.879999</td>\n",
       "      <td>19.959999</td>\n",
       "      <td>19.610001</td>\n",
       "      <td>19.750000</td>\n",
       "      <td>19.750000</td>\n",
       "      <td>21817300.0</td>\n",
       "      <td>20.186000</td>\n",
       "      <td>21.063000</td>\n",
       "      <td>9.554111</td>\n",
       "      <td>9.022426</td>\n",
       "      <td>...</td>\n",
       "      <td>86.395447</td>\n",
       "      <td>0.381194</td>\n",
       "      <td>-108.281634</td>\n",
       "      <td>-5.515310</td>\n",
       "      <td>19.273140</td>\n",
       "      <td>28.0</td>\n",
       "      <td>8.108651</td>\n",
       "      <td>1.691710e+06</td>\n",
       "      <td>0.042250</td>\n",
       "      <td>3.625275</td>\n",
       "    </tr>\n",
       "    <tr>\n",
       "      <th>4</th>\n",
       "      <td>192.039993</td>\n",
       "      <td>194.210007</td>\n",
       "      <td>189.979996</td>\n",
       "      <td>190.279999</td>\n",
       "      <td>190.279999</td>\n",
       "      <td>26677500.0</td>\n",
       "      <td>188.671997</td>\n",
       "      <td>188.210999</td>\n",
       "      <td>74.180292</td>\n",
       "      <td>79.128635</td>\n",
       "      <td>...</td>\n",
       "      <td>106.082402</td>\n",
       "      <td>0.675676</td>\n",
       "      <td>105.824922</td>\n",
       "      <td>2.490391</td>\n",
       "      <td>16.397169</td>\n",
       "      <td>88.0</td>\n",
       "      <td>12.746941</td>\n",
       "      <td>1.766818e+06</td>\n",
       "      <td>0.008539</td>\n",
       "      <td>3.433317</td>\n",
       "    </tr>\n",
       "    <tr>\n",
       "      <th>...</th>\n",
       "      <td>...</td>\n",
       "      <td>...</td>\n",
       "      <td>...</td>\n",
       "      <td>...</td>\n",
       "      <td>...</td>\n",
       "      <td>...</td>\n",
       "      <td>...</td>\n",
       "      <td>...</td>\n",
       "      <td>...</td>\n",
       "      <td>...</td>\n",
       "      <td>...</td>\n",
       "      <td>...</td>\n",
       "      <td>...</td>\n",
       "      <td>...</td>\n",
       "      <td>...</td>\n",
       "      <td>...</td>\n",
       "      <td>...</td>\n",
       "      <td>...</td>\n",
       "      <td>...</td>\n",
       "      <td>...</td>\n",
       "      <td>...</td>\n",
       "    </tr>\n",
       "    <tr>\n",
       "      <th>705</th>\n",
       "      <td>116.730003</td>\n",
       "      <td>118.489998</td>\n",
       "      <td>115.830002</td>\n",
       "      <td>117.199997</td>\n",
       "      <td>117.199997</td>\n",
       "      <td>34681400.0</td>\n",
       "      <td>119.056000</td>\n",
       "      <td>120.957000</td>\n",
       "      <td>18.795028</td>\n",
       "      <td>15.747995</td>\n",
       "      <td>...</td>\n",
       "      <td>89.438342</td>\n",
       "      <td>0.282646</td>\n",
       "      <td>-96.789829</td>\n",
       "      <td>-5.213054</td>\n",
       "      <td>29.133201</td>\n",
       "      <td>-60.0</td>\n",
       "      <td>15.338374</td>\n",
       "      <td>2.531215e+06</td>\n",
       "      <td>0.017948</td>\n",
       "      <td>2.547027</td>\n",
       "    </tr>\n",
       "    <tr>\n",
       "      <th>706</th>\n",
       "      <td>358.450012</td>\n",
       "      <td>363.000000</td>\n",
       "      <td>357.109985</td>\n",
       "      <td>362.649994</td>\n",
       "      <td>362.649994</td>\n",
       "      <td>7170700.0</td>\n",
       "      <td>361.771997</td>\n",
       "      <td>359.023999</td>\n",
       "      <td>50.083732</td>\n",
       "      <td>46.794244</td>\n",
       "      <td>...</td>\n",
       "      <td>98.069170</td>\n",
       "      <td>0.381194</td>\n",
       "      <td>-8.932888</td>\n",
       "      <td>0.296120</td>\n",
       "      <td>20.584551</td>\n",
       "      <td>28.0</td>\n",
       "      <td>18.565293</td>\n",
       "      <td>2.474292e+06</td>\n",
       "      <td>0.008146</td>\n",
       "      <td>2.693194</td>\n",
       "    </tr>\n",
       "    <tr>\n",
       "      <th>707</th>\n",
       "      <td>68.180000</td>\n",
       "      <td>68.949997</td>\n",
       "      <td>66.620003</td>\n",
       "      <td>68.739998</td>\n",
       "      <td>68.739998</td>\n",
       "      <td>52197000.0</td>\n",
       "      <td>69.253999</td>\n",
       "      <td>69.931000</td>\n",
       "      <td>36.677602</td>\n",
       "      <td>31.578951</td>\n",
       "      <td>...</td>\n",
       "      <td>98.410880</td>\n",
       "      <td>0.381194</td>\n",
       "      <td>-89.391754</td>\n",
       "      <td>-1.132141</td>\n",
       "      <td>26.350170</td>\n",
       "      <td>76.0</td>\n",
       "      <td>15.887441</td>\n",
       "      <td>2.500247e+06</td>\n",
       "      <td>0.012071</td>\n",
       "      <td>3.033369</td>\n",
       "    </tr>\n",
       "    <tr>\n",
       "      <th>708</th>\n",
       "      <td>176.300003</td>\n",
       "      <td>176.789993</td>\n",
       "      <td>174.750000</td>\n",
       "      <td>175.899994</td>\n",
       "      <td>175.899994</td>\n",
       "      <td>18494100.0</td>\n",
       "      <td>175.433997</td>\n",
       "      <td>174.442998</td>\n",
       "      <td>42.649498</td>\n",
       "      <td>39.301505</td>\n",
       "      <td>...</td>\n",
       "      <td>96.072968</td>\n",
       "      <td>0.381194</td>\n",
       "      <td>-10.993983</td>\n",
       "      <td>-0.112764</td>\n",
       "      <td>28.943345</td>\n",
       "      <td>20.0</td>\n",
       "      <td>17.132094</td>\n",
       "      <td>2.326254e+06</td>\n",
       "      <td>0.009699</td>\n",
       "      <td>2.886790</td>\n",
       "    </tr>\n",
       "    <tr>\n",
       "      <th>709</th>\n",
       "      <td>128.029999</td>\n",
       "      <td>128.589996</td>\n",
       "      <td>127.449997</td>\n",
       "      <td>128.270004</td>\n",
       "      <td>128.270004</td>\n",
       "      <td>18402900.0</td>\n",
       "      <td>128.317999</td>\n",
       "      <td>128.685999</td>\n",
       "      <td>39.557817</td>\n",
       "      <td>52.141740</td>\n",
       "      <td>...</td>\n",
       "      <td>99.673636</td>\n",
       "      <td>0.910010</td>\n",
       "      <td>-43.217082</td>\n",
       "      <td>-0.193410</td>\n",
       "      <td>21.197389</td>\n",
       "      <td>28.0</td>\n",
       "      <td>6.911462</td>\n",
       "      <td>1.088165e+06</td>\n",
       "      <td>0.017453</td>\n",
       "      <td>7.074835</td>\n",
       "    </tr>\n",
       "  </tbody>\n",
       "</table>\n",
       "<p>710 rows × 28 columns</p>\n",
       "</div>"
      ],
      "text/plain": [
       "           Open        High         Low       Close   Adj Close      Volume  \\\n",
       "0    351.230011  354.190002  349.640015  353.160004  353.160004  10018600.0   \n",
       "1    173.080002  176.979996  173.059998  176.610001  176.610001  17677800.0   \n",
       "2    183.770004  186.080002  183.470001  185.570007  185.570007  10128700.0   \n",
       "3     19.879999   19.959999   19.610001   19.750000   19.750000  21817300.0   \n",
       "4    192.039993  194.210007  189.979996  190.279999  190.279999  26677500.0   \n",
       "..          ...         ...         ...         ...         ...         ...   \n",
       "705  116.730003  118.489998  115.830002  117.199997  117.199997  34681400.0   \n",
       "706  358.450012  363.000000  357.109985  362.649994  362.649994   7170700.0   \n",
       "707   68.180000   68.949997   66.620003   68.739998   68.739998  52197000.0   \n",
       "708  176.300003  176.789993  174.750000  175.899994  175.899994  18494100.0   \n",
       "709  128.029999  128.589996  127.449997  128.270004  128.270004  18402900.0   \n",
       "\n",
       "           SMA5       SMA10  StochasticK  StochasticD  ...    Momentum  \\\n",
       "0    350.500000  351.683005    78.503229    69.809361  ...  106.280657   \n",
       "1    174.512003  170.553001    93.284600    88.518358  ...  107.146757   \n",
       "2    181.348001  182.601000    60.529908    42.232771  ...   98.786266   \n",
       "3     20.186000   21.063000     9.554111     9.022426  ...   86.395447   \n",
       "4    188.671997  188.210999    74.180292    79.128635  ...  106.082402   \n",
       "..          ...         ...          ...          ...  ...         ...   \n",
       "705  119.056000  120.957000    18.795028    15.747995  ...   89.438342   \n",
       "706  361.771997  359.023999    50.083732    46.794244  ...   98.069170   \n",
       "707   69.253999   69.931000    36.677602    31.578951  ...   98.410880   \n",
       "708  175.433997  174.442998    42.649498    39.301505  ...   96.072968   \n",
       "709  128.317999  128.685999    39.557817    52.141740  ...   99.673636   \n",
       "\n",
       "          RSI         CCI        DI        ADX  Aroon  sqrt(StochasticK)/RSI  \\\n",
       "0    0.507614   57.872836  1.295637  27.126977   24.0              17.454603   \n",
       "1    0.381194   85.449174  4.110015  17.454155   88.0              25.337190   \n",
       "2    0.910010   57.198164  1.399231  22.935268  -80.0               8.549462   \n",
       "3    0.381194 -108.281634 -5.515310  19.273140   28.0               8.108651   \n",
       "4    0.675676  105.824922  2.490391  16.397169   88.0              12.746941   \n",
       "..        ...         ...       ...        ...    ...                    ...   \n",
       "705  0.282646  -96.789829 -5.213054  29.133201  -60.0              15.338374   \n",
       "706  0.381194   -8.932888  0.296120  20.584551   28.0              18.565293   \n",
       "707  0.381194  -89.391754 -1.132141  26.350170   76.0              15.887441   \n",
       "708  0.381194  -10.993983 -0.112764  28.943345   20.0              17.132094   \n",
       "709  0.910010  -43.217082 -0.193410  21.197389   28.0               6.911462   \n",
       "\n",
       "     Momentum**3/RSI  RSI/StochasticD  sqrt(LarryWilliamsR)*RSI  \n",
       "0       2.364988e+06         0.007271                  2.353534  \n",
       "1       3.226938e+06         0.004306                  0.987831  \n",
       "2       1.059360e+06         0.021547                  5.717159  \n",
       "3       1.691710e+06         0.042250                  3.625275  \n",
       "4       1.766818e+06         0.008539                  3.433317  \n",
       "..               ...              ...                       ...  \n",
       "705     2.531215e+06         0.017948                  2.547027  \n",
       "706     2.474292e+06         0.008146                  2.693194  \n",
       "707     2.500247e+06         0.012071                  3.033369  \n",
       "708     2.326254e+06         0.009699                  2.886790  \n",
       "709     1.088165e+06         0.017453                  7.074835  \n",
       "\n",
       "[710 rows x 28 columns]"
      ]
     },
     "execution_count": 52,
     "metadata": {},
     "output_type": "execute_result"
    }
   ],
   "source": [
    "df_test"
   ]
  },
  {
   "cell_type": "markdown",
   "metadata": {},
   "source": [
    "### Generate New Features Based on autofeat Results"
   ]
  },
  {
   "cell_type": "code",
   "execution_count": 53,
   "metadata": {},
   "outputs": [],
   "source": [
    "import math"
   ]
  },
  {
   "cell_type": "code",
   "execution_count": 54,
   "metadata": {},
   "outputs": [
    {
     "data": {
      "text/plain": [
       "Index(['Open', 'High', 'Low', 'Close', 'Adj Close', 'Volume', 'SMA5', 'SMA10',\n",
       "       'StochasticK', 'StochasticD', 'LarryWilliamsR', 'ROC', 'PVT', 'ADO',\n",
       "       'WMA10', 'EMA12', 'EMA26', 'MACD', 'Momentum', 'RSI', 'CCI', 'DI',\n",
       "       'ADX', 'Aroon', 'sqrt(StochasticK)/RSI', 'Momentum**3/RSI',\n",
       "       'RSI/StochasticD', 'sqrt(LarryWilliamsR)*RSI'],\n",
       "      dtype='object')"
      ]
     },
     "execution_count": 54,
     "metadata": {},
     "output_type": "execute_result"
    }
   ],
   "source": [
    "df_test.columns"
   ]
  },
  {
   "cell_type": "code",
   "execution_count": 55,
   "metadata": {},
   "outputs": [],
   "source": [
    "def sqrt_stochastic_k_rsi(stochastic_k, rsi):\n",
    "    return(np.sqrt(stochastic_k)/rsi)"
   ]
  },
  {
   "cell_type": "code",
   "execution_count": 56,
   "metadata": {},
   "outputs": [],
   "source": [
    "def momentum_3_rsi(momentum, rsi):\n",
    "    return ((momentum**3)/rsi)"
   ]
  },
  {
   "cell_type": "code",
   "execution_count": 57,
   "metadata": {},
   "outputs": [],
   "source": [
    "def rsi_stochastic_d (rsi, stochastic_d):\n",
    "    return (rsi / stochastic_d)"
   ]
  },
  {
   "cell_type": "code",
   "execution_count": 58,
   "metadata": {},
   "outputs": [],
   "source": [
    "def sqrt_lwr_rsi (larry_williams_r, rsi):\n",
    "    return (np.sqrt(larry_williams_r)*rsi)"
   ]
  },
  {
   "cell_type": "code",
   "execution_count": 59,
   "metadata": {},
   "outputs": [],
   "source": [
    "def compute_adv_indicators(complete_data):\n",
    "    complete_data['SqrtStochasticK/RSI'] = sqrt_stochastic_k_rsi(complete_data['StochasticK'], complete_data['RSI'])\n",
    "    complete_data['Momentum**3/RSI'] = momentum_3_rsi(complete_data['Momentum'], complete_data['RSI'])\n",
    "    complete_data['RSI/StochasticD'] = rsi_stochastic_d(complete_data['RSI'], complete_data['StochasticD'])\n",
    "    complete_data['SqrtLarryWilliamsR*RSI'] = sqrt_lwr_rsi(complete_data['LarryWilliamsR'], complete_data['RSI'])\n",
    "    return complete_data"
   ]
  },
  {
   "cell_type": "code",
   "execution_count": 60,
   "metadata": {},
   "outputs": [
    {
     "data": {
      "text/html": [
       "<div>\n",
       "<style scoped>\n",
       "    .dataframe tbody tr th:only-of-type {\n",
       "        vertical-align: middle;\n",
       "    }\n",
       "\n",
       "    .dataframe tbody tr th {\n",
       "        vertical-align: top;\n",
       "    }\n",
       "\n",
       "    .dataframe thead th {\n",
       "        text-align: right;\n",
       "    }\n",
       "</style>\n",
       "<table border=\"1\" class=\"dataframe\">\n",
       "  <thead>\n",
       "    <tr style=\"text-align: right;\">\n",
       "      <th></th>\n",
       "      <th>Open</th>\n",
       "      <th>High</th>\n",
       "      <th>Low</th>\n",
       "      <th>Close</th>\n",
       "      <th>Adj Close</th>\n",
       "      <th>Volume</th>\n",
       "      <th>SMA5</th>\n",
       "      <th>SMA10</th>\n",
       "      <th>StochasticK</th>\n",
       "      <th>StochasticD</th>\n",
       "      <th>...</th>\n",
       "      <th>Momentum</th>\n",
       "      <th>RSI</th>\n",
       "      <th>CCI</th>\n",
       "      <th>DI</th>\n",
       "      <th>ADX</th>\n",
       "      <th>Aroon</th>\n",
       "      <th>SqrtStochasticK/RSI</th>\n",
       "      <th>Momentum**3/RSI</th>\n",
       "      <th>RSI/StochasticD</th>\n",
       "      <th>SqrtLarryWilliamsR*RSI</th>\n",
       "    </tr>\n",
       "  </thead>\n",
       "  <tbody>\n",
       "    <tr>\n",
       "      <th>14</th>\n",
       "      <td>26.549999</td>\n",
       "      <td>27.760000</td>\n",
       "      <td>26.440001</td>\n",
       "      <td>27.100000</td>\n",
       "      <td>27.100000</td>\n",
       "      <td>38034000</td>\n",
       "      <td>26.598000</td>\n",
       "      <td>27.925000</td>\n",
       "      <td>14.183124</td>\n",
       "      <td>9.119280</td>\n",
       "      <td>...</td>\n",
       "      <td>70.886738</td>\n",
       "      <td>0.282646</td>\n",
       "      <td>-66.138608</td>\n",
       "      <td>-7.307419</td>\n",
       "      <td>81.950354</td>\n",
       "      <td>-44.0</td>\n",
       "      <td>13.324281</td>\n",
       "      <td>1.260239e+06</td>\n",
       "      <td>0.030994</td>\n",
       "      <td>2.618355</td>\n",
       "    </tr>\n",
       "    <tr>\n",
       "      <th>15</th>\n",
       "      <td>27.180000</td>\n",
       "      <td>28.070000</td>\n",
       "      <td>26.840000</td>\n",
       "      <td>27.010000</td>\n",
       "      <td>27.010000</td>\n",
       "      <td>28219600</td>\n",
       "      <td>26.620000</td>\n",
       "      <td>27.435000</td>\n",
       "      <td>18.463445</td>\n",
       "      <td>12.234002</td>\n",
       "      <td>...</td>\n",
       "      <td>79.371145</td>\n",
       "      <td>0.381194</td>\n",
       "      <td>-53.840862</td>\n",
       "      <td>-6.003132</td>\n",
       "      <td>77.257952</td>\n",
       "      <td>-44.0</td>\n",
       "      <td>11.272230</td>\n",
       "      <td>1.311721e+06</td>\n",
       "      <td>0.031159</td>\n",
       "      <td>3.442094</td>\n",
       "    </tr>\n",
       "    <tr>\n",
       "      <th>16</th>\n",
       "      <td>27.480000</td>\n",
       "      <td>27.770000</td>\n",
       "      <td>26.959999</td>\n",
       "      <td>27.400000</td>\n",
       "      <td>27.400000</td>\n",
       "      <td>15816800</td>\n",
       "      <td>26.926000</td>\n",
       "      <td>27.291000</td>\n",
       "      <td>24.447337</td>\n",
       "      <td>19.031302</td>\n",
       "      <td>...</td>\n",
       "      <td>88.387097</td>\n",
       "      <td>0.282646</td>\n",
       "      <td>-45.779188</td>\n",
       "      <td>-3.784895</td>\n",
       "      <td>73.418742</td>\n",
       "      <td>-44.0</td>\n",
       "      <td>17.493375</td>\n",
       "      <td>2.443005e+06</td>\n",
       "      <td>0.014852</td>\n",
       "      <td>2.456784</td>\n",
       "    </tr>\n",
       "    <tr>\n",
       "      <th>17</th>\n",
       "      <td>27.660000</td>\n",
       "      <td>28.100000</td>\n",
       "      <td>27.100000</td>\n",
       "      <td>27.270000</td>\n",
       "      <td>27.270000</td>\n",
       "      <td>17102800</td>\n",
       "      <td>27.018000</td>\n",
       "      <td>27.199000</td>\n",
       "      <td>22.756830</td>\n",
       "      <td>21.889204</td>\n",
       "      <td>...</td>\n",
       "      <td>85.218750</td>\n",
       "      <td>0.282646</td>\n",
       "      <td>-34.377153</td>\n",
       "      <td>-3.091684</td>\n",
       "      <td>71.350434</td>\n",
       "      <td>-44.0</td>\n",
       "      <td>16.877717</td>\n",
       "      <td>2.189593e+06</td>\n",
       "      <td>0.012913</td>\n",
       "      <td>2.484118</td>\n",
       "    </tr>\n",
       "    <tr>\n",
       "      <th>18</th>\n",
       "      <td>27.650000</td>\n",
       "      <td>28.320000</td>\n",
       "      <td>27.379999</td>\n",
       "      <td>28.290001</td>\n",
       "      <td>28.290001</td>\n",
       "      <td>16855000</td>\n",
       "      <td>27.414000</td>\n",
       "      <td>27.068000</td>\n",
       "      <td>37.281301</td>\n",
       "      <td>28.161823</td>\n",
       "      <td>...</td>\n",
       "      <td>85.649415</td>\n",
       "      <td>0.381194</td>\n",
       "      <td>4.817392</td>\n",
       "      <td>1.757364</td>\n",
       "      <td>68.371248</td>\n",
       "      <td>-44.0</td>\n",
       "      <td>16.017658</td>\n",
       "      <td>1.648264e+06</td>\n",
       "      <td>0.013536</td>\n",
       "      <td>3.018874</td>\n",
       "    </tr>\n",
       "    <tr>\n",
       "      <th>...</th>\n",
       "      <td>...</td>\n",
       "      <td>...</td>\n",
       "      <td>...</td>\n",
       "      <td>...</td>\n",
       "      <td>...</td>\n",
       "      <td>...</td>\n",
       "      <td>...</td>\n",
       "      <td>...</td>\n",
       "      <td>...</td>\n",
       "      <td>...</td>\n",
       "      <td>...</td>\n",
       "      <td>...</td>\n",
       "      <td>...</td>\n",
       "      <td>...</td>\n",
       "      <td>...</td>\n",
       "      <td>...</td>\n",
       "      <td>...</td>\n",
       "      <td>...</td>\n",
       "      <td>...</td>\n",
       "      <td>...</td>\n",
       "      <td>...</td>\n",
       "    </tr>\n",
       "    <tr>\n",
       "      <th>2373</th>\n",
       "      <td>326.350006</td>\n",
       "      <td>329.630005</td>\n",
       "      <td>321.109985</td>\n",
       "      <td>324.609985</td>\n",
       "      <td>324.609985</td>\n",
       "      <td>35152700</td>\n",
       "      <td>336.519995</td>\n",
       "      <td>330.964999</td>\n",
       "      <td>27.207763</td>\n",
       "      <td>67.993823</td>\n",
       "      <td>...</td>\n",
       "      <td>99.503410</td>\n",
       "      <td>0.910010</td>\n",
       "      <td>-82.414952</td>\n",
       "      <td>-1.962675</td>\n",
       "      <td>32.401953</td>\n",
       "      <td>-60.0</td>\n",
       "      <td>5.731921</td>\n",
       "      <td>1.082599e+06</td>\n",
       "      <td>0.013384</td>\n",
       "      <td>7.764058</td>\n",
       "    </tr>\n",
       "    <tr>\n",
       "      <th>2374</th>\n",
       "      <td>320.299988</td>\n",
       "      <td>329.559998</td>\n",
       "      <td>319.720001</td>\n",
       "      <td>328.690002</td>\n",
       "      <td>328.690002</td>\n",
       "      <td>38409000</td>\n",
       "      <td>335.189996</td>\n",
       "      <td>331.288998</td>\n",
       "      <td>42.540399</td>\n",
       "      <td>53.952125</td>\n",
       "      <td>...</td>\n",
       "      <td>98.717567</td>\n",
       "      <td>0.675676</td>\n",
       "      <td>-60.952286</td>\n",
       "      <td>-0.638920</td>\n",
       "      <td>32.451445</td>\n",
       "      <td>-60.0</td>\n",
       "      <td>9.653004</td>\n",
       "      <td>1.423787e+06</td>\n",
       "      <td>0.012524</td>\n",
       "      <td>5.121764</td>\n",
       "    </tr>\n",
       "    <tr>\n",
       "      <th>2375</th>\n",
       "      <td>328.260010</td>\n",
       "      <td>330.209991</td>\n",
       "      <td>309.600006</td>\n",
       "      <td>315.809998</td>\n",
       "      <td>315.809998</td>\n",
       "      <td>65654000</td>\n",
       "      <td>330.353998</td>\n",
       "      <td>330.492999</td>\n",
       "      <td>18.062801</td>\n",
       "      <td>29.270321</td>\n",
       "      <td>...</td>\n",
       "      <td>94.655912</td>\n",
       "      <td>0.675676</td>\n",
       "      <td>-130.133739</td>\n",
       "      <td>-4.163506</td>\n",
       "      <td>32.635555</td>\n",
       "      <td>-84.0</td>\n",
       "      <td>6.290052</td>\n",
       "      <td>1.255177e+06</td>\n",
       "      <td>0.023084</td>\n",
       "      <td>6.116160</td>\n",
       "    </tr>\n",
       "    <tr>\n",
       "      <th>2376</th>\n",
       "      <td>314.190002</td>\n",
       "      <td>319.250000</td>\n",
       "      <td>312.059998</td>\n",
       "      <td>312.220001</td>\n",
       "      <td>312.220001</td>\n",
       "      <td>29971800</td>\n",
       "      <td>324.641998</td>\n",
       "      <td>329.260999</td>\n",
       "      <td>7.620694</td>\n",
       "      <td>22.741298</td>\n",
       "      <td>...</td>\n",
       "      <td>94.836280</td>\n",
       "      <td>0.675676</td>\n",
       "      <td>-147.516715</td>\n",
       "      <td>-4.902510</td>\n",
       "      <td>33.349941</td>\n",
       "      <td>-88.0</td>\n",
       "      <td>4.085629</td>\n",
       "      <td>1.262366e+06</td>\n",
       "      <td>0.029711</td>\n",
       "      <td>6.494200</td>\n",
       "    </tr>\n",
       "    <tr>\n",
       "      <th>2377</th>\n",
       "      <td>312.989990</td>\n",
       "      <td>325.519989</td>\n",
       "      <td>308.109985</td>\n",
       "      <td>316.920013</td>\n",
       "      <td>316.920013</td>\n",
       "      <td>50806800</td>\n",
       "      <td>319.650000</td>\n",
       "      <td>328.100000</td>\n",
       "      <td>24.560975</td>\n",
       "      <td>16.748157</td>\n",
       "      <td>...</td>\n",
       "      <td>96.021822</td>\n",
       "      <td>0.910010</td>\n",
       "      <td>-105.801103</td>\n",
       "      <td>-3.194426</td>\n",
       "      <td>33.965208</td>\n",
       "      <td>-88.0</td>\n",
       "      <td>5.445987</td>\n",
       "      <td>9.728897e+05</td>\n",
       "      <td>0.054335</td>\n",
       "      <td>7.903951</td>\n",
       "    </tr>\n",
       "  </tbody>\n",
       "</table>\n",
       "<p>2364 rows × 28 columns</p>\n",
       "</div>"
      ],
      "text/plain": [
       "            Open        High         Low       Close   Adj Close    Volume  \\\n",
       "14     26.549999   27.760000   26.440001   27.100000   27.100000  38034000   \n",
       "15     27.180000   28.070000   26.840000   27.010000   27.010000  28219600   \n",
       "16     27.480000   27.770000   26.959999   27.400000   27.400000  15816800   \n",
       "17     27.660000   28.100000   27.100000   27.270000   27.270000  17102800   \n",
       "18     27.650000   28.320000   27.379999   28.290001   28.290001  16855000   \n",
       "...          ...         ...         ...         ...         ...       ...   \n",
       "2373  326.350006  329.630005  321.109985  324.609985  324.609985  35152700   \n",
       "2374  320.299988  329.559998  319.720001  328.690002  328.690002  38409000   \n",
       "2375  328.260010  330.209991  309.600006  315.809998  315.809998  65654000   \n",
       "2376  314.190002  319.250000  312.059998  312.220001  312.220001  29971800   \n",
       "2377  312.989990  325.519989  308.109985  316.920013  316.920013  50806800   \n",
       "\n",
       "            SMA5       SMA10  StochasticK  StochasticD  ...   Momentum  \\\n",
       "14     26.598000   27.925000    14.183124     9.119280  ...  70.886738   \n",
       "15     26.620000   27.435000    18.463445    12.234002  ...  79.371145   \n",
       "16     26.926000   27.291000    24.447337    19.031302  ...  88.387097   \n",
       "17     27.018000   27.199000    22.756830    21.889204  ...  85.218750   \n",
       "18     27.414000   27.068000    37.281301    28.161823  ...  85.649415   \n",
       "...          ...         ...          ...          ...  ...        ...   \n",
       "2373  336.519995  330.964999    27.207763    67.993823  ...  99.503410   \n",
       "2374  335.189996  331.288998    42.540399    53.952125  ...  98.717567   \n",
       "2375  330.353998  330.492999    18.062801    29.270321  ...  94.655912   \n",
       "2376  324.641998  329.260999     7.620694    22.741298  ...  94.836280   \n",
       "2377  319.650000  328.100000    24.560975    16.748157  ...  96.021822   \n",
       "\n",
       "           RSI         CCI        DI        ADX  Aroon  SqrtStochasticK/RSI  \\\n",
       "14    0.282646  -66.138608 -7.307419  81.950354  -44.0            13.324281   \n",
       "15    0.381194  -53.840862 -6.003132  77.257952  -44.0            11.272230   \n",
       "16    0.282646  -45.779188 -3.784895  73.418742  -44.0            17.493375   \n",
       "17    0.282646  -34.377153 -3.091684  71.350434  -44.0            16.877717   \n",
       "18    0.381194    4.817392  1.757364  68.371248  -44.0            16.017658   \n",
       "...        ...         ...       ...        ...    ...                  ...   \n",
       "2373  0.910010  -82.414952 -1.962675  32.401953  -60.0             5.731921   \n",
       "2374  0.675676  -60.952286 -0.638920  32.451445  -60.0             9.653004   \n",
       "2375  0.675676 -130.133739 -4.163506  32.635555  -84.0             6.290052   \n",
       "2376  0.675676 -147.516715 -4.902510  33.349941  -88.0             4.085629   \n",
       "2377  0.910010 -105.801103 -3.194426  33.965208  -88.0             5.445987   \n",
       "\n",
       "      Momentum**3/RSI  RSI/StochasticD  SqrtLarryWilliamsR*RSI  \n",
       "14       1.260239e+06         0.030994                2.618355  \n",
       "15       1.311721e+06         0.031159                3.442094  \n",
       "16       2.443005e+06         0.014852                2.456784  \n",
       "17       2.189593e+06         0.012913                2.484118  \n",
       "18       1.648264e+06         0.013536                3.018874  \n",
       "...               ...              ...                     ...  \n",
       "2373     1.082599e+06         0.013384                7.764058  \n",
       "2374     1.423787e+06         0.012524                5.121764  \n",
       "2375     1.255177e+06         0.023084                6.116160  \n",
       "2376     1.262366e+06         0.029711                6.494200  \n",
       "2377     9.728897e+05         0.054335                7.903951  \n",
       "\n",
       "[2364 rows x 28 columns]"
      ]
     },
     "execution_count": 60,
     "metadata": {},
     "output_type": "execute_result"
    }
   ],
   "source": [
    "enhanced_data = compute_adv_indicators(complete_data)\n",
    "enhanced_data"
   ]
  },
  {
   "cell_type": "markdown",
   "metadata": {},
   "source": [
    "### autofeat Feature Selection"
   ]
  },
  {
   "cell_type": "code",
   "execution_count": 61,
   "metadata": {},
   "outputs": [
    {
     "name": "stderr",
     "output_type": "stream",
     "text": [
      "C:\\Users\\rshay\\anaconda3\\lib\\site-packages\\sklearn\\utils\\validation.py:72: DataConversionWarning: A column-vector y was passed when a 1d array was expected. Please change the shape of y to (n_samples, ), for example using ravel().\n",
      "  return f(**kwargs)\n"
     ]
    },
    {
     "name": "stdout",
     "output_type": "stream",
     "text": [
      "[featsel] Scaling data...done.\n",
      "[featsel] Feature selection run 1/5\n",
      "[featsel] Feature selection run 2/5\n",
      "[featsel] Feature selection run 3/5\n",
      "[featsel] Feature selection run 4/5\n",
      "[featsel] Feature selection run 5/5\n",
      "[featsel] 7 features after 5 feature selection runs\n",
      "[featsel] 7 features after correlation filtering\n",
      "[featsel] 4 features after noise filtering\n"
     ]
    }
   ],
   "source": [
    "from autofeat import FeatureSelector\n",
    "fsel = FeatureSelector(verbose=1)\n",
    "selected_data = fsel.fit_transform(pd.DataFrame(enhanced_data), pd.DataFrame(target))"
   ]
  },
  {
   "cell_type": "code",
   "execution_count": 62,
   "metadata": {},
   "outputs": [
    {
     "data": {
      "text/html": [
       "<div>\n",
       "<style scoped>\n",
       "    .dataframe tbody tr th:only-of-type {\n",
       "        vertical-align: middle;\n",
       "    }\n",
       "\n",
       "    .dataframe tbody tr th {\n",
       "        vertical-align: top;\n",
       "    }\n",
       "\n",
       "    .dataframe thead th {\n",
       "        text-align: right;\n",
       "    }\n",
       "</style>\n",
       "<table border=\"1\" class=\"dataframe\">\n",
       "  <thead>\n",
       "    <tr style=\"text-align: right;\">\n",
       "      <th></th>\n",
       "      <th>Momentum**3/RSI</th>\n",
       "      <th>RSI/StochasticD</th>\n",
       "      <th>SqrtStochasticK/RSI</th>\n",
       "      <th>SqrtLarryWilliamsR*RSI</th>\n",
       "    </tr>\n",
       "  </thead>\n",
       "  <tbody>\n",
       "    <tr>\n",
       "      <th>0</th>\n",
       "      <td>1.260239e+06</td>\n",
       "      <td>0.030994</td>\n",
       "      <td>13.324281</td>\n",
       "      <td>2.618355</td>\n",
       "    </tr>\n",
       "    <tr>\n",
       "      <th>1</th>\n",
       "      <td>1.311721e+06</td>\n",
       "      <td>0.031159</td>\n",
       "      <td>11.272230</td>\n",
       "      <td>3.442094</td>\n",
       "    </tr>\n",
       "    <tr>\n",
       "      <th>2</th>\n",
       "      <td>2.443005e+06</td>\n",
       "      <td>0.014852</td>\n",
       "      <td>17.493375</td>\n",
       "      <td>2.456784</td>\n",
       "    </tr>\n",
       "    <tr>\n",
       "      <th>3</th>\n",
       "      <td>2.189593e+06</td>\n",
       "      <td>0.012913</td>\n",
       "      <td>16.877717</td>\n",
       "      <td>2.484118</td>\n",
       "    </tr>\n",
       "    <tr>\n",
       "      <th>4</th>\n",
       "      <td>1.648264e+06</td>\n",
       "      <td>0.013536</td>\n",
       "      <td>16.017658</td>\n",
       "      <td>3.018874</td>\n",
       "    </tr>\n",
       "    <tr>\n",
       "      <th>...</th>\n",
       "      <td>...</td>\n",
       "      <td>...</td>\n",
       "      <td>...</td>\n",
       "      <td>...</td>\n",
       "    </tr>\n",
       "    <tr>\n",
       "      <th>2359</th>\n",
       "      <td>1.082599e+06</td>\n",
       "      <td>0.013384</td>\n",
       "      <td>5.731921</td>\n",
       "      <td>7.764058</td>\n",
       "    </tr>\n",
       "    <tr>\n",
       "      <th>2360</th>\n",
       "      <td>1.423787e+06</td>\n",
       "      <td>0.012524</td>\n",
       "      <td>9.653004</td>\n",
       "      <td>5.121764</td>\n",
       "    </tr>\n",
       "    <tr>\n",
       "      <th>2361</th>\n",
       "      <td>1.255177e+06</td>\n",
       "      <td>0.023084</td>\n",
       "      <td>6.290052</td>\n",
       "      <td>6.116160</td>\n",
       "    </tr>\n",
       "    <tr>\n",
       "      <th>2362</th>\n",
       "      <td>1.262366e+06</td>\n",
       "      <td>0.029711</td>\n",
       "      <td>4.085629</td>\n",
       "      <td>6.494200</td>\n",
       "    </tr>\n",
       "    <tr>\n",
       "      <th>2363</th>\n",
       "      <td>9.728897e+05</td>\n",
       "      <td>0.054335</td>\n",
       "      <td>5.445987</td>\n",
       "      <td>7.903951</td>\n",
       "    </tr>\n",
       "  </tbody>\n",
       "</table>\n",
       "<p>2364 rows × 4 columns</p>\n",
       "</div>"
      ],
      "text/plain": [
       "      Momentum**3/RSI  RSI/StochasticD  SqrtStochasticK/RSI  \\\n",
       "0        1.260239e+06         0.030994            13.324281   \n",
       "1        1.311721e+06         0.031159            11.272230   \n",
       "2        2.443005e+06         0.014852            17.493375   \n",
       "3        2.189593e+06         0.012913            16.877717   \n",
       "4        1.648264e+06         0.013536            16.017658   \n",
       "...               ...              ...                  ...   \n",
       "2359     1.082599e+06         0.013384             5.731921   \n",
       "2360     1.423787e+06         0.012524             9.653004   \n",
       "2361     1.255177e+06         0.023084             6.290052   \n",
       "2362     1.262366e+06         0.029711             4.085629   \n",
       "2363     9.728897e+05         0.054335             5.445987   \n",
       "\n",
       "      SqrtLarryWilliamsR*RSI  \n",
       "0                   2.618355  \n",
       "1                   3.442094  \n",
       "2                   2.456784  \n",
       "3                   2.484118  \n",
       "4                   3.018874  \n",
       "...                      ...  \n",
       "2359                7.764058  \n",
       "2360                5.121764  \n",
       "2361                6.116160  \n",
       "2362                6.494200  \n",
       "2363                7.903951  \n",
       "\n",
       "[2364 rows x 4 columns]"
      ]
     },
     "execution_count": 62,
     "metadata": {},
     "output_type": "execute_result"
    }
   ],
   "source": [
    "selected_data"
   ]
  },
  {
   "cell_type": "code",
   "execution_count": 63,
   "metadata": {},
   "outputs": [],
   "source": [
    "from sklearn.preprocessing import StandardScaler"
   ]
  },
  {
   "cell_type": "code",
   "execution_count": 64,
   "metadata": {},
   "outputs": [
    {
     "data": {
      "text/plain": [
       "StandardScaler()"
      ]
     },
     "execution_count": 64,
     "metadata": {},
     "output_type": "execute_result"
    }
   ],
   "source": [
    "scaler = StandardScaler()  \n",
    "scaler.fit(selected_data)"
   ]
  },
  {
   "cell_type": "code",
   "execution_count": 65,
   "metadata": {},
   "outputs": [],
   "source": [
    "\n",
    "selected_scaled_data = scaler.transform(selected_data)"
   ]
  },
  {
   "cell_type": "code",
   "execution_count": 66,
   "metadata": {},
   "outputs": [],
   "source": [
    "from sklearn.model_selection import train_test_split\n",
    "\n",
    "X_train, X_test, y_train, y_test = train_test_split(selected_scaled_data,target,test_size=0.3)"
   ]
  },
  {
   "cell_type": "code",
   "execution_count": 67,
   "metadata": {},
   "outputs": [],
   "source": [
    "X_train = scaler.transform(X_train)  \n",
    "X_test = scaler.transform(X_test) "
   ]
  },
  {
   "cell_type": "code",
   "execution_count": 68,
   "metadata": {},
   "outputs": [],
   "source": [
    "selected_scaled_data_df = pd.DataFrame(selected_scaled_data)\n",
    "selected_scaled_data_1250 = selected_scaled_data_df.tail(1250)\n",
    "selected_scaled_data_250 = selected_scaled_data_df.tail(250)\n",
    "selected_scaled_data_125 = selected_scaled_data_df.tail(125)\n",
    "target_1250 = target.tail(1250)\n",
    "target_250 = target.tail(250)\n",
    "target_125 = target.tail(125)"
   ]
  },
  {
   "cell_type": "code",
   "execution_count": 69,
   "metadata": {},
   "outputs": [],
   "source": [
    "X_train_1250, X_test_1250, y_train_1250, y_test_1250 = train_test_split(selected_scaled_data_1250,target_1250,test_size=0.3)"
   ]
  },
  {
   "cell_type": "code",
   "execution_count": 70,
   "metadata": {},
   "outputs": [],
   "source": [
    "X_train_250, X_test_250, y_train_250, y_test_250 = train_test_split(selected_scaled_data_250,target_250,test_size=0.3)"
   ]
  },
  {
   "cell_type": "code",
   "execution_count": 71,
   "metadata": {},
   "outputs": [],
   "source": [
    "X_train_125, X_test_125, y_train_125, y_test_125 = train_test_split(selected_scaled_data_125,target_125,test_size=0.3)"
   ]
  },
  {
   "cell_type": "markdown",
   "metadata": {},
   "source": [
    "### Logistic Regression"
   ]
  },
  {
   "cell_type": "markdown",
   "metadata": {},
   "source": [
    "#### Max Duration"
   ]
  },
  {
   "cell_type": "code",
   "execution_count": 72,
   "metadata": {},
   "outputs": [],
   "source": [
    "from sklearn.metrics import accuracy_score\n",
    "from sklearn.metrics import confusion_matrix"
   ]
  },
  {
   "cell_type": "code",
   "execution_count": 73,
   "metadata": {},
   "outputs": [],
   "source": [
    "lr = LogisticRegression(solver='liblinear', multi_class='ovr')\n",
    "trained_model_lr = lr.fit(X_train, y_train)\n",
    "predictions_lr = trained_model_lr.predict(X_test)\n",
    "\n",
    "Train_accuracy_lr = accuracy_score(y_train,trained_model_lr.predict(X_train))\n",
    "Test_accuracy_lr = accuracy_score(y_test, predictions_lr)\n",
    "Confusion_matrix_lr = confusion_matrix(y_test,predictions_lr)"
   ]
  },
  {
   "cell_type": "code",
   "execution_count": 140,
   "metadata": {},
   "outputs": [
    {
     "data": {
      "text/plain": [
       "0.6475211608222491"
      ]
     },
     "execution_count": 140,
     "metadata": {},
     "output_type": "execute_result"
    }
   ],
   "source": [
    "Train_accuracy_lr"
   ]
  },
  {
   "cell_type": "code",
   "execution_count": 141,
   "metadata": {},
   "outputs": [
    {
     "data": {
      "text/plain": [
       "0.6563380281690141"
      ]
     },
     "execution_count": 141,
     "metadata": {},
     "output_type": "execute_result"
    }
   ],
   "source": [
    "Test_accuracy_lr"
   ]
  },
  {
   "cell_type": "markdown",
   "metadata": {},
   "source": [
    "#### 5 Years"
   ]
  },
  {
   "cell_type": "code",
   "execution_count": 76,
   "metadata": {},
   "outputs": [],
   "source": [
    "trained_model_lr_1250 = lr.fit(X_train_1250, y_train_1250)\n",
    "predictions_lr_1250 = trained_model_lr_1250.predict(X_test_1250)\n",
    "\n",
    "Train_accuracy_lr_1250 = accuracy_score(y_train_1250,trained_model_lr_1250.predict(X_train_1250))\n",
    "Test_accuracy_lr_1250 = accuracy_score(y_test_1250, predictions_lr_1250)\n",
    "Confusion_matrix_lr_1250 = confusion_matrix(y_test_1250,predictions_lr_1250)"
   ]
  },
  {
   "cell_type": "code",
   "execution_count": 77,
   "metadata": {},
   "outputs": [
    {
     "data": {
      "text/plain": [
       "0.6754285714285714"
      ]
     },
     "execution_count": 77,
     "metadata": {},
     "output_type": "execute_result"
    }
   ],
   "source": [
    "Train_accuracy_lr_1250"
   ]
  },
  {
   "cell_type": "code",
   "execution_count": 78,
   "metadata": {},
   "outputs": [
    {
     "data": {
      "text/plain": [
       "0.656"
      ]
     },
     "execution_count": 78,
     "metadata": {},
     "output_type": "execute_result"
    }
   ],
   "source": [
    "Test_accuracy_lr_1250"
   ]
  },
  {
   "cell_type": "markdown",
   "metadata": {},
   "source": [
    "#### 1 Year"
   ]
  },
  {
   "cell_type": "code",
   "execution_count": 79,
   "metadata": {},
   "outputs": [],
   "source": [
    "trained_model_lr_250 = lr.fit(X_train_250, y_train_250)\n",
    "predictions_lr_250 = trained_model_lr_250.predict(X_test_250)\n",
    "\n",
    "Train_accuracy_lr_250 = accuracy_score(y_train_250,trained_model_lr_250.predict(X_train_250))\n",
    "Test_accuracy_lr_250 = accuracy_score(y_test_250, predictions_lr_250)\n",
    "Confusion_matrix_lr_250 = confusion_matrix(y_test_250,predictions_lr_250)"
   ]
  },
  {
   "cell_type": "code",
   "execution_count": 80,
   "metadata": {},
   "outputs": [
    {
     "data": {
      "text/plain": [
       "0.72"
      ]
     },
     "execution_count": 80,
     "metadata": {},
     "output_type": "execute_result"
    }
   ],
   "source": [
    "Train_accuracy_lr_250"
   ]
  },
  {
   "cell_type": "code",
   "execution_count": 81,
   "metadata": {},
   "outputs": [
    {
     "data": {
      "text/plain": [
       "0.72"
      ]
     },
     "execution_count": 81,
     "metadata": {},
     "output_type": "execute_result"
    }
   ],
   "source": [
    "Test_accuracy_lr_250"
   ]
  },
  {
   "cell_type": "markdown",
   "metadata": {},
   "source": [
    "#### 6 Months"
   ]
  },
  {
   "cell_type": "code",
   "execution_count": 82,
   "metadata": {},
   "outputs": [],
   "source": [
    "trained_model_lr_125 = lr.fit(X_train_125, y_train_125)\n",
    "predictions_lr_125 = trained_model_lr_125.predict(X_test_125)\n",
    "\n",
    "Train_accuracy_lr_125 = accuracy_score(y_train_125,trained_model_lr_125.predict(X_train_125))\n",
    "Test_accuracy_lr_125 = accuracy_score(y_test_125, predictions_lr_125)\n",
    "Confusion_matrix_lr_125 = confusion_matrix(y_test_125,predictions_lr_125)"
   ]
  },
  {
   "cell_type": "code",
   "execution_count": 83,
   "metadata": {},
   "outputs": [
    {
     "data": {
      "text/plain": [
       "0.7241379310344828"
      ]
     },
     "execution_count": 83,
     "metadata": {},
     "output_type": "execute_result"
    }
   ],
   "source": [
    "Train_accuracy_lr_125"
   ]
  },
  {
   "cell_type": "code",
   "execution_count": 84,
   "metadata": {},
   "outputs": [
    {
     "data": {
      "text/plain": [
       "0.7368421052631579"
      ]
     },
     "execution_count": 84,
     "metadata": {},
     "output_type": "execute_result"
    }
   ],
   "source": [
    "Test_accuracy_lr_125"
   ]
  },
  {
   "cell_type": "markdown",
   "metadata": {},
   "source": [
    "#### Last 100 Days based on Best Model - Max Duration"
   ]
  },
  {
   "cell_type": "code",
   "execution_count": 85,
   "metadata": {},
   "outputs": [],
   "source": [
    "last100 = selected_scaled_data_df.tail(100)"
   ]
  },
  {
   "cell_type": "code",
   "execution_count": 146,
   "metadata": {},
   "outputs": [
    {
     "data": {
      "text/plain": [
       "array([1, 1, 1, 0, 0, 1, 0, 1, 1, 0, 0, 0, 1, 0, 0, 1, 0, 0, 1, 0, 1, 1,\n",
       "       0, 0, 0, 0, 0, 0, 0, 0, 0, 0, 0, 1, 0, 0, 0, 0, 1, 1, 1, 1, 0, 0,\n",
       "       0, 0, 1, 0, 0, 0, 1, 1, 1, 0, 0, 1, 0, 0, 1, 0, 1, 1, 0, 1, 1, 1,\n",
       "       1, 1, 1, 1, 0, 1, 0, 1, 1, 1, 1, 1, 0, 1, 0, 1, 1, 1, 1, 1, 1, 1,\n",
       "       1, 0, 1, 1, 1, 1, 1, 1, 1, 1, 1, 1])"
      ]
     },
     "execution_count": 146,
     "metadata": {},
     "output_type": "execute_result"
    }
   ],
   "source": [
    "predictions_lr_100 = trained_model_lr.predict(last100)\n",
    "predictions_lr_100"
   ]
  },
  {
   "cell_type": "markdown",
   "metadata": {},
   "source": [
    "### SVM"
   ]
  },
  {
   "cell_type": "code",
   "execution_count": 87,
   "metadata": {},
   "outputs": [],
   "source": [
    "svm = SVC(gamma='auto')\n",
    "trained_model_svm = svm.fit(X_train, y_train)\n",
    "predictions_svm = trained_model_svm.predict(X_test)\n",
    "\n",
    "Train_accuracy_svm = accuracy_score(y_train,trained_model_svm.predict(X_train))\n",
    "Test_accuracy_svm = accuracy_score(y_test, predictions_svm)\n",
    "Confusion_matrix_svm = confusion_matrix(y_test,predictions_svm)"
   ]
  },
  {
   "cell_type": "code",
   "execution_count": 88,
   "metadata": {},
   "outputs": [
    {
     "data": {
      "text/plain": [
       "0.656590084643289"
      ]
     },
     "execution_count": 88,
     "metadata": {},
     "output_type": "execute_result"
    }
   ],
   "source": [
    "Train_accuracy_svm"
   ]
  },
  {
   "cell_type": "code",
   "execution_count": 89,
   "metadata": {},
   "outputs": [
    {
     "data": {
      "text/plain": [
       "0.6295774647887324"
      ]
     },
     "execution_count": 89,
     "metadata": {},
     "output_type": "execute_result"
    }
   ],
   "source": [
    "Test_accuracy_svm"
   ]
  },
  {
   "cell_type": "markdown",
   "metadata": {},
   "source": [
    "#### 5 Years"
   ]
  },
  {
   "cell_type": "code",
   "execution_count": 90,
   "metadata": {},
   "outputs": [],
   "source": [
    "trained_model_svm_1250 = svm.fit(X_train_1250, y_train_1250)\n",
    "predictions_svm_1250 = trained_model_svm_1250.predict(X_test_1250)\n",
    "\n",
    "Train_accuracy_svm_1250 = accuracy_score(y_train_1250,trained_model_svm_1250.predict(X_train_1250))\n",
    "Test_accuracy_svm_1250 = accuracy_score(y_test_1250, predictions_svm_1250)\n",
    "Confusion_matrix_svm_1250 = confusion_matrix(y_test_1250,predictions_svm_1250)"
   ]
  },
  {
   "cell_type": "code",
   "execution_count": 91,
   "metadata": {},
   "outputs": [
    {
     "data": {
      "text/plain": [
       "0.6891428571428572"
      ]
     },
     "execution_count": 91,
     "metadata": {},
     "output_type": "execute_result"
    }
   ],
   "source": [
    "Train_accuracy_svm_1250"
   ]
  },
  {
   "cell_type": "code",
   "execution_count": 92,
   "metadata": {},
   "outputs": [
    {
     "data": {
      "text/plain": [
       "0.6586666666666666"
      ]
     },
     "execution_count": 92,
     "metadata": {},
     "output_type": "execute_result"
    }
   ],
   "source": [
    "Test_accuracy_svm_1250"
   ]
  },
  {
   "cell_type": "markdown",
   "metadata": {},
   "source": [
    "#### 1 Year"
   ]
  },
  {
   "cell_type": "code",
   "execution_count": 93,
   "metadata": {},
   "outputs": [],
   "source": [
    "trained_model_svm_250 = svm.fit(X_train_250, y_train_250)\n",
    "predictions_svm_250 = trained_model_svm_1250.predict(X_test_250)\n",
    "\n",
    "Train_accuracy_svm_250 = accuracy_score(y_train_250,trained_model_svm_250.predict(X_train_250))\n",
    "Test_accuracy_svm_250 = accuracy_score(y_test_250, predictions_svm_250)\n",
    "Confusion_matrix_svm_250 = confusion_matrix(y_test_250,predictions_svm_250)"
   ]
  },
  {
   "cell_type": "code",
   "execution_count": 94,
   "metadata": {},
   "outputs": [
    {
     "data": {
      "text/plain": [
       "0.7428571428571429"
      ]
     },
     "execution_count": 94,
     "metadata": {},
     "output_type": "execute_result"
    }
   ],
   "source": [
    "Train_accuracy_svm_250"
   ]
  },
  {
   "cell_type": "code",
   "execution_count": 95,
   "metadata": {},
   "outputs": [
    {
     "data": {
      "text/plain": [
       "0.6933333333333334"
      ]
     },
     "execution_count": 95,
     "metadata": {},
     "output_type": "execute_result"
    }
   ],
   "source": [
    "Test_accuracy_svm_250"
   ]
  },
  {
   "cell_type": "markdown",
   "metadata": {},
   "source": [
    "#### 6 Months"
   ]
  },
  {
   "cell_type": "code",
   "execution_count": 96,
   "metadata": {},
   "outputs": [],
   "source": [
    "trained_model_svm_125 = svm.fit(X_train_125, y_train_125)\n",
    "predictions_svm_125 = trained_model_svm_1250.predict(X_test_125)\n",
    "\n",
    "Train_accuracy_svm_125 = accuracy_score(y_train_125,trained_model_svm_125.predict(X_train_125))\n",
    "Test_accuracy_svm_125 = accuracy_score(y_test_125, predictions_svm_125)\n",
    "Confusion_matrix_svm_125 = confusion_matrix(y_test_125,predictions_svm_125)"
   ]
  },
  {
   "cell_type": "code",
   "execution_count": 97,
   "metadata": {},
   "outputs": [
    {
     "data": {
      "text/plain": [
       "0.7241379310344828"
      ]
     },
     "execution_count": 97,
     "metadata": {},
     "output_type": "execute_result"
    }
   ],
   "source": [
    "Train_accuracy_svm_125"
   ]
  },
  {
   "cell_type": "code",
   "execution_count": 98,
   "metadata": {},
   "outputs": [
    {
     "data": {
      "text/plain": [
       "0.6842105263157895"
      ]
     },
     "execution_count": 98,
     "metadata": {},
     "output_type": "execute_result"
    }
   ],
   "source": [
    "Test_accuracy_svm_125"
   ]
  },
  {
   "cell_type": "markdown",
   "metadata": {},
   "source": [
    "#### Last 100 Days based on Best Model - Max Duration"
   ]
  },
  {
   "cell_type": "code",
   "execution_count": 143,
   "metadata": {},
   "outputs": [
    {
     "data": {
      "text/plain": [
       "array([1, 1, 1, 0, 0, 1, 0, 1, 1, 0, 1, 0, 1, 0, 0, 1, 1, 1, 1, 0, 1, 1,\n",
       "       0, 0, 0, 0, 0, 1, 1, 0, 0, 0, 0, 1, 0, 0, 0, 0, 1, 1, 1, 1, 1, 0,\n",
       "       0, 0, 1, 0, 0, 0, 1, 1, 1, 1, 0, 1, 0, 0, 1, 0, 1, 1, 1, 1, 1, 1,\n",
       "       1, 1, 1, 1, 1, 1, 1, 1, 1, 1, 1, 1, 0, 1, 1, 1, 1, 1, 1, 1, 1, 1,\n",
       "       1, 1, 1, 1, 1, 1, 1, 1, 1, 1, 1, 1])"
      ]
     },
     "execution_count": 143,
     "metadata": {},
     "output_type": "execute_result"
    }
   ],
   "source": [
    "predictions_svm_100 = trained_model_svm_250.predict(last100)\n",
    "predictions_svm_100"
   ]
  },
  {
   "cell_type": "markdown",
   "metadata": {},
   "source": [
    "### RandomForest"
   ]
  },
  {
   "cell_type": "code",
   "execution_count": 100,
   "metadata": {},
   "outputs": [],
   "source": [
    "rf = RandomForestClassifier(n_estimators=10)\n",
    "trained_model_rf = rf.fit(X_train, y_train)\n",
    "predictions_rf = trained_model_rf.predict(X_test)\n",
    "\n",
    "Train_accuracy_rf = accuracy_score(y_train, trained_model_rf.predict(X_train))\n",
    "Test_accuracy_rf = accuracy_score(y_test, predictions_rf)\n",
    "Confusion_matrix_rf = confusion_matrix(y_test, predictions_rf)"
   ]
  },
  {
   "cell_type": "code",
   "execution_count": 101,
   "metadata": {},
   "outputs": [
    {
     "data": {
      "text/plain": [
       "0.9782345828295043"
      ]
     },
     "execution_count": 101,
     "metadata": {},
     "output_type": "execute_result"
    }
   ],
   "source": [
    "Train_accuracy_rf"
   ]
  },
  {
   "cell_type": "code",
   "execution_count": 102,
   "metadata": {},
   "outputs": [
    {
     "data": {
      "text/plain": [
       "0.6140845070422535"
      ]
     },
     "execution_count": 102,
     "metadata": {},
     "output_type": "execute_result"
    }
   ],
   "source": [
    "Test_accuracy_rf"
   ]
  },
  {
   "cell_type": "markdown",
   "metadata": {},
   "source": [
    "#### 5 Years"
   ]
  },
  {
   "cell_type": "code",
   "execution_count": 103,
   "metadata": {},
   "outputs": [],
   "source": [
    "trained_model_rf_1250 = rf.fit(X_train_1250, y_train_1250)\n",
    "predictions_rf_1250 = trained_model_rf_1250.predict(X_test_1250)\n",
    "\n",
    "Train_accuracy_rf_1250 = accuracy_score(y_train_1250,trained_model_rf_1250.predict(X_train_1250))\n",
    "Test_accuracy_rf_1250 = accuracy_score(y_test_1250, predictions_rf_1250)\n",
    "Confusion_matrix_rf_1250 = confusion_matrix(y_test_1250,predictions_rf_1250)"
   ]
  },
  {
   "cell_type": "code",
   "execution_count": 104,
   "metadata": {},
   "outputs": [
    {
     "data": {
      "text/plain": [
       "0.9645714285714285"
      ]
     },
     "execution_count": 104,
     "metadata": {},
     "output_type": "execute_result"
    }
   ],
   "source": [
    "Train_accuracy_rf_1250"
   ]
  },
  {
   "cell_type": "code",
   "execution_count": 105,
   "metadata": {},
   "outputs": [
    {
     "data": {
      "text/plain": [
       "0.632"
      ]
     },
     "execution_count": 105,
     "metadata": {},
     "output_type": "execute_result"
    }
   ],
   "source": [
    "Test_accuracy_rf_1250"
   ]
  },
  {
   "cell_type": "markdown",
   "metadata": {},
   "source": [
    "#### 1 Year"
   ]
  },
  {
   "cell_type": "code",
   "execution_count": 106,
   "metadata": {},
   "outputs": [],
   "source": [
    "trained_model_rf_250 = rf.fit(X_train_250, y_train_250)\n",
    "predictions_rf_250 = trained_model_rf_250.predict(X_test_250)\n",
    "\n",
    "Train_accuracy_rf_250 = accuracy_score(y_train_250,trained_model_rf_250.predict(X_train_250))\n",
    "Test_accuracy_rf_250 = accuracy_score(y_test_250, predictions_rf_250)\n",
    "Confusion_matrix_rf_250 = confusion_matrix(y_test_250,predictions_rf_250)"
   ]
  },
  {
   "cell_type": "code",
   "execution_count": 107,
   "metadata": {},
   "outputs": [
    {
     "data": {
      "text/plain": [
       "0.9828571428571429"
      ]
     },
     "execution_count": 107,
     "metadata": {},
     "output_type": "execute_result"
    }
   ],
   "source": [
    "Train_accuracy_rf_250"
   ]
  },
  {
   "cell_type": "code",
   "execution_count": 108,
   "metadata": {},
   "outputs": [
    {
     "data": {
      "text/plain": [
       "0.56"
      ]
     },
     "execution_count": 108,
     "metadata": {},
     "output_type": "execute_result"
    }
   ],
   "source": [
    "Test_accuracy_rf_250"
   ]
  },
  {
   "cell_type": "markdown",
   "metadata": {},
   "source": [
    "#### 6 Months"
   ]
  },
  {
   "cell_type": "code",
   "execution_count": 109,
   "metadata": {},
   "outputs": [],
   "source": [
    "trained_model_rf_125 = rf.fit(X_train_125, y_train_125)\n",
    "predictions_rf_125 = trained_model_rf_125.predict(X_test_125)\n",
    "\n",
    "Train_accuracy_rf_125 = accuracy_score(y_train_125,trained_model_rf_125.predict(X_train_125))\n",
    "Test_accuracy_rf_125 = accuracy_score(y_test_125, predictions_rf_125)\n",
    "Confusion_matrix_rf_125 = confusion_matrix(y_test_125,predictions_rf_125)"
   ]
  },
  {
   "cell_type": "code",
   "execution_count": 110,
   "metadata": {},
   "outputs": [
    {
     "data": {
      "text/plain": [
       "1.0"
      ]
     },
     "execution_count": 110,
     "metadata": {},
     "output_type": "execute_result"
    }
   ],
   "source": [
    "Train_accuracy_rf_125"
   ]
  },
  {
   "cell_type": "code",
   "execution_count": 111,
   "metadata": {},
   "outputs": [
    {
     "data": {
      "text/plain": [
       "0.6842105263157895"
      ]
     },
     "execution_count": 111,
     "metadata": {},
     "output_type": "execute_result"
    }
   ],
   "source": [
    "Test_accuracy_rf_125"
   ]
  },
  {
   "cell_type": "markdown",
   "metadata": {},
   "source": [
    "#### Last 100 Days based on Best Model"
   ]
  },
  {
   "cell_type": "code",
   "execution_count": 112,
   "metadata": {},
   "outputs": [
    {
     "data": {
      "text/plain": [
       "array([1, 0, 1, 0, 0, 0, 0, 1, 1, 1, 1, 0, 1, 0, 0, 1, 1, 1, 0, 0, 1, 1,\n",
       "       0, 0, 0, 0, 0, 1, 1, 1, 1, 0, 0, 1, 0, 0, 0, 0, 1, 1, 1, 0, 0, 0,\n",
       "       1, 1, 1, 0, 0, 0, 1, 1, 1, 1, 0, 1, 0, 0, 1, 0, 1, 1, 0, 1, 1, 0,\n",
       "       1, 1, 0, 0, 0, 1, 0, 1, 1, 0, 0, 0, 0, 1, 0, 1, 1, 0, 1, 1, 0, 1,\n",
       "       1, 0, 0, 1, 1, 1, 0, 1, 0, 1, 1, 1])"
      ]
     },
     "execution_count": 112,
     "metadata": {},
     "output_type": "execute_result"
    }
   ],
   "source": [
    "predictions_rf_100 = trained_model_rf_125.predict(last100)\n",
    "predictions_rf_100"
   ]
  },
  {
   "cell_type": "markdown",
   "metadata": {},
   "source": [
    "### KNN"
   ]
  },
  {
   "cell_type": "code",
   "execution_count": 113,
   "metadata": {},
   "outputs": [],
   "source": [
    "knn = KNeighborsClassifier(n_neighbors=5)\n",
    "trained_model_knn = knn.fit(X_train, y_train)\n",
    "predictions_knn = trained_model_knn.predict(X_test)\n",
    "\n",
    "Train_accuracy_knn = accuracy_score(y_train, trained_model_knn.predict(X_train))\n",
    "Test_accuracy_knn = accuracy_score(y_test, predictions_knn)\n",
    "Confusion_matrix_knn = confusion_matrix(y_test, predictions_knn)"
   ]
  },
  {
   "cell_type": "code",
   "execution_count": 114,
   "metadata": {},
   "outputs": [
    {
     "data": {
      "text/plain": [
       "0.7200725513905684"
      ]
     },
     "execution_count": 114,
     "metadata": {},
     "output_type": "execute_result"
    }
   ],
   "source": [
    "Train_accuracy_knn"
   ]
  },
  {
   "cell_type": "code",
   "execution_count": 115,
   "metadata": {},
   "outputs": [
    {
     "data": {
      "text/plain": [
       "0.604225352112676"
      ]
     },
     "execution_count": 115,
     "metadata": {},
     "output_type": "execute_result"
    }
   ],
   "source": [
    "Test_accuracy_knn"
   ]
  },
  {
   "cell_type": "markdown",
   "metadata": {},
   "source": [
    "#### 5 Years"
   ]
  },
  {
   "cell_type": "code",
   "execution_count": 116,
   "metadata": {},
   "outputs": [],
   "source": [
    "trained_model_knn_1250 = knn.fit(X_train_1250, y_train_1250)\n",
    "predictions_knn_1250 = trained_model_knn_1250.predict(X_test_1250)\n",
    "\n",
    "Train_accuracy_knn_1250 = accuracy_score(y_train_1250,trained_model_knn_1250.predict(X_train_1250))\n",
    "Test_accuracy_knn_1250 = accuracy_score(y_test_1250, predictions_knn_1250)\n",
    "Confusion_matrix_knn_1250 = confusion_matrix(y_test_1250,predictions_knn_1250)"
   ]
  },
  {
   "cell_type": "code",
   "execution_count": 117,
   "metadata": {},
   "outputs": [
    {
     "data": {
      "text/plain": [
       "0.7611428571428571"
      ]
     },
     "execution_count": 117,
     "metadata": {},
     "output_type": "execute_result"
    }
   ],
   "source": [
    "Train_accuracy_knn_1250"
   ]
  },
  {
   "cell_type": "code",
   "execution_count": 118,
   "metadata": {},
   "outputs": [
    {
     "data": {
      "text/plain": [
       "0.648"
      ]
     },
     "execution_count": 118,
     "metadata": {},
     "output_type": "execute_result"
    }
   ],
   "source": [
    "Test_accuracy_knn_1250"
   ]
  },
  {
   "cell_type": "markdown",
   "metadata": {},
   "source": [
    "#### 1 Year"
   ]
  },
  {
   "cell_type": "code",
   "execution_count": 119,
   "metadata": {},
   "outputs": [],
   "source": [
    "trained_model_knn_250 = knn.fit(X_train_250, y_train_250)\n",
    "predictions_knn_250 = trained_model_knn_250.predict(X_test_250)\n",
    "\n",
    "Train_accuracy_knn_250 = accuracy_score(y_train_250,trained_model_knn_250.predict(X_train_250))\n",
    "Test_accuracy_knn_250 = accuracy_score(y_test_250, predictions_knn_250)\n",
    "Confusion_matrix_knn_250 = confusion_matrix(y_test_250,predictions_knn_250)"
   ]
  },
  {
   "cell_type": "code",
   "execution_count": 120,
   "metadata": {},
   "outputs": [
    {
     "data": {
      "text/plain": [
       "0.76"
      ]
     },
     "execution_count": 120,
     "metadata": {},
     "output_type": "execute_result"
    }
   ],
   "source": [
    "Train_accuracy_knn_250"
   ]
  },
  {
   "cell_type": "code",
   "execution_count": 121,
   "metadata": {},
   "outputs": [
    {
     "data": {
      "text/plain": [
       "0.68"
      ]
     },
     "execution_count": 121,
     "metadata": {},
     "output_type": "execute_result"
    }
   ],
   "source": [
    "Test_accuracy_knn_250"
   ]
  },
  {
   "cell_type": "markdown",
   "metadata": {},
   "source": [
    "#### 6 Months"
   ]
  },
  {
   "cell_type": "code",
   "execution_count": 122,
   "metadata": {},
   "outputs": [],
   "source": [
    "trained_model_knn_125 = knn.fit(X_train_125, y_train_125)\n",
    "predictions_knn_125 = trained_model_knn_125.predict(X_test_125)\n",
    "\n",
    "Train_accuracy_knn_125 = accuracy_score(y_train_125,trained_model_knn_125.predict(X_train_125))\n",
    "Test_accuracy_knn_125 = accuracy_score(y_test_125, predictions_knn_125)\n",
    "Confusion_matrix_knn_125 = confusion_matrix(y_test_125,predictions_knn_125)"
   ]
  },
  {
   "cell_type": "code",
   "execution_count": 123,
   "metadata": {},
   "outputs": [
    {
     "data": {
      "text/plain": [
       "0.7471264367816092"
      ]
     },
     "execution_count": 123,
     "metadata": {},
     "output_type": "execute_result"
    }
   ],
   "source": [
    "Train_accuracy_knn_125"
   ]
  },
  {
   "cell_type": "code",
   "execution_count": 124,
   "metadata": {},
   "outputs": [
    {
     "data": {
      "text/plain": [
       "0.7368421052631579"
      ]
     },
     "execution_count": 124,
     "metadata": {},
     "output_type": "execute_result"
    }
   ],
   "source": [
    "Test_accuracy_knn_125"
   ]
  },
  {
   "cell_type": "markdown",
   "metadata": {},
   "source": [
    "#### Last 100 Days based on Best Model"
   ]
  },
  {
   "cell_type": "code",
   "execution_count": 144,
   "metadata": {},
   "outputs": [
    {
     "data": {
      "text/plain": [
       "array([1, 1, 1, 0, 0, 1, 0, 1, 1, 1, 1, 0, 1, 1, 0, 1, 1, 1, 1, 0, 1, 1,\n",
       "       0, 0, 0, 0, 0, 0, 0, 1, 0, 0, 0, 1, 0, 0, 0, 0, 1, 1, 1, 1, 0, 0,\n",
       "       0, 0, 1, 0, 0, 0, 1, 1, 1, 1, 0, 1, 0, 0, 1, 1, 1, 0, 0, 1, 1, 0,\n",
       "       1, 1, 0, 1, 1, 1, 0, 1, 1, 1, 1, 0, 0, 1, 1, 1, 1, 1, 1, 1, 1, 1,\n",
       "       1, 0, 1, 1, 1, 1, 1, 1, 1, 1, 1, 1])"
      ]
     },
     "execution_count": 144,
     "metadata": {},
     "output_type": "execute_result"
    }
   ],
   "source": [
    "predictions_knn_100 = trained_model_knn_125.predict(last100)\n",
    "predictions_knn_100"
   ]
  },
  {
   "cell_type": "markdown",
   "metadata": {},
   "source": [
    "### XGBoost"
   ]
  },
  {
   "cell_type": "code",
   "execution_count": 126,
   "metadata": {},
   "outputs": [
    {
     "name": "stdout",
     "output_type": "stream",
     "text": [
      "[23:25:08] WARNING: C:/Users/Administrator/workspace/xgboost-win64_release_1.5.0/src/learner.cc:1115: Starting in XGBoost 1.3.0, the default evaluation metric used with the objective 'binary:logistic' was changed from 'error' to 'logloss'. Explicitly set eval_metric if you'd like to restore the old behavior.\n"
     ]
    }
   ],
   "source": [
    "xgb = XGBClassifier(use_label_encoder=False)\n",
    "trained_model_xgb = xgb.fit(X_train, y_train)\n",
    "predictions_xgb = trained_model_xgb.predict(X_test)\n",
    "\n",
    "Train_accuracy_xgb = accuracy_score(y_train, trained_model_xgb.predict(X_train))\n",
    "Test_accuracy_xgb = accuracy_score(y_test, predictions_xgb)\n",
    "Confusion_matrix_xgb = confusion_matrix(y_test, predictions_xgb)"
   ]
  },
  {
   "cell_type": "code",
   "execution_count": 127,
   "metadata": {},
   "outputs": [
    {
     "data": {
      "text/plain": [
       "0.9564691656590084"
      ]
     },
     "execution_count": 127,
     "metadata": {},
     "output_type": "execute_result"
    }
   ],
   "source": [
    "Train_accuracy_xgb"
   ]
  },
  {
   "cell_type": "code",
   "execution_count": 128,
   "metadata": {},
   "outputs": [
    {
     "data": {
      "text/plain": [
       "0.6309859154929578"
      ]
     },
     "execution_count": 128,
     "metadata": {},
     "output_type": "execute_result"
    }
   ],
   "source": [
    "Test_accuracy_xgb"
   ]
  },
  {
   "cell_type": "markdown",
   "metadata": {},
   "source": [
    "#### 5 Years"
   ]
  },
  {
   "cell_type": "code",
   "execution_count": 129,
   "metadata": {},
   "outputs": [
    {
     "name": "stdout",
     "output_type": "stream",
     "text": [
      "[23:25:09] WARNING: C:/Users/Administrator/workspace/xgboost-win64_release_1.5.0/src/learner.cc:1115: Starting in XGBoost 1.3.0, the default evaluation metric used with the objective 'binary:logistic' was changed from 'error' to 'logloss'. Explicitly set eval_metric if you'd like to restore the old behavior.\n"
     ]
    }
   ],
   "source": [
    "trained_model_xgb_1250 = xgb.fit(X_train_1250, y_train_1250)\n",
    "predictions_xgb_1250 = trained_model_xgb_1250.predict(X_test_1250)\n",
    "\n",
    "Train_accuracy_xgb_1250 = accuracy_score(y_train_1250,trained_model_xgb_1250.predict(X_train_1250))\n",
    "Test_accuracy_xgb_1250 = accuracy_score(y_test_1250, predictions_xgb_1250)\n",
    "Confusion_matrix_xgb_1250 = confusion_matrix(y_test_1250,predictions_xgb_1250)"
   ]
  },
  {
   "cell_type": "code",
   "execution_count": 130,
   "metadata": {},
   "outputs": [
    {
     "data": {
      "text/plain": [
       "1.0"
      ]
     },
     "execution_count": 130,
     "metadata": {},
     "output_type": "execute_result"
    }
   ],
   "source": [
    "Train_accuracy_xgb_1250"
   ]
  },
  {
   "cell_type": "code",
   "execution_count": 131,
   "metadata": {},
   "outputs": [
    {
     "data": {
      "text/plain": [
       "0.656"
      ]
     },
     "execution_count": 131,
     "metadata": {},
     "output_type": "execute_result"
    }
   ],
   "source": [
    "Test_accuracy_xgb_1250"
   ]
  },
  {
   "cell_type": "markdown",
   "metadata": {},
   "source": [
    "#### 1 Year"
   ]
  },
  {
   "cell_type": "code",
   "execution_count": 132,
   "metadata": {},
   "outputs": [
    {
     "name": "stdout",
     "output_type": "stream",
     "text": [
      "[23:25:10] WARNING: C:/Users/Administrator/workspace/xgboost-win64_release_1.5.0/src/learner.cc:1115: Starting in XGBoost 1.3.0, the default evaluation metric used with the objective 'binary:logistic' was changed from 'error' to 'logloss'. Explicitly set eval_metric if you'd like to restore the old behavior.\n"
     ]
    }
   ],
   "source": [
    "trained_model_xgb_250 = xgb.fit(X_train_250, y_train_250)\n",
    "predictions_xgb_250 = trained_model_xgb_250.predict(X_test_250)\n",
    "\n",
    "Train_accuracy_xgb_250 = accuracy_score(y_train_250,trained_model_xgb_250.predict(X_train_250))\n",
    "Test_accuracy_xgb_250 = accuracy_score(y_test_250, predictions_xgb_250)\n",
    "Confusion_matrix_xgb_250 = confusion_matrix(y_test_250,predictions_xgb_250)"
   ]
  },
  {
   "cell_type": "code",
   "execution_count": 133,
   "metadata": {},
   "outputs": [
    {
     "data": {
      "text/plain": [
       "1.0"
      ]
     },
     "execution_count": 133,
     "metadata": {},
     "output_type": "execute_result"
    }
   ],
   "source": [
    "Train_accuracy_xgb_250"
   ]
  },
  {
   "cell_type": "code",
   "execution_count": 134,
   "metadata": {},
   "outputs": [
    {
     "data": {
      "text/plain": [
       "0.5466666666666666"
      ]
     },
     "execution_count": 134,
     "metadata": {},
     "output_type": "execute_result"
    }
   ],
   "source": [
    "Test_accuracy_xgb_250"
   ]
  },
  {
   "cell_type": "markdown",
   "metadata": {},
   "source": [
    "#### 6 Months"
   ]
  },
  {
   "cell_type": "code",
   "execution_count": 135,
   "metadata": {},
   "outputs": [
    {
     "name": "stdout",
     "output_type": "stream",
     "text": [
      "[23:25:11] WARNING: C:/Users/Administrator/workspace/xgboost-win64_release_1.5.0/src/learner.cc:1115: Starting in XGBoost 1.3.0, the default evaluation metric used with the objective 'binary:logistic' was changed from 'error' to 'logloss'. Explicitly set eval_metric if you'd like to restore the old behavior.\n"
     ]
    }
   ],
   "source": [
    "trained_model_xgb_125 = xgb.fit(X_train_125, y_train_125)\n",
    "predictions_xgb_125 = trained_model_xgb_125.predict(X_test_125)\n",
    "\n",
    "Train_accuracy_xgb_125 = accuracy_score(y_train_125,trained_model_xgb_125.predict(X_train_125))\n",
    "Test_accuracy_xgb_125 = accuracy_score(y_test_125, predictions_xgb_125)\n",
    "Confusion_matrix_xgb_125 = confusion_matrix(y_test_125,predictions_xgb_125)"
   ]
  },
  {
   "cell_type": "code",
   "execution_count": 136,
   "metadata": {},
   "outputs": [
    {
     "data": {
      "text/plain": [
       "1.0"
      ]
     },
     "execution_count": 136,
     "metadata": {},
     "output_type": "execute_result"
    }
   ],
   "source": [
    "Train_accuracy_xgb_125"
   ]
  },
  {
   "cell_type": "code",
   "execution_count": 137,
   "metadata": {},
   "outputs": [
    {
     "data": {
      "text/plain": [
       "0.5"
      ]
     },
     "execution_count": 137,
     "metadata": {},
     "output_type": "execute_result"
    }
   ],
   "source": [
    "Test_accuracy_xgb_125"
   ]
  },
  {
   "cell_type": "markdown",
   "metadata": {},
   "source": [
    "#### Last 100 Days based on Best Model"
   ]
  },
  {
   "cell_type": "code",
   "execution_count": 145,
   "metadata": {},
   "outputs": [
    {
     "data": {
      "text/plain": [
       "array([1, 0, 1, 0, 0, 0, 0, 1, 1, 1, 0, 0, 1, 0, 0, 1, 1, 1, 0, 0, 1, 1,\n",
       "       0, 0, 0, 0, 0, 1, 1, 1, 1, 0, 0, 1, 0, 0, 0, 1, 1, 1, 1, 0, 1, 0,\n",
       "       1, 1, 1, 0, 0, 0, 1, 1, 0, 1, 0, 1, 0, 0, 1, 0, 1, 1, 0, 1, 1, 0,\n",
       "       1, 1, 0, 0, 0, 1, 0, 1, 1, 0, 0, 0, 0, 0, 0, 1, 1, 0, 1, 1, 0, 1,\n",
       "       1, 0, 0, 1, 1, 1, 0, 1, 0, 1, 1, 1])"
      ]
     },
     "execution_count": 145,
     "metadata": {},
     "output_type": "execute_result"
    }
   ],
   "source": [
    "predictions_xgb_100 = trained_model_xgb_1250.predict(last100)\n",
    "predictions_xgb_100"
   ]
  },
  {
   "cell_type": "markdown",
   "metadata": {},
   "source": [
    "## KFold cross validation\n",
    "### Basic example"
   ]
  },
  {
   "cell_type": "code",
   "execution_count": 139,
   "metadata": {},
   "outputs": [
    {
     "data": {
      "text/plain": [
       "array([0.59493671, 0.68776371, 0.55696203, 0.66666667, 0.63983051,\n",
       "       0.58898305, 0.59322034, 0.55508475, 0.58050847, 0.63135593])"
      ]
     },
     "execution_count": 139,
     "metadata": {},
     "output_type": "execute_result"
    }
   ],
   "source": [
    "from sklearn.model_selection import cross_val_score\n",
    "\n",
    "cross_val_score(LogisticRegression(solver='liblinear',multi_class='ovr'), complete_data, target, cv=10)"
   ]
  },
  {
   "cell_type": "code",
   "execution_count": null,
   "metadata": {},
   "outputs": [],
   "source": [
    "cross_val_score(SVC(gamma='auto'), complete_data, target, cv=10)"
   ]
  },
  {
   "cell_type": "code",
   "execution_count": null,
   "metadata": {},
   "outputs": [],
   "source": [
    "cross_val_score(RandomForestClassifier(n_estimators=5), complete_data, target, cv=10)"
   ]
  },
  {
   "cell_type": "code",
   "execution_count": null,
   "metadata": {},
   "outputs": [],
   "source": [
    "cross_val_score(KNeighborsClassifier(n_neighbors=5), complete_data, target, cv=10)"
   ]
  },
  {
   "cell_type": "code",
   "execution_count": null,
   "metadata": {},
   "outputs": [],
   "source": [
    "cross_val_score(XGBClassifier(use_label_encoder=False), complete_data, target, cv=10)"
   ]
  }
 ],
 "metadata": {
  "kernelspec": {
   "display_name": "Python 3",
   "language": "python",
   "name": "python3"
  },
  "language_info": {
   "codemirror_mode": {
    "name": "ipython",
    "version": 3
   },
   "file_extension": ".py",
   "mimetype": "text/x-python",
   "name": "python",
   "nbconvert_exporter": "python",
   "pygments_lexer": "ipython3",
   "version": "3.8.5"
  }
 },
 "nbformat": 4,
 "nbformat_minor": 4
}
