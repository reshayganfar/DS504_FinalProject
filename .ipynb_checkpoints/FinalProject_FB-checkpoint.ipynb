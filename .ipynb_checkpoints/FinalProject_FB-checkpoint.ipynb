{
 "cells": [
  {
   "cell_type": "code",
   "execution_count": 217,
   "metadata": {},
   "outputs": [],
   "source": [
    "import numpy as np\n",
    "import pandas as pd\n",
    "import ta\n",
    "import seaborn as sn\n",
    "import matplotlib.pyplot as plt\n",
    "\n",
    "from sklearn.ensemble import RandomForestClassifier\n",
    "from sklearn.linear_model import LogisticRegression\n",
    "from sklearn.neighbors import KNeighborsClassifier\n",
    "from sklearn.svm import SVC\n",
    "from xgboost import XGBClassifier\n",
    "\n",
    "from ta import add_all_ta_features\n",
    "from ta import momentum\n",
    "from ta.utils import dropna"
   ]
  },
  {
   "cell_type": "code",
   "execution_count": 218,
   "metadata": {},
   "outputs": [],
   "source": [
    "#pip install xgboost"
   ]
  },
  {
   "cell_type": "code",
   "execution_count": 219,
   "metadata": {},
   "outputs": [],
   "source": [
    "def get_data(company_symbol):\n",
    "    return pd.read_csv(\"dataset/\"+company_symbol+\".csv\")"
   ]
  },
  {
   "cell_type": "code",
   "execution_count": 220,
   "metadata": {},
   "outputs": [
    {
     "data": {
      "text/html": [
       "<div>\n",
       "<style scoped>\n",
       "    .dataframe tbody tr th:only-of-type {\n",
       "        vertical-align: middle;\n",
       "    }\n",
       "\n",
       "    .dataframe tbody tr th {\n",
       "        vertical-align: top;\n",
       "    }\n",
       "\n",
       "    .dataframe thead th {\n",
       "        text-align: right;\n",
       "    }\n",
       "</style>\n",
       "<table border=\"1\" class=\"dataframe\">\n",
       "  <thead>\n",
       "    <tr style=\"text-align: right;\">\n",
       "      <th></th>\n",
       "      <th>Date</th>\n",
       "      <th>Open</th>\n",
       "      <th>High</th>\n",
       "      <th>Low</th>\n",
       "      <th>Close</th>\n",
       "      <th>Adj Close</th>\n",
       "      <th>Volume</th>\n",
       "    </tr>\n",
       "  </thead>\n",
       "  <tbody>\n",
       "    <tr>\n",
       "      <th>0</th>\n",
       "      <td>5/18/2012</td>\n",
       "      <td>42.049999</td>\n",
       "      <td>45.000000</td>\n",
       "      <td>38.000000</td>\n",
       "      <td>38.230000</td>\n",
       "      <td>38.230000</td>\n",
       "      <td>573576400</td>\n",
       "    </tr>\n",
       "    <tr>\n",
       "      <th>1</th>\n",
       "      <td>5/21/2012</td>\n",
       "      <td>36.529999</td>\n",
       "      <td>36.660000</td>\n",
       "      <td>33.000000</td>\n",
       "      <td>34.029999</td>\n",
       "      <td>34.029999</td>\n",
       "      <td>168192700</td>\n",
       "    </tr>\n",
       "    <tr>\n",
       "      <th>2</th>\n",
       "      <td>5/22/2012</td>\n",
       "      <td>32.610001</td>\n",
       "      <td>33.590000</td>\n",
       "      <td>30.940001</td>\n",
       "      <td>31.000000</td>\n",
       "      <td>31.000000</td>\n",
       "      <td>101786600</td>\n",
       "    </tr>\n",
       "    <tr>\n",
       "      <th>3</th>\n",
       "      <td>5/23/2012</td>\n",
       "      <td>31.370001</td>\n",
       "      <td>32.500000</td>\n",
       "      <td>31.360001</td>\n",
       "      <td>32.000000</td>\n",
       "      <td>32.000000</td>\n",
       "      <td>73600000</td>\n",
       "    </tr>\n",
       "    <tr>\n",
       "      <th>4</th>\n",
       "      <td>5/24/2012</td>\n",
       "      <td>32.950001</td>\n",
       "      <td>33.209999</td>\n",
       "      <td>31.770000</td>\n",
       "      <td>33.029999</td>\n",
       "      <td>33.029999</td>\n",
       "      <td>50237200</td>\n",
       "    </tr>\n",
       "    <tr>\n",
       "      <th>...</th>\n",
       "      <td>...</td>\n",
       "      <td>...</td>\n",
       "      <td>...</td>\n",
       "      <td>...</td>\n",
       "      <td>...</td>\n",
       "      <td>...</td>\n",
       "      <td>...</td>\n",
       "    </tr>\n",
       "    <tr>\n",
       "      <th>2374</th>\n",
       "      <td>10/25/2021</td>\n",
       "      <td>320.299988</td>\n",
       "      <td>329.559998</td>\n",
       "      <td>319.720001</td>\n",
       "      <td>328.690002</td>\n",
       "      <td>328.690002</td>\n",
       "      <td>38409000</td>\n",
       "    </tr>\n",
       "    <tr>\n",
       "      <th>2375</th>\n",
       "      <td>10/26/2021</td>\n",
       "      <td>328.260010</td>\n",
       "      <td>330.209991</td>\n",
       "      <td>309.600006</td>\n",
       "      <td>315.809998</td>\n",
       "      <td>315.809998</td>\n",
       "      <td>65654000</td>\n",
       "    </tr>\n",
       "    <tr>\n",
       "      <th>2376</th>\n",
       "      <td>10/27/2021</td>\n",
       "      <td>314.190002</td>\n",
       "      <td>319.250000</td>\n",
       "      <td>312.059998</td>\n",
       "      <td>312.220001</td>\n",
       "      <td>312.220001</td>\n",
       "      <td>29971800</td>\n",
       "    </tr>\n",
       "    <tr>\n",
       "      <th>2377</th>\n",
       "      <td>10/28/2021</td>\n",
       "      <td>312.989990</td>\n",
       "      <td>325.519989</td>\n",
       "      <td>308.109985</td>\n",
       "      <td>316.920013</td>\n",
       "      <td>316.920013</td>\n",
       "      <td>50806800</td>\n",
       "    </tr>\n",
       "    <tr>\n",
       "      <th>2378</th>\n",
       "      <td>10/29/2021</td>\n",
       "      <td>320.190002</td>\n",
       "      <td>326.000000</td>\n",
       "      <td>319.600006</td>\n",
       "      <td>323.570007</td>\n",
       "      <td>323.570007</td>\n",
       "      <td>37027000</td>\n",
       "    </tr>\n",
       "  </tbody>\n",
       "</table>\n",
       "<p>2379 rows × 7 columns</p>\n",
       "</div>"
      ],
      "text/plain": [
       "            Date        Open        High         Low       Close   Adj Close  \\\n",
       "0      5/18/2012   42.049999   45.000000   38.000000   38.230000   38.230000   \n",
       "1      5/21/2012   36.529999   36.660000   33.000000   34.029999   34.029999   \n",
       "2      5/22/2012   32.610001   33.590000   30.940001   31.000000   31.000000   \n",
       "3      5/23/2012   31.370001   32.500000   31.360001   32.000000   32.000000   \n",
       "4      5/24/2012   32.950001   33.209999   31.770000   33.029999   33.029999   \n",
       "...          ...         ...         ...         ...         ...         ...   \n",
       "2374  10/25/2021  320.299988  329.559998  319.720001  328.690002  328.690002   \n",
       "2375  10/26/2021  328.260010  330.209991  309.600006  315.809998  315.809998   \n",
       "2376  10/27/2021  314.190002  319.250000  312.059998  312.220001  312.220001   \n",
       "2377  10/28/2021  312.989990  325.519989  308.109985  316.920013  316.920013   \n",
       "2378  10/29/2021  320.190002  326.000000  319.600006  323.570007  323.570007   \n",
       "\n",
       "         Volume  \n",
       "0     573576400  \n",
       "1     168192700  \n",
       "2     101786600  \n",
       "3      73600000  \n",
       "4      50237200  \n",
       "...         ...  \n",
       "2374   38409000  \n",
       "2375   65654000  \n",
       "2376   29971800  \n",
       "2377   50806800  \n",
       "2378   37027000  \n",
       "\n",
       "[2379 rows x 7 columns]"
      ]
     },
     "execution_count": 220,
     "metadata": {},
     "output_type": "execute_result"
    }
   ],
   "source": [
    "data = get_data(\"FB\")\n",
    "data"
   ]
  },
  {
   "cell_type": "code",
   "execution_count": 221,
   "metadata": {},
   "outputs": [
    {
     "data": {
      "text/plain": [
       "Date         False\n",
       "Open         False\n",
       "High         False\n",
       "Low          False\n",
       "Close        False\n",
       "Adj Close    False\n",
       "Volume       False\n",
       "dtype: bool"
      ]
     },
     "execution_count": 221,
     "metadata": {},
     "output_type": "execute_result"
    }
   ],
   "source": [
    "data.isna().any()"
   ]
  },
  {
   "cell_type": "code",
   "execution_count": 222,
   "metadata": {},
   "outputs": [
    {
     "data": {
      "text/html": [
       "<div>\n",
       "<style scoped>\n",
       "    .dataframe tbody tr th:only-of-type {\n",
       "        vertical-align: middle;\n",
       "    }\n",
       "\n",
       "    .dataframe tbody tr th {\n",
       "        vertical-align: top;\n",
       "    }\n",
       "\n",
       "    .dataframe thead th {\n",
       "        text-align: right;\n",
       "    }\n",
       "</style>\n",
       "<table border=\"1\" class=\"dataframe\">\n",
       "  <thead>\n",
       "    <tr style=\"text-align: right;\">\n",
       "      <th></th>\n",
       "    </tr>\n",
       "  </thead>\n",
       "  <tbody>\n",
       "    <tr>\n",
       "      <th>0</th>\n",
       "    </tr>\n",
       "    <tr>\n",
       "      <th>1</th>\n",
       "    </tr>\n",
       "    <tr>\n",
       "      <th>2</th>\n",
       "    </tr>\n",
       "    <tr>\n",
       "      <th>3</th>\n",
       "    </tr>\n",
       "    <tr>\n",
       "      <th>4</th>\n",
       "    </tr>\n",
       "    <tr>\n",
       "      <th>...</th>\n",
       "    </tr>\n",
       "    <tr>\n",
       "      <th>2374</th>\n",
       "    </tr>\n",
       "    <tr>\n",
       "      <th>2375</th>\n",
       "    </tr>\n",
       "    <tr>\n",
       "      <th>2376</th>\n",
       "    </tr>\n",
       "    <tr>\n",
       "      <th>2377</th>\n",
       "    </tr>\n",
       "    <tr>\n",
       "      <th>2378</th>\n",
       "    </tr>\n",
       "  </tbody>\n",
       "</table>\n",
       "<p>2379 rows × 0 columns</p>\n",
       "</div>"
      ],
      "text/plain": [
       "Empty DataFrame\n",
       "Columns: []\n",
       "Index: [0, 1, 2, 3, 4, 5, 6, 7, 8, 9, 10, 11, 12, 13, 14, 15, 16, 17, 18, 19, 20, 21, 22, 23, 24, 25, 26, 27, 28, 29, 30, 31, 32, 33, 34, 35, 36, 37, 38, 39, 40, 41, 42, 43, 44, 45, 46, 47, 48, 49, 50, 51, 52, 53, 54, 55, 56, 57, 58, 59, 60, 61, 62, 63, 64, 65, 66, 67, 68, 69, 70, 71, 72, 73, 74, 75, 76, 77, 78, 79, 80, 81, 82, 83, 84, 85, 86, 87, 88, 89, 90, 91, 92, 93, 94, 95, 96, 97, 98, 99, ...]\n",
       "\n",
       "[2379 rows x 0 columns]"
      ]
     },
     "execution_count": 222,
     "metadata": {},
     "output_type": "execute_result"
    }
   ],
   "source": [
    "data[data.columns[data.isna().any()]]"
   ]
  },
  {
   "cell_type": "code",
   "execution_count": 223,
   "metadata": {},
   "outputs": [
    {
     "name": "stdout",
     "output_type": "stream",
     "text": [
      "            Date        Open        High         Low       Close   Adj Close  \\\n",
      "0      5/18/2012   42.049999   45.000000   38.000000   38.230000   38.230000   \n",
      "1      5/21/2012   36.529999   36.660000   33.000000   34.029999   34.029999   \n",
      "2      5/22/2012   32.610001   33.590000   30.940001   31.000000   31.000000   \n",
      "3      5/23/2012   31.370001   32.500000   31.360001   32.000000   32.000000   \n",
      "4      5/24/2012   32.950001   33.209999   31.770000   33.029999   33.029999   \n",
      "...          ...         ...         ...         ...         ...         ...   \n",
      "2374  10/25/2021  320.299988  329.559998  319.720001  328.690002  328.690002   \n",
      "2375  10/26/2021  328.260010  330.209991  309.600006  315.809998  315.809998   \n",
      "2376  10/27/2021  314.190002  319.250000  312.059998  312.220001  312.220001   \n",
      "2377  10/28/2021  312.989990  325.519989  308.109985  316.920013  316.920013   \n",
      "2378  10/29/2021  320.190002  326.000000  319.600006  323.570007  323.570007   \n",
      "\n",
      "         Volume  cond1  cond2  cond3  \n",
      "0     573576400  False  False  False  \n",
      "1     168192700  False  False  False  \n",
      "2     101786600  False  False  False  \n",
      "3      73600000  False  False  False  \n",
      "4      50237200  False  False  False  \n",
      "...         ...    ...    ...    ...  \n",
      "2374   38409000  False  False  False  \n",
      "2375   65654000  False  False  False  \n",
      "2376   29971800  False  False  False  \n",
      "2377   50806800  False  False  False  \n",
      "2378   37027000  False  False  False  \n",
      "\n",
      "[2379 rows x 10 columns]\n"
     ]
    }
   ],
   "source": [
    "cond1 = data.Date.isna() # aapl['Date'].isna()\n",
    "cond2 = data.Date.str.contains(r'^\\s*$', na=False)\n",
    "cond3 = data.Date == ''\n",
    "\n",
    "data_checked = data.assign(cond1= cond1, cond2= cond2, cond3= cond3)\n",
    "print (data_checked)"
   ]
  },
  {
   "cell_type": "code",
   "execution_count": 224,
   "metadata": {},
   "outputs": [],
   "source": [
    "def simple_moving_average_5(close):\n",
    "    return close.rolling(5, min_periods=1).mean()"
   ]
  },
  {
   "cell_type": "code",
   "execution_count": 225,
   "metadata": {},
   "outputs": [],
   "source": [
    "def simple_moving_average_10(close):\n",
    "    return close.rolling(10, min_periods=1).mean()"
   ]
  },
  {
   "cell_type": "code",
   "execution_count": 226,
   "metadata": {},
   "outputs": [],
   "source": [
    "def stochastic_k(high, low, close):\n",
    "    return (((close-low.rolling(14).min())/(high.rolling(14).max()-low.rolling(14).min()))*100)"
   ]
  },
  {
   "cell_type": "code",
   "execution_count": 227,
   "metadata": {},
   "outputs": [],
   "source": [
    "def stochastic_d(stochastic_k):\n",
    "    return stochastic_k.rolling(3,min_periods=1).mean()"
   ]
  },
  {
   "cell_type": "code",
   "execution_count": 228,
   "metadata": {},
   "outputs": [],
   "source": [
    "def larry_williams_r(high, low, close):\n",
    "    return (((high.rolling(14).max()-close)/(high.rolling(14).max()-low.rolling(14).min()))*100)"
   ]
  },
  {
   "cell_type": "code",
   "execution_count": 229,
   "metadata": {},
   "outputs": [],
   "source": [
    "def rate_of_change(close):\n",
    "    return ((close-close.shift(12))/close.shift(12))"
   ]
  },
  {
   "cell_type": "code",
   "execution_count": 230,
   "metadata": {},
   "outputs": [],
   "source": [
    "def price_volume_trend(close, volume):\n",
    "    return (((close-close.shift(1))/close.shift(1))*volume)"
   ]
  },
  {
   "cell_type": "code",
   "execution_count": 231,
   "metadata": {},
   "outputs": [],
   "source": [
    "def accumulation_distribution_oscillator(high, low, close):\n",
    "    return((high-close.shift(1))/(high-low))"
   ]
  },
  {
   "cell_type": "code",
   "execution_count": 232,
   "metadata": {},
   "outputs": [],
   "source": [
    "def weighted_moving_average_10(close):\n",
    "    return ((10*close+9*close.shift(1)+8*close.shift(2)+7*close.shift(3)\n",
    "             +6*close.shift(4)+5*close.shift(5)+4*close.shift(6)+3*close.shift(7)\n",
    "             +2*close.shift(8)+close.shift(9))/(10+9+8+7+6+5+4+3+2+1))"
   ]
  },
  {
   "cell_type": "code",
   "execution_count": 233,
   "metadata": {},
   "outputs": [],
   "source": [
    "def exponential_moving_average_12(close):\n",
    "    return (close.ewm(span=12, adjust=False).mean())"
   ]
  },
  {
   "cell_type": "code",
   "execution_count": 234,
   "metadata": {},
   "outputs": [],
   "source": [
    "def exponential_moving_average_26(close):\n",
    "    return (close.ewm(span=26, adjust=False).mean())"
   ]
  },
  {
   "cell_type": "code",
   "execution_count": 235,
   "metadata": {},
   "outputs": [],
   "source": [
    "def moving_average_convergence_divergence(ema_12, ema_26):\n",
    "    return (ema_12 - ema_26)"
   ]
  },
  {
   "cell_type": "code",
   "execution_count": 236,
   "metadata": {},
   "outputs": [],
   "source": [
    "def momentum(close):\n",
    "    return ((close/close.shift(14))*100)"
   ]
  },
  {
   "cell_type": "code",
   "execution_count": 237,
   "metadata": {},
   "outputs": [],
   "source": [
    "def change(close):\n",
    "    return (close - close.shift(1))"
   ]
  },
  {
   "cell_type": "code",
   "execution_count": 238,
   "metadata": {},
   "outputs": [],
   "source": [
    "def direction(change):\n",
    "    return (np.where(change>0, 1, 0))"
   ]
  },
  {
   "cell_type": "code",
   "execution_count": 239,
   "metadata": {},
   "outputs": [],
   "source": [
    "def relative_strength_index(direction):\n",
    "    return (100-(100/(1+(direction.rolling(14).sum()/14)/(14-direction.rolling(14).sum())/14)))"
   ]
  },
  {
   "cell_type": "code",
   "execution_count": 240,
   "metadata": {},
   "outputs": [],
   "source": [
    "def channel_commodity_index(df, ndays): \n",
    "    df['TP'] = (df['High'] + df['Low'] + df['Close']) / 3 \n",
    "    df['sma'] = df['TP'].rolling(ndays).mean()\n",
    "    df['mad'] = df['TP'].rolling(ndays).apply(lambda x: pd.Series(x).mad())\n",
    "    df['CCI'] = (df['TP'] - df['sma']) / (0.015 * df['mad']) \n",
    "    return df['CCI']"
   ]
  },
  {
   "cell_type": "code",
   "execution_count": 241,
   "metadata": {},
   "outputs": [],
   "source": [
    "def disparity_index(close):\n",
    "    return (((close - close.rolling(14).mean())/(close.rolling(14).mean()))*100)"
   ]
  },
  {
   "cell_type": "code",
   "execution_count": 242,
   "metadata": {},
   "outputs": [],
   "source": [
    "def get_adx(high, low, close, lookback):\n",
    "    plus_dm = high.diff()\n",
    "    minus_dm = low.diff()\n",
    "    plus_dm[plus_dm < 0] = 0\n",
    "    minus_dm[minus_dm > 0] = 0\n",
    "    \n",
    "    tr1 = pd.DataFrame(high - low)\n",
    "    tr2 = pd.DataFrame(abs(high - close.shift(1)))\n",
    "    tr3 = pd.DataFrame(abs(low - close.shift(1)))\n",
    "    frames = [tr1, tr2, tr3]\n",
    "    tr = pd.concat(frames, axis = 1, join = 'inner').max(axis = 1)\n",
    "    atr = tr.rolling(lookback).mean()\n",
    "    \n",
    "    plus_di = 100 * (plus_dm.ewm(alpha = 1/lookback).mean() / atr)\n",
    "    minus_di = abs(100 * (minus_dm.ewm(alpha = 1/lookback).mean() / atr))\n",
    "    dx = (abs(plus_di - minus_di) / abs(plus_di + minus_di)) * 100\n",
    "    adx = ((dx.shift(1) * (lookback - 1)) + dx) / lookback\n",
    "    adx_smooth = adx.ewm(alpha = 1/lookback).mean()\n",
    "    return adx_smooth"
   ]
  },
  {
   "cell_type": "code",
   "execution_count": 243,
   "metadata": {},
   "outputs": [],
   "source": [
    "def compute_all_indicators(data):\n",
    "    data['SMA5'] = simple_moving_average_5(data['Close'])\n",
    "    data['SMA10'] = simple_moving_average_10(data['Close'])\n",
    "    data['StochasticK'] = stochastic_k(data['High'], data['Low'], data['Close'])\n",
    "    data['StochasticD'] = stochastic_d(data['StochasticK'])\n",
    "    data['LarryWilliamsR'] = larry_williams_r(data['High'], data['Low'], data['Close'])\n",
    "    data['ROC'] = rate_of_change(data['Close'])\n",
    "    data['PVT'] = price_volume_trend(data['Close'], data['Volume'])\n",
    "    data['ADO'] = accumulation_distribution_oscillator(data['High'], data['Low'], data['Close'])\n",
    "    data['WMA10'] = weighted_moving_average_10(data['Close'])\n",
    "    data['EMA12'] = exponential_moving_average_12(data['Close'])\n",
    "    data['EMA26'] = exponential_moving_average_26(data['Close'])\n",
    "    data['MACD'] = moving_average_convergence_divergence(data['EMA12'], data['EMA26'])\n",
    "    data['Momentum'] = momentum(data['Close'])\n",
    "    data['Change'] = change(data['Close'])\n",
    "    data['Direction'] = direction(data['Change'])\n",
    "    data['RSI'] = relative_strength_index(data['Direction'])\n",
    "    data['CCI'] = channel_commodity_index(data, 14)\n",
    "    data['DI'] = disparity_index(data['Close'])\n",
    "    data['ADX'] = get_adx(data['High'], data['Low'], data['Close'], 14)\n",
    "    return data"
   ]
  },
  {
   "cell_type": "code",
   "execution_count": 244,
   "metadata": {},
   "outputs": [],
   "source": [
    "complete_data = compute_all_indicators(data)\n",
    "complete_data = complete_data.dropna()"
   ]
  },
  {
   "cell_type": "code",
   "execution_count": 245,
   "metadata": {},
   "outputs": [
    {
     "data": {
      "text/html": [
       "<div>\n",
       "<style scoped>\n",
       "    .dataframe tbody tr th:only-of-type {\n",
       "        vertical-align: middle;\n",
       "    }\n",
       "\n",
       "    .dataframe tbody tr th {\n",
       "        vertical-align: top;\n",
       "    }\n",
       "\n",
       "    .dataframe thead th {\n",
       "        text-align: right;\n",
       "    }\n",
       "</style>\n",
       "<table border=\"1\" class=\"dataframe\">\n",
       "  <thead>\n",
       "    <tr style=\"text-align: right;\">\n",
       "      <th></th>\n",
       "      <th>Date</th>\n",
       "      <th>Open</th>\n",
       "      <th>High</th>\n",
       "      <th>Low</th>\n",
       "      <th>Close</th>\n",
       "      <th>Adj Close</th>\n",
       "      <th>Volume</th>\n",
       "      <th>SMA5</th>\n",
       "      <th>SMA10</th>\n",
       "      <th>StochasticK</th>\n",
       "      <th>...</th>\n",
       "      <th>Momentum</th>\n",
       "      <th>Change</th>\n",
       "      <th>Direction</th>\n",
       "      <th>RSI</th>\n",
       "      <th>TP</th>\n",
       "      <th>sma</th>\n",
       "      <th>mad</th>\n",
       "      <th>CCI</th>\n",
       "      <th>DI</th>\n",
       "      <th>ADX</th>\n",
       "    </tr>\n",
       "  </thead>\n",
       "  <tbody>\n",
       "    <tr>\n",
       "      <th>14</th>\n",
       "      <td>6/8/2012</td>\n",
       "      <td>26.549999</td>\n",
       "      <td>27.760000</td>\n",
       "      <td>26.440001</td>\n",
       "      <td>27.100000</td>\n",
       "      <td>27.100000</td>\n",
       "      <td>38034000</td>\n",
       "      <td>26.598000</td>\n",
       "      <td>27.925000</td>\n",
       "      <td>14.183124</td>\n",
       "      <td>...</td>\n",
       "      <td>70.886738</td>\n",
       "      <td>0.790001</td>\n",
       "      <td>1</td>\n",
       "      <td>0.282646</td>\n",
       "      <td>27.100000</td>\n",
       "      <td>29.409048</td>\n",
       "      <td>2.327483</td>\n",
       "      <td>-66.138608</td>\n",
       "      <td>-7.307419</td>\n",
       "      <td>81.950354</td>\n",
       "    </tr>\n",
       "    <tr>\n",
       "      <th>15</th>\n",
       "      <td>6/11/2012</td>\n",
       "      <td>27.180000</td>\n",
       "      <td>28.070000</td>\n",
       "      <td>26.840000</td>\n",
       "      <td>27.010000</td>\n",
       "      <td>27.010000</td>\n",
       "      <td>28219600</td>\n",
       "      <td>26.620000</td>\n",
       "      <td>27.435000</td>\n",
       "      <td>18.463445</td>\n",
       "      <td>...</td>\n",
       "      <td>79.371145</td>\n",
       "      <td>-0.090000</td>\n",
       "      <td>0</td>\n",
       "      <td>0.282646</td>\n",
       "      <td>27.306667</td>\n",
       "      <td>28.890714</td>\n",
       "      <td>1.961395</td>\n",
       "      <td>-53.840862</td>\n",
       "      <td>-6.003132</td>\n",
       "      <td>77.257952</td>\n",
       "    </tr>\n",
       "    <tr>\n",
       "      <th>16</th>\n",
       "      <td>6/12/2012</td>\n",
       "      <td>27.480000</td>\n",
       "      <td>27.770000</td>\n",
       "      <td>26.959999</td>\n",
       "      <td>27.400000</td>\n",
       "      <td>27.400000</td>\n",
       "      <td>15816800</td>\n",
       "      <td>26.926000</td>\n",
       "      <td>27.291000</td>\n",
       "      <td>24.447337</td>\n",
       "      <td>...</td>\n",
       "      <td>88.387097</td>\n",
       "      <td>0.390000</td>\n",
       "      <td>1</td>\n",
       "      <td>0.381194</td>\n",
       "      <td>27.376666</td>\n",
       "      <td>28.571667</td>\n",
       "      <td>1.740238</td>\n",
       "      <td>-45.779188</td>\n",
       "      <td>-3.784895</td>\n",
       "      <td>73.418742</td>\n",
       "    </tr>\n",
       "    <tr>\n",
       "      <th>17</th>\n",
       "      <td>6/13/2012</td>\n",
       "      <td>27.660000</td>\n",
       "      <td>28.100000</td>\n",
       "      <td>27.100000</td>\n",
       "      <td>27.270000</td>\n",
       "      <td>27.270000</td>\n",
       "      <td>17102800</td>\n",
       "      <td>27.018000</td>\n",
       "      <td>27.199000</td>\n",
       "      <td>22.756830</td>\n",
       "      <td>...</td>\n",
       "      <td>85.218750</td>\n",
       "      <td>-0.130000</td>\n",
       "      <td>0</td>\n",
       "      <td>0.282646</td>\n",
       "      <td>27.490000</td>\n",
       "      <td>28.252857</td>\n",
       "      <td>1.479388</td>\n",
       "      <td>-34.377153</td>\n",
       "      <td>-3.091684</td>\n",
       "      <td>71.350434</td>\n",
       "    </tr>\n",
       "    <tr>\n",
       "      <th>18</th>\n",
       "      <td>6/14/2012</td>\n",
       "      <td>27.650000</td>\n",
       "      <td>28.320000</td>\n",
       "      <td>27.379999</td>\n",
       "      <td>28.290001</td>\n",
       "      <td>28.290001</td>\n",
       "      <td>16855000</td>\n",
       "      <td>27.414000</td>\n",
       "      <td>27.068000</td>\n",
       "      <td>37.281301</td>\n",
       "      <td>...</td>\n",
       "      <td>85.649415</td>\n",
       "      <td>1.020001</td>\n",
       "      <td>1</td>\n",
       "      <td>0.282646</td>\n",
       "      <td>27.996667</td>\n",
       "      <td>27.919048</td>\n",
       "      <td>1.074150</td>\n",
       "      <td>4.817392</td>\n",
       "      <td>1.757364</td>\n",
       "      <td>68.371248</td>\n",
       "    </tr>\n",
       "    <tr>\n",
       "      <th>...</th>\n",
       "      <td>...</td>\n",
       "      <td>...</td>\n",
       "      <td>...</td>\n",
       "      <td>...</td>\n",
       "      <td>...</td>\n",
       "      <td>...</td>\n",
       "      <td>...</td>\n",
       "      <td>...</td>\n",
       "      <td>...</td>\n",
       "      <td>...</td>\n",
       "      <td>...</td>\n",
       "      <td>...</td>\n",
       "      <td>...</td>\n",
       "      <td>...</td>\n",
       "      <td>...</td>\n",
       "      <td>...</td>\n",
       "      <td>...</td>\n",
       "      <td>...</td>\n",
       "      <td>...</td>\n",
       "      <td>...</td>\n",
       "      <td>...</td>\n",
       "    </tr>\n",
       "    <tr>\n",
       "      <th>2374</th>\n",
       "      <td>10/25/2021</td>\n",
       "      <td>320.299988</td>\n",
       "      <td>329.559998</td>\n",
       "      <td>319.720001</td>\n",
       "      <td>328.690002</td>\n",
       "      <td>328.690002</td>\n",
       "      <td>38409000</td>\n",
       "      <td>335.189996</td>\n",
       "      <td>331.288998</td>\n",
       "      <td>42.540399</td>\n",
       "      <td>...</td>\n",
       "      <td>98.717567</td>\n",
       "      <td>4.080017</td>\n",
       "      <td>1</td>\n",
       "      <td>0.910010</td>\n",
       "      <td>325.990000</td>\n",
       "      <td>330.581667</td>\n",
       "      <td>5.022143</td>\n",
       "      <td>-60.952286</td>\n",
       "      <td>-0.638920</td>\n",
       "      <td>32.451445</td>\n",
       "    </tr>\n",
       "    <tr>\n",
       "      <th>2375</th>\n",
       "      <td>10/26/2021</td>\n",
       "      <td>328.260010</td>\n",
       "      <td>330.209991</td>\n",
       "      <td>309.600006</td>\n",
       "      <td>315.809998</td>\n",
       "      <td>315.809998</td>\n",
       "      <td>65654000</td>\n",
       "      <td>330.353998</td>\n",
       "      <td>330.492999</td>\n",
       "      <td>18.062801</td>\n",
       "      <td>...</td>\n",
       "      <td>94.655912</td>\n",
       "      <td>-12.880004</td>\n",
       "      <td>0</td>\n",
       "      <td>0.675676</td>\n",
       "      <td>318.539998</td>\n",
       "      <td>329.672142</td>\n",
       "      <td>5.702925</td>\n",
       "      <td>-130.133739</td>\n",
       "      <td>-4.163506</td>\n",
       "      <td>32.635555</td>\n",
       "    </tr>\n",
       "    <tr>\n",
       "      <th>2376</th>\n",
       "      <td>10/27/2021</td>\n",
       "      <td>314.190002</td>\n",
       "      <td>319.250000</td>\n",
       "      <td>312.059998</td>\n",
       "      <td>312.220001</td>\n",
       "      <td>312.220001</td>\n",
       "      <td>29971800</td>\n",
       "      <td>324.641998</td>\n",
       "      <td>329.260999</td>\n",
       "      <td>7.620694</td>\n",
       "      <td>...</td>\n",
       "      <td>94.836280</td>\n",
       "      <td>-3.589997</td>\n",
       "      <td>0</td>\n",
       "      <td>0.675676</td>\n",
       "      <td>314.510000</td>\n",
       "      <td>328.398095</td>\n",
       "      <td>6.276394</td>\n",
       "      <td>-147.516715</td>\n",
       "      <td>-4.902510</td>\n",
       "      <td>33.349941</td>\n",
       "    </tr>\n",
       "    <tr>\n",
       "      <th>2377</th>\n",
       "      <td>10/28/2021</td>\n",
       "      <td>312.989990</td>\n",
       "      <td>325.519989</td>\n",
       "      <td>308.109985</td>\n",
       "      <td>316.920013</td>\n",
       "      <td>316.920013</td>\n",
       "      <td>50806800</td>\n",
       "      <td>319.650000</td>\n",
       "      <td>328.100000</td>\n",
       "      <td>24.560975</td>\n",
       "      <td>...</td>\n",
       "      <td>96.021822</td>\n",
       "      <td>4.700012</td>\n",
       "      <td>1</td>\n",
       "      <td>0.675676</td>\n",
       "      <td>316.849996</td>\n",
       "      <td>327.407381</td>\n",
       "      <td>6.652347</td>\n",
       "      <td>-105.801103</td>\n",
       "      <td>-3.194426</td>\n",
       "      <td>33.965208</td>\n",
       "    </tr>\n",
       "    <tr>\n",
       "      <th>2378</th>\n",
       "      <td>10/29/2021</td>\n",
       "      <td>320.190002</td>\n",
       "      <td>326.000000</td>\n",
       "      <td>319.600006</td>\n",
       "      <td>323.570007</td>\n",
       "      <td>323.570007</td>\n",
       "      <td>37027000</td>\n",
       "      <td>319.442004</td>\n",
       "      <td>327.981000</td>\n",
       "      <td>43.100114</td>\n",
       "      <td>...</td>\n",
       "      <td>99.422337</td>\n",
       "      <td>6.649994</td>\n",
       "      <td>1</td>\n",
       "      <td>0.910010</td>\n",
       "      <td>323.056671</td>\n",
       "      <td>327.120476</td>\n",
       "      <td>6.857279</td>\n",
       "      <td>-39.508433</td>\n",
       "      <td>-1.122578</td>\n",
       "      <td>33.906420</td>\n",
       "    </tr>\n",
       "  </tbody>\n",
       "</table>\n",
       "<p>2365 rows × 29 columns</p>\n",
       "</div>"
      ],
      "text/plain": [
       "            Date        Open        High         Low       Close   Adj Close  \\\n",
       "14      6/8/2012   26.549999   27.760000   26.440001   27.100000   27.100000   \n",
       "15     6/11/2012   27.180000   28.070000   26.840000   27.010000   27.010000   \n",
       "16     6/12/2012   27.480000   27.770000   26.959999   27.400000   27.400000   \n",
       "17     6/13/2012   27.660000   28.100000   27.100000   27.270000   27.270000   \n",
       "18     6/14/2012   27.650000   28.320000   27.379999   28.290001   28.290001   \n",
       "...          ...         ...         ...         ...         ...         ...   \n",
       "2374  10/25/2021  320.299988  329.559998  319.720001  328.690002  328.690002   \n",
       "2375  10/26/2021  328.260010  330.209991  309.600006  315.809998  315.809998   \n",
       "2376  10/27/2021  314.190002  319.250000  312.059998  312.220001  312.220001   \n",
       "2377  10/28/2021  312.989990  325.519989  308.109985  316.920013  316.920013   \n",
       "2378  10/29/2021  320.190002  326.000000  319.600006  323.570007  323.570007   \n",
       "\n",
       "        Volume        SMA5       SMA10  StochasticK  ...   Momentum  \\\n",
       "14    38034000   26.598000   27.925000    14.183124  ...  70.886738   \n",
       "15    28219600   26.620000   27.435000    18.463445  ...  79.371145   \n",
       "16    15816800   26.926000   27.291000    24.447337  ...  88.387097   \n",
       "17    17102800   27.018000   27.199000    22.756830  ...  85.218750   \n",
       "18    16855000   27.414000   27.068000    37.281301  ...  85.649415   \n",
       "...        ...         ...         ...          ...  ...        ...   \n",
       "2374  38409000  335.189996  331.288998    42.540399  ...  98.717567   \n",
       "2375  65654000  330.353998  330.492999    18.062801  ...  94.655912   \n",
       "2376  29971800  324.641998  329.260999     7.620694  ...  94.836280   \n",
       "2377  50806800  319.650000  328.100000    24.560975  ...  96.021822   \n",
       "2378  37027000  319.442004  327.981000    43.100114  ...  99.422337   \n",
       "\n",
       "         Change  Direction       RSI          TP         sma       mad  \\\n",
       "14     0.790001          1  0.282646   27.100000   29.409048  2.327483   \n",
       "15    -0.090000          0  0.282646   27.306667   28.890714  1.961395   \n",
       "16     0.390000          1  0.381194   27.376666   28.571667  1.740238   \n",
       "17    -0.130000          0  0.282646   27.490000   28.252857  1.479388   \n",
       "18     1.020001          1  0.282646   27.996667   27.919048  1.074150   \n",
       "...         ...        ...       ...         ...         ...       ...   \n",
       "2374   4.080017          1  0.910010  325.990000  330.581667  5.022143   \n",
       "2375 -12.880004          0  0.675676  318.539998  329.672142  5.702925   \n",
       "2376  -3.589997          0  0.675676  314.510000  328.398095  6.276394   \n",
       "2377   4.700012          1  0.675676  316.849996  327.407381  6.652347   \n",
       "2378   6.649994          1  0.910010  323.056671  327.120476  6.857279   \n",
       "\n",
       "             CCI        DI        ADX  \n",
       "14    -66.138608 -7.307419  81.950354  \n",
       "15    -53.840862 -6.003132  77.257952  \n",
       "16    -45.779188 -3.784895  73.418742  \n",
       "17    -34.377153 -3.091684  71.350434  \n",
       "18      4.817392  1.757364  68.371248  \n",
       "...          ...       ...        ...  \n",
       "2374  -60.952286 -0.638920  32.451445  \n",
       "2375 -130.133739 -4.163506  32.635555  \n",
       "2376 -147.516715 -4.902510  33.349941  \n",
       "2377 -105.801103 -3.194426  33.965208  \n",
       "2378  -39.508433 -1.122578  33.906420  \n",
       "\n",
       "[2365 rows x 29 columns]"
      ]
     },
     "execution_count": 245,
     "metadata": {},
     "output_type": "execute_result"
    }
   ],
   "source": [
    "complete_data"
   ]
  },
  {
   "cell_type": "code",
   "execution_count": 246,
   "metadata": {},
   "outputs": [],
   "source": [
    "# data['STO'] = ta.momentum.StochasticOscillator(data[\"Close\"], data[\"High\"], data[\"Low\"], 20, 2, True).stoch()"
   ]
  },
  {
   "cell_type": "code",
   "execution_count": 247,
   "metadata": {},
   "outputs": [
    {
     "name": "stdout",
     "output_type": "stream",
     "text": [
      "                    Open      High       Low     Close  Adj Close    Volume  \\\n",
      "Open            1.000000  0.999800  0.999774  0.999578   0.999578 -0.443517   \n",
      "High            0.999800  1.000000  0.999717  0.999791   0.999791 -0.439690   \n",
      "Low             0.999774  0.999717  1.000000  0.999805   0.999805 -0.448017   \n",
      "Close           0.999578  0.999791  0.999805  1.000000   1.000000 -0.443787   \n",
      "Adj Close       0.999578  0.999791  0.999805  1.000000   1.000000 -0.443787   \n",
      "Volume         -0.443517 -0.439690 -0.448017 -0.443787  -0.443787  1.000000   \n",
      "SMA5            0.999348  0.999334  0.999177  0.999152   0.999152 -0.442887   \n",
      "SMA10           0.998419  0.998437  0.998162  0.998198   0.998198 -0.442249   \n",
      "StochasticK     0.051499  0.053109  0.058552  0.060429   0.060429 -0.016377   \n",
      "StochasticD     0.062951  0.061636  0.066601  0.065185   0.065185 -0.016777   \n",
      "LarryWilliamsR -0.051499 -0.053109 -0.058552 -0.060429  -0.060429  0.016377   \n",
      "ROC            -0.012042 -0.011561 -0.008188 -0.008028  -0.008028  0.139419   \n",
      "PVT            -0.045575 -0.043269 -0.043050 -0.040440  -0.040440  0.304265   \n",
      "ADO            -0.026880 -0.021084 -0.019185 -0.015959  -0.015959  0.051448   \n",
      "WMA10           0.999112  0.999116  0.998914  0.998920   0.998920 -0.442724   \n",
      "EMA12           0.998658  0.998696  0.998416  0.998468   0.998468 -0.442629   \n",
      "EMA26           0.996871  0.996974  0.996513  0.996644   0.996644 -0.442613   \n",
      "MACD            0.257320  0.255576  0.260378  0.258276   0.258276 -0.093216   \n",
      "Momentum       -0.010745 -0.010562 -0.007106 -0.007182  -0.007182  0.137382   \n",
      "Change          0.012214  0.021820  0.023891  0.034061   0.034061 -0.014257   \n",
      "Direction       0.002683  0.010047  0.011395  0.018878   0.018878  0.015220   \n",
      "RSI             0.003937  0.004362  0.005808  0.006557   0.006557  0.050055   \n",
      "TP              0.999794  0.999913  0.999916  0.999942   0.999942 -0.443834   \n",
      "sma             0.997713  0.997758  0.997408  0.997480   0.997480 -0.441981   \n",
      "mad             0.636011  0.639343  0.632279  0.635443   0.635443 -0.136204   \n",
      "CCI             0.047797  0.049247  0.054180  0.054201   0.054201  0.010665   \n",
      "DI             -0.004215 -0.002586  0.001436  0.002641   0.002641  0.141636   \n",
      "ADX            -0.142079 -0.142001 -0.142586 -0.142264  -0.142264  0.196929   \n",
      "\n",
      "                    SMA5     SMA10  StochasticK  StochasticD  ...  Momentum  \\\n",
      "Open            0.999348  0.998419     0.051499     0.062951  ... -0.010745   \n",
      "High            0.999334  0.998437     0.053109     0.061636  ... -0.010562   \n",
      "Low             0.999177  0.998162     0.058552     0.066601  ... -0.007106   \n",
      "Close           0.999152  0.998198     0.060429     0.065185  ... -0.007182   \n",
      "Adj Close       0.999152  0.998198     0.060429     0.065185  ... -0.007182   \n",
      "Volume         -0.442887 -0.442249    -0.016377    -0.016777  ...  0.137382   \n",
      "SMA5            1.000000  0.999470     0.036976     0.050116  ... -0.021077   \n",
      "SMA10           0.999470  1.000000     0.018397     0.028944  ... -0.037232   \n",
      "StochasticK     0.036976  0.018397     1.000000     0.904867  ...  0.684020   \n",
      "StochasticD     0.050116  0.028944     0.904867     1.000000  ...  0.730774   \n",
      "LarryWilliamsR -0.036976 -0.018397    -1.000000    -0.904867  ... -0.684020   \n",
      "ROC            -0.022967 -0.040771     0.724306     0.750773  ...  0.916045   \n",
      "PVT            -0.051222 -0.052173     0.184788     0.064563  ...  0.204672   \n",
      "ADO            -0.037522 -0.038596     0.347923     0.078194  ...  0.174778   \n",
      "WMA10           0.999889  0.999832     0.029684     0.041363  ... -0.027521   \n",
      "EMA12           0.999537  0.999891     0.020136     0.029658  ... -0.040177   \n",
      "EMA26           0.997999  0.998988     0.004032     0.010478  ... -0.061178   \n",
      "MACD            0.250817  0.233854     0.436537     0.521114  ...  0.555357   \n",
      "Momentum       -0.021077 -0.037232     0.684020     0.730774  ...  1.000000   \n",
      "Change          0.004276  0.002771     0.360034     0.093611  ...  0.180980   \n",
      "Direction       0.002184  0.001983     0.343118     0.083027  ...  0.137003   \n",
      "RSI            -0.001739 -0.009844     0.449169     0.471998  ...  0.465996   \n",
      "TP              0.999298  0.998343     0.057348     0.064460  ... -0.008297   \n",
      "sma             0.998844  0.999762     0.007554     0.016012  ... -0.050954   \n",
      "mad             0.638192  0.640116    -0.040172    -0.036751  ... -0.032322   \n",
      "CCI             0.028258  0.009634     0.904963     0.832591  ...  0.617422   \n",
      "DI             -0.020880 -0.041277     0.808784     0.763896  ...  0.830081   \n",
      "ADX            -0.140693 -0.139600    -0.000024     0.004605  ...  0.039335   \n",
      "\n",
      "                  Change  Direction       RSI        TP       sma       mad  \\\n",
      "Open            0.012214   0.002683  0.003937  0.999794  0.997713  0.636011   \n",
      "High            0.021820   0.010047  0.004362  0.999913  0.997758  0.639343   \n",
      "Low             0.023891   0.011395  0.005808  0.999916  0.997408  0.632279   \n",
      "Close           0.034061   0.018878  0.006557  0.999942  0.997480  0.635443   \n",
      "Adj Close       0.034061   0.018878  0.006557  0.999942  0.997480  0.635443   \n",
      "Volume         -0.014257   0.015220  0.050055 -0.443834 -0.441981 -0.136204   \n",
      "SMA5            0.004276   0.002184 -0.001739  0.999298  0.998844  0.638192   \n",
      "SMA10           0.002771   0.001983 -0.009844  0.998343  0.999762  0.640116   \n",
      "StochasticK     0.360034   0.343118  0.449169  0.057348  0.007554 -0.040172   \n",
      "StochasticD     0.093611   0.083027  0.471998  0.064460  0.016012 -0.036751   \n",
      "LarryWilliamsR -0.360034  -0.343118 -0.449169 -0.057348 -0.007554  0.040172   \n",
      "ROC             0.198607   0.152560  0.419841 -0.009272 -0.055300 -0.020855   \n",
      "PVT             0.343050   0.239512  0.129400 -0.042257 -0.052458 -0.032060   \n",
      "ADO             0.718011   0.671605  0.133204 -0.018751 -0.038537 -0.032284   \n",
      "WMA10           0.004487   0.002572 -0.004910  0.999060  0.999360  0.639059   \n",
      "EMA12           0.004314   0.003150 -0.010586  0.998604  0.999801  0.640759   \n",
      "EMA26           0.002522   0.003259 -0.019755  0.996788  0.999461  0.644011   \n",
      "MACD            0.049002  -0.002248  0.243909  0.258078  0.218715  0.047022   \n",
      "Momentum        0.180980   0.137003  0.465996 -0.008297 -0.050954 -0.032322   \n",
      "Change          1.000000   0.591841  0.110801  0.026586  0.002309 -0.022739   \n",
      "Direction       0.591841   1.000000  0.231746  0.013437  0.002261 -0.016194   \n",
      "RSI             0.110801   0.231746  1.000000  0.005571 -0.016806 -0.000138   \n",
      "TP              0.026586   0.013437  0.005571  1.000000  0.997626  0.635764   \n",
      "sma             0.002309   0.002261 -0.016806  0.997626  1.000000  0.641398   \n",
      "mad            -0.022739  -0.016194 -0.000138  0.635764  0.641398  1.000000   \n",
      "CCI             0.355107   0.270784  0.392838  0.052528  0.000591 -0.035547   \n",
      "DI              0.334886   0.267550  0.396556  0.000483 -0.051974 -0.046352   \n",
      "ADX            -0.025406  -0.024436 -0.016518 -0.142292 -0.139246  0.092936   \n",
      "\n",
      "                     CCI        DI       ADX  \n",
      "Open            0.047797 -0.004215 -0.142079  \n",
      "High            0.049247 -0.002586 -0.142001  \n",
      "Low             0.054180  0.001436 -0.142586  \n",
      "Close           0.054201  0.002641 -0.142264  \n",
      "Adj Close       0.054201  0.002641 -0.142264  \n",
      "Volume          0.010665  0.141636  0.196929  \n",
      "SMA5            0.028258 -0.020880 -0.140693  \n",
      "SMA10           0.009634 -0.041277 -0.139600  \n",
      "StochasticK     0.904963  0.808784 -0.000024  \n",
      "StochasticD     0.832591  0.763896  0.004605  \n",
      "LarryWilliamsR -0.904963 -0.808784  0.000024  \n",
      "ROC             0.668379  0.893035  0.037269  \n",
      "PVT             0.251732  0.330478 -0.009884  \n",
      "ADO             0.394439  0.341277  0.003063  \n",
      "WMA10           0.021011 -0.029027 -0.140275  \n",
      "EMA12           0.012709 -0.038945 -0.140058  \n",
      "EMA26          -0.001677 -0.055309 -0.140889  \n",
      "MACD            0.388860  0.431145 -0.007034  \n",
      "Momentum        0.617422  0.830081  0.039335  \n",
      "Change          0.355107  0.334886 -0.025406  \n",
      "Direction       0.270784  0.267550 -0.024436  \n",
      "RSI             0.392838  0.396556 -0.016518  \n",
      "TP              0.052528  0.000483 -0.142292  \n",
      "sma             0.000591 -0.051974 -0.139246  \n",
      "mad            -0.035547 -0.046352  0.092936  \n",
      "CCI             1.000000  0.806214  0.010203  \n",
      "DI              0.806214  1.000000  0.014436  \n",
      "ADX             0.010203  0.014436  1.000000  \n",
      "\n",
      "[28 rows x 28 columns]\n"
     ]
    }
   ],
   "source": [
    "corrMatrix = complete_data.corr()\n",
    "print(corrMatrix)"
   ]
  },
  {
   "cell_type": "code",
   "execution_count": 248,
   "metadata": {},
   "outputs": [
    {
     "data": {
      "image/png": "[encoded data removed]",
      "text/plain": [
       "<Figure size 432x288 with 2 Axes>"
      ]
     },
     "metadata": {
      "needs_background": "light"
     },
     "output_type": "display_data"
    }
   ],
   "source": [
    "sn.heatmap(corrMatrix, annot=False)\n",
    "plt.show()"
   ]
  },
  {
   "cell_type": "code",
   "execution_count": 249,
   "metadata": {},
   "outputs": [
    {
     "data": {
      "text/plain": [
       "Open  Open         1.000000\n",
       "      High         0.999800\n",
       "      Low          0.999774\n",
       "      Close        0.999578\n",
       "      Adj Close    0.999578\n",
       "                     ...   \n",
       "ADX   sma         -0.139246\n",
       "      mad          0.092936\n",
       "      CCI          0.010203\n",
       "      DI           0.014436\n",
       "      ADX          1.000000\n",
       "Length: 784, dtype: float64"
      ]
     },
     "execution_count": 249,
     "metadata": {},
     "output_type": "execute_result"
    }
   ],
   "source": [
    "corr_pairs = corrMatrix.unstack()\n",
    "corr_pairs"
   ]
  },
  {
   "cell_type": "code",
   "execution_count": 250,
   "metadata": {},
   "outputs": [
    {
     "data": {
      "text/plain": [
       "StochasticK     LarryWilliamsR   -1.000000\n",
       "LarryWilliamsR  StochasticK      -1.000000\n",
       "CCI             LarryWilliamsR   -0.904963\n",
       "LarryWilliamsR  CCI              -0.904963\n",
       "StochasticD     LarryWilliamsR   -0.904867\n",
       "                                    ...   \n",
       "TP              TP                1.000000\n",
       "sma             sma               1.000000\n",
       "mad             mad               1.000000\n",
       "PVT             PVT               1.000000\n",
       "ADX             ADX               1.000000\n",
       "Length: 784, dtype: float64"
      ]
     },
     "execution_count": 250,
     "metadata": {},
     "output_type": "execute_result"
    }
   ],
   "source": [
    "sorted_pairs = corr_pairs.sort_values(kind=\"quicksort\")\n",
    "sorted_pairs"
   ]
  },
  {
   "cell_type": "code",
   "execution_count": 251,
   "metadata": {},
   "outputs": [
    {
     "name": "stdout",
     "output_type": "stream",
     "text": [
      "StochasticK     LarryWilliamsR   -1.000000\n",
      "LarryWilliamsR  StochasticK      -1.000000\n",
      "CCI             LarryWilliamsR   -0.904963\n",
      "LarryWilliamsR  CCI              -0.904963\n",
      "StochasticD     LarryWilliamsR   -0.904867\n",
      "                                    ...   \n",
      "TP              TP                1.000000\n",
      "sma             sma               1.000000\n",
      "mad             mad               1.000000\n",
      "PVT             PVT               1.000000\n",
      "ADX             ADX               1.000000\n",
      "Length: 238, dtype: float64\n"
     ]
    }
   ],
   "source": [
    "strong_pairs = sorted_pairs[abs(sorted_pairs) > 0.5]\n",
    "\n",
    "print(strong_pairs)"
   ]
  },
  {
   "cell_type": "code",
   "execution_count": 252,
   "metadata": {},
   "outputs": [
    {
     "data": {
      "text/plain": [
       "210"
      ]
     },
     "execution_count": 252,
     "metadata": {},
     "output_type": "execute_result"
    }
   ],
   "source": [
    "# strong_pairs[strong_pairs.index[0][0] == strong_pairs.index[0][1]]\n",
    "\n",
    "removed_diagonal = [(i, j) for (i, j) in strong_pairs.index if i!=j]\n",
    "len(removed_diagonal)"
   ]
  },
  {
   "cell_type": "code",
   "execution_count": 253,
   "metadata": {
    "scrolled": false
   },
   "outputs": [],
   "source": [
    "# # Create correlation matrix\n",
    "# corr_matrix = complete_data.corr().abs()\n",
    "\n",
    "# # Select upper triangle of correlation matrix\n",
    "# upper = corr_matrix.where(np.triu(np.ones(corr_matrix.shape), k=1).astype(np.bool8))\n",
    "\n",
    "# # Find index of feature columns with correlation greater than 0.95\n",
    "# to_drop = [column for column in upper.columns if any(upper[column] > 0.95)]\n",
    "# to_drop"
   ]
  },
  {
   "cell_type": "code",
   "execution_count": 254,
   "metadata": {},
   "outputs": [],
   "source": [
    "# Find index of feature columns with correlation greater than 0.8\n",
    "\n",
    "correlated_features = set()\n",
    "for i in range(len(corrMatrix.columns)):\n",
    "    for j in range(i):\n",
    "        if abs(corrMatrix.iloc[i, j]) > 0.8:\n",
    "            colname = corrMatrix.columns[i]\n",
    "            correlated_features.add(colname)"
   ]
  },
  {
   "cell_type": "code",
   "execution_count": 255,
   "metadata": {},
   "outputs": [
    {
     "data": {
      "text/plain": [
       "{'Adj Close',\n",
       " 'CCI',\n",
       " 'Close',\n",
       " 'DI',\n",
       " 'EMA12',\n",
       " 'EMA26',\n",
       " 'High',\n",
       " 'LarryWilliamsR',\n",
       " 'Low',\n",
       " 'Momentum',\n",
       " 'SMA10',\n",
       " 'SMA5',\n",
       " 'StochasticD',\n",
       " 'TP',\n",
       " 'WMA10',\n",
       " 'sma'}"
      ]
     },
     "execution_count": 255,
     "metadata": {},
     "output_type": "execute_result"
    }
   ],
   "source": [
    "correlated_features"
   ]
  },
  {
   "cell_type": "code",
   "execution_count": 256,
   "metadata": {},
   "outputs": [],
   "source": [
    "complete_data = complete_data.drop(labels=correlated_features, axis=1)"
   ]
  },
  {
   "cell_type": "code",
   "execution_count": 257,
   "metadata": {},
   "outputs": [
    {
     "data": {
      "text/html": [
       "<div>\n",
       "<style scoped>\n",
       "    .dataframe tbody tr th:only-of-type {\n",
       "        vertical-align: middle;\n",
       "    }\n",
       "\n",
       "    .dataframe tbody tr th {\n",
       "        vertical-align: top;\n",
       "    }\n",
       "\n",
       "    .dataframe thead th {\n",
       "        text-align: right;\n",
       "    }\n",
       "</style>\n",
       "<table border=\"1\" class=\"dataframe\">\n",
       "  <thead>\n",
       "    <tr style=\"text-align: right;\">\n",
       "      <th></th>\n",
       "      <th>Date</th>\n",
       "      <th>Open</th>\n",
       "      <th>Volume</th>\n",
       "      <th>StochasticK</th>\n",
       "      <th>ROC</th>\n",
       "      <th>PVT</th>\n",
       "      <th>ADO</th>\n",
       "      <th>MACD</th>\n",
       "      <th>Change</th>\n",
       "      <th>Direction</th>\n",
       "      <th>RSI</th>\n",
       "      <th>mad</th>\n",
       "      <th>ADX</th>\n",
       "    </tr>\n",
       "  </thead>\n",
       "  <tbody>\n",
       "    <tr>\n",
       "      <th>14</th>\n",
       "      <td>6/8/2012</td>\n",
       "      <td>26.549999</td>\n",
       "      <td>38034000</td>\n",
       "      <td>14.183124</td>\n",
       "      <td>-0.125806</td>\n",
       "      <td>1.142033e+06</td>\n",
       "      <td>1.098486</td>\n",
       "      <td>-2.967285</td>\n",
       "      <td>0.790001</td>\n",
       "      <td>1</td>\n",
       "      <td>0.282646</td>\n",
       "      <td>2.327483</td>\n",
       "      <td>81.950354</td>\n",
       "    </tr>\n",
       "    <tr>\n",
       "      <th>15</th>\n",
       "      <td>6/11/2012</td>\n",
       "      <td>27.180000</td>\n",
       "      <td>28219600</td>\n",
       "      <td>18.463445</td>\n",
       "      <td>-0.155937</td>\n",
       "      <td>-9.371823e+04</td>\n",
       "      <td>0.788618</td>\n",
       "      <td>-2.896003</td>\n",
       "      <td>-0.090000</td>\n",
       "      <td>0</td>\n",
       "      <td>0.282646</td>\n",
       "      <td>1.961395</td>\n",
       "      <td>77.257952</td>\n",
       "    </tr>\n",
       "    <tr>\n",
       "      <th>16</th>\n",
       "      <td>6/12/2012</td>\n",
       "      <td>27.480000</td>\n",
       "      <td>15816800</td>\n",
       "      <td>24.447337</td>\n",
       "      <td>-0.170451</td>\n",
       "      <td>2.283803e+05</td>\n",
       "      <td>0.938270</td>\n",
       "      <td>-2.776042</td>\n",
       "      <td>0.390000</td>\n",
       "      <td>1</td>\n",
       "      <td>0.381194</td>\n",
       "      <td>1.740238</td>\n",
       "      <td>73.418742</td>\n",
       "    </tr>\n",
       "    <tr>\n",
       "      <th>17</th>\n",
       "      <td>6/13/2012</td>\n",
       "      <td>27.660000</td>\n",
       "      <td>17102800</td>\n",
       "      <td>22.756830</td>\n",
       "      <td>-0.145409</td>\n",
       "      <td>-8.114467e+04</td>\n",
       "      <td>0.700000</td>\n",
       "      <td>-2.660790</td>\n",
       "      <td>-0.130000</td>\n",
       "      <td>0</td>\n",
       "      <td>0.282646</td>\n",
       "      <td>1.479388</td>\n",
       "      <td>71.350434</td>\n",
       "    </tr>\n",
       "    <tr>\n",
       "      <th>18</th>\n",
       "      <td>6/14/2012</td>\n",
       "      <td>27.650000</td>\n",
       "      <td>16855000</td>\n",
       "      <td>37.281301</td>\n",
       "      <td>-0.019071</td>\n",
       "      <td>6.304407e+05</td>\n",
       "      <td>1.117020</td>\n",
       "      <td>-2.458802</td>\n",
       "      <td>1.020001</td>\n",
       "      <td>1</td>\n",
       "      <td>0.282646</td>\n",
       "      <td>1.074150</td>\n",
       "      <td>68.371248</td>\n",
       "    </tr>\n",
       "    <tr>\n",
       "      <th>...</th>\n",
       "      <td>...</td>\n",
       "      <td>...</td>\n",
       "      <td>...</td>\n",
       "      <td>...</td>\n",
       "      <td>...</td>\n",
       "      <td>...</td>\n",
       "      <td>...</td>\n",
       "      <td>...</td>\n",
       "      <td>...</td>\n",
       "      <td>...</td>\n",
       "      <td>...</td>\n",
       "      <td>...</td>\n",
       "      <td>...</td>\n",
       "    </tr>\n",
       "    <tr>\n",
       "      <th>2374</th>\n",
       "      <td>10/25/2021</td>\n",
       "      <td>320.299988</td>\n",
       "      <td>38409000</td>\n",
       "      <td>42.540399</td>\n",
       "      <td>-0.001610</td>\n",
       "      <td>4.827620e+05</td>\n",
       "      <td>0.503050</td>\n",
       "      <td>-5.810929</td>\n",
       "      <td>4.080017</td>\n",
       "      <td>1</td>\n",
       "      <td>0.910010</td>\n",
       "      <td>5.022143</td>\n",
       "      <td>32.451445</td>\n",
       "    </tr>\n",
       "    <tr>\n",
       "      <th>2375</th>\n",
       "      <td>10/26/2021</td>\n",
       "      <td>328.260010</td>\n",
       "      <td>65654000</td>\n",
       "      <td>18.062801</td>\n",
       "      <td>-0.043145</td>\n",
       "      <td>-2.572709e+06</td>\n",
       "      <td>0.073750</td>\n",
       "      <td>-6.757739</td>\n",
       "      <td>-12.880004</td>\n",
       "      <td>0</td>\n",
       "      <td>0.675676</td>\n",
       "      <td>5.702925</td>\n",
       "      <td>32.635555</td>\n",
       "    </tr>\n",
       "    <tr>\n",
       "      <th>2376</th>\n",
       "      <td>10/27/2021</td>\n",
       "      <td>314.190002</td>\n",
       "      <td>29971800</td>\n",
       "      <td>7.620694</td>\n",
       "      <td>-0.040651</td>\n",
       "      <td>-3.407070e+05</td>\n",
       "      <td>0.478442</td>\n",
       "      <td>-7.708912</td>\n",
       "      <td>-3.589997</td>\n",
       "      <td>0</td>\n",
       "      <td>0.675676</td>\n",
       "      <td>6.276394</td>\n",
       "      <td>33.349941</td>\n",
       "    </tr>\n",
       "    <tr>\n",
       "      <th>2377</th>\n",
       "      <td>10/28/2021</td>\n",
       "      <td>312.989990</td>\n",
       "      <td>50806800</td>\n",
       "      <td>24.560975</td>\n",
       "      <td>-0.021157</td>\n",
       "      <td>7.648215e+05</td>\n",
       "      <td>0.763928</td>\n",
       "      <td>-7.991352</td>\n",
       "      <td>4.700012</td>\n",
       "      <td>1</td>\n",
       "      <td>0.675676</td>\n",
       "      <td>6.652347</td>\n",
       "      <td>33.965208</td>\n",
       "    </tr>\n",
       "    <tr>\n",
       "      <th>2378</th>\n",
       "      <td>10/29/2021</td>\n",
       "      <td>320.190002</td>\n",
       "      <td>37027000</td>\n",
       "      <td>43.100114</td>\n",
       "      <td>-0.002989</td>\n",
       "      <td>7.769447e+05</td>\n",
       "      <td>1.418749</td>\n",
       "      <td>-7.591084</td>\n",
       "      <td>6.649994</td>\n",
       "      <td>1</td>\n",
       "      <td>0.910010</td>\n",
       "      <td>6.857279</td>\n",
       "      <td>33.906420</td>\n",
       "    </tr>\n",
       "  </tbody>\n",
       "</table>\n",
       "<p>2365 rows × 13 columns</p>\n",
       "</div>"
      ],
      "text/plain": [
       "            Date        Open    Volume  StochasticK       ROC           PVT  \\\n",
       "14      6/8/2012   26.549999  38034000    14.183124 -0.125806  1.142033e+06   \n",
       "15     6/11/2012   27.180000  28219600    18.463445 -0.155937 -9.371823e+04   \n",
       "16     6/12/2012   27.480000  15816800    24.447337 -0.170451  2.283803e+05   \n",
       "17     6/13/2012   27.660000  17102800    22.756830 -0.145409 -8.114467e+04   \n",
       "18     6/14/2012   27.650000  16855000    37.281301 -0.019071  6.304407e+05   \n",
       "...          ...         ...       ...          ...       ...           ...   \n",
       "2374  10/25/2021  320.299988  38409000    42.540399 -0.001610  4.827620e+05   \n",
       "2375  10/26/2021  328.260010  65654000    18.062801 -0.043145 -2.572709e+06   \n",
       "2376  10/27/2021  314.190002  29971800     7.620694 -0.040651 -3.407070e+05   \n",
       "2377  10/28/2021  312.989990  50806800    24.560975 -0.021157  7.648215e+05   \n",
       "2378  10/29/2021  320.190002  37027000    43.100114 -0.002989  7.769447e+05   \n",
       "\n",
       "           ADO      MACD     Change  Direction       RSI       mad        ADX  \n",
       "14    1.098486 -2.967285   0.790001          1  0.282646  2.327483  81.950354  \n",
       "15    0.788618 -2.896003  -0.090000          0  0.282646  1.961395  77.257952  \n",
       "16    0.938270 -2.776042   0.390000          1  0.381194  1.740238  73.418742  \n",
       "17    0.700000 -2.660790  -0.130000          0  0.282646  1.479388  71.350434  \n",
       "18    1.117020 -2.458802   1.020001          1  0.282646  1.074150  68.371248  \n",
       "...        ...       ...        ...        ...       ...       ...        ...  \n",
       "2374  0.503050 -5.810929   4.080017          1  0.910010  5.022143  32.451445  \n",
       "2375  0.073750 -6.757739 -12.880004          0  0.675676  5.702925  32.635555  \n",
       "2376  0.478442 -7.708912  -3.589997          0  0.675676  6.276394  33.349941  \n",
       "2377  0.763928 -7.991352   4.700012          1  0.675676  6.652347  33.965208  \n",
       "2378  1.418749 -7.591084   6.649994          1  0.910010  6.857279  33.906420  \n",
       "\n",
       "[2365 rows x 13 columns]"
      ]
     },
     "execution_count": 257,
     "metadata": {},
     "output_type": "execute_result"
    }
   ],
   "source": [
    "complete_data"
   ]
  },
  {
   "cell_type": "code",
   "execution_count": 258,
   "metadata": {
    "scrolled": false
   },
   "outputs": [
    {
     "data": {
      "text/html": [
       "<div>\n",
       "<style scoped>\n",
       "    .dataframe tbody tr th:only-of-type {\n",
       "        vertical-align: middle;\n",
       "    }\n",
       "\n",
       "    .dataframe tbody tr th {\n",
       "        vertical-align: top;\n",
       "    }\n",
       "\n",
       "    .dataframe thead th {\n",
       "        text-align: right;\n",
       "    }\n",
       "</style>\n",
       "<table border=\"1\" class=\"dataframe\">\n",
       "  <thead>\n",
       "    <tr style=\"text-align: right;\">\n",
       "      <th></th>\n",
       "      <th>Open</th>\n",
       "      <th>Volume</th>\n",
       "      <th>StochasticK</th>\n",
       "      <th>ROC</th>\n",
       "      <th>PVT</th>\n",
       "      <th>ADO</th>\n",
       "      <th>MACD</th>\n",
       "      <th>Change</th>\n",
       "      <th>RSI</th>\n",
       "      <th>mad</th>\n",
       "      <th>ADX</th>\n",
       "    </tr>\n",
       "  </thead>\n",
       "  <tbody>\n",
       "    <tr>\n",
       "      <th>14</th>\n",
       "      <td>26.549999</td>\n",
       "      <td>38034000</td>\n",
       "      <td>14.183124</td>\n",
       "      <td>-0.125806</td>\n",
       "      <td>1.142033e+06</td>\n",
       "      <td>1.098486</td>\n",
       "      <td>-2.967285</td>\n",
       "      <td>0.790001</td>\n",
       "      <td>0.282646</td>\n",
       "      <td>2.327483</td>\n",
       "      <td>81.950354</td>\n",
       "    </tr>\n",
       "    <tr>\n",
       "      <th>15</th>\n",
       "      <td>27.180000</td>\n",
       "      <td>28219600</td>\n",
       "      <td>18.463445</td>\n",
       "      <td>-0.155937</td>\n",
       "      <td>-9.371823e+04</td>\n",
       "      <td>0.788618</td>\n",
       "      <td>-2.896003</td>\n",
       "      <td>-0.090000</td>\n",
       "      <td>0.282646</td>\n",
       "      <td>1.961395</td>\n",
       "      <td>77.257952</td>\n",
       "    </tr>\n",
       "    <tr>\n",
       "      <th>16</th>\n",
       "      <td>27.480000</td>\n",
       "      <td>15816800</td>\n",
       "      <td>24.447337</td>\n",
       "      <td>-0.170451</td>\n",
       "      <td>2.283803e+05</td>\n",
       "      <td>0.938270</td>\n",
       "      <td>-2.776042</td>\n",
       "      <td>0.390000</td>\n",
       "      <td>0.381194</td>\n",
       "      <td>1.740238</td>\n",
       "      <td>73.418742</td>\n",
       "    </tr>\n",
       "    <tr>\n",
       "      <th>17</th>\n",
       "      <td>27.660000</td>\n",
       "      <td>17102800</td>\n",
       "      <td>22.756830</td>\n",
       "      <td>-0.145409</td>\n",
       "      <td>-8.114467e+04</td>\n",
       "      <td>0.700000</td>\n",
       "      <td>-2.660790</td>\n",
       "      <td>-0.130000</td>\n",
       "      <td>0.282646</td>\n",
       "      <td>1.479388</td>\n",
       "      <td>71.350434</td>\n",
       "    </tr>\n",
       "    <tr>\n",
       "      <th>18</th>\n",
       "      <td>27.650000</td>\n",
       "      <td>16855000</td>\n",
       "      <td>37.281301</td>\n",
       "      <td>-0.019071</td>\n",
       "      <td>6.304407e+05</td>\n",
       "      <td>1.117020</td>\n",
       "      <td>-2.458802</td>\n",
       "      <td>1.020001</td>\n",
       "      <td>0.282646</td>\n",
       "      <td>1.074150</td>\n",
       "      <td>68.371248</td>\n",
       "    </tr>\n",
       "    <tr>\n",
       "      <th>...</th>\n",
       "      <td>...</td>\n",
       "      <td>...</td>\n",
       "      <td>...</td>\n",
       "      <td>...</td>\n",
       "      <td>...</td>\n",
       "      <td>...</td>\n",
       "      <td>...</td>\n",
       "      <td>...</td>\n",
       "      <td>...</td>\n",
       "      <td>...</td>\n",
       "      <td>...</td>\n",
       "    </tr>\n",
       "    <tr>\n",
       "      <th>2374</th>\n",
       "      <td>320.299988</td>\n",
       "      <td>38409000</td>\n",
       "      <td>42.540399</td>\n",
       "      <td>-0.001610</td>\n",
       "      <td>4.827620e+05</td>\n",
       "      <td>0.503050</td>\n",
       "      <td>-5.810929</td>\n",
       "      <td>4.080017</td>\n",
       "      <td>0.910010</td>\n",
       "      <td>5.022143</td>\n",
       "      <td>32.451445</td>\n",
       "    </tr>\n",
       "    <tr>\n",
       "      <th>2375</th>\n",
       "      <td>328.260010</td>\n",
       "      <td>65654000</td>\n",
       "      <td>18.062801</td>\n",
       "      <td>-0.043145</td>\n",
       "      <td>-2.572709e+06</td>\n",
       "      <td>0.073750</td>\n",
       "      <td>-6.757739</td>\n",
       "      <td>-12.880004</td>\n",
       "      <td>0.675676</td>\n",
       "      <td>5.702925</td>\n",
       "      <td>32.635555</td>\n",
       "    </tr>\n",
       "    <tr>\n",
       "      <th>2376</th>\n",
       "      <td>314.190002</td>\n",
       "      <td>29971800</td>\n",
       "      <td>7.620694</td>\n",
       "      <td>-0.040651</td>\n",
       "      <td>-3.407070e+05</td>\n",
       "      <td>0.478442</td>\n",
       "      <td>-7.708912</td>\n",
       "      <td>-3.589997</td>\n",
       "      <td>0.675676</td>\n",
       "      <td>6.276394</td>\n",
       "      <td>33.349941</td>\n",
       "    </tr>\n",
       "    <tr>\n",
       "      <th>2377</th>\n",
       "      <td>312.989990</td>\n",
       "      <td>50806800</td>\n",
       "      <td>24.560975</td>\n",
       "      <td>-0.021157</td>\n",
       "      <td>7.648215e+05</td>\n",
       "      <td>0.763928</td>\n",
       "      <td>-7.991352</td>\n",
       "      <td>4.700012</td>\n",
       "      <td>0.675676</td>\n",
       "      <td>6.652347</td>\n",
       "      <td>33.965208</td>\n",
       "    </tr>\n",
       "    <tr>\n",
       "      <th>2378</th>\n",
       "      <td>320.190002</td>\n",
       "      <td>37027000</td>\n",
       "      <td>43.100114</td>\n",
       "      <td>-0.002989</td>\n",
       "      <td>7.769447e+05</td>\n",
       "      <td>1.418749</td>\n",
       "      <td>-7.591084</td>\n",
       "      <td>6.649994</td>\n",
       "      <td>0.910010</td>\n",
       "      <td>6.857279</td>\n",
       "      <td>33.906420</td>\n",
       "    </tr>\n",
       "  </tbody>\n",
       "</table>\n",
       "<p>2365 rows × 11 columns</p>\n",
       "</div>"
      ],
      "text/plain": [
       "            Open    Volume  StochasticK       ROC           PVT       ADO  \\\n",
       "14     26.549999  38034000    14.183124 -0.125806  1.142033e+06  1.098486   \n",
       "15     27.180000  28219600    18.463445 -0.155937 -9.371823e+04  0.788618   \n",
       "16     27.480000  15816800    24.447337 -0.170451  2.283803e+05  0.938270   \n",
       "17     27.660000  17102800    22.756830 -0.145409 -8.114467e+04  0.700000   \n",
       "18     27.650000  16855000    37.281301 -0.019071  6.304407e+05  1.117020   \n",
       "...          ...       ...          ...       ...           ...       ...   \n",
       "2374  320.299988  38409000    42.540399 -0.001610  4.827620e+05  0.503050   \n",
       "2375  328.260010  65654000    18.062801 -0.043145 -2.572709e+06  0.073750   \n",
       "2376  314.190002  29971800     7.620694 -0.040651 -3.407070e+05  0.478442   \n",
       "2377  312.989990  50806800    24.560975 -0.021157  7.648215e+05  0.763928   \n",
       "2378  320.190002  37027000    43.100114 -0.002989  7.769447e+05  1.418749   \n",
       "\n",
       "          MACD     Change       RSI       mad        ADX  \n",
       "14   -2.967285   0.790001  0.282646  2.327483  81.950354  \n",
       "15   -2.896003  -0.090000  0.282646  1.961395  77.257952  \n",
       "16   -2.776042   0.390000  0.381194  1.740238  73.418742  \n",
       "17   -2.660790  -0.130000  0.282646  1.479388  71.350434  \n",
       "18   -2.458802   1.020001  0.282646  1.074150  68.371248  \n",
       "...        ...        ...       ...       ...        ...  \n",
       "2374 -5.810929   4.080017  0.910010  5.022143  32.451445  \n",
       "2375 -6.757739 -12.880004  0.675676  5.702925  32.635555  \n",
       "2376 -7.708912  -3.589997  0.675676  6.276394  33.349941  \n",
       "2377 -7.991352   4.700012  0.675676  6.652347  33.965208  \n",
       "2378 -7.591084   6.649994  0.910010  6.857279  33.906420  \n",
       "\n",
       "[2365 rows x 11 columns]"
      ]
     },
     "execution_count": 258,
     "metadata": {},
     "output_type": "execute_result"
    }
   ],
   "source": [
    "target = complete_data['Direction']\n",
    "complete_data = complete_data.drop(['Date', 'Direction'], axis=1)\n",
    "complete_data"
   ]
  },
  {
   "cell_type": "code",
   "execution_count": 259,
   "metadata": {},
   "outputs": [],
   "source": [
    "from sklearn.model_selection import train_test_split\n",
    "\n",
    "X_train, X_test, y_train, y_test = train_test_split(complete_data,target,test_size=0.3)"
   ]
  },
  {
   "cell_type": "markdown",
   "metadata": {},
   "source": [
    "### Logistic Regression"
   ]
  },
  {
   "cell_type": "code",
   "execution_count": 260,
   "metadata": {},
   "outputs": [
    {
     "data": {
      "text/plain": [
       "0.9985915492957746"
      ]
     },
     "execution_count": 260,
     "metadata": {},
     "output_type": "execute_result"
    }
   ],
   "source": [
    "lr = LogisticRegression(solver='liblinear', multi_class='ovr')\n",
    "lr.fit(X_train, y_train)\n",
    "lr.score(X_test, y_test)"
   ]
  },
  {
   "cell_type": "markdown",
   "metadata": {},
   "source": [
    "### SVM"
   ]
  },
  {
   "cell_type": "code",
   "execution_count": 261,
   "metadata": {},
   "outputs": [
    {
     "data": {
      "text/plain": [
       "0.543661971830986"
      ]
     },
     "execution_count": 261,
     "metadata": {},
     "output_type": "execute_result"
    }
   ],
   "source": [
    "svm = SVC(gamma='auto')\n",
    "svm.fit(X_train, y_train)\n",
    "svm.score(X_test, y_test)"
   ]
  },
  {
   "cell_type": "markdown",
   "metadata": {},
   "source": [
    "### Random Forest"
   ]
  },
  {
   "cell_type": "code",
   "execution_count": 262,
   "metadata": {},
   "outputs": [
    {
     "data": {
      "text/plain": [
       "1.0"
      ]
     },
     "execution_count": 262,
     "metadata": {},
     "output_type": "execute_result"
    }
   ],
   "source": [
    "rf = RandomForestClassifier(n_estimators=10)\n",
    "rf.fit(X_train, y_train)\n",
    "rf.score(X_test, y_test)"
   ]
  },
  {
   "cell_type": "markdown",
   "metadata": {},
   "source": [
    "### KNN"
   ]
  },
  {
   "cell_type": "code",
   "execution_count": 263,
   "metadata": {},
   "outputs": [
    {
     "data": {
      "text/plain": [
       "0.9183098591549296"
      ]
     },
     "execution_count": 263,
     "metadata": {},
     "output_type": "execute_result"
    }
   ],
   "source": [
    "knn = KNeighborsClassifier(n_neighbors=5)\n",
    "knn.fit(X_train, y_train)\n",
    "knn.score(X_test, y_test)"
   ]
  },
  {
   "cell_type": "markdown",
   "metadata": {},
   "source": [
    "### XGBoost"
   ]
  },
  {
   "cell_type": "code",
   "execution_count": 264,
   "metadata": {},
   "outputs": [
    {
     "name": "stdout",
     "output_type": "stream",
     "text": [
      "[22:02:41] WARNING: C:/Users/Administrator/workspace/xgboost-win64_release_1.5.0/src/learner.cc:1115: Starting in XGBoost 1.3.0, the default evaluation metric used with the objective 'binary:logistic' was changed from 'error' to 'logloss'. Explicitly set eval_metric if you'd like to restore the old behavior.\n"
     ]
    },
    {
     "data": {
      "text/plain": [
       "1.0"
      ]
     },
     "execution_count": 264,
     "metadata": {},
     "output_type": "execute_result"
    }
   ],
   "source": [
    "xgb = XGBClassifier(use_label_encoder=False)\n",
    "xgb.fit(X_train, y_train)\n",
    "xgb.score(X_test, y_test)"
   ]
  },
  {
   "cell_type": "markdown",
   "metadata": {},
   "source": [
    "## KFold cross validation\n",
    "### Basic example"
   ]
  },
  {
   "cell_type": "code",
   "execution_count": 265,
   "metadata": {},
   "outputs": [
    {
     "data": {
      "text/plain": [
       "array([1.        , 1.        , 1.        , 1.        , 0.99578059,\n",
       "       1.        , 0.99576271, 1.        , 1.        , 0.99152542])"
      ]
     },
     "execution_count": 265,
     "metadata": {},
     "output_type": "execute_result"
    }
   ],
   "source": [
    "from sklearn.model_selection import cross_val_score\n",
    "\n",
    "cross_val_score(LogisticRegression(solver='liblinear',multi_class='ovr'), complete_data, target, cv=10)"
   ]
  },
  {
   "cell_type": "code",
   "execution_count": 266,
   "metadata": {},
   "outputs": [
    {
     "data": {
      "text/plain": [
       "array([0.52742616, 0.52742616, 0.52742616, 0.52742616, 0.52742616,\n",
       "       0.52966102, 0.52966102, 0.52542373, 0.52542373, 0.52542373])"
      ]
     },
     "execution_count": 266,
     "metadata": {},
     "output_type": "execute_result"
    }
   ],
   "source": [
    "cross_val_score(SVC(gamma='auto'), complete_data, target, cv=10)"
   ]
  },
  {
   "cell_type": "code",
   "execution_count": 267,
   "metadata": {},
   "outputs": [
    {
     "data": {
      "text/plain": [
       "array([1., 1., 1., 1., 1., 1., 1., 1., 1., 1.])"
      ]
     },
     "execution_count": 267,
     "metadata": {},
     "output_type": "execute_result"
    }
   ],
   "source": [
    "cross_val_score(RandomForestClassifier(n_estimators=5), complete_data, target, cv=10)"
   ]
  },
  {
   "cell_type": "code",
   "execution_count": 268,
   "metadata": {},
   "outputs": [
    {
     "data": {
      "text/plain": [
       "array([0.95780591, 0.89873418, 0.89873418, 0.92827004, 0.89029536,\n",
       "       0.87711864, 0.94915254, 0.90254237, 0.94491525, 0.95338983])"
      ]
     },
     "execution_count": 268,
     "metadata": {},
     "output_type": "execute_result"
    }
   ],
   "source": [
    "cross_val_score(KNeighborsClassifier(n_neighbors=5), complete_data, target, cv=10)"
   ]
  },
  {
   "cell_type": "code",
   "execution_count": 269,
   "metadata": {},
   "outputs": [
    {
     "name": "stdout",
     "output_type": "stream",
     "text": [
      "[22:02:46] WARNING: C:/Users/Administrator/workspace/xgboost-win64_release_1.5.0/src/learner.cc:1115: Starting in XGBoost 1.3.0, the default evaluation metric used with the objective 'binary:logistic' was changed from 'error' to 'logloss'. Explicitly set eval_metric if you'd like to restore the old behavior.\n",
      "[22:02:46] WARNING: C:/Users/Administrator/workspace/xgboost-win64_release_1.5.0/src/learner.cc:1115: Starting in XGBoost 1.3.0, the default evaluation metric used with the objective 'binary:logistic' was changed from 'error' to 'logloss'. Explicitly set eval_metric if you'd like to restore the old behavior.\n",
      "[22:02:46] WARNING: C:/Users/Administrator/workspace/xgboost-win64_release_1.5.0/src/learner.cc:1115: Starting in XGBoost 1.3.0, the default evaluation metric used with the objective 'binary:logistic' was changed from 'error' to 'logloss'. Explicitly set eval_metric if you'd like to restore the old behavior.\n",
      "[22:02:46] WARNING: C:/Users/Administrator/workspace/xgboost-win64_release_1.5.0/src/learner.cc:1115: Starting in XGBoost 1.3.0, the default evaluation metric used with the objective 'binary:logistic' was changed from 'error' to 'logloss'. Explicitly set eval_metric if you'd like to restore the old behavior.\n",
      "[22:02:46] WARNING: C:/Users/Administrator/workspace/xgboost-win64_release_1.5.0/src/learner.cc:1115: Starting in XGBoost 1.3.0, the default evaluation metric used with the objective 'binary:logistic' was changed from 'error' to 'logloss'. Explicitly set eval_metric if you'd like to restore the old behavior.\n",
      "[22:02:46] WARNING: C:/Users/Administrator/workspace/xgboost-win64_release_1.5.0/src/learner.cc:1115: Starting in XGBoost 1.3.0, the default evaluation metric used with the objective 'binary:logistic' was changed from 'error' to 'logloss'. Explicitly set eval_metric if you'd like to restore the old behavior.\n",
      "[22:02:46] WARNING: C:/Users/Administrator/workspace/xgboost-win64_release_1.5.0/src/learner.cc:1115: Starting in XGBoost 1.3.0, the default evaluation metric used with the objective 'binary:logistic' was changed from 'error' to 'logloss'. Explicitly set eval_metric if you'd like to restore the old behavior.\n",
      "[22:02:46] WARNING: C:/Users/Administrator/workspace/xgboost-win64_release_1.5.0/src/learner.cc:1115: Starting in XGBoost 1.3.0, the default evaluation metric used with the objective 'binary:logistic' was changed from 'error' to 'logloss'. Explicitly set eval_metric if you'd like to restore the old behavior.\n",
      "[22:02:47] WARNING: C:/Users/Administrator/workspace/xgboost-win64_release_1.5.0/src/learner.cc:1115: Starting in XGBoost 1.3.0, the default evaluation metric used with the objective 'binary:logistic' was changed from 'error' to 'logloss'. Explicitly set eval_metric if you'd like to restore the old behavior.\n",
      "[22:02:47] WARNING: C:/Users/Administrator/workspace/xgboost-win64_release_1.5.0/src/learner.cc:1115: Starting in XGBoost 1.3.0, the default evaluation metric used with the objective 'binary:logistic' was changed from 'error' to 'logloss'. Explicitly set eval_metric if you'd like to restore the old behavior.\n"
     ]
    },
    {
     "data": {
      "text/plain": [
       "array([1., 1., 1., 1., 1., 1., 1., 1., 1., 1.])"
      ]
     },
     "execution_count": 269,
     "metadata": {},
     "output_type": "execute_result"
    }
   ],
   "source": [
    "cross_val_score(XGBClassifier(use_label_encoder=False), complete_data, target, cv=10)"
   ]
  }
 ],
 "metadata": {
  "kernelspec": {
   "display_name": "Python 3",
   "language": "python",
   "name": "python3"
  },
  "language_info": {
   "codemirror_mode": {
    "name": "ipython",
    "version": 3
   },
   "file_extension": ".py",
   "mimetype": "text/x-python",
   "name": "python",
   "nbconvert_exporter": "python",
   "pygments_lexer": "ipython3",
   "version": "3.8.5"
  }
 },
 "nbformat": 4,
 "nbformat_minor": 4
}
