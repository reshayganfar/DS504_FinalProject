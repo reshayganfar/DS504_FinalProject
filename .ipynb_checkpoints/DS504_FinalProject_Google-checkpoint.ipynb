{
 "cells": [
  {
   "cell_type": "code",
   "execution_count": 1,
   "metadata": {},
   "outputs": [],
   "source": [
    "import numpy as np\n",
    "import pandas as pd\n",
    "import ta\n",
    "import seaborn as sn\n",
    "import matplotlib.pyplot as plt\n",
    "\n",
    "from sklearn.ensemble import RandomForestClassifier\n",
    "from sklearn.linear_model import LogisticRegression\n",
    "from sklearn.neighbors import KNeighborsClassifier\n",
    "from sklearn.svm import SVC\n",
    "from xgboost import XGBClassifier\n",
    "\n",
    "from ta import add_all_ta_features\n",
    "from ta import momentum\n",
    "from ta.utils import dropna"
   ]
  },
  {
   "cell_type": "code",
   "execution_count": 2,
   "metadata": {},
   "outputs": [],
   "source": [
    "#pip install xgboost"
   ]
  },
  {
   "cell_type": "code",
   "execution_count": 3,
   "metadata": {},
   "outputs": [
    {
     "name": "stdout",
     "output_type": "stream",
     "text": [
      "Requirement already satisfied: autofeat in c:\\users\\rshay\\anaconda3\\lib\\site-packages (2.0.10)Note: you may need to restart the kernel to use updated packages.\n",
      "\n",
      "Requirement already satisfied: scikit-learn in c:\\users\\rshay\\anaconda3\\lib\\site-packages (from autofeat) (0.23.2)\n",
      "Requirement already satisfied: numpy in c:\\users\\rshay\\anaconda3\\lib\\site-packages (from autofeat) (1.19.2)\n",
      "Requirement already satisfied: joblib in c:\\users\\rshay\\anaconda3\\lib\\site-packages (from autofeat) (0.17.0)\n",
      "Requirement already satisfied: numba in c:\\users\\rshay\\anaconda3\\lib\\site-packages (from autofeat) (0.51.2)\n",
      "Requirement already satisfied: pandas>=0.24.0 in c:\\users\\rshay\\anaconda3\\lib\\site-packages (from autofeat) (1.1.3)\n",
      "Requirement already satisfied: pint in c:\\users\\rshay\\anaconda3\\lib\\site-packages (from autofeat) (0.18)\n",
      "Requirement already satisfied: future in c:\\users\\rshay\\anaconda3\\lib\\site-packages (from autofeat) (0.18.2)\n",
      "Requirement already satisfied: sympy>=1.7.1 in c:\\users\\rshay\\anaconda3\\lib\\site-packages (from autofeat) (1.9)\n",
      "Requirement already satisfied: scipy>=0.19.1 in c:\\users\\rshay\\anaconda3\\lib\\site-packages (from scikit-learn->autofeat) (1.5.2)\n",
      "Requirement already satisfied: threadpoolctl>=2.0.0 in c:\\users\\rshay\\anaconda3\\lib\\site-packages (from scikit-learn->autofeat) (2.1.0)\n",
      "Requirement already satisfied: llvmlite<0.35,>=0.34.0.dev0 in c:\\users\\rshay\\anaconda3\\lib\\site-packages (from numba->autofeat) (0.34.0)\n",
      "Requirement already satisfied: setuptools in c:\\users\\rshay\\anaconda3\\lib\\site-packages (from numba->autofeat) (50.3.1.post20201107)\n",
      "Requirement already satisfied: pytz>=2017.2 in c:\\users\\rshay\\anaconda3\\lib\\site-packages (from pandas>=0.24.0->autofeat) (2020.1)\n",
      "Requirement already satisfied: python-dateutil>=2.7.3 in c:\\users\\rshay\\anaconda3\\lib\\site-packages (from pandas>=0.24.0->autofeat) (2.8.1)\n",
      "Requirement already satisfied: packaging in c:\\users\\rshay\\anaconda3\\lib\\site-packages (from pint->autofeat) (20.4)\n",
      "Requirement already satisfied: mpmath>=0.19 in c:\\users\\rshay\\anaconda3\\lib\\site-packages (from sympy>=1.7.1->autofeat) (1.1.0)\n",
      "Requirement already satisfied: six>=1.5 in c:\\users\\rshay\\anaconda3\\lib\\site-packages (from python-dateutil>=2.7.3->pandas>=0.24.0->autofeat) (1.15.0)\n",
      "Requirement already satisfied: pyparsing>=2.0.2 in c:\\users\\rshay\\anaconda3\\lib\\site-packages (from packaging->pint->autofeat) (2.4.7)\n"
     ]
    }
   ],
   "source": [
    "pip install autofeat"
   ]
  },
  {
   "cell_type": "code",
   "execution_count": 4,
   "metadata": {},
   "outputs": [],
   "source": [
    "def get_data(company_symbol):\n",
    "    return pd.read_csv(\"dataset/\"+company_symbol+\".csv\")"
   ]
  },
  {
   "cell_type": "code",
   "execution_count": 5,
   "metadata": {},
   "outputs": [
    {
     "data": {
      "text/html": [
       "<div>\n",
       "<style scoped>\n",
       "    .dataframe tbody tr th:only-of-type {\n",
       "        vertical-align: middle;\n",
       "    }\n",
       "\n",
       "    .dataframe tbody tr th {\n",
       "        vertical-align: top;\n",
       "    }\n",
       "\n",
       "    .dataframe thead th {\n",
       "        text-align: right;\n",
       "    }\n",
       "</style>\n",
       "<table border=\"1\" class=\"dataframe\">\n",
       "  <thead>\n",
       "    <tr style=\"text-align: right;\">\n",
       "      <th></th>\n",
       "      <th>Date</th>\n",
       "      <th>Open</th>\n",
       "      <th>High</th>\n",
       "      <th>Low</th>\n",
       "      <th>Close</th>\n",
       "      <th>Adj Close</th>\n",
       "      <th>Volume</th>\n",
       "    </tr>\n",
       "  </thead>\n",
       "  <tbody>\n",
       "    <tr>\n",
       "      <th>0</th>\n",
       "      <td>8/19/2004</td>\n",
       "      <td>50.050049</td>\n",
       "      <td>52.082081</td>\n",
       "      <td>48.028027</td>\n",
       "      <td>50.220219</td>\n",
       "      <td>50.220219</td>\n",
       "      <td>44659096</td>\n",
       "    </tr>\n",
       "    <tr>\n",
       "      <th>1</th>\n",
       "      <td>8/20/2004</td>\n",
       "      <td>50.555557</td>\n",
       "      <td>54.594597</td>\n",
       "      <td>50.300301</td>\n",
       "      <td>54.209209</td>\n",
       "      <td>54.209209</td>\n",
       "      <td>22834343</td>\n",
       "    </tr>\n",
       "    <tr>\n",
       "      <th>2</th>\n",
       "      <td>8/23/2004</td>\n",
       "      <td>55.430431</td>\n",
       "      <td>56.796799</td>\n",
       "      <td>54.579578</td>\n",
       "      <td>54.754753</td>\n",
       "      <td>54.754753</td>\n",
       "      <td>18256126</td>\n",
       "    </tr>\n",
       "    <tr>\n",
       "      <th>3</th>\n",
       "      <td>8/24/2004</td>\n",
       "      <td>55.675674</td>\n",
       "      <td>55.855858</td>\n",
       "      <td>51.836838</td>\n",
       "      <td>52.487488</td>\n",
       "      <td>52.487488</td>\n",
       "      <td>15247337</td>\n",
       "    </tr>\n",
       "    <tr>\n",
       "      <th>4</th>\n",
       "      <td>8/25/2004</td>\n",
       "      <td>52.532532</td>\n",
       "      <td>54.054054</td>\n",
       "      <td>51.991993</td>\n",
       "      <td>53.053055</td>\n",
       "      <td>53.053055</td>\n",
       "      <td>9188602</td>\n",
       "    </tr>\n",
       "    <tr>\n",
       "      <th>...</th>\n",
       "      <td>...</td>\n",
       "      <td>...</td>\n",
       "      <td>...</td>\n",
       "      <td>...</td>\n",
       "      <td>...</td>\n",
       "      <td>...</td>\n",
       "      <td>...</td>\n",
       "    </tr>\n",
       "    <tr>\n",
       "      <th>4326</th>\n",
       "      <td>10/25/2021</td>\n",
       "      <td>2751.000000</td>\n",
       "      <td>2760.000000</td>\n",
       "      <td>2708.479980</td>\n",
       "      <td>2748.939941</td>\n",
       "      <td>2748.939941</td>\n",
       "      <td>1720600</td>\n",
       "    </tr>\n",
       "    <tr>\n",
       "      <th>4327</th>\n",
       "      <td>10/26/2021</td>\n",
       "      <td>2785.270020</td>\n",
       "      <td>2801.659912</td>\n",
       "      <td>2766.090088</td>\n",
       "      <td>2786.169922</td>\n",
       "      <td>2786.169922</td>\n",
       "      <td>2461800</td>\n",
       "    </tr>\n",
       "    <tr>\n",
       "      <th>4328</th>\n",
       "      <td>10/27/2021</td>\n",
       "      <td>2788.100098</td>\n",
       "      <td>2973.000000</td>\n",
       "      <td>2788.100098</td>\n",
       "      <td>2924.350098</td>\n",
       "      <td>2924.350098</td>\n",
       "      <td>4289100</td>\n",
       "    </tr>\n",
       "    <tr>\n",
       "      <th>4329</th>\n",
       "      <td>10/28/2021</td>\n",
       "      <td>2942.689941</td>\n",
       "      <td>2943.159912</td>\n",
       "      <td>2892.540039</td>\n",
       "      <td>2916.979980</td>\n",
       "      <td>2916.979980</td>\n",
       "      <td>1810300</td>\n",
       "    </tr>\n",
       "    <tr>\n",
       "      <th>4330</th>\n",
       "      <td>10/29/2021</td>\n",
       "      <td>2901.560059</td>\n",
       "      <td>2964.840088</td>\n",
       "      <td>2892.989990</td>\n",
       "      <td>2960.919922</td>\n",
       "      <td>2960.919922</td>\n",
       "      <td>2163800</td>\n",
       "    </tr>\n",
       "  </tbody>\n",
       "</table>\n",
       "<p>4331 rows × 7 columns</p>\n",
       "</div>"
      ],
      "text/plain": [
       "            Date         Open         High          Low        Close  \\\n",
       "0      8/19/2004    50.050049    52.082081    48.028027    50.220219   \n",
       "1      8/20/2004    50.555557    54.594597    50.300301    54.209209   \n",
       "2      8/23/2004    55.430431    56.796799    54.579578    54.754753   \n",
       "3      8/24/2004    55.675674    55.855858    51.836838    52.487488   \n",
       "4      8/25/2004    52.532532    54.054054    51.991993    53.053055   \n",
       "...          ...          ...          ...          ...          ...   \n",
       "4326  10/25/2021  2751.000000  2760.000000  2708.479980  2748.939941   \n",
       "4327  10/26/2021  2785.270020  2801.659912  2766.090088  2786.169922   \n",
       "4328  10/27/2021  2788.100098  2973.000000  2788.100098  2924.350098   \n",
       "4329  10/28/2021  2942.689941  2943.159912  2892.540039  2916.979980   \n",
       "4330  10/29/2021  2901.560059  2964.840088  2892.989990  2960.919922   \n",
       "\n",
       "        Adj Close    Volume  \n",
       "0       50.220219  44659096  \n",
       "1       54.209209  22834343  \n",
       "2       54.754753  18256126  \n",
       "3       52.487488  15247337  \n",
       "4       53.053055   9188602  \n",
       "...           ...       ...  \n",
       "4326  2748.939941   1720600  \n",
       "4327  2786.169922   2461800  \n",
       "4328  2924.350098   4289100  \n",
       "4329  2916.979980   1810300  \n",
       "4330  2960.919922   2163800  \n",
       "\n",
       "[4331 rows x 7 columns]"
      ]
     },
     "execution_count": 5,
     "metadata": {},
     "output_type": "execute_result"
    }
   ],
   "source": [
    "data = get_data(\"GOOGL\")\n",
    "data"
   ]
  },
  {
   "cell_type": "code",
   "execution_count": 6,
   "metadata": {},
   "outputs": [
    {
     "data": {
      "text/plain": [
       "Date          object\n",
       "Open         float64\n",
       "High         float64\n",
       "Low          float64\n",
       "Close        float64\n",
       "Adj Close    float64\n",
       "Volume         int64\n",
       "dtype: object"
      ]
     },
     "execution_count": 6,
     "metadata": {},
     "output_type": "execute_result"
    }
   ],
   "source": [
    "data.dtypes"
   ]
  },
  {
   "cell_type": "code",
   "execution_count": 7,
   "metadata": {},
   "outputs": [
    {
     "data": {
      "text/plain": [
       "Date         False\n",
       "Open         False\n",
       "High         False\n",
       "Low          False\n",
       "Close        False\n",
       "Adj Close    False\n",
       "Volume       False\n",
       "dtype: bool"
      ]
     },
     "execution_count": 7,
     "metadata": {},
     "output_type": "execute_result"
    }
   ],
   "source": [
    "data.isna().any()"
   ]
  },
  {
   "cell_type": "code",
   "execution_count": 8,
   "metadata": {},
   "outputs": [
    {
     "data": {
      "text/html": [
       "<div>\n",
       "<style scoped>\n",
       "    .dataframe tbody tr th:only-of-type {\n",
       "        vertical-align: middle;\n",
       "    }\n",
       "\n",
       "    .dataframe tbody tr th {\n",
       "        vertical-align: top;\n",
       "    }\n",
       "\n",
       "    .dataframe thead th {\n",
       "        text-align: right;\n",
       "    }\n",
       "</style>\n",
       "<table border=\"1\" class=\"dataframe\">\n",
       "  <thead>\n",
       "    <tr style=\"text-align: right;\">\n",
       "      <th></th>\n",
       "    </tr>\n",
       "  </thead>\n",
       "  <tbody>\n",
       "    <tr>\n",
       "      <th>0</th>\n",
       "    </tr>\n",
       "    <tr>\n",
       "      <th>1</th>\n",
       "    </tr>\n",
       "    <tr>\n",
       "      <th>2</th>\n",
       "    </tr>\n",
       "    <tr>\n",
       "      <th>3</th>\n",
       "    </tr>\n",
       "    <tr>\n",
       "      <th>4</th>\n",
       "    </tr>\n",
       "    <tr>\n",
       "      <th>...</th>\n",
       "    </tr>\n",
       "    <tr>\n",
       "      <th>4326</th>\n",
       "    </tr>\n",
       "    <tr>\n",
       "      <th>4327</th>\n",
       "    </tr>\n",
       "    <tr>\n",
       "      <th>4328</th>\n",
       "    </tr>\n",
       "    <tr>\n",
       "      <th>4329</th>\n",
       "    </tr>\n",
       "    <tr>\n",
       "      <th>4330</th>\n",
       "    </tr>\n",
       "  </tbody>\n",
       "</table>\n",
       "<p>4331 rows × 0 columns</p>\n",
       "</div>"
      ],
      "text/plain": [
       "Empty DataFrame\n",
       "Columns: []\n",
       "Index: [0, 1, 2, 3, 4, 5, 6, 7, 8, 9, 10, 11, 12, 13, 14, 15, 16, 17, 18, 19, 20, 21, 22, 23, 24, 25, 26, 27, 28, 29, 30, 31, 32, 33, 34, 35, 36, 37, 38, 39, 40, 41, 42, 43, 44, 45, 46, 47, 48, 49, 50, 51, 52, 53, 54, 55, 56, 57, 58, 59, 60, 61, 62, 63, 64, 65, 66, 67, 68, 69, 70, 71, 72, 73, 74, 75, 76, 77, 78, 79, 80, 81, 82, 83, 84, 85, 86, 87, 88, 89, 90, 91, 92, 93, 94, 95, 96, 97, 98, 99, ...]\n",
       "\n",
       "[4331 rows x 0 columns]"
      ]
     },
     "execution_count": 8,
     "metadata": {},
     "output_type": "execute_result"
    }
   ],
   "source": [
    "data[data.columns[data.isna().any()]]"
   ]
  },
  {
   "cell_type": "code",
   "execution_count": 9,
   "metadata": {},
   "outputs": [
    {
     "name": "stdout",
     "output_type": "stream",
     "text": [
      "            Date         Open         High          Low        Close  \\\n",
      "0      8/19/2004    50.050049    52.082081    48.028027    50.220219   \n",
      "1      8/20/2004    50.555557    54.594597    50.300301    54.209209   \n",
      "2      8/23/2004    55.430431    56.796799    54.579578    54.754753   \n",
      "3      8/24/2004    55.675674    55.855858    51.836838    52.487488   \n",
      "4      8/25/2004    52.532532    54.054054    51.991993    53.053055   \n",
      "...          ...          ...          ...          ...          ...   \n",
      "4326  10/25/2021  2751.000000  2760.000000  2708.479980  2748.939941   \n",
      "4327  10/26/2021  2785.270020  2801.659912  2766.090088  2786.169922   \n",
      "4328  10/27/2021  2788.100098  2973.000000  2788.100098  2924.350098   \n",
      "4329  10/28/2021  2942.689941  2943.159912  2892.540039  2916.979980   \n",
      "4330  10/29/2021  2901.560059  2964.840088  2892.989990  2960.919922   \n",
      "\n",
      "        Adj Close    Volume  cond1  cond2  cond3  \n",
      "0       50.220219  44659096  False  False  False  \n",
      "1       54.209209  22834343  False  False  False  \n",
      "2       54.754753  18256126  False  False  False  \n",
      "3       52.487488  15247337  False  False  False  \n",
      "4       53.053055   9188602  False  False  False  \n",
      "...           ...       ...    ...    ...    ...  \n",
      "4326  2748.939941   1720600  False  False  False  \n",
      "4327  2786.169922   2461800  False  False  False  \n",
      "4328  2924.350098   4289100  False  False  False  \n",
      "4329  2916.979980   1810300  False  False  False  \n",
      "4330  2960.919922   2163800  False  False  False  \n",
      "\n",
      "[4331 rows x 10 columns]\n"
     ]
    }
   ],
   "source": [
    "cond1 = data.Date.isna() # aapl['Date'].isna()\n",
    "cond2 = data.Date.str.contains(r'^\\s*$', na=False)\n",
    "cond3 = data.Date == ''\n",
    "\n",
    "data_checked = data.assign(cond1= cond1, cond2= cond2, cond3= cond3)\n",
    "print (data_checked)"
   ]
  },
  {
   "cell_type": "code",
   "execution_count": 10,
   "metadata": {},
   "outputs": [],
   "source": [
    "def simple_moving_average_5(close):\n",
    "    return close.rolling(5, min_periods=1).mean()"
   ]
  },
  {
   "cell_type": "code",
   "execution_count": 11,
   "metadata": {},
   "outputs": [],
   "source": [
    "def simple_moving_average_10(close):\n",
    "    return close.rolling(10, min_periods=1).mean()"
   ]
  },
  {
   "cell_type": "code",
   "execution_count": 12,
   "metadata": {},
   "outputs": [],
   "source": [
    "def stochastic_k(high, low, close):\n",
    "    return (((close-low.rolling(14).min())/(high.rolling(14).max()-low.rolling(14).min()))*100)"
   ]
  },
  {
   "cell_type": "code",
   "execution_count": 13,
   "metadata": {},
   "outputs": [],
   "source": [
    "def stochastic_d(stochastic_k):\n",
    "    return stochastic_k.rolling(3,min_periods=1).mean()"
   ]
  },
  {
   "cell_type": "code",
   "execution_count": 14,
   "metadata": {},
   "outputs": [],
   "source": [
    "def larry_williams_r(high, low, close):\n",
    "    return (((high.rolling(14).max()-close)/(high.rolling(14).max()-low.rolling(14).min()))*100)"
   ]
  },
  {
   "cell_type": "code",
   "execution_count": 15,
   "metadata": {},
   "outputs": [],
   "source": [
    "def rate_of_change(close):\n",
    "    return ((close-close.shift(12))/close.shift(12))"
   ]
  },
  {
   "cell_type": "code",
   "execution_count": 16,
   "metadata": {},
   "outputs": [],
   "source": [
    "def price_volume_trend(close, volume):\n",
    "    return (((close-close.shift(1))/close.shift(1))*volume)"
   ]
  },
  {
   "cell_type": "code",
   "execution_count": 17,
   "metadata": {},
   "outputs": [],
   "source": [
    "def accumulation_distribution_oscillator(high, low, close):\n",
    "    return((high-close.shift(1))/(high-low))"
   ]
  },
  {
   "cell_type": "code",
   "execution_count": 18,
   "metadata": {},
   "outputs": [],
   "source": [
    "def weighted_moving_average_10(close):\n",
    "    return ((10*close+9*close.shift(1)+8*close.shift(2)+7*close.shift(3)\n",
    "             +6*close.shift(4)+5*close.shift(5)+4*close.shift(6)+3*close.shift(7)\n",
    "             +2*close.shift(8)+close.shift(9))/(10+9+8+7+6+5+4+3+2+1))"
   ]
  },
  {
   "cell_type": "code",
   "execution_count": 19,
   "metadata": {},
   "outputs": [],
   "source": [
    "def exponential_moving_average_12(close):\n",
    "    return (close.ewm(span=12, adjust=False).mean())"
   ]
  },
  {
   "cell_type": "code",
   "execution_count": 20,
   "metadata": {},
   "outputs": [],
   "source": [
    "def exponential_moving_average_26(close):\n",
    "    return (close.ewm(span=26, adjust=False).mean())"
   ]
  },
  {
   "cell_type": "code",
   "execution_count": 21,
   "metadata": {},
   "outputs": [],
   "source": [
    "def moving_average_convergence_divergence(ema_12, ema_26):\n",
    "    return (ema_12 - ema_26)"
   ]
  },
  {
   "cell_type": "code",
   "execution_count": 22,
   "metadata": {},
   "outputs": [],
   "source": [
    "def momentum(close):\n",
    "    return ((close/close.shift(14))*100)"
   ]
  },
  {
   "cell_type": "code",
   "execution_count": 23,
   "metadata": {},
   "outputs": [],
   "source": [
    "def change(close):\n",
    "    return (close.shift(-1) - close)"
   ]
  },
  {
   "cell_type": "code",
   "execution_count": 24,
   "metadata": {},
   "outputs": [],
   "source": [
    "def direction(change):\n",
    "    return (np.where(change>0, 1, 0))"
   ]
  },
  {
   "cell_type": "code",
   "execution_count": 25,
   "metadata": {},
   "outputs": [],
   "source": [
    "def relative_strength_index(direction):\n",
    "    return (100-(100/(1+(direction.rolling(14).sum()/14)/(14-direction.rolling(14).sum())/14)))"
   ]
  },
  {
   "cell_type": "code",
   "execution_count": 26,
   "metadata": {},
   "outputs": [],
   "source": [
    "def channel_commodity_index(df, ndays): \n",
    "    df['TP'] = (df['High'] + df['Low'] + df['Close']) / 3 \n",
    "    df['sma'] = df['TP'].rolling(ndays).mean()\n",
    "    df['mad'] = df['TP'].rolling(ndays).apply(lambda x: pd.Series(x).mad())\n",
    "    df['CCI'] = (df['TP'] - df['sma']) / (0.015 * df['mad']) \n",
    "    return df['CCI']"
   ]
  },
  {
   "cell_type": "code",
   "execution_count": 27,
   "metadata": {},
   "outputs": [],
   "source": [
    "def disparity_index(close):\n",
    "    return (((close - close.rolling(14).mean())/(close.rolling(14).mean()))*100)"
   ]
  },
  {
   "cell_type": "code",
   "execution_count": 28,
   "metadata": {},
   "outputs": [],
   "source": [
    "def get_adx(high, low, close, lookback):\n",
    "    plus_dm = high.diff()\n",
    "    minus_dm = low.diff()\n",
    "    plus_dm[plus_dm < 0] = 0\n",
    "    minus_dm[minus_dm > 0] = 0\n",
    "    \n",
    "    tr1 = pd.DataFrame(high - low)\n",
    "    tr2 = pd.DataFrame(abs(high - close.shift(1)))\n",
    "    tr3 = pd.DataFrame(abs(low - close.shift(1)))\n",
    "    frames = [tr1, tr2, tr3]\n",
    "    tr = pd.concat(frames, axis = 1, join = 'inner').max(axis = 1)\n",
    "    atr = tr.rolling(lookback).mean()\n",
    "    \n",
    "    plus_di = 100 * (plus_dm.ewm(alpha = 1/lookback).mean() / atr)\n",
    "    minus_di = abs(100 * (minus_dm.ewm(alpha = 1/lookback).mean() / atr))\n",
    "    dx = (abs(plus_di - minus_di) / abs(plus_di + minus_di)) * 100\n",
    "    adx = ((dx.shift(1) * (lookback - 1)) + dx) / lookback\n",
    "    adx_smooth = adx.ewm(alpha = 1/lookback).mean()\n",
    "    return adx_smooth"
   ]
  },
  {
   "cell_type": "code",
   "execution_count": 29,
   "metadata": {},
   "outputs": [],
   "source": [
    "def aroon(close):\n",
    "    return (ta.trend.AroonIndicator(close, 25, True).aroon_indicator())"
   ]
  },
  {
   "cell_type": "code",
   "execution_count": 30,
   "metadata": {},
   "outputs": [],
   "source": [
    "def compute_all_indicators(data):\n",
    "    data['SMA5'] = simple_moving_average_5(data['Close'])\n",
    "    data['SMA10'] = simple_moving_average_10(data['Close'])\n",
    "    data['StochasticK'] = stochastic_k(data['High'], data['Low'], data['Close'])\n",
    "    data['StochasticD'] = stochastic_d(data['StochasticK'])\n",
    "    data['LarryWilliamsR'] = larry_williams_r(data['High'], data['Low'], data['Close'])\n",
    "    data['ROC'] = rate_of_change(data['Close'])\n",
    "    data['PVT'] = price_volume_trend(data['Close'], data['Volume'])\n",
    "    data['ADO'] = accumulation_distribution_oscillator(data['High'], data['Low'], data['Close'])\n",
    "    data['WMA10'] = weighted_moving_average_10(data['Close'])\n",
    "    data['EMA12'] = exponential_moving_average_12(data['Close'])\n",
    "    data['EMA26'] = exponential_moving_average_26(data['Close'])\n",
    "    data['MACD'] = moving_average_convergence_divergence(data['EMA12'], data['EMA26'])\n",
    "    data['Momentum'] = momentum(data['Close'])\n",
    "    data['Change'] = change(data['Close'])\n",
    "    data['Direction'] = direction(data['Change'])\n",
    "    data['RSI'] = relative_strength_index(data['Direction'])\n",
    "    data['CCI'] = channel_commodity_index(data, 14)\n",
    "    data['DI'] = disparity_index(data['Close'])\n",
    "    data['ADX'] = get_adx(data['High'], data['Low'], data['Close'], 14)\n",
    "    data['Aroon'] = aroon(data['Close'])    \n",
    "    return data"
   ]
  },
  {
   "cell_type": "code",
   "execution_count": 31,
   "metadata": {},
   "outputs": [
    {
     "data": {
      "text/html": [
       "<div>\n",
       "<style scoped>\n",
       "    .dataframe tbody tr th:only-of-type {\n",
       "        vertical-align: middle;\n",
       "    }\n",
       "\n",
       "    .dataframe tbody tr th {\n",
       "        vertical-align: top;\n",
       "    }\n",
       "\n",
       "    .dataframe thead th {\n",
       "        text-align: right;\n",
       "    }\n",
       "</style>\n",
       "<table border=\"1\" class=\"dataframe\">\n",
       "  <thead>\n",
       "    <tr style=\"text-align: right;\">\n",
       "      <th></th>\n",
       "      <th>Date</th>\n",
       "      <th>Open</th>\n",
       "      <th>High</th>\n",
       "      <th>Low</th>\n",
       "      <th>Close</th>\n",
       "      <th>Adj Close</th>\n",
       "      <th>Volume</th>\n",
       "      <th>SMA5</th>\n",
       "      <th>SMA10</th>\n",
       "      <th>StochasticK</th>\n",
       "      <th>...</th>\n",
       "      <th>Change</th>\n",
       "      <th>Direction</th>\n",
       "      <th>RSI</th>\n",
       "      <th>TP</th>\n",
       "      <th>sma</th>\n",
       "      <th>mad</th>\n",
       "      <th>CCI</th>\n",
       "      <th>DI</th>\n",
       "      <th>ADX</th>\n",
       "      <th>Aroon</th>\n",
       "    </tr>\n",
       "  </thead>\n",
       "  <tbody>\n",
       "    <tr>\n",
       "      <th>0</th>\n",
       "      <td>8/19/2004</td>\n",
       "      <td>50.050049</td>\n",
       "      <td>52.082081</td>\n",
       "      <td>48.028027</td>\n",
       "      <td>50.220219</td>\n",
       "      <td>50.220219</td>\n",
       "      <td>44659096</td>\n",
       "      <td>50.220219</td>\n",
       "      <td>50.220219</td>\n",
       "      <td>NaN</td>\n",
       "      <td>...</td>\n",
       "      <td>3.988990</td>\n",
       "      <td>1</td>\n",
       "      <td>NaN</td>\n",
       "      <td>50.110109</td>\n",
       "      <td>NaN</td>\n",
       "      <td>NaN</td>\n",
       "      <td>NaN</td>\n",
       "      <td>NaN</td>\n",
       "      <td>NaN</td>\n",
       "      <td>0.0</td>\n",
       "    </tr>\n",
       "    <tr>\n",
       "      <th>1</th>\n",
       "      <td>8/20/2004</td>\n",
       "      <td>50.555557</td>\n",
       "      <td>54.594597</td>\n",
       "      <td>50.300301</td>\n",
       "      <td>54.209209</td>\n",
       "      <td>54.209209</td>\n",
       "      <td>22834343</td>\n",
       "      <td>52.214714</td>\n",
       "      <td>52.214714</td>\n",
       "      <td>NaN</td>\n",
       "      <td>...</td>\n",
       "      <td>0.545544</td>\n",
       "      <td>1</td>\n",
       "      <td>NaN</td>\n",
       "      <td>53.034702</td>\n",
       "      <td>NaN</td>\n",
       "      <td>NaN</td>\n",
       "      <td>NaN</td>\n",
       "      <td>NaN</td>\n",
       "      <td>NaN</td>\n",
       "      <td>4.0</td>\n",
       "    </tr>\n",
       "    <tr>\n",
       "      <th>2</th>\n",
       "      <td>8/23/2004</td>\n",
       "      <td>55.430431</td>\n",
       "      <td>56.796799</td>\n",
       "      <td>54.579578</td>\n",
       "      <td>54.754753</td>\n",
       "      <td>54.754753</td>\n",
       "      <td>18256126</td>\n",
       "      <td>53.061394</td>\n",
       "      <td>53.061394</td>\n",
       "      <td>NaN</td>\n",
       "      <td>...</td>\n",
       "      <td>-2.267265</td>\n",
       "      <td>0</td>\n",
       "      <td>NaN</td>\n",
       "      <td>55.377043</td>\n",
       "      <td>NaN</td>\n",
       "      <td>NaN</td>\n",
       "      <td>NaN</td>\n",
       "      <td>NaN</td>\n",
       "      <td>NaN</td>\n",
       "      <td>8.0</td>\n",
       "    </tr>\n",
       "    <tr>\n",
       "      <th>3</th>\n",
       "      <td>8/24/2004</td>\n",
       "      <td>55.675674</td>\n",
       "      <td>55.855858</td>\n",
       "      <td>51.836838</td>\n",
       "      <td>52.487488</td>\n",
       "      <td>52.487488</td>\n",
       "      <td>15247337</td>\n",
       "      <td>52.917917</td>\n",
       "      <td>52.917917</td>\n",
       "      <td>NaN</td>\n",
       "      <td>...</td>\n",
       "      <td>0.565567</td>\n",
       "      <td>1</td>\n",
       "      <td>NaN</td>\n",
       "      <td>53.393395</td>\n",
       "      <td>NaN</td>\n",
       "      <td>NaN</td>\n",
       "      <td>NaN</td>\n",
       "      <td>NaN</td>\n",
       "      <td>NaN</td>\n",
       "      <td>8.0</td>\n",
       "    </tr>\n",
       "    <tr>\n",
       "      <th>4</th>\n",
       "      <td>8/25/2004</td>\n",
       "      <td>52.532532</td>\n",
       "      <td>54.054054</td>\n",
       "      <td>51.991993</td>\n",
       "      <td>53.053055</td>\n",
       "      <td>53.053055</td>\n",
       "      <td>9188602</td>\n",
       "      <td>52.944945</td>\n",
       "      <td>52.944945</td>\n",
       "      <td>NaN</td>\n",
       "      <td>...</td>\n",
       "      <td>0.955955</td>\n",
       "      <td>1</td>\n",
       "      <td>NaN</td>\n",
       "      <td>53.033034</td>\n",
       "      <td>NaN</td>\n",
       "      <td>NaN</td>\n",
       "      <td>NaN</td>\n",
       "      <td>NaN</td>\n",
       "      <td>NaN</td>\n",
       "      <td>8.0</td>\n",
       "    </tr>\n",
       "    <tr>\n",
       "      <th>...</th>\n",
       "      <td>...</td>\n",
       "      <td>...</td>\n",
       "      <td>...</td>\n",
       "      <td>...</td>\n",
       "      <td>...</td>\n",
       "      <td>...</td>\n",
       "      <td>...</td>\n",
       "      <td>...</td>\n",
       "      <td>...</td>\n",
       "      <td>...</td>\n",
       "      <td>...</td>\n",
       "      <td>...</td>\n",
       "      <td>...</td>\n",
       "      <td>...</td>\n",
       "      <td>...</td>\n",
       "      <td>...</td>\n",
       "      <td>...</td>\n",
       "      <td>...</td>\n",
       "      <td>...</td>\n",
       "      <td>...</td>\n",
       "      <td>...</td>\n",
       "    </tr>\n",
       "    <tr>\n",
       "      <th>4326</th>\n",
       "      <td>10/25/2021</td>\n",
       "      <td>2751.000000</td>\n",
       "      <td>2760.000000</td>\n",
       "      <td>2708.479980</td>\n",
       "      <td>2748.939941</td>\n",
       "      <td>2748.939941</td>\n",
       "      <td>1720600</td>\n",
       "      <td>2807.621973</td>\n",
       "      <td>2802.466992</td>\n",
       "      <td>31.791463</td>\n",
       "      <td>...</td>\n",
       "      <td>37.229981</td>\n",
       "      <td>1</td>\n",
       "      <td>0.910010</td>\n",
       "      <td>2739.139974</td>\n",
       "      <td>2793.822144</td>\n",
       "      <td>36.525489</td>\n",
       "      <td>-99.806410</td>\n",
       "      <td>-1.659154</td>\n",
       "      <td>15.283130</td>\n",
       "      <td>44.0</td>\n",
       "    </tr>\n",
       "    <tr>\n",
       "      <th>4327</th>\n",
       "      <td>10/26/2021</td>\n",
       "      <td>2785.270020</td>\n",
       "      <td>2801.659912</td>\n",
       "      <td>2766.090088</td>\n",
       "      <td>2786.169922</td>\n",
       "      <td>2786.169922</td>\n",
       "      <td>2461800</td>\n",
       "      <td>2791.907959</td>\n",
       "      <td>2808.185986</td>\n",
       "      <td>47.150533</td>\n",
       "      <td>...</td>\n",
       "      <td>138.180176</td>\n",
       "      <td>1</td>\n",
       "      <td>0.910010</td>\n",
       "      <td>2784.639974</td>\n",
       "      <td>2797.551188</td>\n",
       "      <td>33.080892</td>\n",
       "      <td>-26.019480</td>\n",
       "      <td>-0.416017</td>\n",
       "      <td>15.934061</td>\n",
       "      <td>44.0</td>\n",
       "    </tr>\n",
       "    <tr>\n",
       "      <th>4328</th>\n",
       "      <td>10/27/2021</td>\n",
       "      <td>2788.100098</td>\n",
       "      <td>2973.000000</td>\n",
       "      <td>2788.100098</td>\n",
       "      <td>2924.350098</td>\n",
       "      <td>2924.350098</td>\n",
       "      <td>4289100</td>\n",
       "      <td>2809.702002</td>\n",
       "      <td>2825.457007</td>\n",
       "      <td>81.608234</td>\n",
       "      <td>...</td>\n",
       "      <td>-7.370118</td>\n",
       "      <td>0</td>\n",
       "      <td>0.675676</td>\n",
       "      <td>2895.150065</td>\n",
       "      <td>2805.339047</td>\n",
       "      <td>39.235729</td>\n",
       "      <td>152.600736</td>\n",
       "      <td>4.150993</td>\n",
       "      <td>15.753143</td>\n",
       "      <td>68.0</td>\n",
       "    </tr>\n",
       "    <tr>\n",
       "      <th>4329</th>\n",
       "      <td>10/28/2021</td>\n",
       "      <td>2942.689941</td>\n",
       "      <td>2943.159912</td>\n",
       "      <td>2892.540039</td>\n",
       "      <td>2916.979980</td>\n",
       "      <td>2916.979980</td>\n",
       "      <td>1810300</td>\n",
       "      <td>2825.554004</td>\n",
       "      <td>2834.853003</td>\n",
       "      <td>78.822011</td>\n",
       "      <td>...</td>\n",
       "      <td>43.939942</td>\n",
       "      <td>1</td>\n",
       "      <td>0.910010</td>\n",
       "      <td>2917.559977</td>\n",
       "      <td>2814.053327</td>\n",
       "      <td>46.064779</td>\n",
       "      <td>149.798686</td>\n",
       "      <td>3.568992</td>\n",
       "      <td>16.191420</td>\n",
       "      <td>68.0</td>\n",
       "    </tr>\n",
       "    <tr>\n",
       "      <th>4330</th>\n",
       "      <td>10/29/2021</td>\n",
       "      <td>2901.560059</td>\n",
       "      <td>2964.840088</td>\n",
       "      <td>2892.989990</td>\n",
       "      <td>2960.919922</td>\n",
       "      <td>2960.919922</td>\n",
       "      <td>2163800</td>\n",
       "      <td>2867.471973</td>\n",
       "      <td>2848.208984</td>\n",
       "      <td>95.433208</td>\n",
       "      <td>...</td>\n",
       "      <td>NaN</td>\n",
       "      <td>0</td>\n",
       "      <td>0.910010</td>\n",
       "      <td>2939.583333</td>\n",
       "      <td>2824.744995</td>\n",
       "      <td>51.778588</td>\n",
       "      <td>147.858208</td>\n",
       "      <td>4.644397</td>\n",
       "      <td>16.615582</td>\n",
       "      <td>76.0</td>\n",
       "    </tr>\n",
       "  </tbody>\n",
       "</table>\n",
       "<p>4331 rows × 30 columns</p>\n",
       "</div>"
      ],
      "text/plain": [
       "            Date         Open         High          Low        Close  \\\n",
       "0      8/19/2004    50.050049    52.082081    48.028027    50.220219   \n",
       "1      8/20/2004    50.555557    54.594597    50.300301    54.209209   \n",
       "2      8/23/2004    55.430431    56.796799    54.579578    54.754753   \n",
       "3      8/24/2004    55.675674    55.855858    51.836838    52.487488   \n",
       "4      8/25/2004    52.532532    54.054054    51.991993    53.053055   \n",
       "...          ...          ...          ...          ...          ...   \n",
       "4326  10/25/2021  2751.000000  2760.000000  2708.479980  2748.939941   \n",
       "4327  10/26/2021  2785.270020  2801.659912  2766.090088  2786.169922   \n",
       "4328  10/27/2021  2788.100098  2973.000000  2788.100098  2924.350098   \n",
       "4329  10/28/2021  2942.689941  2943.159912  2892.540039  2916.979980   \n",
       "4330  10/29/2021  2901.560059  2964.840088  2892.989990  2960.919922   \n",
       "\n",
       "        Adj Close    Volume         SMA5        SMA10  StochasticK  ...  \\\n",
       "0       50.220219  44659096    50.220219    50.220219          NaN  ...   \n",
       "1       54.209209  22834343    52.214714    52.214714          NaN  ...   \n",
       "2       54.754753  18256126    53.061394    53.061394          NaN  ...   \n",
       "3       52.487488  15247337    52.917917    52.917917          NaN  ...   \n",
       "4       53.053055   9188602    52.944945    52.944945          NaN  ...   \n",
       "...           ...       ...          ...          ...          ...  ...   \n",
       "4326  2748.939941   1720600  2807.621973  2802.466992    31.791463  ...   \n",
       "4327  2786.169922   2461800  2791.907959  2808.185986    47.150533  ...   \n",
       "4328  2924.350098   4289100  2809.702002  2825.457007    81.608234  ...   \n",
       "4329  2916.979980   1810300  2825.554004  2834.853003    78.822011  ...   \n",
       "4330  2960.919922   2163800  2867.471973  2848.208984    95.433208  ...   \n",
       "\n",
       "          Change  Direction       RSI           TP          sma        mad  \\\n",
       "0       3.988990          1       NaN    50.110109          NaN        NaN   \n",
       "1       0.545544          1       NaN    53.034702          NaN        NaN   \n",
       "2      -2.267265          0       NaN    55.377043          NaN        NaN   \n",
       "3       0.565567          1       NaN    53.393395          NaN        NaN   \n",
       "4       0.955955          1       NaN    53.033034          NaN        NaN   \n",
       "...          ...        ...       ...          ...          ...        ...   \n",
       "4326   37.229981          1  0.910010  2739.139974  2793.822144  36.525489   \n",
       "4327  138.180176          1  0.910010  2784.639974  2797.551188  33.080892   \n",
       "4328   -7.370118          0  0.675676  2895.150065  2805.339047  39.235729   \n",
       "4329   43.939942          1  0.910010  2917.559977  2814.053327  46.064779   \n",
       "4330         NaN          0  0.910010  2939.583333  2824.744995  51.778588   \n",
       "\n",
       "             CCI        DI        ADX  Aroon  \n",
       "0            NaN       NaN        NaN    0.0  \n",
       "1            NaN       NaN        NaN    4.0  \n",
       "2            NaN       NaN        NaN    8.0  \n",
       "3            NaN       NaN        NaN    8.0  \n",
       "4            NaN       NaN        NaN    8.0  \n",
       "...          ...       ...        ...    ...  \n",
       "4326  -99.806410 -1.659154  15.283130   44.0  \n",
       "4327  -26.019480 -0.416017  15.934061   44.0  \n",
       "4328  152.600736  4.150993  15.753143   68.0  \n",
       "4329  149.798686  3.568992  16.191420   68.0  \n",
       "4330  147.858208  4.644397  16.615582   76.0  \n",
       "\n",
       "[4331 rows x 30 columns]"
      ]
     },
     "execution_count": 31,
     "metadata": {},
     "output_type": "execute_result"
    }
   ],
   "source": [
    "complete_data = compute_all_indicators(data)\n",
    "complete_data"
   ]
  },
  {
   "cell_type": "code",
   "execution_count": 32,
   "metadata": {},
   "outputs": [],
   "source": [
    "complete_data = complete_data.dropna()"
   ]
  },
  {
   "cell_type": "code",
   "execution_count": 33,
   "metadata": {},
   "outputs": [
    {
     "data": {
      "text/html": [
       "<div>\n",
       "<style scoped>\n",
       "    .dataframe tbody tr th:only-of-type {\n",
       "        vertical-align: middle;\n",
       "    }\n",
       "\n",
       "    .dataframe tbody tr th {\n",
       "        vertical-align: top;\n",
       "    }\n",
       "\n",
       "    .dataframe thead th {\n",
       "        text-align: right;\n",
       "    }\n",
       "</style>\n",
       "<table border=\"1\" class=\"dataframe\">\n",
       "  <thead>\n",
       "    <tr style=\"text-align: right;\">\n",
       "      <th></th>\n",
       "      <th>Date</th>\n",
       "      <th>Open</th>\n",
       "      <th>High</th>\n",
       "      <th>Low</th>\n",
       "      <th>Close</th>\n",
       "      <th>Adj Close</th>\n",
       "      <th>Volume</th>\n",
       "      <th>SMA5</th>\n",
       "      <th>SMA10</th>\n",
       "      <th>StochasticK</th>\n",
       "      <th>...</th>\n",
       "      <th>Change</th>\n",
       "      <th>Direction</th>\n",
       "      <th>RSI</th>\n",
       "      <th>TP</th>\n",
       "      <th>sma</th>\n",
       "      <th>mad</th>\n",
       "      <th>CCI</th>\n",
       "      <th>DI</th>\n",
       "      <th>ADX</th>\n",
       "      <th>Aroon</th>\n",
       "    </tr>\n",
       "  </thead>\n",
       "  <tbody>\n",
       "    <tr>\n",
       "      <th>14</th>\n",
       "      <td>9/9/2004</td>\n",
       "      <td>51.316315</td>\n",
       "      <td>51.406406</td>\n",
       "      <td>50.550552</td>\n",
       "      <td>51.206207</td>\n",
       "      <td>51.206207</td>\n",
       "      <td>4061734</td>\n",
       "      <td>50.821821</td>\n",
       "      <td>51.371371</td>\n",
       "      <td>23.177440</td>\n",
       "      <td>...</td>\n",
       "      <td>1.511509</td>\n",
       "      <td>1</td>\n",
       "      <td>0.910010</td>\n",
       "      <td>51.054388</td>\n",
       "      <td>52.055508</td>\n",
       "      <td>1.348866</td>\n",
       "      <td>-49.479574</td>\n",
       "      <td>-1.556034</td>\n",
       "      <td>13.189346</td>\n",
       "      <td>-36.0</td>\n",
       "    </tr>\n",
       "    <tr>\n",
       "      <th>15</th>\n",
       "      <td>9/10/2004</td>\n",
       "      <td>50.850849</td>\n",
       "      <td>53.333332</td>\n",
       "      <td>50.700703</td>\n",
       "      <td>52.717716</td>\n",
       "      <td>52.717716</td>\n",
       "      <td>8698892</td>\n",
       "      <td>51.204204</td>\n",
       "      <td>51.242242</td>\n",
       "      <td>43.947690</td>\n",
       "      <td>...</td>\n",
       "      <td>1.086086</td>\n",
       "      <td>1</td>\n",
       "      <td>0.910010</td>\n",
       "      <td>52.250584</td>\n",
       "      <td>51.999500</td>\n",
       "      <td>1.284856</td>\n",
       "      <td>13.027860</td>\n",
       "      <td>1.557848</td>\n",
       "      <td>13.278814</td>\n",
       "      <td>-36.0</td>\n",
       "    </tr>\n",
       "    <tr>\n",
       "      <th>16</th>\n",
       "      <td>9/13/2004</td>\n",
       "      <td>53.368366</td>\n",
       "      <td>54.259258</td>\n",
       "      <td>53.283283</td>\n",
       "      <td>53.803802</td>\n",
       "      <td>53.803802</td>\n",
       "      <td>7844148</td>\n",
       "      <td>51.953953</td>\n",
       "      <td>51.309809</td>\n",
       "      <td>67.614480</td>\n",
       "      <td>...</td>\n",
       "      <td>1.996998</td>\n",
       "      <td>1</td>\n",
       "      <td>1.259446</td>\n",
       "      <td>53.782114</td>\n",
       "      <td>51.885576</td>\n",
       "      <td>1.154658</td>\n",
       "      <td>109.500695</td>\n",
       "      <td>3.785942</td>\n",
       "      <td>14.363601</td>\n",
       "      <td>-36.0</td>\n",
       "    </tr>\n",
       "    <tr>\n",
       "      <th>17</th>\n",
       "      <td>9/14/2004</td>\n",
       "      <td>53.778778</td>\n",
       "      <td>56.056057</td>\n",
       "      <td>53.448448</td>\n",
       "      <td>55.800800</td>\n",
       "      <td>55.800800</td>\n",
       "      <td>10828960</td>\n",
       "      <td>52.945945</td>\n",
       "      <td>51.784284</td>\n",
       "      <td>96.094920</td>\n",
       "      <td>...</td>\n",
       "      <td>0.255257</td>\n",
       "      <td>1</td>\n",
       "      <td>1.259446</td>\n",
       "      <td>55.101768</td>\n",
       "      <td>52.007603</td>\n",
       "      <td>1.294117</td>\n",
       "      <td>159.396447</td>\n",
       "      <td>7.148936</td>\n",
       "      <td>17.732901</td>\n",
       "      <td>24.0</td>\n",
       "    </tr>\n",
       "    <tr>\n",
       "      <th>18</th>\n",
       "      <td>9/15/2004</td>\n",
       "      <td>55.335335</td>\n",
       "      <td>57.172173</td>\n",
       "      <td>55.155155</td>\n",
       "      <td>56.056057</td>\n",
       "      <td>56.056057</td>\n",
       "      <td>10713076</td>\n",
       "      <td>53.916916</td>\n",
       "      <td>52.266266</td>\n",
       "      <td>85.415306</td>\n",
       "      <td>...</td>\n",
       "      <td>0.985985</td>\n",
       "      <td>1</td>\n",
       "      <td>1.259446</td>\n",
       "      <td>56.127795</td>\n",
       "      <td>52.228657</td>\n",
       "      <td>1.546751</td>\n",
       "      <td>168.057138</td>\n",
       "      <td>7.197552</td>\n",
       "      <td>22.985583</td>\n",
       "      <td>28.0</td>\n",
       "    </tr>\n",
       "    <tr>\n",
       "      <th>...</th>\n",
       "      <td>...</td>\n",
       "      <td>...</td>\n",
       "      <td>...</td>\n",
       "      <td>...</td>\n",
       "      <td>...</td>\n",
       "      <td>...</td>\n",
       "      <td>...</td>\n",
       "      <td>...</td>\n",
       "      <td>...</td>\n",
       "      <td>...</td>\n",
       "      <td>...</td>\n",
       "      <td>...</td>\n",
       "      <td>...</td>\n",
       "      <td>...</td>\n",
       "      <td>...</td>\n",
       "      <td>...</td>\n",
       "      <td>...</td>\n",
       "      <td>...</td>\n",
       "      <td>...</td>\n",
       "      <td>...</td>\n",
       "      <td>...</td>\n",
       "    </tr>\n",
       "    <tr>\n",
       "      <th>4325</th>\n",
       "      <td>10/22/2021</td>\n",
       "      <td>2783.000000</td>\n",
       "      <td>2811.659912</td>\n",
       "      <td>2721.120117</td>\n",
       "      <td>2751.330078</td>\n",
       "      <td>2751.330078</td>\n",
       "      <td>2527700</td>\n",
       "      <td>2828.945996</td>\n",
       "      <td>2805.401001</td>\n",
       "      <td>36.641914</td>\n",
       "      <td>...</td>\n",
       "      <td>-2.390137</td>\n",
       "      <td>0</td>\n",
       "      <td>0.910010</td>\n",
       "      <td>2761.370036</td>\n",
       "      <td>2792.116194</td>\n",
       "      <td>38.231440</td>\n",
       "      <td>-53.614090</td>\n",
       "      <td>-1.501967</td>\n",
       "      <td>14.685884</td>\n",
       "      <td>44.0</td>\n",
       "    </tr>\n",
       "    <tr>\n",
       "      <th>4326</th>\n",
       "      <td>10/25/2021</td>\n",
       "      <td>2751.000000</td>\n",
       "      <td>2760.000000</td>\n",
       "      <td>2708.479980</td>\n",
       "      <td>2748.939941</td>\n",
       "      <td>2748.939941</td>\n",
       "      <td>1720600</td>\n",
       "      <td>2807.621973</td>\n",
       "      <td>2802.466992</td>\n",
       "      <td>31.791463</td>\n",
       "      <td>...</td>\n",
       "      <td>37.229981</td>\n",
       "      <td>1</td>\n",
       "      <td>0.910010</td>\n",
       "      <td>2739.139974</td>\n",
       "      <td>2793.822144</td>\n",
       "      <td>36.525489</td>\n",
       "      <td>-99.806410</td>\n",
       "      <td>-1.659154</td>\n",
       "      <td>15.283130</td>\n",
       "      <td>44.0</td>\n",
       "    </tr>\n",
       "    <tr>\n",
       "      <th>4327</th>\n",
       "      <td>10/26/2021</td>\n",
       "      <td>2785.270020</td>\n",
       "      <td>2801.659912</td>\n",
       "      <td>2766.090088</td>\n",
       "      <td>2786.169922</td>\n",
       "      <td>2786.169922</td>\n",
       "      <td>2461800</td>\n",
       "      <td>2791.907959</td>\n",
       "      <td>2808.185986</td>\n",
       "      <td>47.150533</td>\n",
       "      <td>...</td>\n",
       "      <td>138.180176</td>\n",
       "      <td>1</td>\n",
       "      <td>0.910010</td>\n",
       "      <td>2784.639974</td>\n",
       "      <td>2797.551188</td>\n",
       "      <td>33.080892</td>\n",
       "      <td>-26.019480</td>\n",
       "      <td>-0.416017</td>\n",
       "      <td>15.934061</td>\n",
       "      <td>44.0</td>\n",
       "    </tr>\n",
       "    <tr>\n",
       "      <th>4328</th>\n",
       "      <td>10/27/2021</td>\n",
       "      <td>2788.100098</td>\n",
       "      <td>2973.000000</td>\n",
       "      <td>2788.100098</td>\n",
       "      <td>2924.350098</td>\n",
       "      <td>2924.350098</td>\n",
       "      <td>4289100</td>\n",
       "      <td>2809.702002</td>\n",
       "      <td>2825.457007</td>\n",
       "      <td>81.608234</td>\n",
       "      <td>...</td>\n",
       "      <td>-7.370118</td>\n",
       "      <td>0</td>\n",
       "      <td>0.675676</td>\n",
       "      <td>2895.150065</td>\n",
       "      <td>2805.339047</td>\n",
       "      <td>39.235729</td>\n",
       "      <td>152.600736</td>\n",
       "      <td>4.150993</td>\n",
       "      <td>15.753143</td>\n",
       "      <td>68.0</td>\n",
       "    </tr>\n",
       "    <tr>\n",
       "      <th>4329</th>\n",
       "      <td>10/28/2021</td>\n",
       "      <td>2942.689941</td>\n",
       "      <td>2943.159912</td>\n",
       "      <td>2892.540039</td>\n",
       "      <td>2916.979980</td>\n",
       "      <td>2916.979980</td>\n",
       "      <td>1810300</td>\n",
       "      <td>2825.554004</td>\n",
       "      <td>2834.853003</td>\n",
       "      <td>78.822011</td>\n",
       "      <td>...</td>\n",
       "      <td>43.939942</td>\n",
       "      <td>1</td>\n",
       "      <td>0.910010</td>\n",
       "      <td>2917.559977</td>\n",
       "      <td>2814.053327</td>\n",
       "      <td>46.064779</td>\n",
       "      <td>149.798686</td>\n",
       "      <td>3.568992</td>\n",
       "      <td>16.191420</td>\n",
       "      <td>68.0</td>\n",
       "    </tr>\n",
       "  </tbody>\n",
       "</table>\n",
       "<p>4316 rows × 30 columns</p>\n",
       "</div>"
      ],
      "text/plain": [
       "            Date         Open         High          Low        Close  \\\n",
       "14      9/9/2004    51.316315    51.406406    50.550552    51.206207   \n",
       "15     9/10/2004    50.850849    53.333332    50.700703    52.717716   \n",
       "16     9/13/2004    53.368366    54.259258    53.283283    53.803802   \n",
       "17     9/14/2004    53.778778    56.056057    53.448448    55.800800   \n",
       "18     9/15/2004    55.335335    57.172173    55.155155    56.056057   \n",
       "...          ...          ...          ...          ...          ...   \n",
       "4325  10/22/2021  2783.000000  2811.659912  2721.120117  2751.330078   \n",
       "4326  10/25/2021  2751.000000  2760.000000  2708.479980  2748.939941   \n",
       "4327  10/26/2021  2785.270020  2801.659912  2766.090088  2786.169922   \n",
       "4328  10/27/2021  2788.100098  2973.000000  2788.100098  2924.350098   \n",
       "4329  10/28/2021  2942.689941  2943.159912  2892.540039  2916.979980   \n",
       "\n",
       "        Adj Close    Volume         SMA5        SMA10  StochasticK  ...  \\\n",
       "14      51.206207   4061734    50.821821    51.371371    23.177440  ...   \n",
       "15      52.717716   8698892    51.204204    51.242242    43.947690  ...   \n",
       "16      53.803802   7844148    51.953953    51.309809    67.614480  ...   \n",
       "17      55.800800  10828960    52.945945    51.784284    96.094920  ...   \n",
       "18      56.056057  10713076    53.916916    52.266266    85.415306  ...   \n",
       "...           ...       ...          ...          ...          ...  ...   \n",
       "4325  2751.330078   2527700  2828.945996  2805.401001    36.641914  ...   \n",
       "4326  2748.939941   1720600  2807.621973  2802.466992    31.791463  ...   \n",
       "4327  2786.169922   2461800  2791.907959  2808.185986    47.150533  ...   \n",
       "4328  2924.350098   4289100  2809.702002  2825.457007    81.608234  ...   \n",
       "4329  2916.979980   1810300  2825.554004  2834.853003    78.822011  ...   \n",
       "\n",
       "          Change  Direction       RSI           TP          sma        mad  \\\n",
       "14      1.511509          1  0.910010    51.054388    52.055508   1.348866   \n",
       "15      1.086086          1  0.910010    52.250584    51.999500   1.284856   \n",
       "16      1.996998          1  1.259446    53.782114    51.885576   1.154658   \n",
       "17      0.255257          1  1.259446    55.101768    52.007603   1.294117   \n",
       "18      0.985985          1  1.259446    56.127795    52.228657   1.546751   \n",
       "...          ...        ...       ...          ...          ...        ...   \n",
       "4325   -2.390137          0  0.910010  2761.370036  2792.116194  38.231440   \n",
       "4326   37.229981          1  0.910010  2739.139974  2793.822144  36.525489   \n",
       "4327  138.180176          1  0.910010  2784.639974  2797.551188  33.080892   \n",
       "4328   -7.370118          0  0.675676  2895.150065  2805.339047  39.235729   \n",
       "4329   43.939942          1  0.910010  2917.559977  2814.053327  46.064779   \n",
       "\n",
       "             CCI        DI        ADX  Aroon  \n",
       "14    -49.479574 -1.556034  13.189346  -36.0  \n",
       "15     13.027860  1.557848  13.278814  -36.0  \n",
       "16    109.500695  3.785942  14.363601  -36.0  \n",
       "17    159.396447  7.148936  17.732901   24.0  \n",
       "18    168.057138  7.197552  22.985583   28.0  \n",
       "...          ...       ...        ...    ...  \n",
       "4325  -53.614090 -1.501967  14.685884   44.0  \n",
       "4326  -99.806410 -1.659154  15.283130   44.0  \n",
       "4327  -26.019480 -0.416017  15.934061   44.0  \n",
       "4328  152.600736  4.150993  15.753143   68.0  \n",
       "4329  149.798686  3.568992  16.191420   68.0  \n",
       "\n",
       "[4316 rows x 30 columns]"
      ]
     },
     "execution_count": 33,
     "metadata": {},
     "output_type": "execute_result"
    }
   ],
   "source": [
    "complete_data"
   ]
  },
  {
   "cell_type": "code",
   "execution_count": 34,
   "metadata": {},
   "outputs": [],
   "source": [
    "complete_data = complete_data.drop(['TP', 'sma', 'mad', 'Change'], axis=1)"
   ]
  },
  {
   "cell_type": "code",
   "execution_count": 35,
   "metadata": {},
   "outputs": [
    {
     "data": {
      "text/html": [
       "<div>\n",
       "<style scoped>\n",
       "    .dataframe tbody tr th:only-of-type {\n",
       "        vertical-align: middle;\n",
       "    }\n",
       "\n",
       "    .dataframe tbody tr th {\n",
       "        vertical-align: top;\n",
       "    }\n",
       "\n",
       "    .dataframe thead th {\n",
       "        text-align: right;\n",
       "    }\n",
       "</style>\n",
       "<table border=\"1\" class=\"dataframe\">\n",
       "  <thead>\n",
       "    <tr style=\"text-align: right;\">\n",
       "      <th></th>\n",
       "      <th>Date</th>\n",
       "      <th>Open</th>\n",
       "      <th>High</th>\n",
       "      <th>Low</th>\n",
       "      <th>Close</th>\n",
       "      <th>Adj Close</th>\n",
       "      <th>Volume</th>\n",
       "      <th>SMA5</th>\n",
       "      <th>SMA10</th>\n",
       "      <th>StochasticK</th>\n",
       "      <th>...</th>\n",
       "      <th>EMA12</th>\n",
       "      <th>EMA26</th>\n",
       "      <th>MACD</th>\n",
       "      <th>Momentum</th>\n",
       "      <th>Direction</th>\n",
       "      <th>RSI</th>\n",
       "      <th>CCI</th>\n",
       "      <th>DI</th>\n",
       "      <th>ADX</th>\n",
       "      <th>Aroon</th>\n",
       "    </tr>\n",
       "  </thead>\n",
       "  <tbody>\n",
       "    <tr>\n",
       "      <th>14</th>\n",
       "      <td>9/9/2004</td>\n",
       "      <td>51.316315</td>\n",
       "      <td>51.406406</td>\n",
       "      <td>50.550552</td>\n",
       "      <td>51.206207</td>\n",
       "      <td>51.206207</td>\n",
       "      <td>4061734</td>\n",
       "      <td>50.821821</td>\n",
       "      <td>51.371371</td>\n",
       "      <td>23.177440</td>\n",
       "      <td>...</td>\n",
       "      <td>51.241682</td>\n",
       "      <td>51.171435</td>\n",
       "      <td>0.070247</td>\n",
       "      <td>101.963329</td>\n",
       "      <td>1</td>\n",
       "      <td>0.910010</td>\n",
       "      <td>-49.479574</td>\n",
       "      <td>-1.556034</td>\n",
       "      <td>13.189346</td>\n",
       "      <td>-36.0</td>\n",
       "    </tr>\n",
       "    <tr>\n",
       "      <th>15</th>\n",
       "      <td>9/10/2004</td>\n",
       "      <td>50.850849</td>\n",
       "      <td>53.333332</td>\n",
       "      <td>50.700703</td>\n",
       "      <td>52.717716</td>\n",
       "      <td>52.717716</td>\n",
       "      <td>8698892</td>\n",
       "      <td>51.204204</td>\n",
       "      <td>51.242242</td>\n",
       "      <td>43.947690</td>\n",
       "      <td>...</td>\n",
       "      <td>51.468764</td>\n",
       "      <td>51.285974</td>\n",
       "      <td>0.182790</td>\n",
       "      <td>97.248635</td>\n",
       "      <td>1</td>\n",
       "      <td>0.910010</td>\n",
       "      <td>13.027860</td>\n",
       "      <td>1.557848</td>\n",
       "      <td>13.278814</td>\n",
       "      <td>-36.0</td>\n",
       "    </tr>\n",
       "    <tr>\n",
       "      <th>16</th>\n",
       "      <td>9/13/2004</td>\n",
       "      <td>53.368366</td>\n",
       "      <td>54.259258</td>\n",
       "      <td>53.283283</td>\n",
       "      <td>53.803802</td>\n",
       "      <td>53.803802</td>\n",
       "      <td>7844148</td>\n",
       "      <td>51.953953</td>\n",
       "      <td>51.309809</td>\n",
       "      <td>67.614480</td>\n",
       "      <td>...</td>\n",
       "      <td>51.828001</td>\n",
       "      <td>51.472480</td>\n",
       "      <td>0.355521</td>\n",
       "      <td>98.263254</td>\n",
       "      <td>1</td>\n",
       "      <td>1.259446</td>\n",
       "      <td>109.500695</td>\n",
       "      <td>3.785942</td>\n",
       "      <td>14.363601</td>\n",
       "      <td>-36.0</td>\n",
       "    </tr>\n",
       "    <tr>\n",
       "      <th>17</th>\n",
       "      <td>9/14/2004</td>\n",
       "      <td>53.778778</td>\n",
       "      <td>56.056057</td>\n",
       "      <td>53.448448</td>\n",
       "      <td>55.800800</td>\n",
       "      <td>55.800800</td>\n",
       "      <td>10828960</td>\n",
       "      <td>52.945945</td>\n",
       "      <td>51.784284</td>\n",
       "      <td>96.094920</td>\n",
       "      <td>...</td>\n",
       "      <td>52.439201</td>\n",
       "      <td>51.793096</td>\n",
       "      <td>0.646105</td>\n",
       "      <td>106.312575</td>\n",
       "      <td>1</td>\n",
       "      <td>1.259446</td>\n",
       "      <td>159.396447</td>\n",
       "      <td>7.148936</td>\n",
       "      <td>17.732901</td>\n",
       "      <td>24.0</td>\n",
       "    </tr>\n",
       "    <tr>\n",
       "      <th>18</th>\n",
       "      <td>9/15/2004</td>\n",
       "      <td>55.335335</td>\n",
       "      <td>57.172173</td>\n",
       "      <td>55.155155</td>\n",
       "      <td>56.056057</td>\n",
       "      <td>56.056057</td>\n",
       "      <td>10713076</td>\n",
       "      <td>53.916916</td>\n",
       "      <td>52.266266</td>\n",
       "      <td>85.415306</td>\n",
       "      <td>...</td>\n",
       "      <td>52.995640</td>\n",
       "      <td>52.108871</td>\n",
       "      <td>0.886769</td>\n",
       "      <td>105.660375</td>\n",
       "      <td>1</td>\n",
       "      <td>1.259446</td>\n",
       "      <td>168.057138</td>\n",
       "      <td>7.197552</td>\n",
       "      <td>22.985583</td>\n",
       "      <td>28.0</td>\n",
       "    </tr>\n",
       "    <tr>\n",
       "      <th>...</th>\n",
       "      <td>...</td>\n",
       "      <td>...</td>\n",
       "      <td>...</td>\n",
       "      <td>...</td>\n",
       "      <td>...</td>\n",
       "      <td>...</td>\n",
       "      <td>...</td>\n",
       "      <td>...</td>\n",
       "      <td>...</td>\n",
       "      <td>...</td>\n",
       "      <td>...</td>\n",
       "      <td>...</td>\n",
       "      <td>...</td>\n",
       "      <td>...</td>\n",
       "      <td>...</td>\n",
       "      <td>...</td>\n",
       "      <td>...</td>\n",
       "      <td>...</td>\n",
       "      <td>...</td>\n",
       "      <td>...</td>\n",
       "      <td>...</td>\n",
       "    </tr>\n",
       "    <tr>\n",
       "      <th>4325</th>\n",
       "      <td>10/22/2021</td>\n",
       "      <td>2783.000000</td>\n",
       "      <td>2811.659912</td>\n",
       "      <td>2721.120117</td>\n",
       "      <td>2751.330078</td>\n",
       "      <td>2751.330078</td>\n",
       "      <td>2527700</td>\n",
       "      <td>2828.945996</td>\n",
       "      <td>2805.401001</td>\n",
       "      <td>36.641914</td>\n",
       "      <td>...</td>\n",
       "      <td>2801.459443</td>\n",
       "      <td>2792.721461</td>\n",
       "      <td>8.737982</td>\n",
       "      <td>102.923105</td>\n",
       "      <td>0</td>\n",
       "      <td>0.910010</td>\n",
       "      <td>-53.614090</td>\n",
       "      <td>-1.501967</td>\n",
       "      <td>14.685884</td>\n",
       "      <td>44.0</td>\n",
       "    </tr>\n",
       "    <tr>\n",
       "      <th>4326</th>\n",
       "      <td>10/25/2021</td>\n",
       "      <td>2751.000000</td>\n",
       "      <td>2760.000000</td>\n",
       "      <td>2708.479980</td>\n",
       "      <td>2748.939941</td>\n",
       "      <td>2748.939941</td>\n",
       "      <td>1720600</td>\n",
       "      <td>2807.621973</td>\n",
       "      <td>2802.466992</td>\n",
       "      <td>31.791463</td>\n",
       "      <td>...</td>\n",
       "      <td>2793.379519</td>\n",
       "      <td>2789.478385</td>\n",
       "      <td>3.901134</td>\n",
       "      <td>101.046881</td>\n",
       "      <td>1</td>\n",
       "      <td>0.910010</td>\n",
       "      <td>-99.806410</td>\n",
       "      <td>-1.659154</td>\n",
       "      <td>15.283130</td>\n",
       "      <td>44.0</td>\n",
       "    </tr>\n",
       "    <tr>\n",
       "      <th>4327</th>\n",
       "      <td>10/26/2021</td>\n",
       "      <td>2785.270020</td>\n",
       "      <td>2801.659912</td>\n",
       "      <td>2766.090088</td>\n",
       "      <td>2786.169922</td>\n",
       "      <td>2786.169922</td>\n",
       "      <td>2461800</td>\n",
       "      <td>2791.907959</td>\n",
       "      <td>2808.185986</td>\n",
       "      <td>47.150533</td>\n",
       "      <td>...</td>\n",
       "      <td>2792.270350</td>\n",
       "      <td>2789.233314</td>\n",
       "      <td>3.037036</td>\n",
       "      <td>101.267396</td>\n",
       "      <td>1</td>\n",
       "      <td>0.910010</td>\n",
       "      <td>-26.019480</td>\n",
       "      <td>-0.416017</td>\n",
       "      <td>15.934061</td>\n",
       "      <td>44.0</td>\n",
       "    </tr>\n",
       "    <tr>\n",
       "      <th>4328</th>\n",
       "      <td>10/27/2021</td>\n",
       "      <td>2788.100098</td>\n",
       "      <td>2973.000000</td>\n",
       "      <td>2788.100098</td>\n",
       "      <td>2924.350098</td>\n",
       "      <td>2924.350098</td>\n",
       "      <td>4289100</td>\n",
       "      <td>2809.702002</td>\n",
       "      <td>2825.457007</td>\n",
       "      <td>81.608234</td>\n",
       "      <td>...</td>\n",
       "      <td>2812.590312</td>\n",
       "      <td>2799.241965</td>\n",
       "      <td>13.348347</td>\n",
       "      <td>105.022449</td>\n",
       "      <td>0</td>\n",
       "      <td>0.675676</td>\n",
       "      <td>152.600736</td>\n",
       "      <td>4.150993</td>\n",
       "      <td>15.753143</td>\n",
       "      <td>68.0</td>\n",
       "    </tr>\n",
       "    <tr>\n",
       "      <th>4329</th>\n",
       "      <td>10/28/2021</td>\n",
       "      <td>2942.689941</td>\n",
       "      <td>2943.159912</td>\n",
       "      <td>2892.540039</td>\n",
       "      <td>2916.979980</td>\n",
       "      <td>2916.979980</td>\n",
       "      <td>1810300</td>\n",
       "      <td>2825.554004</td>\n",
       "      <td>2834.853003</td>\n",
       "      <td>78.822011</td>\n",
       "      <td>...</td>\n",
       "      <td>2828.650261</td>\n",
       "      <td>2807.963299</td>\n",
       "      <td>20.686961</td>\n",
       "      <td>104.337718</td>\n",
       "      <td>1</td>\n",
       "      <td>0.910010</td>\n",
       "      <td>149.798686</td>\n",
       "      <td>3.568992</td>\n",
       "      <td>16.191420</td>\n",
       "      <td>68.0</td>\n",
       "    </tr>\n",
       "  </tbody>\n",
       "</table>\n",
       "<p>4316 rows × 26 columns</p>\n",
       "</div>"
      ],
      "text/plain": [
       "            Date         Open         High          Low        Close  \\\n",
       "14      9/9/2004    51.316315    51.406406    50.550552    51.206207   \n",
       "15     9/10/2004    50.850849    53.333332    50.700703    52.717716   \n",
       "16     9/13/2004    53.368366    54.259258    53.283283    53.803802   \n",
       "17     9/14/2004    53.778778    56.056057    53.448448    55.800800   \n",
       "18     9/15/2004    55.335335    57.172173    55.155155    56.056057   \n",
       "...          ...          ...          ...          ...          ...   \n",
       "4325  10/22/2021  2783.000000  2811.659912  2721.120117  2751.330078   \n",
       "4326  10/25/2021  2751.000000  2760.000000  2708.479980  2748.939941   \n",
       "4327  10/26/2021  2785.270020  2801.659912  2766.090088  2786.169922   \n",
       "4328  10/27/2021  2788.100098  2973.000000  2788.100098  2924.350098   \n",
       "4329  10/28/2021  2942.689941  2943.159912  2892.540039  2916.979980   \n",
       "\n",
       "        Adj Close    Volume         SMA5        SMA10  StochasticK  ...  \\\n",
       "14      51.206207   4061734    50.821821    51.371371    23.177440  ...   \n",
       "15      52.717716   8698892    51.204204    51.242242    43.947690  ...   \n",
       "16      53.803802   7844148    51.953953    51.309809    67.614480  ...   \n",
       "17      55.800800  10828960    52.945945    51.784284    96.094920  ...   \n",
       "18      56.056057  10713076    53.916916    52.266266    85.415306  ...   \n",
       "...           ...       ...          ...          ...          ...  ...   \n",
       "4325  2751.330078   2527700  2828.945996  2805.401001    36.641914  ...   \n",
       "4326  2748.939941   1720600  2807.621973  2802.466992    31.791463  ...   \n",
       "4327  2786.169922   2461800  2791.907959  2808.185986    47.150533  ...   \n",
       "4328  2924.350098   4289100  2809.702002  2825.457007    81.608234  ...   \n",
       "4329  2916.979980   1810300  2825.554004  2834.853003    78.822011  ...   \n",
       "\n",
       "            EMA12        EMA26       MACD    Momentum  Direction       RSI  \\\n",
       "14      51.241682    51.171435   0.070247  101.963329          1  0.910010   \n",
       "15      51.468764    51.285974   0.182790   97.248635          1  0.910010   \n",
       "16      51.828001    51.472480   0.355521   98.263254          1  1.259446   \n",
       "17      52.439201    51.793096   0.646105  106.312575          1  1.259446   \n",
       "18      52.995640    52.108871   0.886769  105.660375          1  1.259446   \n",
       "...           ...          ...        ...         ...        ...       ...   \n",
       "4325  2801.459443  2792.721461   8.737982  102.923105          0  0.910010   \n",
       "4326  2793.379519  2789.478385   3.901134  101.046881          1  0.910010   \n",
       "4327  2792.270350  2789.233314   3.037036  101.267396          1  0.910010   \n",
       "4328  2812.590312  2799.241965  13.348347  105.022449          0  0.675676   \n",
       "4329  2828.650261  2807.963299  20.686961  104.337718          1  0.910010   \n",
       "\n",
       "             CCI        DI        ADX  Aroon  \n",
       "14    -49.479574 -1.556034  13.189346  -36.0  \n",
       "15     13.027860  1.557848  13.278814  -36.0  \n",
       "16    109.500695  3.785942  14.363601  -36.0  \n",
       "17    159.396447  7.148936  17.732901   24.0  \n",
       "18    168.057138  7.197552  22.985583   28.0  \n",
       "...          ...       ...        ...    ...  \n",
       "4325  -53.614090 -1.501967  14.685884   44.0  \n",
       "4326  -99.806410 -1.659154  15.283130   44.0  \n",
       "4327  -26.019480 -0.416017  15.934061   44.0  \n",
       "4328  152.600736  4.150993  15.753143   68.0  \n",
       "4329  149.798686  3.568992  16.191420   68.0  \n",
       "\n",
       "[4316 rows x 26 columns]"
      ]
     },
     "execution_count": 35,
     "metadata": {},
     "output_type": "execute_result"
    }
   ],
   "source": [
    "complete_data"
   ]
  },
  {
   "cell_type": "code",
   "execution_count": 36,
   "metadata": {},
   "outputs": [],
   "source": [
    "#corrMatrix = complete_data.corr()\n",
    "#print(corrMatrix)"
   ]
  },
  {
   "cell_type": "code",
   "execution_count": 37,
   "metadata": {},
   "outputs": [],
   "source": [
    "#sn.heatmap(corrMatrix, annot=False)\n",
    "#plt.show()"
   ]
  },
  {
   "cell_type": "code",
   "execution_count": 38,
   "metadata": {},
   "outputs": [],
   "source": [
    "#corr_pairs = corrMatrix.unstack()\n",
    "#corr_pairs"
   ]
  },
  {
   "cell_type": "code",
   "execution_count": 39,
   "metadata": {},
   "outputs": [],
   "source": [
    "#sorted_pairs = corr_pairs.sort_values(kind=\"quicksort\")\n",
    "#sorted_pairs"
   ]
  },
  {
   "cell_type": "code",
   "execution_count": 40,
   "metadata": {},
   "outputs": [],
   "source": [
    "#strong_pairs = sorted_pairs[abs(sorted_pairs) > 0.5]\n",
    "\n",
    "#print(strong_pairs)"
   ]
  },
  {
   "cell_type": "code",
   "execution_count": 41,
   "metadata": {},
   "outputs": [],
   "source": [
    "## strong_pairs[strong_pairs.index[0][0] == strong_pairs.index[0][1]]\n",
    "\n",
    "#removed_diagonal = [(i, j) for (i, j) in strong_pairs.index if i!=j]\n",
    "#len(removed_diagonal)"
   ]
  },
  {
   "cell_type": "code",
   "execution_count": 42,
   "metadata": {
    "scrolled": false
   },
   "outputs": [],
   "source": [
    "## # Create correlation matrix\n",
    "## corr_matrix = complete_data.corr().abs()\n",
    "\n",
    "## # Select upper triangle of correlation matrix\n",
    "## upper = corr_matrix.where(np.triu(np.ones(corr_matrix.shape), k=1).astype(np.bool8))\n",
    "\n",
    "## # Find index of feature columns with correlation greater than 0.95\n",
    "## to_drop = [column for column in upper.columns if any(upper[column] > 0.95)]\n",
    "## to_drop"
   ]
  },
  {
   "cell_type": "code",
   "execution_count": 43,
   "metadata": {},
   "outputs": [],
   "source": [
    "## Find index of feature columns with correlation greater than 0.8\n",
    "\n",
    "#correlated_features = set()\n",
    "#for i in range(len(corrMatrix.columns)):\n",
    " #   for j in range(i):\n",
    "  #      if abs(corrMatrix.iloc[i, j]) > 0.8:\n",
    "   #         colname = corrMatrix.columns[i]\n",
    "    #        correlated_features.add(colname)"
   ]
  },
  {
   "cell_type": "code",
   "execution_count": 44,
   "metadata": {},
   "outputs": [],
   "source": [
    "#correlated_features"
   ]
  },
  {
   "cell_type": "code",
   "execution_count": 45,
   "metadata": {},
   "outputs": [],
   "source": [
    "#complete_data = complete_data.drop(labels=correlated_features, axis=1)"
   ]
  },
  {
   "cell_type": "code",
   "execution_count": 46,
   "metadata": {},
   "outputs": [],
   "source": [
    "#complete_data"
   ]
  },
  {
   "cell_type": "code",
   "execution_count": 47,
   "metadata": {
    "scrolled": false
   },
   "outputs": [
    {
     "data": {
      "text/html": [
       "<div>\n",
       "<style scoped>\n",
       "    .dataframe tbody tr th:only-of-type {\n",
       "        vertical-align: middle;\n",
       "    }\n",
       "\n",
       "    .dataframe tbody tr th {\n",
       "        vertical-align: top;\n",
       "    }\n",
       "\n",
       "    .dataframe thead th {\n",
       "        text-align: right;\n",
       "    }\n",
       "</style>\n",
       "<table border=\"1\" class=\"dataframe\">\n",
       "  <thead>\n",
       "    <tr style=\"text-align: right;\">\n",
       "      <th></th>\n",
       "      <th>Open</th>\n",
       "      <th>High</th>\n",
       "      <th>Low</th>\n",
       "      <th>Close</th>\n",
       "      <th>Adj Close</th>\n",
       "      <th>Volume</th>\n",
       "      <th>SMA5</th>\n",
       "      <th>SMA10</th>\n",
       "      <th>StochasticK</th>\n",
       "      <th>StochasticD</th>\n",
       "      <th>...</th>\n",
       "      <th>WMA10</th>\n",
       "      <th>EMA12</th>\n",
       "      <th>EMA26</th>\n",
       "      <th>MACD</th>\n",
       "      <th>Momentum</th>\n",
       "      <th>RSI</th>\n",
       "      <th>CCI</th>\n",
       "      <th>DI</th>\n",
       "      <th>ADX</th>\n",
       "      <th>Aroon</th>\n",
       "    </tr>\n",
       "  </thead>\n",
       "  <tbody>\n",
       "    <tr>\n",
       "      <th>14</th>\n",
       "      <td>51.316315</td>\n",
       "      <td>51.406406</td>\n",
       "      <td>50.550552</td>\n",
       "      <td>51.206207</td>\n",
       "      <td>51.206207</td>\n",
       "      <td>4061734</td>\n",
       "      <td>50.821821</td>\n",
       "      <td>51.371371</td>\n",
       "      <td>23.177440</td>\n",
       "      <td>29.682331</td>\n",
       "      <td>...</td>\n",
       "      <td>50.983165</td>\n",
       "      <td>51.241682</td>\n",
       "      <td>51.171435</td>\n",
       "      <td>0.070247</td>\n",
       "      <td>101.963329</td>\n",
       "      <td>0.910010</td>\n",
       "      <td>-49.479574</td>\n",
       "      <td>-1.556034</td>\n",
       "      <td>13.189346</td>\n",
       "      <td>-36.0</td>\n",
       "    </tr>\n",
       "    <tr>\n",
       "      <th>15</th>\n",
       "      <td>50.850849</td>\n",
       "      <td>53.333332</td>\n",
       "      <td>50.700703</td>\n",
       "      <td>52.717716</td>\n",
       "      <td>52.717716</td>\n",
       "      <td>8698892</td>\n",
       "      <td>51.204204</td>\n",
       "      <td>51.242242</td>\n",
       "      <td>43.947690</td>\n",
       "      <td>34.437451</td>\n",
       "      <td>...</td>\n",
       "      <td>51.227955</td>\n",
       "      <td>51.468764</td>\n",
       "      <td>51.285974</td>\n",
       "      <td>0.182790</td>\n",
       "      <td>97.248635</td>\n",
       "      <td>0.910010</td>\n",
       "      <td>13.027860</td>\n",
       "      <td>1.557848</td>\n",
       "      <td>13.278814</td>\n",
       "      <td>-36.0</td>\n",
       "    </tr>\n",
       "    <tr>\n",
       "      <th>16</th>\n",
       "      <td>53.368366</td>\n",
       "      <td>54.259258</td>\n",
       "      <td>53.283283</td>\n",
       "      <td>53.803802</td>\n",
       "      <td>53.803802</td>\n",
       "      <td>7844148</td>\n",
       "      <td>51.953953</td>\n",
       "      <td>51.309809</td>\n",
       "      <td>67.614480</td>\n",
       "      <td>44.913203</td>\n",
       "      <td>...</td>\n",
       "      <td>51.693693</td>\n",
       "      <td>51.828001</td>\n",
       "      <td>51.472480</td>\n",
       "      <td>0.355521</td>\n",
       "      <td>98.263254</td>\n",
       "      <td>1.259446</td>\n",
       "      <td>109.500695</td>\n",
       "      <td>3.785942</td>\n",
       "      <td>14.363601</td>\n",
       "      <td>-36.0</td>\n",
       "    </tr>\n",
       "    <tr>\n",
       "      <th>17</th>\n",
       "      <td>53.778778</td>\n",
       "      <td>56.056057</td>\n",
       "      <td>53.448448</td>\n",
       "      <td>55.800800</td>\n",
       "      <td>55.800800</td>\n",
       "      <td>10828960</td>\n",
       "      <td>52.945945</td>\n",
       "      <td>51.784284</td>\n",
       "      <td>96.094920</td>\n",
       "      <td>69.219030</td>\n",
       "      <td>...</td>\n",
       "      <td>52.510237</td>\n",
       "      <td>52.439201</td>\n",
       "      <td>51.793096</td>\n",
       "      <td>0.646105</td>\n",
       "      <td>106.312575</td>\n",
       "      <td>1.259446</td>\n",
       "      <td>159.396447</td>\n",
       "      <td>7.148936</td>\n",
       "      <td>17.732901</td>\n",
       "      <td>24.0</td>\n",
       "    </tr>\n",
       "    <tr>\n",
       "      <th>18</th>\n",
       "      <td>55.335335</td>\n",
       "      <td>57.172173</td>\n",
       "      <td>55.155155</td>\n",
       "      <td>56.056057</td>\n",
       "      <td>56.056057</td>\n",
       "      <td>10713076</td>\n",
       "      <td>53.916916</td>\n",
       "      <td>52.266266</td>\n",
       "      <td>85.415306</td>\n",
       "      <td>83.041569</td>\n",
       "      <td>...</td>\n",
       "      <td>53.286923</td>\n",
       "      <td>52.995640</td>\n",
       "      <td>52.108871</td>\n",
       "      <td>0.886769</td>\n",
       "      <td>105.660375</td>\n",
       "      <td>1.259446</td>\n",
       "      <td>168.057138</td>\n",
       "      <td>7.197552</td>\n",
       "      <td>22.985583</td>\n",
       "      <td>28.0</td>\n",
       "    </tr>\n",
       "    <tr>\n",
       "      <th>...</th>\n",
       "      <td>...</td>\n",
       "      <td>...</td>\n",
       "      <td>...</td>\n",
       "      <td>...</td>\n",
       "      <td>...</td>\n",
       "      <td>...</td>\n",
       "      <td>...</td>\n",
       "      <td>...</td>\n",
       "      <td>...</td>\n",
       "      <td>...</td>\n",
       "      <td>...</td>\n",
       "      <td>...</td>\n",
       "      <td>...</td>\n",
       "      <td>...</td>\n",
       "      <td>...</td>\n",
       "      <td>...</td>\n",
       "      <td>...</td>\n",
       "      <td>...</td>\n",
       "      <td>...</td>\n",
       "      <td>...</td>\n",
       "      <td>...</td>\n",
       "    </tr>\n",
       "    <tr>\n",
       "      <th>4325</th>\n",
       "      <td>2783.000000</td>\n",
       "      <td>2811.659912</td>\n",
       "      <td>2721.120117</td>\n",
       "      <td>2751.330078</td>\n",
       "      <td>2751.330078</td>\n",
       "      <td>2527700</td>\n",
       "      <td>2828.945996</td>\n",
       "      <td>2805.401001</td>\n",
       "      <td>36.641914</td>\n",
       "      <td>69.181246</td>\n",
       "      <td>...</td>\n",
       "      <td>2815.316366</td>\n",
       "      <td>2801.459443</td>\n",
       "      <td>2792.721461</td>\n",
       "      <td>8.737982</td>\n",
       "      <td>102.923105</td>\n",
       "      <td>0.910010</td>\n",
       "      <td>-53.614090</td>\n",
       "      <td>-1.501967</td>\n",
       "      <td>14.685884</td>\n",
       "      <td>44.0</td>\n",
       "    </tr>\n",
       "    <tr>\n",
       "      <th>4326</th>\n",
       "      <td>2751.000000</td>\n",
       "      <td>2760.000000</td>\n",
       "      <td>2708.479980</td>\n",
       "      <td>2748.939941</td>\n",
       "      <td>2748.939941</td>\n",
       "      <td>1720600</td>\n",
       "      <td>2807.621973</td>\n",
       "      <td>2802.466992</td>\n",
       "      <td>31.791463</td>\n",
       "      <td>51.449377</td>\n",
       "      <td>...</td>\n",
       "      <td>2805.050719</td>\n",
       "      <td>2793.379519</td>\n",
       "      <td>2789.478385</td>\n",
       "      <td>3.901134</td>\n",
       "      <td>101.046881</td>\n",
       "      <td>0.910010</td>\n",
       "      <td>-99.806410</td>\n",
       "      <td>-1.659154</td>\n",
       "      <td>15.283130</td>\n",
       "      <td>44.0</td>\n",
       "    </tr>\n",
       "    <tr>\n",
       "      <th>4327</th>\n",
       "      <td>2785.270020</td>\n",
       "      <td>2801.659912</td>\n",
       "      <td>2766.090088</td>\n",
       "      <td>2786.169922</td>\n",
       "      <td>2786.169922</td>\n",
       "      <td>2461800</td>\n",
       "      <td>2791.907959</td>\n",
       "      <td>2808.185986</td>\n",
       "      <td>47.150533</td>\n",
       "      <td>38.527970</td>\n",
       "      <td>...</td>\n",
       "      <td>2802.087615</td>\n",
       "      <td>2792.270350</td>\n",
       "      <td>2789.233314</td>\n",
       "      <td>3.037036</td>\n",
       "      <td>101.267396</td>\n",
       "      <td>0.910010</td>\n",
       "      <td>-26.019480</td>\n",
       "      <td>-0.416017</td>\n",
       "      <td>15.934061</td>\n",
       "      <td>44.0</td>\n",
       "    </tr>\n",
       "    <tr>\n",
       "      <th>4328</th>\n",
       "      <td>2788.100098</td>\n",
       "      <td>2973.000000</td>\n",
       "      <td>2788.100098</td>\n",
       "      <td>2924.350098</td>\n",
       "      <td>2924.350098</td>\n",
       "      <td>4289100</td>\n",
       "      <td>2809.702002</td>\n",
       "      <td>2825.457007</td>\n",
       "      <td>81.608234</td>\n",
       "      <td>53.516743</td>\n",
       "      <td>...</td>\n",
       "      <td>2823.208363</td>\n",
       "      <td>2812.590312</td>\n",
       "      <td>2799.241965</td>\n",
       "      <td>13.348347</td>\n",
       "      <td>105.022449</td>\n",
       "      <td>0.675676</td>\n",
       "      <td>152.600736</td>\n",
       "      <td>4.150993</td>\n",
       "      <td>15.753143</td>\n",
       "      <td>68.0</td>\n",
       "    </tr>\n",
       "    <tr>\n",
       "      <th>4329</th>\n",
       "      <td>2942.689941</td>\n",
       "      <td>2943.159912</td>\n",
       "      <td>2892.540039</td>\n",
       "      <td>2916.979980</td>\n",
       "      <td>2916.979980</td>\n",
       "      <td>1810300</td>\n",
       "      <td>2825.554004</td>\n",
       "      <td>2834.853003</td>\n",
       "      <td>78.822011</td>\n",
       "      <td>69.193593</td>\n",
       "      <td>...</td>\n",
       "      <td>2839.848904</td>\n",
       "      <td>2828.650261</td>\n",
       "      <td>2807.963299</td>\n",
       "      <td>20.686961</td>\n",
       "      <td>104.337718</td>\n",
       "      <td>0.910010</td>\n",
       "      <td>149.798686</td>\n",
       "      <td>3.568992</td>\n",
       "      <td>16.191420</td>\n",
       "      <td>68.0</td>\n",
       "    </tr>\n",
       "  </tbody>\n",
       "</table>\n",
       "<p>4316 rows × 24 columns</p>\n",
       "</div>"
      ],
      "text/plain": [
       "             Open         High          Low        Close    Adj Close  \\\n",
       "14      51.316315    51.406406    50.550552    51.206207    51.206207   \n",
       "15      50.850849    53.333332    50.700703    52.717716    52.717716   \n",
       "16      53.368366    54.259258    53.283283    53.803802    53.803802   \n",
       "17      53.778778    56.056057    53.448448    55.800800    55.800800   \n",
       "18      55.335335    57.172173    55.155155    56.056057    56.056057   \n",
       "...           ...          ...          ...          ...          ...   \n",
       "4325  2783.000000  2811.659912  2721.120117  2751.330078  2751.330078   \n",
       "4326  2751.000000  2760.000000  2708.479980  2748.939941  2748.939941   \n",
       "4327  2785.270020  2801.659912  2766.090088  2786.169922  2786.169922   \n",
       "4328  2788.100098  2973.000000  2788.100098  2924.350098  2924.350098   \n",
       "4329  2942.689941  2943.159912  2892.540039  2916.979980  2916.979980   \n",
       "\n",
       "        Volume         SMA5        SMA10  StochasticK  StochasticD  ...  \\\n",
       "14     4061734    50.821821    51.371371    23.177440    29.682331  ...   \n",
       "15     8698892    51.204204    51.242242    43.947690    34.437451  ...   \n",
       "16     7844148    51.953953    51.309809    67.614480    44.913203  ...   \n",
       "17    10828960    52.945945    51.784284    96.094920    69.219030  ...   \n",
       "18    10713076    53.916916    52.266266    85.415306    83.041569  ...   \n",
       "...        ...          ...          ...          ...          ...  ...   \n",
       "4325   2527700  2828.945996  2805.401001    36.641914    69.181246  ...   \n",
       "4326   1720600  2807.621973  2802.466992    31.791463    51.449377  ...   \n",
       "4327   2461800  2791.907959  2808.185986    47.150533    38.527970  ...   \n",
       "4328   4289100  2809.702002  2825.457007    81.608234    53.516743  ...   \n",
       "4329   1810300  2825.554004  2834.853003    78.822011    69.193593  ...   \n",
       "\n",
       "            WMA10        EMA12        EMA26       MACD    Momentum       RSI  \\\n",
       "14      50.983165    51.241682    51.171435   0.070247  101.963329  0.910010   \n",
       "15      51.227955    51.468764    51.285974   0.182790   97.248635  0.910010   \n",
       "16      51.693693    51.828001    51.472480   0.355521   98.263254  1.259446   \n",
       "17      52.510237    52.439201    51.793096   0.646105  106.312575  1.259446   \n",
       "18      53.286923    52.995640    52.108871   0.886769  105.660375  1.259446   \n",
       "...           ...          ...          ...        ...         ...       ...   \n",
       "4325  2815.316366  2801.459443  2792.721461   8.737982  102.923105  0.910010   \n",
       "4326  2805.050719  2793.379519  2789.478385   3.901134  101.046881  0.910010   \n",
       "4327  2802.087615  2792.270350  2789.233314   3.037036  101.267396  0.910010   \n",
       "4328  2823.208363  2812.590312  2799.241965  13.348347  105.022449  0.675676   \n",
       "4329  2839.848904  2828.650261  2807.963299  20.686961  104.337718  0.910010   \n",
       "\n",
       "             CCI        DI        ADX  Aroon  \n",
       "14    -49.479574 -1.556034  13.189346  -36.0  \n",
       "15     13.027860  1.557848  13.278814  -36.0  \n",
       "16    109.500695  3.785942  14.363601  -36.0  \n",
       "17    159.396447  7.148936  17.732901   24.0  \n",
       "18    168.057138  7.197552  22.985583   28.0  \n",
       "...          ...       ...        ...    ...  \n",
       "4325  -53.614090 -1.501967  14.685884   44.0  \n",
       "4326  -99.806410 -1.659154  15.283130   44.0  \n",
       "4327  -26.019480 -0.416017  15.934061   44.0  \n",
       "4328  152.600736  4.150993  15.753143   68.0  \n",
       "4329  149.798686  3.568992  16.191420   68.0  \n",
       "\n",
       "[4316 rows x 24 columns]"
      ]
     },
     "execution_count": 47,
     "metadata": {},
     "output_type": "execute_result"
    }
   ],
   "source": [
    "target = complete_data['Direction']\n",
    "complete_data = complete_data.drop(['Date', 'Direction'], axis=1)\n",
    "complete_data"
   ]
  },
  {
   "cell_type": "markdown",
   "metadata": {},
   "source": [
    "### autofeat Classification"
   ]
  },
  {
   "cell_type": "code",
   "execution_count": 48,
   "metadata": {},
   "outputs": [],
   "source": [
    "from sklearn.model_selection import train_test_split"
   ]
  },
  {
   "cell_type": "code",
   "execution_count": 49,
   "metadata": {},
   "outputs": [
    {
     "data": {
      "text/plain": [
       "False"
      ]
     },
     "execution_count": 49,
     "metadata": {},
     "output_type": "execute_result"
    }
   ],
   "source": [
    "np.any(np.isnan(complete_data))"
   ]
  },
  {
   "cell_type": "code",
   "execution_count": 50,
   "metadata": {},
   "outputs": [
    {
     "data": {
      "text/plain": [
       "False"
      ]
     },
     "execution_count": 50,
     "metadata": {},
     "output_type": "execute_result"
    }
   ],
   "source": [
    "np.all(np.isinf(complete_data))"
   ]
  },
  {
   "cell_type": "code",
   "execution_count": 51,
   "metadata": {},
   "outputs": [
    {
     "data": {
      "text/plain": [
       "False"
      ]
     },
     "execution_count": 51,
     "metadata": {},
     "output_type": "execute_result"
    }
   ],
   "source": [
    "np.any(np.isnan(target))"
   ]
  },
  {
   "cell_type": "code",
   "execution_count": 52,
   "metadata": {},
   "outputs": [
    {
     "data": {
      "text/plain": [
       "False"
      ]
     },
     "execution_count": 52,
     "metadata": {},
     "output_type": "execute_result"
    }
   ],
   "source": [
    "np.all(np.isinf(target))"
   ]
  },
  {
   "cell_type": "code",
   "execution_count": 53,
   "metadata": {},
   "outputs": [
    {
     "data": {
      "text/plain": [
       "0"
      ]
     },
     "execution_count": 53,
     "metadata": {},
     "output_type": "execute_result"
    }
   ],
   "source": [
    "count1 = np.isinf(complete_data).values.sum()\n",
    "count1"
   ]
  },
  {
   "cell_type": "code",
   "execution_count": 54,
   "metadata": {},
   "outputs": [
    {
     "data": {
      "text/plain": [
       "0"
      ]
     },
     "execution_count": 54,
     "metadata": {},
     "output_type": "execute_result"
    }
   ],
   "source": [
    "count2 = np.isinf(target).values.sum()\n",
    "count2"
   ]
  },
  {
   "cell_type": "code",
   "execution_count": 55,
   "metadata": {},
   "outputs": [
    {
     "data": {
      "text/plain": [
       "pandas.core.series.Series"
      ]
     },
     "execution_count": 55,
     "metadata": {},
     "output_type": "execute_result"
    }
   ],
   "source": [
    "type(complete_data.columns.to_series())"
   ]
  },
  {
   "cell_type": "code",
   "execution_count": 56,
   "metadata": {},
   "outputs": [
    {
     "name": "stdout",
     "output_type": "stream",
     "text": [
      "Series([], dtype: object)\n"
     ]
    }
   ],
   "source": [
    "col_name = complete_data.columns.to_series()[np.isinf(complete_data).any()]\n",
    "print(col_name)"
   ]
  },
  {
   "cell_type": "code",
   "execution_count": 57,
   "metadata": {},
   "outputs": [
    {
     "name": "stdout",
     "output_type": "stream",
     "text": [
      "Int64Index([], dtype='int64')\n"
     ]
    }
   ],
   "source": [
    "row_index = complete_data.index[np.isinf(complete_data).any(1)]\n",
    "print(row_index)"
   ]
  },
  {
   "cell_type": "code",
   "execution_count": 58,
   "metadata": {},
   "outputs": [],
   "source": [
    "target.drop(complete_data[np.isinf(complete_data).any(1)].index, inplace = True)\n",
    "complete_data.drop(complete_data[np.isinf(complete_data).any(1)].index, inplace = True)"
   ]
  },
  {
   "cell_type": "code",
   "execution_count": 59,
   "metadata": {},
   "outputs": [],
   "source": [
    "complete_data = complete_data.reset_index(drop = True)\n",
    "target = target.reset_index(drop = True)"
   ]
  },
  {
   "cell_type": "code",
   "execution_count": 60,
   "metadata": {},
   "outputs": [
    {
     "data": {
      "text/plain": [
       "0"
      ]
     },
     "execution_count": 60,
     "metadata": {},
     "output_type": "execute_result"
    }
   ],
   "source": [
    "count1 = np.isinf(complete_data).values.sum()\n",
    "count1"
   ]
  },
  {
   "cell_type": "code",
   "execution_count": 61,
   "metadata": {},
   "outputs": [
    {
     "name": "stderr",
     "output_type": "stream",
     "text": [
      "C:\\Users\\rshay\\anaconda3\\lib\\site-packages\\numpy\\core\\_methods.py:205: RuntimeWarning: overflow encountered in multiply\n",
      "  x = um.multiply(x, x, out=x)\n",
      "C:\\Users\\rshay\\anaconda3\\lib\\site-packages\\numpy\\core\\_methods.py:216: RuntimeWarning: overflow encountered in reduce\n",
      "  ret = umr_sum(x, axis, dtype, out, keepdims)\n",
      "C:\\Users\\rshay\\anaconda3\\lib\\site-packages\\numpy\\lib\\nanfunctions.py:1544: RuntimeWarning: overflow encountered in multiply\n",
      "  sqr = np.multiply(arr, arr, out=arr)\n"
     ]
    }
   ],
   "source": [
    "from autofeat import AutoFeatClassifier\n",
    "X_train, X_test, y_train, y_test = train_test_split(complete_data,target,test_size=0.3)\n",
    "model = AutoFeatClassifier()\n",
    "df = model.fit_transform(X_train, y_train)\n",
    "y_pred = model.predict(X_test)"
   ]
  },
  {
   "cell_type": "code",
   "execution_count": 62,
   "metadata": {},
   "outputs": [
    {
     "data": {
      "text/plain": [
       "0.5266409266409267"
      ]
     },
     "execution_count": 62,
     "metadata": {},
     "output_type": "execute_result"
    }
   ],
   "source": [
    "df_test = model.transform(X_test)\n",
    "model.score(df_test,y_test)"
   ]
  },
  {
   "cell_type": "code",
   "execution_count": 63,
   "metadata": {},
   "outputs": [
    {
     "data": {
      "text/html": [
       "<div>\n",
       "<style scoped>\n",
       "    .dataframe tbody tr th:only-of-type {\n",
       "        vertical-align: middle;\n",
       "    }\n",
       "\n",
       "    .dataframe tbody tr th {\n",
       "        vertical-align: top;\n",
       "    }\n",
       "\n",
       "    .dataframe thead th {\n",
       "        text-align: right;\n",
       "    }\n",
       "</style>\n",
       "<table border=\"1\" class=\"dataframe\">\n",
       "  <thead>\n",
       "    <tr style=\"text-align: right;\">\n",
       "      <th></th>\n",
       "      <th>Open</th>\n",
       "      <th>High</th>\n",
       "      <th>Low</th>\n",
       "      <th>Close</th>\n",
       "      <th>Adj Close</th>\n",
       "      <th>Volume</th>\n",
       "      <th>SMA5</th>\n",
       "      <th>SMA10</th>\n",
       "      <th>StochasticK</th>\n",
       "      <th>StochasticD</th>\n",
       "      <th>...</th>\n",
       "      <th>sqrt(LarryWilliamsR)*RSI</th>\n",
       "      <th>Low/Close</th>\n",
       "      <th>MACD**2*PVT</th>\n",
       "      <th>sqrt(RSI)/ADX</th>\n",
       "      <th>ADO*Volume</th>\n",
       "      <th>ADO**2/MACD</th>\n",
       "      <th>MACD**3*PVT</th>\n",
       "      <th>log(RSI)/ADX</th>\n",
       "      <th>RSI**2/StochasticD</th>\n",
       "      <th>ADO**2*sqrt(LarryWilliamsR)</th>\n",
       "    </tr>\n",
       "  </thead>\n",
       "  <tbody>\n",
       "    <tr>\n",
       "      <th>0</th>\n",
       "      <td>560.299988</td>\n",
       "      <td>563.140015</td>\n",
       "      <td>557.460022</td>\n",
       "      <td>557.950012</td>\n",
       "      <td>557.950012</td>\n",
       "      <td>1334200.0</td>\n",
       "      <td>559.422009</td>\n",
       "      <td>553.522998</td>\n",
       "      <td>71.375297</td>\n",
       "      <td>78.923872</td>\n",
       "      <td>...</td>\n",
       "      <td>2.715841</td>\n",
       "      <td>0.999122</td>\n",
       "      <td>-8.530530e+03</td>\n",
       "      <td>0.061944</td>\n",
       "      <td>1.073470e+06</td>\n",
       "      <td>0.269722</td>\n",
       "      <td>-2.047379e+04</td>\n",
       "      <td>-0.058950</td>\n",
       "      <td>0.003265</td>\n",
       "      <td>3.463449</td>\n",
       "    </tr>\n",
       "    <tr>\n",
       "      <th>1</th>\n",
       "      <td>241.276276</td>\n",
       "      <td>245.125122</td>\n",
       "      <td>237.737732</td>\n",
       "      <td>237.972977</td>\n",
       "      <td>237.972977</td>\n",
       "      <td>6944249.0</td>\n",
       "      <td>237.913913</td>\n",
       "      <td>245.042041</td>\n",
       "      <td>19.486484</td>\n",
       "      <td>24.658512</td>\n",
       "      <td>...</td>\n",
       "      <td>2.536160</td>\n",
       "      <td>0.999011</td>\n",
       "      <td>-1.807470e+06</td>\n",
       "      <td>0.013204</td>\n",
       "      <td>5.970356e+06</td>\n",
       "      <td>-0.083906</td>\n",
       "      <td>1.592306e+07</td>\n",
       "      <td>-0.031382</td>\n",
       "      <td>0.003240</td>\n",
       "      <td>6.632607</td>\n",
       "    </tr>\n",
       "    <tr>\n",
       "      <th>2</th>\n",
       "      <td>150.890884</td>\n",
       "      <td>153.323318</td>\n",
       "      <td>149.339340</td>\n",
       "      <td>151.626633</td>\n",
       "      <td>151.626633</td>\n",
       "      <td>3839157.0</td>\n",
       "      <td>152.005005</td>\n",
       "      <td>154.439438</td>\n",
       "      <td>59.453291</td>\n",
       "      <td>53.970696</td>\n",
       "      <td>...</td>\n",
       "      <td>3.232299</td>\n",
       "      <td>0.984915</td>\n",
       "      <td>2.771673e+04</td>\n",
       "      <td>0.036224</td>\n",
       "      <td>4.012783e+06</td>\n",
       "      <td>-1.653741</td>\n",
       "      <td>-1.831025e+04</td>\n",
       "      <td>-0.034473</td>\n",
       "      <td>0.004774</td>\n",
       "      <td>6.956608</td>\n",
       "    </tr>\n",
       "    <tr>\n",
       "      <th>3</th>\n",
       "      <td>759.780029</td>\n",
       "      <td>763.229980</td>\n",
       "      <td>757.229980</td>\n",
       "      <td>759.940002</td>\n",
       "      <td>759.940002</td>\n",
       "      <td>1403900.0</td>\n",
       "      <td>751.283996</td>\n",
       "      <td>755.283002</td>\n",
       "      <td>75.710832</td>\n",
       "      <td>63.406809</td>\n",
       "      <td>...</td>\n",
       "      <td>4.484898</td>\n",
       "      <td>0.996434</td>\n",
       "      <td>-3.687209e+04</td>\n",
       "      <td>0.029756</td>\n",
       "      <td>7.534193e+05</td>\n",
       "      <td>0.017056</td>\n",
       "      <td>-6.226075e+05</td>\n",
       "      <td>-0.002941</td>\n",
       "      <td>0.013060</td>\n",
       "      <td>1.419409</td>\n",
       "    </tr>\n",
       "    <tr>\n",
       "      <th>4</th>\n",
       "      <td>396.836823</td>\n",
       "      <td>396.946960</td>\n",
       "      <td>392.422424</td>\n",
       "      <td>395.590576</td>\n",
       "      <td>395.590576</td>\n",
       "      <td>4053343.0</td>\n",
       "      <td>392.003998</td>\n",
       "      <td>396.687186</td>\n",
       "      <td>43.261774</td>\n",
       "      <td>34.769419</td>\n",
       "      <td>...</td>\n",
       "      <td>2.871339</td>\n",
       "      <td>0.991991</td>\n",
       "      <td>5.633934e+03</td>\n",
       "      <td>0.029206</td>\n",
       "      <td>1.309284e+06</td>\n",
       "      <td>-0.045623</td>\n",
       "      <td>-1.288459e+04</td>\n",
       "      <td>-0.045623</td>\n",
       "      <td>0.004179</td>\n",
       "      <td>0.785921</td>\n",
       "    </tr>\n",
       "    <tr>\n",
       "      <th>...</th>\n",
       "      <td>...</td>\n",
       "      <td>...</td>\n",
       "      <td>...</td>\n",
       "      <td>...</td>\n",
       "      <td>...</td>\n",
       "      <td>...</td>\n",
       "      <td>...</td>\n",
       "      <td>...</td>\n",
       "      <td>...</td>\n",
       "      <td>...</td>\n",
       "      <td>...</td>\n",
       "      <td>...</td>\n",
       "      <td>...</td>\n",
       "      <td>...</td>\n",
       "      <td>...</td>\n",
       "      <td>...</td>\n",
       "      <td>...</td>\n",
       "      <td>...</td>\n",
       "      <td>...</td>\n",
       "      <td>...</td>\n",
       "      <td>...</td>\n",
       "    </tr>\n",
       "    <tr>\n",
       "      <th>3016</th>\n",
       "      <td>757.159973</td>\n",
       "      <td>770.039978</td>\n",
       "      <td>755.200012</td>\n",
       "      <td>769.669983</td>\n",
       "      <td>769.669983</td>\n",
       "      <td>1583700.0</td>\n",
       "      <td>764.016016</td>\n",
       "      <td>761.010004</td>\n",
       "      <td>77.835737</td>\n",
       "      <td>75.249006</td>\n",
       "      <td>...</td>\n",
       "      <td>2.389794</td>\n",
       "      <td>0.981200</td>\n",
       "      <td>1.192342e+06</td>\n",
       "      <td>0.064331</td>\n",
       "      <td>7.619657e+05</td>\n",
       "      <td>0.025132</td>\n",
       "      <td>1.098260e+07</td>\n",
       "      <td>-0.061222</td>\n",
       "      <td>0.003424</td>\n",
       "      <td>1.089812</td>\n",
       "    </tr>\n",
       "    <tr>\n",
       "      <th>3017</th>\n",
       "      <td>197.242249</td>\n",
       "      <td>198.393387</td>\n",
       "      <td>194.369370</td>\n",
       "      <td>194.964966</td>\n",
       "      <td>194.964966</td>\n",
       "      <td>5679914.0</td>\n",
       "      <td>200.247251</td>\n",
       "      <td>200.128630</td>\n",
       "      <td>28.698397</td>\n",
       "      <td>58.424947</td>\n",
       "      <td>...</td>\n",
       "      <td>4.286308</td>\n",
       "      <td>0.996945</td>\n",
       "      <td>-3.263882e+06</td>\n",
       "      <td>0.023574</td>\n",
       "      <td>-1.850940e+06</td>\n",
       "      <td>0.021582</td>\n",
       "      <td>-1.606007e+07</td>\n",
       "      <td>-0.022434</td>\n",
       "      <td>0.004410</td>\n",
       "      <td>0.896707</td>\n",
       "    </tr>\n",
       "    <tr>\n",
       "      <th>3018</th>\n",
       "      <td>441.661652</td>\n",
       "      <td>442.332336</td>\n",
       "      <td>437.307312</td>\n",
       "      <td>440.230225</td>\n",
       "      <td>440.230225</td>\n",
       "      <td>3120077.0</td>\n",
       "      <td>434.239240</td>\n",
       "      <td>431.870871</td>\n",
       "      <td>89.010937</td>\n",
       "      <td>89.480741</td>\n",
       "      <td>...</td>\n",
       "      <td>2.239848</td>\n",
       "      <td>0.993360</td>\n",
       "      <td>4.272153e+02</td>\n",
       "      <td>0.041041</td>\n",
       "      <td>1.311433e+06</td>\n",
       "      <td>-0.071995</td>\n",
       "      <td>-1.048348e+03</td>\n",
       "      <td>-0.019574</td>\n",
       "      <td>0.005102</td>\n",
       "      <td>0.585655</td>\n",
       "    </tr>\n",
       "    <tr>\n",
       "      <th>3019</th>\n",
       "      <td>1513.270020</td>\n",
       "      <td>1529.880005</td>\n",
       "      <td>1505.449951</td>\n",
       "      <td>1510.060059</td>\n",
       "      <td>1510.060059</td>\n",
       "      <td>1742600.0</td>\n",
       "      <td>1483.970020</td>\n",
       "      <td>1469.159009</td>\n",
       "      <td>82.043898</td>\n",
       "      <td>85.105931</td>\n",
       "      <td>...</td>\n",
       "      <td>3.856135</td>\n",
       "      <td>0.996947</td>\n",
       "      <td>1.038683e+06</td>\n",
       "      <td>0.028477</td>\n",
       "      <td>1.513624e+06</td>\n",
       "      <td>0.029769</td>\n",
       "      <td>2.632411e+07</td>\n",
       "      <td>-0.002815</td>\n",
       "      <td>0.009730</td>\n",
       "      <td>3.197030</td>\n",
       "    </tr>\n",
       "    <tr>\n",
       "      <th>3020</th>\n",
       "      <td>268.768768</td>\n",
       "      <td>272.272278</td>\n",
       "      <td>268.508514</td>\n",
       "      <td>269.399414</td>\n",
       "      <td>269.399414</td>\n",
       "      <td>5574820.0</td>\n",
       "      <td>268.082086</td>\n",
       "      <td>263.809810</td>\n",
       "      <td>84.007214</td>\n",
       "      <td>77.470151</td>\n",
       "      <td>...</td>\n",
       "      <td>5.036648</td>\n",
       "      <td>0.996693</td>\n",
       "      <td>4.350369e+05</td>\n",
       "      <td>0.037105</td>\n",
       "      <td>7.405911e+06</td>\n",
       "      <td>0.563597</td>\n",
       "      <td>1.362238e+06</td>\n",
       "      <td>0.007627</td>\n",
       "      <td>0.020475</td>\n",
       "      <td>7.057604</td>\n",
       "    </tr>\n",
       "  </tbody>\n",
       "</table>\n",
       "<p>3021 rows × 37 columns</p>\n",
       "</div>"
      ],
      "text/plain": [
       "             Open         High          Low        Close    Adj Close  \\\n",
       "0      560.299988   563.140015   557.460022   557.950012   557.950012   \n",
       "1      241.276276   245.125122   237.737732   237.972977   237.972977   \n",
       "2      150.890884   153.323318   149.339340   151.626633   151.626633   \n",
       "3      759.780029   763.229980   757.229980   759.940002   759.940002   \n",
       "4      396.836823   396.946960   392.422424   395.590576   395.590576   \n",
       "...           ...          ...          ...          ...          ...   \n",
       "3016   757.159973   770.039978   755.200012   769.669983   769.669983   \n",
       "3017   197.242249   198.393387   194.369370   194.964966   194.964966   \n",
       "3018   441.661652   442.332336   437.307312   440.230225   440.230225   \n",
       "3019  1513.270020  1529.880005  1505.449951  1510.060059  1510.060059   \n",
       "3020   268.768768   272.272278   268.508514   269.399414   269.399414   \n",
       "\n",
       "         Volume         SMA5        SMA10  StochasticK  StochasticD  ...  \\\n",
       "0     1334200.0   559.422009   553.522998    71.375297    78.923872  ...   \n",
       "1     6944249.0   237.913913   245.042041    19.486484    24.658512  ...   \n",
       "2     3839157.0   152.005005   154.439438    59.453291    53.970696  ...   \n",
       "3     1403900.0   751.283996   755.283002    75.710832    63.406809  ...   \n",
       "4     4053343.0   392.003998   396.687186    43.261774    34.769419  ...   \n",
       "...         ...          ...          ...          ...          ...  ...   \n",
       "3016  1583700.0   764.016016   761.010004    77.835737    75.249006  ...   \n",
       "3017  5679914.0   200.247251   200.128630    28.698397    58.424947  ...   \n",
       "3018  3120077.0   434.239240   431.870871    89.010937    89.480741  ...   \n",
       "3019  1742600.0  1483.970020  1469.159009    82.043898    85.105931  ...   \n",
       "3020  5574820.0   268.082086   263.809810    84.007214    77.470151  ...   \n",
       "\n",
       "      sqrt(LarryWilliamsR)*RSI  Low/Close   MACD**2*PVT  sqrt(RSI)/ADX  \\\n",
       "0                     2.715841   0.999122 -8.530530e+03       0.061944   \n",
       "1                     2.536160   0.999011 -1.807470e+06       0.013204   \n",
       "2                     3.232299   0.984915  2.771673e+04       0.036224   \n",
       "3                     4.484898   0.996434 -3.687209e+04       0.029756   \n",
       "4                     2.871339   0.991991  5.633934e+03       0.029206   \n",
       "...                        ...        ...           ...            ...   \n",
       "3016                  2.389794   0.981200  1.192342e+06       0.064331   \n",
       "3017                  4.286308   0.996945 -3.263882e+06       0.023574   \n",
       "3018                  2.239848   0.993360  4.272153e+02       0.041041   \n",
       "3019                  3.856135   0.996947  1.038683e+06       0.028477   \n",
       "3020                  5.036648   0.996693  4.350369e+05       0.037105   \n",
       "\n",
       "        ADO*Volume  ADO**2/MACD   MACD**3*PVT  log(RSI)/ADX  \\\n",
       "0     1.073470e+06     0.269722 -2.047379e+04     -0.058950   \n",
       "1     5.970356e+06    -0.083906  1.592306e+07     -0.031382   \n",
       "2     4.012783e+06    -1.653741 -1.831025e+04     -0.034473   \n",
       "3     7.534193e+05     0.017056 -6.226075e+05     -0.002941   \n",
       "4     1.309284e+06    -0.045623 -1.288459e+04     -0.045623   \n",
       "...            ...          ...           ...           ...   \n",
       "3016  7.619657e+05     0.025132  1.098260e+07     -0.061222   \n",
       "3017 -1.850940e+06     0.021582 -1.606007e+07     -0.022434   \n",
       "3018  1.311433e+06    -0.071995 -1.048348e+03     -0.019574   \n",
       "3019  1.513624e+06     0.029769  2.632411e+07     -0.002815   \n",
       "3020  7.405911e+06     0.563597  1.362238e+06      0.007627   \n",
       "\n",
       "      RSI**2/StochasticD  ADO**2*sqrt(LarryWilliamsR)  \n",
       "0               0.003265                     3.463449  \n",
       "1               0.003240                     6.632607  \n",
       "2               0.004774                     6.956608  \n",
       "3               0.013060                     1.419409  \n",
       "4               0.004179                     0.785921  \n",
       "...                  ...                          ...  \n",
       "3016            0.003424                     1.089812  \n",
       "3017            0.004410                     0.896707  \n",
       "3018            0.005102                     0.585655  \n",
       "3019            0.009730                     3.197030  \n",
       "3020            0.020475                     7.057604  \n",
       "\n",
       "[3021 rows x 37 columns]"
      ]
     },
     "execution_count": 63,
     "metadata": {},
     "output_type": "execute_result"
    }
   ],
   "source": [
    "df"
   ]
  },
  {
   "cell_type": "code",
   "execution_count": 64,
   "metadata": {},
   "outputs": [
    {
     "data": {
      "text/html": [
       "<div>\n",
       "<style scoped>\n",
       "    .dataframe tbody tr th:only-of-type {\n",
       "        vertical-align: middle;\n",
       "    }\n",
       "\n",
       "    .dataframe tbody tr th {\n",
       "        vertical-align: top;\n",
       "    }\n",
       "\n",
       "    .dataframe thead th {\n",
       "        text-align: right;\n",
       "    }\n",
       "</style>\n",
       "<table border=\"1\" class=\"dataframe\">\n",
       "  <thead>\n",
       "    <tr style=\"text-align: right;\">\n",
       "      <th></th>\n",
       "      <th>Open</th>\n",
       "      <th>High</th>\n",
       "      <th>Low</th>\n",
       "      <th>Close</th>\n",
       "      <th>Adj Close</th>\n",
       "      <th>Volume</th>\n",
       "      <th>SMA5</th>\n",
       "      <th>SMA10</th>\n",
       "      <th>StochasticK</th>\n",
       "      <th>StochasticD</th>\n",
       "      <th>...</th>\n",
       "      <th>sqrt(LarryWilliamsR)*RSI</th>\n",
       "      <th>Low/Close</th>\n",
       "      <th>MACD**2*PVT</th>\n",
       "      <th>sqrt(RSI)/ADX</th>\n",
       "      <th>ADO*Volume</th>\n",
       "      <th>ADO**2/MACD</th>\n",
       "      <th>MACD**3*PVT</th>\n",
       "      <th>log(RSI)/ADX</th>\n",
       "      <th>RSI**2/StochasticD</th>\n",
       "      <th>ADO**2*sqrt(LarryWilliamsR)</th>\n",
       "    </tr>\n",
       "  </thead>\n",
       "  <tbody>\n",
       "    <tr>\n",
       "      <th>0</th>\n",
       "      <td>218.333328</td>\n",
       "      <td>219.164169</td>\n",
       "      <td>213.548553</td>\n",
       "      <td>216.516510</td>\n",
       "      <td>216.516510</td>\n",
       "      <td>6711082.0</td>\n",
       "      <td>219.378378</td>\n",
       "      <td>215.507008</td>\n",
       "      <td>74.293679</td>\n",
       "      <td>79.636092</td>\n",
       "      <td>...</td>\n",
       "      <td>4.613879</td>\n",
       "      <td>0.986292</td>\n",
       "      <td>-2.070605e+06</td>\n",
       "      <td>0.029067</td>\n",
       "      <td>1.357771e+06</td>\n",
       "      <td>0.006136</td>\n",
       "      <td>-1.381335e+07</td>\n",
       "      <td>-0.002873</td>\n",
       "      <td>0.010399</td>\n",
       "      <td>0.207533</td>\n",
       "    </tr>\n",
       "    <tr>\n",
       "      <th>1</th>\n",
       "      <td>532.599976</td>\n",
       "      <td>535.799988</td>\n",
       "      <td>527.880005</td>\n",
       "      <td>529.549988</td>\n",
       "      <td>529.549988</td>\n",
       "      <td>1324000.0</td>\n",
       "      <td>534.864002</td>\n",
       "      <td>531.697998</td>\n",
       "      <td>69.234044</td>\n",
       "      <td>74.112112</td>\n",
       "      <td>...</td>\n",
       "      <td>2.114374</td>\n",
       "      <td>0.996846</td>\n",
       "      <td>-1.523444e+04</td>\n",
       "      <td>0.028027</td>\n",
       "      <td>8.592670e+05</td>\n",
       "      <td>-0.179581</td>\n",
       "      <td>3.573102e+04</td>\n",
       "      <td>-0.043781</td>\n",
       "      <td>0.001961</td>\n",
       "      <td>2.336229</td>\n",
       "    </tr>\n",
       "    <tr>\n",
       "      <th>2</th>\n",
       "      <td>317.137146</td>\n",
       "      <td>321.026031</td>\n",
       "      <td>304.804810</td>\n",
       "      <td>311.311310</td>\n",
       "      <td>311.311310</td>\n",
       "      <td>23574402.0</td>\n",
       "      <td>306.930927</td>\n",
       "      <td>298.473471</td>\n",
       "      <td>76.157712</td>\n",
       "      <td>88.232808</td>\n",
       "      <td>...</td>\n",
       "      <td>3.299227</td>\n",
       "      <td>0.979100</td>\n",
       "      <td>-1.768041e+07</td>\n",
       "      <td>0.017192</td>\n",
       "      <td>1.165266e+07</td>\n",
       "      <td>0.020771</td>\n",
       "      <td>-2.079674e+08</td>\n",
       "      <td>-0.008200</td>\n",
       "      <td>0.005174</td>\n",
       "      <td>1.193006</td>\n",
       "    </tr>\n",
       "    <tr>\n",
       "      <th>3</th>\n",
       "      <td>1244.280029</td>\n",
       "      <td>1251.979980</td>\n",
       "      <td>1226.239990</td>\n",
       "      <td>1232.219971</td>\n",
       "      <td>1232.219971</td>\n",
       "      <td>1852600.0</td>\n",
       "      <td>1251.193994</td>\n",
       "      <td>1249.009998</td>\n",
       "      <td>21.302365</td>\n",
       "      <td>40.057665</td>\n",
       "      <td>...</td>\n",
       "      <td>3.381640</td>\n",
       "      <td>0.995147</td>\n",
       "      <td>-1.144168e+07</td>\n",
       "      <td>0.033510</td>\n",
       "      <td>-4.433600e+05</td>\n",
       "      <td>0.003308</td>\n",
       "      <td>-1.981028e+08</td>\n",
       "      <td>-0.052345</td>\n",
       "      <td>0.003627</td>\n",
       "      <td>0.508078</td>\n",
       "    </tr>\n",
       "    <tr>\n",
       "      <th>4</th>\n",
       "      <td>1211.290039</td>\n",
       "      <td>1220.550049</td>\n",
       "      <td>1209.040039</td>\n",
       "      <td>1219.449951</td>\n",
       "      <td>1219.449951</td>\n",
       "      <td>1051100.0</td>\n",
       "      <td>1202.334009</td>\n",
       "      <td>1195.682007</td>\n",
       "      <td>76.729193</td>\n",
       "      <td>66.433873</td>\n",
       "      <td>...</td>\n",
       "      <td>3.259448</td>\n",
       "      <td>0.991463</td>\n",
       "      <td>1.829103e+06</td>\n",
       "      <td>0.043621</td>\n",
       "      <td>8.894609e+05</td>\n",
       "      <td>0.045855</td>\n",
       "      <td>2.856400e+07</td>\n",
       "      <td>-0.020805</td>\n",
       "      <td>0.006872</td>\n",
       "      <td>3.454390</td>\n",
       "    </tr>\n",
       "    <tr>\n",
       "      <th>...</th>\n",
       "      <td>...</td>\n",
       "      <td>...</td>\n",
       "      <td>...</td>\n",
       "      <td>...</td>\n",
       "      <td>...</td>\n",
       "      <td>...</td>\n",
       "      <td>...</td>\n",
       "      <td>...</td>\n",
       "      <td>...</td>\n",
       "      <td>...</td>\n",
       "      <td>...</td>\n",
       "      <td>...</td>\n",
       "      <td>...</td>\n",
       "      <td>...</td>\n",
       "      <td>...</td>\n",
       "      <td>...</td>\n",
       "      <td>...</td>\n",
       "      <td>...</td>\n",
       "      <td>...</td>\n",
       "      <td>...</td>\n",
       "      <td>...</td>\n",
       "    </tr>\n",
       "    <tr>\n",
       "      <th>1290</th>\n",
       "      <td>305.005005</td>\n",
       "      <td>305.305298</td>\n",
       "      <td>296.621613</td>\n",
       "      <td>297.347351</td>\n",
       "      <td>297.347351</td>\n",
       "      <td>12815771.0</td>\n",
       "      <td>307.615619</td>\n",
       "      <td>308.720722</td>\n",
       "      <td>3.933869</td>\n",
       "      <td>43.387724</td>\n",
       "      <td>...</td>\n",
       "      <td>8.919312</td>\n",
       "      <td>0.997559</td>\n",
       "      <td>-6.319697e+06</td>\n",
       "      <td>0.022588</td>\n",
       "      <td>1.285239e+06</td>\n",
       "      <td>0.002185</td>\n",
       "      <td>-2.908605e+07</td>\n",
       "      <td>-0.002233</td>\n",
       "      <td>0.019086</td>\n",
       "      <td>0.098574</td>\n",
       "    </tr>\n",
       "    <tr>\n",
       "      <th>1291</th>\n",
       "      <td>95.985985</td>\n",
       "      <td>96.856857</td>\n",
       "      <td>95.985985</td>\n",
       "      <td>96.546547</td>\n",
       "      <td>96.546547</td>\n",
       "      <td>5350844.0</td>\n",
       "      <td>95.272272</td>\n",
       "      <td>92.936436</td>\n",
       "      <td>97.408296</td>\n",
       "      <td>96.220092</td>\n",
       "      <td>...</td>\n",
       "      <td>2.027553</td>\n",
       "      <td>0.994194</td>\n",
       "      <td>2.460943e+04</td>\n",
       "      <td>0.052883</td>\n",
       "      <td>2.337133e+06</td>\n",
       "      <td>0.075811</td>\n",
       "      <td>6.192872e+04</td>\n",
       "      <td>0.010870</td>\n",
       "      <td>0.016485</td>\n",
       "      <td>0.307125</td>\n",
       "    </tr>\n",
       "    <tr>\n",
       "      <th>1292</th>\n",
       "      <td>588.960022</td>\n",
       "      <td>591.989990</td>\n",
       "      <td>577.679993</td>\n",
       "      <td>579.549988</td>\n",
       "      <td>579.549988</td>\n",
       "      <td>2309500.0</td>\n",
       "      <td>593.208008</td>\n",
       "      <td>598.136005</td>\n",
       "      <td>8.421748</td>\n",
       "      <td>41.921945</td>\n",
       "      <td>...</td>\n",
       "      <td>2.704820</td>\n",
       "      <td>0.996773</td>\n",
       "      <td>-1.364914e+06</td>\n",
       "      <td>0.032636</td>\n",
       "      <td>-5.567997e+05</td>\n",
       "      <td>0.012351</td>\n",
       "      <td>-6.423268e+06</td>\n",
       "      <td>-0.077565</td>\n",
       "      <td>0.001906</td>\n",
       "      <td>0.556235</td>\n",
       "    </tr>\n",
       "    <tr>\n",
       "      <th>1293</th>\n",
       "      <td>152.632629</td>\n",
       "      <td>154.134140</td>\n",
       "      <td>151.521515</td>\n",
       "      <td>151.791794</td>\n",
       "      <td>151.791794</td>\n",
       "      <td>14141444.0</td>\n",
       "      <td>150.433432</td>\n",
       "      <td>152.954454</td>\n",
       "      <td>41.176482</td>\n",
       "      <td>35.272317</td>\n",
       "      <td>...</td>\n",
       "      <td>2.923627</td>\n",
       "      <td>0.998219</td>\n",
       "      <td>-1.439221e+03</td>\n",
       "      <td>0.026088</td>\n",
       "      <td>8.018917e+06</td>\n",
       "      <td>2.393535</td>\n",
       "      <td>-1.933444e+02</td>\n",
       "      <td>-0.040752</td>\n",
       "      <td>0.004120</td>\n",
       "      <td>2.466149</td>\n",
       "    </tr>\n",
       "    <tr>\n",
       "      <th>1294</th>\n",
       "      <td>846.979980</td>\n",
       "      <td>851.520020</td>\n",
       "      <td>842.280029</td>\n",
       "      <td>849.530029</td>\n",
       "      <td>849.530029</td>\n",
       "      <td>1688400.0</td>\n",
       "      <td>835.104004</td>\n",
       "      <td>831.932007</td>\n",
       "      <td>95.802595</td>\n",
       "      <td>93.043511</td>\n",
       "      <td>...</td>\n",
       "      <td>2.580298</td>\n",
       "      <td>0.991466</td>\n",
       "      <td>9.787994e+05</td>\n",
       "      <td>0.068373</td>\n",
       "      <td>1.295543e+06</td>\n",
       "      <td>0.060096</td>\n",
       "      <td>9.589546e+06</td>\n",
       "      <td>0.014054</td>\n",
       "      <td>0.017048</td>\n",
       "      <td>1.206266</td>\n",
       "    </tr>\n",
       "  </tbody>\n",
       "</table>\n",
       "<p>1295 rows × 37 columns</p>\n",
       "</div>"
      ],
      "text/plain": [
       "             Open         High          Low        Close    Adj Close  \\\n",
       "0      218.333328   219.164169   213.548553   216.516510   216.516510   \n",
       "1      532.599976   535.799988   527.880005   529.549988   529.549988   \n",
       "2      317.137146   321.026031   304.804810   311.311310   311.311310   \n",
       "3     1244.280029  1251.979980  1226.239990  1232.219971  1232.219971   \n",
       "4     1211.290039  1220.550049  1209.040039  1219.449951  1219.449951   \n",
       "...           ...          ...          ...          ...          ...   \n",
       "1290   305.005005   305.305298   296.621613   297.347351   297.347351   \n",
       "1291    95.985985    96.856857    95.985985    96.546547    96.546547   \n",
       "1292   588.960022   591.989990   577.679993   579.549988   579.549988   \n",
       "1293   152.632629   154.134140   151.521515   151.791794   151.791794   \n",
       "1294   846.979980   851.520020   842.280029   849.530029   849.530029   \n",
       "\n",
       "          Volume         SMA5        SMA10  StochasticK  StochasticD  ...  \\\n",
       "0      6711082.0   219.378378   215.507008    74.293679    79.636092  ...   \n",
       "1      1324000.0   534.864002   531.697998    69.234044    74.112112  ...   \n",
       "2     23574402.0   306.930927   298.473471    76.157712    88.232808  ...   \n",
       "3      1852600.0  1251.193994  1249.009998    21.302365    40.057665  ...   \n",
       "4      1051100.0  1202.334009  1195.682007    76.729193    66.433873  ...   \n",
       "...          ...          ...          ...          ...          ...  ...   \n",
       "1290  12815771.0   307.615619   308.720722     3.933869    43.387724  ...   \n",
       "1291   5350844.0    95.272272    92.936436    97.408296    96.220092  ...   \n",
       "1292   2309500.0   593.208008   598.136005     8.421748    41.921945  ...   \n",
       "1293  14141444.0   150.433432   152.954454    41.176482    35.272317  ...   \n",
       "1294   1688400.0   835.104004   831.932007    95.802595    93.043511  ...   \n",
       "\n",
       "      sqrt(LarryWilliamsR)*RSI  Low/Close   MACD**2*PVT  sqrt(RSI)/ADX  \\\n",
       "0                     4.613879   0.986292 -2.070605e+06       0.029067   \n",
       "1                     2.114374   0.996846 -1.523444e+04       0.028027   \n",
       "2                     3.299227   0.979100 -1.768041e+07       0.017192   \n",
       "3                     3.381640   0.995147 -1.144168e+07       0.033510   \n",
       "4                     3.259448   0.991463  1.829103e+06       0.043621   \n",
       "...                        ...        ...           ...            ...   \n",
       "1290                  8.919312   0.997559 -6.319697e+06       0.022588   \n",
       "1291                  2.027553   0.994194  2.460943e+04       0.052883   \n",
       "1292                  2.704820   0.996773 -1.364914e+06       0.032636   \n",
       "1293                  2.923627   0.998219 -1.439221e+03       0.026088   \n",
       "1294                  2.580298   0.991466  9.787994e+05       0.068373   \n",
       "\n",
       "        ADO*Volume  ADO**2/MACD   MACD**3*PVT  log(RSI)/ADX  \\\n",
       "0     1.357771e+06     0.006136 -1.381335e+07     -0.002873   \n",
       "1     8.592670e+05    -0.179581  3.573102e+04     -0.043781   \n",
       "2     1.165266e+07     0.020771 -2.079674e+08     -0.008200   \n",
       "3    -4.433600e+05     0.003308 -1.981028e+08     -0.052345   \n",
       "4     8.894609e+05     0.045855  2.856400e+07     -0.020805   \n",
       "...            ...          ...           ...           ...   \n",
       "1290  1.285239e+06     0.002185 -2.908605e+07     -0.002233   \n",
       "1291  2.337133e+06     0.075811  6.192872e+04      0.010870   \n",
       "1292 -5.567997e+05     0.012351 -6.423268e+06     -0.077565   \n",
       "1293  8.018917e+06     2.393535 -1.933444e+02     -0.040752   \n",
       "1294  1.295543e+06     0.060096  9.589546e+06      0.014054   \n",
       "\n",
       "      RSI**2/StochasticD  ADO**2*sqrt(LarryWilliamsR)  \n",
       "0               0.010399                     0.207533  \n",
       "1               0.001961                     2.336229  \n",
       "2               0.005174                     1.193006  \n",
       "3               0.003627                     0.508078  \n",
       "4               0.006872                     3.454390  \n",
       "...                  ...                          ...  \n",
       "1290            0.019086                     0.098574  \n",
       "1291            0.016485                     0.307125  \n",
       "1292            0.001906                     0.556235  \n",
       "1293            0.004120                     2.466149  \n",
       "1294            0.017048                     1.206266  \n",
       "\n",
       "[1295 rows x 37 columns]"
      ]
     },
     "execution_count": 64,
     "metadata": {},
     "output_type": "execute_result"
    }
   ],
   "source": [
    "df_test"
   ]
  },
  {
   "cell_type": "markdown",
   "metadata": {},
   "source": [
    "### Generate New Features Based on autofeat Results"
   ]
  },
  {
   "cell_type": "code",
   "execution_count": null,
   "metadata": {},
   "outputs": [],
   "source": [
    "import math"
   ]
  },
  {
   "cell_type": "code",
   "execution_count": 65,
   "metadata": {},
   "outputs": [
    {
     "data": {
      "text/plain": [
       "Index(['Open', 'High', 'Low', 'Close', 'Adj Close', 'Volume', 'SMA5', 'SMA10',\n",
       "       'StochasticK', 'StochasticD', 'LarryWilliamsR', 'ROC', 'PVT', 'ADO',\n",
       "       'WMA10', 'EMA12', 'EMA26', 'MACD', 'Momentum', 'RSI', 'CCI', 'DI',\n",
       "       'ADX', 'Aroon', 'sqrt(StochasticD)/RSI', 'StochasticD/RSI',\n",
       "       'sqrt(Volume)*log(RSI)', 'sqrt(LarryWilliamsR)*RSI', 'Low/Close',\n",
       "       'MACD**2*PVT', 'sqrt(RSI)/ADX', 'ADO*Volume', 'ADO**2/MACD',\n",
       "       'MACD**3*PVT', 'log(RSI)/ADX', 'RSI**2/StochasticD',\n",
       "       'ADO**2*sqrt(LarryWilliamsR)'],\n",
       "      dtype='object')"
      ]
     },
     "execution_count": 65,
     "metadata": {},
     "output_type": "execute_result"
    }
   ],
   "source": [
    "df_test.columns"
   ]
  },
  {
   "cell_type": "code",
   "execution_count": 79,
   "metadata": {},
   "outputs": [],
   "source": [
    "def sqrt_stochastic_d_rsi (stochastic_d, rsi):\n",
    "    return (np.sqrt(stochastic_d)/rsi)"
   ]
  },
  {
   "cell_type": "code",
   "execution_count": 67,
   "metadata": {},
   "outputs": [],
   "source": [
    "def stochastic_d_rsi (stochastic_d, rsi): \n",
    "    return (stochastic_d / rsi)"
   ]
  },
  {
   "cell_type": "code",
   "execution_count": 68,
   "metadata": {},
   "outputs": [],
   "source": [
    "def sqrt_volume_log_rsi (volume, rsi):\n",
    "    return (np.sqrt(volume)*np.log(rsi))"
   ]
  },
  {
   "cell_type": "code",
   "execution_count": 82,
   "metadata": {},
   "outputs": [],
   "source": [
    "def sqrt_lwr_rsi (larry_williams_r, rsi):\n",
    "    return (np.sqrt(larry_williams_r)*rsi)"
   ]
  },
  {
   "cell_type": "code",
   "execution_count": 69,
   "metadata": {},
   "outputs": [],
   "source": [
    "def low_close (low, close):\n",
    "    return (low / close)"
   ]
  },
  {
   "cell_type": "code",
   "execution_count": 70,
   "metadata": {},
   "outputs": [],
   "source": [
    "def macd_2_pvt (macd, pvt):\n",
    "    return ((macd**2)*pvt)"
   ]
  },
  {
   "cell_type": "code",
   "execution_count": 71,
   "metadata": {},
   "outputs": [],
   "source": [
    "def sqrt_rsi_adx (rsi, adx):\n",
    "    return (np.sqrt(rsi)/adx)"
   ]
  },
  {
   "cell_type": "code",
   "execution_count": 72,
   "metadata": {},
   "outputs": [],
   "source": [
    "def ado_volume (ado, volume):\n",
    "    return (ado * volume)"
   ]
  },
  {
   "cell_type": "code",
   "execution_count": 73,
   "metadata": {},
   "outputs": [],
   "source": [
    "def ado_2_macd (ado, macd):\n",
    "    return ((ado**2)/macd)"
   ]
  },
  {
   "cell_type": "code",
   "execution_count": 74,
   "metadata": {},
   "outputs": [],
   "source": [
    "def macd_3_pvt (macd, pvt):\n",
    "    return ((macd**3)* pvt)"
   ]
  },
  {
   "cell_type": "code",
   "execution_count": 75,
   "metadata": {},
   "outputs": [],
   "source": [
    "def log_rsi_adx (rsi, adx): \n",
    "    return (np.log(rsi)/adx)"
   ]
  },
  {
   "cell_type": "code",
   "execution_count": 83,
   "metadata": {},
   "outputs": [],
   "source": [
    "def rsi_2_stochastic_d (rsi, stochastic_d):\n",
    "    return ((rsi**2) / stochastic_d)"
   ]
  },
  {
   "cell_type": "code",
   "execution_count": 76,
   "metadata": {},
   "outputs": [],
   "source": [
    "def ado_2_sqrt_lwr (ado, larrywilliamsr):\n",
    "    return ((ado**2)*np.sqrt(larrywilliamsr))"
   ]
  },
  {
   "cell_type": "code",
   "execution_count": 86,
   "metadata": {},
   "outputs": [],
   "source": [
    "def compute_adv_indicators(complete_data):\n",
    "    complete_data['sqrt(StochasticD)/RSI'] = sqrt_stochastic_d_rsi(complete_data['StochasticD'], complete_data['RSI'])\n",
    "    complete_data['StochasticD/RSI'] = stochastic_d_rsi(complete_data['StochasticD'], complete_data['RSI'])\n",
    "    complete_data['sqrt(Volume)*log(RSI)'] =  sqrt_volume_log_rsi(complete_data['Volume'], complete_data['RSI'])\n",
    "    complete_data['sqrt(LarryWilliamsR)*RSI'] = sqrt_lwr_rsi(complete_data['LarryWilliamsR'], complete_data['RSI'])\n",
    "    complete_data['Low/Close'] = low_close(complete_data['Low'], complete_data['Close'])\n",
    "    complete_data['MACD**2*PVT'] = macd_2_pvt(complete_data['MACD'], complete_data['PVT'])\n",
    "    complete_data['sqrt(RSI)/ADX'] = sqrt_rsi_adx(complete_data['RSI'], complete_data['ADX'])\n",
    "    complete_data['ADO*Volume'] =  ado_volume(complete_data['ADO'], complete_data['Volume'])\n",
    "    complete_data['ADO**2/MACD'] = ado_2_macd(complete_data['ADO'], complete_data['MACD']) \n",
    "    complete_data['MACD**3*PVT'] = macd_3_pvt(complete_data['MACD'], complete_data['PVT'])\n",
    "    complete_data['log(RSI)/ADX'] = log_rsi_adx(complete_data['RSI'], complete_data['ADX'])\n",
    "    complete_data['RSI**2/StochasticD'] = rsi_2_stochastic_d(complete_data['RSI'], complete_data['StochasticD'])\n",
    "    complete_data['ADO**2*sqrt(LarryWilliamsR)'] = ado_2_sqrt_lwr(complete_data['ADO'], complete_data['LarryWilliamsR'])\n",
    "    return complete_data"
   ]
  },
  {
   "cell_type": "code",
   "execution_count": 87,
   "metadata": {},
   "outputs": [
    {
     "data": {
      "text/html": [
       "<div>\n",
       "<style scoped>\n",
       "    .dataframe tbody tr th:only-of-type {\n",
       "        vertical-align: middle;\n",
       "    }\n",
       "\n",
       "    .dataframe tbody tr th {\n",
       "        vertical-align: top;\n",
       "    }\n",
       "\n",
       "    .dataframe thead th {\n",
       "        text-align: right;\n",
       "    }\n",
       "</style>\n",
       "<table border=\"1\" class=\"dataframe\">\n",
       "  <thead>\n",
       "    <tr style=\"text-align: right;\">\n",
       "      <th></th>\n",
       "      <th>Open</th>\n",
       "      <th>High</th>\n",
       "      <th>Low</th>\n",
       "      <th>Close</th>\n",
       "      <th>Adj Close</th>\n",
       "      <th>Volume</th>\n",
       "      <th>SMA5</th>\n",
       "      <th>SMA10</th>\n",
       "      <th>StochasticK</th>\n",
       "      <th>StochasticD</th>\n",
       "      <th>...</th>\n",
       "      <th>sqrt(LarryWilliamsR)*RSI</th>\n",
       "      <th>Low/Close</th>\n",
       "      <th>MACD**2*PVT</th>\n",
       "      <th>sqrt(RSI)/ADX</th>\n",
       "      <th>ADO*Volume</th>\n",
       "      <th>ADO**2/MACD</th>\n",
       "      <th>MACD**3*PVT</th>\n",
       "      <th>log(RSI)/ADX</th>\n",
       "      <th>RSI**2/StochasticD</th>\n",
       "      <th>ADO**2*sqrt(LarryWilliamsR)</th>\n",
       "    </tr>\n",
       "  </thead>\n",
       "  <tbody>\n",
       "    <tr>\n",
       "      <th>0</th>\n",
       "      <td>51.316315</td>\n",
       "      <td>51.406406</td>\n",
       "      <td>50.550552</td>\n",
       "      <td>51.206207</td>\n",
       "      <td>51.206207</td>\n",
       "      <td>4061734</td>\n",
       "      <td>50.821821</td>\n",
       "      <td>51.371371</td>\n",
       "      <td>23.177440</td>\n",
       "      <td>29.682331</td>\n",
       "      <td>...</td>\n",
       "      <td>7.976100</td>\n",
       "      <td>0.987196</td>\n",
       "      <td>1.959274e+00</td>\n",
       "      <td>0.072327</td>\n",
       "      <td>9.738624e+05</td>\n",
       "      <td>0.818356</td>\n",
       "      <td>1.376338e-01</td>\n",
       "      <td>-0.007150</td>\n",
       "      <td>0.027899</td>\n",
       "      <td>0.503868</td>\n",
       "    </tr>\n",
       "    <tr>\n",
       "      <th>1</th>\n",
       "      <td>50.850849</td>\n",
       "      <td>53.333332</td>\n",
       "      <td>50.700703</td>\n",
       "      <td>52.717716</td>\n",
       "      <td>52.717716</td>\n",
       "      <td>8698892</td>\n",
       "      <td>51.204204</td>\n",
       "      <td>51.242242</td>\n",
       "      <td>43.947690</td>\n",
       "      <td>34.437451</td>\n",
       "      <td>...</td>\n",
       "      <td>6.813072</td>\n",
       "      <td>0.961739</td>\n",
       "      <td>8.579413e+03</td>\n",
       "      <td>0.071840</td>\n",
       "      <td>7.028575e+06</td>\n",
       "      <td>3.571527</td>\n",
       "      <td>1.568232e+03</td>\n",
       "      <td>-0.007102</td>\n",
       "      <td>0.024047</td>\n",
       "      <td>4.887688</td>\n",
       "    </tr>\n",
       "    <tr>\n",
       "      <th>2</th>\n",
       "      <td>53.368366</td>\n",
       "      <td>54.259258</td>\n",
       "      <td>53.283283</td>\n",
       "      <td>53.803802</td>\n",
       "      <td>53.803802</td>\n",
       "      <td>7844148</td>\n",
       "      <td>51.953953</td>\n",
       "      <td>51.309809</td>\n",
       "      <td>67.614480</td>\n",
       "      <td>44.913203</td>\n",
       "      <td>...</td>\n",
       "      <td>7.167289</td>\n",
       "      <td>0.990326</td>\n",
       "      <td>2.042602e+04</td>\n",
       "      <td>0.078132</td>\n",
       "      <td>1.238975e+07</td>\n",
       "      <td>7.017269</td>\n",
       "      <td>7.261878e+03</td>\n",
       "      <td>0.016059</td>\n",
       "      <td>0.035317</td>\n",
       "      <td>14.197399</td>\n",
       "    </tr>\n",
       "    <tr>\n",
       "      <th>3</th>\n",
       "      <td>53.778778</td>\n",
       "      <td>56.056057</td>\n",
       "      <td>53.448448</td>\n",
       "      <td>55.800800</td>\n",
       "      <td>55.800800</td>\n",
       "      <td>10828960</td>\n",
       "      <td>52.945945</td>\n",
       "      <td>51.784284</td>\n",
       "      <td>96.094920</td>\n",
       "      <td>69.219030</td>\n",
       "      <td>...</td>\n",
       "      <td>2.488826</td>\n",
       "      <td>0.957844</td>\n",
       "      <td>1.677865e+05</td>\n",
       "      <td>0.063286</td>\n",
       "      <td>9.353235e+06</td>\n",
       "      <td>1.154642</td>\n",
       "      <td>1.084076e+05</td>\n",
       "      <td>0.013008</td>\n",
       "      <td>0.022916</td>\n",
       "      <td>1.474230</td>\n",
       "    </tr>\n",
       "    <tr>\n",
       "      <th>4</th>\n",
       "      <td>55.335335</td>\n",
       "      <td>57.172173</td>\n",
       "      <td>55.155155</td>\n",
       "      <td>56.056057</td>\n",
       "      <td>56.056057</td>\n",
       "      <td>10713076</td>\n",
       "      <td>53.916916</td>\n",
       "      <td>52.266266</td>\n",
       "      <td>85.415306</td>\n",
       "      <td>83.041569</td>\n",
       "      <td>...</td>\n",
       "      <td>4.809813</td>\n",
       "      <td>0.983929</td>\n",
       "      <td>3.853652e+04</td>\n",
       "      <td>0.048824</td>\n",
       "      <td>7.283833e+06</td>\n",
       "      <td>0.521292</td>\n",
       "      <td>3.417299e+04</td>\n",
       "      <td>0.010035</td>\n",
       "      <td>0.019101</td>\n",
       "      <td>1.765389</td>\n",
       "    </tr>\n",
       "    <tr>\n",
       "      <th>...</th>\n",
       "      <td>...</td>\n",
       "      <td>...</td>\n",
       "      <td>...</td>\n",
       "      <td>...</td>\n",
       "      <td>...</td>\n",
       "      <td>...</td>\n",
       "      <td>...</td>\n",
       "      <td>...</td>\n",
       "      <td>...</td>\n",
       "      <td>...</td>\n",
       "      <td>...</td>\n",
       "      <td>...</td>\n",
       "      <td>...</td>\n",
       "      <td>...</td>\n",
       "      <td>...</td>\n",
       "      <td>...</td>\n",
       "      <td>...</td>\n",
       "      <td>...</td>\n",
       "      <td>...</td>\n",
       "      <td>...</td>\n",
       "      <td>...</td>\n",
       "    </tr>\n",
       "    <tr>\n",
       "      <th>4311</th>\n",
       "      <td>2783.000000</td>\n",
       "      <td>2811.659912</td>\n",
       "      <td>2721.120117</td>\n",
       "      <td>2751.330078</td>\n",
       "      <td>2751.330078</td>\n",
       "      <td>2527700</td>\n",
       "      <td>2828.945996</td>\n",
       "      <td>2805.401001</td>\n",
       "      <td>36.641914</td>\n",
       "      <td>69.181246</td>\n",
       "      <td>...</td>\n",
       "      <td>7.243480</td>\n",
       "      <td>0.989020</td>\n",
       "      <td>-5.875451e+06</td>\n",
       "      <td>0.064957</td>\n",
       "      <td>-7.275476e+05</td>\n",
       "      <td>0.009481</td>\n",
       "      <td>-5.133958e+07</td>\n",
       "      <td>-0.006421</td>\n",
       "      <td>0.011970</td>\n",
       "      <td>0.659436</td>\n",
       "    </tr>\n",
       "    <tr>\n",
       "      <th>4312</th>\n",
       "      <td>2751.000000</td>\n",
       "      <td>2760.000000</td>\n",
       "      <td>2708.479980</td>\n",
       "      <td>2748.939941</td>\n",
       "      <td>2748.939941</td>\n",
       "      <td>1720600</td>\n",
       "      <td>2807.621973</td>\n",
       "      <td>2802.466992</td>\n",
       "      <td>31.791463</td>\n",
       "      <td>51.449377</td>\n",
       "      <td>...</td>\n",
       "      <td>7.515633</td>\n",
       "      <td>0.985282</td>\n",
       "      <td>-2.274792e+04</td>\n",
       "      <td>0.062418</td>\n",
       "      <td>2.895470e+05</td>\n",
       "      <td>0.007259</td>\n",
       "      <td>-8.874268e+04</td>\n",
       "      <td>-0.006170</td>\n",
       "      <td>0.016096</td>\n",
       "      <td>0.233882</td>\n",
       "    </tr>\n",
       "    <tr>\n",
       "      <th>4313</th>\n",
       "      <td>2785.270020</td>\n",
       "      <td>2801.659912</td>\n",
       "      <td>2766.090088</td>\n",
       "      <td>2786.169922</td>\n",
       "      <td>2786.169922</td>\n",
       "      <td>2461800</td>\n",
       "      <td>2791.907959</td>\n",
       "      <td>2808.185986</td>\n",
       "      <td>47.150533</td>\n",
       "      <td>38.527970</td>\n",
       "      <td>...</td>\n",
       "      <td>6.615559</td>\n",
       "      <td>0.992793</td>\n",
       "      <td>3.075249e+05</td>\n",
       "      <td>0.059868</td>\n",
       "      <td>3.648768e+06</td>\n",
       "      <td>0.723331</td>\n",
       "      <td>9.339644e+05</td>\n",
       "      <td>-0.005918</td>\n",
       "      <td>0.021494</td>\n",
       "      <td>15.970084</td>\n",
       "    </tr>\n",
       "    <tr>\n",
       "      <th>4314</th>\n",
       "      <td>2788.100098</td>\n",
       "      <td>2973.000000</td>\n",
       "      <td>2788.100098</td>\n",
       "      <td>2924.350098</td>\n",
       "      <td>2924.350098</td>\n",
       "      <td>4289100</td>\n",
       "      <td>2809.702002</td>\n",
       "      <td>2825.457007</td>\n",
       "      <td>81.608234</td>\n",
       "      <td>53.516743</td>\n",
       "      <td>...</td>\n",
       "      <td>2.897677</td>\n",
       "      <td>0.953408</td>\n",
       "      <td>3.790175e+07</td>\n",
       "      <td>0.052180</td>\n",
       "      <td>4.333874e+06</td>\n",
       "      <td>0.076488</td>\n",
       "      <td>5.059257e+08</td>\n",
       "      <td>-0.024887</td>\n",
       "      <td>0.008531</td>\n",
       "      <td>4.378566</td>\n",
       "    </tr>\n",
       "    <tr>\n",
       "      <th>4315</th>\n",
       "      <td>2942.689941</td>\n",
       "      <td>2943.159912</td>\n",
       "      <td>2892.540039</td>\n",
       "      <td>2916.979980</td>\n",
       "      <td>2916.979980</td>\n",
       "      <td>1810300</td>\n",
       "      <td>2825.554004</td>\n",
       "      <td>2834.853003</td>\n",
       "      <td>78.822011</td>\n",
       "      <td>69.193593</td>\n",
       "      <td>...</td>\n",
       "      <td>4.187825</td>\n",
       "      <td>0.991621</td>\n",
       "      <td>-1.952491e+06</td>\n",
       "      <td>0.058917</td>\n",
       "      <td>6.726885e+05</td>\n",
       "      <td>0.006675</td>\n",
       "      <td>-4.039111e+07</td>\n",
       "      <td>-0.005824</td>\n",
       "      <td>0.011968</td>\n",
       "      <td>0.635432</td>\n",
       "    </tr>\n",
       "  </tbody>\n",
       "</table>\n",
       "<p>4316 rows × 37 columns</p>\n",
       "</div>"
      ],
      "text/plain": [
       "             Open         High          Low        Close    Adj Close  \\\n",
       "0       51.316315    51.406406    50.550552    51.206207    51.206207   \n",
       "1       50.850849    53.333332    50.700703    52.717716    52.717716   \n",
       "2       53.368366    54.259258    53.283283    53.803802    53.803802   \n",
       "3       53.778778    56.056057    53.448448    55.800800    55.800800   \n",
       "4       55.335335    57.172173    55.155155    56.056057    56.056057   \n",
       "...           ...          ...          ...          ...          ...   \n",
       "4311  2783.000000  2811.659912  2721.120117  2751.330078  2751.330078   \n",
       "4312  2751.000000  2760.000000  2708.479980  2748.939941  2748.939941   \n",
       "4313  2785.270020  2801.659912  2766.090088  2786.169922  2786.169922   \n",
       "4314  2788.100098  2973.000000  2788.100098  2924.350098  2924.350098   \n",
       "4315  2942.689941  2943.159912  2892.540039  2916.979980  2916.979980   \n",
       "\n",
       "        Volume         SMA5        SMA10  StochasticK  StochasticD  ...  \\\n",
       "0      4061734    50.821821    51.371371    23.177440    29.682331  ...   \n",
       "1      8698892    51.204204    51.242242    43.947690    34.437451  ...   \n",
       "2      7844148    51.953953    51.309809    67.614480    44.913203  ...   \n",
       "3     10828960    52.945945    51.784284    96.094920    69.219030  ...   \n",
       "4     10713076    53.916916    52.266266    85.415306    83.041569  ...   \n",
       "...        ...          ...          ...          ...          ...  ...   \n",
       "4311   2527700  2828.945996  2805.401001    36.641914    69.181246  ...   \n",
       "4312   1720600  2807.621973  2802.466992    31.791463    51.449377  ...   \n",
       "4313   2461800  2791.907959  2808.185986    47.150533    38.527970  ...   \n",
       "4314   4289100  2809.702002  2825.457007    81.608234    53.516743  ...   \n",
       "4315   1810300  2825.554004  2834.853003    78.822011    69.193593  ...   \n",
       "\n",
       "      sqrt(LarryWilliamsR)*RSI  Low/Close   MACD**2*PVT  sqrt(RSI)/ADX  \\\n",
       "0                     7.976100   0.987196  1.959274e+00       0.072327   \n",
       "1                     6.813072   0.961739  8.579413e+03       0.071840   \n",
       "2                     7.167289   0.990326  2.042602e+04       0.078132   \n",
       "3                     2.488826   0.957844  1.677865e+05       0.063286   \n",
       "4                     4.809813   0.983929  3.853652e+04       0.048824   \n",
       "...                        ...        ...           ...            ...   \n",
       "4311                  7.243480   0.989020 -5.875451e+06       0.064957   \n",
       "4312                  7.515633   0.985282 -2.274792e+04       0.062418   \n",
       "4313                  6.615559   0.992793  3.075249e+05       0.059868   \n",
       "4314                  2.897677   0.953408  3.790175e+07       0.052180   \n",
       "4315                  4.187825   0.991621 -1.952491e+06       0.058917   \n",
       "\n",
       "        ADO*Volume  ADO**2/MACD   MACD**3*PVT  log(RSI)/ADX  \\\n",
       "0     9.738624e+05     0.818356  1.376338e-01     -0.007150   \n",
       "1     7.028575e+06     3.571527  1.568232e+03     -0.007102   \n",
       "2     1.238975e+07     7.017269  7.261878e+03      0.016059   \n",
       "3     9.353235e+06     1.154642  1.084076e+05      0.013008   \n",
       "4     7.283833e+06     0.521292  3.417299e+04      0.010035   \n",
       "...            ...          ...           ...           ...   \n",
       "4311 -7.275476e+05     0.009481 -5.133958e+07     -0.006421   \n",
       "4312  2.895470e+05     0.007259 -8.874268e+04     -0.006170   \n",
       "4313  3.648768e+06     0.723331  9.339644e+05     -0.005918   \n",
       "4314  4.333874e+06     0.076488  5.059257e+08     -0.024887   \n",
       "4315  6.726885e+05     0.006675 -4.039111e+07     -0.005824   \n",
       "\n",
       "      RSI**2/StochasticD  ADO**2*sqrt(LarryWilliamsR)  \n",
       "0               0.027899                     0.503868  \n",
       "1               0.024047                     4.887688  \n",
       "2               0.035317                    14.197399  \n",
       "3               0.022916                     1.474230  \n",
       "4               0.019101                     1.765389  \n",
       "...                  ...                          ...  \n",
       "4311            0.011970                     0.659436  \n",
       "4312            0.016096                     0.233882  \n",
       "4313            0.021494                    15.970084  \n",
       "4314            0.008531                     4.378566  \n",
       "4315            0.011968                     0.635432  \n",
       "\n",
       "[4316 rows x 37 columns]"
      ]
     },
     "execution_count": 87,
     "metadata": {},
     "output_type": "execute_result"
    }
   ],
   "source": [
    "enhanced_data = compute_adv_indicators(complete_data)\n",
    "enhanced_data"
   ]
  },
  {
   "cell_type": "markdown",
   "metadata": {},
   "source": [
    "### autofeat Feature Selection"
   ]
  },
  {
   "cell_type": "code",
   "execution_count": 88,
   "metadata": {},
   "outputs": [
    {
     "name": "stderr",
     "output_type": "stream",
     "text": [
      "C:\\Users\\rshay\\anaconda3\\lib\\site-packages\\sklearn\\utils\\validation.py:72: DataConversionWarning: A column-vector y was passed when a 1d array was expected. Please change the shape of y to (n_samples, ), for example using ravel().\n",
      "  return f(**kwargs)\n"
     ]
    },
    {
     "name": "stdout",
     "output_type": "stream",
     "text": [
      "[featsel] Scaling data...done.\n",
      "[featsel] Feature selection run 1/5\n",
      "[featsel] Feature selection run 2/5\n",
      "[featsel] Feature selection run 3/5\n",
      "[featsel] Feature selection run 4/5\n",
      "[featsel] Feature selection run 5/5\n",
      "[featsel] 15 features after 5 feature selection runs\n",
      "[featsel] 13 features after correlation filtering\n",
      "[featsel] 10 features after noise filtering\n"
     ]
    }
   ],
   "source": [
    "from autofeat import FeatureSelector\n",
    "fsel = FeatureSelector(verbose=1)\n",
    "selected_data = fsel.fit_transform(pd.DataFrame(enhanced_data), pd.DataFrame(target))"
   ]
  },
  {
   "cell_type": "code",
   "execution_count": 89,
   "metadata": {},
   "outputs": [
    {
     "data": {
      "text/html": [
       "<div>\n",
       "<style scoped>\n",
       "    .dataframe tbody tr th:only-of-type {\n",
       "        vertical-align: middle;\n",
       "    }\n",
       "\n",
       "    .dataframe tbody tr th {\n",
       "        vertical-align: top;\n",
       "    }\n",
       "\n",
       "    .dataframe thead th {\n",
       "        text-align: right;\n",
       "    }\n",
       "</style>\n",
       "<table border=\"1\" class=\"dataframe\">\n",
       "  <thead>\n",
       "    <tr style=\"text-align: right;\">\n",
       "      <th></th>\n",
       "      <th>Momentum</th>\n",
       "      <th>ADO*Volume</th>\n",
       "      <th>log(RSI)/ADX</th>\n",
       "      <th>sqrt(RSI)/ADX</th>\n",
       "      <th>sqrt(Volume)*log(RSI)</th>\n",
       "      <th>sqrt(StochasticD)/RSI</th>\n",
       "      <th>sqrt(LarryWilliamsR)*RSI</th>\n",
       "      <th>Low/Close</th>\n",
       "      <th>MACD**2*PVT</th>\n",
       "      <th>StochasticD/RSI</th>\n",
       "    </tr>\n",
       "  </thead>\n",
       "  <tbody>\n",
       "    <tr>\n",
       "      <th>0</th>\n",
       "      <td>101.963329</td>\n",
       "      <td>9.738624e+05</td>\n",
       "      <td>-0.007150</td>\n",
       "      <td>0.072327</td>\n",
       "      <td>-190.048937</td>\n",
       "      <td>5.986911</td>\n",
       "      <td>7.976100</td>\n",
       "      <td>0.987196</td>\n",
       "      <td>1.959274e+00</td>\n",
       "      <td>32.617584</td>\n",
       "    </tr>\n",
       "    <tr>\n",
       "      <th>1</th>\n",
       "      <td>97.248635</td>\n",
       "      <td>7.028575e+06</td>\n",
       "      <td>-0.007102</td>\n",
       "      <td>0.071840</td>\n",
       "      <td>-278.126054</td>\n",
       "      <td>6.448657</td>\n",
       "      <td>6.813072</td>\n",
       "      <td>0.961739</td>\n",
       "      <td>8.579413e+03</td>\n",
       "      <td>37.842932</td>\n",
       "    </tr>\n",
       "    <tr>\n",
       "      <th>2</th>\n",
       "      <td>98.263254</td>\n",
       "      <td>1.238975e+07</td>\n",
       "      <td>0.016059</td>\n",
       "      <td>0.078132</td>\n",
       "      <td>646.051929</td>\n",
       "      <td>5.321175</td>\n",
       "      <td>7.167289</td>\n",
       "      <td>0.990326</td>\n",
       "      <td>2.042602e+04</td>\n",
       "      <td>35.661084</td>\n",
       "    </tr>\n",
       "    <tr>\n",
       "      <th>3</th>\n",
       "      <td>106.312575</td>\n",
       "      <td>9.353235e+06</td>\n",
       "      <td>0.013008</td>\n",
       "      <td>0.063286</td>\n",
       "      <td>759.080636</td>\n",
       "      <td>6.605919</td>\n",
       "      <td>2.488826</td>\n",
       "      <td>0.957844</td>\n",
       "      <td>1.677865e+05</td>\n",
       "      <td>54.959910</td>\n",
       "    </tr>\n",
       "    <tr>\n",
       "      <th>4</th>\n",
       "      <td>105.660375</td>\n",
       "      <td>7.283833e+06</td>\n",
       "      <td>0.010035</td>\n",
       "      <td>0.048824</td>\n",
       "      <td>755.008135</td>\n",
       "      <td>7.235495</td>\n",
       "      <td>4.809813</td>\n",
       "      <td>0.983929</td>\n",
       "      <td>3.853652e+04</td>\n",
       "      <td>65.935006</td>\n",
       "    </tr>\n",
       "    <tr>\n",
       "      <th>...</th>\n",
       "      <td>...</td>\n",
       "      <td>...</td>\n",
       "      <td>...</td>\n",
       "      <td>...</td>\n",
       "      <td>...</td>\n",
       "      <td>...</td>\n",
       "      <td>...</td>\n",
       "      <td>...</td>\n",
       "      <td>...</td>\n",
       "      <td>...</td>\n",
       "    </tr>\n",
       "    <tr>\n",
       "      <th>4311</th>\n",
       "      <td>102.923105</td>\n",
       "      <td>-7.275476e+05</td>\n",
       "      <td>-0.006421</td>\n",
       "      <td>0.064957</td>\n",
       "      <td>-149.924452</td>\n",
       "      <td>9.140037</td>\n",
       "      <td>7.243480</td>\n",
       "      <td>0.989020</td>\n",
       "      <td>-5.875451e+06</td>\n",
       "      <td>76.022503</td>\n",
       "    </tr>\n",
       "    <tr>\n",
       "      <th>4312</th>\n",
       "      <td>101.046881</td>\n",
       "      <td>2.895470e+05</td>\n",
       "      <td>-0.006170</td>\n",
       "      <td>0.062418</td>\n",
       "      <td>-123.694293</td>\n",
       "      <td>7.882135</td>\n",
       "      <td>7.515633</td>\n",
       "      <td>0.985282</td>\n",
       "      <td>-2.274792e+04</td>\n",
       "      <td>56.537149</td>\n",
       "    </tr>\n",
       "    <tr>\n",
       "      <th>4313</th>\n",
       "      <td>101.267396</td>\n",
       "      <td>3.648768e+06</td>\n",
       "      <td>-0.005918</td>\n",
       "      <td>0.059868</td>\n",
       "      <td>-147.957195</td>\n",
       "      <td>6.820903</td>\n",
       "      <td>6.615559</td>\n",
       "      <td>0.992793</td>\n",
       "      <td>3.075249e+05</td>\n",
       "      <td>42.337958</td>\n",
       "    </tr>\n",
       "    <tr>\n",
       "      <th>4314</th>\n",
       "      <td>105.022449</td>\n",
       "      <td>4.333874e+06</td>\n",
       "      <td>-0.024887</td>\n",
       "      <td>0.052180</td>\n",
       "      <td>-811.924748</td>\n",
       "      <td>10.826961</td>\n",
       "      <td>2.897677</td>\n",
       "      <td>0.953408</td>\n",
       "      <td>3.790175e+07</td>\n",
       "      <td>79.204780</td>\n",
       "    </tr>\n",
       "    <tr>\n",
       "      <th>4315</th>\n",
       "      <td>104.337718</td>\n",
       "      <td>6.726885e+05</td>\n",
       "      <td>-0.005824</td>\n",
       "      <td>0.058917</td>\n",
       "      <td>-126.877607</td>\n",
       "      <td>9.140853</td>\n",
       "      <td>4.187825</td>\n",
       "      <td>0.991621</td>\n",
       "      <td>-1.952491e+06</td>\n",
       "      <td>76.036070</td>\n",
       "    </tr>\n",
       "  </tbody>\n",
       "</table>\n",
       "<p>4316 rows × 10 columns</p>\n",
       "</div>"
      ],
      "text/plain": [
       "        Momentum    ADO*Volume  log(RSI)/ADX  sqrt(RSI)/ADX  \\\n",
       "0     101.963329  9.738624e+05     -0.007150       0.072327   \n",
       "1      97.248635  7.028575e+06     -0.007102       0.071840   \n",
       "2      98.263254  1.238975e+07      0.016059       0.078132   \n",
       "3     106.312575  9.353235e+06      0.013008       0.063286   \n",
       "4     105.660375  7.283833e+06      0.010035       0.048824   \n",
       "...          ...           ...           ...            ...   \n",
       "4311  102.923105 -7.275476e+05     -0.006421       0.064957   \n",
       "4312  101.046881  2.895470e+05     -0.006170       0.062418   \n",
       "4313  101.267396  3.648768e+06     -0.005918       0.059868   \n",
       "4314  105.022449  4.333874e+06     -0.024887       0.052180   \n",
       "4315  104.337718  6.726885e+05     -0.005824       0.058917   \n",
       "\n",
       "      sqrt(Volume)*log(RSI)  sqrt(StochasticD)/RSI  sqrt(LarryWilliamsR)*RSI  \\\n",
       "0               -190.048937               5.986911                  7.976100   \n",
       "1               -278.126054               6.448657                  6.813072   \n",
       "2                646.051929               5.321175                  7.167289   \n",
       "3                759.080636               6.605919                  2.488826   \n",
       "4                755.008135               7.235495                  4.809813   \n",
       "...                     ...                    ...                       ...   \n",
       "4311            -149.924452               9.140037                  7.243480   \n",
       "4312            -123.694293               7.882135                  7.515633   \n",
       "4313            -147.957195               6.820903                  6.615559   \n",
       "4314            -811.924748              10.826961                  2.897677   \n",
       "4315            -126.877607               9.140853                  4.187825   \n",
       "\n",
       "      Low/Close   MACD**2*PVT  StochasticD/RSI  \n",
       "0      0.987196  1.959274e+00        32.617584  \n",
       "1      0.961739  8.579413e+03        37.842932  \n",
       "2      0.990326  2.042602e+04        35.661084  \n",
       "3      0.957844  1.677865e+05        54.959910  \n",
       "4      0.983929  3.853652e+04        65.935006  \n",
       "...         ...           ...              ...  \n",
       "4311   0.989020 -5.875451e+06        76.022503  \n",
       "4312   0.985282 -2.274792e+04        56.537149  \n",
       "4313   0.992793  3.075249e+05        42.337958  \n",
       "4314   0.953408  3.790175e+07        79.204780  \n",
       "4315   0.991621 -1.952491e+06        76.036070  \n",
       "\n",
       "[4316 rows x 10 columns]"
      ]
     },
     "execution_count": 89,
     "metadata": {},
     "output_type": "execute_result"
    }
   ],
   "source": [
    "selected_data"
   ]
  },
  {
   "cell_type": "code",
   "execution_count": 90,
   "metadata": {},
   "outputs": [],
   "source": [
    "from sklearn.preprocessing import StandardScaler"
   ]
  },
  {
   "cell_type": "code",
   "execution_count": 91,
   "metadata": {},
   "outputs": [
    {
     "data": {
      "text/plain": [
       "StandardScaler()"
      ]
     },
     "execution_count": 91,
     "metadata": {},
     "output_type": "execute_result"
    }
   ],
   "source": [
    "scaler = StandardScaler()  \n",
    "scaler.fit(selected_data)"
   ]
  },
  {
   "cell_type": "code",
   "execution_count": 92,
   "metadata": {},
   "outputs": [],
   "source": [
    "\n",
    "selected_scaled_data = scaler.transform(selected_data)"
   ]
  },
  {
   "cell_type": "code",
   "execution_count": 93,
   "metadata": {},
   "outputs": [],
   "source": [
    "from sklearn.model_selection import train_test_split\n",
    "\n",
    "X_train, X_test, y_train, y_test = train_test_split(selected_scaled_data,target,test_size=0.3)"
   ]
  },
  {
   "cell_type": "code",
   "execution_count": 94,
   "metadata": {},
   "outputs": [],
   "source": [
    "X_train = scaler.transform(X_train)  \n",
    "X_test = scaler.transform(X_test) "
   ]
  },
  {
   "cell_type": "code",
   "execution_count": 95,
   "metadata": {},
   "outputs": [],
   "source": [
    "selected_scaled_data_df = pd.DataFrame(selected_scaled_data)\n",
    "selected_scaled_data_1250 = selected_scaled_data_df.tail(1250)\n",
    "selected_scaled_data_250 = selected_scaled_data_df.tail(250)\n",
    "selected_scaled_data_125 = selected_scaled_data_df.tail(125)\n",
    "target_1250 = target.tail(1250)\n",
    "target_250 = target.tail(250)\n",
    "target_125 = target.tail(125)"
   ]
  },
  {
   "cell_type": "code",
   "execution_count": 96,
   "metadata": {},
   "outputs": [],
   "source": [
    "X_train_1250, X_test_1250, y_train_1250, y_test_1250 = train_test_split(selected_scaled_data_1250,target_1250,test_size=0.3)"
   ]
  },
  {
   "cell_type": "code",
   "execution_count": 97,
   "metadata": {},
   "outputs": [],
   "source": [
    "X_train_250, X_test_250, y_train_250, y_test_250 = train_test_split(selected_scaled_data_250,target_250,test_size=0.3)"
   ]
  },
  {
   "cell_type": "code",
   "execution_count": 98,
   "metadata": {},
   "outputs": [],
   "source": [
    "X_train_125, X_test_125, y_train_125, y_test_125 = train_test_split(selected_scaled_data_125,target_125,test_size=0.3)"
   ]
  },
  {
   "cell_type": "markdown",
   "metadata": {},
   "source": [
    "### Logistic Regression"
   ]
  },
  {
   "cell_type": "markdown",
   "metadata": {},
   "source": [
    "#### Max Duration"
   ]
  },
  {
   "cell_type": "code",
   "execution_count": 173,
   "metadata": {},
   "outputs": [],
   "source": [
    "from sklearn.metrics import accuracy_score\n",
    "from sklearn.metrics import confusion_matrix"
   ]
  },
  {
   "cell_type": "code",
   "execution_count": 174,
   "metadata": {},
   "outputs": [],
   "source": [
    "lr = LogisticRegression(solver='liblinear', multi_class='ovr')\n",
    "trained_model_lr = lr.fit(X_train, y_train)\n",
    "predictions_lr = trained_model_lr.predict(X_test)\n",
    "\n",
    "Train_accuracy_lr = accuracy_score(y_train,trained_model_lr.predict(X_train))\n",
    "Test_accuracy_lr = accuracy_score(y_test, predictions_lr)\n",
    "Confusion_matrix_lr = confusion_matrix(y_test,predictions_lr)"
   ]
  },
  {
   "cell_type": "code",
   "execution_count": 175,
   "metadata": {},
   "outputs": [
    {
     "data": {
      "text/plain": [
       "0.6401853690830851"
      ]
     },
     "execution_count": 175,
     "metadata": {},
     "output_type": "execute_result"
    }
   ],
   "source": [
    "Train_accuracy_lr"
   ]
  },
  {
   "cell_type": "code",
   "execution_count": 176,
   "metadata": {},
   "outputs": [
    {
     "data": {
      "text/plain": [
       "0.6154440154440154"
      ]
     },
     "execution_count": 176,
     "metadata": {},
     "output_type": "execute_result"
    }
   ],
   "source": [
    "Test_accuracy_lr"
   ]
  },
  {
   "cell_type": "markdown",
   "metadata": {},
   "source": [
    "#### 5 Years"
   ]
  },
  {
   "cell_type": "code",
   "execution_count": 177,
   "metadata": {},
   "outputs": [],
   "source": [
    "trained_model_lr_1250 = lr.fit(X_train_1250, y_train_1250)\n",
    "predictions_lr_1250 = trained_model_lr_1250.predict(X_test_1250)\n",
    "\n",
    "Train_accuracy_lr_1250 = accuracy_score(y_train_1250,trained_model_lr_1250.predict(X_train_1250))\n",
    "Test_accuracy_lr_1250 = accuracy_score(y_test_1250, predictions_lr_1250)\n",
    "Confusion_matrix_lr_1250 = confusion_matrix(y_test_1250,predictions_lr_1250)"
   ]
  },
  {
   "cell_type": "code",
   "execution_count": 178,
   "metadata": {},
   "outputs": [
    {
     "data": {
      "text/plain": [
       "0.6651428571428571"
      ]
     },
     "execution_count": 178,
     "metadata": {},
     "output_type": "execute_result"
    }
   ],
   "source": [
    "Train_accuracy_lr_1250"
   ]
  },
  {
   "cell_type": "code",
   "execution_count": 179,
   "metadata": {},
   "outputs": [
    {
     "data": {
      "text/plain": [
       "0.6293333333333333"
      ]
     },
     "execution_count": 179,
     "metadata": {},
     "output_type": "execute_result"
    }
   ],
   "source": [
    "Test_accuracy_lr_1250"
   ]
  },
  {
   "cell_type": "markdown",
   "metadata": {},
   "source": [
    "#### 1 Year"
   ]
  },
  {
   "cell_type": "code",
   "execution_count": 180,
   "metadata": {},
   "outputs": [],
   "source": [
    "trained_model_lr_250 = lr.fit(X_train_250, y_train_250)\n",
    "predictions_lr_250 = trained_model_lr_250.predict(X_test_250)\n",
    "\n",
    "Train_accuracy_lr_250 = accuracy_score(y_train_250,trained_model_lr_250.predict(X_train_250))\n",
    "Test_accuracy_lr_250 = accuracy_score(y_test_250, predictions_lr_250)\n",
    "Confusion_matrix_lr_250 = confusion_matrix(y_test_250,predictions_lr_250)"
   ]
  },
  {
   "cell_type": "code",
   "execution_count": 181,
   "metadata": {},
   "outputs": [
    {
     "data": {
      "text/plain": [
       "0.64"
      ]
     },
     "execution_count": 181,
     "metadata": {},
     "output_type": "execute_result"
    }
   ],
   "source": [
    "Train_accuracy_lr_250"
   ]
  },
  {
   "cell_type": "code",
   "execution_count": 182,
   "metadata": {},
   "outputs": [
    {
     "data": {
      "text/plain": [
       "0.72"
      ]
     },
     "execution_count": 182,
     "metadata": {},
     "output_type": "execute_result"
    }
   ],
   "source": [
    "Test_accuracy_lr_250"
   ]
  },
  {
   "cell_type": "markdown",
   "metadata": {},
   "source": [
    "#### 6 Months"
   ]
  },
  {
   "cell_type": "code",
   "execution_count": 183,
   "metadata": {},
   "outputs": [],
   "source": [
    "trained_model_lr_125 = lr.fit(X_train_125, y_train_125)\n",
    "predictions_lr_125 = trained_model_lr_125.predict(X_test_125)\n",
    "\n",
    "Train_accuracy_lr_125 = accuracy_score(y_train_125,trained_model_lr_125.predict(X_train_125))\n",
    "Test_accuracy_lr_125 = accuracy_score(y_test_125, predictions_lr_125)\n",
    "Confusion_matrix_lr_125 = confusion_matrix(y_test_125,predictions_lr_125)"
   ]
  },
  {
   "cell_type": "code",
   "execution_count": 184,
   "metadata": {},
   "outputs": [
    {
     "data": {
      "text/plain": [
       "0.6781609195402298"
      ]
     },
     "execution_count": 184,
     "metadata": {},
     "output_type": "execute_result"
    }
   ],
   "source": [
    "Train_accuracy_lr_125"
   ]
  },
  {
   "cell_type": "code",
   "execution_count": 185,
   "metadata": {},
   "outputs": [
    {
     "data": {
      "text/plain": [
       "0.6052631578947368"
      ]
     },
     "execution_count": 185,
     "metadata": {},
     "output_type": "execute_result"
    }
   ],
   "source": [
    "Test_accuracy_lr_125"
   ]
  },
  {
   "cell_type": "markdown",
   "metadata": {},
   "source": [
    "#### Last 100 Days based on Best Model - Max Duration"
   ]
  },
  {
   "cell_type": "code",
   "execution_count": 186,
   "metadata": {},
   "outputs": [],
   "source": [
    "last100 = selected_scaled_data_df.tail(100)"
   ]
  },
  {
   "cell_type": "code",
   "execution_count": 240,
   "metadata": {},
   "outputs": [
    {
     "data": {
      "text/plain": [
       "array([0, 0, 0, 0, 0, 1, 0, 1, 1, 1, 1, 1, 1, 1, 1, 1, 1, 1, 1, 1, 1, 1,\n",
       "       1, 1, 1, 1, 1, 1, 1, 1, 1, 0, 1, 1, 0, 1, 1, 1, 1, 1, 1, 1, 0, 0,\n",
       "       1, 1, 1, 0, 1, 1, 1, 1, 1, 1, 1, 1, 1, 1, 1, 1, 1, 1, 1, 1, 1, 1,\n",
       "       1, 1, 1, 1, 1, 1, 1, 1, 1, 1, 1, 1, 1, 1, 1, 1, 1, 1, 1, 1, 1, 1,\n",
       "       1, 1, 1, 1, 1, 1, 1, 1, 1, 1, 0, 1])"
      ]
     },
     "execution_count": 240,
     "metadata": {},
     "output_type": "execute_result"
    }
   ],
   "source": [
    "predictions_lr_100 = trained_model_lr_250.predict(last100)\n",
    "predictions_lr_100"
   ]
  },
  {
   "cell_type": "markdown",
   "metadata": {},
   "source": [
    "### SVM"
   ]
  },
  {
   "cell_type": "code",
   "execution_count": 188,
   "metadata": {},
   "outputs": [],
   "source": [
    "svm = SVC(gamma='auto')\n",
    "trained_model_svm = svm.fit(X_train, y_train)\n",
    "predictions_svm = trained_model_svm.predict(X_test)\n",
    "\n",
    "Train_accuracy_svm = accuracy_score(y_train,trained_model_svm.predict(X_train))\n",
    "Test_accuracy_svm = accuracy_score(y_test, predictions_svm)\n",
    "Confusion_matrix_svm = confusion_matrix(y_test,predictions_svm)"
   ]
  },
  {
   "cell_type": "code",
   "execution_count": 189,
   "metadata": {},
   "outputs": [
    {
     "data": {
      "text/plain": [
       "0.982787156570672"
      ]
     },
     "execution_count": 189,
     "metadata": {},
     "output_type": "execute_result"
    }
   ],
   "source": [
    "Train_accuracy_svm"
   ]
  },
  {
   "cell_type": "code",
   "execution_count": 190,
   "metadata": {},
   "outputs": [
    {
     "data": {
      "text/plain": [
       "0.518918918918919"
      ]
     },
     "execution_count": 190,
     "metadata": {},
     "output_type": "execute_result"
    }
   ],
   "source": [
    "Test_accuracy_svm"
   ]
  },
  {
   "cell_type": "markdown",
   "metadata": {},
   "source": [
    "#### 5 Years"
   ]
  },
  {
   "cell_type": "code",
   "execution_count": 191,
   "metadata": {},
   "outputs": [],
   "source": [
    "trained_model_svm_1250 = svm.fit(X_train_1250, y_train_1250)\n",
    "predictions_svm_1250 = trained_model_svm_1250.predict(X_test_1250)\n",
    "\n",
    "Train_accuracy_svm_1250 = accuracy_score(y_train_1250,trained_model_svm_1250.predict(X_train_1250))\n",
    "Test_accuracy_svm_1250 = accuracy_score(y_test_1250, predictions_svm_1250)\n",
    "Confusion_matrix_svm_1250 = confusion_matrix(y_test_1250,predictions_svm_1250)"
   ]
  },
  {
   "cell_type": "code",
   "execution_count": 192,
   "metadata": {},
   "outputs": [
    {
     "data": {
      "text/plain": [
       "0.68"
      ]
     },
     "execution_count": 192,
     "metadata": {},
     "output_type": "execute_result"
    }
   ],
   "source": [
    "Train_accuracy_svm_1250"
   ]
  },
  {
   "cell_type": "code",
   "execution_count": 193,
   "metadata": {},
   "outputs": [
    {
     "data": {
      "text/plain": [
       "0.624"
      ]
     },
     "execution_count": 193,
     "metadata": {},
     "output_type": "execute_result"
    }
   ],
   "source": [
    "Test_accuracy_svm_1250"
   ]
  },
  {
   "cell_type": "markdown",
   "metadata": {},
   "source": [
    "#### 1 Year"
   ]
  },
  {
   "cell_type": "code",
   "execution_count": 194,
   "metadata": {},
   "outputs": [],
   "source": [
    "trained_model_svm_250 = svm.fit(X_train_250, y_train_250)\n",
    "predictions_svm_250 = trained_model_svm_1250.predict(X_test_250)\n",
    "\n",
    "Train_accuracy_svm_250 = accuracy_score(y_train_250,trained_model_svm_250.predict(X_train_250))\n",
    "Test_accuracy_svm_250 = accuracy_score(y_test_250, predictions_svm_250)\n",
    "Confusion_matrix_svm_250 = confusion_matrix(y_test_250,predictions_svm_250)"
   ]
  },
  {
   "cell_type": "code",
   "execution_count": 195,
   "metadata": {},
   "outputs": [
    {
     "data": {
      "text/plain": [
       "0.7028571428571428"
      ]
     },
     "execution_count": 195,
     "metadata": {},
     "output_type": "execute_result"
    }
   ],
   "source": [
    "Train_accuracy_svm_250"
   ]
  },
  {
   "cell_type": "code",
   "execution_count": 196,
   "metadata": {},
   "outputs": [
    {
     "data": {
      "text/plain": [
       "0.7066666666666667"
      ]
     },
     "execution_count": 196,
     "metadata": {},
     "output_type": "execute_result"
    }
   ],
   "source": [
    "Test_accuracy_svm_250"
   ]
  },
  {
   "cell_type": "markdown",
   "metadata": {},
   "source": [
    "#### 6 Months"
   ]
  },
  {
   "cell_type": "code",
   "execution_count": 197,
   "metadata": {},
   "outputs": [],
   "source": [
    "trained_model_svm_125 = svm.fit(X_train_125, y_train_125)\n",
    "predictions_svm_125 = trained_model_svm_1250.predict(X_test_125)\n",
    "\n",
    "Train_accuracy_svm_125 = accuracy_score(y_train_125,trained_model_svm_125.predict(X_train_125))\n",
    "Test_accuracy_svm_125 = accuracy_score(y_test_125, predictions_svm_125)\n",
    "Confusion_matrix_svm_125 = confusion_matrix(y_test_125,predictions_svm_125)"
   ]
  },
  {
   "cell_type": "code",
   "execution_count": 198,
   "metadata": {},
   "outputs": [
    {
     "data": {
      "text/plain": [
       "0.632183908045977"
      ]
     },
     "execution_count": 198,
     "metadata": {},
     "output_type": "execute_result"
    }
   ],
   "source": [
    "Train_accuracy_svm_125"
   ]
  },
  {
   "cell_type": "code",
   "execution_count": 199,
   "metadata": {},
   "outputs": [
    {
     "data": {
      "text/plain": [
       "0.5526315789473685"
      ]
     },
     "execution_count": 199,
     "metadata": {},
     "output_type": "execute_result"
    }
   ],
   "source": [
    "Test_accuracy_svm_125"
   ]
  },
  {
   "cell_type": "markdown",
   "metadata": {},
   "source": [
    "#### Last 100 Days based on Best Model - Max Duration"
   ]
  },
  {
   "cell_type": "code",
   "execution_count": 241,
   "metadata": {},
   "outputs": [
    {
     "data": {
      "text/plain": [
       "array([1, 1, 1, 1, 1, 1, 1, 1, 1, 1, 1, 1, 1, 1, 1, 1, 1, 1, 1, 1, 1, 1,\n",
       "       1, 1, 1, 1, 1, 1, 1, 1, 1, 1, 1, 1, 1, 1, 1, 1, 1, 1, 1, 1, 1, 1,\n",
       "       1, 1, 1, 1, 1, 1, 1, 1, 1, 1, 1, 1, 1, 1, 1, 1, 1, 1, 1, 1, 1, 1,\n",
       "       1, 1, 1, 1, 1, 1, 1, 1, 1, 1, 1, 1, 1, 1, 1, 1, 1, 1, 1, 1, 1, 1,\n",
       "       1, 1, 1, 1, 1, 1, 1, 1, 1, 1, 1, 1])"
      ]
     },
     "execution_count": 241,
     "metadata": {},
     "output_type": "execute_result"
    }
   ],
   "source": [
    "predictions_svm_100 = trained_model_svm_250.predict(last100)\n",
    "predictions_svm_100"
   ]
  },
  {
   "cell_type": "markdown",
   "metadata": {},
   "source": [
    "### RandomForest"
   ]
  },
  {
   "cell_type": "code",
   "execution_count": 201,
   "metadata": {},
   "outputs": [],
   "source": [
    "rf = RandomForestClassifier(n_estimators=10)\n",
    "trained_model_rf = rf.fit(X_train, y_train)\n",
    "predictions_rf = trained_model_rf.predict(X_test)\n",
    "\n",
    "Train_accuracy_rf = accuracy_score(y_train, trained_model_rf.predict(X_train))\n",
    "Test_accuracy_rf = accuracy_score(y_test, predictions_rf)\n",
    "Confusion_matrix_rf = confusion_matrix(y_test, predictions_rf)"
   ]
  },
  {
   "cell_type": "code",
   "execution_count": 202,
   "metadata": {},
   "outputs": [
    {
     "data": {
      "text/plain": [
       "0.9817941079112876"
      ]
     },
     "execution_count": 202,
     "metadata": {},
     "output_type": "execute_result"
    }
   ],
   "source": [
    "Train_accuracy_rf"
   ]
  },
  {
   "cell_type": "code",
   "execution_count": 203,
   "metadata": {},
   "outputs": [
    {
     "data": {
      "text/plain": [
       "0.5783783783783784"
      ]
     },
     "execution_count": 203,
     "metadata": {},
     "output_type": "execute_result"
    }
   ],
   "source": [
    "Test_accuracy_rf"
   ]
  },
  {
   "cell_type": "markdown",
   "metadata": {},
   "source": [
    "#### 5 Years"
   ]
  },
  {
   "cell_type": "code",
   "execution_count": 204,
   "metadata": {},
   "outputs": [],
   "source": [
    "trained_model_rf_1250 = rf.fit(X_train_1250, y_train_1250)\n",
    "predictions_rf_1250 = trained_model_rf_1250.predict(X_test_1250)\n",
    "\n",
    "Train_accuracy_rf_1250 = accuracy_score(y_train_1250,trained_model_rf_1250.predict(X_train_1250))\n",
    "Test_accuracy_rf_1250 = accuracy_score(y_test_1250, predictions_rf_1250)\n",
    "Confusion_matrix_rf_1250 = confusion_matrix(y_test_1250,predictions_rf_1250)"
   ]
  },
  {
   "cell_type": "code",
   "execution_count": 205,
   "metadata": {},
   "outputs": [
    {
     "data": {
      "text/plain": [
       "0.9805714285714285"
      ]
     },
     "execution_count": 205,
     "metadata": {},
     "output_type": "execute_result"
    }
   ],
   "source": [
    "Train_accuracy_rf_1250"
   ]
  },
  {
   "cell_type": "code",
   "execution_count": 206,
   "metadata": {},
   "outputs": [
    {
     "data": {
      "text/plain": [
       "0.52"
      ]
     },
     "execution_count": 206,
     "metadata": {},
     "output_type": "execute_result"
    }
   ],
   "source": [
    "Test_accuracy_rf_1250"
   ]
  },
  {
   "cell_type": "markdown",
   "metadata": {},
   "source": [
    "#### 1 Year"
   ]
  },
  {
   "cell_type": "code",
   "execution_count": 207,
   "metadata": {},
   "outputs": [],
   "source": [
    "trained_model_rf_250 = rf.fit(X_train_250, y_train_250)\n",
    "predictions_rf_250 = trained_model_rf_250.predict(X_test_250)\n",
    "\n",
    "Train_accuracy_rf_250 = accuracy_score(y_train_250,trained_model_rf_250.predict(X_train_250))\n",
    "Test_accuracy_rf_250 = accuracy_score(y_test_250, predictions_rf_250)\n",
    "Confusion_matrix_rf_250 = confusion_matrix(y_test_250,predictions_rf_250)"
   ]
  },
  {
   "cell_type": "code",
   "execution_count": 208,
   "metadata": {},
   "outputs": [
    {
     "data": {
      "text/plain": [
       "0.9942857142857143"
      ]
     },
     "execution_count": 208,
     "metadata": {},
     "output_type": "execute_result"
    }
   ],
   "source": [
    "Train_accuracy_rf_250"
   ]
  },
  {
   "cell_type": "code",
   "execution_count": 209,
   "metadata": {},
   "outputs": [
    {
     "data": {
      "text/plain": [
       "0.6533333333333333"
      ]
     },
     "execution_count": 209,
     "metadata": {},
     "output_type": "execute_result"
    }
   ],
   "source": [
    "Test_accuracy_rf_250"
   ]
  },
  {
   "cell_type": "markdown",
   "metadata": {},
   "source": [
    "#### 6 Months"
   ]
  },
  {
   "cell_type": "code",
   "execution_count": 210,
   "metadata": {},
   "outputs": [],
   "source": [
    "trained_model_rf_125 = rf.fit(X_train_125, y_train_125)\n",
    "predictions_rf_125 = trained_model_rf_125.predict(X_test_125)\n",
    "\n",
    "Train_accuracy_rf_125 = accuracy_score(y_train_125,trained_model_rf_125.predict(X_train_125))\n",
    "Test_accuracy_rf_125 = accuracy_score(y_test_125, predictions_rf_125)\n",
    "Confusion_matrix_rf_125 = confusion_matrix(y_test_125,predictions_rf_125)"
   ]
  },
  {
   "cell_type": "code",
   "execution_count": 211,
   "metadata": {},
   "outputs": [
    {
     "data": {
      "text/plain": [
       "0.9885057471264368"
      ]
     },
     "execution_count": 211,
     "metadata": {},
     "output_type": "execute_result"
    }
   ],
   "source": [
    "Train_accuracy_rf_125"
   ]
  },
  {
   "cell_type": "code",
   "execution_count": 212,
   "metadata": {},
   "outputs": [
    {
     "data": {
      "text/plain": [
       "0.6578947368421053"
      ]
     },
     "execution_count": 212,
     "metadata": {},
     "output_type": "execute_result"
    }
   ],
   "source": [
    "Test_accuracy_rf_125"
   ]
  },
  {
   "cell_type": "markdown",
   "metadata": {},
   "source": [
    "#### Last 100 Days based on Best Model"
   ]
  },
  {
   "cell_type": "code",
   "execution_count": 213,
   "metadata": {},
   "outputs": [
    {
     "data": {
      "text/plain": [
       "array([1, 0, 1, 0, 0, 1, 0, 1, 1, 0, 1, 1, 1, 0, 1, 1, 1, 1, 1, 0, 1, 1,\n",
       "       1, 1, 0, 0, 0, 1, 1, 1, 1, 0, 0, 1, 0, 1, 1, 1, 0, 1, 0, 1, 0, 0,\n",
       "       1, 0, 1, 0, 1, 1, 1, 1, 1, 1, 0, 1, 1, 1, 1, 1, 1, 1, 1, 0, 0, 1,\n",
       "       1, 1, 0, 1, 0, 1, 1, 1, 1, 0, 0, 0, 0, 1, 0, 1, 1, 1, 1, 1, 1, 1,\n",
       "       1, 1, 1, 0, 0, 1, 0, 0, 1, 1, 0, 1])"
      ]
     },
     "execution_count": 213,
     "metadata": {},
     "output_type": "execute_result"
    }
   ],
   "source": [
    "predictions_rf_100 = trained_model_rf_125.predict(last100)\n",
    "predictions_rf_100"
   ]
  },
  {
   "cell_type": "markdown",
   "metadata": {},
   "source": [
    "### KNN"
   ]
  },
  {
   "cell_type": "code",
   "execution_count": 214,
   "metadata": {},
   "outputs": [],
   "source": [
    "knn = KNeighborsClassifier(n_neighbors=5)\n",
    "trained_model_knn = knn.fit(X_train, y_train)\n",
    "predictions_knn = trained_model_knn.predict(X_test)\n",
    "\n",
    "Train_accuracy_knn = accuracy_score(y_train, trained_model_knn.predict(X_train))\n",
    "Test_accuracy_knn = accuracy_score(y_test, predictions_knn)\n",
    "Confusion_matrix_knn = confusion_matrix(y_test, predictions_knn)"
   ]
  },
  {
   "cell_type": "code",
   "execution_count": 215,
   "metadata": {},
   "outputs": [
    {
     "data": {
      "text/plain": [
       "0.7361800728235683"
      ]
     },
     "execution_count": 215,
     "metadata": {},
     "output_type": "execute_result"
    }
   ],
   "source": [
    "Train_accuracy_knn"
   ]
  },
  {
   "cell_type": "code",
   "execution_count": 216,
   "metadata": {},
   "outputs": [
    {
     "data": {
      "text/plain": [
       "0.5459459459459459"
      ]
     },
     "execution_count": 216,
     "metadata": {},
     "output_type": "execute_result"
    }
   ],
   "source": [
    "Test_accuracy_knn"
   ]
  },
  {
   "cell_type": "markdown",
   "metadata": {},
   "source": [
    "#### 5 Years"
   ]
  },
  {
   "cell_type": "code",
   "execution_count": 217,
   "metadata": {},
   "outputs": [],
   "source": [
    "trained_model_knn_1250 = knn.fit(X_train_1250, y_train_1250)\n",
    "predictions_knn_1250 = trained_model_knn_1250.predict(X_test_1250)\n",
    "\n",
    "Train_accuracy_knn_1250 = accuracy_score(y_train_1250,trained_model_knn_1250.predict(X_train_1250))\n",
    "Test_accuracy_knn_1250 = accuracy_score(y_test_1250, predictions_knn_1250)\n",
    "Confusion_matrix_knn_1250 = confusion_matrix(y_test_1250,predictions_knn_1250)"
   ]
  },
  {
   "cell_type": "code",
   "execution_count": 218,
   "metadata": {},
   "outputs": [
    {
     "data": {
      "text/plain": [
       "0.7154285714285714"
      ]
     },
     "execution_count": 218,
     "metadata": {},
     "output_type": "execute_result"
    }
   ],
   "source": [
    "Train_accuracy_knn_1250"
   ]
  },
  {
   "cell_type": "code",
   "execution_count": 219,
   "metadata": {},
   "outputs": [
    {
     "data": {
      "text/plain": [
       "0.5066666666666667"
      ]
     },
     "execution_count": 219,
     "metadata": {},
     "output_type": "execute_result"
    }
   ],
   "source": [
    "Test_accuracy_knn_1250"
   ]
  },
  {
   "cell_type": "markdown",
   "metadata": {},
   "source": [
    "#### 1 Year"
   ]
  },
  {
   "cell_type": "code",
   "execution_count": 220,
   "metadata": {},
   "outputs": [],
   "source": [
    "trained_model_knn_250 = knn.fit(X_train_250, y_train_250)\n",
    "predictions_knn_250 = trained_model_knn_250.predict(X_test_250)\n",
    "\n",
    "Train_accuracy_knn_250 = accuracy_score(y_train_250,trained_model_knn_250.predict(X_train_250))\n",
    "Test_accuracy_knn_250 = accuracy_score(y_test_250, predictions_knn_250)\n",
    "Confusion_matrix_knn_250 = confusion_matrix(y_test_250,predictions_knn_250)"
   ]
  },
  {
   "cell_type": "code",
   "execution_count": 221,
   "metadata": {},
   "outputs": [
    {
     "data": {
      "text/plain": [
       "0.6914285714285714"
      ]
     },
     "execution_count": 221,
     "metadata": {},
     "output_type": "execute_result"
    }
   ],
   "source": [
    "Train_accuracy_knn_250"
   ]
  },
  {
   "cell_type": "code",
   "execution_count": 222,
   "metadata": {},
   "outputs": [
    {
     "data": {
      "text/plain": [
       "0.6133333333333333"
      ]
     },
     "execution_count": 222,
     "metadata": {},
     "output_type": "execute_result"
    }
   ],
   "source": [
    "Test_accuracy_knn_250"
   ]
  },
  {
   "cell_type": "markdown",
   "metadata": {},
   "source": [
    "#### 6 Months"
   ]
  },
  {
   "cell_type": "code",
   "execution_count": 223,
   "metadata": {},
   "outputs": [],
   "source": [
    "trained_model_knn_125 = knn.fit(X_train_125, y_train_125)\n",
    "predictions_knn_125 = trained_model_knn_125.predict(X_test_125)\n",
    "\n",
    "Train_accuracy_knn_125 = accuracy_score(y_train_125,trained_model_knn_125.predict(X_train_125))\n",
    "Test_accuracy_knn_125 = accuracy_score(y_test_125, predictions_knn_125)\n",
    "Confusion_matrix_knn_125 = confusion_matrix(y_test_125,predictions_knn_125)"
   ]
  },
  {
   "cell_type": "code",
   "execution_count": 224,
   "metadata": {},
   "outputs": [
    {
     "data": {
      "text/plain": [
       "0.7241379310344828"
      ]
     },
     "execution_count": 224,
     "metadata": {},
     "output_type": "execute_result"
    }
   ],
   "source": [
    "Train_accuracy_knn_125"
   ]
  },
  {
   "cell_type": "code",
   "execution_count": 225,
   "metadata": {},
   "outputs": [
    {
     "data": {
      "text/plain": [
       "0.5"
      ]
     },
     "execution_count": 225,
     "metadata": {},
     "output_type": "execute_result"
    }
   ],
   "source": [
    "Test_accuracy_knn_125"
   ]
  },
  {
   "cell_type": "markdown",
   "metadata": {},
   "source": [
    "#### Last 100 Days based on Best Model"
   ]
  },
  {
   "cell_type": "code",
   "execution_count": 243,
   "metadata": {},
   "outputs": [
    {
     "data": {
      "text/plain": [
       "array([1, 0, 1, 0, 1, 0, 0, 1, 0, 1, 1, 1, 1, 1, 1, 1, 1, 1, 1, 1, 1, 1,\n",
       "       1, 1, 0, 0, 1, 1, 1, 1, 1, 1, 0, 1, 1, 1, 1, 1, 1, 1, 1, 0, 0, 1,\n",
       "       1, 0, 1, 0, 1, 0, 0, 1, 1, 1, 0, 1, 1, 1, 1, 1, 1, 1, 1, 0, 0, 1,\n",
       "       1, 1, 1, 1, 0, 1, 1, 1, 1, 1, 1, 0, 1, 1, 1, 1, 0, 1, 1, 1, 1, 1,\n",
       "       1, 1, 1, 1, 1, 1, 1, 1, 1, 1, 1, 1])"
      ]
     },
     "execution_count": 243,
     "metadata": {},
     "output_type": "execute_result"
    }
   ],
   "source": [
    "predictions_knn_100 = trained_model_knn_250.predict(last100)\n",
    "predictions_knn_100"
   ]
  },
  {
   "cell_type": "markdown",
   "metadata": {},
   "source": [
    "### XGBoost"
   ]
  },
  {
   "cell_type": "code",
   "execution_count": 227,
   "metadata": {},
   "outputs": [
    {
     "name": "stdout",
     "output_type": "stream",
     "text": [
      "[19:49:24] WARNING: C:/Users/Administrator/workspace/xgboost-win64_release_1.5.0/src/learner.cc:1115: Starting in XGBoost 1.3.0, the default evaluation metric used with the objective 'binary:logistic' was changed from 'error' to 'logloss'. Explicitly set eval_metric if you'd like to restore the old behavior.\n"
     ]
    }
   ],
   "source": [
    "xgb = XGBClassifier(use_label_encoder=False)\n",
    "trained_model_xgb = xgb.fit(X_train, y_train)\n",
    "predictions_xgb = trained_model_xgb.predict(X_test)\n",
    "\n",
    "Train_accuracy_xgb = accuracy_score(y_train, trained_model_xgb.predict(X_train))\n",
    "Test_accuracy_xgb = accuracy_score(y_test, predictions_xgb)\n",
    "Confusion_matrix_xgb = confusion_matrix(y_test, predictions_xgb)"
   ]
  },
  {
   "cell_type": "code",
   "execution_count": 228,
   "metadata": {},
   "outputs": [
    {
     "data": {
      "text/plain": [
       "0.9923866269447202"
      ]
     },
     "execution_count": 228,
     "metadata": {},
     "output_type": "execute_result"
    }
   ],
   "source": [
    "Train_accuracy_xgb"
   ]
  },
  {
   "cell_type": "code",
   "execution_count": 229,
   "metadata": {},
   "outputs": [
    {
     "data": {
      "text/plain": [
       "0.5814671814671815"
      ]
     },
     "execution_count": 229,
     "metadata": {},
     "output_type": "execute_result"
    }
   ],
   "source": [
    "Test_accuracy_xgb"
   ]
  },
  {
   "cell_type": "markdown",
   "metadata": {},
   "source": [
    "#### 5 Years"
   ]
  },
  {
   "cell_type": "code",
   "execution_count": 230,
   "metadata": {},
   "outputs": [
    {
     "name": "stdout",
     "output_type": "stream",
     "text": [
      "[19:49:25] WARNING: C:/Users/Administrator/workspace/xgboost-win64_release_1.5.0/src/learner.cc:1115: Starting in XGBoost 1.3.0, the default evaluation metric used with the objective 'binary:logistic' was changed from 'error' to 'logloss'. Explicitly set eval_metric if you'd like to restore the old behavior.\n"
     ]
    }
   ],
   "source": [
    "trained_model_xgb_1250 = xgb.fit(X_train_1250, y_train_1250)\n",
    "predictions_xgb_1250 = trained_model_xgb_1250.predict(X_test_1250)\n",
    "\n",
    "Train_accuracy_xgb_1250 = accuracy_score(y_train_1250,trained_model_xgb_1250.predict(X_train_1250))\n",
    "Test_accuracy_xgb_1250 = accuracy_score(y_test_1250, predictions_xgb_1250)\n",
    "Confusion_matrix_xgb_1250 = confusion_matrix(y_test_1250,predictions_xgb_1250)"
   ]
  },
  {
   "cell_type": "code",
   "execution_count": 231,
   "metadata": {},
   "outputs": [
    {
     "data": {
      "text/plain": [
       "1.0"
      ]
     },
     "execution_count": 231,
     "metadata": {},
     "output_type": "execute_result"
    }
   ],
   "source": [
    "Train_accuracy_xgb_1250"
   ]
  },
  {
   "cell_type": "code",
   "execution_count": 232,
   "metadata": {},
   "outputs": [
    {
     "data": {
      "text/plain": [
       "0.5333333333333333"
      ]
     },
     "execution_count": 232,
     "metadata": {},
     "output_type": "execute_result"
    }
   ],
   "source": [
    "Test_accuracy_xgb_1250"
   ]
  },
  {
   "cell_type": "markdown",
   "metadata": {},
   "source": [
    "#### 1 Year"
   ]
  },
  {
   "cell_type": "code",
   "execution_count": 233,
   "metadata": {},
   "outputs": [
    {
     "name": "stdout",
     "output_type": "stream",
     "text": [
      "[19:49:27] WARNING: C:/Users/Administrator/workspace/xgboost-win64_release_1.5.0/src/learner.cc:1115: Starting in XGBoost 1.3.0, the default evaluation metric used with the objective 'binary:logistic' was changed from 'error' to 'logloss'. Explicitly set eval_metric if you'd like to restore the old behavior.\n"
     ]
    }
   ],
   "source": [
    "trained_model_xgb_250 = xgb.fit(X_train_250, y_train_250)\n",
    "predictions_xgb_250 = trained_model_xgb_250.predict(X_test_250)\n",
    "\n",
    "Train_accuracy_xgb_250 = accuracy_score(y_train_250,trained_model_xgb_250.predict(X_train_250))\n",
    "Test_accuracy_xgb_250 = accuracy_score(y_test_250, predictions_xgb_250)\n",
    "Confusion_matrix_xgb_250 = confusion_matrix(y_test_250,predictions_xgb_250)"
   ]
  },
  {
   "cell_type": "code",
   "execution_count": 234,
   "metadata": {},
   "outputs": [
    {
     "data": {
      "text/plain": [
       "1.0"
      ]
     },
     "execution_count": 234,
     "metadata": {},
     "output_type": "execute_result"
    }
   ],
   "source": [
    "Train_accuracy_xgb_250"
   ]
  },
  {
   "cell_type": "code",
   "execution_count": 235,
   "metadata": {},
   "outputs": [
    {
     "data": {
      "text/plain": [
       "0.64"
      ]
     },
     "execution_count": 235,
     "metadata": {},
     "output_type": "execute_result"
    }
   ],
   "source": [
    "Test_accuracy_xgb_250"
   ]
  },
  {
   "cell_type": "markdown",
   "metadata": {},
   "source": [
    "#### 6 Months"
   ]
  },
  {
   "cell_type": "code",
   "execution_count": 236,
   "metadata": {},
   "outputs": [
    {
     "name": "stdout",
     "output_type": "stream",
     "text": [
      "[19:49:28] WARNING: C:/Users/Administrator/workspace/xgboost-win64_release_1.5.0/src/learner.cc:1115: Starting in XGBoost 1.3.0, the default evaluation metric used with the objective 'binary:logistic' was changed from 'error' to 'logloss'. Explicitly set eval_metric if you'd like to restore the old behavior.\n"
     ]
    }
   ],
   "source": [
    "trained_model_xgb_125 = xgb.fit(X_train_125, y_train_125)\n",
    "predictions_xgb_125 = trained_model_xgb_125.predict(X_test_125)\n",
    "\n",
    "Train_accuracy_xgb_125 = accuracy_score(y_train_125,trained_model_xgb_125.predict(X_train_125))\n",
    "Test_accuracy_xgb_125 = accuracy_score(y_test_125, predictions_xgb_125)\n",
    "Confusion_matrix_xgb_125 = confusion_matrix(y_test_125,predictions_xgb_125)"
   ]
  },
  {
   "cell_type": "code",
   "execution_count": 237,
   "metadata": {},
   "outputs": [
    {
     "data": {
      "text/plain": [
       "1.0"
      ]
     },
     "execution_count": 237,
     "metadata": {},
     "output_type": "execute_result"
    }
   ],
   "source": [
    "Train_accuracy_xgb_125"
   ]
  },
  {
   "cell_type": "code",
   "execution_count": 238,
   "metadata": {},
   "outputs": [
    {
     "data": {
      "text/plain": [
       "0.5263157894736842"
      ]
     },
     "execution_count": 238,
     "metadata": {},
     "output_type": "execute_result"
    }
   ],
   "source": [
    "Test_accuracy_xgb_125"
   ]
  },
  {
   "cell_type": "markdown",
   "metadata": {},
   "source": [
    "#### Last 100 Days based on Best Model"
   ]
  },
  {
   "cell_type": "code",
   "execution_count": 242,
   "metadata": {},
   "outputs": [
    {
     "data": {
      "text/plain": [
       "array([1, 1, 0, 0, 0, 1, 0, 1, 1, 0, 1, 1, 1, 0, 0, 1, 1, 1, 1, 0, 1, 1,\n",
       "       1, 1, 0, 0, 0, 1, 1, 1, 1, 0, 0, 1, 0, 1, 1, 1, 0, 1, 0, 1, 0, 0,\n",
       "       1, 1, 1, 0, 1, 1, 1, 1, 1, 1, 0, 1, 1, 1, 1, 0, 1, 1, 1, 0, 0, 1,\n",
       "       1, 1, 0, 1, 0, 1, 1, 1, 1, 0, 1, 0, 0, 1, 0, 1, 0, 1, 1, 1, 1, 1,\n",
       "       1, 1, 1, 0, 0, 1, 0, 0, 1, 1, 0, 1])"
      ]
     },
     "execution_count": 242,
     "metadata": {},
     "output_type": "execute_result"
    }
   ],
   "source": [
    "predictions_xgb_100 = trained_model_xgb_250.predict(last100)\n",
    "predictions_xgb_100"
   ]
  },
  {
   "cell_type": "markdown",
   "metadata": {},
   "source": [
    "## KFold cross validation\n",
    "### Basic example"
   ]
  },
  {
   "cell_type": "code",
   "execution_count": 166,
   "metadata": {},
   "outputs": [
    {
     "data": {
      "text/plain": [
       "array([0.53703704, 0.51157407, 0.57407407, 0.54398148, 0.52546296,\n",
       "       0.52546296, 0.52204176, 0.57540603, 0.53828306, 0.51508121])"
      ]
     },
     "execution_count": 166,
     "metadata": {},
     "output_type": "execute_result"
    }
   ],
   "source": [
    "from sklearn.model_selection import cross_val_score\n",
    "\n",
    "cross_val_score(LogisticRegression(solver='liblinear',multi_class='ovr'), complete_data, target, cv=10)"
   ]
  },
  {
   "cell_type": "code",
   "execution_count": 167,
   "metadata": {},
   "outputs": [
    {
     "data": {
      "text/plain": [
       "array([0.52777778, 0.52777778, 0.52546296, 0.52546296, 0.52546296,\n",
       "       0.52546296, 0.52668213, 0.52668213, 0.52668213, 0.52668213])"
      ]
     },
     "execution_count": 167,
     "metadata": {},
     "output_type": "execute_result"
    }
   ],
   "source": [
    "cross_val_score(SVC(gamma='auto'), complete_data, target, cv=10)"
   ]
  },
  {
   "cell_type": "code",
   "execution_count": 168,
   "metadata": {},
   "outputs": [
    {
     "data": {
      "text/plain": [
       "array([0.54861111, 0.60416667, 0.57407407, 0.56712963, 0.58101852,\n",
       "       0.59722222, 0.58236659, 0.57076566, 0.5638051 , 0.52668213])"
      ]
     },
     "execution_count": 168,
     "metadata": {},
     "output_type": "execute_result"
    }
   ],
   "source": [
    "cross_val_score(RandomForestClassifier(n_estimators=5), complete_data, target, cv=10)"
   ]
  },
  {
   "cell_type": "code",
   "execution_count": 169,
   "metadata": {},
   "outputs": [
    {
     "data": {
      "text/plain": [
       "array([0.49305556, 0.53009259, 0.53935185, 0.51388889, 0.46990741,\n",
       "       0.47685185, 0.49883991, 0.49883991, 0.44547564, 0.49419954])"
      ]
     },
     "execution_count": 169,
     "metadata": {},
     "output_type": "execute_result"
    }
   ],
   "source": [
    "cross_val_score(KNeighborsClassifier(n_neighbors=5), complete_data, target, cv=10)"
   ]
  }
 ],
 "metadata": {
  "kernelspec": {
   "display_name": "Python 3",
   "language": "python",
   "name": "python3"
  },
  "language_info": {
   "codemirror_mode": {
    "name": "ipython",
    "version": 3
   },
   "file_extension": ".py",
   "mimetype": "text/x-python",
   "name": "python",
   "nbconvert_exporter": "python",
   "pygments_lexer": "ipython3",
   "version": "3.8.5"
  }
 },
 "nbformat": 4,
 "nbformat_minor": 4
}
