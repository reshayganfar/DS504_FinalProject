{
 "cells": [
  {
   "cell_type": "code",
   "execution_count": 1,
   "metadata": {},
   "outputs": [],
   "source": [
    "import numpy as np\n",
    "import pandas as pd\n",
    "import ta\n",
    "import seaborn as sn\n",
    "import matplotlib.pyplot as plt\n",
    "\n",
    "from sklearn.ensemble import RandomForestClassifier\n",
    "from sklearn.linear_model import LogisticRegression\n",
    "from sklearn.neighbors import KNeighborsClassifier\n",
    "from sklearn.svm import SVC\n",
    "from xgboost import XGBClassifier\n",
    "\n",
    "from ta import add_all_ta_features\n",
    "from ta import momentum\n",
    "from ta.utils import dropna"
   ]
  },
  {
   "cell_type": "code",
   "execution_count": 2,
   "metadata": {},
   "outputs": [],
   "source": [
    "#pip install xgboost"
   ]
  },
  {
   "cell_type": "code",
   "execution_count": 3,
   "metadata": {},
   "outputs": [
    {
     "name": "stdout",
     "output_type": "stream",
     "text": [
      "Requirement already satisfied: autofeat in c:\\users\\rshay\\anaconda3\\lib\\site-packages (2.0.10)\n",
      "Requirement already satisfied: pint in c:\\users\\rshay\\anaconda3\\lib\\site-packages (from autofeat) (0.18)\n",
      "Requirement already satisfied: numba in c:\\users\\rshay\\anaconda3\\lib\\site-packages (from autofeat) (0.51.2)\n",
      "Requirement already satisfied: joblib in c:\\users\\rshay\\anaconda3\\lib\\site-packages (from autofeat) (0.17.0)\n",
      "Requirement already satisfied: pandas>=0.24.0 in c:\\users\\rshay\\anaconda3\\lib\\site-packages (from autofeat) (1.1.3)\n",
      "Requirement already satisfied: numpy in c:\\users\\rshay\\anaconda3\\lib\\site-packages (from autofeat) (1.19.2)\n",
      "Requirement already satisfied: sympy>=1.7.1 in c:\\users\\rshay\\anaconda3\\lib\\site-packages (from autofeat) (1.9)\n",
      "Requirement already satisfied: scikit-learn in c:\\users\\rshay\\anaconda3\\lib\\site-packages (from autofeat) (0.23.2)\n",
      "Requirement already satisfied: future in c:\\users\\rshay\\anaconda3\\lib\\site-packages (from autofeat) (0.18.2)\n",
      "Requirement already satisfied: packaging in c:\\users\\rshay\\anaconda3\\lib\\site-packages (from pint->autofeat) (20.4)\n",
      "Requirement already satisfied: llvmlite<0.35,>=0.34.0.dev0 in c:\\users\\rshay\\anaconda3\\lib\\site-packages (from numba->autofeat) (0.34.0)\n",
      "Requirement already satisfied: setuptools in c:\\users\\rshay\\anaconda3\\lib\\site-packages (from numba->autofeat) (50.3.1.post20201107)\n",
      "Requirement already satisfied: python-dateutil>=2.7.3 in c:\\users\\rshay\\anaconda3\\lib\\site-packages (from pandas>=0.24.0->autofeat) (2.8.1)\n",
      "Requirement already satisfied: pytz>=2017.2 in c:\\users\\rshay\\anaconda3\\lib\\site-packages (from pandas>=0.24.0->autofeat) (2020.1)\n",
      "Requirement already satisfied: mpmath>=0.19 in c:\\users\\rshay\\anaconda3\\lib\\site-packages (from sympy>=1.7.1->autofeat) (1.1.0)\n",
      "Requirement already satisfied: threadpoolctl>=2.0.0 in c:\\users\\rshay\\anaconda3\\lib\\site-packages (from scikit-learn->autofeat) (2.1.0)\n",
      "Requirement already satisfied: scipy>=0.19.1 in c:\\users\\rshay\\anaconda3\\lib\\site-packages (from scikit-learn->autofeat) (1.5.2)\n",
      "Requirement already satisfied: pyparsing>=2.0.2 in c:\\users\\rshay\\anaconda3\\lib\\site-packages (from packaging->pint->autofeat) (2.4.7)\n",
      "Requirement already satisfied: six in c:\\users\\rshay\\anaconda3\\lib\\site-packages (from packaging->pint->autofeat) (1.15.0)\n",
      "Note: you may need to restart the kernel to use updated packages.\n"
     ]
    }
   ],
   "source": [
    "pip install autofeat"
   ]
  },
  {
   "cell_type": "code",
   "execution_count": 4,
   "metadata": {},
   "outputs": [],
   "source": [
    "def get_data(company_symbol):\n",
    "    return pd.read_csv(\"dataset/\"+company_symbol+\".csv\")"
   ]
  },
  {
   "cell_type": "code",
   "execution_count": 5,
   "metadata": {},
   "outputs": [
    {
     "data": {
      "text/html": [
       "<div>\n",
       "<style scoped>\n",
       "    .dataframe tbody tr th:only-of-type {\n",
       "        vertical-align: middle;\n",
       "    }\n",
       "\n",
       "    .dataframe tbody tr th {\n",
       "        vertical-align: top;\n",
       "    }\n",
       "\n",
       "    .dataframe thead th {\n",
       "        text-align: right;\n",
       "    }\n",
       "</style>\n",
       "<table border=\"1\" class=\"dataframe\">\n",
       "  <thead>\n",
       "    <tr style=\"text-align: right;\">\n",
       "      <th></th>\n",
       "      <th>Date</th>\n",
       "      <th>Open</th>\n",
       "      <th>High</th>\n",
       "      <th>Low</th>\n",
       "      <th>Close</th>\n",
       "      <th>Adj Close</th>\n",
       "      <th>Volume</th>\n",
       "    </tr>\n",
       "  </thead>\n",
       "  <tbody>\n",
       "    <tr>\n",
       "      <th>0</th>\n",
       "      <td>5/23/2002</td>\n",
       "      <td>1.156429</td>\n",
       "      <td>1.242857</td>\n",
       "      <td>1.145714</td>\n",
       "      <td>1.196429</td>\n",
       "      <td>1.196429</td>\n",
       "      <td>104790000</td>\n",
       "    </tr>\n",
       "    <tr>\n",
       "      <th>1</th>\n",
       "      <td>5/24/2002</td>\n",
       "      <td>1.214286</td>\n",
       "      <td>1.225000</td>\n",
       "      <td>1.197143</td>\n",
       "      <td>1.210000</td>\n",
       "      <td>1.210000</td>\n",
       "      <td>11104800</td>\n",
       "    </tr>\n",
       "    <tr>\n",
       "      <th>2</th>\n",
       "      <td>5/28/2002</td>\n",
       "      <td>1.213571</td>\n",
       "      <td>1.232143</td>\n",
       "      <td>1.157143</td>\n",
       "      <td>1.157143</td>\n",
       "      <td>1.157143</td>\n",
       "      <td>6609400</td>\n",
       "    </tr>\n",
       "    <tr>\n",
       "      <th>3</th>\n",
       "      <td>5/29/2002</td>\n",
       "      <td>1.164286</td>\n",
       "      <td>1.164286</td>\n",
       "      <td>1.085714</td>\n",
       "      <td>1.103571</td>\n",
       "      <td>1.103571</td>\n",
       "      <td>6757800</td>\n",
       "    </tr>\n",
       "    <tr>\n",
       "      <th>4</th>\n",
       "      <td>5/30/2002</td>\n",
       "      <td>1.107857</td>\n",
       "      <td>1.107857</td>\n",
       "      <td>1.071429</td>\n",
       "      <td>1.071429</td>\n",
       "      <td>1.071429</td>\n",
       "      <td>10154200</td>\n",
       "    </tr>\n",
       "    <tr>\n",
       "      <th>...</th>\n",
       "      <td>...</td>\n",
       "      <td>...</td>\n",
       "      <td>...</td>\n",
       "      <td>...</td>\n",
       "      <td>...</td>\n",
       "      <td>...</td>\n",
       "      <td>...</td>\n",
       "    </tr>\n",
       "    <tr>\n",
       "      <th>4890</th>\n",
       "      <td>10/25/2021</td>\n",
       "      <td>663.739990</td>\n",
       "      <td>675.880005</td>\n",
       "      <td>657.070007</td>\n",
       "      <td>671.659973</td>\n",
       "      <td>671.659973</td>\n",
       "      <td>3833500</td>\n",
       "    </tr>\n",
       "    <tr>\n",
       "      <th>4891</th>\n",
       "      <td>10/26/2021</td>\n",
       "      <td>673.760010</td>\n",
       "      <td>676.489990</td>\n",
       "      <td>662.770020</td>\n",
       "      <td>668.520020</td>\n",
       "      <td>668.520020</td>\n",
       "      <td>2904800</td>\n",
       "    </tr>\n",
       "    <tr>\n",
       "      <th>4892</th>\n",
       "      <td>10/27/2021</td>\n",
       "      <td>669.000000</td>\n",
       "      <td>671.409973</td>\n",
       "      <td>661.849976</td>\n",
       "      <td>662.919983</td>\n",
       "      <td>662.919983</td>\n",
       "      <td>2276900</td>\n",
       "    </tr>\n",
       "    <tr>\n",
       "      <th>4893</th>\n",
       "      <td>10/28/2021</td>\n",
       "      <td>670.950012</td>\n",
       "      <td>676.799988</td>\n",
       "      <td>668.030029</td>\n",
       "      <td>674.049988</td>\n",
       "      <td>674.049988</td>\n",
       "      <td>2859400</td>\n",
       "    </tr>\n",
       "    <tr>\n",
       "      <th>4894</th>\n",
       "      <td>10/29/2021</td>\n",
       "      <td>673.059998</td>\n",
       "      <td>690.969971</td>\n",
       "      <td>671.239990</td>\n",
       "      <td>690.309998</td>\n",
       "      <td>690.309998</td>\n",
       "      <td>3817500</td>\n",
       "    </tr>\n",
       "  </tbody>\n",
       "</table>\n",
       "<p>4895 rows × 7 columns</p>\n",
       "</div>"
      ],
      "text/plain": [
       "            Date        Open        High         Low       Close   Adj Close  \\\n",
       "0      5/23/2002    1.156429    1.242857    1.145714    1.196429    1.196429   \n",
       "1      5/24/2002    1.214286    1.225000    1.197143    1.210000    1.210000   \n",
       "2      5/28/2002    1.213571    1.232143    1.157143    1.157143    1.157143   \n",
       "3      5/29/2002    1.164286    1.164286    1.085714    1.103571    1.103571   \n",
       "4      5/30/2002    1.107857    1.107857    1.071429    1.071429    1.071429   \n",
       "...          ...         ...         ...         ...         ...         ...   \n",
       "4890  10/25/2021  663.739990  675.880005  657.070007  671.659973  671.659973   \n",
       "4891  10/26/2021  673.760010  676.489990  662.770020  668.520020  668.520020   \n",
       "4892  10/27/2021  669.000000  671.409973  661.849976  662.919983  662.919983   \n",
       "4893  10/28/2021  670.950012  676.799988  668.030029  674.049988  674.049988   \n",
       "4894  10/29/2021  673.059998  690.969971  671.239990  690.309998  690.309998   \n",
       "\n",
       "         Volume  \n",
       "0     104790000  \n",
       "1      11104800  \n",
       "2       6609400  \n",
       "3       6757800  \n",
       "4      10154200  \n",
       "...         ...  \n",
       "4890    3833500  \n",
       "4891    2904800  \n",
       "4892    2276900  \n",
       "4893    2859400  \n",
       "4894    3817500  \n",
       "\n",
       "[4895 rows x 7 columns]"
      ]
     },
     "execution_count": 5,
     "metadata": {},
     "output_type": "execute_result"
    }
   ],
   "source": [
    "data = get_data(\"NFLX\")\n",
    "data"
   ]
  },
  {
   "cell_type": "code",
   "execution_count": 6,
   "metadata": {},
   "outputs": [
    {
     "data": {
      "text/plain": [
       "Date          object\n",
       "Open         float64\n",
       "High         float64\n",
       "Low          float64\n",
       "Close        float64\n",
       "Adj Close    float64\n",
       "Volume         int64\n",
       "dtype: object"
      ]
     },
     "execution_count": 6,
     "metadata": {},
     "output_type": "execute_result"
    }
   ],
   "source": [
    "data.dtypes"
   ]
  },
  {
   "cell_type": "code",
   "execution_count": 7,
   "metadata": {},
   "outputs": [
    {
     "data": {
      "text/plain": [
       "Date         False\n",
       "Open         False\n",
       "High         False\n",
       "Low          False\n",
       "Close        False\n",
       "Adj Close    False\n",
       "Volume       False\n",
       "dtype: bool"
      ]
     },
     "execution_count": 7,
     "metadata": {},
     "output_type": "execute_result"
    }
   ],
   "source": [
    "data.isna().any()"
   ]
  },
  {
   "cell_type": "code",
   "execution_count": 8,
   "metadata": {},
   "outputs": [
    {
     "data": {
      "text/html": [
       "<div>\n",
       "<style scoped>\n",
       "    .dataframe tbody tr th:only-of-type {\n",
       "        vertical-align: middle;\n",
       "    }\n",
       "\n",
       "    .dataframe tbody tr th {\n",
       "        vertical-align: top;\n",
       "    }\n",
       "\n",
       "    .dataframe thead th {\n",
       "        text-align: right;\n",
       "    }\n",
       "</style>\n",
       "<table border=\"1\" class=\"dataframe\">\n",
       "  <thead>\n",
       "    <tr style=\"text-align: right;\">\n",
       "      <th></th>\n",
       "    </tr>\n",
       "  </thead>\n",
       "  <tbody>\n",
       "    <tr>\n",
       "      <th>0</th>\n",
       "    </tr>\n",
       "    <tr>\n",
       "      <th>1</th>\n",
       "    </tr>\n",
       "    <tr>\n",
       "      <th>2</th>\n",
       "    </tr>\n",
       "    <tr>\n",
       "      <th>3</th>\n",
       "    </tr>\n",
       "    <tr>\n",
       "      <th>4</th>\n",
       "    </tr>\n",
       "    <tr>\n",
       "      <th>...</th>\n",
       "    </tr>\n",
       "    <tr>\n",
       "      <th>4890</th>\n",
       "    </tr>\n",
       "    <tr>\n",
       "      <th>4891</th>\n",
       "    </tr>\n",
       "    <tr>\n",
       "      <th>4892</th>\n",
       "    </tr>\n",
       "    <tr>\n",
       "      <th>4893</th>\n",
       "    </tr>\n",
       "    <tr>\n",
       "      <th>4894</th>\n",
       "    </tr>\n",
       "  </tbody>\n",
       "</table>\n",
       "<p>4895 rows × 0 columns</p>\n",
       "</div>"
      ],
      "text/plain": [
       "Empty DataFrame\n",
       "Columns: []\n",
       "Index: [0, 1, 2, 3, 4, 5, 6, 7, 8, 9, 10, 11, 12, 13, 14, 15, 16, 17, 18, 19, 20, 21, 22, 23, 24, 25, 26, 27, 28, 29, 30, 31, 32, 33, 34, 35, 36, 37, 38, 39, 40, 41, 42, 43, 44, 45, 46, 47, 48, 49, 50, 51, 52, 53, 54, 55, 56, 57, 58, 59, 60, 61, 62, 63, 64, 65, 66, 67, 68, 69, 70, 71, 72, 73, 74, 75, 76, 77, 78, 79, 80, 81, 82, 83, 84, 85, 86, 87, 88, 89, 90, 91, 92, 93, 94, 95, 96, 97, 98, 99, ...]\n",
       "\n",
       "[4895 rows x 0 columns]"
      ]
     },
     "execution_count": 8,
     "metadata": {},
     "output_type": "execute_result"
    }
   ],
   "source": [
    "data[data.columns[data.isna().any()]]"
   ]
  },
  {
   "cell_type": "code",
   "execution_count": 9,
   "metadata": {},
   "outputs": [
    {
     "name": "stdout",
     "output_type": "stream",
     "text": [
      "            Date        Open        High         Low       Close   Adj Close  \\\n",
      "0      5/23/2002    1.156429    1.242857    1.145714    1.196429    1.196429   \n",
      "1      5/24/2002    1.214286    1.225000    1.197143    1.210000    1.210000   \n",
      "2      5/28/2002    1.213571    1.232143    1.157143    1.157143    1.157143   \n",
      "3      5/29/2002    1.164286    1.164286    1.085714    1.103571    1.103571   \n",
      "4      5/30/2002    1.107857    1.107857    1.071429    1.071429    1.071429   \n",
      "...          ...         ...         ...         ...         ...         ...   \n",
      "4890  10/25/2021  663.739990  675.880005  657.070007  671.659973  671.659973   \n",
      "4891  10/26/2021  673.760010  676.489990  662.770020  668.520020  668.520020   \n",
      "4892  10/27/2021  669.000000  671.409973  661.849976  662.919983  662.919983   \n",
      "4893  10/28/2021  670.950012  676.799988  668.030029  674.049988  674.049988   \n",
      "4894  10/29/2021  673.059998  690.969971  671.239990  690.309998  690.309998   \n",
      "\n",
      "         Volume  cond1  cond2  cond3  \n",
      "0     104790000  False  False  False  \n",
      "1      11104800  False  False  False  \n",
      "2       6609400  False  False  False  \n",
      "3       6757800  False  False  False  \n",
      "4      10154200  False  False  False  \n",
      "...         ...    ...    ...    ...  \n",
      "4890    3833500  False  False  False  \n",
      "4891    2904800  False  False  False  \n",
      "4892    2276900  False  False  False  \n",
      "4893    2859400  False  False  False  \n",
      "4894    3817500  False  False  False  \n",
      "\n",
      "[4895 rows x 10 columns]\n"
     ]
    }
   ],
   "source": [
    "cond1 = data.Date.isna() # aapl['Date'].isna()\n",
    "cond2 = data.Date.str.contains(r'^\\s*$', na=False)\n",
    "cond3 = data.Date == ''\n",
    "\n",
    "data_checked = data.assign(cond1= cond1, cond2= cond2, cond3= cond3)\n",
    "print (data_checked)"
   ]
  },
  {
   "cell_type": "code",
   "execution_count": 10,
   "metadata": {},
   "outputs": [],
   "source": [
    "def simple_moving_average_5(close):\n",
    "    return close.rolling(5, min_periods=1).mean()"
   ]
  },
  {
   "cell_type": "code",
   "execution_count": 11,
   "metadata": {},
   "outputs": [],
   "source": [
    "def simple_moving_average_10(close):\n",
    "    return close.rolling(10, min_periods=1).mean()"
   ]
  },
  {
   "cell_type": "code",
   "execution_count": 12,
   "metadata": {},
   "outputs": [],
   "source": [
    "def stochastic_k(high, low, close):\n",
    "    return (((close-low.rolling(14).min())/(high.rolling(14).max()-low.rolling(14).min()))*100)"
   ]
  },
  {
   "cell_type": "code",
   "execution_count": 13,
   "metadata": {},
   "outputs": [],
   "source": [
    "def stochastic_d(stochastic_k):\n",
    "    return stochastic_k.rolling(3,min_periods=1).mean()"
   ]
  },
  {
   "cell_type": "code",
   "execution_count": 14,
   "metadata": {},
   "outputs": [],
   "source": [
    "def larry_williams_r(high, low, close):\n",
    "    return (((high.rolling(14).max()-close)/(high.rolling(14).max()-low.rolling(14).min()))*100)"
   ]
  },
  {
   "cell_type": "code",
   "execution_count": 15,
   "metadata": {},
   "outputs": [],
   "source": [
    "def rate_of_change(close):\n",
    "    return ((close-close.shift(12))/close.shift(12))"
   ]
  },
  {
   "cell_type": "code",
   "execution_count": 16,
   "metadata": {},
   "outputs": [],
   "source": [
    "def price_volume_trend(close, volume):\n",
    "    return (((close-close.shift(1))/close.shift(1))*volume)"
   ]
  },
  {
   "cell_type": "code",
   "execution_count": 17,
   "metadata": {},
   "outputs": [],
   "source": [
    "def accumulation_distribution_oscillator(high, low, close):\n",
    "    return((high-close.shift(1))/(high-low))"
   ]
  },
  {
   "cell_type": "code",
   "execution_count": 18,
   "metadata": {},
   "outputs": [],
   "source": [
    "def weighted_moving_average_10(close):\n",
    "    return ((10*close+9*close.shift(1)+8*close.shift(2)+7*close.shift(3)\n",
    "             +6*close.shift(4)+5*close.shift(5)+4*close.shift(6)+3*close.shift(7)\n",
    "             +2*close.shift(8)+close.shift(9))/(10+9+8+7+6+5+4+3+2+1))"
   ]
  },
  {
   "cell_type": "code",
   "execution_count": 19,
   "metadata": {},
   "outputs": [],
   "source": [
    "def exponential_moving_average_12(close):\n",
    "    return (close.ewm(span=12, adjust=False).mean())"
   ]
  },
  {
   "cell_type": "code",
   "execution_count": 20,
   "metadata": {},
   "outputs": [],
   "source": [
    "def exponential_moving_average_26(close):\n",
    "    return (close.ewm(span=26, adjust=False).mean())"
   ]
  },
  {
   "cell_type": "code",
   "execution_count": 21,
   "metadata": {},
   "outputs": [],
   "source": [
    "def moving_average_convergence_divergence(ema_12, ema_26):\n",
    "    return (ema_12 - ema_26)"
   ]
  },
  {
   "cell_type": "code",
   "execution_count": 22,
   "metadata": {},
   "outputs": [],
   "source": [
    "def momentum(close):\n",
    "    return ((close/close.shift(14))*100)"
   ]
  },
  {
   "cell_type": "code",
   "execution_count": 23,
   "metadata": {},
   "outputs": [],
   "source": [
    "def change(close):\n",
    "    return (close.shift(-1) - close)"
   ]
  },
  {
   "cell_type": "code",
   "execution_count": 24,
   "metadata": {},
   "outputs": [],
   "source": [
    "def direction(change):\n",
    "    return (np.where(change>0, 1, 0))"
   ]
  },
  {
   "cell_type": "code",
   "execution_count": 25,
   "metadata": {},
   "outputs": [],
   "source": [
    "def relative_strength_index(direction):\n",
    "    return (100-(100/(1+(direction.rolling(14).sum()/14)/(14-direction.rolling(14).sum())/14)))"
   ]
  },
  {
   "cell_type": "code",
   "execution_count": 26,
   "metadata": {},
   "outputs": [],
   "source": [
    "def channel_commodity_index(df, ndays): \n",
    "    df['TP'] = (df['High'] + df['Low'] + df['Close']) / 3 \n",
    "    df['sma'] = df['TP'].rolling(ndays).mean()\n",
    "    df['mad'] = df['TP'].rolling(ndays).apply(lambda x: pd.Series(x).mad())\n",
    "    df['CCI'] = (df['TP'] - df['sma']) / (0.015 * df['mad']) \n",
    "    return df['CCI']"
   ]
  },
  {
   "cell_type": "code",
   "execution_count": 27,
   "metadata": {},
   "outputs": [],
   "source": [
    "def disparity_index(close):\n",
    "    return (((close - close.rolling(14).mean())/(close.rolling(14).mean()))*100)"
   ]
  },
  {
   "cell_type": "code",
   "execution_count": 28,
   "metadata": {},
   "outputs": [],
   "source": [
    "def get_adx(high, low, close, lookback):\n",
    "    plus_dm = high.diff()\n",
    "    minus_dm = low.diff()\n",
    "    plus_dm[plus_dm < 0] = 0\n",
    "    minus_dm[minus_dm > 0] = 0\n",
    "    \n",
    "    tr1 = pd.DataFrame(high - low)\n",
    "    tr2 = pd.DataFrame(abs(high - close.shift(1)))\n",
    "    tr3 = pd.DataFrame(abs(low - close.shift(1)))\n",
    "    frames = [tr1, tr2, tr3]\n",
    "    tr = pd.concat(frames, axis = 1, join = 'inner').max(axis = 1)\n",
    "    atr = tr.rolling(lookback).mean()\n",
    "    \n",
    "    plus_di = 100 * (plus_dm.ewm(alpha = 1/lookback).mean() / atr)\n",
    "    minus_di = abs(100 * (minus_dm.ewm(alpha = 1/lookback).mean() / atr))\n",
    "    dx = (abs(plus_di - minus_di) / abs(plus_di + minus_di)) * 100\n",
    "    adx = ((dx.shift(1) * (lookback - 1)) + dx) / lookback\n",
    "    adx_smooth = adx.ewm(alpha = 1/lookback).mean()\n",
    "    return adx_smooth"
   ]
  },
  {
   "cell_type": "code",
   "execution_count": 29,
   "metadata": {},
   "outputs": [],
   "source": [
    "def aroon(close):\n",
    "    return (ta.trend.AroonIndicator(close, 25, True).aroon_indicator())"
   ]
  },
  {
   "cell_type": "code",
   "execution_count": 30,
   "metadata": {},
   "outputs": [],
   "source": [
    "def compute_all_indicators(data):\n",
    "    data['SMA5'] = simple_moving_average_5(data['Close'])\n",
    "    data['SMA10'] = simple_moving_average_10(data['Close'])\n",
    "    data['StochasticK'] = stochastic_k(data['High'], data['Low'], data['Close'])\n",
    "    data['StochasticD'] = stochastic_d(data['StochasticK'])\n",
    "    data['LarryWilliamsR'] = larry_williams_r(data['High'], data['Low'], data['Close'])\n",
    "    data['ROC'] = rate_of_change(data['Close'])\n",
    "    data['PVT'] = price_volume_trend(data['Close'], data['Volume'])\n",
    "    data['ADO'] = accumulation_distribution_oscillator(data['High'], data['Low'], data['Close'])\n",
    "    data['WMA10'] = weighted_moving_average_10(data['Close'])\n",
    "    data['EMA12'] = exponential_moving_average_12(data['Close'])\n",
    "    data['EMA26'] = exponential_moving_average_26(data['Close'])\n",
    "    data['MACD'] = moving_average_convergence_divergence(data['EMA12'], data['EMA26'])\n",
    "    data['Momentum'] = momentum(data['Close'])\n",
    "    data['Change'] = change(data['Close'])\n",
    "    data['Direction'] = direction(data['Change'])\n",
    "    data['RSI'] = relative_strength_index(data['Direction'])\n",
    "    data['CCI'] = channel_commodity_index(data, 14)\n",
    "    data['DI'] = disparity_index(data['Close'])\n",
    "    data['ADX'] = get_adx(data['High'], data['Low'], data['Close'], 14)\n",
    "    data['Aroon'] = aroon(data['Close'])    \n",
    "    return data"
   ]
  },
  {
   "cell_type": "code",
   "execution_count": 31,
   "metadata": {},
   "outputs": [
    {
     "data": {
      "text/html": [
       "<div>\n",
       "<style scoped>\n",
       "    .dataframe tbody tr th:only-of-type {\n",
       "        vertical-align: middle;\n",
       "    }\n",
       "\n",
       "    .dataframe tbody tr th {\n",
       "        vertical-align: top;\n",
       "    }\n",
       "\n",
       "    .dataframe thead th {\n",
       "        text-align: right;\n",
       "    }\n",
       "</style>\n",
       "<table border=\"1\" class=\"dataframe\">\n",
       "  <thead>\n",
       "    <tr style=\"text-align: right;\">\n",
       "      <th></th>\n",
       "      <th>Date</th>\n",
       "      <th>Open</th>\n",
       "      <th>High</th>\n",
       "      <th>Low</th>\n",
       "      <th>Close</th>\n",
       "      <th>Adj Close</th>\n",
       "      <th>Volume</th>\n",
       "      <th>SMA5</th>\n",
       "      <th>SMA10</th>\n",
       "      <th>StochasticK</th>\n",
       "      <th>...</th>\n",
       "      <th>Change</th>\n",
       "      <th>Direction</th>\n",
       "      <th>RSI</th>\n",
       "      <th>TP</th>\n",
       "      <th>sma</th>\n",
       "      <th>mad</th>\n",
       "      <th>CCI</th>\n",
       "      <th>DI</th>\n",
       "      <th>ADX</th>\n",
       "      <th>Aroon</th>\n",
       "    </tr>\n",
       "  </thead>\n",
       "  <tbody>\n",
       "    <tr>\n",
       "      <th>0</th>\n",
       "      <td>5/23/2002</td>\n",
       "      <td>1.156429</td>\n",
       "      <td>1.242857</td>\n",
       "      <td>1.145714</td>\n",
       "      <td>1.196429</td>\n",
       "      <td>1.196429</td>\n",
       "      <td>104790000</td>\n",
       "      <td>1.196429</td>\n",
       "      <td>1.196429</td>\n",
       "      <td>NaN</td>\n",
       "      <td>...</td>\n",
       "      <td>0.013571</td>\n",
       "      <td>1</td>\n",
       "      <td>NaN</td>\n",
       "      <td>1.195000</td>\n",
       "      <td>NaN</td>\n",
       "      <td>NaN</td>\n",
       "      <td>NaN</td>\n",
       "      <td>NaN</td>\n",
       "      <td>NaN</td>\n",
       "      <td>0.0</td>\n",
       "    </tr>\n",
       "    <tr>\n",
       "      <th>1</th>\n",
       "      <td>5/24/2002</td>\n",
       "      <td>1.214286</td>\n",
       "      <td>1.225000</td>\n",
       "      <td>1.197143</td>\n",
       "      <td>1.210000</td>\n",
       "      <td>1.210000</td>\n",
       "      <td>11104800</td>\n",
       "      <td>1.203215</td>\n",
       "      <td>1.203215</td>\n",
       "      <td>NaN</td>\n",
       "      <td>...</td>\n",
       "      <td>-0.052857</td>\n",
       "      <td>0</td>\n",
       "      <td>NaN</td>\n",
       "      <td>1.210714</td>\n",
       "      <td>NaN</td>\n",
       "      <td>NaN</td>\n",
       "      <td>NaN</td>\n",
       "      <td>NaN</td>\n",
       "      <td>NaN</td>\n",
       "      <td>4.0</td>\n",
       "    </tr>\n",
       "    <tr>\n",
       "      <th>2</th>\n",
       "      <td>5/28/2002</td>\n",
       "      <td>1.213571</td>\n",
       "      <td>1.232143</td>\n",
       "      <td>1.157143</td>\n",
       "      <td>1.157143</td>\n",
       "      <td>1.157143</td>\n",
       "      <td>6609400</td>\n",
       "      <td>1.187857</td>\n",
       "      <td>1.187857</td>\n",
       "      <td>NaN</td>\n",
       "      <td>...</td>\n",
       "      <td>-0.053572</td>\n",
       "      <td>0</td>\n",
       "      <td>NaN</td>\n",
       "      <td>1.182143</td>\n",
       "      <td>NaN</td>\n",
       "      <td>NaN</td>\n",
       "      <td>NaN</td>\n",
       "      <td>NaN</td>\n",
       "      <td>NaN</td>\n",
       "      <td>-4.0</td>\n",
       "    </tr>\n",
       "    <tr>\n",
       "      <th>3</th>\n",
       "      <td>5/29/2002</td>\n",
       "      <td>1.164286</td>\n",
       "      <td>1.164286</td>\n",
       "      <td>1.085714</td>\n",
       "      <td>1.103571</td>\n",
       "      <td>1.103571</td>\n",
       "      <td>6757800</td>\n",
       "      <td>1.166786</td>\n",
       "      <td>1.166786</td>\n",
       "      <td>NaN</td>\n",
       "      <td>...</td>\n",
       "      <td>-0.032142</td>\n",
       "      <td>0</td>\n",
       "      <td>NaN</td>\n",
       "      <td>1.117857</td>\n",
       "      <td>NaN</td>\n",
       "      <td>NaN</td>\n",
       "      <td>NaN</td>\n",
       "      <td>NaN</td>\n",
       "      <td>NaN</td>\n",
       "      <td>-8.0</td>\n",
       "    </tr>\n",
       "    <tr>\n",
       "      <th>4</th>\n",
       "      <td>5/30/2002</td>\n",
       "      <td>1.107857</td>\n",
       "      <td>1.107857</td>\n",
       "      <td>1.071429</td>\n",
       "      <td>1.071429</td>\n",
       "      <td>1.071429</td>\n",
       "      <td>10154200</td>\n",
       "      <td>1.147714</td>\n",
       "      <td>1.147714</td>\n",
       "      <td>NaN</td>\n",
       "      <td>...</td>\n",
       "      <td>0.005000</td>\n",
       "      <td>1</td>\n",
       "      <td>NaN</td>\n",
       "      <td>1.083572</td>\n",
       "      <td>NaN</td>\n",
       "      <td>NaN</td>\n",
       "      <td>NaN</td>\n",
       "      <td>NaN</td>\n",
       "      <td>NaN</td>\n",
       "      <td>-12.0</td>\n",
       "    </tr>\n",
       "    <tr>\n",
       "      <th>...</th>\n",
       "      <td>...</td>\n",
       "      <td>...</td>\n",
       "      <td>...</td>\n",
       "      <td>...</td>\n",
       "      <td>...</td>\n",
       "      <td>...</td>\n",
       "      <td>...</td>\n",
       "      <td>...</td>\n",
       "      <td>...</td>\n",
       "      <td>...</td>\n",
       "      <td>...</td>\n",
       "      <td>...</td>\n",
       "      <td>...</td>\n",
       "      <td>...</td>\n",
       "      <td>...</td>\n",
       "      <td>...</td>\n",
       "      <td>...</td>\n",
       "      <td>...</td>\n",
       "      <td>...</td>\n",
       "      <td>...</td>\n",
       "      <td>...</td>\n",
       "    </tr>\n",
       "    <tr>\n",
       "      <th>4890</th>\n",
       "      <td>10/25/2021</td>\n",
       "      <td>663.739990</td>\n",
       "      <td>675.880005</td>\n",
       "      <td>657.070007</td>\n",
       "      <td>671.659973</td>\n",
       "      <td>671.659973</td>\n",
       "      <td>3833500</td>\n",
       "      <td>650.747998</td>\n",
       "      <td>640.849994</td>\n",
       "      <td>92.814518</td>\n",
       "      <td>...</td>\n",
       "      <td>-3.139953</td>\n",
       "      <td>0</td>\n",
       "      <td>0.675676</td>\n",
       "      <td>668.203328</td>\n",
       "      <td>637.748567</td>\n",
       "      <td>8.702045</td>\n",
       "      <td>233.314986</td>\n",
       "      <td>5.191655</td>\n",
       "      <td>30.298693</td>\n",
       "      <td>96.0</td>\n",
       "    </tr>\n",
       "    <tr>\n",
       "      <th>4891</th>\n",
       "      <td>10/26/2021</td>\n",
       "      <td>673.760010</td>\n",
       "      <td>676.489990</td>\n",
       "      <td>662.770020</td>\n",
       "      <td>668.520020</td>\n",
       "      <td>668.520020</td>\n",
       "      <td>2904800</td>\n",
       "      <td>656.652002</td>\n",
       "      <td>645.207996</td>\n",
       "      <td>86.568968</td>\n",
       "      <td>...</td>\n",
       "      <td>-5.600037</td>\n",
       "      <td>0</td>\n",
       "      <td>0.675676</td>\n",
       "      <td>669.260010</td>\n",
       "      <td>640.187855</td>\n",
       "      <td>11.809801</td>\n",
       "      <td>164.113158</td>\n",
       "      <td>4.356440</td>\n",
       "      <td>30.769399</td>\n",
       "      <td>76.0</td>\n",
       "    </tr>\n",
       "    <tr>\n",
       "      <th>4892</th>\n",
       "      <td>10/27/2021</td>\n",
       "      <td>669.000000</td>\n",
       "      <td>671.409973</td>\n",
       "      <td>661.849976</td>\n",
       "      <td>662.919983</td>\n",
       "      <td>662.919983</td>\n",
       "      <td>2276900</td>\n",
       "      <td>664.207996</td>\n",
       "      <td>648.523993</td>\n",
       "      <td>77.131758</td>\n",
       "      <td>...</td>\n",
       "      <td>11.130005</td>\n",
       "      <td>1</td>\n",
       "      <td>0.675676</td>\n",
       "      <td>665.393311</td>\n",
       "      <td>642.260234</td>\n",
       "      <td>13.930309</td>\n",
       "      <td>110.708606</td>\n",
       "      <td>3.125012</td>\n",
       "      <td>31.225713</td>\n",
       "      <td>76.0</td>\n",
       "    </tr>\n",
       "    <tr>\n",
       "      <th>4893</th>\n",
       "      <td>10/28/2021</td>\n",
       "      <td>670.950012</td>\n",
       "      <td>676.799988</td>\n",
       "      <td>668.030029</td>\n",
       "      <td>674.049988</td>\n",
       "      <td>674.049988</td>\n",
       "      <td>2859400</td>\n",
       "      <td>668.385999</td>\n",
       "      <td>652.548993</td>\n",
       "      <td>95.389771</td>\n",
       "      <td>...</td>\n",
       "      <td>16.260010</td>\n",
       "      <td>1</td>\n",
       "      <td>0.910010</td>\n",
       "      <td>672.960002</td>\n",
       "      <td>644.916425</td>\n",
       "      <td>16.039255</td>\n",
       "      <td>116.562258</td>\n",
       "      <td>4.376381</td>\n",
       "      <td>31.577094</td>\n",
       "      <td>88.0</td>\n",
       "    </tr>\n",
       "    <tr>\n",
       "      <th>4894</th>\n",
       "      <td>10/29/2021</td>\n",
       "      <td>673.059998</td>\n",
       "      <td>690.969971</td>\n",
       "      <td>671.239990</td>\n",
       "      <td>690.309998</td>\n",
       "      <td>690.309998</td>\n",
       "      <td>3817500</td>\n",
       "      <td>673.491992</td>\n",
       "      <td>658.750995</td>\n",
       "      <td>99.105969</td>\n",
       "      <td>...</td>\n",
       "      <td>NaN</td>\n",
       "      <td>0</td>\n",
       "      <td>0.910010</td>\n",
       "      <td>684.173320</td>\n",
       "      <td>648.708806</td>\n",
       "      <td>18.345784</td>\n",
       "      <td>128.874349</td>\n",
       "      <td>6.151380</td>\n",
       "      <td>32.202746</td>\n",
       "      <td>92.0</td>\n",
       "    </tr>\n",
       "  </tbody>\n",
       "</table>\n",
       "<p>4895 rows × 30 columns</p>\n",
       "</div>"
      ],
      "text/plain": [
       "            Date        Open        High         Low       Close   Adj Close  \\\n",
       "0      5/23/2002    1.156429    1.242857    1.145714    1.196429    1.196429   \n",
       "1      5/24/2002    1.214286    1.225000    1.197143    1.210000    1.210000   \n",
       "2      5/28/2002    1.213571    1.232143    1.157143    1.157143    1.157143   \n",
       "3      5/29/2002    1.164286    1.164286    1.085714    1.103571    1.103571   \n",
       "4      5/30/2002    1.107857    1.107857    1.071429    1.071429    1.071429   \n",
       "...          ...         ...         ...         ...         ...         ...   \n",
       "4890  10/25/2021  663.739990  675.880005  657.070007  671.659973  671.659973   \n",
       "4891  10/26/2021  673.760010  676.489990  662.770020  668.520020  668.520020   \n",
       "4892  10/27/2021  669.000000  671.409973  661.849976  662.919983  662.919983   \n",
       "4893  10/28/2021  670.950012  676.799988  668.030029  674.049988  674.049988   \n",
       "4894  10/29/2021  673.059998  690.969971  671.239990  690.309998  690.309998   \n",
       "\n",
       "         Volume        SMA5       SMA10  StochasticK  ...     Change  \\\n",
       "0     104790000    1.196429    1.196429          NaN  ...   0.013571   \n",
       "1      11104800    1.203215    1.203215          NaN  ...  -0.052857   \n",
       "2       6609400    1.187857    1.187857          NaN  ...  -0.053572   \n",
       "3       6757800    1.166786    1.166786          NaN  ...  -0.032142   \n",
       "4      10154200    1.147714    1.147714          NaN  ...   0.005000   \n",
       "...         ...         ...         ...          ...  ...        ...   \n",
       "4890    3833500  650.747998  640.849994    92.814518  ...  -3.139953   \n",
       "4891    2904800  656.652002  645.207996    86.568968  ...  -5.600037   \n",
       "4892    2276900  664.207996  648.523993    77.131758  ...  11.130005   \n",
       "4893    2859400  668.385999  652.548993    95.389771  ...  16.260010   \n",
       "4894    3817500  673.491992  658.750995    99.105969  ...        NaN   \n",
       "\n",
       "      Direction       RSI          TP         sma        mad         CCI  \\\n",
       "0             1       NaN    1.195000         NaN        NaN         NaN   \n",
       "1             0       NaN    1.210714         NaN        NaN         NaN   \n",
       "2             0       NaN    1.182143         NaN        NaN         NaN   \n",
       "3             0       NaN    1.117857         NaN        NaN         NaN   \n",
       "4             1       NaN    1.083572         NaN        NaN         NaN   \n",
       "...         ...       ...         ...         ...        ...         ...   \n",
       "4890          0  0.675676  668.203328  637.748567   8.702045  233.314986   \n",
       "4891          0  0.675676  669.260010  640.187855  11.809801  164.113158   \n",
       "4892          1  0.675676  665.393311  642.260234  13.930309  110.708606   \n",
       "4893          1  0.910010  672.960002  644.916425  16.039255  116.562258   \n",
       "4894          0  0.910010  684.173320  648.708806  18.345784  128.874349   \n",
       "\n",
       "            DI        ADX  Aroon  \n",
       "0          NaN        NaN    0.0  \n",
       "1          NaN        NaN    4.0  \n",
       "2          NaN        NaN   -4.0  \n",
       "3          NaN        NaN   -8.0  \n",
       "4          NaN        NaN  -12.0  \n",
       "...        ...        ...    ...  \n",
       "4890  5.191655  30.298693   96.0  \n",
       "4891  4.356440  30.769399   76.0  \n",
       "4892  3.125012  31.225713   76.0  \n",
       "4893  4.376381  31.577094   88.0  \n",
       "4894  6.151380  32.202746   92.0  \n",
       "\n",
       "[4895 rows x 30 columns]"
      ]
     },
     "execution_count": 31,
     "metadata": {},
     "output_type": "execute_result"
    }
   ],
   "source": [
    "complete_data = compute_all_indicators(data)\n",
    "complete_data"
   ]
  },
  {
   "cell_type": "code",
   "execution_count": 32,
   "metadata": {},
   "outputs": [],
   "source": [
    "complete_data = complete_data.dropna()"
   ]
  },
  {
   "cell_type": "code",
   "execution_count": 33,
   "metadata": {},
   "outputs": [
    {
     "data": {
      "text/html": [
       "<div>\n",
       "<style scoped>\n",
       "    .dataframe tbody tr th:only-of-type {\n",
       "        vertical-align: middle;\n",
       "    }\n",
       "\n",
       "    .dataframe tbody tr th {\n",
       "        vertical-align: top;\n",
       "    }\n",
       "\n",
       "    .dataframe thead th {\n",
       "        text-align: right;\n",
       "    }\n",
       "</style>\n",
       "<table border=\"1\" class=\"dataframe\">\n",
       "  <thead>\n",
       "    <tr style=\"text-align: right;\">\n",
       "      <th></th>\n",
       "      <th>Date</th>\n",
       "      <th>Open</th>\n",
       "      <th>High</th>\n",
       "      <th>Low</th>\n",
       "      <th>Close</th>\n",
       "      <th>Adj Close</th>\n",
       "      <th>Volume</th>\n",
       "      <th>SMA5</th>\n",
       "      <th>SMA10</th>\n",
       "      <th>StochasticK</th>\n",
       "      <th>...</th>\n",
       "      <th>Change</th>\n",
       "      <th>Direction</th>\n",
       "      <th>RSI</th>\n",
       "      <th>TP</th>\n",
       "      <th>sma</th>\n",
       "      <th>mad</th>\n",
       "      <th>CCI</th>\n",
       "      <th>DI</th>\n",
       "      <th>ADX</th>\n",
       "      <th>Aroon</th>\n",
       "    </tr>\n",
       "  </thead>\n",
       "  <tbody>\n",
       "    <tr>\n",
       "      <th>14</th>\n",
       "      <td>6/13/2002</td>\n",
       "      <td>1.104286</td>\n",
       "      <td>1.122143</td>\n",
       "      <td>1.080000</td>\n",
       "      <td>1.082857</td>\n",
       "      <td>1.082857</td>\n",
       "      <td>2567600</td>\n",
       "      <td>1.120857</td>\n",
       "      <td>1.125643</td>\n",
       "      <td>7.110768</td>\n",
       "      <td>...</td>\n",
       "      <td>-0.096428</td>\n",
       "      <td>0</td>\n",
       "      <td>0.282646</td>\n",
       "      <td>1.095000</td>\n",
       "      <td>1.135578</td>\n",
       "      <td>0.031001</td>\n",
       "      <td>-87.262252</td>\n",
       "      <td>-4.041967</td>\n",
       "      <td>6.531289</td>\n",
       "      <td>-12.0</td>\n",
       "    </tr>\n",
       "    <tr>\n",
       "      <th>15</th>\n",
       "      <td>6/14/2002</td>\n",
       "      <td>1.082143</td>\n",
       "      <td>1.085714</td>\n",
       "      <td>0.980000</td>\n",
       "      <td>0.986429</td>\n",
       "      <td>0.986429</td>\n",
       "      <td>4783800</td>\n",
       "      <td>1.094429</td>\n",
       "      <td>1.116643</td>\n",
       "      <td>2.549744</td>\n",
       "      <td>...</td>\n",
       "      <td>-0.064286</td>\n",
       "      <td>0</td>\n",
       "      <td>0.282646</td>\n",
       "      <td>1.017381</td>\n",
       "      <td>1.121769</td>\n",
       "      <td>0.031939</td>\n",
       "      <td>-217.891706</td>\n",
       "      <td>-11.332225</td>\n",
       "      <td>9.143382</td>\n",
       "      <td>-56.0</td>\n",
       "    </tr>\n",
       "    <tr>\n",
       "      <th>16</th>\n",
       "      <td>6/17/2002</td>\n",
       "      <td>1.013571</td>\n",
       "      <td>1.059286</td>\n",
       "      <td>0.917857</td>\n",
       "      <td>0.922143</td>\n",
       "      <td>0.922143</td>\n",
       "      <td>4855200</td>\n",
       "      <td>1.047571</td>\n",
       "      <td>1.096000</td>\n",
       "      <td>1.363726</td>\n",
       "      <td>...</td>\n",
       "      <td>-0.011429</td>\n",
       "      <td>0</td>\n",
       "      <td>0.282646</td>\n",
       "      <td>0.966429</td>\n",
       "      <td>1.106361</td>\n",
       "      <td>0.041992</td>\n",
       "      <td>-222.155602</td>\n",
       "      <td>-15.840926</td>\n",
       "      <td>19.140010</td>\n",
       "      <td>-60.0</td>\n",
       "    </tr>\n",
       "    <tr>\n",
       "      <th>17</th>\n",
       "      <td>6/18/2002</td>\n",
       "      <td>0.938571</td>\n",
       "      <td>0.939286</td>\n",
       "      <td>0.842143</td>\n",
       "      <td>0.910714</td>\n",
       "      <td>0.910714</td>\n",
       "      <td>10808000</td>\n",
       "      <td>0.999000</td>\n",
       "      <td>1.075286</td>\n",
       "      <td>17.582308</td>\n",
       "      <td>...</td>\n",
       "      <td>0.040715</td>\n",
       "      <td>1</td>\n",
       "      <td>0.381194</td>\n",
       "      <td>0.897381</td>\n",
       "      <td>1.090612</td>\n",
       "      <td>0.058975</td>\n",
       "      <td>-218.434212</td>\n",
       "      <td>-15.825737</td>\n",
       "      <td>27.026513</td>\n",
       "      <td>-64.0</td>\n",
       "    </tr>\n",
       "    <tr>\n",
       "      <th>18</th>\n",
       "      <td>6/19/2002</td>\n",
       "      <td>0.911429</td>\n",
       "      <td>0.996429</td>\n",
       "      <td>0.892857</td>\n",
       "      <td>0.951429</td>\n",
       "      <td>0.951429</td>\n",
       "      <td>5482400</td>\n",
       "      <td>0.970714</td>\n",
       "      <td>1.055714</td>\n",
       "      <td>28.022051</td>\n",
       "      <td>...</td>\n",
       "      <td>0.005714</td>\n",
       "      <td>1</td>\n",
       "      <td>0.381194</td>\n",
       "      <td>0.946905</td>\n",
       "      <td>1.080850</td>\n",
       "      <td>0.071526</td>\n",
       "      <td>-124.845930</td>\n",
       "      <td>-11.360356</td>\n",
       "      <td>33.442196</td>\n",
       "      <td>-64.0</td>\n",
       "    </tr>\n",
       "    <tr>\n",
       "      <th>...</th>\n",
       "      <td>...</td>\n",
       "      <td>...</td>\n",
       "      <td>...</td>\n",
       "      <td>...</td>\n",
       "      <td>...</td>\n",
       "      <td>...</td>\n",
       "      <td>...</td>\n",
       "      <td>...</td>\n",
       "      <td>...</td>\n",
       "      <td>...</td>\n",
       "      <td>...</td>\n",
       "      <td>...</td>\n",
       "      <td>...</td>\n",
       "      <td>...</td>\n",
       "      <td>...</td>\n",
       "      <td>...</td>\n",
       "      <td>...</td>\n",
       "      <td>...</td>\n",
       "      <td>...</td>\n",
       "      <td>...</td>\n",
       "      <td>...</td>\n",
       "    </tr>\n",
       "    <tr>\n",
       "      <th>4889</th>\n",
       "      <td>10/22/2021</td>\n",
       "      <td>651.809998</td>\n",
       "      <td>665.460022</td>\n",
       "      <td>651.809998</td>\n",
       "      <td>664.780029</td>\n",
       "      <td>664.780029</td>\n",
       "      <td>6179700</td>\n",
       "      <td>644.009998</td>\n",
       "      <td>636.387994</td>\n",
       "      <td>98.839008</td>\n",
       "      <td>...</td>\n",
       "      <td>6.879944</td>\n",
       "      <td>1</td>\n",
       "      <td>0.910010</td>\n",
       "      <td>660.683350</td>\n",
       "      <td>634.831425</td>\n",
       "      <td>5.952110</td>\n",
       "      <td>289.554743</td>\n",
       "      <td>4.545124</td>\n",
       "      <td>30.296476</td>\n",
       "      <td>92.0</td>\n",
       "    </tr>\n",
       "    <tr>\n",
       "      <th>4890</th>\n",
       "      <td>10/25/2021</td>\n",
       "      <td>663.739990</td>\n",
       "      <td>675.880005</td>\n",
       "      <td>657.070007</td>\n",
       "      <td>671.659973</td>\n",
       "      <td>671.659973</td>\n",
       "      <td>3833500</td>\n",
       "      <td>650.747998</td>\n",
       "      <td>640.849994</td>\n",
       "      <td>92.814518</td>\n",
       "      <td>...</td>\n",
       "      <td>-3.139953</td>\n",
       "      <td>0</td>\n",
       "      <td>0.675676</td>\n",
       "      <td>668.203328</td>\n",
       "      <td>637.748567</td>\n",
       "      <td>8.702045</td>\n",
       "      <td>233.314986</td>\n",
       "      <td>5.191655</td>\n",
       "      <td>30.298693</td>\n",
       "      <td>96.0</td>\n",
       "    </tr>\n",
       "    <tr>\n",
       "      <th>4891</th>\n",
       "      <td>10/26/2021</td>\n",
       "      <td>673.760010</td>\n",
       "      <td>676.489990</td>\n",
       "      <td>662.770020</td>\n",
       "      <td>668.520020</td>\n",
       "      <td>668.520020</td>\n",
       "      <td>2904800</td>\n",
       "      <td>656.652002</td>\n",
       "      <td>645.207996</td>\n",
       "      <td>86.568968</td>\n",
       "      <td>...</td>\n",
       "      <td>-5.600037</td>\n",
       "      <td>0</td>\n",
       "      <td>0.675676</td>\n",
       "      <td>669.260010</td>\n",
       "      <td>640.187855</td>\n",
       "      <td>11.809801</td>\n",
       "      <td>164.113158</td>\n",
       "      <td>4.356440</td>\n",
       "      <td>30.769399</td>\n",
       "      <td>76.0</td>\n",
       "    </tr>\n",
       "    <tr>\n",
       "      <th>4892</th>\n",
       "      <td>10/27/2021</td>\n",
       "      <td>669.000000</td>\n",
       "      <td>671.409973</td>\n",
       "      <td>661.849976</td>\n",
       "      <td>662.919983</td>\n",
       "      <td>662.919983</td>\n",
       "      <td>2276900</td>\n",
       "      <td>664.207996</td>\n",
       "      <td>648.523993</td>\n",
       "      <td>77.131758</td>\n",
       "      <td>...</td>\n",
       "      <td>11.130005</td>\n",
       "      <td>1</td>\n",
       "      <td>0.675676</td>\n",
       "      <td>665.393311</td>\n",
       "      <td>642.260234</td>\n",
       "      <td>13.930309</td>\n",
       "      <td>110.708606</td>\n",
       "      <td>3.125012</td>\n",
       "      <td>31.225713</td>\n",
       "      <td>76.0</td>\n",
       "    </tr>\n",
       "    <tr>\n",
       "      <th>4893</th>\n",
       "      <td>10/28/2021</td>\n",
       "      <td>670.950012</td>\n",
       "      <td>676.799988</td>\n",
       "      <td>668.030029</td>\n",
       "      <td>674.049988</td>\n",
       "      <td>674.049988</td>\n",
       "      <td>2859400</td>\n",
       "      <td>668.385999</td>\n",
       "      <td>652.548993</td>\n",
       "      <td>95.389771</td>\n",
       "      <td>...</td>\n",
       "      <td>16.260010</td>\n",
       "      <td>1</td>\n",
       "      <td>0.910010</td>\n",
       "      <td>672.960002</td>\n",
       "      <td>644.916425</td>\n",
       "      <td>16.039255</td>\n",
       "      <td>116.562258</td>\n",
       "      <td>4.376381</td>\n",
       "      <td>31.577094</td>\n",
       "      <td>88.0</td>\n",
       "    </tr>\n",
       "  </tbody>\n",
       "</table>\n",
       "<p>4880 rows × 30 columns</p>\n",
       "</div>"
      ],
      "text/plain": [
       "            Date        Open        High         Low       Close   Adj Close  \\\n",
       "14     6/13/2002    1.104286    1.122143    1.080000    1.082857    1.082857   \n",
       "15     6/14/2002    1.082143    1.085714    0.980000    0.986429    0.986429   \n",
       "16     6/17/2002    1.013571    1.059286    0.917857    0.922143    0.922143   \n",
       "17     6/18/2002    0.938571    0.939286    0.842143    0.910714    0.910714   \n",
       "18     6/19/2002    0.911429    0.996429    0.892857    0.951429    0.951429   \n",
       "...          ...         ...         ...         ...         ...         ...   \n",
       "4889  10/22/2021  651.809998  665.460022  651.809998  664.780029  664.780029   \n",
       "4890  10/25/2021  663.739990  675.880005  657.070007  671.659973  671.659973   \n",
       "4891  10/26/2021  673.760010  676.489990  662.770020  668.520020  668.520020   \n",
       "4892  10/27/2021  669.000000  671.409973  661.849976  662.919983  662.919983   \n",
       "4893  10/28/2021  670.950012  676.799988  668.030029  674.049988  674.049988   \n",
       "\n",
       "        Volume        SMA5       SMA10  StochasticK  ...     Change  \\\n",
       "14     2567600    1.120857    1.125643     7.110768  ...  -0.096428   \n",
       "15     4783800    1.094429    1.116643     2.549744  ...  -0.064286   \n",
       "16     4855200    1.047571    1.096000     1.363726  ...  -0.011429   \n",
       "17    10808000    0.999000    1.075286    17.582308  ...   0.040715   \n",
       "18     5482400    0.970714    1.055714    28.022051  ...   0.005714   \n",
       "...        ...         ...         ...          ...  ...        ...   \n",
       "4889   6179700  644.009998  636.387994    98.839008  ...   6.879944   \n",
       "4890   3833500  650.747998  640.849994    92.814518  ...  -3.139953   \n",
       "4891   2904800  656.652002  645.207996    86.568968  ...  -5.600037   \n",
       "4892   2276900  664.207996  648.523993    77.131758  ...  11.130005   \n",
       "4893   2859400  668.385999  652.548993    95.389771  ...  16.260010   \n",
       "\n",
       "      Direction       RSI          TP         sma        mad         CCI  \\\n",
       "14            0  0.282646    1.095000    1.135578   0.031001  -87.262252   \n",
       "15            0  0.282646    1.017381    1.121769   0.031939 -217.891706   \n",
       "16            0  0.282646    0.966429    1.106361   0.041992 -222.155602   \n",
       "17            1  0.381194    0.897381    1.090612   0.058975 -218.434212   \n",
       "18            1  0.381194    0.946905    1.080850   0.071526 -124.845930   \n",
       "...         ...       ...         ...         ...        ...         ...   \n",
       "4889          1  0.910010  660.683350  634.831425   5.952110  289.554743   \n",
       "4890          0  0.675676  668.203328  637.748567   8.702045  233.314986   \n",
       "4891          0  0.675676  669.260010  640.187855  11.809801  164.113158   \n",
       "4892          1  0.675676  665.393311  642.260234  13.930309  110.708606   \n",
       "4893          1  0.910010  672.960002  644.916425  16.039255  116.562258   \n",
       "\n",
       "             DI        ADX  Aroon  \n",
       "14    -4.041967   6.531289  -12.0  \n",
       "15   -11.332225   9.143382  -56.0  \n",
       "16   -15.840926  19.140010  -60.0  \n",
       "17   -15.825737  27.026513  -64.0  \n",
       "18   -11.360356  33.442196  -64.0  \n",
       "...         ...        ...    ...  \n",
       "4889   4.545124  30.296476   92.0  \n",
       "4890   5.191655  30.298693   96.0  \n",
       "4891   4.356440  30.769399   76.0  \n",
       "4892   3.125012  31.225713   76.0  \n",
       "4893   4.376381  31.577094   88.0  \n",
       "\n",
       "[4880 rows x 30 columns]"
      ]
     },
     "execution_count": 33,
     "metadata": {},
     "output_type": "execute_result"
    }
   ],
   "source": [
    "complete_data"
   ]
  },
  {
   "cell_type": "code",
   "execution_count": 34,
   "metadata": {},
   "outputs": [],
   "source": [
    "complete_data = complete_data.drop(['TP', 'sma', 'mad', 'Change'], axis=1)"
   ]
  },
  {
   "cell_type": "code",
   "execution_count": 35,
   "metadata": {},
   "outputs": [
    {
     "data": {
      "text/html": [
       "<div>\n",
       "<style scoped>\n",
       "    .dataframe tbody tr th:only-of-type {\n",
       "        vertical-align: middle;\n",
       "    }\n",
       "\n",
       "    .dataframe tbody tr th {\n",
       "        vertical-align: top;\n",
       "    }\n",
       "\n",
       "    .dataframe thead th {\n",
       "        text-align: right;\n",
       "    }\n",
       "</style>\n",
       "<table border=\"1\" class=\"dataframe\">\n",
       "  <thead>\n",
       "    <tr style=\"text-align: right;\">\n",
       "      <th></th>\n",
       "      <th>Date</th>\n",
       "      <th>Open</th>\n",
       "      <th>High</th>\n",
       "      <th>Low</th>\n",
       "      <th>Close</th>\n",
       "      <th>Adj Close</th>\n",
       "      <th>Volume</th>\n",
       "      <th>SMA5</th>\n",
       "      <th>SMA10</th>\n",
       "      <th>StochasticK</th>\n",
       "      <th>...</th>\n",
       "      <th>EMA12</th>\n",
       "      <th>EMA26</th>\n",
       "      <th>MACD</th>\n",
       "      <th>Momentum</th>\n",
       "      <th>Direction</th>\n",
       "      <th>RSI</th>\n",
       "      <th>CCI</th>\n",
       "      <th>DI</th>\n",
       "      <th>ADX</th>\n",
       "      <th>Aroon</th>\n",
       "    </tr>\n",
       "  </thead>\n",
       "  <tbody>\n",
       "    <tr>\n",
       "      <th>14</th>\n",
       "      <td>6/13/2002</td>\n",
       "      <td>1.104286</td>\n",
       "      <td>1.122143</td>\n",
       "      <td>1.080000</td>\n",
       "      <td>1.082857</td>\n",
       "      <td>1.082857</td>\n",
       "      <td>2567600</td>\n",
       "      <td>1.120857</td>\n",
       "      <td>1.125643</td>\n",
       "      <td>7.110768</td>\n",
       "      <td>...</td>\n",
       "      <td>1.130077</td>\n",
       "      <td>1.149996</td>\n",
       "      <td>-0.019919</td>\n",
       "      <td>90.507418</td>\n",
       "      <td>0</td>\n",
       "      <td>0.282646</td>\n",
       "      <td>-87.262252</td>\n",
       "      <td>-4.041967</td>\n",
       "      <td>6.531289</td>\n",
       "      <td>-12.0</td>\n",
       "    </tr>\n",
       "    <tr>\n",
       "      <th>15</th>\n",
       "      <td>6/14/2002</td>\n",
       "      <td>1.082143</td>\n",
       "      <td>1.085714</td>\n",
       "      <td>0.980000</td>\n",
       "      <td>0.986429</td>\n",
       "      <td>0.986429</td>\n",
       "      <td>4783800</td>\n",
       "      <td>1.094429</td>\n",
       "      <td>1.116643</td>\n",
       "      <td>2.549744</td>\n",
       "      <td>...</td>\n",
       "      <td>1.107977</td>\n",
       "      <td>1.137880</td>\n",
       "      <td>-0.029902</td>\n",
       "      <td>81.523058</td>\n",
       "      <td>0</td>\n",
       "      <td>0.282646</td>\n",
       "      <td>-217.891706</td>\n",
       "      <td>-11.332225</td>\n",
       "      <td>9.143382</td>\n",
       "      <td>-56.0</td>\n",
       "    </tr>\n",
       "    <tr>\n",
       "      <th>16</th>\n",
       "      <td>6/17/2002</td>\n",
       "      <td>1.013571</td>\n",
       "      <td>1.059286</td>\n",
       "      <td>0.917857</td>\n",
       "      <td>0.922143</td>\n",
       "      <td>0.922143</td>\n",
       "      <td>4855200</td>\n",
       "      <td>1.047571</td>\n",
       "      <td>1.096000</td>\n",
       "      <td>1.363726</td>\n",
       "      <td>...</td>\n",
       "      <td>1.079387</td>\n",
       "      <td>1.121899</td>\n",
       "      <td>-0.042512</td>\n",
       "      <td>79.691361</td>\n",
       "      <td>0</td>\n",
       "      <td>0.282646</td>\n",
       "      <td>-222.155602</td>\n",
       "      <td>-15.840926</td>\n",
       "      <td>19.140010</td>\n",
       "      <td>-60.0</td>\n",
       "    </tr>\n",
       "    <tr>\n",
       "      <th>17</th>\n",
       "      <td>6/18/2002</td>\n",
       "      <td>0.938571</td>\n",
       "      <td>0.939286</td>\n",
       "      <td>0.842143</td>\n",
       "      <td>0.910714</td>\n",
       "      <td>0.910714</td>\n",
       "      <td>10808000</td>\n",
       "      <td>0.999000</td>\n",
       "      <td>1.075286</td>\n",
       "      <td>17.582308</td>\n",
       "      <td>...</td>\n",
       "      <td>1.053438</td>\n",
       "      <td>1.106256</td>\n",
       "      <td>-0.052818</td>\n",
       "      <td>82.524278</td>\n",
       "      <td>1</td>\n",
       "      <td>0.381194</td>\n",
       "      <td>-218.434212</td>\n",
       "      <td>-15.825737</td>\n",
       "      <td>27.026513</td>\n",
       "      <td>-64.0</td>\n",
       "    </tr>\n",
       "    <tr>\n",
       "      <th>18</th>\n",
       "      <td>6/19/2002</td>\n",
       "      <td>0.911429</td>\n",
       "      <td>0.996429</td>\n",
       "      <td>0.892857</td>\n",
       "      <td>0.951429</td>\n",
       "      <td>0.951429</td>\n",
       "      <td>5482400</td>\n",
       "      <td>0.970714</td>\n",
       "      <td>1.055714</td>\n",
       "      <td>28.022051</td>\n",
       "      <td>...</td>\n",
       "      <td>1.037744</td>\n",
       "      <td>1.094787</td>\n",
       "      <td>-0.057043</td>\n",
       "      <td>88.800004</td>\n",
       "      <td>1</td>\n",
       "      <td>0.381194</td>\n",
       "      <td>-124.845930</td>\n",
       "      <td>-11.360356</td>\n",
       "      <td>33.442196</td>\n",
       "      <td>-64.0</td>\n",
       "    </tr>\n",
       "    <tr>\n",
       "      <th>...</th>\n",
       "      <td>...</td>\n",
       "      <td>...</td>\n",
       "      <td>...</td>\n",
       "      <td>...</td>\n",
       "      <td>...</td>\n",
       "      <td>...</td>\n",
       "      <td>...</td>\n",
       "      <td>...</td>\n",
       "      <td>...</td>\n",
       "      <td>...</td>\n",
       "      <td>...</td>\n",
       "      <td>...</td>\n",
       "      <td>...</td>\n",
       "      <td>...</td>\n",
       "      <td>...</td>\n",
       "      <td>...</td>\n",
       "      <td>...</td>\n",
       "      <td>...</td>\n",
       "      <td>...</td>\n",
       "      <td>...</td>\n",
       "      <td>...</td>\n",
       "    </tr>\n",
       "    <tr>\n",
       "      <th>4889</th>\n",
       "      <td>10/22/2021</td>\n",
       "      <td>651.809998</td>\n",
       "      <td>665.460022</td>\n",
       "      <td>651.809998</td>\n",
       "      <td>664.780029</td>\n",
       "      <td>664.780029</td>\n",
       "      <td>6179700</td>\n",
       "      <td>644.009998</td>\n",
       "      <td>636.387994</td>\n",
       "      <td>98.839008</td>\n",
       "      <td>...</td>\n",
       "      <td>636.218990</td>\n",
       "      <td>619.660215</td>\n",
       "      <td>16.558775</td>\n",
       "      <td>110.181496</td>\n",
       "      <td>1</td>\n",
       "      <td>0.910010</td>\n",
       "      <td>289.554743</td>\n",
       "      <td>4.545124</td>\n",
       "      <td>30.296476</td>\n",
       "      <td>92.0</td>\n",
       "    </tr>\n",
       "    <tr>\n",
       "      <th>4890</th>\n",
       "      <td>10/25/2021</td>\n",
       "      <td>663.739990</td>\n",
       "      <td>675.880005</td>\n",
       "      <td>657.070007</td>\n",
       "      <td>671.659973</td>\n",
       "      <td>671.659973</td>\n",
       "      <td>3833500</td>\n",
       "      <td>650.747998</td>\n",
       "      <td>640.849994</td>\n",
       "      <td>92.814518</td>\n",
       "      <td>...</td>\n",
       "      <td>641.671449</td>\n",
       "      <td>623.512049</td>\n",
       "      <td>18.159400</td>\n",
       "      <td>105.804883</td>\n",
       "      <td>0</td>\n",
       "      <td>0.675676</td>\n",
       "      <td>233.314986</td>\n",
       "      <td>5.191655</td>\n",
       "      <td>30.298693</td>\n",
       "      <td>96.0</td>\n",
       "    </tr>\n",
       "    <tr>\n",
       "      <th>4891</th>\n",
       "      <td>10/26/2021</td>\n",
       "      <td>673.760010</td>\n",
       "      <td>676.489990</td>\n",
       "      <td>662.770020</td>\n",
       "      <td>668.520020</td>\n",
       "      <td>668.520020</td>\n",
       "      <td>2904800</td>\n",
       "      <td>656.652002</td>\n",
       "      <td>645.207996</td>\n",
       "      <td>86.568968</td>\n",
       "      <td>...</td>\n",
       "      <td>645.801998</td>\n",
       "      <td>626.845973</td>\n",
       "      <td>18.956025</td>\n",
       "      <td>104.603356</td>\n",
       "      <td>0</td>\n",
       "      <td>0.675676</td>\n",
       "      <td>164.113158</td>\n",
       "      <td>4.356440</td>\n",
       "      <td>30.769399</td>\n",
       "      <td>76.0</td>\n",
       "    </tr>\n",
       "    <tr>\n",
       "      <th>4892</th>\n",
       "      <td>10/27/2021</td>\n",
       "      <td>669.000000</td>\n",
       "      <td>671.409973</td>\n",
       "      <td>661.849976</td>\n",
       "      <td>662.919983</td>\n",
       "      <td>662.919983</td>\n",
       "      <td>2276900</td>\n",
       "      <td>664.207996</td>\n",
       "      <td>648.523993</td>\n",
       "      <td>77.131758</td>\n",
       "      <td>...</td>\n",
       "      <td>648.435534</td>\n",
       "      <td>629.518122</td>\n",
       "      <td>18.917412</td>\n",
       "      <td>104.917308</td>\n",
       "      <td>1</td>\n",
       "      <td>0.675676</td>\n",
       "      <td>110.708606</td>\n",
       "      <td>3.125012</td>\n",
       "      <td>31.225713</td>\n",
       "      <td>76.0</td>\n",
       "    </tr>\n",
       "    <tr>\n",
       "      <th>4893</th>\n",
       "      <td>10/28/2021</td>\n",
       "      <td>670.950012</td>\n",
       "      <td>676.799988</td>\n",
       "      <td>668.030029</td>\n",
       "      <td>674.049988</td>\n",
       "      <td>674.049988</td>\n",
       "      <td>2859400</td>\n",
       "      <td>668.385999</td>\n",
       "      <td>652.548993</td>\n",
       "      <td>95.389771</td>\n",
       "      <td>...</td>\n",
       "      <td>652.376219</td>\n",
       "      <td>632.816779</td>\n",
       "      <td>19.559441</td>\n",
       "      <td>106.542221</td>\n",
       "      <td>1</td>\n",
       "      <td>0.910010</td>\n",
       "      <td>116.562258</td>\n",
       "      <td>4.376381</td>\n",
       "      <td>31.577094</td>\n",
       "      <td>88.0</td>\n",
       "    </tr>\n",
       "  </tbody>\n",
       "</table>\n",
       "<p>4880 rows × 26 columns</p>\n",
       "</div>"
      ],
      "text/plain": [
       "            Date        Open        High         Low       Close   Adj Close  \\\n",
       "14     6/13/2002    1.104286    1.122143    1.080000    1.082857    1.082857   \n",
       "15     6/14/2002    1.082143    1.085714    0.980000    0.986429    0.986429   \n",
       "16     6/17/2002    1.013571    1.059286    0.917857    0.922143    0.922143   \n",
       "17     6/18/2002    0.938571    0.939286    0.842143    0.910714    0.910714   \n",
       "18     6/19/2002    0.911429    0.996429    0.892857    0.951429    0.951429   \n",
       "...          ...         ...         ...         ...         ...         ...   \n",
       "4889  10/22/2021  651.809998  665.460022  651.809998  664.780029  664.780029   \n",
       "4890  10/25/2021  663.739990  675.880005  657.070007  671.659973  671.659973   \n",
       "4891  10/26/2021  673.760010  676.489990  662.770020  668.520020  668.520020   \n",
       "4892  10/27/2021  669.000000  671.409973  661.849976  662.919983  662.919983   \n",
       "4893  10/28/2021  670.950012  676.799988  668.030029  674.049988  674.049988   \n",
       "\n",
       "        Volume        SMA5       SMA10  StochasticK  ...       EMA12  \\\n",
       "14     2567600    1.120857    1.125643     7.110768  ...    1.130077   \n",
       "15     4783800    1.094429    1.116643     2.549744  ...    1.107977   \n",
       "16     4855200    1.047571    1.096000     1.363726  ...    1.079387   \n",
       "17    10808000    0.999000    1.075286    17.582308  ...    1.053438   \n",
       "18     5482400    0.970714    1.055714    28.022051  ...    1.037744   \n",
       "...        ...         ...         ...          ...  ...         ...   \n",
       "4889   6179700  644.009998  636.387994    98.839008  ...  636.218990   \n",
       "4890   3833500  650.747998  640.849994    92.814518  ...  641.671449   \n",
       "4891   2904800  656.652002  645.207996    86.568968  ...  645.801998   \n",
       "4892   2276900  664.207996  648.523993    77.131758  ...  648.435534   \n",
       "4893   2859400  668.385999  652.548993    95.389771  ...  652.376219   \n",
       "\n",
       "           EMA26       MACD    Momentum  Direction       RSI         CCI  \\\n",
       "14      1.149996  -0.019919   90.507418          0  0.282646  -87.262252   \n",
       "15      1.137880  -0.029902   81.523058          0  0.282646 -217.891706   \n",
       "16      1.121899  -0.042512   79.691361          0  0.282646 -222.155602   \n",
       "17      1.106256  -0.052818   82.524278          1  0.381194 -218.434212   \n",
       "18      1.094787  -0.057043   88.800004          1  0.381194 -124.845930   \n",
       "...          ...        ...         ...        ...       ...         ...   \n",
       "4889  619.660215  16.558775  110.181496          1  0.910010  289.554743   \n",
       "4890  623.512049  18.159400  105.804883          0  0.675676  233.314986   \n",
       "4891  626.845973  18.956025  104.603356          0  0.675676  164.113158   \n",
       "4892  629.518122  18.917412  104.917308          1  0.675676  110.708606   \n",
       "4893  632.816779  19.559441  106.542221          1  0.910010  116.562258   \n",
       "\n",
       "             DI        ADX  Aroon  \n",
       "14    -4.041967   6.531289  -12.0  \n",
       "15   -11.332225   9.143382  -56.0  \n",
       "16   -15.840926  19.140010  -60.0  \n",
       "17   -15.825737  27.026513  -64.0  \n",
       "18   -11.360356  33.442196  -64.0  \n",
       "...         ...        ...    ...  \n",
       "4889   4.545124  30.296476   92.0  \n",
       "4890   5.191655  30.298693   96.0  \n",
       "4891   4.356440  30.769399   76.0  \n",
       "4892   3.125012  31.225713   76.0  \n",
       "4893   4.376381  31.577094   88.0  \n",
       "\n",
       "[4880 rows x 26 columns]"
      ]
     },
     "execution_count": 35,
     "metadata": {},
     "output_type": "execute_result"
    }
   ],
   "source": [
    "complete_data"
   ]
  },
  {
   "cell_type": "code",
   "execution_count": null,
   "metadata": {},
   "outputs": [],
   "source": [
    "#corrMatrix = complete_data.corr()\n",
    "#print(corrMatrix)"
   ]
  },
  {
   "cell_type": "code",
   "execution_count": null,
   "metadata": {},
   "outputs": [],
   "source": [
    "#sn.heatmap(corrMatrix, annot=False)\n",
    "#plt.show()"
   ]
  },
  {
   "cell_type": "code",
   "execution_count": null,
   "metadata": {},
   "outputs": [],
   "source": [
    "#corr_pairs = corrMatrix.unstack()\n",
    "#corr_pairs"
   ]
  },
  {
   "cell_type": "code",
   "execution_count": null,
   "metadata": {},
   "outputs": [],
   "source": [
    "#sorted_pairs = corr_pairs.sort_values(kind=\"quicksort\")\n",
    "#sorted_pairs"
   ]
  },
  {
   "cell_type": "code",
   "execution_count": null,
   "metadata": {},
   "outputs": [],
   "source": [
    "#strong_pairs = sorted_pairs[abs(sorted_pairs) > 0.5]\n",
    "\n",
    "#print(strong_pairs)"
   ]
  },
  {
   "cell_type": "code",
   "execution_count": null,
   "metadata": {},
   "outputs": [],
   "source": [
    "## strong_pairs[strong_pairs.index[0][0] == strong_pairs.index[0][1]]\n",
    "\n",
    "#removed_diagonal = [(i, j) for (i, j) in strong_pairs.index if i!=j]\n",
    "#len(removed_diagonal)"
   ]
  },
  {
   "cell_type": "code",
   "execution_count": null,
   "metadata": {
    "scrolled": false
   },
   "outputs": [],
   "source": [
    "## # Create correlation matrix\n",
    "## corr_matrix = complete_data.corr().abs()\n",
    "\n",
    "## # Select upper triangle of correlation matrix\n",
    "## upper = corr_matrix.where(np.triu(np.ones(corr_matrix.shape), k=1).astype(np.bool8))\n",
    "\n",
    "## # Find index of feature columns with correlation greater than 0.95\n",
    "## to_drop = [column for column in upper.columns if any(upper[column] > 0.95)]\n",
    "## to_drop"
   ]
  },
  {
   "cell_type": "code",
   "execution_count": null,
   "metadata": {},
   "outputs": [],
   "source": [
    "## Find index of feature columns with correlation greater than 0.8\n",
    "\n",
    "#correlated_features = set()\n",
    "#for i in range(len(corrMatrix.columns)):\n",
    " #   for j in range(i):\n",
    "  #      if abs(corrMatrix.iloc[i, j]) > 0.8:\n",
    "   #         colname = corrMatrix.columns[i]\n",
    "    #        correlated_features.add(colname)"
   ]
  },
  {
   "cell_type": "code",
   "execution_count": null,
   "metadata": {},
   "outputs": [],
   "source": [
    "#correlated_features"
   ]
  },
  {
   "cell_type": "code",
   "execution_count": null,
   "metadata": {},
   "outputs": [],
   "source": [
    "#complete_data = complete_data.drop(labels=correlated_features, axis=1)"
   ]
  },
  {
   "cell_type": "code",
   "execution_count": null,
   "metadata": {},
   "outputs": [],
   "source": [
    "#complete_data"
   ]
  },
  {
   "cell_type": "code",
   "execution_count": 36,
   "metadata": {
    "scrolled": false
   },
   "outputs": [
    {
     "data": {
      "text/html": [
       "<div>\n",
       "<style scoped>\n",
       "    .dataframe tbody tr th:only-of-type {\n",
       "        vertical-align: middle;\n",
       "    }\n",
       "\n",
       "    .dataframe tbody tr th {\n",
       "        vertical-align: top;\n",
       "    }\n",
       "\n",
       "    .dataframe thead th {\n",
       "        text-align: right;\n",
       "    }\n",
       "</style>\n",
       "<table border=\"1\" class=\"dataframe\">\n",
       "  <thead>\n",
       "    <tr style=\"text-align: right;\">\n",
       "      <th></th>\n",
       "      <th>Open</th>\n",
       "      <th>High</th>\n",
       "      <th>Low</th>\n",
       "      <th>Close</th>\n",
       "      <th>Adj Close</th>\n",
       "      <th>Volume</th>\n",
       "      <th>SMA5</th>\n",
       "      <th>SMA10</th>\n",
       "      <th>StochasticK</th>\n",
       "      <th>StochasticD</th>\n",
       "      <th>...</th>\n",
       "      <th>WMA10</th>\n",
       "      <th>EMA12</th>\n",
       "      <th>EMA26</th>\n",
       "      <th>MACD</th>\n",
       "      <th>Momentum</th>\n",
       "      <th>RSI</th>\n",
       "      <th>CCI</th>\n",
       "      <th>DI</th>\n",
       "      <th>ADX</th>\n",
       "      <th>Aroon</th>\n",
       "    </tr>\n",
       "  </thead>\n",
       "  <tbody>\n",
       "    <tr>\n",
       "      <th>14</th>\n",
       "      <td>1.104286</td>\n",
       "      <td>1.122143</td>\n",
       "      <td>1.080000</td>\n",
       "      <td>1.082857</td>\n",
       "      <td>1.082857</td>\n",
       "      <td>2567600</td>\n",
       "      <td>1.120857</td>\n",
       "      <td>1.125643</td>\n",
       "      <td>7.110768</td>\n",
       "      <td>9.805238</td>\n",
       "      <td>...</td>\n",
       "      <td>1.125195</td>\n",
       "      <td>1.130077</td>\n",
       "      <td>1.149996</td>\n",
       "      <td>-0.019919</td>\n",
       "      <td>90.507418</td>\n",
       "      <td>0.282646</td>\n",
       "      <td>-87.262252</td>\n",
       "      <td>-4.041967</td>\n",
       "      <td>6.531289</td>\n",
       "      <td>-12.0</td>\n",
       "    </tr>\n",
       "    <tr>\n",
       "      <th>15</th>\n",
       "      <td>1.082143</td>\n",
       "      <td>1.085714</td>\n",
       "      <td>0.980000</td>\n",
       "      <td>0.986429</td>\n",
       "      <td>0.986429</td>\n",
       "      <td>4783800</td>\n",
       "      <td>1.094429</td>\n",
       "      <td>1.116643</td>\n",
       "      <td>2.549744</td>\n",
       "      <td>7.386740</td>\n",
       "      <td>...</td>\n",
       "      <td>1.099883</td>\n",
       "      <td>1.107977</td>\n",
       "      <td>1.137880</td>\n",
       "      <td>-0.029902</td>\n",
       "      <td>81.523058</td>\n",
       "      <td>0.282646</td>\n",
       "      <td>-217.891706</td>\n",
       "      <td>-11.332225</td>\n",
       "      <td>9.143382</td>\n",
       "      <td>-56.0</td>\n",
       "    </tr>\n",
       "    <tr>\n",
       "      <th>16</th>\n",
       "      <td>1.013571</td>\n",
       "      <td>1.059286</td>\n",
       "      <td>0.917857</td>\n",
       "      <td>0.922143</td>\n",
       "      <td>0.922143</td>\n",
       "      <td>4855200</td>\n",
       "      <td>1.047571</td>\n",
       "      <td>1.096000</td>\n",
       "      <td>1.363726</td>\n",
       "      <td>3.674746</td>\n",
       "      <td>...</td>\n",
       "      <td>1.064520</td>\n",
       "      <td>1.079387</td>\n",
       "      <td>1.121899</td>\n",
       "      <td>-0.042512</td>\n",
       "      <td>79.691361</td>\n",
       "      <td>0.282646</td>\n",
       "      <td>-222.155602</td>\n",
       "      <td>-15.840926</td>\n",
       "      <td>19.140010</td>\n",
       "      <td>-60.0</td>\n",
       "    </tr>\n",
       "    <tr>\n",
       "      <th>17</th>\n",
       "      <td>0.938571</td>\n",
       "      <td>0.939286</td>\n",
       "      <td>0.842143</td>\n",
       "      <td>0.910714</td>\n",
       "      <td>0.910714</td>\n",
       "      <td>10808000</td>\n",
       "      <td>0.999000</td>\n",
       "      <td>1.075286</td>\n",
       "      <td>17.582308</td>\n",
       "      <td>7.165259</td>\n",
       "      <td>...</td>\n",
       "      <td>1.030831</td>\n",
       "      <td>1.053438</td>\n",
       "      <td>1.106256</td>\n",
       "      <td>-0.052818</td>\n",
       "      <td>82.524278</td>\n",
       "      <td>0.381194</td>\n",
       "      <td>-218.434212</td>\n",
       "      <td>-15.825737</td>\n",
       "      <td>27.026513</td>\n",
       "      <td>-64.0</td>\n",
       "    </tr>\n",
       "    <tr>\n",
       "      <th>18</th>\n",
       "      <td>0.911429</td>\n",
       "      <td>0.996429</td>\n",
       "      <td>0.892857</td>\n",
       "      <td>0.951429</td>\n",
       "      <td>0.951429</td>\n",
       "      <td>5482400</td>\n",
       "      <td>0.970714</td>\n",
       "      <td>1.055714</td>\n",
       "      <td>28.022051</td>\n",
       "      <td>15.656028</td>\n",
       "      <td>...</td>\n",
       "      <td>1.008312</td>\n",
       "      <td>1.037744</td>\n",
       "      <td>1.094787</td>\n",
       "      <td>-0.057043</td>\n",
       "      <td>88.800004</td>\n",
       "      <td>0.381194</td>\n",
       "      <td>-124.845930</td>\n",
       "      <td>-11.360356</td>\n",
       "      <td>33.442196</td>\n",
       "      <td>-64.0</td>\n",
       "    </tr>\n",
       "    <tr>\n",
       "      <th>...</th>\n",
       "      <td>...</td>\n",
       "      <td>...</td>\n",
       "      <td>...</td>\n",
       "      <td>...</td>\n",
       "      <td>...</td>\n",
       "      <td>...</td>\n",
       "      <td>...</td>\n",
       "      <td>...</td>\n",
       "      <td>...</td>\n",
       "      <td>...</td>\n",
       "      <td>...</td>\n",
       "      <td>...</td>\n",
       "      <td>...</td>\n",
       "      <td>...</td>\n",
       "      <td>...</td>\n",
       "      <td>...</td>\n",
       "      <td>...</td>\n",
       "      <td>...</td>\n",
       "      <td>...</td>\n",
       "      <td>...</td>\n",
       "      <td>...</td>\n",
       "    </tr>\n",
       "    <tr>\n",
       "      <th>4889</th>\n",
       "      <td>651.809998</td>\n",
       "      <td>665.460022</td>\n",
       "      <td>651.809998</td>\n",
       "      <td>664.780029</td>\n",
       "      <td>664.780029</td>\n",
       "      <td>6179700</td>\n",
       "      <td>644.009998</td>\n",
       "      <td>636.387994</td>\n",
       "      <td>98.839008</td>\n",
       "      <td>85.267842</td>\n",
       "      <td>...</td>\n",
       "      <td>641.291452</td>\n",
       "      <td>636.218990</td>\n",
       "      <td>619.660215</td>\n",
       "      <td>16.558775</td>\n",
       "      <td>110.181496</td>\n",
       "      <td>0.910010</td>\n",
       "      <td>289.554743</td>\n",
       "      <td>4.545124</td>\n",
       "      <td>30.296476</td>\n",
       "      <td>92.0</td>\n",
       "    </tr>\n",
       "    <tr>\n",
       "      <th>4890</th>\n",
       "      <td>663.739990</td>\n",
       "      <td>675.880005</td>\n",
       "      <td>657.070007</td>\n",
       "      <td>671.659973</td>\n",
       "      <td>671.659973</td>\n",
       "      <td>3833500</td>\n",
       "      <td>650.747998</td>\n",
       "      <td>640.849994</td>\n",
       "      <td>92.814518</td>\n",
       "      <td>96.740267</td>\n",
       "      <td>...</td>\n",
       "      <td>647.704539</td>\n",
       "      <td>641.671449</td>\n",
       "      <td>623.512049</td>\n",
       "      <td>18.159400</td>\n",
       "      <td>105.804883</td>\n",
       "      <td>0.675676</td>\n",
       "      <td>233.314986</td>\n",
       "      <td>5.191655</td>\n",
       "      <td>30.298693</td>\n",
       "      <td>96.0</td>\n",
       "    </tr>\n",
       "    <tr>\n",
       "      <th>4891</th>\n",
       "      <td>673.760010</td>\n",
       "      <td>676.489990</td>\n",
       "      <td>662.770020</td>\n",
       "      <td>668.520020</td>\n",
       "      <td>668.520020</td>\n",
       "      <td>2904800</td>\n",
       "      <td>656.652002</td>\n",
       "      <td>645.207996</td>\n",
       "      <td>86.568968</td>\n",
       "      <td>92.740831</td>\n",
       "      <td>...</td>\n",
       "      <td>652.735453</td>\n",
       "      <td>645.801998</td>\n",
       "      <td>626.845973</td>\n",
       "      <td>18.956025</td>\n",
       "      <td>104.603356</td>\n",
       "      <td>0.675676</td>\n",
       "      <td>164.113158</td>\n",
       "      <td>4.356440</td>\n",
       "      <td>30.769399</td>\n",
       "      <td>76.0</td>\n",
       "    </tr>\n",
       "    <tr>\n",
       "      <th>4892</th>\n",
       "      <td>669.000000</td>\n",
       "      <td>671.409973</td>\n",
       "      <td>661.849976</td>\n",
       "      <td>662.919983</td>\n",
       "      <td>662.919983</td>\n",
       "      <td>2276900</td>\n",
       "      <td>664.207996</td>\n",
       "      <td>648.523993</td>\n",
       "      <td>77.131758</td>\n",
       "      <td>85.505081</td>\n",
       "      <td>...</td>\n",
       "      <td>655.955814</td>\n",
       "      <td>648.435534</td>\n",
       "      <td>629.518122</td>\n",
       "      <td>18.917412</td>\n",
       "      <td>104.917308</td>\n",
       "      <td>0.675676</td>\n",
       "      <td>110.708606</td>\n",
       "      <td>3.125012</td>\n",
       "      <td>31.225713</td>\n",
       "      <td>76.0</td>\n",
       "    </tr>\n",
       "    <tr>\n",
       "      <th>4893</th>\n",
       "      <td>670.950012</td>\n",
       "      <td>676.799988</td>\n",
       "      <td>668.030029</td>\n",
       "      <td>674.049988</td>\n",
       "      <td>674.049988</td>\n",
       "      <td>2859400</td>\n",
       "      <td>668.385999</td>\n",
       "      <td>652.548993</td>\n",
       "      <td>95.389771</td>\n",
       "      <td>86.363499</td>\n",
       "      <td>...</td>\n",
       "      <td>660.596904</td>\n",
       "      <td>652.376219</td>\n",
       "      <td>632.816779</td>\n",
       "      <td>19.559441</td>\n",
       "      <td>106.542221</td>\n",
       "      <td>0.910010</td>\n",
       "      <td>116.562258</td>\n",
       "      <td>4.376381</td>\n",
       "      <td>31.577094</td>\n",
       "      <td>88.0</td>\n",
       "    </tr>\n",
       "  </tbody>\n",
       "</table>\n",
       "<p>4880 rows × 24 columns</p>\n",
       "</div>"
      ],
      "text/plain": [
       "            Open        High         Low       Close   Adj Close    Volume  \\\n",
       "14      1.104286    1.122143    1.080000    1.082857    1.082857   2567600   \n",
       "15      1.082143    1.085714    0.980000    0.986429    0.986429   4783800   \n",
       "16      1.013571    1.059286    0.917857    0.922143    0.922143   4855200   \n",
       "17      0.938571    0.939286    0.842143    0.910714    0.910714  10808000   \n",
       "18      0.911429    0.996429    0.892857    0.951429    0.951429   5482400   \n",
       "...          ...         ...         ...         ...         ...       ...   \n",
       "4889  651.809998  665.460022  651.809998  664.780029  664.780029   6179700   \n",
       "4890  663.739990  675.880005  657.070007  671.659973  671.659973   3833500   \n",
       "4891  673.760010  676.489990  662.770020  668.520020  668.520020   2904800   \n",
       "4892  669.000000  671.409973  661.849976  662.919983  662.919983   2276900   \n",
       "4893  670.950012  676.799988  668.030029  674.049988  674.049988   2859400   \n",
       "\n",
       "            SMA5       SMA10  StochasticK  StochasticD  ...       WMA10  \\\n",
       "14      1.120857    1.125643     7.110768     9.805238  ...    1.125195   \n",
       "15      1.094429    1.116643     2.549744     7.386740  ...    1.099883   \n",
       "16      1.047571    1.096000     1.363726     3.674746  ...    1.064520   \n",
       "17      0.999000    1.075286    17.582308     7.165259  ...    1.030831   \n",
       "18      0.970714    1.055714    28.022051    15.656028  ...    1.008312   \n",
       "...          ...         ...          ...          ...  ...         ...   \n",
       "4889  644.009998  636.387994    98.839008    85.267842  ...  641.291452   \n",
       "4890  650.747998  640.849994    92.814518    96.740267  ...  647.704539   \n",
       "4891  656.652002  645.207996    86.568968    92.740831  ...  652.735453   \n",
       "4892  664.207996  648.523993    77.131758    85.505081  ...  655.955814   \n",
       "4893  668.385999  652.548993    95.389771    86.363499  ...  660.596904   \n",
       "\n",
       "           EMA12       EMA26       MACD    Momentum       RSI         CCI  \\\n",
       "14      1.130077    1.149996  -0.019919   90.507418  0.282646  -87.262252   \n",
       "15      1.107977    1.137880  -0.029902   81.523058  0.282646 -217.891706   \n",
       "16      1.079387    1.121899  -0.042512   79.691361  0.282646 -222.155602   \n",
       "17      1.053438    1.106256  -0.052818   82.524278  0.381194 -218.434212   \n",
       "18      1.037744    1.094787  -0.057043   88.800004  0.381194 -124.845930   \n",
       "...          ...         ...        ...         ...       ...         ...   \n",
       "4889  636.218990  619.660215  16.558775  110.181496  0.910010  289.554743   \n",
       "4890  641.671449  623.512049  18.159400  105.804883  0.675676  233.314986   \n",
       "4891  645.801998  626.845973  18.956025  104.603356  0.675676  164.113158   \n",
       "4892  648.435534  629.518122  18.917412  104.917308  0.675676  110.708606   \n",
       "4893  652.376219  632.816779  19.559441  106.542221  0.910010  116.562258   \n",
       "\n",
       "             DI        ADX  Aroon  \n",
       "14    -4.041967   6.531289  -12.0  \n",
       "15   -11.332225   9.143382  -56.0  \n",
       "16   -15.840926  19.140010  -60.0  \n",
       "17   -15.825737  27.026513  -64.0  \n",
       "18   -11.360356  33.442196  -64.0  \n",
       "...         ...        ...    ...  \n",
       "4889   4.545124  30.296476   92.0  \n",
       "4890   5.191655  30.298693   96.0  \n",
       "4891   4.356440  30.769399   76.0  \n",
       "4892   3.125012  31.225713   76.0  \n",
       "4893   4.376381  31.577094   88.0  \n",
       "\n",
       "[4880 rows x 24 columns]"
      ]
     },
     "execution_count": 36,
     "metadata": {},
     "output_type": "execute_result"
    }
   ],
   "source": [
    "target = complete_data['Direction']\n",
    "complete_data = complete_data.drop(['Date', 'Direction'], axis=1)\n",
    "complete_data"
   ]
  },
  {
   "cell_type": "markdown",
   "metadata": {},
   "source": [
    "### autofeat Classification"
   ]
  },
  {
   "cell_type": "code",
   "execution_count": 42,
   "metadata": {},
   "outputs": [],
   "source": [
    "from autofeat import AutoFeatClassifier\n",
    "X_train, X_test, y_train, y_test = train_test_split(complete_data,target,test_size=0.3)\n",
    "model = AutoFeatClassifier()\n",
    "df = model.fit_transform(X_train, y_train)\n",
    "y_pred = model.predict(X_test)"
   ]
  },
  {
   "cell_type": "code",
   "execution_count": 48,
   "metadata": {},
   "outputs": [
    {
     "data": {
      "text/plain": [
       "0.49043715846994534"
      ]
     },
     "execution_count": 48,
     "metadata": {},
     "output_type": "execute_result"
    }
   ],
   "source": [
    "df_test = model.transform(X_test)\n",
    "model.score(df_test,y_test)"
   ]
  },
  {
   "cell_type": "code",
   "execution_count": 49,
   "metadata": {},
   "outputs": [
    {
     "data": {
      "text/html": [
       "<div>\n",
       "<style scoped>\n",
       "    .dataframe tbody tr th:only-of-type {\n",
       "        vertical-align: middle;\n",
       "    }\n",
       "\n",
       "    .dataframe tbody tr th {\n",
       "        vertical-align: top;\n",
       "    }\n",
       "\n",
       "    .dataframe thead th {\n",
       "        text-align: right;\n",
       "    }\n",
       "</style>\n",
       "<table border=\"1\" class=\"dataframe\">\n",
       "  <thead>\n",
       "    <tr style=\"text-align: right;\">\n",
       "      <th></th>\n",
       "      <th>Open</th>\n",
       "      <th>High</th>\n",
       "      <th>Low</th>\n",
       "      <th>Close</th>\n",
       "      <th>Adj Close</th>\n",
       "      <th>Volume</th>\n",
       "      <th>SMA5</th>\n",
       "      <th>SMA10</th>\n",
       "      <th>StochasticK</th>\n",
       "      <th>StochasticD</th>\n",
       "      <th>...</th>\n",
       "      <th>DI</th>\n",
       "      <th>ADX</th>\n",
       "      <th>Aroon</th>\n",
       "      <th>sqrt(RSI)/Momentum</th>\n",
       "      <th>sqrt(StochasticD)/RSI</th>\n",
       "      <th>sqrt(LarryWilliamsR)*RSI</th>\n",
       "      <th>Momentum**3/RSI</th>\n",
       "      <th>ADO*MACD**2</th>\n",
       "      <th>ADX*Abs(ROC)</th>\n",
       "      <th>sqrt(StochasticK)*log(RSI)</th>\n",
       "    </tr>\n",
       "  </thead>\n",
       "  <tbody>\n",
       "    <tr>\n",
       "      <th>0</th>\n",
       "      <td>89.242859</td>\n",
       "      <td>89.732857</td>\n",
       "      <td>88.644287</td>\n",
       "      <td>88.808571</td>\n",
       "      <td>88.808571</td>\n",
       "      <td>6237700.0</td>\n",
       "      <td>89.119998</td>\n",
       "      <td>89.008141</td>\n",
       "      <td>82.260137</td>\n",
       "      <td>84.442831</td>\n",
       "      <td>...</td>\n",
       "      <td>0.441085</td>\n",
       "      <td>54.630275</td>\n",
       "      <td>64.0</td>\n",
       "      <td>0.006649</td>\n",
       "      <td>18.102878</td>\n",
       "      <td>2.138006</td>\n",
       "      <td>2.424342e+06</td>\n",
       "      <td>6.023377</td>\n",
       "      <td>0.749191</td>\n",
       "      <td>-6.149586</td>\n",
       "    </tr>\n",
       "    <tr>\n",
       "      <th>1</th>\n",
       "      <td>367.149994</td>\n",
       "      <td>374.489990</td>\n",
       "      <td>360.000000</td>\n",
       "      <td>364.579987</td>\n",
       "      <td>364.579987</td>\n",
       "      <td>17427300.0</td>\n",
       "      <td>349.006000</td>\n",
       "      <td>337.586999</td>\n",
       "      <td>84.408428</td>\n",
       "      <td>81.537481</td>\n",
       "      <td>...</td>\n",
       "      <td>7.228958</td>\n",
       "      <td>34.239647</td>\n",
       "      <td>24.0</td>\n",
       "      <td>0.006876</td>\n",
       "      <td>17.788727</td>\n",
       "      <td>2.004374</td>\n",
       "      <td>2.192028e+06</td>\n",
       "      <td>21.352008</td>\n",
       "      <td>1.491663</td>\n",
       "      <td>-6.229369</td>\n",
       "    </tr>\n",
       "    <tr>\n",
       "      <th>2</th>\n",
       "      <td>3.874286</td>\n",
       "      <td>3.875714</td>\n",
       "      <td>3.752857</td>\n",
       "      <td>3.794286</td>\n",
       "      <td>3.794286</td>\n",
       "      <td>5618900.0</td>\n",
       "      <td>3.890857</td>\n",
       "      <td>3.903857</td>\n",
       "      <td>13.063192</td>\n",
       "      <td>41.653093</td>\n",
       "      <td>...</td>\n",
       "      <td>-3.017650</td>\n",
       "      <td>13.137066</td>\n",
       "      <td>-28.0</td>\n",
       "      <td>0.007452</td>\n",
       "      <td>12.714224</td>\n",
       "      <td>4.732990</td>\n",
       "      <td>1.721686e+06</td>\n",
       "      <td>0.000635</td>\n",
       "      <td>0.252260</td>\n",
       "      <td>-2.450619</td>\n",
       "    </tr>\n",
       "    <tr>\n",
       "      <th>3</th>\n",
       "      <td>343.500000</td>\n",
       "      <td>343.559998</td>\n",
       "      <td>335.850006</td>\n",
       "      <td>338.619995</td>\n",
       "      <td>338.619995</td>\n",
       "      <td>5016000.0</td>\n",
       "      <td>336.870001</td>\n",
       "      <td>335.175000</td>\n",
       "      <td>72.169586</td>\n",
       "      <td>72.883212</td>\n",
       "      <td>...</td>\n",
       "      <td>1.785280</td>\n",
       "      <td>29.272088</td>\n",
       "      <td>68.0</td>\n",
       "      <td>0.006999</td>\n",
       "      <td>16.818218</td>\n",
       "      <td>2.677895</td>\n",
       "      <td>2.078355e+06</td>\n",
       "      <td>31.538602</td>\n",
       "      <td>1.386148</td>\n",
       "      <td>-5.760077</td>\n",
       "    </tr>\n",
       "    <tr>\n",
       "      <th>4</th>\n",
       "      <td>30.549999</td>\n",
       "      <td>30.615713</td>\n",
       "      <td>29.000000</td>\n",
       "      <td>29.524286</td>\n",
       "      <td>29.524286</td>\n",
       "      <td>40524400.0</td>\n",
       "      <td>30.488286</td>\n",
       "      <td>32.347000</td>\n",
       "      <td>8.237940</td>\n",
       "      <td>16.060339</td>\n",
       "      <td>...</td>\n",
       "      <td>-8.393277</td>\n",
       "      <td>31.061655</td>\n",
       "      <td>52.0</td>\n",
       "      <td>0.005608</td>\n",
       "      <td>14.178660</td>\n",
       "      <td>2.707533</td>\n",
       "      <td>3.013708e+06</td>\n",
       "      <td>0.065297</td>\n",
       "      <td>2.182657</td>\n",
       "      <td>-3.626651</td>\n",
       "    </tr>\n",
       "    <tr>\n",
       "      <th>...</th>\n",
       "      <td>...</td>\n",
       "      <td>...</td>\n",
       "      <td>...</td>\n",
       "      <td>...</td>\n",
       "      <td>...</td>\n",
       "      <td>...</td>\n",
       "      <td>...</td>\n",
       "      <td>...</td>\n",
       "      <td>...</td>\n",
       "      <td>...</td>\n",
       "      <td>...</td>\n",
       "      <td>...</td>\n",
       "      <td>...</td>\n",
       "      <td>...</td>\n",
       "      <td>...</td>\n",
       "      <td>...</td>\n",
       "      <td>...</td>\n",
       "      <td>...</td>\n",
       "      <td>...</td>\n",
       "      <td>...</td>\n",
       "      <td>...</td>\n",
       "    </tr>\n",
       "    <tr>\n",
       "      <th>3411</th>\n",
       "      <td>4.445714</td>\n",
       "      <td>4.614286</td>\n",
       "      <td>4.366429</td>\n",
       "      <td>4.575000</td>\n",
       "      <td>4.575000</td>\n",
       "      <td>26857600.0</td>\n",
       "      <td>4.428000</td>\n",
       "      <td>4.217714</td>\n",
       "      <td>96.085383</td>\n",
       "      <td>89.269692</td>\n",
       "      <td>...</td>\n",
       "      <td>10.363076</td>\n",
       "      <td>24.917934</td>\n",
       "      <td>68.0</td>\n",
       "      <td>0.008948</td>\n",
       "      <td>7.501922</td>\n",
       "      <td>2.491863</td>\n",
       "      <td>1.566320e+06</td>\n",
       "      <td>0.047238</td>\n",
       "      <td>4.168881</td>\n",
       "      <td>2.261118</td>\n",
       "    </tr>\n",
       "    <tr>\n",
       "      <th>3412</th>\n",
       "      <td>5.300000</td>\n",
       "      <td>5.382857</td>\n",
       "      <td>5.157143</td>\n",
       "      <td>5.195000</td>\n",
       "      <td>5.195000</td>\n",
       "      <td>32034800.0</td>\n",
       "      <td>5.199714</td>\n",
       "      <td>5.206786</td>\n",
       "      <td>57.858884</td>\n",
       "      <td>59.529619</td>\n",
       "      <td>...</td>\n",
       "      <td>2.880644</td>\n",
       "      <td>42.978525</td>\n",
       "      <td>56.0</td>\n",
       "      <td>0.003974</td>\n",
       "      <td>37.883321</td>\n",
       "      <td>1.322122</td>\n",
       "      <td>7.188940e+06</td>\n",
       "      <td>0.077226</td>\n",
       "      <td>5.037268</td>\n",
       "      <td>-12.104030</td>\n",
       "    </tr>\n",
       "    <tr>\n",
       "      <th>3413</th>\n",
       "      <td>102.430000</td>\n",
       "      <td>105.500000</td>\n",
       "      <td>101.720001</td>\n",
       "      <td>104.040001</td>\n",
       "      <td>104.040001</td>\n",
       "      <td>19775100.0</td>\n",
       "      <td>109.842000</td>\n",
       "      <td>111.046000</td>\n",
       "      <td>13.495479</td>\n",
       "      <td>17.631293</td>\n",
       "      <td>...</td>\n",
       "      <td>-7.682946</td>\n",
       "      <td>15.698793</td>\n",
       "      <td>-96.0</td>\n",
       "      <td>0.006963</td>\n",
       "      <td>11.015280</td>\n",
       "      <td>3.545406</td>\n",
       "      <td>1.829057e+06</td>\n",
       "      <td>-3.459945</td>\n",
       "      <td>1.987389</td>\n",
       "      <td>-3.543007</td>\n",
       "    </tr>\n",
       "    <tr>\n",
       "      <th>3414</th>\n",
       "      <td>4.340000</td>\n",
       "      <td>4.474286</td>\n",
       "      <td>4.325714</td>\n",
       "      <td>4.412857</td>\n",
       "      <td>4.412857</td>\n",
       "      <td>14311500.0</td>\n",
       "      <td>4.255429</td>\n",
       "      <td>4.076000</td>\n",
       "      <td>89.787155</td>\n",
       "      <td>90.271512</td>\n",
       "      <td>...</td>\n",
       "      <td>9.006124</td>\n",
       "      <td>18.638699</td>\n",
       "      <td>80.0</td>\n",
       "      <td>0.006276</td>\n",
       "      <td>18.717230</td>\n",
       "      <td>1.622210</td>\n",
       "      <td>2.882267e+06</td>\n",
       "      <td>0.000411</td>\n",
       "      <td>2.138979</td>\n",
       "      <td>-6.424780</td>\n",
       "    </tr>\n",
       "    <tr>\n",
       "      <th>3415</th>\n",
       "      <td>53.287144</td>\n",
       "      <td>53.921429</td>\n",
       "      <td>52.367142</td>\n",
       "      <td>53.182858</td>\n",
       "      <td>53.182858</td>\n",
       "      <td>27152300.0</td>\n",
       "      <td>55.779428</td>\n",
       "      <td>58.141285</td>\n",
       "      <td>7.354437</td>\n",
       "      <td>8.131097</td>\n",
       "      <td>...</td>\n",
       "      <td>-10.636508</td>\n",
       "      <td>29.483663</td>\n",
       "      <td>-60.0</td>\n",
       "      <td>0.003527</td>\n",
       "      <td>33.562247</td>\n",
       "      <td>0.817779</td>\n",
       "      <td>6.641593e+06</td>\n",
       "      <td>1.347529</td>\n",
       "      <td>4.534967</td>\n",
       "      <td>-6.686352</td>\n",
       "    </tr>\n",
       "  </tbody>\n",
       "</table>\n",
       "<p>3416 rows × 31 columns</p>\n",
       "</div>"
      ],
      "text/plain": [
       "            Open        High         Low       Close   Adj Close      Volume  \\\n",
       "0      89.242859   89.732857   88.644287   88.808571   88.808571   6237700.0   \n",
       "1     367.149994  374.489990  360.000000  364.579987  364.579987  17427300.0   \n",
       "2       3.874286    3.875714    3.752857    3.794286    3.794286   5618900.0   \n",
       "3     343.500000  343.559998  335.850006  338.619995  338.619995   5016000.0   \n",
       "4      30.549999   30.615713   29.000000   29.524286   29.524286  40524400.0   \n",
       "...          ...         ...         ...         ...         ...         ...   \n",
       "3411    4.445714    4.614286    4.366429    4.575000    4.575000  26857600.0   \n",
       "3412    5.300000    5.382857    5.157143    5.195000    5.195000  32034800.0   \n",
       "3413  102.430000  105.500000  101.720001  104.040001  104.040001  19775100.0   \n",
       "3414    4.340000    4.474286    4.325714    4.412857    4.412857  14311500.0   \n",
       "3415   53.287144   53.921429   52.367142   53.182858   53.182858  27152300.0   \n",
       "\n",
       "            SMA5       SMA10  StochasticK  StochasticD  ...         DI  \\\n",
       "0      89.119998   89.008141    82.260137    84.442831  ...   0.441085   \n",
       "1     349.006000  337.586999    84.408428    81.537481  ...   7.228958   \n",
       "2       3.890857    3.903857    13.063192    41.653093  ...  -3.017650   \n",
       "3     336.870001  335.175000    72.169586    72.883212  ...   1.785280   \n",
       "4      30.488286   32.347000     8.237940    16.060339  ...  -8.393277   \n",
       "...          ...         ...          ...          ...  ...        ...   \n",
       "3411    4.428000    4.217714    96.085383    89.269692  ...  10.363076   \n",
       "3412    5.199714    5.206786    57.858884    59.529619  ...   2.880644   \n",
       "3413  109.842000  111.046000    13.495479    17.631293  ...  -7.682946   \n",
       "3414    4.255429    4.076000    89.787155    90.271512  ...   9.006124   \n",
       "3415   55.779428   58.141285     7.354437     8.131097  ... -10.636508   \n",
       "\n",
       "            ADX  Aroon  sqrt(RSI)/Momentum  sqrt(StochasticD)/RSI  \\\n",
       "0     54.630275   64.0            0.006649              18.102878   \n",
       "1     34.239647   24.0            0.006876              17.788727   \n",
       "2     13.137066  -28.0            0.007452              12.714224   \n",
       "3     29.272088   68.0            0.006999              16.818218   \n",
       "4     31.061655   52.0            0.005608              14.178660   \n",
       "...         ...    ...                 ...                    ...   \n",
       "3411  24.917934   68.0            0.008948               7.501922   \n",
       "3412  42.978525   56.0            0.003974              37.883321   \n",
       "3413  15.698793  -96.0            0.006963              11.015280   \n",
       "3414  18.638699   80.0            0.006276              18.717230   \n",
       "3415  29.483663  -60.0            0.003527              33.562247   \n",
       "\n",
       "      sqrt(LarryWilliamsR)*RSI  Momentum**3/RSI  ADO*MACD**2  ADX*Abs(ROC)  \\\n",
       "0                     2.138006     2.424342e+06     6.023377      0.749191   \n",
       "1                     2.004374     2.192028e+06    21.352008      1.491663   \n",
       "2                     4.732990     1.721686e+06     0.000635      0.252260   \n",
       "3                     2.677895     2.078355e+06    31.538602      1.386148   \n",
       "4                     2.707533     3.013708e+06     0.065297      2.182657   \n",
       "...                        ...              ...          ...           ...   \n",
       "3411                  2.491863     1.566320e+06     0.047238      4.168881   \n",
       "3412                  1.322122     7.188940e+06     0.077226      5.037268   \n",
       "3413                  3.545406     1.829057e+06    -3.459945      1.987389   \n",
       "3414                  1.622210     2.882267e+06     0.000411      2.138979   \n",
       "3415                  0.817779     6.641593e+06     1.347529      4.534967   \n",
       "\n",
       "      sqrt(StochasticK)*log(RSI)  \n",
       "0                      -6.149586  \n",
       "1                      -6.229369  \n",
       "2                      -2.450619  \n",
       "3                      -5.760077  \n",
       "4                      -3.626651  \n",
       "...                          ...  \n",
       "3411                    2.261118  \n",
       "3412                  -12.104030  \n",
       "3413                   -3.543007  \n",
       "3414                   -6.424780  \n",
       "3415                   -6.686352  \n",
       "\n",
       "[3416 rows x 31 columns]"
      ]
     },
     "execution_count": 49,
     "metadata": {},
     "output_type": "execute_result"
    }
   ],
   "source": [
    "df"
   ]
  },
  {
   "cell_type": "code",
   "execution_count": 50,
   "metadata": {},
   "outputs": [
    {
     "data": {
      "text/html": [
       "<div>\n",
       "<style scoped>\n",
       "    .dataframe tbody tr th:only-of-type {\n",
       "        vertical-align: middle;\n",
       "    }\n",
       "\n",
       "    .dataframe tbody tr th {\n",
       "        vertical-align: top;\n",
       "    }\n",
       "\n",
       "    .dataframe thead th {\n",
       "        text-align: right;\n",
       "    }\n",
       "</style>\n",
       "<table border=\"1\" class=\"dataframe\">\n",
       "  <thead>\n",
       "    <tr style=\"text-align: right;\">\n",
       "      <th></th>\n",
       "      <th>Open</th>\n",
       "      <th>High</th>\n",
       "      <th>Low</th>\n",
       "      <th>Close</th>\n",
       "      <th>Adj Close</th>\n",
       "      <th>Volume</th>\n",
       "      <th>SMA5</th>\n",
       "      <th>SMA10</th>\n",
       "      <th>StochasticK</th>\n",
       "      <th>StochasticD</th>\n",
       "      <th>...</th>\n",
       "      <th>DI</th>\n",
       "      <th>ADX</th>\n",
       "      <th>Aroon</th>\n",
       "      <th>sqrt(RSI)/Momentum</th>\n",
       "      <th>sqrt(StochasticD)/RSI</th>\n",
       "      <th>sqrt(LarryWilliamsR)*RSI</th>\n",
       "      <th>Momentum**3/RSI</th>\n",
       "      <th>ADO*MACD**2</th>\n",
       "      <th>ADX*Abs(ROC)</th>\n",
       "      <th>sqrt(StochasticK)*log(RSI)</th>\n",
       "    </tr>\n",
       "  </thead>\n",
       "  <tbody>\n",
       "    <tr>\n",
       "      <th>0</th>\n",
       "      <td>30.150000</td>\n",
       "      <td>30.474285</td>\n",
       "      <td>29.959999</td>\n",
       "      <td>30.212856</td>\n",
       "      <td>30.212856</td>\n",
       "      <td>21245700.0</td>\n",
       "      <td>30.506000</td>\n",
       "      <td>28.777143</td>\n",
       "      <td>84.474107</td>\n",
       "      <td>85.412193</td>\n",
       "      <td>...</td>\n",
       "      <td>6.681123</td>\n",
       "      <td>21.010869</td>\n",
       "      <td>76.0</td>\n",
       "      <td>0.006451</td>\n",
       "      <td>18.206487</td>\n",
       "      <td>2.000148</td>\n",
       "      <td>2.653978e+06</td>\n",
       "      <td>0.683303</td>\n",
       "      <td>1.932071</td>\n",
       "      <td>-6.231792</td>\n",
       "    </tr>\n",
       "    <tr>\n",
       "      <th>1</th>\n",
       "      <td>115.730003</td>\n",
       "      <td>116.419998</td>\n",
       "      <td>113.510002</td>\n",
       "      <td>115.209999</td>\n",
       "      <td>115.209999</td>\n",
       "      <td>6746800.0</td>\n",
       "      <td>114.479999</td>\n",
       "      <td>117.370999</td>\n",
       "      <td>29.900980</td>\n",
       "      <td>27.144021</td>\n",
       "      <td>...</td>\n",
       "      <td>-3.040541</td>\n",
       "      <td>29.785443</td>\n",
       "      <td>16.0</td>\n",
       "      <td>0.005762</td>\n",
       "      <td>18.432953</td>\n",
       "      <td>2.366454</td>\n",
       "      <td>2.778779e+06</td>\n",
       "      <td>0.302079</td>\n",
       "      <td>1.735901</td>\n",
       "      <td>-6.909381</td>\n",
       "    </tr>\n",
       "    <tr>\n",
       "      <th>2</th>\n",
       "      <td>0.917857</td>\n",
       "      <td>0.935714</td>\n",
       "      <td>0.910714</td>\n",
       "      <td>0.917857</td>\n",
       "      <td>0.917857</td>\n",
       "      <td>285600.0</td>\n",
       "      <td>0.922286</td>\n",
       "      <td>0.929428</td>\n",
       "      <td>53.469143</td>\n",
       "      <td>60.152848</td>\n",
       "      <td>...</td>\n",
       "      <td>-1.940480</td>\n",
       "      <td>16.691617</td>\n",
       "      <td>36.0</td>\n",
       "      <td>0.006853</td>\n",
       "      <td>15.278979</td>\n",
       "      <td>3.462616</td>\n",
       "      <td>2.213707e+06</td>\n",
       "      <td>0.000016</td>\n",
       "      <td>1.092547</td>\n",
       "      <td>-4.957957</td>\n",
       "    </tr>\n",
       "    <tr>\n",
       "      <th>3</th>\n",
       "      <td>353.230011</td>\n",
       "      <td>357.309998</td>\n",
       "      <td>349.010010</td>\n",
       "      <td>351.829987</td>\n",
       "      <td>351.829987</td>\n",
       "      <td>7970900.0</td>\n",
       "      <td>345.744000</td>\n",
       "      <td>348.229999</td>\n",
       "      <td>49.905732</td>\n",
       "      <td>39.317963</td>\n",
       "      <td>...</td>\n",
       "      <td>-0.039374</td>\n",
       "      <td>38.887027</td>\n",
       "      <td>-60.0</td>\n",
       "      <td>0.008764</td>\n",
       "      <td>9.280198</td>\n",
       "      <td>4.782250</td>\n",
       "      <td>1.220998e+06</td>\n",
       "      <td>90.814860</td>\n",
       "      <td>0.993044</td>\n",
       "      <td>-2.769542</td>\n",
       "    </tr>\n",
       "    <tr>\n",
       "      <th>4</th>\n",
       "      <td>8.744286</td>\n",
       "      <td>9.070000</td>\n",
       "      <td>8.728571</td>\n",
       "      <td>9.051429</td>\n",
       "      <td>9.051429</td>\n",
       "      <td>7203700.0</td>\n",
       "      <td>8.820572</td>\n",
       "      <td>8.802000</td>\n",
       "      <td>92.461065</td>\n",
       "      <td>86.022838</td>\n",
       "      <td>...</td>\n",
       "      <td>6.971533</td>\n",
       "      <td>29.689117</td>\n",
       "      <td>52.0</td>\n",
       "      <td>0.007662</td>\n",
       "      <td>10.192029</td>\n",
       "      <td>2.498626</td>\n",
       "      <td>2.120811e+06</td>\n",
       "      <td>0.089518</td>\n",
       "      <td>7.970595</td>\n",
       "      <td>-0.906753</td>\n",
       "    </tr>\n",
       "    <tr>\n",
       "      <th>...</th>\n",
       "      <td>...</td>\n",
       "      <td>...</td>\n",
       "      <td>...</td>\n",
       "      <td>...</td>\n",
       "      <td>...</td>\n",
       "      <td>...</td>\n",
       "      <td>...</td>\n",
       "      <td>...</td>\n",
       "      <td>...</td>\n",
       "      <td>...</td>\n",
       "      <td>...</td>\n",
       "      <td>...</td>\n",
       "      <td>...</td>\n",
       "      <td>...</td>\n",
       "      <td>...</td>\n",
       "      <td>...</td>\n",
       "      <td>...</td>\n",
       "      <td>...</td>\n",
       "      <td>...</td>\n",
       "      <td>...</td>\n",
       "      <td>...</td>\n",
       "    </tr>\n",
       "    <tr>\n",
       "      <th>1459</th>\n",
       "      <td>8.707143</td>\n",
       "      <td>9.104286</td>\n",
       "      <td>8.671429</td>\n",
       "      <td>8.992857</td>\n",
       "      <td>8.992857</td>\n",
       "      <td>35578200.0</td>\n",
       "      <td>9.525429</td>\n",
       "      <td>9.785428</td>\n",
       "      <td>12.096757</td>\n",
       "      <td>10.873540</td>\n",
       "      <td>...</td>\n",
       "      <td>-10.581480</td>\n",
       "      <td>51.613944</td>\n",
       "      <td>-96.0</td>\n",
       "      <td>0.005547</td>\n",
       "      <td>16.190750</td>\n",
       "      <td>1.909506</td>\n",
       "      <td>2.643519e+06</td>\n",
       "      <td>0.083560</td>\n",
       "      <td>9.679279</td>\n",
       "      <td>-5.534513</td>\n",
       "    </tr>\n",
       "    <tr>\n",
       "      <th>1460</th>\n",
       "      <td>3.208571</td>\n",
       "      <td>3.301429</td>\n",
       "      <td>3.182857</td>\n",
       "      <td>3.285714</td>\n",
       "      <td>3.285714</td>\n",
       "      <td>7024500.0</td>\n",
       "      <td>3.170857</td>\n",
       "      <td>3.153857</td>\n",
       "      <td>94.179630</td>\n",
       "      <td>70.152906</td>\n",
       "      <td>...</td>\n",
       "      <td>4.011876</td>\n",
       "      <td>19.825076</td>\n",
       "      <td>92.0</td>\n",
       "      <td>0.006849</td>\n",
       "      <td>16.500194</td>\n",
       "      <td>1.224642</td>\n",
       "      <td>2.217602e+06</td>\n",
       "      <td>0.000180</td>\n",
       "      <td>0.751492</td>\n",
       "      <td>-6.580057</td>\n",
       "    </tr>\n",
       "    <tr>\n",
       "      <th>1461</th>\n",
       "      <td>1.600000</td>\n",
       "      <td>1.624286</td>\n",
       "      <td>1.572857</td>\n",
       "      <td>1.578571</td>\n",
       "      <td>1.578571</td>\n",
       "      <td>8273300.0</td>\n",
       "      <td>1.661714</td>\n",
       "      <td>1.695714</td>\n",
       "      <td>1.544324</td>\n",
       "      <td>8.524518</td>\n",
       "      <td>...</td>\n",
       "      <td>-8.287912</td>\n",
       "      <td>17.074821</td>\n",
       "      <td>-56.0</td>\n",
       "      <td>0.006428</td>\n",
       "      <td>10.329820</td>\n",
       "      <td>2.804546</td>\n",
       "      <td>2.001821e+06</td>\n",
       "      <td>0.000035</td>\n",
       "      <td>2.218389</td>\n",
       "      <td>-1.570239</td>\n",
       "    </tr>\n",
       "    <tr>\n",
       "      <th>1462</th>\n",
       "      <td>3.912857</td>\n",
       "      <td>3.912857</td>\n",
       "      <td>3.800000</td>\n",
       "      <td>3.841429</td>\n",
       "      <td>3.841429</td>\n",
       "      <td>8615600.0</td>\n",
       "      <td>3.952000</td>\n",
       "      <td>3.989571</td>\n",
       "      <td>11.600115</td>\n",
       "      <td>23.119782</td>\n",
       "      <td>...</td>\n",
       "      <td>-3.703882</td>\n",
       "      <td>15.735316</td>\n",
       "      <td>-72.0</td>\n",
       "      <td>0.007594</td>\n",
       "      <td>9.472358</td>\n",
       "      <td>4.772650</td>\n",
       "      <td>1.627085e+06</td>\n",
       "      <td>0.000711</td>\n",
       "      <td>0.465639</td>\n",
       "      <td>-2.309311</td>\n",
       "    </tr>\n",
       "    <tr>\n",
       "      <th>1463</th>\n",
       "      <td>4.728571</td>\n",
       "      <td>4.800000</td>\n",
       "      <td>4.542857</td>\n",
       "      <td>4.568571</td>\n",
       "      <td>4.568571</td>\n",
       "      <td>13554100.0</td>\n",
       "      <td>4.726000</td>\n",
       "      <td>4.721000</td>\n",
       "      <td>29.452010</td>\n",
       "      <td>36.971387</td>\n",
       "      <td>...</td>\n",
       "      <td>-4.793102</td>\n",
       "      <td>17.675071</td>\n",
       "      <td>-48.0</td>\n",
       "      <td>0.005865</td>\n",
       "      <td>21.512491</td>\n",
       "      <td>2.374021</td>\n",
       "      <td>2.635162e+06</td>\n",
       "      <td>0.000519</td>\n",
       "      <td>1.123131</td>\n",
       "      <td>-6.857312</td>\n",
       "    </tr>\n",
       "  </tbody>\n",
       "</table>\n",
       "<p>1464 rows × 31 columns</p>\n",
       "</div>"
      ],
      "text/plain": [
       "            Open        High         Low       Close   Adj Close      Volume  \\\n",
       "0      30.150000   30.474285   29.959999   30.212856   30.212856  21245700.0   \n",
       "1     115.730003  116.419998  113.510002  115.209999  115.209999   6746800.0   \n",
       "2       0.917857    0.935714    0.910714    0.917857    0.917857    285600.0   \n",
       "3     353.230011  357.309998  349.010010  351.829987  351.829987   7970900.0   \n",
       "4       8.744286    9.070000    8.728571    9.051429    9.051429   7203700.0   \n",
       "...          ...         ...         ...         ...         ...         ...   \n",
       "1459    8.707143    9.104286    8.671429    8.992857    8.992857  35578200.0   \n",
       "1460    3.208571    3.301429    3.182857    3.285714    3.285714   7024500.0   \n",
       "1461    1.600000    1.624286    1.572857    1.578571    1.578571   8273300.0   \n",
       "1462    3.912857    3.912857    3.800000    3.841429    3.841429   8615600.0   \n",
       "1463    4.728571    4.800000    4.542857    4.568571    4.568571  13554100.0   \n",
       "\n",
       "            SMA5       SMA10  StochasticK  StochasticD  ...         DI  \\\n",
       "0      30.506000   28.777143    84.474107    85.412193  ...   6.681123   \n",
       "1     114.479999  117.370999    29.900980    27.144021  ...  -3.040541   \n",
       "2       0.922286    0.929428    53.469143    60.152848  ...  -1.940480   \n",
       "3     345.744000  348.229999    49.905732    39.317963  ...  -0.039374   \n",
       "4       8.820572    8.802000    92.461065    86.022838  ...   6.971533   \n",
       "...          ...         ...          ...          ...  ...        ...   \n",
       "1459    9.525429    9.785428    12.096757    10.873540  ... -10.581480   \n",
       "1460    3.170857    3.153857    94.179630    70.152906  ...   4.011876   \n",
       "1461    1.661714    1.695714     1.544324     8.524518  ...  -8.287912   \n",
       "1462    3.952000    3.989571    11.600115    23.119782  ...  -3.703882   \n",
       "1463    4.726000    4.721000    29.452010    36.971387  ...  -4.793102   \n",
       "\n",
       "            ADX  Aroon  sqrt(RSI)/Momentum  sqrt(StochasticD)/RSI  \\\n",
       "0     21.010869   76.0            0.006451              18.206487   \n",
       "1     29.785443   16.0            0.005762              18.432953   \n",
       "2     16.691617   36.0            0.006853              15.278979   \n",
       "3     38.887027  -60.0            0.008764               9.280198   \n",
       "4     29.689117   52.0            0.007662              10.192029   \n",
       "...         ...    ...                 ...                    ...   \n",
       "1459  51.613944  -96.0            0.005547              16.190750   \n",
       "1460  19.825076   92.0            0.006849              16.500194   \n",
       "1461  17.074821  -56.0            0.006428              10.329820   \n",
       "1462  15.735316  -72.0            0.007594               9.472358   \n",
       "1463  17.675071  -48.0            0.005865              21.512491   \n",
       "\n",
       "      sqrt(LarryWilliamsR)*RSI  Momentum**3/RSI  ADO*MACD**2  ADX*Abs(ROC)  \\\n",
       "0                     2.000148     2.653978e+06     0.683303      1.932071   \n",
       "1                     2.366454     2.778779e+06     0.302079      1.735901   \n",
       "2                     3.462616     2.213707e+06     0.000016      1.092547   \n",
       "3                     4.782250     1.220998e+06    90.814860      0.993044   \n",
       "4                     2.498626     2.120811e+06     0.089518      7.970595   \n",
       "...                        ...              ...          ...           ...   \n",
       "1459                  1.909506     2.643519e+06     0.083560      9.679279   \n",
       "1460                  1.224642     2.217602e+06     0.000180      0.751492   \n",
       "1461                  2.804546     2.001821e+06     0.000035      2.218389   \n",
       "1462                  4.772650     1.627085e+06     0.000711      0.465639   \n",
       "1463                  2.374021     2.635162e+06     0.000519      1.123131   \n",
       "\n",
       "      sqrt(StochasticK)*log(RSI)  \n",
       "0                      -6.231792  \n",
       "1                      -6.909381  \n",
       "2                      -4.957957  \n",
       "3                      -2.769542  \n",
       "4                      -0.906753  \n",
       "...                          ...  \n",
       "1459                   -5.534513  \n",
       "1460                   -6.580057  \n",
       "1461                   -1.570239  \n",
       "1462                   -2.309311  \n",
       "1463                   -6.857312  \n",
       "\n",
       "[1464 rows x 31 columns]"
      ]
     },
     "execution_count": 50,
     "metadata": {},
     "output_type": "execute_result"
    }
   ],
   "source": [
    "df_test"
   ]
  },
  {
   "cell_type": "markdown",
   "metadata": {},
   "source": [
    "### Generate New Features Based on autofeat Results"
   ]
  },
  {
   "cell_type": "code",
   "execution_count": 88,
   "metadata": {},
   "outputs": [],
   "source": [
    "import math"
   ]
  },
  {
   "cell_type": "code",
   "execution_count": 103,
   "metadata": {},
   "outputs": [],
   "source": [
    "def sqrt_rsi_momentum(rsi, momentum):\n",
    "    return (np.sqrt(rsi)/momentum)"
   ]
  },
  {
   "cell_type": "code",
   "execution_count": 104,
   "metadata": {},
   "outputs": [],
   "source": [
    "def sqrt_stochastic_d_rsi(stochastic_d, rsi):\n",
    "    return(np.sqrt(stochastic_d)/rsi)"
   ]
  },
  {
   "cell_type": "code",
   "execution_count": 105,
   "metadata": {},
   "outputs": [],
   "source": [
    "def sqrt_lwr_rsi (larry_williams_r, rsi):\n",
    "    return (np.sqrt(larry_williams_r)*rsi)"
   ]
  },
  {
   "cell_type": "code",
   "execution_count": 106,
   "metadata": {},
   "outputs": [],
   "source": [
    "def momentum_3_rsi(momentum, rsi):\n",
    "    return ((momentum**3)/rsi)"
   ]
  },
  {
   "cell_type": "code",
   "execution_count": 107,
   "metadata": {},
   "outputs": [],
   "source": [
    "def ado_macd_2(ado, macd):\n",
    "    return (ado*(macd**2))"
   ]
  },
  {
   "cell_type": "code",
   "execution_count": 108,
   "metadata": {},
   "outputs": [],
   "source": [
    "def adx_abs_roc(adx, roc):\n",
    "    return (adx*np.abs(roc))"
   ]
  },
  {
   "cell_type": "code",
   "execution_count": 109,
   "metadata": {},
   "outputs": [],
   "source": [
    "def sqrt_stochastic_k_log_rsi (stochastic_k, rsi):\n",
    "    return ((np.sqrt(stochastic_k))*np.log(rsi))"
   ]
  },
  {
   "cell_type": "code",
   "execution_count": 110,
   "metadata": {},
   "outputs": [],
   "source": [
    "def compute_adv_indicators(complete_data):\n",
    "    complete_data['SqrtRSI/Momentum'] = sqrt_rsi_momentum(complete_data['RSI'], complete_data['Momentum'])\n",
    "    complete_data['SqrtStochasticD/RSI'] = sqrt_stochastic_d_rsi(complete_data['StochasticD'], complete_data['RSI'])\n",
    "    complete_data['SqrtLarryWilliamsR*RSI'] = sqrt_lwr_rsi(complete_data['LarryWilliamsR'], complete_data['RSI'])\n",
    "    complete_data['Momentum**3/RSI'] = momentum_3_rsi(complete_data['Momentum'], complete_data['RSI'])\n",
    "    complete_data['ADO*MACD**2'] = ado_macd_2(complete_data['ADO'], complete_data['MACD'])\n",
    "    complete_data['ADX*AbsROC'] = adx_abs_roc(complete_data['ADX'], complete_data['ROC'])\n",
    "    complete_data['SqrtStochasticK*LogRSI'] = sqrt_stochastic_k_log_rsi(complete_data['StochasticK'], complete_data['RSI'])   \n",
    "    return complete_data"
   ]
  },
  {
   "cell_type": "code",
   "execution_count": 111,
   "metadata": {},
   "outputs": [
    {
     "data": {
      "text/html": [
       "<div>\n",
       "<style scoped>\n",
       "    .dataframe tbody tr th:only-of-type {\n",
       "        vertical-align: middle;\n",
       "    }\n",
       "\n",
       "    .dataframe tbody tr th {\n",
       "        vertical-align: top;\n",
       "    }\n",
       "\n",
       "    .dataframe thead th {\n",
       "        text-align: right;\n",
       "    }\n",
       "</style>\n",
       "<table border=\"1\" class=\"dataframe\">\n",
       "  <thead>\n",
       "    <tr style=\"text-align: right;\">\n",
       "      <th></th>\n",
       "      <th>Open</th>\n",
       "      <th>High</th>\n",
       "      <th>Low</th>\n",
       "      <th>Close</th>\n",
       "      <th>Adj Close</th>\n",
       "      <th>Volume</th>\n",
       "      <th>SMA5</th>\n",
       "      <th>SMA10</th>\n",
       "      <th>StochasticK</th>\n",
       "      <th>StochasticD</th>\n",
       "      <th>...</th>\n",
       "      <th>DI</th>\n",
       "      <th>ADX</th>\n",
       "      <th>Aroon</th>\n",
       "      <th>SqrtRSI/Momentum</th>\n",
       "      <th>SqrtStochasticD/RSI</th>\n",
       "      <th>SqrtLarryWilliamsR*RSI</th>\n",
       "      <th>Momentum**3/RSI</th>\n",
       "      <th>ADO*MACD**2</th>\n",
       "      <th>ADX*AbsROC</th>\n",
       "      <th>SqrtStochasticK*LogRSI</th>\n",
       "    </tr>\n",
       "  </thead>\n",
       "  <tbody>\n",
       "    <tr>\n",
       "      <th>14</th>\n",
       "      <td>1.104286</td>\n",
       "      <td>1.122143</td>\n",
       "      <td>1.080000</td>\n",
       "      <td>1.082857</td>\n",
       "      <td>1.082857</td>\n",
       "      <td>2567600</td>\n",
       "      <td>1.120857</td>\n",
       "      <td>1.125643</td>\n",
       "      <td>7.110768</td>\n",
       "      <td>9.805238</td>\n",
       "      <td>...</td>\n",
       "      <td>-4.041967</td>\n",
       "      <td>6.531289</td>\n",
       "      <td>-12.0</td>\n",
       "      <td>0.005874</td>\n",
       "      <td>11.078652</td>\n",
       "      <td>2.724111</td>\n",
       "      <td>2.623073e+06</td>\n",
       "      <td>0.000276</td>\n",
       "      <td>0.419294</td>\n",
       "      <td>-3.369416</td>\n",
       "    </tr>\n",
       "    <tr>\n",
       "      <th>15</th>\n",
       "      <td>1.082143</td>\n",
       "      <td>1.085714</td>\n",
       "      <td>0.980000</td>\n",
       "      <td>0.986429</td>\n",
       "      <td>0.986429</td>\n",
       "      <td>4783800</td>\n",
       "      <td>1.094429</td>\n",
       "      <td>1.116643</td>\n",
       "      <td>2.549744</td>\n",
       "      <td>7.386740</td>\n",
       "      <td>...</td>\n",
       "      <td>-11.332225</td>\n",
       "      <td>9.143382</td>\n",
       "      <td>-56.0</td>\n",
       "      <td>0.006521</td>\n",
       "      <td>9.615774</td>\n",
       "      <td>2.790189</td>\n",
       "      <td>1.916899e+06</td>\n",
       "      <td>0.000024</td>\n",
       "      <td>0.970553</td>\n",
       "      <td>-2.017645</td>\n",
       "    </tr>\n",
       "    <tr>\n",
       "      <th>16</th>\n",
       "      <td>1.013571</td>\n",
       "      <td>1.059286</td>\n",
       "      <td>0.917857</td>\n",
       "      <td>0.922143</td>\n",
       "      <td>0.922143</td>\n",
       "      <td>4855200</td>\n",
       "      <td>1.047571</td>\n",
       "      <td>1.096000</td>\n",
       "      <td>1.363726</td>\n",
       "      <td>3.674746</td>\n",
       "      <td>...</td>\n",
       "      <td>-15.840926</td>\n",
       "      <td>19.140010</td>\n",
       "      <td>-60.0</td>\n",
       "      <td>0.006671</td>\n",
       "      <td>6.782214</td>\n",
       "      <td>2.807117</td>\n",
       "      <td>1.790571e+06</td>\n",
       "      <td>0.000931</td>\n",
       "      <td>2.666845</td>\n",
       "      <td>-1.475571</td>\n",
       "    </tr>\n",
       "    <tr>\n",
       "      <th>17</th>\n",
       "      <td>0.938571</td>\n",
       "      <td>0.939286</td>\n",
       "      <td>0.842143</td>\n",
       "      <td>0.910714</td>\n",
       "      <td>0.910714</td>\n",
       "      <td>10808000</td>\n",
       "      <td>0.999000</td>\n",
       "      <td>1.075286</td>\n",
       "      <td>17.582308</td>\n",
       "      <td>7.165259</td>\n",
       "      <td>...</td>\n",
       "      <td>-15.825737</td>\n",
       "      <td>27.026513</td>\n",
       "      <td>-64.0</td>\n",
       "      <td>0.007482</td>\n",
       "      <td>7.022139</td>\n",
       "      <td>3.460643</td>\n",
       "      <td>1.474343e+06</td>\n",
       "      <td>0.000492</td>\n",
       "      <td>4.160700</td>\n",
       "      <td>-4.044043</td>\n",
       "    </tr>\n",
       "    <tr>\n",
       "      <th>18</th>\n",
       "      <td>0.911429</td>\n",
       "      <td>0.996429</td>\n",
       "      <td>0.892857</td>\n",
       "      <td>0.951429</td>\n",
       "      <td>0.951429</td>\n",
       "      <td>5482400</td>\n",
       "      <td>0.970714</td>\n",
       "      <td>1.055714</td>\n",
       "      <td>28.022051</td>\n",
       "      <td>15.656028</td>\n",
       "      <td>...</td>\n",
       "      <td>-11.360356</td>\n",
       "      <td>33.442196</td>\n",
       "      <td>-64.0</td>\n",
       "      <td>0.006953</td>\n",
       "      <td>10.379926</td>\n",
       "      <td>3.234046</td>\n",
       "      <td>1.836929e+06</td>\n",
       "      <td>0.002693</td>\n",
       "      <td>5.249131</td>\n",
       "      <td>-5.105377</td>\n",
       "    </tr>\n",
       "    <tr>\n",
       "      <th>...</th>\n",
       "      <td>...</td>\n",
       "      <td>...</td>\n",
       "      <td>...</td>\n",
       "      <td>...</td>\n",
       "      <td>...</td>\n",
       "      <td>...</td>\n",
       "      <td>...</td>\n",
       "      <td>...</td>\n",
       "      <td>...</td>\n",
       "      <td>...</td>\n",
       "      <td>...</td>\n",
       "      <td>...</td>\n",
       "      <td>...</td>\n",
       "      <td>...</td>\n",
       "      <td>...</td>\n",
       "      <td>...</td>\n",
       "      <td>...</td>\n",
       "      <td>...</td>\n",
       "      <td>...</td>\n",
       "      <td>...</td>\n",
       "      <td>...</td>\n",
       "    </tr>\n",
       "    <tr>\n",
       "      <th>4889</th>\n",
       "      <td>651.809998</td>\n",
       "      <td>665.460022</td>\n",
       "      <td>651.809998</td>\n",
       "      <td>664.780029</td>\n",
       "      <td>664.780029</td>\n",
       "      <td>6179700</td>\n",
       "      <td>644.009998</td>\n",
       "      <td>636.387994</td>\n",
       "      <td>98.839008</td>\n",
       "      <td>85.267842</td>\n",
       "      <td>...</td>\n",
       "      <td>4.545124</td>\n",
       "      <td>30.296476</td>\n",
       "      <td>92.0</td>\n",
       "      <td>0.008658</td>\n",
       "      <td>10.147205</td>\n",
       "      <td>0.980530</td>\n",
       "      <td>1.469873e+06</td>\n",
       "      <td>247.075573</td>\n",
       "      <td>1.217361</td>\n",
       "      <td>-0.937506</td>\n",
       "    </tr>\n",
       "    <tr>\n",
       "      <th>4890</th>\n",
       "      <td>663.739990</td>\n",
       "      <td>675.880005</td>\n",
       "      <td>657.070007</td>\n",
       "      <td>671.659973</td>\n",
       "      <td>671.659973</td>\n",
       "      <td>3833500</td>\n",
       "      <td>650.747998</td>\n",
       "      <td>640.849994</td>\n",
       "      <td>92.814518</td>\n",
       "      <td>96.740267</td>\n",
       "      <td>...</td>\n",
       "      <td>5.191655</td>\n",
       "      <td>30.298693</td>\n",
       "      <td>96.0</td>\n",
       "      <td>0.007769</td>\n",
       "      <td>14.556781</td>\n",
       "      <td>1.811199</td>\n",
       "      <td>1.752988e+06</td>\n",
       "      <td>194.597054</td>\n",
       "      <td>1.908983</td>\n",
       "      <td>-3.776945</td>\n",
       "    </tr>\n",
       "    <tr>\n",
       "      <th>4891</th>\n",
       "      <td>673.760010</td>\n",
       "      <td>676.489990</td>\n",
       "      <td>662.770020</td>\n",
       "      <td>668.520020</td>\n",
       "      <td>668.520020</td>\n",
       "      <td>2904800</td>\n",
       "      <td>656.652002</td>\n",
       "      <td>645.207996</td>\n",
       "      <td>86.568968</td>\n",
       "      <td>92.740831</td>\n",
       "      <td>...</td>\n",
       "      <td>4.356440</td>\n",
       "      <td>30.769399</td>\n",
       "      <td>76.0</td>\n",
       "      <td>0.007858</td>\n",
       "      <td>14.252702</td>\n",
       "      <td>2.476241</td>\n",
       "      <td>1.693942e+06</td>\n",
       "      <td>126.499863</td>\n",
       "      <td>1.744052</td>\n",
       "      <td>-3.647655</td>\n",
       "    </tr>\n",
       "    <tr>\n",
       "      <th>4892</th>\n",
       "      <td>669.000000</td>\n",
       "      <td>671.409973</td>\n",
       "      <td>661.849976</td>\n",
       "      <td>662.919983</td>\n",
       "      <td>662.919983</td>\n",
       "      <td>2276900</td>\n",
       "      <td>664.207996</td>\n",
       "      <td>648.523993</td>\n",
       "      <td>77.131758</td>\n",
       "      <td>85.505081</td>\n",
       "      <td>...</td>\n",
       "      <td>3.125012</td>\n",
       "      <td>31.225713</td>\n",
       "      <td>76.0</td>\n",
       "      <td>0.007835</td>\n",
       "      <td>13.685406</td>\n",
       "      <td>3.231132</td>\n",
       "      <td>1.709240e+06</td>\n",
       "      <td>108.182370</td>\n",
       "      <td>1.786774</td>\n",
       "      <td>-3.443097</td>\n",
       "    </tr>\n",
       "    <tr>\n",
       "      <th>4893</th>\n",
       "      <td>670.950012</td>\n",
       "      <td>676.799988</td>\n",
       "      <td>668.030029</td>\n",
       "      <td>674.049988</td>\n",
       "      <td>674.049988</td>\n",
       "      <td>2859400</td>\n",
       "      <td>668.385999</td>\n",
       "      <td>652.548993</td>\n",
       "      <td>95.389771</td>\n",
       "      <td>86.363499</td>\n",
       "      <td>...</td>\n",
       "      <td>4.376381</td>\n",
       "      <td>31.577094</td>\n",
       "      <td>88.0</td>\n",
       "      <td>0.008954</td>\n",
       "      <td>10.212190</td>\n",
       "      <td>1.953923</td>\n",
       "      <td>1.328982e+06</td>\n",
       "      <td>605.487154</td>\n",
       "      <td>2.481439</td>\n",
       "      <td>-0.921002</td>\n",
       "    </tr>\n",
       "  </tbody>\n",
       "</table>\n",
       "<p>4880 rows × 31 columns</p>\n",
       "</div>"
      ],
      "text/plain": [
       "            Open        High         Low       Close   Adj Close    Volume  \\\n",
       "14      1.104286    1.122143    1.080000    1.082857    1.082857   2567600   \n",
       "15      1.082143    1.085714    0.980000    0.986429    0.986429   4783800   \n",
       "16      1.013571    1.059286    0.917857    0.922143    0.922143   4855200   \n",
       "17      0.938571    0.939286    0.842143    0.910714    0.910714  10808000   \n",
       "18      0.911429    0.996429    0.892857    0.951429    0.951429   5482400   \n",
       "...          ...         ...         ...         ...         ...       ...   \n",
       "4889  651.809998  665.460022  651.809998  664.780029  664.780029   6179700   \n",
       "4890  663.739990  675.880005  657.070007  671.659973  671.659973   3833500   \n",
       "4891  673.760010  676.489990  662.770020  668.520020  668.520020   2904800   \n",
       "4892  669.000000  671.409973  661.849976  662.919983  662.919983   2276900   \n",
       "4893  670.950012  676.799988  668.030029  674.049988  674.049988   2859400   \n",
       "\n",
       "            SMA5       SMA10  StochasticK  StochasticD  ...         DI  \\\n",
       "14      1.120857    1.125643     7.110768     9.805238  ...  -4.041967   \n",
       "15      1.094429    1.116643     2.549744     7.386740  ... -11.332225   \n",
       "16      1.047571    1.096000     1.363726     3.674746  ... -15.840926   \n",
       "17      0.999000    1.075286    17.582308     7.165259  ... -15.825737   \n",
       "18      0.970714    1.055714    28.022051    15.656028  ... -11.360356   \n",
       "...          ...         ...          ...          ...  ...        ...   \n",
       "4889  644.009998  636.387994    98.839008    85.267842  ...   4.545124   \n",
       "4890  650.747998  640.849994    92.814518    96.740267  ...   5.191655   \n",
       "4891  656.652002  645.207996    86.568968    92.740831  ...   4.356440   \n",
       "4892  664.207996  648.523993    77.131758    85.505081  ...   3.125012   \n",
       "4893  668.385999  652.548993    95.389771    86.363499  ...   4.376381   \n",
       "\n",
       "            ADX  Aroon  SqrtRSI/Momentum  SqrtStochasticD/RSI  \\\n",
       "14     6.531289  -12.0          0.005874            11.078652   \n",
       "15     9.143382  -56.0          0.006521             9.615774   \n",
       "16    19.140010  -60.0          0.006671             6.782214   \n",
       "17    27.026513  -64.0          0.007482             7.022139   \n",
       "18    33.442196  -64.0          0.006953            10.379926   \n",
       "...         ...    ...               ...                  ...   \n",
       "4889  30.296476   92.0          0.008658            10.147205   \n",
       "4890  30.298693   96.0          0.007769            14.556781   \n",
       "4891  30.769399   76.0          0.007858            14.252702   \n",
       "4892  31.225713   76.0          0.007835            13.685406   \n",
       "4893  31.577094   88.0          0.008954            10.212190   \n",
       "\n",
       "      SqrtLarryWilliamsR*RSI  Momentum**3/RSI  ADO*MACD**2  ADX*AbsROC  \\\n",
       "14                  2.724111     2.623073e+06     0.000276    0.419294   \n",
       "15                  2.790189     1.916899e+06     0.000024    0.970553   \n",
       "16                  2.807117     1.790571e+06     0.000931    2.666845   \n",
       "17                  3.460643     1.474343e+06     0.000492    4.160700   \n",
       "18                  3.234046     1.836929e+06     0.002693    5.249131   \n",
       "...                      ...              ...          ...         ...   \n",
       "4889                0.980530     1.469873e+06   247.075573    1.217361   \n",
       "4890                1.811199     1.752988e+06   194.597054    1.908983   \n",
       "4891                2.476241     1.693942e+06   126.499863    1.744052   \n",
       "4892                3.231132     1.709240e+06   108.182370    1.786774   \n",
       "4893                1.953923     1.328982e+06   605.487154    2.481439   \n",
       "\n",
       "      SqrtStochasticK*LogRSI  \n",
       "14                 -3.369416  \n",
       "15                 -2.017645  \n",
       "16                 -1.475571  \n",
       "17                 -4.044043  \n",
       "18                 -5.105377  \n",
       "...                      ...  \n",
       "4889               -0.937506  \n",
       "4890               -3.776945  \n",
       "4891               -3.647655  \n",
       "4892               -3.443097  \n",
       "4893               -0.921002  \n",
       "\n",
       "[4880 rows x 31 columns]"
      ]
     },
     "execution_count": 111,
     "metadata": {},
     "output_type": "execute_result"
    }
   ],
   "source": [
    "enhanced_data = compute_adv_indicators(complete_data)\n",
    "enhanced_data"
   ]
  },
  {
   "cell_type": "markdown",
   "metadata": {},
   "source": [
    "### autofeat Feature Selection"
   ]
  },
  {
   "cell_type": "code",
   "execution_count": 112,
   "metadata": {},
   "outputs": [
    {
     "name": "stderr",
     "output_type": "stream",
     "text": [
      "C:\\Users\\rshay\\anaconda3\\lib\\site-packages\\sklearn\\utils\\validation.py:72: DataConversionWarning: A column-vector y was passed when a 1d array was expected. Please change the shape of y to (n_samples, ), for example using ravel().\n",
      "  return f(**kwargs)\n"
     ]
    },
    {
     "name": "stdout",
     "output_type": "stream",
     "text": [
      "[featsel] Scaling data...done.\n",
      "[featsel] Feature selection run 1/5\n",
      "[featsel] Feature selection run 2/5\n",
      "[featsel] Feature selection run 3/5\n",
      "[featsel] Feature selection run 4/5\n",
      "[featsel] Feature selection run 5/5\n",
      "[featsel] 10 features after 5 feature selection runs\n",
      "[featsel] 10 features after correlation filtering\n",
      "[featsel] 10 features after noise filtering\n"
     ]
    }
   ],
   "source": [
    "from autofeat import FeatureSelector\n",
    "fsel = FeatureSelector(verbose=1)\n",
    "selected_data = fsel.fit_transform(pd.DataFrame(enhanced_data), pd.DataFrame(target))"
   ]
  },
  {
   "cell_type": "code",
   "execution_count": 113,
   "metadata": {},
   "outputs": [
    {
     "data": {
      "text/html": [
       "<div>\n",
       "<style scoped>\n",
       "    .dataframe tbody tr th:only-of-type {\n",
       "        vertical-align: middle;\n",
       "    }\n",
       "\n",
       "    .dataframe tbody tr th {\n",
       "        vertical-align: top;\n",
       "    }\n",
       "\n",
       "    .dataframe thead th {\n",
       "        text-align: right;\n",
       "    }\n",
       "</style>\n",
       "<table border=\"1\" class=\"dataframe\">\n",
       "  <thead>\n",
       "    <tr style=\"text-align: right;\">\n",
       "      <th></th>\n",
       "      <th>SqrtRSI/Momentum</th>\n",
       "      <th>SqrtStochasticD/RSI</th>\n",
       "      <th>SqrtLarryWilliamsR*RSI</th>\n",
       "      <th>ADO*MACD**2</th>\n",
       "      <th>SqrtStochasticK*LogRSI</th>\n",
       "      <th>ADX*AbsROC</th>\n",
       "      <th>ROC</th>\n",
       "      <th>MACD</th>\n",
       "      <th>Aroon</th>\n",
       "      <th>Momentum**3/RSI</th>\n",
       "    </tr>\n",
       "  </thead>\n",
       "  <tbody>\n",
       "    <tr>\n",
       "      <th>0</th>\n",
       "      <td>0.005874</td>\n",
       "      <td>11.078652</td>\n",
       "      <td>2.724111</td>\n",
       "      <td>0.000276</td>\n",
       "      <td>-3.369416</td>\n",
       "      <td>0.419294</td>\n",
       "      <td>-0.064198</td>\n",
       "      <td>-0.019919</td>\n",
       "      <td>-12.0</td>\n",
       "      <td>2.623073e+06</td>\n",
       "    </tr>\n",
       "    <tr>\n",
       "      <th>1</th>\n",
       "      <td>0.006521</td>\n",
       "      <td>9.615774</td>\n",
       "      <td>2.790189</td>\n",
       "      <td>0.000024</td>\n",
       "      <td>-2.017645</td>\n",
       "      <td>0.970553</td>\n",
       "      <td>-0.106148</td>\n",
       "      <td>-0.029902</td>\n",
       "      <td>-56.0</td>\n",
       "      <td>1.916899e+06</td>\n",
       "    </tr>\n",
       "    <tr>\n",
       "      <th>2</th>\n",
       "      <td>0.006671</td>\n",
       "      <td>6.782214</td>\n",
       "      <td>2.807117</td>\n",
       "      <td>0.000931</td>\n",
       "      <td>-1.475571</td>\n",
       "      <td>2.666845</td>\n",
       "      <td>-0.139334</td>\n",
       "      <td>-0.042512</td>\n",
       "      <td>-60.0</td>\n",
       "      <td>1.790571e+06</td>\n",
       "    </tr>\n",
       "    <tr>\n",
       "      <th>3</th>\n",
       "      <td>0.007482</td>\n",
       "      <td>7.022139</td>\n",
       "      <td>3.460643</td>\n",
       "      <td>0.000492</td>\n",
       "      <td>-4.044043</td>\n",
       "      <td>4.160700</td>\n",
       "      <td>-0.153949</td>\n",
       "      <td>-0.052818</td>\n",
       "      <td>-64.0</td>\n",
       "      <td>1.474343e+06</td>\n",
       "    </tr>\n",
       "    <tr>\n",
       "      <th>4</th>\n",
       "      <td>0.006953</td>\n",
       "      <td>10.379926</td>\n",
       "      <td>3.234046</td>\n",
       "      <td>0.002693</td>\n",
       "      <td>-5.105377</td>\n",
       "      <td>5.249131</td>\n",
       "      <td>-0.156961</td>\n",
       "      <td>-0.057043</td>\n",
       "      <td>-64.0</td>\n",
       "      <td>1.836929e+06</td>\n",
       "    </tr>\n",
       "    <tr>\n",
       "      <th>...</th>\n",
       "      <td>...</td>\n",
       "      <td>...</td>\n",
       "      <td>...</td>\n",
       "      <td>...</td>\n",
       "      <td>...</td>\n",
       "      <td>...</td>\n",
       "      <td>...</td>\n",
       "      <td>...</td>\n",
       "      <td>...</td>\n",
       "      <td>...</td>\n",
       "    </tr>\n",
       "    <tr>\n",
       "      <th>4875</th>\n",
       "      <td>0.008658</td>\n",
       "      <td>10.147205</td>\n",
       "      <td>0.980530</td>\n",
       "      <td>247.075573</td>\n",
       "      <td>-0.937506</td>\n",
       "      <td>1.217361</td>\n",
       "      <td>0.040182</td>\n",
       "      <td>16.558775</td>\n",
       "      <td>92.0</td>\n",
       "      <td>1.469873e+06</td>\n",
       "    </tr>\n",
       "    <tr>\n",
       "      <th>4876</th>\n",
       "      <td>0.007769</td>\n",
       "      <td>14.556781</td>\n",
       "      <td>1.811199</td>\n",
       "      <td>194.597054</td>\n",
       "      <td>-3.776945</td>\n",
       "      <td>1.908983</td>\n",
       "      <td>0.063005</td>\n",
       "      <td>18.159400</td>\n",
       "      <td>96.0</td>\n",
       "      <td>1.752988e+06</td>\n",
       "    </tr>\n",
       "    <tr>\n",
       "      <th>4877</th>\n",
       "      <td>0.007858</td>\n",
       "      <td>14.252702</td>\n",
       "      <td>2.476241</td>\n",
       "      <td>126.499863</td>\n",
       "      <td>-3.647655</td>\n",
       "      <td>1.744052</td>\n",
       "      <td>0.056681</td>\n",
       "      <td>18.956025</td>\n",
       "      <td>76.0</td>\n",
       "      <td>1.693942e+06</td>\n",
       "    </tr>\n",
       "    <tr>\n",
       "      <th>4878</th>\n",
       "      <td>0.007835</td>\n",
       "      <td>13.685406</td>\n",
       "      <td>3.231132</td>\n",
       "      <td>108.182370</td>\n",
       "      <td>-3.443097</td>\n",
       "      <td>1.786774</td>\n",
       "      <td>0.057221</td>\n",
       "      <td>18.917412</td>\n",
       "      <td>76.0</td>\n",
       "      <td>1.709240e+06</td>\n",
       "    </tr>\n",
       "    <tr>\n",
       "      <th>4879</th>\n",
       "      <td>0.008954</td>\n",
       "      <td>10.212190</td>\n",
       "      <td>1.953923</td>\n",
       "      <td>605.487154</td>\n",
       "      <td>-0.921002</td>\n",
       "      <td>2.481439</td>\n",
       "      <td>0.078584</td>\n",
       "      <td>19.559441</td>\n",
       "      <td>88.0</td>\n",
       "      <td>1.328982e+06</td>\n",
       "    </tr>\n",
       "  </tbody>\n",
       "</table>\n",
       "<p>4880 rows × 10 columns</p>\n",
       "</div>"
      ],
      "text/plain": [
       "      SqrtRSI/Momentum  SqrtStochasticD/RSI  SqrtLarryWilliamsR*RSI  \\\n",
       "0             0.005874            11.078652                2.724111   \n",
       "1             0.006521             9.615774                2.790189   \n",
       "2             0.006671             6.782214                2.807117   \n",
       "3             0.007482             7.022139                3.460643   \n",
       "4             0.006953            10.379926                3.234046   \n",
       "...                ...                  ...                     ...   \n",
       "4875          0.008658            10.147205                0.980530   \n",
       "4876          0.007769            14.556781                1.811199   \n",
       "4877          0.007858            14.252702                2.476241   \n",
       "4878          0.007835            13.685406                3.231132   \n",
       "4879          0.008954            10.212190                1.953923   \n",
       "\n",
       "      ADO*MACD**2  SqrtStochasticK*LogRSI  ADX*AbsROC       ROC       MACD  \\\n",
       "0        0.000276               -3.369416    0.419294 -0.064198  -0.019919   \n",
       "1        0.000024               -2.017645    0.970553 -0.106148  -0.029902   \n",
       "2        0.000931               -1.475571    2.666845 -0.139334  -0.042512   \n",
       "3        0.000492               -4.044043    4.160700 -0.153949  -0.052818   \n",
       "4        0.002693               -5.105377    5.249131 -0.156961  -0.057043   \n",
       "...           ...                     ...         ...       ...        ...   \n",
       "4875   247.075573               -0.937506    1.217361  0.040182  16.558775   \n",
       "4876   194.597054               -3.776945    1.908983  0.063005  18.159400   \n",
       "4877   126.499863               -3.647655    1.744052  0.056681  18.956025   \n",
       "4878   108.182370               -3.443097    1.786774  0.057221  18.917412   \n",
       "4879   605.487154               -0.921002    2.481439  0.078584  19.559441   \n",
       "\n",
       "      Aroon  Momentum**3/RSI  \n",
       "0     -12.0     2.623073e+06  \n",
       "1     -56.0     1.916899e+06  \n",
       "2     -60.0     1.790571e+06  \n",
       "3     -64.0     1.474343e+06  \n",
       "4     -64.0     1.836929e+06  \n",
       "...     ...              ...  \n",
       "4875   92.0     1.469873e+06  \n",
       "4876   96.0     1.752988e+06  \n",
       "4877   76.0     1.693942e+06  \n",
       "4878   76.0     1.709240e+06  \n",
       "4879   88.0     1.328982e+06  \n",
       "\n",
       "[4880 rows x 10 columns]"
      ]
     },
     "execution_count": 113,
     "metadata": {},
     "output_type": "execute_result"
    }
   ],
   "source": [
    "selected_data"
   ]
  },
  {
   "cell_type": "code",
   "execution_count": 189,
   "metadata": {},
   "outputs": [],
   "source": [
    "selected_scaled_data = scaler.transform(selected_data)"
   ]
  },
  {
   "cell_type": "code",
   "execution_count": 190,
   "metadata": {},
   "outputs": [],
   "source": [
    "from sklearn.model_selection import train_test_split\n",
    "\n",
    "X_train, X_test, y_train, y_test = train_test_split(selected_scaled_data,target,test_size=0.3)"
   ]
  },
  {
   "cell_type": "code",
   "execution_count": 191,
   "metadata": {},
   "outputs": [],
   "source": [
    "from sklearn.preprocessing import StandardScaler"
   ]
  },
  {
   "cell_type": "code",
   "execution_count": 192,
   "metadata": {},
   "outputs": [],
   "source": [
    "scaler = StandardScaler()  \n",
    "scaler.fit(X_train)\n",
    "\n",
    "X_train = scaler.transform(X_train)  \n",
    "X_test = scaler.transform(X_test) "
   ]
  },
  {
   "cell_type": "code",
   "execution_count": 199,
   "metadata": {},
   "outputs": [],
   "source": [
    "selected_scaled_data_df = pd.DataFrame(selected_scaled_data)\n",
    "selected_scaled_data_1250 = selected_scaled_data_df.tail(1250)\n",
    "selected_scaled_data_250 = selected_scaled_data_df.tail(250)\n",
    "selected_scaled_data_125 = selected_scaled_data_df.tail(125)\n",
    "target_1250 = target.tail(1250)\n",
    "target_250 = target.tail(250)\n",
    "target_125 = target.tail(125)"
   ]
  },
  {
   "cell_type": "code",
   "execution_count": 200,
   "metadata": {},
   "outputs": [],
   "source": [
    "X_train_1250, X_test_1250, y_train_1250, y_test_1250 = train_test_split(selected_scaled_data_1250,target_1250,test_size=0.3)"
   ]
  },
  {
   "cell_type": "code",
   "execution_count": 201,
   "metadata": {},
   "outputs": [],
   "source": [
    "X_train_250, X_test_250, y_train_250, y_test_250 = train_test_split(selected_scaled_data_250,target_250,test_size=0.3)"
   ]
  },
  {
   "cell_type": "code",
   "execution_count": 202,
   "metadata": {},
   "outputs": [],
   "source": [
    "X_train_125, X_test_125, y_train_125, y_test_125 = train_test_split(selected_scaled_data_125,target_125,test_size=0.3)"
   ]
  },
  {
   "cell_type": "markdown",
   "metadata": {},
   "source": [
    "### Logistic Regression"
   ]
  },
  {
   "cell_type": "markdown",
   "metadata": {},
   "source": [
    "#### Max Duration"
   ]
  },
  {
   "cell_type": "code",
   "execution_count": 139,
   "metadata": {},
   "outputs": [],
   "source": [
    "from sklearn.metrics import accuracy_score\n",
    "from sklearn.metrics import confusion_matrix"
   ]
  },
  {
   "cell_type": "code",
   "execution_count": 140,
   "metadata": {},
   "outputs": [],
   "source": [
    "lr = LogisticRegression(solver='liblinear', multi_class='ovr')\n",
    "trained_model_lr = lr.fit(X_train, y_train)\n",
    "predictions_lr = trained_model_lr.predict(X_test)\n",
    "\n",
    "Train_accuracy_lr = accuracy_score(y_train,trained_model_lr.predict(X_train))\n",
    "Test_accuracy_lr = accuracy_score(y_test, predictions_lr)\n",
    "Confusion_matrix_lr = confusion_matrix(y_test,predictions_lr)"
   ]
  },
  {
   "cell_type": "code",
   "execution_count": 181,
   "metadata": {},
   "outputs": [
    {
     "data": {
      "text/plain": [
       "0.6495901639344263"
      ]
     },
     "execution_count": 181,
     "metadata": {},
     "output_type": "execute_result"
    }
   ],
   "source": [
    "Train_accuracy_lr"
   ]
  },
  {
   "cell_type": "code",
   "execution_count": 142,
   "metadata": {},
   "outputs": [
    {
     "data": {
      "text/plain": [
       "0.6495901639344263"
      ]
     },
     "execution_count": 142,
     "metadata": {},
     "output_type": "execute_result"
    }
   ],
   "source": [
    "Test_accuracy_lr"
   ]
  },
  {
   "cell_type": "markdown",
   "metadata": {},
   "source": [
    "#### 5 Years"
   ]
  },
  {
   "cell_type": "code",
   "execution_count": 252,
   "metadata": {},
   "outputs": [],
   "source": [
    "trained_model_lr_1250 = lr.fit(X_train_1250, y_train_1250)\n",
    "predictions_lr_1250 = trained_model_lr_1250.predict(X_test_1250)\n",
    "\n",
    "Train_accuracy_lr_1250 = accuracy_score(y_train_1250,trained_model_lr_1250.predict(X_train_1250))\n",
    "Test_accuracy_lr_1250 = accuracy_score(y_test_1250, predictions_lr_1250)\n",
    "Confusion_matrix_lr_1250 = confusion_matrix(y_test_1250,predictions_lr_1250)"
   ]
  },
  {
   "cell_type": "code",
   "execution_count": 253,
   "metadata": {},
   "outputs": [
    {
     "data": {
      "text/plain": [
       "0.45714285714285713"
      ]
     },
     "execution_count": 253,
     "metadata": {},
     "output_type": "execute_result"
    }
   ],
   "source": [
    "Train_accuracy_lr_1250"
   ]
  },
  {
   "cell_type": "code",
   "execution_count": 254,
   "metadata": {},
   "outputs": [
    {
     "data": {
      "text/plain": [
       "0.512"
      ]
     },
     "execution_count": 254,
     "metadata": {},
     "output_type": "execute_result"
    }
   ],
   "source": [
    "Test_accuracy_lr_1250"
   ]
  },
  {
   "cell_type": "markdown",
   "metadata": {},
   "source": [
    "#### 1 Year"
   ]
  },
  {
   "cell_type": "code",
   "execution_count": 256,
   "metadata": {},
   "outputs": [],
   "source": [
    "trained_model_lr_250 = lr.fit(X_train_250, y_train_250)\n",
    "predictions_lr_250 = trained_model_lr_250.predict(X_test_250)\n",
    "\n",
    "Train_accuracy_lr_250 = accuracy_score(y_train_250,trained_model_lr_250.predict(X_train_250))\n",
    "Test_accuracy_lr_250 = accuracy_score(y_test_250, predictions_lr_250)\n",
    "Confusion_matrix_lr_250 = confusion_matrix(y_test_250,predictions_lr_250)"
   ]
  },
  {
   "cell_type": "code",
   "execution_count": 257,
   "metadata": {},
   "outputs": [
    {
     "data": {
      "text/plain": [
       "0.7142857142857143"
      ]
     },
     "execution_count": 257,
     "metadata": {},
     "output_type": "execute_result"
    }
   ],
   "source": [
    "Train_accuracy_lr_250"
   ]
  },
  {
   "cell_type": "code",
   "execution_count": 258,
   "metadata": {},
   "outputs": [
    {
     "data": {
      "text/plain": [
       "0.5866666666666667"
      ]
     },
     "execution_count": 258,
     "metadata": {},
     "output_type": "execute_result"
    }
   ],
   "source": [
    "Test_accuracy_lr_250"
   ]
  },
  {
   "cell_type": "markdown",
   "metadata": {},
   "source": [
    "#### 6 Months"
   ]
  },
  {
   "cell_type": "code",
   "execution_count": 259,
   "metadata": {},
   "outputs": [],
   "source": [
    "trained_model_lr_125 = lr.fit(X_train_125, y_train_125)\n",
    "predictions_lr_125 = trained_model_lr_125.predict(X_test_125)\n",
    "\n",
    "Train_accuracy_lr_125 = accuracy_score(y_train_125,trained_model_lr_125.predict(X_train_125))\n",
    "Test_accuracy_lr_125 = accuracy_score(y_test_125, predictions_lr_125)\n",
    "Confusion_matrix_lr_125 = confusion_matrix(y_test_125,predictions_lr_125)"
   ]
  },
  {
   "cell_type": "code",
   "execution_count": 260,
   "metadata": {},
   "outputs": [
    {
     "data": {
      "text/plain": [
       "0.632183908045977"
      ]
     },
     "execution_count": 260,
     "metadata": {},
     "output_type": "execute_result"
    }
   ],
   "source": [
    "Train_accuracy_lr_125"
   ]
  },
  {
   "cell_type": "code",
   "execution_count": 261,
   "metadata": {},
   "outputs": [
    {
     "data": {
      "text/plain": [
       "0.5526315789473685"
      ]
     },
     "execution_count": 261,
     "metadata": {},
     "output_type": "execute_result"
    }
   ],
   "source": [
    "Test_accuracy_lr_125"
   ]
  },
  {
   "cell_type": "markdown",
   "metadata": {},
   "source": [
    "#### Last 100 Days based on Best Model - Max Duration"
   ]
  },
  {
   "cell_type": "code",
   "execution_count": 262,
   "metadata": {},
   "outputs": [],
   "source": [
    "last100 = selected_scaled_data_df.tail(100)"
   ]
  },
  {
   "cell_type": "code",
   "execution_count": 263,
   "metadata": {},
   "outputs": [
    {
     "data": {
      "text/plain": [
       "array([1, 1, 1, 1, 1, 1, 0, 0, 0, 1, 1, 1, 1, 1, 1, 1, 1, 1, 1, 1, 1, 1,\n",
       "       1, 1, 1, 1, 1, 1, 1, 1, 1, 1, 1, 1, 0, 0, 0, 0, 0, 0, 0, 0, 0, 0,\n",
       "       0, 0, 0, 0, 0, 0, 1, 1, 1, 1, 1, 1, 1, 1, 1, 1, 1, 1, 1, 1, 1, 1,\n",
       "       1, 1, 1, 1, 1, 1, 1, 1, 1, 1, 1, 1, 1, 1, 1, 1, 1, 1, 1, 1, 1, 1,\n",
       "       1, 1, 1, 1, 1, 1, 1, 1, 1, 1, 1, 1])"
      ]
     },
     "execution_count": 263,
     "metadata": {},
     "output_type": "execute_result"
    }
   ],
   "source": [
    "predictions_lr_100 = trained_model_lr.predict(last100)\n",
    "predictions_lr_100"
   ]
  },
  {
   "cell_type": "markdown",
   "metadata": {},
   "source": [
    "### SVM"
   ]
  },
  {
   "cell_type": "code",
   "execution_count": 264,
   "metadata": {},
   "outputs": [],
   "source": [
    "svm = SVC(gamma='auto')\n",
    "trained_model_svm = svm.fit(X_train, y_train)\n",
    "predictions_svm = trained_model_svm.predict(X_test)\n",
    "\n",
    "Train_accuracy_svm = accuracy_score(y_train,trained_model_svm.predict(X_train))\n",
    "Test_accuracy_svm = accuracy_score(y_test, predictions_svm)\n",
    "Confusion_matrix_svm = confusion_matrix(y_test,predictions_svm)"
   ]
  },
  {
   "cell_type": "code",
   "execution_count": 265,
   "metadata": {},
   "outputs": [
    {
     "data": {
      "text/plain": [
       "0.6612997658079626"
      ]
     },
     "execution_count": 265,
     "metadata": {},
     "output_type": "execute_result"
    }
   ],
   "source": [
    "Train_accuracy_svm"
   ]
  },
  {
   "cell_type": "code",
   "execution_count": 266,
   "metadata": {},
   "outputs": [
    {
     "data": {
      "text/plain": [
       "0.6550546448087432"
      ]
     },
     "execution_count": 266,
     "metadata": {},
     "output_type": "execute_result"
    }
   ],
   "source": [
    "Test_accuracy_svm"
   ]
  },
  {
   "cell_type": "markdown",
   "metadata": {},
   "source": [
    "#### 5 Years"
   ]
  },
  {
   "cell_type": "code",
   "execution_count": 267,
   "metadata": {},
   "outputs": [],
   "source": [
    "trained_model_svm_1250 = svm.fit(X_train_1250, y_train_1250)\n",
    "predictions_svm_1250 = trained_model_svm_1250.predict(X_test_1250)\n",
    "\n",
    "Train_accuracy_svm_1250 = accuracy_score(y_train_1250,trained_model_svm_1250.predict(X_train_1250))\n",
    "Test_accuracy_svm_1250 = accuracy_score(y_test_1250, predictions_svm_1250)\n",
    "Confusion_matrix_svm_1250 = confusion_matrix(y_test_1250,predictions_svm_1250)"
   ]
  },
  {
   "cell_type": "code",
   "execution_count": 268,
   "metadata": {},
   "outputs": [
    {
     "data": {
      "text/plain": [
       "1.0"
      ]
     },
     "execution_count": 268,
     "metadata": {},
     "output_type": "execute_result"
    }
   ],
   "source": [
    "Train_accuracy_svm_1250"
   ]
  },
  {
   "cell_type": "code",
   "execution_count": 269,
   "metadata": {},
   "outputs": [
    {
     "data": {
      "text/plain": [
       "0.488"
      ]
     },
     "execution_count": 269,
     "metadata": {},
     "output_type": "execute_result"
    }
   ],
   "source": [
    "Test_accuracy_svm_1250"
   ]
  },
  {
   "cell_type": "markdown",
   "metadata": {},
   "source": [
    "#### 1 Year"
   ]
  },
  {
   "cell_type": "code",
   "execution_count": 270,
   "metadata": {},
   "outputs": [],
   "source": [
    "trained_model_svm_250 = svm.fit(X_train_250, y_train_250)\n",
    "predictions_svm_250 = trained_model_svm_1250.predict(X_test_250)\n",
    "\n",
    "Train_accuracy_svm_250 = accuracy_score(y_train_250,trained_model_svm_250.predict(X_train_250))\n",
    "Test_accuracy_svm_250 = accuracy_score(y_test_250, predictions_svm_250)\n",
    "Confusion_matrix_svm_250 = confusion_matrix(y_test_250,predictions_svm_250)"
   ]
  },
  {
   "cell_type": "code",
   "execution_count": 271,
   "metadata": {},
   "outputs": [
    {
     "data": {
      "text/plain": [
       "1.0"
      ]
     },
     "execution_count": 271,
     "metadata": {},
     "output_type": "execute_result"
    }
   ],
   "source": [
    "Train_accuracy_svm_250"
   ]
  },
  {
   "cell_type": "code",
   "execution_count": 272,
   "metadata": {},
   "outputs": [
    {
     "data": {
      "text/plain": [
       "0.5333333333333333"
      ]
     },
     "execution_count": 272,
     "metadata": {},
     "output_type": "execute_result"
    }
   ],
   "source": [
    "Test_accuracy_svm_250"
   ]
  },
  {
   "cell_type": "markdown",
   "metadata": {},
   "source": [
    "#### 6 Months"
   ]
  },
  {
   "cell_type": "code",
   "execution_count": 273,
   "metadata": {},
   "outputs": [],
   "source": [
    "trained_model_svm_125 = svm.fit(X_train_125, y_train_125)\n",
    "predictions_svm_125 = trained_model_svm_1250.predict(X_test_125)\n",
    "\n",
    "Train_accuracy_svm_125 = accuracy_score(y_train_125,trained_model_svm_125.predict(X_train_125))\n",
    "Test_accuracy_svm_125 = accuracy_score(y_test_125, predictions_svm_125)\n",
    "Confusion_matrix_svm_125 = confusion_matrix(y_test_125,predictions_svm_125)"
   ]
  },
  {
   "cell_type": "code",
   "execution_count": 274,
   "metadata": {},
   "outputs": [
    {
     "data": {
      "text/plain": [
       "1.0"
      ]
     },
     "execution_count": 274,
     "metadata": {},
     "output_type": "execute_result"
    }
   ],
   "source": [
    "Train_accuracy_svm_125"
   ]
  },
  {
   "cell_type": "code",
   "execution_count": 275,
   "metadata": {},
   "outputs": [
    {
     "data": {
      "text/plain": [
       "0.6578947368421053"
      ]
     },
     "execution_count": 275,
     "metadata": {},
     "output_type": "execute_result"
    }
   ],
   "source": [
    "Test_accuracy_svm_125"
   ]
  },
  {
   "cell_type": "markdown",
   "metadata": {},
   "source": [
    "#### Last 100 Days based on Best Model - Max Duration"
   ]
  },
  {
   "cell_type": "code",
   "execution_count": 276,
   "metadata": {},
   "outputs": [
    {
     "data": {
      "text/plain": [
       "array([1, 1, 1, 0, 1, 1, 1, 0, 1, 1, 1, 1, 1, 1, 0, 1, 1, 1, 0, 1, 1, 1,\n",
       "       1, 1, 0, 0, 1, 0, 0, 0, 1, 1, 1, 1, 0, 1, 0, 0, 1, 1, 1, 0, 1, 0,\n",
       "       0, 1, 1, 1, 1, 1, 1, 1, 1, 0, 1, 1, 1, 1, 1, 1, 1, 1, 1, 0, 1, 1,\n",
       "       1, 1, 1, 1, 0, 0, 1, 1, 1, 1, 1, 1, 1, 1, 1, 1, 1, 0, 1, 0, 0, 1,\n",
       "       1, 0, 1, 1, 0, 1, 1, 1, 0, 1, 1, 1])"
      ]
     },
     "execution_count": 276,
     "metadata": {},
     "output_type": "execute_result"
    }
   ],
   "source": [
    "predictions_svm_100 = trained_model_svm.predict(last100)\n",
    "predictions_svm_100"
   ]
  },
  {
   "cell_type": "markdown",
   "metadata": {},
   "source": [
    "### RandomForest"
   ]
  },
  {
   "cell_type": "code",
   "execution_count": 277,
   "metadata": {},
   "outputs": [],
   "source": [
    "rf = RandomForestClassifier(n_estimators=10)\n",
    "trained_model_rf = rf.fit(X_train, y_train)\n",
    "predictions_rf = trained_model_rf.predict(X_test)\n",
    "\n",
    "Train_accuracy_rf = accuracy_score(y_train, trained_model_rf.predict(X_train))\n",
    "Test_accuracy_rf = accuracy_score(y_test, predictions_rf)\n",
    "Confusion_matrix_rf = confusion_matrix(y_test, predictions_rf)"
   ]
  },
  {
   "cell_type": "code",
   "execution_count": 278,
   "metadata": {},
   "outputs": [
    {
     "data": {
      "text/plain": [
       "0.9844847775175644"
      ]
     },
     "execution_count": 278,
     "metadata": {},
     "output_type": "execute_result"
    }
   ],
   "source": [
    "Train_accuracy_rf"
   ]
  },
  {
   "cell_type": "code",
   "execution_count": 279,
   "metadata": {},
   "outputs": [
    {
     "data": {
      "text/plain": [
       "0.60724043715847"
      ]
     },
     "execution_count": 279,
     "metadata": {},
     "output_type": "execute_result"
    }
   ],
   "source": [
    "Test_accuracy_rf"
   ]
  },
  {
   "cell_type": "markdown",
   "metadata": {},
   "source": [
    "#### 5 Years"
   ]
  },
  {
   "cell_type": "code",
   "execution_count": 280,
   "metadata": {},
   "outputs": [],
   "source": [
    "trained_model_rf_1250 = rf.fit(X_train_1250, y_train_1250)\n",
    "predictions_rf_1250 = trained_model_rf_1250.predict(X_test_1250)\n",
    "\n",
    "Train_accuracy_rf_1250 = accuracy_score(y_train_1250,trained_model_rf_1250.predict(X_train_1250))\n",
    "Test_accuracy_rf_1250 = accuracy_score(y_test_1250, predictions_rf_1250)\n",
    "Confusion_matrix_rf_1250 = confusion_matrix(y_test_1250,predictions_rf_1250)"
   ]
  },
  {
   "cell_type": "code",
   "execution_count": 281,
   "metadata": {},
   "outputs": [
    {
     "data": {
      "text/plain": [
       "0.9714285714285714"
      ]
     },
     "execution_count": 281,
     "metadata": {},
     "output_type": "execute_result"
    }
   ],
   "source": [
    "Train_accuracy_rf_1250"
   ]
  },
  {
   "cell_type": "code",
   "execution_count": 282,
   "metadata": {},
   "outputs": [
    {
     "data": {
      "text/plain": [
       "0.584"
      ]
     },
     "execution_count": 282,
     "metadata": {},
     "output_type": "execute_result"
    }
   ],
   "source": [
    "Test_accuracy_rf_1250"
   ]
  },
  {
   "cell_type": "markdown",
   "metadata": {},
   "source": [
    "#### 1 Year"
   ]
  },
  {
   "cell_type": "code",
   "execution_count": 283,
   "metadata": {},
   "outputs": [],
   "source": [
    "trained_model_rf_250 = rf.fit(X_train_250, y_train_250)\n",
    "predictions_rf_250 = trained_model_rf_250.predict(X_test_250)\n",
    "\n",
    "Train_accuracy_rf_250 = accuracy_score(y_train_250,trained_model_rf_250.predict(X_train_250))\n",
    "Test_accuracy_rf_250 = accuracy_score(y_test_250, predictions_rf_250)\n",
    "Confusion_matrix_rf_250 = confusion_matrix(y_test_250,predictions_rf_250)"
   ]
  },
  {
   "cell_type": "code",
   "execution_count": 284,
   "metadata": {},
   "outputs": [
    {
     "data": {
      "text/plain": [
       "0.9942857142857143"
      ]
     },
     "execution_count": 284,
     "metadata": {},
     "output_type": "execute_result"
    }
   ],
   "source": [
    "Train_accuracy_rf_250"
   ]
  },
  {
   "cell_type": "code",
   "execution_count": 285,
   "metadata": {},
   "outputs": [
    {
     "data": {
      "text/plain": [
       "0.6133333333333333"
      ]
     },
     "execution_count": 285,
     "metadata": {},
     "output_type": "execute_result"
    }
   ],
   "source": [
    "Test_accuracy_rf_250"
   ]
  },
  {
   "cell_type": "markdown",
   "metadata": {},
   "source": [
    "#### 6 Months"
   ]
  },
  {
   "cell_type": "code",
   "execution_count": 286,
   "metadata": {},
   "outputs": [],
   "source": [
    "trained_model_rf_125 = rf.fit(X_train_125, y_train_125)\n",
    "predictions_rf_125 = trained_model_rf_125.predict(X_test_125)\n",
    "\n",
    "Train_accuracy_rf_125 = accuracy_score(y_train_125,trained_model_rf_125.predict(X_train_125))\n",
    "Test_accuracy_rf_125 = accuracy_score(y_test_125, predictions_rf_125)\n",
    "Confusion_matrix_rf_125 = confusion_matrix(y_test_125,predictions_rf_125)"
   ]
  },
  {
   "cell_type": "code",
   "execution_count": 287,
   "metadata": {},
   "outputs": [
    {
     "data": {
      "text/plain": [
       "0.9885057471264368"
      ]
     },
     "execution_count": 287,
     "metadata": {},
     "output_type": "execute_result"
    }
   ],
   "source": [
    "Train_accuracy_rf_125"
   ]
  },
  {
   "cell_type": "code",
   "execution_count": 288,
   "metadata": {},
   "outputs": [
    {
     "data": {
      "text/plain": [
       "0.7105263157894737"
      ]
     },
     "execution_count": 288,
     "metadata": {},
     "output_type": "execute_result"
    }
   ],
   "source": [
    "Test_accuracy_rf_125"
   ]
  },
  {
   "cell_type": "markdown",
   "metadata": {},
   "source": [
    "#### Last 100 Days based on Best Model"
   ]
  },
  {
   "cell_type": "code",
   "execution_count": 289,
   "metadata": {},
   "outputs": [
    {
     "data": {
      "text/plain": [
       "array([1, 1, 1, 0, 1, 1, 1, 0, 1, 1, 1, 1, 1, 1, 0, 1, 0, 1, 0, 0, 1, 1,\n",
       "       1, 1, 0, 0, 1, 0, 0, 0, 1, 1, 1, 1, 0, 1, 0, 0, 1, 0, 0, 0, 0, 0,\n",
       "       0, 1, 1, 1, 0, 1, 1, 1, 1, 0, 1, 1, 1, 1, 1, 1, 1, 1, 1, 0, 1, 1,\n",
       "       1, 1, 1, 1, 0, 0, 1, 1, 0, 1, 0, 0, 1, 1, 1, 1, 1, 0, 0, 0, 0, 0,\n",
       "       1, 0, 1, 1, 0, 1, 1, 1, 0, 0, 1, 1])"
      ]
     },
     "execution_count": 289,
     "metadata": {},
     "output_type": "execute_result"
    }
   ],
   "source": [
    "predictions_rf_100 = trained_model_rf.predict(last100)\n",
    "predictions_rf_100"
   ]
  },
  {
   "cell_type": "markdown",
   "metadata": {},
   "source": [
    "### KNN"
   ]
  },
  {
   "cell_type": "code",
   "execution_count": 290,
   "metadata": {},
   "outputs": [],
   "source": [
    "knn = KNeighborsClassifier(n_neighbors=5)\n",
    "trained_model_knn = knn.fit(X_train, y_train)\n",
    "predictions_knn = trained_model_knn.predict(X_test)\n",
    "\n",
    "Train_accuracy_knn = accuracy_score(y_train, trained_model_knn.predict(X_train))\n",
    "Test_accuracy_knn = accuracy_score(y_test, predictions_knn)\n",
    "Confusion_matrix_knn = confusion_matrix(y_test, predictions_knn)"
   ]
  },
  {
   "cell_type": "code",
   "execution_count": 291,
   "metadata": {},
   "outputs": [
    {
     "data": {
      "text/plain": [
       "0.7379976580796253"
      ]
     },
     "execution_count": 291,
     "metadata": {},
     "output_type": "execute_result"
    }
   ],
   "source": [
    "Train_accuracy_knn"
   ]
  },
  {
   "cell_type": "code",
   "execution_count": 292,
   "metadata": {},
   "outputs": [
    {
     "data": {
      "text/plain": [
       "0.5956284153005464"
      ]
     },
     "execution_count": 292,
     "metadata": {},
     "output_type": "execute_result"
    }
   ],
   "source": [
    "Test_accuracy_knn"
   ]
  },
  {
   "cell_type": "markdown",
   "metadata": {},
   "source": [
    "#### 5 Years"
   ]
  },
  {
   "cell_type": "code",
   "execution_count": 293,
   "metadata": {},
   "outputs": [],
   "source": [
    "trained_model_knn_1250 = knn.fit(X_train_1250, y_train_1250)\n",
    "predictions_knn_1250 = trained_model_knn_1250.predict(X_test_1250)\n",
    "\n",
    "Train_accuracy_knn_1250 = accuracy_score(y_train_1250,trained_model_knn_1250.predict(X_train_1250))\n",
    "Test_accuracy_knn_1250 = accuracy_score(y_test_1250, predictions_knn_1250)\n",
    "Confusion_matrix_knn_1250 = confusion_matrix(y_test_1250,predictions_knn_1250)"
   ]
  },
  {
   "cell_type": "code",
   "execution_count": 294,
   "metadata": {},
   "outputs": [
    {
     "data": {
      "text/plain": [
       "0.7474285714285714"
      ]
     },
     "execution_count": 294,
     "metadata": {},
     "output_type": "execute_result"
    }
   ],
   "source": [
    "Train_accuracy_knn_1250"
   ]
  },
  {
   "cell_type": "code",
   "execution_count": 295,
   "metadata": {},
   "outputs": [
    {
     "data": {
      "text/plain": [
       "0.5866666666666667"
      ]
     },
     "execution_count": 295,
     "metadata": {},
     "output_type": "execute_result"
    }
   ],
   "source": [
    "Test_accuracy_knn_1250"
   ]
  },
  {
   "cell_type": "markdown",
   "metadata": {},
   "source": [
    "#### 1 Year"
   ]
  },
  {
   "cell_type": "code",
   "execution_count": 296,
   "metadata": {},
   "outputs": [],
   "source": [
    "trained_model_knn_250 = knn.fit(X_train_250, y_train_250)\n",
    "predictions_knn_250 = trained_model_knn_250.predict(X_test_250)\n",
    "\n",
    "Train_accuracy_knn_250 = accuracy_score(y_train_250,trained_model_knn_250.predict(X_train_250))\n",
    "Test_accuracy_knn_250 = accuracy_score(y_test_250, predictions_knn_250)\n",
    "Confusion_matrix_knn_250 = confusion_matrix(y_test_250,predictions_knn_250)"
   ]
  },
  {
   "cell_type": "code",
   "execution_count": 297,
   "metadata": {},
   "outputs": [
    {
     "data": {
      "text/plain": [
       "0.7485714285714286"
      ]
     },
     "execution_count": 297,
     "metadata": {},
     "output_type": "execute_result"
    }
   ],
   "source": [
    "Train_accuracy_knn_250"
   ]
  },
  {
   "cell_type": "code",
   "execution_count": 298,
   "metadata": {},
   "outputs": [
    {
     "data": {
      "text/plain": [
       "0.56"
      ]
     },
     "execution_count": 298,
     "metadata": {},
     "output_type": "execute_result"
    }
   ],
   "source": [
    "Test_accuracy_knn_250"
   ]
  },
  {
   "cell_type": "markdown",
   "metadata": {},
   "source": [
    "#### 6 Months"
   ]
  },
  {
   "cell_type": "code",
   "execution_count": 299,
   "metadata": {},
   "outputs": [],
   "source": [
    "trained_model_knn_125 = knn.fit(X_train_125, y_train_125)\n",
    "predictions_knn_125 = trained_model_knn_125.predict(X_test_125)\n",
    "\n",
    "Train_accuracy_knn_125 = accuracy_score(y_train_125,trained_model_knn_125.predict(X_train_125))\n",
    "Test_accuracy_knn_125 = accuracy_score(y_test_125, predictions_knn_125)\n",
    "Confusion_matrix_knn_125 = confusion_matrix(y_test_125,predictions_knn_125)"
   ]
  },
  {
   "cell_type": "code",
   "execution_count": 300,
   "metadata": {},
   "outputs": [
    {
     "data": {
      "text/plain": [
       "0.7931034482758621"
      ]
     },
     "execution_count": 300,
     "metadata": {},
     "output_type": "execute_result"
    }
   ],
   "source": [
    "Train_accuracy_knn_125"
   ]
  },
  {
   "cell_type": "code",
   "execution_count": 301,
   "metadata": {},
   "outputs": [
    {
     "data": {
      "text/plain": [
       "0.5789473684210527"
      ]
     },
     "execution_count": 301,
     "metadata": {},
     "output_type": "execute_result"
    }
   ],
   "source": [
    "Test_accuracy_knn_125"
   ]
  },
  {
   "cell_type": "markdown",
   "metadata": {},
   "source": [
    "#### Last 100 Days based on Best Model"
   ]
  },
  {
   "cell_type": "code",
   "execution_count": 302,
   "metadata": {},
   "outputs": [
    {
     "data": {
      "text/plain": [
       "array([1, 0, 0, 0, 0, 0, 0, 0, 0, 1, 1, 1, 1, 1, 1, 1, 1, 1, 1, 1, 1, 1,\n",
       "       1, 1, 1, 1, 1, 0, 0, 0, 1, 0, 1, 1, 1, 1, 0, 0, 1, 1, 0, 0, 0, 0,\n",
       "       1, 1, 1, 1, 0, 1, 1, 1, 1, 0, 1, 1, 1, 1, 1, 1, 1, 1, 1, 1, 1, 1,\n",
       "       1, 1, 1, 1, 1, 1, 1, 1, 1, 0, 0, 1, 0, 1, 1, 1, 1, 0, 1, 0, 0, 0,\n",
       "       1, 0, 1, 0, 0, 1, 1, 0, 0, 1, 1, 1])"
      ]
     },
     "execution_count": 302,
     "metadata": {},
     "output_type": "execute_result"
    }
   ],
   "source": [
    "predictions_knn_100 = trained_model_knn.predict(last100)\n",
    "predictions_knn_100"
   ]
  },
  {
   "cell_type": "markdown",
   "metadata": {},
   "source": [
    "### XGBoost"
   ]
  },
  {
   "cell_type": "code",
   "execution_count": 175,
   "metadata": {},
   "outputs": [
    {
     "name": "stdout",
     "output_type": "stream",
     "text": [
      "[23:50:22] WARNING: C:/Users/Administrator/workspace/xgboost-win64_release_1.5.0/src/learner.cc:1115: Starting in XGBoost 1.3.0, the default evaluation metric used with the objective 'binary:logistic' was changed from 'error' to 'logloss'. Explicitly set eval_metric if you'd like to restore the old behavior.\n"
     ]
    }
   ],
   "source": [
    "xgb = XGBClassifier(use_label_encoder=False)\n",
    "trained_model_xgb = xgb.fit(X_train, y_train)\n",
    "predictions_xgb = trained_model_xgb.predict(X_test)\n",
    "\n",
    "Train_accuracy_xgb = accuracy_score(y_train, trained_model_xgb.predict(X_train))\n",
    "Test_accuracy_xgb = accuracy_score(y_test, predictions_xgb)\n",
    "Confusion_matrix_xgb = confusion_matrix(y_test, predictions_xgb)"
   ]
  },
  {
   "cell_type": "code",
   "execution_count": 176,
   "metadata": {},
   "outputs": [
    {
     "data": {
      "text/plain": [
       "0.9847775175644028"
      ]
     },
     "execution_count": 176,
     "metadata": {},
     "output_type": "execute_result"
    }
   ],
   "source": [
    "Train_accuracy_xgb"
   ]
  },
  {
   "cell_type": "code",
   "execution_count": 177,
   "metadata": {},
   "outputs": [
    {
     "data": {
      "text/plain": [
       "0.6243169398907104"
      ]
     },
     "execution_count": 177,
     "metadata": {},
     "output_type": "execute_result"
    }
   ],
   "source": [
    "Test_accuracy_xgb"
   ]
  },
  {
   "cell_type": "markdown",
   "metadata": {},
   "source": [
    "#### 5 Years"
   ]
  },
  {
   "cell_type": "code",
   "execution_count": 303,
   "metadata": {},
   "outputs": [
    {
     "name": "stdout",
     "output_type": "stream",
     "text": [
      "[01:13:19] WARNING: C:/Users/Administrator/workspace/xgboost-win64_release_1.5.0/src/learner.cc:1115: Starting in XGBoost 1.3.0, the default evaluation metric used with the objective 'binary:logistic' was changed from 'error' to 'logloss'. Explicitly set eval_metric if you'd like to restore the old behavior.\n"
     ]
    }
   ],
   "source": [
    "trained_model_xgb_1250 = xgb.fit(X_train_1250, y_train_1250)\n",
    "predictions_xgb_1250 = trained_model_xgb_1250.predict(X_test_1250)\n",
    "\n",
    "Train_accuracy_xgb_1250 = accuracy_score(y_train_1250,trained_model_xgb_1250.predict(X_train_1250))\n",
    "Test_accuracy_xgb_1250 = accuracy_score(y_test_1250, predictions_xgb_1250)\n",
    "Confusion_matrix_xgb_1250 = confusion_matrix(y_test_1250,predictions_xgb_1250)"
   ]
  },
  {
   "cell_type": "code",
   "execution_count": 304,
   "metadata": {},
   "outputs": [
    {
     "data": {
      "text/plain": [
       "1.0"
      ]
     },
     "execution_count": 304,
     "metadata": {},
     "output_type": "execute_result"
    }
   ],
   "source": [
    "Train_accuracy_xgb_1250"
   ]
  },
  {
   "cell_type": "code",
   "execution_count": 305,
   "metadata": {},
   "outputs": [
    {
     "data": {
      "text/plain": [
       "0.6106666666666667"
      ]
     },
     "execution_count": 305,
     "metadata": {},
     "output_type": "execute_result"
    }
   ],
   "source": [
    "Test_accuracy_xgb_1250"
   ]
  },
  {
   "cell_type": "markdown",
   "metadata": {},
   "source": [
    "#### 1 Year"
   ]
  },
  {
   "cell_type": "code",
   "execution_count": 306,
   "metadata": {},
   "outputs": [
    {
     "name": "stdout",
     "output_type": "stream",
     "text": [
      "[01:13:25] WARNING: C:/Users/Administrator/workspace/xgboost-win64_release_1.5.0/src/learner.cc:1115: Starting in XGBoost 1.3.0, the default evaluation metric used with the objective 'binary:logistic' was changed from 'error' to 'logloss'. Explicitly set eval_metric if you'd like to restore the old behavior.\n"
     ]
    }
   ],
   "source": [
    "trained_model_xgb_250 = xgb.fit(X_train_250, y_train_250)\n",
    "predictions_xgb_250 = trained_model_xgb_250.predict(X_test_250)\n",
    "\n",
    "Train_accuracy_xgb_250 = accuracy_score(y_train_250,trained_model_xgb_250.predict(X_train_250))\n",
    "Test_accuracy_xgb_250 = accuracy_score(y_test_250, predictions_xgb_250)\n",
    "Confusion_matrix_xgb_250 = confusion_matrix(y_test_250,predictions_xgb_250)"
   ]
  },
  {
   "cell_type": "code",
   "execution_count": 307,
   "metadata": {},
   "outputs": [
    {
     "data": {
      "text/plain": [
       "1.0"
      ]
     },
     "execution_count": 307,
     "metadata": {},
     "output_type": "execute_result"
    }
   ],
   "source": [
    "Train_accuracy_xgb_250"
   ]
  },
  {
   "cell_type": "code",
   "execution_count": 308,
   "metadata": {},
   "outputs": [
    {
     "data": {
      "text/plain": [
       "0.6266666666666667"
      ]
     },
     "execution_count": 308,
     "metadata": {},
     "output_type": "execute_result"
    }
   ],
   "source": [
    "Test_accuracy_xgb_250"
   ]
  },
  {
   "cell_type": "markdown",
   "metadata": {},
   "source": [
    "#### 6 Months"
   ]
  },
  {
   "cell_type": "code",
   "execution_count": 309,
   "metadata": {},
   "outputs": [
    {
     "name": "stdout",
     "output_type": "stream",
     "text": [
      "[01:13:28] WARNING: C:/Users/Administrator/workspace/xgboost-win64_release_1.5.0/src/learner.cc:1115: Starting in XGBoost 1.3.0, the default evaluation metric used with the objective 'binary:logistic' was changed from 'error' to 'logloss'. Explicitly set eval_metric if you'd like to restore the old behavior.\n"
     ]
    }
   ],
   "source": [
    "trained_model_xgb_125 = xgb.fit(X_train_125, y_train_125)\n",
    "predictions_xgb_125 = trained_model_xgb_125.predict(X_test_125)\n",
    "\n",
    "Train_accuracy_xgb_125 = accuracy_score(y_train_125,trained_model_xgb_125.predict(X_train_125))\n",
    "Test_accuracy_xgb_125 = accuracy_score(y_test_125, predictions_xgb_125)\n",
    "Confusion_matrix_xgb_125 = confusion_matrix(y_test_125,predictions_xgb_125)"
   ]
  },
  {
   "cell_type": "code",
   "execution_count": 310,
   "metadata": {},
   "outputs": [
    {
     "data": {
      "text/plain": [
       "1.0"
      ]
     },
     "execution_count": 310,
     "metadata": {},
     "output_type": "execute_result"
    }
   ],
   "source": [
    "Train_accuracy_xgb_125"
   ]
  },
  {
   "cell_type": "code",
   "execution_count": 311,
   "metadata": {},
   "outputs": [
    {
     "data": {
      "text/plain": [
       "0.7368421052631579"
      ]
     },
     "execution_count": 311,
     "metadata": {},
     "output_type": "execute_result"
    }
   ],
   "source": [
    "Test_accuracy_xgb_125"
   ]
  },
  {
   "cell_type": "markdown",
   "metadata": {},
   "source": [
    "#### Last 100 Days based on Best Model"
   ]
  },
  {
   "cell_type": "code",
   "execution_count": 179,
   "metadata": {},
   "outputs": [
    {
     "data": {
      "text/plain": [
       "array([1, 1, 1, 0, 1, 1, 1, 1, 1, 1, 1, 1, 1, 1, 0, 1, 1, 1, 1, 0, 1, 1,\n",
       "       1, 1, 0, 0, 1, 1, 0, 1, 1, 1, 1, 1, 1, 1, 1, 1, 1, 1, 0, 1, 1, 0,\n",
       "       1, 1, 1, 1, 1, 0, 0, 1, 1, 0, 1, 0, 1, 1, 1, 1, 1, 1, 1, 0, 1, 0,\n",
       "       0, 1, 1, 1, 0, 1, 1, 1, 1, 1, 0, 1, 1, 1, 1, 0, 0, 0, 1, 0, 1, 1,\n",
       "       1, 0, 1, 1, 1, 1, 1, 1, 0, 0, 1, 1])"
      ]
     },
     "execution_count": 179,
     "metadata": {},
     "output_type": "execute_result"
    }
   ],
   "source": [
    "predictions_xgb_100 = trained_model_xgb.predict(last100)\n",
    "predictions_xgb_100"
   ]
  },
  {
   "cell_type": "markdown",
   "metadata": {},
   "source": [
    "## KFold cross validation\n",
    "### Basic example"
   ]
  },
  {
   "cell_type": "code",
   "execution_count": null,
   "metadata": {},
   "outputs": [],
   "source": [
    "from sklearn.model_selection import cross_val_score\n",
    "\n",
    "cross_val_score(LogisticRegression(solver='liblinear',multi_class='ovr'), complete_data, target, cv=10)"
   ]
  },
  {
   "cell_type": "code",
   "execution_count": null,
   "metadata": {},
   "outputs": [],
   "source": [
    "cross_val_score(SVC(gamma='auto'), complete_data, target, cv=10)"
   ]
  },
  {
   "cell_type": "code",
   "execution_count": null,
   "metadata": {},
   "outputs": [],
   "source": [
    "cross_val_score(RandomForestClassifier(n_estimators=5), complete_data, target, cv=10)"
   ]
  },
  {
   "cell_type": "code",
   "execution_count": null,
   "metadata": {},
   "outputs": [],
   "source": [
    "cross_val_score(KNeighborsClassifier(n_neighbors=5), complete_data, target, cv=10)"
   ]
  },
  {
   "cell_type": "code",
   "execution_count": null,
   "metadata": {},
   "outputs": [],
   "source": [
    "cross_val_score(XGBClassifier(use_label_encoder=False), complete_data, target, cv=10)"
   ]
  }
 ],
 "metadata": {
  "kernelspec": {
   "display_name": "Python 3",
   "language": "python",
   "name": "python3"
  },
  "language_info": {
   "codemirror_mode": {
    "name": "ipython",
    "version": 3
   },
   "file_extension": ".py",
   "mimetype": "text/x-python",
   "name": "python",
   "nbconvert_exporter": "python",
   "pygments_lexer": "ipython3",
   "version": "3.8.5"
  }
 },
 "nbformat": 4,
 "nbformat_minor": 4
}
