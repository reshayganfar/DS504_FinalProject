{
 "cells": [
  {
   "cell_type": "code",
   "execution_count": 1,
   "metadata": {},
   "outputs": [],
   "source": [
    "import numpy as np\n",
    "import pandas as pd\n",
    "import ta\n",
    "import seaborn as sn\n",
    "import matplotlib.pyplot as plt\n",
    "\n",
    "from sklearn.ensemble import RandomForestClassifier\n",
    "from sklearn.linear_model import LogisticRegression\n",
    "from sklearn.neighbors import KNeighborsClassifier\n",
    "from sklearn.svm import SVC\n",
    "from xgboost import XGBClassifier\n",
    "\n",
    "from ta import add_all_ta_features\n",
    "from ta import momentum\n",
    "from ta.utils import dropna"
   ]
  },
  {
   "cell_type": "code",
   "execution_count": 2,
   "metadata": {},
   "outputs": [],
   "source": [
    "#pip install xgboost"
   ]
  },
  {
   "cell_type": "code",
   "execution_count": 3,
   "metadata": {},
   "outputs": [
    {
     "name": "stdout",
     "output_type": "stream",
     "text": [
      "Requirement already satisfied: autofeat in c:\\users\\rshay\\anaconda3\\lib\\site-packages (2.0.10)\n",
      "Requirement already satisfied: pint in c:\\users\\rshay\\anaconda3\\lib\\site-packages (from autofeat) (0.18)\n",
      "Requirement already satisfied: pandas>=0.24.0 in c:\\users\\rshay\\anaconda3\\lib\\site-packages (from autofeat) (1.1.3)\n",
      "Requirement already satisfied: sympy>=1.7.1 in c:\\users\\rshay\\anaconda3\\lib\\site-packages (from autofeat) (1.9)\n",
      "Requirement already satisfied: numpy in c:\\users\\rshay\\anaconda3\\lib\\site-packages (from autofeat) (1.19.2)\n",
      "Requirement already satisfied: joblib in c:\\users\\rshay\\anaconda3\\lib\\site-packages (from autofeat) (0.17.0)\n",
      "Requirement already satisfied: numba in c:\\users\\rshay\\anaconda3\\lib\\site-packages (from autofeat) (0.51.2)\n",
      "Requirement already satisfied: scikit-learn in c:\\users\\rshay\\anaconda3\\lib\\site-packages (from autofeat) (0.23.2)\n",
      "Requirement already satisfied: future in c:\\users\\rshay\\anaconda3\\lib\\site-packages (from autofeat) (0.18.2)\n",
      "Requirement already satisfied: packaging in c:\\users\\rshay\\anaconda3\\lib\\site-packages (from pint->autofeat) (20.4)\n",
      "Requirement already satisfied: pytz>=2017.2 in c:\\users\\rshay\\anaconda3\\lib\\site-packages (from pandas>=0.24.0->autofeat) (2020.1)\n",
      "Requirement already satisfied: python-dateutil>=2.7.3 in c:\\users\\rshay\\anaconda3\\lib\\site-packages (from pandas>=0.24.0->autofeat) (2.8.1)\n",
      "Requirement already satisfied: mpmath>=0.19 in c:\\users\\rshay\\anaconda3\\lib\\site-packages (from sympy>=1.7.1->autofeat) (1.1.0)\n",
      "Requirement already satisfied: llvmlite<0.35,>=0.34.0.dev0 in c:\\users\\rshay\\anaconda3\\lib\\site-packages (from numba->autofeat) (0.34.0)\n",
      "Requirement already satisfied: setuptools in c:\\users\\rshay\\anaconda3\\lib\\site-packages (from numba->autofeat) (50.3.1.post20201107)\n",
      "Requirement already satisfied: scipy>=0.19.1 in c:\\users\\rshay\\anaconda3\\lib\\site-packages (from scikit-learn->autofeat) (1.5.2)\n",
      "Requirement already satisfied: threadpoolctl>=2.0.0 in c:\\users\\rshay\\anaconda3\\lib\\site-packages (from scikit-learn->autofeat) (2.1.0)\n",
      "Requirement already satisfied: six in c:\\users\\rshay\\anaconda3\\lib\\site-packages (from packaging->pint->autofeat) (1.15.0)\n",
      "Requirement already satisfied: pyparsing>=2.0.2 in c:\\users\\rshay\\anaconda3\\lib\\site-packages (from packaging->pint->autofeat) (2.4.7)\n",
      "Note: you may need to restart the kernel to use updated packages.\n"
     ]
    }
   ],
   "source": [
    "pip install autofeat"
   ]
  },
  {
   "cell_type": "code",
   "execution_count": 4,
   "metadata": {},
   "outputs": [],
   "source": [
    "def get_data(company_symbol):\n",
    "    return pd.read_csv(\"dataset/\"+company_symbol+\".csv\")"
   ]
  },
  {
   "cell_type": "code",
   "execution_count": 5,
   "metadata": {},
   "outputs": [
    {
     "data": {
      "text/html": [
       "<div>\n",
       "<style scoped>\n",
       "    .dataframe tbody tr th:only-of-type {\n",
       "        vertical-align: middle;\n",
       "    }\n",
       "\n",
       "    .dataframe tbody tr th {\n",
       "        vertical-align: top;\n",
       "    }\n",
       "\n",
       "    .dataframe thead th {\n",
       "        text-align: right;\n",
       "    }\n",
       "</style>\n",
       "<table border=\"1\" class=\"dataframe\">\n",
       "  <thead>\n",
       "    <tr style=\"text-align: right;\">\n",
       "      <th></th>\n",
       "      <th>Date</th>\n",
       "      <th>Open</th>\n",
       "      <th>High</th>\n",
       "      <th>Low</th>\n",
       "      <th>Close</th>\n",
       "      <th>Adj Close</th>\n",
       "      <th>Volume</th>\n",
       "    </tr>\n",
       "  </thead>\n",
       "  <tbody>\n",
       "    <tr>\n",
       "      <th>0</th>\n",
       "      <td>5/15/1997</td>\n",
       "      <td>2.437500</td>\n",
       "      <td>2.500000</td>\n",
       "      <td>1.927083</td>\n",
       "      <td>1.958333</td>\n",
       "      <td>1.958333</td>\n",
       "      <td>72156000</td>\n",
       "    </tr>\n",
       "    <tr>\n",
       "      <th>1</th>\n",
       "      <td>5/16/1997</td>\n",
       "      <td>1.968750</td>\n",
       "      <td>1.979167</td>\n",
       "      <td>1.708333</td>\n",
       "      <td>1.729167</td>\n",
       "      <td>1.729167</td>\n",
       "      <td>14700000</td>\n",
       "    </tr>\n",
       "    <tr>\n",
       "      <th>2</th>\n",
       "      <td>5/19/1997</td>\n",
       "      <td>1.760417</td>\n",
       "      <td>1.770833</td>\n",
       "      <td>1.625000</td>\n",
       "      <td>1.708333</td>\n",
       "      <td>1.708333</td>\n",
       "      <td>6106800</td>\n",
       "    </tr>\n",
       "    <tr>\n",
       "      <th>3</th>\n",
       "      <td>5/20/1997</td>\n",
       "      <td>1.729167</td>\n",
       "      <td>1.750000</td>\n",
       "      <td>1.635417</td>\n",
       "      <td>1.635417</td>\n",
       "      <td>1.635417</td>\n",
       "      <td>5467200</td>\n",
       "    </tr>\n",
       "    <tr>\n",
       "      <th>4</th>\n",
       "      <td>5/21/1997</td>\n",
       "      <td>1.635417</td>\n",
       "      <td>1.645833</td>\n",
       "      <td>1.375000</td>\n",
       "      <td>1.427083</td>\n",
       "      <td>1.427083</td>\n",
       "      <td>18853200</td>\n",
       "    </tr>\n",
       "    <tr>\n",
       "      <th>...</th>\n",
       "      <td>...</td>\n",
       "      <td>...</td>\n",
       "      <td>...</td>\n",
       "      <td>...</td>\n",
       "      <td>...</td>\n",
       "      <td>...</td>\n",
       "      <td>...</td>\n",
       "    </tr>\n",
       "    <tr>\n",
       "      <th>6152</th>\n",
       "      <td>10/25/2021</td>\n",
       "      <td>3335.000000</td>\n",
       "      <td>3347.800049</td>\n",
       "      <td>3297.699951</td>\n",
       "      <td>3320.370117</td>\n",
       "      <td>3320.370117</td>\n",
       "      <td>2226000</td>\n",
       "    </tr>\n",
       "    <tr>\n",
       "      <th>6153</th>\n",
       "      <td>10/26/2021</td>\n",
       "      <td>3349.510010</td>\n",
       "      <td>3416.120117</td>\n",
       "      <td>3343.979980</td>\n",
       "      <td>3376.070068</td>\n",
       "      <td>3376.070068</td>\n",
       "      <td>2698300</td>\n",
       "    </tr>\n",
       "    <tr>\n",
       "      <th>6154</th>\n",
       "      <td>10/27/2021</td>\n",
       "      <td>3388.000000</td>\n",
       "      <td>3437.000000</td>\n",
       "      <td>3371.449951</td>\n",
       "      <td>3392.489990</td>\n",
       "      <td>3392.489990</td>\n",
       "      <td>2702200</td>\n",
       "    </tr>\n",
       "    <tr>\n",
       "      <th>6155</th>\n",
       "      <td>10/28/2021</td>\n",
       "      <td>3402.100098</td>\n",
       "      <td>3479.000000</td>\n",
       "      <td>3386.000000</td>\n",
       "      <td>3446.570068</td>\n",
       "      <td>3446.570068</td>\n",
       "      <td>5708700</td>\n",
       "    </tr>\n",
       "    <tr>\n",
       "      <th>6156</th>\n",
       "      <td>10/29/2021</td>\n",
       "      <td>3300.020020</td>\n",
       "      <td>3374.820068</td>\n",
       "      <td>3273.320068</td>\n",
       "      <td>3372.429932</td>\n",
       "      <td>3372.429932</td>\n",
       "      <td>6469500</td>\n",
       "    </tr>\n",
       "  </tbody>\n",
       "</table>\n",
       "<p>6157 rows × 7 columns</p>\n",
       "</div>"
      ],
      "text/plain": [
       "            Date         Open         High          Low        Close  \\\n",
       "0      5/15/1997     2.437500     2.500000     1.927083     1.958333   \n",
       "1      5/16/1997     1.968750     1.979167     1.708333     1.729167   \n",
       "2      5/19/1997     1.760417     1.770833     1.625000     1.708333   \n",
       "3      5/20/1997     1.729167     1.750000     1.635417     1.635417   \n",
       "4      5/21/1997     1.635417     1.645833     1.375000     1.427083   \n",
       "...          ...          ...          ...          ...          ...   \n",
       "6152  10/25/2021  3335.000000  3347.800049  3297.699951  3320.370117   \n",
       "6153  10/26/2021  3349.510010  3416.120117  3343.979980  3376.070068   \n",
       "6154  10/27/2021  3388.000000  3437.000000  3371.449951  3392.489990   \n",
       "6155  10/28/2021  3402.100098  3479.000000  3386.000000  3446.570068   \n",
       "6156  10/29/2021  3300.020020  3374.820068  3273.320068  3372.429932   \n",
       "\n",
       "        Adj Close    Volume  \n",
       "0        1.958333  72156000  \n",
       "1        1.729167  14700000  \n",
       "2        1.708333   6106800  \n",
       "3        1.635417   5467200  \n",
       "4        1.427083  18853200  \n",
       "...           ...       ...  \n",
       "6152  3320.370117   2226000  \n",
       "6153  3376.070068   2698300  \n",
       "6154  3392.489990   2702200  \n",
       "6155  3446.570068   5708700  \n",
       "6156  3372.429932   6469500  \n",
       "\n",
       "[6157 rows x 7 columns]"
      ]
     },
     "execution_count": 5,
     "metadata": {},
     "output_type": "execute_result"
    }
   ],
   "source": [
    "data = get_data(\"AMZN\")\n",
    "data"
   ]
  },
  {
   "cell_type": "code",
   "execution_count": 6,
   "metadata": {},
   "outputs": [
    {
     "data": {
      "text/plain": [
       "Date          object\n",
       "Open         float64\n",
       "High         float64\n",
       "Low          float64\n",
       "Close        float64\n",
       "Adj Close    float64\n",
       "Volume         int64\n",
       "dtype: object"
      ]
     },
     "execution_count": 6,
     "metadata": {},
     "output_type": "execute_result"
    }
   ],
   "source": [
    "data.dtypes"
   ]
  },
  {
   "cell_type": "code",
   "execution_count": 7,
   "metadata": {},
   "outputs": [
    {
     "data": {
      "text/plain": [
       "Date         False\n",
       "Open         False\n",
       "High         False\n",
       "Low          False\n",
       "Close        False\n",
       "Adj Close    False\n",
       "Volume       False\n",
       "dtype: bool"
      ]
     },
     "execution_count": 7,
     "metadata": {},
     "output_type": "execute_result"
    }
   ],
   "source": [
    "data.isna().any()"
   ]
  },
  {
   "cell_type": "code",
   "execution_count": 8,
   "metadata": {},
   "outputs": [
    {
     "data": {
      "text/html": [
       "<div>\n",
       "<style scoped>\n",
       "    .dataframe tbody tr th:only-of-type {\n",
       "        vertical-align: middle;\n",
       "    }\n",
       "\n",
       "    .dataframe tbody tr th {\n",
       "        vertical-align: top;\n",
       "    }\n",
       "\n",
       "    .dataframe thead th {\n",
       "        text-align: right;\n",
       "    }\n",
       "</style>\n",
       "<table border=\"1\" class=\"dataframe\">\n",
       "  <thead>\n",
       "    <tr style=\"text-align: right;\">\n",
       "      <th></th>\n",
       "    </tr>\n",
       "  </thead>\n",
       "  <tbody>\n",
       "    <tr>\n",
       "      <th>0</th>\n",
       "    </tr>\n",
       "    <tr>\n",
       "      <th>1</th>\n",
       "    </tr>\n",
       "    <tr>\n",
       "      <th>2</th>\n",
       "    </tr>\n",
       "    <tr>\n",
       "      <th>3</th>\n",
       "    </tr>\n",
       "    <tr>\n",
       "      <th>4</th>\n",
       "    </tr>\n",
       "    <tr>\n",
       "      <th>...</th>\n",
       "    </tr>\n",
       "    <tr>\n",
       "      <th>6152</th>\n",
       "    </tr>\n",
       "    <tr>\n",
       "      <th>6153</th>\n",
       "    </tr>\n",
       "    <tr>\n",
       "      <th>6154</th>\n",
       "    </tr>\n",
       "    <tr>\n",
       "      <th>6155</th>\n",
       "    </tr>\n",
       "    <tr>\n",
       "      <th>6156</th>\n",
       "    </tr>\n",
       "  </tbody>\n",
       "</table>\n",
       "<p>6157 rows × 0 columns</p>\n",
       "</div>"
      ],
      "text/plain": [
       "Empty DataFrame\n",
       "Columns: []\n",
       "Index: [0, 1, 2, 3, 4, 5, 6, 7, 8, 9, 10, 11, 12, 13, 14, 15, 16, 17, 18, 19, 20, 21, 22, 23, 24, 25, 26, 27, 28, 29, 30, 31, 32, 33, 34, 35, 36, 37, 38, 39, 40, 41, 42, 43, 44, 45, 46, 47, 48, 49, 50, 51, 52, 53, 54, 55, 56, 57, 58, 59, 60, 61, 62, 63, 64, 65, 66, 67, 68, 69, 70, 71, 72, 73, 74, 75, 76, 77, 78, 79, 80, 81, 82, 83, 84, 85, 86, 87, 88, 89, 90, 91, 92, 93, 94, 95, 96, 97, 98, 99, ...]\n",
       "\n",
       "[6157 rows x 0 columns]"
      ]
     },
     "execution_count": 8,
     "metadata": {},
     "output_type": "execute_result"
    }
   ],
   "source": [
    "data[data.columns[data.isna().any()]]"
   ]
  },
  {
   "cell_type": "code",
   "execution_count": 9,
   "metadata": {},
   "outputs": [
    {
     "name": "stdout",
     "output_type": "stream",
     "text": [
      "            Date         Open         High          Low        Close  \\\n",
      "0      5/15/1997     2.437500     2.500000     1.927083     1.958333   \n",
      "1      5/16/1997     1.968750     1.979167     1.708333     1.729167   \n",
      "2      5/19/1997     1.760417     1.770833     1.625000     1.708333   \n",
      "3      5/20/1997     1.729167     1.750000     1.635417     1.635417   \n",
      "4      5/21/1997     1.635417     1.645833     1.375000     1.427083   \n",
      "...          ...          ...          ...          ...          ...   \n",
      "6152  10/25/2021  3335.000000  3347.800049  3297.699951  3320.370117   \n",
      "6153  10/26/2021  3349.510010  3416.120117  3343.979980  3376.070068   \n",
      "6154  10/27/2021  3388.000000  3437.000000  3371.449951  3392.489990   \n",
      "6155  10/28/2021  3402.100098  3479.000000  3386.000000  3446.570068   \n",
      "6156  10/29/2021  3300.020020  3374.820068  3273.320068  3372.429932   \n",
      "\n",
      "        Adj Close    Volume  cond1  cond2  cond3  \n",
      "0        1.958333  72156000  False  False  False  \n",
      "1        1.729167  14700000  False  False  False  \n",
      "2        1.708333   6106800  False  False  False  \n",
      "3        1.635417   5467200  False  False  False  \n",
      "4        1.427083  18853200  False  False  False  \n",
      "...           ...       ...    ...    ...    ...  \n",
      "6152  3320.370117   2226000  False  False  False  \n",
      "6153  3376.070068   2698300  False  False  False  \n",
      "6154  3392.489990   2702200  False  False  False  \n",
      "6155  3446.570068   5708700  False  False  False  \n",
      "6156  3372.429932   6469500  False  False  False  \n",
      "\n",
      "[6157 rows x 10 columns]\n"
     ]
    }
   ],
   "source": [
    "cond1 = data.Date.isna() # aapl['Date'].isna()\n",
    "cond2 = data.Date.str.contains(r'^\\s*$', na=False)\n",
    "cond3 = data.Date == ''\n",
    "\n",
    "data_checked = data.assign(cond1= cond1, cond2= cond2, cond3= cond3)\n",
    "print (data_checked)"
   ]
  },
  {
   "cell_type": "code",
   "execution_count": 10,
   "metadata": {},
   "outputs": [],
   "source": [
    "def simple_moving_average_5(close):\n",
    "    return close.rolling(5, min_periods=1).mean()"
   ]
  },
  {
   "cell_type": "code",
   "execution_count": 11,
   "metadata": {},
   "outputs": [],
   "source": [
    "def simple_moving_average_10(close):\n",
    "    return close.rolling(10, min_periods=1).mean()"
   ]
  },
  {
   "cell_type": "code",
   "execution_count": 12,
   "metadata": {},
   "outputs": [],
   "source": [
    "def stochastic_k(high, low, close):\n",
    "    return (((close-low.rolling(14).min())/(high.rolling(14).max()-low.rolling(14).min()))*100)"
   ]
  },
  {
   "cell_type": "code",
   "execution_count": 13,
   "metadata": {},
   "outputs": [],
   "source": [
    "def stochastic_d(stochastic_k):\n",
    "    return stochastic_k.rolling(3,min_periods=1).mean()"
   ]
  },
  {
   "cell_type": "code",
   "execution_count": 14,
   "metadata": {},
   "outputs": [],
   "source": [
    "def larry_williams_r(high, low, close):\n",
    "    return (((high.rolling(14).max()-close)/(high.rolling(14).max()-low.rolling(14).min()))*100)"
   ]
  },
  {
   "cell_type": "code",
   "execution_count": 15,
   "metadata": {},
   "outputs": [],
   "source": [
    "def rate_of_change(close):\n",
    "    return ((close-close.shift(12))/close.shift(12))"
   ]
  },
  {
   "cell_type": "code",
   "execution_count": 16,
   "metadata": {},
   "outputs": [],
   "source": [
    "def price_volume_trend(close, volume):\n",
    "    return (((close-close.shift(1))/close.shift(1))*volume)"
   ]
  },
  {
   "cell_type": "code",
   "execution_count": 17,
   "metadata": {},
   "outputs": [],
   "source": [
    "def accumulation_distribution_oscillator(high, low, close):\n",
    "    return((high-close.shift(1))/(high-low))"
   ]
  },
  {
   "cell_type": "code",
   "execution_count": 18,
   "metadata": {},
   "outputs": [],
   "source": [
    "def weighted_moving_average_10(close):\n",
    "    return ((10*close+9*close.shift(1)+8*close.shift(2)+7*close.shift(3)\n",
    "             +6*close.shift(4)+5*close.shift(5)+4*close.shift(6)+3*close.shift(7)\n",
    "             +2*close.shift(8)+close.shift(9))/(10+9+8+7+6+5+4+3+2+1))"
   ]
  },
  {
   "cell_type": "code",
   "execution_count": 19,
   "metadata": {},
   "outputs": [],
   "source": [
    "def exponential_moving_average_12(close):\n",
    "    return (close.ewm(span=12, adjust=False).mean())"
   ]
  },
  {
   "cell_type": "code",
   "execution_count": 20,
   "metadata": {},
   "outputs": [],
   "source": [
    "def exponential_moving_average_26(close):\n",
    "    return (close.ewm(span=26, adjust=False).mean())"
   ]
  },
  {
   "cell_type": "code",
   "execution_count": 21,
   "metadata": {},
   "outputs": [],
   "source": [
    "def moving_average_convergence_divergence(ema_12, ema_26):\n",
    "    return (ema_12 - ema_26)"
   ]
  },
  {
   "cell_type": "code",
   "execution_count": 22,
   "metadata": {},
   "outputs": [],
   "source": [
    "def momentum(close):\n",
    "    return ((close/close.shift(14))*100)"
   ]
  },
  {
   "cell_type": "code",
   "execution_count": 23,
   "metadata": {},
   "outputs": [],
   "source": [
    "def change(close):\n",
    "    return (close.shift(-1) - close)"
   ]
  },
  {
   "cell_type": "code",
   "execution_count": 24,
   "metadata": {},
   "outputs": [],
   "source": [
    "def direction(change):\n",
    "    return (np.where(change>0, 1, 0))"
   ]
  },
  {
   "cell_type": "code",
   "execution_count": 25,
   "metadata": {},
   "outputs": [],
   "source": [
    "def relative_strength_index(direction):\n",
    "    return (100-(100/(1+(direction.rolling(14).sum()/14)/(14-direction.rolling(14).sum())/14)))"
   ]
  },
  {
   "cell_type": "code",
   "execution_count": 26,
   "metadata": {},
   "outputs": [],
   "source": [
    "def channel_commodity_index(df, ndays): \n",
    "    df['TP'] = (df['High'] + df['Low'] + df['Close']) / 3 \n",
    "    df['sma'] = df['TP'].rolling(ndays).mean()\n",
    "    df['mad'] = df['TP'].rolling(ndays).apply(lambda x: pd.Series(x).mad())\n",
    "    df['CCI'] = (df['TP'] - df['sma']) / (0.015 * df['mad']) \n",
    "    return df['CCI']"
   ]
  },
  {
   "cell_type": "code",
   "execution_count": 27,
   "metadata": {},
   "outputs": [],
   "source": [
    "def disparity_index(close):\n",
    "    return (((close - close.rolling(14).mean())/(close.rolling(14).mean()))*100)"
   ]
  },
  {
   "cell_type": "code",
   "execution_count": 28,
   "metadata": {},
   "outputs": [],
   "source": [
    "def get_adx(high, low, close, lookback):\n",
    "    plus_dm = high.diff()\n",
    "    minus_dm = low.diff()\n",
    "    plus_dm[plus_dm < 0] = 0\n",
    "    minus_dm[minus_dm > 0] = 0\n",
    "    \n",
    "    tr1 = pd.DataFrame(high - low)\n",
    "    tr2 = pd.DataFrame(abs(high - close.shift(1)))\n",
    "    tr3 = pd.DataFrame(abs(low - close.shift(1)))\n",
    "    frames = [tr1, tr2, tr3]\n",
    "    tr = pd.concat(frames, axis = 1, join = 'inner').max(axis = 1)\n",
    "    atr = tr.rolling(lookback).mean()\n",
    "    \n",
    "    plus_di = 100 * (plus_dm.ewm(alpha = 1/lookback).mean() / atr)\n",
    "    minus_di = abs(100 * (minus_dm.ewm(alpha = 1/lookback).mean() / atr))\n",
    "    dx = (abs(plus_di - minus_di) / abs(plus_di + minus_di)) * 100\n",
    "    adx = ((dx.shift(1) * (lookback - 1)) + dx) / lookback\n",
    "    adx_smooth = adx.ewm(alpha = 1/lookback).mean()\n",
    "    return adx_smooth"
   ]
  },
  {
   "cell_type": "code",
   "execution_count": 29,
   "metadata": {},
   "outputs": [],
   "source": [
    "def aroon(close):\n",
    "    return (ta.trend.AroonIndicator(close, 25, True).aroon_indicator())"
   ]
  },
  {
   "cell_type": "code",
   "execution_count": 30,
   "metadata": {},
   "outputs": [],
   "source": [
    "def compute_all_indicators(data):\n",
    "    data['SMA5'] = simple_moving_average_5(data['Close'])\n",
    "    data['SMA10'] = simple_moving_average_10(data['Close'])\n",
    "    data['StochasticK'] = stochastic_k(data['High'], data['Low'], data['Close'])\n",
    "    data['StochasticD'] = stochastic_d(data['StochasticK'])\n",
    "    data['LarryWilliamsR'] = larry_williams_r(data['High'], data['Low'], data['Close'])\n",
    "    data['ROC'] = rate_of_change(data['Close'])\n",
    "    data['PVT'] = price_volume_trend(data['Close'], data['Volume'])\n",
    "    data['ADO'] = accumulation_distribution_oscillator(data['High'], data['Low'], data['Close'])\n",
    "    data['WMA10'] = weighted_moving_average_10(data['Close'])\n",
    "    data['EMA12'] = exponential_moving_average_12(data['Close'])\n",
    "    data['EMA26'] = exponential_moving_average_26(data['Close'])\n",
    "    data['MACD'] = moving_average_convergence_divergence(data['EMA12'], data['EMA26'])\n",
    "    data['Momentum'] = momentum(data['Close'])\n",
    "    data['Change'] = change(data['Close'])\n",
    "    data['Direction'] = direction(data['Change'])\n",
    "    data['RSI'] = relative_strength_index(data['Direction'])\n",
    "    data['CCI'] = channel_commodity_index(data, 14)\n",
    "    data['DI'] = disparity_index(data['Close'])\n",
    "    data['ADX'] = get_adx(data['High'], data['Low'], data['Close'], 14)\n",
    "    data['Aroon'] = aroon(data['Close'])    \n",
    "    return data"
   ]
  },
  {
   "cell_type": "code",
   "execution_count": 31,
   "metadata": {},
   "outputs": [
    {
     "data": {
      "text/html": [
       "<div>\n",
       "<style scoped>\n",
       "    .dataframe tbody tr th:only-of-type {\n",
       "        vertical-align: middle;\n",
       "    }\n",
       "\n",
       "    .dataframe tbody tr th {\n",
       "        vertical-align: top;\n",
       "    }\n",
       "\n",
       "    .dataframe thead th {\n",
       "        text-align: right;\n",
       "    }\n",
       "</style>\n",
       "<table border=\"1\" class=\"dataframe\">\n",
       "  <thead>\n",
       "    <tr style=\"text-align: right;\">\n",
       "      <th></th>\n",
       "      <th>Date</th>\n",
       "      <th>Open</th>\n",
       "      <th>High</th>\n",
       "      <th>Low</th>\n",
       "      <th>Close</th>\n",
       "      <th>Adj Close</th>\n",
       "      <th>Volume</th>\n",
       "      <th>SMA5</th>\n",
       "      <th>SMA10</th>\n",
       "      <th>StochasticK</th>\n",
       "      <th>...</th>\n",
       "      <th>Change</th>\n",
       "      <th>Direction</th>\n",
       "      <th>RSI</th>\n",
       "      <th>TP</th>\n",
       "      <th>sma</th>\n",
       "      <th>mad</th>\n",
       "      <th>CCI</th>\n",
       "      <th>DI</th>\n",
       "      <th>ADX</th>\n",
       "      <th>Aroon</th>\n",
       "    </tr>\n",
       "  </thead>\n",
       "  <tbody>\n",
       "    <tr>\n",
       "      <th>0</th>\n",
       "      <td>5/15/1997</td>\n",
       "      <td>2.437500</td>\n",
       "      <td>2.500000</td>\n",
       "      <td>1.927083</td>\n",
       "      <td>1.958333</td>\n",
       "      <td>1.958333</td>\n",
       "      <td>72156000</td>\n",
       "      <td>1.958333</td>\n",
       "      <td>1.958333</td>\n",
       "      <td>NaN</td>\n",
       "      <td>...</td>\n",
       "      <td>-0.229166</td>\n",
       "      <td>0</td>\n",
       "      <td>NaN</td>\n",
       "      <td>2.128472</td>\n",
       "      <td>NaN</td>\n",
       "      <td>NaN</td>\n",
       "      <td>NaN</td>\n",
       "      <td>NaN</td>\n",
       "      <td>NaN</td>\n",
       "      <td>0.0</td>\n",
       "    </tr>\n",
       "    <tr>\n",
       "      <th>1</th>\n",
       "      <td>5/16/1997</td>\n",
       "      <td>1.968750</td>\n",
       "      <td>1.979167</td>\n",
       "      <td>1.708333</td>\n",
       "      <td>1.729167</td>\n",
       "      <td>1.729167</td>\n",
       "      <td>14700000</td>\n",
       "      <td>1.843750</td>\n",
       "      <td>1.843750</td>\n",
       "      <td>NaN</td>\n",
       "      <td>...</td>\n",
       "      <td>-0.020834</td>\n",
       "      <td>0</td>\n",
       "      <td>NaN</td>\n",
       "      <td>1.805556</td>\n",
       "      <td>NaN</td>\n",
       "      <td>NaN</td>\n",
       "      <td>NaN</td>\n",
       "      <td>NaN</td>\n",
       "      <td>NaN</td>\n",
       "      <td>-4.0</td>\n",
       "    </tr>\n",
       "    <tr>\n",
       "      <th>2</th>\n",
       "      <td>5/19/1997</td>\n",
       "      <td>1.760417</td>\n",
       "      <td>1.770833</td>\n",
       "      <td>1.625000</td>\n",
       "      <td>1.708333</td>\n",
       "      <td>1.708333</td>\n",
       "      <td>6106800</td>\n",
       "      <td>1.798611</td>\n",
       "      <td>1.798611</td>\n",
       "      <td>NaN</td>\n",
       "      <td>...</td>\n",
       "      <td>-0.072916</td>\n",
       "      <td>0</td>\n",
       "      <td>NaN</td>\n",
       "      <td>1.701389</td>\n",
       "      <td>NaN</td>\n",
       "      <td>NaN</td>\n",
       "      <td>NaN</td>\n",
       "      <td>NaN</td>\n",
       "      <td>NaN</td>\n",
       "      <td>-8.0</td>\n",
       "    </tr>\n",
       "    <tr>\n",
       "      <th>3</th>\n",
       "      <td>5/20/1997</td>\n",
       "      <td>1.729167</td>\n",
       "      <td>1.750000</td>\n",
       "      <td>1.635417</td>\n",
       "      <td>1.635417</td>\n",
       "      <td>1.635417</td>\n",
       "      <td>5467200</td>\n",
       "      <td>1.757812</td>\n",
       "      <td>1.757812</td>\n",
       "      <td>NaN</td>\n",
       "      <td>...</td>\n",
       "      <td>-0.208334</td>\n",
       "      <td>0</td>\n",
       "      <td>NaN</td>\n",
       "      <td>1.673611</td>\n",
       "      <td>NaN</td>\n",
       "      <td>NaN</td>\n",
       "      <td>NaN</td>\n",
       "      <td>NaN</td>\n",
       "      <td>NaN</td>\n",
       "      <td>-12.0</td>\n",
       "    </tr>\n",
       "    <tr>\n",
       "      <th>4</th>\n",
       "      <td>5/21/1997</td>\n",
       "      <td>1.635417</td>\n",
       "      <td>1.645833</td>\n",
       "      <td>1.375000</td>\n",
       "      <td>1.427083</td>\n",
       "      <td>1.427083</td>\n",
       "      <td>18853200</td>\n",
       "      <td>1.691667</td>\n",
       "      <td>1.691667</td>\n",
       "      <td>NaN</td>\n",
       "      <td>...</td>\n",
       "      <td>-0.031250</td>\n",
       "      <td>0</td>\n",
       "      <td>NaN</td>\n",
       "      <td>1.482639</td>\n",
       "      <td>NaN</td>\n",
       "      <td>NaN</td>\n",
       "      <td>NaN</td>\n",
       "      <td>NaN</td>\n",
       "      <td>NaN</td>\n",
       "      <td>-16.0</td>\n",
       "    </tr>\n",
       "    <tr>\n",
       "      <th>...</th>\n",
       "      <td>...</td>\n",
       "      <td>...</td>\n",
       "      <td>...</td>\n",
       "      <td>...</td>\n",
       "      <td>...</td>\n",
       "      <td>...</td>\n",
       "      <td>...</td>\n",
       "      <td>...</td>\n",
       "      <td>...</td>\n",
       "      <td>...</td>\n",
       "      <td>...</td>\n",
       "      <td>...</td>\n",
       "      <td>...</td>\n",
       "      <td>...</td>\n",
       "      <td>...</td>\n",
       "      <td>...</td>\n",
       "      <td>...</td>\n",
       "      <td>...</td>\n",
       "      <td>...</td>\n",
       "      <td>...</td>\n",
       "      <td>...</td>\n",
       "    </tr>\n",
       "    <tr>\n",
       "      <th>6152</th>\n",
       "      <td>10/25/2021</td>\n",
       "      <td>3335.000000</td>\n",
       "      <td>3347.800049</td>\n",
       "      <td>3297.699951</td>\n",
       "      <td>3320.370117</td>\n",
       "      <td>3320.370117</td>\n",
       "      <td>2226000</td>\n",
       "      <td>3390.028027</td>\n",
       "      <td>3363.737036</td>\n",
       "      <td>46.075539</td>\n",
       "      <td>...</td>\n",
       "      <td>55.699951</td>\n",
       "      <td>1</td>\n",
       "      <td>0.675676</td>\n",
       "      <td>3321.956706</td>\n",
       "      <td>3336.762172</td>\n",
       "      <td>62.706724</td>\n",
       "      <td>-15.740435</td>\n",
       "      <td>-0.538225</td>\n",
       "      <td>22.462941</td>\n",
       "      <td>40.0</td>\n",
       "    </tr>\n",
       "    <tr>\n",
       "      <th>6153</th>\n",
       "      <td>10/26/2021</td>\n",
       "      <td>3349.510010</td>\n",
       "      <td>3416.120117</td>\n",
       "      <td>3343.979980</td>\n",
       "      <td>3376.070068</td>\n",
       "      <td>3376.070068</td>\n",
       "      <td>2698300</td>\n",
       "      <td>3376.412061</td>\n",
       "      <td>3376.611035</td>\n",
       "      <td>61.695644</td>\n",
       "      <td>...</td>\n",
       "      <td>16.419922</td>\n",
       "      <td>1</td>\n",
       "      <td>0.675676</td>\n",
       "      <td>3378.723388</td>\n",
       "      <td>3346.552647</td>\n",
       "      <td>58.910708</td>\n",
       "      <td>36.406218</td>\n",
       "      <td>0.884063</td>\n",
       "      <td>21.835137</td>\n",
       "      <td>40.0</td>\n",
       "    </tr>\n",
       "    <tr>\n",
       "      <th>6154</th>\n",
       "      <td>10/27/2021</td>\n",
       "      <td>3388.000000</td>\n",
       "      <td>3437.000000</td>\n",
       "      <td>3371.449951</td>\n",
       "      <td>3392.489990</td>\n",
       "      <td>3392.489990</td>\n",
       "      <td>2702200</td>\n",
       "      <td>3371.898047</td>\n",
       "      <td>3387.432031</td>\n",
       "      <td>68.942496</td>\n",
       "      <td>...</td>\n",
       "      <td>54.080078</td>\n",
       "      <td>1</td>\n",
       "      <td>0.910010</td>\n",
       "      <td>3400.313314</td>\n",
       "      <td>3353.450265</td>\n",
       "      <td>58.707812</td>\n",
       "      <td>53.216142</td>\n",
       "      <td>1.180228</td>\n",
       "      <td>20.421165</td>\n",
       "      <td>40.0</td>\n",
       "    </tr>\n",
       "    <tr>\n",
       "      <th>6155</th>\n",
       "      <td>10/28/2021</td>\n",
       "      <td>3402.100098</td>\n",
       "      <td>3479.000000</td>\n",
       "      <td>3386.000000</td>\n",
       "      <td>3446.570068</td>\n",
       "      <td>3446.570068</td>\n",
       "      <td>5708700</td>\n",
       "      <td>3374.210058</td>\n",
       "      <td>3402.103027</td>\n",
       "      <td>86.638952</td>\n",
       "      <td>...</td>\n",
       "      <td>-74.140136</td>\n",
       "      <td>0</td>\n",
       "      <td>0.910010</td>\n",
       "      <td>3437.190023</td>\n",
       "      <td>3363.291219</td>\n",
       "      <td>58.017979</td>\n",
       "      <td>84.914831</td>\n",
       "      <td>2.448428</td>\n",
       "      <td>19.442353</td>\n",
       "      <td>40.0</td>\n",
       "    </tr>\n",
       "    <tr>\n",
       "      <th>6156</th>\n",
       "      <td>10/29/2021</td>\n",
       "      <td>3300.020020</td>\n",
       "      <td>3374.820068</td>\n",
       "      <td>3273.320068</td>\n",
       "      <td>3372.429932</td>\n",
       "      <td>3372.429932</td>\n",
       "      <td>6469500</td>\n",
       "      <td>3381.586035</td>\n",
       "      <td>3398.444018</td>\n",
       "      <td>56.093408</td>\n",
       "      <td>...</td>\n",
       "      <td>NaN</td>\n",
       "      <td>0</td>\n",
       "      <td>0.675676</td>\n",
       "      <td>3340.190023</td>\n",
       "      <td>3369.090739</td>\n",
       "      <td>51.065360</td>\n",
       "      <td>-37.730360</td>\n",
       "      <td>-0.023105</td>\n",
       "      <td>19.055512</td>\n",
       "      <td>40.0</td>\n",
       "    </tr>\n",
       "  </tbody>\n",
       "</table>\n",
       "<p>6157 rows × 30 columns</p>\n",
       "</div>"
      ],
      "text/plain": [
       "            Date         Open         High          Low        Close  \\\n",
       "0      5/15/1997     2.437500     2.500000     1.927083     1.958333   \n",
       "1      5/16/1997     1.968750     1.979167     1.708333     1.729167   \n",
       "2      5/19/1997     1.760417     1.770833     1.625000     1.708333   \n",
       "3      5/20/1997     1.729167     1.750000     1.635417     1.635417   \n",
       "4      5/21/1997     1.635417     1.645833     1.375000     1.427083   \n",
       "...          ...          ...          ...          ...          ...   \n",
       "6152  10/25/2021  3335.000000  3347.800049  3297.699951  3320.370117   \n",
       "6153  10/26/2021  3349.510010  3416.120117  3343.979980  3376.070068   \n",
       "6154  10/27/2021  3388.000000  3437.000000  3371.449951  3392.489990   \n",
       "6155  10/28/2021  3402.100098  3479.000000  3386.000000  3446.570068   \n",
       "6156  10/29/2021  3300.020020  3374.820068  3273.320068  3372.429932   \n",
       "\n",
       "        Adj Close    Volume         SMA5        SMA10  StochasticK  ...  \\\n",
       "0        1.958333  72156000     1.958333     1.958333          NaN  ...   \n",
       "1        1.729167  14700000     1.843750     1.843750          NaN  ...   \n",
       "2        1.708333   6106800     1.798611     1.798611          NaN  ...   \n",
       "3        1.635417   5467200     1.757812     1.757812          NaN  ...   \n",
       "4        1.427083  18853200     1.691667     1.691667          NaN  ...   \n",
       "...           ...       ...          ...          ...          ...  ...   \n",
       "6152  3320.370117   2226000  3390.028027  3363.737036    46.075539  ...   \n",
       "6153  3376.070068   2698300  3376.412061  3376.611035    61.695644  ...   \n",
       "6154  3392.489990   2702200  3371.898047  3387.432031    68.942496  ...   \n",
       "6155  3446.570068   5708700  3374.210058  3402.103027    86.638952  ...   \n",
       "6156  3372.429932   6469500  3381.586035  3398.444018    56.093408  ...   \n",
       "\n",
       "         Change  Direction       RSI           TP          sma        mad  \\\n",
       "0     -0.229166          0       NaN     2.128472          NaN        NaN   \n",
       "1     -0.020834          0       NaN     1.805556          NaN        NaN   \n",
       "2     -0.072916          0       NaN     1.701389          NaN        NaN   \n",
       "3     -0.208334          0       NaN     1.673611          NaN        NaN   \n",
       "4     -0.031250          0       NaN     1.482639          NaN        NaN   \n",
       "...         ...        ...       ...          ...          ...        ...   \n",
       "6152  55.699951          1  0.675676  3321.956706  3336.762172  62.706724   \n",
       "6153  16.419922          1  0.675676  3378.723388  3346.552647  58.910708   \n",
       "6154  54.080078          1  0.910010  3400.313314  3353.450265  58.707812   \n",
       "6155 -74.140136          0  0.910010  3437.190023  3363.291219  58.017979   \n",
       "6156        NaN          0  0.675676  3340.190023  3369.090739  51.065360   \n",
       "\n",
       "            CCI        DI        ADX  Aroon  \n",
       "0           NaN       NaN        NaN    0.0  \n",
       "1           NaN       NaN        NaN   -4.0  \n",
       "2           NaN       NaN        NaN   -8.0  \n",
       "3           NaN       NaN        NaN  -12.0  \n",
       "4           NaN       NaN        NaN  -16.0  \n",
       "...         ...       ...        ...    ...  \n",
       "6152 -15.740435 -0.538225  22.462941   40.0  \n",
       "6153  36.406218  0.884063  21.835137   40.0  \n",
       "6154  53.216142  1.180228  20.421165   40.0  \n",
       "6155  84.914831  2.448428  19.442353   40.0  \n",
       "6156 -37.730360 -0.023105  19.055512   40.0  \n",
       "\n",
       "[6157 rows x 30 columns]"
      ]
     },
     "execution_count": 31,
     "metadata": {},
     "output_type": "execute_result"
    }
   ],
   "source": [
    "complete_data = compute_all_indicators(data)\n",
    "complete_data"
   ]
  },
  {
   "cell_type": "code",
   "execution_count": 32,
   "metadata": {},
   "outputs": [],
   "source": [
    "complete_data = complete_data.dropna()"
   ]
  },
  {
   "cell_type": "code",
   "execution_count": 33,
   "metadata": {},
   "outputs": [
    {
     "data": {
      "text/html": [
       "<div>\n",
       "<style scoped>\n",
       "    .dataframe tbody tr th:only-of-type {\n",
       "        vertical-align: middle;\n",
       "    }\n",
       "\n",
       "    .dataframe tbody tr th {\n",
       "        vertical-align: top;\n",
       "    }\n",
       "\n",
       "    .dataframe thead th {\n",
       "        text-align: right;\n",
       "    }\n",
       "</style>\n",
       "<table border=\"1\" class=\"dataframe\">\n",
       "  <thead>\n",
       "    <tr style=\"text-align: right;\">\n",
       "      <th></th>\n",
       "      <th>Date</th>\n",
       "      <th>Open</th>\n",
       "      <th>High</th>\n",
       "      <th>Low</th>\n",
       "      <th>Close</th>\n",
       "      <th>Adj Close</th>\n",
       "      <th>Volume</th>\n",
       "      <th>SMA5</th>\n",
       "      <th>SMA10</th>\n",
       "      <th>StochasticK</th>\n",
       "      <th>...</th>\n",
       "      <th>Change</th>\n",
       "      <th>Direction</th>\n",
       "      <th>RSI</th>\n",
       "      <th>TP</th>\n",
       "      <th>sma</th>\n",
       "      <th>mad</th>\n",
       "      <th>CCI</th>\n",
       "      <th>DI</th>\n",
       "      <th>ADX</th>\n",
       "      <th>Aroon</th>\n",
       "    </tr>\n",
       "  </thead>\n",
       "  <tbody>\n",
       "    <tr>\n",
       "      <th>14</th>\n",
       "      <td>6/5/1997</td>\n",
       "      <td>1.416667</td>\n",
       "      <td>1.541667</td>\n",
       "      <td>1.375000</td>\n",
       "      <td>1.541667</td>\n",
       "      <td>1.541667</td>\n",
       "      <td>5672400</td>\n",
       "      <td>1.489584</td>\n",
       "      <td>1.496354</td>\n",
       "      <td>34.375033</td>\n",
       "      <td>...</td>\n",
       "      <td>0.114583</td>\n",
       "      <td>1</td>\n",
       "      <td>0.282646</td>\n",
       "      <td>1.486111</td>\n",
       "      <td>1.540303</td>\n",
       "      <td>0.086788</td>\n",
       "      <td>-41.627398</td>\n",
       "      <td>0.558137</td>\n",
       "      <td>50.226281</td>\n",
       "      <td>-20.0</td>\n",
       "    </tr>\n",
       "    <tr>\n",
       "      <th>15</th>\n",
       "      <td>6/6/1997</td>\n",
       "      <td>1.515625</td>\n",
       "      <td>1.708333</td>\n",
       "      <td>1.510417</td>\n",
       "      <td>1.656250</td>\n",
       "      <td>1.656250</td>\n",
       "      <td>7807200</td>\n",
       "      <td>1.520834</td>\n",
       "      <td>1.522396</td>\n",
       "      <td>75.000055</td>\n",
       "      <td>...</td>\n",
       "      <td>0.031250</td>\n",
       "      <td>1</td>\n",
       "      <td>0.381194</td>\n",
       "      <td>1.625000</td>\n",
       "      <td>1.527406</td>\n",
       "      <td>0.070206</td>\n",
       "      <td>92.673942</td>\n",
       "      <td>8.400292</td>\n",
       "      <td>43.640597</td>\n",
       "      <td>-20.0</td>\n",
       "    </tr>\n",
       "    <tr>\n",
       "      <th>16</th>\n",
       "      <td>6/9/1997</td>\n",
       "      <td>1.656250</td>\n",
       "      <td>1.708333</td>\n",
       "      <td>1.656250</td>\n",
       "      <td>1.687500</td>\n",
       "      <td>1.687500</td>\n",
       "      <td>2352000</td>\n",
       "      <td>1.556250</td>\n",
       "      <td>1.541146</td>\n",
       "      <td>85.714286</td>\n",
       "      <td>...</td>\n",
       "      <td>-0.104167</td>\n",
       "      <td>0</td>\n",
       "      <td>0.381194</td>\n",
       "      <td>1.684028</td>\n",
       "      <td>1.526166</td>\n",
       "      <td>0.068612</td>\n",
       "      <td>153.386632</td>\n",
       "      <td>10.553252</td>\n",
       "      <td>30.868253</td>\n",
       "      <td>-20.0</td>\n",
       "    </tr>\n",
       "    <tr>\n",
       "      <th>17</th>\n",
       "      <td>6/10/1997</td>\n",
       "      <td>1.708333</td>\n",
       "      <td>1.708333</td>\n",
       "      <td>1.531250</td>\n",
       "      <td>1.583333</td>\n",
       "      <td>1.583333</td>\n",
       "      <td>5458800</td>\n",
       "      <td>1.577083</td>\n",
       "      <td>1.541146</td>\n",
       "      <td>68.421026</td>\n",
       "      <td>...</td>\n",
       "      <td>-0.041666</td>\n",
       "      <td>0</td>\n",
       "      <td>0.381194</td>\n",
       "      <td>1.607639</td>\n",
       "      <td>1.521453</td>\n",
       "      <td>0.062553</td>\n",
       "      <td>91.852991</td>\n",
       "      <td>3.982389</td>\n",
       "      <td>24.801838</td>\n",
       "      <td>-20.0</td>\n",
       "    </tr>\n",
       "    <tr>\n",
       "      <th>18</th>\n",
       "      <td>6/11/1997</td>\n",
       "      <td>1.593750</td>\n",
       "      <td>1.604167</td>\n",
       "      <td>1.531250</td>\n",
       "      <td>1.541667</td>\n",
       "      <td>1.541667</td>\n",
       "      <td>1188000</td>\n",
       "      <td>1.602083</td>\n",
       "      <td>1.542188</td>\n",
       "      <td>57.894870</td>\n",
       "      <td>...</td>\n",
       "      <td>0.062500</td>\n",
       "      <td>1</td>\n",
       "      <td>0.507614</td>\n",
       "      <td>1.559028</td>\n",
       "      <td>1.526910</td>\n",
       "      <td>0.063244</td>\n",
       "      <td>33.856459</td>\n",
       "      <td>0.704759</td>\n",
       "      <td>24.430750</td>\n",
       "      <td>-20.0</td>\n",
       "    </tr>\n",
       "    <tr>\n",
       "      <th>...</th>\n",
       "      <td>...</td>\n",
       "      <td>...</td>\n",
       "      <td>...</td>\n",
       "      <td>...</td>\n",
       "      <td>...</td>\n",
       "      <td>...</td>\n",
       "      <td>...</td>\n",
       "      <td>...</td>\n",
       "      <td>...</td>\n",
       "      <td>...</td>\n",
       "      <td>...</td>\n",
       "      <td>...</td>\n",
       "      <td>...</td>\n",
       "      <td>...</td>\n",
       "      <td>...</td>\n",
       "      <td>...</td>\n",
       "      <td>...</td>\n",
       "      <td>...</td>\n",
       "      <td>...</td>\n",
       "      <td>...</td>\n",
       "      <td>...</td>\n",
       "    </tr>\n",
       "    <tr>\n",
       "      <th>6151</th>\n",
       "      <td>10/22/2021</td>\n",
       "      <td>3421.000000</td>\n",
       "      <td>3429.840088</td>\n",
       "      <td>3331.300049</td>\n",
       "      <td>3335.550049</td>\n",
       "      <td>3335.550049</td>\n",
       "      <td>3133800</td>\n",
       "      <td>3415.302002</td>\n",
       "      <td>3356.330029</td>\n",
       "      <td>51.820291</td>\n",
       "      <td>...</td>\n",
       "      <td>-15.179932</td>\n",
       "      <td>0</td>\n",
       "      <td>0.675676</td>\n",
       "      <td>3365.563395</td>\n",
       "      <td>3330.055501</td>\n",
       "      <td>68.455299</td>\n",
       "      <td>34.580127</td>\n",
       "      <td>0.129382</td>\n",
       "      <td>23.568887</td>\n",
       "      <td>40.0</td>\n",
       "    </tr>\n",
       "    <tr>\n",
       "      <th>6152</th>\n",
       "      <td>10/25/2021</td>\n",
       "      <td>3335.000000</td>\n",
       "      <td>3347.800049</td>\n",
       "      <td>3297.699951</td>\n",
       "      <td>3320.370117</td>\n",
       "      <td>3320.370117</td>\n",
       "      <td>2226000</td>\n",
       "      <td>3390.028027</td>\n",
       "      <td>3363.737036</td>\n",
       "      <td>46.075539</td>\n",
       "      <td>...</td>\n",
       "      <td>55.699951</td>\n",
       "      <td>1</td>\n",
       "      <td>0.675676</td>\n",
       "      <td>3321.956706</td>\n",
       "      <td>3336.762172</td>\n",
       "      <td>62.706724</td>\n",
       "      <td>-15.740435</td>\n",
       "      <td>-0.538225</td>\n",
       "      <td>22.462941</td>\n",
       "      <td>40.0</td>\n",
       "    </tr>\n",
       "    <tr>\n",
       "      <th>6153</th>\n",
       "      <td>10/26/2021</td>\n",
       "      <td>3349.510010</td>\n",
       "      <td>3416.120117</td>\n",
       "      <td>3343.979980</td>\n",
       "      <td>3376.070068</td>\n",
       "      <td>3376.070068</td>\n",
       "      <td>2698300</td>\n",
       "      <td>3376.412061</td>\n",
       "      <td>3376.611035</td>\n",
       "      <td>61.695644</td>\n",
       "      <td>...</td>\n",
       "      <td>16.419922</td>\n",
       "      <td>1</td>\n",
       "      <td>0.675676</td>\n",
       "      <td>3378.723388</td>\n",
       "      <td>3346.552647</td>\n",
       "      <td>58.910708</td>\n",
       "      <td>36.406218</td>\n",
       "      <td>0.884063</td>\n",
       "      <td>21.835137</td>\n",
       "      <td>40.0</td>\n",
       "    </tr>\n",
       "    <tr>\n",
       "      <th>6154</th>\n",
       "      <td>10/27/2021</td>\n",
       "      <td>3388.000000</td>\n",
       "      <td>3437.000000</td>\n",
       "      <td>3371.449951</td>\n",
       "      <td>3392.489990</td>\n",
       "      <td>3392.489990</td>\n",
       "      <td>2702200</td>\n",
       "      <td>3371.898047</td>\n",
       "      <td>3387.432031</td>\n",
       "      <td>68.942496</td>\n",
       "      <td>...</td>\n",
       "      <td>54.080078</td>\n",
       "      <td>1</td>\n",
       "      <td>0.910010</td>\n",
       "      <td>3400.313314</td>\n",
       "      <td>3353.450265</td>\n",
       "      <td>58.707812</td>\n",
       "      <td>53.216142</td>\n",
       "      <td>1.180228</td>\n",
       "      <td>20.421165</td>\n",
       "      <td>40.0</td>\n",
       "    </tr>\n",
       "    <tr>\n",
       "      <th>6155</th>\n",
       "      <td>10/28/2021</td>\n",
       "      <td>3402.100098</td>\n",
       "      <td>3479.000000</td>\n",
       "      <td>3386.000000</td>\n",
       "      <td>3446.570068</td>\n",
       "      <td>3446.570068</td>\n",
       "      <td>5708700</td>\n",
       "      <td>3374.210058</td>\n",
       "      <td>3402.103027</td>\n",
       "      <td>86.638952</td>\n",
       "      <td>...</td>\n",
       "      <td>-74.140136</td>\n",
       "      <td>0</td>\n",
       "      <td>0.910010</td>\n",
       "      <td>3437.190023</td>\n",
       "      <td>3363.291219</td>\n",
       "      <td>58.017979</td>\n",
       "      <td>84.914831</td>\n",
       "      <td>2.448428</td>\n",
       "      <td>19.442353</td>\n",
       "      <td>40.0</td>\n",
       "    </tr>\n",
       "  </tbody>\n",
       "</table>\n",
       "<p>6142 rows × 30 columns</p>\n",
       "</div>"
      ],
      "text/plain": [
       "            Date         Open         High          Low        Close  \\\n",
       "14      6/5/1997     1.416667     1.541667     1.375000     1.541667   \n",
       "15      6/6/1997     1.515625     1.708333     1.510417     1.656250   \n",
       "16      6/9/1997     1.656250     1.708333     1.656250     1.687500   \n",
       "17     6/10/1997     1.708333     1.708333     1.531250     1.583333   \n",
       "18     6/11/1997     1.593750     1.604167     1.531250     1.541667   \n",
       "...          ...          ...          ...          ...          ...   \n",
       "6151  10/22/2021  3421.000000  3429.840088  3331.300049  3335.550049   \n",
       "6152  10/25/2021  3335.000000  3347.800049  3297.699951  3320.370117   \n",
       "6153  10/26/2021  3349.510010  3416.120117  3343.979980  3376.070068   \n",
       "6154  10/27/2021  3388.000000  3437.000000  3371.449951  3392.489990   \n",
       "6155  10/28/2021  3402.100098  3479.000000  3386.000000  3446.570068   \n",
       "\n",
       "        Adj Close   Volume         SMA5        SMA10  StochasticK  ...  \\\n",
       "14       1.541667  5672400     1.489584     1.496354    34.375033  ...   \n",
       "15       1.656250  7807200     1.520834     1.522396    75.000055  ...   \n",
       "16       1.687500  2352000     1.556250     1.541146    85.714286  ...   \n",
       "17       1.583333  5458800     1.577083     1.541146    68.421026  ...   \n",
       "18       1.541667  1188000     1.602083     1.542188    57.894870  ...   \n",
       "...           ...      ...          ...          ...          ...  ...   \n",
       "6151  3335.550049  3133800  3415.302002  3356.330029    51.820291  ...   \n",
       "6152  3320.370117  2226000  3390.028027  3363.737036    46.075539  ...   \n",
       "6153  3376.070068  2698300  3376.412061  3376.611035    61.695644  ...   \n",
       "6154  3392.489990  2702200  3371.898047  3387.432031    68.942496  ...   \n",
       "6155  3446.570068  5708700  3374.210058  3402.103027    86.638952  ...   \n",
       "\n",
       "         Change  Direction       RSI           TP          sma        mad  \\\n",
       "14     0.114583          1  0.282646     1.486111     1.540303   0.086788   \n",
       "15     0.031250          1  0.381194     1.625000     1.527406   0.070206   \n",
       "16    -0.104167          0  0.381194     1.684028     1.526166   0.068612   \n",
       "17    -0.041666          0  0.381194     1.607639     1.521453   0.062553   \n",
       "18     0.062500          1  0.507614     1.559028     1.526910   0.063244   \n",
       "...         ...        ...       ...          ...          ...        ...   \n",
       "6151 -15.179932          0  0.675676  3365.563395  3330.055501  68.455299   \n",
       "6152  55.699951          1  0.675676  3321.956706  3336.762172  62.706724   \n",
       "6153  16.419922          1  0.675676  3378.723388  3346.552647  58.910708   \n",
       "6154  54.080078          1  0.910010  3400.313314  3353.450265  58.707812   \n",
       "6155 -74.140136          0  0.910010  3437.190023  3363.291219  58.017979   \n",
       "\n",
       "             CCI         DI        ADX  Aroon  \n",
       "14    -41.627398   0.558137  50.226281  -20.0  \n",
       "15     92.673942   8.400292  43.640597  -20.0  \n",
       "16    153.386632  10.553252  30.868253  -20.0  \n",
       "17     91.852991   3.982389  24.801838  -20.0  \n",
       "18     33.856459   0.704759  24.430750  -20.0  \n",
       "...          ...        ...        ...    ...  \n",
       "6151   34.580127   0.129382  23.568887   40.0  \n",
       "6152  -15.740435  -0.538225  22.462941   40.0  \n",
       "6153   36.406218   0.884063  21.835137   40.0  \n",
       "6154   53.216142   1.180228  20.421165   40.0  \n",
       "6155   84.914831   2.448428  19.442353   40.0  \n",
       "\n",
       "[6142 rows x 30 columns]"
      ]
     },
     "execution_count": 33,
     "metadata": {},
     "output_type": "execute_result"
    }
   ],
   "source": [
    "complete_data"
   ]
  },
  {
   "cell_type": "code",
   "execution_count": 34,
   "metadata": {},
   "outputs": [],
   "source": [
    "complete_data = complete_data.drop(['TP', 'sma', 'mad', 'Change'], axis=1)"
   ]
  },
  {
   "cell_type": "code",
   "execution_count": 35,
   "metadata": {},
   "outputs": [
    {
     "data": {
      "text/html": [
       "<div>\n",
       "<style scoped>\n",
       "    .dataframe tbody tr th:only-of-type {\n",
       "        vertical-align: middle;\n",
       "    }\n",
       "\n",
       "    .dataframe tbody tr th {\n",
       "        vertical-align: top;\n",
       "    }\n",
       "\n",
       "    .dataframe thead th {\n",
       "        text-align: right;\n",
       "    }\n",
       "</style>\n",
       "<table border=\"1\" class=\"dataframe\">\n",
       "  <thead>\n",
       "    <tr style=\"text-align: right;\">\n",
       "      <th></th>\n",
       "      <th>Date</th>\n",
       "      <th>Open</th>\n",
       "      <th>High</th>\n",
       "      <th>Low</th>\n",
       "      <th>Close</th>\n",
       "      <th>Adj Close</th>\n",
       "      <th>Volume</th>\n",
       "      <th>SMA5</th>\n",
       "      <th>SMA10</th>\n",
       "      <th>StochasticK</th>\n",
       "      <th>...</th>\n",
       "      <th>EMA12</th>\n",
       "      <th>EMA26</th>\n",
       "      <th>MACD</th>\n",
       "      <th>Momentum</th>\n",
       "      <th>Direction</th>\n",
       "      <th>RSI</th>\n",
       "      <th>CCI</th>\n",
       "      <th>DI</th>\n",
       "      <th>ADX</th>\n",
       "      <th>Aroon</th>\n",
       "    </tr>\n",
       "  </thead>\n",
       "  <tbody>\n",
       "    <tr>\n",
       "      <th>14</th>\n",
       "      <td>6/5/1997</td>\n",
       "      <td>1.416667</td>\n",
       "      <td>1.541667</td>\n",
       "      <td>1.375000</td>\n",
       "      <td>1.541667</td>\n",
       "      <td>1.541667</td>\n",
       "      <td>5672400</td>\n",
       "      <td>1.489584</td>\n",
       "      <td>1.496354</td>\n",
       "      <td>34.375033</td>\n",
       "      <td>...</td>\n",
       "      <td>1.550516</td>\n",
       "      <td>1.668338</td>\n",
       "      <td>-0.117822</td>\n",
       "      <td>78.723435</td>\n",
       "      <td>1</td>\n",
       "      <td>0.282646</td>\n",
       "      <td>-41.627398</td>\n",
       "      <td>0.558137</td>\n",
       "      <td>50.226281</td>\n",
       "      <td>-20.0</td>\n",
       "    </tr>\n",
       "    <tr>\n",
       "      <th>15</th>\n",
       "      <td>6/6/1997</td>\n",
       "      <td>1.515625</td>\n",
       "      <td>1.708333</td>\n",
       "      <td>1.510417</td>\n",
       "      <td>1.656250</td>\n",
       "      <td>1.656250</td>\n",
       "      <td>7807200</td>\n",
       "      <td>1.520834</td>\n",
       "      <td>1.522396</td>\n",
       "      <td>75.000055</td>\n",
       "      <td>...</td>\n",
       "      <td>1.566783</td>\n",
       "      <td>1.667443</td>\n",
       "      <td>-0.100660</td>\n",
       "      <td>95.783114</td>\n",
       "      <td>1</td>\n",
       "      <td>0.381194</td>\n",
       "      <td>92.673942</td>\n",
       "      <td>8.400292</td>\n",
       "      <td>43.640597</td>\n",
       "      <td>-20.0</td>\n",
       "    </tr>\n",
       "    <tr>\n",
       "      <th>16</th>\n",
       "      <td>6/9/1997</td>\n",
       "      <td>1.656250</td>\n",
       "      <td>1.708333</td>\n",
       "      <td>1.656250</td>\n",
       "      <td>1.687500</td>\n",
       "      <td>1.687500</td>\n",
       "      <td>2352000</td>\n",
       "      <td>1.556250</td>\n",
       "      <td>1.541146</td>\n",
       "      <td>85.714286</td>\n",
       "      <td>...</td>\n",
       "      <td>1.585355</td>\n",
       "      <td>1.668929</td>\n",
       "      <td>-0.083574</td>\n",
       "      <td>98.780507</td>\n",
       "      <td>0</td>\n",
       "      <td>0.381194</td>\n",
       "      <td>153.386632</td>\n",
       "      <td>10.553252</td>\n",
       "      <td>30.868253</td>\n",
       "      <td>-20.0</td>\n",
       "    </tr>\n",
       "    <tr>\n",
       "      <th>17</th>\n",
       "      <td>6/10/1997</td>\n",
       "      <td>1.708333</td>\n",
       "      <td>1.708333</td>\n",
       "      <td>1.531250</td>\n",
       "      <td>1.583333</td>\n",
       "      <td>1.583333</td>\n",
       "      <td>5458800</td>\n",
       "      <td>1.577083</td>\n",
       "      <td>1.541146</td>\n",
       "      <td>68.421026</td>\n",
       "      <td>...</td>\n",
       "      <td>1.585044</td>\n",
       "      <td>1.662588</td>\n",
       "      <td>-0.077545</td>\n",
       "      <td>96.815247</td>\n",
       "      <td>0</td>\n",
       "      <td>0.381194</td>\n",
       "      <td>91.852991</td>\n",
       "      <td>3.982389</td>\n",
       "      <td>24.801838</td>\n",
       "      <td>-20.0</td>\n",
       "    </tr>\n",
       "    <tr>\n",
       "      <th>18</th>\n",
       "      <td>6/11/1997</td>\n",
       "      <td>1.593750</td>\n",
       "      <td>1.604167</td>\n",
       "      <td>1.531250</td>\n",
       "      <td>1.541667</td>\n",
       "      <td>1.541667</td>\n",
       "      <td>1188000</td>\n",
       "      <td>1.602083</td>\n",
       "      <td>1.542188</td>\n",
       "      <td>57.894870</td>\n",
       "      <td>...</td>\n",
       "      <td>1.578370</td>\n",
       "      <td>1.653631</td>\n",
       "      <td>-0.075261</td>\n",
       "      <td>108.029246</td>\n",
       "      <td>1</td>\n",
       "      <td>0.507614</td>\n",
       "      <td>33.856459</td>\n",
       "      <td>0.704759</td>\n",
       "      <td>24.430750</td>\n",
       "      <td>-20.0</td>\n",
       "    </tr>\n",
       "    <tr>\n",
       "      <th>...</th>\n",
       "      <td>...</td>\n",
       "      <td>...</td>\n",
       "      <td>...</td>\n",
       "      <td>...</td>\n",
       "      <td>...</td>\n",
       "      <td>...</td>\n",
       "      <td>...</td>\n",
       "      <td>...</td>\n",
       "      <td>...</td>\n",
       "      <td>...</td>\n",
       "      <td>...</td>\n",
       "      <td>...</td>\n",
       "      <td>...</td>\n",
       "      <td>...</td>\n",
       "      <td>...</td>\n",
       "      <td>...</td>\n",
       "      <td>...</td>\n",
       "      <td>...</td>\n",
       "      <td>...</td>\n",
       "      <td>...</td>\n",
       "      <td>...</td>\n",
       "    </tr>\n",
       "    <tr>\n",
       "      <th>6151</th>\n",
       "      <td>10/22/2021</td>\n",
       "      <td>3421.000000</td>\n",
       "      <td>3429.840088</td>\n",
       "      <td>3331.300049</td>\n",
       "      <td>3335.550049</td>\n",
       "      <td>3335.550049</td>\n",
       "      <td>3133800</td>\n",
       "      <td>3415.302002</td>\n",
       "      <td>3356.330029</td>\n",
       "      <td>51.820291</td>\n",
       "      <td>...</td>\n",
       "      <td>3363.883172</td>\n",
       "      <td>3356.629660</td>\n",
       "      <td>7.253513</td>\n",
       "      <td>104.569908</td>\n",
       "      <td>0</td>\n",
       "      <td>0.675676</td>\n",
       "      <td>34.580127</td>\n",
       "      <td>0.129382</td>\n",
       "      <td>23.568887</td>\n",
       "      <td>40.0</td>\n",
       "    </tr>\n",
       "    <tr>\n",
       "      <th>6152</th>\n",
       "      <td>10/25/2021</td>\n",
       "      <td>3335.000000</td>\n",
       "      <td>3347.800049</td>\n",
       "      <td>3297.699951</td>\n",
       "      <td>3320.370117</td>\n",
       "      <td>3320.370117</td>\n",
       "      <td>2226000</td>\n",
       "      <td>3390.028027</td>\n",
       "      <td>3363.737036</td>\n",
       "      <td>46.075539</td>\n",
       "      <td>...</td>\n",
       "      <td>3357.188856</td>\n",
       "      <td>3353.943768</td>\n",
       "      <td>3.245089</td>\n",
       "      <td>103.085070</td>\n",
       "      <td>1</td>\n",
       "      <td>0.675676</td>\n",
       "      <td>-15.740435</td>\n",
       "      <td>-0.538225</td>\n",
       "      <td>22.462941</td>\n",
       "      <td>40.0</td>\n",
       "    </tr>\n",
       "    <tr>\n",
       "      <th>6153</th>\n",
       "      <td>10/26/2021</td>\n",
       "      <td>3349.510010</td>\n",
       "      <td>3416.120117</td>\n",
       "      <td>3343.979980</td>\n",
       "      <td>3376.070068</td>\n",
       "      <td>3376.070068</td>\n",
       "      <td>2698300</td>\n",
       "      <td>3376.412061</td>\n",
       "      <td>3376.611035</td>\n",
       "      <td>61.695644</td>\n",
       "      <td>...</td>\n",
       "      <td>3360.093658</td>\n",
       "      <td>3355.582753</td>\n",
       "      <td>4.510905</td>\n",
       "      <td>103.496619</td>\n",
       "      <td>1</td>\n",
       "      <td>0.675676</td>\n",
       "      <td>36.406218</td>\n",
       "      <td>0.884063</td>\n",
       "      <td>21.835137</td>\n",
       "      <td>40.0</td>\n",
       "    </tr>\n",
       "    <tr>\n",
       "      <th>6154</th>\n",
       "      <td>10/27/2021</td>\n",
       "      <td>3388.000000</td>\n",
       "      <td>3437.000000</td>\n",
       "      <td>3371.449951</td>\n",
       "      <td>3392.489990</td>\n",
       "      <td>3392.489990</td>\n",
       "      <td>2702200</td>\n",
       "      <td>3371.898047</td>\n",
       "      <td>3387.432031</td>\n",
       "      <td>68.942496</td>\n",
       "      <td>...</td>\n",
       "      <td>3365.077709</td>\n",
       "      <td>3358.316622</td>\n",
       "      <td>6.761087</td>\n",
       "      <td>102.727085</td>\n",
       "      <td>1</td>\n",
       "      <td>0.910010</td>\n",
       "      <td>53.216142</td>\n",
       "      <td>1.180228</td>\n",
       "      <td>20.421165</td>\n",
       "      <td>40.0</td>\n",
       "    </tr>\n",
       "    <tr>\n",
       "      <th>6155</th>\n",
       "      <td>10/28/2021</td>\n",
       "      <td>3402.100098</td>\n",
       "      <td>3479.000000</td>\n",
       "      <td>3386.000000</td>\n",
       "      <td>3446.570068</td>\n",
       "      <td>3446.570068</td>\n",
       "      <td>5708700</td>\n",
       "      <td>3374.210058</td>\n",
       "      <td>3402.103027</td>\n",
       "      <td>86.638952</td>\n",
       "      <td>...</td>\n",
       "      <td>3377.614995</td>\n",
       "      <td>3364.853915</td>\n",
       "      <td>12.761081</td>\n",
       "      <td>104.802925</td>\n",
       "      <td>0</td>\n",
       "      <td>0.910010</td>\n",
       "      <td>84.914831</td>\n",
       "      <td>2.448428</td>\n",
       "      <td>19.442353</td>\n",
       "      <td>40.0</td>\n",
       "    </tr>\n",
       "  </tbody>\n",
       "</table>\n",
       "<p>6142 rows × 26 columns</p>\n",
       "</div>"
      ],
      "text/plain": [
       "            Date         Open         High          Low        Close  \\\n",
       "14      6/5/1997     1.416667     1.541667     1.375000     1.541667   \n",
       "15      6/6/1997     1.515625     1.708333     1.510417     1.656250   \n",
       "16      6/9/1997     1.656250     1.708333     1.656250     1.687500   \n",
       "17     6/10/1997     1.708333     1.708333     1.531250     1.583333   \n",
       "18     6/11/1997     1.593750     1.604167     1.531250     1.541667   \n",
       "...          ...          ...          ...          ...          ...   \n",
       "6151  10/22/2021  3421.000000  3429.840088  3331.300049  3335.550049   \n",
       "6152  10/25/2021  3335.000000  3347.800049  3297.699951  3320.370117   \n",
       "6153  10/26/2021  3349.510010  3416.120117  3343.979980  3376.070068   \n",
       "6154  10/27/2021  3388.000000  3437.000000  3371.449951  3392.489990   \n",
       "6155  10/28/2021  3402.100098  3479.000000  3386.000000  3446.570068   \n",
       "\n",
       "        Adj Close   Volume         SMA5        SMA10  StochasticK  ...  \\\n",
       "14       1.541667  5672400     1.489584     1.496354    34.375033  ...   \n",
       "15       1.656250  7807200     1.520834     1.522396    75.000055  ...   \n",
       "16       1.687500  2352000     1.556250     1.541146    85.714286  ...   \n",
       "17       1.583333  5458800     1.577083     1.541146    68.421026  ...   \n",
       "18       1.541667  1188000     1.602083     1.542188    57.894870  ...   \n",
       "...           ...      ...          ...          ...          ...  ...   \n",
       "6151  3335.550049  3133800  3415.302002  3356.330029    51.820291  ...   \n",
       "6152  3320.370117  2226000  3390.028027  3363.737036    46.075539  ...   \n",
       "6153  3376.070068  2698300  3376.412061  3376.611035    61.695644  ...   \n",
       "6154  3392.489990  2702200  3371.898047  3387.432031    68.942496  ...   \n",
       "6155  3446.570068  5708700  3374.210058  3402.103027    86.638952  ...   \n",
       "\n",
       "            EMA12        EMA26       MACD    Momentum  Direction       RSI  \\\n",
       "14       1.550516     1.668338  -0.117822   78.723435          1  0.282646   \n",
       "15       1.566783     1.667443  -0.100660   95.783114          1  0.381194   \n",
       "16       1.585355     1.668929  -0.083574   98.780507          0  0.381194   \n",
       "17       1.585044     1.662588  -0.077545   96.815247          0  0.381194   \n",
       "18       1.578370     1.653631  -0.075261  108.029246          1  0.507614   \n",
       "...           ...          ...        ...         ...        ...       ...   \n",
       "6151  3363.883172  3356.629660   7.253513  104.569908          0  0.675676   \n",
       "6152  3357.188856  3353.943768   3.245089  103.085070          1  0.675676   \n",
       "6153  3360.093658  3355.582753   4.510905  103.496619          1  0.675676   \n",
       "6154  3365.077709  3358.316622   6.761087  102.727085          1  0.910010   \n",
       "6155  3377.614995  3364.853915  12.761081  104.802925          0  0.910010   \n",
       "\n",
       "             CCI         DI        ADX  Aroon  \n",
       "14    -41.627398   0.558137  50.226281  -20.0  \n",
       "15     92.673942   8.400292  43.640597  -20.0  \n",
       "16    153.386632  10.553252  30.868253  -20.0  \n",
       "17     91.852991   3.982389  24.801838  -20.0  \n",
       "18     33.856459   0.704759  24.430750  -20.0  \n",
       "...          ...        ...        ...    ...  \n",
       "6151   34.580127   0.129382  23.568887   40.0  \n",
       "6152  -15.740435  -0.538225  22.462941   40.0  \n",
       "6153   36.406218   0.884063  21.835137   40.0  \n",
       "6154   53.216142   1.180228  20.421165   40.0  \n",
       "6155   84.914831   2.448428  19.442353   40.0  \n",
       "\n",
       "[6142 rows x 26 columns]"
      ]
     },
     "execution_count": 35,
     "metadata": {},
     "output_type": "execute_result"
    }
   ],
   "source": [
    "complete_data"
   ]
  },
  {
   "cell_type": "code",
   "execution_count": 36,
   "metadata": {},
   "outputs": [],
   "source": [
    "#corrMatrix = complete_data.corr()\n",
    "#print(corrMatrix)"
   ]
  },
  {
   "cell_type": "code",
   "execution_count": 37,
   "metadata": {},
   "outputs": [],
   "source": [
    "#sn.heatmap(corrMatrix, annot=False)\n",
    "#plt.show()"
   ]
  },
  {
   "cell_type": "code",
   "execution_count": 38,
   "metadata": {},
   "outputs": [],
   "source": [
    "#corr_pairs = corrMatrix.unstack()\n",
    "#corr_pairs"
   ]
  },
  {
   "cell_type": "code",
   "execution_count": 39,
   "metadata": {},
   "outputs": [],
   "source": [
    "#sorted_pairs = corr_pairs.sort_values(kind=\"quicksort\")\n",
    "#sorted_pairs"
   ]
  },
  {
   "cell_type": "code",
   "execution_count": 40,
   "metadata": {},
   "outputs": [],
   "source": [
    "#strong_pairs = sorted_pairs[abs(sorted_pairs) > 0.5]\n",
    "\n",
    "#print(strong_pairs)"
   ]
  },
  {
   "cell_type": "code",
   "execution_count": 41,
   "metadata": {},
   "outputs": [],
   "source": [
    "## strong_pairs[strong_pairs.index[0][0] == strong_pairs.index[0][1]]\n",
    "\n",
    "#removed_diagonal = [(i, j) for (i, j) in strong_pairs.index if i!=j]\n",
    "#len(removed_diagonal)"
   ]
  },
  {
   "cell_type": "code",
   "execution_count": 42,
   "metadata": {
    "scrolled": false
   },
   "outputs": [],
   "source": [
    "## # Create correlation matrix\n",
    "## corr_matrix = complete_data.corr().abs()\n",
    "\n",
    "## # Select upper triangle of correlation matrix\n",
    "## upper = corr_matrix.where(np.triu(np.ones(corr_matrix.shape), k=1).astype(np.bool8))\n",
    "\n",
    "## # Find index of feature columns with correlation greater than 0.95\n",
    "## to_drop = [column for column in upper.columns if any(upper[column] > 0.95)]\n",
    "## to_drop"
   ]
  },
  {
   "cell_type": "code",
   "execution_count": 43,
   "metadata": {},
   "outputs": [],
   "source": [
    "## Find index of feature columns with correlation greater than 0.8\n",
    "\n",
    "#correlated_features = set()\n",
    "#for i in range(len(corrMatrix.columns)):\n",
    " #   for j in range(i):\n",
    "  #      if abs(corrMatrix.iloc[i, j]) > 0.8:\n",
    "   #         colname = corrMatrix.columns[i]\n",
    "    #        correlated_features.add(colname)"
   ]
  },
  {
   "cell_type": "code",
   "execution_count": 44,
   "metadata": {},
   "outputs": [],
   "source": [
    "#correlated_features"
   ]
  },
  {
   "cell_type": "code",
   "execution_count": 45,
   "metadata": {},
   "outputs": [],
   "source": [
    "#complete_data = complete_data.drop(labels=correlated_features, axis=1)"
   ]
  },
  {
   "cell_type": "code",
   "execution_count": 46,
   "metadata": {},
   "outputs": [],
   "source": [
    "#complete_data"
   ]
  },
  {
   "cell_type": "code",
   "execution_count": 47,
   "metadata": {
    "scrolled": false
   },
   "outputs": [
    {
     "data": {
      "text/html": [
       "<div>\n",
       "<style scoped>\n",
       "    .dataframe tbody tr th:only-of-type {\n",
       "        vertical-align: middle;\n",
       "    }\n",
       "\n",
       "    .dataframe tbody tr th {\n",
       "        vertical-align: top;\n",
       "    }\n",
       "\n",
       "    .dataframe thead th {\n",
       "        text-align: right;\n",
       "    }\n",
       "</style>\n",
       "<table border=\"1\" class=\"dataframe\">\n",
       "  <thead>\n",
       "    <tr style=\"text-align: right;\">\n",
       "      <th></th>\n",
       "      <th>Open</th>\n",
       "      <th>High</th>\n",
       "      <th>Low</th>\n",
       "      <th>Close</th>\n",
       "      <th>Adj Close</th>\n",
       "      <th>Volume</th>\n",
       "      <th>SMA5</th>\n",
       "      <th>SMA10</th>\n",
       "      <th>StochasticK</th>\n",
       "      <th>StochasticD</th>\n",
       "      <th>...</th>\n",
       "      <th>WMA10</th>\n",
       "      <th>EMA12</th>\n",
       "      <th>EMA26</th>\n",
       "      <th>MACD</th>\n",
       "      <th>Momentum</th>\n",
       "      <th>RSI</th>\n",
       "      <th>CCI</th>\n",
       "      <th>DI</th>\n",
       "      <th>ADX</th>\n",
       "      <th>Aroon</th>\n",
       "    </tr>\n",
       "  </thead>\n",
       "  <tbody>\n",
       "    <tr>\n",
       "      <th>14</th>\n",
       "      <td>1.416667</td>\n",
       "      <td>1.541667</td>\n",
       "      <td>1.375000</td>\n",
       "      <td>1.541667</td>\n",
       "      <td>1.541667</td>\n",
       "      <td>5672400</td>\n",
       "      <td>1.489584</td>\n",
       "      <td>1.496354</td>\n",
       "      <td>34.375033</td>\n",
       "      <td>21.573495</td>\n",
       "      <td>...</td>\n",
       "      <td>1.497633</td>\n",
       "      <td>1.550516</td>\n",
       "      <td>1.668338</td>\n",
       "      <td>-0.117822</td>\n",
       "      <td>78.723435</td>\n",
       "      <td>0.282646</td>\n",
       "      <td>-41.627398</td>\n",
       "      <td>0.558137</td>\n",
       "      <td>50.226281</td>\n",
       "      <td>-20.0</td>\n",
       "    </tr>\n",
       "    <tr>\n",
       "      <th>15</th>\n",
       "      <td>1.515625</td>\n",
       "      <td>1.708333</td>\n",
       "      <td>1.510417</td>\n",
       "      <td>1.656250</td>\n",
       "      <td>1.656250</td>\n",
       "      <td>7807200</td>\n",
       "      <td>1.520834</td>\n",
       "      <td>1.522396</td>\n",
       "      <td>75.000055</td>\n",
       "      <td>39.382348</td>\n",
       "      <td>...</td>\n",
       "      <td>1.526705</td>\n",
       "      <td>1.566783</td>\n",
       "      <td>1.667443</td>\n",
       "      <td>-0.100660</td>\n",
       "      <td>95.783114</td>\n",
       "      <td>0.381194</td>\n",
       "      <td>92.673942</td>\n",
       "      <td>8.400292</td>\n",
       "      <td>43.640597</td>\n",
       "      <td>-20.0</td>\n",
       "    </tr>\n",
       "    <tr>\n",
       "      <th>16</th>\n",
       "      <td>1.656250</td>\n",
       "      <td>1.708333</td>\n",
       "      <td>1.656250</td>\n",
       "      <td>1.687500</td>\n",
       "      <td>1.687500</td>\n",
       "      <td>2352000</td>\n",
       "      <td>1.556250</td>\n",
       "      <td>1.541146</td>\n",
       "      <td>85.714286</td>\n",
       "      <td>65.029791</td>\n",
       "      <td>...</td>\n",
       "      <td>1.556724</td>\n",
       "      <td>1.585355</td>\n",
       "      <td>1.668929</td>\n",
       "      <td>-0.083574</td>\n",
       "      <td>98.780507</td>\n",
       "      <td>0.381194</td>\n",
       "      <td>153.386632</td>\n",
       "      <td>10.553252</td>\n",
       "      <td>30.868253</td>\n",
       "      <td>-20.0</td>\n",
       "    </tr>\n",
       "    <tr>\n",
       "      <th>17</th>\n",
       "      <td>1.708333</td>\n",
       "      <td>1.708333</td>\n",
       "      <td>1.531250</td>\n",
       "      <td>1.583333</td>\n",
       "      <td>1.583333</td>\n",
       "      <td>5458800</td>\n",
       "      <td>1.577083</td>\n",
       "      <td>1.541146</td>\n",
       "      <td>68.421026</td>\n",
       "      <td>76.378455</td>\n",
       "      <td>...</td>\n",
       "      <td>1.564394</td>\n",
       "      <td>1.585044</td>\n",
       "      <td>1.662588</td>\n",
       "      <td>-0.077545</td>\n",
       "      <td>96.815247</td>\n",
       "      <td>0.381194</td>\n",
       "      <td>91.852991</td>\n",
       "      <td>3.982389</td>\n",
       "      <td>24.801838</td>\n",
       "      <td>-20.0</td>\n",
       "    </tr>\n",
       "    <tr>\n",
       "      <th>18</th>\n",
       "      <td>1.593750</td>\n",
       "      <td>1.604167</td>\n",
       "      <td>1.531250</td>\n",
       "      <td>1.541667</td>\n",
       "      <td>1.541667</td>\n",
       "      <td>1188000</td>\n",
       "      <td>1.602083</td>\n",
       "      <td>1.542188</td>\n",
       "      <td>57.894870</td>\n",
       "      <td>70.676727</td>\n",
       "      <td>...</td>\n",
       "      <td>1.564489</td>\n",
       "      <td>1.578370</td>\n",
       "      <td>1.653631</td>\n",
       "      <td>-0.075261</td>\n",
       "      <td>108.029246</td>\n",
       "      <td>0.507614</td>\n",
       "      <td>33.856459</td>\n",
       "      <td>0.704759</td>\n",
       "      <td>24.430750</td>\n",
       "      <td>-20.0</td>\n",
       "    </tr>\n",
       "    <tr>\n",
       "      <th>...</th>\n",
       "      <td>...</td>\n",
       "      <td>...</td>\n",
       "      <td>...</td>\n",
       "      <td>...</td>\n",
       "      <td>...</td>\n",
       "      <td>...</td>\n",
       "      <td>...</td>\n",
       "      <td>...</td>\n",
       "      <td>...</td>\n",
       "      <td>...</td>\n",
       "      <td>...</td>\n",
       "      <td>...</td>\n",
       "      <td>...</td>\n",
       "      <td>...</td>\n",
       "      <td>...</td>\n",
       "      <td>...</td>\n",
       "      <td>...</td>\n",
       "      <td>...</td>\n",
       "      <td>...</td>\n",
       "      <td>...</td>\n",
       "      <td>...</td>\n",
       "    </tr>\n",
       "    <tr>\n",
       "      <th>6151</th>\n",
       "      <td>3421.000000</td>\n",
       "      <td>3429.840088</td>\n",
       "      <td>3331.300049</td>\n",
       "      <td>3335.550049</td>\n",
       "      <td>3335.550049</td>\n",
       "      <td>3133800</td>\n",
       "      <td>3415.302002</td>\n",
       "      <td>3356.330029</td>\n",
       "      <td>51.820291</td>\n",
       "      <td>75.141833</td>\n",
       "      <td>...</td>\n",
       "      <td>3385.798202</td>\n",
       "      <td>3363.883172</td>\n",
       "      <td>3356.629660</td>\n",
       "      <td>7.253513</td>\n",
       "      <td>104.569908</td>\n",
       "      <td>0.675676</td>\n",
       "      <td>34.580127</td>\n",
       "      <td>0.129382</td>\n",
       "      <td>23.568887</td>\n",
       "      <td>40.0</td>\n",
       "    </tr>\n",
       "    <tr>\n",
       "      <th>6152</th>\n",
       "      <td>3335.000000</td>\n",
       "      <td>3347.800049</td>\n",
       "      <td>3297.699951</td>\n",
       "      <td>3320.370117</td>\n",
       "      <td>3320.370117</td>\n",
       "      <td>2226000</td>\n",
       "      <td>3390.028027</td>\n",
       "      <td>3363.737036</td>\n",
       "      <td>46.075539</td>\n",
       "      <td>62.726254</td>\n",
       "      <td>...</td>\n",
       "      <td>3379.260036</td>\n",
       "      <td>3357.188856</td>\n",
       "      <td>3353.943768</td>\n",
       "      <td>3.245089</td>\n",
       "      <td>103.085070</td>\n",
       "      <td>0.675676</td>\n",
       "      <td>-15.740435</td>\n",
       "      <td>-0.538225</td>\n",
       "      <td>22.462941</td>\n",
       "      <td>40.0</td>\n",
       "    </tr>\n",
       "    <tr>\n",
       "      <th>6153</th>\n",
       "      <td>3349.510010</td>\n",
       "      <td>3416.120117</td>\n",
       "      <td>3343.979980</td>\n",
       "      <td>3376.070068</td>\n",
       "      <td>3376.070068</td>\n",
       "      <td>2698300</td>\n",
       "      <td>3376.412061</td>\n",
       "      <td>3376.611035</td>\n",
       "      <td>61.695644</td>\n",
       "      <td>53.197158</td>\n",
       "      <td>...</td>\n",
       "      <td>3381.502406</td>\n",
       "      <td>3360.093658</td>\n",
       "      <td>3355.582753</td>\n",
       "      <td>4.510905</td>\n",
       "      <td>103.496619</td>\n",
       "      <td>0.675676</td>\n",
       "      <td>36.406218</td>\n",
       "      <td>0.884063</td>\n",
       "      <td>21.835137</td>\n",
       "      <td>40.0</td>\n",
       "    </tr>\n",
       "    <tr>\n",
       "      <th>6154</th>\n",
       "      <td>3388.000000</td>\n",
       "      <td>3437.000000</td>\n",
       "      <td>3371.449951</td>\n",
       "      <td>3392.489990</td>\n",
       "      <td>3392.489990</td>\n",
       "      <td>2702200</td>\n",
       "      <td>3371.898047</td>\n",
       "      <td>3387.432031</td>\n",
       "      <td>68.942496</td>\n",
       "      <td>58.904560</td>\n",
       "      <td>...</td>\n",
       "      <td>3384.389489</td>\n",
       "      <td>3365.077709</td>\n",
       "      <td>3358.316622</td>\n",
       "      <td>6.761087</td>\n",
       "      <td>102.727085</td>\n",
       "      <td>0.910010</td>\n",
       "      <td>53.216142</td>\n",
       "      <td>1.180228</td>\n",
       "      <td>20.421165</td>\n",
       "      <td>40.0</td>\n",
       "    </tr>\n",
       "    <tr>\n",
       "      <th>6155</th>\n",
       "      <td>3402.100098</td>\n",
       "      <td>3479.000000</td>\n",
       "      <td>3386.000000</td>\n",
       "      <td>3446.570068</td>\n",
       "      <td>3446.570068</td>\n",
       "      <td>5708700</td>\n",
       "      <td>3374.210058</td>\n",
       "      <td>3402.103027</td>\n",
       "      <td>86.638952</td>\n",
       "      <td>72.425697</td>\n",
       "      <td>...</td>\n",
       "      <td>3395.141859</td>\n",
       "      <td>3377.614995</td>\n",
       "      <td>3364.853915</td>\n",
       "      <td>12.761081</td>\n",
       "      <td>104.802925</td>\n",
       "      <td>0.910010</td>\n",
       "      <td>84.914831</td>\n",
       "      <td>2.448428</td>\n",
       "      <td>19.442353</td>\n",
       "      <td>40.0</td>\n",
       "    </tr>\n",
       "  </tbody>\n",
       "</table>\n",
       "<p>6142 rows × 24 columns</p>\n",
       "</div>"
      ],
      "text/plain": [
       "             Open         High          Low        Close    Adj Close  \\\n",
       "14       1.416667     1.541667     1.375000     1.541667     1.541667   \n",
       "15       1.515625     1.708333     1.510417     1.656250     1.656250   \n",
       "16       1.656250     1.708333     1.656250     1.687500     1.687500   \n",
       "17       1.708333     1.708333     1.531250     1.583333     1.583333   \n",
       "18       1.593750     1.604167     1.531250     1.541667     1.541667   \n",
       "...           ...          ...          ...          ...          ...   \n",
       "6151  3421.000000  3429.840088  3331.300049  3335.550049  3335.550049   \n",
       "6152  3335.000000  3347.800049  3297.699951  3320.370117  3320.370117   \n",
       "6153  3349.510010  3416.120117  3343.979980  3376.070068  3376.070068   \n",
       "6154  3388.000000  3437.000000  3371.449951  3392.489990  3392.489990   \n",
       "6155  3402.100098  3479.000000  3386.000000  3446.570068  3446.570068   \n",
       "\n",
       "       Volume         SMA5        SMA10  StochasticK  StochasticD  ...  \\\n",
       "14    5672400     1.489584     1.496354    34.375033    21.573495  ...   \n",
       "15    7807200     1.520834     1.522396    75.000055    39.382348  ...   \n",
       "16    2352000     1.556250     1.541146    85.714286    65.029791  ...   \n",
       "17    5458800     1.577083     1.541146    68.421026    76.378455  ...   \n",
       "18    1188000     1.602083     1.542188    57.894870    70.676727  ...   \n",
       "...       ...          ...          ...          ...          ...  ...   \n",
       "6151  3133800  3415.302002  3356.330029    51.820291    75.141833  ...   \n",
       "6152  2226000  3390.028027  3363.737036    46.075539    62.726254  ...   \n",
       "6153  2698300  3376.412061  3376.611035    61.695644    53.197158  ...   \n",
       "6154  2702200  3371.898047  3387.432031    68.942496    58.904560  ...   \n",
       "6155  5708700  3374.210058  3402.103027    86.638952    72.425697  ...   \n",
       "\n",
       "            WMA10        EMA12        EMA26       MACD    Momentum       RSI  \\\n",
       "14       1.497633     1.550516     1.668338  -0.117822   78.723435  0.282646   \n",
       "15       1.526705     1.566783     1.667443  -0.100660   95.783114  0.381194   \n",
       "16       1.556724     1.585355     1.668929  -0.083574   98.780507  0.381194   \n",
       "17       1.564394     1.585044     1.662588  -0.077545   96.815247  0.381194   \n",
       "18       1.564489     1.578370     1.653631  -0.075261  108.029246  0.507614   \n",
       "...           ...          ...          ...        ...         ...       ...   \n",
       "6151  3385.798202  3363.883172  3356.629660   7.253513  104.569908  0.675676   \n",
       "6152  3379.260036  3357.188856  3353.943768   3.245089  103.085070  0.675676   \n",
       "6153  3381.502406  3360.093658  3355.582753   4.510905  103.496619  0.675676   \n",
       "6154  3384.389489  3365.077709  3358.316622   6.761087  102.727085  0.910010   \n",
       "6155  3395.141859  3377.614995  3364.853915  12.761081  104.802925  0.910010   \n",
       "\n",
       "             CCI         DI        ADX  Aroon  \n",
       "14    -41.627398   0.558137  50.226281  -20.0  \n",
       "15     92.673942   8.400292  43.640597  -20.0  \n",
       "16    153.386632  10.553252  30.868253  -20.0  \n",
       "17     91.852991   3.982389  24.801838  -20.0  \n",
       "18     33.856459   0.704759  24.430750  -20.0  \n",
       "...          ...        ...        ...    ...  \n",
       "6151   34.580127   0.129382  23.568887   40.0  \n",
       "6152  -15.740435  -0.538225  22.462941   40.0  \n",
       "6153   36.406218   0.884063  21.835137   40.0  \n",
       "6154   53.216142   1.180228  20.421165   40.0  \n",
       "6155   84.914831   2.448428  19.442353   40.0  \n",
       "\n",
       "[6142 rows x 24 columns]"
      ]
     },
     "execution_count": 47,
     "metadata": {},
     "output_type": "execute_result"
    }
   ],
   "source": [
    "target = complete_data['Direction']\n",
    "complete_data = complete_data.drop(['Date', 'Direction'], axis=1)\n",
    "complete_data"
   ]
  },
  {
   "cell_type": "markdown",
   "metadata": {},
   "source": [
    "### autofeat Classification"
   ]
  },
  {
   "cell_type": "code",
   "execution_count": 48,
   "metadata": {},
   "outputs": [],
   "source": [
    "from sklearn.model_selection import train_test_split"
   ]
  },
  {
   "cell_type": "code",
   "execution_count": 49,
   "metadata": {},
   "outputs": [
    {
     "name": "stderr",
     "output_type": "stream",
     "text": [
      "C:\\Users\\rshay\\anaconda3\\lib\\site-packages\\numpy\\core\\_methods.py:205: RuntimeWarning: overflow encountered in multiply\n",
      "  x = um.multiply(x, x, out=x)\n"
     ]
    }
   ],
   "source": [
    "from autofeat import AutoFeatClassifier\n",
    "X_train, X_test, y_train, y_test = train_test_split(complete_data,target,test_size=0.3)\n",
    "model = AutoFeatClassifier()\n",
    "df = model.fit_transform(X_train, y_train)\n",
    "y_pred = model.predict(X_test)"
   ]
  },
  {
   "cell_type": "code",
   "execution_count": 50,
   "metadata": {},
   "outputs": [
    {
     "data": {
      "text/plain": [
       "0.5084102007596311"
      ]
     },
     "execution_count": 50,
     "metadata": {},
     "output_type": "execute_result"
    }
   ],
   "source": [
    "df_test = model.transform(X_test)\n",
    "model.score(df_test,y_test)"
   ]
  },
  {
   "cell_type": "code",
   "execution_count": 51,
   "metadata": {},
   "outputs": [
    {
     "data": {
      "text/html": [
       "<div>\n",
       "<style scoped>\n",
       "    .dataframe tbody tr th:only-of-type {\n",
       "        vertical-align: middle;\n",
       "    }\n",
       "\n",
       "    .dataframe tbody tr th {\n",
       "        vertical-align: top;\n",
       "    }\n",
       "\n",
       "    .dataframe thead th {\n",
       "        text-align: right;\n",
       "    }\n",
       "</style>\n",
       "<table border=\"1\" class=\"dataframe\">\n",
       "  <thead>\n",
       "    <tr style=\"text-align: right;\">\n",
       "      <th></th>\n",
       "      <th>Open</th>\n",
       "      <th>High</th>\n",
       "      <th>Low</th>\n",
       "      <th>Close</th>\n",
       "      <th>Adj Close</th>\n",
       "      <th>Volume</th>\n",
       "      <th>SMA5</th>\n",
       "      <th>SMA10</th>\n",
       "      <th>StochasticK</th>\n",
       "      <th>StochasticD</th>\n",
       "      <th>...</th>\n",
       "      <th>DI**3*log(RSI)</th>\n",
       "      <th>sqrt(EMA26)*ROC</th>\n",
       "      <th>PVT/StochasticD</th>\n",
       "      <th>RSI/ADX</th>\n",
       "      <th>SMA5/SMA10</th>\n",
       "      <th>Abs(CCI)/DI</th>\n",
       "      <th>MACD*ROC**3</th>\n",
       "      <th>exp(ROC)/Momentum</th>\n",
       "      <th>RSI*StochasticD**3</th>\n",
       "      <th>LarryWilliamsR**3/DI</th>\n",
       "    </tr>\n",
       "  </thead>\n",
       "  <tbody>\n",
       "    <tr>\n",
       "      <th>0</th>\n",
       "      <td>39.599998</td>\n",
       "      <td>39.619999</td>\n",
       "      <td>37.709999</td>\n",
       "      <td>38.939999</td>\n",
       "      <td>38.939999</td>\n",
       "      <td>9874100.0</td>\n",
       "      <td>38.628000</td>\n",
       "      <td>39.292000</td>\n",
       "      <td>46.666635</td>\n",
       "      <td>48.758603</td>\n",
       "      <td>...</td>\n",
       "      <td>0.009406</td>\n",
       "      <td>0.138432</td>\n",
       "      <td>-777.096138</td>\n",
       "      <td>0.050069</td>\n",
       "      <td>0.983101</td>\n",
       "      <td>-59.463225</td>\n",
       "      <td>0.000003</td>\n",
       "      <td>0.009800</td>\n",
       "      <td>105487.252619</td>\n",
       "      <td>-3.271172e+05</td>\n",
       "    </tr>\n",
       "    <tr>\n",
       "      <th>1</th>\n",
       "      <td>314.000000</td>\n",
       "      <td>316.500000</td>\n",
       "      <td>309.500000</td>\n",
       "      <td>311.730011</td>\n",
       "      <td>311.730011</td>\n",
       "      <td>7287500.0</td>\n",
       "      <td>321.096002</td>\n",
       "      <td>328.341998</td>\n",
       "      <td>4.507805</td>\n",
       "      <td>14.673513</td>\n",
       "      <td>...</td>\n",
       "      <td>400.367044</td>\n",
       "      <td>-1.706928</td>\n",
       "      <td>-8425.869319</td>\n",
       "      <td>0.006046</td>\n",
       "      <td>0.977932</td>\n",
       "      <td>-21.930971</td>\n",
       "      <td>0.009542</td>\n",
       "      <td>0.010292</td>\n",
       "      <td>643.458931</td>\n",
       "      <td>-1.379323e+05</td>\n",
       "    </tr>\n",
       "    <tr>\n",
       "      <th>2</th>\n",
       "      <td>64.160004</td>\n",
       "      <td>64.910004</td>\n",
       "      <td>61.520000</td>\n",
       "      <td>61.709999</td>\n",
       "      <td>61.709999</td>\n",
       "      <td>7336000.0</td>\n",
       "      <td>62.307999</td>\n",
       "      <td>63.312999</td>\n",
       "      <td>23.233679</td>\n",
       "      <td>43.951783</td>\n",
       "      <td>...</td>\n",
       "      <td>12.700205</td>\n",
       "      <td>0.082060</td>\n",
       "      <td>-5619.436498</td>\n",
       "      <td>0.019490</td>\n",
       "      <td>0.984126</td>\n",
       "      <td>-13.753787</td>\n",
       "      <td>0.000003</td>\n",
       "      <td>0.010015</td>\n",
       "      <td>43098.610325</td>\n",
       "      <td>-1.703435e+05</td>\n",
       "    </tr>\n",
       "    <tr>\n",
       "      <th>3</th>\n",
       "      <td>35.590000</td>\n",
       "      <td>35.770000</td>\n",
       "      <td>35.009998</td>\n",
       "      <td>35.549999</td>\n",
       "      <td>35.549999</td>\n",
       "      <td>12790500.0</td>\n",
       "      <td>36.120000</td>\n",
       "      <td>36.096000</td>\n",
       "      <td>14.099235</td>\n",
       "      <td>19.827287</td>\n",
       "      <td>...</td>\n",
       "      <td>15.237495</td>\n",
       "      <td>-0.464297</td>\n",
       "      <td>-4325.908926</td>\n",
       "      <td>0.023759</td>\n",
       "      <td>1.000665</td>\n",
       "      <td>-46.572552</td>\n",
       "      <td>0.000144</td>\n",
       "      <td>0.009578</td>\n",
       "      <td>2971.231041</td>\n",
       "      <td>-2.526073e+05</td>\n",
       "    </tr>\n",
       "    <tr>\n",
       "      <th>4</th>\n",
       "      <td>961.010010</td>\n",
       "      <td>965.609985</td>\n",
       "      <td>954.419983</td>\n",
       "      <td>955.099976</td>\n",
       "      <td>955.099976</td>\n",
       "      <td>2641800.0</td>\n",
       "      <td>967.402002</td>\n",
       "      <td>977.615002</td>\n",
       "      <td>1.491866</td>\n",
       "      <td>14.897200</td>\n",
       "      <td>...</td>\n",
       "      <td>8.603541</td>\n",
       "      <td>-0.409584</td>\n",
       "      <td>-1755.622249</td>\n",
       "      <td>0.025939</td>\n",
       "      <td>0.989553</td>\n",
       "      <td>-65.397976</td>\n",
       "      <td>0.000005</td>\n",
       "      <td>0.010109</td>\n",
       "      <td>1260.260797</td>\n",
       "      <td>-4.609104e+05</td>\n",
       "    </tr>\n",
       "    <tr>\n",
       "      <th>...</th>\n",
       "      <td>...</td>\n",
       "      <td>...</td>\n",
       "      <td>...</td>\n",
       "      <td>...</td>\n",
       "      <td>...</td>\n",
       "      <td>...</td>\n",
       "      <td>...</td>\n",
       "      <td>...</td>\n",
       "      <td>...</td>\n",
       "      <td>...</td>\n",
       "      <td>...</td>\n",
       "      <td>...</td>\n",
       "      <td>...</td>\n",
       "      <td>...</td>\n",
       "      <td>...</td>\n",
       "      <td>...</td>\n",
       "      <td>...</td>\n",
       "      <td>...</td>\n",
       "      <td>...</td>\n",
       "      <td>...</td>\n",
       "      <td>...</td>\n",
       "    </tr>\n",
       "    <tr>\n",
       "      <th>4294</th>\n",
       "      <td>41.500000</td>\n",
       "      <td>43.099998</td>\n",
       "      <td>41.500000</td>\n",
       "      <td>42.599998</td>\n",
       "      <td>42.599998</td>\n",
       "      <td>13556700.0</td>\n",
       "      <td>40.439999</td>\n",
       "      <td>39.356000</td>\n",
       "      <td>91.974317</td>\n",
       "      <td>96.129503</td>\n",
       "      <td>...</td>\n",
       "      <td>-76.116185</td>\n",
       "      <td>0.711929</td>\n",
       "      <td>3703.148056</td>\n",
       "      <td>0.023440</td>\n",
       "      <td>1.027543</td>\n",
       "      <td>24.245421</td>\n",
       "      <td>0.003276</td>\n",
       "      <td>0.010103</td>\n",
       "      <td>808381.382364</td>\n",
       "      <td>5.552096e+01</td>\n",
       "    </tr>\n",
       "    <tr>\n",
       "      <th>4295</th>\n",
       "      <td>1852.689941</td>\n",
       "      <td>1867.780029</td>\n",
       "      <td>1835.540039</td>\n",
       "      <td>1858.969971</td>\n",
       "      <td>1858.969971</td>\n",
       "      <td>3798200.0</td>\n",
       "      <td>1869.361987</td>\n",
       "      <td>1879.810998</td>\n",
       "      <td>29.074984</td>\n",
       "      <td>42.222197</td>\n",
       "      <td>...</td>\n",
       "      <td>10.525177</td>\n",
       "      <td>-0.953380</td>\n",
       "      <td>-482.758458</td>\n",
       "      <td>0.010070</td>\n",
       "      <td>0.994441</td>\n",
       "      <td>-44.573436</td>\n",
       "      <td>-0.000071</td>\n",
       "      <td>0.010138</td>\n",
       "      <td>15329.958696</td>\n",
       "      <td>-1.900656e+05</td>\n",
       "    </tr>\n",
       "    <tr>\n",
       "      <th>4296</th>\n",
       "      <td>32.639999</td>\n",
       "      <td>32.750000</td>\n",
       "      <td>32.200001</td>\n",
       "      <td>32.630001</td>\n",
       "      <td>32.630001</td>\n",
       "      <td>5192300.0</td>\n",
       "      <td>32.168000</td>\n",
       "      <td>31.226000</td>\n",
       "      <td>83.895118</td>\n",
       "      <td>87.335245</td>\n",
       "      <td>...</td>\n",
       "      <td>-124.963846</td>\n",
       "      <td>0.698937</td>\n",
       "      <td>54.716378</td>\n",
       "      <td>0.020311</td>\n",
       "      <td>1.030167</td>\n",
       "      <td>17.148756</td>\n",
       "      <td>0.003784</td>\n",
       "      <td>0.010105</td>\n",
       "      <td>450097.817546</td>\n",
       "      <td>6.114891e+02</td>\n",
       "    </tr>\n",
       "    <tr>\n",
       "      <th>4297</th>\n",
       "      <td>1926.310059</td>\n",
       "      <td>1957.000000</td>\n",
       "      <td>1820.729980</td>\n",
       "      <td>1846.089966</td>\n",
       "      <td>1846.089966</td>\n",
       "      <td>9817900.0</td>\n",
       "      <td>1810.802002</td>\n",
       "      <td>1802.890991</td>\n",
       "      <td>59.427486</td>\n",
       "      <td>61.115318</td>\n",
       "      <td>...</td>\n",
       "      <td>-0.047910</td>\n",
       "      <td>-2.852554</td>\n",
       "      <td>-2975.603949</td>\n",
       "      <td>0.017046</td>\n",
       "      <td>1.004388</td>\n",
       "      <td>87.235924</td>\n",
       "      <td>0.013216</td>\n",
       "      <td>0.009912</td>\n",
       "      <td>115873.466558</td>\n",
       "      <td>1.615488e+05</td>\n",
       "    </tr>\n",
       "    <tr>\n",
       "      <th>4298</th>\n",
       "      <td>173.720001</td>\n",
       "      <td>179.000000</td>\n",
       "      <td>173.589996</td>\n",
       "      <td>175.570007</td>\n",
       "      <td>175.570007</td>\n",
       "      <td>5810500.0</td>\n",
       "      <td>174.846002</td>\n",
       "      <td>175.755000</td>\n",
       "      <td>28.342983</td>\n",
       "      <td>35.880584</td>\n",
       "      <td>...</td>\n",
       "      <td>0.035581</td>\n",
       "      <td>-0.286640</td>\n",
       "      <td>1517.551588</td>\n",
       "      <td>0.013682</td>\n",
       "      <td>0.994828</td>\n",
       "      <td>-62.912979</td>\n",
       "      <td>-0.000026</td>\n",
       "      <td>0.009878</td>\n",
       "      <td>17608.608852</td>\n",
       "      <td>-1.105261e+06</td>\n",
       "    </tr>\n",
       "  </tbody>\n",
       "</table>\n",
       "<p>4299 rows × 40 columns</p>\n",
       "</div>"
      ],
      "text/plain": [
       "             Open         High          Low        Close    Adj Close  \\\n",
       "0       39.599998    39.619999    37.709999    38.939999    38.939999   \n",
       "1      314.000000   316.500000   309.500000   311.730011   311.730011   \n",
       "2       64.160004    64.910004    61.520000    61.709999    61.709999   \n",
       "3       35.590000    35.770000    35.009998    35.549999    35.549999   \n",
       "4      961.010010   965.609985   954.419983   955.099976   955.099976   \n",
       "...           ...          ...          ...          ...          ...   \n",
       "4294    41.500000    43.099998    41.500000    42.599998    42.599998   \n",
       "4295  1852.689941  1867.780029  1835.540039  1858.969971  1858.969971   \n",
       "4296    32.639999    32.750000    32.200001    32.630001    32.630001   \n",
       "4297  1926.310059  1957.000000  1820.729980  1846.089966  1846.089966   \n",
       "4298   173.720001   179.000000   173.589996   175.570007   175.570007   \n",
       "\n",
       "          Volume         SMA5        SMA10  StochasticK  StochasticD  ...  \\\n",
       "0      9874100.0    38.628000    39.292000    46.666635    48.758603  ...   \n",
       "1      7287500.0   321.096002   328.341998     4.507805    14.673513  ...   \n",
       "2      7336000.0    62.307999    63.312999    23.233679    43.951783  ...   \n",
       "3     12790500.0    36.120000    36.096000    14.099235    19.827287  ...   \n",
       "4      2641800.0   967.402002   977.615002     1.491866    14.897200  ...   \n",
       "...          ...          ...          ...          ...          ...  ...   \n",
       "4294  13556700.0    40.439999    39.356000    91.974317    96.129503  ...   \n",
       "4295   3798200.0  1869.361987  1879.810998    29.074984    42.222197  ...   \n",
       "4296   5192300.0    32.168000    31.226000    83.895118    87.335245  ...   \n",
       "4297   9817900.0  1810.802002  1802.890991    59.427486    61.115318  ...   \n",
       "4298   5810500.0   174.846002   175.755000    28.342983    35.880584  ...   \n",
       "\n",
       "      DI**3*log(RSI)  sqrt(EMA26)*ROC  PVT/StochasticD   RSI/ADX  SMA5/SMA10  \\\n",
       "0           0.009406         0.138432      -777.096138  0.050069    0.983101   \n",
       "1         400.367044        -1.706928     -8425.869319  0.006046    0.977932   \n",
       "2          12.700205         0.082060     -5619.436498  0.019490    0.984126   \n",
       "3          15.237495        -0.464297     -4325.908926  0.023759    1.000665   \n",
       "4           8.603541        -0.409584     -1755.622249  0.025939    0.989553   \n",
       "...              ...              ...              ...       ...         ...   \n",
       "4294      -76.116185         0.711929      3703.148056  0.023440    1.027543   \n",
       "4295       10.525177        -0.953380      -482.758458  0.010070    0.994441   \n",
       "4296     -124.963846         0.698937        54.716378  0.020311    1.030167   \n",
       "4297       -0.047910        -2.852554     -2975.603949  0.017046    1.004388   \n",
       "4298        0.035581        -0.286640      1517.551588  0.013682    0.994828   \n",
       "\n",
       "      Abs(CCI)/DI  MACD*ROC**3  exp(ROC)/Momentum  RSI*StochasticD**3  \\\n",
       "0      -59.463225     0.000003           0.009800       105487.252619   \n",
       "1      -21.930971     0.009542           0.010292          643.458931   \n",
       "2      -13.753787     0.000003           0.010015        43098.610325   \n",
       "3      -46.572552     0.000144           0.009578         2971.231041   \n",
       "4      -65.397976     0.000005           0.010109         1260.260797   \n",
       "...           ...          ...                ...                 ...   \n",
       "4294    24.245421     0.003276           0.010103       808381.382364   \n",
       "4295   -44.573436    -0.000071           0.010138        15329.958696   \n",
       "4296    17.148756     0.003784           0.010105       450097.817546   \n",
       "4297    87.235924     0.013216           0.009912       115873.466558   \n",
       "4298   -62.912979    -0.000026           0.009878        17608.608852   \n",
       "\n",
       "      LarryWilliamsR**3/DI  \n",
       "0            -3.271172e+05  \n",
       "1            -1.379323e+05  \n",
       "2            -1.703435e+05  \n",
       "3            -2.526073e+05  \n",
       "4            -4.609104e+05  \n",
       "...                    ...  \n",
       "4294          5.552096e+01  \n",
       "4295         -1.900656e+05  \n",
       "4296          6.114891e+02  \n",
       "4297          1.615488e+05  \n",
       "4298         -1.105261e+06  \n",
       "\n",
       "[4299 rows x 40 columns]"
      ]
     },
     "execution_count": 51,
     "metadata": {},
     "output_type": "execute_result"
    }
   ],
   "source": [
    "df"
   ]
  },
  {
   "cell_type": "code",
   "execution_count": 52,
   "metadata": {},
   "outputs": [
    {
     "data": {
      "text/html": [
       "<div>\n",
       "<style scoped>\n",
       "    .dataframe tbody tr th:only-of-type {\n",
       "        vertical-align: middle;\n",
       "    }\n",
       "\n",
       "    .dataframe tbody tr th {\n",
       "        vertical-align: top;\n",
       "    }\n",
       "\n",
       "    .dataframe thead th {\n",
       "        text-align: right;\n",
       "    }\n",
       "</style>\n",
       "<table border=\"1\" class=\"dataframe\">\n",
       "  <thead>\n",
       "    <tr style=\"text-align: right;\">\n",
       "      <th></th>\n",
       "      <th>Open</th>\n",
       "      <th>High</th>\n",
       "      <th>Low</th>\n",
       "      <th>Close</th>\n",
       "      <th>Adj Close</th>\n",
       "      <th>Volume</th>\n",
       "      <th>SMA5</th>\n",
       "      <th>SMA10</th>\n",
       "      <th>StochasticK</th>\n",
       "      <th>StochasticD</th>\n",
       "      <th>...</th>\n",
       "      <th>DI**3*log(RSI)</th>\n",
       "      <th>sqrt(EMA26)*ROC</th>\n",
       "      <th>PVT/StochasticD</th>\n",
       "      <th>RSI/ADX</th>\n",
       "      <th>SMA5/SMA10</th>\n",
       "      <th>Abs(CCI)/DI</th>\n",
       "      <th>MACD*ROC**3</th>\n",
       "      <th>exp(ROC)/Momentum</th>\n",
       "      <th>RSI*StochasticD**3</th>\n",
       "      <th>LarryWilliamsR**3/DI</th>\n",
       "    </tr>\n",
       "  </thead>\n",
       "  <tbody>\n",
       "    <tr>\n",
       "      <th>0</th>\n",
       "      <td>1.593750</td>\n",
       "      <td>1.604167</td>\n",
       "      <td>1.531250</td>\n",
       "      <td>1.541667</td>\n",
       "      <td>1.541667</td>\n",
       "      <td>1188000.0</td>\n",
       "      <td>1.602083</td>\n",
       "      <td>1.542188</td>\n",
       "      <td>57.894870</td>\n",
       "      <td>70.676727</td>\n",
       "      <td>...</td>\n",
       "      <td>-0.237341</td>\n",
       "      <td>0.035721</td>\n",
       "      <td>-442.333219</td>\n",
       "      <td>0.020778</td>\n",
       "      <td>1.038838</td>\n",
       "      <td>48.039771</td>\n",
       "      <td>-1.613140e-06</td>\n",
       "      <td>0.009517</td>\n",
       "      <td>1.792103e+05</td>\n",
       "      <td>105916.697897</td>\n",
       "    </tr>\n",
       "    <tr>\n",
       "      <th>1</th>\n",
       "      <td>14.310000</td>\n",
       "      <td>14.650000</td>\n",
       "      <td>13.720000</td>\n",
       "      <td>14.150000</td>\n",
       "      <td>14.150000</td>\n",
       "      <td>4489000.0</td>\n",
       "      <td>13.722000</td>\n",
       "      <td>12.981000</td>\n",
       "      <td>74.683544</td>\n",
       "      <td>67.562615</td>\n",
       "      <td>...</td>\n",
       "      <td>-281.338941</td>\n",
       "      <td>0.007974</td>\n",
       "      <td>-971.645866</td>\n",
       "      <td>0.023685</td>\n",
       "      <td>1.057083</td>\n",
       "      <td>10.576545</td>\n",
       "      <td>-4.257324e-09</td>\n",
       "      <td>0.010524</td>\n",
       "      <td>1.565500e+05</td>\n",
       "      <td>2175.450255</td>\n",
       "    </tr>\n",
       "    <tr>\n",
       "      <th>2</th>\n",
       "      <td>1.598958</td>\n",
       "      <td>1.916667</td>\n",
       "      <td>1.593750</td>\n",
       "      <td>1.911458</td>\n",
       "      <td>1.911458</td>\n",
       "      <td>12577200.0</td>\n",
       "      <td>1.609375</td>\n",
       "      <td>1.560417</td>\n",
       "      <td>98.809371</td>\n",
       "      <td>65.228143</td>\n",
       "      <td>...</td>\n",
       "      <td>-8578.997278</td>\n",
       "      <td>0.340760</td>\n",
       "      <td>39195.825164</td>\n",
       "      <td>0.025270</td>\n",
       "      <td>1.031375</td>\n",
       "      <td>16.603942</td>\n",
       "      <td>-3.688998e-05</td>\n",
       "      <td>0.010850</td>\n",
       "      <td>1.408766e+05</td>\n",
       "      <td>0.072433</td>\n",
       "    </tr>\n",
       "    <tr>\n",
       "      <th>3</th>\n",
       "      <td>65.000000</td>\n",
       "      <td>66.437500</td>\n",
       "      <td>60.000000</td>\n",
       "      <td>61.687500</td>\n",
       "      <td>61.687500</td>\n",
       "      <td>13777900.0</td>\n",
       "      <td>66.562500</td>\n",
       "      <td>65.481250</td>\n",
       "      <td>12.616822</td>\n",
       "      <td>33.489097</td>\n",
       "      <td>...</td>\n",
       "      <td>294.376803</td>\n",
       "      <td>-0.641821</td>\n",
       "      <td>-32267.804104</td>\n",
       "      <td>0.016714</td>\n",
       "      <td>1.016512</td>\n",
       "      <td>-20.468103</td>\n",
       "      <td>2.101693e-03</td>\n",
       "      <td>0.010453</td>\n",
       "      <td>1.061579e+04</td>\n",
       "      <td>-108437.903042</td>\n",
       "    </tr>\n",
       "    <tr>\n",
       "      <th>4</th>\n",
       "      <td>69.349998</td>\n",
       "      <td>69.629997</td>\n",
       "      <td>68.300003</td>\n",
       "      <td>68.660004</td>\n",
       "      <td>68.660004</td>\n",
       "      <td>7593500.0</td>\n",
       "      <td>69.220000</td>\n",
       "      <td>70.323000</td>\n",
       "      <td>5.607494</td>\n",
       "      <td>13.721014</td>\n",
       "      <td>...</td>\n",
       "      <td>37.565242</td>\n",
       "      <td>-0.388022</td>\n",
       "      <td>-1607.356660</td>\n",
       "      <td>0.006165</td>\n",
       "      <td>0.984315</td>\n",
       "      <td>-36.381773</td>\n",
       "      <td>-1.625359e-04</td>\n",
       "      <td>0.010235</td>\n",
       "      <td>7.301310e+02</td>\n",
       "      <td>-271487.157864</td>\n",
       "    </tr>\n",
       "    <tr>\n",
       "      <th>...</th>\n",
       "      <td>...</td>\n",
       "      <td>...</td>\n",
       "      <td>...</td>\n",
       "      <td>...</td>\n",
       "      <td>...</td>\n",
       "      <td>...</td>\n",
       "      <td>...</td>\n",
       "      <td>...</td>\n",
       "      <td>...</td>\n",
       "      <td>...</td>\n",
       "      <td>...</td>\n",
       "      <td>...</td>\n",
       "      <td>...</td>\n",
       "      <td>...</td>\n",
       "      <td>...</td>\n",
       "      <td>...</td>\n",
       "      <td>...</td>\n",
       "      <td>...</td>\n",
       "      <td>...</td>\n",
       "      <td>...</td>\n",
       "      <td>...</td>\n",
       "    </tr>\n",
       "    <tr>\n",
       "      <th>1838</th>\n",
       "      <td>383.500000</td>\n",
       "      <td>389.690002</td>\n",
       "      <td>381.489990</td>\n",
       "      <td>385.959991</td>\n",
       "      <td>385.959991</td>\n",
       "      <td>2355300.0</td>\n",
       "      <td>388.649994</td>\n",
       "      <td>380.506000</td>\n",
       "      <td>69.368083</td>\n",
       "      <td>76.636070</td>\n",
       "      <td>...</td>\n",
       "      <td>-5.969624</td>\n",
       "      <td>0.870758</td>\n",
       "      <td>103.866378</td>\n",
       "      <td>0.015408</td>\n",
       "      <td>1.021403</td>\n",
       "      <td>27.407646</td>\n",
       "      <td>1.187047e-03</td>\n",
       "      <td>0.009659</td>\n",
       "      <td>3.041151e+05</td>\n",
       "      <td>11596.254719</td>\n",
       "    </tr>\n",
       "    <tr>\n",
       "      <th>1839</th>\n",
       "      <td>362.619995</td>\n",
       "      <td>365.000000</td>\n",
       "      <td>358.649994</td>\n",
       "      <td>361.079987</td>\n",
       "      <td>361.079987</td>\n",
       "      <td>4502200.0</td>\n",
       "      <td>355.508002</td>\n",
       "      <td>340.298001</td>\n",
       "      <td>88.661699</td>\n",
       "      <td>88.586146</td>\n",
       "      <td>...</td>\n",
       "      <td>-277.522876</td>\n",
       "      <td>2.932695</td>\n",
       "      <td>-227.003797</td>\n",
       "      <td>0.019605</td>\n",
       "      <td>1.044696</td>\n",
       "      <td>13.321827</td>\n",
       "      <td>5.748979e-02</td>\n",
       "      <td>0.009939</td>\n",
       "      <td>4.697164e+05</td>\n",
       "      <td>163.551777</td>\n",
       "    </tr>\n",
       "    <tr>\n",
       "      <th>1840</th>\n",
       "      <td>51.299999</td>\n",
       "      <td>52.119999</td>\n",
       "      <td>51.099998</td>\n",
       "      <td>51.939999</td>\n",
       "      <td>51.939999</td>\n",
       "      <td>5994700.0</td>\n",
       "      <td>50.880000</td>\n",
       "      <td>48.905999</td>\n",
       "      <td>98.444252</td>\n",
       "      <td>97.108089</td>\n",
       "      <td>...</td>\n",
       "      <td>830.467812</td>\n",
       "      <td>1.825613</td>\n",
       "      <td>214.680557</td>\n",
       "      <td>0.067107</td>\n",
       "      <td>1.040363</td>\n",
       "      <td>8.384467</td>\n",
       "      <td>3.715026e-02</td>\n",
       "      <td>0.010563</td>\n",
       "      <td>1.681636e+06</td>\n",
       "      <td>0.339337</td>\n",
       "    </tr>\n",
       "    <tr>\n",
       "      <th>1841</th>\n",
       "      <td>3134.000000</td>\n",
       "      <td>3140.000000</td>\n",
       "      <td>3105.100098</td>\n",
       "      <td>3105.459961</td>\n",
       "      <td>3105.459961</td>\n",
       "      <td>2916800.0</td>\n",
       "      <td>3122.254004</td>\n",
       "      <td>3156.079004</td>\n",
       "      <td>37.280376</td>\n",
       "      <td>41.744237</td>\n",
       "      <td>...</td>\n",
       "      <td>0.330323</td>\n",
       "      <td>1.890330</td>\n",
       "      <td>-672.957137</td>\n",
       "      <td>0.059646</td>\n",
       "      <td>0.989283</td>\n",
       "      <td>-21.070020</td>\n",
       "      <td>-8.453815e-04</td>\n",
       "      <td>0.010693</td>\n",
       "      <td>4.915049e+04</td>\n",
       "      <td>-261221.244464</td>\n",
       "    </tr>\n",
       "    <tr>\n",
       "      <th>1842</th>\n",
       "      <td>47.570000</td>\n",
       "      <td>48.310001</td>\n",
       "      <td>47.279999</td>\n",
       "      <td>47.990002</td>\n",
       "      <td>47.990002</td>\n",
       "      <td>17869900.0</td>\n",
       "      <td>46.492001</td>\n",
       "      <td>44.320001</td>\n",
       "      <td>96.239731</td>\n",
       "      <td>98.579494</td>\n",
       "      <td>...</td>\n",
       "      <td>704.636815</td>\n",
       "      <td>1.023069</td>\n",
       "      <td>37.788717</td>\n",
       "      <td>0.093171</td>\n",
       "      <td>1.049007</td>\n",
       "      <td>13.506036</td>\n",
       "      <td>3.653939e-03</td>\n",
       "      <td>0.009820</td>\n",
       "      <td>1.759242e+06</td>\n",
       "      <td>5.061232</td>\n",
       "    </tr>\n",
       "  </tbody>\n",
       "</table>\n",
       "<p>1843 rows × 40 columns</p>\n",
       "</div>"
      ],
      "text/plain": [
       "             Open         High          Low        Close    Adj Close  \\\n",
       "0        1.593750     1.604167     1.531250     1.541667     1.541667   \n",
       "1       14.310000    14.650000    13.720000    14.150000    14.150000   \n",
       "2        1.598958     1.916667     1.593750     1.911458     1.911458   \n",
       "3       65.000000    66.437500    60.000000    61.687500    61.687500   \n",
       "4       69.349998    69.629997    68.300003    68.660004    68.660004   \n",
       "...           ...          ...          ...          ...          ...   \n",
       "1838   383.500000   389.690002   381.489990   385.959991   385.959991   \n",
       "1839   362.619995   365.000000   358.649994   361.079987   361.079987   \n",
       "1840    51.299999    52.119999    51.099998    51.939999    51.939999   \n",
       "1841  3134.000000  3140.000000  3105.100098  3105.459961  3105.459961   \n",
       "1842    47.570000    48.310001    47.279999    47.990002    47.990002   \n",
       "\n",
       "          Volume         SMA5        SMA10  StochasticK  StochasticD  ...  \\\n",
       "0      1188000.0     1.602083     1.542188    57.894870    70.676727  ...   \n",
       "1      4489000.0    13.722000    12.981000    74.683544    67.562615  ...   \n",
       "2     12577200.0     1.609375     1.560417    98.809371    65.228143  ...   \n",
       "3     13777900.0    66.562500    65.481250    12.616822    33.489097  ...   \n",
       "4      7593500.0    69.220000    70.323000     5.607494    13.721014  ...   \n",
       "...          ...          ...          ...          ...          ...  ...   \n",
       "1838   2355300.0   388.649994   380.506000    69.368083    76.636070  ...   \n",
       "1839   4502200.0   355.508002   340.298001    88.661699    88.586146  ...   \n",
       "1840   5994700.0    50.880000    48.905999    98.444252    97.108089  ...   \n",
       "1841   2916800.0  3122.254004  3156.079004    37.280376    41.744237  ...   \n",
       "1842  17869900.0    46.492001    44.320001    96.239731    98.579494  ...   \n",
       "\n",
       "      DI**3*log(RSI)  sqrt(EMA26)*ROC  PVT/StochasticD   RSI/ADX  SMA5/SMA10  \\\n",
       "0          -0.237341         0.035721      -442.333219  0.020778    1.038838   \n",
       "1        -281.338941         0.007974      -971.645866  0.023685    1.057083   \n",
       "2       -8578.997278         0.340760     39195.825164  0.025270    1.031375   \n",
       "3         294.376803        -0.641821    -32267.804104  0.016714    1.016512   \n",
       "4          37.565242        -0.388022     -1607.356660  0.006165    0.984315   \n",
       "...              ...              ...              ...       ...         ...   \n",
       "1838       -5.969624         0.870758       103.866378  0.015408    1.021403   \n",
       "1839     -277.522876         2.932695      -227.003797  0.019605    1.044696   \n",
       "1840      830.467812         1.825613       214.680557  0.067107    1.040363   \n",
       "1841        0.330323         1.890330      -672.957137  0.059646    0.989283   \n",
       "1842      704.636815         1.023069        37.788717  0.093171    1.049007   \n",
       "\n",
       "      Abs(CCI)/DI   MACD*ROC**3  exp(ROC)/Momentum  RSI*StochasticD**3  \\\n",
       "0       48.039771 -1.613140e-06           0.009517        1.792103e+05   \n",
       "1       10.576545 -4.257324e-09           0.010524        1.565500e+05   \n",
       "2       16.603942 -3.688998e-05           0.010850        1.408766e+05   \n",
       "3      -20.468103  2.101693e-03           0.010453        1.061579e+04   \n",
       "4      -36.381773 -1.625359e-04           0.010235        7.301310e+02   \n",
       "...           ...           ...                ...                 ...   \n",
       "1838    27.407646  1.187047e-03           0.009659        3.041151e+05   \n",
       "1839    13.321827  5.748979e-02           0.009939        4.697164e+05   \n",
       "1840     8.384467  3.715026e-02           0.010563        1.681636e+06   \n",
       "1841   -21.070020 -8.453815e-04           0.010693        4.915049e+04   \n",
       "1842    13.506036  3.653939e-03           0.009820        1.759242e+06   \n",
       "\n",
       "      LarryWilliamsR**3/DI  \n",
       "0            105916.697897  \n",
       "1              2175.450255  \n",
       "2                 0.072433  \n",
       "3           -108437.903042  \n",
       "4           -271487.157864  \n",
       "...                    ...  \n",
       "1838          11596.254719  \n",
       "1839            163.551777  \n",
       "1840              0.339337  \n",
       "1841        -261221.244464  \n",
       "1842              5.061232  \n",
       "\n",
       "[1843 rows x 40 columns]"
      ]
     },
     "execution_count": 52,
     "metadata": {},
     "output_type": "execute_result"
    }
   ],
   "source": [
    "df_test"
   ]
  },
  {
   "cell_type": "markdown",
   "metadata": {},
   "source": [
    "### Generate New Features Based on autofeat Results"
   ]
  },
  {
   "cell_type": "code",
   "execution_count": 53,
   "metadata": {},
   "outputs": [],
   "source": [
    "import math"
   ]
  },
  {
   "cell_type": "code",
   "execution_count": 54,
   "metadata": {},
   "outputs": [
    {
     "data": {
      "text/plain": [
       "Index(['Open', 'High', 'Low', 'Close', 'Adj Close', 'Volume', 'SMA5', 'SMA10',\n",
       "       'StochasticK', 'StochasticD', 'LarryWilliamsR', 'ROC', 'PVT', 'ADO',\n",
       "       'WMA10', 'EMA12', 'EMA26', 'MACD', 'Momentum', 'RSI', 'CCI', 'DI',\n",
       "       'ADX', 'Aroon', 'sqrt(StochasticK)/RSI', 'sqrt(RSI)/Momentum',\n",
       "       'sqrt(LarryWilliamsR)*RSI', 'ROC/MACD', 'log(RSI)/ADX', 'CCI**3*RSI**2',\n",
       "       'DI**3*log(RSI)', 'sqrt(EMA26)*ROC', 'PVT/StochasticD', 'RSI/ADX',\n",
       "       'SMA5/SMA10', 'Abs(CCI)/DI', 'MACD*ROC**3', 'exp(ROC)/Momentum',\n",
       "       'RSI*StochasticD**3', 'LarryWilliamsR**3/DI'],\n",
       "      dtype='object')"
      ]
     },
     "execution_count": 54,
     "metadata": {},
     "output_type": "execute_result"
    }
   ],
   "source": [
    "df_test.columns"
   ]
  },
  {
   "cell_type": "code",
   "execution_count": 55,
   "metadata": {},
   "outputs": [],
   "source": [
    "def sqrt_stochastic_k_rsi(stochastic_k, rsi):\n",
    "    return(np.sqrt(stochastic_k)/rsi)"
   ]
  },
  {
   "cell_type": "code",
   "execution_count": 56,
   "metadata": {},
   "outputs": [],
   "source": [
    "def sqrt_rsi_momentum(rsi, momentum):\n",
    "    return (np.sqrt(rsi)/momentum)"
   ]
  },
  {
   "cell_type": "code",
   "execution_count": 57,
   "metadata": {},
   "outputs": [],
   "source": [
    "def sqrt_lwr_rsi (larry_williams_r, rsi):\n",
    "    return (np.sqrt(larry_williams_r)*rsi)"
   ]
  },
  {
   "cell_type": "code",
   "execution_count": 58,
   "metadata": {},
   "outputs": [],
   "source": [
    "def roc_macd (roc, macd):\n",
    "    return (roc / macd)"
   ]
  },
  {
   "cell_type": "code",
   "execution_count": 59,
   "metadata": {},
   "outputs": [],
   "source": [
    "def log_rsi_adx (rsi, adx): \n",
    "    return (np.log(rsi)/adx)"
   ]
  },
  {
   "cell_type": "code",
   "execution_count": 60,
   "metadata": {},
   "outputs": [],
   "source": [
    "def cci_3_rsi_2 (cci, rsi):\n",
    "    return ((cci**3)*(rsi**2))"
   ]
  },
  {
   "cell_type": "code",
   "execution_count": 61,
   "metadata": {},
   "outputs": [],
   "source": [
    "def di_3_log_rsi (di, rsi):\n",
    "    return ((di**3)*(np.log(rsi)))"
   ]
  },
  {
   "cell_type": "code",
   "execution_count": 62,
   "metadata": {},
   "outputs": [],
   "source": [
    "def sqrt_ema26_roc (ema26, roc):\n",
    "    return ((np.sqrt(ema26))*roc)"
   ]
  },
  {
   "cell_type": "code",
   "execution_count": 63,
   "metadata": {},
   "outputs": [],
   "source": [
    "def pvt_stochastic_d (pvt, stochastic_d):\n",
    "    return (pvt / stochastic_d)"
   ]
  },
  {
   "cell_type": "code",
   "execution_count": 64,
   "metadata": {},
   "outputs": [],
   "source": [
    "def rsi_adx (rsi, adx):\n",
    "    return (rsi / adx)"
   ]
  },
  {
   "cell_type": "code",
   "execution_count": 65,
   "metadata": {},
   "outputs": [],
   "source": [
    "def sma5_sma10 (sma5, sma10):\n",
    "    return (sma5 / sma10)"
   ]
  },
  {
   "cell_type": "code",
   "execution_count": 66,
   "metadata": {},
   "outputs": [],
   "source": [
    "def abs_cci_di (cci, di):\n",
    "    return ((np.abs(cci))/di)"
   ]
  },
  {
   "cell_type": "code",
   "execution_count": 67,
   "metadata": {},
   "outputs": [],
   "source": [
    "def macd_roc_3 (macd, roc):\n",
    "    return (macd * (roc**3))"
   ]
  },
  {
   "cell_type": "code",
   "execution_count": 68,
   "metadata": {},
   "outputs": [],
   "source": [
    "def exp_roc_momentum (roc, momentum):\n",
    "    return ((np.exp(roc))/momentum)"
   ]
  },
  {
   "cell_type": "code",
   "execution_count": 69,
   "metadata": {},
   "outputs": [],
   "source": [
    "def rsi_stochastic_d_3 (rsi, stochastic_d):\n",
    "    return (rsi*(stochastic_d**3))"
   ]
  },
  {
   "cell_type": "code",
   "execution_count": 70,
   "metadata": {},
   "outputs": [],
   "source": [
    "def lwr_3_di (larrywilliamsr, di):\n",
    "    return ((larrywilliamsr**3)/di)"
   ]
  },
  {
   "cell_type": "code",
   "execution_count": 71,
   "metadata": {},
   "outputs": [],
   "source": [
    "def compute_adv_indicators(complete_data):\n",
    "    complete_data['SqrtStochasticK/RSI'] = sqrt_stochastic_k_rsi(complete_data['StochasticK'], complete_data['RSI'])\n",
    "    complete_data['SqrtRSI/Momentum'] = sqrt_rsi_momentum(complete_data['RSI'], complete_data['Momentum'])\n",
    "    complete_data['SqrtLarryWilliamsR*RSI'] = sqrt_lwr_rsi(complete_data['LarryWilliamsR'], complete_data['RSI'])\n",
    "    complete_data['ROC/MACD'] = roc_macd(complete_data['ROC'], complete_data['MACD'])\n",
    "    complete_data['log(RSI)/ADX'] = log_rsi_adx(complete_data['RSI'], complete_data['ADX'])\n",
    "    complete_data['CCI**3*RSI**2'] = cci_3_rsi_2(complete_data['CCI'], complete_data['RSI'])\n",
    "    complete_data['DI**3*log(RSI)'] = di_3_log_rsi(complete_data['DI'], complete_data['RSI'])\n",
    "    complete_data['sqrt(EMA26)*ROC'] = sqrt_ema26_roc(complete_data['EMA26'], complete_data['ROC'])\n",
    "    complete_data['PVT/StochasticD'] = pvt_stochastic_d(complete_data['PVT'], complete_data['StochasticD'])\n",
    "    complete_data['RSI/ADX'] = rsi_adx(complete_data['RSI'], complete_data['ADX'])\n",
    "    complete_data['SMA5/SMA10'] = sma5_sma10(complete_data['SMA5'], complete_data['SMA10'])\n",
    "    complete_data['Abs(CCI)/DI'] = abs_cci_di(complete_data['CCI'], complete_data['DI'])\n",
    "    complete_data['MACD*ROC**3'] = macd_roc_3(complete_data['MACD'], complete_data['ROC'])\n",
    "    complete_data['exp(ROC)/Momentum'] = exp_roc_momentum(complete_data['ROC'], complete_data['Momentum'])\n",
    "    complete_data['RSI*StochasticD**3'] = rsi_stochastic_d_3(complete_data['RSI'], complete_data['StochasticD'])\n",
    "    complete_data['LarryWilliamsR**3/DI'] = lwr_3_di(complete_data['LarryWilliamsR'], complete_data['DI'])\n",
    "    return complete_data"
   ]
  },
  {
   "cell_type": "code",
   "execution_count": 72,
   "metadata": {},
   "outputs": [
    {
     "data": {
      "text/html": [
       "<div>\n",
       "<style scoped>\n",
       "    .dataframe tbody tr th:only-of-type {\n",
       "        vertical-align: middle;\n",
       "    }\n",
       "\n",
       "    .dataframe tbody tr th {\n",
       "        vertical-align: top;\n",
       "    }\n",
       "\n",
       "    .dataframe thead th {\n",
       "        text-align: right;\n",
       "    }\n",
       "</style>\n",
       "<table border=\"1\" class=\"dataframe\">\n",
       "  <thead>\n",
       "    <tr style=\"text-align: right;\">\n",
       "      <th></th>\n",
       "      <th>Open</th>\n",
       "      <th>High</th>\n",
       "      <th>Low</th>\n",
       "      <th>Close</th>\n",
       "      <th>Adj Close</th>\n",
       "      <th>Volume</th>\n",
       "      <th>SMA5</th>\n",
       "      <th>SMA10</th>\n",
       "      <th>StochasticK</th>\n",
       "      <th>StochasticD</th>\n",
       "      <th>...</th>\n",
       "      <th>DI**3*log(RSI)</th>\n",
       "      <th>sqrt(EMA26)*ROC</th>\n",
       "      <th>PVT/StochasticD</th>\n",
       "      <th>RSI/ADX</th>\n",
       "      <th>SMA5/SMA10</th>\n",
       "      <th>Abs(CCI)/DI</th>\n",
       "      <th>MACD*ROC**3</th>\n",
       "      <th>exp(ROC)/Momentum</th>\n",
       "      <th>RSI*StochasticD**3</th>\n",
       "      <th>LarryWilliamsR**3/DI</th>\n",
       "    </tr>\n",
       "  </thead>\n",
       "  <tbody>\n",
       "    <tr>\n",
       "      <th>14</th>\n",
       "      <td>1.416667</td>\n",
       "      <td>1.541667</td>\n",
       "      <td>1.375000</td>\n",
       "      <td>1.541667</td>\n",
       "      <td>1.541667</td>\n",
       "      <td>5672400</td>\n",
       "      <td>1.489584</td>\n",
       "      <td>1.496354</td>\n",
       "      <td>34.375033</td>\n",
       "      <td>21.573495</td>\n",
       "      <td>...</td>\n",
       "      <td>-0.219695</td>\n",
       "      <td>-0.126013</td>\n",
       "      <td>23200.031167</td>\n",
       "      <td>0.005627</td>\n",
       "      <td>0.995475</td>\n",
       "      <td>74.582740</td>\n",
       "      <td>1.094086e-04</td>\n",
       "      <td>0.011522</td>\n",
       "      <td>2837.943324</td>\n",
       "      <td>506368.140652</td>\n",
       "    </tr>\n",
       "    <tr>\n",
       "      <th>15</th>\n",
       "      <td>1.515625</td>\n",
       "      <td>1.708333</td>\n",
       "      <td>1.510417</td>\n",
       "      <td>1.656250</td>\n",
       "      <td>1.656250</td>\n",
       "      <td>7807200</td>\n",
       "      <td>1.520834</td>\n",
       "      <td>1.522396</td>\n",
       "      <td>75.000055</td>\n",
       "      <td>39.382348</td>\n",
       "      <td>...</td>\n",
       "      <td>-571.690520</td>\n",
       "      <td>0.016449</td>\n",
       "      <td>14734.089628</td>\n",
       "      <td>0.008735</td>\n",
       "      <td>0.998974</td>\n",
       "      <td>11.032228</td>\n",
       "      <td>-2.080788e-07</td>\n",
       "      <td>0.010574</td>\n",
       "      <td>23283.665562</td>\n",
       "      <td>1860.042173</td>\n",
       "    </tr>\n",
       "    <tr>\n",
       "      <th>16</th>\n",
       "      <td>1.656250</td>\n",
       "      <td>1.708333</td>\n",
       "      <td>1.656250</td>\n",
       "      <td>1.687500</td>\n",
       "      <td>1.687500</td>\n",
       "      <td>2352000</td>\n",
       "      <td>1.556250</td>\n",
       "      <td>1.541146</td>\n",
       "      <td>85.714286</td>\n",
       "      <td>65.029791</td>\n",
       "      <td>...</td>\n",
       "      <td>-1133.539712</td>\n",
       "      <td>0.235743</td>\n",
       "      <td>682.415825</td>\n",
       "      <td>0.012349</td>\n",
       "      <td>1.009801</td>\n",
       "      <td>14.534537</td>\n",
       "      <td>-5.078456e-04</td>\n",
       "      <td>0.012150</td>\n",
       "      <td>104829.520071</td>\n",
       "      <td>276.260995</td>\n",
       "    </tr>\n",
       "    <tr>\n",
       "      <th>17</th>\n",
       "      <td>1.708333</td>\n",
       "      <td>1.708333</td>\n",
       "      <td>1.531250</td>\n",
       "      <td>1.583333</td>\n",
       "      <td>1.583333</td>\n",
       "      <td>5458800</td>\n",
       "      <td>1.577083</td>\n",
       "      <td>1.541146</td>\n",
       "      <td>68.421026</td>\n",
       "      <td>76.378455</td>\n",
       "      <td>...</td>\n",
       "      <td>-60.912828</td>\n",
       "      <td>0.173205</td>\n",
       "      <td>-4411.768205</td>\n",
       "      <td>0.015370</td>\n",
       "      <td>1.023319</td>\n",
       "      <td>23.064798</td>\n",
       "      <td>-1.879556e-04</td>\n",
       "      <td>0.011814</td>\n",
       "      <td>169847.491505</td>\n",
       "      <td>7907.703839</td>\n",
       "    </tr>\n",
       "    <tr>\n",
       "      <th>18</th>\n",
       "      <td>1.593750</td>\n",
       "      <td>1.604167</td>\n",
       "      <td>1.531250</td>\n",
       "      <td>1.541667</td>\n",
       "      <td>1.541667</td>\n",
       "      <td>1188000</td>\n",
       "      <td>1.602083</td>\n",
       "      <td>1.542188</td>\n",
       "      <td>57.894870</td>\n",
       "      <td>70.676727</td>\n",
       "      <td>...</td>\n",
       "      <td>-0.237341</td>\n",
       "      <td>0.035721</td>\n",
       "      <td>-442.333219</td>\n",
       "      <td>0.020778</td>\n",
       "      <td>1.038838</td>\n",
       "      <td>48.039771</td>\n",
       "      <td>-1.613140e-06</td>\n",
       "      <td>0.009517</td>\n",
       "      <td>179210.340654</td>\n",
       "      <td>105916.697897</td>\n",
       "    </tr>\n",
       "    <tr>\n",
       "      <th>...</th>\n",
       "      <td>...</td>\n",
       "      <td>...</td>\n",
       "      <td>...</td>\n",
       "      <td>...</td>\n",
       "      <td>...</td>\n",
       "      <td>...</td>\n",
       "      <td>...</td>\n",
       "      <td>...</td>\n",
       "      <td>...</td>\n",
       "      <td>...</td>\n",
       "      <td>...</td>\n",
       "      <td>...</td>\n",
       "      <td>...</td>\n",
       "      <td>...</td>\n",
       "      <td>...</td>\n",
       "      <td>...</td>\n",
       "      <td>...</td>\n",
       "      <td>...</td>\n",
       "      <td>...</td>\n",
       "      <td>...</td>\n",
       "      <td>...</td>\n",
       "    </tr>\n",
       "    <tr>\n",
       "      <th>6151</th>\n",
       "      <td>3421.000000</td>\n",
       "      <td>3429.840088</td>\n",
       "      <td>3331.300049</td>\n",
       "      <td>3335.550049</td>\n",
       "      <td>3335.550049</td>\n",
       "      <td>3133800</td>\n",
       "      <td>3415.302002</td>\n",
       "      <td>3356.330029</td>\n",
       "      <td>51.820291</td>\n",
       "      <td>75.141833</td>\n",
       "      <td>...</td>\n",
       "      <td>-0.000849</td>\n",
       "      <td>1.306142</td>\n",
       "      <td>-1207.562926</td>\n",
       "      <td>0.028668</td>\n",
       "      <td>1.017570</td>\n",
       "      <td>267.271614</td>\n",
       "      <td>8.311207e-05</td>\n",
       "      <td>0.009781</td>\n",
       "      <td>286670.915387</td>\n",
       "      <td>864407.979133</td>\n",
       "    </tr>\n",
       "    <tr>\n",
       "      <th>6152</th>\n",
       "      <td>3335.000000</td>\n",
       "      <td>3347.800049</td>\n",
       "      <td>3297.699951</td>\n",
       "      <td>3320.370117</td>\n",
       "      <td>3320.370117</td>\n",
       "      <td>2226000</td>\n",
       "      <td>3390.028027</td>\n",
       "      <td>3363.737036</td>\n",
       "      <td>46.075539</td>\n",
       "      <td>62.726254</td>\n",
       "      <td>...</td>\n",
       "      <td>0.061126</td>\n",
       "      <td>0.314609</td>\n",
       "      <td>-161.502099</td>\n",
       "      <td>0.030080</td>\n",
       "      <td>1.007816</td>\n",
       "      <td>-29.245076</td>\n",
       "      <td>5.202433e-07</td>\n",
       "      <td>0.009754</td>\n",
       "      <td>166757.873350</td>\n",
       "      <td>-291335.534547</td>\n",
       "    </tr>\n",
       "    <tr>\n",
       "      <th>6153</th>\n",
       "      <td>3349.510010</td>\n",
       "      <td>3416.120117</td>\n",
       "      <td>3343.979980</td>\n",
       "      <td>3376.070068</td>\n",
       "      <td>3376.070068</td>\n",
       "      <td>2698300</td>\n",
       "      <td>3376.412061</td>\n",
       "      <td>3376.611035</td>\n",
       "      <td>61.695644</td>\n",
       "      <td>53.197158</td>\n",
       "      <td>...</td>\n",
       "      <td>-0.270883</td>\n",
       "      <td>1.540387</td>\n",
       "      <td>850.883530</td>\n",
       "      <td>0.030944</td>\n",
       "      <td>0.999941</td>\n",
       "      <td>41.180577</td>\n",
       "      <td>8.482059e-05</td>\n",
       "      <td>0.009923</td>\n",
       "      <td>101719.351473</td>\n",
       "      <td>63571.338116</td>\n",
       "    </tr>\n",
       "    <tr>\n",
       "      <th>6154</th>\n",
       "      <td>3388.000000</td>\n",
       "      <td>3437.000000</td>\n",
       "      <td>3371.449951</td>\n",
       "      <td>3392.489990</td>\n",
       "      <td>3392.489990</td>\n",
       "      <td>2702200</td>\n",
       "      <td>3371.898047</td>\n",
       "      <td>3387.432031</td>\n",
       "      <td>68.942496</td>\n",
       "      <td>58.904560</td>\n",
       "      <td>...</td>\n",
       "      <td>-0.155027</td>\n",
       "      <td>2.609694</td>\n",
       "      <td>223.114715</td>\n",
       "      <td>0.044562</td>\n",
       "      <td>0.995414</td>\n",
       "      <td>45.089696</td>\n",
       "      <td>6.174517e-04</td>\n",
       "      <td>0.010183</td>\n",
       "      <td>185991.442155</td>\n",
       "      <td>25382.451951</td>\n",
       "    </tr>\n",
       "    <tr>\n",
       "      <th>6155</th>\n",
       "      <td>3402.100098</td>\n",
       "      <td>3479.000000</td>\n",
       "      <td>3386.000000</td>\n",
       "      <td>3446.570068</td>\n",
       "      <td>3446.570068</td>\n",
       "      <td>5708700</td>\n",
       "      <td>3374.210058</td>\n",
       "      <td>3402.103027</td>\n",
       "      <td>86.638952</td>\n",
       "      <td>72.425697</td>\n",
       "      <td>...</td>\n",
       "      <td>-1.384114</td>\n",
       "      <td>3.559043</td>\n",
       "      <td>1256.502247</td>\n",
       "      <td>0.046806</td>\n",
       "      <td>0.991801</td>\n",
       "      <td>34.681362</td>\n",
       "      <td>2.947390e-03</td>\n",
       "      <td>0.010145</td>\n",
       "      <td>345719.817370</td>\n",
       "      <td>974.168692</td>\n",
       "    </tr>\n",
       "  </tbody>\n",
       "</table>\n",
       "<p>6142 rows × 40 columns</p>\n",
       "</div>"
      ],
      "text/plain": [
       "             Open         High          Low        Close    Adj Close  \\\n",
       "14       1.416667     1.541667     1.375000     1.541667     1.541667   \n",
       "15       1.515625     1.708333     1.510417     1.656250     1.656250   \n",
       "16       1.656250     1.708333     1.656250     1.687500     1.687500   \n",
       "17       1.708333     1.708333     1.531250     1.583333     1.583333   \n",
       "18       1.593750     1.604167     1.531250     1.541667     1.541667   \n",
       "...           ...          ...          ...          ...          ...   \n",
       "6151  3421.000000  3429.840088  3331.300049  3335.550049  3335.550049   \n",
       "6152  3335.000000  3347.800049  3297.699951  3320.370117  3320.370117   \n",
       "6153  3349.510010  3416.120117  3343.979980  3376.070068  3376.070068   \n",
       "6154  3388.000000  3437.000000  3371.449951  3392.489990  3392.489990   \n",
       "6155  3402.100098  3479.000000  3386.000000  3446.570068  3446.570068   \n",
       "\n",
       "       Volume         SMA5        SMA10  StochasticK  StochasticD  ...  \\\n",
       "14    5672400     1.489584     1.496354    34.375033    21.573495  ...   \n",
       "15    7807200     1.520834     1.522396    75.000055    39.382348  ...   \n",
       "16    2352000     1.556250     1.541146    85.714286    65.029791  ...   \n",
       "17    5458800     1.577083     1.541146    68.421026    76.378455  ...   \n",
       "18    1188000     1.602083     1.542188    57.894870    70.676727  ...   \n",
       "...       ...          ...          ...          ...          ...  ...   \n",
       "6151  3133800  3415.302002  3356.330029    51.820291    75.141833  ...   \n",
       "6152  2226000  3390.028027  3363.737036    46.075539    62.726254  ...   \n",
       "6153  2698300  3376.412061  3376.611035    61.695644    53.197158  ...   \n",
       "6154  2702200  3371.898047  3387.432031    68.942496    58.904560  ...   \n",
       "6155  5708700  3374.210058  3402.103027    86.638952    72.425697  ...   \n",
       "\n",
       "      DI**3*log(RSI)  sqrt(EMA26)*ROC  PVT/StochasticD   RSI/ADX  SMA5/SMA10  \\\n",
       "14         -0.219695        -0.126013     23200.031167  0.005627    0.995475   \n",
       "15       -571.690520         0.016449     14734.089628  0.008735    0.998974   \n",
       "16      -1133.539712         0.235743       682.415825  0.012349    1.009801   \n",
       "17        -60.912828         0.173205     -4411.768205  0.015370    1.023319   \n",
       "18         -0.237341         0.035721      -442.333219  0.020778    1.038838   \n",
       "...              ...              ...              ...       ...         ...   \n",
       "6151       -0.000849         1.306142     -1207.562926  0.028668    1.017570   \n",
       "6152        0.061126         0.314609      -161.502099  0.030080    1.007816   \n",
       "6153       -0.270883         1.540387       850.883530  0.030944    0.999941   \n",
       "6154       -0.155027         2.609694       223.114715  0.044562    0.995414   \n",
       "6155       -1.384114         3.559043      1256.502247  0.046806    0.991801   \n",
       "\n",
       "      Abs(CCI)/DI   MACD*ROC**3  exp(ROC)/Momentum  RSI*StochasticD**3  \\\n",
       "14      74.582740  1.094086e-04           0.011522         2837.943324   \n",
       "15      11.032228 -2.080788e-07           0.010574        23283.665562   \n",
       "16      14.534537 -5.078456e-04           0.012150       104829.520071   \n",
       "17      23.064798 -1.879556e-04           0.011814       169847.491505   \n",
       "18      48.039771 -1.613140e-06           0.009517       179210.340654   \n",
       "...           ...           ...                ...                 ...   \n",
       "6151   267.271614  8.311207e-05           0.009781       286670.915387   \n",
       "6152   -29.245076  5.202433e-07           0.009754       166757.873350   \n",
       "6153    41.180577  8.482059e-05           0.009923       101719.351473   \n",
       "6154    45.089696  6.174517e-04           0.010183       185991.442155   \n",
       "6155    34.681362  2.947390e-03           0.010145       345719.817370   \n",
       "\n",
       "      LarryWilliamsR**3/DI  \n",
       "14           506368.140652  \n",
       "15             1860.042173  \n",
       "16              276.260995  \n",
       "17             7907.703839  \n",
       "18           105916.697897  \n",
       "...                    ...  \n",
       "6151         864407.979133  \n",
       "6152        -291335.534547  \n",
       "6153          63571.338116  \n",
       "6154          25382.451951  \n",
       "6155            974.168692  \n",
       "\n",
       "[6142 rows x 40 columns]"
      ]
     },
     "execution_count": 72,
     "metadata": {},
     "output_type": "execute_result"
    }
   ],
   "source": [
    "enhanced_data = compute_adv_indicators(complete_data)\n",
    "enhanced_data"
   ]
  },
  {
   "cell_type": "markdown",
   "metadata": {},
   "source": [
    "### autofeat Feature Selection"
   ]
  },
  {
   "cell_type": "code",
   "execution_count": 73,
   "metadata": {},
   "outputs": [
    {
     "name": "stderr",
     "output_type": "stream",
     "text": [
      "C:\\Users\\rshay\\anaconda3\\lib\\site-packages\\sklearn\\utils\\validation.py:72: DataConversionWarning: A column-vector y was passed when a 1d array was expected. Please change the shape of y to (n_samples, ), for example using ravel().\n",
      "  return f(**kwargs)\n"
     ]
    },
    {
     "name": "stdout",
     "output_type": "stream",
     "text": [
      "[featsel] Scaling data...done.\n",
      "[featsel] Feature selection run 1/5\n",
      "[featsel] Feature selection run 2/5\n",
      "[featsel] Feature selection run 3/5\n",
      "[featsel] Feature selection run 4/5\n",
      "[featsel] Feature selection run 5/5\n",
      "[featsel] 19 features after 5 feature selection runs\n",
      "[featsel] 19 features after correlation filtering\n",
      "[featsel] 16 features after noise filtering\n"
     ]
    }
   ],
   "source": [
    "from autofeat import FeatureSelector\n",
    "fsel = FeatureSelector(verbose=1)\n",
    "selected_data = fsel.fit_transform(pd.DataFrame(enhanced_data), pd.DataFrame(target))"
   ]
  },
  {
   "cell_type": "code",
   "execution_count": 74,
   "metadata": {},
   "outputs": [
    {
     "data": {
      "text/html": [
       "<div>\n",
       "<style scoped>\n",
       "    .dataframe tbody tr th:only-of-type {\n",
       "        vertical-align: middle;\n",
       "    }\n",
       "\n",
       "    .dataframe tbody tr th {\n",
       "        vertical-align: top;\n",
       "    }\n",
       "\n",
       "    .dataframe thead th {\n",
       "        text-align: right;\n",
       "    }\n",
       "</style>\n",
       "<table border=\"1\" class=\"dataframe\">\n",
       "  <thead>\n",
       "    <tr style=\"text-align: right;\">\n",
       "      <th></th>\n",
       "      <th>Aroon</th>\n",
       "      <th>RSI/ADX</th>\n",
       "      <th>SMA5/SMA10</th>\n",
       "      <th>log(RSI)/ADX</th>\n",
       "      <th>CCI**3*RSI**2</th>\n",
       "      <th>sqrt(EMA26)*ROC</th>\n",
       "      <th>SqrtRSI/Momentum</th>\n",
       "      <th>exp(ROC)/Momentum</th>\n",
       "      <th>RSI*StochasticD**3</th>\n",
       "      <th>SqrtStochasticK/RSI</th>\n",
       "      <th>SqrtLarryWilliamsR*RSI</th>\n",
       "      <th>DI</th>\n",
       "      <th>ROC/MACD</th>\n",
       "      <th>DI**3*log(RSI)</th>\n",
       "      <th>LarryWilliamsR**3/DI</th>\n",
       "      <th>StochasticD</th>\n",
       "    </tr>\n",
       "  </thead>\n",
       "  <tbody>\n",
       "    <tr>\n",
       "      <th>0</th>\n",
       "      <td>-20.0</td>\n",
       "      <td>0.005627</td>\n",
       "      <td>0.995475</td>\n",
       "      <td>-0.025157</td>\n",
       "      <td>-5762.648442</td>\n",
       "      <td>-0.126013</td>\n",
       "      <td>0.006753</td>\n",
       "      <td>0.011522</td>\n",
       "      <td>2837.943324</td>\n",
       "      <td>20.743374</td>\n",
       "      <td>2.289690</td>\n",
       "      <td>0.558137</td>\n",
       "      <td>0.828031</td>\n",
       "      <td>-0.219695</td>\n",
       "      <td>506368.140652</td>\n",
       "      <td>21.573495</td>\n",
       "    </tr>\n",
       "    <tr>\n",
       "      <th>1</th>\n",
       "      <td>-20.0</td>\n",
       "      <td>0.008735</td>\n",
       "      <td>0.998974</td>\n",
       "      <td>-0.022100</td>\n",
       "      <td>115655.410942</td>\n",
       "      <td>0.016449</td>\n",
       "      <td>0.006446</td>\n",
       "      <td>0.010574</td>\n",
       "      <td>23283.665562</td>\n",
       "      <td>22.718741</td>\n",
       "      <td>1.905970</td>\n",
       "      <td>8.400292</td>\n",
       "      <td>-0.126551</td>\n",
       "      <td>-571.690520</td>\n",
       "      <td>1860.042173</td>\n",
       "      <td>39.382348</td>\n",
       "    </tr>\n",
       "    <tr>\n",
       "      <th>2</th>\n",
       "      <td>-20.0</td>\n",
       "      <td>0.012349</td>\n",
       "      <td>1.009801</td>\n",
       "      <td>-0.031244</td>\n",
       "      <td>524391.418850</td>\n",
       "      <td>0.235743</td>\n",
       "      <td>0.006250</td>\n",
       "      <td>0.012150</td>\n",
       "      <td>104829.520071</td>\n",
       "      <td>24.287347</td>\n",
       "      <td>1.440779</td>\n",
       "      <td>10.553252</td>\n",
       "      <td>-2.183477</td>\n",
       "      <td>-1133.539712</td>\n",
       "      <td>276.260995</td>\n",
       "      <td>65.029791</td>\n",
       "    </tr>\n",
       "    <tr>\n",
       "      <th>3</th>\n",
       "      <td>-20.0</td>\n",
       "      <td>0.015370</td>\n",
       "      <td>1.023319</td>\n",
       "      <td>-0.038886</td>\n",
       "      <td>112608.959634</td>\n",
       "      <td>0.173205</td>\n",
       "      <td>0.006377</td>\n",
       "      <td>0.011814</td>\n",
       "      <td>169847.491505</td>\n",
       "      <td>21.699427</td>\n",
       "      <td>2.142129</td>\n",
       "      <td>3.982389</td>\n",
       "      <td>-1.732272</td>\n",
       "      <td>-60.912828</td>\n",
       "      <td>7907.703839</td>\n",
       "      <td>76.378455</td>\n",
       "    </tr>\n",
       "    <tr>\n",
       "      <th>4</th>\n",
       "      <td>-20.0</td>\n",
       "      <td>0.020778</td>\n",
       "      <td>1.038838</td>\n",
       "      <td>-0.027753</td>\n",
       "      <td>9999.819625</td>\n",
       "      <td>0.035721</td>\n",
       "      <td>0.006595</td>\n",
       "      <td>0.009517</td>\n",
       "      <td>179210.340654</td>\n",
       "      <td>14.989470</td>\n",
       "      <td>3.293831</td>\n",
       "      <td>0.704759</td>\n",
       "      <td>-0.369090</td>\n",
       "      <td>-0.237341</td>\n",
       "      <td>105916.697897</td>\n",
       "      <td>70.676727</td>\n",
       "    </tr>\n",
       "    <tr>\n",
       "      <th>...</th>\n",
       "      <td>...</td>\n",
       "      <td>...</td>\n",
       "      <td>...</td>\n",
       "      <td>...</td>\n",
       "      <td>...</td>\n",
       "      <td>...</td>\n",
       "      <td>...</td>\n",
       "      <td>...</td>\n",
       "      <td>...</td>\n",
       "      <td>...</td>\n",
       "      <td>...</td>\n",
       "      <td>...</td>\n",
       "      <td>...</td>\n",
       "      <td>...</td>\n",
       "      <td>...</td>\n",
       "      <td>...</td>\n",
       "    </tr>\n",
       "    <tr>\n",
       "      <th>6137</th>\n",
       "      <td>40.0</td>\n",
       "      <td>0.028668</td>\n",
       "      <td>1.017570</td>\n",
       "      <td>-0.016634</td>\n",
       "      <td>18878.014771</td>\n",
       "      <td>1.306142</td>\n",
       "      <td>0.007861</td>\n",
       "      <td>0.009781</td>\n",
       "      <td>286670.915387</td>\n",
       "      <td>10.653974</td>\n",
       "      <td>4.689973</td>\n",
       "      <td>0.129382</td>\n",
       "      <td>0.003108</td>\n",
       "      <td>-0.000849</td>\n",
       "      <td>864407.979133</td>\n",
       "      <td>75.141833</td>\n",
       "    </tr>\n",
       "    <tr>\n",
       "      <th>6138</th>\n",
       "      <td>40.0</td>\n",
       "      <td>0.030080</td>\n",
       "      <td>1.007816</td>\n",
       "      <td>-0.017453</td>\n",
       "      <td>-1780.437540</td>\n",
       "      <td>0.314609</td>\n",
       "      <td>0.007974</td>\n",
       "      <td>0.009754</td>\n",
       "      <td>166757.873350</td>\n",
       "      <td>10.046087</td>\n",
       "      <td>4.961708</td>\n",
       "      <td>-0.538225</td>\n",
       "      <td>0.001674</td>\n",
       "      <td>0.061126</td>\n",
       "      <td>-291335.534547</td>\n",
       "      <td>62.726254</td>\n",
       "    </tr>\n",
       "    <tr>\n",
       "      <th>6139</th>\n",
       "      <td>40.0</td>\n",
       "      <td>0.030944</td>\n",
       "      <td>0.999941</td>\n",
       "      <td>-0.017955</td>\n",
       "      <td>22029.429739</td>\n",
       "      <td>1.540387</td>\n",
       "      <td>0.007942</td>\n",
       "      <td>0.009923</td>\n",
       "      <td>101719.351473</td>\n",
       "      <td>11.624893</td>\n",
       "      <td>4.181791</td>\n",
       "      <td>0.884063</td>\n",
       "      <td>0.005895</td>\n",
       "      <td>-0.270883</td>\n",
       "      <td>63571.338116</td>\n",
       "      <td>53.197158</td>\n",
       "    </tr>\n",
       "    <tr>\n",
       "      <th>6140</th>\n",
       "      <td>40.0</td>\n",
       "      <td>0.044562</td>\n",
       "      <td>0.995414</td>\n",
       "      <td>-0.004618</td>\n",
       "      <td>124802.300702</td>\n",
       "      <td>2.609694</td>\n",
       "      <td>0.009286</td>\n",
       "      <td>0.010183</td>\n",
       "      <td>185991.442155</td>\n",
       "      <td>9.124252</td>\n",
       "      <td>5.071419</td>\n",
       "      <td>1.180228</td>\n",
       "      <td>0.006661</td>\n",
       "      <td>-0.155027</td>\n",
       "      <td>25382.451951</td>\n",
       "      <td>58.904560</td>\n",
       "    </tr>\n",
       "    <tr>\n",
       "      <th>6141</th>\n",
       "      <td>40.0</td>\n",
       "      <td>0.046806</td>\n",
       "      <td>0.991801</td>\n",
       "      <td>-0.004850</td>\n",
       "      <td>507041.010254</td>\n",
       "      <td>3.559043</td>\n",
       "      <td>0.009102</td>\n",
       "      <td>0.010145</td>\n",
       "      <td>345719.817370</td>\n",
       "      <td>10.228463</td>\n",
       "      <td>3.326339</td>\n",
       "      <td>2.448428</td>\n",
       "      <td>0.004808</td>\n",
       "      <td>-1.384114</td>\n",
       "      <td>974.168692</td>\n",
       "      <td>72.425697</td>\n",
       "    </tr>\n",
       "  </tbody>\n",
       "</table>\n",
       "<p>6142 rows × 16 columns</p>\n",
       "</div>"
      ],
      "text/plain": [
       "      Aroon   RSI/ADX  SMA5/SMA10  log(RSI)/ADX  CCI**3*RSI**2  \\\n",
       "0     -20.0  0.005627    0.995475     -0.025157   -5762.648442   \n",
       "1     -20.0  0.008735    0.998974     -0.022100  115655.410942   \n",
       "2     -20.0  0.012349    1.009801     -0.031244  524391.418850   \n",
       "3     -20.0  0.015370    1.023319     -0.038886  112608.959634   \n",
       "4     -20.0  0.020778    1.038838     -0.027753    9999.819625   \n",
       "...     ...       ...         ...           ...            ...   \n",
       "6137   40.0  0.028668    1.017570     -0.016634   18878.014771   \n",
       "6138   40.0  0.030080    1.007816     -0.017453   -1780.437540   \n",
       "6139   40.0  0.030944    0.999941     -0.017955   22029.429739   \n",
       "6140   40.0  0.044562    0.995414     -0.004618  124802.300702   \n",
       "6141   40.0  0.046806    0.991801     -0.004850  507041.010254   \n",
       "\n",
       "      sqrt(EMA26)*ROC  SqrtRSI/Momentum  exp(ROC)/Momentum  \\\n",
       "0           -0.126013          0.006753           0.011522   \n",
       "1            0.016449          0.006446           0.010574   \n",
       "2            0.235743          0.006250           0.012150   \n",
       "3            0.173205          0.006377           0.011814   \n",
       "4            0.035721          0.006595           0.009517   \n",
       "...               ...               ...                ...   \n",
       "6137         1.306142          0.007861           0.009781   \n",
       "6138         0.314609          0.007974           0.009754   \n",
       "6139         1.540387          0.007942           0.009923   \n",
       "6140         2.609694          0.009286           0.010183   \n",
       "6141         3.559043          0.009102           0.010145   \n",
       "\n",
       "      RSI*StochasticD**3  SqrtStochasticK/RSI  SqrtLarryWilliamsR*RSI  \\\n",
       "0            2837.943324            20.743374                2.289690   \n",
       "1           23283.665562            22.718741                1.905970   \n",
       "2          104829.520071            24.287347                1.440779   \n",
       "3          169847.491505            21.699427                2.142129   \n",
       "4          179210.340654            14.989470                3.293831   \n",
       "...                  ...                  ...                     ...   \n",
       "6137       286670.915387            10.653974                4.689973   \n",
       "6138       166757.873350            10.046087                4.961708   \n",
       "6139       101719.351473            11.624893                4.181791   \n",
       "6140       185991.442155             9.124252                5.071419   \n",
       "6141       345719.817370            10.228463                3.326339   \n",
       "\n",
       "             DI  ROC/MACD  DI**3*log(RSI)  LarryWilliamsR**3/DI  StochasticD  \n",
       "0      0.558137  0.828031       -0.219695         506368.140652    21.573495  \n",
       "1      8.400292 -0.126551     -571.690520           1860.042173    39.382348  \n",
       "2     10.553252 -2.183477    -1133.539712            276.260995    65.029791  \n",
       "3      3.982389 -1.732272      -60.912828           7907.703839    76.378455  \n",
       "4      0.704759 -0.369090       -0.237341         105916.697897    70.676727  \n",
       "...         ...       ...             ...                   ...          ...  \n",
       "6137   0.129382  0.003108       -0.000849         864407.979133    75.141833  \n",
       "6138  -0.538225  0.001674        0.061126        -291335.534547    62.726254  \n",
       "6139   0.884063  0.005895       -0.270883          63571.338116    53.197158  \n",
       "6140   1.180228  0.006661       -0.155027          25382.451951    58.904560  \n",
       "6141   2.448428  0.004808       -1.384114            974.168692    72.425697  \n",
       "\n",
       "[6142 rows x 16 columns]"
      ]
     },
     "execution_count": 74,
     "metadata": {},
     "output_type": "execute_result"
    }
   ],
   "source": [
    "selected_data"
   ]
  },
  {
   "cell_type": "code",
   "execution_count": 75,
   "metadata": {},
   "outputs": [],
   "source": [
    "from sklearn.preprocessing import StandardScaler"
   ]
  },
  {
   "cell_type": "code",
   "execution_count": 76,
   "metadata": {},
   "outputs": [
    {
     "data": {
      "text/plain": [
       "StandardScaler()"
      ]
     },
     "execution_count": 76,
     "metadata": {},
     "output_type": "execute_result"
    }
   ],
   "source": [
    "scaler = StandardScaler()  \n",
    "scaler.fit(selected_data)"
   ]
  },
  {
   "cell_type": "code",
   "execution_count": 77,
   "metadata": {},
   "outputs": [],
   "source": [
    "\n",
    "selected_scaled_data = scaler.transform(selected_data)"
   ]
  },
  {
   "cell_type": "code",
   "execution_count": 78,
   "metadata": {},
   "outputs": [],
   "source": [
    "from sklearn.model_selection import train_test_split\n",
    "\n",
    "X_train, X_test, y_train, y_test = train_test_split(selected_scaled_data,target,test_size=0.3)"
   ]
  },
  {
   "cell_type": "code",
   "execution_count": 79,
   "metadata": {},
   "outputs": [],
   "source": [
    "X_train = scaler.transform(X_train)  \n",
    "X_test = scaler.transform(X_test) "
   ]
  },
  {
   "cell_type": "code",
   "execution_count": 80,
   "metadata": {},
   "outputs": [],
   "source": [
    "selected_scaled_data_df = pd.DataFrame(selected_scaled_data)\n",
    "selected_scaled_data_1250 = selected_scaled_data_df.tail(1250)\n",
    "selected_scaled_data_250 = selected_scaled_data_df.tail(250)\n",
    "selected_scaled_data_125 = selected_scaled_data_df.tail(125)\n",
    "target_1250 = target.tail(1250)\n",
    "target_250 = target.tail(250)\n",
    "target_125 = target.tail(125)"
   ]
  },
  {
   "cell_type": "code",
   "execution_count": 81,
   "metadata": {},
   "outputs": [],
   "source": [
    "X_train_1250, X_test_1250, y_train_1250, y_test_1250 = train_test_split(selected_scaled_data_1250,target_1250,test_size=0.3)"
   ]
  },
  {
   "cell_type": "code",
   "execution_count": 82,
   "metadata": {},
   "outputs": [],
   "source": [
    "X_train_250, X_test_250, y_train_250, y_test_250 = train_test_split(selected_scaled_data_250,target_250,test_size=0.3)"
   ]
  },
  {
   "cell_type": "code",
   "execution_count": 83,
   "metadata": {},
   "outputs": [],
   "source": [
    "X_train_125, X_test_125, y_train_125, y_test_125 = train_test_split(selected_scaled_data_125,target_125,test_size=0.3)"
   ]
  },
  {
   "cell_type": "markdown",
   "metadata": {},
   "source": [
    "### Logistic Regression"
   ]
  },
  {
   "cell_type": "markdown",
   "metadata": {},
   "source": [
    "#### Max Duration"
   ]
  },
  {
   "cell_type": "code",
   "execution_count": 84,
   "metadata": {},
   "outputs": [],
   "source": [
    "from sklearn.metrics import accuracy_score\n",
    "from sklearn.metrics import confusion_matrix"
   ]
  },
  {
   "cell_type": "code",
   "execution_count": 85,
   "metadata": {},
   "outputs": [],
   "source": [
    "lr = LogisticRegression(solver='liblinear', multi_class='ovr')\n",
    "trained_model_lr = lr.fit(X_train, y_train)\n",
    "predictions_lr = trained_model_lr.predict(X_test)\n",
    "\n",
    "Train_accuracy_lr = accuracy_score(y_train,trained_model_lr.predict(X_train))\n",
    "Test_accuracy_lr = accuracy_score(y_test, predictions_lr)\n",
    "Confusion_matrix_lr = confusion_matrix(y_test,predictions_lr)"
   ]
  },
  {
   "cell_type": "code",
   "execution_count": 86,
   "metadata": {},
   "outputs": [
    {
     "data": {
      "text/plain": [
       "0.6541056059548732"
      ]
     },
     "execution_count": 86,
     "metadata": {},
     "output_type": "execute_result"
    }
   ],
   "source": [
    "Train_accuracy_lr"
   ]
  },
  {
   "cell_type": "code",
   "execution_count": 87,
   "metadata": {},
   "outputs": [
    {
     "data": {
      "text/plain": [
       "0.6489419424850786"
      ]
     },
     "execution_count": 87,
     "metadata": {},
     "output_type": "execute_result"
    }
   ],
   "source": [
    "Test_accuracy_lr"
   ]
  },
  {
   "cell_type": "markdown",
   "metadata": {},
   "source": [
    "#### 5 Years"
   ]
  },
  {
   "cell_type": "code",
   "execution_count": 88,
   "metadata": {},
   "outputs": [],
   "source": [
    "trained_model_lr_1250 = lr.fit(X_train_1250, y_train_1250)\n",
    "predictions_lr_1250 = trained_model_lr_1250.predict(X_test_1250)\n",
    "\n",
    "Train_accuracy_lr_1250 = accuracy_score(y_train_1250,trained_model_lr_1250.predict(X_train_1250))\n",
    "Test_accuracy_lr_1250 = accuracy_score(y_test_1250, predictions_lr_1250)\n",
    "Confusion_matrix_lr_1250 = confusion_matrix(y_test_1250,predictions_lr_1250)"
   ]
  },
  {
   "cell_type": "code",
   "execution_count": 89,
   "metadata": {},
   "outputs": [
    {
     "data": {
      "text/plain": [
       "0.6491428571428571"
      ]
     },
     "execution_count": 89,
     "metadata": {},
     "output_type": "execute_result"
    }
   ],
   "source": [
    "Train_accuracy_lr_1250"
   ]
  },
  {
   "cell_type": "code",
   "execution_count": 90,
   "metadata": {},
   "outputs": [
    {
     "data": {
      "text/plain": [
       "0.6586666666666666"
      ]
     },
     "execution_count": 90,
     "metadata": {},
     "output_type": "execute_result"
    }
   ],
   "source": [
    "Test_accuracy_lr_1250"
   ]
  },
  {
   "cell_type": "markdown",
   "metadata": {},
   "source": [
    "#### 1 Year"
   ]
  },
  {
   "cell_type": "code",
   "execution_count": 91,
   "metadata": {},
   "outputs": [],
   "source": [
    "trained_model_lr_250 = lr.fit(X_train_250, y_train_250)\n",
    "predictions_lr_250 = trained_model_lr_250.predict(X_test_250)\n",
    "\n",
    "Train_accuracy_lr_250 = accuracy_score(y_train_250,trained_model_lr_250.predict(X_train_250))\n",
    "Test_accuracy_lr_250 = accuracy_score(y_test_250, predictions_lr_250)\n",
    "Confusion_matrix_lr_250 = confusion_matrix(y_test_250,predictions_lr_250)"
   ]
  },
  {
   "cell_type": "code",
   "execution_count": 92,
   "metadata": {},
   "outputs": [
    {
     "data": {
      "text/plain": [
       "0.6857142857142857"
      ]
     },
     "execution_count": 92,
     "metadata": {},
     "output_type": "execute_result"
    }
   ],
   "source": [
    "Train_accuracy_lr_250"
   ]
  },
  {
   "cell_type": "code",
   "execution_count": 93,
   "metadata": {},
   "outputs": [
    {
     "data": {
      "text/plain": [
       "0.56"
      ]
     },
     "execution_count": 93,
     "metadata": {},
     "output_type": "execute_result"
    }
   ],
   "source": [
    "Test_accuracy_lr_250"
   ]
  },
  {
   "cell_type": "markdown",
   "metadata": {},
   "source": [
    "#### 6 Months"
   ]
  },
  {
   "cell_type": "code",
   "execution_count": 94,
   "metadata": {},
   "outputs": [],
   "source": [
    "trained_model_lr_125 = lr.fit(X_train_125, y_train_125)\n",
    "predictions_lr_125 = trained_model_lr_125.predict(X_test_125)\n",
    "\n",
    "Train_accuracy_lr_125 = accuracy_score(y_train_125,trained_model_lr_125.predict(X_train_125))\n",
    "Test_accuracy_lr_125 = accuracy_score(y_test_125, predictions_lr_125)\n",
    "Confusion_matrix_lr_125 = confusion_matrix(y_test_125,predictions_lr_125)"
   ]
  },
  {
   "cell_type": "code",
   "execution_count": 95,
   "metadata": {},
   "outputs": [
    {
     "data": {
      "text/plain": [
       "0.6781609195402298"
      ]
     },
     "execution_count": 95,
     "metadata": {},
     "output_type": "execute_result"
    }
   ],
   "source": [
    "Train_accuracy_lr_125"
   ]
  },
  {
   "cell_type": "code",
   "execution_count": 96,
   "metadata": {},
   "outputs": [
    {
     "data": {
      "text/plain": [
       "0.39473684210526316"
      ]
     },
     "execution_count": 96,
     "metadata": {},
     "output_type": "execute_result"
    }
   ],
   "source": [
    "Test_accuracy_lr_125"
   ]
  },
  {
   "cell_type": "markdown",
   "metadata": {},
   "source": [
    "#### Last 100 Days based on Best Model - Max Duration"
   ]
  },
  {
   "cell_type": "code",
   "execution_count": 97,
   "metadata": {},
   "outputs": [],
   "source": [
    "last100 = selected_scaled_data_df.tail(100)"
   ]
  },
  {
   "cell_type": "code",
   "execution_count": 151,
   "metadata": {},
   "outputs": [
    {
     "data": {
      "text/plain": [
       "array([1, 1, 0, 0, 0, 0, 0, 0, 0, 0, 0, 0, 0, 0, 0, 0, 0, 0, 0, 0, 0, 0,\n",
       "       0, 0, 0, 0, 0, 0, 1, 1, 1, 1, 0, 0, 0, 1, 1, 1, 1, 1, 1, 1, 1, 0,\n",
       "       0, 0, 0, 0, 0, 0, 0, 0, 0, 0, 0, 0, 0, 0, 0, 0, 0, 1, 1, 0, 0, 1,\n",
       "       1, 1, 1, 1, 0, 0, 0, 1, 1, 0, 0, 0, 0, 0, 0, 0, 0, 0, 0, 0, 0, 0,\n",
       "       0, 1, 1, 0, 0, 0, 0, 1, 1, 1, 1, 1])"
      ]
     },
     "execution_count": 151,
     "metadata": {},
     "output_type": "execute_result"
    }
   ],
   "source": [
    "predictions_lr_100 = trained_model_lr_1250.predict(last100)\n",
    "predictions_lr_100"
   ]
  },
  {
   "cell_type": "markdown",
   "metadata": {},
   "source": [
    "### SVM"
   ]
  },
  {
   "cell_type": "code",
   "execution_count": 99,
   "metadata": {},
   "outputs": [],
   "source": [
    "svm = SVC(gamma='auto')\n",
    "trained_model_svm = svm.fit(X_train, y_train)\n",
    "predictions_svm = trained_model_svm.predict(X_test)\n",
    "\n",
    "Train_accuracy_svm = accuracy_score(y_train,trained_model_svm.predict(X_train))\n",
    "Test_accuracy_svm = accuracy_score(y_test, predictions_svm)\n",
    "Confusion_matrix_svm = confusion_matrix(y_test,predictions_svm)"
   ]
  },
  {
   "cell_type": "code",
   "execution_count": 100,
   "metadata": {},
   "outputs": [
    {
     "data": {
      "text/plain": [
       "1.0"
      ]
     },
     "execution_count": 100,
     "metadata": {},
     "output_type": "execute_result"
    }
   ],
   "source": [
    "Train_accuracy_svm"
   ]
  },
  {
   "cell_type": "code",
   "execution_count": 101,
   "metadata": {},
   "outputs": [
    {
     "data": {
      "text/plain": [
       "0.46500271296798695"
      ]
     },
     "execution_count": 101,
     "metadata": {},
     "output_type": "execute_result"
    }
   ],
   "source": [
    "Test_accuracy_svm"
   ]
  },
  {
   "cell_type": "markdown",
   "metadata": {},
   "source": [
    "#### 5 Years"
   ]
  },
  {
   "cell_type": "code",
   "execution_count": 102,
   "metadata": {},
   "outputs": [],
   "source": [
    "trained_model_svm_1250 = svm.fit(X_train_1250, y_train_1250)\n",
    "predictions_svm_1250 = trained_model_svm_1250.predict(X_test_1250)\n",
    "\n",
    "Train_accuracy_svm_1250 = accuracy_score(y_train_1250,trained_model_svm_1250.predict(X_train_1250))\n",
    "Test_accuracy_svm_1250 = accuracy_score(y_test_1250, predictions_svm_1250)\n",
    "Confusion_matrix_svm_1250 = confusion_matrix(y_test_1250,predictions_svm_1250)"
   ]
  },
  {
   "cell_type": "code",
   "execution_count": 103,
   "metadata": {},
   "outputs": [
    {
     "data": {
      "text/plain": [
       "0.6777142857142857"
      ]
     },
     "execution_count": 103,
     "metadata": {},
     "output_type": "execute_result"
    }
   ],
   "source": [
    "Train_accuracy_svm_1250"
   ]
  },
  {
   "cell_type": "code",
   "execution_count": 104,
   "metadata": {},
   "outputs": [
    {
     "data": {
      "text/plain": [
       "0.6426666666666667"
      ]
     },
     "execution_count": 104,
     "metadata": {},
     "output_type": "execute_result"
    }
   ],
   "source": [
    "Test_accuracy_svm_1250"
   ]
  },
  {
   "cell_type": "markdown",
   "metadata": {},
   "source": [
    "#### 1 Year"
   ]
  },
  {
   "cell_type": "code",
   "execution_count": 105,
   "metadata": {},
   "outputs": [],
   "source": [
    "trained_model_svm_250 = svm.fit(X_train_250, y_train_250)\n",
    "predictions_svm_250 = trained_model_svm_1250.predict(X_test_250)\n",
    "\n",
    "Train_accuracy_svm_250 = accuracy_score(y_train_250,trained_model_svm_250.predict(X_train_250))\n",
    "Test_accuracy_svm_250 = accuracy_score(y_test_250, predictions_svm_250)\n",
    "Confusion_matrix_svm_250 = confusion_matrix(y_test_250,predictions_svm_250)"
   ]
  },
  {
   "cell_type": "code",
   "execution_count": 106,
   "metadata": {},
   "outputs": [
    {
     "data": {
      "text/plain": [
       "0.7314285714285714"
      ]
     },
     "execution_count": 106,
     "metadata": {},
     "output_type": "execute_result"
    }
   ],
   "source": [
    "Train_accuracy_svm_250"
   ]
  },
  {
   "cell_type": "code",
   "execution_count": 107,
   "metadata": {},
   "outputs": [
    {
     "data": {
      "text/plain": [
       "0.56"
      ]
     },
     "execution_count": 107,
     "metadata": {},
     "output_type": "execute_result"
    }
   ],
   "source": [
    "Test_accuracy_svm_250"
   ]
  },
  {
   "cell_type": "markdown",
   "metadata": {},
   "source": [
    "#### 6 Months"
   ]
  },
  {
   "cell_type": "code",
   "execution_count": 108,
   "metadata": {},
   "outputs": [],
   "source": [
    "trained_model_svm_125 = svm.fit(X_train_125, y_train_125)\n",
    "predictions_svm_125 = trained_model_svm_1250.predict(X_test_125)\n",
    "\n",
    "Train_accuracy_svm_125 = accuracy_score(y_train_125,trained_model_svm_125.predict(X_train_125))\n",
    "Test_accuracy_svm_125 = accuracy_score(y_test_125, predictions_svm_125)\n",
    "Confusion_matrix_svm_125 = confusion_matrix(y_test_125,predictions_svm_125)"
   ]
  },
  {
   "cell_type": "code",
   "execution_count": 109,
   "metadata": {},
   "outputs": [
    {
     "data": {
      "text/plain": [
       "0.6551724137931034"
      ]
     },
     "execution_count": 109,
     "metadata": {},
     "output_type": "execute_result"
    }
   ],
   "source": [
    "Train_accuracy_svm_125"
   ]
  },
  {
   "cell_type": "code",
   "execution_count": 110,
   "metadata": {},
   "outputs": [
    {
     "data": {
      "text/plain": [
       "0.4473684210526316"
      ]
     },
     "execution_count": 110,
     "metadata": {},
     "output_type": "execute_result"
    }
   ],
   "source": [
    "Test_accuracy_svm_125"
   ]
  },
  {
   "cell_type": "markdown",
   "metadata": {},
   "source": [
    "#### Last 100 Days based on Best Model - Max Duration"
   ]
  },
  {
   "cell_type": "code",
   "execution_count": 152,
   "metadata": {},
   "outputs": [
    {
     "data": {
      "text/plain": [
       "array([1, 0, 0, 0, 0, 0, 0, 0, 0, 0, 0, 0, 0, 0, 0, 0, 0, 0, 0, 0, 0, 0,\n",
       "       0, 0, 0, 0, 0, 0, 1, 1, 1, 1, 0, 0, 0, 1, 1, 1, 1, 1, 1, 1, 1, 0,\n",
       "       0, 0, 0, 0, 0, 0, 0, 0, 0, 0, 0, 0, 0, 0, 0, 0, 0, 0, 0, 0, 0, 0,\n",
       "       0, 1, 1, 1, 0, 0, 0, 1, 1, 0, 0, 0, 0, 0, 0, 0, 0, 0, 0, 0, 0, 0,\n",
       "       0, 1, 0, 0, 0, 0, 0, 1, 1, 1, 1, 1])"
      ]
     },
     "execution_count": 152,
     "metadata": {},
     "output_type": "execute_result"
    }
   ],
   "source": [
    "predictions_svm_100 = trained_model_svm_1250.predict(last100)\n",
    "predictions_svm_100"
   ]
  },
  {
   "cell_type": "markdown",
   "metadata": {},
   "source": [
    "### RandomForest"
   ]
  },
  {
   "cell_type": "code",
   "execution_count": 112,
   "metadata": {},
   "outputs": [],
   "source": [
    "rf = RandomForestClassifier(n_estimators=10)\n",
    "trained_model_rf = rf.fit(X_train, y_train)\n",
    "predictions_rf = trained_model_rf.predict(X_test)\n",
    "\n",
    "Train_accuracy_rf = accuracy_score(y_train, trained_model_rf.predict(X_train))\n",
    "Test_accuracy_rf = accuracy_score(y_test, predictions_rf)\n",
    "Confusion_matrix_rf = confusion_matrix(y_test, predictions_rf)"
   ]
  },
  {
   "cell_type": "code",
   "execution_count": 113,
   "metadata": {},
   "outputs": [
    {
     "data": {
      "text/plain": [
       "0.9860432658757851"
      ]
     },
     "execution_count": 113,
     "metadata": {},
     "output_type": "execute_result"
    }
   ],
   "source": [
    "Train_accuracy_rf"
   ]
  },
  {
   "cell_type": "code",
   "execution_count": 114,
   "metadata": {},
   "outputs": [
    {
     "data": {
      "text/plain": [
       "0.6093326098752034"
      ]
     },
     "execution_count": 114,
     "metadata": {},
     "output_type": "execute_result"
    }
   ],
   "source": [
    "Test_accuracy_rf"
   ]
  },
  {
   "cell_type": "markdown",
   "metadata": {},
   "source": [
    "#### 5 Years"
   ]
  },
  {
   "cell_type": "code",
   "execution_count": 115,
   "metadata": {},
   "outputs": [],
   "source": [
    "trained_model_rf_1250 = rf.fit(X_train_1250, y_train_1250)\n",
    "predictions_rf_1250 = trained_model_rf_1250.predict(X_test_1250)\n",
    "\n",
    "Train_accuracy_rf_1250 = accuracy_score(y_train_1250,trained_model_rf_1250.predict(X_train_1250))\n",
    "Test_accuracy_rf_1250 = accuracy_score(y_test_1250, predictions_rf_1250)\n",
    "Confusion_matrix_rf_1250 = confusion_matrix(y_test_1250,predictions_rf_1250)"
   ]
  },
  {
   "cell_type": "code",
   "execution_count": 116,
   "metadata": {},
   "outputs": [
    {
     "data": {
      "text/plain": [
       "0.984"
      ]
     },
     "execution_count": 116,
     "metadata": {},
     "output_type": "execute_result"
    }
   ],
   "source": [
    "Train_accuracy_rf_1250"
   ]
  },
  {
   "cell_type": "code",
   "execution_count": 117,
   "metadata": {},
   "outputs": [
    {
     "data": {
      "text/plain": [
       "0.6613333333333333"
      ]
     },
     "execution_count": 117,
     "metadata": {},
     "output_type": "execute_result"
    }
   ],
   "source": [
    "Test_accuracy_rf_1250"
   ]
  },
  {
   "cell_type": "markdown",
   "metadata": {},
   "source": [
    "#### 1 Year"
   ]
  },
  {
   "cell_type": "code",
   "execution_count": 118,
   "metadata": {},
   "outputs": [],
   "source": [
    "trained_model_rf_250 = rf.fit(X_train_250, y_train_250)\n",
    "predictions_rf_250 = trained_model_rf_250.predict(X_test_250)\n",
    "\n",
    "Train_accuracy_rf_250 = accuracy_score(y_train_250,trained_model_rf_250.predict(X_train_250))\n",
    "Test_accuracy_rf_250 = accuracy_score(y_test_250, predictions_rf_250)\n",
    "Confusion_matrix_rf_250 = confusion_matrix(y_test_250,predictions_rf_250)"
   ]
  },
  {
   "cell_type": "code",
   "execution_count": 119,
   "metadata": {},
   "outputs": [
    {
     "data": {
      "text/plain": [
       "0.9714285714285714"
      ]
     },
     "execution_count": 119,
     "metadata": {},
     "output_type": "execute_result"
    }
   ],
   "source": [
    "Train_accuracy_rf_250"
   ]
  },
  {
   "cell_type": "code",
   "execution_count": 120,
   "metadata": {},
   "outputs": [
    {
     "data": {
      "text/plain": [
       "0.52"
      ]
     },
     "execution_count": 120,
     "metadata": {},
     "output_type": "execute_result"
    }
   ],
   "source": [
    "Test_accuracy_rf_250"
   ]
  },
  {
   "cell_type": "markdown",
   "metadata": {},
   "source": [
    "#### 6 Months"
   ]
  },
  {
   "cell_type": "code",
   "execution_count": 121,
   "metadata": {},
   "outputs": [],
   "source": [
    "trained_model_rf_125 = rf.fit(X_train_125, y_train_125)\n",
    "predictions_rf_125 = trained_model_rf_125.predict(X_test_125)\n",
    "\n",
    "Train_accuracy_rf_125 = accuracy_score(y_train_125,trained_model_rf_125.predict(X_train_125))\n",
    "Test_accuracy_rf_125 = accuracy_score(y_test_125, predictions_rf_125)\n",
    "Confusion_matrix_rf_125 = confusion_matrix(y_test_125,predictions_rf_125)"
   ]
  },
  {
   "cell_type": "code",
   "execution_count": 122,
   "metadata": {},
   "outputs": [
    {
     "data": {
      "text/plain": [
       "0.9885057471264368"
      ]
     },
     "execution_count": 122,
     "metadata": {},
     "output_type": "execute_result"
    }
   ],
   "source": [
    "Train_accuracy_rf_125"
   ]
  },
  {
   "cell_type": "code",
   "execution_count": 123,
   "metadata": {},
   "outputs": [
    {
     "data": {
      "text/plain": [
       "0.39473684210526316"
      ]
     },
     "execution_count": 123,
     "metadata": {},
     "output_type": "execute_result"
    }
   ],
   "source": [
    "Test_accuracy_rf_125"
   ]
  },
  {
   "cell_type": "markdown",
   "metadata": {},
   "source": [
    "#### Last 100 Days based on Best Model"
   ]
  },
  {
   "cell_type": "code",
   "execution_count": 153,
   "metadata": {},
   "outputs": [
    {
     "data": {
      "text/plain": [
       "array([1, 0, 0, 0, 1, 1, 0, 0, 1, 0, 0, 0, 0, 0, 0, 0, 1, 1, 1, 1, 0, 0,\n",
       "       0, 1, 0, 0, 0, 1, 1, 1, 1, 1, 0, 1, 1, 0, 1, 1, 0, 1, 1, 0, 0, 0,\n",
       "       0, 1, 1, 0, 0, 0, 1, 1, 0, 0, 1, 0, 1, 1, 0, 0, 0, 1, 1, 0, 0, 0,\n",
       "       0, 1, 0, 0, 0, 0, 1, 1, 1, 0, 0, 0, 0, 0, 0, 0, 0, 1, 0, 0, 1, 1,\n",
       "       0, 0, 1, 0, 0, 0, 0, 1, 1, 0, 1, 1])"
      ]
     },
     "execution_count": 153,
     "metadata": {},
     "output_type": "execute_result"
    }
   ],
   "source": [
    "predictions_rf_100 = trained_model_rf_1250.predict(last100)\n",
    "predictions_rf_100"
   ]
  },
  {
   "cell_type": "markdown",
   "metadata": {},
   "source": [
    "### KNN"
   ]
  },
  {
   "cell_type": "code",
   "execution_count": 125,
   "metadata": {},
   "outputs": [],
   "source": [
    "knn = KNeighborsClassifier(n_neighbors=5)\n",
    "trained_model_knn = knn.fit(X_train, y_train)\n",
    "predictions_knn = trained_model_knn.predict(X_test)\n",
    "\n",
    "Train_accuracy_knn = accuracy_score(y_train, trained_model_knn.predict(X_train))\n",
    "Test_accuracy_knn = accuracy_score(y_test, predictions_knn)\n",
    "Confusion_matrix_knn = confusion_matrix(y_test, predictions_knn)"
   ]
  },
  {
   "cell_type": "code",
   "execution_count": 126,
   "metadata": {},
   "outputs": [
    {
     "data": {
      "text/plain": [
       "0.7385438474063736"
      ]
     },
     "execution_count": 126,
     "metadata": {},
     "output_type": "execute_result"
    }
   ],
   "source": [
    "Train_accuracy_knn"
   ]
  },
  {
   "cell_type": "code",
   "execution_count": 127,
   "metadata": {},
   "outputs": [
    {
     "data": {
      "text/plain": [
       "0.5756918068366793"
      ]
     },
     "execution_count": 127,
     "metadata": {},
     "output_type": "execute_result"
    }
   ],
   "source": [
    "Test_accuracy_knn"
   ]
  },
  {
   "cell_type": "markdown",
   "metadata": {},
   "source": [
    "#### 5 Years"
   ]
  },
  {
   "cell_type": "code",
   "execution_count": 128,
   "metadata": {},
   "outputs": [],
   "source": [
    "trained_model_knn_1250 = knn.fit(X_train_1250, y_train_1250)\n",
    "predictions_knn_1250 = trained_model_knn_1250.predict(X_test_1250)\n",
    "\n",
    "Train_accuracy_knn_1250 = accuracy_score(y_train_1250,trained_model_knn_1250.predict(X_train_1250))\n",
    "Test_accuracy_knn_1250 = accuracy_score(y_test_1250, predictions_knn_1250)\n",
    "Confusion_matrix_knn_1250 = confusion_matrix(y_test_1250,predictions_knn_1250)"
   ]
  },
  {
   "cell_type": "code",
   "execution_count": 129,
   "metadata": {},
   "outputs": [
    {
     "data": {
      "text/plain": [
       "0.7508571428571429"
      ]
     },
     "execution_count": 129,
     "metadata": {},
     "output_type": "execute_result"
    }
   ],
   "source": [
    "Train_accuracy_knn_1250"
   ]
  },
  {
   "cell_type": "code",
   "execution_count": 130,
   "metadata": {},
   "outputs": [
    {
     "data": {
      "text/plain": [
       "0.56"
      ]
     },
     "execution_count": 130,
     "metadata": {},
     "output_type": "execute_result"
    }
   ],
   "source": [
    "Test_accuracy_knn_1250"
   ]
  },
  {
   "cell_type": "markdown",
   "metadata": {},
   "source": [
    "#### 1 Year"
   ]
  },
  {
   "cell_type": "code",
   "execution_count": 131,
   "metadata": {},
   "outputs": [],
   "source": [
    "trained_model_knn_250 = knn.fit(X_train_250, y_train_250)\n",
    "predictions_knn_250 = trained_model_knn_250.predict(X_test_250)\n",
    "\n",
    "Train_accuracy_knn_250 = accuracy_score(y_train_250,trained_model_knn_250.predict(X_train_250))\n",
    "Test_accuracy_knn_250 = accuracy_score(y_test_250, predictions_knn_250)\n",
    "Confusion_matrix_knn_250 = confusion_matrix(y_test_250,predictions_knn_250)"
   ]
  },
  {
   "cell_type": "code",
   "execution_count": 132,
   "metadata": {},
   "outputs": [
    {
     "data": {
      "text/plain": [
       "0.72"
      ]
     },
     "execution_count": 132,
     "metadata": {},
     "output_type": "execute_result"
    }
   ],
   "source": [
    "Train_accuracy_knn_250"
   ]
  },
  {
   "cell_type": "code",
   "execution_count": 133,
   "metadata": {},
   "outputs": [
    {
     "data": {
      "text/plain": [
       "0.6"
      ]
     },
     "execution_count": 133,
     "metadata": {},
     "output_type": "execute_result"
    }
   ],
   "source": [
    "Test_accuracy_knn_250"
   ]
  },
  {
   "cell_type": "markdown",
   "metadata": {},
   "source": [
    "#### 6 Months"
   ]
  },
  {
   "cell_type": "code",
   "execution_count": 134,
   "metadata": {},
   "outputs": [],
   "source": [
    "trained_model_knn_125 = knn.fit(X_train_125, y_train_125)\n",
    "predictions_knn_125 = trained_model_knn_125.predict(X_test_125)\n",
    "\n",
    "Train_accuracy_knn_125 = accuracy_score(y_train_125,trained_model_knn_125.predict(X_train_125))\n",
    "Test_accuracy_knn_125 = accuracy_score(y_test_125, predictions_knn_125)\n",
    "Confusion_matrix_knn_125 = confusion_matrix(y_test_125,predictions_knn_125)"
   ]
  },
  {
   "cell_type": "code",
   "execution_count": 135,
   "metadata": {},
   "outputs": [
    {
     "data": {
      "text/plain": [
       "0.5862068965517241"
      ]
     },
     "execution_count": 135,
     "metadata": {},
     "output_type": "execute_result"
    }
   ],
   "source": [
    "Train_accuracy_knn_125"
   ]
  },
  {
   "cell_type": "code",
   "execution_count": 136,
   "metadata": {},
   "outputs": [
    {
     "data": {
      "text/plain": [
       "0.5"
      ]
     },
     "execution_count": 136,
     "metadata": {},
     "output_type": "execute_result"
    }
   ],
   "source": [
    "Test_accuracy_knn_125"
   ]
  },
  {
   "cell_type": "markdown",
   "metadata": {},
   "source": [
    "#### Last 100 Days based on Best Model"
   ]
  },
  {
   "cell_type": "code",
   "execution_count": 154,
   "metadata": {},
   "outputs": [
    {
     "data": {
      "text/plain": [
       "array([0, 1, 1, 1, 0, 0, 0, 0, 0, 0, 0, 0, 0, 0, 0, 0, 0, 1, 1, 1, 0, 0,\n",
       "       0, 0, 0, 0, 1, 1, 1, 1, 1, 1, 0, 0, 0, 1, 0, 0, 1, 1, 1, 0, 1, 1,\n",
       "       1, 0, 1, 0, 0, 1, 0, 1, 1, 0, 0, 0, 0, 0, 0, 0, 0, 0, 0, 0, 0, 0,\n",
       "       0, 1, 1, 1, 0, 1, 1, 1, 1, 0, 0, 0, 0, 0, 0, 0, 0, 0, 0, 1, 0, 0,\n",
       "       0, 1, 0, 0, 0, 0, 0, 1, 1, 1, 1, 1])"
      ]
     },
     "execution_count": 154,
     "metadata": {},
     "output_type": "execute_result"
    }
   ],
   "source": [
    "predictions_knn_100 = trained_model_knn_250.predict(last100)\n",
    "predictions_knn_100"
   ]
  },
  {
   "cell_type": "markdown",
   "metadata": {},
   "source": [
    "### XGBoost"
   ]
  },
  {
   "cell_type": "code",
   "execution_count": 138,
   "metadata": {},
   "outputs": [
    {
     "name": "stdout",
     "output_type": "stream",
     "text": [
      "[07:36:34] WARNING: C:/Users/Administrator/workspace/xgboost-win64_release_1.5.0/src/learner.cc:1115: Starting in XGBoost 1.3.0, the default evaluation metric used with the objective 'binary:logistic' was changed from 'error' to 'logloss'. Explicitly set eval_metric if you'd like to restore the old behavior.\n"
     ]
    }
   ],
   "source": [
    "xgb = XGBClassifier(use_label_encoder=False)\n",
    "trained_model_xgb = xgb.fit(X_train, y_train)\n",
    "predictions_xgb = trained_model_xgb.predict(X_test)\n",
    "\n",
    "Train_accuracy_xgb = accuracy_score(y_train, trained_model_xgb.predict(X_train))\n",
    "Test_accuracy_xgb = accuracy_score(y_test, predictions_xgb)\n",
    "Confusion_matrix_xgb = confusion_matrix(y_test, predictions_xgb)"
   ]
  },
  {
   "cell_type": "code",
   "execution_count": 139,
   "metadata": {},
   "outputs": [
    {
     "data": {
      "text/plain": [
       "0.9813910211677134"
      ]
     },
     "execution_count": 139,
     "metadata": {},
     "output_type": "execute_result"
    }
   ],
   "source": [
    "Train_accuracy_xgb"
   ]
  },
  {
   "cell_type": "code",
   "execution_count": 140,
   "metadata": {},
   "outputs": [
    {
     "data": {
      "text/plain": [
       "0.626695604991861"
      ]
     },
     "execution_count": 140,
     "metadata": {},
     "output_type": "execute_result"
    }
   ],
   "source": [
    "Test_accuracy_xgb"
   ]
  },
  {
   "cell_type": "markdown",
   "metadata": {},
   "source": [
    "#### 5 Years"
   ]
  },
  {
   "cell_type": "code",
   "execution_count": 141,
   "metadata": {},
   "outputs": [
    {
     "name": "stdout",
     "output_type": "stream",
     "text": [
      "[07:36:36] WARNING: C:/Users/Administrator/workspace/xgboost-win64_release_1.5.0/src/learner.cc:1115: Starting in XGBoost 1.3.0, the default evaluation metric used with the objective 'binary:logistic' was changed from 'error' to 'logloss'. Explicitly set eval_metric if you'd like to restore the old behavior.\n"
     ]
    }
   ],
   "source": [
    "trained_model_xgb_1250 = xgb.fit(X_train_1250, y_train_1250)\n",
    "predictions_xgb_1250 = trained_model_xgb_1250.predict(X_test_1250)\n",
    "\n",
    "Train_accuracy_xgb_1250 = accuracy_score(y_train_1250,trained_model_xgb_1250.predict(X_train_1250))\n",
    "Test_accuracy_xgb_1250 = accuracy_score(y_test_1250, predictions_xgb_1250)\n",
    "Confusion_matrix_xgb_1250 = confusion_matrix(y_test_1250,predictions_xgb_1250)"
   ]
  },
  {
   "cell_type": "code",
   "execution_count": 142,
   "metadata": {},
   "outputs": [
    {
     "data": {
      "text/plain": [
       "1.0"
      ]
     },
     "execution_count": 142,
     "metadata": {},
     "output_type": "execute_result"
    }
   ],
   "source": [
    "Train_accuracy_xgb_1250"
   ]
  },
  {
   "cell_type": "code",
   "execution_count": 143,
   "metadata": {},
   "outputs": [
    {
     "data": {
      "text/plain": [
       "0.632"
      ]
     },
     "execution_count": 143,
     "metadata": {},
     "output_type": "execute_result"
    }
   ],
   "source": [
    "Test_accuracy_xgb_1250"
   ]
  },
  {
   "cell_type": "markdown",
   "metadata": {},
   "source": [
    "#### 1 Year"
   ]
  },
  {
   "cell_type": "code",
   "execution_count": 144,
   "metadata": {},
   "outputs": [
    {
     "name": "stdout",
     "output_type": "stream",
     "text": [
      "[07:36:37] WARNING: C:/Users/Administrator/workspace/xgboost-win64_release_1.5.0/src/learner.cc:1115: Starting in XGBoost 1.3.0, the default evaluation metric used with the objective 'binary:logistic' was changed from 'error' to 'logloss'. Explicitly set eval_metric if you'd like to restore the old behavior.\n"
     ]
    }
   ],
   "source": [
    "trained_model_xgb_250 = xgb.fit(X_train_250, y_train_250)\n",
    "predictions_xgb_250 = trained_model_xgb_250.predict(X_test_250)\n",
    "\n",
    "Train_accuracy_xgb_250 = accuracy_score(y_train_250,trained_model_xgb_250.predict(X_train_250))\n",
    "Test_accuracy_xgb_250 = accuracy_score(y_test_250, predictions_xgb_250)\n",
    "Confusion_matrix_xgb_250 = confusion_matrix(y_test_250,predictions_xgb_250)"
   ]
  },
  {
   "cell_type": "code",
   "execution_count": 145,
   "metadata": {},
   "outputs": [
    {
     "data": {
      "text/plain": [
       "1.0"
      ]
     },
     "execution_count": 145,
     "metadata": {},
     "output_type": "execute_result"
    }
   ],
   "source": [
    "Train_accuracy_xgb_250"
   ]
  },
  {
   "cell_type": "code",
   "execution_count": 146,
   "metadata": {},
   "outputs": [
    {
     "data": {
      "text/plain": [
       "0.5466666666666666"
      ]
     },
     "execution_count": 146,
     "metadata": {},
     "output_type": "execute_result"
    }
   ],
   "source": [
    "Test_accuracy_xgb_250"
   ]
  },
  {
   "cell_type": "markdown",
   "metadata": {},
   "source": [
    "#### 6 Months"
   ]
  },
  {
   "cell_type": "code",
   "execution_count": 147,
   "metadata": {},
   "outputs": [
    {
     "name": "stdout",
     "output_type": "stream",
     "text": [
      "[07:36:39] WARNING: C:/Users/Administrator/workspace/xgboost-win64_release_1.5.0/src/learner.cc:1115: Starting in XGBoost 1.3.0, the default evaluation metric used with the objective 'binary:logistic' was changed from 'error' to 'logloss'. Explicitly set eval_metric if you'd like to restore the old behavior.\n"
     ]
    }
   ],
   "source": [
    "trained_model_xgb_125 = xgb.fit(X_train_125, y_train_125)\n",
    "predictions_xgb_125 = trained_model_xgb_125.predict(X_test_125)\n",
    "\n",
    "Train_accuracy_xgb_125 = accuracy_score(y_train_125,trained_model_xgb_125.predict(X_train_125))\n",
    "Test_accuracy_xgb_125 = accuracy_score(y_test_125, predictions_xgb_125)\n",
    "Confusion_matrix_xgb_125 = confusion_matrix(y_test_125,predictions_xgb_125)"
   ]
  },
  {
   "cell_type": "code",
   "execution_count": 148,
   "metadata": {},
   "outputs": [
    {
     "data": {
      "text/plain": [
       "1.0"
      ]
     },
     "execution_count": 148,
     "metadata": {},
     "output_type": "execute_result"
    }
   ],
   "source": [
    "Train_accuracy_xgb_125"
   ]
  },
  {
   "cell_type": "code",
   "execution_count": 149,
   "metadata": {},
   "outputs": [
    {
     "data": {
      "text/plain": [
       "0.5"
      ]
     },
     "execution_count": 149,
     "metadata": {},
     "output_type": "execute_result"
    }
   ],
   "source": [
    "Test_accuracy_xgb_125"
   ]
  },
  {
   "cell_type": "markdown",
   "metadata": {},
   "source": [
    "#### Last 100 Days based on Best Model"
   ]
  },
  {
   "cell_type": "code",
   "execution_count": 155,
   "metadata": {},
   "outputs": [
    {
     "data": {
      "text/plain": [
       "array([1, 1, 0, 0, 1, 1, 0, 0, 1, 0, 0, 0, 0, 0, 0, 0, 1, 0, 1, 1, 0, 0,\n",
       "       0, 1, 0, 0, 0, 1, 1, 1, 1, 1, 0, 1, 0, 0, 1, 1, 0, 1, 1, 0, 0, 0,\n",
       "       1, 0, 1, 0, 0, 0, 1, 1, 0, 0, 1, 0, 0, 1, 0, 0, 0, 1, 1, 0, 0, 0,\n",
       "       0, 1, 1, 0, 0, 0, 1, 1, 1, 0, 0, 0, 0, 0, 0, 0, 0, 1, 0, 0, 1, 1,\n",
       "       0, 0, 1, 0, 0, 0, 0, 0, 1, 1, 1, 1])"
      ]
     },
     "execution_count": 155,
     "metadata": {},
     "output_type": "execute_result"
    }
   ],
   "source": [
    "predictions_xgb_100 = trained_model_xgb_1250.predict(last100)\n",
    "predictions_xgb_100"
   ]
  },
  {
   "cell_type": "markdown",
   "metadata": {},
   "source": [
    "## KFold cross validation\n",
    "### Basic example"
   ]
  },
  {
   "cell_type": "code",
   "execution_count": null,
   "metadata": {},
   "outputs": [],
   "source": [
    "from sklearn.model_selection import cross_val_score\n",
    "\n",
    "cross_val_score(LogisticRegression(solver='liblinear',multi_class='ovr'), complete_data, target, cv=10)"
   ]
  },
  {
   "cell_type": "code",
   "execution_count": null,
   "metadata": {},
   "outputs": [],
   "source": [
    "cross_val_score(SVC(gamma='auto'), complete_data, target, cv=10)"
   ]
  },
  {
   "cell_type": "code",
   "execution_count": null,
   "metadata": {},
   "outputs": [],
   "source": [
    "cross_val_score(RandomForestClassifier(n_estimators=5), complete_data, target, cv=10)"
   ]
  },
  {
   "cell_type": "code",
   "execution_count": null,
   "metadata": {},
   "outputs": [],
   "source": [
    "cross_val_score(KNeighborsClassifier(n_neighbors=5), complete_data, target, cv=10)"
   ]
  },
  {
   "cell_type": "code",
   "execution_count": null,
   "metadata": {},
   "outputs": [],
   "source": [
    "cross_val_score(XGBClassifier(use_label_encoder=False), complete_data, target, cv=10)"
   ]
  }
 ],
 "metadata": {
  "kernelspec": {
   "display_name": "Python 3",
   "language": "python",
   "name": "python3"
  },
  "language_info": {
   "codemirror_mode": {
    "name": "ipython",
    "version": 3
   },
   "file_extension": ".py",
   "mimetype": "text/x-python",
   "name": "python",
   "nbconvert_exporter": "python",
   "pygments_lexer": "ipython3",
   "version": "3.8.5"
  }
 },
 "nbformat": 4,
 "nbformat_minor": 4
}
